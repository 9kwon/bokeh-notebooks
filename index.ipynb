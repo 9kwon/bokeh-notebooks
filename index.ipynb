{
 "cells": [
  {
   "cell_type": "markdown",
   "metadata": {},
   "source": [
    "<div>\n",
    "<a href=\"http://bokeh.pydata.org/\"><img src=\"images/bokeh-header.png\"></a>\n",
    "</div>"
   ]
  },
  {
   "cell_type": "markdown",
   "metadata": {},
   "source": [
    "Welcome to [Bokeh](http://bokeh.pydata.org/) in IPython Notebook!\n",
    "\n",
    "Bokeh is a Python interactive visualization library for large datasets that natively uses the latest web technologies. Its goal is to provide elegant, concise construction of novel graphics in the style of Protovis/D3, while delivering high-performance interactivity over large data to thin clients."
   ]
  },
  {
   "cell_type": "markdown",
   "metadata": {},
   "source": [
    "## Quickstart"
   ]
  },
  {
   "cell_type": "markdown",
   "metadata": {},
   "source": [
    "Get started with a 5-min introduction to Bokeh [here](../master/quickstart/quickstart.ipynb)"
   ]
  },
  {
   "cell_type": "markdown",
   "metadata": {},
   "source": [
    "## Gallery"
   ]
  },
  {
   "cell_type": "markdown",
   "metadata": {},
   "source": [
    "Some examples of Bokeh's interactive plots in IPython Notebooks:"
   ]
  },
  {
   "cell_type": "markdown",
   "metadata": {},
   "source": [
    "[Texas unemployment](../master/gallery/texas.ipynb) | [Linked brushing](../master/gallery/linked_brushing.ipynb) | [Lorenz](../master/gallery/lorenz.ipynb) | [Candlestick](../master/gallery/candlestick.ipynb) | [Annular wedge](../master/gallery/burtin.ipynb) | [Vector](../master/gallery/vector.ipynb) | [Rectangular](../master/gallery/rect.ipynb) | [Glyphs](../master/gallery/glyphs.ipynb) | [Glucose](../master/gallery/glucose.ipynb) | [Correlation](../master/gallery/correlation.ipynb) | [Bollinger](../master/gallery/bollinger.ipynb)"
   ]
  },
  {
   "cell_type": "markdown",
   "metadata": {},
   "source": [
    "<table cellspacing=\"20\" style=\"border:0px\">\n",
    "<tbody style=\"border:0px\"><tr style=\"border:0px\">\n",
    "<td style=\"border:0px\">  <a class=\"reference external\" href=\"../master/gallery/texas.ipynb\"><img alt=\"texas\" src=\"http://bokeh.pydata.org/en/latest/_images/choropleth_t.png\"></a>         <span class=\"raw-html\"></span></td>\n",
    "<td style=\"border:0px\">  <a class=\"reference external\" href=\"../master/gallery/lorenz.ipynb\"><img alt=\"lorenz\" src=\"http://bokeh.pydata.org/en/latest/_images/lorenz_t.png\"></a>       <span class=\"raw-html\"></span></td>\n",
    "<td style=\"border:0px\">  <a class=\"reference external\" href=\"../master/gallery/candlestick.ipynb\"><img alt=\"image\" src=\"http://bokeh.pydata.org/en/latest/_images/candlestick_t.png\"></a>         <span class=\"raw-html\"></span></td>\n",
    "<td style=\"border:0px\">  <a class=\"reference external\" href=\"../master/gallery/burtin.ipynb\"><img alt=\"annular\" src=\"http://bokeh.pydata.org/en/latest/_images/burtin_t.png\"></a>         <span class=\"raw-html\"></span></td>\n",
    "<td style=\"border:0px\">  <a class=\"reference external\" href=\"../master/gallery/vector.ipynb\"><img alt=\"vector\" src=\"http://bokeh.pydata.org/en/latest/_images/streamline_t.png\"></a>         <span class=\"raw-html\"></span></td>\n",
    "</tr><tr style=\"border:0px\">\n",
    "</tbody></table>"
   ]
  },
  {
   "cell_type": "markdown",
   "metadata": {},
   "source": [
    "<div class=\"section\" id=\"more-information\">\n",
    "<h1>More Information<a class=\"headerlink\" href=\"#more-information\" title=\"Permalink to this headline\"></a></h1>\n",
    "<p>For the full documentation, see <a class=\"reference external\" href=\"http://bokeh.pydata.org/en/latest\">http://bokeh.pydata.org/en/latest</a>.</p>\n",
    "<p>To see the Bokeh source code, visit the GitHub repository: <a class=\"reference external\" href=\"https://github.com/bokeh/bokeh\">https://github.com/bokeh/bokeh</a></p>\n",
    "<p>Be sure to follow us on Twitter <a class=\"reference external\" href=\"http://twitter.com/BokehPlots\">@bokehplots</a>!</p>\n",
    "<div class=\"section\" id=\"contact\">\n",
    "<span id=\"tutorial-contact\"></span><h2>Contact<a class=\"headerlink\" href=\"#contact\" title=\"Permalink to this headline\"></a></h2>\n",
    "<p>For questions, please join the bokeh mailing list:\n",
    "<a class=\"reference external\" href=\"https://groups.google.com/a/continuum.io/forum/#!forum/bokeh\">https://groups.google.com/a/continuum.io/forum/#!forum/bokeh</a></p>\n",
    "<p>You can also ask questions on StackOverflow and use the #bokeh tag:\n",
    "<a class=\"reference external\" href=\"http://stackoverflow.com/questions/tagged/bokeh\">http://stackoverflow.com/questions/tagged/bokeh</a>.</p>\n",
    "<p>For information about commercial development, custom visualization development\n",
    "or embedding Bokeh in your applications, please contact\n",
    "<a class=\"reference external\" href=\"mailto://sales%40continuum.io\">sales<span>@</span>continuum<span>.</span>io</a>.</p>\n",
    "<p>To donate funds to support the development of Bokeh, please contact\n",
    "<a class=\"reference external\" href=\"mailto://info%40pydata.org\">info<span>@</span>pydata<span>.</span>org</a>.</p>\n",
    "</div>\n",
    "<div class=\"section\" id=\"thanks\">\n",
    "<span id=\"tutorial-thanks\"></span><h2>Thanks<a class=\"headerlink\" href=\"#thanks\" title=\"Permalink to this headline\"></a></h2>\n",
    "<p>Bokeh is developed with funding from <a class=\"reference external\" href=\"http://www.darpa.mil\">DARPA</a>‘s\n",
    "<a class=\"reference external\" href=\"http://www.darpa.mil/Our_Work/I2O/Programs/XDATA.aspx\">XDATA</a> program.</p>\n",
    "<p>Additionally, many thanks to <a class=\"reference external\" href=\"https://github.com/bokeh/bokeh/graphs/contributors\">all of the Bokeh Github contributors</a>.</p>\n",
    "</div>\n",
    "</div>"
   ]
  },
  {
   "cell_type": "markdown",
   "metadata": {},
   "source": [
    "<script>\n",
    "  (function(i,s,o,g,r,a,m){i['GoogleAnalyticsObject']=r;i[r]=i[r]||function(){\n",
    "  (i[r].q=i[r].q||[]).push(arguments)},i[r].l=1*new Date();a=s.createElement(o),\n",
    "  m=s.getElementsByTagName(o)[0];a.async=1;a.src=g;m.parentNode.insertBefore(a,m)\n",
    "  })(window,document,'script','//www.google-analytics.com/analytics.js','ga');\n",
    "\n",
    "  ga('create', 'UA-27761864-9', 'auto');\n",
    "  ga('send', 'pageview');\n",
    "</script>"
   ]
  }
 ],
 "metadata": {
  "kernelspec": {
   "display_name": "Python 3",
   "language": "python",
   "name": "python3"
  },
  "language_info": {
   "codemirror_mode": {
    "name": "ipython",
    "version": 3
   },
   "file_extension": ".py",
   "mimetype": "text/x-python",
   "name": "python",
   "nbconvert_exporter": "python",
   "pygments_lexer": "ipython3",
   "version": "3.4.2"
  }
 },
 "nbformat": 4,
 "nbformat_minor": 0
}
