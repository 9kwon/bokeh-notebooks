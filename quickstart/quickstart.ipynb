{
 "cells": [
  {
   "cell_type": "markdown",
   "metadata": {},
   "source": [
    "<div>\n",
    "<a href=\"http://bokeh.pydata.org/\"><img src=\"../images/bokeh-header.png\"></a>\n",
    "</div>\n",
    "\n",
    "# Bokeh 5-minute Overview\n",
    "\n",
    "Bokeh is a Python interactive visualization library that targets modern web browsers for presentation. Its goal is to provide elegant, concise construction of novel graphics in the style of D3.js, and to extend this capability with high-performance interactivity over very large or streaming datasets. Bokeh can help anyone who would like to quickly and easily create interactive plots, dashboards, and data applications."
   ]
  },
  {
   "cell_type": "markdown",
   "metadata": {},
   "source": [
    "## Simple Example\n",
    "\n",
    "Here is a simple first example.  First we'll import the [`figure`](https://bokeh.pydata.org/en/latest/docs/reference/plotting.html#bokeh.plotting.figure.figure) function from [`bokeh.plotting`](https://bokeh.pydata.org/en/latest/docs/user_guide/plotting.html), which will let us create all sorts of interesting plots easily. We also import the `show` and `ouptut_notebook` functions from `bokeh.io` &mdash; these let us display our results inline in the notebook."
   ]
  },
  {
   "cell_type": "code",
   "execution_count": 1,
   "metadata": {
    "collapsed": true
   },
   "outputs": [],
   "source": [
    "from bokeh.plotting import figure \n",
    "from bokeh.io import output_notebook, show"
   ]
  },
  {
   "cell_type": "markdown",
   "metadata": {},
   "source": [
    "Next, we'll tell Bokeh to display its plots directly into the notebook.\n",
    "This will cause all of the Javascript and data to be embedded directly\n",
    "into the HTML of the notebook itself.\n",
    "(Bokeh can output straight to HTML files, or use a server, which we'll\n",
    "look at later.)"
   ]
  },
  {
   "cell_type": "code",
   "execution_count": 2,
   "metadata": {},
   "outputs": [
    {
     "data": {
      "text/html": [
       "\n",
       "    <div class=\"bk-root\">\n",
       "        <a href=\"https://bokeh.pydata.org\" target=\"_blank\" class=\"bk-logo bk-logo-small bk-logo-notebook\"></a>\n",
       "        <span id=\"883fe928-2c67-47bd-b17a-eb52116b256f\">Loading BokehJS ...</span>\n",
       "    </div>"
      ]
     },
     "metadata": {},
     "output_type": "display_data"
    },
    {
     "data": {
      "application/javascript": [
       "\n",
       "(function(root) {\n",
       "  function now() {\n",
       "    return new Date();\n",
       "  }\n",
       "\n",
       "  var force = true;\n",
       "\n",
       "  if (typeof (root._bokeh_onload_callbacks) === \"undefined\" || force === true) {\n",
       "    root._bokeh_onload_callbacks = [];\n",
       "    root._bokeh_is_loading = undefined;\n",
       "  }\n",
       "\n",
       "  var JS_MIME_TYPE = 'application/javascript';\n",
       "  var HTML_MIME_TYPE = 'text/html';\n",
       "  var EXEC_MIME_TYPE = 'application/vnd.bokehjs_exec.v0+json';\n",
       "  var CLASS_NAME = 'output_bokeh rendered_html';\n",
       "\n",
       "  /**\n",
       "   * Render data to the DOM node\n",
       "   */\n",
       "  function render(props, node) {\n",
       "    var script = document.createElement(\"script\");\n",
       "    node.appendChild(script);\n",
       "  }\n",
       "\n",
       "  /**\n",
       "   * Handle when an output is cleared or removed\n",
       "   */\n",
       "  function handleClearOutput(event, handle) {\n",
       "    var cell = handle.cell;\n",
       "\n",
       "    var id = cell.output_area._bokeh_element_id;\n",
       "    var server_id = cell.output_area._bokeh_server_id;\n",
       "    // Clean up Bokeh references\n",
       "    if (id !== undefined) {\n",
       "      Bokeh.index[id].model.document.clear();\n",
       "      delete Bokeh.index[id];\n",
       "    }\n",
       "\n",
       "    if (server_id !== undefined) {\n",
       "      // Clean up Bokeh references\n",
       "      var cmd = \"from bokeh.io import _state; print(_state.uuid_to_server['\" + server_id + \"'].get_sessions()[0].document.roots[0]._id)\";\n",
       "      cell.notebook.kernel.execute(cmd, {\n",
       "        iopub: {\n",
       "          output: function(msg) {\n",
       "            var element_id = msg.content.text.trim();\n",
       "            Bokeh.index[element_id].model.document.clear();\n",
       "            delete Bokeh.index[element_id];\n",
       "          }\n",
       "        }\n",
       "      });\n",
       "      // Destroy server and session\n",
       "      var cmd = \"from bokeh import io; io._destroy_server('\" + server_id + \"')\";\n",
       "      cell.notebook.kernel.execute(cmd);\n",
       "    }\n",
       "  }\n",
       "\n",
       "  /**\n",
       "   * Handle when a new output is added\n",
       "   */\n",
       "  function handleAddOutput(event, handle) {\n",
       "    var output_area = handle.output_area;\n",
       "    var output = handle.output;\n",
       "\n",
       "    // limit handleAddOutput to display_data with EXEC_MIME_TYPE content only\n",
       "    if ((output.output_type != \"display_data\") || (!output.data.hasOwnProperty(EXEC_MIME_TYPE))) {\n",
       "      return\n",
       "    }\n",
       "\n",
       "    var toinsert = output_area.element.find(`.${CLASS_NAME.split(' ')[0]}`);\n",
       "\n",
       "    if (output.metadata[EXEC_MIME_TYPE][\"id\"] !== undefined) {\n",
       "      toinsert[0].firstChild.textContent = output.data[JS_MIME_TYPE];\n",
       "      // store reference to embed id on output_area\n",
       "      output_area._bokeh_element_id = output.metadata[EXEC_MIME_TYPE][\"id\"];\n",
       "    }\n",
       "    if (output.metadata[EXEC_MIME_TYPE][\"server_id\"] !== undefined) {\n",
       "      var bk_div = document.createElement(\"div\");\n",
       "      bk_div.innerHTML = output.data[HTML_MIME_TYPE];\n",
       "      var script_attrs = bk_div.children[0].attributes;\n",
       "      for (var i = 0; i < script_attrs.length; i++) {\n",
       "        toinsert[0].firstChild.setAttribute(script_attrs[i].name, script_attrs[i].value);\n",
       "      }\n",
       "      // store reference to server id on output_area\n",
       "      output_area._bokeh_server_id = output.metadata[EXEC_MIME_TYPE][\"server_id\"];\n",
       "    }\n",
       "  }\n",
       "\n",
       "  function register_renderer(events, OutputArea) {\n",
       "\n",
       "    function append_mime(data, metadata, element) {\n",
       "      // create a DOM node to render to\n",
       "      var toinsert = this.create_output_subarea(\n",
       "        metadata,\n",
       "        CLASS_NAME,\n",
       "        EXEC_MIME_TYPE\n",
       "      );\n",
       "      this.keyboard_manager.register_events(toinsert);\n",
       "      // Render to node\n",
       "      var props = {data: data, metadata: metadata[EXEC_MIME_TYPE]};\n",
       "      render(props, toinsert[0]);\n",
       "      element.append(toinsert);\n",
       "      return toinsert\n",
       "    }\n",
       "\n",
       "    /* Handle when an output is cleared or removed */\n",
       "    events.on('clear_output.CodeCell', handleClearOutput);\n",
       "    events.on('delete.Cell', handleClearOutput);\n",
       "\n",
       "    /* Handle when a new output is added */\n",
       "    events.on('output_added.OutputArea', handleAddOutput);\n",
       "\n",
       "    /**\n",
       "     * Register the mime type and append_mime function with output_area\n",
       "     */\n",
       "    OutputArea.prototype.register_mime_type(EXEC_MIME_TYPE, append_mime, {\n",
       "      /* Is output safe? */\n",
       "      safe: true,\n",
       "      /* Index of renderer in `output_area.display_order` */\n",
       "      index: 0\n",
       "    });\n",
       "  }\n",
       "\n",
       "  // register the mime type if in Jupyter Notebook environment and previously unregistered\n",
       "  if (root.Jupyter !== undefined) {\n",
       "    var events = require('base/js/events');\n",
       "    var OutputArea = require('notebook/js/outputarea').OutputArea;\n",
       "\n",
       "    if (OutputArea.prototype.mime_types().indexOf(EXEC_MIME_TYPE) == -1) {\n",
       "      register_renderer(events, OutputArea);\n",
       "    }\n",
       "  }\n",
       "\n",
       "  \n",
       "  if (typeof (root._bokeh_timeout) === \"undefined\" || force === true) {\n",
       "    root._bokeh_timeout = Date.now() + 5000;\n",
       "    root._bokeh_failed_load = false;\n",
       "  }\n",
       "\n",
       "  var NB_LOAD_WARNING = {'data': {'text/html':\n",
       "     \"<div style='background-color: #fdd'>\\n\"+\n",
       "     \"<p>\\n\"+\n",
       "     \"BokehJS does not appear to have successfully loaded. If loading BokehJS from CDN, this \\n\"+\n",
       "     \"may be due to a slow or bad network connection. Possible fixes:\\n\"+\n",
       "     \"</p>\\n\"+\n",
       "     \"<ul>\\n\"+\n",
       "     \"<li>re-rerun `output_notebook()` to attempt to load from CDN again, or</li>\\n\"+\n",
       "     \"<li>use INLINE resources instead, as so:</li>\\n\"+\n",
       "     \"</ul>\\n\"+\n",
       "     \"<code>\\n\"+\n",
       "     \"from bokeh.resources import INLINE\\n\"+\n",
       "     \"output_notebook(resources=INLINE)\\n\"+\n",
       "     \"</code>\\n\"+\n",
       "     \"</div>\"}};\n",
       "\n",
       "  function display_loaded() {\n",
       "    var el = document.getElementById(\"883fe928-2c67-47bd-b17a-eb52116b256f\");\n",
       "    if (el != null) {\n",
       "      el.textContent = \"BokehJS is loading...\";\n",
       "    }\n",
       "    if (root.Bokeh !== undefined) {\n",
       "      if (el != null) {\n",
       "        el.textContent = \"BokehJS \" + root.Bokeh.version + \" successfully loaded.\";\n",
       "      }\n",
       "    } else if (Date.now() < root._bokeh_timeout) {\n",
       "      setTimeout(display_loaded, 100)\n",
       "    }\n",
       "  }\n",
       "\n",
       "\n",
       "  function run_callbacks() {\n",
       "    try {\n",
       "      root._bokeh_onload_callbacks.forEach(function(callback) { callback() });\n",
       "    }\n",
       "    finally {\n",
       "      delete root._bokeh_onload_callbacks\n",
       "    }\n",
       "    console.info(\"Bokeh: all callbacks have finished\");\n",
       "  }\n",
       "\n",
       "  function load_libs(js_urls, callback) {\n",
       "    root._bokeh_onload_callbacks.push(callback);\n",
       "    if (root._bokeh_is_loading > 0) {\n",
       "      console.log(\"Bokeh: BokehJS is being loaded, scheduling callback at\", now());\n",
       "      return null;\n",
       "    }\n",
       "    if (js_urls == null || js_urls.length === 0) {\n",
       "      run_callbacks();\n",
       "      return null;\n",
       "    }\n",
       "    console.log(\"Bokeh: BokehJS not loaded, scheduling load and callback at\", now());\n",
       "    root._bokeh_is_loading = js_urls.length;\n",
       "    for (var i = 0; i < js_urls.length; i++) {\n",
       "      var url = js_urls[i];\n",
       "      var s = document.createElement('script');\n",
       "      s.src = url;\n",
       "      s.async = false;\n",
       "      s.onreadystatechange = s.onload = function() {\n",
       "        root._bokeh_is_loading--;\n",
       "        if (root._bokeh_is_loading === 0) {\n",
       "          console.log(\"Bokeh: all BokehJS libraries loaded\");\n",
       "          run_callbacks()\n",
       "        }\n",
       "      };\n",
       "      s.onerror = function() {\n",
       "        console.warn(\"failed to load library \" + url);\n",
       "      };\n",
       "      console.log(\"Bokeh: injecting script tag for BokehJS library: \", url);\n",
       "      document.getElementsByTagName(\"head\")[0].appendChild(s);\n",
       "    }\n",
       "  };var element = document.getElementById(\"883fe928-2c67-47bd-b17a-eb52116b256f\");\n",
       "  if (element == null) {\n",
       "    console.log(\"Bokeh: ERROR: autoload.js configured with elementid '883fe928-2c67-47bd-b17a-eb52116b256f' but no matching script tag was found. \")\n",
       "    return false;\n",
       "  }\n",
       "\n",
       "  var js_urls = [\"https://cdn.pydata.org/bokeh/release/bokeh-0.12.8.min.js\", \"https://cdn.pydata.org/bokeh/release/bokeh-widgets-0.12.8.min.js\", \"https://cdn.pydata.org/bokeh/release/bokeh-tables-0.12.8.min.js\", \"https://cdn.pydata.org/bokeh/release/bokeh-gl-0.12.8.min.js\"];\n",
       "\n",
       "  var inline_js = [\n",
       "    function(Bokeh) {\n",
       "      Bokeh.set_log_level(\"info\");\n",
       "    },\n",
       "    \n",
       "    function(Bokeh) {\n",
       "      \n",
       "    },\n",
       "    function(Bokeh) {\n",
       "      console.log(\"Bokeh: injecting CSS: https://cdn.pydata.org/bokeh/release/bokeh-0.12.8.min.css\");\n",
       "      Bokeh.embed.inject_css(\"https://cdn.pydata.org/bokeh/release/bokeh-0.12.8.min.css\");\n",
       "      console.log(\"Bokeh: injecting CSS: https://cdn.pydata.org/bokeh/release/bokeh-widgets-0.12.8.min.css\");\n",
       "      Bokeh.embed.inject_css(\"https://cdn.pydata.org/bokeh/release/bokeh-widgets-0.12.8.min.css\");\n",
       "      console.log(\"Bokeh: injecting CSS: https://cdn.pydata.org/bokeh/release/bokeh-tables-0.12.8.min.css\");\n",
       "      Bokeh.embed.inject_css(\"https://cdn.pydata.org/bokeh/release/bokeh-tables-0.12.8.min.css\");\n",
       "    }\n",
       "  ];\n",
       "\n",
       "  function run_inline_js() {\n",
       "    \n",
       "    if ((root.Bokeh !== undefined) || (force === true)) {\n",
       "      for (var i = 0; i < inline_js.length; i++) {\n",
       "        inline_js[i].call(root, root.Bokeh);\n",
       "      }if (force === true) {\n",
       "        display_loaded();\n",
       "      }} else if (Date.now() < root._bokeh_timeout) {\n",
       "      setTimeout(run_inline_js, 100);\n",
       "    } else if (!root._bokeh_failed_load) {\n",
       "      console.log(\"Bokeh: BokehJS failed to load within specified timeout.\");\n",
       "      root._bokeh_failed_load = true;\n",
       "    } else if (force !== true) {\n",
       "      var cell = $(document.getElementById(\"883fe928-2c67-47bd-b17a-eb52116b256f\")).parents('.cell').data().cell;\n",
       "      cell.output_area.append_execute_result(NB_LOAD_WARNING)\n",
       "    }\n",
       "\n",
       "  }\n",
       "\n",
       "  if (root._bokeh_is_loading === 0) {\n",
       "    console.log(\"Bokeh: BokehJS loaded, going straight to plotting\");\n",
       "    run_inline_js();\n",
       "  } else {\n",
       "    load_libs(js_urls, function() {\n",
       "      console.log(\"Bokeh: BokehJS plotting callback run at\", now());\n",
       "      run_inline_js();\n",
       "    });\n",
       "  }\n",
       "}(window));"
      ],
      "application/vnd.bokehjs_load.v0+json": "\n(function(root) {\n  function now() {\n    return new Date();\n  }\n\n  var force = true;\n\n  if (typeof (root._bokeh_onload_callbacks) === \"undefined\" || force === true) {\n    root._bokeh_onload_callbacks = [];\n    root._bokeh_is_loading = undefined;\n  }\n\n  \n\n  \n  if (typeof (root._bokeh_timeout) === \"undefined\" || force === true) {\n    root._bokeh_timeout = Date.now() + 5000;\n    root._bokeh_failed_load = false;\n  }\n\n  var NB_LOAD_WARNING = {'data': {'text/html':\n     \"<div style='background-color: #fdd'>\\n\"+\n     \"<p>\\n\"+\n     \"BokehJS does not appear to have successfully loaded. If loading BokehJS from CDN, this \\n\"+\n     \"may be due to a slow or bad network connection. Possible fixes:\\n\"+\n     \"</p>\\n\"+\n     \"<ul>\\n\"+\n     \"<li>re-rerun `output_notebook()` to attempt to load from CDN again, or</li>\\n\"+\n     \"<li>use INLINE resources instead, as so:</li>\\n\"+\n     \"</ul>\\n\"+\n     \"<code>\\n\"+\n     \"from bokeh.resources import INLINE\\n\"+\n     \"output_notebook(resources=INLINE)\\n\"+\n     \"</code>\\n\"+\n     \"</div>\"}};\n\n  function display_loaded() {\n    var el = document.getElementById(\"883fe928-2c67-47bd-b17a-eb52116b256f\");\n    if (el != null) {\n      el.textContent = \"BokehJS is loading...\";\n    }\n    if (root.Bokeh !== undefined) {\n      if (el != null) {\n        el.textContent = \"BokehJS \" + root.Bokeh.version + \" successfully loaded.\";\n      }\n    } else if (Date.now() < root._bokeh_timeout) {\n      setTimeout(display_loaded, 100)\n    }\n  }\n\n\n  function run_callbacks() {\n    try {\n      root._bokeh_onload_callbacks.forEach(function(callback) { callback() });\n    }\n    finally {\n      delete root._bokeh_onload_callbacks\n    }\n    console.info(\"Bokeh: all callbacks have finished\");\n  }\n\n  function load_libs(js_urls, callback) {\n    root._bokeh_onload_callbacks.push(callback);\n    if (root._bokeh_is_loading > 0) {\n      console.log(\"Bokeh: BokehJS is being loaded, scheduling callback at\", now());\n      return null;\n    }\n    if (js_urls == null || js_urls.length === 0) {\n      run_callbacks();\n      return null;\n    }\n    console.log(\"Bokeh: BokehJS not loaded, scheduling load and callback at\", now());\n    root._bokeh_is_loading = js_urls.length;\n    for (var i = 0; i < js_urls.length; i++) {\n      var url = js_urls[i];\n      var s = document.createElement('script');\n      s.src = url;\n      s.async = false;\n      s.onreadystatechange = s.onload = function() {\n        root._bokeh_is_loading--;\n        if (root._bokeh_is_loading === 0) {\n          console.log(\"Bokeh: all BokehJS libraries loaded\");\n          run_callbacks()\n        }\n      };\n      s.onerror = function() {\n        console.warn(\"failed to load library \" + url);\n      };\n      console.log(\"Bokeh: injecting script tag for BokehJS library: \", url);\n      document.getElementsByTagName(\"head\")[0].appendChild(s);\n    }\n  };var element = document.getElementById(\"883fe928-2c67-47bd-b17a-eb52116b256f\");\n  if (element == null) {\n    console.log(\"Bokeh: ERROR: autoload.js configured with elementid '883fe928-2c67-47bd-b17a-eb52116b256f' but no matching script tag was found. \")\n    return false;\n  }\n\n  var js_urls = [\"https://cdn.pydata.org/bokeh/release/bokeh-0.12.8.min.js\", \"https://cdn.pydata.org/bokeh/release/bokeh-widgets-0.12.8.min.js\", \"https://cdn.pydata.org/bokeh/release/bokeh-tables-0.12.8.min.js\", \"https://cdn.pydata.org/bokeh/release/bokeh-gl-0.12.8.min.js\"];\n\n  var inline_js = [\n    function(Bokeh) {\n      Bokeh.set_log_level(\"info\");\n    },\n    \n    function(Bokeh) {\n      \n    },\n    function(Bokeh) {\n      console.log(\"Bokeh: injecting CSS: https://cdn.pydata.org/bokeh/release/bokeh-0.12.8.min.css\");\n      Bokeh.embed.inject_css(\"https://cdn.pydata.org/bokeh/release/bokeh-0.12.8.min.css\");\n      console.log(\"Bokeh: injecting CSS: https://cdn.pydata.org/bokeh/release/bokeh-widgets-0.12.8.min.css\");\n      Bokeh.embed.inject_css(\"https://cdn.pydata.org/bokeh/release/bokeh-widgets-0.12.8.min.css\");\n      console.log(\"Bokeh: injecting CSS: https://cdn.pydata.org/bokeh/release/bokeh-tables-0.12.8.min.css\");\n      Bokeh.embed.inject_css(\"https://cdn.pydata.org/bokeh/release/bokeh-tables-0.12.8.min.css\");\n    }\n  ];\n\n  function run_inline_js() {\n    \n    if ((root.Bokeh !== undefined) || (force === true)) {\n      for (var i = 0; i < inline_js.length; i++) {\n        inline_js[i].call(root, root.Bokeh);\n      }if (force === true) {\n        display_loaded();\n      }} else if (Date.now() < root._bokeh_timeout) {\n      setTimeout(run_inline_js, 100);\n    } else if (!root._bokeh_failed_load) {\n      console.log(\"Bokeh: BokehJS failed to load within specified timeout.\");\n      root._bokeh_failed_load = true;\n    } else if (force !== true) {\n      var cell = $(document.getElementById(\"883fe928-2c67-47bd-b17a-eb52116b256f\")).parents('.cell').data().cell;\n      cell.output_area.append_execute_result(NB_LOAD_WARNING)\n    }\n\n  }\n\n  if (root._bokeh_is_loading === 0) {\n    console.log(\"Bokeh: BokehJS loaded, going straight to plotting\");\n    run_inline_js();\n  } else {\n    load_libs(js_urls, function() {\n      console.log(\"Bokeh: BokehJS plotting callback run at\", now());\n      run_inline_js();\n    });\n  }\n}(window));"
     },
     "metadata": {},
     "output_type": "display_data"
    }
   ],
   "source": [
    "output_notebook()"
   ]
  },
  {
   "cell_type": "markdown",
   "metadata": {},
   "source": [
    "Next, we'll import NumPy and create some simple data."
   ]
  },
  {
   "cell_type": "code",
   "execution_count": 3,
   "metadata": {
    "collapsed": true
   },
   "outputs": [],
   "source": [
    "from numpy import cos, linspace\n",
    "x = linspace(-6, 6, 100)\n",
    "y = cos(x)"
   ]
  },
  {
   "cell_type": "markdown",
   "metadata": {},
   "source": [
    "Now we'll call Bokeh's `figure` functtion to create a plot `p`. Then we call the `circle()` method of the plot to render a red circle at each of the points in x and y.\n",
    "\n",
    "We can immediately interact with the plot:\n",
    "\n",
    "  * click-drag will pan the plot around.\n",
    "  * mousewheel will zoom in and out (after enabling in the toolbar)\n",
    "  \n",
    "The toolbar below is the default one that is available for all plots. It can be configured further via the `tools` keyword argument."
   ]
  },
  {
   "cell_type": "code",
   "execution_count": 4,
   "metadata": {},
   "outputs": [
    {
     "data": {
      "text/html": [
       "\n",
       "<div class=\"bk-root\">\n",
       "    <div class=\"bk-plotdiv\" id=\"0ccfffe1-587b-47a5-af12-475e9f65e3da\"></div>\n",
       "</div>"
      ]
     },
     "metadata": {},
     "output_type": "display_data"
    },
    {
     "data": {
      "application/javascript": [
       "(function(root) {\n",
       "  function embed_document(root) {\n",
       "    var docs_json = {\"0b27a9d2-f443-451d-9785-e4751a1685e4\":{\"roots\":{\"references\":[{\"attributes\":{\"formatter\":{\"id\":\"20231e9b-e8d2-41b1-86be-59f14091c777\",\"type\":\"BasicTickFormatter\"},\"plot\":{\"id\":\"8bd7e589-2072-4ddf-a8c8-bb3ce1a68520\",\"subtype\":\"Figure\",\"type\":\"Plot\"},\"ticker\":{\"id\":\"8e8ee423-f7fd-42a3-88d1-259f9f5c13fd\",\"type\":\"BasicTicker\"}},\"id\":\"3cc7bcc0-3ea1-4597-81b1-52f32431af56\",\"type\":\"LinearAxis\"},{\"attributes\":{},\"id\":\"8e8ee423-f7fd-42a3-88d1-259f9f5c13fd\",\"type\":\"BasicTicker\"},{\"attributes\":{\"plot\":{\"id\":\"8bd7e589-2072-4ddf-a8c8-bb3ce1a68520\",\"subtype\":\"Figure\",\"type\":\"Plot\"},\"ticker\":{\"id\":\"8e8ee423-f7fd-42a3-88d1-259f9f5c13fd\",\"type\":\"BasicTicker\"}},\"id\":\"d793e99a-5f5b-4f26-8420-d0789cef24e6\",\"type\":\"Grid\"},{\"attributes\":{\"formatter\":{\"id\":\"55e66009-c4cd-4f40-8237-ef96270d8f30\",\"type\":\"BasicTickFormatter\"},\"plot\":{\"id\":\"8bd7e589-2072-4ddf-a8c8-bb3ce1a68520\",\"subtype\":\"Figure\",\"type\":\"Plot\"},\"ticker\":{\"id\":\"e460279f-e2ab-420e-ac99-d7eda833ed5c\",\"type\":\"BasicTicker\"}},\"id\":\"7834a51c-5f00-4eaf-b017-4da81295f3f2\",\"type\":\"LinearAxis\"},{\"attributes\":{},\"id\":\"e460279f-e2ab-420e-ac99-d7eda833ed5c\",\"type\":\"BasicTicker\"},{\"attributes\":{\"dimension\":1,\"plot\":{\"id\":\"8bd7e589-2072-4ddf-a8c8-bb3ce1a68520\",\"subtype\":\"Figure\",\"type\":\"Plot\"},\"ticker\":{\"id\":\"e460279f-e2ab-420e-ac99-d7eda833ed5c\",\"type\":\"BasicTicker\"}},\"id\":\"75d681ea-3378-454c-b283-8e50a63809b2\",\"type\":\"Grid\"},{\"attributes\":{\"data_source\":{\"id\":\"2d99d463-5923-4c7c-9fe6-d264f5678ecb\",\"type\":\"ColumnDataSource\"},\"glyph\":{\"id\":\"a758a9e0-29ea-4734-b4d5-8ee8ee613b86\",\"type\":\"Circle\"},\"hover_glyph\":null,\"muted_glyph\":null,\"nonselection_glyph\":{\"id\":\"343f32aa-91c4-4b44-88be-37c3e0d9c6e2\",\"type\":\"Circle\"},\"selection_glyph\":null,\"view\":{\"id\":\"672c2ae6-df3a-4c8f-8e1c-35326ff9dd01\",\"type\":\"CDSView\"}},\"id\":\"7f7e05bc-4da1-4cdd-920c-a13878366d16\",\"type\":\"GlyphRenderer\"},{\"attributes\":{\"bottom_units\":\"screen\",\"fill_alpha\":{\"value\":0.5},\"fill_color\":{\"value\":\"lightgrey\"},\"left_units\":\"screen\",\"level\":\"overlay\",\"line_alpha\":{\"value\":1.0},\"line_color\":{\"value\":\"black\"},\"line_dash\":[4,4],\"line_width\":{\"value\":2},\"plot\":null,\"render_mode\":\"css\",\"right_units\":\"screen\",\"top_units\":\"screen\"},\"id\":\"04488db3-710c-411d-acb0-da7af74a91db\",\"type\":\"BoxAnnotation\"},{\"attributes\":{\"below\":[{\"id\":\"3cc7bcc0-3ea1-4597-81b1-52f32431af56\",\"type\":\"LinearAxis\"}],\"left\":[{\"id\":\"7834a51c-5f00-4eaf-b017-4da81295f3f2\",\"type\":\"LinearAxis\"}],\"plot_height\":500,\"plot_width\":500,\"renderers\":[{\"id\":\"3cc7bcc0-3ea1-4597-81b1-52f32431af56\",\"type\":\"LinearAxis\"},{\"id\":\"d793e99a-5f5b-4f26-8420-d0789cef24e6\",\"type\":\"Grid\"},{\"id\":\"7834a51c-5f00-4eaf-b017-4da81295f3f2\",\"type\":\"LinearAxis\"},{\"id\":\"75d681ea-3378-454c-b283-8e50a63809b2\",\"type\":\"Grid\"},{\"id\":\"04488db3-710c-411d-acb0-da7af74a91db\",\"type\":\"BoxAnnotation\"},{\"id\":\"7f7e05bc-4da1-4cdd-920c-a13878366d16\",\"type\":\"GlyphRenderer\"}],\"title\":{\"id\":\"00f56de3-3b0a-4729-ba32-a28606dbfec2\",\"type\":\"Title\"},\"toolbar\":{\"id\":\"cfeee554-9b3c-45c5-a1a7-725f1264383c\",\"type\":\"Toolbar\"},\"x_range\":{\"id\":\"fd9043c0-a5f9-4b54-ad9d-ba8217a5d7e2\",\"type\":\"DataRange1d\"},\"x_scale\":{\"id\":\"eb59d012-3388-4dbd-92d0-c10d979306a1\",\"type\":\"LinearScale\"},\"y_range\":{\"id\":\"c4054cac-e063-412b-a7b6-2ecf58803dd9\",\"type\":\"DataRange1d\"},\"y_scale\":{\"id\":\"36866b53-5375-42fc-9418-b210b1980c07\",\"type\":\"LinearScale\"}},\"id\":\"8bd7e589-2072-4ddf-a8c8-bb3ce1a68520\",\"subtype\":\"Figure\",\"type\":\"Plot\"},{\"attributes\":{},\"id\":\"20231e9b-e8d2-41b1-86be-59f14091c777\",\"type\":\"BasicTickFormatter\"},{\"attributes\":{\"callback\":null,\"column_names\":[\"x\",\"y\"],\"data\":{\"x\":{\"__ndarray__\":\"AAAAAAAAGMCEDz744IMXwAgffPDBBxfAjC666KKLFsAQPvjggw8WwJNNNtlkkxXAF1100UUXFcCbbLLJJpsUwB988MEHHxTAo4suuuiiE8Anm2yyySYTwKqqqqqqqhLALrrooosuEsCyySabbLIRwDbZZJNNNhHAuuiiiy66EMA++OCDDz4QwIQPPvjggw/AjC666KKLDsCTTTbZZJMNwJtssskmmwzAo4suuuiiC8CqqqqqqqoKwLLJJptssgnAuuiiiy66CMDCBx988MEHwMomm2yyyQbA0UUXXXTRBcDZZJNNNtkEwOGDDz744APA6KKLLrroAsDwwQcffPABwPjggw8++ADAAAAAAAAAAMAQPvjggw/+vyB88MEHH/y/MLrooosu+r88+OCDDz74v0w22WSTTfa/XHTRRRdd9L9ssskmm2zyv3zwwQcffPC/GF100UUX7b842WSTTTbpv1BVVVVVVeW/cNFFF1104b8gm2yyySbbv2CTTTbZZNO/QBdddNFFx78AH3zwwQevvwAffPDBB68/QBdddNFFxz9gk0022WTTPzCbbLLJJts/eNFFF1104T9YVVVVVVXlPzjZZJNNNuk/GF100UUX7T988MEHH3zwP2yyySabbPI/YHTRRRdd9D9QNtlkk032P0D44IMPPvg/MLrooosu+j8gfPDBBx/8PxA++OCDD/4/AAAAAAAAAED44IMPPvgAQPDBBx988AFA6KKLLrroAkDggw8++OADQNhkk0022QRA0EUXXXTRBUDMJptssskGQMQHH3zwwQdAvOiiiy66CEC0ySabbLIJQKyqqqqqqgpApIsuuuiiC0CcbLLJJpsMQJRNNtlkkw1AjC666KKLDkCEDz744IMPQD744IMPPhBAuuiiiy66EEA22WSTTTYRQLLJJptsshFALrrooosuEkCsqqqqqqoSQCibbLLJJhNApIsuuuiiE0AgfPDBBx8UQJxssskmmxRAGF100UUXFUCUTTbZZJMVQBA++OCDDxZAjC666KKLFkAIH3zwwQcXQIQPPvjggxdAAAAAAAAAGEA=\",\"dtype\":\"float64\",\"shape\":[100]},\"y\":{\"__ndarray__\":\"9iJ4Cbe57j8JY+r+OmvtP60Tvck6rus/WLzTHz6J6T/y0bJaUwTnP6E1+zPxKOQ/oCcYONMB4T8ZPFzpojXbP8LygfRnAdQ/fGjcYAsEyT8z6888mk6zP+5YV8fTZqe/pYFip7xExb9PFf407y/Svy3Wz2Mtedm/GSzA6Fwx4L8zrWZ2Tmnjv1uZMxdUWOa/yEpIeGjz6L+AKUaewTDrv4rmZKv1B+2/pq/Cehpy7r9tKDKa32nvv7My8UCi6++/lWFJ+Hr1779ggMrCRIfvv13mP6edou6//JJWneBK7b/O+cbyGIXrv36TXFjvV+m/wpQK3pDL5r8GDQc8kOnjv6uITtzBvOC/BXJTVyai2r/ACBWWu2bTv4h0TibdxMe/siQZ5fDFsL8tuK+mtnmsP79vCY4VhcY//tyFCJLL0j9AaSfs/Q3aPzsevIFEd+A/HRvGyK6p4z+ZiDpMO5LmPxkpbAr9Jek/+alUikVb6z85RlM6ySntP8jZq5m+iu4/fMS1t/d47z+hS/Ko9fDvP6FL8qj18O8/fMS1t/d47z/I2auZvoruPzZGUzrJKe0/9KlUikVb6z8UKWwK/SXpP5mIOkw7kuY/HRvGyK6p4z87HryBRHfgP0BpJ+z9Ddo/79yFCJLL0j+fbwmOFYXGP623r6a2eaw/siQZ5fDFsL+IdE4m3cTHv8AIFZa7ZtO/BXJTVyai2r+riE7cwbzgvwYNBzyQ6eO/wpQK3pDL5r98k1xY71fpv8z5xvIYheu/+pJWneBK7b9g5j+nnaLuv2KAysJEh++/lWFJ+Hr177+zMvFAouvvv2soMprfae+/pK/Cehpy7r+I5mSr9Qftv38pRp7BMOu/yEpIeGjz6L9bmTMXVFjmvzOtZnZOaeO/GSzA6Fwx4L8t1s9jLXnZv08V/jTvL9K/pYFip7xExb/uV1fH02anv3PrzzyaTrM/m2jcYAsEyT/R8oH0ZwHUPyc8XOmiNds/pycYONMB4T+oNfsz8SjkP/LRslpTBOc/WLzTHz6J6T+tE73JOq7rPwlj6v46a+0/9iJ4Cbe57j8=\",\"dtype\":\"float64\",\"shape\":[100]}}},\"id\":\"2d99d463-5923-4c7c-9fe6-d264f5678ecb\",\"type\":\"ColumnDataSource\"},{\"attributes\":{\"source\":{\"id\":\"2d99d463-5923-4c7c-9fe6-d264f5678ecb\",\"type\":\"ColumnDataSource\"}},\"id\":\"672c2ae6-df3a-4c8f-8e1c-35326ff9dd01\",\"type\":\"CDSView\"},{\"attributes\":{\"fill_alpha\":{\"value\":0.1},\"fill_color\":{\"value\":\"#1f77b4\"},\"line_alpha\":{\"value\":0.1},\"line_color\":{\"value\":\"#1f77b4\"},\"size\":{\"units\":\"screen\",\"value\":7},\"x\":{\"field\":\"x\"},\"y\":{\"field\":\"y\"}},\"id\":\"343f32aa-91c4-4b44-88be-37c3e0d9c6e2\",\"type\":\"Circle\"},{\"attributes\":{\"active_drag\":\"auto\",\"active_inspect\":\"auto\",\"active_scroll\":\"auto\",\"active_tap\":\"auto\",\"tools\":[{\"id\":\"71a3a772-b896-4f93-bafd-ac2baeddb991\",\"type\":\"PanTool\"},{\"id\":\"a80d9993-b32e-47b1-9800-bf088718a4dc\",\"type\":\"WheelZoomTool\"},{\"id\":\"48307f75-7f3f-474b-b9d5-23020545dad2\",\"type\":\"BoxZoomTool\"},{\"id\":\"28881e37-5be0-4f32-b7a8-1ba1f5227b22\",\"type\":\"SaveTool\"},{\"id\":\"43616665-e3d1-4b10-8cde-41ae2bd75de3\",\"type\":\"ResetTool\"},{\"id\":\"61e9af71-aa64-4494-9d64-91bb1a82277b\",\"type\":\"HelpTool\"}]},\"id\":\"cfeee554-9b3c-45c5-a1a7-725f1264383c\",\"type\":\"Toolbar\"},{\"attributes\":{},\"id\":\"71a3a772-b896-4f93-bafd-ac2baeddb991\",\"type\":\"PanTool\"},{\"attributes\":{\"callback\":null},\"id\":\"fd9043c0-a5f9-4b54-ad9d-ba8217a5d7e2\",\"type\":\"DataRange1d\"},{\"attributes\":{},\"id\":\"a80d9993-b32e-47b1-9800-bf088718a4dc\",\"type\":\"WheelZoomTool\"},{\"attributes\":{\"callback\":null},\"id\":\"c4054cac-e063-412b-a7b6-2ecf58803dd9\",\"type\":\"DataRange1d\"},{\"attributes\":{},\"id\":\"55e66009-c4cd-4f40-8237-ef96270d8f30\",\"type\":\"BasicTickFormatter\"},{\"attributes\":{\"fill_alpha\":{\"value\":0.5},\"fill_color\":{\"value\":\"firebrick\"},\"line_alpha\":{\"value\":0.5},\"line_color\":{\"value\":\"firebrick\"},\"size\":{\"units\":\"screen\",\"value\":7},\"x\":{\"field\":\"x\"},\"y\":{\"field\":\"y\"}},\"id\":\"a758a9e0-29ea-4734-b4d5-8ee8ee613b86\",\"type\":\"Circle\"},{\"attributes\":{},\"id\":\"eb59d012-3388-4dbd-92d0-c10d979306a1\",\"type\":\"LinearScale\"},{\"attributes\":{\"plot\":null,\"text\":\"\"},\"id\":\"00f56de3-3b0a-4729-ba32-a28606dbfec2\",\"type\":\"Title\"},{\"attributes\":{\"overlay\":{\"id\":\"04488db3-710c-411d-acb0-da7af74a91db\",\"type\":\"BoxAnnotation\"}},\"id\":\"48307f75-7f3f-474b-b9d5-23020545dad2\",\"type\":\"BoxZoomTool\"},{\"attributes\":{},\"id\":\"28881e37-5be0-4f32-b7a8-1ba1f5227b22\",\"type\":\"SaveTool\"},{\"attributes\":{},\"id\":\"36866b53-5375-42fc-9418-b210b1980c07\",\"type\":\"LinearScale\"},{\"attributes\":{},\"id\":\"43616665-e3d1-4b10-8cde-41ae2bd75de3\",\"type\":\"ResetTool\"},{\"attributes\":{},\"id\":\"61e9af71-aa64-4494-9d64-91bb1a82277b\",\"type\":\"HelpTool\"}],\"root_ids\":[\"8bd7e589-2072-4ddf-a8c8-bb3ce1a68520\"]},\"title\":\"Bokeh Application\",\"version\":\"0.12.8\"}};\n",
       "    var render_items = [{\"docid\":\"0b27a9d2-f443-451d-9785-e4751a1685e4\",\"elementid\":\"0ccfffe1-587b-47a5-af12-475e9f65e3da\",\"modelid\":\"8bd7e589-2072-4ddf-a8c8-bb3ce1a68520\"}];\n",
       "\n",
       "    root.Bokeh.embed.embed_items(docs_json, render_items);\n",
       "  }\n",
       "\n",
       "  if (root.Bokeh !== undefined) {\n",
       "    embed_document(root);\n",
       "  } else {\n",
       "    var attempts = 0;\n",
       "    var timer = setInterval(function(root) {\n",
       "      if (root.Bokeh !== undefined) {\n",
       "        embed_document(root);\n",
       "        clearInterval(timer);\n",
       "      }\n",
       "      attempts++;\n",
       "      if (attempts > 100) {\n",
       "        console.log(\"Bokeh: ERROR: Unable to embed document because BokehJS library is missing\")\n",
       "        clearInterval(timer);\n",
       "      }\n",
       "    }, 10, root)\n",
       "  }\n",
       "})(window);"
      ],
      "application/vnd.bokehjs_exec.v0+json": ""
     },
     "metadata": {
      "application/vnd.bokehjs_exec.v0+json": {
       "id": "8bd7e589-2072-4ddf-a8c8-bb3ce1a68520"
      }
     },
     "output_type": "display_data"
    }
   ],
   "source": [
    "p = figure(width=500, height=500)\n",
    "p.circle(x, y, size=7, color=\"firebrick\", alpha=0.5)\n",
    "show(p)"
   ]
  },
  {
   "cell_type": "markdown",
   "metadata": {},
   "source": [
    "# Bar Plot Example\n",
    "\n",
    "\n",
    "Bokeh's core display model relies on *composing graphical primitives* which are bound to data series.  This is similar in spirit to Protovis and D3, and different than most other Python plotting libraries.\n",
    "\n",
    "A slightly more sophisticated example demonstrates this idea.\n",
    "\n",
    "Bokeh ships with a small set of interesting \"sample data\" in the `bokeh.sampledata` package.  We'll load up some historical automobile mileage data, which is returned as a Pandas `DataFrame`."
   ]
  },
  {
   "cell_type": "code",
   "execution_count": 5,
   "metadata": {
    "collapsed": true
   },
   "outputs": [],
   "source": [
    "from bokeh.sampledata.autompg import autompg\n",
    "\n",
    "grouped = autompg.groupby(\"yr\")\n",
    "mpg = grouped[\"mpg\"]\n",
    "avg = mpg.mean()\n",
    "std = mpg.std()\n",
    "years = list(grouped.groups.keys())\n",
    "american = autompg[autompg[\"origin\"]==1]\n",
    "japanese = autompg[autompg[\"origin\"]==3]"
   ]
  },
  {
   "cell_type": "markdown",
   "metadata": {},
   "source": [
    "For each year, we want to plot the distribution of MPG within that year."
   ]
  },
  {
   "cell_type": "code",
   "execution_count": 6,
   "metadata": {},
   "outputs": [
    {
     "data": {
      "text/html": [
       "\n",
       "<div class=\"bk-root\">\n",
       "    <div class=\"bk-plotdiv\" id=\"1bf82f3e-9d3d-4645-8fe8-8eaef2b40754\"></div>\n",
       "</div>"
      ]
     },
     "metadata": {},
     "output_type": "display_data"
    },
    {
     "data": {
      "application/javascript": [
       "(function(root) {\n",
       "  function embed_document(root) {\n",
       "    var docs_json = {\"982c957d-2350-4f9a-b464-e572b4a2317e\":{\"roots\":{\"references\":[{\"attributes\":{\"source\":{\"id\":\"bd2c4aa6-49c8-4367-88f2-1d5203a0212f\",\"type\":\"ColumnDataSource\"}},\"id\":\"f92761a7-bcca-4956-a523-d9cc50e7657a\",\"type\":\"CDSView\"},{\"attributes\":{\"callback\":null,\"column_names\":[\"x\",\"top\",\"bottom\"],\"data\":{\"bottom\":{\"__ndarray__\":\"gvFgx2qzKECcKci59t4sQJZdRzm5jipAzvVtn6zMKECki7kXNjswQIpnc6D2pi5ApAV4qVNeL0DtFQi6+rIwQBxLQL6+KTFAWBwW2YNMMkBnDzEy+Oo6QAq856zmjDhAfzfsSXnEOkA=\",\"dtype\":\"float64\",\"shape\":[13]},\"top\":{\"__ndarray__\":\"55jlF2UHN0DAzlQxaMk7QBEIyj5aJjhATTh849zMNUD6TNCFok49QMPUTjgNNTlA1KLp0Ht2O0AT6vdFBQ0+QNr+XjaL9T5AVt48aCfjP0AojYptQ1hEQPSsO6IX6UFAQOQJW8OdQkA=\",\"dtype\":\"float64\",\"shape\":[13]},\"x\":[70,71,72,73,74,75,76,77,78,79,80,81,82]}},\"id\":\"9b4cc701-e652-4807-8169-c002ad911fbf\",\"type\":\"ColumnDataSource\"},{\"attributes\":{\"fill_alpha\":{\"value\":0.5},\"fill_color\":{\"value\":\"red\"},\"line_alpha\":{\"value\":0.5},\"line_color\":{\"value\":\"red\"},\"size\":{\"units\":\"screen\",\"value\":10},\"x\":{\"field\":\"x\"},\"y\":{\"field\":\"y\"}},\"id\":\"38f71737-f574-49e3-84c9-7c9a0e4ab8dc\",\"type\":\"Circle\"},{\"attributes\":{},\"id\":\"6d09d0dc-6dcb-4950-a8e0-5b4ce37d0382\",\"type\":\"WheelZoomTool\"},{\"attributes\":{\"fill_alpha\":{\"value\":0.1},\"fill_color\":{\"value\":\"#1f77b4\"},\"line_alpha\":{\"value\":0.1},\"line_color\":{\"value\":\"#1f77b4\"},\"size\":{\"units\":\"screen\",\"value\":10},\"x\":{\"field\":\"x\"},\"y\":{\"field\":\"y\"}},\"id\":\"c6284b56-8578-4387-816f-f5c485f479c5\",\"type\":\"Circle\"},{\"attributes\":{\"label\":{\"value\":\"Japanese\"},\"renderers\":[{\"id\":\"b7fdb15a-1b56-4057-951d-1c0678d69dfb\",\"type\":\"GlyphRenderer\"}]},\"id\":\"504df503-0194-4f6e-ae8a-adb392c0c41a\",\"type\":\"LegendItem\"},{\"attributes\":{\"plot\":{\"id\":\"46a6cef8-2d82-42be-8e03-9a1ee0a66a6a\",\"subtype\":\"Figure\",\"type\":\"Plot\"},\"ticker\":{\"id\":\"1e59bb94-a9ad-42da-9460-99e83b3bf562\",\"type\":\"BasicTicker\"}},\"id\":\"32e663c6-06d0-456f-a5c6-9ceec81a702f\",\"type\":\"Grid\"},{\"attributes\":{\"callback\":null,\"column_names\":[\"x\",\"y\"],\"data\":{\"x\":[70,70,70,70,70,70,70,70,70,70,70,70,70,70,70,70,70,70,70,70,70,70,71,71,71,71,71,71,71,71,71,71,71,71,71,71,71,71,71,71,71,72,72,72,72,72,72,72,72,72,72,72,72,72,72,72,72,72,72,73,73,73,73,73,73,73,73,73,73,73,73,73,73,73,73,73,73,73,73,73,73,73,73,73,73,73,73,73,74,74,74,74,74,74,74,74,74,74,74,74,74,74,75,75,75,75,75,75,75,75,75,75,75,75,75,75,75,75,75,75,75,75,76,76,76,76,76,76,76,76,76,76,76,76,76,76,76,76,76,76,76,76,76,76,77,77,77,77,77,77,77,77,77,77,77,77,77,77,77,77,77,77,78,78,78,78,78,78,78,78,78,78,78,78,78,78,78,78,78,78,78,78,78,78,79,79,79,79,79,79,79,79,79,79,79,79,79,79,79,79,79,79,79,79,79,79,79,80,80,80,80,80,80,81,81,81,81,81,81,81,81,81,81,81,81,81,82,82,82,82,82,82,82,82,82,82,82,82,82,82,82,82,82,82,82],\"y\":{\"__ndarray__\":\"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\",\"dtype\":\"float64\",\"shape\":[245]}}},\"id\":\"e97e8d86-4a8a-4469-958a-f4a4501af56e\",\"type\":\"ColumnDataSource\"},{\"attributes\":{\"fill_alpha\":{\"value\":0.3},\"fill_color\":{\"value\":\"blue\"},\"line_alpha\":{\"value\":0.3},\"line_color\":{\"value\":\"blue\"},\"size\":{\"units\":\"screen\",\"value\":10},\"x\":{\"field\":\"x\"},\"y\":{\"field\":\"y\"}},\"id\":\"89482c31-35ea-43fe-b655-37eaa4b8539b\",\"type\":\"Triangle\"},{\"attributes\":{\"data_source\":{\"id\":\"e97e8d86-4a8a-4469-958a-f4a4501af56e\",\"type\":\"ColumnDataSource\"},\"glyph\":{\"id\":\"89482c31-35ea-43fe-b655-37eaa4b8539b\",\"type\":\"Triangle\"},\"hover_glyph\":null,\"muted_glyph\":null,\"nonselection_glyph\":{\"id\":\"db8ff7c0-9f9c-42fd-be40-757bcecd87df\",\"type\":\"Triangle\"},\"selection_glyph\":null,\"view\":{\"id\":\"18b026e5-dc19-4de2-b292-1673c8d2a173\",\"type\":\"CDSView\"}},\"id\":\"9a6c050f-787a-4386-9b6a-61e1c605286b\",\"type\":\"GlyphRenderer\"},{\"attributes\":{\"source\":{\"id\":\"e97e8d86-4a8a-4469-958a-f4a4501af56e\",\"type\":\"ColumnDataSource\"}},\"id\":\"18b026e5-dc19-4de2-b292-1673c8d2a173\",\"type\":\"CDSView\"},{\"attributes\":{\"formatter\":{\"id\":\"a5741f9a-6721-447a-a363-851ea1fcb24f\",\"type\":\"BasicTickFormatter\"},\"plot\":{\"id\":\"46a6cef8-2d82-42be-8e03-9a1ee0a66a6a\",\"subtype\":\"Figure\",\"type\":\"Plot\"},\"ticker\":{\"id\":\"1e59bb94-a9ad-42da-9460-99e83b3bf562\",\"type\":\"BasicTicker\"}},\"id\":\"f06d873f-7257-4ed6-8a6f-ce154fe90bb1\",\"type\":\"LinearAxis\"},{\"attributes\":{\"fill_alpha\":{\"value\":0.1},\"fill_color\":{\"value\":\"#1f77b4\"},\"line_alpha\":{\"value\":0.1},\"line_color\":{\"value\":\"#1f77b4\"},\"size\":{\"units\":\"screen\",\"value\":10},\"x\":{\"field\":\"x\"},\"y\":{\"field\":\"y\"}},\"id\":\"db8ff7c0-9f9c-42fd-be40-757bcecd87df\",\"type\":\"Triangle\"},{\"attributes\":{\"label\":{\"value\":\"American\"},\"renderers\":[{\"id\":\"9a6c050f-787a-4386-9b6a-61e1c605286b\",\"type\":\"GlyphRenderer\"}]},\"id\":\"1434902e-eac7-4137-8f9e-f18088e8e206\",\"type\":\"LegendItem\"},{\"attributes\":{\"items\":[{\"id\":\"fc26e8bb-2788-476c-aa6a-b9fbca34e0d4\",\"type\":\"LegendItem\"},{\"id\":\"504df503-0194-4f6e-ae8a-adb392c0c41a\",\"type\":\"LegendItem\"},{\"id\":\"1434902e-eac7-4137-8f9e-f18088e8e206\",\"type\":\"LegendItem\"}],\"location\":\"top_left\",\"plot\":{\"id\":\"46a6cef8-2d82-42be-8e03-9a1ee0a66a6a\",\"subtype\":\"Figure\",\"type\":\"Plot\"}},\"id\":\"b8939137-b7fc-4183-8f3f-659b78e30f9c\",\"type\":\"Legend\"},{\"attributes\":{\"below\":[{\"id\":\"f06d873f-7257-4ed6-8a6f-ce154fe90bb1\",\"type\":\"LinearAxis\"}],\"left\":[{\"id\":\"b54b992e-5c86-4840-a89b-fc9dc33aab8b\",\"type\":\"LinearAxis\"}],\"renderers\":[{\"id\":\"f06d873f-7257-4ed6-8a6f-ce154fe90bb1\",\"type\":\"LinearAxis\"},{\"id\":\"32e663c6-06d0-456f-a5c6-9ceec81a702f\",\"type\":\"Grid\"},{\"id\":\"b54b992e-5c86-4840-a89b-fc9dc33aab8b\",\"type\":\"LinearAxis\"},{\"id\":\"62b96876-8862-46ec-8f05-e472703b5653\",\"type\":\"Grid\"},{\"id\":\"fc8bc29e-7ec1-484d-aac3-a527755e81dc\",\"type\":\"BoxAnnotation\"},{\"id\":\"b8939137-b7fc-4183-8f3f-659b78e30f9c\",\"type\":\"Legend\"},{\"id\":\"2e7b132b-d2e5-41e3-8b3a-55f1ca8deafc\",\"type\":\"GlyphRenderer\"},{\"id\":\"b7fdb15a-1b56-4057-951d-1c0678d69dfb\",\"type\":\"GlyphRenderer\"},{\"id\":\"9a6c050f-787a-4386-9b6a-61e1c605286b\",\"type\":\"GlyphRenderer\"}],\"title\":{\"id\":\"5445deb7-3223-4bf8-b621-52010b7482b9\",\"type\":\"Title\"},\"toolbar\":{\"id\":\"4d9c59ae-6e14-46e6-a318-318a02ccb634\",\"type\":\"Toolbar\"},\"x_range\":{\"id\":\"7cbcec96-463e-45b0-8b56-87127842305a\",\"type\":\"DataRange1d\"},\"x_scale\":{\"id\":\"a402feaa-1054-49b2-804d-a8440aa8a2fd\",\"type\":\"LinearScale\"},\"y_range\":{\"id\":\"8612b96a-c231-4cb4-9f84-32fb1288857c\",\"type\":\"DataRange1d\"},\"y_scale\":{\"id\":\"9188e146-800c-42e5-a82d-ffc0b7e732b7\",\"type\":\"LinearScale\"}},\"id\":\"46a6cef8-2d82-42be-8e03-9a1ee0a66a6a\",\"subtype\":\"Figure\",\"type\":\"Plot\"},{\"attributes\":{\"bottom\":{\"field\":\"bottom\"},\"fill_alpha\":{\"value\":0.1},\"fill_color\":{\"value\":\"#1f77b4\"},\"line_alpha\":{\"value\":0.1},\"line_color\":{\"value\":\"#1f77b4\"},\"top\":{\"field\":\"top\"},\"width\":{\"value\":0.8},\"x\":{\"field\":\"x\"}},\"id\":\"cc9aefeb-aa1e-4715-bdb1-372a052a1b66\",\"type\":\"VBar\"},{\"attributes\":{\"plot\":null,\"text\":\"MPG by Year (Japan and US)\"},\"id\":\"5445deb7-3223-4bf8-b621-52010b7482b9\",\"type\":\"Title\"},{\"attributes\":{\"callback\":null},\"id\":\"7cbcec96-463e-45b0-8b56-87127842305a\",\"type\":\"DataRange1d\"},{\"attributes\":{\"active_drag\":\"auto\",\"active_inspect\":\"auto\",\"active_scroll\":\"auto\",\"active_tap\":\"auto\",\"tools\":[{\"id\":\"f4a47256-73de-4882-8592-c0e74c6f869f\",\"type\":\"PanTool\"},{\"id\":\"6d09d0dc-6dcb-4950-a8e0-5b4ce37d0382\",\"type\":\"WheelZoomTool\"},{\"id\":\"898c4874-08f7-4465-9100-fd00a4825989\",\"type\":\"BoxZoomTool\"},{\"id\":\"6068b3f1-2631-4020-8d88-dfffe82cf023\",\"type\":\"SaveTool\"},{\"id\":\"75224b0b-567e-4e7e-ac9f-2de3dbb2ae1e\",\"type\":\"ResetTool\"},{\"id\":\"4a49fc49-591c-4ab4-afb0-fd4f3eec2fc0\",\"type\":\"HelpTool\"}]},\"id\":\"4d9c59ae-6e14-46e6-a318-318a02ccb634\",\"type\":\"Toolbar\"},{\"attributes\":{},\"id\":\"6068b3f1-2631-4020-8d88-dfffe82cf023\",\"type\":\"SaveTool\"},{\"attributes\":{},\"id\":\"a402feaa-1054-49b2-804d-a8440aa8a2fd\",\"type\":\"LinearScale\"},{\"attributes\":{\"dimension\":1,\"plot\":{\"id\":\"46a6cef8-2d82-42be-8e03-9a1ee0a66a6a\",\"subtype\":\"Figure\",\"type\":\"Plot\"},\"ticker\":{\"id\":\"ee8538c3-2da1-4640-ba95-33339854a17c\",\"type\":\"BasicTicker\"}},\"id\":\"62b96876-8862-46ec-8f05-e472703b5653\",\"type\":\"Grid\"},{\"attributes\":{\"callback\":null},\"id\":\"8612b96a-c231-4cb4-9f84-32fb1288857c\",\"type\":\"DataRange1d\"},{\"attributes\":{},\"id\":\"ee8538c3-2da1-4640-ba95-33339854a17c\",\"type\":\"BasicTicker\"},{\"attributes\":{\"bottom_units\":\"screen\",\"fill_alpha\":{\"value\":0.5},\"fill_color\":{\"value\":\"lightgrey\"},\"left_units\":\"screen\",\"level\":\"overlay\",\"line_alpha\":{\"value\":1.0},\"line_color\":{\"value\":\"black\"},\"line_dash\":[4,4],\"line_width\":{\"value\":2},\"plot\":null,\"render_mode\":\"css\",\"right_units\":\"screen\",\"top_units\":\"screen\"},\"id\":\"fc8bc29e-7ec1-484d-aac3-a527755e81dc\",\"type\":\"BoxAnnotation\"},{\"attributes\":{\"formatter\":{\"id\":\"3685983c-a4fa-4e7f-8d3c-0a4e207549ea\",\"type\":\"BasicTickFormatter\"},\"plot\":{\"id\":\"46a6cef8-2d82-42be-8e03-9a1ee0a66a6a\",\"subtype\":\"Figure\",\"type\":\"Plot\"},\"ticker\":{\"id\":\"ee8538c3-2da1-4640-ba95-33339854a17c\",\"type\":\"BasicTicker\"}},\"id\":\"b54b992e-5c86-4840-a89b-fc9dc33aab8b\",\"type\":\"LinearAxis\"},{\"attributes\":{\"overlay\":{\"id\":\"fc8bc29e-7ec1-484d-aac3-a527755e81dc\",\"type\":\"BoxAnnotation\"}},\"id\":\"898c4874-08f7-4465-9100-fd00a4825989\",\"type\":\"BoxZoomTool\"},{\"attributes\":{},\"id\":\"4a49fc49-591c-4ab4-afb0-fd4f3eec2fc0\",\"type\":\"HelpTool\"},{\"attributes\":{\"label\":{\"value\":\"MPG 1 stddev\"},\"renderers\":[{\"id\":\"2e7b132b-d2e5-41e3-8b3a-55f1ca8deafc\",\"type\":\"GlyphRenderer\"}]},\"id\":\"fc26e8bb-2788-476c-aa6a-b9fbca34e0d4\",\"type\":\"LegendItem\"},{\"attributes\":{},\"id\":\"75224b0b-567e-4e7e-ac9f-2de3dbb2ae1e\",\"type\":\"ResetTool\"},{\"attributes\":{\"data_source\":{\"id\":\"9b4cc701-e652-4807-8169-c002ad911fbf\",\"type\":\"ColumnDataSource\"},\"glyph\":{\"id\":\"9331396b-a62e-4993-a325-c4b76d4e9628\",\"type\":\"VBar\"},\"hover_glyph\":null,\"muted_glyph\":null,\"nonselection_glyph\":{\"id\":\"cc9aefeb-aa1e-4715-bdb1-372a052a1b66\",\"type\":\"VBar\"},\"selection_glyph\":null,\"view\":{\"id\":\"47f9a4b1-3c62-4508-a1eb-75f67484be65\",\"type\":\"CDSView\"}},\"id\":\"2e7b132b-d2e5-41e3-8b3a-55f1ca8deafc\",\"type\":\"GlyphRenderer\"},{\"attributes\":{\"source\":{\"id\":\"9b4cc701-e652-4807-8169-c002ad911fbf\",\"type\":\"ColumnDataSource\"}},\"id\":\"47f9a4b1-3c62-4508-a1eb-75f67484be65\",\"type\":\"CDSView\"},{\"attributes\":{},\"id\":\"a5741f9a-6721-447a-a363-851ea1fcb24f\",\"type\":\"BasicTickFormatter\"},{\"attributes\":{},\"id\":\"1e59bb94-a9ad-42da-9460-99e83b3bf562\",\"type\":\"BasicTicker\"},{\"attributes\":{\"bottom\":{\"field\":\"bottom\"},\"fill_alpha\":{\"value\":0.2},\"fill_color\":{\"value\":\"#1f77b4\"},\"line_color\":{\"value\":null},\"top\":{\"field\":\"top\"},\"width\":{\"value\":0.8},\"x\":{\"field\":\"x\"}},\"id\":\"9331396b-a62e-4993-a325-c4b76d4e9628\",\"type\":\"VBar\"},{\"attributes\":{\"data_source\":{\"id\":\"bd2c4aa6-49c8-4367-88f2-1d5203a0212f\",\"type\":\"ColumnDataSource\"},\"glyph\":{\"id\":\"38f71737-f574-49e3-84c9-7c9a0e4ab8dc\",\"type\":\"Circle\"},\"hover_glyph\":null,\"muted_glyph\":null,\"nonselection_glyph\":{\"id\":\"c6284b56-8578-4387-816f-f5c485f479c5\",\"type\":\"Circle\"},\"selection_glyph\":null,\"view\":{\"id\":\"f92761a7-bcca-4956-a523-d9cc50e7657a\",\"type\":\"CDSView\"}},\"id\":\"b7fdb15a-1b56-4057-951d-1c0678d69dfb\",\"type\":\"GlyphRenderer\"},{\"attributes\":{\"callback\":null,\"column_names\":[\"x\",\"y\"],\"data\":{\"x\":[70,70,71,71,71,71,72,72,72,72,72,73,73,73,73,74,74,74,74,74,74,75,75,75,75,76,76,76,76,77,77,77,77,77,77,78,78,78,78,78,78,78,78,79,79,80,80,80,80,80,80,80,80,80,80,80,80,80,81,81,81,81,81,81,81,81,81,81,81,81,82,82,82,82,82,82,82,82,82],\"y\":{\"__ndarray__\":\"AAAAAAAAOEAAAAAAAAA7QAAAAAAAADtAAAAAAAAAOUAAAAAAAAA/QAAAAAAAgEFAAAAAAAAAOEAAAAAAAAAzQAAAAAAAADxAAAAAAAAAN0AAAAAAAAA7QAAAAAAAADRAAAAAAAAANkAAAAAAAAAyQAAAAAAAADRAAAAAAAAAP0AAAAAAAABAQAAAAAAAAD9AAAAAAAAAQEAAAAAAAAA4QAAAAAAAADpAAAAAAAAAPUAAAAAAAAA4QAAAAAAAADhAAAAAAACAQEAAAAAAAIBAQAAAAAAAAEBAAAAAAAAAPEAAAAAAAAAzQAAAAAAAgD9AAAAAAADAQEAAAAAAAAA6QAAAAAAAAD5AAAAAAAAANkAAAAAAAIA1QGZmZmZmZkBAMzMzMzOzQ0DNzMzMzAxCQAAAAAAAgDtAMzMzMzMzO0CamZmZmRk1QGZmZmZm5jdAAAAAAACAPUDNzMzMzAxBQM3MzMzMzD9AzczMzMwMQ0CamZmZmZlCQM3MzMzMzD1AzczMzMxMP0AAAAAAAIBCQJqZmZmZGUBAzczMzMxMR0BmZmZmZmZEQM3MzMzMTEZAZmZmZmbmQECamZmZmVlAQDMzMzMzszdAMzMzMzMzQEDNzMzMzIxDQM3MzMzMjEFAZmZmZmYmQEAAAAAAAIBCQJqZmZmZ2UJAzczMzMwMQUCamZmZmdlAQDMzMzMzM0BAMzMzMzNzQECamZmZmZk/QGZmZmZmZjlAMzMzMzMzOEAAAAAAAIBCQAAAAAAAAD9AAAAAAAAAQkAAAAAAAABCQAAAAAAAAEFAAAAAAAAAQ0AAAAAAAABAQAAAAAAAAENAAAAAAAAAQEA=\",\"dtype\":\"float64\",\"shape\":[79]}}},\"id\":\"bd2c4aa6-49c8-4367-88f2-1d5203a0212f\",\"type\":\"ColumnDataSource\"},{\"attributes\":{},\"id\":\"9188e146-800c-42e5-a82d-ffc0b7e732b7\",\"type\":\"LinearScale\"},{\"attributes\":{},\"id\":\"3685983c-a4fa-4e7f-8d3c-0a4e207549ea\",\"type\":\"BasicTickFormatter\"},{\"attributes\":{},\"id\":\"f4a47256-73de-4882-8592-c0e74c6f869f\",\"type\":\"PanTool\"}],\"root_ids\":[\"46a6cef8-2d82-42be-8e03-9a1ee0a66a6a\"]},\"title\":\"Bokeh Application\",\"version\":\"0.12.8\"}};\n",
       "    var render_items = [{\"docid\":\"982c957d-2350-4f9a-b464-e572b4a2317e\",\"elementid\":\"1bf82f3e-9d3d-4645-8fe8-8eaef2b40754\",\"modelid\":\"46a6cef8-2d82-42be-8e03-9a1ee0a66a6a\"}];\n",
       "\n",
       "    root.Bokeh.embed.embed_items(docs_json, render_items);\n",
       "  }\n",
       "\n",
       "  if (root.Bokeh !== undefined) {\n",
       "    embed_document(root);\n",
       "  } else {\n",
       "    var attempts = 0;\n",
       "    var timer = setInterval(function(root) {\n",
       "      if (root.Bokeh !== undefined) {\n",
       "        embed_document(root);\n",
       "        clearInterval(timer);\n",
       "      }\n",
       "      attempts++;\n",
       "      if (attempts > 100) {\n",
       "        console.log(\"Bokeh: ERROR: Unable to embed document because BokehJS library is missing\")\n",
       "        clearInterval(timer);\n",
       "      }\n",
       "    }, 10, root)\n",
       "  }\n",
       "})(window);"
      ],
      "application/vnd.bokehjs_exec.v0+json": ""
     },
     "metadata": {
      "application/vnd.bokehjs_exec.v0+json": {
       "id": "46a6cef8-2d82-42be-8e03-9a1ee0a66a6a"
      }
     },
     "output_type": "display_data"
    }
   ],
   "source": [
    "p = figure(title=\"MPG by Year (Japan and US)\")\n",
    "\n",
    "p.vbar(x=years, bottom=avg-std, top=avg+std, width=0.8, \n",
    "       fill_alpha=0.2, line_color=None, legend=\"MPG 1 stddev\")\n",
    "\n",
    "p.circle(x=japanese[\"yr\"], y=japanese[\"mpg\"], size=10, alpha=0.5,\n",
    "         color=\"red\", legend=\"Japanese\")\n",
    "\n",
    "p.triangle(x=american[\"yr\"], y=american[\"mpg\"], size=10, alpha=0.3,\n",
    "           color=\"blue\", legend=\"American\")\n",
    "\n",
    "p.legend.location = \"top_left\"\n",
    "show(p)"
   ]
  },
  {
   "cell_type": "markdown",
   "metadata": {},
   "source": [
    "### This kind of approach can be used to generate other kinds of interesting plots. See many more examples in the [Bokeh Documentation Gallery](https://bokeh.pydata.org/en/latest/docs/gallery.html).  "
   ]
  },
  {
   "cell_type": "markdown",
   "metadata": {},
   "source": [
    "## Linked Brushing\n",
    "\n",
    "To link plots together at a data level, we can explicitly wrap the data in a `ColumnDataSource`. This allows us to reference columns by name.\n",
    "\n",
    "We can use a \"select\" tool to select points on one plot, and the linked points on the other plots will highlight."
   ]
  },
  {
   "cell_type": "code",
   "execution_count": 7,
   "metadata": {},
   "outputs": [
    {
     "data": {
      "text/html": [
       "\n",
       "<div class=\"bk-root\">\n",
       "    <div class=\"bk-plotdiv\" id=\"dd3f7a7c-499f-4fd7-92af-550391ddcd96\"></div>\n",
       "</div>"
      ]
     },
     "metadata": {},
     "output_type": "display_data"
    },
    {
     "data": {
      "application/javascript": [
       "(function(root) {\n",
       "  function embed_document(root) {\n",
       "    var docs_json = {\"ec3b7268-598f-41ea-866a-7f78fec7bd86\":{\"roots\":{\"references\":[{\"attributes\":{\"below\":[{\"id\":\"f7c3fc26-8ccf-4f9b-a2d3-f7318ef02497\",\"type\":\"LinearAxis\"}],\"left\":[{\"id\":\"5e1244f3-3d6a-4d52-885d-596a31f7c2b5\",\"type\":\"LinearAxis\"}],\"plot_height\":300,\"plot_width\":300,\"renderers\":[{\"id\":\"f7c3fc26-8ccf-4f9b-a2d3-f7318ef02497\",\"type\":\"LinearAxis\"},{\"id\":\"1246f912-0701-4647-9393-d04f6e52d226\",\"type\":\"Grid\"},{\"id\":\"5e1244f3-3d6a-4d52-885d-596a31f7c2b5\",\"type\":\"LinearAxis\"},{\"id\":\"9b35bc1f-b904-4dac-80a0-836a4a34d412\",\"type\":\"Grid\"},{\"id\":\"1a7b5000-7944-4c10-9ea4-01e17127a91d\",\"type\":\"BoxAnnotation\"},{\"id\":\"30a57f66-86c7-4bf1-bc5b-1f674dcd1aef\",\"type\":\"BoxAnnotation\"},{\"id\":\"ac780495-3560-4402-9e29-6b346e6edb7a\",\"type\":\"PolyAnnotation\"},{\"id\":\"2ad0abc4-a9b3-43e7-a9b3-c565b0e732c9\",\"type\":\"GlyphRenderer\"}],\"title\":{\"id\":\"a035694d-1e8e-4e6e-b845-6b653409da99\",\"type\":\"Title\"},\"toolbar\":{\"id\":\"b9ecd97c-40c2-470d-b98f-e673e92bac1e\",\"type\":\"Toolbar\"},\"toolbar_location\":null,\"x_range\":{\"id\":\"bbf5a261-7fea-4ccd-a3c8-6e52e48bf21c\",\"type\":\"DataRange1d\"},\"x_scale\":{\"id\":\"a639a43b-e80a-433a-a65f-f1d5c6219b83\",\"type\":\"LinearScale\"},\"y_range\":{\"id\":\"c4da9143-fdcb-4692-86d4-a12cea92e786\",\"type\":\"DataRange1d\"},\"y_scale\":{\"id\":\"62ab3e89-c357-4bd6-ad1a-add62a0307e3\",\"type\":\"LinearScale\"}},\"id\":\"5f788eb7-83e8-4e33-8bc1-f14c043a6f9a\",\"subtype\":\"Figure\",\"type\":\"Plot\"},{\"attributes\":{\"bottom_units\":\"screen\",\"fill_alpha\":{\"value\":0.5},\"fill_color\":{\"value\":\"lightgrey\"},\"left_units\":\"screen\",\"level\":\"overlay\",\"line_alpha\":{\"value\":1.0},\"line_color\":{\"value\":\"black\"},\"line_dash\":[4,4],\"line_width\":{\"value\":2},\"plot\":null,\"render_mode\":\"css\",\"right_units\":\"screen\",\"top_units\":\"screen\"},\"id\":\"30a57f66-86c7-4bf1-bc5b-1f674dcd1aef\",\"type\":\"BoxAnnotation\"},{\"attributes\":{\"plot\":null,\"text\":\"MPG by Year\"},\"id\":\"4bdd144c-7d9d-49ba-987f-c0d136e2318e\",\"type\":\"Title\"},{\"attributes\":{\"fill_alpha\":{\"value\":0.5},\"fill_color\":{\"value\":\"lightgrey\"},\"level\":\"overlay\",\"line_alpha\":{\"value\":1.0},\"line_color\":{\"value\":\"black\"},\"line_dash\":[4,4],\"line_width\":{\"value\":2},\"plot\":null,\"xs_units\":\"screen\",\"ys_units\":\"screen\"},\"id\":\"ac780495-3560-4402-9e29-6b346e6edb7a\",\"type\":\"PolyAnnotation\"},{\"attributes\":{\"callback\":null},\"id\":\"1b84a9d4-0e84-4c26-b190-48616e4f24d1\",\"type\":\"DataRange1d\"},{\"attributes\":{\"sizing_mode\":\"scale_width\",\"tools\":[{\"id\":\"0995d4d4-8ace-4bbc-9cf4-e571ebec699b\",\"type\":\"PanTool\"},{\"id\":\"6a3777f0-a932-4108-9a25-fca1424c91f7\",\"type\":\"WheelZoomTool\"},{\"id\":\"2a9775c3-e0fc-483b-9d3f-833933fdc96f\",\"type\":\"BoxZoomTool\"},{\"id\":\"3e901ff0-35b2-41ff-9726-6c8fd5ef56d5\",\"type\":\"BoxSelectTool\"},{\"id\":\"aeaf3da9-bede-4731-ac70-37c0f9a21c72\",\"type\":\"LassoSelectTool\"},{\"id\":\"8711e21a-2020-46ab-b0de-a55a5449a2d5\",\"type\":\"PanTool\"},{\"id\":\"4ea6cfe0-fd15-4e9b-b69c-4dc1336b6da7\",\"type\":\"WheelZoomTool\"},{\"id\":\"1d304c79-89fa-4f23-b162-9e1f093f5ea2\",\"type\":\"BoxZoomTool\"},{\"id\":\"92ee84b0-59b9-4439-aee3-51cf8137746d\",\"type\":\"BoxSelectTool\"},{\"id\":\"854a40af-b09b-4033-9304-95743d04b13b\",\"type\":\"LassoSelectTool\"},{\"id\":\"232774ec-b84a-4b89-ab78-008170917b34\",\"type\":\"PanTool\"},{\"id\":\"ef4cd7be-4e56-4cc2-ba05-328a1a69cf20\",\"type\":\"WheelZoomTool\"},{\"id\":\"6753fa8e-a585-480f-af90-b42733986853\",\"type\":\"BoxZoomTool\"},{\"id\":\"9f4595bc-eba9-4221-991f-b3296167ccaa\",\"type\":\"BoxSelectTool\"},{\"id\":\"bc133a1d-a592-4953-928e-5c8ad070ebf7\",\"type\":\"LassoSelectTool\"}]},\"id\":\"447f5fdd-0d25-4a49-b27d-6fbcff1f6eb4\",\"type\":\"ToolbarBox\"},{\"attributes\":{\"active_drag\":\"auto\",\"active_inspect\":\"auto\",\"active_scroll\":\"auto\",\"active_tap\":\"auto\",\"tools\":[{\"id\":\"0995d4d4-8ace-4bbc-9cf4-e571ebec699b\",\"type\":\"PanTool\"},{\"id\":\"6a3777f0-a932-4108-9a25-fca1424c91f7\",\"type\":\"WheelZoomTool\"},{\"id\":\"2a9775c3-e0fc-483b-9d3f-833933fdc96f\",\"type\":\"BoxZoomTool\"},{\"id\":\"3e901ff0-35b2-41ff-9726-6c8fd5ef56d5\",\"type\":\"BoxSelectTool\"},{\"id\":\"aeaf3da9-bede-4731-ac70-37c0f9a21c72\",\"type\":\"LassoSelectTool\"}]},\"id\":\"97faa864-01c0-4c52-a7f3-2300f829eeb8\",\"type\":\"Toolbar\"},{\"attributes\":{\"fill_alpha\":{\"value\":0.5},\"fill_color\":{\"value\":\"lightgrey\"},\"level\":\"overlay\",\"line_alpha\":{\"value\":1.0},\"line_color\":{\"value\":\"black\"},\"line_dash\":[4,4],\"line_width\":{\"value\":2},\"plot\":null,\"xs_units\":\"screen\",\"ys_units\":\"screen\"},\"id\":\"92befeeb-186a-40b8-89d1-bf8043a914d1\",\"type\":\"PolyAnnotation\"},{\"attributes\":{\"children\":[{\"id\":\"7b81c684-b2b8-4849-85dc-a4bd98122a67\",\"type\":\"Column\"},{\"id\":\"447f5fdd-0d25-4a49-b27d-6fbcff1f6eb4\",\"type\":\"ToolbarBox\"}]},\"id\":\"b0a7a04e-6dfb-4271-9505-8ef97153423e\",\"type\":\"Row\"},{\"attributes\":{},\"id\":\"6a3777f0-a932-4108-9a25-fca1424c91f7\",\"type\":\"WheelZoomTool\"},{\"attributes\":{\"callback\":null},\"id\":\"0612d0b2-3d45-4782-8585-bb7c38d55a3a\",\"type\":\"DataRange1d\"},{\"attributes\":{\"overlay\":{\"id\":\"d3296016-0197-4293-a800-4cd599e092ff\",\"type\":\"BoxAnnotation\"}},\"id\":\"2a9775c3-e0fc-483b-9d3f-833933fdc96f\",\"type\":\"BoxZoomTool\"},{\"attributes\":{},\"id\":\"c046227a-03ee-4d19-a017-38344dd8cd45\",\"type\":\"BasicTickFormatter\"},{\"attributes\":{},\"id\":\"a24bbcfc-1051-40f5-be96-819af49d8592\",\"type\":\"LinearScale\"},{\"attributes\":{\"children\":[{\"id\":\"bad09237-40a7-4e7d-8724-2d3bf0af772f\",\"subtype\":\"Figure\",\"type\":\"Plot\"},{\"id\":\"99f60e59-9cd4-4e74-bb88-324a178d2791\",\"subtype\":\"Figure\",\"type\":\"Plot\"},{\"id\":\"5f788eb7-83e8-4e33-8bc1-f14c043a6f9a\",\"subtype\":\"Figure\",\"type\":\"Plot\"}]},\"id\":\"55ad56a0-50cf-4185-b1a4-8004e8a78d8a\",\"type\":\"Row\"},{\"attributes\":{\"plot\":{\"id\":\"bad09237-40a7-4e7d-8724-2d3bf0af772f\",\"subtype\":\"Figure\",\"type\":\"Plot\"},\"ticker\":{\"id\":\"faf5cafc-5d58-4ee4-8638-94c782c24a14\",\"type\":\"BasicTicker\"}},\"id\":\"01c282e2-b2cb-44bc-94c4-75b11de7488d\",\"type\":\"Grid\"},{\"attributes\":{\"formatter\":{\"id\":\"644418ba-b36b-466e-9148-b52a7a784338\",\"type\":\"BasicTickFormatter\"},\"plot\":{\"id\":\"bad09237-40a7-4e7d-8724-2d3bf0af772f\",\"subtype\":\"Figure\",\"type\":\"Plot\"},\"ticker\":{\"id\":\"faf5cafc-5d58-4ee4-8638-94c782c24a14\",\"type\":\"BasicTicker\"}},\"id\":\"5fc90470-7b25-4c77-887d-2c85c49840be\",\"type\":\"LinearAxis\"},{\"attributes\":{},\"id\":\"faf5cafc-5d58-4ee4-8638-94c782c24a14\",\"type\":\"BasicTicker\"},{\"attributes\":{\"formatter\":{\"id\":\"68e2b075-8a33-4632-b117-f2d520869158\",\"type\":\"BasicTickFormatter\"},\"plot\":{\"id\":\"bad09237-40a7-4e7d-8724-2d3bf0af772f\",\"subtype\":\"Figure\",\"type\":\"Plot\"},\"ticker\":{\"id\":\"96c878a1-29f7-487f-84c5-bc35fc30467a\",\"type\":\"BasicTicker\"}},\"id\":\"056ca4b9-3886-47fe-afa5-1613a5b1d5ab\",\"type\":\"LinearAxis\"},{\"attributes\":{},\"id\":\"96c878a1-29f7-487f-84c5-bc35fc30467a\",\"type\":\"BasicTicker\"},{\"attributes\":{\"bottom_units\":\"screen\",\"fill_alpha\":{\"value\":0.5},\"fill_color\":{\"value\":\"lightgrey\"},\"left_units\":\"screen\",\"level\":\"overlay\",\"line_alpha\":{\"value\":1.0},\"line_color\":{\"value\":\"black\"},\"line_dash\":[4,4],\"line_width\":{\"value\":2},\"plot\":null,\"render_mode\":\"css\",\"right_units\":\"screen\",\"top_units\":\"screen\"},\"id\":\"d3296016-0197-4293-a800-4cd599e092ff\",\"type\":\"BoxAnnotation\"},{\"attributes\":{},\"id\":\"0995d4d4-8ace-4bbc-9cf4-e571ebec699b\",\"type\":\"PanTool\"},{\"attributes\":{\"callback\":null,\"overlay\":{\"id\":\"8fb9d401-9f9f-48d2-a0d3-56c15e427ea8\",\"type\":\"BoxAnnotation\"},\"renderers\":[{\"id\":\"96c3e857-1c21-421f-807b-0853a658453b\",\"type\":\"GlyphRenderer\"}]},\"id\":\"3e901ff0-35b2-41ff-9726-6c8fd5ef56d5\",\"type\":\"BoxSelectTool\"},{\"attributes\":{\"callback\":null,\"overlay\":{\"id\":\"92befeeb-186a-40b8-89d1-bf8043a914d1\",\"type\":\"PolyAnnotation\"}},\"id\":\"aeaf3da9-bede-4731-ac70-37c0f9a21c72\",\"type\":\"LassoSelectTool\"},{\"attributes\":{\"callback\":null},\"id\":\"a04c2c36-6363-4f9b-9997-ec41a8246948\",\"type\":\"DataRange1d\"},{\"attributes\":{\"data_source\":{\"id\":\"7e43de9d-5569-475d-be5a-6f06d9d3a26e\",\"type\":\"ColumnDataSource\"},\"glyph\":{\"id\":\"42c0e8eb-6449-45e5-bf74-12a383418231\",\"type\":\"Circle\"},\"hover_glyph\":null,\"muted_glyph\":null,\"nonselection_glyph\":{\"id\":\"5c321683-f8a3-46bb-a77b-384f87f0877f\",\"type\":\"Circle\"},\"selection_glyph\":null,\"view\":{\"id\":\"3bf44c8e-89ea-49de-aea7-954c32df1ed8\",\"type\":\"CDSView\"}},\"id\":\"96c3e857-1c21-421f-807b-0853a658453b\",\"type\":\"GlyphRenderer\"},{\"attributes\":{\"bottom_units\":\"screen\",\"fill_alpha\":{\"value\":0.5},\"fill_color\":{\"value\":\"lightgrey\"},\"left_units\":\"screen\",\"level\":\"overlay\",\"line_alpha\":{\"value\":1.0},\"line_color\":{\"value\":\"black\"},\"line_dash\":[4,4],\"line_width\":{\"value\":2},\"plot\":null,\"render_mode\":\"css\",\"right_units\":\"screen\",\"top_units\":\"screen\"},\"id\":\"8fb9d401-9f9f-48d2-a0d3-56c15e427ea8\",\"type\":\"BoxAnnotation\"},{\"attributes\":{\"source\":{\"id\":\"7e43de9d-5569-475d-be5a-6f06d9d3a26e\",\"type\":\"ColumnDataSource\"}},\"id\":\"3bf44c8e-89ea-49de-aea7-954c32df1ed8\",\"type\":\"CDSView\"},{\"attributes\":{},\"id\":\"644418ba-b36b-466e-9148-b52a7a784338\",\"type\":\"BasicTickFormatter\"},{\"attributes\":{\"source\":{\"id\":\"7e43de9d-5569-475d-be5a-6f06d9d3a26e\",\"type\":\"ColumnDataSource\"}},\"id\":\"3bb77cbf-cb85-4c45-82d7-6e52a5d75f38\",\"type\":\"CDSView\"},{\"attributes\":{\"fill_alpha\":{\"value\":0.1},\"fill_color\":{\"value\":\"#1f77b4\"},\"line_alpha\":{\"value\":0.1},\"line_color\":{\"value\":\"#1f77b4\"},\"x\":{\"field\":\"yr\"},\"y\":{\"field\":\"mpg\"}},\"id\":\"5c321683-f8a3-46bb-a77b-384f87f0877f\",\"type\":\"Circle\"},{\"attributes\":{\"plot\":null,\"text\":\"HP vs. Displacement\"},\"id\":\"381ef679-aa93-4c23-9b55-f5dc8e5a1272\",\"type\":\"Title\"},{\"attributes\":{},\"id\":\"c74d4626-d315-463f-a6b6-f31c5aeec27a\",\"type\":\"LinearScale\"},{\"attributes\":{\"callback\":null},\"id\":\"14035878-ebae-482a-8d87-33de0fdc5ed3\",\"type\":\"DataRange1d\"},{\"attributes\":{\"active_drag\":\"auto\",\"active_inspect\":\"auto\",\"active_scroll\":\"auto\",\"active_tap\":\"auto\",\"tools\":[{\"id\":\"8711e21a-2020-46ab-b0de-a55a5449a2d5\",\"type\":\"PanTool\"},{\"id\":\"4ea6cfe0-fd15-4e9b-b69c-4dc1336b6da7\",\"type\":\"WheelZoomTool\"},{\"id\":\"1d304c79-89fa-4f23-b162-9e1f093f5ea2\",\"type\":\"BoxZoomTool\"},{\"id\":\"92ee84b0-59b9-4439-aee3-51cf8137746d\",\"type\":\"BoxSelectTool\"},{\"id\":\"854a40af-b09b-4033-9304-95743d04b13b\",\"type\":\"LassoSelectTool\"}]},\"id\":\"edd05de7-9070-4a1f-8403-0d74e1e80672\",\"type\":\"Toolbar\"},{\"attributes\":{\"bottom_units\":\"screen\",\"fill_alpha\":{\"value\":0.5},\"fill_color\":{\"value\":\"lightgrey\"},\"left_units\":\"screen\",\"level\":\"overlay\",\"line_alpha\":{\"value\":1.0},\"line_color\":{\"value\":\"black\"},\"line_dash\":[4,4],\"line_width\":{\"value\":2},\"plot\":null,\"render_mode\":\"css\",\"right_units\":\"screen\",\"top_units\":\"screen\"},\"id\":\"40ea3a53-96ef-477b-b4db-f727c0561ebc\",\"type\":\"BoxAnnotation\"},{\"attributes\":{},\"id\":\"d441fd44-4430-451a-8705-5cf1f9b0acb4\",\"type\":\"LinearScale\"},{\"attributes\":{\"plot\":{\"id\":\"99f60e59-9cd4-4e74-bb88-324a178d2791\",\"subtype\":\"Figure\",\"type\":\"Plot\"},\"ticker\":{\"id\":\"efe99976-68e3-44a2-aaef-e23683b1e420\",\"type\":\"BasicTicker\"}},\"id\":\"56fc38b9-b931-46f9-a80d-4fc956281238\",\"type\":\"Grid\"},{\"attributes\":{\"formatter\":{\"id\":\"561aa355-a061-4d04-b141-bb1774059192\",\"type\":\"BasicTickFormatter\"},\"plot\":{\"id\":\"99f60e59-9cd4-4e74-bb88-324a178d2791\",\"subtype\":\"Figure\",\"type\":\"Plot\"},\"ticker\":{\"id\":\"efe99976-68e3-44a2-aaef-e23683b1e420\",\"type\":\"BasicTicker\"}},\"id\":\"8942c36c-d96e-4ed6-ad5a-df721f427578\",\"type\":\"LinearAxis\"},{\"attributes\":{},\"id\":\"efe99976-68e3-44a2-aaef-e23683b1e420\",\"type\":\"BasicTicker\"},{\"attributes\":{\"formatter\":{\"id\":\"0aea8534-bb17-46fd-aec1-825b7fdb133d\",\"type\":\"BasicTickFormatter\"},\"plot\":{\"id\":\"99f60e59-9cd4-4e74-bb88-324a178d2791\",\"subtype\":\"Figure\",\"type\":\"Plot\"},\"ticker\":{\"id\":\"f3474b34-6c6e-4b26-ab70-1b0d54955c72\",\"type\":\"BasicTicker\"}},\"id\":\"a3330edc-d108-4c3e-99d0-2affaa42844e\",\"type\":\"LinearAxis\"},{\"attributes\":{},\"id\":\"f3474b34-6c6e-4b26-ab70-1b0d54955c72\",\"type\":\"BasicTicker\"},{\"attributes\":{\"dimension\":1,\"plot\":{\"id\":\"99f60e59-9cd4-4e74-bb88-324a178d2791\",\"subtype\":\"Figure\",\"type\":\"Plot\"},\"ticker\":{\"id\":\"f3474b34-6c6e-4b26-ab70-1b0d54955c72\",\"type\":\"BasicTicker\"}},\"id\":\"dd5b7959-2836-47c3-b4f4-04991131bb74\",\"type\":\"Grid\"},{\"attributes\":{\"fill_color\":{\"value\":null},\"line_color\":{\"value\":\"red\"},\"size\":{\"field\":\"cyl\",\"units\":\"screen\"},\"x\":{\"field\":\"mpg\"},\"y\":{\"field\":\"displ\"}},\"id\":\"0e356993-b83b-4513-bece-eeb4bccc488d\",\"type\":\"Circle\"},{\"attributes\":{},\"id\":\"8711e21a-2020-46ab-b0de-a55a5449a2d5\",\"type\":\"PanTool\"},{\"attributes\":{\"fill_alpha\":{\"value\":0.5},\"fill_color\":{\"value\":\"lightgrey\"},\"level\":\"overlay\",\"line_alpha\":{\"value\":1.0},\"line_color\":{\"value\":\"black\"},\"line_dash\":[4,4],\"line_width\":{\"value\":2},\"plot\":null,\"xs_units\":\"screen\",\"ys_units\":\"screen\"},\"id\":\"8309fcbb-3edb-4d86-a70c-d728cd038cbb\",\"type\":\"PolyAnnotation\"},{\"attributes\":{},\"id\":\"4ea6cfe0-fd15-4e9b-b69c-4dc1336b6da7\",\"type\":\"WheelZoomTool\"},{\"attributes\":{\"overlay\":{\"id\":\"40ea3a53-96ef-477b-b4db-f727c0561ebc\",\"type\":\"BoxAnnotation\"}},\"id\":\"1d304c79-89fa-4f23-b162-9e1f093f5ea2\",\"type\":\"BoxZoomTool\"},{\"attributes\":{\"callback\":null,\"overlay\":{\"id\":\"b799a357-0ea4-4bd9-9042-e860a971173f\",\"type\":\"BoxAnnotation\"},\"renderers\":[{\"id\":\"96a07433-f9d4-4ae6-877a-3be26cc93cf1\",\"type\":\"GlyphRenderer\"}]},\"id\":\"92ee84b0-59b9-4439-aee3-51cf8137746d\",\"type\":\"BoxSelectTool\"},{\"attributes\":{\"callback\":null,\"overlay\":{\"id\":\"8309fcbb-3edb-4d86-a70c-d728cd038cbb\",\"type\":\"PolyAnnotation\"}},\"id\":\"854a40af-b09b-4033-9304-95743d04b13b\",\"type\":\"LassoSelectTool\"},{\"attributes\":{\"fill_color\":{\"value\":\"green\"},\"line_color\":{\"value\":\"green\"},\"x\":{\"field\":\"hp\"},\"y\":{\"field\":\"displ\"}},\"id\":\"e90c5916-8b17-4c8a-ade8-02273a4c081a\",\"type\":\"Circle\"},{\"attributes\":{\"below\":[{\"id\":\"8942c36c-d96e-4ed6-ad5a-df721f427578\",\"type\":\"LinearAxis\"}],\"left\":[{\"id\":\"a3330edc-d108-4c3e-99d0-2affaa42844e\",\"type\":\"LinearAxis\"}],\"plot_height\":300,\"plot_width\":300,\"renderers\":[{\"id\":\"8942c36c-d96e-4ed6-ad5a-df721f427578\",\"type\":\"LinearAxis\"},{\"id\":\"56fc38b9-b931-46f9-a80d-4fc956281238\",\"type\":\"Grid\"},{\"id\":\"a3330edc-d108-4c3e-99d0-2affaa42844e\",\"type\":\"LinearAxis\"},{\"id\":\"dd5b7959-2836-47c3-b4f4-04991131bb74\",\"type\":\"Grid\"},{\"id\":\"40ea3a53-96ef-477b-b4db-f727c0561ebc\",\"type\":\"BoxAnnotation\"},{\"id\":\"b799a357-0ea4-4bd9-9042-e860a971173f\",\"type\":\"BoxAnnotation\"},{\"id\":\"8309fcbb-3edb-4d86-a70c-d728cd038cbb\",\"type\":\"PolyAnnotation\"},{\"id\":\"96a07433-f9d4-4ae6-877a-3be26cc93cf1\",\"type\":\"GlyphRenderer\"}],\"title\":{\"id\":\"381ef679-aa93-4c23-9b55-f5dc8e5a1272\",\"type\":\"Title\"},\"toolbar\":{\"id\":\"edd05de7-9070-4a1f-8403-0d74e1e80672\",\"type\":\"Toolbar\"},\"toolbar_location\":null,\"x_range\":{\"id\":\"14035878-ebae-482a-8d87-33de0fdc5ed3\",\"type\":\"DataRange1d\"},\"x_scale\":{\"id\":\"d441fd44-4430-451a-8705-5cf1f9b0acb4\",\"type\":\"LinearScale\"},\"y_range\":{\"id\":\"a04c2c36-6363-4f9b-9997-ec41a8246948\",\"type\":\"DataRange1d\"},\"y_scale\":{\"id\":\"c74d4626-d315-463f-a6b6-f31c5aeec27a\",\"type\":\"LinearScale\"}},\"id\":\"99f60e59-9cd4-4e74-bb88-324a178d2791\",\"subtype\":\"Figure\",\"type\":\"Plot\"},{\"attributes\":{\"data_source\":{\"id\":\"7e43de9d-5569-475d-be5a-6f06d9d3a26e\",\"type\":\"ColumnDataSource\"},\"glyph\":{\"id\":\"e90c5916-8b17-4c8a-ade8-02273a4c081a\",\"type\":\"Circle\"},\"hover_glyph\":null,\"muted_glyph\":null,\"nonselection_glyph\":{\"id\":\"92f55b72-cf49-426e-8d51-0c07604a6d82\",\"type\":\"Circle\"},\"selection_glyph\":null,\"view\":{\"id\":\"b1f2719e-b484-40b9-887e-74b502dc0bdc\",\"type\":\"CDSView\"}},\"id\":\"96a07433-f9d4-4ae6-877a-3be26cc93cf1\",\"type\":\"GlyphRenderer\"},{\"attributes\":{\"bottom_units\":\"screen\",\"fill_alpha\":{\"value\":0.5},\"fill_color\":{\"value\":\"lightgrey\"},\"left_units\":\"screen\",\"level\":\"overlay\",\"line_alpha\":{\"value\":1.0},\"line_color\":{\"value\":\"black\"},\"line_dash\":[4,4],\"line_width\":{\"value\":2},\"plot\":null,\"render_mode\":\"css\",\"right_units\":\"screen\",\"top_units\":\"screen\"},\"id\":\"b799a357-0ea4-4bd9-9042-e860a971173f\",\"type\":\"BoxAnnotation\"},{\"attributes\":{\"source\":{\"id\":\"7e43de9d-5569-475d-be5a-6f06d9d3a26e\",\"type\":\"ColumnDataSource\"}},\"id\":\"b1f2719e-b484-40b9-887e-74b502dc0bdc\",\"type\":\"CDSView\"},{\"attributes\":{},\"id\":\"561aa355-a061-4d04-b141-bb1774059192\",\"type\":\"BasicTickFormatter\"},{\"attributes\":{\"plot\":null,\"text\":\"MPG vs. Displacement\"},\"id\":\"a035694d-1e8e-4e6e-b845-6b653409da99\",\"type\":\"Title\"},{\"attributes\":{\"callback\":null,\"column_names\":[\"mpg\",\"cyl\",\"displ\",\"hp\",\"weight\",\"accel\",\"yr\",\"origin\",\"name\",\"index\"],\"data\":{\"accel\":{\"__ndarray__\":\"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\",\"dtype\":\"float64\",\"shape\":[392]},\"cyl\":[8,8,8,8,8,8,8,8,8,8,8,8,8,8,4,6,6,6,4,4,4,4,4,4,6,8,8,8,8,4,4,4,6,6,6,6,6,8,8,8,8,8,8,8,6,4,6,6,4,4,4,4,4,4,4,4,4,4,4,4,4,8,8,8,8,8,8,8,8,8,3,8,8,8,8,4,4,4,4,4,4,4,4,4,8,8,8,8,8,8,8,8,8,8,8,8,6,6,6,6,6,4,8,8,8,8,6,4,4,4,3,4,6,4,8,8,4,4,4,4,8,4,6,8,6,6,6,4,4,4,4,6,6,6,8,8,8,8,8,4,4,4,4,4,4,4,4,4,4,4,6,6,6,6,8,8,8,8,6,6,6,6,6,8,8,4,4,6,4,4,4,4,6,4,6,4,4,4,4,4,4,4,4,4,4,8,8,8,8,6,6,6,6,4,4,4,4,6,6,6,6,4,4,4,4,4,8,4,6,6,8,8,8,8,4,4,4,4,4,8,8,8,8,6,6,6,6,8,8,8,8,4,4,4,4,4,4,4,4,6,4,3,4,4,4,4,4,8,8,8,6,6,6,4,6,6,6,6,6,6,8,6,8,8,4,4,4,4,4,4,4,4,5,6,4,6,4,4,6,6,4,6,6,8,8,8,8,8,8,8,8,4,4,4,4,5,8,4,8,4,4,4,4,4,6,6,4,4,4,4,4,4,4,4,6,4,4,4,4,4,4,4,4,4,4,5,4,4,4,4,6,3,4,4,4,4,4,6,4,4,4,4,4,4,4,4,4,4,4,4,4,4,4,4,4,6,6,6,6,8,6,6,4,4,4,4,4,4,4,4,4,4,4,4,4,4,4,4,4,4,6,6,4,6,4,4,4,4,4,4,4,4],\"displ\":{\"__ndarray__\":\"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\",\"dtype\":\"float64\",\"shape\":[392]},\"hp\":[130,165,150,150,140,198,220,215,225,190,170,160,150,225,95,95,97,85,88,46,87,90,95,113,90,215,200,210,193,88,90,95,100,105,100,88,100,165,175,153,150,180,170,175,110,72,100,88,86,90,70,76,65,69,60,70,95,80,54,90,86,165,175,150,153,150,208,155,160,190,97,150,130,140,150,112,76,87,69,86,92,97,80,88,175,150,145,137,150,198,150,158,150,215,225,175,105,100,100,88,95,46,150,167,170,180,100,88,72,94,90,85,107,90,145,230,49,75,91,112,150,110,122,180,95,100,100,67,80,65,75,100,110,105,140,150,150,140,150,83,67,78,52,61,75,75,75,97,93,67,95,105,72,72,170,145,150,148,110,105,110,95,110,110,129,75,83,100,78,96,71,97,97,70,90,95,88,98,115,53,86,81,92,79,83,140,150,120,152,100,105,81,90,52,60,70,53,100,78,110,95,71,70,75,72,102,150,88,108,120,180,145,130,150,68,80,58,96,70,145,110,145,130,110,105,100,98,180,170,190,149,78,88,75,89,63,83,67,78,97,110,110,48,66,52,70,60,110,140,139,105,95,85,88,100,90,105,85,110,120,145,165,139,140,68,95,97,75,95,105,85,97,103,125,115,133,71,68,115,85,88,90,110,130,129,138,135,155,142,125,150,71,65,80,80,77,125,71,90,70,70,65,69,90,115,115,90,76,60,70,65,90,88,90,90,78,90,75,92,75,65,105,65,48,48,67,67,67,67,62,132,100,88,72,84,84,92,110,84,58,64,60,67,65,62,68,63,65,65,74,75,75,100,74,80,76,116,120,110,105,88,85,88,88,88,85,84,90,92,74,68,68,63,70,88,75,70,67,67,67,110,85,92,112,96,84,90,86,52,84,79,82],\"index\":[0,1,2,3,4,5,6,7,8,9,10,11,12,13,14,15,16,17,18,19,20,21,22,23,24,25,26,27,28,29,30,31,32,33,34,35,36,37,38,39,40,41,42,43,44,45,46,47,48,49,50,51,52,53,54,55,56,57,58,59,60,61,62,63,64,65,66,67,68,69,70,71,72,73,74,75,76,77,78,79,80,81,82,83,84,85,86,87,88,89,90,91,92,93,94,95,96,97,98,99,100,101,102,103,104,105,106,107,108,109,110,111,112,113,114,115,116,117,118,119,120,121,122,123,124,125,126,127,128,129,130,131,132,133,134,135,136,137,138,139,140,141,142,143,144,145,146,147,148,149,150,151,152,153,154,155,156,157,158,159,160,161,162,163,164,165,166,167,168,169,170,171,172,173,174,175,176,177,178,179,180,181,182,183,184,185,186,187,188,189,190,191,192,193,194,195,196,197,198,199,200,201,202,203,204,205,206,207,208,209,210,211,212,213,214,215,216,217,218,219,220,221,222,223,224,225,226,227,228,229,230,231,232,233,234,235,236,237,238,239,240,241,242,243,244,245,246,247,248,249,250,251,252,253,254,255,256,257,258,259,260,261,262,263,264,265,266,267,268,269,270,271,272,273,274,275,276,277,278,279,280,281,282,283,284,285,286,287,288,289,290,291,292,293,294,295,296,297,298,299,300,301,302,303,304,305,306,307,308,309,310,311,312,313,314,315,316,317,318,319,320,321,322,323,324,325,326,327,328,329,330,331,332,333,334,335,336,337,338,339,340,341,342,343,344,345,346,347,348,349,350,351,352,353,354,355,356,357,358,359,360,361,362,363,364,365,366,367,368,369,370,371,372,373,374,375,376,377,378,379,380,381,382,383,384,385,386,387,388,389,390,391],\"mpg\":{\"__ndarray__\":\"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\",\"dtype\":\"float64\",\"shape\":[392]},\"name\":[\"chevrolet chevelle malibu\",\"buick skylark 320\",\"plymouth satellite\",\"amc rebel sst\",\"ford torino\",\"ford galaxie 500\",\"chevrolet impala\",\"plymouth fury iii\",\"pontiac catalina\",\"amc ambassador dpl\",\"dodge challenger se\",\"plymouth 'cuda 340\",\"chevrolet monte carlo\",\"buick estate wagon (sw)\",\"toyota corona mark ii\",\"plymouth duster\",\"amc hornet\",\"ford maverick\",\"datsun pl510\",\"volkswagen 1131 deluxe sedan\",\"peugeot 504\",\"audi 100 ls\",\"saab 99e\",\"bmw 2002\",\"amc gremlin\",\"ford f250\",\"chevy c20\",\"dodge d200\",\"hi 1200d\",\"datsun pl510\",\"chevrolet vega 2300\",\"toyota corona\",\"amc gremlin\",\"plymouth satellite custom\",\"chevrolet chevelle malibu\",\"ford torino 500\",\"amc matador\",\"chevrolet impala\",\"pontiac catalina brougham\",\"ford galaxie 500\",\"plymouth fury iii\",\"dodge monaco (sw)\",\"ford country squire (sw)\",\"pontiac safari (sw)\",\"amc hornet sportabout (sw)\",\"chevrolet vega (sw)\",\"pontiac firebird\",\"ford mustang\",\"mercury capri 2000\",\"opel 1900\",\"peugeot 304\",\"fiat 124b\",\"toyota corolla 1200\",\"datsun 1200\",\"volkswagen model 111\",\"plymouth cricket\",\"toyota corona hardtop\",\"dodge colt hardtop\",\"volkswagen type 3\",\"chevrolet vega\",\"ford pinto runabout\",\"chevrolet impala\",\"pontiac catalina\",\"plymouth fury iii\",\"ford galaxie 500\",\"amc ambassador sst\",\"mercury marquis\",\"buick lesabre custom\",\"oldsmobile delta 88 royale\",\"chrysler newport royal\",\"mazda rx2 coupe\",\"amc matador (sw)\",\"chevrolet chevelle concours (sw)\",\"ford gran torino (sw)\",\"plymouth satellite custom (sw)\",\"volvo 145e (sw)\",\"volkswagen 411 (sw)\",\"peugeot 504 (sw)\",\"renault 12 (sw)\",\"ford pinto (sw)\",\"datsun 510 (sw)\",\"toyouta corona mark ii (sw)\",\"dodge colt (sw)\",\"toyota corolla 1600 (sw)\",\"buick century 350\",\"amc matador\",\"chevrolet malibu\",\"ford gran torino\",\"dodge coronet custom\",\"mercury marquis brougham\",\"chevrolet caprice classic\",\"ford ltd\",\"plymouth fury gran sedan\",\"chrysler new yorker brougham\",\"buick electra 225 custom\",\"amc ambassador brougham\",\"plymouth valiant\",\"chevrolet nova custom\",\"amc hornet\",\"ford maverick\",\"plymouth duster\",\"volkswagen super beetle\",\"chevrolet impala\",\"ford country\",\"plymouth custom suburb\",\"oldsmobile vista cruiser\",\"amc gremlin\",\"toyota carina\",\"chevrolet vega\",\"datsun 610\",\"maxda rx3\",\"ford pinto\",\"mercury capri v6\",\"fiat 124 sport coupe\",\"chevrolet monte carlo s\",\"pontiac grand prix\",\"fiat 128\",\"opel manta\",\"audi 100ls\",\"volvo 144ea\",\"dodge dart custom\",\"saab 99le\",\"toyota mark ii\",\"oldsmobile omega\",\"plymouth duster\",\"amc hornet\",\"chevrolet nova\",\"datsun b210\",\"ford pinto\",\"toyota corolla 1200\",\"chevrolet vega\",\"chevrolet chevelle malibu classic\",\"amc matador\",\"plymouth satellite sebring\",\"ford gran torino\",\"buick century luxus (sw)\",\"dodge coronet custom (sw)\",\"ford gran torino (sw)\",\"amc matador (sw)\",\"audi fox\",\"volkswagen dasher\",\"opel manta\",\"toyota corona\",\"datsun 710\",\"dodge colt\",\"fiat 128\",\"fiat 124 tc\",\"honda civic\",\"subaru\",\"fiat x1.9\",\"plymouth valiant custom\",\"chevrolet nova\",\"mercury monarch\",\"ford maverick\",\"pontiac catalina\",\"chevrolet bel air\",\"plymouth grand fury\",\"ford ltd\",\"buick century\",\"chevroelt chevelle malibu\",\"amc matador\",\"plymouth fury\",\"buick skyhawk\",\"chevrolet monza 2+2\",\"ford mustang ii\",\"toyota corolla\",\"ford pinto\",\"amc gremlin\",\"pontiac astro\",\"toyota corona\",\"volkswagen dasher\",\"datsun 710\",\"ford pinto\",\"volkswagen rabbit\",\"amc pacer\",\"audi 100ls\",\"peugeot 504\",\"volvo 244dl\",\"saab 99le\",\"honda civic cvcc\",\"fiat 131\",\"opel 1900\",\"capri ii\",\"dodge colt\",\"renault 12tl\",\"chevrolet chevelle malibu classic\",\"dodge coronet brougham\",\"amc matador\",\"ford gran torino\",\"plymouth valiant\",\"chevrolet nova\",\"ford maverick\",\"amc hornet\",\"chevrolet chevette\",\"chevrolet woody\",\"vw rabbit\",\"honda civic\",\"dodge aspen se\",\"ford granada ghia\",\"pontiac ventura sj\",\"amc pacer d/l\",\"volkswagen rabbit\",\"datsun b-210\",\"toyota corolla\",\"ford pinto\",\"volvo 245\",\"plymouth volare premier v8\",\"peugeot 504\",\"toyota mark ii\",\"mercedes-benz 280s\",\"cadillac seville\",\"chevy c10\",\"ford f108\",\"dodge d100\",\"honda accord cvcc\",\"buick opel isuzu deluxe\",\"renault 5 gtl\",\"plymouth arrow gs\",\"datsun f-10 hatchback\",\"chevrolet caprice classic\",\"oldsmobile cutlass supreme\",\"dodge monaco brougham\",\"mercury cougar brougham\",\"chevrolet concours\",\"buick skylark\",\"plymouth volare custom\",\"ford granada\",\"pontiac grand prix lj\",\"chevrolet monte carlo landau\",\"chrysler cordoba\",\"ford thunderbird\",\"volkswagen rabbit custom\",\"pontiac sunbird coupe\",\"toyota corolla liftback\",\"ford mustang ii 2+2\",\"chevrolet chevette\",\"dodge colt m/m\",\"subaru dl\",\"volkswagen dasher\",\"datsun 810\",\"bmw 320i\",\"mazda rx-4\",\"volkswagen rabbit custom diesel\",\"ford fiesta\",\"mazda glc deluxe\",\"datsun b210 gx\",\"honda civic cvcc\",\"oldsmobile cutlass salon brougham\",\"dodge diplomat\",\"mercury monarch ghia\",\"pontiac phoenix lj\",\"chevrolet malibu\",\"ford fairmont (auto)\",\"ford fairmont (man)\",\"plymouth volare\",\"amc concord\",\"buick century special\",\"mercury zephyr\",\"dodge aspen\",\"amc concord d/l\",\"chevrolet monte carlo landau\",\"buick regal sport coupe (turbo)\",\"ford futura\",\"dodge magnum xe\",\"chevrolet chevette\",\"toyota corona\",\"datsun 510\",\"dodge omni\",\"toyota celica gt liftback\",\"plymouth sapporo\",\"oldsmobile starfire sx\",\"datsun 200-sx\",\"audi 5000\",\"volvo 264gl\",\"saab 99gle\",\"peugeot 604sl\",\"volkswagen scirocco\",\"honda accord lx\",\"pontiac lemans v6\",\"mercury zephyr 6\",\"ford fairmont 4\",\"amc concord dl 6\",\"dodge aspen 6\",\"chevrolet caprice classic\",\"ford ltd landau\",\"mercury grand marquis\",\"dodge st. regis\",\"buick estate wagon (sw)\",\"ford country squire (sw)\",\"chevrolet malibu classic (sw)\",\"chrysler lebaron town @ country (sw)\",\"vw rabbit custom\",\"maxda glc deluxe\",\"dodge colt hatchback custom\",\"amc spirit dl\",\"mercedes benz 300d\",\"cadillac eldorado\",\"peugeot 504\",\"oldsmobile cutlass salon brougham\",\"plymouth horizon\",\"plymouth horizon tc3\",\"datsun 210\",\"fiat strada custom\",\"buick skylark limited\",\"chevrolet citation\",\"oldsmobile omega brougham\",\"pontiac phoenix\",\"vw rabbit\",\"toyota corolla tercel\",\"chevrolet chevette\",\"datsun 310\",\"chevrolet citation\",\"ford fairmont\",\"amc concord\",\"dodge aspen\",\"audi 4000\",\"toyota corona liftback\",\"mazda 626\",\"datsun 510 hatchback\",\"toyota corolla\",\"mazda glc\",\"dodge colt\",\"datsun 210\",\"vw rabbit c (diesel)\",\"vw dasher (diesel)\",\"audi 5000s (diesel)\",\"mercedes-benz 240d\",\"honda civic 1500 gl\",\"subaru dl\",\"vokswagen rabbit\",\"datsun 280-zx\",\"mazda rx-7 gs\",\"triumph tr7 coupe\",\"honda accord\",\"plymouth reliant\",\"buick skylark\",\"dodge aries wagon (sw)\",\"chevrolet citation\",\"plymouth reliant\",\"toyota starlet\",\"plymouth champ\",\"honda civic 1300\",\"subaru\",\"datsun 210 mpg\",\"toyota tercel\",\"mazda glc 4\",\"plymouth horizon 4\",\"ford escort 4w\",\"ford escort 2h\",\"volkswagen jetta\",\"honda prelude\",\"toyota corolla\",\"datsun 200sx\",\"mazda 626\",\"peugeot 505s turbo diesel\",\"volvo diesel\",\"toyota cressida\",\"datsun 810 maxima\",\"buick century\",\"oldsmobile cutlass ls\",\"ford granada gl\",\"chrysler lebaron salon\",\"chevrolet cavalier\",\"chevrolet cavalier wagon\",\"chevrolet cavalier 2-door\",\"pontiac j2000 se hatchback\",\"dodge aries se\",\"pontiac phoenix\",\"ford fairmont futura\",\"volkswagen rabbit l\",\"mazda glc custom l\",\"mazda glc custom\",\"plymouth horizon miser\",\"mercury lynx l\",\"nissan stanza xe\",\"honda accord\",\"toyota corolla\",\"honda civic\",\"honda civic (auto)\",\"datsun 310 gx\",\"buick century limited\",\"oldsmobile cutlass ciera (diesel)\",\"chrysler lebaron medallion\",\"ford granada l\",\"toyota celica gt\",\"dodge charger 2.2\",\"chevrolet camaro\",\"ford mustang gl\",\"vw pickup\",\"dodge rampage\",\"ford ranger\",\"chevy s-10\"],\"origin\":[1,1,1,1,1,1,1,1,1,1,1,1,1,1,3,1,1,1,3,2,2,2,2,2,1,1,1,1,1,3,1,3,1,1,1,1,1,1,1,1,1,1,1,1,1,1,1,1,1,2,2,2,3,3,2,1,3,1,2,1,1,1,1,1,1,1,1,1,1,1,3,1,1,1,1,2,2,2,2,1,3,3,1,3,1,1,1,1,1,1,1,1,1,1,1,1,1,1,1,1,1,2,1,1,1,1,1,3,1,3,3,1,1,2,1,1,2,2,2,2,1,2,3,1,1,1,1,3,1,3,1,1,1,1,1,1,1,1,1,2,2,2,3,3,1,2,2,3,3,2,1,1,1,1,1,1,1,1,1,1,1,1,1,1,1,3,1,1,1,3,2,3,1,2,1,2,2,2,2,3,2,2,1,1,2,1,1,1,1,1,1,1,1,1,1,2,3,1,1,1,1,2,3,3,1,2,1,2,3,2,1,1,1,1,3,1,2,1,3,1,1,1,1,1,1,1,1,1,1,1,1,2,1,3,1,1,1,3,2,3,2,3,2,1,3,3,3,1,1,1,1,1,1,1,1,1,1,1,1,1,1,1,1,1,1,3,3,1,3,1,1,3,2,2,2,2,2,3,1,1,1,1,1,1,1,1,1,1,1,1,1,2,3,1,1,2,1,2,1,1,1,3,2,1,1,1,1,2,3,1,3,1,1,1,1,2,3,3,3,3,3,1,3,2,2,2,2,3,3,2,3,3,2,3,1,1,1,1,1,3,1,3,3,3,3,3,1,1,1,2,3,3,3,3,2,2,3,3,1,1,1,1,1,1,1,1,1,1,1,2,3,3,1,1,3,3,3,3,3,3,1,1,1,1,3,1,1,1,2,1,1,1],\"weight\":[3504,3693,3436,3433,3449,4341,4354,4312,4425,3850,3563,3609,3761,3086,2372,2833,2774,2587,2130,1835,2672,2430,2375,2234,2648,4615,4376,4382,4732,2130,2264,2228,2634,3439,3329,3302,3288,4209,4464,4154,4096,4955,4746,5140,2962,2408,3282,3139,2220,2123,2074,2065,1773,1613,1834,1955,2278,2126,2254,2408,2226,4274,4385,4135,4129,3672,4633,4502,4456,4422,2330,3892,4098,4294,4077,2933,2511,2979,2189,2395,2288,2506,2164,2100,4100,3672,3988,4042,3777,4952,4464,4363,4237,4735,4951,3821,3121,3278,2945,3021,2904,1950,4997,4906,4654,4499,2789,2279,2401,2379,2124,2310,2472,2265,4082,4278,1867,2158,2582,2868,3399,2660,2807,3664,3102,2901,3336,1950,2451,1836,2542,3781,3632,3613,4141,4699,4457,4638,4257,2219,1963,2300,1649,2003,2125,2108,2246,2489,2391,2000,3264,3459,3432,3158,4668,4440,4498,4657,3907,3897,3730,3785,3039,3221,3169,2171,2639,2914,2592,2702,2223,2545,2984,1937,3211,2694,2957,2945,2671,1795,2464,2220,2572,2255,2202,4215,4190,3962,4215,3233,3353,3012,3085,2035,2164,1937,1795,3651,3574,3645,3193,1825,1990,2155,2565,3150,3940,3270,2930,3820,4380,4055,3870,3755,2045,2155,1825,2300,1945,3880,4060,4140,4295,3520,3425,3630,3525,4220,4165,4325,4335,1940,2740,2265,2755,2051,2075,1985,2190,2815,2600,2720,1985,1800,1985,2070,1800,3365,3735,3570,3535,3155,2965,2720,3430,3210,3380,3070,3620,3410,3425,3445,3205,4080,2155,2560,2300,2230,2515,2745,2855,2405,2830,3140,2795,3410,1990,2135,3245,2990,2890,3265,3360,3840,3725,3955,3830,4360,4054,3605,3940,1925,1975,1915,2670,3530,3900,3190,3420,2200,2150,2020,2130,2670,2595,2700,2556,2144,1968,2120,2019,2678,2870,3003,3381,2188,2711,2542,2434,2265,2110,2800,2110,2085,2335,2950,3250,1850,2145,1845,2910,2420,2500,2290,2490,2635,2620,2725,2385,1755,1875,1760,2065,1975,2050,1985,2215,2045,2380,2190,2210,2350,2615,2635,3230,3160,2900,2930,3415,3725,3060,3465,2605,2640,2395,2575,2525,2735,2865,1980,2025,1970,2125,2125,2160,2205,2245,1965,1965,1995,2945,3015,2585,2835,2665,2370,2950,2790,2130,2295,2625,2720],\"yr\":[70,70,70,70,70,70,70,70,70,70,70,70,70,70,70,70,70,70,70,70,70,70,70,70,70,70,70,70,70,71,71,71,71,71,71,71,71,71,71,71,71,71,71,71,71,71,71,71,71,71,71,71,71,71,71,71,72,72,72,72,72,72,72,72,72,72,72,72,72,72,72,72,72,72,72,72,72,72,72,72,72,72,72,72,73,73,73,73,73,73,73,73,73,73,73,73,73,73,73,73,73,73,73,73,73,73,73,73,73,73,73,73,73,73,73,73,73,73,73,73,73,73,73,73,74,74,74,74,74,74,74,74,74,74,74,74,74,74,74,74,74,74,74,74,74,74,74,74,74,74,75,75,75,75,75,75,75,75,75,75,75,75,75,75,75,75,75,75,75,75,75,75,75,75,75,75,75,75,75,75,76,76,76,76,76,76,76,76,76,76,76,76,76,76,76,76,76,76,76,76,76,76,76,76,76,76,76,76,76,76,76,76,76,76,77,77,77,77,77,77,77,77,77,77,77,77,77,77,77,77,77,77,77,77,77,77,77,77,77,77,77,77,78,78,78,78,78,78,78,78,78,78,78,78,78,78,78,78,78,78,78,78,78,78,78,78,78,78,78,78,78,78,78,78,78,78,78,78,79,79,79,79,79,79,79,79,79,79,79,79,79,79,79,79,79,79,79,79,79,79,79,79,79,79,79,79,79,80,80,80,80,80,80,80,80,80,80,80,80,80,80,80,80,80,80,80,80,80,80,80,80,80,80,80,81,81,81,81,81,81,81,81,81,81,81,81,81,81,81,81,81,81,81,81,81,81,81,81,81,81,81,81,82,82,82,82,82,82,82,82,82,82,82,82,82,82,82,82,82,82,82,82,82,82,82,82,82,82,82,82,82,82]}},\"id\":\"7e43de9d-5569-475d-be5a-6f06d9d3a26e\",\"type\":\"ColumnDataSource\"},{\"attributes\":{\"fill_alpha\":{\"value\":0.1},\"fill_color\":{\"value\":\"#1f77b4\"},\"line_alpha\":{\"value\":0.1},\"line_color\":{\"value\":\"#1f77b4\"},\"x\":{\"field\":\"hp\"},\"y\":{\"field\":\"displ\"}},\"id\":\"92f55b72-cf49-426e-8d51-0c07604a6d82\",\"type\":\"Circle\"},{\"attributes\":{},\"id\":\"68e2b075-8a33-4632-b117-f2d520869158\",\"type\":\"BasicTickFormatter\"},{\"attributes\":{},\"id\":\"0aea8534-bb17-46fd-aec1-825b7fdb133d\",\"type\":\"BasicTickFormatter\"},{\"attributes\":{\"data_source\":{\"id\":\"7e43de9d-5569-475d-be5a-6f06d9d3a26e\",\"type\":\"ColumnDataSource\"},\"glyph\":{\"id\":\"0e356993-b83b-4513-bece-eeb4bccc488d\",\"type\":\"Circle\"},\"hover_glyph\":null,\"muted_glyph\":null,\"nonselection_glyph\":{\"id\":\"2243b200-2919-4e0f-a0df-eedb39d74a76\",\"type\":\"Circle\"},\"selection_glyph\":null,\"view\":{\"id\":\"3bb77cbf-cb85-4c45-82d7-6e52a5d75f38\",\"type\":\"CDSView\"}},\"id\":\"2ad0abc4-a9b3-43e7-a9b3-c565b0e732c9\",\"type\":\"GlyphRenderer\"},{\"attributes\":{\"fill_color\":{\"value\":\"blue\"},\"line_color\":{\"value\":\"blue\"},\"x\":{\"field\":\"yr\"},\"y\":{\"field\":\"mpg\"}},\"id\":\"42c0e8eb-6449-45e5-bf74-12a383418231\",\"type\":\"Circle\"},{\"attributes\":{\"callback\":null},\"id\":\"c4da9143-fdcb-4692-86d4-a12cea92e786\",\"type\":\"DataRange1d\"},{\"attributes\":{\"callback\":null},\"id\":\"bbf5a261-7fea-4ccd-a3c8-6e52e48bf21c\",\"type\":\"DataRange1d\"},{\"attributes\":{},\"id\":\"62ab3e89-c357-4bd6-ad1a-add62a0307e3\",\"type\":\"LinearScale\"},{\"attributes\":{\"active_drag\":\"auto\",\"active_inspect\":\"auto\",\"active_scroll\":\"auto\",\"active_tap\":\"auto\",\"tools\":[{\"id\":\"232774ec-b84a-4b89-ab78-008170917b34\",\"type\":\"PanTool\"},{\"id\":\"ef4cd7be-4e56-4cc2-ba05-328a1a69cf20\",\"type\":\"WheelZoomTool\"},{\"id\":\"6753fa8e-a585-480f-af90-b42733986853\",\"type\":\"BoxZoomTool\"},{\"id\":\"9f4595bc-eba9-4221-991f-b3296167ccaa\",\"type\":\"BoxSelectTool\"},{\"id\":\"bc133a1d-a592-4953-928e-5c8ad070ebf7\",\"type\":\"LassoSelectTool\"}]},\"id\":\"b9ecd97c-40c2-470d-b98f-e673e92bac1e\",\"type\":\"Toolbar\"},{\"attributes\":{\"bottom_units\":\"screen\",\"fill_alpha\":{\"value\":0.5},\"fill_color\":{\"value\":\"lightgrey\"},\"left_units\":\"screen\",\"level\":\"overlay\",\"line_alpha\":{\"value\":1.0},\"line_color\":{\"value\":\"black\"},\"line_dash\":[4,4],\"line_width\":{\"value\":2},\"plot\":null,\"render_mode\":\"css\",\"right_units\":\"screen\",\"top_units\":\"screen\"},\"id\":\"1a7b5000-7944-4c10-9ea4-01e17127a91d\",\"type\":\"BoxAnnotation\"},{\"attributes\":{},\"id\":\"a639a43b-e80a-433a-a65f-f1d5c6219b83\",\"type\":\"LinearScale\"},{\"attributes\":{\"plot\":{\"id\":\"5f788eb7-83e8-4e33-8bc1-f14c043a6f9a\",\"subtype\":\"Figure\",\"type\":\"Plot\"},\"ticker\":{\"id\":\"954b6b12-d3fd-4f83-8672-f6aa3595f2d8\",\"type\":\"BasicTicker\"}},\"id\":\"1246f912-0701-4647-9393-d04f6e52d226\",\"type\":\"Grid\"},{\"attributes\":{},\"id\":\"ff51dbe0-dd09-472f-9a2f-f2695e85b3f0\",\"type\":\"LinearScale\"},{\"attributes\":{\"formatter\":{\"id\":\"67a1d9b1-4c8e-41b7-a279-95b07c02c808\",\"type\":\"BasicTickFormatter\"},\"plot\":{\"id\":\"5f788eb7-83e8-4e33-8bc1-f14c043a6f9a\",\"subtype\":\"Figure\",\"type\":\"Plot\"},\"ticker\":{\"id\":\"954b6b12-d3fd-4f83-8672-f6aa3595f2d8\",\"type\":\"BasicTicker\"}},\"id\":\"f7c3fc26-8ccf-4f9b-a2d3-f7318ef02497\",\"type\":\"LinearAxis\"},{\"attributes\":{},\"id\":\"954b6b12-d3fd-4f83-8672-f6aa3595f2d8\",\"type\":\"BasicTicker\"},{\"attributes\":{\"formatter\":{\"id\":\"c046227a-03ee-4d19-a017-38344dd8cd45\",\"type\":\"BasicTickFormatter\"},\"plot\":{\"id\":\"5f788eb7-83e8-4e33-8bc1-f14c043a6f9a\",\"subtype\":\"Figure\",\"type\":\"Plot\"},\"ticker\":{\"id\":\"1e02016d-4779-4899-86a1-e0033f3ea22f\",\"type\":\"BasicTicker\"}},\"id\":\"5e1244f3-3d6a-4d52-885d-596a31f7c2b5\",\"type\":\"LinearAxis\"},{\"attributes\":{},\"id\":\"1e02016d-4779-4899-86a1-e0033f3ea22f\",\"type\":\"BasicTicker\"},{\"attributes\":{\"dimension\":1,\"plot\":{\"id\":\"5f788eb7-83e8-4e33-8bc1-f14c043a6f9a\",\"subtype\":\"Figure\",\"type\":\"Plot\"},\"ticker\":{\"id\":\"1e02016d-4779-4899-86a1-e0033f3ea22f\",\"type\":\"BasicTicker\"}},\"id\":\"9b35bc1f-b904-4dac-80a0-836a4a34d412\",\"type\":\"Grid\"},{\"attributes\":{\"fill_alpha\":{\"value\":0.1},\"fill_color\":{\"value\":\"#1f77b4\"},\"line_alpha\":{\"value\":0.1},\"line_color\":{\"value\":\"#1f77b4\"},\"size\":{\"field\":\"cyl\",\"units\":\"screen\"},\"x\":{\"field\":\"mpg\"},\"y\":{\"field\":\"displ\"}},\"id\":\"2243b200-2919-4e0f-a0df-eedb39d74a76\",\"type\":\"Circle\"},{\"attributes\":{\"children\":[{\"id\":\"55ad56a0-50cf-4185-b1a4-8004e8a78d8a\",\"type\":\"Row\"}]},\"id\":\"7b81c684-b2b8-4849-85dc-a4bd98122a67\",\"type\":\"Column\"},{\"attributes\":{},\"id\":\"232774ec-b84a-4b89-ab78-008170917b34\",\"type\":\"PanTool\"},{\"attributes\":{\"dimension\":1,\"plot\":{\"id\":\"bad09237-40a7-4e7d-8724-2d3bf0af772f\",\"subtype\":\"Figure\",\"type\":\"Plot\"},\"ticker\":{\"id\":\"96c878a1-29f7-487f-84c5-bc35fc30467a\",\"type\":\"BasicTicker\"}},\"id\":\"69d88dc0-35be-4d6f-8570-361c602e4401\",\"type\":\"Grid\"},{\"attributes\":{},\"id\":\"67a1d9b1-4c8e-41b7-a279-95b07c02c808\",\"type\":\"BasicTickFormatter\"},{\"attributes\":{},\"id\":\"ef4cd7be-4e56-4cc2-ba05-328a1a69cf20\",\"type\":\"WheelZoomTool\"},{\"attributes\":{\"overlay\":{\"id\":\"1a7b5000-7944-4c10-9ea4-01e17127a91d\",\"type\":\"BoxAnnotation\"}},\"id\":\"6753fa8e-a585-480f-af90-b42733986853\",\"type\":\"BoxZoomTool\"},{\"attributes\":{\"below\":[{\"id\":\"5fc90470-7b25-4c77-887d-2c85c49840be\",\"type\":\"LinearAxis\"}],\"left\":[{\"id\":\"056ca4b9-3886-47fe-afa5-1613a5b1d5ab\",\"type\":\"LinearAxis\"}],\"plot_height\":300,\"plot_width\":300,\"renderers\":[{\"id\":\"5fc90470-7b25-4c77-887d-2c85c49840be\",\"type\":\"LinearAxis\"},{\"id\":\"01c282e2-b2cb-44bc-94c4-75b11de7488d\",\"type\":\"Grid\"},{\"id\":\"056ca4b9-3886-47fe-afa5-1613a5b1d5ab\",\"type\":\"LinearAxis\"},{\"id\":\"69d88dc0-35be-4d6f-8570-361c602e4401\",\"type\":\"Grid\"},{\"id\":\"d3296016-0197-4293-a800-4cd599e092ff\",\"type\":\"BoxAnnotation\"},{\"id\":\"8fb9d401-9f9f-48d2-a0d3-56c15e427ea8\",\"type\":\"BoxAnnotation\"},{\"id\":\"92befeeb-186a-40b8-89d1-bf8043a914d1\",\"type\":\"PolyAnnotation\"},{\"id\":\"96c3e857-1c21-421f-807b-0853a658453b\",\"type\":\"GlyphRenderer\"}],\"title\":{\"id\":\"4bdd144c-7d9d-49ba-987f-c0d136e2318e\",\"type\":\"Title\"},\"toolbar\":{\"id\":\"97faa864-01c0-4c52-a7f3-2300f829eeb8\",\"type\":\"Toolbar\"},\"toolbar_location\":null,\"x_range\":{\"id\":\"1b84a9d4-0e84-4c26-b190-48616e4f24d1\",\"type\":\"DataRange1d\"},\"x_scale\":{\"id\":\"ff51dbe0-dd09-472f-9a2f-f2695e85b3f0\",\"type\":\"LinearScale\"},\"y_range\":{\"id\":\"0612d0b2-3d45-4782-8585-bb7c38d55a3a\",\"type\":\"DataRange1d\"},\"y_scale\":{\"id\":\"a24bbcfc-1051-40f5-be96-819af49d8592\",\"type\":\"LinearScale\"}},\"id\":\"bad09237-40a7-4e7d-8724-2d3bf0af772f\",\"subtype\":\"Figure\",\"type\":\"Plot\"},{\"attributes\":{\"callback\":null,\"overlay\":{\"id\":\"30a57f66-86c7-4bf1-bc5b-1f674dcd1aef\",\"type\":\"BoxAnnotation\"},\"renderers\":[{\"id\":\"2ad0abc4-a9b3-43e7-a9b3-c565b0e732c9\",\"type\":\"GlyphRenderer\"}]},\"id\":\"9f4595bc-eba9-4221-991f-b3296167ccaa\",\"type\":\"BoxSelectTool\"},{\"attributes\":{\"callback\":null,\"overlay\":{\"id\":\"ac780495-3560-4402-9e29-6b346e6edb7a\",\"type\":\"PolyAnnotation\"}},\"id\":\"bc133a1d-a592-4953-928e-5c8ad070ebf7\",\"type\":\"LassoSelectTool\"}],\"root_ids\":[\"b0a7a04e-6dfb-4271-9505-8ef97153423e\"]},\"title\":\"Bokeh Application\",\"version\":\"0.12.8\"}};\n",
       "    var render_items = [{\"docid\":\"ec3b7268-598f-41ea-866a-7f78fec7bd86\",\"elementid\":\"dd3f7a7c-499f-4fd7-92af-550391ddcd96\",\"modelid\":\"b0a7a04e-6dfb-4271-9505-8ef97153423e\"}];\n",
       "\n",
       "    root.Bokeh.embed.embed_items(docs_json, render_items);\n",
       "  }\n",
       "\n",
       "  if (root.Bokeh !== undefined) {\n",
       "    embed_document(root);\n",
       "  } else {\n",
       "    var attempts = 0;\n",
       "    var timer = setInterval(function(root) {\n",
       "      if (root.Bokeh !== undefined) {\n",
       "        embed_document(root);\n",
       "        clearInterval(timer);\n",
       "      }\n",
       "      attempts++;\n",
       "      if (attempts > 100) {\n",
       "        console.log(\"Bokeh: ERROR: Unable to embed document because BokehJS library is missing\")\n",
       "        clearInterval(timer);\n",
       "      }\n",
       "    }, 10, root)\n",
       "  }\n",
       "})(window);"
      ],
      "application/vnd.bokehjs_exec.v0+json": ""
     },
     "metadata": {
      "application/vnd.bokehjs_exec.v0+json": {
       "id": "b0a7a04e-6dfb-4271-9505-8ef97153423e"
      }
     },
     "output_type": "display_data"
    }
   ],
   "source": [
    "from bokeh.models import ColumnDataSource\n",
    "from bokeh.layouts import gridplot\n",
    "\n",
    "source = ColumnDataSource(autompg)\n",
    "\n",
    "options = dict(plot_width=300, plot_height=300,\n",
    "               tools=\"pan,wheel_zoom,box_zoom,box_select,lasso_select\")\n",
    "\n",
    "p1 = figure(title=\"MPG by Year\", **options)\n",
    "p1.circle(\"yr\", \"mpg\", color=\"blue\", source=source)\n",
    "\n",
    "p2 = figure(title=\"HP vs. Displacement\", **options)\n",
    "p2.circle(\"hp\", \"displ\", color=\"green\", source=source)\n",
    "\n",
    "p3 = figure(title=\"MPG vs. Displacement\", **options)\n",
    "p3.circle(\"mpg\", \"displ\", size=\"cyl\", line_color=\"red\", fill_color=None, source=source)\n",
    "\n",
    "p = gridplot([[ p1, p2, p3]], toolbar_location=\"right\")\n",
    "\n",
    "show(p)"
   ]
  },
  {
   "cell_type": "markdown",
   "metadata": {},
   "source": [
    "You can read more about the `ColumnDataSource` and other Bokeh data structures in [Providing Data for Plots and Tables](https://bokeh.pydata.org/en/latest/docs/user_guide/data.html)"
   ]
  },
  {
   "cell_type": "markdown",
   "metadata": {},
   "source": [
    "## Standalone HTML\n",
    "\n",
    "In addition to working well with the Notebook, Bokeh can also save plots out into their own HTML files.  Here is the bar plot example from above, but saving into its own standalone file.\n",
    "\n",
    "Now when we call `show()`, a new browser tab is also opened with the plot. If we just wanted to save the file, we would use `save()` instead."
   ]
  },
  {
   "cell_type": "code",
   "execution_count": 8,
   "metadata": {},
   "outputs": [
    {
     "data": {
      "text/html": [
       "\n",
       "<div class=\"bk-root\">\n",
       "    <div class=\"bk-plotdiv\" id=\"27f9c9b1-06ad-4b0b-a3d2-b510cfddbf2c\"></div>\n",
       "</div>"
      ]
     },
     "metadata": {},
     "output_type": "display_data"
    },
    {
     "data": {
      "application/javascript": [
       "(function(root) {\n",
       "  function embed_document(root) {\n",
       "    var docs_json = {\"c2c8de86-f52a-4c03-8190-4b577f3db70e\":{\"roots\":{\"references\":[{\"attributes\":{\"label\":{\"value\":\"MPG 1 stddev\"},\"renderers\":[{\"id\":\"89d2768e-952c-4786-bc5e-4f19bbf84da1\",\"type\":\"GlyphRenderer\"}]},\"id\":\"8fdcb74f-105c-474e-b958-cb478ecdeb96\",\"type\":\"LegendItem\"},{\"attributes\":{},\"id\":\"e6d9fac7-6748-440f-9203-df8ac9615489\",\"type\":\"HelpTool\"},{\"attributes\":{\"plot\":null,\"text\":\"MPG by Year (Japan and US)\"},\"id\":\"9e31b392-1448-44c1-bfdc-2a12b1c41c00\",\"type\":\"Title\"},{\"attributes\":{},\"id\":\"c95174e3-e94d-4fb3-8986-92d0c85ff4a9\",\"type\":\"ResetTool\"},{\"attributes\":{\"overlay\":{\"id\":\"2e24a13b-52b1-4141-ad6a-eab1d3bd2112\",\"type\":\"BoxAnnotation\"}},\"id\":\"f81682ea-e671-41b4-84b5-5cca6a767ccf\",\"type\":\"BoxZoomTool\"},{\"attributes\":{},\"id\":\"8a14412a-24d2-4031-910d-1e2ebfa19da7\",\"type\":\"WheelZoomTool\"},{\"attributes\":{\"bottom\":{\"field\":\"bottom\"},\"fill_alpha\":{\"value\":0.1},\"fill_color\":{\"value\":\"#1f77b4\"},\"line_alpha\":{\"value\":0.1},\"line_color\":{\"value\":\"#1f77b4\"},\"top\":{\"field\":\"top\"},\"width\":{\"value\":0.8},\"x\":{\"field\":\"x\"}},\"id\":\"d9775246-7796-4eff-91e8-2b3fa14cb5ac\",\"type\":\"VBar\"},{\"attributes\":{},\"id\":\"6ed43943-4ce0-4bec-8159-fb07cc3382f8\",\"type\":\"PanTool\"},{\"attributes\":{\"label\":{\"value\":\"Japanese\"},\"renderers\":[{\"id\":\"1fc37ec4-54ec-4578-9237-aa80b7602843\",\"type\":\"GlyphRenderer\"}]},\"id\":\"e85ca1b1-70a4-4163-a1e3-664347efffeb\",\"type\":\"LegendItem\"},{\"attributes\":{},\"id\":\"15651d33-eb76-4276-8efc-ae67041089cb\",\"type\":\"BasicTickFormatter\"},{\"attributes\":{},\"id\":\"a1e45456-075a-476c-b592-9fc9cc45e5ed\",\"type\":\"BasicTickFormatter\"},{\"attributes\":{\"callback\":null,\"column_names\":[\"x\",\"y\"],\"data\":{\"x\":[70,70,70,70,70,70,70,70,70,70,70,70,70,70,70,70,70,70,70,70,70,70,71,71,71,71,71,71,71,71,71,71,71,71,71,71,71,71,71,71,71,72,72,72,72,72,72,72,72,72,72,72,72,72,72,72,72,72,72,73,73,73,73,73,73,73,73,73,73,73,73,73,73,73,73,73,73,73,73,73,73,73,73,73,73,73,73,73,74,74,74,74,74,74,74,74,74,74,74,74,74,74,75,75,75,75,75,75,75,75,75,75,75,75,75,75,75,75,75,75,75,75,76,76,76,76,76,76,76,76,76,76,76,76,76,76,76,76,76,76,76,76,76,76,77,77,77,77,77,77,77,77,77,77,77,77,77,77,77,77,77,77,78,78,78,78,78,78,78,78,78,78,78,78,78,78,78,78,78,78,78,78,78,78,79,79,79,79,79,79,79,79,79,79,79,79,79,79,79,79,79,79,79,79,79,79,79,80,80,80,80,80,80,81,81,81,81,81,81,81,81,81,81,81,81,81,82,82,82,82,82,82,82,82,82,82,82,82,82,82,82,82,82,82,82],\"y\":{\"__ndarray__\":\"AAAAAAAAMkAAAAAAAAAuQAAAAAAAADJAAAAAAAAAMEAAAAAAAAAxQAAAAAAAAC5AAAAAAAAALEAAAAAAAAAsQAAAAAAAACxAAAAAAAAALkAAAAAAAAAuQAAAAAAAACxAAAAAAAAALkAAAAAAAAAsQAAAAAAAADZAAAAAAAAAMkAAAAAAAAA1QAAAAAAAADVAAAAAAAAAJEAAAAAAAAAkQAAAAAAAACZAAAAAAAAAIkAAAAAAAAA8QAAAAAAAADNAAAAAAAAAMEAAAAAAAAAxQAAAAAAAADNAAAAAAAAAMkAAAAAAAAAsQAAAAAAAACxAAAAAAAAALEAAAAAAAAAsQAAAAAAAAChAAAAAAAAAKkAAAAAAAAAqQAAAAAAAADJAAAAAAAAANkAAAAAAAAAzQAAAAAAAADJAAAAAAAAAN0AAAAAAAAA6QAAAAAAAADlAAAAAAAAANEAAAAAAAAA1QAAAAAAAACpAAAAAAAAALEAAAAAAAAAuQAAAAAAAACxAAAAAAAAAMUAAAAAAAAAmQAAAAAAAACpAAAAAAAAAKEAAAAAAAAAqQAAAAAAAAC5AAAAAAAAAKkAAAAAAAAAqQAAAAAAAACxAAAAAAAAANkAAAAAAAAA8QAAAAAAAACpAAAAAAAAALEAAAAAAAAAqQAAAAAAAACxAAAAAAAAALkAAAAAAAAAoQAAAAAAAACpAAAAAAAAAKkAAAAAAAAAsQAAAAAAAACpAAAAAAAAAKEAAAAAAAAAqQAAAAAAAADJAAAAAAAAAMEAAAAAAAAAyQAAAAAAAADJAAAAAAAAAN0AAAAAAAAAmQAAAAAAAAChAAAAAAAAAKkAAAAAAAAAoQAAAAAAAADJAAAAAAAAANUAAAAAAAAAzQAAAAAAAADVAAAAAAAAALkAAAAAAAAAwQAAAAAAAAC5AAAAAAAAAJkAAAAAAAAA0QAAAAAAAADNAAAAAAAAALkAAAAAAAAA6QAAAAAAAADlAAAAAAAAAMEAAAAAAAAAwQAAAAAAAADJAAAAAAAAAMEAAAAAAAAAqQAAAAAAAACxAAAAAAAAALEAAAAAAAAAsQAAAAAAAADxAAAAAAAAAM0AAAAAAAAAyQAAAAAAAAC5AAAAAAAAALkAAAAAAAAAwQAAAAAAAAC5AAAAAAAAAMEAAAAAAAAAsQAAAAAAAADFAAAAAAAAAMEAAAAAAAAAuQAAAAAAAADJAAAAAAAAANUAAAAAAAAA0QAAAAAAAACpAAAAAAAAAN0AAAAAAAAA0QAAAAAAAADdAAAAAAAAAMkAAAAAAAAAzQAAAAAAAADlAAAAAAAAAOkAAAAAAAIAxQAAAAAAAADBAAAAAAAAAL0AAAAAAAAAtQAAAAAAAADZAAAAAAAAANkAAAAAAAAA4QAAAAAAAgDZAAAAAAAAAPUAAAAAAAIA4QAAAAAAAADRAAAAAAAAAMkAAAAAAAIAyQAAAAAAAgDFAAAAAAACAOkAAAAAAAAAqQAAAAAAAgDBAAAAAAAAAKkAAAAAAAAAqQAAAAAAAACpAAAAAAAAAPkAAAAAAAIA5QAAAAAAAgDFAAAAAAAAAMUAAAAAAAAAvQAAAAAAAAC5AAAAAAACAMUAAAAAAAIA0QAAAAAAAADNAAAAAAACAMkAAAAAAAAAwQAAAAAAAAC9AAAAAAAAAL0AAAAAAAAAwQAAAAAAAgDhAAAAAAACAOUAAAAAAAIA+QAAAAAAAwEBAzczMzMwMQkBmZmZmZuYzQGZmZmZmZjNAMzMzMzMzNEAzMzMzMzMzQAAAAAAAgDRAMzMzMzMzNECamZmZmRk5QAAAAAAAgDRAZmZmZmZmM0CamZmZmZk0QM3MzMzMzDRAmpmZmZmZMkCamZmZmRkyQDMzMzMzMzNAMzMzMzOzMUCamZmZmRkyQAAAAAAAgDFAAAAAAAAAPkBmZmZmZuY+QDMzMzMzMzdAzczMzMzMN0AAAAAAAIA1QM3MzMzMzDNAzczMzMxMNkAzMzMzMzM0QJqZmZmZmTRAAAAAAAAAMUCamZmZmZkxQAAAAAAAgDBAMzMzMzMzMkBmZmZmZuYwQAAAAAAAAC9AMzMzMzMzM0AAAAAAAIAyQJqZmZmZ2UFAZmZmZmZmO0AAAAAAAAA3QGZmZmZm5jdAmpmZmZkZQUAAAAAAAEBBQGZmZmZmZjxAzczMzMzMPEDNzMzMzMw6QAAAAAAAwEBAzczMzMwMQEAAAAAAAAA8QGZmZmZmZjpAzczMzMxMOECamZmZmRkzQGZmZmZm5jtAMzMzMzMzO0CamZmZmZk6QM3MzMzMzDlAAAAAAACAN0AAAAAAAAA+QAAAAAAAgENAmpmZmZlZQUAzMzMzMzNBQGZmZmZm5j1AZmZmZmZmNkCamZmZmZk6QDMzMzMzMzRAmpmZmZmZMUAAAAAAAAA8QAAAAAAAADtAAAAAAAAAQUAAAAAAAAA/QAAAAAAAAD1AAAAAAAAAO0AAAAAAAAA4QAAAAAAAAENAAAAAAAAAQkAAAAAAAAA5QAAAAAAAAENAAAAAAAAAOkAAAAAAAAA2QAAAAAAAAEJAAAAAAAAAO0AAAAAAAAA7QAAAAAAAAEBAAAAAAAAAPEAAAAAAAAA/QA==\",\"dtype\":\"float64\",\"shape\":[245]}}},\"id\":\"200d9ed6-718b-4925-bbfd-49eb419d2505\",\"type\":\"ColumnDataSource\"},{\"attributes\":{\"callback\":null},\"id\":\"eacc226a-5af7-4ce1-96f4-d424b954c77a\",\"type\":\"DataRange1d\"},{\"attributes\":{\"data_source\":{\"id\":\"30ebde1c-0030-4cf2-9fcf-3b986ba2fd9e\",\"type\":\"ColumnDataSource\"},\"glyph\":{\"id\":\"708bf247-0b6a-48af-b727-dbc18de80ff8\",\"type\":\"Circle\"},\"hover_glyph\":null,\"muted_glyph\":null,\"nonselection_glyph\":{\"id\":\"d1d523d5-c1c7-48b5-a23f-0337600e3e17\",\"type\":\"Circle\"},\"selection_glyph\":null,\"view\":{\"id\":\"f654f628-173b-4c08-b47a-0990290e581a\",\"type\":\"CDSView\"}},\"id\":\"1fc37ec4-54ec-4578-9237-aa80b7602843\",\"type\":\"GlyphRenderer\"},{\"attributes\":{\"callback\":null,\"column_names\":[\"x\",\"y\"],\"data\":{\"x\":[70,70,71,71,71,71,72,72,72,72,72,73,73,73,73,74,74,74,74,74,74,75,75,75,75,76,76,76,76,77,77,77,77,77,77,78,78,78,78,78,78,78,78,79,79,80,80,80,80,80,80,80,80,80,80,80,80,80,81,81,81,81,81,81,81,81,81,81,81,81,82,82,82,82,82,82,82,82,82],\"y\":{\"__ndarray__\":\"AAAAAAAAOEAAAAAAAAA7QAAAAAAAADtAAAAAAAAAOUAAAAAAAAA/QAAAAAAAgEFAAAAAAAAAOEAAAAAAAAAzQAAAAAAAADxAAAAAAAAAN0AAAAAAAAA7QAAAAAAAADRAAAAAAAAANkAAAAAAAAAyQAAAAAAAADRAAAAAAAAAP0AAAAAAAABAQAAAAAAAAD9AAAAAAAAAQEAAAAAAAAA4QAAAAAAAADpAAAAAAAAAPUAAAAAAAAA4QAAAAAAAADhAAAAAAACAQEAAAAAAAIBAQAAAAAAAAEBAAAAAAAAAPEAAAAAAAAAzQAAAAAAAgD9AAAAAAADAQEAAAAAAAAA6QAAAAAAAAD5AAAAAAAAANkAAAAAAAIA1QGZmZmZmZkBAMzMzMzOzQ0DNzMzMzAxCQAAAAAAAgDtAMzMzMzMzO0CamZmZmRk1QGZmZmZm5jdAAAAAAACAPUDNzMzMzAxBQM3MzMzMzD9AzczMzMwMQ0CamZmZmZlCQM3MzMzMzD1AzczMzMxMP0AAAAAAAIBCQJqZmZmZGUBAzczMzMxMR0BmZmZmZmZEQM3MzMzMTEZAZmZmZmbmQECamZmZmVlAQDMzMzMzszdAMzMzMzMzQEDNzMzMzIxDQM3MzMzMjEFAZmZmZmYmQEAAAAAAAIBCQJqZmZmZ2UJAzczMzMwMQUCamZmZmdlAQDMzMzMzM0BAMzMzMzNzQECamZmZmZk/QGZmZmZmZjlAMzMzMzMzOEAAAAAAAIBCQAAAAAAAAD9AAAAAAAAAQkAAAAAAAABCQAAAAAAAAEFAAAAAAAAAQ0AAAAAAAABAQAAAAAAAAENAAAAAAAAAQEA=\",\"dtype\":\"float64\",\"shape\":[79]}}},\"id\":\"30ebde1c-0030-4cf2-9fcf-3b986ba2fd9e\",\"type\":\"ColumnDataSource\"},{\"attributes\":{\"fill_alpha\":{\"value\":0.3},\"fill_color\":{\"value\":\"blue\"},\"line_alpha\":{\"value\":0.3},\"line_color\":{\"value\":\"blue\"},\"size\":{\"units\":\"screen\",\"value\":10},\"x\":{\"field\":\"x\"},\"y\":{\"field\":\"y\"}},\"id\":\"3d1781ac-9926-4b2b-ac40-3d08af1a1ef7\",\"type\":\"Triangle\"},{\"attributes\":{\"fill_alpha\":{\"value\":0.1},\"fill_color\":{\"value\":\"#1f77b4\"},\"line_alpha\":{\"value\":0.1},\"line_color\":{\"value\":\"#1f77b4\"},\"size\":{\"units\":\"screen\",\"value\":10},\"x\":{\"field\":\"x\"},\"y\":{\"field\":\"y\"}},\"id\":\"d1d523d5-c1c7-48b5-a23f-0337600e3e17\",\"type\":\"Circle\"},{\"attributes\":{\"bottom_units\":\"screen\",\"fill_alpha\":{\"value\":0.5},\"fill_color\":{\"value\":\"lightgrey\"},\"left_units\":\"screen\",\"level\":\"overlay\",\"line_alpha\":{\"value\":1.0},\"line_color\":{\"value\":\"black\"},\"line_dash\":[4,4],\"line_width\":{\"value\":2},\"plot\":null,\"render_mode\":\"css\",\"right_units\":\"screen\",\"top_units\":\"screen\"},\"id\":\"2e24a13b-52b1-4141-ad6a-eab1d3bd2112\",\"type\":\"BoxAnnotation\"},{\"attributes\":{\"source\":{\"id\":\"200d9ed6-718b-4925-bbfd-49eb419d2505\",\"type\":\"ColumnDataSource\"}},\"id\":\"1c8f4dbb-e4b5-48f3-926b-e7f6b208a699\",\"type\":\"CDSView\"},{\"attributes\":{\"label\":{\"value\":\"American\"},\"renderers\":[{\"id\":\"8311b87f-904d-4671-8743-282d259249ad\",\"type\":\"GlyphRenderer\"}]},\"id\":\"0d931234-368d-4afa-8ed5-ecfaefdd3372\",\"type\":\"LegendItem\"},{\"attributes\":{\"dimension\":1,\"plot\":{\"id\":\"10714635-43e4-40e6-826c-d0db18030b22\",\"subtype\":\"Figure\",\"type\":\"Plot\"},\"ticker\":{\"id\":\"787549d3-3d63-4aed-999b-eb70e221dd90\",\"type\":\"BasicTicker\"}},\"id\":\"347a0bce-aab7-4fff-8f79-375dbb2abebb\",\"type\":\"Grid\"},{\"attributes\":{\"data_source\":{\"id\":\"200d9ed6-718b-4925-bbfd-49eb419d2505\",\"type\":\"ColumnDataSource\"},\"glyph\":{\"id\":\"3d1781ac-9926-4b2b-ac40-3d08af1a1ef7\",\"type\":\"Triangle\"},\"hover_glyph\":null,\"muted_glyph\":null,\"nonselection_glyph\":{\"id\":\"e4c0e111-8a69-47d9-ba13-ca0f6d9b7630\",\"type\":\"Triangle\"},\"selection_glyph\":null,\"view\":{\"id\":\"1c8f4dbb-e4b5-48f3-926b-e7f6b208a699\",\"type\":\"CDSView\"}},\"id\":\"8311b87f-904d-4671-8743-282d259249ad\",\"type\":\"GlyphRenderer\"},{\"attributes\":{\"callback\":null,\"column_names\":[\"x\",\"top\",\"bottom\"],\"data\":{\"bottom\":{\"__ndarray__\":\"gvFgx2qzKECcKci59t4sQJZdRzm5jipAzvVtn6zMKECki7kXNjswQIpnc6D2pi5ApAV4qVNeL0DtFQi6+rIwQBxLQL6+KTFAWBwW2YNMMkBnDzEy+Oo6QAq856zmjDhAfzfsSXnEOkA=\",\"dtype\":\"float64\",\"shape\":[13]},\"top\":{\"__ndarray__\":\"55jlF2UHN0DAzlQxaMk7QBEIyj5aJjhATTh849zMNUD6TNCFok49QMPUTjgNNTlA1KLp0Ht2O0AT6vdFBQ0+QNr+XjaL9T5AVt48aCfjP0AojYptQ1hEQPSsO6IX6UFAQOQJW8OdQkA=\",\"dtype\":\"float64\",\"shape\":[13]},\"x\":[70,71,72,73,74,75,76,77,78,79,80,81,82]}},\"id\":\"4221aa14-a0cd-4af2-8f49-0e5d03147dc3\",\"type\":\"ColumnDataSource\"},{\"attributes\":{\"bottom\":{\"field\":\"bottom\"},\"fill_alpha\":{\"value\":0.2},\"fill_color\":{\"value\":\"#1f77b4\"},\"line_color\":{\"value\":null},\"top\":{\"field\":\"top\"},\"width\":{\"value\":0.8},\"x\":{\"field\":\"x\"}},\"id\":\"daa8665d-6625-491e-a0d0-7eddee8b7014\",\"type\":\"VBar\"},{\"attributes\":{\"source\":{\"id\":\"30ebde1c-0030-4cf2-9fcf-3b986ba2fd9e\",\"type\":\"ColumnDataSource\"}},\"id\":\"f654f628-173b-4c08-b47a-0990290e581a\",\"type\":\"CDSView\"},{\"attributes\":{\"items\":[{\"id\":\"8fdcb74f-105c-474e-b958-cb478ecdeb96\",\"type\":\"LegendItem\"},{\"id\":\"e85ca1b1-70a4-4163-a1e3-664347efffeb\",\"type\":\"LegendItem\"},{\"id\":\"0d931234-368d-4afa-8ed5-ecfaefdd3372\",\"type\":\"LegendItem\"}],\"location\":\"top_left\",\"plot\":{\"id\":\"10714635-43e4-40e6-826c-d0db18030b22\",\"subtype\":\"Figure\",\"type\":\"Plot\"}},\"id\":\"921ca59e-bedd-4437-aac3-be45ce0929e2\",\"type\":\"Legend\"},{\"attributes\":{},\"id\":\"370f53b7-c7dd-4e1b-9f99-3a9105be0352\",\"type\":\"BasicTicker\"},{\"attributes\":{\"fill_alpha\":{\"value\":0.1},\"fill_color\":{\"value\":\"#1f77b4\"},\"line_alpha\":{\"value\":0.1},\"line_color\":{\"value\":\"#1f77b4\"},\"size\":{\"units\":\"screen\",\"value\":10},\"x\":{\"field\":\"x\"},\"y\":{\"field\":\"y\"}},\"id\":\"e4c0e111-8a69-47d9-ba13-ca0f6d9b7630\",\"type\":\"Triangle\"},{\"attributes\":{},\"id\":\"787549d3-3d63-4aed-999b-eb70e221dd90\",\"type\":\"BasicTicker\"},{\"attributes\":{\"formatter\":{\"id\":\"a1e45456-075a-476c-b592-9fc9cc45e5ed\",\"type\":\"BasicTickFormatter\"},\"plot\":{\"id\":\"10714635-43e4-40e6-826c-d0db18030b22\",\"subtype\":\"Figure\",\"type\":\"Plot\"},\"ticker\":{\"id\":\"787549d3-3d63-4aed-999b-eb70e221dd90\",\"type\":\"BasicTicker\"}},\"id\":\"83d0815c-46da-419f-9007-3ab68e226530\",\"type\":\"LinearAxis\"},{\"attributes\":{\"formatter\":{\"id\":\"15651d33-eb76-4276-8efc-ae67041089cb\",\"type\":\"BasicTickFormatter\"},\"plot\":{\"id\":\"10714635-43e4-40e6-826c-d0db18030b22\",\"subtype\":\"Figure\",\"type\":\"Plot\"},\"ticker\":{\"id\":\"370f53b7-c7dd-4e1b-9f99-3a9105be0352\",\"type\":\"BasicTicker\"}},\"id\":\"e28ec592-fbb8-4f4d-8e3d-7997b1f0ea14\",\"type\":\"LinearAxis\"},{\"attributes\":{\"fill_alpha\":{\"value\":0.3},\"fill_color\":{\"value\":\"red\"},\"line_alpha\":{\"value\":0.3},\"line_color\":{\"value\":\"red\"},\"size\":{\"units\":\"screen\",\"value\":10},\"x\":{\"field\":\"x\"},\"y\":{\"field\":\"y\"}},\"id\":\"708bf247-0b6a-48af-b727-dbc18de80ff8\",\"type\":\"Circle\"},{\"attributes\":{\"plot\":{\"id\":\"10714635-43e4-40e6-826c-d0db18030b22\",\"subtype\":\"Figure\",\"type\":\"Plot\"},\"ticker\":{\"id\":\"370f53b7-c7dd-4e1b-9f99-3a9105be0352\",\"type\":\"BasicTicker\"}},\"id\":\"bbdd6087-ecf8-4a50-a30b-59a997da9b51\",\"type\":\"Grid\"},{\"attributes\":{},\"id\":\"3b8f4d9f-11b4-430e-b919-c469862e4b2a\",\"type\":\"LinearScale\"},{\"attributes\":{\"active_drag\":\"auto\",\"active_inspect\":\"auto\",\"active_scroll\":\"auto\",\"active_tap\":\"auto\",\"tools\":[{\"id\":\"6ed43943-4ce0-4bec-8159-fb07cc3382f8\",\"type\":\"PanTool\"},{\"id\":\"8a14412a-24d2-4031-910d-1e2ebfa19da7\",\"type\":\"WheelZoomTool\"},{\"id\":\"f81682ea-e671-41b4-84b5-5cca6a767ccf\",\"type\":\"BoxZoomTool\"},{\"id\":\"4f0bb048-fb95-4b49-b51a-500404d52dbc\",\"type\":\"SaveTool\"},{\"id\":\"c95174e3-e94d-4fb3-8986-92d0c85ff4a9\",\"type\":\"ResetTool\"},{\"id\":\"e6d9fac7-6748-440f-9203-df8ac9615489\",\"type\":\"HelpTool\"}]},\"id\":\"b8382a4f-2a53-4232-8c77-da65fd89fd41\",\"type\":\"Toolbar\"},{\"attributes\":{\"callback\":null},\"id\":\"e44dc887-f67d-4f2d-880a-e7eee008137c\",\"type\":\"DataRange1d\"},{\"attributes\":{},\"id\":\"92a45aac-c85b-4150-a9ff-68cc37d9a21d\",\"type\":\"LinearScale\"},{\"attributes\":{\"source\":{\"id\":\"4221aa14-a0cd-4af2-8f49-0e5d03147dc3\",\"type\":\"ColumnDataSource\"}},\"id\":\"9ab60c66-de10-41e2-8cd8-ca9f1fd9968b\",\"type\":\"CDSView\"},{\"attributes\":{\"below\":[{\"id\":\"e28ec592-fbb8-4f4d-8e3d-7997b1f0ea14\",\"type\":\"LinearAxis\"}],\"left\":[{\"id\":\"83d0815c-46da-419f-9007-3ab68e226530\",\"type\":\"LinearAxis\"}],\"renderers\":[{\"id\":\"e28ec592-fbb8-4f4d-8e3d-7997b1f0ea14\",\"type\":\"LinearAxis\"},{\"id\":\"bbdd6087-ecf8-4a50-a30b-59a997da9b51\",\"type\":\"Grid\"},{\"id\":\"83d0815c-46da-419f-9007-3ab68e226530\",\"type\":\"LinearAxis\"},{\"id\":\"347a0bce-aab7-4fff-8f79-375dbb2abebb\",\"type\":\"Grid\"},{\"id\":\"2e24a13b-52b1-4141-ad6a-eab1d3bd2112\",\"type\":\"BoxAnnotation\"},{\"id\":\"921ca59e-bedd-4437-aac3-be45ce0929e2\",\"type\":\"Legend\"},{\"id\":\"89d2768e-952c-4786-bc5e-4f19bbf84da1\",\"type\":\"GlyphRenderer\"},{\"id\":\"1fc37ec4-54ec-4578-9237-aa80b7602843\",\"type\":\"GlyphRenderer\"},{\"id\":\"8311b87f-904d-4671-8743-282d259249ad\",\"type\":\"GlyphRenderer\"}],\"title\":{\"id\":\"9e31b392-1448-44c1-bfdc-2a12b1c41c00\",\"type\":\"Title\"},\"toolbar\":{\"id\":\"b8382a4f-2a53-4232-8c77-da65fd89fd41\",\"type\":\"Toolbar\"},\"x_range\":{\"id\":\"e44dc887-f67d-4f2d-880a-e7eee008137c\",\"type\":\"DataRange1d\"},\"x_scale\":{\"id\":\"92a45aac-c85b-4150-a9ff-68cc37d9a21d\",\"type\":\"LinearScale\"},\"y_range\":{\"id\":\"eacc226a-5af7-4ce1-96f4-d424b954c77a\",\"type\":\"DataRange1d\"},\"y_scale\":{\"id\":\"3b8f4d9f-11b4-430e-b919-c469862e4b2a\",\"type\":\"LinearScale\"}},\"id\":\"10714635-43e4-40e6-826c-d0db18030b22\",\"subtype\":\"Figure\",\"type\":\"Plot\"},{\"attributes\":{},\"id\":\"4f0bb048-fb95-4b49-b51a-500404d52dbc\",\"type\":\"SaveTool\"},{\"attributes\":{\"data_source\":{\"id\":\"4221aa14-a0cd-4af2-8f49-0e5d03147dc3\",\"type\":\"ColumnDataSource\"},\"glyph\":{\"id\":\"daa8665d-6625-491e-a0d0-7eddee8b7014\",\"type\":\"VBar\"},\"hover_glyph\":null,\"muted_glyph\":null,\"nonselection_glyph\":{\"id\":\"d9775246-7796-4eff-91e8-2b3fa14cb5ac\",\"type\":\"VBar\"},\"selection_glyph\":null,\"view\":{\"id\":\"9ab60c66-de10-41e2-8cd8-ca9f1fd9968b\",\"type\":\"CDSView\"}},\"id\":\"89d2768e-952c-4786-bc5e-4f19bbf84da1\",\"type\":\"GlyphRenderer\"}],\"root_ids\":[\"10714635-43e4-40e6-826c-d0db18030b22\"]},\"title\":\"Bokeh Application\",\"version\":\"0.12.8\"}};\n",
       "    var render_items = [{\"docid\":\"c2c8de86-f52a-4c03-8190-4b577f3db70e\",\"elementid\":\"27f9c9b1-06ad-4b0b-a3d2-b510cfddbf2c\",\"modelid\":\"10714635-43e4-40e6-826c-d0db18030b22\"}];\n",
       "\n",
       "    root.Bokeh.embed.embed_items(docs_json, render_items);\n",
       "  }\n",
       "\n",
       "  if (root.Bokeh !== undefined) {\n",
       "    embed_document(root);\n",
       "  } else {\n",
       "    var attempts = 0;\n",
       "    var timer = setInterval(function(root) {\n",
       "      if (root.Bokeh !== undefined) {\n",
       "        embed_document(root);\n",
       "        clearInterval(timer);\n",
       "      }\n",
       "      attempts++;\n",
       "      if (attempts > 100) {\n",
       "        console.log(\"Bokeh: ERROR: Unable to embed document because BokehJS library is missing\")\n",
       "        clearInterval(timer);\n",
       "      }\n",
       "    }, 10, root)\n",
       "  }\n",
       "})(window);"
      ],
      "application/vnd.bokehjs_exec.v0+json": ""
     },
     "metadata": {
      "application/vnd.bokehjs_exec.v0+json": {
       "id": "10714635-43e4-40e6-826c-d0db18030b22"
      }
     },
     "output_type": "display_data"
    }
   ],
   "source": [
    "from bokeh.plotting import output_file\n",
    "\n",
    "output_file(\"barplot.html\")\n",
    "\n",
    "p = figure(title=\"MPG by Year (Japan and US)\")\n",
    "\n",
    "p.vbar(x=years, bottom=avg-std, top=avg+std, width=0.8, \n",
    "       fill_alpha=0.2, line_color=None, legend=\"MPG 1 stddev\")\n",
    "\n",
    "p.circle(x=japanese[\"yr\"], y=japanese[\"mpg\"], size=10, alpha=0.3,\n",
    "         color=\"red\", legend=\"Japanese\")\n",
    "\n",
    "p.triangle(x=american[\"yr\"], y=american[\"mpg\"], size=10, alpha=0.3,\n",
    "           color=\"blue\", legend=\"American\")\n",
    "\n",
    "p.legend.location = \"top_left\"\n",
    "show(p)"
   ]
  },
  {
   "cell_type": "markdown",
   "metadata": {},
   "source": [
    "## Bokeh Applications\n",
    "\n",
    "Bokeh also has a server component that can be used to build interactive web applications that eqsily connect the powerful constellation of PyData tools to sophisticated Bokeh visualizations. The Bokeh server can be used to:\n",
    "\n",
    "* respond to UI and tool events generated in a browser with computations or queries using the full power of python\n",
    "* automatically push server-side updates to the UI (i.e. widgets or plots in a browser)\n",
    "* use periodic, timeout, and asynchronous callbacks to drive streaming updates\n",
    "\n",
    "Click on any of the thumbnails below to launch a live Bokeh applications.\n",
    "\n",
    "<center>\n",
    "<a href=\"https://demo.bokehplots.com/apps/crossfilter\">\n",
    "  <img \n",
    "    width=\"30%\" height=\"30%\" style=\"display: inline ; padding: 10px;\" \n",
    "    src=\"https://bokeh.pydata.org/static/crossfilter_t.png\"\n",
    "  >\n",
    "</a>\n",
    "\n",
    "<a href=\"https://demo.bokehplots.com/apps/movies\">\n",
    "  <img \n",
    "    width=\"30%\" height=\"30%\" style=\"display: inline ; padding: 10px;\" \n",
    "    src=\"https://bokeh.pydata.org/static/movies_t.png\" \n",
    "  >\n",
    "</a>\n",
    "\n",
    "<a href=\"https://demo.bokehplots.com/apps/gapminder\">\n",
    "  <img \n",
    "    width=\"30%\" height=\"30%\" style=\"display: inline ; padding: 10px;\" \n",
    "    src=\"http://bokeh.pydata.org/static/gapminder_t.png\"\n",
    "  >\n",
    "</a>\n",
    "</center>\n",
    "\n",
    "Find more details and information about developing and deploying Bokeh server applications in the User's Guide chapter [Running a Bokeh Server](https://bokeh.pydata.org/en/latest/docs/user_guide/server.html)."
   ]
  },
  {
   "cell_type": "markdown",
   "metadata": {},
   "source": [
    "## BokehJS\n",
    "\n",
    "At its core, Bokeh consists of a Javascript library, [BokehJS](https://github.com/bokeh/bokeh/tree/master/bokehjs), and a Python binding which provides classes and objects that ultimately generate a JSON representation of the plot structure.\n",
    "\n",
    "You can read more about design and usage in the [Developing with JavaScript](https://bokeh.pydata.org/en/latest/docs/user_guide/bokehjs.html) section of the Bokeh User's Guide."
   ]
  },
  {
   "cell_type": "markdown",
   "metadata": {},
   "source": [
    "## More Information\n",
    "\n",
    "Find more details and information at the resources listed below:\n",
    "\n",
    "*Documentation:* https://bokeh.pydata.org/en/latest\n",
    "\n",
    "*GitHub:* https://github.com/bokeh/bokeh\n",
    "\n",
    "*Mailing list:* [bokeh@anaconda.com](mailto:bokeh@anaconda.com)\n",
    "\n",
    "*Gitter Chat:* https://gitter.im/bokeh/bokeh\n",
    "\n",
    "Be sure to follow us on Twitter [@bokehplots](http://twitter.com/BokehPlots>) and on [Youtube](https://www.youtube.com/c/Bokehplots)!\n",
    "\n",
    "<img src=\"../images/bokeh-transparent.png\" width=\"64px\" height=\"64px\">"
   ]
  },
  {
   "cell_type": "code",
   "execution_count": null,
   "metadata": {
    "collapsed": true
   },
   "outputs": [],
   "source": []
  }
 ],
 "metadata": {
  "kernelspec": {
   "display_name": "Python 3",
   "language": "python",
   "name": "python3"
  },
  "language_info": {
   "codemirror_mode": {
    "name": "ipython",
    "version": 3
   },
   "file_extension": ".py",
   "mimetype": "text/x-python",
   "name": "python",
   "nbconvert_exporter": "python",
   "pygments_lexer": "ipython3",
   "version": "3.6.2"
  }
 },
 "nbformat": 4,
 "nbformat_minor": 1
}
