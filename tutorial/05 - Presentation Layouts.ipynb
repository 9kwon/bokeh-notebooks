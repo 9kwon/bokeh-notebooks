{
 "cells": [
  {
   "cell_type": "markdown",
   "metadata": {
    "collapsed": true
   },
   "source": [
    "<table style=\"float:left; border:none\">\n",
    "   <tr style=\"border:none; background-color: #ffffff\">\n",
    "       <td style=\"border:none\">\n",
    "           <a href=\"http://bokeh.pydata.org/\">     \n",
    "           <img \n",
    "               src=\"assets/bokeh-transparent.png\" \n",
    "               style=\"width:50px\"\n",
    "           >\n",
    "           </a>    \n",
    "       </td>\n",
    "       <td style=\"border:none\">\n",
    "           <h1>Bokeh Tutorial</h1>\n",
    "       </td>\n",
    "   </tr>\n",
    "</table>\n",
    "\n",
    "<div style=\"float:right;\"><h2>05. Presentation Layouts</h2></div>"
   ]
  },
  {
   "cell_type": "code",
   "execution_count": 1,
   "metadata": {},
   "outputs": [
    {
     "data": {
      "text/html": [
       "\n",
       "    <div class=\"bk-root\">\n",
       "        <a href=\"https://bokeh.pydata.org\" target=\"_blank\" class=\"bk-logo bk-logo-small bk-logo-notebook\"></a>\n",
       "        <span id=\"adbe6d3b-316c-4c20-ad42-cc794cf1af58\">Loading BokehJS ...</span>\n",
       "    </div>"
      ]
     },
     "metadata": {},
     "output_type": "display_data"
    },
    {
     "data": {
      "application/javascript": [
       "\n",
       "(function(root) {\n",
       "  function now() {\n",
       "    return new Date();\n",
       "  }\n",
       "\n",
       "  var force = true;\n",
       "\n",
       "  if (typeof (root._bokeh_onload_callbacks) === \"undefined\" || force === true) {\n",
       "    root._bokeh_onload_callbacks = [];\n",
       "    root._bokeh_is_loading = undefined;\n",
       "  }\n",
       "\n",
       "  var JS_MIME_TYPE = 'application/javascript';\n",
       "  var HTML_MIME_TYPE = 'text/html';\n",
       "  var EXEC_MIME_TYPE = 'application/vnd.bokehjs_exec.v0+json';\n",
       "  var CLASS_NAME = 'output_bokeh rendered_html';\n",
       "\n",
       "  /**\n",
       "   * Render data to the DOM node\n",
       "   */\n",
       "  function render(props, node) {\n",
       "    var script = document.createElement(\"script\");\n",
       "    node.appendChild(script);\n",
       "  }\n",
       "\n",
       "  /**\n",
       "   * Handle when an output is cleared or removed\n",
       "   */\n",
       "  function handleClearOutput(event, handle) {\n",
       "    var cell = handle.cell;\n",
       "\n",
       "    var id = cell.output_area._bokeh_element_id;\n",
       "    var server_id = cell.output_area._bokeh_server_id;\n",
       "    // Clean up Bokeh references\n",
       "    if (id !== undefined) {\n",
       "      Bokeh.index[id].model.document.clear();\n",
       "      delete Bokeh.index[id];\n",
       "    }\n",
       "\n",
       "    if (server_id !== undefined) {\n",
       "      // Clean up Bokeh references\n",
       "      var cmd = \"from bokeh.io import _state; print(_state.uuid_to_server['\" + server_id + \"'].get_sessions()[0].document.roots[0]._id)\";\n",
       "      cell.notebook.kernel.execute(cmd, {\n",
       "        iopub: {\n",
       "          output: function(msg) {\n",
       "            var element_id = msg.content.text.trim();\n",
       "            Bokeh.index[element_id].model.document.clear();\n",
       "            delete Bokeh.index[element_id];\n",
       "          }\n",
       "        }\n",
       "      });\n",
       "      // Destroy server and session\n",
       "      var cmd = \"from bokeh import io; io._destroy_server('\" + server_id + \"')\";\n",
       "      cell.notebook.kernel.execute(cmd);\n",
       "    }\n",
       "  }\n",
       "\n",
       "  /**\n",
       "   * Handle when a new output is added\n",
       "   */\n",
       "  function handleAddOutput(event, handle) {\n",
       "    var output_area = handle.output_area;\n",
       "    var output = handle.output;\n",
       "\n",
       "    // limit handleAddOutput to display_data with EXEC_MIME_TYPE content only\n",
       "    if ((output.output_type != \"display_data\") || (!output.data.hasOwnProperty(EXEC_MIME_TYPE))) {\n",
       "      return\n",
       "    }\n",
       "\n",
       "    var toinsert = output_area.element.find(`.${CLASS_NAME.split(' ')[0]}`);\n",
       "\n",
       "    if (output.metadata[EXEC_MIME_TYPE][\"id\"] !== undefined) {\n",
       "      toinsert[0].firstChild.textContent = output.data[JS_MIME_TYPE];\n",
       "      // store reference to embed id on output_area\n",
       "      output_area._bokeh_element_id = output.metadata[EXEC_MIME_TYPE][\"id\"];\n",
       "    }\n",
       "    if (output.metadata[EXEC_MIME_TYPE][\"server_id\"] !== undefined) {\n",
       "      var bk_div = document.createElement(\"div\");\n",
       "      bk_div.innerHTML = output.data[HTML_MIME_TYPE];\n",
       "      var script_attrs = bk_div.children[0].attributes;\n",
       "      for (var i = 0; i < script_attrs.length; i++) {\n",
       "        toinsert[0].firstChild.setAttribute(script_attrs[i].name, script_attrs[i].value);\n",
       "      }\n",
       "      // store reference to server id on output_area\n",
       "      output_area._bokeh_server_id = output.metadata[EXEC_MIME_TYPE][\"server_id\"];\n",
       "    }\n",
       "  }\n",
       "\n",
       "  function register_renderer(events, OutputArea) {\n",
       "\n",
       "    function append_mime(data, metadata, element) {\n",
       "      // create a DOM node to render to\n",
       "      var toinsert = this.create_output_subarea(\n",
       "        metadata,\n",
       "        CLASS_NAME,\n",
       "        EXEC_MIME_TYPE\n",
       "      );\n",
       "      this.keyboard_manager.register_events(toinsert);\n",
       "      // Render to node\n",
       "      var props = {data: data, metadata: metadata[EXEC_MIME_TYPE]};\n",
       "      render(props, toinsert[0]);\n",
       "      element.append(toinsert);\n",
       "      return toinsert\n",
       "    }\n",
       "\n",
       "    /* Handle when an output is cleared or removed */\n",
       "    events.on('clear_output.CodeCell', handleClearOutput);\n",
       "    events.on('delete.Cell', handleClearOutput);\n",
       "\n",
       "    /* Handle when a new output is added */\n",
       "    events.on('output_added.OutputArea', handleAddOutput);\n",
       "\n",
       "    /**\n",
       "     * Register the mime type and append_mime function with output_area\n",
       "     */\n",
       "    OutputArea.prototype.register_mime_type(EXEC_MIME_TYPE, append_mime, {\n",
       "      /* Is output safe? */\n",
       "      safe: true,\n",
       "      /* Index of renderer in `output_area.display_order` */\n",
       "      index: 0\n",
       "    });\n",
       "  }\n",
       "\n",
       "  // register the mime type if in Jupyter Notebook environment and previously unregistered\n",
       "  if (root.Jupyter !== undefined) {\n",
       "    var events = require('base/js/events');\n",
       "    var OutputArea = require('notebook/js/outputarea').OutputArea;\n",
       "\n",
       "    if (OutputArea.prototype.mime_types().indexOf(EXEC_MIME_TYPE) == -1) {\n",
       "      register_renderer(events, OutputArea);\n",
       "    }\n",
       "  }\n",
       "\n",
       "  \n",
       "  if (typeof (root._bokeh_timeout) === \"undefined\" || force === true) {\n",
       "    root._bokeh_timeout = Date.now() + 5000;\n",
       "    root._bokeh_failed_load = false;\n",
       "  }\n",
       "\n",
       "  var NB_LOAD_WARNING = {'data': {'text/html':\n",
       "     \"<div style='background-color: #fdd'>\\n\"+\n",
       "     \"<p>\\n\"+\n",
       "     \"BokehJS does not appear to have successfully loaded. If loading BokehJS from CDN, this \\n\"+\n",
       "     \"may be due to a slow or bad network connection. Possible fixes:\\n\"+\n",
       "     \"</p>\\n\"+\n",
       "     \"<ul>\\n\"+\n",
       "     \"<li>re-rerun `output_notebook()` to attempt to load from CDN again, or</li>\\n\"+\n",
       "     \"<li>use INLINE resources instead, as so:</li>\\n\"+\n",
       "     \"</ul>\\n\"+\n",
       "     \"<code>\\n\"+\n",
       "     \"from bokeh.resources import INLINE\\n\"+\n",
       "     \"output_notebook(resources=INLINE)\\n\"+\n",
       "     \"</code>\\n\"+\n",
       "     \"</div>\"}};\n",
       "\n",
       "  function display_loaded() {\n",
       "    var el = document.getElementById(\"adbe6d3b-316c-4c20-ad42-cc794cf1af58\");\n",
       "    if (el != null) {\n",
       "      el.textContent = \"BokehJS is loading...\";\n",
       "    }\n",
       "    if (root.Bokeh !== undefined) {\n",
       "      if (el != null) {\n",
       "        el.textContent = \"BokehJS \" + root.Bokeh.version + \" successfully loaded.\";\n",
       "      }\n",
       "    } else if (Date.now() < root._bokeh_timeout) {\n",
       "      setTimeout(display_loaded, 100)\n",
       "    }\n",
       "  }\n",
       "\n",
       "\n",
       "  function run_callbacks() {\n",
       "    try {\n",
       "      root._bokeh_onload_callbacks.forEach(function(callback) { callback() });\n",
       "    }\n",
       "    finally {\n",
       "      delete root._bokeh_onload_callbacks\n",
       "    }\n",
       "    console.info(\"Bokeh: all callbacks have finished\");\n",
       "  }\n",
       "\n",
       "  function load_libs(js_urls, callback) {\n",
       "    root._bokeh_onload_callbacks.push(callback);\n",
       "    if (root._bokeh_is_loading > 0) {\n",
       "      console.log(\"Bokeh: BokehJS is being loaded, scheduling callback at\", now());\n",
       "      return null;\n",
       "    }\n",
       "    if (js_urls == null || js_urls.length === 0) {\n",
       "      run_callbacks();\n",
       "      return null;\n",
       "    }\n",
       "    console.log(\"Bokeh: BokehJS not loaded, scheduling load and callback at\", now());\n",
       "    root._bokeh_is_loading = js_urls.length;\n",
       "    for (var i = 0; i < js_urls.length; i++) {\n",
       "      var url = js_urls[i];\n",
       "      var s = document.createElement('script');\n",
       "      s.src = url;\n",
       "      s.async = false;\n",
       "      s.onreadystatechange = s.onload = function() {\n",
       "        root._bokeh_is_loading--;\n",
       "        if (root._bokeh_is_loading === 0) {\n",
       "          console.log(\"Bokeh: all BokehJS libraries loaded\");\n",
       "          run_callbacks()\n",
       "        }\n",
       "      };\n",
       "      s.onerror = function() {\n",
       "        console.warn(\"failed to load library \" + url);\n",
       "      };\n",
       "      console.log(\"Bokeh: injecting script tag for BokehJS library: \", url);\n",
       "      document.getElementsByTagName(\"head\")[0].appendChild(s);\n",
       "    }\n",
       "  };var element = document.getElementById(\"adbe6d3b-316c-4c20-ad42-cc794cf1af58\");\n",
       "  if (element == null) {\n",
       "    console.log(\"Bokeh: ERROR: autoload.js configured with elementid 'adbe6d3b-316c-4c20-ad42-cc794cf1af58' but no matching script tag was found. \")\n",
       "    return false;\n",
       "  }\n",
       "\n",
       "  var js_urls = [\"https://cdn.pydata.org/bokeh/release/bokeh-0.12.8.min.js\", \"https://cdn.pydata.org/bokeh/release/bokeh-widgets-0.12.8.min.js\", \"https://cdn.pydata.org/bokeh/release/bokeh-tables-0.12.8.min.js\", \"https://cdn.pydata.org/bokeh/release/bokeh-gl-0.12.8.min.js\"];\n",
       "\n",
       "  var inline_js = [\n",
       "    function(Bokeh) {\n",
       "      Bokeh.set_log_level(\"info\");\n",
       "    },\n",
       "    \n",
       "    function(Bokeh) {\n",
       "      \n",
       "    },\n",
       "    function(Bokeh) {\n",
       "      console.log(\"Bokeh: injecting CSS: https://cdn.pydata.org/bokeh/release/bokeh-0.12.8.min.css\");\n",
       "      Bokeh.embed.inject_css(\"https://cdn.pydata.org/bokeh/release/bokeh-0.12.8.min.css\");\n",
       "      console.log(\"Bokeh: injecting CSS: https://cdn.pydata.org/bokeh/release/bokeh-widgets-0.12.8.min.css\");\n",
       "      Bokeh.embed.inject_css(\"https://cdn.pydata.org/bokeh/release/bokeh-widgets-0.12.8.min.css\");\n",
       "      console.log(\"Bokeh: injecting CSS: https://cdn.pydata.org/bokeh/release/bokeh-tables-0.12.8.min.css\");\n",
       "      Bokeh.embed.inject_css(\"https://cdn.pydata.org/bokeh/release/bokeh-tables-0.12.8.min.css\");\n",
       "    }\n",
       "  ];\n",
       "\n",
       "  function run_inline_js() {\n",
       "    \n",
       "    if ((root.Bokeh !== undefined) || (force === true)) {\n",
       "      for (var i = 0; i < inline_js.length; i++) {\n",
       "        inline_js[i].call(root, root.Bokeh);\n",
       "      }if (force === true) {\n",
       "        display_loaded();\n",
       "      }} else if (Date.now() < root._bokeh_timeout) {\n",
       "      setTimeout(run_inline_js, 100);\n",
       "    } else if (!root._bokeh_failed_load) {\n",
       "      console.log(\"Bokeh: BokehJS failed to load within specified timeout.\");\n",
       "      root._bokeh_failed_load = true;\n",
       "    } else if (force !== true) {\n",
       "      var cell = $(document.getElementById(\"adbe6d3b-316c-4c20-ad42-cc794cf1af58\")).parents('.cell').data().cell;\n",
       "      cell.output_area.append_execute_result(NB_LOAD_WARNING)\n",
       "    }\n",
       "\n",
       "  }\n",
       "\n",
       "  if (root._bokeh_is_loading === 0) {\n",
       "    console.log(\"Bokeh: BokehJS loaded, going straight to plotting\");\n",
       "    run_inline_js();\n",
       "  } else {\n",
       "    load_libs(js_urls, function() {\n",
       "      console.log(\"Bokeh: BokehJS plotting callback run at\", now());\n",
       "      run_inline_js();\n",
       "    });\n",
       "  }\n",
       "}(window));"
      ],
      "application/vnd.bokehjs_load.v0+json": "\n(function(root) {\n  function now() {\n    return new Date();\n  }\n\n  var force = true;\n\n  if (typeof (root._bokeh_onload_callbacks) === \"undefined\" || force === true) {\n    root._bokeh_onload_callbacks = [];\n    root._bokeh_is_loading = undefined;\n  }\n\n  \n\n  \n  if (typeof (root._bokeh_timeout) === \"undefined\" || force === true) {\n    root._bokeh_timeout = Date.now() + 5000;\n    root._bokeh_failed_load = false;\n  }\n\n  var NB_LOAD_WARNING = {'data': {'text/html':\n     \"<div style='background-color: #fdd'>\\n\"+\n     \"<p>\\n\"+\n     \"BokehJS does not appear to have successfully loaded. If loading BokehJS from CDN, this \\n\"+\n     \"may be due to a slow or bad network connection. Possible fixes:\\n\"+\n     \"</p>\\n\"+\n     \"<ul>\\n\"+\n     \"<li>re-rerun `output_notebook()` to attempt to load from CDN again, or</li>\\n\"+\n     \"<li>use INLINE resources instead, as so:</li>\\n\"+\n     \"</ul>\\n\"+\n     \"<code>\\n\"+\n     \"from bokeh.resources import INLINE\\n\"+\n     \"output_notebook(resources=INLINE)\\n\"+\n     \"</code>\\n\"+\n     \"</div>\"}};\n\n  function display_loaded() {\n    var el = document.getElementById(\"adbe6d3b-316c-4c20-ad42-cc794cf1af58\");\n    if (el != null) {\n      el.textContent = \"BokehJS is loading...\";\n    }\n    if (root.Bokeh !== undefined) {\n      if (el != null) {\n        el.textContent = \"BokehJS \" + root.Bokeh.version + \" successfully loaded.\";\n      }\n    } else if (Date.now() < root._bokeh_timeout) {\n      setTimeout(display_loaded, 100)\n    }\n  }\n\n\n  function run_callbacks() {\n    try {\n      root._bokeh_onload_callbacks.forEach(function(callback) { callback() });\n    }\n    finally {\n      delete root._bokeh_onload_callbacks\n    }\n    console.info(\"Bokeh: all callbacks have finished\");\n  }\n\n  function load_libs(js_urls, callback) {\n    root._bokeh_onload_callbacks.push(callback);\n    if (root._bokeh_is_loading > 0) {\n      console.log(\"Bokeh: BokehJS is being loaded, scheduling callback at\", now());\n      return null;\n    }\n    if (js_urls == null || js_urls.length === 0) {\n      run_callbacks();\n      return null;\n    }\n    console.log(\"Bokeh: BokehJS not loaded, scheduling load and callback at\", now());\n    root._bokeh_is_loading = js_urls.length;\n    for (var i = 0; i < js_urls.length; i++) {\n      var url = js_urls[i];\n      var s = document.createElement('script');\n      s.src = url;\n      s.async = false;\n      s.onreadystatechange = s.onload = function() {\n        root._bokeh_is_loading--;\n        if (root._bokeh_is_loading === 0) {\n          console.log(\"Bokeh: all BokehJS libraries loaded\");\n          run_callbacks()\n        }\n      };\n      s.onerror = function() {\n        console.warn(\"failed to load library \" + url);\n      };\n      console.log(\"Bokeh: injecting script tag for BokehJS library: \", url);\n      document.getElementsByTagName(\"head\")[0].appendChild(s);\n    }\n  };var element = document.getElementById(\"adbe6d3b-316c-4c20-ad42-cc794cf1af58\");\n  if (element == null) {\n    console.log(\"Bokeh: ERROR: autoload.js configured with elementid 'adbe6d3b-316c-4c20-ad42-cc794cf1af58' but no matching script tag was found. \")\n    return false;\n  }\n\n  var js_urls = [\"https://cdn.pydata.org/bokeh/release/bokeh-0.12.8.min.js\", \"https://cdn.pydata.org/bokeh/release/bokeh-widgets-0.12.8.min.js\", \"https://cdn.pydata.org/bokeh/release/bokeh-tables-0.12.8.min.js\", \"https://cdn.pydata.org/bokeh/release/bokeh-gl-0.12.8.min.js\"];\n\n  var inline_js = [\n    function(Bokeh) {\n      Bokeh.set_log_level(\"info\");\n    },\n    \n    function(Bokeh) {\n      \n    },\n    function(Bokeh) {\n      console.log(\"Bokeh: injecting CSS: https://cdn.pydata.org/bokeh/release/bokeh-0.12.8.min.css\");\n      Bokeh.embed.inject_css(\"https://cdn.pydata.org/bokeh/release/bokeh-0.12.8.min.css\");\n      console.log(\"Bokeh: injecting CSS: https://cdn.pydata.org/bokeh/release/bokeh-widgets-0.12.8.min.css\");\n      Bokeh.embed.inject_css(\"https://cdn.pydata.org/bokeh/release/bokeh-widgets-0.12.8.min.css\");\n      console.log(\"Bokeh: injecting CSS: https://cdn.pydata.org/bokeh/release/bokeh-tables-0.12.8.min.css\");\n      Bokeh.embed.inject_css(\"https://cdn.pydata.org/bokeh/release/bokeh-tables-0.12.8.min.css\");\n    }\n  ];\n\n  function run_inline_js() {\n    \n    if ((root.Bokeh !== undefined) || (force === true)) {\n      for (var i = 0; i < inline_js.length; i++) {\n        inline_js[i].call(root, root.Bokeh);\n      }if (force === true) {\n        display_loaded();\n      }} else if (Date.now() < root._bokeh_timeout) {\n      setTimeout(run_inline_js, 100);\n    } else if (!root._bokeh_failed_load) {\n      console.log(\"Bokeh: BokehJS failed to load within specified timeout.\");\n      root._bokeh_failed_load = true;\n    } else if (force !== true) {\n      var cell = $(document.getElementById(\"adbe6d3b-316c-4c20-ad42-cc794cf1af58\")).parents('.cell').data().cell;\n      cell.output_area.append_execute_result(NB_LOAD_WARNING)\n    }\n\n  }\n\n  if (root._bokeh_is_loading === 0) {\n    console.log(\"Bokeh: BokehJS loaded, going straight to plotting\");\n    run_inline_js();\n  } else {\n    load_libs(js_urls, function() {\n      console.log(\"Bokeh: BokehJS plotting callback run at\", now());\n      run_inline_js();\n    });\n  }\n}(window));"
     },
     "metadata": {},
     "output_type": "display_data"
    }
   ],
   "source": [
    "from bokeh.io import output_notebook, show\n",
    "from bokeh.plotting import figure\n",
    "\n",
    "output_notebook()"
   ]
  },
  {
   "cell_type": "markdown",
   "metadata": {},
   "source": [
    "In the previous chapters we started to learn how to create single plots using differnet kinds of data. But we often want to plot more than one thing. Boeh plots can be individually embedded in HTML documents, but it's often easier to\n",
    "combine multiple plots in one of Bokeh's built-in layouts. We will learn how to do that in this chapter\n",
    "\n",
    "The cell below defines a few data variables we will use in examples."
   ]
  },
  {
   "cell_type": "code",
   "execution_count": 2,
   "metadata": {
    "collapsed": true
   },
   "outputs": [],
   "source": [
    "x = list(range(11))\n",
    "y0, y1, y2 = x, [10-i for i in x], [abs(i-5) for i in x]"
   ]
  },
  {
   "cell_type": "markdown",
   "metadata": {},
   "source": [
    "# Rows and Columns\n",
    "The `bokeh.layouts` modules provides the ``row`` and ``column`` functions to arrange plot objects in vertical or horizontal layouts. Below is an example of three plots arranged in a row."
   ]
  },
  {
   "cell_type": "code",
   "execution_count": 3,
   "metadata": {},
   "outputs": [
    {
     "data": {
      "text/html": [
       "\n",
       "<div class=\"bk-root\">\n",
       "    <div class=\"bk-plotdiv\" id=\"e73b9797-5f7b-43cc-b6f5-82dd53468982\"></div>\n",
       "</div>"
      ]
     },
     "metadata": {},
     "output_type": "display_data"
    },
    {
     "data": {
      "application/javascript": [
       "(function(root) {\n",
       "  function embed_document(root) {\n",
       "    var docs_json = {\"c07325a2-9920-43ba-9fb3-fb7971f6e986\":{\"roots\":{\"references\":[{\"attributes\":{},\"id\":\"57267406-6288-4af4-9841-1c13cac40987\",\"type\":\"BasicTicker\"},{\"attributes\":{},\"id\":\"8be13eec-9dac-45b7-b5ee-dcfd5e57c6d7\",\"type\":\"LinearScale\"},{\"attributes\":{\"plot\":{\"id\":\"83d1fb36-16ce-427d-a8d6-0ebfcbcf6bf9\",\"subtype\":\"Figure\",\"type\":\"Plot\"},\"ticker\":{\"id\":\"57267406-6288-4af4-9841-1c13cac40987\",\"type\":\"BasicTicker\"}},\"id\":\"82efeba5-5432-4a70-9d12-cd6020a44910\",\"type\":\"Grid\"},{\"attributes\":{\"formatter\":{\"id\":\"5984f39b-5160-4577-a534-ea67749b8145\",\"type\":\"BasicTickFormatter\"},\"plot\":{\"id\":\"83d1fb36-16ce-427d-a8d6-0ebfcbcf6bf9\",\"subtype\":\"Figure\",\"type\":\"Plot\"},\"ticker\":{\"id\":\"4b1c0264-42bb-4983-a84f-31c2ad15bc90\",\"type\":\"BasicTicker\"}},\"id\":\"9fd455aa-7627-4966-91d2-321cc42447db\",\"type\":\"LinearAxis\"},{\"attributes\":{},\"id\":\"4b1c0264-42bb-4983-a84f-31c2ad15bc90\",\"type\":\"BasicTicker\"},{\"attributes\":{\"dimension\":1,\"plot\":{\"id\":\"83d1fb36-16ce-427d-a8d6-0ebfcbcf6bf9\",\"subtype\":\"Figure\",\"type\":\"Plot\"},\"ticker\":{\"id\":\"4b1c0264-42bb-4983-a84f-31c2ad15bc90\",\"type\":\"BasicTicker\"}},\"id\":\"202eb455-d9d0-453d-9172-04a159e887f7\",\"type\":\"Grid\"},{\"attributes\":{\"bottom_units\":\"screen\",\"fill_alpha\":{\"value\":0.5},\"fill_color\":{\"value\":\"lightgrey\"},\"left_units\":\"screen\",\"level\":\"overlay\",\"line_alpha\":{\"value\":1.0},\"line_color\":{\"value\":\"black\"},\"line_dash\":[4,4],\"line_width\":{\"value\":2},\"plot\":null,\"render_mode\":\"css\",\"right_units\":\"screen\",\"top_units\":\"screen\"},\"id\":\"94050578-7e41-4701-92ed-5407c88af361\",\"type\":\"BoxAnnotation\"},{\"attributes\":{\"source\":{\"id\":\"b32cce10-a367-4d2b-86b9-3bfb03e0b02f\",\"type\":\"ColumnDataSource\"}},\"id\":\"4d5736a8-c1ba-42ab-b090-d73e731eb4cb\",\"type\":\"CDSView\"},{\"attributes\":{\"data_source\":{\"id\":\"b32cce10-a367-4d2b-86b9-3bfb03e0b02f\",\"type\":\"ColumnDataSource\"},\"glyph\":{\"id\":\"d8d5fd15-153e-4cea-aab1-cf1f4fbe5917\",\"type\":\"Circle\"},\"hover_glyph\":null,\"muted_glyph\":null,\"nonselection_glyph\":{\"id\":\"04869a30-2051-43c0-8a44-5266657bdfd9\",\"type\":\"Circle\"},\"selection_glyph\":null,\"view\":{\"id\":\"4d5736a8-c1ba-42ab-b090-d73e731eb4cb\",\"type\":\"CDSView\"}},\"id\":\"f80d40eb-c2e2-40b8-acfb-b28a67e2d6a5\",\"type\":\"GlyphRenderer\"},{\"attributes\":{},\"id\":\"205149d2-ec61-4ff1-9331-9ff6a665869f\",\"type\":\"PanTool\"},{\"attributes\":{},\"id\":\"1157435e-1ac2-432b-8ecc-8a10f49bf31a\",\"type\":\"WheelZoomTool\"},{\"attributes\":{\"overlay\":{\"id\":\"94050578-7e41-4701-92ed-5407c88af361\",\"type\":\"BoxAnnotation\"}},\"id\":\"0dc67d91-5c4c-49ad-8366-2210e5e98da8\",\"type\":\"BoxZoomTool\"},{\"attributes\":{},\"id\":\"eac7527c-d557-408f-adf3-1fc34f0d79d4\",\"type\":\"SaveTool\"},{\"attributes\":{},\"id\":\"6d453ae5-af1b-499f-91f8-45376e0c658f\",\"type\":\"ResetTool\"},{\"attributes\":{},\"id\":\"5f334bde-cfd8-48db-aa35-3380822af8a0\",\"type\":\"HelpTool\"},{\"attributes\":{},\"id\":\"531e21e9-ce9f-4958-8fcf-0db63e4fd323\",\"type\":\"BasicTickFormatter\"},{\"attributes\":{},\"id\":\"38a09bb1-526a-48ba-b74d-45845f881ddd\",\"type\":\"LinearScale\"},{\"attributes\":{\"fill_alpha\":{\"value\":0.5},\"fill_color\":{\"value\":\"navy\"},\"line_alpha\":{\"value\":0.5},\"line_color\":{\"value\":\"navy\"},\"size\":{\"units\":\"screen\",\"value\":10},\"x\":{\"field\":\"x\"},\"y\":{\"field\":\"y\"}},\"id\":\"d8d5fd15-153e-4cea-aab1-cf1f4fbe5917\",\"type\":\"Circle\"},{\"attributes\":{\"source\":{\"id\":\"4b94c509-97b3-4367-8081-2cc3bba58765\",\"type\":\"ColumnDataSource\"}},\"id\":\"82e57b3d-d86d-49e5-b8f8-03d5271f15f7\",\"type\":\"CDSView\"},{\"attributes\":{},\"id\":\"61c41df4-1924-49b1-a81b-b1ffe494febd\",\"type\":\"LinearScale\"},{\"attributes\":{\"fill_alpha\":{\"value\":0.1},\"fill_color\":{\"value\":\"#1f77b4\"},\"line_alpha\":{\"value\":0.1},\"line_color\":{\"value\":\"#1f77b4\"},\"size\":{\"units\":\"screen\",\"value\":10},\"x\":{\"field\":\"x\"},\"y\":{\"field\":\"y\"}},\"id\":\"343e017b-701b-42d5-a29c-c5086c66f7be\",\"type\":\"Triangle\"},{\"attributes\":{},\"id\":\"db2c02c9-c488-42ce-9325-e0b684ea2377\",\"type\":\"LinearScale\"},{\"attributes\":{\"active_drag\":\"auto\",\"active_inspect\":\"auto\",\"active_scroll\":\"auto\",\"active_tap\":\"auto\",\"tools\":[{\"id\":\"62fd7bbf-401b-476c-b4da-3dc3049138f3\",\"type\":\"PanTool\"},{\"id\":\"30c1b84b-8e81-4de8-901d-c249c3ca709f\",\"type\":\"WheelZoomTool\"},{\"id\":\"877b35db-c647-4c78-96ee-19a56ed865f1\",\"type\":\"BoxZoomTool\"},{\"id\":\"acd10887-5dbb-4daa-94aa-0e6d934f9144\",\"type\":\"SaveTool\"},{\"id\":\"7c36272e-2d1b-401b-b83d-bb3b3c363ebe\",\"type\":\"ResetTool\"},{\"id\":\"291db31e-c914-4f83-bbb9-9bd5f671024e\",\"type\":\"HelpTool\"}]},\"id\":\"d25a8c4c-eb50-4546-907a-47c1ad009cff\",\"type\":\"Toolbar\"},{\"attributes\":{},\"id\":\"7d1eb56c-7037-4dbd-975a-583e93020293\",\"type\":\"LinearScale\"},{\"attributes\":{\"callback\":null},\"id\":\"0dbacfd6-e0dd-4ef7-b12b-cfde5127de51\",\"type\":\"DataRange1d\"},{\"attributes\":{\"callback\":null,\"column_names\":[\"x\",\"y\"],\"data\":{\"x\":[0,1,2,3,4,5,6,7,8,9,10],\"y\":[10,9,8,7,6,5,4,3,2,1,0]}},\"id\":\"4b94c509-97b3-4367-8081-2cc3bba58765\",\"type\":\"ColumnDataSource\"},{\"attributes\":{\"callback\":null},\"id\":\"367dbe7d-f243-434f-95e8-4c8f1277ae84\",\"type\":\"DataRange1d\"},{\"attributes\":{\"plot\":{\"id\":\"9e193850-5465-4acd-a99b-601582c56670\",\"subtype\":\"Figure\",\"type\":\"Plot\"},\"ticker\":{\"id\":\"e7b8c585-8b3f-4fcb-8101-9d97edb24e43\",\"type\":\"BasicTicker\"}},\"id\":\"7f8b7f85-9805-4ae9-a267-b06ee50f6bcd\",\"type\":\"Grid\"},{\"attributes\":{\"formatter\":{\"id\":\"ca826edb-5445-42fc-af02-467564f182db\",\"type\":\"BasicTickFormatter\"},\"plot\":{\"id\":\"9e193850-5465-4acd-a99b-601582c56670\",\"subtype\":\"Figure\",\"type\":\"Plot\"},\"ticker\":{\"id\":\"e7b8c585-8b3f-4fcb-8101-9d97edb24e43\",\"type\":\"BasicTicker\"}},\"id\":\"ce8a257c-32a6-412f-82f3-1356ed5249f4\",\"type\":\"LinearAxis\"},{\"attributes\":{},\"id\":\"57099942-c124-4628-ae37-ff838a5a2942\",\"type\":\"BasicTickFormatter\"},{\"attributes\":{},\"id\":\"e7b8c585-8b3f-4fcb-8101-9d97edb24e43\",\"type\":\"BasicTicker\"},{\"attributes\":{\"formatter\":{\"id\":\"531e21e9-ce9f-4958-8fcf-0db63e4fd323\",\"type\":\"BasicTickFormatter\"},\"plot\":{\"id\":\"9e193850-5465-4acd-a99b-601582c56670\",\"subtype\":\"Figure\",\"type\":\"Plot\"},\"ticker\":{\"id\":\"49c59497-405f-4871-8bf3-ae00d9104b0e\",\"type\":\"BasicTicker\"}},\"id\":\"9c51a11b-5311-4e24-8c57-8a03bdef4665\",\"type\":\"LinearAxis\"},{\"attributes\":{},\"id\":\"49c59497-405f-4871-8bf3-ae00d9104b0e\",\"type\":\"BasicTicker\"},{\"attributes\":{\"dimension\":1,\"plot\":{\"id\":\"9e193850-5465-4acd-a99b-601582c56670\",\"subtype\":\"Figure\",\"type\":\"Plot\"},\"ticker\":{\"id\":\"49c59497-405f-4871-8bf3-ae00d9104b0e\",\"type\":\"BasicTicker\"}},\"id\":\"4d0bca70-849b-4ca4-8d3f-a8def3f1b388\",\"type\":\"Grid\"},{\"attributes\":{\"data_source\":{\"id\":\"4b94c509-97b3-4367-8081-2cc3bba58765\",\"type\":\"ColumnDataSource\"},\"glyph\":{\"id\":\"0bb63101-024f-44c3-82f7-0e438d93e10d\",\"type\":\"Triangle\"},\"hover_glyph\":null,\"muted_glyph\":null,\"nonselection_glyph\":{\"id\":\"343e017b-701b-42d5-a29c-c5086c66f7be\",\"type\":\"Triangle\"},\"selection_glyph\":null,\"view\":{\"id\":\"82e57b3d-d86d-49e5-b8f8-03d5271f15f7\",\"type\":\"CDSView\"}},\"id\":\"3b4bc5a8-502d-4cf2-ba8e-521823ee0ed9\",\"type\":\"GlyphRenderer\"},{\"attributes\":{\"plot\":null,\"text\":\"\"},\"id\":\"c084cb9a-58e7-4f16-a595-c009f366b9fb\",\"type\":\"Title\"},{\"attributes\":{\"fill_alpha\":{\"value\":0.5},\"fill_color\":{\"value\":\"firebrick\"},\"line_alpha\":{\"value\":0.5},\"line_color\":{\"value\":\"firebrick\"},\"size\":{\"units\":\"screen\",\"value\":10},\"x\":{\"field\":\"x\"},\"y\":{\"field\":\"y\"}},\"id\":\"0bb63101-024f-44c3-82f7-0e438d93e10d\",\"type\":\"Triangle\"},{\"attributes\":{\"below\":[{\"id\":\"1a8034b0-42b1-44b2-a0e6-09c717d8b4ca\",\"type\":\"LinearAxis\"}],\"left\":[{\"id\":\"bd51f5a5-84f7-405e-8ee2-81890fb0a2bd\",\"type\":\"LinearAxis\"}],\"plot_height\":250,\"plot_width\":250,\"renderers\":[{\"id\":\"1a8034b0-42b1-44b2-a0e6-09c717d8b4ca\",\"type\":\"LinearAxis\"},{\"id\":\"21fee107-06d2-4989-94e0-22f72eb78872\",\"type\":\"Grid\"},{\"id\":\"bd51f5a5-84f7-405e-8ee2-81890fb0a2bd\",\"type\":\"LinearAxis\"},{\"id\":\"17555120-b2ea-4119-bc2f-923b101be722\",\"type\":\"Grid\"},{\"id\":\"9ad0884a-b7af-46a7-bcb0-dd0603072103\",\"type\":\"BoxAnnotation\"},{\"id\":\"909b47ba-b2f6-4f7a-bd6e-10e4c222b5e5\",\"type\":\"GlyphRenderer\"}],\"title\":{\"id\":\"1c959723-b0da-4f3c-b935-7ba2e7211af8\",\"type\":\"Title\"},\"toolbar\":{\"id\":\"dd6b9ab2-7e88-4a7a-aa34-89d3a631a873\",\"type\":\"Toolbar\"},\"x_range\":{\"id\":\"cd47367b-3687-4785-83b6-eb60b92bbcb5\",\"type\":\"DataRange1d\"},\"x_scale\":{\"id\":\"8be13eec-9dac-45b7-b5ee-dcfd5e57c6d7\",\"type\":\"LinearScale\"},\"y_range\":{\"id\":\"e91c64c1-8612-4545-afd7-25eadde17e68\",\"type\":\"DataRange1d\"},\"y_scale\":{\"id\":\"24ed6e39-55ee-4dc3-9353-e17aea47d29f\",\"type\":\"LinearScale\"}},\"id\":\"53875c76-fc42-4fe3-8ac6-62557d6ecdae\",\"subtype\":\"Figure\",\"type\":\"Plot\"},{\"attributes\":{\"bottom_units\":\"screen\",\"fill_alpha\":{\"value\":0.5},\"fill_color\":{\"value\":\"lightgrey\"},\"left_units\":\"screen\",\"level\":\"overlay\",\"line_alpha\":{\"value\":1.0},\"line_color\":{\"value\":\"black\"},\"line_dash\":[4,4],\"line_width\":{\"value\":2},\"plot\":null,\"render_mode\":\"css\",\"right_units\":\"screen\",\"top_units\":\"screen\"},\"id\":\"dff76fea-f51c-49b2-94b6-4b708e07a2b5\",\"type\":\"BoxAnnotation\"},{\"attributes\":{},\"id\":\"62fd7bbf-401b-476c-b4da-3dc3049138f3\",\"type\":\"PanTool\"},{\"attributes\":{},\"id\":\"8ef73c07-1067-40e8-820d-85f1b4620d70\",\"type\":\"BasicTicker\"},{\"attributes\":{},\"id\":\"30c1b84b-8e81-4de8-901d-c249c3ca709f\",\"type\":\"WheelZoomTool\"},{\"attributes\":{\"overlay\":{\"id\":\"dff76fea-f51c-49b2-94b6-4b708e07a2b5\",\"type\":\"BoxAnnotation\"}},\"id\":\"877b35db-c647-4c78-96ee-19a56ed865f1\",\"type\":\"BoxZoomTool\"},{\"attributes\":{},\"id\":\"acd10887-5dbb-4daa-94aa-0e6d934f9144\",\"type\":\"SaveTool\"},{\"attributes\":{},\"id\":\"7c36272e-2d1b-401b-b83d-bb3b3c363ebe\",\"type\":\"ResetTool\"},{\"attributes\":{},\"id\":\"291db31e-c914-4f83-bbb9-9bd5f671024e\",\"type\":\"HelpTool\"},{\"attributes\":{},\"id\":\"d45cc16b-c17c-42c6-882a-97bc8a741e98\",\"type\":\"BasicTickFormatter\"},{\"attributes\":{\"plot\":null,\"text\":\"\"},\"id\":\"55c1b19b-2598-4ad5-a6e8-f3e8cfdfb59d\",\"type\":\"Title\"},{\"attributes\":{},\"id\":\"ca826edb-5445-42fc-af02-467564f182db\",\"type\":\"BasicTickFormatter\"},{\"attributes\":{\"source\":{\"id\":\"404faca3-312a-429e-8010-2ffef9ede163\",\"type\":\"ColumnDataSource\"}},\"id\":\"8db14809-6bd0-4563-b0ab-5dcfe1389e2c\",\"type\":\"CDSView\"},{\"attributes\":{\"fill_alpha\":{\"value\":0.1},\"fill_color\":{\"value\":\"#1f77b4\"},\"line_alpha\":{\"value\":0.1},\"line_color\":{\"value\":\"#1f77b4\"},\"size\":{\"units\":\"screen\",\"value\":10},\"x\":{\"field\":\"x\"},\"y\":{\"field\":\"y\"}},\"id\":\"5c692c63-491e-4fed-9636-588fd8fb2083\",\"type\":\"Square\"},{\"attributes\":{\"formatter\":{\"id\":\"9c13dfca-0d5c-44fc-8106-5bab480e351f\",\"type\":\"BasicTickFormatter\"},\"plot\":{\"id\":\"53875c76-fc42-4fe3-8ac6-62557d6ecdae\",\"subtype\":\"Figure\",\"type\":\"Plot\"},\"ticker\":{\"id\":\"8ef73c07-1067-40e8-820d-85f1b4620d70\",\"type\":\"BasicTicker\"}},\"id\":\"1a8034b0-42b1-44b2-a0e6-09c717d8b4ca\",\"type\":\"LinearAxis\"},{\"attributes\":{\"active_drag\":\"auto\",\"active_inspect\":\"auto\",\"active_scroll\":\"auto\",\"active_tap\":\"auto\",\"tools\":[{\"id\":\"8ad5d472-7a6d-4d7b-a8ad-46bc4bb6dc53\",\"type\":\"PanTool\"},{\"id\":\"aac8a984-2aa9-4b36-a21a-d66230eda0b0\",\"type\":\"WheelZoomTool\"},{\"id\":\"b003f73e-1368-4c7a-9dc8-d9ae84f9af49\",\"type\":\"BoxZoomTool\"},{\"id\":\"85bb69a6-2232-431a-bed6-e838655f45eb\",\"type\":\"SaveTool\"},{\"id\":\"11c62a2e-39d2-4096-a17a-f8208aa86b62\",\"type\":\"ResetTool\"},{\"id\":\"94b7c0eb-f1e5-46df-a8e1-0deccce623b9\",\"type\":\"HelpTool\"}]},\"id\":\"dd6b9ab2-7e88-4a7a-aa34-89d3a631a873\",\"type\":\"Toolbar\"},{\"attributes\":{},\"id\":\"24ed6e39-55ee-4dc3-9353-e17aea47d29f\",\"type\":\"LinearScale\"},{\"attributes\":{\"callback\":null,\"column_names\":[\"x\",\"y\"],\"data\":{\"x\":[0,1,2,3,4,5,6,7,8,9,10],\"y\":[5,4,3,2,1,0,1,2,3,4,5]}},\"id\":\"404faca3-312a-429e-8010-2ffef9ede163\",\"type\":\"ColumnDataSource\"},{\"attributes\":{\"callback\":null},\"id\":\"e91c64c1-8612-4545-afd7-25eadde17e68\",\"type\":\"DataRange1d\"},{\"attributes\":{},\"id\":\"e88fe5b0-bbfd-404a-9063-c71ef1b7bce4\",\"type\":\"BasicTicker\"},{\"attributes\":{\"dimension\":1,\"plot\":{\"id\":\"53875c76-fc42-4fe3-8ac6-62557d6ecdae\",\"subtype\":\"Figure\",\"type\":\"Plot\"},\"ticker\":{\"id\":\"e88fe5b0-bbfd-404a-9063-c71ef1b7bce4\",\"type\":\"BasicTicker\"}},\"id\":\"17555120-b2ea-4119-bc2f-923b101be722\",\"type\":\"Grid\"},{\"attributes\":{\"data_source\":{\"id\":\"404faca3-312a-429e-8010-2ffef9ede163\",\"type\":\"ColumnDataSource\"},\"glyph\":{\"id\":\"39e99f1d-1117-42cd-8d22-818ee50ebd9b\",\"type\":\"Square\"},\"hover_glyph\":null,\"muted_glyph\":null,\"nonselection_glyph\":{\"id\":\"5c692c63-491e-4fed-9636-588fd8fb2083\",\"type\":\"Square\"},\"selection_glyph\":null,\"view\":{\"id\":\"8db14809-6bd0-4563-b0ab-5dcfe1389e2c\",\"type\":\"CDSView\"}},\"id\":\"909b47ba-b2f6-4f7a-bd6e-10e4c222b5e5\",\"type\":\"GlyphRenderer\"},{\"attributes\":{\"fill_alpha\":{\"value\":0.5},\"fill_color\":{\"value\":\"olive\"},\"line_alpha\":{\"value\":0.5},\"line_color\":{\"value\":\"olive\"},\"size\":{\"units\":\"screen\",\"value\":10},\"x\":{\"field\":\"x\"},\"y\":{\"field\":\"y\"}},\"id\":\"39e99f1d-1117-42cd-8d22-818ee50ebd9b\",\"type\":\"Square\"},{\"attributes\":{\"children\":[{\"id\":\"83d1fb36-16ce-427d-a8d6-0ebfcbcf6bf9\",\"subtype\":\"Figure\",\"type\":\"Plot\"},{\"id\":\"9e193850-5465-4acd-a99b-601582c56670\",\"subtype\":\"Figure\",\"type\":\"Plot\"},{\"id\":\"53875c76-fc42-4fe3-8ac6-62557d6ecdae\",\"subtype\":\"Figure\",\"type\":\"Plot\"}]},\"id\":\"54f8ba43-f5d2-48c8-91be-3c1a6d410972\",\"type\":\"Row\"},{\"attributes\":{\"bottom_units\":\"screen\",\"fill_alpha\":{\"value\":0.5},\"fill_color\":{\"value\":\"lightgrey\"},\"left_units\":\"screen\",\"level\":\"overlay\",\"line_alpha\":{\"value\":1.0},\"line_color\":{\"value\":\"black\"},\"line_dash\":[4,4],\"line_width\":{\"value\":2},\"plot\":null,\"render_mode\":\"css\",\"right_units\":\"screen\",\"top_units\":\"screen\"},\"id\":\"9ad0884a-b7af-46a7-bcb0-dd0603072103\",\"type\":\"BoxAnnotation\"},{\"attributes\":{\"below\":[{\"id\":\"ce8a257c-32a6-412f-82f3-1356ed5249f4\",\"type\":\"LinearAxis\"}],\"left\":[{\"id\":\"9c51a11b-5311-4e24-8c57-8a03bdef4665\",\"type\":\"LinearAxis\"}],\"plot_height\":250,\"plot_width\":250,\"renderers\":[{\"id\":\"ce8a257c-32a6-412f-82f3-1356ed5249f4\",\"type\":\"LinearAxis\"},{\"id\":\"7f8b7f85-9805-4ae9-a267-b06ee50f6bcd\",\"type\":\"Grid\"},{\"id\":\"9c51a11b-5311-4e24-8c57-8a03bdef4665\",\"type\":\"LinearAxis\"},{\"id\":\"4d0bca70-849b-4ca4-8d3f-a8def3f1b388\",\"type\":\"Grid\"},{\"id\":\"dff76fea-f51c-49b2-94b6-4b708e07a2b5\",\"type\":\"BoxAnnotation\"},{\"id\":\"3b4bc5a8-502d-4cf2-ba8e-521823ee0ed9\",\"type\":\"GlyphRenderer\"}],\"title\":{\"id\":\"55c1b19b-2598-4ad5-a6e8-f3e8cfdfb59d\",\"type\":\"Title\"},\"toolbar\":{\"id\":\"d25a8c4c-eb50-4546-907a-47c1ad009cff\",\"type\":\"Toolbar\"},\"x_range\":{\"id\":\"0dbacfd6-e0dd-4ef7-b12b-cfde5127de51\",\"type\":\"DataRange1d\"},\"x_scale\":{\"id\":\"db2c02c9-c488-42ce-9325-e0b684ea2377\",\"type\":\"LinearScale\"},\"y_range\":{\"id\":\"367dbe7d-f243-434f-95e8-4c8f1277ae84\",\"type\":\"DataRange1d\"},\"y_scale\":{\"id\":\"61c41df4-1924-49b1-a81b-b1ffe494febd\",\"type\":\"LinearScale\"}},\"id\":\"9e193850-5465-4acd-a99b-601582c56670\",\"subtype\":\"Figure\",\"type\":\"Plot\"},{\"attributes\":{},\"id\":\"8ad5d472-7a6d-4d7b-a8ad-46bc4bb6dc53\",\"type\":\"PanTool\"},{\"attributes\":{\"below\":[{\"id\":\"b728311e-50d1-4d74-9ba8-79dc7a65b6a5\",\"type\":\"LinearAxis\"}],\"left\":[{\"id\":\"9fd455aa-7627-4966-91d2-321cc42447db\",\"type\":\"LinearAxis\"}],\"plot_height\":250,\"plot_width\":250,\"renderers\":[{\"id\":\"b728311e-50d1-4d74-9ba8-79dc7a65b6a5\",\"type\":\"LinearAxis\"},{\"id\":\"82efeba5-5432-4a70-9d12-cd6020a44910\",\"type\":\"Grid\"},{\"id\":\"9fd455aa-7627-4966-91d2-321cc42447db\",\"type\":\"LinearAxis\"},{\"id\":\"202eb455-d9d0-453d-9172-04a159e887f7\",\"type\":\"Grid\"},{\"id\":\"94050578-7e41-4701-92ed-5407c88af361\",\"type\":\"BoxAnnotation\"},{\"id\":\"f80d40eb-c2e2-40b8-acfb-b28a67e2d6a5\",\"type\":\"GlyphRenderer\"}],\"title\":{\"id\":\"c084cb9a-58e7-4f16-a595-c009f366b9fb\",\"type\":\"Title\"},\"toolbar\":{\"id\":\"798575b5-d731-45ce-a96b-656b4d73de5f\",\"type\":\"Toolbar\"},\"x_range\":{\"id\":\"91db1ab7-b27d-440f-9903-28fa08fdf9b3\",\"type\":\"DataRange1d\"},\"x_scale\":{\"id\":\"38a09bb1-526a-48ba-b74d-45845f881ddd\",\"type\":\"LinearScale\"},\"y_range\":{\"id\":\"aece2728-af90-4545-a7c4-db129f7dbf5c\",\"type\":\"DataRange1d\"},\"y_scale\":{\"id\":\"7d1eb56c-7037-4dbd-975a-583e93020293\",\"type\":\"LinearScale\"}},\"id\":\"83d1fb36-16ce-427d-a8d6-0ebfcbcf6bf9\",\"subtype\":\"Figure\",\"type\":\"Plot\"},{\"attributes\":{},\"id\":\"aac8a984-2aa9-4b36-a21a-d66230eda0b0\",\"type\":\"WheelZoomTool\"},{\"attributes\":{\"callback\":null,\"column_names\":[\"x\",\"y\"],\"data\":{\"x\":[0,1,2,3,4,5,6,7,8,9,10],\"y\":[0,1,2,3,4,5,6,7,8,9,10]}},\"id\":\"b32cce10-a367-4d2b-86b9-3bfb03e0b02f\",\"type\":\"ColumnDataSource\"},{\"attributes\":{\"overlay\":{\"id\":\"9ad0884a-b7af-46a7-bcb0-dd0603072103\",\"type\":\"BoxAnnotation\"}},\"id\":\"b003f73e-1368-4c7a-9dc8-d9ae84f9af49\",\"type\":\"BoxZoomTool\"},{\"attributes\":{\"active_drag\":\"auto\",\"active_inspect\":\"auto\",\"active_scroll\":\"auto\",\"active_tap\":\"auto\",\"tools\":[{\"id\":\"205149d2-ec61-4ff1-9331-9ff6a665869f\",\"type\":\"PanTool\"},{\"id\":\"1157435e-1ac2-432b-8ecc-8a10f49bf31a\",\"type\":\"WheelZoomTool\"},{\"id\":\"0dc67d91-5c4c-49ad-8366-2210e5e98da8\",\"type\":\"BoxZoomTool\"},{\"id\":\"eac7527c-d557-408f-adf3-1fc34f0d79d4\",\"type\":\"SaveTool\"},{\"id\":\"6d453ae5-af1b-499f-91f8-45376e0c658f\",\"type\":\"ResetTool\"},{\"id\":\"5f334bde-cfd8-48db-aa35-3380822af8a0\",\"type\":\"HelpTool\"}]},\"id\":\"798575b5-d731-45ce-a96b-656b4d73de5f\",\"type\":\"Toolbar\"},{\"attributes\":{\"fill_alpha\":{\"value\":0.1},\"fill_color\":{\"value\":\"#1f77b4\"},\"line_alpha\":{\"value\":0.1},\"line_color\":{\"value\":\"#1f77b4\"},\"size\":{\"units\":\"screen\",\"value\":10},\"x\":{\"field\":\"x\"},\"y\":{\"field\":\"y\"}},\"id\":\"04869a30-2051-43c0-8a44-5266657bdfd9\",\"type\":\"Circle\"},{\"attributes\":{},\"id\":\"85bb69a6-2232-431a-bed6-e838655f45eb\",\"type\":\"SaveTool\"},{\"attributes\":{\"callback\":null},\"id\":\"91db1ab7-b27d-440f-9903-28fa08fdf9b3\",\"type\":\"DataRange1d\"},{\"attributes\":{},\"id\":\"11c62a2e-39d2-4096-a17a-f8208aa86b62\",\"type\":\"ResetTool\"},{\"attributes\":{\"plot\":{\"id\":\"53875c76-fc42-4fe3-8ac6-62557d6ecdae\",\"subtype\":\"Figure\",\"type\":\"Plot\"},\"ticker\":{\"id\":\"8ef73c07-1067-40e8-820d-85f1b4620d70\",\"type\":\"BasicTicker\"}},\"id\":\"21fee107-06d2-4989-94e0-22f72eb78872\",\"type\":\"Grid\"},{\"attributes\":{},\"id\":\"94b7c0eb-f1e5-46df-a8e1-0deccce623b9\",\"type\":\"HelpTool\"},{\"attributes\":{\"formatter\":{\"id\":\"d45cc16b-c17c-42c6-882a-97bc8a741e98\",\"type\":\"BasicTickFormatter\"},\"plot\":{\"id\":\"53875c76-fc42-4fe3-8ac6-62557d6ecdae\",\"subtype\":\"Figure\",\"type\":\"Plot\"},\"ticker\":{\"id\":\"e88fe5b0-bbfd-404a-9063-c71ef1b7bce4\",\"type\":\"BasicTicker\"}},\"id\":\"bd51f5a5-84f7-405e-8ee2-81890fb0a2bd\",\"type\":\"LinearAxis\"},{\"attributes\":{\"formatter\":{\"id\":\"57099942-c124-4628-ae37-ff838a5a2942\",\"type\":\"BasicTickFormatter\"},\"plot\":{\"id\":\"83d1fb36-16ce-427d-a8d6-0ebfcbcf6bf9\",\"subtype\":\"Figure\",\"type\":\"Plot\"},\"ticker\":{\"id\":\"57267406-6288-4af4-9841-1c13cac40987\",\"type\":\"BasicTicker\"}},\"id\":\"b728311e-50d1-4d74-9ba8-79dc7a65b6a5\",\"type\":\"LinearAxis\"},{\"attributes\":{\"plot\":null,\"text\":\"\"},\"id\":\"1c959723-b0da-4f3c-b935-7ba2e7211af8\",\"type\":\"Title\"},{\"attributes\":{\"callback\":null},\"id\":\"aece2728-af90-4545-a7c4-db129f7dbf5c\",\"type\":\"DataRange1d\"},{\"attributes\":{},\"id\":\"9c13dfca-0d5c-44fc-8106-5bab480e351f\",\"type\":\"BasicTickFormatter\"},{\"attributes\":{},\"id\":\"5984f39b-5160-4577-a534-ea67749b8145\",\"type\":\"BasicTickFormatter\"},{\"attributes\":{\"callback\":null},\"id\":\"cd47367b-3687-4785-83b6-eb60b92bbcb5\",\"type\":\"DataRange1d\"}],\"root_ids\":[\"54f8ba43-f5d2-48c8-91be-3c1a6d410972\"]},\"title\":\"Bokeh Application\",\"version\":\"0.12.8\"}};\n",
       "    var render_items = [{\"docid\":\"c07325a2-9920-43ba-9fb3-fb7971f6e986\",\"elementid\":\"e73b9797-5f7b-43cc-b6f5-82dd53468982\",\"modelid\":\"54f8ba43-f5d2-48c8-91be-3c1a6d410972\"}];\n",
       "\n",
       "    root.Bokeh.embed.embed_items(docs_json, render_items);\n",
       "  }\n",
       "\n",
       "  if (root.Bokeh !== undefined) {\n",
       "    embed_document(root);\n",
       "  } else {\n",
       "    var attempts = 0;\n",
       "    var timer = setInterval(function(root) {\n",
       "      if (root.Bokeh !== undefined) {\n",
       "        embed_document(root);\n",
       "        clearInterval(timer);\n",
       "      }\n",
       "      attempts++;\n",
       "      if (attempts > 100) {\n",
       "        console.log(\"Bokeh: ERROR: Unable to embed document because BokehJS library is missing\")\n",
       "        clearInterval(timer);\n",
       "      }\n",
       "    }, 10, root)\n",
       "  }\n",
       "})(window);"
      ],
      "application/vnd.bokehjs_exec.v0+json": ""
     },
     "metadata": {
      "application/vnd.bokehjs_exec.v0+json": {
       "id": "54f8ba43-f5d2-48c8-91be-3c1a6d410972"
      }
     },
     "output_type": "display_data"
    }
   ],
   "source": [
    "from bokeh.layouts import row\n",
    "\n",
    "# create a new plot\n",
    "s1 = figure(width=250, plot_height=250)\n",
    "s1.circle(x, y0, size=10, color=\"navy\", alpha=0.5)\n",
    "\n",
    "# create another one\n",
    "s2 = figure(width=250, height=250)\n",
    "s2.triangle(x, y1, size=10, color=\"firebrick\", alpha=0.5)\n",
    "\n",
    "# create and another\n",
    "s3 = figure(width=250, height=250)\n",
    "s3.square(x, y2, size=10, color=\"olive\", alpha=0.5)\n",
    "\n",
    "# show the results in a row\n",
    "show(row(s1, s2, s3))"
   ]
  },
  {
   "cell_type": "code",
   "execution_count": 4,
   "metadata": {
    "collapsed": true
   },
   "outputs": [],
   "source": [
    "# EXERCISE: use column to arrange a few plots vertically\n"
   ]
  },
  {
   "cell_type": "markdown",
   "metadata": {
    "collapsed": true
   },
   "source": [
    "# Grid plots\n",
    "\n",
    "Bokeh also provides a `gridplot` layout in `bokeh.layouts` for arranging plots in a grid, as show in the example below."
   ]
  },
  {
   "cell_type": "code",
   "execution_count": 5,
   "metadata": {},
   "outputs": [
    {
     "data": {
      "text/html": [
       "\n",
       "<div class=\"bk-root\">\n",
       "    <div class=\"bk-plotdiv\" id=\"965babb5-a6b5-4806-91ad-d210a17e34d0\"></div>\n",
       "</div>"
      ]
     },
     "metadata": {},
     "output_type": "display_data"
    },
    {
     "data": {
      "application/javascript": [
       "(function(root) {\n",
       "  function embed_document(root) {\n",
       "    var docs_json = {\"b1a54f75-c636-4e00-b803-9821c48ded1f\":{\"roots\":{\"references\":[{\"attributes\":{\"plot\":{\"id\":\"f1016aac-27c0-4dbc-8384-7e50105fdd65\",\"subtype\":\"Figure\",\"type\":\"Plot\"},\"ticker\":{\"id\":\"ff6e8323-ab2d-4304-97bd-fac7414b7641\",\"type\":\"BasicTicker\"}},\"id\":\"40b4d727-c0fc-4973-814f-8c8422189e90\",\"type\":\"Grid\"},{\"attributes\":{\"data_source\":{\"id\":\"17c37257-797d-4f06-83cb-2cd97e5a4f44\",\"type\":\"ColumnDataSource\"},\"glyph\":{\"id\":\"23f82e28-661f-4be8-aa8e-33d7e9b5501c\",\"type\":\"Square\"},\"hover_glyph\":null,\"muted_glyph\":null,\"nonselection_glyph\":{\"id\":\"3ffff176-bd19-4703-aca9-862a0c0e05e5\",\"type\":\"Square\"},\"selection_glyph\":null,\"view\":{\"id\":\"5e74748c-7226-4b00-adbe-de2fd4d1f11e\",\"type\":\"CDSView\"}},\"id\":\"6f37bce5-ea52-4c76-887d-8ffdba03bc2a\",\"type\":\"GlyphRenderer\"},{\"attributes\":{\"formatter\":{\"id\":\"8efdda99-fa6c-4868-bfb1-d8980f03fda1\",\"type\":\"BasicTickFormatter\"},\"plot\":{\"id\":\"f1016aac-27c0-4dbc-8384-7e50105fdd65\",\"subtype\":\"Figure\",\"type\":\"Plot\"},\"ticker\":{\"id\":\"ba9f0066-75da-4b53-8f74-908c892bc18a\",\"type\":\"BasicTicker\"}},\"id\":\"895c870a-6ff7-4154-8c81-62a3255b4fc7\",\"type\":\"LinearAxis\"},{\"attributes\":{},\"id\":\"ba9f0066-75da-4b53-8f74-908c892bc18a\",\"type\":\"BasicTicker\"},{\"attributes\":{\"dimension\":1,\"plot\":{\"id\":\"f1016aac-27c0-4dbc-8384-7e50105fdd65\",\"subtype\":\"Figure\",\"type\":\"Plot\"},\"ticker\":{\"id\":\"ba9f0066-75da-4b53-8f74-908c892bc18a\",\"type\":\"BasicTicker\"}},\"id\":\"4a47977f-b137-4856-a275-f33ad7a53980\",\"type\":\"Grid\"},{\"attributes\":{\"source\":{\"id\":\"17c37257-797d-4f06-83cb-2cd97e5a4f44\",\"type\":\"ColumnDataSource\"}},\"id\":\"5e74748c-7226-4b00-adbe-de2fd4d1f11e\",\"type\":\"CDSView\"},{\"attributes\":{\"fill_alpha\":{\"value\":0.1},\"fill_color\":{\"value\":\"#1f77b4\"},\"line_alpha\":{\"value\":0.1},\"line_color\":{\"value\":\"#1f77b4\"},\"size\":{\"units\":\"screen\",\"value\":10},\"x\":{\"field\":\"x\"},\"y\":{\"field\":\"y\"}},\"id\":\"3ffff176-bd19-4703-aca9-862a0c0e05e5\",\"type\":\"Square\"},{\"attributes\":{},\"id\":\"8efdda99-fa6c-4868-bfb1-d8980f03fda1\",\"type\":\"BasicTickFormatter\"},{\"attributes\":{\"bottom_units\":\"screen\",\"fill_alpha\":{\"value\":0.5},\"fill_color\":{\"value\":\"lightgrey\"},\"left_units\":\"screen\",\"level\":\"overlay\",\"line_alpha\":{\"value\":1.0},\"line_color\":{\"value\":\"black\"},\"line_dash\":[4,4],\"line_width\":{\"value\":2},\"plot\":null,\"render_mode\":\"css\",\"right_units\":\"screen\",\"top_units\":\"screen\"},\"id\":\"af5f1cdd-8550-4b8f-92ad-b0e81013198a\",\"type\":\"BoxAnnotation\"},{\"attributes\":{},\"id\":\"3fe6ae46-da4c-4fac-9cf6-869dde0efad8\",\"type\":\"PanTool\"},{\"attributes\":{\"source\":{\"id\":\"9c3a4f6e-b41e-4350-83fb-9518e544adbf\",\"type\":\"ColumnDataSource\"}},\"id\":\"cf3cd53a-f2f7-45ac-b890-22bbf7ce0776\",\"type\":\"CDSView\"},{\"attributes\":{},\"id\":\"0f7f622d-4be8-454b-b0a5-3a9de194b8a8\",\"type\":\"WheelZoomTool\"},{\"attributes\":{},\"id\":\"3e81d6ef-d7a7-494f-af35-4dca218efa27\",\"type\":\"BasicTickFormatter\"},{\"attributes\":{\"overlay\":{\"id\":\"af5f1cdd-8550-4b8f-92ad-b0e81013198a\",\"type\":\"BoxAnnotation\"}},\"id\":\"21690a88-b15e-4e72-b6eb-ef2ae497179d\",\"type\":\"BoxZoomTool\"},{\"attributes\":{\"below\":[{\"id\":\"69e52a7b-e97a-4e1b-beee-035f5beb7a5b\",\"type\":\"LinearAxis\"}],\"left\":[{\"id\":\"2d055fc7-5a5b-406b-9dd8-adfafbf99b6b\",\"type\":\"LinearAxis\"}],\"plot_height\":250,\"plot_width\":250,\"renderers\":[{\"id\":\"69e52a7b-e97a-4e1b-beee-035f5beb7a5b\",\"type\":\"LinearAxis\"},{\"id\":\"24d0d3a6-8787-4551-babc-3a8446ca1cad\",\"type\":\"Grid\"},{\"id\":\"2d055fc7-5a5b-406b-9dd8-adfafbf99b6b\",\"type\":\"LinearAxis\"},{\"id\":\"308053f7-8077-4467-814c-595d0e1a3f76\",\"type\":\"Grid\"},{\"id\":\"1cbfc03a-c710-4367-a3fd-4646799515dc\",\"type\":\"BoxAnnotation\"},{\"id\":\"862ae281-690a-4ddf-bb52-f74aa11709db\",\"type\":\"GlyphRenderer\"}],\"title\":{\"id\":\"b9fcad4d-b5db-4e07-8995-230a824e354f\",\"type\":\"Title\"},\"toolbar\":{\"id\":\"e00eaa91-f848-4de1-b814-20fce18fdab5\",\"type\":\"Toolbar\"},\"toolbar_location\":null,\"x_range\":{\"id\":\"5885b78e-7925-4fbd-bfa1-f17872b95d0c\",\"type\":\"DataRange1d\"},\"x_scale\":{\"id\":\"9e4c4c0e-16ef-4f12-b2e1-7888a4b9478e\",\"type\":\"LinearScale\"},\"y_range\":{\"id\":\"f058985a-4c44-4f4e-a8aa-2dbde3e4b666\",\"type\":\"DataRange1d\"},\"y_scale\":{\"id\":\"59b95e59-dbc6-4131-83b3-cac79ad3d5c9\",\"type\":\"LinearScale\"}},\"id\":\"a880520b-2cb3-45a7-b1cc-c6840d9b50bf\",\"subtype\":\"Figure\",\"type\":\"Plot\"},{\"attributes\":{},\"id\":\"077db0d1-d9fd-4ac8-a34f-894867c0353b\",\"type\":\"SaveTool\"},{\"attributes\":{\"callback\":null,\"column_names\":[\"x\",\"y\"],\"data\":{\"x\":[0,1,2,3,4,5,6,7,8,9,10],\"y\":[0,1,2,3,4,5,6,7,8,9,10]}},\"id\":\"9c3a4f6e-b41e-4350-83fb-9518e544adbf\",\"type\":\"ColumnDataSource\"},{\"attributes\":{},\"id\":\"252bdbf6-bfbd-49db-9768-7d509dd81aa8\",\"type\":\"ResetTool\"},{\"attributes\":{\"active_drag\":\"auto\",\"active_inspect\":\"auto\",\"active_scroll\":\"auto\",\"active_tap\":\"auto\",\"tools\":[{\"id\":\"9aa5c57f-bd9f-4a7f-92e0-0e184179932f\",\"type\":\"PanTool\"},{\"id\":\"dbf5369c-68a0-4537-a773-49fdb6f9ecda\",\"type\":\"WheelZoomTool\"},{\"id\":\"8df2c288-a0e1-421e-b4be-700ec0ba4295\",\"type\":\"BoxZoomTool\"},{\"id\":\"41b3ccdb-bcc9-4c75-b059-a4b6ab44c075\",\"type\":\"SaveTool\"},{\"id\":\"3e2d5360-f726-4195-a9dc-7a1f88753799\",\"type\":\"ResetTool\"},{\"id\":\"cc692b51-2320-4559-aaed-e34c0a2ebddf\",\"type\":\"HelpTool\"}]},\"id\":\"e00eaa91-f848-4de1-b814-20fce18fdab5\",\"type\":\"Toolbar\"},{\"attributes\":{},\"id\":\"8899fea1-9ebe-474e-89af-64d66cb44654\",\"type\":\"HelpTool\"},{\"attributes\":{\"callback\":null},\"id\":\"5885b78e-7925-4fbd-bfa1-f17872b95d0c\",\"type\":\"DataRange1d\"},{\"attributes\":{\"fill_alpha\":{\"value\":0.1},\"fill_color\":{\"value\":\"#1f77b4\"},\"line_alpha\":{\"value\":0.1},\"line_color\":{\"value\":\"#1f77b4\"},\"size\":{\"units\":\"screen\",\"value\":10},\"x\":{\"field\":\"x\"},\"y\":{\"field\":\"y\"}},\"id\":\"3f6457b9-ad2c-4101-b552-5e0b886eb5b5\",\"type\":\"Circle\"},{\"attributes\":{\"plot\":null,\"text\":\"\"},\"id\":\"8f43748b-c665-4123-943a-61e96e19982c\",\"type\":\"Title\"},{\"attributes\":{\"callback\":null},\"id\":\"f058985a-4c44-4f4e-a8aa-2dbde3e4b666\",\"type\":\"DataRange1d\"},{\"attributes\":{},\"id\":\"088cd617-328f-4759-8580-1d9e5c93759c\",\"type\":\"BasicTickFormatter\"},{\"attributes\":{},\"id\":\"9e4c4c0e-16ef-4f12-b2e1-7888a4b9478e\",\"type\":\"LinearScale\"},{\"attributes\":{\"height\":250,\"width\":250},\"id\":\"aa7b9f27-0e28-4115-a328-73325d2cd219\",\"type\":\"Spacer\"},{\"attributes\":{},\"id\":\"59b95e59-dbc6-4131-83b3-cac79ad3d5c9\",\"type\":\"LinearScale\"},{\"attributes\":{\"plot\":{\"id\":\"a880520b-2cb3-45a7-b1cc-c6840d9b50bf\",\"subtype\":\"Figure\",\"type\":\"Plot\"},\"ticker\":{\"id\":\"5cccd868-4c64-40ea-8ac9-1c7501686490\",\"type\":\"BasicTicker\"}},\"id\":\"24d0d3a6-8787-4551-babc-3a8446ca1cad\",\"type\":\"Grid\"},{\"attributes\":{\"formatter\":{\"id\":\"2bf2e872-021f-4c0e-be3e-427f5f0895c0\",\"type\":\"BasicTickFormatter\"},\"plot\":{\"id\":\"a880520b-2cb3-45a7-b1cc-c6840d9b50bf\",\"subtype\":\"Figure\",\"type\":\"Plot\"},\"ticker\":{\"id\":\"5cccd868-4c64-40ea-8ac9-1c7501686490\",\"type\":\"BasicTicker\"}},\"id\":\"69e52a7b-e97a-4e1b-beee-035f5beb7a5b\",\"type\":\"LinearAxis\"},{\"attributes\":{\"children\":[{\"id\":\"f1016aac-27c0-4dbc-8384-7e50105fdd65\",\"subtype\":\"Figure\",\"type\":\"Plot\"},{\"id\":\"aa7b9f27-0e28-4115-a328-73325d2cd219\",\"type\":\"Spacer\"}]},\"id\":\"2c3609bd-e405-4925-889d-d59e798b0ee9\",\"type\":\"Row\"},{\"attributes\":{},\"id\":\"5cccd868-4c64-40ea-8ac9-1c7501686490\",\"type\":\"BasicTicker\"},{\"attributes\":{\"formatter\":{\"id\":\"3e81d6ef-d7a7-494f-af35-4dca218efa27\",\"type\":\"BasicTickFormatter\"},\"plot\":{\"id\":\"a880520b-2cb3-45a7-b1cc-c6840d9b50bf\",\"subtype\":\"Figure\",\"type\":\"Plot\"},\"ticker\":{\"id\":\"a868cd17-268c-430e-9885-e1ad3ab5e722\",\"type\":\"BasicTicker\"}},\"id\":\"2d055fc7-5a5b-406b-9dd8-adfafbf99b6b\",\"type\":\"LinearAxis\"},{\"attributes\":{\"children\":[{\"id\":\"a880520b-2cb3-45a7-b1cc-c6840d9b50bf\",\"subtype\":\"Figure\",\"type\":\"Plot\"},{\"id\":\"bf142a2f-9314-4136-9e1d-e8ad5b3b045f\",\"subtype\":\"Figure\",\"type\":\"Plot\"}]},\"id\":\"1a7bb73d-c845-426f-aeb5-a569d1fa6e45\",\"type\":\"Row\"},{\"attributes\":{},\"id\":\"3e2d5360-f726-4195-a9dc-7a1f88753799\",\"type\":\"ResetTool\"},{\"attributes\":{},\"id\":\"cc692b51-2320-4559-aaed-e34c0a2ebddf\",\"type\":\"HelpTool\"},{\"attributes\":{\"dimension\":1,\"plot\":{\"id\":\"a880520b-2cb3-45a7-b1cc-c6840d9b50bf\",\"subtype\":\"Figure\",\"type\":\"Plot\"},\"ticker\":{\"id\":\"a868cd17-268c-430e-9885-e1ad3ab5e722\",\"type\":\"BasicTicker\"}},\"id\":\"308053f7-8077-4467-814c-595d0e1a3f76\",\"type\":\"Grid\"},{\"attributes\":{\"data_source\":{\"id\":\"9c3a4f6e-b41e-4350-83fb-9518e544adbf\",\"type\":\"ColumnDataSource\"},\"glyph\":{\"id\":\"d764e3c1-d0aa-4521-b2f4-876b9bb2766c\",\"type\":\"Circle\"},\"hover_glyph\":null,\"muted_glyph\":null,\"nonselection_glyph\":{\"id\":\"3f6457b9-ad2c-4101-b552-5e0b886eb5b5\",\"type\":\"Circle\"},\"selection_glyph\":null,\"view\":{\"id\":\"cf3cd53a-f2f7-45ac-b890-22bbf7ce0776\",\"type\":\"CDSView\"}},\"id\":\"862ae281-690a-4ddf-bb52-f74aa11709db\",\"type\":\"GlyphRenderer\"},{\"attributes\":{\"fill_alpha\":{\"value\":0.5},\"fill_color\":{\"value\":\"navy\"},\"line_alpha\":{\"value\":0.5},\"line_color\":{\"value\":\"navy\"},\"size\":{\"units\":\"screen\",\"value\":10},\"x\":{\"field\":\"x\"},\"y\":{\"field\":\"y\"}},\"id\":\"d764e3c1-d0aa-4521-b2f4-876b9bb2766c\",\"type\":\"Circle\"},{\"attributes\":{\"below\":[{\"id\":\"3c080d11-a954-4b9f-911b-07ad35f968df\",\"type\":\"LinearAxis\"}],\"left\":[{\"id\":\"48061aa4-f05e-42f5-9525-81b8b1d07ba9\",\"type\":\"LinearAxis\"}],\"plot_height\":250,\"plot_width\":250,\"renderers\":[{\"id\":\"3c080d11-a954-4b9f-911b-07ad35f968df\",\"type\":\"LinearAxis\"},{\"id\":\"adcd054b-1bc7-49a3-8556-0e42c8169e05\",\"type\":\"Grid\"},{\"id\":\"48061aa4-f05e-42f5-9525-81b8b1d07ba9\",\"type\":\"LinearAxis\"},{\"id\":\"32cc9e86-bc9c-480d-868d-a1dcbb518816\",\"type\":\"Grid\"},{\"id\":\"79bd003a-df76-4c71-9489-b8e142072246\",\"type\":\"BoxAnnotation\"},{\"id\":\"81516182-5cf9-410c-8cc1-e49643c1986d\",\"type\":\"GlyphRenderer\"}],\"title\":{\"id\":\"8d7031a9-67dd-4e2a-8970-5a1284b5f7d6\",\"type\":\"Title\"},\"toolbar\":{\"id\":\"b1e984d1-92bb-4ba6-aa2e-af5f46ec0dd0\",\"type\":\"Toolbar\"},\"toolbar_location\":null,\"x_range\":{\"id\":\"7d35c78e-8661-4383-9364-80321b146bd5\",\"type\":\"DataRange1d\"},\"x_scale\":{\"id\":\"d142f09c-d50a-4466-a2f5-c71867f91436\",\"type\":\"LinearScale\"},\"y_range\":{\"id\":\"dd967900-22c8-4583-953c-84ad5dd1b9fe\",\"type\":\"DataRange1d\"},\"y_scale\":{\"id\":\"d772bf47-3bf6-4333-9e7b-38bd1730e550\",\"type\":\"LinearScale\"}},\"id\":\"bf142a2f-9314-4136-9e1d-e8ad5b3b045f\",\"subtype\":\"Figure\",\"type\":\"Plot\"},{\"attributes\":{\"bottom_units\":\"screen\",\"fill_alpha\":{\"value\":0.5},\"fill_color\":{\"value\":\"lightgrey\"},\"left_units\":\"screen\",\"level\":\"overlay\",\"line_alpha\":{\"value\":1.0},\"line_color\":{\"value\":\"black\"},\"line_dash\":[4,4],\"line_width\":{\"value\":2},\"plot\":null,\"render_mode\":\"css\",\"right_units\":\"screen\",\"top_units\":\"screen\"},\"id\":\"1cbfc03a-c710-4367-a3fd-4646799515dc\",\"type\":\"BoxAnnotation\"},{\"attributes\":{},\"id\":\"9aa5c57f-bd9f-4a7f-92e0-0e184179932f\",\"type\":\"PanTool\"},{\"attributes\":{},\"id\":\"d772bf47-3bf6-4333-9e7b-38bd1730e550\",\"type\":\"LinearScale\"},{\"attributes\":{},\"id\":\"5e03d1ea-8bcb-4956-9bdd-1feef13c86d5\",\"type\":\"BasicTickFormatter\"},{\"attributes\":{\"plot\":null,\"text\":\"\"},\"id\":\"b9fcad4d-b5db-4e07-8995-230a824e354f\",\"type\":\"Title\"},{\"attributes\":{},\"id\":\"2bf2e872-021f-4c0e-be3e-427f5f0895c0\",\"type\":\"BasicTickFormatter\"},{\"attributes\":{\"source\":{\"id\":\"f13273fe-f596-46b6-af8b-364eea426e94\",\"type\":\"ColumnDataSource\"}},\"id\":\"08f7613b-729e-4195-957c-b49781ffd7c1\",\"type\":\"CDSView\"},{\"attributes\":{\"fill_alpha\":{\"value\":0.1},\"fill_color\":{\"value\":\"#1f77b4\"},\"line_alpha\":{\"value\":0.1},\"line_color\":{\"value\":\"#1f77b4\"},\"size\":{\"units\":\"screen\",\"value\":10},\"x\":{\"field\":\"x\"},\"y\":{\"field\":\"y\"}},\"id\":\"67a967c4-1dbc-4c88-ab65-56d7c3b20527\",\"type\":\"Triangle\"},{\"attributes\":{},\"id\":\"d142f09c-d50a-4466-a2f5-c71867f91436\",\"type\":\"LinearScale\"},{\"attributes\":{\"active_drag\":\"auto\",\"active_inspect\":\"auto\",\"active_scroll\":\"auto\",\"active_tap\":\"auto\",\"tools\":[{\"id\":\"e0b7c888-6270-4921-9863-5bfba80b9646\",\"type\":\"PanTool\"},{\"id\":\"26e65fd9-56d6-4fac-a4e1-91207b09c709\",\"type\":\"WheelZoomTool\"},{\"id\":\"f0815f7d-32b4-4082-a6d3-3562d319d06b\",\"type\":\"BoxZoomTool\"},{\"id\":\"a49b3320-7dd6-40ab-9036-65841e2d667d\",\"type\":\"SaveTool\"},{\"id\":\"03b50235-35a7-49d0-b6a2-989fd746b83c\",\"type\":\"ResetTool\"},{\"id\":\"f4e06c56-1ed5-4fdb-b754-becf2e61e0fc\",\"type\":\"HelpTool\"}]},\"id\":\"b1e984d1-92bb-4ba6-aa2e-af5f46ec0dd0\",\"type\":\"Toolbar\"},{\"attributes\":{\"callback\":null},\"id\":\"7d35c78e-8661-4383-9364-80321b146bd5\",\"type\":\"DataRange1d\"},{\"attributes\":{\"callback\":null,\"column_names\":[\"x\",\"y\"],\"data\":{\"x\":[0,1,2,3,4,5,6,7,8,9,10],\"y\":[10,9,8,7,6,5,4,3,2,1,0]}},\"id\":\"f13273fe-f596-46b6-af8b-364eea426e94\",\"type\":\"ColumnDataSource\"},{\"attributes\":{\"callback\":null},\"id\":\"dd967900-22c8-4583-953c-84ad5dd1b9fe\",\"type\":\"DataRange1d\"},{\"attributes\":{\"plot\":{\"id\":\"bf142a2f-9314-4136-9e1d-e8ad5b3b045f\",\"subtype\":\"Figure\",\"type\":\"Plot\"},\"ticker\":{\"id\":\"845ef08c-96a0-4638-9f20-35c3cc9a779a\",\"type\":\"BasicTicker\"}},\"id\":\"adcd054b-1bc7-49a3-8556-0e42c8169e05\",\"type\":\"Grid\"},{\"attributes\":{\"formatter\":{\"id\":\"f73bf209-4702-4e24-a637-7dfe0b4a0e4a\",\"type\":\"BasicTickFormatter\"},\"plot\":{\"id\":\"bf142a2f-9314-4136-9e1d-e8ad5b3b045f\",\"subtype\":\"Figure\",\"type\":\"Plot\"},\"ticker\":{\"id\":\"845ef08c-96a0-4638-9f20-35c3cc9a779a\",\"type\":\"BasicTicker\"}},\"id\":\"3c080d11-a954-4b9f-911b-07ad35f968df\",\"type\":\"LinearAxis\"},{\"attributes\":{},\"id\":\"845ef08c-96a0-4638-9f20-35c3cc9a779a\",\"type\":\"BasicTicker\"},{\"attributes\":{\"formatter\":{\"id\":\"5e03d1ea-8bcb-4956-9bdd-1feef13c86d5\",\"type\":\"BasicTickFormatter\"},\"plot\":{\"id\":\"bf142a2f-9314-4136-9e1d-e8ad5b3b045f\",\"subtype\":\"Figure\",\"type\":\"Plot\"},\"ticker\":{\"id\":\"3136beb3-8054-4cf1-9df8-8afd4d76050e\",\"type\":\"BasicTicker\"}},\"id\":\"48061aa4-f05e-42f5-9525-81b8b1d07ba9\",\"type\":\"LinearAxis\"},{\"attributes\":{},\"id\":\"3136beb3-8054-4cf1-9df8-8afd4d76050e\",\"type\":\"BasicTicker\"},{\"attributes\":{},\"id\":\"dbf5369c-68a0-4537-a773-49fdb6f9ecda\",\"type\":\"WheelZoomTool\"},{\"attributes\":{\"dimension\":1,\"plot\":{\"id\":\"bf142a2f-9314-4136-9e1d-e8ad5b3b045f\",\"subtype\":\"Figure\",\"type\":\"Plot\"},\"ticker\":{\"id\":\"3136beb3-8054-4cf1-9df8-8afd4d76050e\",\"type\":\"BasicTicker\"}},\"id\":\"32cc9e86-bc9c-480d-868d-a1dcbb518816\",\"type\":\"Grid\"},{\"attributes\":{\"data_source\":{\"id\":\"f13273fe-f596-46b6-af8b-364eea426e94\",\"type\":\"ColumnDataSource\"},\"glyph\":{\"id\":\"c8f22677-34e1-49c5-8ffd-a5fe17a862e3\",\"type\":\"Triangle\"},\"hover_glyph\":null,\"muted_glyph\":null,\"nonselection_glyph\":{\"id\":\"67a967c4-1dbc-4c88-ab65-56d7c3b20527\",\"type\":\"Triangle\"},\"selection_glyph\":null,\"view\":{\"id\":\"08f7613b-729e-4195-957c-b49781ffd7c1\",\"type\":\"CDSView\"}},\"id\":\"81516182-5cf9-410c-8cc1-e49643c1986d\",\"type\":\"GlyphRenderer\"},{\"attributes\":{\"fill_alpha\":{\"value\":0.5},\"fill_color\":{\"value\":\"firebrick\"},\"line_alpha\":{\"value\":0.5},\"line_color\":{\"value\":\"firebrick\"},\"size\":{\"units\":\"screen\",\"value\":10},\"x\":{\"field\":\"x\"},\"y\":{\"field\":\"y\"}},\"id\":\"c8f22677-34e1-49c5-8ffd-a5fe17a862e3\",\"type\":\"Triangle\"},{\"attributes\":{\"below\":[{\"id\":\"0959df48-d606-478a-8ce5-ba29d0dcd3ec\",\"type\":\"LinearAxis\"}],\"left\":[{\"id\":\"895c870a-6ff7-4154-8c81-62a3255b4fc7\",\"type\":\"LinearAxis\"}],\"plot_height\":250,\"plot_width\":250,\"renderers\":[{\"id\":\"0959df48-d606-478a-8ce5-ba29d0dcd3ec\",\"type\":\"LinearAxis\"},{\"id\":\"40b4d727-c0fc-4973-814f-8c8422189e90\",\"type\":\"Grid\"},{\"id\":\"895c870a-6ff7-4154-8c81-62a3255b4fc7\",\"type\":\"LinearAxis\"},{\"id\":\"4a47977f-b137-4856-a275-f33ad7a53980\",\"type\":\"Grid\"},{\"id\":\"af5f1cdd-8550-4b8f-92ad-b0e81013198a\",\"type\":\"BoxAnnotation\"},{\"id\":\"6f37bce5-ea52-4c76-887d-8ffdba03bc2a\",\"type\":\"GlyphRenderer\"}],\"title\":{\"id\":\"8f43748b-c665-4123-943a-61e96e19982c\",\"type\":\"Title\"},\"toolbar\":{\"id\":\"bba35244-fa4e-4215-b68c-67d6e1552355\",\"type\":\"Toolbar\"},\"toolbar_location\":null,\"x_range\":{\"id\":\"467e5361-b56e-401d-bd01-69f1563c3055\",\"type\":\"DataRange1d\"},\"x_scale\":{\"id\":\"15d3f88b-0168-43cb-9007-b34c6f10e8ed\",\"type\":\"LinearScale\"},\"y_range\":{\"id\":\"c737e81c-c94b-4307-910e-98c57479f27d\",\"type\":\"DataRange1d\"},\"y_scale\":{\"id\":\"cd2eb3d6-f9e9-4b0c-8a69-2d0e292473d8\",\"type\":\"LinearScale\"}},\"id\":\"f1016aac-27c0-4dbc-8384-7e50105fdd65\",\"subtype\":\"Figure\",\"type\":\"Plot\"},{\"attributes\":{\"overlay\":{\"id\":\"1cbfc03a-c710-4367-a3fd-4646799515dc\",\"type\":\"BoxAnnotation\"}},\"id\":\"8df2c288-a0e1-421e-b4be-700ec0ba4295\",\"type\":\"BoxZoomTool\"},{\"attributes\":{\"bottom_units\":\"screen\",\"fill_alpha\":{\"value\":0.5},\"fill_color\":{\"value\":\"lightgrey\"},\"left_units\":\"screen\",\"level\":\"overlay\",\"line_alpha\":{\"value\":1.0},\"line_color\":{\"value\":\"black\"},\"line_dash\":[4,4],\"line_width\":{\"value\":2},\"plot\":null,\"render_mode\":\"css\",\"right_units\":\"screen\",\"top_units\":\"screen\"},\"id\":\"79bd003a-df76-4c71-9489-b8e142072246\",\"type\":\"BoxAnnotation\"},{\"attributes\":{},\"id\":\"e0b7c888-6270-4921-9863-5bfba80b9646\",\"type\":\"PanTool\"},{\"attributes\":{},\"id\":\"cd2eb3d6-f9e9-4b0c-8a69-2d0e292473d8\",\"type\":\"LinearScale\"},{\"attributes\":{},\"id\":\"26e65fd9-56d6-4fac-a4e1-91207b09c709\",\"type\":\"WheelZoomTool\"},{\"attributes\":{\"overlay\":{\"id\":\"79bd003a-df76-4c71-9489-b8e142072246\",\"type\":\"BoxAnnotation\"}},\"id\":\"f0815f7d-32b4-4082-a6d3-3562d319d06b\",\"type\":\"BoxZoomTool\"},{\"attributes\":{},\"id\":\"a49b3320-7dd6-40ab-9036-65841e2d667d\",\"type\":\"SaveTool\"},{\"attributes\":{},\"id\":\"03b50235-35a7-49d0-b6a2-989fd746b83c\",\"type\":\"ResetTool\"},{\"attributes\":{},\"id\":\"f4e06c56-1ed5-4fdb-b754-becf2e61e0fc\",\"type\":\"HelpTool\"},{\"attributes\":{\"fill_alpha\":{\"value\":0.5},\"fill_color\":{\"value\":\"olive\"},\"line_alpha\":{\"value\":0.5},\"line_color\":{\"value\":\"olive\"},\"size\":{\"units\":\"screen\",\"value\":10},\"x\":{\"field\":\"x\"},\"y\":{\"field\":\"y\"}},\"id\":\"23f82e28-661f-4be8-aa8e-33d7e9b5501c\",\"type\":\"Square\"},{\"attributes\":{\"plot\":null,\"text\":\"\"},\"id\":\"8d7031a9-67dd-4e2a-8970-5a1284b5f7d6\",\"type\":\"Title\"},{\"attributes\":{},\"id\":\"f73bf209-4702-4e24-a637-7dfe0b4a0e4a\",\"type\":\"BasicTickFormatter\"},{\"attributes\":{\"children\":[{\"id\":\"1a7bb73d-c845-426f-aeb5-a569d1fa6e45\",\"type\":\"Row\"},{\"id\":\"2c3609bd-e405-4925-889d-d59e798b0ee9\",\"type\":\"Row\"}]},\"id\":\"e79cfad2-bc99-4804-8e28-96dd714d0ffa\",\"type\":\"Column\"},{\"attributes\":{},\"id\":\"ff6e8323-ab2d-4304-97bd-fac7414b7641\",\"type\":\"BasicTicker\"},{\"attributes\":{},\"id\":\"15d3f88b-0168-43cb-9007-b34c6f10e8ed\",\"type\":\"LinearScale\"},{\"attributes\":{},\"id\":\"a868cd17-268c-430e-9885-e1ad3ab5e722\",\"type\":\"BasicTicker\"},{\"attributes\":{\"active_drag\":\"auto\",\"active_inspect\":\"auto\",\"active_scroll\":\"auto\",\"active_tap\":\"auto\",\"tools\":[{\"id\":\"3fe6ae46-da4c-4fac-9cf6-869dde0efad8\",\"type\":\"PanTool\"},{\"id\":\"0f7f622d-4be8-454b-b0a5-3a9de194b8a8\",\"type\":\"WheelZoomTool\"},{\"id\":\"21690a88-b15e-4e72-b6eb-ef2ae497179d\",\"type\":\"BoxZoomTool\"},{\"id\":\"077db0d1-d9fd-4ac8-a34f-894867c0353b\",\"type\":\"SaveTool\"},{\"id\":\"252bdbf6-bfbd-49db-9768-7d509dd81aa8\",\"type\":\"ResetTool\"},{\"id\":\"8899fea1-9ebe-474e-89af-64d66cb44654\",\"type\":\"HelpTool\"}]},\"id\":\"bba35244-fa4e-4215-b68c-67d6e1552355\",\"type\":\"Toolbar\"},{\"attributes\":{\"callback\":null},\"id\":\"467e5361-b56e-401d-bd01-69f1563c3055\",\"type\":\"DataRange1d\"},{\"attributes\":{},\"id\":\"41b3ccdb-bcc9-4c75-b059-a4b6ab44c075\",\"type\":\"SaveTool\"},{\"attributes\":{\"callback\":null,\"column_names\":[\"x\",\"y\"],\"data\":{\"x\":[0,1,2,3,4,5,6,7,8,9,10],\"y\":[5,4,3,2,1,0,1,2,3,4,5]}},\"id\":\"17c37257-797d-4f06-83cb-2cd97e5a4f44\",\"type\":\"ColumnDataSource\"},{\"attributes\":{\"callback\":null},\"id\":\"c737e81c-c94b-4307-910e-98c57479f27d\",\"type\":\"DataRange1d\"},{\"attributes\":{\"formatter\":{\"id\":\"088cd617-328f-4759-8580-1d9e5c93759c\",\"type\":\"BasicTickFormatter\"},\"plot\":{\"id\":\"f1016aac-27c0-4dbc-8384-7e50105fdd65\",\"subtype\":\"Figure\",\"type\":\"Plot\"},\"ticker\":{\"id\":\"ff6e8323-ab2d-4304-97bd-fac7414b7641\",\"type\":\"BasicTicker\"}},\"id\":\"0959df48-d606-478a-8ce5-ba29d0dcd3ec\",\"type\":\"LinearAxis\"}],\"root_ids\":[\"e79cfad2-bc99-4804-8e28-96dd714d0ffa\"]},\"title\":\"Bokeh Application\",\"version\":\"0.12.8\"}};\n",
       "    var render_items = [{\"docid\":\"b1a54f75-c636-4e00-b803-9821c48ded1f\",\"elementid\":\"965babb5-a6b5-4806-91ad-d210a17e34d0\",\"modelid\":\"e79cfad2-bc99-4804-8e28-96dd714d0ffa\"}];\n",
       "\n",
       "    root.Bokeh.embed.embed_items(docs_json, render_items);\n",
       "  }\n",
       "\n",
       "  if (root.Bokeh !== undefined) {\n",
       "    embed_document(root);\n",
       "  } else {\n",
       "    var attempts = 0;\n",
       "    var timer = setInterval(function(root) {\n",
       "      if (root.Bokeh !== undefined) {\n",
       "        embed_document(root);\n",
       "        clearInterval(timer);\n",
       "      }\n",
       "      attempts++;\n",
       "      if (attempts > 100) {\n",
       "        console.log(\"Bokeh: ERROR: Unable to embed document because BokehJS library is missing\")\n",
       "        clearInterval(timer);\n",
       "      }\n",
       "    }, 10, root)\n",
       "  }\n",
       "})(window);"
      ],
      "application/vnd.bokehjs_exec.v0+json": ""
     },
     "metadata": {
      "application/vnd.bokehjs_exec.v0+json": {
       "id": "e79cfad2-bc99-4804-8e28-96dd714d0ffa"
      }
     },
     "output_type": "display_data"
    }
   ],
   "source": [
    "from bokeh.layouts import gridplot\n",
    "\n",
    "# create a new plot\n",
    "s1 = figure(width=250, plot_height=250)\n",
    "s1.circle(x, y0, size=10, color=\"navy\", alpha=0.5)\n",
    "\n",
    "# create another one\n",
    "s2 = figure(width=250, height=250)\n",
    "s2.triangle(x, y1, size=10, color=\"firebrick\", alpha=0.5)\n",
    "\n",
    "# create and another\n",
    "s3 = figure(width=250, height=250)\n",
    "s3.square(x, y2, size=10, color=\"olive\", alpha=0.5)\n",
    "\n",
    "# put all the plots in a gridplot\n",
    "p = gridplot([[s1, s2], [s3, None]], toolbar_location=None)\n",
    "\n",
    "# show the results\n",
    "show(p)"
   ]
  },
  {
   "cell_type": "code",
   "execution_count": 6,
   "metadata": {
    "collapsed": true
   },
   "outputs": [],
   "source": [
    "# EXERCISE: create a gridplot of your own\n"
   ]
  },
  {
   "cell_type": "code",
   "execution_count": null,
   "metadata": {
    "collapsed": true
   },
   "outputs": [],
   "source": []
  }
 ],
 "metadata": {
  "kernelspec": {
   "display_name": "Python 3",
   "language": "python",
   "name": "python3"
  },
  "language_info": {
   "codemirror_mode": {
    "name": "ipython",
    "version": 3
   },
   "file_extension": ".py",
   "mimetype": "text/x-python",
   "name": "python",
   "nbconvert_exporter": "python",
   "pygments_lexer": "ipython3",
   "version": "3.6.2"
  }
 },
 "nbformat": 4,
 "nbformat_minor": 2
}
