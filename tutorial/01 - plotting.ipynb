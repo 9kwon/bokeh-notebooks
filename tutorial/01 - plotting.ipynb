{
 "cells": [
  {
   "cell_type": "markdown",
   "metadata": {
    "collapsed": true
   },
   "source": [
    "<table style=\"float:left; border:none\">\n",
    "   <tr style=\"border:none\">\n",
    "       <td style=\"border:none\">\n",
    "           <a href=\"http://bokeh.pydata.org/\">     \n",
    "           <img \n",
    "               src=\"assets/images/bokeh-transparent.png\" \n",
    "               style=\"width:50px\"\n",
    "           >\n",
    "           </a>    \n",
    "       </td>\n",
    "       <td style=\"border:none\">\n",
    "           <h1>Bokeh Tutorial</h1>\n",
    "       </td>\n",
    "   </tr>\n",
    "</table>\n",
    "\n",
    "<div style=\"float:right;\"><h2>02. Basic Plotting Interface</h2></div>"
   ]
  },
  {
   "cell_type": "markdown",
   "metadata": {},
   "source": [
    "This section of the tutorial covers the [`bokeh.plotting`](http://bokeh.pydata.org/en/latest/docs/user_guide/plotting.html) \n",
    "interface. This interface is a \"mid-level\" interface, and the main idea can be described by the statement:\n",
    "\n",
    "**Starting from simple default figures (with sensible default tools, grids and axes), add markers and other shapes whose visual attributes are tied to directly data.**\n",
    "\n",
    "We will see that it is possible to customize and change all of the defaults, but having them means that it is possible to get up and running very quickly. "
   ]
  },
  {
   "cell_type": "markdown",
   "metadata": {},
   "source": [
    "# Imports and Setup\n",
    "\n",
    "When using the [`bokeh.plotting`](http://bokeh.pydata.org/en/latest/docs/user_guide/plotting.html) interface, there are a few common imports:\n",
    "* Use the [`figure`](http://bokeh.pydata.org/en/latest/docs/reference/plotting.html#bokeh.plotting.figure) function to  create new plot objects to work with. \n",
    "* Call the functions [`output_file`](http://bokeh.pydata.org/en/latest/docs/reference/resources_embedding.html#bokeh.io.output_file), [`output_notebook`](http://bokeh.pydata.org/en/latest/docs/reference/resources_embedding.html#bokeh.io.output_notebook), and [`output_server`](http://bokeh.pydata.org/en/latest/docs/reference/resources_embedding.html#bokeh.io.output_server) (possibly in combination) to tell Bokeh how to display or save output. \n",
    "* Execute [`show`](http://bokeh.pydata.org/en/latest/docs/reference/resources_embedding.html#bokeh.io.show) and  [`save`](http://bokeh.pydata.org/en/latest/docs/reference/resources_embedding.html#bokeh.io.save) to display or save plots and layouts."
   ]
  },
  {
   "cell_type": "code",
   "execution_count": 1,
   "metadata": {
    "collapsed": false
   },
   "outputs": [],
   "source": [
    "from bokeh.io import output_notebook, show\n",
    "from bokeh.plotting import figure"
   ]
  },
  {
   "cell_type": "markdown",
   "metadata": {},
   "source": [
    "In this case, we are in the Jupyter notebook, so call `output_notebook()`. We only need to call this once, and all subsequent calls to `show()` will display inline in the notebook."
   ]
  },
  {
   "cell_type": "code",
   "execution_count": 2,
   "metadata": {
    "collapsed": false
   },
   "outputs": [
    {
     "data": {
      "text/html": [
       "\n",
       "    <div class=\"bk-root\">\n",
       "        <a href=\"http://bokeh.pydata.org\" target=\"_blank\" class=\"bk-logo bk-logo-small bk-logo-notebook\"></a>\n",
       "        <span id=\"a59416a1-17dd-4777-b098-c0502d07a6cc\">Loading BokehJS ...</span>\n",
       "    </div>"
      ]
     },
     "metadata": {},
     "output_type": "display_data"
    },
    {
     "data": {
      "application/javascript": [
       "\n",
       "(function(global) {\n",
       "  function now() {\n",
       "    return new Date();\n",
       "  }\n",
       "\n",
       "  if (typeof (window._bokeh_onload_callbacks) === \"undefined\") {\n",
       "    window._bokeh_onload_callbacks = [];\n",
       "  }\n",
       "\n",
       "  function run_callbacks() {\n",
       "    window._bokeh_onload_callbacks.forEach(function(callback) { callback() });\n",
       "    delete window._bokeh_onload_callbacks\n",
       "    console.info(\"Bokeh: all callbacks have finished\");\n",
       "  }\n",
       "\n",
       "  function load_libs(js_urls, callback) {\n",
       "    window._bokeh_onload_callbacks.push(callback);\n",
       "    if (window._bokeh_is_loading > 0) {\n",
       "      console.log(\"Bokeh: BokehJS is being loaded, scheduling callback at\", now());\n",
       "      return null;\n",
       "    }\n",
       "    if (js_urls == null || js_urls.length === 0) {\n",
       "      run_callbacks();\n",
       "      return null;\n",
       "    }\n",
       "    console.log(\"Bokeh: BokehJS not loaded, scheduling load and callback at\", now());\n",
       "    window._bokeh_is_loading = js_urls.length;\n",
       "    for (var i = 0; i < js_urls.length; i++) {\n",
       "      var url = js_urls[i];\n",
       "      var s = document.createElement('script');\n",
       "      s.src = url;\n",
       "      s.async = false;\n",
       "      s.onreadystatechange = s.onload = function() {\n",
       "        window._bokeh_is_loading--;\n",
       "        if (window._bokeh_is_loading === 0) {\n",
       "          console.log(\"Bokeh: all BokehJS libraries loaded\");\n",
       "          run_callbacks()\n",
       "        }\n",
       "      };\n",
       "      s.onerror = function() {\n",
       "        console.warn(\"failed to load library \" + url);\n",
       "      };\n",
       "      console.log(\"Bokeh: injecting script tag for BokehJS library: \", url);\n",
       "      document.getElementsByTagName(\"head\")[0].appendChild(s);\n",
       "    }\n",
       "  };\n",
       "\n",
       "  var js_urls = ['https://cdn.pydata.org/bokeh/release/bokeh-0.12.0.min.js', 'https://cdn.pydata.org/bokeh/release/bokeh-widgets-0.12.0.min.js', 'https://cdn.pydata.org/bokeh/release/bokeh-compiler-0.12.0.min.js'];\n",
       "\n",
       "  var inline_js = [\n",
       "    function(Bokeh) {\n",
       "      Bokeh.set_log_level(\"info\");\n",
       "    },\n",
       "    \n",
       "    function(Bokeh) {\n",
       "      Bokeh.$(\"#a59416a1-17dd-4777-b098-c0502d07a6cc\").text(\"BokehJS successfully loaded\");\n",
       "    },\n",
       "    function(Bokeh) {\n",
       "      console.log(\"Bokeh: injecting CSS: https://cdn.pydata.org/bokeh/release/bokeh-0.12.0.min.css\");\n",
       "      Bokeh.embed.inject_css(\"https://cdn.pydata.org/bokeh/release/bokeh-0.12.0.min.css\");\n",
       "      console.log(\"Bokeh: injecting CSS: https://cdn.pydata.org/bokeh/release/bokeh-widgets-0.12.0.min.css\");\n",
       "      Bokeh.embed.inject_css(\"https://cdn.pydata.org/bokeh/release/bokeh-widgets-0.12.0.min.css\");\n",
       "    }\n",
       "  ];\n",
       "\n",
       "  function run_inline_js() {\n",
       "    for (var i = 0; i < inline_js.length; i++) {\n",
       "      inline_js[i](window.Bokeh);\n",
       "    }\n",
       "  }\n",
       "\n",
       "  if (window._bokeh_is_loading === 0) {\n",
       "    console.log(\"Bokeh: BokehJS loaded, going straight to plotting\");\n",
       "    run_inline_js();\n",
       "  } else {\n",
       "    load_libs(js_urls, function() {\n",
       "      console.log(\"Bokeh: BokehJS plotting callback run at\", now());\n",
       "      run_inline_js();\n",
       "    });\n",
       "  }\n",
       "}(this));"
      ]
     },
     "metadata": {},
     "output_type": "display_data"
    }
   ],
   "source": [
    "output_notebook()"
   ]
  },
  {
   "cell_type": "markdown",
   "metadata": {},
   "source": [
    "# Some Basic Scatter Plots\n",
    "\n",
    "In this section you will see how to use Bokeh's various marker types to create simple scatter plots. "
   ]
  },
  {
   "cell_type": "code",
   "execution_count": 3,
   "metadata": {
    "collapsed": false
   },
   "outputs": [
    {
     "data": {
      "text/html": [
       "\n",
       "\n",
       "    <div class=\"bk-root\">\n",
       "        <div class=\"plotdiv\" id=\"f02db7b3-6bf1-40ad-80bc-48b37a8901c1\"></div>\n",
       "    </div>\n",
       "<script type=\"text/javascript\">\n",
       "  \n",
       "  (function(global) {\n",
       "    function now() {\n",
       "      return new Date();\n",
       "    }\n",
       "  \n",
       "    if (typeof (window._bokeh_onload_callbacks) === \"undefined\") {\n",
       "      window._bokeh_onload_callbacks = [];\n",
       "    }\n",
       "  \n",
       "    function run_callbacks() {\n",
       "      window._bokeh_onload_callbacks.forEach(function(callback) { callback() });\n",
       "      delete window._bokeh_onload_callbacks\n",
       "      console.info(\"Bokeh: all callbacks have finished\");\n",
       "    }\n",
       "  \n",
       "    function load_libs(js_urls, callback) {\n",
       "      window._bokeh_onload_callbacks.push(callback);\n",
       "      if (window._bokeh_is_loading > 0) {\n",
       "        console.log(\"Bokeh: BokehJS is being loaded, scheduling callback at\", now());\n",
       "        return null;\n",
       "      }\n",
       "      if (js_urls == null || js_urls.length === 0) {\n",
       "        run_callbacks();\n",
       "        return null;\n",
       "      }\n",
       "      console.log(\"Bokeh: BokehJS not loaded, scheduling load and callback at\", now());\n",
       "      window._bokeh_is_loading = js_urls.length;\n",
       "      for (var i = 0; i < js_urls.length; i++) {\n",
       "        var url = js_urls[i];\n",
       "        var s = document.createElement('script');\n",
       "        s.src = url;\n",
       "        s.async = false;\n",
       "        s.onreadystatechange = s.onload = function() {\n",
       "          window._bokeh_is_loading--;\n",
       "          if (window._bokeh_is_loading === 0) {\n",
       "            console.log(\"Bokeh: all BokehJS libraries loaded\");\n",
       "            run_callbacks()\n",
       "          }\n",
       "        };\n",
       "        s.onerror = function() {\n",
       "          console.warn(\"failed to load library \" + url);\n",
       "        };\n",
       "        console.log(\"Bokeh: injecting script tag for BokehJS library: \", url);\n",
       "        document.getElementsByTagName(\"head\")[0].appendChild(s);\n",
       "      }\n",
       "    };var element = document.getElementById(\"f02db7b3-6bf1-40ad-80bc-48b37a8901c1\");\n",
       "    if (element == null) {\n",
       "      console.log(\"Bokeh: ERROR: autoload.js configured with elementid 'f02db7b3-6bf1-40ad-80bc-48b37a8901c1' but no matching script tag was found. \")\n",
       "      return false;\n",
       "    }\n",
       "  \n",
       "    var js_urls = [];\n",
       "  \n",
       "    var inline_js = [\n",
       "      function(Bokeh) {\n",
       "        Bokeh.$(function() {\n",
       "            var docs_json = {\"064185bc-cc53-4f36-8164-c86173d8a524\":{\"roots\":{\"references\":[{\"attributes\":{\"formatter\":{\"id\":\"a763baf6-aa78-4d7e-b6d1-cbbb20bd983a\",\"type\":\"BasicTickFormatter\"},\"plot\":{\"id\":\"4a540b3b-cc88-4f5a-84b9-c227c0fb4a8b\",\"subtype\":\"Figure\",\"type\":\"Plot\"},\"ticker\":{\"id\":\"39746e2a-0757-4067-8618-a9aa97b65f3d\",\"type\":\"BasicTicker\"}},\"id\":\"50bb50ae-e4f2-4af5-b4e0-57c5316210c6\",\"type\":\"LinearAxis\"},{\"attributes\":{\"dimension\":1,\"plot\":{\"id\":\"4a540b3b-cc88-4f5a-84b9-c227c0fb4a8b\",\"subtype\":\"Figure\",\"type\":\"Plot\"},\"ticker\":{\"id\":\"0c6a67c2-142f-47d4-a18d-f1a8a788260d\",\"type\":\"BasicTicker\"}},\"id\":\"c7aa1037-d6e2-4242-9026-0285dea293e3\",\"type\":\"Grid\"},{\"attributes\":{\"below\":[{\"id\":\"50bb50ae-e4f2-4af5-b4e0-57c5316210c6\",\"type\":\"LinearAxis\"}],\"left\":[{\"id\":\"602c4bee-e169-4811-a3a6-5157ee650b32\",\"type\":\"LinearAxis\"}],\"plot_height\":400,\"plot_width\":400,\"renderers\":[{\"id\":\"50bb50ae-e4f2-4af5-b4e0-57c5316210c6\",\"type\":\"LinearAxis\"},{\"id\":\"9980805d-6276-4ab2-9d4b-f9eacb9c9990\",\"type\":\"Grid\"},{\"id\":\"602c4bee-e169-4811-a3a6-5157ee650b32\",\"type\":\"LinearAxis\"},{\"id\":\"c7aa1037-d6e2-4242-9026-0285dea293e3\",\"type\":\"Grid\"},{\"id\":\"4dc47f38-64d9-47e7-bae7-565ee5c86828\",\"type\":\"BoxAnnotation\"},{\"id\":\"e6fa904e-3022-4d86-9970-bb9adbe1b80b\",\"type\":\"GlyphRenderer\"}],\"title\":{\"id\":\"ad130142-9b57-427c-b266-605660badd45\",\"type\":\"Title\"},\"tool_events\":{\"id\":\"54ddb4d9-d785-4755-9ea3-7e3f5c38d1ee\",\"type\":\"ToolEvents\"},\"toolbar\":{\"id\":\"ca43466d-8180-42c0-9a32-3372f3160a23\",\"type\":\"Toolbar\"},\"x_range\":{\"id\":\"72747fa4-46ad-437f-b9a8-87b485591332\",\"type\":\"DataRange1d\"},\"y_range\":{\"id\":\"62661027-78b0-4cbb-9224-e1addae33f78\",\"type\":\"DataRange1d\"}},\"id\":\"4a540b3b-cc88-4f5a-84b9-c227c0fb4a8b\",\"subtype\":\"Figure\",\"type\":\"Plot\"},{\"attributes\":{\"active_drag\":\"auto\",\"active_scroll\":\"auto\",\"active_tap\":\"auto\",\"tools\":[{\"id\":\"854d1eff-0dd7-4d74-b17a-39e243b659b7\",\"type\":\"PanTool\"},{\"id\":\"3c54a8de-0bd9-4bf1-a16c-4e93cabe654a\",\"type\":\"WheelZoomTool\"},{\"id\":\"8da34f79-79dc-4c28-b7f9-5c8fac805cd2\",\"type\":\"BoxZoomTool\"},{\"id\":\"297076b7-06e5-48ca-9ff6-82a953a3d1b5\",\"type\":\"SaveTool\"},{\"id\":\"b2e65812-d35d-4a68-8305-12dfda34a31c\",\"type\":\"ResetTool\"},{\"id\":\"495e2ac4-695b-4e18-b6e9-98c86be2df86\",\"type\":\"HelpTool\"}]},\"id\":\"ca43466d-8180-42c0-9a32-3372f3160a23\",\"type\":\"Toolbar\"},{\"attributes\":{\"plot\":null,\"text\":null},\"id\":\"ad130142-9b57-427c-b266-605660badd45\",\"type\":\"Title\"},{\"attributes\":{\"plot\":{\"id\":\"4a540b3b-cc88-4f5a-84b9-c227c0fb4a8b\",\"subtype\":\"Figure\",\"type\":\"Plot\"}},\"id\":\"b2e65812-d35d-4a68-8305-12dfda34a31c\",\"type\":\"ResetTool\"},{\"attributes\":{},\"id\":\"0c6a67c2-142f-47d4-a18d-f1a8a788260d\",\"type\":\"BasicTicker\"},{\"attributes\":{\"formatter\":{\"id\":\"2f1ca414-505f-4a16-bd0e-3fa6d62fa864\",\"type\":\"BasicTickFormatter\"},\"plot\":{\"id\":\"4a540b3b-cc88-4f5a-84b9-c227c0fb4a8b\",\"subtype\":\"Figure\",\"type\":\"Plot\"},\"ticker\":{\"id\":\"0c6a67c2-142f-47d4-a18d-f1a8a788260d\",\"type\":\"BasicTicker\"}},\"id\":\"602c4bee-e169-4811-a3a6-5157ee650b32\",\"type\":\"LinearAxis\"},{\"attributes\":{},\"id\":\"2f1ca414-505f-4a16-bd0e-3fa6d62fa864\",\"type\":\"BasicTickFormatter\"},{\"attributes\":{},\"id\":\"39746e2a-0757-4067-8618-a9aa97b65f3d\",\"type\":\"BasicTicker\"},{\"attributes\":{\"plot\":{\"id\":\"4a540b3b-cc88-4f5a-84b9-c227c0fb4a8b\",\"subtype\":\"Figure\",\"type\":\"Plot\"},\"ticker\":{\"id\":\"39746e2a-0757-4067-8618-a9aa97b65f3d\",\"type\":\"BasicTicker\"}},\"id\":\"9980805d-6276-4ab2-9d4b-f9eacb9c9990\",\"type\":\"Grid\"},{\"attributes\":{\"data_source\":{\"id\":\"640df489-0c5e-4c1c-8c45-ddf09b7bdfc8\",\"type\":\"ColumnDataSource\"},\"glyph\":{\"id\":\"45a0de6c-f8b7-4433-b041-e47b33c118fc\",\"type\":\"Circle\"},\"hover_glyph\":null,\"nonselection_glyph\":{\"id\":\"13c4072e-c6ad-4564-a0b9-74b5ae1e8aaa\",\"type\":\"Circle\"},\"selection_glyph\":null},\"id\":\"e6fa904e-3022-4d86-9970-bb9adbe1b80b\",\"type\":\"GlyphRenderer\"},{\"attributes\":{\"callback\":null},\"id\":\"72747fa4-46ad-437f-b9a8-87b485591332\",\"type\":\"DataRange1d\"},{\"attributes\":{\"fill_alpha\":{\"value\":0.5},\"fill_color\":{\"value\":\"orange\"},\"line_color\":{\"value\":\"navy\"},\"size\":{\"units\":\"screen\",\"value\":15},\"x\":{\"field\":\"x\"},\"y\":{\"field\":\"y\"}},\"id\":\"45a0de6c-f8b7-4433-b041-e47b33c118fc\",\"type\":\"Circle\"},{\"attributes\":{\"plot\":{\"id\":\"4a540b3b-cc88-4f5a-84b9-c227c0fb4a8b\",\"subtype\":\"Figure\",\"type\":\"Plot\"}},\"id\":\"3c54a8de-0bd9-4bf1-a16c-4e93cabe654a\",\"type\":\"WheelZoomTool\"},{\"attributes\":{\"plot\":{\"id\":\"4a540b3b-cc88-4f5a-84b9-c227c0fb4a8b\",\"subtype\":\"Figure\",\"type\":\"Plot\"}},\"id\":\"297076b7-06e5-48ca-9ff6-82a953a3d1b5\",\"type\":\"SaveTool\"},{\"attributes\":{\"plot\":{\"id\":\"4a540b3b-cc88-4f5a-84b9-c227c0fb4a8b\",\"subtype\":\"Figure\",\"type\":\"Plot\"}},\"id\":\"495e2ac4-695b-4e18-b6e9-98c86be2df86\",\"type\":\"HelpTool\"},{\"attributes\":{},\"id\":\"54ddb4d9-d785-4755-9ea3-7e3f5c38d1ee\",\"type\":\"ToolEvents\"},{\"attributes\":{\"callback\":null,\"column_names\":[\"x\",\"y\"],\"data\":{\"x\":[1,2,3,4,5],\"y\":[6,7,2,4,5]}},\"id\":\"640df489-0c5e-4c1c-8c45-ddf09b7bdfc8\",\"type\":\"ColumnDataSource\"},{\"attributes\":{\"overlay\":{\"id\":\"4dc47f38-64d9-47e7-bae7-565ee5c86828\",\"type\":\"BoxAnnotation\"},\"plot\":{\"id\":\"4a540b3b-cc88-4f5a-84b9-c227c0fb4a8b\",\"subtype\":\"Figure\",\"type\":\"Plot\"}},\"id\":\"8da34f79-79dc-4c28-b7f9-5c8fac805cd2\",\"type\":\"BoxZoomTool\"},{\"attributes\":{\"bottom_units\":\"screen\",\"fill_alpha\":{\"value\":0.5},\"fill_color\":{\"value\":\"lightgrey\"},\"left_units\":\"screen\",\"level\":\"overlay\",\"line_alpha\":{\"value\":1.0},\"line_color\":{\"value\":\"black\"},\"line_dash\":[4,4],\"line_width\":{\"value\":2},\"plot\":null,\"render_mode\":\"css\",\"right_units\":\"screen\",\"top_units\":\"screen\"},\"id\":\"4dc47f38-64d9-47e7-bae7-565ee5c86828\",\"type\":\"BoxAnnotation\"},{\"attributes\":{\"plot\":{\"id\":\"4a540b3b-cc88-4f5a-84b9-c227c0fb4a8b\",\"subtype\":\"Figure\",\"type\":\"Plot\"}},\"id\":\"854d1eff-0dd7-4d74-b17a-39e243b659b7\",\"type\":\"PanTool\"},{\"attributes\":{\"fill_alpha\":{\"value\":0.1},\"fill_color\":{\"value\":\"#1f77b4\"},\"line_alpha\":{\"value\":0.1},\"line_color\":{\"value\":\"#1f77b4\"},\"size\":{\"units\":\"screen\",\"value\":15},\"x\":{\"field\":\"x\"},\"y\":{\"field\":\"y\"}},\"id\":\"13c4072e-c6ad-4564-a0b9-74b5ae1e8aaa\",\"type\":\"Circle\"},{\"attributes\":{},\"id\":\"a763baf6-aa78-4d7e-b6d1-cbbb20bd983a\",\"type\":\"BasicTickFormatter\"},{\"attributes\":{\"callback\":null},\"id\":\"62661027-78b0-4cbb-9224-e1addae33f78\",\"type\":\"DataRange1d\"}],\"root_ids\":[\"4a540b3b-cc88-4f5a-84b9-c227c0fb4a8b\"]},\"title\":\"Bokeh Application\",\"version\":\"0.12.0\"}};\n",
       "            var render_items = [{\"docid\":\"064185bc-cc53-4f36-8164-c86173d8a524\",\"elementid\":\"f02db7b3-6bf1-40ad-80bc-48b37a8901c1\",\"modelid\":\"4a540b3b-cc88-4f5a-84b9-c227c0fb4a8b\",\"notebook_comms_target\":\"44cd9acc-4c99-4972-ba73-d5a35dfd5326\"}];\n",
       "            \n",
       "            Bokeh.embed.embed_items(docs_json, render_items);\n",
       "        });\n",
       "      },\n",
       "      function(Bokeh) {\n",
       "      }\n",
       "    ];\n",
       "  \n",
       "    function run_inline_js() {\n",
       "      for (var i = 0; i < inline_js.length; i++) {\n",
       "        inline_js[i](window.Bokeh);\n",
       "      }\n",
       "    }\n",
       "  \n",
       "    if (window._bokeh_is_loading === 0) {\n",
       "      console.log(\"Bokeh: BokehJS loaded, going straight to plotting\");\n",
       "      run_inline_js();\n",
       "    } else {\n",
       "      load_libs(js_urls, function() {\n",
       "        console.log(\"Bokeh: BokehJS plotting callback run at\", now());\n",
       "        run_inline_js();\n",
       "      });\n",
       "    }\n",
       "  }(this));\n",
       "</script>"
      ]
     },
     "metadata": {},
     "output_type": "display_data"
    },
    {
     "data": {
      "text/html": [
       "<p><code>&lt;Bokeh Notebook handle for <strong>In[3]</strong>&gt;</code></p>"
      ],
      "text/plain": [
       "<bokeh.io._CommsHandle at 0x10da19668>"
      ]
     },
     "execution_count": 3,
     "metadata": {},
     "output_type": "execute_result"
    }
   ],
   "source": [
    "# create a new plot with default tools, using figure\n",
    "p = figure(plot_width=400, plot_height=400)\n",
    "\n",
    "# add a circle renderer with a size, color, and alpha\n",
    "p.circle([1, 2, 3, 4, 5], [6, 7, 2, 4, 5], size=15, line_color=\"navy\", fill_color=\"orange\", fill_alpha=0.5)\n",
    "\n",
    "show(p) # show the results"
   ]
  },
  {
   "cell_type": "markdown",
   "metadata": {},
   "source": [
    "All Bokeh markers accept `size` (measured in screen space units) as a property. Circles also have `radius` (measured in \"data\" space units). "
   ]
  },
  {
   "cell_type": "code",
   "execution_count": 4,
   "metadata": {
    "collapsed": true
   },
   "outputs": [],
   "source": [
    "# EXERCISE: Try changing the example above to set a `radius` value instead of `size`\n",
    "\n"
   ]
  },
  {
   "cell_type": "markdown",
   "metadata": {},
   "source": [
    "To scatter square markers instead of circles, you can use the `square` method on figures. "
   ]
  },
  {
   "cell_type": "code",
   "execution_count": 5,
   "metadata": {
    "collapsed": false
   },
   "outputs": [
    {
     "data": {
      "text/html": [
       "\n",
       "\n",
       "    <div class=\"bk-root\">\n",
       "        <div class=\"plotdiv\" id=\"ccfeedab-0db1-4e49-8725-e39a535001e5\"></div>\n",
       "    </div>\n",
       "<script type=\"text/javascript\">\n",
       "  \n",
       "  (function(global) {\n",
       "    function now() {\n",
       "      return new Date();\n",
       "    }\n",
       "  \n",
       "    if (typeof (window._bokeh_onload_callbacks) === \"undefined\") {\n",
       "      window._bokeh_onload_callbacks = [];\n",
       "    }\n",
       "  \n",
       "    function run_callbacks() {\n",
       "      window._bokeh_onload_callbacks.forEach(function(callback) { callback() });\n",
       "      delete window._bokeh_onload_callbacks\n",
       "      console.info(\"Bokeh: all callbacks have finished\");\n",
       "    }\n",
       "  \n",
       "    function load_libs(js_urls, callback) {\n",
       "      window._bokeh_onload_callbacks.push(callback);\n",
       "      if (window._bokeh_is_loading > 0) {\n",
       "        console.log(\"Bokeh: BokehJS is being loaded, scheduling callback at\", now());\n",
       "        return null;\n",
       "      }\n",
       "      if (js_urls == null || js_urls.length === 0) {\n",
       "        run_callbacks();\n",
       "        return null;\n",
       "      }\n",
       "      console.log(\"Bokeh: BokehJS not loaded, scheduling load and callback at\", now());\n",
       "      window._bokeh_is_loading = js_urls.length;\n",
       "      for (var i = 0; i < js_urls.length; i++) {\n",
       "        var url = js_urls[i];\n",
       "        var s = document.createElement('script');\n",
       "        s.src = url;\n",
       "        s.async = false;\n",
       "        s.onreadystatechange = s.onload = function() {\n",
       "          window._bokeh_is_loading--;\n",
       "          if (window._bokeh_is_loading === 0) {\n",
       "            console.log(\"Bokeh: all BokehJS libraries loaded\");\n",
       "            run_callbacks()\n",
       "          }\n",
       "        };\n",
       "        s.onerror = function() {\n",
       "          console.warn(\"failed to load library \" + url);\n",
       "        };\n",
       "        console.log(\"Bokeh: injecting script tag for BokehJS library: \", url);\n",
       "        document.getElementsByTagName(\"head\")[0].appendChild(s);\n",
       "      }\n",
       "    };var element = document.getElementById(\"ccfeedab-0db1-4e49-8725-e39a535001e5\");\n",
       "    if (element == null) {\n",
       "      console.log(\"Bokeh: ERROR: autoload.js configured with elementid 'ccfeedab-0db1-4e49-8725-e39a535001e5' but no matching script tag was found. \")\n",
       "      return false;\n",
       "    }\n",
       "  \n",
       "    var js_urls = [];\n",
       "  \n",
       "    var inline_js = [\n",
       "      function(Bokeh) {\n",
       "        Bokeh.$(function() {\n",
       "            var docs_json = {\"4dfc4c44-fda5-443c-8540-ffcd0448cb9b\":{\"roots\":{\"references\":[{\"attributes\":{\"plot\":{\"id\":\"2f7f2049-d5fd-4824-bde8-b5495af37c70\",\"subtype\":\"Figure\",\"type\":\"Plot\"}},\"id\":\"73411376-323d-42a5-a641-ac5f64fa7cd8\",\"type\":\"WheelZoomTool\"},{\"attributes\":{\"fill_alpha\":{\"value\":0.1},\"fill_color\":{\"value\":\"#1f77b4\"},\"line_alpha\":{\"value\":0.1},\"line_color\":{\"value\":\"#1f77b4\"},\"size\":{\"field\":\"size\",\"units\":\"screen\"},\"x\":{\"field\":\"x\"},\"y\":{\"field\":\"y\"}},\"id\":\"36c61457-f283-453c-838f-10fbb6bf7740\",\"type\":\"Square\"},{\"attributes\":{\"bottom_units\":\"screen\",\"fill_alpha\":{\"value\":0.5},\"fill_color\":{\"value\":\"lightgrey\"},\"left_units\":\"screen\",\"level\":\"overlay\",\"line_alpha\":{\"value\":1.0},\"line_color\":{\"value\":\"black\"},\"line_dash\":[4,4],\"line_width\":{\"value\":2},\"plot\":null,\"render_mode\":\"css\",\"right_units\":\"screen\",\"top_units\":\"screen\"},\"id\":\"a65e0e7f-73b6-4720-9106-20a242090ef4\",\"type\":\"BoxAnnotation\"},{\"attributes\":{\"plot\":{\"id\":\"2f7f2049-d5fd-4824-bde8-b5495af37c70\",\"subtype\":\"Figure\",\"type\":\"Plot\"}},\"id\":\"fddf56e5-7469-4ac0-9420-ee2d73d5dfc2\",\"type\":\"PanTool\"},{\"attributes\":{},\"id\":\"9f103892-70cc-478e-9766-859ea9436833\",\"type\":\"ToolEvents\"},{\"attributes\":{\"formatter\":{\"id\":\"097c63ce-549c-47b5-a210-ee3a72147705\",\"type\":\"BasicTickFormatter\"},\"plot\":{\"id\":\"2f7f2049-d5fd-4824-bde8-b5495af37c70\",\"subtype\":\"Figure\",\"type\":\"Plot\"},\"ticker\":{\"id\":\"634d812c-3b94-4f34-a460-b6e1a7434b13\",\"type\":\"BasicTicker\"}},\"id\":\"698be53a-51bd-402c-bd20-d4d1321b4365\",\"type\":\"LinearAxis\"},{\"attributes\":{\"callback\":null,\"column_names\":[\"x\",\"y\",\"size\"],\"data\":{\"size\":[10,15,20,25,30],\"x\":[1,2,3,4,5],\"y\":[6,7,2,4,5]}},\"id\":\"bcb148aa-ecde-4c96-94e4-c6a2219740f0\",\"type\":\"ColumnDataSource\"},{\"attributes\":{\"callback\":null},\"id\":\"788835e7-0a9b-443e-8eff-0e9c0f548b36\",\"type\":\"DataRange1d\"},{\"attributes\":{\"overlay\":{\"id\":\"a65e0e7f-73b6-4720-9106-20a242090ef4\",\"type\":\"BoxAnnotation\"},\"plot\":{\"id\":\"2f7f2049-d5fd-4824-bde8-b5495af37c70\",\"subtype\":\"Figure\",\"type\":\"Plot\"}},\"id\":\"406d2a49-7674-45cd-a274-83bdb98cdfa9\",\"type\":\"BoxZoomTool\"},{\"attributes\":{\"plot\":{\"id\":\"2f7f2049-d5fd-4824-bde8-b5495af37c70\",\"subtype\":\"Figure\",\"type\":\"Plot\"},\"ticker\":{\"id\":\"f2a9da73-083b-4db7-a087-e65f0c27790d\",\"type\":\"BasicTicker\"}},\"id\":\"0ee39294-7a2b-4ea0-82f6-660f2958cb13\",\"type\":\"Grid\"},{\"attributes\":{\"active_drag\":\"auto\",\"active_scroll\":\"auto\",\"active_tap\":\"auto\",\"tools\":[{\"id\":\"fddf56e5-7469-4ac0-9420-ee2d73d5dfc2\",\"type\":\"PanTool\"},{\"id\":\"73411376-323d-42a5-a641-ac5f64fa7cd8\",\"type\":\"WheelZoomTool\"},{\"id\":\"406d2a49-7674-45cd-a274-83bdb98cdfa9\",\"type\":\"BoxZoomTool\"},{\"id\":\"b0b84ba6-8d3d-4ef4-8232-f2063be418d5\",\"type\":\"SaveTool\"},{\"id\":\"fcbeb642-8d78-489b-9171-a1c7671c41fd\",\"type\":\"ResetTool\"},{\"id\":\"0fb4ce17-2494-414b-bd69-adda04db25d7\",\"type\":\"HelpTool\"}]},\"id\":\"def4c706-9062-464d-8ee5-def6d6460b39\",\"type\":\"Toolbar\"},{\"attributes\":{\"data_source\":{\"id\":\"bcb148aa-ecde-4c96-94e4-c6a2219740f0\",\"type\":\"ColumnDataSource\"},\"glyph\":{\"id\":\"2e660f1a-2b64-492b-964d-6687d172cf23\",\"type\":\"Square\"},\"hover_glyph\":null,\"nonselection_glyph\":{\"id\":\"36c61457-f283-453c-838f-10fbb6bf7740\",\"type\":\"Square\"},\"selection_glyph\":null},\"id\":\"7b9cc844-836c-4394-8bbc-886dfa6cc4aa\",\"type\":\"GlyphRenderer\"},{\"attributes\":{},\"id\":\"097c63ce-549c-47b5-a210-ee3a72147705\",\"type\":\"BasicTickFormatter\"},{\"attributes\":{},\"id\":\"f2a9da73-083b-4db7-a087-e65f0c27790d\",\"type\":\"BasicTicker\"},{\"attributes\":{\"plot\":null,\"text\":null},\"id\":\"c9cb7324-ddd0-49fa-baef-8d1f95c9eeca\",\"type\":\"Title\"},{\"attributes\":{\"formatter\":{\"id\":\"d15b0402-7f4f-479e-8eb6-a1c47ccb5892\",\"type\":\"BasicTickFormatter\"},\"plot\":{\"id\":\"2f7f2049-d5fd-4824-bde8-b5495af37c70\",\"subtype\":\"Figure\",\"type\":\"Plot\"},\"ticker\":{\"id\":\"f2a9da73-083b-4db7-a087-e65f0c27790d\",\"type\":\"BasicTicker\"}},\"id\":\"5739ebab-9fac-4d2f-8339-a107f1e33b6d\",\"type\":\"LinearAxis\"},{\"attributes\":{},\"id\":\"d15b0402-7f4f-479e-8eb6-a1c47ccb5892\",\"type\":\"BasicTickFormatter\"},{\"attributes\":{\"plot\":{\"id\":\"2f7f2049-d5fd-4824-bde8-b5495af37c70\",\"subtype\":\"Figure\",\"type\":\"Plot\"}},\"id\":\"0fb4ce17-2494-414b-bd69-adda04db25d7\",\"type\":\"HelpTool\"},{\"attributes\":{\"plot\":{\"id\":\"2f7f2049-d5fd-4824-bde8-b5495af37c70\",\"subtype\":\"Figure\",\"type\":\"Plot\"}},\"id\":\"fcbeb642-8d78-489b-9171-a1c7671c41fd\",\"type\":\"ResetTool\"},{\"attributes\":{},\"id\":\"634d812c-3b94-4f34-a460-b6e1a7434b13\",\"type\":\"BasicTicker\"},{\"attributes\":{\"callback\":null},\"id\":\"8c3c7628-440e-4d39-860b-bc29e9a9976a\",\"type\":\"DataRange1d\"},{\"attributes\":{\"plot\":{\"id\":\"2f7f2049-d5fd-4824-bde8-b5495af37c70\",\"subtype\":\"Figure\",\"type\":\"Plot\"}},\"id\":\"b0b84ba6-8d3d-4ef4-8232-f2063be418d5\",\"type\":\"SaveTool\"},{\"attributes\":{\"below\":[{\"id\":\"5739ebab-9fac-4d2f-8339-a107f1e33b6d\",\"type\":\"LinearAxis\"}],\"left\":[{\"id\":\"698be53a-51bd-402c-bd20-d4d1321b4365\",\"type\":\"LinearAxis\"}],\"plot_height\":400,\"plot_width\":400,\"renderers\":[{\"id\":\"5739ebab-9fac-4d2f-8339-a107f1e33b6d\",\"type\":\"LinearAxis\"},{\"id\":\"0ee39294-7a2b-4ea0-82f6-660f2958cb13\",\"type\":\"Grid\"},{\"id\":\"698be53a-51bd-402c-bd20-d4d1321b4365\",\"type\":\"LinearAxis\"},{\"id\":\"8c50c12e-9f41-4433-a1b9-9dec879799c8\",\"type\":\"Grid\"},{\"id\":\"a65e0e7f-73b6-4720-9106-20a242090ef4\",\"type\":\"BoxAnnotation\"},{\"id\":\"7b9cc844-836c-4394-8bbc-886dfa6cc4aa\",\"type\":\"GlyphRenderer\"}],\"title\":{\"id\":\"c9cb7324-ddd0-49fa-baef-8d1f95c9eeca\",\"type\":\"Title\"},\"tool_events\":{\"id\":\"9f103892-70cc-478e-9766-859ea9436833\",\"type\":\"ToolEvents\"},\"toolbar\":{\"id\":\"def4c706-9062-464d-8ee5-def6d6460b39\",\"type\":\"Toolbar\"},\"x_range\":{\"id\":\"788835e7-0a9b-443e-8eff-0e9c0f548b36\",\"type\":\"DataRange1d\"},\"y_range\":{\"id\":\"8c3c7628-440e-4d39-860b-bc29e9a9976a\",\"type\":\"DataRange1d\"}},\"id\":\"2f7f2049-d5fd-4824-bde8-b5495af37c70\",\"subtype\":\"Figure\",\"type\":\"Plot\"},{\"attributes\":{\"dimension\":1,\"plot\":{\"id\":\"2f7f2049-d5fd-4824-bde8-b5495af37c70\",\"subtype\":\"Figure\",\"type\":\"Plot\"},\"ticker\":{\"id\":\"634d812c-3b94-4f34-a460-b6e1a7434b13\",\"type\":\"BasicTicker\"}},\"id\":\"8c50c12e-9f41-4433-a1b9-9dec879799c8\",\"type\":\"Grid\"},{\"attributes\":{\"fill_alpha\":{\"value\":0.6},\"fill_color\":{\"value\":\"firebrick\"},\"line_alpha\":{\"value\":0.6},\"line_color\":{\"value\":\"firebrick\"},\"size\":{\"field\":\"size\",\"units\":\"screen\"},\"x\":{\"field\":\"x\"},\"y\":{\"field\":\"y\"}},\"id\":\"2e660f1a-2b64-492b-964d-6687d172cf23\",\"type\":\"Square\"}],\"root_ids\":[\"2f7f2049-d5fd-4824-bde8-b5495af37c70\"]},\"title\":\"Bokeh Application\",\"version\":\"0.12.0\"}};\n",
       "            var render_items = [{\"docid\":\"4dfc4c44-fda5-443c-8540-ffcd0448cb9b\",\"elementid\":\"ccfeedab-0db1-4e49-8725-e39a535001e5\",\"modelid\":\"2f7f2049-d5fd-4824-bde8-b5495af37c70\",\"notebook_comms_target\":\"12984c14-8d29-4cc9-a33a-af4650ad2d40\"}];\n",
       "            \n",
       "            Bokeh.embed.embed_items(docs_json, render_items);\n",
       "        });\n",
       "      },\n",
       "      function(Bokeh) {\n",
       "      }\n",
       "    ];\n",
       "  \n",
       "    function run_inline_js() {\n",
       "      for (var i = 0; i < inline_js.length; i++) {\n",
       "        inline_js[i](window.Bokeh);\n",
       "      }\n",
       "    }\n",
       "  \n",
       "    if (window._bokeh_is_loading === 0) {\n",
       "      console.log(\"Bokeh: BokehJS loaded, going straight to plotting\");\n",
       "      run_inline_js();\n",
       "    } else {\n",
       "      load_libs(js_urls, function() {\n",
       "        console.log(\"Bokeh: BokehJS plotting callback run at\", now());\n",
       "        run_inline_js();\n",
       "      });\n",
       "    }\n",
       "  }(this));\n",
       "</script>"
      ]
     },
     "metadata": {},
     "output_type": "display_data"
    },
    {
     "data": {
      "text/html": [
       "<p><code>&lt;Bokeh Notebook handle for <strong>In[5]</strong>&gt;</code></p>"
      ],
      "text/plain": [
       "<bokeh.io._CommsHandle at 0x10da2ccc0>"
      ]
     },
     "execution_count": 5,
     "metadata": {},
     "output_type": "execute_result"
    }
   ],
   "source": [
    "# create a new plot using figure\n",
    "p = figure(plot_width=400, plot_height=400)\n",
    "\n",
    "# add a square renderer with a size, color, alpha, and sizes\n",
    "p.square([1, 2, 3, 4, 5], [6, 7, 2, 4, 5], size=[10, 15, 20, 25, 30], color=\"firebrick\", alpha=0.6)\n",
    "\n",
    "show(p) # show the results"
   ]
  },
  {
   "cell_type": "markdown",
   "metadata": {},
   "source": [
    "Note that in the example above, we are also specifying different sizes for each individual marker. ***In general, all of a glyph's properties can be \"vectorized\" in this fashion. ***  Also note that we have passed ``color`` as a shorthand to set both the line and fill colors easily at the same time. This is a convenience specific to ``bokeh.plotting``.\n",
    "\n",
    "</table><p>There are many marker types available in Bokeh, you can see details and\n",
    "example plots for all of them in the reference guide by clicking on entries in the list below:</p>\n",
    "<table class=\"hlist\" style=\"float:left\"><tr><td><ul>\n",
    "<li><a href=\"http://bokeh.pydata.org/en/latest/docs/reference/plotting.html#bokeh.plotting.Figure.asterisk\" title=\"bokeh.plotting.Figure.asterisk\"><code class=\"xref py py-func docutils literal\"><span class=\"pre\">asterisk()</span></code></a></li>\n",
    "<li><a href=\"http://bokeh.pydata.org/en/latest/docs/reference/plotting.html#bokeh.plotting.Figure.circle\" title=\"bokeh.plotting.Figure.circle\"><code class=\"xref py py-func docutils literal\"><span class=\"pre\">circle()</span></code></a></li>\n",
    "<li><a href=\"http://bokeh.pydata.org/en/latest/docs/reference/plotting.html#bokeh.plotting.Figure.circle_cross\" title=\"bokeh.plotting.Figure.circle_cross\"><code class=\"xref py py-func docutils literal\"><span class=\"pre\">circle_cross()</span></code></a></li>\n",
    "<li><a href=\"http://bokeh.pydata.org/en/latest/docs/reference/plotting.html#bokeh.plotting.Figure.circle_x\" title=\"bokeh.plotting.Figure.circle_x\"><code class=\"xref py py-func docutils literal\"><span class=\"pre\">circle_x()</span></code></a></li>\n",
    "<li><a href=\"http://bokeh.pydata.org/en/latest/docs/reference/plotting.html#bokeh.plotting.Figure.cross\" title=\"bokeh.plotting.Figure.cross\"><code class=\"xref py py-func docutils literal\"><span class=\"pre\">cross()</span></code></a></li>\n",
    "</ul>\n",
    "</td><td><ul>\n",
    "<li><a href=\"http://bokeh.pydata.org/en/latest/docs/reference/plotting.html#bokeh.plotting.Figure.diamond\" title=\"bokeh.plotting.Figure.diamond\"><code class=\"xref py py-func docutils literal\"><span class=\"pre\">diamond()</span></code></a></li>\n",
    "<li><a href=\"http://bokeh.pydata.org/en/latest/docs/reference/plotting.html#bokeh.plotting.Figure.diamond_cross\" title=\"bokeh.plotting.Figure.diamond_cross\"><code class=\"xref py py-func docutils literal\"><span class=\"pre\">diamond_cross()</span></code></a></li>\n",
    "<li><a href=\"http://bokeh.pydata.org/en/latest/docs/reference/plotting.html#bokeh.plotting.Figure.inverted_triangle\" title=\"bokeh.plotting.Figure.inverted_triangle\"><code class=\"xref py py-func docutils literal\"><span class=\"pre\">inverted_triangle()</span></code></a></li>\n",
    "<li><a href=\"http://bokeh.pydata.org/en/latest/docs/reference/plotting.html#bokeh.plotting.Figure.square\" title=\"bokeh.plotting.Figure.square\"><code class=\"xref py py-func docutils literal\"><span class=\"pre\">square()</span></code></a></li>\n",
    "</ul>\n",
    "</td><td><ul>\n",
    "<li><a href=\"http://bokeh.pydata.org/en/latest/docs/reference/plotting.html#bokeh.plotting.Figure.square_cross\" title=\"bokeh.plotting.Figure.square_cross\"><code class=\"xref py py-func docutils literal\"><span class=\"pre\">square_cross()</span></code></a></li>\n",
    "<li><a href=\"http://bokeh.pydata.org/en/latest/docs/reference/plotting.html#bokeh.plotting.Figure.square_x\" title=\"bokeh.plotting.Figure.square_x\"><code class=\"xref py py-func docutils literal\"><span class=\"pre\">square_x()</span></code></a></li>\n",
    "<li><a href=\"http://bokeh.pydata.org/en/latest/docs/reference/plotting.html#bokeh.plotting.Figure.triangle\" title=\"bokeh.plotting.Figure.triangle\"><code class=\"xref py py-func docutils literal\"><span class=\"pre\">triangle()</span></code></a></li>\n",
    "<li><a href=\"http://bokeh.pydata.org/en/latest/docs/reference/plotting.html#bokeh.plotting.Figure.x\" title=\"bokeh.plotting.Figure.x\"><code class=\"xref py py-func docutils literal\"><span class=\"pre\">x()</span></code></a></li>\n",
    "</ul>\n",
    "</td></tr></table>"
   ]
  },
  {
   "cell_type": "code",
   "execution_count": 6,
   "metadata": {
    "collapsed": true
   },
   "outputs": [],
   "source": [
    "# EXERCISE: Plot some different markers in this cell\n",
    "\n"
   ]
  },
  {
   "cell_type": "markdown",
   "metadata": {},
   "source": [
    "# Basic Line Plots"
   ]
  },
  {
   "cell_type": "code",
   "execution_count": 7,
   "metadata": {
    "collapsed": false
   },
   "outputs": [
    {
     "data": {
      "text/html": [
       "\n",
       "\n",
       "    <div class=\"bk-root\">\n",
       "        <div class=\"plotdiv\" id=\"572f4af4-1073-4dd8-8ee0-f3c3b04ad9e8\"></div>\n",
       "    </div>\n",
       "<script type=\"text/javascript\">\n",
       "  \n",
       "  (function(global) {\n",
       "    function now() {\n",
       "      return new Date();\n",
       "    }\n",
       "  \n",
       "    if (typeof (window._bokeh_onload_callbacks) === \"undefined\") {\n",
       "      window._bokeh_onload_callbacks = [];\n",
       "    }\n",
       "  \n",
       "    function run_callbacks() {\n",
       "      window._bokeh_onload_callbacks.forEach(function(callback) { callback() });\n",
       "      delete window._bokeh_onload_callbacks\n",
       "      console.info(\"Bokeh: all callbacks have finished\");\n",
       "    }\n",
       "  \n",
       "    function load_libs(js_urls, callback) {\n",
       "      window._bokeh_onload_callbacks.push(callback);\n",
       "      if (window._bokeh_is_loading > 0) {\n",
       "        console.log(\"Bokeh: BokehJS is being loaded, scheduling callback at\", now());\n",
       "        return null;\n",
       "      }\n",
       "      if (js_urls == null || js_urls.length === 0) {\n",
       "        run_callbacks();\n",
       "        return null;\n",
       "      }\n",
       "      console.log(\"Bokeh: BokehJS not loaded, scheduling load and callback at\", now());\n",
       "      window._bokeh_is_loading = js_urls.length;\n",
       "      for (var i = 0; i < js_urls.length; i++) {\n",
       "        var url = js_urls[i];\n",
       "        var s = document.createElement('script');\n",
       "        s.src = url;\n",
       "        s.async = false;\n",
       "        s.onreadystatechange = s.onload = function() {\n",
       "          window._bokeh_is_loading--;\n",
       "          if (window._bokeh_is_loading === 0) {\n",
       "            console.log(\"Bokeh: all BokehJS libraries loaded\");\n",
       "            run_callbacks()\n",
       "          }\n",
       "        };\n",
       "        s.onerror = function() {\n",
       "          console.warn(\"failed to load library \" + url);\n",
       "        };\n",
       "        console.log(\"Bokeh: injecting script tag for BokehJS library: \", url);\n",
       "        document.getElementsByTagName(\"head\")[0].appendChild(s);\n",
       "      }\n",
       "    };var element = document.getElementById(\"572f4af4-1073-4dd8-8ee0-f3c3b04ad9e8\");\n",
       "    if (element == null) {\n",
       "      console.log(\"Bokeh: ERROR: autoload.js configured with elementid '572f4af4-1073-4dd8-8ee0-f3c3b04ad9e8' but no matching script tag was found. \")\n",
       "      return false;\n",
       "    }\n",
       "  \n",
       "    var js_urls = [];\n",
       "  \n",
       "    var inline_js = [\n",
       "      function(Bokeh) {\n",
       "        Bokeh.$(function() {\n",
       "            var docs_json = {\"eac34d55-e157-49c4-83bf-861a6e2ef832\":{\"roots\":{\"references\":[{\"attributes\":{\"plot\":{\"id\":\"bfb2ee35-4b6e-4a57-aaf4-4351ad041d3f\",\"subtype\":\"Figure\",\"type\":\"Plot\"}},\"id\":\"2cee3a01-2c0c-4925-8fd7-fe2368b74cc5\",\"type\":\"WheelZoomTool\"},{\"attributes\":{\"formatter\":{\"id\":\"a42b86ee-0b3c-49af-809d-1e74a1044b10\",\"type\":\"BasicTickFormatter\"},\"plot\":{\"id\":\"bfb2ee35-4b6e-4a57-aaf4-4351ad041d3f\",\"subtype\":\"Figure\",\"type\":\"Plot\"},\"ticker\":{\"id\":\"5fa744f6-a717-48e8-a5fb-4a2b2db61364\",\"type\":\"BasicTicker\"}},\"id\":\"497d0d3b-65b8-4ba6-ab6d-eac97c471c8f\",\"type\":\"LinearAxis\"},{\"attributes\":{\"plot\":{\"id\":\"bfb2ee35-4b6e-4a57-aaf4-4351ad041d3f\",\"subtype\":\"Figure\",\"type\":\"Plot\"}},\"id\":\"48c5731e-5618-467f-a4d0-a5d84b830741\",\"type\":\"ResetTool\"},{\"attributes\":{\"callback\":null},\"id\":\"2cdc676b-2bde-4ac7-8bfd-0f6c0660d3d1\",\"type\":\"DataRange1d\"},{\"attributes\":{},\"id\":\"5fa744f6-a717-48e8-a5fb-4a2b2db61364\",\"type\":\"BasicTicker\"},{\"attributes\":{\"below\":[{\"id\":\"497d0d3b-65b8-4ba6-ab6d-eac97c471c8f\",\"type\":\"LinearAxis\"}],\"left\":[{\"id\":\"a7ff8718-7e9a-445e-b9b6-6c289e2a8b0f\",\"type\":\"LinearAxis\"}],\"plot_height\":400,\"plot_width\":400,\"renderers\":[{\"id\":\"497d0d3b-65b8-4ba6-ab6d-eac97c471c8f\",\"type\":\"LinearAxis\"},{\"id\":\"c005afd7-3716-4fc2-9b9a-b629c2479061\",\"type\":\"Grid\"},{\"id\":\"a7ff8718-7e9a-445e-b9b6-6c289e2a8b0f\",\"type\":\"LinearAxis\"},{\"id\":\"1eaa1fbb-aa71-4172-8e75-a3814e98ace2\",\"type\":\"Grid\"},{\"id\":\"e035acd8-fa54-44c6-b896-106eef156872\",\"type\":\"BoxAnnotation\"},{\"id\":\"b9c571c0-acc1-4631-83eb-07108c5dcfee\",\"type\":\"GlyphRenderer\"}],\"title\":{\"id\":\"ddfbba87-f1d5-49c8-a0fb-a38d0abf4bd9\",\"type\":\"Title\"},\"tool_events\":{\"id\":\"2b2851de-d325-4763-98ac-5d12c9b3b998\",\"type\":\"ToolEvents\"},\"toolbar\":{\"id\":\"ef8da1da-83b7-4c9b-820b-92edaea537a8\",\"type\":\"Toolbar\"},\"x_range\":{\"id\":\"6d92c4f4-6f8e-413d-8236-45b997542d25\",\"type\":\"DataRange1d\"},\"y_range\":{\"id\":\"2cdc676b-2bde-4ac7-8bfd-0f6c0660d3d1\",\"type\":\"DataRange1d\"}},\"id\":\"bfb2ee35-4b6e-4a57-aaf4-4351ad041d3f\",\"subtype\":\"Figure\",\"type\":\"Plot\"},{\"attributes\":{},\"id\":\"0bfbe737-7a5a-4de9-8dbe-f0ed973c2847\",\"type\":\"BasicTicker\"},{\"attributes\":{\"data_source\":{\"id\":\"e94a2b48-a3ae-4ff7-aeff-8684c89a1171\",\"type\":\"ColumnDataSource\"},\"glyph\":{\"id\":\"83baf7ba-db1d-481a-987b-172a73bcde6b\",\"type\":\"Line\"},\"hover_glyph\":null,\"nonselection_glyph\":{\"id\":\"e1acf769-3dd3-44b3-970f-a29fb3a1397a\",\"type\":\"Line\"},\"selection_glyph\":null},\"id\":\"b9c571c0-acc1-4631-83eb-07108c5dcfee\",\"type\":\"GlyphRenderer\"},{\"attributes\":{\"callback\":null,\"column_names\":[\"x\",\"y\"],\"data\":{\"x\":[1,2,3,4,5],\"y\":[6,7,2,4,5]}},\"id\":\"e94a2b48-a3ae-4ff7-aeff-8684c89a1171\",\"type\":\"ColumnDataSource\"},{\"attributes\":{\"overlay\":{\"id\":\"e035acd8-fa54-44c6-b896-106eef156872\",\"type\":\"BoxAnnotation\"},\"plot\":{\"id\":\"bfb2ee35-4b6e-4a57-aaf4-4351ad041d3f\",\"subtype\":\"Figure\",\"type\":\"Plot\"}},\"id\":\"dd665643-e52a-4ed9-a2ae-af2abf68fb69\",\"type\":\"BoxZoomTool\"},{\"attributes\":{\"active_drag\":\"auto\",\"active_scroll\":\"auto\",\"active_tap\":\"auto\",\"tools\":[{\"id\":\"b4ec1305-6b39-446c-a6df-e0984f0e3e37\",\"type\":\"PanTool\"},{\"id\":\"2cee3a01-2c0c-4925-8fd7-fe2368b74cc5\",\"type\":\"WheelZoomTool\"},{\"id\":\"dd665643-e52a-4ed9-a2ae-af2abf68fb69\",\"type\":\"BoxZoomTool\"},{\"id\":\"460495ed-ae8a-4356-83b8-9aa54e1b5def\",\"type\":\"SaveTool\"},{\"id\":\"48c5731e-5618-467f-a4d0-a5d84b830741\",\"type\":\"ResetTool\"},{\"id\":\"6642478f-1043-4ea3-ad2f-613096d54e07\",\"type\":\"HelpTool\"}]},\"id\":\"ef8da1da-83b7-4c9b-820b-92edaea537a8\",\"type\":\"Toolbar\"},{\"attributes\":{\"plot\":{\"id\":\"bfb2ee35-4b6e-4a57-aaf4-4351ad041d3f\",\"subtype\":\"Figure\",\"type\":\"Plot\"}},\"id\":\"b4ec1305-6b39-446c-a6df-e0984f0e3e37\",\"type\":\"PanTool\"},{\"attributes\":{\"dimension\":1,\"plot\":{\"id\":\"bfb2ee35-4b6e-4a57-aaf4-4351ad041d3f\",\"subtype\":\"Figure\",\"type\":\"Plot\"},\"ticker\":{\"id\":\"0bfbe737-7a5a-4de9-8dbe-f0ed973c2847\",\"type\":\"BasicTicker\"}},\"id\":\"1eaa1fbb-aa71-4172-8e75-a3814e98ace2\",\"type\":\"Grid\"},{\"attributes\":{},\"id\":\"2b2851de-d325-4763-98ac-5d12c9b3b998\",\"type\":\"ToolEvents\"},{\"attributes\":{\"plot\":null,\"text\":\"My Line Plot\"},\"id\":\"ddfbba87-f1d5-49c8-a0fb-a38d0abf4bd9\",\"type\":\"Title\"},{\"attributes\":{\"formatter\":{\"id\":\"b3e9546e-380d-4819-954b-84f932876114\",\"type\":\"BasicTickFormatter\"},\"plot\":{\"id\":\"bfb2ee35-4b6e-4a57-aaf4-4351ad041d3f\",\"subtype\":\"Figure\",\"type\":\"Plot\"},\"ticker\":{\"id\":\"0bfbe737-7a5a-4de9-8dbe-f0ed973c2847\",\"type\":\"BasicTicker\"}},\"id\":\"a7ff8718-7e9a-445e-b9b6-6c289e2a8b0f\",\"type\":\"LinearAxis\"},{\"attributes\":{\"bottom_units\":\"screen\",\"fill_alpha\":{\"value\":0.5},\"fill_color\":{\"value\":\"lightgrey\"},\"left_units\":\"screen\",\"level\":\"overlay\",\"line_alpha\":{\"value\":1.0},\"line_color\":{\"value\":\"black\"},\"line_dash\":[4,4],\"line_width\":{\"value\":2},\"plot\":null,\"render_mode\":\"css\",\"right_units\":\"screen\",\"top_units\":\"screen\"},\"id\":\"e035acd8-fa54-44c6-b896-106eef156872\",\"type\":\"BoxAnnotation\"},{\"attributes\":{\"callback\":null},\"id\":\"6d92c4f4-6f8e-413d-8236-45b997542d25\",\"type\":\"DataRange1d\"},{\"attributes\":{\"plot\":{\"id\":\"bfb2ee35-4b6e-4a57-aaf4-4351ad041d3f\",\"subtype\":\"Figure\",\"type\":\"Plot\"}},\"id\":\"460495ed-ae8a-4356-83b8-9aa54e1b5def\",\"type\":\"SaveTool\"},{\"attributes\":{\"plot\":{\"id\":\"bfb2ee35-4b6e-4a57-aaf4-4351ad041d3f\",\"subtype\":\"Figure\",\"type\":\"Plot\"},\"ticker\":{\"id\":\"5fa744f6-a717-48e8-a5fb-4a2b2db61364\",\"type\":\"BasicTicker\"}},\"id\":\"c005afd7-3716-4fc2-9b9a-b629c2479061\",\"type\":\"Grid\"},{\"attributes\":{\"line_color\":{\"value\":\"#1f77b4\"},\"line_width\":{\"value\":2},\"x\":{\"field\":\"x\"},\"y\":{\"field\":\"y\"}},\"id\":\"83baf7ba-db1d-481a-987b-172a73bcde6b\",\"type\":\"Line\"},{\"attributes\":{\"line_alpha\":{\"value\":0.1},\"line_color\":{\"value\":\"#1f77b4\"},\"line_width\":{\"value\":2},\"x\":{\"field\":\"x\"},\"y\":{\"field\":\"y\"}},\"id\":\"e1acf769-3dd3-44b3-970f-a29fb3a1397a\",\"type\":\"Line\"},{\"attributes\":{},\"id\":\"a42b86ee-0b3c-49af-809d-1e74a1044b10\",\"type\":\"BasicTickFormatter\"},{\"attributes\":{},\"id\":\"b3e9546e-380d-4819-954b-84f932876114\",\"type\":\"BasicTickFormatter\"},{\"attributes\":{\"plot\":{\"id\":\"bfb2ee35-4b6e-4a57-aaf4-4351ad041d3f\",\"subtype\":\"Figure\",\"type\":\"Plot\"}},\"id\":\"6642478f-1043-4ea3-ad2f-613096d54e07\",\"type\":\"HelpTool\"}],\"root_ids\":[\"bfb2ee35-4b6e-4a57-aaf4-4351ad041d3f\"]},\"title\":\"Bokeh Application\",\"version\":\"0.12.0\"}};\n",
       "            var render_items = [{\"docid\":\"eac34d55-e157-49c4-83bf-861a6e2ef832\",\"elementid\":\"572f4af4-1073-4dd8-8ee0-f3c3b04ad9e8\",\"modelid\":\"bfb2ee35-4b6e-4a57-aaf4-4351ad041d3f\",\"notebook_comms_target\":\"7943fee7-dd87-43e1-9b22-ad5f57df014b\"}];\n",
       "            \n",
       "            Bokeh.embed.embed_items(docs_json, render_items);\n",
       "        });\n",
       "      },\n",
       "      function(Bokeh) {\n",
       "      }\n",
       "    ];\n",
       "  \n",
       "    function run_inline_js() {\n",
       "      for (var i = 0; i < inline_js.length; i++) {\n",
       "        inline_js[i](window.Bokeh);\n",
       "      }\n",
       "    }\n",
       "  \n",
       "    if (window._bokeh_is_loading === 0) {\n",
       "      console.log(\"Bokeh: BokehJS loaded, going straight to plotting\");\n",
       "      run_inline_js();\n",
       "    } else {\n",
       "      load_libs(js_urls, function() {\n",
       "        console.log(\"Bokeh: BokehJS plotting callback run at\", now());\n",
       "        run_inline_js();\n",
       "      });\n",
       "    }\n",
       "  }(this));\n",
       "</script>"
      ]
     },
     "metadata": {},
     "output_type": "display_data"
    },
    {
     "data": {
      "text/html": [
       "<p><code>&lt;Bokeh Notebook handle for <strong>In[7]</strong>&gt;</code></p>"
      ],
      "text/plain": [
       "<bokeh.io._CommsHandle at 0x10da3d860>"
      ]
     },
     "execution_count": 7,
     "metadata": {},
     "output_type": "execute_result"
    }
   ],
   "source": [
    "# create a new plot (with a title) using figure\n",
    "p = figure(plot_width=400, plot_height=400, title=\"My Line Plot\")\n",
    "\n",
    "# add a line renderer\n",
    "p.line([1, 2, 3, 4, 5], [6, 7, 2, 4, 5], line_width=2)\n",
    "\n",
    "show(p) # show the results"
   ]
  },
  {
   "cell_type": "markdown",
   "metadata": {},
   "source": [
    "# Images"
   ]
  },
  {
   "cell_type": "markdown",
   "metadata": {},
   "source": [
    "The example below shows how to use the `image_rgba` method to display raw RGBA data. \n",
    "\n",
    "**Note**: This example makes use of the NumPy library "
   ]
  },
  {
   "cell_type": "code",
   "execution_count": 8,
   "metadata": {
    "collapsed": false
   },
   "outputs": [
    {
     "data": {
      "text/html": [
       "\n",
       "\n",
       "    <div class=\"bk-root\">\n",
       "        <div class=\"plotdiv\" id=\"553ef615-52ee-4faa-8222-61bf4cf78a40\"></div>\n",
       "    </div>\n",
       "<script type=\"text/javascript\">\n",
       "  \n",
       "  (function(global) {\n",
       "    function now() {\n",
       "      return new Date();\n",
       "    }\n",
       "  \n",
       "    if (typeof (window._bokeh_onload_callbacks) === \"undefined\") {\n",
       "      window._bokeh_onload_callbacks = [];\n",
       "    }\n",
       "  \n",
       "    function run_callbacks() {\n",
       "      window._bokeh_onload_callbacks.forEach(function(callback) { callback() });\n",
       "      delete window._bokeh_onload_callbacks\n",
       "      console.info(\"Bokeh: all callbacks have finished\");\n",
       "    }\n",
       "  \n",
       "    function load_libs(js_urls, callback) {\n",
       "      window._bokeh_onload_callbacks.push(callback);\n",
       "      if (window._bokeh_is_loading > 0) {\n",
       "        console.log(\"Bokeh: BokehJS is being loaded, scheduling callback at\", now());\n",
       "        return null;\n",
       "      }\n",
       "      if (js_urls == null || js_urls.length === 0) {\n",
       "        run_callbacks();\n",
       "        return null;\n",
       "      }\n",
       "      console.log(\"Bokeh: BokehJS not loaded, scheduling load and callback at\", now());\n",
       "      window._bokeh_is_loading = js_urls.length;\n",
       "      for (var i = 0; i < js_urls.length; i++) {\n",
       "        var url = js_urls[i];\n",
       "        var s = document.createElement('script');\n",
       "        s.src = url;\n",
       "        s.async = false;\n",
       "        s.onreadystatechange = s.onload = function() {\n",
       "          window._bokeh_is_loading--;\n",
       "          if (window._bokeh_is_loading === 0) {\n",
       "            console.log(\"Bokeh: all BokehJS libraries loaded\");\n",
       "            run_callbacks()\n",
       "          }\n",
       "        };\n",
       "        s.onerror = function() {\n",
       "          console.warn(\"failed to load library \" + url);\n",
       "        };\n",
       "        console.log(\"Bokeh: injecting script tag for BokehJS library: \", url);\n",
       "        document.getElementsByTagName(\"head\")[0].appendChild(s);\n",
       "      }\n",
       "    };var element = document.getElementById(\"553ef615-52ee-4faa-8222-61bf4cf78a40\");\n",
       "    if (element == null) {\n",
       "      console.log(\"Bokeh: ERROR: autoload.js configured with elementid '553ef615-52ee-4faa-8222-61bf4cf78a40' but no matching script tag was found. \")\n",
       "      return false;\n",
       "    }\n",
       "  \n",
       "    var js_urls = [];\n",
       "  \n",
       "    var inline_js = [\n",
       "      function(Bokeh) {\n",
       "        Bokeh.$(function() {\n",
       "            var docs_json = {\"d8bbfda9-20e4-448d-8822-8376903ef5c5\":{\"roots\":{\"references\":[{\"attributes\":{\"overlay\":{\"id\":\"68721a74-06e2-445d-9f9b-3746284bb982\",\"type\":\"BoxAnnotation\"},\"plot\":{\"id\":\"bb37fbfa-b3f4-4cbf-bf4a-e024e220a751\",\"subtype\":\"Figure\",\"type\":\"Plot\"}},\"id\":\"73d0b2e5-24f2-4274-95af-c1019686ea95\",\"type\":\"BoxZoomTool\"},{\"attributes\":{\"below\":[{\"id\":\"576f869a-be8b-4b55-b8bc-c9c376239d5e\",\"type\":\"LinearAxis\"}],\"left\":[{\"id\":\"7b68d930-5d2b-40a5-a1b8-1bd0e8c7bac3\",\"type\":\"LinearAxis\"}],\"renderers\":[{\"id\":\"576f869a-be8b-4b55-b8bc-c9c376239d5e\",\"type\":\"LinearAxis\"},{\"id\":\"21b2bf4e-ef86-4b93-8c92-6135506485b3\",\"type\":\"Grid\"},{\"id\":\"7b68d930-5d2b-40a5-a1b8-1bd0e8c7bac3\",\"type\":\"LinearAxis\"},{\"id\":\"26308f5c-1cb2-429f-a10b-381bd4828df4\",\"type\":\"Grid\"},{\"id\":\"68721a74-06e2-445d-9f9b-3746284bb982\",\"type\":\"BoxAnnotation\"},{\"id\":\"329cc4b7-2c8c-465f-83d9-03738e591737\",\"type\":\"GlyphRenderer\"}],\"title\":{\"id\":\"8b5dccbc-36d0-4ef2-8ec0-5b8553c5cbb1\",\"type\":\"Title\"},\"tool_events\":{\"id\":\"1cd3dbeb-8c03-43eb-8c79-e2bc0e628ff2\",\"type\":\"ToolEvents\"},\"toolbar\":{\"id\":\"ba1fd43c-1d86-4ad4-9ec3-9003489d9219\",\"type\":\"Toolbar\"},\"x_range\":{\"id\":\"76f4338f-752c-46e0-8375-c1d82cb98bb5\",\"type\":\"Range1d\"},\"y_range\":{\"id\":\"5954a47c-bfc5-415c-83fe-4d32794b0245\",\"type\":\"Range1d\"}},\"id\":\"bb37fbfa-b3f4-4cbf-bf4a-e024e220a751\",\"subtype\":\"Figure\",\"type\":\"Plot\"},{\"attributes\":{\"callback\":null,\"end\":10},\"id\":\"76f4338f-752c-46e0-8375-c1d82cb98bb5\",\"type\":\"Range1d\"},{\"attributes\":{\"data_source\":{\"id\":\"708fc06c-9fdb-40f2-91ae-5f3c870dfee4\",\"type\":\"ColumnDataSource\"},\"glyph\":{\"id\":\"5ae7e81f-f667-45a1-b20d-065d3259756d\",\"type\":\"ImageRGBA\"},\"hover_glyph\":null,\"nonselection_glyph\":{\"id\":\"76ee6f36-efef-428a-9649-114e8873ebf2\",\"type\":\"ImageRGBA\"},\"selection_glyph\":null},\"id\":\"329cc4b7-2c8c-465f-83d9-03738e591737\",\"type\":\"GlyphRenderer\"},{\"attributes\":{\"callback\":null,\"end\":10},\"id\":\"5954a47c-bfc5-415c-83fe-4d32794b0245\",\"type\":\"Range1d\"},{\"attributes\":{\"plot\":{\"id\":\"bb37fbfa-b3f4-4cbf-bf4a-e024e220a751\",\"subtype\":\"Figure\",\"type\":\"Plot\"},\"ticker\":{\"id\":\"15aab321-b9df-4905-ba2a-5fe9408af15c\",\"type\":\"BasicTicker\"}},\"id\":\"21b2bf4e-ef86-4b93-8c92-6135506485b3\",\"type\":\"Grid\"},{\"attributes\":{\"callback\":null,\"column_names\":[\"dw\",\"y\",\"x\",\"dh\",\"image\"],\"data\":{\"dh\":[10],\"dw\":[10],\"image\":[[[4278230528,4279016960,4279868928,4280720896,4281572864,4282359296,4283211264,4284063232,4284915200,4285701632,4286553600,4287405568,4288257536,4289043968,4289895936,4290747904,4291599872,4292386304,4293238272,4294090240],[4278230540,4279016972,4279868940,4280720908,4281572876,4282359308,4283211276,4284063244,4284915212,4285701644,4286553612,4287405580,4288257548,4289043980,4289895948,4290747916,4291599884,4292386316,4293238284,4294090252],[4278230553,4279016985,4279868953,4280720921,4281572889,4282359321,4283211289,4284063257,4284915225,4285701657,4286553625,4287405593,4288257561,4289043993,4289895961,4290747929,4291599897,4292386329,4293238297,4294090265],[4278230566,4279016998,4279868966,4280720934,4281572902,4282359334,4283211302,4284063270,4284915238,4285701670,4286553638,4287405606,4288257574,4289044006,4289895974,4290747942,4291599910,4292386342,4293238310,4294090278],[4278230579,4279017011,4279868979,4280720947,4281572915,4282359347,4283211315,4284063283,4284915251,4285701683,4286553651,4287405619,4288257587,4289044019,4289895987,4290747955,4291599923,4292386355,4293238323,4294090291],[4278230591,4279017023,4279868991,4280720959,4281572927,4282359359,4283211327,4284063295,4284915263,4285701695,4286553663,4287405631,4288257599,4289044031,4289895999,4290747967,4291599935,4292386367,4293238335,4294090303],[4278230604,4279017036,4279869004,4280720972,4281572940,4282359372,4283211340,4284063308,4284915276,4285701708,4286553676,4287405644,4288257612,4289044044,4289896012,4290747980,4291599948,4292386380,4293238348,4294090316],[4278230617,4279017049,4279869017,4280720985,4281572953,4282359385,4283211353,4284063321,4284915289,4285701721,4286553689,4287405657,4288257625,4289044057,4289896025,4290747993,4291599961,4292386393,4293238361,4294090329],[4278230630,4279017062,4279869030,4280720998,4281572966,4282359398,4283211366,4284063334,4284915302,4285701734,4286553702,4287405670,4288257638,4289044070,4289896038,4290748006,4291599974,4292386406,4293238374,4294090342],[4278230642,4279017074,4279869042,4280721010,4281572978,4282359410,4283211378,4284063346,4284915314,4285701746,4286553714,4287405682,4288257650,4289044082,4289896050,4290748018,4291599986,4292386418,4293238386,4294090354],[4278230655,4279017087,4279869055,4280721023,4281572991,4282359423,4283211391,4284063359,4284915327,4285701759,4286553727,4287405695,4288257663,4289044095,4289896063,4290748031,4291599999,4292386431,4293238399,4294090367],[4278230668,4279017100,4279869068,4280721036,4281573004,4282359436,4283211404,4284063372,4284915340,4285701772,4286553740,4287405708,4288257676,4289044108,4289896076,4290748044,4291600012,4292386444,4293238412,4294090380],[4278230681,4279017113,4279869081,4280721049,4281573017,4282359449,4283211417,4284063385,4284915353,4285701785,4286553753,4287405721,4288257689,4289044121,4289896089,4290748057,4291600025,4292386457,4293238425,4294090393],[4278230693,4279017125,4279869093,4280721061,4281573029,4282359461,4283211429,4284063397,4284915365,4285701797,4286553765,4287405733,4288257701,4289044133,4289896101,4290748069,4291600037,4292386469,4293238437,4294090405],[4278230706,4279017138,4279869106,4280721074,4281573042,4282359474,4283211442,4284063410,4284915378,4285701810,4286553778,4287405746,4288257714,4289044146,4289896114,4290748082,4291600050,4292386482,4293238450,4294090418],[4278230719,4279017151,4279869119,4280721087,4281573055,4282359487,4283211455,4284063423,4284915391,4285701823,4286553791,4287405759,4288257727,4289044159,4289896127,4290748095,4291600063,4292386495,4293238463,4294090431],[4278230732,4279017164,4279869132,4280721100,4281573068,4282359500,4283211468,4284063436,4284915404,4285701836,4286553804,4287405772,4288257740,4289044172,4289896140,4290748108,4291600076,4292386508,4293238476,4294090444],[4278230744,4279017176,4279869144,4280721112,4281573080,4282359512,4283211480,4284063448,4284915416,4285701848,4286553816,4287405784,4288257752,4289044184,4289896152,4290748120,4291600088,4292386520,4293238488,4294090456],[4278230757,4279017189,4279869157,4280721125,4281573093,4282359525,4283211493,4284063461,4284915429,4285701861,4286553829,4287405797,4288257765,4289044197,4289896165,4290748133,4291600101,4292386533,4293238501,4294090469],[4278230770,4279017202,4279869170,4280721138,4281573106,4282359538,4283211506,4284063474,4284915442,4285701874,4286553842,4287405810,4288257778,4289044210,4289896178,4290748146,4291600114,4292386546,4293238514,4294090482]]],\"x\":[0],\"y\":[0]}},\"id\":\"708fc06c-9fdb-40f2-91ae-5f3c870dfee4\",\"type\":\"ColumnDataSource\"},{\"attributes\":{\"plot\":null,\"text\":null},\"id\":\"8b5dccbc-36d0-4ef2-8ec0-5b8553c5cbb1\",\"type\":\"Title\"},{\"attributes\":{\"plot\":{\"id\":\"bb37fbfa-b3f4-4cbf-bf4a-e024e220a751\",\"subtype\":\"Figure\",\"type\":\"Plot\"}},\"id\":\"63b74433-54f6-4ef7-ba5a-b90e8fb01804\",\"type\":\"HelpTool\"},{\"attributes\":{\"active_drag\":\"auto\",\"active_scroll\":\"auto\",\"active_tap\":\"auto\",\"tools\":[{\"id\":\"f1e6d2a0-c6f7-4ecd-ac43-9f21bda20baa\",\"type\":\"PanTool\"},{\"id\":\"98c83b6e-be3d-46da-a72d-3fc1d2805205\",\"type\":\"WheelZoomTool\"},{\"id\":\"73d0b2e5-24f2-4274-95af-c1019686ea95\",\"type\":\"BoxZoomTool\"},{\"id\":\"49d8b13c-7130-42a7-8055-bd9e68d1cdeb\",\"type\":\"SaveTool\"},{\"id\":\"687827d1-de22-4773-8f0d-a9d5e66bcfbc\",\"type\":\"ResetTool\"},{\"id\":\"63b74433-54f6-4ef7-ba5a-b90e8fb01804\",\"type\":\"HelpTool\"}]},\"id\":\"ba1fd43c-1d86-4ad4-9ec3-9003489d9219\",\"type\":\"Toolbar\"},{\"attributes\":{\"plot\":{\"id\":\"bb37fbfa-b3f4-4cbf-bf4a-e024e220a751\",\"subtype\":\"Figure\",\"type\":\"Plot\"}},\"id\":\"49d8b13c-7130-42a7-8055-bd9e68d1cdeb\",\"type\":\"SaveTool\"},{\"attributes\":{\"plot\":{\"id\":\"bb37fbfa-b3f4-4cbf-bf4a-e024e220a751\",\"subtype\":\"Figure\",\"type\":\"Plot\"}},\"id\":\"98c83b6e-be3d-46da-a72d-3fc1d2805205\",\"type\":\"WheelZoomTool\"},{\"attributes\":{},\"id\":\"29044db6-e1d1-4242-b079-2b1789d9bc33\",\"type\":\"BasicTickFormatter\"},{\"attributes\":{\"dimension\":1,\"plot\":{\"id\":\"bb37fbfa-b3f4-4cbf-bf4a-e024e220a751\",\"subtype\":\"Figure\",\"type\":\"Plot\"},\"ticker\":{\"id\":\"42f01e36-6565-4abc-98ac-5dba02c9e543\",\"type\":\"BasicTicker\"}},\"id\":\"26308f5c-1cb2-429f-a10b-381bd4828df4\",\"type\":\"Grid\"},{\"attributes\":{\"plot\":{\"id\":\"bb37fbfa-b3f4-4cbf-bf4a-e024e220a751\",\"subtype\":\"Figure\",\"type\":\"Plot\"}},\"id\":\"687827d1-de22-4773-8f0d-a9d5e66bcfbc\",\"type\":\"ResetTool\"},{\"attributes\":{},\"id\":\"aa982cae-b1f3-42df-9621-f2840944b411\",\"type\":\"BasicTickFormatter\"},{\"attributes\":{\"dh\":{\"field\":\"dh\",\"units\":\"data\"},\"dw\":{\"field\":\"dw\",\"units\":\"data\"},\"image\":{\"field\":\"image\"},\"x\":{\"field\":\"x\"},\"y\":{\"field\":\"y\"}},\"id\":\"5ae7e81f-f667-45a1-b20d-065d3259756d\",\"type\":\"ImageRGBA\"},{\"attributes\":{},\"id\":\"1cd3dbeb-8c03-43eb-8c79-e2bc0e628ff2\",\"type\":\"ToolEvents\"},{\"attributes\":{\"formatter\":{\"id\":\"29044db6-e1d1-4242-b079-2b1789d9bc33\",\"type\":\"BasicTickFormatter\"},\"plot\":{\"id\":\"bb37fbfa-b3f4-4cbf-bf4a-e024e220a751\",\"subtype\":\"Figure\",\"type\":\"Plot\"},\"ticker\":{\"id\":\"42f01e36-6565-4abc-98ac-5dba02c9e543\",\"type\":\"BasicTicker\"}},\"id\":\"7b68d930-5d2b-40a5-a1b8-1bd0e8c7bac3\",\"type\":\"LinearAxis\"},{\"attributes\":{\"dh\":{\"field\":\"dh\",\"units\":\"data\"},\"dw\":{\"field\":\"dw\",\"units\":\"data\"},\"image\":{\"field\":\"image\"},\"x\":{\"field\":\"x\"},\"y\":{\"field\":\"y\"}},\"id\":\"76ee6f36-efef-428a-9649-114e8873ebf2\",\"type\":\"ImageRGBA\"},{\"attributes\":{\"bottom_units\":\"screen\",\"fill_alpha\":{\"value\":0.5},\"fill_color\":{\"value\":\"lightgrey\"},\"left_units\":\"screen\",\"level\":\"overlay\",\"line_alpha\":{\"value\":1.0},\"line_color\":{\"value\":\"black\"},\"line_dash\":[4,4],\"line_width\":{\"value\":2},\"plot\":null,\"render_mode\":\"css\",\"right_units\":\"screen\",\"top_units\":\"screen\"},\"id\":\"68721a74-06e2-445d-9f9b-3746284bb982\",\"type\":\"BoxAnnotation\"},{\"attributes\":{},\"id\":\"42f01e36-6565-4abc-98ac-5dba02c9e543\",\"type\":\"BasicTicker\"},{\"attributes\":{\"formatter\":{\"id\":\"aa982cae-b1f3-42df-9621-f2840944b411\",\"type\":\"BasicTickFormatter\"},\"plot\":{\"id\":\"bb37fbfa-b3f4-4cbf-bf4a-e024e220a751\",\"subtype\":\"Figure\",\"type\":\"Plot\"},\"ticker\":{\"id\":\"15aab321-b9df-4905-ba2a-5fe9408af15c\",\"type\":\"BasicTicker\"}},\"id\":\"576f869a-be8b-4b55-b8bc-c9c376239d5e\",\"type\":\"LinearAxis\"},{\"attributes\":{\"plot\":{\"id\":\"bb37fbfa-b3f4-4cbf-bf4a-e024e220a751\",\"subtype\":\"Figure\",\"type\":\"Plot\"}},\"id\":\"f1e6d2a0-c6f7-4ecd-ac43-9f21bda20baa\",\"type\":\"PanTool\"},{\"attributes\":{},\"id\":\"15aab321-b9df-4905-ba2a-5fe9408af15c\",\"type\":\"BasicTicker\"}],\"root_ids\":[\"bb37fbfa-b3f4-4cbf-bf4a-e024e220a751\"]},\"title\":\"Bokeh Application\",\"version\":\"0.12.0\"}};\n",
       "            var render_items = [{\"docid\":\"d8bbfda9-20e4-448d-8822-8376903ef5c5\",\"elementid\":\"553ef615-52ee-4faa-8222-61bf4cf78a40\",\"modelid\":\"bb37fbfa-b3f4-4cbf-bf4a-e024e220a751\",\"notebook_comms_target\":\"44bf6b4c-cfcd-40ca-ae55-eace0947ef40\"}];\n",
       "            \n",
       "            Bokeh.embed.embed_items(docs_json, render_items);\n",
       "        });\n",
       "      },\n",
       "      function(Bokeh) {\n",
       "      }\n",
       "    ];\n",
       "  \n",
       "    function run_inline_js() {\n",
       "      for (var i = 0; i < inline_js.length; i++) {\n",
       "        inline_js[i](window.Bokeh);\n",
       "      }\n",
       "    }\n",
       "  \n",
       "    if (window._bokeh_is_loading === 0) {\n",
       "      console.log(\"Bokeh: BokehJS loaded, going straight to plotting\");\n",
       "      run_inline_js();\n",
       "    } else {\n",
       "      load_libs(js_urls, function() {\n",
       "        console.log(\"Bokeh: BokehJS plotting callback run at\", now());\n",
       "        run_inline_js();\n",
       "      });\n",
       "    }\n",
       "  }(this));\n",
       "</script>"
      ]
     },
     "metadata": {},
     "output_type": "display_data"
    },
    {
     "data": {
      "text/html": [
       "<p><code>&lt;Bokeh Notebook handle for <strong>In[8]</strong>&gt;</code></p>"
      ],
      "text/plain": [
       "<bokeh.io._CommsHandle at 0x10da4cc88>"
      ]
     },
     "execution_count": 8,
     "metadata": {},
     "output_type": "execute_result"
    }
   ],
   "source": [
    "from __future__ import division\n",
    "import numpy as np\n",
    "\n",
    "# set up some data\n",
    "N = 20\n",
    "img = np.empty((N,N), dtype=np.uint32)\n",
    "view = img.view(dtype=np.uint8).reshape((N, N, 4))\n",
    "for i in range(N):\n",
    "    for j in range(N):\n",
    "        view[i, j, 0] = int(i/N*255) # red\n",
    "        view[i, j, 1] = 158          # green\n",
    "        view[i, j, 2] = int(j/N*255) # blue\n",
    "        view[i, j, 3] = 255          # alpha\n",
    "        \n",
    "# create a new plot (with a fixed range) using figure\n",
    "p = figure(x_range=[0,10], y_range=[0,10])\n",
    "\n",
    "# add an RGBA image renderer\n",
    "p.image_rgba(image=[img], x=[0], y=[0], dw=[10], dh=[10])\n",
    "\n",
    "show(p) # show the results"
   ]
  },
  {
   "cell_type": "markdown",
   "metadata": {},
   "source": [
    "# Other Kinds of Glyphs\n",
    "\n",
    "Bokeh supports many other kinds of glyphs. You can click on the User Guide links below to see how to create plots with these glyphs using the [`bokeh.plotting`](http://bokeh.pydata.org/en/latest/docs/user_guide/plotting.html) interface.\n",
    "\n",
    "* [Rectangles and Ovals](http://bokeh.pydata.org/en/latest/docs/user_guide/plotting.html#rectangles-and-ovals)\n",
    "* [Segments and Rays](http://bokeh.pydata.org/en/latest/docs/user_guide/plotting.html#segments-and-rays)\n",
    "* [Wedges and Arcs](http://bokeh.pydata.org/en/latest/docs/user_guide/plotting.html#wedges-and-arcs)\n",
    "* [Specialized Curves](http://bokeh.pydata.org/en/latest/docs/user_guide/plotting.html#specialized-curves)\n"
   ]
  },
  {
   "cell_type": "code",
   "execution_count": 9,
   "metadata": {
    "collapsed": true
   },
   "outputs": [],
   "source": [
    "# EXERCISE: Plot some of the other glyph types, following the examples in the User Guide. \n",
    "\n"
   ]
  },
  {
   "cell_type": "markdown",
   "metadata": {},
   "source": [
    "# Plots with Multiple Glyphs \n",
    "\n",
    "It is possible to combine more than one glyph on a single figure. You just need to call multiple glyph methods on one figure object:"
   ]
  },
  {
   "cell_type": "code",
   "execution_count": 10,
   "metadata": {
    "collapsed": false
   },
   "outputs": [
    {
     "data": {
      "text/html": [
       "\n",
       "\n",
       "    <div class=\"bk-root\">\n",
       "        <div class=\"plotdiv\" id=\"aa14bd07-139f-47c7-bcbd-e08e1eaf5fd2\"></div>\n",
       "    </div>\n",
       "<script type=\"text/javascript\">\n",
       "  \n",
       "  (function(global) {\n",
       "    function now() {\n",
       "      return new Date();\n",
       "    }\n",
       "  \n",
       "    if (typeof (window._bokeh_onload_callbacks) === \"undefined\") {\n",
       "      window._bokeh_onload_callbacks = [];\n",
       "    }\n",
       "  \n",
       "    function run_callbacks() {\n",
       "      window._bokeh_onload_callbacks.forEach(function(callback) { callback() });\n",
       "      delete window._bokeh_onload_callbacks\n",
       "      console.info(\"Bokeh: all callbacks have finished\");\n",
       "    }\n",
       "  \n",
       "    function load_libs(js_urls, callback) {\n",
       "      window._bokeh_onload_callbacks.push(callback);\n",
       "      if (window._bokeh_is_loading > 0) {\n",
       "        console.log(\"Bokeh: BokehJS is being loaded, scheduling callback at\", now());\n",
       "        return null;\n",
       "      }\n",
       "      if (js_urls == null || js_urls.length === 0) {\n",
       "        run_callbacks();\n",
       "        return null;\n",
       "      }\n",
       "      console.log(\"Bokeh: BokehJS not loaded, scheduling load and callback at\", now());\n",
       "      window._bokeh_is_loading = js_urls.length;\n",
       "      for (var i = 0; i < js_urls.length; i++) {\n",
       "        var url = js_urls[i];\n",
       "        var s = document.createElement('script');\n",
       "        s.src = url;\n",
       "        s.async = false;\n",
       "        s.onreadystatechange = s.onload = function() {\n",
       "          window._bokeh_is_loading--;\n",
       "          if (window._bokeh_is_loading === 0) {\n",
       "            console.log(\"Bokeh: all BokehJS libraries loaded\");\n",
       "            run_callbacks()\n",
       "          }\n",
       "        };\n",
       "        s.onerror = function() {\n",
       "          console.warn(\"failed to load library \" + url);\n",
       "        };\n",
       "        console.log(\"Bokeh: injecting script tag for BokehJS library: \", url);\n",
       "        document.getElementsByTagName(\"head\")[0].appendChild(s);\n",
       "      }\n",
       "    };var element = document.getElementById(\"aa14bd07-139f-47c7-bcbd-e08e1eaf5fd2\");\n",
       "    if (element == null) {\n",
       "      console.log(\"Bokeh: ERROR: autoload.js configured with elementid 'aa14bd07-139f-47c7-bcbd-e08e1eaf5fd2' but no matching script tag was found. \")\n",
       "      return false;\n",
       "    }\n",
       "  \n",
       "    var js_urls = [];\n",
       "  \n",
       "    var inline_js = [\n",
       "      function(Bokeh) {\n",
       "        Bokeh.$(function() {\n",
       "            var docs_json = {\"e93760c3-8fd2-4307-80b2-0ee4387b16ac\":{\"roots\":{\"references\":[{\"attributes\":{\"plot\":{\"id\":\"2fe8e921-fac0-45a3-aed3-1b5fe7e9fe3a\",\"subtype\":\"Figure\",\"type\":\"Plot\"}},\"id\":\"f13f2351-ac37-45d7-a5bf-77e01b4feb8c\",\"type\":\"PanTool\"},{\"attributes\":{\"below\":[{\"id\":\"dca2c2c9-0ecb-4ffb-861d-5ef1db3e458e\",\"type\":\"LinearAxis\"}],\"left\":[{\"id\":\"c3ca8ee9-53d0-43ab-b73d-da9bf7ca2557\",\"type\":\"LinearAxis\"}],\"plot_height\":400,\"plot_width\":400,\"renderers\":[{\"id\":\"dca2c2c9-0ecb-4ffb-861d-5ef1db3e458e\",\"type\":\"LinearAxis\"},{\"id\":\"04af3db6-660d-41ae-9866-a5a3915c4521\",\"type\":\"Grid\"},{\"id\":\"c3ca8ee9-53d0-43ab-b73d-da9bf7ca2557\",\"type\":\"LinearAxis\"},{\"id\":\"29a5e751-8457-4d48-8491-9a0e4a57c92e\",\"type\":\"Grid\"},{\"id\":\"56cdc5e4-6d86-4f5c-8230-43fdd2e06f14\",\"type\":\"BoxAnnotation\"},{\"id\":\"419519f3-44ec-4f60-8bc1-8119c42a211f\",\"type\":\"GlyphRenderer\"},{\"id\":\"ba66c8ed-faba-4ea8-9c44-a55a984a21fb\",\"type\":\"GlyphRenderer\"}],\"title\":{\"id\":\"a7fb602a-5a93-46eb-86df-7671705b6753\",\"type\":\"Title\"},\"tool_events\":{\"id\":\"5b312ad9-b201-41c3-a9e4-b392eff3ed1a\",\"type\":\"ToolEvents\"},\"toolbar\":{\"id\":\"f016a4a9-1422-43d9-bc62-b04e454951df\",\"type\":\"Toolbar\"},\"x_range\":{\"id\":\"6cc2e43d-4ec4-48b2-b04e-1ddb1ea9ae26\",\"type\":\"DataRange1d\"},\"y_range\":{\"id\":\"5961fcec-68e9-405a-9c6f-6f4a9ec81a34\",\"type\":\"DataRange1d\"}},\"id\":\"2fe8e921-fac0-45a3-aed3-1b5fe7e9fe3a\",\"subtype\":\"Figure\",\"type\":\"Plot\"},{\"attributes\":{\"formatter\":{\"id\":\"a38a9700-ab5b-4ff1-9e60-caaf877f5c9a\",\"type\":\"BasicTickFormatter\"},\"plot\":{\"id\":\"2fe8e921-fac0-45a3-aed3-1b5fe7e9fe3a\",\"subtype\":\"Figure\",\"type\":\"Plot\"},\"ticker\":{\"id\":\"3d751762-6348-4681-b8a6-a78248e536ff\",\"type\":\"BasicTicker\"}},\"id\":\"c3ca8ee9-53d0-43ab-b73d-da9bf7ca2557\",\"type\":\"LinearAxis\"},{\"attributes\":{},\"id\":\"a38a9700-ab5b-4ff1-9e60-caaf877f5c9a\",\"type\":\"BasicTickFormatter\"},{\"attributes\":{},\"id\":\"5b312ad9-b201-41c3-a9e4-b392eff3ed1a\",\"type\":\"ToolEvents\"},{\"attributes\":{\"bottom_units\":\"screen\",\"fill_alpha\":{\"value\":0.5},\"fill_color\":{\"value\":\"lightgrey\"},\"left_units\":\"screen\",\"level\":\"overlay\",\"line_alpha\":{\"value\":1.0},\"line_color\":{\"value\":\"black\"},\"line_dash\":[4,4],\"line_width\":{\"value\":2},\"plot\":null,\"render_mode\":\"css\",\"right_units\":\"screen\",\"top_units\":\"screen\"},\"id\":\"56cdc5e4-6d86-4f5c-8230-43fdd2e06f14\",\"type\":\"BoxAnnotation\"},{\"attributes\":{\"data_source\":{\"id\":\"def1a712-c85b-4675-8941-f2503bcfd25c\",\"type\":\"ColumnDataSource\"},\"glyph\":{\"id\":\"14b8d723-20a4-43ba-93bb-618ce3525065\",\"type\":\"Circle\"},\"hover_glyph\":null,\"nonselection_glyph\":{\"id\":\"02ea8493-879d-451f-8347-9e598491a365\",\"type\":\"Circle\"},\"selection_glyph\":null},\"id\":\"ba66c8ed-faba-4ea8-9c44-a55a984a21fb\",\"type\":\"GlyphRenderer\"},{\"attributes\":{\"fill_color\":{\"value\":\"white\"},\"line_color\":{\"value\":\"#1f77b4\"},\"size\":{\"units\":\"screen\",\"value\":8},\"x\":{\"field\":\"x\"},\"y\":{\"field\":\"y\"}},\"id\":\"14b8d723-20a4-43ba-93bb-618ce3525065\",\"type\":\"Circle\"},{\"attributes\":{},\"id\":\"b9fcdcd8-39f5-41b2-affe-d4c9a696433e\",\"type\":\"BasicTickFormatter\"},{\"attributes\":{\"overlay\":{\"id\":\"56cdc5e4-6d86-4f5c-8230-43fdd2e06f14\",\"type\":\"BoxAnnotation\"},\"plot\":{\"id\":\"2fe8e921-fac0-45a3-aed3-1b5fe7e9fe3a\",\"subtype\":\"Figure\",\"type\":\"Plot\"}},\"id\":\"36f92c56-f2ec-4a15-8da0-73eab92301a3\",\"type\":\"BoxZoomTool\"},{\"attributes\":{\"plot\":{\"id\":\"2fe8e921-fac0-45a3-aed3-1b5fe7e9fe3a\",\"subtype\":\"Figure\",\"type\":\"Plot\"}},\"id\":\"adb83543-741e-4e61-96e3-1dceb9017ca8\",\"type\":\"WheelZoomTool\"},{\"attributes\":{\"plot\":{\"id\":\"2fe8e921-fac0-45a3-aed3-1b5fe7e9fe3a\",\"subtype\":\"Figure\",\"type\":\"Plot\"}},\"id\":\"6479b5ad-7028-476f-ac76-4e072b426295\",\"type\":\"ResetTool\"},{\"attributes\":{},\"id\":\"d092bdb4-cfce-4fc6-ae10-808396a3798f\",\"type\":\"BasicTicker\"},{\"attributes\":{\"callback\":null,\"column_names\":[\"y\",\"x\"],\"data\":{\"x\":[1,2,3,4,5],\"y\":[6,7,8,7,3]}},\"id\":\"def1a712-c85b-4675-8941-f2503bcfd25c\",\"type\":\"ColumnDataSource\"},{\"attributes\":{\"plot\":{\"id\":\"2fe8e921-fac0-45a3-aed3-1b5fe7e9fe3a\",\"subtype\":\"Figure\",\"type\":\"Plot\"}},\"id\":\"95f10152-cb22-4cff-a756-e0571cdb4153\",\"type\":\"SaveTool\"},{\"attributes\":{\"dimension\":1,\"plot\":{\"id\":\"2fe8e921-fac0-45a3-aed3-1b5fe7e9fe3a\",\"subtype\":\"Figure\",\"type\":\"Plot\"},\"ticker\":{\"id\":\"3d751762-6348-4681-b8a6-a78248e536ff\",\"type\":\"BasicTicker\"}},\"id\":\"29a5e751-8457-4d48-8491-9a0e4a57c92e\",\"type\":\"Grid\"},{\"attributes\":{\"data_source\":{\"id\":\"bd0b0b43-a4a7-4143-8a64-a1bfe34fc807\",\"type\":\"ColumnDataSource\"},\"glyph\":{\"id\":\"d4eac251-7146-44bc-a27f-fcf469ad2bb4\",\"type\":\"Line\"},\"hover_glyph\":null,\"nonselection_glyph\":{\"id\":\"505a203a-44d2-42be-b551-c064323f674c\",\"type\":\"Line\"},\"selection_glyph\":null},\"id\":\"419519f3-44ec-4f60-8bc1-8119c42a211f\",\"type\":\"GlyphRenderer\"},{\"attributes\":{\"active_drag\":\"auto\",\"active_scroll\":\"auto\",\"active_tap\":\"auto\",\"tools\":[{\"id\":\"f13f2351-ac37-45d7-a5bf-77e01b4feb8c\",\"type\":\"PanTool\"},{\"id\":\"adb83543-741e-4e61-96e3-1dceb9017ca8\",\"type\":\"WheelZoomTool\"},{\"id\":\"36f92c56-f2ec-4a15-8da0-73eab92301a3\",\"type\":\"BoxZoomTool\"},{\"id\":\"95f10152-cb22-4cff-a756-e0571cdb4153\",\"type\":\"SaveTool\"},{\"id\":\"6479b5ad-7028-476f-ac76-4e072b426295\",\"type\":\"ResetTool\"},{\"id\":\"06528de6-457f-468f-ba04-156ca2b61474\",\"type\":\"HelpTool\"}]},\"id\":\"f016a4a9-1422-43d9-bc62-b04e454951df\",\"type\":\"Toolbar\"},{\"attributes\":{},\"id\":\"3d751762-6348-4681-b8a6-a78248e536ff\",\"type\":\"BasicTicker\"},{\"attributes\":{\"line_alpha\":{\"value\":0.1},\"line_color\":{\"value\":\"#1f77b4\"},\"line_width\":{\"value\":2},\"x\":{\"field\":\"x\"},\"y\":{\"field\":\"y\"}},\"id\":\"505a203a-44d2-42be-b551-c064323f674c\",\"type\":\"Line\"},{\"attributes\":{\"plot\":{\"id\":\"2fe8e921-fac0-45a3-aed3-1b5fe7e9fe3a\",\"subtype\":\"Figure\",\"type\":\"Plot\"},\"ticker\":{\"id\":\"d092bdb4-cfce-4fc6-ae10-808396a3798f\",\"type\":\"BasicTicker\"}},\"id\":\"04af3db6-660d-41ae-9866-a5a3915c4521\",\"type\":\"Grid\"},{\"attributes\":{\"formatter\":{\"id\":\"b9fcdcd8-39f5-41b2-affe-d4c9a696433e\",\"type\":\"BasicTickFormatter\"},\"plot\":{\"id\":\"2fe8e921-fac0-45a3-aed3-1b5fe7e9fe3a\",\"subtype\":\"Figure\",\"type\":\"Plot\"},\"ticker\":{\"id\":\"d092bdb4-cfce-4fc6-ae10-808396a3798f\",\"type\":\"BasicTicker\"}},\"id\":\"dca2c2c9-0ecb-4ffb-861d-5ef1db3e458e\",\"type\":\"LinearAxis\"},{\"attributes\":{\"line_color\":{\"value\":\"#1f77b4\"},\"line_width\":{\"value\":2},\"x\":{\"field\":\"x\"},\"y\":{\"field\":\"y\"}},\"id\":\"d4eac251-7146-44bc-a27f-fcf469ad2bb4\",\"type\":\"Line\"},{\"attributes\":{\"callback\":null,\"column_names\":[\"x\",\"y\"],\"data\":{\"x\":[1,2,3,4,5],\"y\":[6,7,8,7,3]}},\"id\":\"bd0b0b43-a4a7-4143-8a64-a1bfe34fc807\",\"type\":\"ColumnDataSource\"},{\"attributes\":{\"fill_alpha\":{\"value\":0.1},\"fill_color\":{\"value\":\"#1f77b4\"},\"line_alpha\":{\"value\":0.1},\"line_color\":{\"value\":\"#1f77b4\"},\"size\":{\"units\":\"screen\",\"value\":8},\"x\":{\"field\":\"x\"},\"y\":{\"field\":\"y\"}},\"id\":\"02ea8493-879d-451f-8347-9e598491a365\",\"type\":\"Circle\"},{\"attributes\":{\"plot\":{\"id\":\"2fe8e921-fac0-45a3-aed3-1b5fe7e9fe3a\",\"subtype\":\"Figure\",\"type\":\"Plot\"}},\"id\":\"06528de6-457f-468f-ba04-156ca2b61474\",\"type\":\"HelpTool\"},{\"attributes\":{\"callback\":null},\"id\":\"5961fcec-68e9-405a-9c6f-6f4a9ec81a34\",\"type\":\"DataRange1d\"},{\"attributes\":{\"plot\":null,\"text\":null},\"id\":\"a7fb602a-5a93-46eb-86df-7671705b6753\",\"type\":\"Title\"},{\"attributes\":{\"callback\":null},\"id\":\"6cc2e43d-4ec4-48b2-b04e-1ddb1ea9ae26\",\"type\":\"DataRange1d\"}],\"root_ids\":[\"2fe8e921-fac0-45a3-aed3-1b5fe7e9fe3a\"]},\"title\":\"Bokeh Application\",\"version\":\"0.12.0\"}};\n",
       "            var render_items = [{\"docid\":\"e93760c3-8fd2-4307-80b2-0ee4387b16ac\",\"elementid\":\"aa14bd07-139f-47c7-bcbd-e08e1eaf5fd2\",\"modelid\":\"2fe8e921-fac0-45a3-aed3-1b5fe7e9fe3a\",\"notebook_comms_target\":\"0f32fbfc-e8c9-44a2-81e9-abc9b855918d\"}];\n",
       "            \n",
       "            Bokeh.embed.embed_items(docs_json, render_items);\n",
       "        });\n",
       "      },\n",
       "      function(Bokeh) {\n",
       "      }\n",
       "    ];\n",
       "  \n",
       "    function run_inline_js() {\n",
       "      for (var i = 0; i < inline_js.length; i++) {\n",
       "        inline_js[i](window.Bokeh);\n",
       "      }\n",
       "    }\n",
       "  \n",
       "    if (window._bokeh_is_loading === 0) {\n",
       "      console.log(\"Bokeh: BokehJS loaded, going straight to plotting\");\n",
       "      run_inline_js();\n",
       "    } else {\n",
       "      load_libs(js_urls, function() {\n",
       "        console.log(\"Bokeh: BokehJS plotting callback run at\", now());\n",
       "        run_inline_js();\n",
       "      });\n",
       "    }\n",
       "  }(this));\n",
       "</script>"
      ]
     },
     "metadata": {},
     "output_type": "display_data"
    },
    {
     "data": {
      "text/html": [
       "<p><code>&lt;Bokeh Notebook handle for <strong>In[10]</strong>&gt;</code></p>"
      ],
      "text/plain": [
       "<bokeh.io._CommsHandle at 0x10da63e10>"
      ]
     },
     "execution_count": 10,
     "metadata": {},
     "output_type": "execute_result"
    }
   ],
   "source": [
    "# set up some data\n",
    "x = [1, 2, 3, 4, 5]\n",
    "y = [6, 7, 8, 7, 3]\n",
    "\n",
    "# create a new plot with figure\n",
    "p = figure(plot_width=400, plot_height=400)\n",
    "\n",
    "# add both a line and circles on the same plot\n",
    "p.line(x, y, line_width=2)\n",
    "p.circle(x, y, fill_color=\"white\", size=8)\n",
    "\n",
    "show(p) # show the results"
   ]
  },
  {
   "cell_type": "code",
   "execution_count": 11,
   "metadata": {
    "collapsed": true
   },
   "outputs": [],
   "source": [
    "# EXERCISE: create your own plot combining multiple glyphs together\n",
    "\n"
   ]
  },
  {
   "cell_type": "code",
   "execution_count": null,
   "metadata": {
    "collapsed": true
   },
   "outputs": [],
   "source": []
  }
 ],
 "metadata": {
  "kernelspec": {
   "display_name": "Python 3",
   "language": "python",
   "name": "python3"
  },
  "language_info": {
   "codemirror_mode": {
    "name": "ipython",
    "version": 3
   },
   "file_extension": ".py",
   "mimetype": "text/x-python",
   "name": "python",
   "nbconvert_exporter": "python",
   "pygments_lexer": "ipython3",
   "version": "3.5.1"
  }
 },
 "nbformat": 4,
 "nbformat_minor": 0
}
