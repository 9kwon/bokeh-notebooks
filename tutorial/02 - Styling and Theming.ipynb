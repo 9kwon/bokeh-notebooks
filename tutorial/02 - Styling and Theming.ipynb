{
 "cells": [
  {
   "cell_type": "markdown",
   "metadata": {},
   "source": [
    "<table style=\"float:left; border:none\">\n",
    "   <tr style=\"border:none; background-color: #ffffff\">\n",
    "       <td style=\"border:none\">\n",
    "           <a href=\"http://bokeh.pydata.org/\">     \n",
    "           <img \n",
    "               src=\"assets/bokeh-transparent.png\" \n",
    "               style=\"width:50px\"\n",
    "           >\n",
    "           </a>    \n",
    "       </td>\n",
    "       <td style=\"border:none\">\n",
    "           <h1>Bokeh Tutorial</h1>\n",
    "       </td>\n",
    "   </tr>\n",
    "</table>\n",
    "\n",
    "<div style=\"float:right;\"><h2>02. Styling and Theming</h2></div>"
   ]
  },
  {
   "cell_type": "code",
   "execution_count": 1,
   "metadata": {
    "collapsed": true
   },
   "outputs": [],
   "source": [
    "from bokeh.io import output_notebook, show\n",
    "from bokeh.plotting import figure"
   ]
  },
  {
   "cell_type": "code",
   "execution_count": 2,
   "metadata": {},
   "outputs": [
    {
     "data": {
      "text/html": [
       "\n",
       "    <div class=\"bk-root\">\n",
       "        <a href=\"https://bokeh.pydata.org\" target=\"_blank\" class=\"bk-logo bk-logo-small bk-logo-notebook\"></a>\n",
       "        <span id=\"90d1cf3e-5ed7-4342-8483-93ce0aa9fea6\">Loading BokehJS ...</span>\n",
       "    </div>"
      ]
     },
     "metadata": {},
     "output_type": "display_data"
    },
    {
     "data": {
      "application/javascript": [
       "\n",
       "(function(root) {\n",
       "  function now() {\n",
       "    return new Date();\n",
       "  }\n",
       "\n",
       "  var force = true;\n",
       "\n",
       "  if (typeof (root._bokeh_onload_callbacks) === \"undefined\" || force === true) {\n",
       "    root._bokeh_onload_callbacks = [];\n",
       "    root._bokeh_is_loading = undefined;\n",
       "  }\n",
       "\n",
       "  var JS_MIME_TYPE = 'application/javascript';\n",
       "  var HTML_MIME_TYPE = 'text/html';\n",
       "  var EXEC_MIME_TYPE = 'application/vnd.bokehjs_exec.v0+json';\n",
       "  var CLASS_NAME = 'output_bokeh rendered_html';\n",
       "\n",
       "  /**\n",
       "   * Render data to the DOM node\n",
       "   */\n",
       "  function render(props, node) {\n",
       "    var script = document.createElement(\"script\");\n",
       "    node.appendChild(script);\n",
       "  }\n",
       "\n",
       "  /**\n",
       "   * Handle when an output is cleared or removed\n",
       "   */\n",
       "  function handleClearOutput(event, handle) {\n",
       "    var cell = handle.cell;\n",
       "\n",
       "    var id = cell.output_area._bokeh_element_id;\n",
       "    var server_id = cell.output_area._bokeh_server_id;\n",
       "    // Clean up Bokeh references\n",
       "    if (id !== undefined) {\n",
       "      Bokeh.index[id].model.document.clear();\n",
       "      delete Bokeh.index[id];\n",
       "    }\n",
       "\n",
       "    if (server_id !== undefined) {\n",
       "      // Clean up Bokeh references\n",
       "      var cmd = \"from bokeh.io import _state; print(_state.uuid_to_server['\" + server_id + \"'].get_sessions()[0].document.roots[0]._id)\";\n",
       "      cell.notebook.kernel.execute(cmd, {\n",
       "        iopub: {\n",
       "          output: function(msg) {\n",
       "            var element_id = msg.content.text.trim();\n",
       "            Bokeh.index[element_id].model.document.clear();\n",
       "            delete Bokeh.index[element_id];\n",
       "          }\n",
       "        }\n",
       "      });\n",
       "      // Destroy server and session\n",
       "      var cmd = \"from bokeh import io; io._destroy_server('\" + server_id + \"')\";\n",
       "      cell.notebook.kernel.execute(cmd);\n",
       "    }\n",
       "  }\n",
       "\n",
       "  /**\n",
       "   * Handle when a new output is added\n",
       "   */\n",
       "  function handleAddOutput(event, handle) {\n",
       "    var output_area = handle.output_area;\n",
       "    var output = handle.output;\n",
       "\n",
       "    // limit handleAddOutput to display_data with EXEC_MIME_TYPE content only\n",
       "    if ((output.output_type != \"display_data\") || (!output.data.hasOwnProperty(EXEC_MIME_TYPE))) {\n",
       "      return\n",
       "    }\n",
       "\n",
       "    var toinsert = output_area.element.find(`.${CLASS_NAME.split(' ')[0]}`);\n",
       "\n",
       "    if (output.metadata[EXEC_MIME_TYPE][\"id\"] !== undefined) {\n",
       "      toinsert[0].firstChild.textContent = output.data[JS_MIME_TYPE];\n",
       "      // store reference to embed id on output_area\n",
       "      output_area._bokeh_element_id = output.metadata[EXEC_MIME_TYPE][\"id\"];\n",
       "    }\n",
       "    if (output.metadata[EXEC_MIME_TYPE][\"server_id\"] !== undefined) {\n",
       "      var bk_div = document.createElement(\"div\");\n",
       "      bk_div.innerHTML = output.data[HTML_MIME_TYPE];\n",
       "      var script_attrs = bk_div.children[0].attributes;\n",
       "      for (var i = 0; i < script_attrs.length; i++) {\n",
       "        toinsert[0].firstChild.setAttribute(script_attrs[i].name, script_attrs[i].value);\n",
       "      }\n",
       "      // store reference to server id on output_area\n",
       "      output_area._bokeh_server_id = output.metadata[EXEC_MIME_TYPE][\"server_id\"];\n",
       "    }\n",
       "  }\n",
       "\n",
       "  function register_renderer(events, OutputArea) {\n",
       "\n",
       "    function append_mime(data, metadata, element) {\n",
       "      // create a DOM node to render to\n",
       "      var toinsert = this.create_output_subarea(\n",
       "        metadata,\n",
       "        CLASS_NAME,\n",
       "        EXEC_MIME_TYPE\n",
       "      );\n",
       "      this.keyboard_manager.register_events(toinsert);\n",
       "      // Render to node\n",
       "      var props = {data: data, metadata: metadata[EXEC_MIME_TYPE]};\n",
       "      render(props, toinsert[0]);\n",
       "      element.append(toinsert);\n",
       "      return toinsert\n",
       "    }\n",
       "\n",
       "    /* Handle when an output is cleared or removed */\n",
       "    events.on('clear_output.CodeCell', handleClearOutput);\n",
       "    events.on('delete.Cell', handleClearOutput);\n",
       "\n",
       "    /* Handle when a new output is added */\n",
       "    events.on('output_added.OutputArea', handleAddOutput);\n",
       "\n",
       "    /**\n",
       "     * Register the mime type and append_mime function with output_area\n",
       "     */\n",
       "    OutputArea.prototype.register_mime_type(EXEC_MIME_TYPE, append_mime, {\n",
       "      /* Is output safe? */\n",
       "      safe: true,\n",
       "      /* Index of renderer in `output_area.display_order` */\n",
       "      index: 0\n",
       "    });\n",
       "  }\n",
       "\n",
       "  // register the mime type if in Jupyter Notebook environment and previously unregistered\n",
       "  if (root.Jupyter !== undefined) {\n",
       "    var events = require('base/js/events');\n",
       "    var OutputArea = require('notebook/js/outputarea').OutputArea;\n",
       "\n",
       "    if (OutputArea.prototype.mime_types().indexOf(EXEC_MIME_TYPE) == -1) {\n",
       "      register_renderer(events, OutputArea);\n",
       "    }\n",
       "  }\n",
       "\n",
       "  \n",
       "  if (typeof (root._bokeh_timeout) === \"undefined\" || force === true) {\n",
       "    root._bokeh_timeout = Date.now() + 5000;\n",
       "    root._bokeh_failed_load = false;\n",
       "  }\n",
       "\n",
       "  var NB_LOAD_WARNING = {'data': {'text/html':\n",
       "     \"<div style='background-color: #fdd'>\\n\"+\n",
       "     \"<p>\\n\"+\n",
       "     \"BokehJS does not appear to have successfully loaded. If loading BokehJS from CDN, this \\n\"+\n",
       "     \"may be due to a slow or bad network connection. Possible fixes:\\n\"+\n",
       "     \"</p>\\n\"+\n",
       "     \"<ul>\\n\"+\n",
       "     \"<li>re-rerun `output_notebook()` to attempt to load from CDN again, or</li>\\n\"+\n",
       "     \"<li>use INLINE resources instead, as so:</li>\\n\"+\n",
       "     \"</ul>\\n\"+\n",
       "     \"<code>\\n\"+\n",
       "     \"from bokeh.resources import INLINE\\n\"+\n",
       "     \"output_notebook(resources=INLINE)\\n\"+\n",
       "     \"</code>\\n\"+\n",
       "     \"</div>\"}};\n",
       "\n",
       "  function display_loaded() {\n",
       "    var el = document.getElementById(\"90d1cf3e-5ed7-4342-8483-93ce0aa9fea6\");\n",
       "    if (el != null) {\n",
       "      el.textContent = \"BokehJS is loading...\";\n",
       "    }\n",
       "    if (root.Bokeh !== undefined) {\n",
       "      if (el != null) {\n",
       "        el.textContent = \"BokehJS \" + root.Bokeh.version + \" successfully loaded.\";\n",
       "      }\n",
       "    } else if (Date.now() < root._bokeh_timeout) {\n",
       "      setTimeout(display_loaded, 100)\n",
       "    }\n",
       "  }\n",
       "\n",
       "\n",
       "  function run_callbacks() {\n",
       "    try {\n",
       "      root._bokeh_onload_callbacks.forEach(function(callback) { callback() });\n",
       "    }\n",
       "    finally {\n",
       "      delete root._bokeh_onload_callbacks\n",
       "    }\n",
       "    console.info(\"Bokeh: all callbacks have finished\");\n",
       "  }\n",
       "\n",
       "  function load_libs(js_urls, callback) {\n",
       "    root._bokeh_onload_callbacks.push(callback);\n",
       "    if (root._bokeh_is_loading > 0) {\n",
       "      console.log(\"Bokeh: BokehJS is being loaded, scheduling callback at\", now());\n",
       "      return null;\n",
       "    }\n",
       "    if (js_urls == null || js_urls.length === 0) {\n",
       "      run_callbacks();\n",
       "      return null;\n",
       "    }\n",
       "    console.log(\"Bokeh: BokehJS not loaded, scheduling load and callback at\", now());\n",
       "    root._bokeh_is_loading = js_urls.length;\n",
       "    for (var i = 0; i < js_urls.length; i++) {\n",
       "      var url = js_urls[i];\n",
       "      var s = document.createElement('script');\n",
       "      s.src = url;\n",
       "      s.async = false;\n",
       "      s.onreadystatechange = s.onload = function() {\n",
       "        root._bokeh_is_loading--;\n",
       "        if (root._bokeh_is_loading === 0) {\n",
       "          console.log(\"Bokeh: all BokehJS libraries loaded\");\n",
       "          run_callbacks()\n",
       "        }\n",
       "      };\n",
       "      s.onerror = function() {\n",
       "        console.warn(\"failed to load library \" + url);\n",
       "      };\n",
       "      console.log(\"Bokeh: injecting script tag for BokehJS library: \", url);\n",
       "      document.getElementsByTagName(\"head\")[0].appendChild(s);\n",
       "    }\n",
       "  };var element = document.getElementById(\"90d1cf3e-5ed7-4342-8483-93ce0aa9fea6\");\n",
       "  if (element == null) {\n",
       "    console.log(\"Bokeh: ERROR: autoload.js configured with elementid '90d1cf3e-5ed7-4342-8483-93ce0aa9fea6' but no matching script tag was found. \")\n",
       "    return false;\n",
       "  }\n",
       "\n",
       "  var js_urls = [\"https://cdn.pydata.org/bokeh/release/bokeh-0.12.8.min.js\", \"https://cdn.pydata.org/bokeh/release/bokeh-widgets-0.12.8.min.js\", \"https://cdn.pydata.org/bokeh/release/bokeh-tables-0.12.8.min.js\", \"https://cdn.pydata.org/bokeh/release/bokeh-gl-0.12.8.min.js\"];\n",
       "\n",
       "  var inline_js = [\n",
       "    function(Bokeh) {\n",
       "      Bokeh.set_log_level(\"info\");\n",
       "    },\n",
       "    \n",
       "    function(Bokeh) {\n",
       "      \n",
       "    },\n",
       "    function(Bokeh) {\n",
       "      console.log(\"Bokeh: injecting CSS: https://cdn.pydata.org/bokeh/release/bokeh-0.12.8.min.css\");\n",
       "      Bokeh.embed.inject_css(\"https://cdn.pydata.org/bokeh/release/bokeh-0.12.8.min.css\");\n",
       "      console.log(\"Bokeh: injecting CSS: https://cdn.pydata.org/bokeh/release/bokeh-widgets-0.12.8.min.css\");\n",
       "      Bokeh.embed.inject_css(\"https://cdn.pydata.org/bokeh/release/bokeh-widgets-0.12.8.min.css\");\n",
       "      console.log(\"Bokeh: injecting CSS: https://cdn.pydata.org/bokeh/release/bokeh-tables-0.12.8.min.css\");\n",
       "      Bokeh.embed.inject_css(\"https://cdn.pydata.org/bokeh/release/bokeh-tables-0.12.8.min.css\");\n",
       "    }\n",
       "  ];\n",
       "\n",
       "  function run_inline_js() {\n",
       "    \n",
       "    if ((root.Bokeh !== undefined) || (force === true)) {\n",
       "      for (var i = 0; i < inline_js.length; i++) {\n",
       "        inline_js[i].call(root, root.Bokeh);\n",
       "      }if (force === true) {\n",
       "        display_loaded();\n",
       "      }} else if (Date.now() < root._bokeh_timeout) {\n",
       "      setTimeout(run_inline_js, 100);\n",
       "    } else if (!root._bokeh_failed_load) {\n",
       "      console.log(\"Bokeh: BokehJS failed to load within specified timeout.\");\n",
       "      root._bokeh_failed_load = true;\n",
       "    } else if (force !== true) {\n",
       "      var cell = $(document.getElementById(\"90d1cf3e-5ed7-4342-8483-93ce0aa9fea6\")).parents('.cell').data().cell;\n",
       "      cell.output_area.append_execute_result(NB_LOAD_WARNING)\n",
       "    }\n",
       "\n",
       "  }\n",
       "\n",
       "  if (root._bokeh_is_loading === 0) {\n",
       "    console.log(\"Bokeh: BokehJS loaded, going straight to plotting\");\n",
       "    run_inline_js();\n",
       "  } else {\n",
       "    load_libs(js_urls, function() {\n",
       "      console.log(\"Bokeh: BokehJS plotting callback run at\", now());\n",
       "      run_inline_js();\n",
       "    });\n",
       "  }\n",
       "}(window));"
      ],
      "application/vnd.bokehjs_load.v0+json": "\n(function(root) {\n  function now() {\n    return new Date();\n  }\n\n  var force = true;\n\n  if (typeof (root._bokeh_onload_callbacks) === \"undefined\" || force === true) {\n    root._bokeh_onload_callbacks = [];\n    root._bokeh_is_loading = undefined;\n  }\n\n  \n\n  \n  if (typeof (root._bokeh_timeout) === \"undefined\" || force === true) {\n    root._bokeh_timeout = Date.now() + 5000;\n    root._bokeh_failed_load = false;\n  }\n\n  var NB_LOAD_WARNING = {'data': {'text/html':\n     \"<div style='background-color: #fdd'>\\n\"+\n     \"<p>\\n\"+\n     \"BokehJS does not appear to have successfully loaded. If loading BokehJS from CDN, this \\n\"+\n     \"may be due to a slow or bad network connection. Possible fixes:\\n\"+\n     \"</p>\\n\"+\n     \"<ul>\\n\"+\n     \"<li>re-rerun `output_notebook()` to attempt to load from CDN again, or</li>\\n\"+\n     \"<li>use INLINE resources instead, as so:</li>\\n\"+\n     \"</ul>\\n\"+\n     \"<code>\\n\"+\n     \"from bokeh.resources import INLINE\\n\"+\n     \"output_notebook(resources=INLINE)\\n\"+\n     \"</code>\\n\"+\n     \"</div>\"}};\n\n  function display_loaded() {\n    var el = document.getElementById(\"90d1cf3e-5ed7-4342-8483-93ce0aa9fea6\");\n    if (el != null) {\n      el.textContent = \"BokehJS is loading...\";\n    }\n    if (root.Bokeh !== undefined) {\n      if (el != null) {\n        el.textContent = \"BokehJS \" + root.Bokeh.version + \" successfully loaded.\";\n      }\n    } else if (Date.now() < root._bokeh_timeout) {\n      setTimeout(display_loaded, 100)\n    }\n  }\n\n\n  function run_callbacks() {\n    try {\n      root._bokeh_onload_callbacks.forEach(function(callback) { callback() });\n    }\n    finally {\n      delete root._bokeh_onload_callbacks\n    }\n    console.info(\"Bokeh: all callbacks have finished\");\n  }\n\n  function load_libs(js_urls, callback) {\n    root._bokeh_onload_callbacks.push(callback);\n    if (root._bokeh_is_loading > 0) {\n      console.log(\"Bokeh: BokehJS is being loaded, scheduling callback at\", now());\n      return null;\n    }\n    if (js_urls == null || js_urls.length === 0) {\n      run_callbacks();\n      return null;\n    }\n    console.log(\"Bokeh: BokehJS not loaded, scheduling load and callback at\", now());\n    root._bokeh_is_loading = js_urls.length;\n    for (var i = 0; i < js_urls.length; i++) {\n      var url = js_urls[i];\n      var s = document.createElement('script');\n      s.src = url;\n      s.async = false;\n      s.onreadystatechange = s.onload = function() {\n        root._bokeh_is_loading--;\n        if (root._bokeh_is_loading === 0) {\n          console.log(\"Bokeh: all BokehJS libraries loaded\");\n          run_callbacks()\n        }\n      };\n      s.onerror = function() {\n        console.warn(\"failed to load library \" + url);\n      };\n      console.log(\"Bokeh: injecting script tag for BokehJS library: \", url);\n      document.getElementsByTagName(\"head\")[0].appendChild(s);\n    }\n  };var element = document.getElementById(\"90d1cf3e-5ed7-4342-8483-93ce0aa9fea6\");\n  if (element == null) {\n    console.log(\"Bokeh: ERROR: autoload.js configured with elementid '90d1cf3e-5ed7-4342-8483-93ce0aa9fea6' but no matching script tag was found. \")\n    return false;\n  }\n\n  var js_urls = [\"https://cdn.pydata.org/bokeh/release/bokeh-0.12.8.min.js\", \"https://cdn.pydata.org/bokeh/release/bokeh-widgets-0.12.8.min.js\", \"https://cdn.pydata.org/bokeh/release/bokeh-tables-0.12.8.min.js\", \"https://cdn.pydata.org/bokeh/release/bokeh-gl-0.12.8.min.js\"];\n\n  var inline_js = [\n    function(Bokeh) {\n      Bokeh.set_log_level(\"info\");\n    },\n    \n    function(Bokeh) {\n      \n    },\n    function(Bokeh) {\n      console.log(\"Bokeh: injecting CSS: https://cdn.pydata.org/bokeh/release/bokeh-0.12.8.min.css\");\n      Bokeh.embed.inject_css(\"https://cdn.pydata.org/bokeh/release/bokeh-0.12.8.min.css\");\n      console.log(\"Bokeh: injecting CSS: https://cdn.pydata.org/bokeh/release/bokeh-widgets-0.12.8.min.css\");\n      Bokeh.embed.inject_css(\"https://cdn.pydata.org/bokeh/release/bokeh-widgets-0.12.8.min.css\");\n      console.log(\"Bokeh: injecting CSS: https://cdn.pydata.org/bokeh/release/bokeh-tables-0.12.8.min.css\");\n      Bokeh.embed.inject_css(\"https://cdn.pydata.org/bokeh/release/bokeh-tables-0.12.8.min.css\");\n    }\n  ];\n\n  function run_inline_js() {\n    \n    if ((root.Bokeh !== undefined) || (force === true)) {\n      for (var i = 0; i < inline_js.length; i++) {\n        inline_js[i].call(root, root.Bokeh);\n      }if (force === true) {\n        display_loaded();\n      }} else if (Date.now() < root._bokeh_timeout) {\n      setTimeout(run_inline_js, 100);\n    } else if (!root._bokeh_failed_load) {\n      console.log(\"Bokeh: BokehJS failed to load within specified timeout.\");\n      root._bokeh_failed_load = true;\n    } else if (force !== true) {\n      var cell = $(document.getElementById(\"90d1cf3e-5ed7-4342-8483-93ce0aa9fea6\")).parents('.cell').data().cell;\n      cell.output_area.append_execute_result(NB_LOAD_WARNING)\n    }\n\n  }\n\n  if (root._bokeh_is_loading === 0) {\n    console.log(\"Bokeh: BokehJS loaded, going straight to plotting\");\n    run_inline_js();\n  } else {\n    load_libs(js_urls, function() {\n      console.log(\"Bokeh: BokehJS plotting callback run at\", now());\n      run_inline_js();\n    });\n  }\n}(window));"
     },
     "metadata": {},
     "output_type": "display_data"
    }
   ],
   "source": [
    "output_notebook()"
   ]
  },
  {
   "cell_type": "markdown",
   "metadata": {},
   "source": [
    "# Colors and Properties"
   ]
  },
  {
   "cell_type": "markdown",
   "metadata": {},
   "source": [
    "## Colors\n",
    "\n",
    "There are many places where you may need to specify colors. Bokeh can accept colors in a variety of different ways:\n",
    "\n",
    "* any of the [147 named CSS colors](http://www.w3schools.com/cssref/css_colornames.asp), e.g ``'green'``, ``'indigo'``\n",
    "* an RGB(A) hex value, e.g., ``'#FF0000'``, ``'#44444444'``\n",
    "* a 3-tuple of integers *(r,g,b)* between 0 and 255\n",
    "*  a 4-tuple of *(r,g,b,a)* where *r*, *g*, *b* are integers between 0 and 255 and *a* is a floating point value between 0 and 1\n",
    "\n"
   ]
  },
  {
   "cell_type": "markdown",
   "metadata": {
    "collapsed": true
   },
   "source": [
    "## Properties\n",
    "\n",
    "Regardless of what API (``models``, ``plotting``, or ``charts``) is used to create a Bokeh plot, styling the visual aspects of the plot can always be accomplished by setting attributes on the Bokeh model objects that comprise the resulting plot. Visual properties come in three kinds: line, fill, and text properties. For full information with code and examples see the [Styling Visual Properties](http://bokeh.pydata.org/en/latest/docs/user_guide/styling.html) section of the user guide. \n",
    "\n",
    "----\n",
    "\n",
    "### Line Properties\n",
    "\n",
    "Set the visual appearance of lines. The most common are ``line_color``, ``line_alpha``, ``line_width`` and ``line_dash``.\n",
    "\n",
    "### Fill Properties\n",
    "\n",
    "Set the visual appearance of filled areas: ``fill_color`` and ``fill_alpha``.\n",
    "\n",
    "### Text Properties\n",
    "\n",
    "Set the visual appearance of lines of text. The most common are ``text_font``, ``text_font_size``, ``text_color``, and ``text_alpha``.\n",
    "\n",
    "----\n",
    "\n",
    "Sometimes a prefix is used with property names, e.g. to distinguish between different line properties on the same object, or to give a more meaningful name. For example, to set the line width of the plot outline, you would say ``myplot.outline_line_width = 2``. "
   ]
  },
  {
   "cell_type": "markdown",
   "metadata": {},
   "source": [
    "# Plots\n",
    "\n",
    "Many top-level attributes of plots (outline, border, etc.) can be configured. See the [Plots](http://bokeh.pydata.org/en/latest/docs/user_guide/styling.html#plots) section of the styling guide for full information. \n",
    "\n",
    "Here is an example that tweaks the plot outline:"
   ]
  },
  {
   "cell_type": "code",
   "execution_count": 3,
   "metadata": {
    "scrolled": false
   },
   "outputs": [
    {
     "data": {
      "text/html": [
       "\n",
       "<div class=\"bk-root\">\n",
       "    <div class=\"bk-plotdiv\" id=\"727ab853-e5da-46ab-881a-d8c273b4d777\"></div>\n",
       "</div>"
      ]
     },
     "metadata": {},
     "output_type": "display_data"
    },
    {
     "data": {
      "application/javascript": [
       "(function(root) {\n",
       "  function embed_document(root) {\n",
       "    var docs_json = {\"28b481ae-28d2-4059-92fb-8e369885bf9a\":{\"roots\":{\"references\":[{\"attributes\":{\"overlay\":{\"id\":\"b61815d1-70bc-44b6-9758-7b65d1c0a172\",\"type\":\"BoxAnnotation\"}},\"id\":\"d23df03f-7d27-49f6-bcab-786af593557d\",\"type\":\"BoxZoomTool\"},{\"attributes\":{\"callback\":null},\"id\":\"f35d2097-3c99-4ad1-b2ee-b3c081ba389b\",\"type\":\"DataRange1d\"},{\"attributes\":{},\"id\":\"f85d2e88-7130-4461-9a74-b1e30df1c8c6\",\"type\":\"SaveTool\"},{\"attributes\":{\"fill_color\":{\"value\":\"#1f77b4\"},\"line_color\":{\"value\":\"#1f77b4\"},\"size\":{\"units\":\"screen\",\"value\":10},\"x\":{\"field\":\"x\"},\"y\":{\"field\":\"y\"}},\"id\":\"4479fdd7-3fbf-488b-8763-9ec2e928bfd2\",\"type\":\"Circle\"},{\"attributes\":{},\"id\":\"aa66e6a6-a8a8-45cc-ae42-882c4cb2301f\",\"type\":\"ResetTool\"},{\"attributes\":{\"callback\":null},\"id\":\"9ff90734-3872-4d19-b2f6-2ace6a0bbf2d\",\"type\":\"DataRange1d\"},{\"attributes\":{},\"id\":\"5c14f570-abbb-4301-a557-9fc21e7c8fc3\",\"type\":\"HelpTool\"},{\"attributes\":{},\"id\":\"1a9ebcff-b12e-45e8-9c6d-665fcc47fe96\",\"type\":\"LinearScale\"},{\"attributes\":{\"fill_alpha\":{\"value\":0.1},\"fill_color\":{\"value\":\"#1f77b4\"},\"line_alpha\":{\"value\":0.1},\"line_color\":{\"value\":\"#1f77b4\"},\"size\":{\"units\":\"screen\",\"value\":10},\"x\":{\"field\":\"x\"},\"y\":{\"field\":\"y\"}},\"id\":\"a4d0438b-2dac-414a-adf1-0248ae8a64fd\",\"type\":\"Circle\"},{\"attributes\":{},\"id\":\"c1d16071-f5a4-4385-9aa0-ec57fd8208da\",\"type\":\"LinearScale\"},{\"attributes\":{},\"id\":\"352d7d2c-63fa-4622-b676-16e61416aad1\",\"type\":\"BasicTicker\"},{\"attributes\":{\"formatter\":{\"id\":\"7df9a88b-4eb1-4961-822d-8cbcf5a3106f\",\"type\":\"BasicTickFormatter\"},\"plot\":{\"id\":\"0a04260d-00e2-4852-ac26-fd09df0f6e42\",\"subtype\":\"Figure\",\"type\":\"Plot\"},\"ticker\":{\"id\":\"b4d93033-5497-4e84-a0da-95138573b0ec\",\"type\":\"BasicTicker\"}},\"id\":\"9aa6d10e-8870-41ed-910b-662e4d60d5d5\",\"type\":\"LinearAxis\"},{\"attributes\":{},\"id\":\"b4d93033-5497-4e84-a0da-95138573b0ec\",\"type\":\"BasicTicker\"},{\"attributes\":{\"plot\":{\"id\":\"0a04260d-00e2-4852-ac26-fd09df0f6e42\",\"subtype\":\"Figure\",\"type\":\"Plot\"},\"ticker\":{\"id\":\"b4d93033-5497-4e84-a0da-95138573b0ec\",\"type\":\"BasicTicker\"}},\"id\":\"64590779-6dd6-4ee1-9d86-f591689dc503\",\"type\":\"Grid\"},{\"attributes\":{\"source\":{\"id\":\"3e64d66a-5277-44b3-b305-fe451c524e49\",\"type\":\"ColumnDataSource\"}},\"id\":\"a23586d3-0d51-4757-aa66-cb3e2d7842d5\",\"type\":\"CDSView\"},{\"attributes\":{\"formatter\":{\"id\":\"9b6483a0-2b0d-4486-aec6-75bfc3fe9f2d\",\"type\":\"BasicTickFormatter\"},\"plot\":{\"id\":\"0a04260d-00e2-4852-ac26-fd09df0f6e42\",\"subtype\":\"Figure\",\"type\":\"Plot\"},\"ticker\":{\"id\":\"352d7d2c-63fa-4622-b676-16e61416aad1\",\"type\":\"BasicTicker\"}},\"id\":\"d91db4c2-b9f1-4cb4-ad92-b49ef9c14dd5\",\"type\":\"LinearAxis\"},{\"attributes\":{\"dimension\":1,\"plot\":{\"id\":\"0a04260d-00e2-4852-ac26-fd09df0f6e42\",\"subtype\":\"Figure\",\"type\":\"Plot\"},\"ticker\":{\"id\":\"352d7d2c-63fa-4622-b676-16e61416aad1\",\"type\":\"BasicTicker\"}},\"id\":\"6d7fb5b6-3cba-46a1-838d-9686c730069d\",\"type\":\"Grid\"},{\"attributes\":{\"data_source\":{\"id\":\"3e64d66a-5277-44b3-b305-fe451c524e49\",\"type\":\"ColumnDataSource\"},\"glyph\":{\"id\":\"4479fdd7-3fbf-488b-8763-9ec2e928bfd2\",\"type\":\"Circle\"},\"hover_glyph\":null,\"muted_glyph\":null,\"nonselection_glyph\":{\"id\":\"a4d0438b-2dac-414a-adf1-0248ae8a64fd\",\"type\":\"Circle\"},\"selection_glyph\":null,\"view\":{\"id\":\"a23586d3-0d51-4757-aa66-cb3e2d7842d5\",\"type\":\"CDSView\"}},\"id\":\"bbe237d2-4cdb-4048-ac58-3c7dab275ca8\",\"type\":\"GlyphRenderer\"},{\"attributes\":{},\"id\":\"7df9a88b-4eb1-4961-822d-8cbcf5a3106f\",\"type\":\"BasicTickFormatter\"},{\"attributes\":{\"bottom_units\":\"screen\",\"fill_alpha\":{\"value\":0.5},\"fill_color\":{\"value\":\"lightgrey\"},\"left_units\":\"screen\",\"level\":\"overlay\",\"line_alpha\":{\"value\":1.0},\"line_color\":{\"value\":\"black\"},\"line_dash\":[4,4],\"line_width\":{\"value\":2},\"plot\":null,\"render_mode\":\"css\",\"right_units\":\"screen\",\"top_units\":\"screen\"},\"id\":\"b61815d1-70bc-44b6-9758-7b65d1c0a172\",\"type\":\"BoxAnnotation\"},{\"attributes\":{\"callback\":null,\"column_names\":[\"x\",\"y\"],\"data\":{\"x\":[1,2,3,4,5],\"y\":[2,5,8,2,7]}},\"id\":\"3e64d66a-5277-44b3-b305-fe451c524e49\",\"type\":\"ColumnDataSource\"},{\"attributes\":{\"below\":[{\"id\":\"9aa6d10e-8870-41ed-910b-662e4d60d5d5\",\"type\":\"LinearAxis\"}],\"left\":[{\"id\":\"d91db4c2-b9f1-4cb4-ad92-b49ef9c14dd5\",\"type\":\"LinearAxis\"}],\"outline_line_alpha\":{\"value\":0.3},\"outline_line_color\":{\"value\":\"navy\"},\"outline_line_width\":{\"value\":7},\"plot_height\":400,\"plot_width\":400,\"renderers\":[{\"id\":\"9aa6d10e-8870-41ed-910b-662e4d60d5d5\",\"type\":\"LinearAxis\"},{\"id\":\"64590779-6dd6-4ee1-9d86-f591689dc503\",\"type\":\"Grid\"},{\"id\":\"d91db4c2-b9f1-4cb4-ad92-b49ef9c14dd5\",\"type\":\"LinearAxis\"},{\"id\":\"6d7fb5b6-3cba-46a1-838d-9686c730069d\",\"type\":\"Grid\"},{\"id\":\"b61815d1-70bc-44b6-9758-7b65d1c0a172\",\"type\":\"BoxAnnotation\"},{\"id\":\"bbe237d2-4cdb-4048-ac58-3c7dab275ca8\",\"type\":\"GlyphRenderer\"}],\"title\":{\"id\":\"b5b77e2b-cff9-4694-a11e-0e51398ea5ea\",\"type\":\"Title\"},\"toolbar\":{\"id\":\"acbc59ba-4256-4f10-91ef-0973685f629f\",\"type\":\"Toolbar\"},\"x_range\":{\"id\":\"f35d2097-3c99-4ad1-b2ee-b3c081ba389b\",\"type\":\"DataRange1d\"},\"x_scale\":{\"id\":\"1a9ebcff-b12e-45e8-9c6d-665fcc47fe96\",\"type\":\"LinearScale\"},\"y_range\":{\"id\":\"9ff90734-3872-4d19-b2f6-2ace6a0bbf2d\",\"type\":\"DataRange1d\"},\"y_scale\":{\"id\":\"c1d16071-f5a4-4385-9aa0-ec57fd8208da\",\"type\":\"LinearScale\"}},\"id\":\"0a04260d-00e2-4852-ac26-fd09df0f6e42\",\"subtype\":\"Figure\",\"type\":\"Plot\"},{\"attributes\":{},\"id\":\"f4259874-8010-4774-807b-acb6e39cf3e6\",\"type\":\"PanTool\"},{\"attributes\":{},\"id\":\"9b6483a0-2b0d-4486-aec6-75bfc3fe9f2d\",\"type\":\"BasicTickFormatter\"},{\"attributes\":{\"plot\":null,\"text\":\"\"},\"id\":\"b5b77e2b-cff9-4694-a11e-0e51398ea5ea\",\"type\":\"Title\"},{\"attributes\":{},\"id\":\"bf167356-fc3e-4a1d-b57c-31c08f3f2f25\",\"type\":\"WheelZoomTool\"},{\"attributes\":{\"active_drag\":\"auto\",\"active_inspect\":\"auto\",\"active_scroll\":\"auto\",\"active_tap\":\"auto\",\"tools\":[{\"id\":\"f4259874-8010-4774-807b-acb6e39cf3e6\",\"type\":\"PanTool\"},{\"id\":\"bf167356-fc3e-4a1d-b57c-31c08f3f2f25\",\"type\":\"WheelZoomTool\"},{\"id\":\"d23df03f-7d27-49f6-bcab-786af593557d\",\"type\":\"BoxZoomTool\"},{\"id\":\"f85d2e88-7130-4461-9a74-b1e30df1c8c6\",\"type\":\"SaveTool\"},{\"id\":\"aa66e6a6-a8a8-45cc-ae42-882c4cb2301f\",\"type\":\"ResetTool\"},{\"id\":\"5c14f570-abbb-4301-a557-9fc21e7c8fc3\",\"type\":\"HelpTool\"}]},\"id\":\"acbc59ba-4256-4f10-91ef-0973685f629f\",\"type\":\"Toolbar\"}],\"root_ids\":[\"0a04260d-00e2-4852-ac26-fd09df0f6e42\"]},\"title\":\"Bokeh Application\",\"version\":\"0.12.8\"}};\n",
       "    var render_items = [{\"docid\":\"28b481ae-28d2-4059-92fb-8e369885bf9a\",\"elementid\":\"727ab853-e5da-46ab-881a-d8c273b4d777\",\"modelid\":\"0a04260d-00e2-4852-ac26-fd09df0f6e42\"}];\n",
       "\n",
       "    root.Bokeh.embed.embed_items(docs_json, render_items);\n",
       "  }\n",
       "\n",
       "  if (root.Bokeh !== undefined) {\n",
       "    embed_document(root);\n",
       "  } else {\n",
       "    var attempts = 0;\n",
       "    var timer = setInterval(function(root) {\n",
       "      if (root.Bokeh !== undefined) {\n",
       "        embed_document(root);\n",
       "        clearInterval(timer);\n",
       "      }\n",
       "      attempts++;\n",
       "      if (attempts > 100) {\n",
       "        console.log(\"Bokeh: ERROR: Unable to embed document because BokehJS library is missing\")\n",
       "        clearInterval(timer);\n",
       "      }\n",
       "    }, 10, root)\n",
       "  }\n",
       "})(window);"
      ],
      "application/vnd.bokehjs_exec.v0+json": ""
     },
     "metadata": {
      "application/vnd.bokehjs_exec.v0+json": {
       "id": "0a04260d-00e2-4852-ac26-fd09df0f6e42"
      }
     },
     "output_type": "display_data"
    }
   ],
   "source": [
    "# create a new plot with a title\n",
    "p = figure(plot_width=400, plot_height=400)\n",
    "p.outline_line_width = 7\n",
    "p.outline_line_alpha = 0.3\n",
    "p.outline_line_color = \"navy\"\n",
    "\n",
    "p.circle([1,2,3,4,5], [2,5,8,2,7], size=10)\n",
    "\n",
    "show(p)"
   ]
  },
  {
   "cell_type": "code",
   "execution_count": 4,
   "metadata": {
    "collapsed": true
   },
   "outputs": [],
   "source": [
    "# EXERCISE Create a plot of your own and customize several plot-level properties\n"
   ]
  },
  {
   "cell_type": "markdown",
   "metadata": {},
   "source": [
    "# Glyphs\n",
    "\n",
    "It's also possible to style the visual properties of glyphs. When using `bokeh.plotting` this is often done when calling the glyph methods:\n",
    "```python\n",
    "p.circle(line_color=\"red\", fill_alpha=0.2, ...)\n",
    "```\n",
    "But it is also possible to set these properties directly on glyph objects. Glyph objects are found on `GlyphRenderer` objects, which are returned by the `Plot.add_glyph` and `bokeh.plotting` glyph methods like `circle`, `rect`, etc. Let's look at an example:"
   ]
  },
  {
   "cell_type": "code",
   "execution_count": 5,
   "metadata": {},
   "outputs": [
    {
     "data": {
      "text/html": [
       "\n",
       "<div class=\"bk-root\">\n",
       "    <div class=\"bk-plotdiv\" id=\"f27d2cb5-dacb-4466-a79c-b7a1fb25c28b\"></div>\n",
       "</div>"
      ]
     },
     "metadata": {},
     "output_type": "display_data"
    },
    {
     "data": {
      "application/javascript": [
       "(function(root) {\n",
       "  function embed_document(root) {\n",
       "    var docs_json = {\"940cd99d-f512-42fb-880d-fe83603decc4\":{\"roots\":{\"references\":[{\"attributes\":{},\"id\":\"aca74f6c-69af-4bf6-bda8-ffd630befe57\",\"type\":\"BasicTicker\"},{\"attributes\":{\"formatter\":{\"id\":\"44d75742-f42e-4f5e-b8f8-2fc11cfa6f35\",\"type\":\"BasicTickFormatter\"},\"plot\":{\"id\":\"d5cfc290-cc7d-45b7-9818-99a103f1ca72\",\"subtype\":\"Figure\",\"type\":\"Plot\"},\"ticker\":{\"id\":\"be74f178-8cfd-4ea5-a7d6-35607020d8e4\",\"type\":\"BasicTicker\"}},\"id\":\"4cd90e49-9be8-4b29-ac60-bbb37a1e765d\",\"type\":\"LinearAxis\"},{\"attributes\":{},\"id\":\"be74f178-8cfd-4ea5-a7d6-35607020d8e4\",\"type\":\"BasicTicker\"},{\"attributes\":{\"dimension\":1,\"plot\":{\"id\":\"d5cfc290-cc7d-45b7-9818-99a103f1ca72\",\"subtype\":\"Figure\",\"type\":\"Plot\"},\"ticker\":{\"id\":\"be74f178-8cfd-4ea5-a7d6-35607020d8e4\",\"type\":\"BasicTicker\"}},\"id\":\"5cce8528-e967-4014-9a7e-5e01773bf2b9\",\"type\":\"Grid\"},{\"attributes\":{\"data_source\":{\"id\":\"46698f24-130c-4983-a835-d34991b16421\",\"type\":\"ColumnDataSource\"},\"glyph\":{\"id\":\"ff6a5baf-8b99-48b5-b427-a2587b6c6fca\",\"type\":\"Circle\"},\"hover_glyph\":null,\"muted_glyph\":null,\"nonselection_glyph\":{\"id\":\"8143da8f-9d77-440a-8506-c200ed1ad750\",\"type\":\"Circle\"},\"selection_glyph\":null,\"view\":{\"id\":\"4eaaea8b-0a2c-4f5b-ac2d-5c8f5d320832\",\"type\":\"CDSView\"}},\"id\":\"e40a682f-6fe5-4798-bab6-6d623682a527\",\"type\":\"GlyphRenderer\"},{\"attributes\":{\"fill_alpha\":{\"value\":0.2},\"fill_color\":{\"value\":\"#1f77b4\"},\"line_color\":{\"value\":\"firebrick\"},\"line_dash\":[5,1],\"line_width\":{\"value\":2},\"size\":{\"units\":\"screen\",\"value\":50},\"x\":{\"field\":\"x\"},\"y\":{\"field\":\"y\"}},\"id\":\"ff6a5baf-8b99-48b5-b427-a2587b6c6fca\",\"type\":\"Circle\"},{\"attributes\":{},\"id\":\"44d75742-f42e-4f5e-b8f8-2fc11cfa6f35\",\"type\":\"BasicTickFormatter\"},{\"attributes\":{\"below\":[{\"id\":\"03cd3ea7-31b4-496a-938d-b236acf4173d\",\"type\":\"LinearAxis\"}],\"left\":[{\"id\":\"4cd90e49-9be8-4b29-ac60-bbb37a1e765d\",\"type\":\"LinearAxis\"}],\"plot_height\":400,\"plot_width\":400,\"renderers\":[{\"id\":\"03cd3ea7-31b4-496a-938d-b236acf4173d\",\"type\":\"LinearAxis\"},{\"id\":\"f25410cb-6be6-44f9-a4f6-59daff2dc257\",\"type\":\"Grid\"},{\"id\":\"4cd90e49-9be8-4b29-ac60-bbb37a1e765d\",\"type\":\"LinearAxis\"},{\"id\":\"5cce8528-e967-4014-9a7e-5e01773bf2b9\",\"type\":\"Grid\"},{\"id\":\"9214840b-3882-490e-b31b-43d22e00e8bd\",\"type\":\"BoxAnnotation\"},{\"id\":\"e40a682f-6fe5-4798-bab6-6d623682a527\",\"type\":\"GlyphRenderer\"}],\"title\":{\"id\":\"a0472482-3a46-4801-8be5-94e991f897eb\",\"type\":\"Title\"},\"toolbar\":{\"id\":\"b2321e7a-5831-4da8-83ab-f1145f95742f\",\"type\":\"Toolbar\"},\"x_range\":{\"id\":\"8661266f-13e1-4c71-b769-70f938bbb6e2\",\"type\":\"DataRange1d\"},\"x_scale\":{\"id\":\"ba00ca89-2614-440d-b38c-9a4ae96b00d8\",\"type\":\"LinearScale\"},\"y_range\":{\"id\":\"8c288c65-9571-4f73-aee4-fcfda31cc528\",\"type\":\"DataRange1d\"},\"y_scale\":{\"id\":\"ce1c671d-58db-4b86-8128-d985ebe6aa2d\",\"type\":\"LinearScale\"}},\"id\":\"d5cfc290-cc7d-45b7-9818-99a103f1ca72\",\"subtype\":\"Figure\",\"type\":\"Plot\"},{\"attributes\":{\"bottom_units\":\"screen\",\"fill_alpha\":{\"value\":0.5},\"fill_color\":{\"value\":\"lightgrey\"},\"left_units\":\"screen\",\"level\":\"overlay\",\"line_alpha\":{\"value\":1.0},\"line_color\":{\"value\":\"black\"},\"line_dash\":[4,4],\"line_width\":{\"value\":2},\"plot\":null,\"render_mode\":\"css\",\"right_units\":\"screen\",\"top_units\":\"screen\"},\"id\":\"9214840b-3882-490e-b31b-43d22e00e8bd\",\"type\":\"BoxAnnotation\"},{\"attributes\":{\"callback\":null,\"column_names\":[\"x\",\"y\"],\"data\":{\"x\":[1,2,3,4,5],\"y\":[2,5,8,2,7]}},\"id\":\"46698f24-130c-4983-a835-d34991b16421\",\"type\":\"ColumnDataSource\"},{\"attributes\":{},\"id\":\"28172e0b-d7e8-4109-bff8-55aad965aca3\",\"type\":\"PanTool\"},{\"attributes\":{\"source\":{\"id\":\"46698f24-130c-4983-a835-d34991b16421\",\"type\":\"ColumnDataSource\"}},\"id\":\"4eaaea8b-0a2c-4f5b-ac2d-5c8f5d320832\",\"type\":\"CDSView\"},{\"attributes\":{},\"id\":\"3b22173a-25c7-400b-af0c-328e24ab26fb\",\"type\":\"BasicTickFormatter\"},{\"attributes\":{\"active_drag\":\"auto\",\"active_inspect\":\"auto\",\"active_scroll\":\"auto\",\"active_tap\":\"auto\",\"tools\":[{\"id\":\"28172e0b-d7e8-4109-bff8-55aad965aca3\",\"type\":\"PanTool\"},{\"id\":\"668fda17-e8d6-4f22-b102-e5896a4460ab\",\"type\":\"WheelZoomTool\"},{\"id\":\"e27f4b2b-a9c5-4317-be77-7b28f9f8d60c\",\"type\":\"BoxZoomTool\"},{\"id\":\"6c85bdb1-53f3-49a3-bc48-3e849f628368\",\"type\":\"SaveTool\"},{\"id\":\"b3872a1b-a9d1-4b4c-b1ae-72a2bcd71015\",\"type\":\"ResetTool\"},{\"id\":\"c277487e-4d08-443d-8469-018299be17d8\",\"type\":\"HelpTool\"}]},\"id\":\"b2321e7a-5831-4da8-83ab-f1145f95742f\",\"type\":\"Toolbar\"},{\"attributes\":{},\"id\":\"668fda17-e8d6-4f22-b102-e5896a4460ab\",\"type\":\"WheelZoomTool\"},{\"attributes\":{\"overlay\":{\"id\":\"9214840b-3882-490e-b31b-43d22e00e8bd\",\"type\":\"BoxAnnotation\"}},\"id\":\"e27f4b2b-a9c5-4317-be77-7b28f9f8d60c\",\"type\":\"BoxZoomTool\"},{\"attributes\":{\"fill_alpha\":{\"value\":0.1},\"fill_color\":{\"value\":\"#1f77b4\"},\"line_alpha\":{\"value\":0.1},\"line_color\":{\"value\":\"#1f77b4\"},\"x\":{\"field\":\"x\"},\"y\":{\"field\":\"y\"}},\"id\":\"8143da8f-9d77-440a-8506-c200ed1ad750\",\"type\":\"Circle\"},{\"attributes\":{},\"id\":\"6c85bdb1-53f3-49a3-bc48-3e849f628368\",\"type\":\"SaveTool\"},{\"attributes\":{},\"id\":\"b3872a1b-a9d1-4b4c-b1ae-72a2bcd71015\",\"type\":\"ResetTool\"},{\"attributes\":{\"callback\":null},\"id\":\"8661266f-13e1-4c71-b769-70f938bbb6e2\",\"type\":\"DataRange1d\"},{\"attributes\":{},\"id\":\"c277487e-4d08-443d-8469-018299be17d8\",\"type\":\"HelpTool\"},{\"attributes\":{\"callback\":null},\"id\":\"8c288c65-9571-4f73-aee4-fcfda31cc528\",\"type\":\"DataRange1d\"},{\"attributes\":{},\"id\":\"ba00ca89-2614-440d-b38c-9a4ae96b00d8\",\"type\":\"LinearScale\"},{\"attributes\":{},\"id\":\"ce1c671d-58db-4b86-8128-d985ebe6aa2d\",\"type\":\"LinearScale\"},{\"attributes\":{\"plot\":null,\"text\":\"\"},\"id\":\"a0472482-3a46-4801-8be5-94e991f897eb\",\"type\":\"Title\"},{\"attributes\":{\"plot\":{\"id\":\"d5cfc290-cc7d-45b7-9818-99a103f1ca72\",\"subtype\":\"Figure\",\"type\":\"Plot\"},\"ticker\":{\"id\":\"aca74f6c-69af-4bf6-bda8-ffd630befe57\",\"type\":\"BasicTicker\"}},\"id\":\"f25410cb-6be6-44f9-a4f6-59daff2dc257\",\"type\":\"Grid\"},{\"attributes\":{\"formatter\":{\"id\":\"3b22173a-25c7-400b-af0c-328e24ab26fb\",\"type\":\"BasicTickFormatter\"},\"plot\":{\"id\":\"d5cfc290-cc7d-45b7-9818-99a103f1ca72\",\"subtype\":\"Figure\",\"type\":\"Plot\"},\"ticker\":{\"id\":\"aca74f6c-69af-4bf6-bda8-ffd630befe57\",\"type\":\"BasicTicker\"}},\"id\":\"03cd3ea7-31b4-496a-938d-b236acf4173d\",\"type\":\"LinearAxis\"}],\"root_ids\":[\"d5cfc290-cc7d-45b7-9818-99a103f1ca72\"]},\"title\":\"Bokeh Application\",\"version\":\"0.12.8\"}};\n",
       "    var render_items = [{\"docid\":\"940cd99d-f512-42fb-880d-fe83603decc4\",\"elementid\":\"f27d2cb5-dacb-4466-a79c-b7a1fb25c28b\",\"modelid\":\"d5cfc290-cc7d-45b7-9818-99a103f1ca72\"}];\n",
       "\n",
       "    root.Bokeh.embed.embed_items(docs_json, render_items);\n",
       "  }\n",
       "\n",
       "  if (root.Bokeh !== undefined) {\n",
       "    embed_document(root);\n",
       "  } else {\n",
       "    var attempts = 0;\n",
       "    var timer = setInterval(function(root) {\n",
       "      if (root.Bokeh !== undefined) {\n",
       "        embed_document(root);\n",
       "        clearInterval(timer);\n",
       "      }\n",
       "      attempts++;\n",
       "      if (attempts > 100) {\n",
       "        console.log(\"Bokeh: ERROR: Unable to embed document because BokehJS library is missing\")\n",
       "        clearInterval(timer);\n",
       "      }\n",
       "    }, 10, root)\n",
       "  }\n",
       "})(window);"
      ],
      "application/vnd.bokehjs_exec.v0+json": ""
     },
     "metadata": {
      "application/vnd.bokehjs_exec.v0+json": {
       "id": "d5cfc290-cc7d-45b7-9818-99a103f1ca72"
      }
     },
     "output_type": "display_data"
    }
   ],
   "source": [
    "p = figure(plot_width=400, plot_height=400)\n",
    "\n",
    "# keep a reference to the returned GlyphRenderer\n",
    "r = p.circle([1,2,3,4,5], [2,5,8,2,7])\n",
    "\n",
    "r.glyph.size = 50\n",
    "r.glyph.fill_alpha = 0.2\n",
    "r.glyph.line_color = \"firebrick\"\n",
    "r.glyph.line_dash = [5, 1]\n",
    "r.glyph.line_width = 2\n",
    "\n",
    "show(p)"
   ]
  },
  {
   "cell_type": "markdown",
   "metadata": {},
   "source": [
    "### Selection and non-selection visuals\n",
    "\n",
    "You can also control how glyphs look when there are selections involved. The set of \"selected\" points is displayed according to the optional `.selection_glyph` property of a `GlyphRenderer`:\n",
    "```python\n",
    "r.selection_glyph = Circle(fill_alpha=1, fill_color=\"firebrick\", line_color=None) \n",
    "```\n",
    "When there is a non-empty selection, the set of \"unselected: points is displayed according to the optional  `.nonselection_glyph` property of a `GlyphRenderer`:\n",
    "```python\n",
    "r.nonselection_glyph = Circle(fill_alpha=0.2, fill_color=\"grey\", line_color=None) \n",
    "```\n",
    "\n",
    "When using the `bokeh.plotting` interface, it is easier to pass these visual properties to the glyph methods as shown below. The glyph method will create the selection or nonselection glyphs and attach them to the renderer for you. "
   ]
  },
  {
   "cell_type": "code",
   "execution_count": 6,
   "metadata": {},
   "outputs": [
    {
     "data": {
      "text/html": [
       "\n",
       "<div class=\"bk-root\">\n",
       "    <div class=\"bk-plotdiv\" id=\"23adc8f2-bb4a-45d5-8af4-abe8a21b7e17\"></div>\n",
       "</div>"
      ]
     },
     "metadata": {},
     "output_type": "display_data"
    },
    {
     "data": {
      "application/javascript": [
       "(function(root) {\n",
       "  function embed_document(root) {\n",
       "    var docs_json = {\"23ba1a3d-ec17-47ca-b11b-00185cc4d3c5\":{\"roots\":{\"references\":[{\"attributes\":{\"callback\":null},\"id\":\"e0f83805-385e-422d-883f-f6328fc47c4c\",\"type\":\"TapTool\"},{\"attributes\":{},\"id\":\"c9fc35bc-9759-41ca-a9fc-e6c1ac33a43b\",\"type\":\"LinearScale\"},{\"attributes\":{\"callback\":null},\"id\":\"99464595-0bfb-4f81-a27d-366f4e9cbf87\",\"type\":\"DataRange1d\"},{\"attributes\":{\"callback\":null},\"id\":\"9a22a50c-cd7b-4960-bfc7-2ee8a2f4a6ef\",\"type\":\"DataRange1d\"},{\"attributes\":{},\"id\":\"7dfd83da-6592-4f24-b2f7-3dca8dbb5e58\",\"type\":\"LinearScale\"},{\"attributes\":{\"fill_color\":{\"value\":\"#1f77b4\"},\"line_color\":{\"value\":\"#1f77b4\"},\"size\":{\"units\":\"screen\",\"value\":50},\"x\":{\"field\":\"x\"},\"y\":{\"field\":\"y\"}},\"id\":\"f637c54f-2eb2-49c3-965e-06d47d70043a\",\"type\":\"Circle\"},{\"attributes\":{\"plot\":{\"id\":\"93c4b364-9381-4165-abbc-6e575400e415\",\"subtype\":\"Figure\",\"type\":\"Plot\"},\"ticker\":{\"id\":\"ce54852f-30fb-4670-896a-4a42f0083d70\",\"type\":\"BasicTicker\"}},\"id\":\"c5b357ba-173f-420f-b2e3-a32e8408a676\",\"type\":\"Grid\"},{\"attributes\":{\"formatter\":{\"id\":\"8ac58856-6af8-4d7d-9ff8-8ef9ed71b4c0\",\"type\":\"BasicTickFormatter\"},\"plot\":{\"id\":\"93c4b364-9381-4165-abbc-6e575400e415\",\"subtype\":\"Figure\",\"type\":\"Plot\"},\"ticker\":{\"id\":\"3db6e9c8-c231-461f-ad3d-0d28fc38c070\",\"type\":\"BasicTicker\"}},\"id\":\"45fa44ff-eda5-4ce8-9f24-8ac50b812a19\",\"type\":\"LinearAxis\"},{\"attributes\":{},\"id\":\"ce54852f-30fb-4670-896a-4a42f0083d70\",\"type\":\"BasicTicker\"},{\"attributes\":{\"callback\":null,\"column_names\":[\"x\",\"y\"],\"data\":{\"x\":[1,2,3,4,5],\"y\":[2,5,8,2,7]}},\"id\":\"41ea7ace-0538-4ac1-b670-81cfddd83baf\",\"type\":\"ColumnDataSource\"},{\"attributes\":{\"dimension\":1,\"plot\":{\"id\":\"93c4b364-9381-4165-abbc-6e575400e415\",\"subtype\":\"Figure\",\"type\":\"Plot\"},\"ticker\":{\"id\":\"3db6e9c8-c231-461f-ad3d-0d28fc38c070\",\"type\":\"BasicTicker\"}},\"id\":\"0c73049b-8ba1-4ab8-96b5-54c0fb5859a0\",\"type\":\"Grid\"},{\"attributes\":{\"formatter\":{\"id\":\"ec8ea4a9-d845-49b0-aca5-51aa8dcd352e\",\"type\":\"BasicTickFormatter\"},\"plot\":{\"id\":\"93c4b364-9381-4165-abbc-6e575400e415\",\"subtype\":\"Figure\",\"type\":\"Plot\"},\"ticker\":{\"id\":\"ce54852f-30fb-4670-896a-4a42f0083d70\",\"type\":\"BasicTicker\"}},\"id\":\"d35a4467-2f40-4bf0-a9d3-5d6b6ab5cab9\",\"type\":\"LinearAxis\"},{\"attributes\":{},\"id\":\"3db6e9c8-c231-461f-ad3d-0d28fc38c070\",\"type\":\"BasicTicker\"},{\"attributes\":{\"source\":{\"id\":\"41ea7ace-0538-4ac1-b670-81cfddd83baf\",\"type\":\"ColumnDataSource\"}},\"id\":\"33f5cdba-5789-4a6a-9b42-cd8576eedf9c\",\"type\":\"CDSView\"},{\"attributes\":{\"data_source\":{\"id\":\"41ea7ace-0538-4ac1-b670-81cfddd83baf\",\"type\":\"ColumnDataSource\"},\"glyph\":{\"id\":\"f637c54f-2eb2-49c3-965e-06d47d70043a\",\"type\":\"Circle\"},\"hover_glyph\":null,\"muted_glyph\":null,\"nonselection_glyph\":{\"id\":\"db7c62a8-d32e-4a2b-b704-9d6c69d8a3c5\",\"type\":\"Circle\"},\"selection_glyph\":{\"id\":\"9357f8a0-3457-4c03-abbc-de892537e3c4\",\"type\":\"Circle\"},\"view\":{\"id\":\"33f5cdba-5789-4a6a-9b42-cd8576eedf9c\",\"type\":\"CDSView\"}},\"id\":\"8936e9fd-b9f1-459d-a41a-6e3e0189fb57\",\"type\":\"GlyphRenderer\"},{\"attributes\":{\"plot\":null,\"text\":\"Select a circle\"},\"id\":\"a2d6b20e-be3f-4e62-adab-86c5211fa522\",\"type\":\"Title\"},{\"attributes\":{\"fill_color\":{\"value\":\"firebrick\"},\"line_color\":{\"value\":\"firebrick\"},\"size\":{\"units\":\"screen\",\"value\":50},\"x\":{\"field\":\"x\"},\"y\":{\"field\":\"y\"}},\"id\":\"9357f8a0-3457-4c03-abbc-de892537e3c4\",\"type\":\"Circle\"},{\"attributes\":{},\"id\":\"ec8ea4a9-d845-49b0-aca5-51aa8dcd352e\",\"type\":\"BasicTickFormatter\"},{\"attributes\":{\"below\":[{\"id\":\"d35a4467-2f40-4bf0-a9d3-5d6b6ab5cab9\",\"type\":\"LinearAxis\"}],\"left\":[{\"id\":\"45fa44ff-eda5-4ce8-9f24-8ac50b812a19\",\"type\":\"LinearAxis\"}],\"plot_height\":400,\"plot_width\":400,\"renderers\":[{\"id\":\"d35a4467-2f40-4bf0-a9d3-5d6b6ab5cab9\",\"type\":\"LinearAxis\"},{\"id\":\"c5b357ba-173f-420f-b2e3-a32e8408a676\",\"type\":\"Grid\"},{\"id\":\"45fa44ff-eda5-4ce8-9f24-8ac50b812a19\",\"type\":\"LinearAxis\"},{\"id\":\"0c73049b-8ba1-4ab8-96b5-54c0fb5859a0\",\"type\":\"Grid\"},{\"id\":\"8936e9fd-b9f1-459d-a41a-6e3e0189fb57\",\"type\":\"GlyphRenderer\"}],\"title\":{\"id\":\"a2d6b20e-be3f-4e62-adab-86c5211fa522\",\"type\":\"Title\"},\"toolbar\":{\"id\":\"469813c2-d9cf-4e84-b197-d769de98b41d\",\"type\":\"Toolbar\"},\"x_range\":{\"id\":\"99464595-0bfb-4f81-a27d-366f4e9cbf87\",\"type\":\"DataRange1d\"},\"x_scale\":{\"id\":\"c9fc35bc-9759-41ca-a9fc-e6c1ac33a43b\",\"type\":\"LinearScale\"},\"y_range\":{\"id\":\"9a22a50c-cd7b-4960-bfc7-2ee8a2f4a6ef\",\"type\":\"DataRange1d\"},\"y_scale\":{\"id\":\"7dfd83da-6592-4f24-b2f7-3dca8dbb5e58\",\"type\":\"LinearScale\"}},\"id\":\"93c4b364-9381-4165-abbc-6e575400e415\",\"subtype\":\"Figure\",\"type\":\"Plot\"},{\"attributes\":{\"fill_alpha\":{\"value\":0.2},\"fill_color\":{\"value\":\"grey\"},\"line_color\":{\"value\":\"firebrick\"},\"size\":{\"units\":\"screen\",\"value\":50},\"x\":{\"field\":\"x\"},\"y\":{\"field\":\"y\"}},\"id\":\"db7c62a8-d32e-4a2b-b704-9d6c69d8a3c5\",\"type\":\"Circle\"},{\"attributes\":{\"active_drag\":\"auto\",\"active_inspect\":\"auto\",\"active_scroll\":\"auto\",\"active_tap\":\"auto\",\"tools\":[{\"id\":\"e0f83805-385e-422d-883f-f6328fc47c4c\",\"type\":\"TapTool\"}]},\"id\":\"469813c2-d9cf-4e84-b197-d769de98b41d\",\"type\":\"Toolbar\"},{\"attributes\":{},\"id\":\"8ac58856-6af8-4d7d-9ff8-8ef9ed71b4c0\",\"type\":\"BasicTickFormatter\"}],\"root_ids\":[\"93c4b364-9381-4165-abbc-6e575400e415\"]},\"title\":\"Bokeh Application\",\"version\":\"0.12.8\"}};\n",
       "    var render_items = [{\"docid\":\"23ba1a3d-ec17-47ca-b11b-00185cc4d3c5\",\"elementid\":\"23adc8f2-bb4a-45d5-8af4-abe8a21b7e17\",\"modelid\":\"93c4b364-9381-4165-abbc-6e575400e415\"}];\n",
       "\n",
       "    root.Bokeh.embed.embed_items(docs_json, render_items);\n",
       "  }\n",
       "\n",
       "  if (root.Bokeh !== undefined) {\n",
       "    embed_document(root);\n",
       "  } else {\n",
       "    var attempts = 0;\n",
       "    var timer = setInterval(function(root) {\n",
       "      if (root.Bokeh !== undefined) {\n",
       "        embed_document(root);\n",
       "        clearInterval(timer);\n",
       "      }\n",
       "      attempts++;\n",
       "      if (attempts > 100) {\n",
       "        console.log(\"Bokeh: ERROR: Unable to embed document because BokehJS library is missing\")\n",
       "        clearInterval(timer);\n",
       "      }\n",
       "    }, 10, root)\n",
       "  }\n",
       "})(window);"
      ],
      "application/vnd.bokehjs_exec.v0+json": ""
     },
     "metadata": {
      "application/vnd.bokehjs_exec.v0+json": {
       "id": "93c4b364-9381-4165-abbc-6e575400e415"
      }
     },
     "output_type": "display_data"
    }
   ],
   "source": [
    "p = figure(plot_width=400, plot_height=400, tools=\"tap\", title=\"Select a circle\")\n",
    "renderer = p.circle([1, 2, 3, 4, 5], [2, 5, 8, 2, 7], size=50,\n",
    "\n",
    "                    # set visual properties for selected glyphs\n",
    "                    selection_color=\"firebrick\",\n",
    "\n",
    "                    # set visual properties for non-selected glyphs\n",
    "                    nonselection_fill_alpha=0.2,\n",
    "                    nonselection_fill_color=\"grey\",\n",
    "                    nonselection_line_color=\"firebrick\",\n",
    "                    nonselection_line_alpha=1.0)\n",
    "\n",
    "show(p)"
   ]
  },
  {
   "cell_type": "markdown",
   "metadata": {},
   "source": [
    "It is also possible to specify the visual appearance of glyphs when they are \"inspected\", e.g. by a hover tool. This is accomplished by setting an optional `hover_glyph` on the glyph renderer:\n",
    "```python\n",
    "r.hover_glyph = Circle(fill_alpha=1, fill_color=\"firebrick\", line_color=None) \n",
    "```\n",
    "Or if using `bokeh.plotting` glyph methods, by passing `hover_fill_alpha`, etc. to the glyph method. Lets look at an example that works together with a `HoverTool` configured for \"hline\" hit-testing."
   ]
  },
  {
   "cell_type": "code",
   "execution_count": 7,
   "metadata": {},
   "outputs": [
    {
     "data": {
      "text/html": [
       "\n",
       "<div class=\"bk-root\">\n",
       "    <div class=\"bk-plotdiv\" id=\"0835cd64-b64f-41c1-903f-ea3998128c6d\"></div>\n",
       "</div>"
      ]
     },
     "metadata": {},
     "output_type": "display_data"
    },
    {
     "data": {
      "application/javascript": [
       "(function(root) {\n",
       "  function embed_document(root) {\n",
       "    var docs_json = {\"1f86c566-f534-4872-a04f-7216c99791c0\":{\"roots\":{\"references\":[{\"attributes\":{\"callback\":null,\"column_names\":[\"x\",\"y\"],\"data\":{\"x\":{\"__ndarray__\":\"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\",\"dtype\":\"float64\",\"shape\":[288]},\"y\":[143,147,150,152,152,152,154,155,142,140,138,134,131,130,128,127,126,126,126,126,127,129,131,132,134,136,136,136,136,135,134,132,130,130,130,129,128,127,125,124,123,123,122,121,120,118,115,112,111,111,110,110,109,108,107,107,107,108,107,105,105,105,105,104,103,102,99,97,96,94,94,93,93,92,91,92,94,95,96,97,99,102,104,112,112,112,111,110,107,104,105,105,103,99,96,94,95,102,114,128,144,160,173,185,196,205,209,214,219,226,234,241,248,255,260,265,268,270,272,271,271,268,265,261,256,253,250,246,244,241,237,233,229,225,222,204,200,197,193,190,186,182,179,175,171,168,164,158,154,151,148,145,141,133,139,152,173,196,217,233,244,249,250,253,256,260,263,265,265,264,260,254,246,234,217,200,188,181,175,169,164,159,154,147,138,132,129,127,123,117,111,106,104,103,100,94,88,83,78,75,73,71,69,68,67,67,68,70,71,71,70,69,68,67,67,67,66,67,69,71,74,76,78,80,80,80,80,80,80,82,84,87,90,92,87,87,86,86,86,86,87,87,87,85,83,82,83,87,95,107,118,130,141,149,172,179,187,201,214,221,225,230,232,230,223,216,208,199,191,185,181,177,176,177,176,173,171,169,163,154,152,153,154,154,153,151,150,150]}},\"id\":\"5c773397-f166-4bcd-9377-4f543823ce40\",\"type\":\"ColumnDataSource\"},{\"attributes\":{\"line_color\":{\"value\":\"gray\"},\"line_dash\":[4,4],\"x\":{\"field\":\"x\"},\"y\":{\"field\":\"y\"}},\"id\":\"ea57df6e-f61f-4f5a-b1c6-db054b7cbd2a\",\"type\":\"Line\"},{\"attributes\":{\"source\":{\"id\":\"a3c95b0d-6f35-4ef8-9459-14bf1f400fea\",\"type\":\"ColumnDataSource\"}},\"id\":\"55f60d04-ac93-4326-bef8-254833767f72\",\"type\":\"CDSView\"},{\"attributes\":{\"num_minor_ticks\":5,\"tickers\":[{\"id\":\"bce96bbd-e2bf-4e26-90ed-9a6eb10a98f0\",\"type\":\"AdaptiveTicker\"},{\"id\":\"adf99e12-389f-4d58-8595-103d11e15558\",\"type\":\"AdaptiveTicker\"},{\"id\":\"e258938c-d569-4a05-995c-4847e1df39e0\",\"type\":\"AdaptiveTicker\"},{\"id\":\"a2bfb848-7c8f-45be-9e63-1a2e0a51b842\",\"type\":\"DaysTicker\"},{\"id\":\"8c345def-e8c0-4ce4-ba9f-053b5a7e7a5c\",\"type\":\"DaysTicker\"},{\"id\":\"759aba90-c4a8-414a-9a0f-c54efda26587\",\"type\":\"DaysTicker\"},{\"id\":\"1fa75eb7-4eb1-46be-9c1e-6736f2b42b44\",\"type\":\"DaysTicker\"},{\"id\":\"c0d8a25a-d5bc-473f-a240-21ae2d88e201\",\"type\":\"MonthsTicker\"},{\"id\":\"0bb13c9a-fb18-465c-ad87-f4e7d9dfaf8c\",\"type\":\"MonthsTicker\"},{\"id\":\"254ff9ea-25b9-4812-ac8c-ddc291ab80ce\",\"type\":\"MonthsTicker\"},{\"id\":\"41824500-7336-44dc-b078-3b100cff0695\",\"type\":\"MonthsTicker\"},{\"id\":\"b4a02af5-28e4-4471-b47e-7afc67c00432\",\"type\":\"YearsTicker\"}]},\"id\":\"1f11117b-50ef-41be-868b-acd54794f06b\",\"type\":\"DatetimeTicker\"},{\"attributes\":{\"formatter\":{\"id\":\"90f0ed40-b002-48ce-a562-77f497ffa076\",\"type\":\"BasicTickFormatter\"},\"plot\":{\"id\":\"1e2b65fb-a148-4a2d-8bb1-a9838614db3c\",\"subtype\":\"Figure\",\"type\":\"Plot\"},\"ticker\":{\"id\":\"52d9ad1b-378e-4a0c-b2a0-873f196e1867\",\"type\":\"BasicTicker\"}},\"id\":\"9f91fb91-2172-4903-a098-312bfaf335a0\",\"type\":\"LinearAxis\"},{\"attributes\":{\"plot\":{\"id\":\"1e2b65fb-a148-4a2d-8bb1-a9838614db3c\",\"subtype\":\"Figure\",\"type\":\"Plot\"},\"ticker\":{\"id\":\"1f11117b-50ef-41be-868b-acd54794f06b\",\"type\":\"DatetimeTicker\"}},\"id\":\"4e209aa3-a185-4051-9c5a-6ad761bea0df\",\"type\":\"Grid\"},{\"attributes\":{\"formatter\":{\"id\":\"505b20f1-ccef-4bea-a000-5eec520b8020\",\"type\":\"DatetimeTickFormatter\"},\"plot\":{\"id\":\"1e2b65fb-a148-4a2d-8bb1-a9838614db3c\",\"subtype\":\"Figure\",\"type\":\"Plot\"},\"ticker\":{\"id\":\"1f11117b-50ef-41be-868b-acd54794f06b\",\"type\":\"DatetimeTicker\"}},\"id\":\"45a9ec4f-6bc7-49ff-baa4-12636d6fc79b\",\"type\":\"DatetimeAxis\"},{\"attributes\":{},\"id\":\"52d9ad1b-378e-4a0c-b2a0-873f196e1867\",\"type\":\"BasicTicker\"},{\"attributes\":{\"dimension\":1,\"plot\":{\"id\":\"1e2b65fb-a148-4a2d-8bb1-a9838614db3c\",\"subtype\":\"Figure\",\"type\":\"Plot\"},\"ticker\":{\"id\":\"52d9ad1b-378e-4a0c-b2a0-873f196e1867\",\"type\":\"BasicTicker\"}},\"id\":\"d6e38dae-4cbc-405a-9f0d-18fa1648b79d\",\"type\":\"Grid\"},{\"attributes\":{\"data_source\":{\"id\":\"5c773397-f166-4bcd-9377-4f543823ce40\",\"type\":\"ColumnDataSource\"},\"glyph\":{\"id\":\"ea57df6e-f61f-4f5a-b1c6-db054b7cbd2a\",\"type\":\"Line\"},\"hover_glyph\":null,\"muted_glyph\":null,\"nonselection_glyph\":{\"id\":\"ecfc1b3c-5212-446b-8b07-b2481d82e7a4\",\"type\":\"Line\"},\"selection_glyph\":null,\"view\":{\"id\":\"895b9836-62f2-4de8-a7c3-33f4c8814018\",\"type\":\"CDSView\"}},\"id\":\"44d9684d-e94a-4fd0-805b-05f80410fafc\",\"type\":\"GlyphRenderer\"},{\"attributes\":{\"mantissas\":[1,2,5],\"max_interval\":500.0,\"num_minor_ticks\":0},\"id\":\"bce96bbd-e2bf-4e26-90ed-9a6eb10a98f0\",\"type\":\"AdaptiveTicker\"},{\"attributes\":{\"callback\":null,\"column_names\":[\"x\",\"y\"],\"data\":{\"x\":{\"__ndarray__\":\"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\",\"dtype\":\"float64\",\"shape\":[288]},\"y\":[143,147,150,152,152,152,154,155,142,140,138,134,131,130,128,127,126,126,126,126,127,129,131,132,134,136,136,136,136,135,134,132,130,130,130,129,128,127,125,124,123,123,122,121,120,118,115,112,111,111,110,110,109,108,107,107,107,108,107,105,105,105,105,104,103,102,99,97,96,94,94,93,93,92,91,92,94,95,96,97,99,102,104,112,112,112,111,110,107,104,105,105,103,99,96,94,95,102,114,128,144,160,173,185,196,205,209,214,219,226,234,241,248,255,260,265,268,270,272,271,271,268,265,261,256,253,250,246,244,241,237,233,229,225,222,204,200,197,193,190,186,182,179,175,171,168,164,158,154,151,148,145,141,133,139,152,173,196,217,233,244,249,250,253,256,260,263,265,265,264,260,254,246,234,217,200,188,181,175,169,164,159,154,147,138,132,129,127,123,117,111,106,104,103,100,94,88,83,78,75,73,71,69,68,67,67,68,70,71,71,70,69,68,67,67,67,66,67,69,71,74,76,78,80,80,80,80,80,80,82,84,87,90,92,87,87,86,86,86,86,87,87,87,85,83,82,83,87,95,107,118,130,141,149,172,179,187,201,214,221,225,230,232,230,223,216,208,199,191,185,181,177,176,177,176,173,171,169,163,154,152,153,154,154,153,151,150,150]}},\"id\":\"a3c95b0d-6f35-4ef8-9459-14bf1f400fea\",\"type\":\"ColumnDataSource\"},{\"attributes\":{\"bottom_units\":\"screen\",\"fill_alpha\":{\"value\":0.5},\"fill_color\":{\"value\":\"lightgrey\"},\"left_units\":\"screen\",\"level\":\"overlay\",\"line_alpha\":{\"value\":1.0},\"line_color\":{\"value\":\"black\"},\"line_dash\":[4,4],\"line_width\":{\"value\":2},\"plot\":null,\"render_mode\":\"css\",\"right_units\":\"screen\",\"top_units\":\"screen\"},\"id\":\"2f1b1022-dae6-4cce-b929-13631c895900\",\"type\":\"BoxAnnotation\"},{\"attributes\":{},\"id\":\"cda8aa11-6470-468e-8df4-9d2b685ecd02\",\"type\":\"PanTool\"},{\"attributes\":{},\"id\":\"505b20f1-ccef-4bea-a000-5eec520b8020\",\"type\":\"DatetimeTickFormatter\"},{\"attributes\":{},\"id\":\"96cd417b-755a-4f32-85fc-fc0aea2399ec\",\"type\":\"WheelZoomTool\"},{\"attributes\":{\"overlay\":{\"id\":\"2f1b1022-dae6-4cce-b929-13631c895900\",\"type\":\"BoxAnnotation\"}},\"id\":\"5dfcfaae-db33-4283-b6fd-5c6bde0a526d\",\"type\":\"BoxZoomTool\"},{\"attributes\":{},\"id\":\"46538b70-13b6-4a69-9de1-80e32dbe31f7\",\"type\":\"SaveTool\"},{\"attributes\":{},\"id\":\"a340c1d4-9f4b-467c-a4f5-7faee1f5a7b8\",\"type\":\"ResetTool\"},{\"attributes\":{},\"id\":\"3f60bd06-a523-4bcf-9690-4edb595e815a\",\"type\":\"HelpTool\"},{\"attributes\":{\"below\":[{\"id\":\"45a9ec4f-6bc7-49ff-baa4-12636d6fc79b\",\"type\":\"DatetimeAxis\"}],\"left\":[{\"id\":\"9f91fb91-2172-4903-a098-312bfaf335a0\",\"type\":\"LinearAxis\"}],\"plot_height\":300,\"renderers\":[{\"id\":\"45a9ec4f-6bc7-49ff-baa4-12636d6fc79b\",\"type\":\"DatetimeAxis\"},{\"id\":\"4e209aa3-a185-4051-9c5a-6ad761bea0df\",\"type\":\"Grid\"},{\"id\":\"9f91fb91-2172-4903-a098-312bfaf335a0\",\"type\":\"LinearAxis\"},{\"id\":\"d6e38dae-4cbc-405a-9f0d-18fa1648b79d\",\"type\":\"Grid\"},{\"id\":\"2f1b1022-dae6-4cce-b929-13631c895900\",\"type\":\"BoxAnnotation\"},{\"id\":\"44d9684d-e94a-4fd0-805b-05f80410fafc\",\"type\":\"GlyphRenderer\"},{\"id\":\"8b286bac-59ea-41e2-91b8-7f59b9b20ff3\",\"type\":\"GlyphRenderer\"}],\"title\":{\"id\":\"5b84a365-c9a4-4b78-ac1f-a0dbbc33cc92\",\"type\":\"Title\"},\"toolbar\":{\"id\":\"a284d96a-b843-41d7-af1d-14eec777df65\",\"type\":\"Toolbar\"},\"x_range\":{\"id\":\"120daedd-5f7c-4ab8-b028-2fca555ac9af\",\"type\":\"DataRange1d\"},\"x_scale\":{\"id\":\"55d91bc1-cb59-42c1-ae81-0fc5305201ce\",\"type\":\"LinearScale\"},\"y_range\":{\"id\":\"3bd4a382-2595-4194-8ada-c64aaabc8add\",\"type\":\"DataRange1d\"},\"y_scale\":{\"id\":\"655c8488-450f-4f75-b456-e3c4beac83a4\",\"type\":\"LinearScale\"}},\"id\":\"1e2b65fb-a148-4a2d-8bb1-a9838614db3c\",\"subtype\":\"Figure\",\"type\":\"Plot\"},{\"attributes\":{},\"id\":\"90f0ed40-b002-48ce-a562-77f497ffa076\",\"type\":\"BasicTickFormatter\"},{\"attributes\":{\"base\":60,\"mantissas\":[1,2,5,10,15,20,30],\"max_interval\":1800000.0,\"min_interval\":1000.0,\"num_minor_ticks\":0},\"id\":\"adf99e12-389f-4d58-8595-103d11e15558\",\"type\":\"AdaptiveTicker\"},{\"attributes\":{\"data_source\":{\"id\":\"a3c95b0d-6f35-4ef8-9459-14bf1f400fea\",\"type\":\"ColumnDataSource\"},\"glyph\":{\"id\":\"8294f688-6c89-475b-8716-75bd6ba2326f\",\"type\":\"Circle\"},\"hover_glyph\":{\"id\":\"58a310f8-47f7-4d1f-8ca9-ecc9142ce49e\",\"type\":\"Circle\"},\"muted_glyph\":null,\"nonselection_glyph\":{\"id\":\"750a1f60-e982-43fe-8606-0bebb0df942b\",\"type\":\"Circle\"},\"selection_glyph\":null,\"view\":{\"id\":\"55f60d04-ac93-4326-bef8-254833767f72\",\"type\":\"CDSView\"}},\"id\":\"8b286bac-59ea-41e2-91b8-7f59b9b20ff3\",\"type\":\"GlyphRenderer\"},{\"attributes\":{\"days\":[1,4,7,10,13,16,19,22,25,28]},\"id\":\"8c345def-e8c0-4ce4-ba9f-053b5a7e7a5c\",\"type\":\"DaysTicker\"},{\"attributes\":{\"days\":[1,15]},\"id\":\"1fa75eb7-4eb1-46be-9c1e-6736f2b42b44\",\"type\":\"DaysTicker\"},{\"attributes\":{\"days\":[1,8,15,22]},\"id\":\"759aba90-c4a8-414a-9a0f-c54efda26587\",\"type\":\"DaysTicker\"},{\"attributes\":{\"days\":[1,2,3,4,5,6,7,8,9,10,11,12,13,14,15,16,17,18,19,20,21,22,23,24,25,26,27,28,29,30,31]},\"id\":\"a2bfb848-7c8f-45be-9e63-1a2e0a51b842\",\"type\":\"DaysTicker\"},{\"attributes\":{\"base\":24,\"mantissas\":[1,2,4,6,8,12],\"max_interval\":43200000.0,\"min_interval\":3600000.0,\"num_minor_ticks\":0},\"id\":\"e258938c-d569-4a05-995c-4847e1df39e0\",\"type\":\"AdaptiveTicker\"},{\"attributes\":{\"months\":[0,1,2,3,4,5,6,7,8,9,10,11]},\"id\":\"c0d8a25a-d5bc-473f-a240-21ae2d88e201\",\"type\":\"MonthsTicker\"},{\"attributes\":{\"active_drag\":\"auto\",\"active_inspect\":\"auto\",\"active_scroll\":\"auto\",\"active_tap\":\"auto\",\"tools\":[{\"id\":\"cda8aa11-6470-468e-8df4-9d2b685ecd02\",\"type\":\"PanTool\"},{\"id\":\"96cd417b-755a-4f32-85fc-fc0aea2399ec\",\"type\":\"WheelZoomTool\"},{\"id\":\"5dfcfaae-db33-4283-b6fd-5c6bde0a526d\",\"type\":\"BoxZoomTool\"},{\"id\":\"46538b70-13b6-4a69-9de1-80e32dbe31f7\",\"type\":\"SaveTool\"},{\"id\":\"a340c1d4-9f4b-467c-a4f5-7faee1f5a7b8\",\"type\":\"ResetTool\"},{\"id\":\"3f60bd06-a523-4bcf-9690-4edb595e815a\",\"type\":\"HelpTool\"},{\"id\":\"c159012e-edbc-404e-88fb-ebfbf926bd92\",\"type\":\"HoverTool\"}]},\"id\":\"a284d96a-b843-41d7-af1d-14eec777df65\",\"type\":\"Toolbar\"},{\"attributes\":{\"months\":[0,2,4,6,8,10]},\"id\":\"0bb13c9a-fb18-465c-ad87-f4e7d9dfaf8c\",\"type\":\"MonthsTicker\"},{\"attributes\":{\"plot\":null,\"text\":\"Hover over points\"},\"id\":\"5b84a365-c9a4-4b78-ac1f-a0dbbc33cc92\",\"type\":\"Title\"},{\"attributes\":{\"months\":[0,4,8]},\"id\":\"254ff9ea-25b9-4812-ac8c-ddc291ab80ce\",\"type\":\"MonthsTicker\"},{\"attributes\":{\"source\":{\"id\":\"5c773397-f166-4bcd-9377-4f543823ce40\",\"type\":\"ColumnDataSource\"}},\"id\":\"895b9836-62f2-4de8-a7c3-33f4c8814018\",\"type\":\"CDSView\"},{\"attributes\":{\"months\":[0,6]},\"id\":\"41824500-7336-44dc-b078-3b100cff0695\",\"type\":\"MonthsTicker\"},{\"attributes\":{\"callback\":null},\"id\":\"120daedd-5f7c-4ab8-b028-2fca555ac9af\",\"type\":\"DataRange1d\"},{\"attributes\":{},\"id\":\"b4a02af5-28e4-4471-b47e-7afc67c00432\",\"type\":\"YearsTicker\"},{\"attributes\":{\"line_alpha\":{\"value\":0.1},\"line_color\":{\"value\":\"#1f77b4\"},\"line_dash\":[4,4],\"x\":{\"field\":\"x\"},\"y\":{\"field\":\"y\"}},\"id\":\"ecfc1b3c-5212-446b-8b07-b2481d82e7a4\",\"type\":\"Line\"},{\"attributes\":{\"callback\":null,\"mode\":\"hline\",\"renderers\":[{\"id\":\"8b286bac-59ea-41e2-91b8-7f59b9b20ff3\",\"type\":\"GlyphRenderer\"}],\"tooltips\":null},\"id\":\"c159012e-edbc-404e-88fb-ebfbf926bd92\",\"type\":\"HoverTool\"},{\"attributes\":{},\"id\":\"55d91bc1-cb59-42c1-ae81-0fc5305201ce\",\"type\":\"LinearScale\"},{\"attributes\":{\"fill_alpha\":{\"value\":0.05},\"fill_color\":{\"value\":\"grey\"},\"line_color\":{\"value\":null},\"size\":{\"units\":\"screen\",\"value\":20},\"x\":{\"field\":\"x\"},\"y\":{\"field\":\"y\"}},\"id\":\"8294f688-6c89-475b-8716-75bd6ba2326f\",\"type\":\"Circle\"},{\"attributes\":{\"callback\":null},\"id\":\"3bd4a382-2595-4194-8ada-c64aaabc8add\",\"type\":\"DataRange1d\"},{\"attributes\":{\"fill_alpha\":{\"value\":0.1},\"fill_color\":{\"value\":\"#1f77b4\"},\"line_alpha\":{\"value\":0.1},\"line_color\":{\"value\":\"#1f77b4\"},\"size\":{\"units\":\"screen\",\"value\":20},\"x\":{\"field\":\"x\"},\"y\":{\"field\":\"y\"}},\"id\":\"750a1f60-e982-43fe-8606-0bebb0df942b\",\"type\":\"Circle\"},{\"attributes\":{},\"id\":\"655c8488-450f-4f75-b456-e3c4beac83a4\",\"type\":\"LinearScale\"},{\"attributes\":{\"fill_alpha\":{\"value\":0.3},\"fill_color\":{\"value\":\"firebrick\"},\"line_alpha\":{\"value\":0.3},\"line_color\":{\"value\":\"white\"},\"size\":{\"units\":\"screen\",\"value\":20},\"x\":{\"field\":\"x\"},\"y\":{\"field\":\"y\"}},\"id\":\"58a310f8-47f7-4d1f-8ca9-ecc9142ce49e\",\"type\":\"Circle\"}],\"root_ids\":[\"1e2b65fb-a148-4a2d-8bb1-a9838614db3c\"]},\"title\":\"Bokeh Application\",\"version\":\"0.12.8\"}};\n",
       "    var render_items = [{\"docid\":\"1f86c566-f534-4872-a04f-7216c99791c0\",\"elementid\":\"0835cd64-b64f-41c1-903f-ea3998128c6d\",\"modelid\":\"1e2b65fb-a148-4a2d-8bb1-a9838614db3c\"}];\n",
       "\n",
       "    root.Bokeh.embed.embed_items(docs_json, render_items);\n",
       "  }\n",
       "\n",
       "  if (root.Bokeh !== undefined) {\n",
       "    embed_document(root);\n",
       "  } else {\n",
       "    var attempts = 0;\n",
       "    var timer = setInterval(function(root) {\n",
       "      if (root.Bokeh !== undefined) {\n",
       "        embed_document(root);\n",
       "        clearInterval(timer);\n",
       "      }\n",
       "      attempts++;\n",
       "      if (attempts > 100) {\n",
       "        console.log(\"Bokeh: ERROR: Unable to embed document because BokehJS library is missing\")\n",
       "        clearInterval(timer);\n",
       "      }\n",
       "    }, 10, root)\n",
       "  }\n",
       "})(window);"
      ],
      "application/vnd.bokehjs_exec.v0+json": ""
     },
     "metadata": {
      "application/vnd.bokehjs_exec.v0+json": {
       "id": "1e2b65fb-a148-4a2d-8bb1-a9838614db3c"
      }
     },
     "output_type": "display_data"
    }
   ],
   "source": [
    "from bokeh.models.tools import HoverTool\n",
    "from bokeh.sampledata.glucose import data\n",
    "\n",
    "subset = data.loc['2010-10-06']\n",
    "\n",
    "x, y = subset.index.to_series(), subset['glucose']\n",
    "\n",
    "# Basic plot setup\n",
    "p = figure(width=600, height=300, x_axis_type=\"datetime\", title='Hover over points')\n",
    "\n",
    "p.line(x, y, line_dash=\"4 4\", line_width=1, color='gray')\n",
    "\n",
    "cr = p.circle(x, y, size=20,\n",
    "              fill_color=\"grey\", hover_fill_color=\"firebrick\",\n",
    "              fill_alpha=0.05, hover_alpha=0.3,\n",
    "              line_color=None, hover_line_color=\"white\")\n",
    "\n",
    "p.add_tools(HoverTool(tooltips=None, renderers=[cr], mode='hline'))\n",
    "\n",
    "show(p)"
   ]
  },
  {
   "cell_type": "code",
   "execution_count": 8,
   "metadata": {
    "collapsed": true
   },
   "outputs": [],
   "source": [
    "# EXERCISE: experiment with standard, selected, hover glyph visual properties\n"
   ]
  },
  {
   "cell_type": "markdown",
   "metadata": {},
   "source": [
    "# Axes\n",
    "\n",
    "[Axes](http://bokeh.pydata.org/en/latest/docs/user_guide/styling.html#axes)\n",
    "\n",
    "To style axes, you first must get ahold of `Axis` objects. The simplest way is to use some convenience methods on `Plot`: [axis](http://bokeh.pydata.org/en/latest/docs/reference/plotting.html#bokeh.plotting.Figure.axis), [xaxis](http://bokeh.pydata.org/en/latest/docs/reference/plotting.html#bokeh.plotting.Figure.xaxis), and [yaxis](http://bokeh.pydata.org/en/latest/docs/reference/plotting.html#bokeh.plotting.Figure.yaxis). These methods return lists of axis objects:\n",
    "\n",
    "```\n",
    ">>> p.xaxis\n",
    "[<bokeh.models.axes.LinearAxis at 0x106fa2390>]\n",
    "```\n",
    "However, you can set properties on all the elements of the list as if it was a single object:\n",
    "```\n",
    "p.xaxis.axis_label = \"Temperature\"\n",
    "p.axis.major_label_text_color = \"orange\"\n",
    "```\n",
    "These are referred to as \"splattable\" lists, and tab completion works on them as well. \n"
   ]
  },
  {
   "cell_type": "code",
   "execution_count": 9,
   "metadata": {
    "collapsed": true
   },
   "outputs": [],
   "source": [
    "# EXERCISE Try out tab completion. Type p.xaxis.<press tab key> to see a list of attributes that can be set.\n",
    "\n"
   ]
  },
  {
   "cell_type": "markdown",
   "metadata": {},
   "source": [
    "* **axis** \n",
    " - [line properties](http://bokeh.pydata.org/en/latest/docs/user_guide/styling.html#line-properties)\n",
    "* **axis_label** \n",
    " - [text properties](http://bokeh.pydata.org/en/latest/docs/user_guide/styling.html#text-properties)\n",
    " - ``axis_label_standoff``\n",
    "* **major_label** \n",
    " - [text properties](http://bokeh.pydata.org/en/latest/docs/user_guide/styling.html#text-properties)\n",
    " - ``orientation``\n",
    "* **major_tick** \n",
    " - [line_properties](http://bokeh.pydata.org/en/latest/docs/user_guide/styling.html#line-properties)\n",
    " - ``major_tick_in`` \n",
    " - ``major_tick_out``\n",
    "* **minor_tick** \n",
    " - [line properties](http://bokeh.pydata.org/en/latest/docs/user_guide/styling.html#line-properties)\n",
    " - ``minor_tick_in``\n",
    " - ``minor_tick_out``\n",
    "\n",
    "As a simple first example, let's change the orientation of the major tick labels on both axes of a plot:"
   ]
  },
  {
   "cell_type": "code",
   "execution_count": 10,
   "metadata": {},
   "outputs": [
    {
     "data": {
      "text/html": [
       "\n",
       "<div class=\"bk-root\">\n",
       "    <div class=\"bk-plotdiv\" id=\"ff0641a3-dd33-41e0-95b8-bff26d11887f\"></div>\n",
       "</div>"
      ]
     },
     "metadata": {},
     "output_type": "display_data"
    },
    {
     "data": {
      "application/javascript": [
       "(function(root) {\n",
       "  function embed_document(root) {\n",
       "    var docs_json = {\"98bcd618-534a-42ac-b95c-66790d49b49c\":{\"roots\":{\"references\":[{\"attributes\":{},\"id\":\"412c5001-88f3-452d-bfd8-162d806e6274\",\"type\":\"LinearScale\"},{\"attributes\":{\"bottom_units\":\"screen\",\"fill_alpha\":{\"value\":0.5},\"fill_color\":{\"value\":\"lightgrey\"},\"left_units\":\"screen\",\"level\":\"overlay\",\"line_alpha\":{\"value\":1.0},\"line_color\":{\"value\":\"black\"},\"line_dash\":[4,4],\"line_width\":{\"value\":2},\"plot\":null,\"render_mode\":\"css\",\"right_units\":\"screen\",\"top_units\":\"screen\"},\"id\":\"55672ed4-ddf8-47ab-a6af-29f60bb0567b\",\"type\":\"BoxAnnotation\"},{\"attributes\":{\"source\":{\"id\":\"06c09100-1f9d-48df-a675-f176a385beaa\",\"type\":\"ColumnDataSource\"}},\"id\":\"d356a623-4b09-408a-a396-66775cb8d639\",\"type\":\"CDSView\"},{\"attributes\":{},\"id\":\"31b50984-8b61-491d-a5a3-6d99c6c5fa83\",\"type\":\"SaveTool\"},{\"attributes\":{},\"id\":\"09d8b522-868a-4cba-b83f-d619c09b276d\",\"type\":\"BasicTicker\"},{\"attributes\":{\"plot\":{\"id\":\"bc5b5e16-b26b-400e-833b-245dace261d3\",\"subtype\":\"Figure\",\"type\":\"Plot\"},\"ticker\":{\"id\":\"09d8b522-868a-4cba-b83f-d619c09b276d\",\"type\":\"BasicTicker\"}},\"id\":\"f9c4aaa4-9af4-4785-8173-cdb3bd8f5bca\",\"type\":\"Grid\"},{\"attributes\":{},\"id\":\"5693bd86-d62a-4f15-a7b3-6024269f8aa4\",\"type\":\"LinearScale\"},{\"attributes\":{\"dimension\":1,\"plot\":{\"id\":\"bc5b5e16-b26b-400e-833b-245dace261d3\",\"subtype\":\"Figure\",\"type\":\"Plot\"},\"ticker\":{\"id\":\"d02acbf5-0fa5-4c1c-9377-6518cc745cc5\",\"type\":\"BasicTicker\"}},\"id\":\"f84f311d-1939-4559-8325-d3a9a375109e\",\"type\":\"Grid\"},{\"attributes\":{},\"id\":\"cf471fb2-af37-48de-9250-0ab7ceb1a1cc\",\"type\":\"ResetTool\"},{\"attributes\":{\"plot\":null,\"text\":\"\"},\"id\":\"5ec28f68-37c7-43de-a6eb-07e469f4fb9b\",\"type\":\"Title\"},{\"attributes\":{\"overlay\":{\"id\":\"55672ed4-ddf8-47ab-a6af-29f60bb0567b\",\"type\":\"BoxAnnotation\"}},\"id\":\"20b72db5-3044-4623-9aa1-da22174c441e\",\"type\":\"BoxZoomTool\"},{\"attributes\":{\"active_drag\":\"auto\",\"active_inspect\":\"auto\",\"active_scroll\":\"auto\",\"active_tap\":\"auto\",\"tools\":[{\"id\":\"301f51de-f9c7-4c72-89f2-d9b93d11184b\",\"type\":\"PanTool\"},{\"id\":\"9af8ff60-55c4-4e84-bbb0-58b7a988e45c\",\"type\":\"WheelZoomTool\"},{\"id\":\"20b72db5-3044-4623-9aa1-da22174c441e\",\"type\":\"BoxZoomTool\"},{\"id\":\"31b50984-8b61-491d-a5a3-6d99c6c5fa83\",\"type\":\"SaveTool\"},{\"id\":\"cf471fb2-af37-48de-9250-0ab7ceb1a1cc\",\"type\":\"ResetTool\"},{\"id\":\"ee3c1e8c-1363-49ee-8a06-17388a99baaf\",\"type\":\"HelpTool\"}]},\"id\":\"1eb4800f-7c9f-45d7-95c1-beab6d8d8c5c\",\"type\":\"Toolbar\"},{\"attributes\":{},\"id\":\"ee3c1e8c-1363-49ee-8a06-17388a99baaf\",\"type\":\"HelpTool\"},{\"attributes\":{},\"id\":\"d02acbf5-0fa5-4c1c-9377-6518cc745cc5\",\"type\":\"BasicTicker\"},{\"attributes\":{},\"id\":\"4743b068-8ac3-4a82-a972-655dd5eddf52\",\"type\":\"BasicTickFormatter\"},{\"attributes\":{},\"id\":\"d8944491-c7d2-4f2b-8e0b-77f87e3b3dad\",\"type\":\"BasicTickFormatter\"},{\"attributes\":{},\"id\":\"301f51de-f9c7-4c72-89f2-d9b93d11184b\",\"type\":\"PanTool\"},{\"attributes\":{\"callback\":null,\"column_names\":[\"x\",\"y\"],\"data\":{\"x\":[1,2,3,4,5],\"y\":[2,5,8,2,7]}},\"id\":\"06c09100-1f9d-48df-a675-f176a385beaa\",\"type\":\"ColumnDataSource\"},{\"attributes\":{\"formatter\":{\"id\":\"4743b068-8ac3-4a82-a972-655dd5eddf52\",\"type\":\"BasicTickFormatter\"},\"major_label_orientation\":\"vertical\",\"plot\":{\"id\":\"bc5b5e16-b26b-400e-833b-245dace261d3\",\"subtype\":\"Figure\",\"type\":\"Plot\"},\"ticker\":{\"id\":\"d02acbf5-0fa5-4c1c-9377-6518cc745cc5\",\"type\":\"BasicTicker\"}},\"id\":\"2bf3d79e-9d4a-4c8e-a810-922af45be34c\",\"type\":\"LinearAxis\"},{\"attributes\":{\"data_source\":{\"id\":\"06c09100-1f9d-48df-a675-f176a385beaa\",\"type\":\"ColumnDataSource\"},\"glyph\":{\"id\":\"b9f31746-4df7-4eff-a327-45699ab32cb7\",\"type\":\"X\"},\"hover_glyph\":null,\"muted_glyph\":null,\"nonselection_glyph\":{\"id\":\"aae01da2-c773-4ef4-bc52-c0b69fc1f360\",\"type\":\"X\"},\"selection_glyph\":null,\"view\":{\"id\":\"d356a623-4b09-408a-a396-66775cb8d639\",\"type\":\"CDSView\"}},\"id\":\"11ca91d3-8ed9-4148-a7df-fc2beaa4fe03\",\"type\":\"GlyphRenderer\"},{\"attributes\":{\"formatter\":{\"id\":\"d8944491-c7d2-4f2b-8e0b-77f87e3b3dad\",\"type\":\"BasicTickFormatter\"},\"major_label_orientation\":0.7853981633974483,\"plot\":{\"id\":\"bc5b5e16-b26b-400e-833b-245dace261d3\",\"subtype\":\"Figure\",\"type\":\"Plot\"},\"ticker\":{\"id\":\"09d8b522-868a-4cba-b83f-d619c09b276d\",\"type\":\"BasicTicker\"}},\"id\":\"c4095458-553e-4fc2-a611-828779e25607\",\"type\":\"LinearAxis\"},{\"attributes\":{\"callback\":null},\"id\":\"e5fd7675-c923-49be-8d7c-16730f08acdc\",\"type\":\"DataRange1d\"},{\"attributes\":{\"fill_color\":{\"value\":\"#1f77b4\"},\"line_color\":{\"value\":\"#1f77b4\"},\"line_width\":{\"value\":2},\"size\":{\"units\":\"screen\",\"value\":10},\"x\":{\"field\":\"x\"},\"y\":{\"field\":\"y\"}},\"id\":\"b9f31746-4df7-4eff-a327-45699ab32cb7\",\"type\":\"X\"},{\"attributes\":{\"callback\":null},\"id\":\"ffe8f1d2-d8fe-4dcc-bd22-c03c4ea20a79\",\"type\":\"DataRange1d\"},{\"attributes\":{},\"id\":\"9af8ff60-55c4-4e84-bbb0-58b7a988e45c\",\"type\":\"WheelZoomTool\"},{\"attributes\":{\"fill_alpha\":{\"value\":0.1},\"fill_color\":{\"value\":\"#1f77b4\"},\"line_alpha\":{\"value\":0.1},\"line_color\":{\"value\":\"#1f77b4\"},\"line_width\":{\"value\":2},\"size\":{\"units\":\"screen\",\"value\":10},\"x\":{\"field\":\"x\"},\"y\":{\"field\":\"y\"}},\"id\":\"aae01da2-c773-4ef4-bc52-c0b69fc1f360\",\"type\":\"X\"},{\"attributes\":{\"below\":[{\"id\":\"c4095458-553e-4fc2-a611-828779e25607\",\"type\":\"LinearAxis\"}],\"left\":[{\"id\":\"2bf3d79e-9d4a-4c8e-a810-922af45be34c\",\"type\":\"LinearAxis\"}],\"plot_height\":400,\"plot_width\":400,\"renderers\":[{\"id\":\"c4095458-553e-4fc2-a611-828779e25607\",\"type\":\"LinearAxis\"},{\"id\":\"f9c4aaa4-9af4-4785-8173-cdb3bd8f5bca\",\"type\":\"Grid\"},{\"id\":\"2bf3d79e-9d4a-4c8e-a810-922af45be34c\",\"type\":\"LinearAxis\"},{\"id\":\"f84f311d-1939-4559-8325-d3a9a375109e\",\"type\":\"Grid\"},{\"id\":\"55672ed4-ddf8-47ab-a6af-29f60bb0567b\",\"type\":\"BoxAnnotation\"},{\"id\":\"11ca91d3-8ed9-4148-a7df-fc2beaa4fe03\",\"type\":\"GlyphRenderer\"}],\"title\":{\"id\":\"5ec28f68-37c7-43de-a6eb-07e469f4fb9b\",\"type\":\"Title\"},\"toolbar\":{\"id\":\"1eb4800f-7c9f-45d7-95c1-beab6d8d8c5c\",\"type\":\"Toolbar\"},\"x_range\":{\"id\":\"ffe8f1d2-d8fe-4dcc-bd22-c03c4ea20a79\",\"type\":\"DataRange1d\"},\"x_scale\":{\"id\":\"5693bd86-d62a-4f15-a7b3-6024269f8aa4\",\"type\":\"LinearScale\"},\"y_range\":{\"id\":\"e5fd7675-c923-49be-8d7c-16730f08acdc\",\"type\":\"DataRange1d\"},\"y_scale\":{\"id\":\"412c5001-88f3-452d-bfd8-162d806e6274\",\"type\":\"LinearScale\"}},\"id\":\"bc5b5e16-b26b-400e-833b-245dace261d3\",\"subtype\":\"Figure\",\"type\":\"Plot\"}],\"root_ids\":[\"bc5b5e16-b26b-400e-833b-245dace261d3\"]},\"title\":\"Bokeh Application\",\"version\":\"0.12.8\"}};\n",
       "    var render_items = [{\"docid\":\"98bcd618-534a-42ac-b95c-66790d49b49c\",\"elementid\":\"ff0641a3-dd33-41e0-95b8-bff26d11887f\",\"modelid\":\"bc5b5e16-b26b-400e-833b-245dace261d3\"}];\n",
       "\n",
       "    root.Bokeh.embed.embed_items(docs_json, render_items);\n",
       "  }\n",
       "\n",
       "  if (root.Bokeh !== undefined) {\n",
       "    embed_document(root);\n",
       "  } else {\n",
       "    var attempts = 0;\n",
       "    var timer = setInterval(function(root) {\n",
       "      if (root.Bokeh !== undefined) {\n",
       "        embed_document(root);\n",
       "        clearInterval(timer);\n",
       "      }\n",
       "      attempts++;\n",
       "      if (attempts > 100) {\n",
       "        console.log(\"Bokeh: ERROR: Unable to embed document because BokehJS library is missing\")\n",
       "        clearInterval(timer);\n",
       "      }\n",
       "    }, 10, root)\n",
       "  }\n",
       "})(window);"
      ],
      "application/vnd.bokehjs_exec.v0+json": ""
     },
     "metadata": {
      "application/vnd.bokehjs_exec.v0+json": {
       "id": "bc5b5e16-b26b-400e-833b-245dace261d3"
      }
     },
     "output_type": "display_data"
    }
   ],
   "source": [
    "from math import pi\n",
    "\n",
    "p = figure(plot_width=400, plot_height=400)\n",
    "p.x([1,2,3,4,5], [2,5,8,2,7], size=10, line_width=2)\n",
    "\n",
    "p.xaxis.major_label_orientation = pi/4\n",
    "p.yaxis.major_label_orientation = \"vertical\"\n",
    "\n",
    "show(p)"
   ]
  },
  {
   "cell_type": "markdown",
   "metadata": {},
   "source": [
    "The next example shows customizations on several of the different Axis properties at once:"
   ]
  },
  {
   "cell_type": "code",
   "execution_count": 11,
   "metadata": {},
   "outputs": [
    {
     "data": {
      "text/html": [
       "\n",
       "<div class=\"bk-root\">\n",
       "    <div class=\"bk-plotdiv\" id=\"d118deae-e99a-405a-9745-2f18ccbab337\"></div>\n",
       "</div>"
      ]
     },
     "metadata": {},
     "output_type": "display_data"
    },
    {
     "data": {
      "application/javascript": [
       "(function(root) {\n",
       "  function embed_document(root) {\n",
       "    var docs_json = {\"c597bd31-da58-48de-b5ae-8c60d3a15145\":{\"roots\":{\"references\":[{\"attributes\":{\"data_source\":{\"id\":\"759f6327-73eb-4696-a010-a0be480028d5\",\"type\":\"ColumnDataSource\"},\"glyph\":{\"id\":\"12fd4415-e50e-4f1a-870e-de6e69878c85\",\"type\":\"Asterisk\"},\"hover_glyph\":null,\"muted_glyph\":null,\"nonselection_glyph\":{\"id\":\"475d32b7-bea7-4779-b7bc-c16161132171\",\"type\":\"Asterisk\"},\"selection_glyph\":null,\"view\":{\"id\":\"8879762c-6ac0-4421-a257-29564f5963e2\",\"type\":\"CDSView\"}},\"id\":\"3c4c9563-42fb-4c77-bdf6-904886c4a811\",\"type\":\"GlyphRenderer\"},{\"attributes\":{\"axis_label\":\"Temp\",\"axis_line_color\":{\"value\":\"red\"},\"axis_line_width\":{\"value\":3},\"formatter\":{\"id\":\"bebe5f57-7c72-4b3d-81e4-11bfa3d9ed7e\",\"type\":\"BasicTickFormatter\"},\"minor_tick_in\":-3,\"minor_tick_out\":6,\"plot\":{\"id\":\"d803505f-061f-4427-97d6-f297b69a9aba\",\"subtype\":\"Figure\",\"type\":\"Plot\"},\"ticker\":{\"id\":\"b4f27e83-1f35-4d16-ae5b-bf2b1a71858c\",\"type\":\"BasicTicker\"}},\"id\":\"aaa6f10e-48bb-4c4c-9c0d-bda1b891a003\",\"type\":\"LinearAxis\"},{\"attributes\":{\"overlay\":{\"id\":\"b1f42682-0a1e-4f30-8307-496d7b7a9069\",\"type\":\"BoxAnnotation\"}},\"id\":\"21c225ab-440a-4a0f-bd62-37c724c3c55d\",\"type\":\"BoxZoomTool\"},{\"attributes\":{},\"id\":\"b4f27e83-1f35-4d16-ae5b-bf2b1a71858c\",\"type\":\"BasicTicker\"},{\"attributes\":{\"axis_label\":\"Pressure\",\"formatter\":{\"id\":\"5bc12e2d-9171-4331-883f-e2699ee12a43\",\"type\":\"BasicTickFormatter\"},\"major_label_orientation\":\"vertical\",\"major_label_text_color\":{\"value\":\"orange\"},\"minor_tick_in\":-3,\"minor_tick_out\":6,\"plot\":{\"id\":\"d803505f-061f-4427-97d6-f297b69a9aba\",\"subtype\":\"Figure\",\"type\":\"Plot\"},\"ticker\":{\"id\":\"93b0083a-5cab-4d91-99c0-648dd5ed89b3\",\"type\":\"BasicTicker\"}},\"id\":\"af9de47a-cca5-49fa-a398-1b1e16109e95\",\"type\":\"LinearAxis\"},{\"attributes\":{\"bottom_units\":\"screen\",\"fill_alpha\":{\"value\":0.5},\"fill_color\":{\"value\":\"lightgrey\"},\"left_units\":\"screen\",\"level\":\"overlay\",\"line_alpha\":{\"value\":1.0},\"line_color\":{\"value\":\"black\"},\"line_dash\":[4,4],\"line_width\":{\"value\":2},\"plot\":null,\"render_mode\":\"css\",\"right_units\":\"screen\",\"top_units\":\"screen\"},\"id\":\"b1f42682-0a1e-4f30-8307-496d7b7a9069\",\"type\":\"BoxAnnotation\"},{\"attributes\":{\"source\":{\"id\":\"759f6327-73eb-4696-a010-a0be480028d5\",\"type\":\"ColumnDataSource\"}},\"id\":\"8879762c-6ac0-4421-a257-29564f5963e2\",\"type\":\"CDSView\"},{\"attributes\":{\"plot\":{\"id\":\"d803505f-061f-4427-97d6-f297b69a9aba\",\"subtype\":\"Figure\",\"type\":\"Plot\"},\"ticker\":{\"id\":\"b4f27e83-1f35-4d16-ae5b-bf2b1a71858c\",\"type\":\"BasicTicker\"}},\"id\":\"255399a5-72b9-4b78-aa36-9f5a0538175b\",\"type\":\"Grid\"},{\"attributes\":{},\"id\":\"5616b3a9-978e-41fb-a732-e551f2a01953\",\"type\":\"LinearScale\"},{\"attributes\":{},\"id\":\"a6e56473-56d3-4b6e-9a8a-1d65685a59c9\",\"type\":\"SaveTool\"},{\"attributes\":{},\"id\":\"5bc12e2d-9171-4331-883f-e2699ee12a43\",\"type\":\"BasicTickFormatter\"},{\"attributes\":{},\"id\":\"311eb3a3-b510-4ba5-8656-1bf31c4f639c\",\"type\":\"HelpTool\"},{\"attributes\":{},\"id\":\"bebe5f57-7c72-4b3d-81e4-11bfa3d9ed7e\",\"type\":\"BasicTickFormatter\"},{\"attributes\":{\"callback\":null},\"id\":\"0e091034-2d26-44a8-9ca2-91b2dcbd8a1d\",\"type\":\"DataRange1d\"},{\"attributes\":{},\"id\":\"005ed50d-2599-4017-99ff-d845c1c24e11\",\"type\":\"ResetTool\"},{\"attributes\":{\"below\":[{\"id\":\"aaa6f10e-48bb-4c4c-9c0d-bda1b891a003\",\"type\":\"LinearAxis\"}],\"left\":[{\"id\":\"af9de47a-cca5-49fa-a398-1b1e16109e95\",\"type\":\"LinearAxis\"}],\"plot_height\":400,\"plot_width\":400,\"renderers\":[{\"id\":\"aaa6f10e-48bb-4c4c-9c0d-bda1b891a003\",\"type\":\"LinearAxis\"},{\"id\":\"255399a5-72b9-4b78-aa36-9f5a0538175b\",\"type\":\"Grid\"},{\"id\":\"af9de47a-cca5-49fa-a398-1b1e16109e95\",\"type\":\"LinearAxis\"},{\"id\":\"c10a63aa-69f5-4edb-ba8f-aee971d6b722\",\"type\":\"Grid\"},{\"id\":\"b1f42682-0a1e-4f30-8307-496d7b7a9069\",\"type\":\"BoxAnnotation\"},{\"id\":\"3c4c9563-42fb-4c77-bdf6-904886c4a811\",\"type\":\"GlyphRenderer\"}],\"title\":{\"id\":\"c80e464e-60ad-485a-85f5-b0df834e2faf\",\"type\":\"Title\"},\"toolbar\":{\"id\":\"0ffcc732-fe91-4ff0-ba2d-37b6508672f0\",\"type\":\"Toolbar\"},\"x_range\":{\"id\":\"5a568b4e-e8f2-44ee-bc7d-90db7f6663fc\",\"type\":\"DataRange1d\"},\"x_scale\":{\"id\":\"2ced8a77-eaa3-4ae4-8e1c-5ebab996477e\",\"type\":\"LinearScale\"},\"y_range\":{\"id\":\"0e091034-2d26-44a8-9ca2-91b2dcbd8a1d\",\"type\":\"DataRange1d\"},\"y_scale\":{\"id\":\"5616b3a9-978e-41fb-a732-e551f2a01953\",\"type\":\"LinearScale\"}},\"id\":\"d803505f-061f-4427-97d6-f297b69a9aba\",\"subtype\":\"Figure\",\"type\":\"Plot\"},{\"attributes\":{\"callback\":null,\"column_names\":[\"x\",\"y\"],\"data\":{\"x\":[1,2,3,4,5],\"y\":[2,5,8,2,7]}},\"id\":\"759f6327-73eb-4696-a010-a0be480028d5\",\"type\":\"ColumnDataSource\"},{\"attributes\":{},\"id\":\"5b6eb3a5-5ac0-40d2-88bd-074034cdc080\",\"type\":\"WheelZoomTool\"},{\"attributes\":{\"callback\":null},\"id\":\"5a568b4e-e8f2-44ee-bc7d-90db7f6663fc\",\"type\":\"DataRange1d\"},{\"attributes\":{\"plot\":null,\"text\":\"\"},\"id\":\"c80e464e-60ad-485a-85f5-b0df834e2faf\",\"type\":\"Title\"},{\"attributes\":{},\"id\":\"8d07653a-44e3-4ae1-a2b5-3d0d6cf00af7\",\"type\":\"PanTool\"},{\"attributes\":{\"fill_alpha\":{\"value\":0.1},\"fill_color\":{\"value\":\"#1f77b4\"},\"line_alpha\":{\"value\":0.1},\"line_color\":{\"value\":\"#1f77b4\"},\"size\":{\"units\":\"screen\",\"value\":12},\"x\":{\"field\":\"x\"},\"y\":{\"field\":\"y\"}},\"id\":\"475d32b7-bea7-4779-b7bc-c16161132171\",\"type\":\"Asterisk\"},{\"attributes\":{\"fill_color\":{\"value\":\"olive\"},\"line_color\":{\"value\":\"olive\"},\"size\":{\"units\":\"screen\",\"value\":12},\"x\":{\"field\":\"x\"},\"y\":{\"field\":\"y\"}},\"id\":\"12fd4415-e50e-4f1a-870e-de6e69878c85\",\"type\":\"Asterisk\"},{\"attributes\":{},\"id\":\"2ced8a77-eaa3-4ae4-8e1c-5ebab996477e\",\"type\":\"LinearScale\"},{\"attributes\":{\"active_drag\":\"auto\",\"active_inspect\":\"auto\",\"active_scroll\":\"auto\",\"active_tap\":\"auto\",\"tools\":[{\"id\":\"8d07653a-44e3-4ae1-a2b5-3d0d6cf00af7\",\"type\":\"PanTool\"},{\"id\":\"5b6eb3a5-5ac0-40d2-88bd-074034cdc080\",\"type\":\"WheelZoomTool\"},{\"id\":\"21c225ab-440a-4a0f-bd62-37c724c3c55d\",\"type\":\"BoxZoomTool\"},{\"id\":\"a6e56473-56d3-4b6e-9a8a-1d65685a59c9\",\"type\":\"SaveTool\"},{\"id\":\"005ed50d-2599-4017-99ff-d845c1c24e11\",\"type\":\"ResetTool\"},{\"id\":\"311eb3a3-b510-4ba5-8656-1bf31c4f639c\",\"type\":\"HelpTool\"}]},\"id\":\"0ffcc732-fe91-4ff0-ba2d-37b6508672f0\",\"type\":\"Toolbar\"},{\"attributes\":{},\"id\":\"93b0083a-5cab-4d91-99c0-648dd5ed89b3\",\"type\":\"BasicTicker\"},{\"attributes\":{\"dimension\":1,\"plot\":{\"id\":\"d803505f-061f-4427-97d6-f297b69a9aba\",\"subtype\":\"Figure\",\"type\":\"Plot\"},\"ticker\":{\"id\":\"93b0083a-5cab-4d91-99c0-648dd5ed89b3\",\"type\":\"BasicTicker\"}},\"id\":\"c10a63aa-69f5-4edb-ba8f-aee971d6b722\",\"type\":\"Grid\"}],\"root_ids\":[\"d803505f-061f-4427-97d6-f297b69a9aba\"]},\"title\":\"Bokeh Application\",\"version\":\"0.12.8\"}};\n",
       "    var render_items = [{\"docid\":\"c597bd31-da58-48de-b5ae-8c60d3a15145\",\"elementid\":\"d118deae-e99a-405a-9745-2f18ccbab337\",\"modelid\":\"d803505f-061f-4427-97d6-f297b69a9aba\"}];\n",
       "\n",
       "    root.Bokeh.embed.embed_items(docs_json, render_items);\n",
       "  }\n",
       "\n",
       "  if (root.Bokeh !== undefined) {\n",
       "    embed_document(root);\n",
       "  } else {\n",
       "    var attempts = 0;\n",
       "    var timer = setInterval(function(root) {\n",
       "      if (root.Bokeh !== undefined) {\n",
       "        embed_document(root);\n",
       "        clearInterval(timer);\n",
       "      }\n",
       "      attempts++;\n",
       "      if (attempts > 100) {\n",
       "        console.log(\"Bokeh: ERROR: Unable to embed document because BokehJS library is missing\")\n",
       "        clearInterval(timer);\n",
       "      }\n",
       "    }, 10, root)\n",
       "  }\n",
       "})(window);"
      ],
      "application/vnd.bokehjs_exec.v0+json": ""
     },
     "metadata": {
      "application/vnd.bokehjs_exec.v0+json": {
       "id": "d803505f-061f-4427-97d6-f297b69a9aba"
      }
     },
     "output_type": "display_data"
    }
   ],
   "source": [
    "p = figure(plot_width=400, plot_height=400)\n",
    "p.asterisk([1,2,3,4,5], [2,5,8,2,7], size=12, color=\"olive\")\n",
    "\n",
    "# change just some things about the x-axes\n",
    "p.xaxis.axis_label = \"Temp\"\n",
    "p.xaxis.axis_line_width = 3\n",
    "p.xaxis.axis_line_color = \"red\"\n",
    "\n",
    "# change just some things about the y-axes\n",
    "p.yaxis.axis_label = \"Pressure\"\n",
    "p.yaxis.major_label_text_color = \"orange\"\n",
    "p.yaxis.major_label_orientation = \"vertical\"\n",
    "\n",
    "# change things on all axes\n",
    "p.axis.minor_tick_in = -3\n",
    "p.axis.minor_tick_out = 6\n",
    "\n",
    "show(p)"
   ]
  },
  {
   "cell_type": "code",
   "execution_count": 12,
   "metadata": {
    "collapsed": true
   },
   "outputs": [],
   "source": [
    "# EXERCISE Create a plot of your own and customize several axis properties\n"
   ]
  },
  {
   "cell_type": "markdown",
   "metadata": {},
   "source": [
    "There are further customizations possible. See the [User Guide](http://bokeh.pydata.org/en/latest/docs/user_guide.html) for more information on topics such as [tick label formatting](http://bokeh.pydata.org/en/latest/docs/user_guide/styling.html#tick-label-formats) or [limiting axis bounds](http://bokeh.pydata.org/en/latest/docs/user_guide/styling.html#bounds)."
   ]
  },
  {
   "cell_type": "markdown",
   "metadata": {},
   "source": [
    "# Grids\n",
    "\n",
    "[Grids](http://bokeh.pydata.org/en/latest/docs/user_guide/styling.html#grids)\n",
    "\n",
    "* **grid** [line properties](http://bokeh.pydata.org/en/latest/docs/user_guide/styling.html#line-properties)\n",
    "* **band** [fill properties]()"
   ]
  },
  {
   "cell_type": "code",
   "execution_count": 13,
   "metadata": {},
   "outputs": [
    {
     "data": {
      "text/html": [
       "\n",
       "<div class=\"bk-root\">\n",
       "    <div class=\"bk-plotdiv\" id=\"c43af956-6336-44a1-950c-bf9226de66ba\"></div>\n",
       "</div>"
      ]
     },
     "metadata": {},
     "output_type": "display_data"
    },
    {
     "data": {
      "application/javascript": [
       "(function(root) {\n",
       "  function embed_document(root) {\n",
       "    var docs_json = {\"2fbb8454-0e86-42ae-a347-88cfb3fdf5fc\":{\"roots\":{\"references\":[{\"attributes\":{},\"id\":\"58c67e21-aedc-4b1f-955d-e120f3eb9a0a\",\"type\":\"BasicTicker\"},{\"attributes\":{},\"id\":\"1ac1a16c-d9ad-4105-a17e-5293ef237152\",\"type\":\"SaveTool\"},{\"attributes\":{\"callback\":null},\"id\":\"f8199d9e-1804-4e6f-812a-37bb5e799928\",\"type\":\"DataRange1d\"},{\"attributes\":{\"source\":{\"id\":\"c02fa43e-dd39-468e-ab7c-25dfedc15b7b\",\"type\":\"ColumnDataSource\"}},\"id\":\"a89a24d6-fcf7-4b7a-86ae-1f876716e8b0\",\"type\":\"CDSView\"},{\"attributes\":{},\"id\":\"41810654-9350-461e-bde7-878276da8a9f\",\"type\":\"LinearScale\"},{\"attributes\":{},\"id\":\"5ad0c9d9-f9a6-468d-b151-4061a100e323\",\"type\":\"WheelZoomTool\"},{\"attributes\":{},\"id\":\"dd3da227-9ead-4957-868e-92d18a0080e6\",\"type\":\"BasicTicker\"},{\"attributes\":{},\"id\":\"4e6eeeaa-3e12-46c4-8e5e-142000a17646\",\"type\":\"ResetTool\"},{\"attributes\":{\"formatter\":{\"id\":\"cb918bcf-ec41-48e9-977b-588d177ecdca\",\"type\":\"BasicTickFormatter\"},\"plot\":{\"id\":\"983a9afd-6e9f-4107-86ed-00b175831dee\",\"subtype\":\"Figure\",\"type\":\"Plot\"},\"ticker\":{\"id\":\"dd3da227-9ead-4957-868e-92d18a0080e6\",\"type\":\"BasicTicker\"}},\"id\":\"316fbca2-014b-4326-bdb8-1e41cc1075c9\",\"type\":\"LinearAxis\"},{\"attributes\":{\"active_drag\":\"auto\",\"active_inspect\":\"auto\",\"active_scroll\":\"auto\",\"active_tap\":\"auto\",\"tools\":[{\"id\":\"9688b261-1c34-424d-91a1-77db39679bf9\",\"type\":\"PanTool\"},{\"id\":\"5ad0c9d9-f9a6-468d-b151-4061a100e323\",\"type\":\"WheelZoomTool\"},{\"id\":\"26c39b28-83dd-4246-bc50-fbf0ca8485fd\",\"type\":\"BoxZoomTool\"},{\"id\":\"1ac1a16c-d9ad-4105-a17e-5293ef237152\",\"type\":\"SaveTool\"},{\"id\":\"4e6eeeaa-3e12-46c4-8e5e-142000a17646\",\"type\":\"ResetTool\"},{\"id\":\"b646d0d3-f515-4592-b89c-98e230e3cfb2\",\"type\":\"HelpTool\"}]},\"id\":\"ee80c430-d2a1-43a3-8309-b5379c8cb0bb\",\"type\":\"Toolbar\"},{\"attributes\":{},\"id\":\"263786dc-627d-4bb4-ae85-52ca9216bb64\",\"type\":\"BasicTickFormatter\"},{\"attributes\":{},\"id\":\"cb918bcf-ec41-48e9-977b-588d177ecdca\",\"type\":\"BasicTickFormatter\"},{\"attributes\":{},\"id\":\"9688b261-1c34-424d-91a1-77db39679bf9\",\"type\":\"PanTool\"},{\"attributes\":{\"fill_color\":{\"value\":\"#1f77b4\"},\"line_color\":{\"value\":\"#1f77b4\"},\"size\":{\"units\":\"screen\",\"value\":10},\"x\":{\"field\":\"x\"},\"y\":{\"field\":\"y\"}},\"id\":\"b28bb446-7f59-44f8-ab22-cfdc7b1b1ce7\",\"type\":\"Circle\"},{\"attributes\":{},\"id\":\"d4061a6b-70bd-418c-a379-7b67c4ed73c8\",\"type\":\"LinearScale\"},{\"attributes\":{\"callback\":null,\"column_names\":[\"x\",\"y\"],\"data\":{\"x\":[1,2,3,4,5],\"y\":[2,5,8,2,7]}},\"id\":\"c02fa43e-dd39-468e-ab7c-25dfedc15b7b\",\"type\":\"ColumnDataSource\"},{\"attributes\":{\"bottom_units\":\"screen\",\"fill_alpha\":{\"value\":0.5},\"fill_color\":{\"value\":\"lightgrey\"},\"left_units\":\"screen\",\"level\":\"overlay\",\"line_alpha\":{\"value\":1.0},\"line_color\":{\"value\":\"black\"},\"line_dash\":[4,4],\"line_width\":{\"value\":2},\"plot\":null,\"render_mode\":\"css\",\"right_units\":\"screen\",\"top_units\":\"screen\"},\"id\":\"2653e836-c2d9-491e-b672-12e3de7b3200\",\"type\":\"BoxAnnotation\"},{\"attributes\":{\"data_source\":{\"id\":\"c02fa43e-dd39-468e-ab7c-25dfedc15b7b\",\"type\":\"ColumnDataSource\"},\"glyph\":{\"id\":\"b28bb446-7f59-44f8-ab22-cfdc7b1b1ce7\",\"type\":\"Circle\"},\"hover_glyph\":null,\"muted_glyph\":null,\"nonselection_glyph\":{\"id\":\"32b23af5-8d22-474a-b648-fcb573421667\",\"type\":\"Circle\"},\"selection_glyph\":null,\"view\":{\"id\":\"a89a24d6-fcf7-4b7a-86ae-1f876716e8b0\",\"type\":\"CDSView\"}},\"id\":\"5508c61f-c570-4cd0-a4e1-d352b6abeb88\",\"type\":\"GlyphRenderer\"},{\"attributes\":{\"formatter\":{\"id\":\"263786dc-627d-4bb4-ae85-52ca9216bb64\",\"type\":\"BasicTickFormatter\"},\"plot\":{\"id\":\"983a9afd-6e9f-4107-86ed-00b175831dee\",\"subtype\":\"Figure\",\"type\":\"Plot\"},\"ticker\":{\"id\":\"58c67e21-aedc-4b1f-955d-e120f3eb9a0a\",\"type\":\"BasicTicker\"}},\"id\":\"1ebb3df8-5d34-47a2-bf99-d459eac0dc6a\",\"type\":\"LinearAxis\"},{\"attributes\":{\"plot\":null,\"text\":\"\"},\"id\":\"371d9715-d49e-4eee-8327-4bb795faad17\",\"type\":\"Title\"},{\"attributes\":{\"below\":[{\"id\":\"316fbca2-014b-4326-bdb8-1e41cc1075c9\",\"type\":\"LinearAxis\"}],\"left\":[{\"id\":\"1ebb3df8-5d34-47a2-bf99-d459eac0dc6a\",\"type\":\"LinearAxis\"}],\"plot_height\":400,\"plot_width\":400,\"renderers\":[{\"id\":\"316fbca2-014b-4326-bdb8-1e41cc1075c9\",\"type\":\"LinearAxis\"},{\"id\":\"455b0082-5950-4b21-a9f6-d9cebbeb9bbd\",\"type\":\"Grid\"},{\"id\":\"1ebb3df8-5d34-47a2-bf99-d459eac0dc6a\",\"type\":\"LinearAxis\"},{\"id\":\"db696f1a-ab30-4d96-80cb-3b1a35dd1617\",\"type\":\"Grid\"},{\"id\":\"2653e836-c2d9-491e-b672-12e3de7b3200\",\"type\":\"BoxAnnotation\"},{\"id\":\"5508c61f-c570-4cd0-a4e1-d352b6abeb88\",\"type\":\"GlyphRenderer\"}],\"title\":{\"id\":\"371d9715-d49e-4eee-8327-4bb795faad17\",\"type\":\"Title\"},\"toolbar\":{\"id\":\"ee80c430-d2a1-43a3-8309-b5379c8cb0bb\",\"type\":\"Toolbar\"},\"x_range\":{\"id\":\"61964bef-2ba5-4fe4-9f84-cef117012626\",\"type\":\"DataRange1d\"},\"x_scale\":{\"id\":\"41810654-9350-461e-bde7-878276da8a9f\",\"type\":\"LinearScale\"},\"y_range\":{\"id\":\"f8199d9e-1804-4e6f-812a-37bb5e799928\",\"type\":\"DataRange1d\"},\"y_scale\":{\"id\":\"d4061a6b-70bd-418c-a379-7b67c4ed73c8\",\"type\":\"LinearScale\"}},\"id\":\"983a9afd-6e9f-4107-86ed-00b175831dee\",\"subtype\":\"Figure\",\"type\":\"Plot\"},{\"attributes\":{\"grid_line_color\":{\"value\":null},\"plot\":{\"id\":\"983a9afd-6e9f-4107-86ed-00b175831dee\",\"subtype\":\"Figure\",\"type\":\"Plot\"},\"ticker\":{\"id\":\"dd3da227-9ead-4957-868e-92d18a0080e6\",\"type\":\"BasicTicker\"}},\"id\":\"455b0082-5950-4b21-a9f6-d9cebbeb9bbd\",\"type\":\"Grid\"},{\"attributes\":{\"dimension\":1,\"grid_line_alpha\":{\"value\":0.5},\"grid_line_dash\":[6,4],\"plot\":{\"id\":\"983a9afd-6e9f-4107-86ed-00b175831dee\",\"subtype\":\"Figure\",\"type\":\"Plot\"},\"ticker\":{\"id\":\"58c67e21-aedc-4b1f-955d-e120f3eb9a0a\",\"type\":\"BasicTicker\"}},\"id\":\"db696f1a-ab30-4d96-80cb-3b1a35dd1617\",\"type\":\"Grid\"},{\"attributes\":{\"fill_alpha\":{\"value\":0.1},\"fill_color\":{\"value\":\"#1f77b4\"},\"line_alpha\":{\"value\":0.1},\"line_color\":{\"value\":\"#1f77b4\"},\"size\":{\"units\":\"screen\",\"value\":10},\"x\":{\"field\":\"x\"},\"y\":{\"field\":\"y\"}},\"id\":\"32b23af5-8d22-474a-b648-fcb573421667\",\"type\":\"Circle\"},{\"attributes\":{\"callback\":null},\"id\":\"61964bef-2ba5-4fe4-9f84-cef117012626\",\"type\":\"DataRange1d\"},{\"attributes\":{\"overlay\":{\"id\":\"2653e836-c2d9-491e-b672-12e3de7b3200\",\"type\":\"BoxAnnotation\"}},\"id\":\"26c39b28-83dd-4246-bc50-fbf0ca8485fd\",\"type\":\"BoxZoomTool\"},{\"attributes\":{},\"id\":\"b646d0d3-f515-4592-b89c-98e230e3cfb2\",\"type\":\"HelpTool\"}],\"root_ids\":[\"983a9afd-6e9f-4107-86ed-00b175831dee\"]},\"title\":\"Bokeh Application\",\"version\":\"0.12.8\"}};\n",
       "    var render_items = [{\"docid\":\"2fbb8454-0e86-42ae-a347-88cfb3fdf5fc\",\"elementid\":\"c43af956-6336-44a1-950c-bf9226de66ba\",\"modelid\":\"983a9afd-6e9f-4107-86ed-00b175831dee\"}];\n",
       "\n",
       "    root.Bokeh.embed.embed_items(docs_json, render_items);\n",
       "  }\n",
       "\n",
       "  if (root.Bokeh !== undefined) {\n",
       "    embed_document(root);\n",
       "  } else {\n",
       "    var attempts = 0;\n",
       "    var timer = setInterval(function(root) {\n",
       "      if (root.Bokeh !== undefined) {\n",
       "        embed_document(root);\n",
       "        clearInterval(timer);\n",
       "      }\n",
       "      attempts++;\n",
       "      if (attempts > 100) {\n",
       "        console.log(\"Bokeh: ERROR: Unable to embed document because BokehJS library is missing\")\n",
       "        clearInterval(timer);\n",
       "      }\n",
       "    }, 10, root)\n",
       "  }\n",
       "})(window);"
      ],
      "application/vnd.bokehjs_exec.v0+json": ""
     },
     "metadata": {
      "application/vnd.bokehjs_exec.v0+json": {
       "id": "983a9afd-6e9f-4107-86ed-00b175831dee"
      }
     },
     "output_type": "display_data"
    }
   ],
   "source": [
    "p = figure(plot_width=400, plot_height=400)\n",
    "p.circle([1,2,3,4,5], [2,5,8,2,7], size=10)\n",
    "\n",
    "# change just some things about the x-grid\n",
    "p.xgrid.grid_line_color = None\n",
    "\n",
    "# change just some things about the y-grid\n",
    "p.ygrid.grid_line_alpha = 0.5\n",
    "p.ygrid.grid_line_dash = [6, 4]\n",
    "\n",
    "show(p)"
   ]
  },
  {
   "cell_type": "code",
   "execution_count": 14,
   "metadata": {},
   "outputs": [
    {
     "data": {
      "text/html": [
       "\n",
       "<div class=\"bk-root\">\n",
       "    <div class=\"bk-plotdiv\" id=\"0b7e480d-dcd2-4a52-9f87-9f7fe9905b15\"></div>\n",
       "</div>"
      ]
     },
     "metadata": {},
     "output_type": "display_data"
    },
    {
     "data": {
      "application/javascript": [
       "(function(root) {\n",
       "  function embed_document(root) {\n",
       "    var docs_json = {\"0de8444c-16b3-4299-8fe0-c4bcdab359a3\":{\"roots\":{\"references\":[{\"attributes\":{},\"id\":\"e98a595f-837f-4436-8334-068605f88b42\",\"type\":\"LinearScale\"},{\"attributes\":{},\"id\":\"b4bcf02a-2866-4dc6-92d1-95a5d2c486e5\",\"type\":\"WheelZoomTool\"},{\"attributes\":{\"overlay\":{\"id\":\"b1c203b1-600b-41db-8a45-271f0f90bd9b\",\"type\":\"BoxAnnotation\"}},\"id\":\"09533a38-1926-45d7-ad3e-11fdfadadc93\",\"type\":\"BoxZoomTool\"},{\"attributes\":{},\"id\":\"24b5bdc9-e58e-45c8-a666-16464f1759ac\",\"type\":\"SaveTool\"},{\"attributes\":{},\"id\":\"9579cd14-3a17-4a6c-8feb-96d01a6dbf19\",\"type\":\"ResetTool\"},{\"attributes\":{\"source\":{\"id\":\"d68f4b81-f5fc-4bf2-afe1-b529e3eb9385\",\"type\":\"ColumnDataSource\"}},\"id\":\"be0b7a0b-6674-4683-aac6-e74aa4f0cfd9\",\"type\":\"CDSView\"},{\"attributes\":{\"active_drag\":\"auto\",\"active_inspect\":\"auto\",\"active_scroll\":\"auto\",\"active_tap\":\"auto\",\"tools\":[{\"id\":\"699cd047-0c4c-4c17-9405-49222a29cf80\",\"type\":\"PanTool\"},{\"id\":\"b4bcf02a-2866-4dc6-92d1-95a5d2c486e5\",\"type\":\"WheelZoomTool\"},{\"id\":\"09533a38-1926-45d7-ad3e-11fdfadadc93\",\"type\":\"BoxZoomTool\"},{\"id\":\"24b5bdc9-e58e-45c8-a666-16464f1759ac\",\"type\":\"SaveTool\"},{\"id\":\"9579cd14-3a17-4a6c-8feb-96d01a6dbf19\",\"type\":\"ResetTool\"},{\"id\":\"798e3b50-c375-415f-84bc-df9f96b9a0c7\",\"type\":\"HelpTool\"}]},\"id\":\"4f453550-bf62-477f-bc06-fbdf6ed457ae\",\"type\":\"Toolbar\"},{\"attributes\":{\"callback\":null},\"id\":\"3e7a251c-dbb1-481c-860d-764962a7b91c\",\"type\":\"DataRange1d\"},{\"attributes\":{\"bottom_units\":\"screen\",\"fill_alpha\":{\"value\":0.5},\"fill_color\":{\"value\":\"lightgrey\"},\"left_units\":\"screen\",\"level\":\"overlay\",\"line_alpha\":{\"value\":1.0},\"line_color\":{\"value\":\"black\"},\"line_dash\":[4,4],\"line_width\":{\"value\":2},\"plot\":null,\"render_mode\":\"css\",\"right_units\":\"screen\",\"top_units\":\"screen\"},\"id\":\"b1c203b1-600b-41db-8a45-271f0f90bd9b\",\"type\":\"BoxAnnotation\"},{\"attributes\":{\"callback\":null,\"column_names\":[\"x\",\"y\"],\"data\":{\"x\":[1,2,3,4,5],\"y\":[2,5,8,2,7]}},\"id\":\"d68f4b81-f5fc-4bf2-afe1-b529e3eb9385\",\"type\":\"ColumnDataSource\"},{\"attributes\":{},\"id\":\"63ba3d92-089b-4ace-accf-962d960ba5d5\",\"type\":\"BasicTickFormatter\"},{\"attributes\":{\"fill_alpha\":{\"value\":0.1},\"fill_color\":{\"value\":\"#1f77b4\"},\"line_alpha\":{\"value\":0.1},\"line_color\":{\"value\":\"#1f77b4\"},\"size\":{\"units\":\"screen\",\"value\":10},\"x\":{\"field\":\"x\"},\"y\":{\"field\":\"y\"}},\"id\":\"44ad0598-081f-4b3c-96bc-639a90c10e7a\",\"type\":\"Circle\"},{\"attributes\":{\"plot\":null,\"text\":\"\"},\"id\":\"40c16e19-5876-4397-9f30-d868aea8cfda\",\"type\":\"Title\"},{\"attributes\":{\"below\":[{\"id\":\"09d00f84-385d-43dd-ba84-43e1f095428f\",\"type\":\"LinearAxis\"}],\"left\":[{\"id\":\"256d5202-3801-4afe-aa53-305966a68afe\",\"type\":\"LinearAxis\"}],\"plot_height\":400,\"plot_width\":400,\"renderers\":[{\"id\":\"09d00f84-385d-43dd-ba84-43e1f095428f\",\"type\":\"LinearAxis\"},{\"id\":\"94efbe49-75e5-4a87-8cf9-6bb7cc9d5f84\",\"type\":\"Grid\"},{\"id\":\"256d5202-3801-4afe-aa53-305966a68afe\",\"type\":\"LinearAxis\"},{\"id\":\"d5533755-96b3-4d7e-97a6-bf1d819a25ec\",\"type\":\"Grid\"},{\"id\":\"b1c203b1-600b-41db-8a45-271f0f90bd9b\",\"type\":\"BoxAnnotation\"},{\"id\":\"442f7b28-83a0-4d4c-90b2-50670e43d83d\",\"type\":\"GlyphRenderer\"}],\"title\":{\"id\":\"40c16e19-5876-4397-9f30-d868aea8cfda\",\"type\":\"Title\"},\"toolbar\":{\"id\":\"4f453550-bf62-477f-bc06-fbdf6ed457ae\",\"type\":\"Toolbar\"},\"x_range\":{\"id\":\"3e7a251c-dbb1-481c-860d-764962a7b91c\",\"type\":\"DataRange1d\"},\"x_scale\":{\"id\":\"d7387416-f6d1-4237-b67e-62045391982b\",\"type\":\"LinearScale\"},\"y_range\":{\"id\":\"93563059-2259-48df-8562-4e5362ab2c1f\",\"type\":\"DataRange1d\"},\"y_scale\":{\"id\":\"e98a595f-837f-4436-8334-068605f88b42\",\"type\":\"LinearScale\"}},\"id\":\"a0314d09-a502-4813-98e6-b6b8f0dfd7a2\",\"subtype\":\"Figure\",\"type\":\"Plot\"},{\"attributes\":{\"data_source\":{\"id\":\"d68f4b81-f5fc-4bf2-afe1-b529e3eb9385\",\"type\":\"ColumnDataSource\"},\"glyph\":{\"id\":\"02131864-da3f-4451-9a4f-c762e022927d\",\"type\":\"Circle\"},\"hover_glyph\":null,\"muted_glyph\":null,\"nonselection_glyph\":{\"id\":\"44ad0598-081f-4b3c-96bc-639a90c10e7a\",\"type\":\"Circle\"},\"selection_glyph\":null,\"view\":{\"id\":\"be0b7a0b-6674-4683-aac6-e74aa4f0cfd9\",\"type\":\"CDSView\"}},\"id\":\"442f7b28-83a0-4d4c-90b2-50670e43d83d\",\"type\":\"GlyphRenderer\"},{\"attributes\":{},\"id\":\"d7387416-f6d1-4237-b67e-62045391982b\",\"type\":\"LinearScale\"},{\"attributes\":{\"fill_color\":{\"value\":\"#1f77b4\"},\"line_color\":{\"value\":\"#1f77b4\"},\"size\":{\"units\":\"screen\",\"value\":10},\"x\":{\"field\":\"x\"},\"y\":{\"field\":\"y\"}},\"id\":\"02131864-da3f-4451-9a4f-c762e022927d\",\"type\":\"Circle\"},{\"attributes\":{},\"id\":\"ba9a2253-dd42-49a0-92aa-7bdea288d181\",\"type\":\"BasicTickFormatter\"},{\"attributes\":{\"band_fill_alpha\":{\"value\":0.1},\"band_fill_color\":{\"value\":\"navy\"},\"dimension\":1,\"plot\":{\"id\":\"a0314d09-a502-4813-98e6-b6b8f0dfd7a2\",\"subtype\":\"Figure\",\"type\":\"Plot\"},\"ticker\":{\"id\":\"bd1bc9a1-70b4-4205-9e79-d954a1f26308\",\"type\":\"BasicTicker\"}},\"id\":\"d5533755-96b3-4d7e-97a6-bf1d819a25ec\",\"type\":\"Grid\"},{\"attributes\":{\"formatter\":{\"id\":\"ba9a2253-dd42-49a0-92aa-7bdea288d181\",\"type\":\"BasicTickFormatter\"},\"plot\":{\"id\":\"a0314d09-a502-4813-98e6-b6b8f0dfd7a2\",\"subtype\":\"Figure\",\"type\":\"Plot\"},\"ticker\":{\"id\":\"bd1bc9a1-70b4-4205-9e79-d954a1f26308\",\"type\":\"BasicTicker\"}},\"id\":\"256d5202-3801-4afe-aa53-305966a68afe\",\"type\":\"LinearAxis\"},{\"attributes\":{},\"id\":\"699cd047-0c4c-4c17-9405-49222a29cf80\",\"type\":\"PanTool\"},{\"attributes\":{\"callback\":null},\"id\":\"93563059-2259-48df-8562-4e5362ab2c1f\",\"type\":\"DataRange1d\"},{\"attributes\":{},\"id\":\"9825f4e2-e044-4fc9-95a8-c6a882106c3a\",\"type\":\"BasicTicker\"},{\"attributes\":{\"grid_line_color\":{\"value\":null},\"plot\":{\"id\":\"a0314d09-a502-4813-98e6-b6b8f0dfd7a2\",\"subtype\":\"Figure\",\"type\":\"Plot\"},\"ticker\":{\"id\":\"9825f4e2-e044-4fc9-95a8-c6a882106c3a\",\"type\":\"BasicTicker\"}},\"id\":\"94efbe49-75e5-4a87-8cf9-6bb7cc9d5f84\",\"type\":\"Grid\"},{\"attributes\":{},\"id\":\"bd1bc9a1-70b4-4205-9e79-d954a1f26308\",\"type\":\"BasicTicker\"},{\"attributes\":{\"formatter\":{\"id\":\"63ba3d92-089b-4ace-accf-962d960ba5d5\",\"type\":\"BasicTickFormatter\"},\"plot\":{\"id\":\"a0314d09-a502-4813-98e6-b6b8f0dfd7a2\",\"subtype\":\"Figure\",\"type\":\"Plot\"},\"ticker\":{\"id\":\"9825f4e2-e044-4fc9-95a8-c6a882106c3a\",\"type\":\"BasicTicker\"}},\"id\":\"09d00f84-385d-43dd-ba84-43e1f095428f\",\"type\":\"LinearAxis\"},{\"attributes\":{},\"id\":\"798e3b50-c375-415f-84bc-df9f96b9a0c7\",\"type\":\"HelpTool\"}],\"root_ids\":[\"a0314d09-a502-4813-98e6-b6b8f0dfd7a2\"]},\"title\":\"Bokeh Application\",\"version\":\"0.12.8\"}};\n",
       "    var render_items = [{\"docid\":\"0de8444c-16b3-4299-8fe0-c4bcdab359a3\",\"elementid\":\"0b7e480d-dcd2-4a52-9f87-9f7fe9905b15\",\"modelid\":\"a0314d09-a502-4813-98e6-b6b8f0dfd7a2\"}];\n",
       "\n",
       "    root.Bokeh.embed.embed_items(docs_json, render_items);\n",
       "  }\n",
       "\n",
       "  if (root.Bokeh !== undefined) {\n",
       "    embed_document(root);\n",
       "  } else {\n",
       "    var attempts = 0;\n",
       "    var timer = setInterval(function(root) {\n",
       "      if (root.Bokeh !== undefined) {\n",
       "        embed_document(root);\n",
       "        clearInterval(timer);\n",
       "      }\n",
       "      attempts++;\n",
       "      if (attempts > 100) {\n",
       "        console.log(\"Bokeh: ERROR: Unable to embed document because BokehJS library is missing\")\n",
       "        clearInterval(timer);\n",
       "      }\n",
       "    }, 10, root)\n",
       "  }\n",
       "})(window);"
      ],
      "application/vnd.bokehjs_exec.v0+json": ""
     },
     "metadata": {
      "application/vnd.bokehjs_exec.v0+json": {
       "id": "a0314d09-a502-4813-98e6-b6b8f0dfd7a2"
      }
     },
     "output_type": "display_data"
    }
   ],
   "source": [
    "p = figure(plot_width=400, plot_height=400)\n",
    "p.circle([1,2,3,4,5], [2,5,8,2,7], size=10)\n",
    "\n",
    "# change just some things about the x-grid\n",
    "p.xgrid.grid_line_color = None\n",
    "\n",
    "# change just some things about the y-grid\n",
    "p.ygrid.band_fill_alpha = 0.1\n",
    "p.ygrid.band_fill_color = \"navy\"\n",
    "\n",
    "show(p)"
   ]
  },
  {
   "cell_type": "code",
   "execution_count": 15,
   "metadata": {
    "collapsed": true
   },
   "outputs": [],
   "source": [
    "# EXERCISE Create a plot of your own and customize several grid properties\n"
   ]
  }
 ],
 "metadata": {
  "kernelspec": {
   "display_name": "Python 3",
   "language": "python",
   "name": "python3"
  },
  "language_info": {
   "codemirror_mode": {
    "name": "ipython",
    "version": 3
   },
   "file_extension": ".py",
   "mimetype": "text/x-python",
   "name": "python",
   "nbconvert_exporter": "python",
   "pygments_lexer": "ipython3",
   "version": "3.6.2"
  }
 },
 "nbformat": 4,
 "nbformat_minor": 1
}
