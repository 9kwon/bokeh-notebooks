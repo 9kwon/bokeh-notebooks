{
 "cells": [
  {
   "cell_type": "markdown",
   "metadata": {},
   "source": [
    "<table style=\"float:left; border:none\">\n",
    "   <tr style=\"border:none\">\n",
    "       <td style=\"border:none\">\n",
    "           <a href=\"http://bokeh.pydata.org/\">     \n",
    "           <img \n",
    "               src=\"assets/images/bokeh-transparent.png\" \n",
    "               style=\"width:50px\"\n",
    "           >\n",
    "           </a>    \n",
    "       </td>\n",
    "       <td style=\"border:none\">\n",
    "           <h1>Bokeh Tutorial</h1>\n",
    "       </td>\n",
    "   </tr>\n",
    "</table>\n",
    "\n",
    "<div style=\"float:right;\"><h2>07. Annotations</h2></div>"
   ]
  },
  {
   "cell_type": "code",
   "execution_count": 1,
   "metadata": {
    "collapsed": true
   },
   "outputs": [],
   "source": [
    "from bokeh.io import output_notebook, show\n",
    "from bokeh.plotting import figure"
   ]
  },
  {
   "cell_type": "code",
   "execution_count": 2,
   "metadata": {
    "collapsed": false
   },
   "outputs": [
    {
     "data": {
      "text/html": [
       "\n",
       "    <div class=\"bk-root\">\n",
       "        <a href=\"http://bokeh.pydata.org\" target=\"_blank\" class=\"bk-logo bk-logo-small bk-logo-notebook\"></a>\n",
       "        <span id=\"6cbbed9f-0fc0-4b4d-b42a-1fec0cba8cd2\">Loading BokehJS ...</span>\n",
       "    </div>"
      ]
     },
     "metadata": {},
     "output_type": "display_data"
    },
    {
     "data": {
      "application/javascript": [
       "\n",
       "(function(global) {\n",
       "  function now() {\n",
       "    return new Date();\n",
       "  }\n",
       "\n",
       "  if (typeof (window._bokeh_onload_callbacks) === \"undefined\") {\n",
       "    window._bokeh_onload_callbacks = [];\n",
       "  }\n",
       "\n",
       "  function run_callbacks() {\n",
       "    window._bokeh_onload_callbacks.forEach(function(callback) { callback() });\n",
       "    delete window._bokeh_onload_callbacks\n",
       "    console.info(\"Bokeh: all callbacks have finished\");\n",
       "  }\n",
       "\n",
       "  function load_libs(js_urls, callback) {\n",
       "    window._bokeh_onload_callbacks.push(callback);\n",
       "    if (window._bokeh_is_loading > 0) {\n",
       "      console.log(\"Bokeh: BokehJS is being loaded, scheduling callback at\", now());\n",
       "      return null;\n",
       "    }\n",
       "    if (js_urls == null || js_urls.length === 0) {\n",
       "      run_callbacks();\n",
       "      return null;\n",
       "    }\n",
       "    console.log(\"Bokeh: BokehJS not loaded, scheduling load and callback at\", now());\n",
       "    window._bokeh_is_loading = js_urls.length;\n",
       "    for (var i = 0; i < js_urls.length; i++) {\n",
       "      var url = js_urls[i];\n",
       "      var s = document.createElement('script');\n",
       "      s.src = url;\n",
       "      s.async = false;\n",
       "      s.onreadystatechange = s.onload = function() {\n",
       "        window._bokeh_is_loading--;\n",
       "        if (window._bokeh_is_loading === 0) {\n",
       "          console.log(\"Bokeh: all BokehJS libraries loaded\");\n",
       "          run_callbacks()\n",
       "        }\n",
       "      };\n",
       "      s.onerror = function() {\n",
       "        console.warn(\"failed to load library \" + url);\n",
       "      };\n",
       "      console.log(\"Bokeh: injecting script tag for BokehJS library: \", url);\n",
       "      document.getElementsByTagName(\"head\")[0].appendChild(s);\n",
       "    }\n",
       "  };\n",
       "\n",
       "  var js_urls = ['https://cdn.pydata.org/bokeh/release/bokeh-0.12.0.min.js', 'https://cdn.pydata.org/bokeh/release/bokeh-widgets-0.12.0.min.js', 'https://cdn.pydata.org/bokeh/release/bokeh-compiler-0.12.0.min.js'];\n",
       "\n",
       "  var inline_js = [\n",
       "    function(Bokeh) {\n",
       "      Bokeh.set_log_level(\"info\");\n",
       "    },\n",
       "    \n",
       "    function(Bokeh) {\n",
       "      Bokeh.$(\"#6cbbed9f-0fc0-4b4d-b42a-1fec0cba8cd2\").text(\"BokehJS successfully loaded\");\n",
       "    },\n",
       "    function(Bokeh) {\n",
       "      console.log(\"Bokeh: injecting CSS: https://cdn.pydata.org/bokeh/release/bokeh-0.12.0.min.css\");\n",
       "      Bokeh.embed.inject_css(\"https://cdn.pydata.org/bokeh/release/bokeh-0.12.0.min.css\");\n",
       "      console.log(\"Bokeh: injecting CSS: https://cdn.pydata.org/bokeh/release/bokeh-widgets-0.12.0.min.css\");\n",
       "      Bokeh.embed.inject_css(\"https://cdn.pydata.org/bokeh/release/bokeh-widgets-0.12.0.min.css\");\n",
       "    }\n",
       "  ];\n",
       "\n",
       "  function run_inline_js() {\n",
       "    for (var i = 0; i < inline_js.length; i++) {\n",
       "      inline_js[i](window.Bokeh);\n",
       "    }\n",
       "  }\n",
       "\n",
       "  if (window._bokeh_is_loading === 0) {\n",
       "    console.log(\"Bokeh: BokehJS loaded, going straight to plotting\");\n",
       "    run_inline_js();\n",
       "  } else {\n",
       "    load_libs(js_urls, function() {\n",
       "      console.log(\"Bokeh: BokehJS plotting callback run at\", now());\n",
       "      run_inline_js();\n",
       "    });\n",
       "  }\n",
       "}(this));"
      ]
     },
     "metadata": {},
     "output_type": "display_data"
    }
   ],
   "source": [
    "output_notebook()"
   ]
  },
  {
   "cell_type": "markdown",
   "metadata": {},
   "source": [
    "# Overview\n",
    "\n",
    "Sometimes we want to add visual cues (boundary lines, shaded regions, labels and arrows, etc.) to our plots to call out some feature or other. Bokeh has several annotation types available for uses like this. Typically to add annotations we create the \"low level\" annotation object directly, and add it to our `Plot`, `Figure` or `Chart` using `add_layout`. Let's take a look at some specific examples."
   ]
  },
  {
   "cell_type": "markdown",
   "metadata": {
    "collapsed": true
   },
   "source": [
    "## Spans\n",
    "\n",
    "`Spans` are \"infinite\" vertical or horizonal lines. When creating them, you specify the `dimension` that should be spanned (i.e., `width` or `height`), any visual line properties for the appearance, and the location along the dimension where the line should be drawn. Let's look at an example that adds two horizontal spans to a simple plot:"
   ]
  },
  {
   "cell_type": "code",
   "execution_count": 3,
   "metadata": {
    "collapsed": false
   },
   "outputs": [
    {
     "data": {
      "text/html": [
       "\n",
       "\n",
       "    <div class=\"bk-root\">\n",
       "        <div class=\"plotdiv\" id=\"e6c20139-571b-49f4-b887-814ce9a604aa\"></div>\n",
       "    </div>\n",
       "<script type=\"text/javascript\">\n",
       "  \n",
       "  (function(global) {\n",
       "    function now() {\n",
       "      return new Date();\n",
       "    }\n",
       "  \n",
       "    if (typeof (window._bokeh_onload_callbacks) === \"undefined\") {\n",
       "      window._bokeh_onload_callbacks = [];\n",
       "    }\n",
       "  \n",
       "    function run_callbacks() {\n",
       "      window._bokeh_onload_callbacks.forEach(function(callback) { callback() });\n",
       "      delete window._bokeh_onload_callbacks\n",
       "      console.info(\"Bokeh: all callbacks have finished\");\n",
       "    }\n",
       "  \n",
       "    function load_libs(js_urls, callback) {\n",
       "      window._bokeh_onload_callbacks.push(callback);\n",
       "      if (window._bokeh_is_loading > 0) {\n",
       "        console.log(\"Bokeh: BokehJS is being loaded, scheduling callback at\", now());\n",
       "        return null;\n",
       "      }\n",
       "      if (js_urls == null || js_urls.length === 0) {\n",
       "        run_callbacks();\n",
       "        return null;\n",
       "      }\n",
       "      console.log(\"Bokeh: BokehJS not loaded, scheduling load and callback at\", now());\n",
       "      window._bokeh_is_loading = js_urls.length;\n",
       "      for (var i = 0; i < js_urls.length; i++) {\n",
       "        var url = js_urls[i];\n",
       "        var s = document.createElement('script');\n",
       "        s.src = url;\n",
       "        s.async = false;\n",
       "        s.onreadystatechange = s.onload = function() {\n",
       "          window._bokeh_is_loading--;\n",
       "          if (window._bokeh_is_loading === 0) {\n",
       "            console.log(\"Bokeh: all BokehJS libraries loaded\");\n",
       "            run_callbacks()\n",
       "          }\n",
       "        };\n",
       "        s.onerror = function() {\n",
       "          console.warn(\"failed to load library \" + url);\n",
       "        };\n",
       "        console.log(\"Bokeh: injecting script tag for BokehJS library: \", url);\n",
       "        document.getElementsByTagName(\"head\")[0].appendChild(s);\n",
       "      }\n",
       "    };var element = document.getElementById(\"e6c20139-571b-49f4-b887-814ce9a604aa\");\n",
       "    if (element == null) {\n",
       "      console.log(\"Bokeh: ERROR: autoload.js configured with elementid 'e6c20139-571b-49f4-b887-814ce9a604aa' but no matching script tag was found. \")\n",
       "      return false;\n",
       "    }\n",
       "  \n",
       "    var js_urls = [];\n",
       "  \n",
       "    var inline_js = [\n",
       "      function(Bokeh) {\n",
       "        Bokeh.$(function() {\n",
       "            var docs_json = {\"7eb43154-722f-4d3d-a0f7-be89fcd6e6fa\":{\"roots\":{\"references\":[{\"attributes\":{\"formatter\":{\"id\":\"e0b698e9-9856-4198-a103-10be43bc8ee0\",\"type\":\"BasicTickFormatter\"},\"plot\":{\"id\":\"ac38d952-9ef7-46ad-8d77-009246a428a6\",\"subtype\":\"Figure\",\"type\":\"Plot\"},\"ticker\":{\"id\":\"a99a02bc-19be-4537-905e-f0d543b70053\",\"type\":\"BasicTicker\"}},\"id\":\"9122c359-9968-42b6-9112-271705fb1494\",\"type\":\"LinearAxis\"},{\"attributes\":{\"line_color\":{\"value\":\"firebrick\"},\"line_width\":{\"value\":4},\"location\":-1,\"plot\":{\"id\":\"ac38d952-9ef7-46ad-8d77-009246a428a6\",\"subtype\":\"Figure\",\"type\":\"Plot\"}},\"id\":\"4faa59f4-be74-463a-89e4-1af7abb46e38\",\"type\":\"Span\"},{\"attributes\":{\"plot\":{\"id\":\"ac38d952-9ef7-46ad-8d77-009246a428a6\",\"subtype\":\"Figure\",\"type\":\"Plot\"}},\"id\":\"4409cdfd-29c9-4a40-be8b-90cb8f495ea8\",\"type\":\"SaveTool\"},{\"attributes\":{\"plot\":null,\"text\":null},\"id\":\"106da590-9484-49bc-ab3a-e8b194eecf8f\",\"type\":\"Title\"},{\"attributes\":{},\"id\":\"e0b698e9-9856-4198-a103-10be43bc8ee0\",\"type\":\"BasicTickFormatter\"},{\"attributes\":{\"callback\":null,\"end\":2,\"start\":-2},\"id\":\"42fb50f8-4b3e-400c-9923-0a7fde3bf7e5\",\"type\":\"Range1d\"},{\"attributes\":{\"data_source\":{\"id\":\"97b455f1-afd6-454d-985d-a59871bc2209\",\"type\":\"ColumnDataSource\"},\"glyph\":{\"id\":\"1bc2fa4b-2571-4481-a6a5-4ab143dface2\",\"type\":\"Line\"},\"hover_glyph\":null,\"nonselection_glyph\":{\"id\":\"857c7b80-16a3-44f8-a303-78c0272f51f0\",\"type\":\"Line\"},\"selection_glyph\":null},\"id\":\"6637f604-0e71-4250-beaf-3d1dc4a1d91b\",\"type\":\"GlyphRenderer\"},{\"attributes\":{\"plot\":{\"id\":\"ac38d952-9ef7-46ad-8d77-009246a428a6\",\"subtype\":\"Figure\",\"type\":\"Plot\"},\"ticker\":{\"id\":\"a99a02bc-19be-4537-905e-f0d543b70053\",\"type\":\"BasicTicker\"}},\"id\":\"8467f085-91aa-4ce8-8110-10267e3a9bfa\",\"type\":\"Grid\"},{\"attributes\":{\"overlay\":{\"id\":\"bc90fbe5-7332-4aaf-885c-034c4537c92e\",\"type\":\"BoxAnnotation\"},\"plot\":{\"id\":\"ac38d952-9ef7-46ad-8d77-009246a428a6\",\"subtype\":\"Figure\",\"type\":\"Plot\"}},\"id\":\"dc5adcfd-8b48-4225-9d5f-487204b93ecb\",\"type\":\"BoxZoomTool\"},{\"attributes\":{\"active_drag\":\"auto\",\"active_scroll\":\"auto\",\"active_tap\":\"auto\",\"tools\":[{\"id\":\"14bf12bf-0437-4b33-8084-773a793c0efc\",\"type\":\"PanTool\"},{\"id\":\"025201bc-c7f4-409c-be6b-326731acfe30\",\"type\":\"WheelZoomTool\"},{\"id\":\"dc5adcfd-8b48-4225-9d5f-487204b93ecb\",\"type\":\"BoxZoomTool\"},{\"id\":\"4409cdfd-29c9-4a40-be8b-90cb8f495ea8\",\"type\":\"SaveTool\"},{\"id\":\"1867a528-33d7-42e5-b707-f61240c26e39\",\"type\":\"ResetTool\"},{\"id\":\"589afa07-aebd-40c6-ac5c-f8f05ea9612a\",\"type\":\"HelpTool\"}]},\"id\":\"7314aae6-ea46-4302-ab38-0eda3a753512\",\"type\":\"Toolbar\"},{\"attributes\":{\"dimension\":1,\"plot\":{\"id\":\"ac38d952-9ef7-46ad-8d77-009246a428a6\",\"subtype\":\"Figure\",\"type\":\"Plot\"},\"ticker\":{\"id\":\"ad153100-676f-4e65-ab55-82370b37de6d\",\"type\":\"BasicTicker\"}},\"id\":\"1d11e01f-ac86-40b5-8319-86e59f8db043\",\"type\":\"Grid\"},{\"attributes\":{\"below\":[{\"id\":\"9122c359-9968-42b6-9112-271705fb1494\",\"type\":\"LinearAxis\"}],\"left\":[{\"id\":\"e1d9d4c2-d6e7-4ead-aa69-7331fb8ef4b3\",\"type\":\"LinearAxis\"}],\"renderers\":[{\"id\":\"9122c359-9968-42b6-9112-271705fb1494\",\"type\":\"LinearAxis\"},{\"id\":\"8467f085-91aa-4ce8-8110-10267e3a9bfa\",\"type\":\"Grid\"},{\"id\":\"e1d9d4c2-d6e7-4ead-aa69-7331fb8ef4b3\",\"type\":\"LinearAxis\"},{\"id\":\"1d11e01f-ac86-40b5-8319-86e59f8db043\",\"type\":\"Grid\"},{\"id\":\"bc90fbe5-7332-4aaf-885c-034c4537c92e\",\"type\":\"BoxAnnotation\"},{\"id\":\"6637f604-0e71-4250-beaf-3d1dc4a1d91b\",\"type\":\"GlyphRenderer\"},{\"id\":\"9add1917-7096-4ac6-ab2d-e1b3ce08f6ae\",\"type\":\"Span\"},{\"id\":\"4faa59f4-be74-463a-89e4-1af7abb46e38\",\"type\":\"Span\"}],\"title\":{\"id\":\"106da590-9484-49bc-ab3a-e8b194eecf8f\",\"type\":\"Title\"},\"tool_events\":{\"id\":\"66346f0c-69bc-4b95-92bc-e54b3475bfc0\",\"type\":\"ToolEvents\"},\"toolbar\":{\"id\":\"7314aae6-ea46-4302-ab38-0eda3a753512\",\"type\":\"Toolbar\"},\"x_range\":{\"id\":\"5228fc74-f911-42f8-a364-111a1c13e9e7\",\"type\":\"DataRange1d\"},\"y_range\":{\"id\":\"42fb50f8-4b3e-400c-9923-0a7fde3bf7e5\",\"type\":\"Range1d\"}},\"id\":\"ac38d952-9ef7-46ad-8d77-009246a428a6\",\"subtype\":\"Figure\",\"type\":\"Plot\"},{\"attributes\":{\"formatter\":{\"id\":\"d7ac6c44-5d25-4623-9c57-e8fe45160e93\",\"type\":\"BasicTickFormatter\"},\"plot\":{\"id\":\"ac38d952-9ef7-46ad-8d77-009246a428a6\",\"subtype\":\"Figure\",\"type\":\"Plot\"},\"ticker\":{\"id\":\"ad153100-676f-4e65-ab55-82370b37de6d\",\"type\":\"BasicTicker\"}},\"id\":\"e1d9d4c2-d6e7-4ead-aa69-7331fb8ef4b3\",\"type\":\"LinearAxis\"},{\"attributes\":{\"callback\":null},\"id\":\"5228fc74-f911-42f8-a364-111a1c13e9e7\",\"type\":\"DataRange1d\"},{\"attributes\":{\"plot\":{\"id\":\"ac38d952-9ef7-46ad-8d77-009246a428a6\",\"subtype\":\"Figure\",\"type\":\"Plot\"}},\"id\":\"14bf12bf-0437-4b33-8084-773a793c0efc\",\"type\":\"PanTool\"},{\"attributes\":{\"line_color\":{\"value\":\"olive\"},\"line_width\":{\"value\":4},\"location\":1,\"plot\":{\"id\":\"ac38d952-9ef7-46ad-8d77-009246a428a6\",\"subtype\":\"Figure\",\"type\":\"Plot\"}},\"id\":\"9add1917-7096-4ac6-ab2d-e1b3ce08f6ae\",\"type\":\"Span\"},{\"attributes\":{\"plot\":{\"id\":\"ac38d952-9ef7-46ad-8d77-009246a428a6\",\"subtype\":\"Figure\",\"type\":\"Plot\"}},\"id\":\"589afa07-aebd-40c6-ac5c-f8f05ea9612a\",\"type\":\"HelpTool\"},{\"attributes\":{\"callback\":null,\"column_names\":[\"x\",\"y\"],\"data\":{\"x\":[0.0,0.10050251256281408,0.20100502512562815,0.30150753768844224,0.4020100502512563,0.5025125628140704,0.6030150753768845,0.7035175879396985,0.8040201005025126,0.9045226130653267,1.0050251256281408,1.105527638190955,1.206030150753769,1.306532663316583,1.407035175879397,1.5075376884422111,1.6080402010050252,1.7085427135678393,1.8090452261306533,1.9095477386934674,2.0100502512562817,2.1105527638190957,2.21105527638191,2.311557788944724,2.412060301507538,2.512562814070352,2.613065326633166,2.71356783919598,2.814070351758794,2.9145728643216082,3.0150753768844223,3.1155778894472363,3.2160804020100504,3.3165829145728645,3.4170854271356785,3.5175879396984926,3.6180904522613067,3.7185929648241207,3.819095477386935,3.919597989949749,4.020100502512563,4.120603015075377,4.2211055276381915,4.3216080402010055,4.42211055276382,4.522613065326634,4.623115577889448,4.723618090452262,4.824120603015076,4.92462311557789,5.025125628140704,5.125628140703518,5.226130653266332,5.326633165829146,5.42713567839196,5.527638190954774,5.628140703517588,5.728643216080402,5.8291457286432165,5.9296482412060305,6.030150753768845,6.130653266331659,6.231155778894473,6.331658291457287,6.432160804020101,6.532663316582915,6.633165829145729,6.733668341708543,6.834170854271357,6.934673366834171,7.035175879396985,7.135678391959799,7.236180904522613,7.336683417085427,7.437185929648241,7.5376884422110555,7.63819095477387,7.738693467336684,7.839195979899498,7.939698492462312,8.040201005025127,8.14070351758794,8.241206030150755,8.341708542713569,8.442211055276383,8.542713567839197,8.643216080402011,8.743718592964825,8.84422110552764,8.944723618090453,9.045226130653267,9.145728643216081,9.246231155778895,9.34673366834171,9.447236180904524,9.547738693467338,9.648241206030152,9.748743718592966,9.84924623115578,9.949748743718594,10.050251256281408,10.150753768844222,10.251256281407036,10.35175879396985,10.452261306532664,10.552763819095478,10.653266331658292,10.753768844221106,10.85427135678392,10.954773869346734,11.055276381909549,11.155778894472363,11.256281407035177,11.35678391959799,11.457286432160805,11.557788944723619,11.658291457286433,11.758793969849247,11.859296482412061,11.959798994974875,12.06030150753769,12.160804020100503,12.261306532663317,12.361809045226131,12.462311557788945,12.56281407035176,12.663316582914574,12.763819095477388,12.864321608040202,12.964824120603016,13.06532663316583,13.165829145728644,13.266331658291458,13.366834170854272,13.467336683417086,13.5678391959799,13.668341708542714,13.768844221105528,13.869346733668342,13.969849246231156,14.07035175879397,14.170854271356784,14.271356783919598,14.371859296482413,14.472361809045227,14.57286432160804,14.673366834170855,14.773869346733669,14.874371859296483,14.974874371859297,15.075376884422111,15.175879396984925,15.27638190954774,15.376884422110553,15.477386934673367,15.577889447236181,15.678391959798995,15.77889447236181,15.879396984924623,15.979899497487438,16.080402010050253,16.180904522613066,16.28140703517588,16.381909547738694,16.48241206030151,16.582914572864322,16.683417085427138,16.78391959798995,16.884422110552766,16.984924623115578,17.085427135678394,17.185929648241206,17.286432160804022,17.386934673366834,17.48743718592965,17.587939698492463,17.68844221105528,17.78894472361809,17.889447236180906,17.98994974874372,18.090452261306535,18.190954773869347,18.291457286432163,18.391959798994975,18.49246231155779,18.592964824120603,18.69346733668342,18.79396984924623,18.894472361809047,18.99497487437186,19.095477386934675,19.195979899497488,19.296482412060303,19.396984924623116,19.49748743718593,19.597989949748744,19.69849246231156,19.798994974874372,19.899497487437188,20.0],\"y\":[0.0,0.10033340611397856,0.19965422182925707,0.2969600760684489,0.3912689332607891,0.48162900429630934,0.5671283522249922,0.6469040957577352,0.720151117685035,0.7861301903258074,0.84417543600223,0.8937010472475914,0.9342071989250891,0.9652850925909591,0.9866210821929372,0.9979998394664454,0.9993065270825165,0.9905279576154928,0.9717527266338982,0.9431703185712997,0.9050691944009351,0.8578338804137864,0.8019410874808932,0.737954899965305,0.6665210828384021,0.5883605644546254,0.5042621607581176,0.4150746143504438,0.32169802876315795,0.2250747843827254,0.12618002770661219,0.0260118299154004,-0.07441888591686176,-0.17409854731690658,-0.2720211616449078,-0.3671984688295239,-0.45866991514132416,-0.5455123473467255,-0.6268493294065579,-0.7018599876927554,-0.7697872954549803,-0.8299457129282269,-0.8817281059754842,-0.9246118734407446,-0.9581642213735454,-0.9820465308962223,-0.9960177756322361,-0.9999369542060184,-0.9937645132649188,-0.9775627466617587,-0.9514951667693332,-0.9158248542717212,-0.870911803086728,-0.8172092872151839,-0.7552592861837865,-0.6856870152490829,-0.6091946155651793,-0.5265540679956123,-0.43859940208501036,-0.3462182788195934,-0.250343032125446,-0.15194125951605447,-0.05200605685069962,0.048454004242978146,0.1484250551318267,0.2468981623987645,0.34287951025690017,0.43540043039266096,0.5235271780141882,0.6063703554426186,0.6830938881409576,0.7529234625921657,0.8151543408692327,0.8691584730306023,0.9143908355608308,0.9503949318873145,0.9768073994604692,0.9933616769015238,0.9998906942081381,0.9963285588676023,0.9827112208609282,0.9591761098464471,0.9259607481845431,0.8834003538012378,0.8319244570831352,0.7720525659468906,0.7043889228324319,0.6296164065336967,0.5484896404111711,0.46182737653991096,0.37050423265417287,0.2754418652815221,0.17759966814940648,0.07796508973825697,-0.02245633230115589,-0.12265111929089911,-0.22160807981193167,-0.3183285149065574,-0.41183629720376236,-0.5011877222463261,-0.5854810325975929,-0.6638655186081827,-0.7355501039953746,-0.7998113295873013,-0.8560006546579639,-0.903551002166129,-0.9419824818418809,-0.9709072333619758,-0.990033340735435,-0.9991677783943945,-0.9982183592575101,-0.9871946651055623,-0.966207949879674,-0.9354700168780792,-0.89529108118306,-0.8460766388909868,-0.7883233747419922,-0.7226141494505268,-0.6496121173259396,-0.5700540335495606,-0.4847428186529565,-0.39453945523854783,-0.3003542987229555,-0.203137889797277,-0.103871361327294,-0.0035565365096275887,0.09679418178421749,0.19616802843659367,0.29356209716833237,0.38799346212544567,0.4785090978182669,0.5641954972984655,0.644187891504835,0.7176789767338574,0.7839270621551785,0.8422635551451839,0.8920997088947761,0.932932564192766,0.9643500254188847,0.9860350195181922,0.9977686959834515,0.9994326355504284,0.9910100453153949,0.9725859282134105,0.9443462251469577,0.9065759384227932,0.8596562554357672,0.8040607016281309,0.7403503615496515,0.6691682162488151,0.591232654143619,0.507330220861901,0.41830768122167306,0.32506347346398523,0.2285386419843857,0.12970734007217227,0.029566998506218765,-0.07087174077157724,-0.17059522431328336,-0.26859701721481055,-0.36388806031440185,-0.45550665203067525,-0.5425281541009938,-0.6240743232673008,-0.6993221747317495,-0.7675122879297706,-0.8279564707966822,-0.8800447051780209,-0.9232513032888079,-0.9571402130891266,-0.9813694190328588,-0.9956943937760503,-0.9999705660094207,-0.9941547795089919,-0.978305728679741,-0.9525833661966533,-0.9172472887214079,-0.8726541169864731,-0.8192538966874445,-0.7575855565067815,-0.6882714691076759,-0.6120111699899564,-0.5295742975988719,-0.44179282593705715,-0.3495526680700663,-0.2537847352651319,-0.15545554199651387,-0.05555745163422786,0.04490133874094825,0.14490697332027144,0.2434501696592168,0.3395364046140433,0.4321959513237761,0.5204936659417063,0.6035384253463177,0.680492120583744,0.750578115277733,0.8130890836425904,0.8673941489959544,0.9129452507276277]}},\"id\":\"97b455f1-afd6-454d-985d-a59871bc2209\",\"type\":\"ColumnDataSource\"},{\"attributes\":{},\"id\":\"66346f0c-69bc-4b95-92bc-e54b3475bfc0\",\"type\":\"ToolEvents\"},{\"attributes\":{},\"id\":\"ad153100-676f-4e65-ab55-82370b37de6d\",\"type\":\"BasicTicker\"},{\"attributes\":{},\"id\":\"a99a02bc-19be-4537-905e-f0d543b70053\",\"type\":\"BasicTicker\"},{\"attributes\":{},\"id\":\"d7ac6c44-5d25-4623-9c57-e8fe45160e93\",\"type\":\"BasicTickFormatter\"},{\"attributes\":{\"plot\":{\"id\":\"ac38d952-9ef7-46ad-8d77-009246a428a6\",\"subtype\":\"Figure\",\"type\":\"Plot\"}},\"id\":\"025201bc-c7f4-409c-be6b-326731acfe30\",\"type\":\"WheelZoomTool\"},{\"attributes\":{\"plot\":{\"id\":\"ac38d952-9ef7-46ad-8d77-009246a428a6\",\"subtype\":\"Figure\",\"type\":\"Plot\"}},\"id\":\"1867a528-33d7-42e5-b707-f61240c26e39\",\"type\":\"ResetTool\"},{\"attributes\":{\"bottom_units\":\"screen\",\"fill_alpha\":{\"value\":0.5},\"fill_color\":{\"value\":\"lightgrey\"},\"left_units\":\"screen\",\"level\":\"overlay\",\"line_alpha\":{\"value\":1.0},\"line_color\":{\"value\":\"black\"},\"line_dash\":[4,4],\"line_width\":{\"value\":2},\"plot\":null,\"render_mode\":\"css\",\"right_units\":\"screen\",\"top_units\":\"screen\"},\"id\":\"bc90fbe5-7332-4aaf-885c-034c4537c92e\",\"type\":\"BoxAnnotation\"},{\"attributes\":{\"line_alpha\":{\"value\":0.1},\"line_color\":{\"value\":\"#1f77b4\"},\"x\":{\"field\":\"x\"},\"y\":{\"field\":\"y\"}},\"id\":\"857c7b80-16a3-44f8-a303-78c0272f51f0\",\"type\":\"Line\"},{\"attributes\":{\"line_color\":{\"value\":\"#1f77b4\"},\"x\":{\"field\":\"x\"},\"y\":{\"field\":\"y\"}},\"id\":\"1bc2fa4b-2571-4481-a6a5-4ab143dface2\",\"type\":\"Line\"}],\"root_ids\":[\"ac38d952-9ef7-46ad-8d77-009246a428a6\"]},\"title\":\"Bokeh Application\",\"version\":\"0.12.0\"}};\n",
       "            var render_items = [{\"docid\":\"7eb43154-722f-4d3d-a0f7-be89fcd6e6fa\",\"elementid\":\"e6c20139-571b-49f4-b887-814ce9a604aa\",\"modelid\":\"ac38d952-9ef7-46ad-8d77-009246a428a6\",\"notebook_comms_target\":\"86c0071b-2080-4a1b-b305-ad78ff2399de\"}];\n",
       "            \n",
       "            Bokeh.embed.embed_items(docs_json, render_items);\n",
       "        });\n",
       "      },\n",
       "      function(Bokeh) {\n",
       "      }\n",
       "    ];\n",
       "  \n",
       "    function run_inline_js() {\n",
       "      for (var i = 0; i < inline_js.length; i++) {\n",
       "        inline_js[i](window.Bokeh);\n",
       "      }\n",
       "    }\n",
       "  \n",
       "    if (window._bokeh_is_loading === 0) {\n",
       "      console.log(\"Bokeh: BokehJS loaded, going straight to plotting\");\n",
       "      run_inline_js();\n",
       "    } else {\n",
       "      load_libs(js_urls, function() {\n",
       "        console.log(\"Bokeh: BokehJS plotting callback run at\", now());\n",
       "        run_inline_js();\n",
       "      });\n",
       "    }\n",
       "  }(this));\n",
       "</script>"
      ]
     },
     "metadata": {},
     "output_type": "display_data"
    },
    {
     "data": {
      "text/html": [
       "<p><code>&lt;Bokeh Notebook handle for <strong>In[3]</strong>&gt;</code></p>"
      ],
      "text/plain": [
       "<bokeh.io._CommsHandle at 0x10d96eac8>"
      ]
     },
     "execution_count": 3,
     "metadata": {},
     "output_type": "execute_result"
    }
   ],
   "source": [
    "import numpy as np\n",
    "from bokeh.models.annotations import Span\n",
    "\n",
    "x = np.linspace(0, 20, 200)\n",
    "y = np.sin(x)\n",
    "\n",
    "p = figure(y_range=(-2, 2))\n",
    "p.line(x, y)\n",
    "\n",
    "upper = Span(location=1, dimension='width', line_color='olive', line_width=4)\n",
    "p.add_layout(upper)\n",
    "\n",
    "lower = Span(location=-1, dimension='width', line_color='firebrick', line_width=4)\n",
    "p.add_layout(lower)\n",
    "\n",
    "show(p)"
   ]
  },
  {
   "cell_type": "markdown",
   "metadata": {
    "collapsed": true
   },
   "source": [
    "## Box Annotations\n",
    "\n",
    "Sometimes you might want to call out some region of the plot by drawing a shaded box. This can be done with the `BoxAnnotation`, which is configured with the coordinate properties:\n",
    "* `top`\n",
    "* `left`\n",
    "* `bottom`\n",
    "* `right`\n",
    "As well as any visual line or fill properties to control the appearance. \n",
    "\n",
    "\"Infinite\" boxes can be made by leaving any of the coordinates unspecified. E.g., if `top` is not give, the box will always extend to the top of the plot area, regardless of any panning or zooming that happens.\n",
    "\n",
    "Let's take a looks at an example that adds a few shaded boxes to a plot:"
   ]
  },
  {
   "cell_type": "code",
   "execution_count": 4,
   "metadata": {
    "collapsed": false
   },
   "outputs": [
    {
     "data": {
      "text/html": [
       "\n",
       "\n",
       "    <div class=\"bk-root\">\n",
       "        <div class=\"plotdiv\" id=\"592d4524-d290-4ea3-8743-955c4a7032e1\"></div>\n",
       "    </div>\n",
       "<script type=\"text/javascript\">\n",
       "  \n",
       "  (function(global) {\n",
       "    function now() {\n",
       "      return new Date();\n",
       "    }\n",
       "  \n",
       "    if (typeof (window._bokeh_onload_callbacks) === \"undefined\") {\n",
       "      window._bokeh_onload_callbacks = [];\n",
       "    }\n",
       "  \n",
       "    function run_callbacks() {\n",
       "      window._bokeh_onload_callbacks.forEach(function(callback) { callback() });\n",
       "      delete window._bokeh_onload_callbacks\n",
       "      console.info(\"Bokeh: all callbacks have finished\");\n",
       "    }\n",
       "  \n",
       "    function load_libs(js_urls, callback) {\n",
       "      window._bokeh_onload_callbacks.push(callback);\n",
       "      if (window._bokeh_is_loading > 0) {\n",
       "        console.log(\"Bokeh: BokehJS is being loaded, scheduling callback at\", now());\n",
       "        return null;\n",
       "      }\n",
       "      if (js_urls == null || js_urls.length === 0) {\n",
       "        run_callbacks();\n",
       "        return null;\n",
       "      }\n",
       "      console.log(\"Bokeh: BokehJS not loaded, scheduling load and callback at\", now());\n",
       "      window._bokeh_is_loading = js_urls.length;\n",
       "      for (var i = 0; i < js_urls.length; i++) {\n",
       "        var url = js_urls[i];\n",
       "        var s = document.createElement('script');\n",
       "        s.src = url;\n",
       "        s.async = false;\n",
       "        s.onreadystatechange = s.onload = function() {\n",
       "          window._bokeh_is_loading--;\n",
       "          if (window._bokeh_is_loading === 0) {\n",
       "            console.log(\"Bokeh: all BokehJS libraries loaded\");\n",
       "            run_callbacks()\n",
       "          }\n",
       "        };\n",
       "        s.onerror = function() {\n",
       "          console.warn(\"failed to load library \" + url);\n",
       "        };\n",
       "        console.log(\"Bokeh: injecting script tag for BokehJS library: \", url);\n",
       "        document.getElementsByTagName(\"head\")[0].appendChild(s);\n",
       "      }\n",
       "    };var element = document.getElementById(\"592d4524-d290-4ea3-8743-955c4a7032e1\");\n",
       "    if (element == null) {\n",
       "      console.log(\"Bokeh: ERROR: autoload.js configured with elementid '592d4524-d290-4ea3-8743-955c4a7032e1' but no matching script tag was found. \")\n",
       "      return false;\n",
       "    }\n",
       "  \n",
       "    var js_urls = [];\n",
       "  \n",
       "    var inline_js = [\n",
       "      function(Bokeh) {\n",
       "        Bokeh.$(function() {\n",
       "            var docs_json = {\"07ac5a06-089d-4898-88ab-5712397c65d9\":{\"roots\":{\"references\":[{\"attributes\":{\"callback\":null,\"column_names\":[\"x\",\"y\"],\"data\":{\"x\":[0.0,0.10050251256281408,0.20100502512562815,0.30150753768844224,0.4020100502512563,0.5025125628140704,0.6030150753768845,0.7035175879396985,0.8040201005025126,0.9045226130653267,1.0050251256281408,1.105527638190955,1.206030150753769,1.306532663316583,1.407035175879397,1.5075376884422111,1.6080402010050252,1.7085427135678393,1.8090452261306533,1.9095477386934674,2.0100502512562817,2.1105527638190957,2.21105527638191,2.311557788944724,2.412060301507538,2.512562814070352,2.613065326633166,2.71356783919598,2.814070351758794,2.9145728643216082,3.0150753768844223,3.1155778894472363,3.2160804020100504,3.3165829145728645,3.4170854271356785,3.5175879396984926,3.6180904522613067,3.7185929648241207,3.819095477386935,3.919597989949749,4.020100502512563,4.120603015075377,4.2211055276381915,4.3216080402010055,4.42211055276382,4.522613065326634,4.623115577889448,4.723618090452262,4.824120603015076,4.92462311557789,5.025125628140704,5.125628140703518,5.226130653266332,5.326633165829146,5.42713567839196,5.527638190954774,5.628140703517588,5.728643216080402,5.8291457286432165,5.9296482412060305,6.030150753768845,6.130653266331659,6.231155778894473,6.331658291457287,6.432160804020101,6.532663316582915,6.633165829145729,6.733668341708543,6.834170854271357,6.934673366834171,7.035175879396985,7.135678391959799,7.236180904522613,7.336683417085427,7.437185929648241,7.5376884422110555,7.63819095477387,7.738693467336684,7.839195979899498,7.939698492462312,8.040201005025127,8.14070351758794,8.241206030150755,8.341708542713569,8.442211055276383,8.542713567839197,8.643216080402011,8.743718592964825,8.84422110552764,8.944723618090453,9.045226130653267,9.145728643216081,9.246231155778895,9.34673366834171,9.447236180904524,9.547738693467338,9.648241206030152,9.748743718592966,9.84924623115578,9.949748743718594,10.050251256281408,10.150753768844222,10.251256281407036,10.35175879396985,10.452261306532664,10.552763819095478,10.653266331658292,10.753768844221106,10.85427135678392,10.954773869346734,11.055276381909549,11.155778894472363,11.256281407035177,11.35678391959799,11.457286432160805,11.557788944723619,11.658291457286433,11.758793969849247,11.859296482412061,11.959798994974875,12.06030150753769,12.160804020100503,12.261306532663317,12.361809045226131,12.462311557788945,12.56281407035176,12.663316582914574,12.763819095477388,12.864321608040202,12.964824120603016,13.06532663316583,13.165829145728644,13.266331658291458,13.366834170854272,13.467336683417086,13.5678391959799,13.668341708542714,13.768844221105528,13.869346733668342,13.969849246231156,14.07035175879397,14.170854271356784,14.271356783919598,14.371859296482413,14.472361809045227,14.57286432160804,14.673366834170855,14.773869346733669,14.874371859296483,14.974874371859297,15.075376884422111,15.175879396984925,15.27638190954774,15.376884422110553,15.477386934673367,15.577889447236181,15.678391959798995,15.77889447236181,15.879396984924623,15.979899497487438,16.080402010050253,16.180904522613066,16.28140703517588,16.381909547738694,16.48241206030151,16.582914572864322,16.683417085427138,16.78391959798995,16.884422110552766,16.984924623115578,17.085427135678394,17.185929648241206,17.286432160804022,17.386934673366834,17.48743718592965,17.587939698492463,17.68844221105528,17.78894472361809,17.889447236180906,17.98994974874372,18.090452261306535,18.190954773869347,18.291457286432163,18.391959798994975,18.49246231155779,18.592964824120603,18.69346733668342,18.79396984924623,18.894472361809047,18.99497487437186,19.095477386934675,19.195979899497488,19.296482412060303,19.396984924623116,19.49748743718593,19.597989949748744,19.69849246231156,19.798994974874372,19.899497487437188,20.0],\"y\":[0.0,0.10033340611397856,0.19965422182925707,0.2969600760684489,0.3912689332607891,0.48162900429630934,0.5671283522249922,0.6469040957577352,0.720151117685035,0.7861301903258074,0.84417543600223,0.8937010472475914,0.9342071989250891,0.9652850925909591,0.9866210821929372,0.9979998394664454,0.9993065270825165,0.9905279576154928,0.9717527266338982,0.9431703185712997,0.9050691944009351,0.8578338804137864,0.8019410874808932,0.737954899965305,0.6665210828384021,0.5883605644546254,0.5042621607581176,0.4150746143504438,0.32169802876315795,0.2250747843827254,0.12618002770661219,0.0260118299154004,-0.07441888591686176,-0.17409854731690658,-0.2720211616449078,-0.3671984688295239,-0.45866991514132416,-0.5455123473467255,-0.6268493294065579,-0.7018599876927554,-0.7697872954549803,-0.8299457129282269,-0.8817281059754842,-0.9246118734407446,-0.9581642213735454,-0.9820465308962223,-0.9960177756322361,-0.9999369542060184,-0.9937645132649188,-0.9775627466617587,-0.9514951667693332,-0.9158248542717212,-0.870911803086728,-0.8172092872151839,-0.7552592861837865,-0.6856870152490829,-0.6091946155651793,-0.5265540679956123,-0.43859940208501036,-0.3462182788195934,-0.250343032125446,-0.15194125951605447,-0.05200605685069962,0.048454004242978146,0.1484250551318267,0.2468981623987645,0.34287951025690017,0.43540043039266096,0.5235271780141882,0.6063703554426186,0.6830938881409576,0.7529234625921657,0.8151543408692327,0.8691584730306023,0.9143908355608308,0.9503949318873145,0.9768073994604692,0.9933616769015238,0.9998906942081381,0.9963285588676023,0.9827112208609282,0.9591761098464471,0.9259607481845431,0.8834003538012378,0.8319244570831352,0.7720525659468906,0.7043889228324319,0.6296164065336967,0.5484896404111711,0.46182737653991096,0.37050423265417287,0.2754418652815221,0.17759966814940648,0.07796508973825697,-0.02245633230115589,-0.12265111929089911,-0.22160807981193167,-0.3183285149065574,-0.41183629720376236,-0.5011877222463261,-0.5854810325975929,-0.6638655186081827,-0.7355501039953746,-0.7998113295873013,-0.8560006546579639,-0.903551002166129,-0.9419824818418809,-0.9709072333619758,-0.990033340735435,-0.9991677783943945,-0.9982183592575101,-0.9871946651055623,-0.966207949879674,-0.9354700168780792,-0.89529108118306,-0.8460766388909868,-0.7883233747419922,-0.7226141494505268,-0.6496121173259396,-0.5700540335495606,-0.4847428186529565,-0.39453945523854783,-0.3003542987229555,-0.203137889797277,-0.103871361327294,-0.0035565365096275887,0.09679418178421749,0.19616802843659367,0.29356209716833237,0.38799346212544567,0.4785090978182669,0.5641954972984655,0.644187891504835,0.7176789767338574,0.7839270621551785,0.8422635551451839,0.8920997088947761,0.932932564192766,0.9643500254188847,0.9860350195181922,0.9977686959834515,0.9994326355504284,0.9910100453153949,0.9725859282134105,0.9443462251469577,0.9065759384227932,0.8596562554357672,0.8040607016281309,0.7403503615496515,0.6691682162488151,0.591232654143619,0.507330220861901,0.41830768122167306,0.32506347346398523,0.2285386419843857,0.12970734007217227,0.029566998506218765,-0.07087174077157724,-0.17059522431328336,-0.26859701721481055,-0.36388806031440185,-0.45550665203067525,-0.5425281541009938,-0.6240743232673008,-0.6993221747317495,-0.7675122879297706,-0.8279564707966822,-0.8800447051780209,-0.9232513032888079,-0.9571402130891266,-0.9813694190328588,-0.9956943937760503,-0.9999705660094207,-0.9941547795089919,-0.978305728679741,-0.9525833661966533,-0.9172472887214079,-0.8726541169864731,-0.8192538966874445,-0.7575855565067815,-0.6882714691076759,-0.6120111699899564,-0.5295742975988719,-0.44179282593705715,-0.3495526680700663,-0.2537847352651319,-0.15545554199651387,-0.05555745163422786,0.04490133874094825,0.14490697332027144,0.2434501696592168,0.3395364046140433,0.4321959513237761,0.5204936659417063,0.6035384253463177,0.680492120583744,0.750578115277733,0.8130890836425904,0.8673941489959544,0.9129452507276277]}},\"id\":\"2e53a79b-d9fe-42f9-a30c-f396185199d3\",\"type\":\"ColumnDataSource\"},{\"attributes\":{\"formatter\":{\"id\":\"afcc6039-28d2-49dc-bbf3-4ef45a175967\",\"type\":\"BasicTickFormatter\"},\"plot\":{\"id\":\"ce59d370-5ba2-41ab-a72f-3c998cd06985\",\"subtype\":\"Figure\",\"type\":\"Plot\"},\"ticker\":{\"id\":\"9be0ab7d-4d03-416c-a055-b7eff5dc4a99\",\"type\":\"BasicTicker\"}},\"id\":\"dbc5615a-4614-4283-9c9a-670b903d94d0\",\"type\":\"LinearAxis\"},{\"attributes\":{\"plot\":null,\"text\":null},\"id\":\"fad9afcb-01ea-44fe-8222-a694d3593b3e\",\"type\":\"Title\"},{\"attributes\":{},\"id\":\"7197af87-8f81-460b-b53d-e2bc9248ead3\",\"type\":\"ToolEvents\"},{\"attributes\":{\"bottom\":1,\"fill_alpha\":{\"value\":0.1},\"fill_color\":{\"value\":\"olive\"},\"plot\":{\"id\":\"ce59d370-5ba2-41ab-a72f-3c998cd06985\",\"subtype\":\"Figure\",\"type\":\"Plot\"}},\"id\":\"ebdcaf3d-cb18-4f62-aefc-317c3d39c798\",\"type\":\"BoxAnnotation\"},{\"attributes\":{\"data_source\":{\"id\":\"2e53a79b-d9fe-42f9-a30c-f396185199d3\",\"type\":\"ColumnDataSource\"},\"glyph\":{\"id\":\"498095bf-0539-44d7-b192-93a54d8d9a71\",\"type\":\"Line\"},\"hover_glyph\":null,\"nonselection_glyph\":{\"id\":\"9771907e-c996-44dd-9bdf-a978ce321bdf\",\"type\":\"Line\"},\"selection_glyph\":null},\"id\":\"594086f6-f078-4c26-82ac-8e623d3fcd99\",\"type\":\"GlyphRenderer\"},{\"attributes\":{\"plot\":{\"id\":\"ce59d370-5ba2-41ab-a72f-3c998cd06985\",\"subtype\":\"Figure\",\"type\":\"Plot\"},\"ticker\":{\"id\":\"1d9426b1-e12d-44ab-8ce1-b207b125cf49\",\"type\":\"BasicTicker\"}},\"id\":\"b96f3787-8430-4a70-aece-963a33796690\",\"type\":\"Grid\"},{\"attributes\":{\"formatter\":{\"id\":\"d3274a64-d2f1-4e08-935d-3e6677449f07\",\"type\":\"BasicTickFormatter\"},\"plot\":{\"id\":\"ce59d370-5ba2-41ab-a72f-3c998cd06985\",\"subtype\":\"Figure\",\"type\":\"Plot\"},\"ticker\":{\"id\":\"1d9426b1-e12d-44ab-8ce1-b207b125cf49\",\"type\":\"BasicTicker\"}},\"id\":\"e7562292-912f-444f-8a87-e830bdcaaa6b\",\"type\":\"LinearAxis\"},{\"attributes\":{\"plot\":{\"id\":\"ce59d370-5ba2-41ab-a72f-3c998cd06985\",\"subtype\":\"Figure\",\"type\":\"Plot\"}},\"id\":\"f2605a65-b38a-4031-ba59-b68c9f6b2ce1\",\"type\":\"HelpTool\"},{\"attributes\":{\"plot\":{\"id\":\"ce59d370-5ba2-41ab-a72f-3c998cd06985\",\"subtype\":\"Figure\",\"type\":\"Plot\"}},\"id\":\"696c84f0-7390-48d0-99c6-d87493e2f591\",\"type\":\"WheelZoomTool\"},{\"attributes\":{\"plot\":{\"id\":\"ce59d370-5ba2-41ab-a72f-3c998cd06985\",\"subtype\":\"Figure\",\"type\":\"Plot\"}},\"id\":\"ecbe046a-0480-4293-aec7-05c1014a00d4\",\"type\":\"ResetTool\"},{\"attributes\":{},\"id\":\"9be0ab7d-4d03-416c-a055-b7eff5dc4a99\",\"type\":\"BasicTicker\"},{\"attributes\":{\"line_alpha\":{\"value\":0.1},\"line_color\":{\"value\":\"#1f77b4\"},\"x\":{\"field\":\"x\"},\"y\":{\"field\":\"y\"}},\"id\":\"9771907e-c996-44dd-9bdf-a978ce321bdf\",\"type\":\"Line\"},{\"attributes\":{\"below\":[{\"id\":\"e7562292-912f-444f-8a87-e830bdcaaa6b\",\"type\":\"LinearAxis\"}],\"left\":[{\"id\":\"dbc5615a-4614-4283-9c9a-670b903d94d0\",\"type\":\"LinearAxis\"}],\"renderers\":[{\"id\":\"e7562292-912f-444f-8a87-e830bdcaaa6b\",\"type\":\"LinearAxis\"},{\"id\":\"b96f3787-8430-4a70-aece-963a33796690\",\"type\":\"Grid\"},{\"id\":\"dbc5615a-4614-4283-9c9a-670b903d94d0\",\"type\":\"LinearAxis\"},{\"id\":\"baf582c8-71de-4092-a892-2cf5facc6a7e\",\"type\":\"Grid\"},{\"id\":\"baa817de-e13a-457a-a277-293a8f7aee70\",\"type\":\"BoxAnnotation\"},{\"id\":\"594086f6-f078-4c26-82ac-8e623d3fcd99\",\"type\":\"GlyphRenderer\"},{\"id\":\"ebdcaf3d-cb18-4f62-aefc-317c3d39c798\",\"type\":\"BoxAnnotation\"},{\"id\":\"fad61e38-ae82-45ff-bea4-24eeecbae174\",\"type\":\"BoxAnnotation\"},{\"id\":\"9b4cdfac-aee1-4687-a87d-44ccdae3c15f\",\"type\":\"BoxAnnotation\"}],\"title\":{\"id\":\"fad9afcb-01ea-44fe-8222-a694d3593b3e\",\"type\":\"Title\"},\"tool_events\":{\"id\":\"7197af87-8f81-460b-b53d-e2bc9248ead3\",\"type\":\"ToolEvents\"},\"toolbar\":{\"id\":\"52c6da16-5879-44de-bc06-bc9694ce133c\",\"type\":\"Toolbar\"},\"x_range\":{\"id\":\"00726f89-cb38-4395-bcea-b6e5e37083dd\",\"type\":\"DataRange1d\"},\"y_range\":{\"id\":\"37cbcc77-a348-4a8d-948c-d08e604d1463\",\"type\":\"Range1d\"}},\"id\":\"ce59d370-5ba2-41ab-a72f-3c998cd06985\",\"subtype\":\"Figure\",\"type\":\"Plot\"},{\"attributes\":{},\"id\":\"1d9426b1-e12d-44ab-8ce1-b207b125cf49\",\"type\":\"BasicTicker\"},{\"attributes\":{\"callback\":null},\"id\":\"00726f89-cb38-4395-bcea-b6e5e37083dd\",\"type\":\"DataRange1d\"},{\"attributes\":{\"dimension\":1,\"plot\":{\"id\":\"ce59d370-5ba2-41ab-a72f-3c998cd06985\",\"subtype\":\"Figure\",\"type\":\"Plot\"},\"ticker\":{\"id\":\"9be0ab7d-4d03-416c-a055-b7eff5dc4a99\",\"type\":\"BasicTicker\"}},\"id\":\"baf582c8-71de-4092-a892-2cf5facc6a7e\",\"type\":\"Grid\"},{\"attributes\":{\"plot\":{\"id\":\"ce59d370-5ba2-41ab-a72f-3c998cd06985\",\"subtype\":\"Figure\",\"type\":\"Plot\"}},\"id\":\"dc00772a-bc67-4292-b98d-d20b75c9d887\",\"type\":\"PanTool\"},{\"attributes\":{\"plot\":{\"id\":\"ce59d370-5ba2-41ab-a72f-3c998cd06985\",\"subtype\":\"Figure\",\"type\":\"Plot\"}},\"id\":\"126a1d50-cdd5-4bc4-8b8c-de3a0aaf9caf\",\"type\":\"SaveTool\"},{\"attributes\":{},\"id\":\"d3274a64-d2f1-4e08-935d-3e6677449f07\",\"type\":\"BasicTickFormatter\"},{\"attributes\":{\"line_color\":{\"value\":\"#1f77b4\"},\"x\":{\"field\":\"x\"},\"y\":{\"field\":\"y\"}},\"id\":\"498095bf-0539-44d7-b192-93a54d8d9a71\",\"type\":\"Line\"},{\"attributes\":{\"active_drag\":\"auto\",\"active_scroll\":\"auto\",\"active_tap\":\"auto\",\"tools\":[{\"id\":\"dc00772a-bc67-4292-b98d-d20b75c9d887\",\"type\":\"PanTool\"},{\"id\":\"696c84f0-7390-48d0-99c6-d87493e2f591\",\"type\":\"WheelZoomTool\"},{\"id\":\"4b81c5fb-ebc0-437e-ba12-1b60f46bdbd6\",\"type\":\"BoxZoomTool\"},{\"id\":\"126a1d50-cdd5-4bc4-8b8c-de3a0aaf9caf\",\"type\":\"SaveTool\"},{\"id\":\"ecbe046a-0480-4293-aec7-05c1014a00d4\",\"type\":\"ResetTool\"},{\"id\":\"f2605a65-b38a-4031-ba59-b68c9f6b2ce1\",\"type\":\"HelpTool\"}]},\"id\":\"52c6da16-5879-44de-bc06-bc9694ce133c\",\"type\":\"Toolbar\"},{\"attributes\":{},\"id\":\"afcc6039-28d2-49dc-bbf3-4ef45a175967\",\"type\":\"BasicTickFormatter\"},{\"attributes\":{\"bottom_units\":\"screen\",\"fill_alpha\":{\"value\":0.5},\"fill_color\":{\"value\":\"lightgrey\"},\"left_units\":\"screen\",\"level\":\"overlay\",\"line_alpha\":{\"value\":1.0},\"line_color\":{\"value\":\"black\"},\"line_dash\":[4,4],\"line_width\":{\"value\":2},\"plot\":null,\"render_mode\":\"css\",\"right_units\":\"screen\",\"top_units\":\"screen\"},\"id\":\"baa817de-e13a-457a-a277-293a8f7aee70\",\"type\":\"BoxAnnotation\"},{\"attributes\":{\"callback\":null,\"end\":2,\"start\":-2},\"id\":\"37cbcc77-a348-4a8d-948c-d08e604d1463\",\"type\":\"Range1d\"},{\"attributes\":{\"bottom\":-0.3,\"fill_alpha\":{\"value\":0.1},\"fill_color\":{\"value\":\"navy\"},\"left\":7,\"plot\":{\"id\":\"ce59d370-5ba2-41ab-a72f-3c998cd06985\",\"subtype\":\"Figure\",\"type\":\"Plot\"},\"right\":12,\"top\":0.6},\"id\":\"9b4cdfac-aee1-4687-a87d-44ccdae3c15f\",\"type\":\"BoxAnnotation\"},{\"attributes\":{\"overlay\":{\"id\":\"baa817de-e13a-457a-a277-293a8f7aee70\",\"type\":\"BoxAnnotation\"},\"plot\":{\"id\":\"ce59d370-5ba2-41ab-a72f-3c998cd06985\",\"subtype\":\"Figure\",\"type\":\"Plot\"}},\"id\":\"4b81c5fb-ebc0-437e-ba12-1b60f46bdbd6\",\"type\":\"BoxZoomTool\"},{\"attributes\":{\"fill_alpha\":{\"value\":0.1},\"fill_color\":{\"value\":\"firebrick\"},\"plot\":{\"id\":\"ce59d370-5ba2-41ab-a72f-3c998cd06985\",\"subtype\":\"Figure\",\"type\":\"Plot\"},\"top\":-1},\"id\":\"fad61e38-ae82-45ff-bea4-24eeecbae174\",\"type\":\"BoxAnnotation\"}],\"root_ids\":[\"ce59d370-5ba2-41ab-a72f-3c998cd06985\"]},\"title\":\"Bokeh Application\",\"version\":\"0.12.0\"}};\n",
       "            var render_items = [{\"docid\":\"07ac5a06-089d-4898-88ab-5712397c65d9\",\"elementid\":\"592d4524-d290-4ea3-8743-955c4a7032e1\",\"modelid\":\"ce59d370-5ba2-41ab-a72f-3c998cd06985\",\"notebook_comms_target\":\"1ca67a62-c221-4833-9ec5-3890f7870d76\"}];\n",
       "            \n",
       "            Bokeh.embed.embed_items(docs_json, render_items);\n",
       "        });\n",
       "      },\n",
       "      function(Bokeh) {\n",
       "      }\n",
       "    ];\n",
       "  \n",
       "    function run_inline_js() {\n",
       "      for (var i = 0; i < inline_js.length; i++) {\n",
       "        inline_js[i](window.Bokeh);\n",
       "      }\n",
       "    }\n",
       "  \n",
       "    if (window._bokeh_is_loading === 0) {\n",
       "      console.log(\"Bokeh: BokehJS loaded, going straight to plotting\");\n",
       "      run_inline_js();\n",
       "    } else {\n",
       "      load_libs(js_urls, function() {\n",
       "        console.log(\"Bokeh: BokehJS plotting callback run at\", now());\n",
       "        run_inline_js();\n",
       "      });\n",
       "    }\n",
       "  }(this));\n",
       "</script>"
      ]
     },
     "metadata": {},
     "output_type": "display_data"
    },
    {
     "data": {
      "text/html": [
       "<p><code>&lt;Bokeh Notebook handle for <strong>In[4]</strong>&gt;</code></p>"
      ],
      "text/plain": [
       "<bokeh.io._CommsHandle at 0x10d98a8d0>"
      ]
     },
     "execution_count": 4,
     "metadata": {},
     "output_type": "execute_result"
    }
   ],
   "source": [
    "import numpy as np\n",
    "from bokeh.models.annotations import BoxAnnotation\n",
    "\n",
    "x = np.linspace(0, 20, 200)\n",
    "y = np.sin(x)\n",
    "\n",
    "p = figure(y_range=(-2, 2))\n",
    "p.line(x, y)\n",
    "\n",
    "# region that always fills the top of the plot\n",
    "upper = BoxAnnotation(bottom=1, fill_alpha=0.1, fill_color='olive')\n",
    "p.add_layout(upper)\n",
    "\n",
    "# region that always fills the bottom of the plot\n",
    "lower = BoxAnnotation(top=-1, fill_alpha=0.1, fill_color='firebrick')\n",
    "p.add_layout(lower)\n",
    "\n",
    "# a finite region\n",
    "center = BoxAnnotation(top=0.6, bottom=-0.3, left=7, right=12, fill_alpha=0.1, fill_color='navy')\n",
    "p.add_layout(center)\n",
    "\n",
    "show(p)"
   ]
  },
  {
   "cell_type": "markdown",
   "metadata": {
    "collapsed": true
   },
   "source": [
    "## Polygon Annotations\n",
    "\n",
    "The `PolyAnnotation` is very similar to `BoxAnnotation`, but takes lists of coordinates as `xs` and `ys` (instead of `top`, `left`, etc.) and then draws a shaded polygonal region with the `xs` and `ys` coordinates. Let's try using a `PolyAnnotation` as an exercise. "
   ]
  },
  {
   "cell_type": "code",
   "execution_count": 5,
   "metadata": {
    "collapsed": true
   },
   "outputs": [],
   "source": [
    "# EXERCISE: experiment with the PolyAnnotation\n",
    "\n"
   ]
  },
  {
   "cell_type": "markdown",
   "metadata": {
    "collapsed": true
   },
   "source": [
    "## Labels\n",
    "\n",
    "Labels allow you to easily attach text labels with offsets or text background to many aspects of a plot. "
   ]
  },
  {
   "cell_type": "markdown",
   "metadata": {
    "collapsed": true
   },
   "source": [
    "## Arrows\n",
    "\n",
    "Arrows allow you to \"point\" at different things on your plot, and can be especially useful in conjuction with labels. "
   ]
  },
  {
   "cell_type": "code",
   "execution_count": null,
   "metadata": {
    "collapsed": true
   },
   "outputs": [],
   "source": []
  }
 ],
 "metadata": {
  "kernelspec": {
   "display_name": "Python 3",
   "language": "python",
   "name": "python3"
  },
  "language_info": {
   "codemirror_mode": {
    "name": "ipython",
    "version": 3
   },
   "file_extension": ".py",
   "mimetype": "text/x-python",
   "name": "python",
   "nbconvert_exporter": "python",
   "pygments_lexer": "ipython3",
   "version": "3.5.1"
  }
 },
 "nbformat": 4,
 "nbformat_minor": 0
}
