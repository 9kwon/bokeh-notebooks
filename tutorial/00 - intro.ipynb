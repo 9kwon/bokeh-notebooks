{
 "cells": [
  {
   "cell_type": "markdown",
   "metadata": {
    "collapsed": true
   },
   "source": [
    "<a id=\"bokeh-link-logo\" href=\"http://bokeh.pydata.org/\" style=\"float: left; width: 70px;\"><img src=\"http://bokeh.pydata.org/en/latest/_static/bokeh-transparent.png\"></a>\n",
    "\n",
    "#Bokeh Tutorial\n",
    "\n",
    "### Bryan Van de Ven\n",
    "* bryan@continuum.io\n",
    "* Lead Developer on Bokeh\n",
    "\n",
    "### Sarah Bird\n",
    "* twitter: birdsarah\n",
    "* Bokeh contributor"
   ]
  },
  {
   "cell_type": "markdown",
   "metadata": {},
   "source": [
    "## Getting setup\n",
    "\n",
    "https://github.com/bokeh/bokeh-notebooks/\n",
    "\n",
    "#### Install Bokeh 0.9.0 & ipython-notebook\n",
    "\n",
    "`conda install bokeh ipython-notebook`\n",
    "\n",
    "or\n",
    "\n",
    "`pip install bokeh 'ipython[notebook]'`\n",
    "\n",
    "#### Python 2 or 3 is fine"
   ]
  },
  {
   "cell_type": "markdown",
   "metadata": {
    "collapsed": true
   },
   "source": [
    "## Overview\n",
    "* Overview of Bokeh, features, ways to use it\n",
    "* Exercises 1 (20 minutes) - charts & plotting interface\n",
    " * 01 - plotting.ipynb\n",
    " * 02 - charts.ipynb\n",
    "* Navigating the Bokeh docs & examples (10 minutes)\n",
    "* Exercises 2 (20 minutes) - models & customizing charts\n",
    " * 03 - models.ipynb\n",
    " * 04 - styling.ipynb\n",
    "* Sharing plots - output/save, embedding, bokeh-server (10 minutes)\n",
    " * 05 - sharing.ipynb\n",
    "* Exercises 3 (20 minutes)\n",
    " * 06 - interactions.ipynb\n",
    "* Open space till end of session - work on exercises or your own plots, ask questions, help each other.\n"
   ]
  },
  {
   "cell_type": "markdown",
   "metadata": {},
   "source": [
    "----"
   ]
  },
  {
   "cell_type": "markdown",
   "metadata": {},
   "source": [
    "# Bokeh"
   ]
  },
  {
   "cell_type": "markdown",
   "metadata": {},
   "source": [
    "* Data visualization library.\n",
    "* Build interactive visualizations for the web\n",
    "* Data-driven\n",
    "* Uses canvas (as opposed to svg)\n",
    "* Written in python (or....)\n",
    "* Alternative to d3, matplotlib, ...."
   ]
  },
  {
   "cell_type": "code",
   "execution_count": null,
   "metadata": {
    "collapsed": false,
    "scrolled": true
   },
   "outputs": [],
   "source": [
    "from IPython.display import display, HTML\n",
    "from bubble_plot import get_bubble_html\n",
    "display(HTML(get_bubble_html()))"
   ]
  },
  {
   "cell_type": "code",
   "execution_count": null,
   "metadata": {
    "collapsed": true
   },
   "outputs": [],
   "source": []
  }
 ],
 "metadata": {
  "kernelspec": {
   "display_name": "Python 3",
   "language": "python",
   "name": "python3"
  },
  "language_info": {
   "codemirror_mode": {
    "name": "ipython",
    "version": 3
   },
   "file_extension": ".py",
   "mimetype": "text/x-python",
   "name": "python",
   "nbconvert_exporter": "python",
   "pygments_lexer": "ipython3",
   "version": "3.4.3"
  }
 },
 "nbformat": 4,
 "nbformat_minor": 0
}
