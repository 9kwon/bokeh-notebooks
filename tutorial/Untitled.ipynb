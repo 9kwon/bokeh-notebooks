{
 "cells": [
  {
   "cell_type": "code",
   "execution_count": 1,
   "metadata": {
    "collapsed": true
   },
   "outputs": [],
   "source": [
    "import pandas as pd"
   ]
  },
  {
   "cell_type": "code",
   "execution_count": 2,
   "metadata": {
    "collapsed": true
   },
   "outputs": [],
   "source": [
    "data = pd.read_csv('assets/gapminder.csv', thousands=',', index_col='Year')"
   ]
  },
  {
   "cell_type": "code",
   "execution_count": 3,
   "metadata": {
    "collapsed": false
   },
   "outputs": [
    {
     "data": {
      "text/html": [
       "<div>\n",
       "<table border=\"1\" class=\"dataframe\">\n",
       "  <thead>\n",
       "    <tr style=\"text-align: right;\">\n",
       "      <th></th>\n",
       "      <th>Country</th>\n",
       "      <th>life</th>\n",
       "      <th>population</th>\n",
       "      <th>income</th>\n",
       "      <th>region</th>\n",
       "    </tr>\n",
       "    <tr>\n",
       "      <th>Year</th>\n",
       "      <th></th>\n",
       "      <th></th>\n",
       "      <th></th>\n",
       "      <th></th>\n",
       "      <th></th>\n",
       "    </tr>\n",
       "  </thead>\n",
       "  <tbody>\n",
       "    <tr>\n",
       "      <th>1800</th>\n",
       "      <td>Afghanistan</td>\n",
       "      <td>28.211000</td>\n",
       "      <td>3280000.0</td>\n",
       "      <td>603.0</td>\n",
       "      <td>South Asia</td>\n",
       "    </tr>\n",
       "    <tr>\n",
       "      <th>1801</th>\n",
       "      <td>Afghanistan</td>\n",
       "      <td>28.200753</td>\n",
       "      <td>NaN</td>\n",
       "      <td>603.0</td>\n",
       "      <td>South Asia</td>\n",
       "    </tr>\n",
       "    <tr>\n",
       "      <th>1802</th>\n",
       "      <td>Afghanistan</td>\n",
       "      <td>28.190507</td>\n",
       "      <td>NaN</td>\n",
       "      <td>603.0</td>\n",
       "      <td>South Asia</td>\n",
       "    </tr>\n",
       "    <tr>\n",
       "      <th>1803</th>\n",
       "      <td>Afghanistan</td>\n",
       "      <td>28.180260</td>\n",
       "      <td>NaN</td>\n",
       "      <td>603.0</td>\n",
       "      <td>South Asia</td>\n",
       "    </tr>\n",
       "    <tr>\n",
       "      <th>1804</th>\n",
       "      <td>Afghanistan</td>\n",
       "      <td>28.170013</td>\n",
       "      <td>NaN</td>\n",
       "      <td>603.0</td>\n",
       "      <td>South Asia</td>\n",
       "    </tr>\n",
       "  </tbody>\n",
       "</table>\n",
       "</div>"
      ],
      "text/plain": [
       "          Country       life  population  income      region\n",
       "Year                                                        \n",
       "1800  Afghanistan  28.211000   3280000.0   603.0  South Asia\n",
       "1801  Afghanistan  28.200753         NaN   603.0  South Asia\n",
       "1802  Afghanistan  28.190507         NaN   603.0  South Asia\n",
       "1803  Afghanistan  28.180260         NaN   603.0  South Asia\n",
       "1804  Afghanistan  28.170013         NaN   603.0  South Asia"
      ]
     },
     "execution_count": 3,
     "metadata": {},
     "output_type": "execute_result"
    }
   ],
   "source": [
    "data.head()"
   ]
  },
  {
   "cell_type": "code",
   "execution_count": 11,
   "metadata": {
    "collapsed": false
   },
   "outputs": [
    {
     "data": {
      "text/html": [
       "\n",
       "    <div class=\"bk-root\">\n",
       "        <a href=\"http://bokeh.pydata.org\" target=\"_blank\" class=\"bk-logo bk-logo-small bk-logo-notebook\"></a>\n",
       "        <span id=\"e75f5251-e3ca-4f58-aa77-857006e467a1\">Loading BokehJS ...</span>\n",
       "    </div>"
      ]
     },
     "metadata": {},
     "output_type": "display_data"
    },
    {
     "data": {
      "application/javascript": [
       "\n",
       "(function(global) {\n",
       "  function now() {\n",
       "    return new Date();\n",
       "  }\n",
       "\n",
       "  var force = \"1\";\n",
       "\n",
       "  if (typeof (window._bokeh_onload_callbacks) === \"undefined\" || force !== \"\") {\n",
       "    window._bokeh_onload_callbacks = [];\n",
       "    window._bokeh_is_loading = undefined;\n",
       "  }\n",
       "\n",
       "\n",
       "  \n",
       "  if (typeof (window._bokeh_timeout) === \"undefined\" || force !== \"\") {\n",
       "    window._bokeh_timeout = Date.now() + 5000;\n",
       "    window._bokeh_failed_load = false;\n",
       "  }\n",
       "\n",
       "  var NB_LOAD_WARNING = {'data': {'text/html':\n",
       "     \"<div style='background-color: #fdd'>\\n\"+\n",
       "     \"<p>\\n\"+\n",
       "     \"BokehJS does not appear to have successfully loaded. If loading BokehJS from CDN, this \\n\"+\n",
       "     \"may be due to a slow or bad network connection. Possible fixes:\\n\"+\n",
       "     \"</p>\\n\"+\n",
       "     \"<ul>\\n\"+\n",
       "     \"<li>re-rerun `output_notebook()` to attempt to load from CDN again, or</li>\\n\"+\n",
       "     \"<li>use INLINE resources instead, as so:</li>\\n\"+\n",
       "     \"</ul>\\n\"+\n",
       "     \"<code>\\n\"+\n",
       "     \"from bokeh.resources import INLINE\\n\"+\n",
       "     \"output_notebook(resources=INLINE)\\n\"+\n",
       "     \"</code>\\n\"+\n",
       "     \"</div>\"}};\n",
       "\n",
       "  function display_loaded() {\n",
       "    if (window.Bokeh !== undefined) {\n",
       "      Bokeh.$(\"#e75f5251-e3ca-4f58-aa77-857006e467a1\").text(\"BokehJS successfully loaded.\");\n",
       "    } else if (Date.now() < window._bokeh_timeout) {\n",
       "      setTimeout(display_loaded, 100)\n",
       "    }\n",
       "  }\n",
       "\n",
       "  function run_callbacks() {\n",
       "    window._bokeh_onload_callbacks.forEach(function(callback) { callback() });\n",
       "    delete window._bokeh_onload_callbacks\n",
       "    console.info(\"Bokeh: all callbacks have finished\");\n",
       "  }\n",
       "\n",
       "  function load_libs(js_urls, callback) {\n",
       "    window._bokeh_onload_callbacks.push(callback);\n",
       "    if (window._bokeh_is_loading > 0) {\n",
       "      console.log(\"Bokeh: BokehJS is being loaded, scheduling callback at\", now());\n",
       "      return null;\n",
       "    }\n",
       "    if (js_urls == null || js_urls.length === 0) {\n",
       "      run_callbacks();\n",
       "      return null;\n",
       "    }\n",
       "    console.log(\"Bokeh: BokehJS not loaded, scheduling load and callback at\", now());\n",
       "    window._bokeh_is_loading = js_urls.length;\n",
       "    for (var i = 0; i < js_urls.length; i++) {\n",
       "      var url = js_urls[i];\n",
       "      var s = document.createElement('script');\n",
       "      s.src = url;\n",
       "      s.async = false;\n",
       "      s.onreadystatechange = s.onload = function() {\n",
       "        window._bokeh_is_loading--;\n",
       "        if (window._bokeh_is_loading === 0) {\n",
       "          console.log(\"Bokeh: all BokehJS libraries loaded\");\n",
       "          run_callbacks()\n",
       "        }\n",
       "      };\n",
       "      s.onerror = function() {\n",
       "        console.warn(\"failed to load library \" + url);\n",
       "      };\n",
       "      console.log(\"Bokeh: injecting script tag for BokehJS library: \", url);\n",
       "      document.getElementsByTagName(\"head\")[0].appendChild(s);\n",
       "    }\n",
       "  };var element = document.getElementById(\"e75f5251-e3ca-4f58-aa77-857006e467a1\");\n",
       "  if (element == null) {\n",
       "    console.log(\"Bokeh: ERROR: autoload.js configured with elementid 'e75f5251-e3ca-4f58-aa77-857006e467a1' but no matching script tag was found. \")\n",
       "    return false;\n",
       "  }\n",
       "\n",
       "  var js_urls = ['https://cdn.pydata.org/bokeh/dev/bokeh-0.12.3dev3.min.js', 'https://cdn.pydata.org/bokeh/dev/bokeh-widgets-0.12.3dev3.min.js'];\n",
       "\n",
       "  var inline_js = [\n",
       "    function(Bokeh) {\n",
       "      Bokeh.set_log_level(\"info\");\n",
       "    },\n",
       "    \n",
       "    function(Bokeh) {\n",
       "      \n",
       "      Bokeh.$(\"#e75f5251-e3ca-4f58-aa77-857006e467a1\").text(\"BokehJS is loading...\");\n",
       "    },\n",
       "    function(Bokeh) {\n",
       "      console.log(\"Bokeh: injecting CSS: https://cdn.pydata.org/bokeh/dev/bokeh-0.12.3dev3.min.css\");\n",
       "      Bokeh.embed.inject_css(\"https://cdn.pydata.org/bokeh/dev/bokeh-0.12.3dev3.min.css\");\n",
       "      console.log(\"Bokeh: injecting CSS: https://cdn.pydata.org/bokeh/dev/bokeh-widgets-0.12.3dev3.min.css\");\n",
       "      Bokeh.embed.inject_css(\"https://cdn.pydata.org/bokeh/dev/bokeh-widgets-0.12.3dev3.min.css\");\n",
       "    }\n",
       "  ];\n",
       "\n",
       "  function run_inline_js() {\n",
       "    \n",
       "    if ((window.Bokeh !== undefined) || (force === \"1\")) {\n",
       "      for (var i = 0; i < inline_js.length; i++) {\n",
       "        inline_js[i](window.Bokeh);\n",
       "      }if (force === \"1\") {\n",
       "        display_loaded();\n",
       "      }} else if (Date.now() < window._bokeh_timeout) {\n",
       "      setTimeout(run_inline_js, 100);\n",
       "    } else if (!window._bokeh_failed_load) {\n",
       "      console.log(\"Bokeh: BokehJS failed to load within specified timeout.\");\n",
       "      window._bokeh_failed_load = true;\n",
       "    } else if (!force) {\n",
       "      var cell = $(\"#e75f5251-e3ca-4f58-aa77-857006e467a1\").parents('.cell').data().cell;\n",
       "      cell.output_area.append_execute_result(NB_LOAD_WARNING)\n",
       "    }\n",
       "\n",
       "  }\n",
       "\n",
       "  if (window._bokeh_is_loading === 0) {\n",
       "    console.log(\"Bokeh: BokehJS loaded, going straight to plotting\");\n",
       "    run_inline_js();\n",
       "  } else {\n",
       "    load_libs(js_urls, function() {\n",
       "      console.log(\"Bokeh: BokehJS plotting callback run at\", now());\n",
       "      run_inline_js();\n",
       "    });\n",
       "  }\n",
       "}(this));"
      ]
     },
     "metadata": {},
     "output_type": "display_data"
    }
   ],
   "source": [
    "from bokeh.io import output_notebook\n",
    "output_notebook()"
   ]
  },
  {
   "cell_type": "code",
   "execution_count": 5,
   "metadata": {
    "collapsed": true
   },
   "outputs": [],
   "source": [
    "from bokeh.io import show\n",
    "from bokeh.plotting import figure"
   ]
  },
  {
   "cell_type": "code",
   "execution_count": null,
   "metadata": {
    "collapsed": false
   },
   "outputs": [],
   "source": [
    "p = figure(\n",
    "    height=200, x_axis_type='log',\n",
    "    x_range=(100, 100000), y_range=(0, 100),\n",
    ")\n",
    "p.circle(x=data.loc[2010].income, y=data.loc[2010].life, color='pink')\n",
    "show(p)"
   ]
  },
  {
   "cell_type": "code",
   "execution_count": null,
   "metadata": {
    "collapsed": false
   },
   "outputs": [],
   "source": [
    "from bokeh.models import NumeralTickFormatter\n",
    "p = figure(\n",
    "    height=200, x_axis_type='log',\n",
    "    x_range=(100, 100000), y_range=(0, 100),\n",
    ")\n",
    "p.circle(x=data.loc[2010].income, y=data.loc[2010].life, color='pink')\n",
    "p.xaxis[0].formatter = NumeralTickFormatter(format=\"$0,\")\n",
    "show(p)"
   ]
  },
  {
   "cell_type": "code",
   "execution_count": null,
   "metadata": {
    "collapsed": true
   },
   "outputs": [],
   "source": [
    "from bokeh.models import ColumnDataSource\n",
    "source = ColumnDataSource(dict(\n",
    "    x=data.loc[2010].income,\n",
    "    y=data.loc[2010].life,\n",
    "    country=data.loc[2010].Country\n",
    "    ))"
   ]
  },
  {
   "cell_type": "code",
   "execution_count": null,
   "metadata": {
    "collapsed": false
   },
   "outputs": [],
   "source": [
    "ColumnDataSource(data.loc[2010])"
   ]
  },
  {
   "cell_type": "code",
   "execution_count": 35,
   "metadata": {
    "collapsed": false
   },
   "outputs": [],
   "source": [
    "PLOT_OPTS = dict(\n",
    "    height=400, x_axis_type='log',\n",
    "    x_range=(100, 100000), y_range=(0, 100),\n",
    ")"
   ]
  },
  {
   "cell_type": "code",
   "execution_count": 15,
   "metadata": {
    "collapsed": false
   },
   "outputs": [
    {
     "ename": "TypeError",
     "evalue": "figure() got multiple values for keyword argument 'tools'",
     "output_type": "error",
     "traceback": [
      "\u001b[0;31m---------------------------------------------------------------------------\u001b[0m",
      "\u001b[0;31mTypeError\u001b[0m                                 Traceback (most recent call last)",
      "\u001b[0;32m<ipython-input-15-b869d6ce7ee5>\u001b[0m in \u001b[0;36m<module>\u001b[0;34m()\u001b[0m\n\u001b[1;32m      1\u001b[0m \u001b[0;32mfrom\u001b[0m \u001b[0mbokeh\u001b[0m\u001b[0;34m.\u001b[0m\u001b[0mmodels\u001b[0m \u001b[0;32mimport\u001b[0m \u001b[0mHoverTool\u001b[0m\u001b[0;34m\u001b[0m\u001b[0m\n\u001b[1;32m      2\u001b[0m \u001b[0mhover\u001b[0m \u001b[0;34m=\u001b[0m \u001b[0mHoverTool\u001b[0m\u001b[0;34m(\u001b[0m\u001b[0mtooltips\u001b[0m\u001b[0;34m=\u001b[0m\u001b[0;34m'@country'\u001b[0m\u001b[0;34m,\u001b[0m \u001b[0mshow_arrow\u001b[0m\u001b[0;34m=\u001b[0m\u001b[0;32mFalse\u001b[0m\u001b[0;34m)\u001b[0m\u001b[0;34m\u001b[0m\u001b[0m\n\u001b[0;32m----> 3\u001b[0;31m \u001b[0mp\u001b[0m \u001b[0;34m=\u001b[0m \u001b[0mfigure\u001b[0m\u001b[0;34m(\u001b[0m\u001b[0mtools\u001b[0m\u001b[0;34m=\u001b[0m\u001b[0;34m[\u001b[0m\u001b[0mhover\u001b[0m\u001b[0;34m]\u001b[0m\u001b[0;34m,\u001b[0m \u001b[0;34m**\u001b[0m\u001b[0mPLOT_OPTS\u001b[0m\u001b[0;34m)\u001b[0m\u001b[0;34m\u001b[0m\u001b[0m\n\u001b[0m\u001b[1;32m      4\u001b[0m \u001b[0mp\u001b[0m\u001b[0;34m.\u001b[0m\u001b[0mcircle\u001b[0m\u001b[0;34m(\u001b[0m\u001b[0mx\u001b[0m\u001b[0;34m=\u001b[0m\u001b[0;34m'x'\u001b[0m\u001b[0;34m,\u001b[0m \u001b[0my\u001b[0m\u001b[0;34m=\u001b[0m\u001b[0;34m'y'\u001b[0m\u001b[0;34m,\u001b[0m \u001b[0msize\u001b[0m\u001b[0;34m=\u001b[0m\u001b[0;36m20\u001b[0m\u001b[0;34m,\u001b[0m \u001b[0malpha\u001b[0m\u001b[0;34m=\u001b[0m\u001b[0;36m0.6\u001b[0m\u001b[0;34m,\u001b[0m  \u001b[0msource\u001b[0m\u001b[0;34m=\u001b[0m\u001b[0msource\u001b[0m\u001b[0;34m)\u001b[0m\u001b[0;34m\u001b[0m\u001b[0m\n\u001b[1;32m      5\u001b[0m \u001b[0mshow\u001b[0m\u001b[0;34m(\u001b[0m\u001b[0mp\u001b[0m\u001b[0;34m)\u001b[0m\u001b[0;34m\u001b[0m\u001b[0m\n",
      "\u001b[0;31mTypeError\u001b[0m: figure() got multiple values for keyword argument 'tools'"
     ]
    }
   ],
   "source": [
    "from bokeh.models import HoverTool\n",
    "hover = HoverTool(tooltips='@country', show_arrow=False)\n",
    "p = figure(tools=[hover], **PLOT_OPTS)\n",
    "p.circle(x='x', y='y', size=20, alpha=0.6,  source=source)\n",
    "show(p)"
   ]
  },
  {
   "cell_type": "code",
   "execution_count": 8,
   "metadata": {
    "collapsed": false
   },
   "outputs": [
    {
     "data": {
      "text/plain": [
       "['region', 'x', 'population', 'y', 'country']"
      ]
     },
     "execution_count": 8,
     "metadata": {},
     "output_type": "execute_result"
    }
   ],
   "source": [
    "from bokeh.models import ColumnDataSource\n",
    "source = ColumnDataSource(dict(\n",
    "    x=data.loc[2010].income,\n",
    "    y=data.loc[2010].life,\n",
    "    country=data.loc[2010].Country,\n",
    "    population=data.loc[2010].population,\n",
    "    region=data.loc[2010].region\n",
    "))\n",
    "source.column_names"
   ]
  },
  {
   "cell_type": "code",
   "execution_count": 30,
   "metadata": {
    "collapsed": false
   },
   "outputs": [
    {
     "data": {
      "text/plain": [
       "['South Asia',\n",
       " 'Europe & Central Asia',\n",
       " 'Middle East & North Africa',\n",
       " 'Sub-Saharan Africa',\n",
       " 'America',\n",
       " 'East Asia & Pacific']"
      ]
     },
     "execution_count": 30,
     "metadata": {},
     "output_type": "execute_result"
    }
   ],
   "source": [
    "list(data.region.unique())"
   ]
  },
  {
   "cell_type": "code",
   "execution_count": 31,
   "metadata": {
    "collapsed": false
   },
   "outputs": [
    {
     "data": {
      "text/plain": [
       "['#3288bd', '#99d594', '#e6f598', '#fee08b', '#fc8d59', '#d53e4f']"
      ]
     },
     "execution_count": 31,
     "metadata": {},
     "output_type": "execute_result"
    }
   ],
   "source": [
    "from bokeh.palettes import Spectral6\n",
    "Spectral6"
   ]
  },
  {
   "cell_type": "code",
   "execution_count": 45,
   "metadata": {
    "collapsed": false,
    "scrolled": false
   },
   "outputs": [
    {
     "data": {
      "text/html": [
       "\n",
       "\n",
       "    <div class=\"bk-root\">\n",
       "        <div class=\"plotdiv\" id=\"12ec810d-6fda-42fd-85a8-be9bfa34f734\"></div>\n",
       "    </div>\n",
       "<script type=\"text/javascript\">\n",
       "  \n",
       "  (function(global) {\n",
       "    function now() {\n",
       "      return new Date();\n",
       "    }\n",
       "  \n",
       "    var force = \"\";\n",
       "  \n",
       "    if (typeof (window._bokeh_onload_callbacks) === \"undefined\" || force !== \"\") {\n",
       "      window._bokeh_onload_callbacks = [];\n",
       "      window._bokeh_is_loading = undefined;\n",
       "    }\n",
       "  \n",
       "  \n",
       "    \n",
       "    if (typeof (window._bokeh_timeout) === \"undefined\" || force !== \"\") {\n",
       "      window._bokeh_timeout = Date.now() + 0;\n",
       "      window._bokeh_failed_load = false;\n",
       "    }\n",
       "  \n",
       "    var NB_LOAD_WARNING = {'data': {'text/html':\n",
       "       \"<div style='background-color: #fdd'>\\n\"+\n",
       "       \"<p>\\n\"+\n",
       "       \"BokehJS does not appear to have successfully loaded. If loading BokehJS from CDN, this \\n\"+\n",
       "       \"may be due to a slow or bad network connection. Possible fixes:\\n\"+\n",
       "       \"</p>\\n\"+\n",
       "       \"<ul>\\n\"+\n",
       "       \"<li>re-rerun `output_notebook()` to attempt to load from CDN again, or</li>\\n\"+\n",
       "       \"<li>use INLINE resources instead, as so:</li>\\n\"+\n",
       "       \"</ul>\\n\"+\n",
       "       \"<code>\\n\"+\n",
       "       \"from bokeh.resources import INLINE\\n\"+\n",
       "       \"output_notebook(resources=INLINE)\\n\"+\n",
       "       \"</code>\\n\"+\n",
       "       \"</div>\"}};\n",
       "  \n",
       "    function display_loaded() {\n",
       "      if (window.Bokeh !== undefined) {\n",
       "        Bokeh.$(\"#12ec810d-6fda-42fd-85a8-be9bfa34f734\").text(\"BokehJS successfully loaded.\");\n",
       "      } else if (Date.now() < window._bokeh_timeout) {\n",
       "        setTimeout(display_loaded, 100)\n",
       "      }\n",
       "    }\n",
       "  \n",
       "    function run_callbacks() {\n",
       "      window._bokeh_onload_callbacks.forEach(function(callback) { callback() });\n",
       "      delete window._bokeh_onload_callbacks\n",
       "      console.info(\"Bokeh: all callbacks have finished\");\n",
       "    }\n",
       "  \n",
       "    function load_libs(js_urls, callback) {\n",
       "      window._bokeh_onload_callbacks.push(callback);\n",
       "      if (window._bokeh_is_loading > 0) {\n",
       "        console.log(\"Bokeh: BokehJS is being loaded, scheduling callback at\", now());\n",
       "        return null;\n",
       "      }\n",
       "      if (js_urls == null || js_urls.length === 0) {\n",
       "        run_callbacks();\n",
       "        return null;\n",
       "      }\n",
       "      console.log(\"Bokeh: BokehJS not loaded, scheduling load and callback at\", now());\n",
       "      window._bokeh_is_loading = js_urls.length;\n",
       "      for (var i = 0; i < js_urls.length; i++) {\n",
       "        var url = js_urls[i];\n",
       "        var s = document.createElement('script');\n",
       "        s.src = url;\n",
       "        s.async = false;\n",
       "        s.onreadystatechange = s.onload = function() {\n",
       "          window._bokeh_is_loading--;\n",
       "          if (window._bokeh_is_loading === 0) {\n",
       "            console.log(\"Bokeh: all BokehJS libraries loaded\");\n",
       "            run_callbacks()\n",
       "          }\n",
       "        };\n",
       "        s.onerror = function() {\n",
       "          console.warn(\"failed to load library \" + url);\n",
       "        };\n",
       "        console.log(\"Bokeh: injecting script tag for BokehJS library: \", url);\n",
       "        document.getElementsByTagName(\"head\")[0].appendChild(s);\n",
       "      }\n",
       "    };var element = document.getElementById(\"12ec810d-6fda-42fd-85a8-be9bfa34f734\");\n",
       "    if (element == null) {\n",
       "      console.log(\"Bokeh: ERROR: autoload.js configured with elementid '12ec810d-6fda-42fd-85a8-be9bfa34f734' but no matching script tag was found. \")\n",
       "      return false;\n",
       "    }\n",
       "  \n",
       "    var js_urls = [];\n",
       "  \n",
       "    var inline_js = [\n",
       "      function(Bokeh) {\n",
       "        Bokeh.$(function() {\n",
       "            var docs_json = {\"cd7129bd-b601-43a3-8078-435f32a27c0f\":{\"roots\":{\"references\":[{\"attributes\":{\"fill_alpha\":{\"value\":0.1},\"fill_color\":{\"value\":\"#1f77b4\"},\"label\":{\"field\":\"region\"},\"line_alpha\":{\"value\":0.1},\"line_color\":{\"value\":\"#1f77b4\"},\"size\":{\"field\":\"population\",\"transform\":{\"id\":\"6ff5d0d2-fb9a-4e00-a172-77dcc8abf550\",\"type\":\"LinearInterpolator\"},\"units\":\"screen\"},\"x\":{\"field\":\"x\"},\"y\":{\"field\":\"y\"}},\"id\":\"05442096-d0a5-405c-86ae-5b0a3086377c\",\"type\":\"Circle\"},{\"attributes\":{\"plot\":null,\"text\":\"2010\"},\"id\":\"2650af80-b2fc-4f18-a785-3c9b15c34f50\",\"type\":\"Title\"},{\"attributes\":{\"callback\":null,\"plot\":{\"id\":\"eacf6443-f053-4c81-b8b6-15b2496ac642\",\"subtype\":\"Figure\",\"type\":\"Plot\"},\"show_arrow\":false,\"tooltips\":\"@country\"},\"id\":\"4cc99817-9168-46df-9ff3-76fdee5cd91c\",\"type\":\"HoverTool\"},{\"attributes\":{\"dimension\":1,\"plot\":{\"id\":\"eacf6443-f053-4c81-b8b6-15b2496ac642\",\"subtype\":\"Figure\",\"type\":\"Plot\"},\"ticker\":{\"id\":\"ff795408-2782-41d1-a834-31447bf5ad33\",\"type\":\"BasicTicker\"}},\"id\":\"663f9ca9-9635-488b-8329-df2fd7607826\",\"type\":\"Grid\"},{\"attributes\":{\"formatter\":{\"id\":\"cb9f1192-765b-48b0-a0ab-0f1010686e05\",\"type\":\"LogTickFormatter\"},\"plot\":{\"id\":\"eacf6443-f053-4c81-b8b6-15b2496ac642\",\"subtype\":\"Figure\",\"type\":\"Plot\"},\"ticker\":{\"id\":\"8e700619-a933-4a83-ba56-0259c76a775c\",\"type\":\"LogTicker\"}},\"id\":\"9a923e93-510c-4209-9cae-46bec3bcb9fc\",\"type\":\"LogAxis\"},{\"attributes\":{\"ticker\":null},\"id\":\"cb9f1192-765b-48b0-a0ab-0f1010686e05\",\"type\":\"LogTickFormatter\"},{\"attributes\":{\"active_drag\":\"auto\",\"active_scroll\":\"auto\",\"active_tap\":\"auto\",\"tools\":[{\"id\":\"4cc99817-9168-46df-9ff3-76fdee5cd91c\",\"type\":\"HoverTool\"}]},\"id\":\"bd036aaf-2c6f-4bc1-a9c3-edb9c70d51ba\",\"type\":\"Toolbar\"},{\"attributes\":{\"formatter\":{\"id\":\"b06f77c4-128c-4052-80a6-979a44392c2b\",\"type\":\"BasicTickFormatter\"},\"plot\":{\"id\":\"eacf6443-f053-4c81-b8b6-15b2496ac642\",\"subtype\":\"Figure\",\"type\":\"Plot\"},\"ticker\":{\"id\":\"ff795408-2782-41d1-a834-31447bf5ad33\",\"type\":\"BasicTicker\"}},\"id\":\"75084b0c-68ad-4bb2-a922-beec71fc9b8b\",\"type\":\"LinearAxis\"},{\"attributes\":{\"data_source\":{\"id\":\"c8597acd-6aec-4783-bbe8-8018e9a98f7d\",\"type\":\"ColumnDataSource\"},\"glyph\":{\"id\":\"6165285c-958e-4dcd-98dd-1c4a4364b002\",\"type\":\"Circle\"},\"hover_glyph\":null,\"nonselection_glyph\":{\"id\":\"05442096-d0a5-405c-86ae-5b0a3086377c\",\"type\":\"Circle\"},\"selection_glyph\":null},\"id\":\"3297c663-fad1-4c8e-9a10-55dc0a630ad5\",\"type\":\"GlyphRenderer\"},{\"attributes\":{\"callback\":null,\"end\":100000,\"start\":100},\"id\":\"24d5ff8a-da80-4c32-82be-1e9b342b8ad0\",\"type\":\"Range1d\"},{\"attributes\":{\"fill_alpha\":{\"value\":0.6},\"fill_color\":{\"field\":\"region\",\"transform\":{\"id\":\"7d9cbae1-8031-46b1-a851-3e49cc501809\",\"type\":\"CategoricalColorMapper\"}},\"label\":{\"field\":\"region\"},\"line_alpha\":{\"value\":0.6},\"line_color\":{\"field\":\"region\",\"transform\":{\"id\":\"7d9cbae1-8031-46b1-a851-3e49cc501809\",\"type\":\"CategoricalColorMapper\"}},\"size\":{\"field\":\"population\",\"transform\":{\"id\":\"6ff5d0d2-fb9a-4e00-a172-77dcc8abf550\",\"type\":\"LinearInterpolator\"},\"units\":\"screen\"},\"x\":{\"field\":\"x\"},\"y\":{\"field\":\"y\"}},\"id\":\"6165285c-958e-4dcd-98dd-1c4a4364b002\",\"type\":\"Circle\"},{\"attributes\":{\"border_line_color\":{\"value\":null},\"legends\":[{\"id\":\"3297c663-fad1-4c8e-9a10-55dc0a630ad5\",\"type\":\"GlyphRenderer\"}],\"location\":[0,-50],\"plot\":{\"id\":\"eacf6443-f053-4c81-b8b6-15b2496ac642\",\"subtype\":\"Figure\",\"type\":\"Plot\"}},\"id\":\"a62d7b03-7352-4691-93bc-8b07539a7251\",\"type\":\"Legend\"},{\"attributes\":{\"plot\":{\"id\":\"eacf6443-f053-4c81-b8b6-15b2496ac642\",\"subtype\":\"Figure\",\"type\":\"Plot\"},\"ticker\":{\"id\":\"8e700619-a933-4a83-ba56-0259c76a775c\",\"type\":\"LogTicker\"}},\"id\":\"b02132da-5580-4715-a792-532587aaef69\",\"type\":\"Grid\"},{\"attributes\":{\"num_minor_ticks\":10},\"id\":\"8e700619-a933-4a83-ba56-0259c76a775c\",\"type\":\"LogTicker\"},{\"attributes\":{\"callback\":null,\"column_names\":[\"region\",\"x\",\"population\",\"y\",\"country\"],\"data\":{\"country\":[\"Afghanistan\",\"Albania\",\"Algeria\",\"Andorra\",\"Angola\",\"Antigua and Barbuda\",\"Argentina\",\"Armenia\",\"Australia\",\"Austria\",\"Azerbaijan\",\"Bahamas\",\"Bahrain\",\"Bangladesh\",\"Barbados\",\"Belarus\",\"Belgium\",\"Belize\",\"Benin\",\"Bhutan\",\"Bolivia\",\"Bosnia and Herzegovina\",\"Botswana\",\"Brazil\",\"Brunei\",\"Bulgaria\",\"Burkina Faso\",\"Burundi\",\"Cambodia\",\"Cameroon\",\"Canada\",\"Cape Verde\",\"Chad\",\"Chile\",\"China\",\"Colombia\",\"Comoros\",\"Congo, Dem. Rep.\",\"Congo, Rep.\",\"Costa Rica\",\"Cote d'Ivoire\",\"Croatia\",\"Cuba\",\"Cyprus\",\"Denmark\",\"Djibouti\",\"Dominica\",\"Ecuador\",\"Egypt\",\"El Salvador\",\"Equatorial Guinea\",\"Eritrea\",\"Estonia\",\"Ethiopia\",\"Fiji\",\"Finland\",\"France\",\"Gabon\",\"Gambia\",\"Georgia\",\"Germany\",\"Ghana\",\"Greece\",\"Grenada\",\"Guatemala\",\"Guinea\",\"Guinea-Bissau\",\"Guyana\",\"Haiti\",\"Honduras\",\"Hungary\",\"Iceland\",\"India\",\"Indonesia\",\"Iran\",\"Iraq\",\"Ireland\",\"Israel\",\"Italy\",\"Jamaica\",\"Japan\",\"Jordan\",\"Kazakhstan\",\"Kenya\",\"Kiribati\",\"Kuwait\",\"Latvia\",\"Lebanon\",\"Lesotho\",\"Liberia\",\"Libya\",\"Lithuania\",\"Luxembourg\",\"Macedonia, FYR\",\"Madagascar\",\"Malawi\",\"Malaysia\",\"Maldives\",\"Mali\",\"Malta\",\"Marshall Islands\",\"Mauritania\",\"Mauritius\",\"Mexico\",\"Micronesia, Fed. Sts.\",\"Moldova\",\"Mongolia\",\"Montenegro\",\"Morocco\",\"Mozambique\",\"Myanmar\",\"Namibia\",\"Nepal\",\"Netherlands\",\"New Zealand\",\"Nicaragua\",\"Niger\",\"Nigeria\",\"Norway\",\"Oman\",\"Pakistan\",\"Panama\",\"Papua New Guinea\",\"Paraguay\",\"Peru\",\"Philippines\",\"Poland\",\"Portugal\",\"Qatar\",\"Romania\",\"Russia\",\"Rwanda\",\"Samoa\",\"Sao Tome and Principe\",\"Saudi Arabia\",\"Senegal\",\"Serbia\",\"Seychelles\",\"Sierra Leone\",\"Singapore\",\"Slovak Republic\",\"Slovenia\",\"Solomon Islands\",\"Somalia\",\"South Africa\",\"South Sudan\",\"Spain\",\"Sri Lanka\",\"Sudan\",\"Suriname\",\"Swaziland\",\"Sweden\",\"Switzerland\",\"Syria\",\"Taiwan\",\"Tajikistan\",\"Tanzania\",\"Thailand\",\"Timor-Leste\",\"Togo\",\"Tonga\",\"Trinidad and Tobago\",\"Tunisia\",\"Turkey\",\"Turkmenistan\",\"Uganda\",\"Ukraine\",\"United Arab Emirates\",\"United Kingdom\",\"United States\",\"Uruguay\",\"Uzbekistan\",\"Vanuatu\",\"Venezuela\",\"Vietnam\",\"West Bank and Gaza\",\"Zambia\",\"Zimbabwe\"],\"population\":[27962207.0,2901883.0,36036159.0,84419.0,21219954.0,87233.0,41222875.0,2963496.0,22162863.0,8391986.0,9099893.0,360830.0,1261319.0,151616777.0,279566.0,9492122.0,10929978.0,321609.0,9509798.0,720246.0,9918245.0,3835258.0,2047831.0,198614208.0,393302.0,7407297.0,15632066.0,9461117.0,14363586.0,20590666.0,34126173.0,490379.0,11896380.0,17015048.0,1340968737.0,45918101.0,698695.0,65938712.0,4066078.0,4545273.0,20131707.0,4316425.0,11308133.0,1103685.0,5550959.0,830802.0,71167.0,14934692.0,82040994.0,6038306.0,728710.0,4689664.0,1332089.0,87561814.0,859952.0,5367693.0,62961136.0,1541936.0,1693002.0,4250132.0,80435307.0,24317734.0,11177509.0,104677.0,14732261.0,11012406.0,1634196.0,753362.0,9999617.0,7503875.0,10014633.0,318042.0,1230984504.0,241613126.0,74253373.0,30868156.0,4617334.0,7420368.0,59588007.0,2741253.0,127319802.0,6517912.0,16310624.0,40328313.0,102648.0,3059473.0,2090519.0,4337156.0,2010586.0,3957990.0,6265697.0,3122835.0,507889.0,2062443.0,21079532.0,14769824.0,28119500.0,332575.0,15167286.0,412064.0,52428.0,3591400.0,1247951.0,118617542.0,103619.0,4084483.0,2712657.0,621952.0,32107739.0,24321457.0,51733013.0,2193643.0,26875910.0,16631571.0,4369027.0,5737722.0,16291990.0,159424742.0,4891251.0,2943747.0,170043918.0,3620506.0,6847517.0,6209877.0,29373644.0,93038902.0,38574682.0,10584837.0,1765513.0,20298838.0,143158099.0,10293669.0,186029.0,170880.0,28090647.0,12956791.0,9059046.0,93081.0,5775902.0,5078961.0,5406896.0,2052480.0,526177.0,9581714.0,51621594.0,10056475.0,46601492.0,20201312.0,36114885.0,518141.0,1193148.0,9382297.0,7830534.0,20720602.0,23025000.0,7581696.0,45648525.0,66692024.0,1057122.0,6390851.0,103947.0,1328095.0,10639194.0,72310416.0,5041995.0,33149417.0,45647497.0,8329453.0,62716684.0,309876170.0,3374414.0,27739764.0,236299.0,28995745.0,88357775.0,4068780.0,13917439.0,13973897.0],\"region\":[\"South Asia\",\"Europe & Central Asia\",\"Middle East & North Africa\",\"Europe & Central Asia\",\"Sub-Saharan Africa\",\"America\",\"America\",\"Europe & Central Asia\",\"East Asia & Pacific\",\"Europe & Central Asia\",\"Europe & Central Asia\",\"America\",\"Middle East & North Africa\",\"South Asia\",\"America\",\"Europe & Central Asia\",\"Europe & Central Asia\",\"America\",\"Sub-Saharan Africa\",\"South Asia\",\"America\",\"Europe & Central Asia\",\"Sub-Saharan Africa\",\"America\",\"East Asia & Pacific\",\"Europe & Central Asia\",\"Sub-Saharan Africa\",\"Sub-Saharan Africa\",\"East Asia & Pacific\",\"Sub-Saharan Africa\",\"America\",\"Sub-Saharan Africa\",\"Sub-Saharan Africa\",\"America\",\"East Asia & Pacific\",\"America\",\"Sub-Saharan Africa\",\"Sub-Saharan Africa\",\"Sub-Saharan Africa\",\"America\",\"Sub-Saharan Africa\",\"Europe & Central Asia\",\"America\",\"Europe & Central Asia\",\"Europe & Central Asia\",\"Middle East & North Africa\",\"America\",\"America\",\"Middle East & North Africa\",\"America\",\"Sub-Saharan Africa\",\"Sub-Saharan Africa\",\"Europe & Central Asia\",\"Sub-Saharan Africa\",\"East Asia & Pacific\",\"Europe & Central Asia\",\"Europe & Central Asia\",\"Sub-Saharan Africa\",\"Sub-Saharan Africa\",\"Europe & Central Asia\",\"Europe & Central Asia\",\"Sub-Saharan Africa\",\"Europe & Central Asia\",\"America\",\"America\",\"Sub-Saharan Africa\",\"Sub-Saharan Africa\",\"America\",\"America\",\"America\",\"Europe & Central Asia\",\"Europe & Central Asia\",\"South Asia\",\"East Asia & Pacific\",\"Middle East & North Africa\",\"Middle East & North Africa\",\"Europe & Central Asia\",\"Middle East & North Africa\",\"Europe & Central Asia\",\"America\",\"East Asia & Pacific\",\"Middle East & North Africa\",\"Europe & Central Asia\",\"Sub-Saharan Africa\",\"East Asia & Pacific\",\"Middle East & North Africa\",\"Europe & Central Asia\",\"Middle East & North Africa\",\"Sub-Saharan Africa\",\"Sub-Saharan Africa\",\"Middle East & North Africa\",\"Europe & Central Asia\",\"Europe & Central Asia\",\"Europe & Central Asia\",\"Sub-Saharan Africa\",\"Sub-Saharan Africa\",\"East Asia & Pacific\",\"South Asia\",\"Sub-Saharan Africa\",\"Europe & Central Asia\",\"East Asia & Pacific\",\"Sub-Saharan Africa\",\"Sub-Saharan Africa\",\"America\",\"East Asia & Pacific\",\"Europe & Central Asia\",\"East Asia & Pacific\",\"Europe & Central Asia\",\"Middle East & North Africa\",\"Sub-Saharan Africa\",\"East Asia & Pacific\",\"Sub-Saharan Africa\",\"South Asia\",\"Europe & Central Asia\",\"East Asia & Pacific\",\"America\",\"Sub-Saharan Africa\",\"Sub-Saharan Africa\",\"Europe & Central Asia\",\"Middle East & North Africa\",\"South Asia\",\"America\",\"East Asia & Pacific\",\"America\",\"America\",\"East Asia & Pacific\",\"Europe & Central Asia\",\"Europe & Central Asia\",\"Middle East & North Africa\",\"Europe & Central Asia\",\"Europe & Central Asia\",\"Sub-Saharan Africa\",\"East Asia & Pacific\",\"Sub-Saharan Africa\",\"Middle East & North Africa\",\"Sub-Saharan Africa\",\"Europe & Central Asia\",\"Sub-Saharan Africa\",\"Sub-Saharan Africa\",\"East Asia & Pacific\",\"Europe & Central Asia\",\"Europe & Central Asia\",\"East Asia & Pacific\",\"Sub-Saharan Africa\",\"Sub-Saharan Africa\",\"Sub-Saharan Africa\",\"Europe & Central Asia\",\"South Asia\",\"Sub-Saharan Africa\",\"America\",\"Sub-Saharan Africa\",\"Europe & Central Asia\",\"Europe & Central Asia\",\"Middle East & North Africa\",\"East Asia & Pacific\",\"Europe & Central Asia\",\"Sub-Saharan Africa\",\"East Asia & Pacific\",\"East Asia & Pacific\",\"Sub-Saharan Africa\",\"East Asia & Pacific\",\"America\",\"Middle East & North Africa\",\"Europe & Central Asia\",\"Europe & Central Asia\",\"Sub-Saharan Africa\",\"Europe & Central Asia\",\"Middle East & North Africa\",\"Europe & Central Asia\",\"America\",\"America\",\"Europe & Central Asia\",\"East Asia & Pacific\",\"America\",\"East Asia & Pacific\",\"Middle East & North Africa\",\"Sub-Saharan Africa\",\"Sub-Saharan Africa\"],\"x\":[1637.0,9374.0,12494.0,38982.0,7047.0,20567.0,15765.0,6508.0,41330.0,42861.0,15950.0,22915.0,40553.0,2459.0,15297.0,15703.0,40764.0,8209.0,1637.0,6516.0,5279.0,9145.0,13642.0,14660.0,70636.0,14886.0,1431.0,725.0,2513.0,2571.0,40773.0,6005.0,1953.0,19204.0,9430.0,10777.0,1426.0,632.0,5533.0,12322.0,2892.0,19989.0,18477.0,33747.0,42997.0,2665.0,10375.0,9311.0,10615.0,7237.0,34431.0,1083.0,21710.0,1081.0,7098.0,39425.0,36745.0,15982.0,1667.0,5938.0,40632.0,3091.0,29190.0,11178.0,6849.0,1185.0,1368.0,5542.0,1518.0,4270.0,22062.0,38809.0,4547.0,8498.0,16980.0,12330.0,43860.0,29509.0,35753.0,8370.0,34404.0,11256.0,19601.0,2503.0,1729.0,75365.0,18148.0,16263.0,2235.0,689.0,30261.0,20758.0,91147.0,11179.0,1390.0,737.0,20398.0,11674.0,1664.0,27906.0,3514.0,3299.0,15599.0,15460.0,3337.0,3925.0,7708.0,13656.0,6466.0,930.0,3077.0,8433.0,1999.0,45843.0,31824.0,3966.0,841.0,5114.0,62946.0,49188.0,4220.0,14921.0,2163.0,7008.0,9915.0,5614.0,21328.0,27393.0,127984.0,16888.0,21664.0,1262.0,5405.0,2743.0,45598.0,2182.0,12301.0,20364.0,1347.0,72056.0,24438.0,28377.0,1787.0,614.0,12087.0,3838.0,32994.0,7572.0,3282.0,14325.0,5862.0,42898.0,54183.0,6603.0,39085.0,2110.0,2143.0,12822.0,1777.0,1246.0,4945.0,29321.0,10411.0,16674.0,10032.0,1515.0,7844.0,56644.0,36240.0,49373.0,17095.0,4185.0,2948.0,16536.0,4486.0,4163.0,3451.0,1484.0],\"y\":[54.8,75.2,75.9,83.7,59.4,75.2,75.8,72.9,81.7,80.5,71.4,72.4,78.2,68.6,75.4,70.2,79.8,70.1,64.0,68.3,71.3,76.5,64.5,74.2,78.5,73.6,60.7,58.7,66.9,57.5,81.1,73.4,56.2,78.8,75.9,75.3,63.0,56.3,60.3,79.6,57.2,77.2,78.0,81.6,79.3,61.8,74.4,74.2,70.3,73.8,57.2,61.0,75.8,61.0,65.9,80.0,81.2,57.5,63.0,72.4,80.2,63.5,79.6,71.2,70.8,59.1,52.0,63.3,37.0,71.3,74.7,82.5,65.1,69.8,77.9,68.3,79.9,81.5,81.9,75.5,83.0,77.6,67.1,63.1,61.5,79.1,74.0,78.0,47.4,61.7,75.6,73.9,81.0,75.8,63.8,53.8,74.3,78.9,56.5,81.8,64.1,64.2,72.4,75.7,66.4,70.2,63.8,75.2,73.7,55.7,66.0,59.5,69.5,80.5,80.5,75.8,60.7,58.8,80.9,75.0,64.7,77.2,58.7,73.4,76.8,69.7,76.1,79.5,81.3,74.0,68.7,63.7,71.6,67.6,77.7,65.0,77.0,72.8,56.5,81.5,75.5,79.5,63.0,56.9,56.7,56.5,81.6,75.7,68.0,69.5,47.8,81.5,82.3,76.7,78.8,69.9,60.9,74.6,69.8,61.0,70.1,71.1,76.8,75.7,66.6,58.4,70.4,76.2,80.0,78.5,76.5,69.1,64.0,74.7,75.8,74.0,54.1,50.4]}},\"id\":\"c8597acd-6aec-4783-bbe8-8018e9a98f7d\",\"type\":\"ColumnDataSource\"},{\"attributes\":{\"callback\":null,\"end\":100},\"id\":\"5d1b099b-4e5f-48e9-b5b8-3e1fa51e72c4\",\"type\":\"Range1d\"},{\"attributes\":{\"data\":null,\"x\":[1548.0,1376048943.0],\"y\":[5,50]},\"id\":\"6ff5d0d2-fb9a-4e00-a172-77dcc8abf550\",\"type\":\"LinearInterpolator\"},{\"attributes\":{\"below\":[{\"id\":\"9a923e93-510c-4209-9cae-46bec3bcb9fc\",\"type\":\"LogAxis\"}],\"left\":[{\"id\":\"75084b0c-68ad-4bb2-a922-beec71fc9b8b\",\"type\":\"LinearAxis\"}],\"plot_height\":400,\"renderers\":[{\"id\":\"9a923e93-510c-4209-9cae-46bec3bcb9fc\",\"type\":\"LogAxis\"},{\"id\":\"b02132da-5580-4715-a792-532587aaef69\",\"type\":\"Grid\"},{\"id\":\"75084b0c-68ad-4bb2-a922-beec71fc9b8b\",\"type\":\"LinearAxis\"},{\"id\":\"663f9ca9-9635-488b-8329-df2fd7607826\",\"type\":\"Grid\"},{\"id\":\"a62d7b03-7352-4691-93bc-8b07539a7251\",\"type\":\"Legend\"},{\"id\":\"3297c663-fad1-4c8e-9a10-55dc0a630ad5\",\"type\":\"GlyphRenderer\"}],\"right\":[{\"id\":\"a62d7b03-7352-4691-93bc-8b07539a7251\",\"type\":\"Legend\"}],\"title\":{\"id\":\"2650af80-b2fc-4f18-a785-3c9b15c34f50\",\"type\":\"Title\"},\"tool_events\":{\"id\":\"14cc2c7f-21a4-4f8d-9235-e5d98ce3e8f7\",\"type\":\"ToolEvents\"},\"toolbar\":{\"id\":\"bd036aaf-2c6f-4bc1-a9c3-edb9c70d51ba\",\"type\":\"Toolbar\"},\"toolbar_location\":\"above\",\"x_mapper_type\":\"log\",\"x_range\":{\"id\":\"24d5ff8a-da80-4c32-82be-1e9b342b8ad0\",\"type\":\"Range1d\"},\"y_range\":{\"id\":\"5d1b099b-4e5f-48e9-b5b8-3e1fa51e72c4\",\"type\":\"Range1d\"}},\"id\":\"eacf6443-f053-4c81-b8b6-15b2496ac642\",\"subtype\":\"Figure\",\"type\":\"Plot\"},{\"attributes\":{},\"id\":\"b06f77c4-128c-4052-80a6-979a44392c2b\",\"type\":\"BasicTickFormatter\"},{\"attributes\":{},\"id\":\"ff795408-2782-41d1-a834-31447bf5ad33\",\"type\":\"BasicTicker\"},{\"attributes\":{\"factors\":[\"South Asia\",\"Europe & Central Asia\",\"Middle East & North Africa\",\"Sub-Saharan Africa\",\"America\",\"East Asia & Pacific\"],\"palette\":[\"#3288bd\",\"#99d594\",\"#e6f598\",\"#fee08b\",\"#fc8d59\",\"#d53e4f\"]},\"id\":\"7d9cbae1-8031-46b1-a851-3e49cc501809\",\"type\":\"CategoricalColorMapper\"},{\"attributes\":{},\"id\":\"14cc2c7f-21a4-4f8d-9235-e5d98ce3e8f7\",\"type\":\"ToolEvents\"}],\"root_ids\":[\"eacf6443-f053-4c81-b8b6-15b2496ac642\"]},\"title\":\"Bokeh Application\",\"version\":\"0.12.3dev3\"}};\n",
       "            var render_items = [{\"docid\":\"cd7129bd-b601-43a3-8078-435f32a27c0f\",\"elementid\":\"12ec810d-6fda-42fd-85a8-be9bfa34f734\",\"modelid\":\"eacf6443-f053-4c81-b8b6-15b2496ac642\"}];\n",
       "            \n",
       "            Bokeh.embed.embed_items(docs_json, render_items);\n",
       "        });\n",
       "      },\n",
       "      function(Bokeh) {\n",
       "      }\n",
       "    ];\n",
       "  \n",
       "    function run_inline_js() {\n",
       "      \n",
       "      if ((window.Bokeh !== undefined) || (force === \"1\")) {\n",
       "        for (var i = 0; i < inline_js.length; i++) {\n",
       "          inline_js[i](window.Bokeh);\n",
       "        }if (force === \"1\") {\n",
       "          display_loaded();\n",
       "        }} else if (Date.now() < window._bokeh_timeout) {\n",
       "        setTimeout(run_inline_js, 100);\n",
       "      } else if (!window._bokeh_failed_load) {\n",
       "        console.log(\"Bokeh: BokehJS failed to load within specified timeout.\");\n",
       "        window._bokeh_failed_load = true;\n",
       "      } else if (!force) {\n",
       "        var cell = $(\"#12ec810d-6fda-42fd-85a8-be9bfa34f734\").parents('.cell').data().cell;\n",
       "        cell.output_area.append_execute_result(NB_LOAD_WARNING)\n",
       "      }\n",
       "  \n",
       "    }\n",
       "  \n",
       "    if (window._bokeh_is_loading === 0) {\n",
       "      console.log(\"Bokeh: BokehJS loaded, going straight to plotting\");\n",
       "      run_inline_js();\n",
       "    } else {\n",
       "      load_libs(js_urls, function() {\n",
       "        console.log(\"Bokeh: BokehJS plotting callback run at\", now());\n",
       "        run_inline_js();\n",
       "      });\n",
       "    }\n",
       "  }(this));\n",
       "</script>"
      ]
     },
     "metadata": {},
     "output_type": "display_data"
    }
   ],
   "source": [
    "from bokeh.models import LinearInterpolator, CategoricalColorMapper\n",
    "\n",
    "\n",
    "size_mapper = LinearInterpolator(\n",
    "    x=[data.population.min(), data.population.max()],\n",
    "    y=[5, 50]\n",
    ")\n",
    "color_mapper = CategoricalColorMapper(\n",
    "    factors=list(data.region.unique()),\n",
    "    palette=Spectral6,\n",
    ")\n",
    "\n",
    "p = figure(\n",
    "    title=str(2010), toolbar_location='above',\n",
    "    tools=[HoverTool(tooltips='@country', show_arrow=False)], \n",
    "    **PLOT_OPTS)\n",
    "p.circle(\n",
    "    x='x', y='y', \n",
    "    size={'field': 'population', 'transform': size_mapper}, \n",
    "    color={'field': 'region', 'transform': color_mapper},\n",
    "    alpha=0.6,  \n",
    "    source=source,\n",
    "    legend='region'\n",
    ")\n",
    "p.legend.border_line_color = None\n",
    "p.legend.location = (0, -50)\n",
    "p.right.append(p.legend[0])\n",
    "show(p)"
   ]
  },
  {
   "cell_type": "code",
   "execution_count": 39,
   "metadata": {
    "collapsed": false
   },
   "outputs": [
    {
     "data": {
      "text/plain": [
       "[<bokeh.models.axes.LogAxis at 0x10e790f28>]"
      ]
     },
     "execution_count": 39,
     "metadata": {},
     "output_type": "execute_result"
    }
   ],
   "source": [
    "p.below"
   ]
  },
  {
   "cell_type": "code",
   "execution_count": null,
   "metadata": {
    "collapsed": true
   },
   "outputs": [],
   "source": []
  },
  {
   "cell_type": "code",
   "execution_count": null,
   "metadata": {
    "collapsed": true
   },
   "outputs": [],
   "source": []
  }
 ],
 "metadata": {
  "kernelspec": {
   "display_name": "Python 3",
   "language": "python",
   "name": "python3"
  },
  "language_info": {
   "codemirror_mode": {
    "name": "ipython",
    "version": 3
   },
   "file_extension": ".py",
   "mimetype": "text/x-python",
   "name": "python",
   "nbconvert_exporter": "python",
   "pygments_lexer": "ipython3",
   "version": "3.5.2"
  }
 },
 "nbformat": 4,
 "nbformat_minor": 1
}
