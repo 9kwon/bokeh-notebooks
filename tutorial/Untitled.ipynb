{
 "cells": [
  {
   "cell_type": "code",
   "execution_count": 1,
   "metadata": {
    "collapsed": true
   },
   "outputs": [],
   "source": [
    "import pandas as pd"
   ]
  },
  {
   "cell_type": "code",
   "execution_count": 2,
   "metadata": {
    "collapsed": true
   },
   "outputs": [],
   "source": [
    "data = pd.read_csv('assets/gapminder.csv', thousands=',', index_col='Year')"
   ]
  },
  {
   "cell_type": "code",
   "execution_count": 3,
   "metadata": {
    "collapsed": false
   },
   "outputs": [
    {
     "data": {
      "text/html": [
       "<div>\n",
       "<table border=\"1\" class=\"dataframe\">\n",
       "  <thead>\n",
       "    <tr style=\"text-align: right;\">\n",
       "      <th></th>\n",
       "      <th>Country</th>\n",
       "      <th>life</th>\n",
       "      <th>population</th>\n",
       "      <th>income</th>\n",
       "      <th>region</th>\n",
       "    </tr>\n",
       "    <tr>\n",
       "      <th>Year</th>\n",
       "      <th></th>\n",
       "      <th></th>\n",
       "      <th></th>\n",
       "      <th></th>\n",
       "      <th></th>\n",
       "    </tr>\n",
       "  </thead>\n",
       "  <tbody>\n",
       "    <tr>\n",
       "      <th>1800</th>\n",
       "      <td>Afghanistan</td>\n",
       "      <td>28.211000</td>\n",
       "      <td>3280000.0</td>\n",
       "      <td>603.0</td>\n",
       "      <td>South Asia</td>\n",
       "    </tr>\n",
       "    <tr>\n",
       "      <th>1801</th>\n",
       "      <td>Afghanistan</td>\n",
       "      <td>28.200753</td>\n",
       "      <td>NaN</td>\n",
       "      <td>603.0</td>\n",
       "      <td>South Asia</td>\n",
       "    </tr>\n",
       "    <tr>\n",
       "      <th>1802</th>\n",
       "      <td>Afghanistan</td>\n",
       "      <td>28.190507</td>\n",
       "      <td>NaN</td>\n",
       "      <td>603.0</td>\n",
       "      <td>South Asia</td>\n",
       "    </tr>\n",
       "    <tr>\n",
       "      <th>1803</th>\n",
       "      <td>Afghanistan</td>\n",
       "      <td>28.180260</td>\n",
       "      <td>NaN</td>\n",
       "      <td>603.0</td>\n",
       "      <td>South Asia</td>\n",
       "    </tr>\n",
       "    <tr>\n",
       "      <th>1804</th>\n",
       "      <td>Afghanistan</td>\n",
       "      <td>28.170013</td>\n",
       "      <td>NaN</td>\n",
       "      <td>603.0</td>\n",
       "      <td>South Asia</td>\n",
       "    </tr>\n",
       "  </tbody>\n",
       "</table>\n",
       "</div>"
      ],
      "text/plain": [
       "          Country       life  population  income      region\n",
       "Year                                                        \n",
       "1800  Afghanistan  28.211000   3280000.0   603.0  South Asia\n",
       "1801  Afghanistan  28.200753         NaN   603.0  South Asia\n",
       "1802  Afghanistan  28.190507         NaN   603.0  South Asia\n",
       "1803  Afghanistan  28.180260         NaN   603.0  South Asia\n",
       "1804  Afghanistan  28.170013         NaN   603.0  South Asia"
      ]
     },
     "execution_count": 3,
     "metadata": {},
     "output_type": "execute_result"
    }
   ],
   "source": [
    "data.head()"
   ]
  },
  {
   "cell_type": "code",
   "execution_count": 11,
   "metadata": {
    "collapsed": false
   },
   "outputs": [
    {
     "data": {
      "text/html": [
       "\n",
       "    <div class=\"bk-root\">\n",
       "        <a href=\"http://bokeh.pydata.org\" target=\"_blank\" class=\"bk-logo bk-logo-small bk-logo-notebook\"></a>\n",
       "        <span id=\"e75f5251-e3ca-4f58-aa77-857006e467a1\">Loading BokehJS ...</span>\n",
       "    </div>"
      ]
     },
     "metadata": {},
     "output_type": "display_data"
    },
    {
     "data": {
      "application/javascript": [
       "\n",
       "(function(global) {\n",
       "  function now() {\n",
       "    return new Date();\n",
       "  }\n",
       "\n",
       "  var force = \"1\";\n",
       "\n",
       "  if (typeof (window._bokeh_onload_callbacks) === \"undefined\" || force !== \"\") {\n",
       "    window._bokeh_onload_callbacks = [];\n",
       "    window._bokeh_is_loading = undefined;\n",
       "  }\n",
       "\n",
       "\n",
       "  \n",
       "  if (typeof (window._bokeh_timeout) === \"undefined\" || force !== \"\") {\n",
       "    window._bokeh_timeout = Date.now() + 5000;\n",
       "    window._bokeh_failed_load = false;\n",
       "  }\n",
       "\n",
       "  var NB_LOAD_WARNING = {'data': {'text/html':\n",
       "     \"<div style='background-color: #fdd'>\\n\"+\n",
       "     \"<p>\\n\"+\n",
       "     \"BokehJS does not appear to have successfully loaded. If loading BokehJS from CDN, this \\n\"+\n",
       "     \"may be due to a slow or bad network connection. Possible fixes:\\n\"+\n",
       "     \"</p>\\n\"+\n",
       "     \"<ul>\\n\"+\n",
       "     \"<li>re-rerun `output_notebook()` to attempt to load from CDN again, or</li>\\n\"+\n",
       "     \"<li>use INLINE resources instead, as so:</li>\\n\"+\n",
       "     \"</ul>\\n\"+\n",
       "     \"<code>\\n\"+\n",
       "     \"from bokeh.resources import INLINE\\n\"+\n",
       "     \"output_notebook(resources=INLINE)\\n\"+\n",
       "     \"</code>\\n\"+\n",
       "     \"</div>\"}};\n",
       "\n",
       "  function display_loaded() {\n",
       "    if (window.Bokeh !== undefined) {\n",
       "      Bokeh.$(\"#e75f5251-e3ca-4f58-aa77-857006e467a1\").text(\"BokehJS successfully loaded.\");\n",
       "    } else if (Date.now() < window._bokeh_timeout) {\n",
       "      setTimeout(display_loaded, 100)\n",
       "    }\n",
       "  }\n",
       "\n",
       "  function run_callbacks() {\n",
       "    window._bokeh_onload_callbacks.forEach(function(callback) { callback() });\n",
       "    delete window._bokeh_onload_callbacks\n",
       "    console.info(\"Bokeh: all callbacks have finished\");\n",
       "  }\n",
       "\n",
       "  function load_libs(js_urls, callback) {\n",
       "    window._bokeh_onload_callbacks.push(callback);\n",
       "    if (window._bokeh_is_loading > 0) {\n",
       "      console.log(\"Bokeh: BokehJS is being loaded, scheduling callback at\", now());\n",
       "      return null;\n",
       "    }\n",
       "    if (js_urls == null || js_urls.length === 0) {\n",
       "      run_callbacks();\n",
       "      return null;\n",
       "    }\n",
       "    console.log(\"Bokeh: BokehJS not loaded, scheduling load and callback at\", now());\n",
       "    window._bokeh_is_loading = js_urls.length;\n",
       "    for (var i = 0; i < js_urls.length; i++) {\n",
       "      var url = js_urls[i];\n",
       "      var s = document.createElement('script');\n",
       "      s.src = url;\n",
       "      s.async = false;\n",
       "      s.onreadystatechange = s.onload = function() {\n",
       "        window._bokeh_is_loading--;\n",
       "        if (window._bokeh_is_loading === 0) {\n",
       "          console.log(\"Bokeh: all BokehJS libraries loaded\");\n",
       "          run_callbacks()\n",
       "        }\n",
       "      };\n",
       "      s.onerror = function() {\n",
       "        console.warn(\"failed to load library \" + url);\n",
       "      };\n",
       "      console.log(\"Bokeh: injecting script tag for BokehJS library: \", url);\n",
       "      document.getElementsByTagName(\"head\")[0].appendChild(s);\n",
       "    }\n",
       "  };var element = document.getElementById(\"e75f5251-e3ca-4f58-aa77-857006e467a1\");\n",
       "  if (element == null) {\n",
       "    console.log(\"Bokeh: ERROR: autoload.js configured with elementid 'e75f5251-e3ca-4f58-aa77-857006e467a1' but no matching script tag was found. \")\n",
       "    return false;\n",
       "  }\n",
       "\n",
       "  var js_urls = ['https://cdn.pydata.org/bokeh/dev/bokeh-0.12.3dev3.min.js', 'https://cdn.pydata.org/bokeh/dev/bokeh-widgets-0.12.3dev3.min.js'];\n",
       "\n",
       "  var inline_js = [\n",
       "    function(Bokeh) {\n",
       "      Bokeh.set_log_level(\"info\");\n",
       "    },\n",
       "    \n",
       "    function(Bokeh) {\n",
       "      \n",
       "      Bokeh.$(\"#e75f5251-e3ca-4f58-aa77-857006e467a1\").text(\"BokehJS is loading...\");\n",
       "    },\n",
       "    function(Bokeh) {\n",
       "      console.log(\"Bokeh: injecting CSS: https://cdn.pydata.org/bokeh/dev/bokeh-0.12.3dev3.min.css\");\n",
       "      Bokeh.embed.inject_css(\"https://cdn.pydata.org/bokeh/dev/bokeh-0.12.3dev3.min.css\");\n",
       "      console.log(\"Bokeh: injecting CSS: https://cdn.pydata.org/bokeh/dev/bokeh-widgets-0.12.3dev3.min.css\");\n",
       "      Bokeh.embed.inject_css(\"https://cdn.pydata.org/bokeh/dev/bokeh-widgets-0.12.3dev3.min.css\");\n",
       "    }\n",
       "  ];\n",
       "\n",
       "  function run_inline_js() {\n",
       "    \n",
       "    if ((window.Bokeh !== undefined) || (force === \"1\")) {\n",
       "      for (var i = 0; i < inline_js.length; i++) {\n",
       "        inline_js[i](window.Bokeh);\n",
       "      }if (force === \"1\") {\n",
       "        display_loaded();\n",
       "      }} else if (Date.now() < window._bokeh_timeout) {\n",
       "      setTimeout(run_inline_js, 100);\n",
       "    } else if (!window._bokeh_failed_load) {\n",
       "      console.log(\"Bokeh: BokehJS failed to load within specified timeout.\");\n",
       "      window._bokeh_failed_load = true;\n",
       "    } else if (!force) {\n",
       "      var cell = $(\"#e75f5251-e3ca-4f58-aa77-857006e467a1\").parents('.cell').data().cell;\n",
       "      cell.output_area.append_execute_result(NB_LOAD_WARNING)\n",
       "    }\n",
       "\n",
       "  }\n",
       "\n",
       "  if (window._bokeh_is_loading === 0) {\n",
       "    console.log(\"Bokeh: BokehJS loaded, going straight to plotting\");\n",
       "    run_inline_js();\n",
       "  } else {\n",
       "    load_libs(js_urls, function() {\n",
       "      console.log(\"Bokeh: BokehJS plotting callback run at\", now());\n",
       "      run_inline_js();\n",
       "    });\n",
       "  }\n",
       "}(this));"
      ]
     },
     "metadata": {},
     "output_type": "display_data"
    }
   ],
   "source": [
    "from bokeh.io import output_notebook\n",
    "output_notebook()"
   ]
  },
  {
   "cell_type": "code",
   "execution_count": 5,
   "metadata": {
    "collapsed": true
   },
   "outputs": [],
   "source": [
    "from bokeh.io import show\n",
    "from bokeh.plotting import figure"
   ]
  },
  {
   "cell_type": "code",
   "execution_count": null,
   "metadata": {
    "collapsed": false
   },
   "outputs": [],
   "source": [
    "p = figure(\n",
    "    height=200, x_axis_type='log',\n",
    "    x_range=(100, 100000), y_range=(0, 100),\n",
    ")\n",
    "p.circle(x=data.loc[2010].income, y=data.loc[2010].life, color='pink')\n",
    "show(p)"
   ]
  },
  {
   "cell_type": "code",
   "execution_count": null,
   "metadata": {
    "collapsed": false
   },
   "outputs": [],
   "source": [
    "from bokeh.models import NumeralTickFormatter\n",
    "p = figure(\n",
    "    height=200, x_axis_type='log',\n",
    "    x_range=(100, 100000), y_range=(0, 100),\n",
    ")\n",
    "p.circle(x=data.loc[2010].income, y=data.loc[2010].life, color='pink')\n",
    "p.xaxis[0].formatter = NumeralTickFormatter(format=\"$0,\")\n",
    "show(p)"
   ]
  },
  {
   "cell_type": "code",
   "execution_count": null,
   "metadata": {
    "collapsed": true
   },
   "outputs": [],
   "source": [
    "from bokeh.models import ColumnDataSource\n",
    "source = ColumnDataSource(dict(\n",
    "    x=data.loc[2010].income,\n",
    "    y=data.loc[2010].life,\n",
    "    country=data.loc[2010].Country\n",
    "    ))"
   ]
  },
  {
   "cell_type": "code",
   "execution_count": null,
   "metadata": {
    "collapsed": false
   },
   "outputs": [],
   "source": [
    "ColumnDataSource(data.loc[2010])"
   ]
  },
  {
   "cell_type": "code",
   "execution_count": 35,
   "metadata": {
    "collapsed": false
   },
   "outputs": [],
   "source": [
    "PLOT_OPTS = dict(\n",
    "    height=400, x_axis_type='log',\n",
    "    x_range=(100, 100000), y_range=(0, 100),\n",
    ")"
   ]
  },
  {
   "cell_type": "code",
   "execution_count": 15,
   "metadata": {
    "collapsed": false
   },
   "outputs": [
    {
     "ename": "TypeError",
     "evalue": "figure() got multiple values for keyword argument 'tools'",
     "output_type": "error",
     "traceback": [
      "\u001b[0;31m---------------------------------------------------------------------------\u001b[0m",
      "\u001b[0;31mTypeError\u001b[0m                                 Traceback (most recent call last)",
      "\u001b[0;32m<ipython-input-15-b869d6ce7ee5>\u001b[0m in \u001b[0;36m<module>\u001b[0;34m()\u001b[0m\n\u001b[1;32m      1\u001b[0m \u001b[0;32mfrom\u001b[0m \u001b[0mbokeh\u001b[0m\u001b[0;34m.\u001b[0m\u001b[0mmodels\u001b[0m \u001b[0;32mimport\u001b[0m \u001b[0mHoverTool\u001b[0m\u001b[0;34m\u001b[0m\u001b[0m\n\u001b[1;32m      2\u001b[0m \u001b[0mhover\u001b[0m \u001b[0;34m=\u001b[0m \u001b[0mHoverTool\u001b[0m\u001b[0;34m(\u001b[0m\u001b[0mtooltips\u001b[0m\u001b[0;34m=\u001b[0m\u001b[0;34m'@country'\u001b[0m\u001b[0;34m,\u001b[0m \u001b[0mshow_arrow\u001b[0m\u001b[0;34m=\u001b[0m\u001b[0;32mFalse\u001b[0m\u001b[0;34m)\u001b[0m\u001b[0;34m\u001b[0m\u001b[0m\n\u001b[0;32m----> 3\u001b[0;31m \u001b[0mp\u001b[0m \u001b[0;34m=\u001b[0m \u001b[0mfigure\u001b[0m\u001b[0;34m(\u001b[0m\u001b[0mtools\u001b[0m\u001b[0;34m=\u001b[0m\u001b[0;34m[\u001b[0m\u001b[0mhover\u001b[0m\u001b[0;34m]\u001b[0m\u001b[0;34m,\u001b[0m \u001b[0;34m**\u001b[0m\u001b[0mPLOT_OPTS\u001b[0m\u001b[0;34m)\u001b[0m\u001b[0;34m\u001b[0m\u001b[0m\n\u001b[0m\u001b[1;32m      4\u001b[0m \u001b[0mp\u001b[0m\u001b[0;34m.\u001b[0m\u001b[0mcircle\u001b[0m\u001b[0;34m(\u001b[0m\u001b[0mx\u001b[0m\u001b[0;34m=\u001b[0m\u001b[0;34m'x'\u001b[0m\u001b[0;34m,\u001b[0m \u001b[0my\u001b[0m\u001b[0;34m=\u001b[0m\u001b[0;34m'y'\u001b[0m\u001b[0;34m,\u001b[0m \u001b[0msize\u001b[0m\u001b[0;34m=\u001b[0m\u001b[0;36m20\u001b[0m\u001b[0;34m,\u001b[0m \u001b[0malpha\u001b[0m\u001b[0;34m=\u001b[0m\u001b[0;36m0.6\u001b[0m\u001b[0;34m,\u001b[0m  \u001b[0msource\u001b[0m\u001b[0;34m=\u001b[0m\u001b[0msource\u001b[0m\u001b[0;34m)\u001b[0m\u001b[0;34m\u001b[0m\u001b[0m\n\u001b[1;32m      5\u001b[0m \u001b[0mshow\u001b[0m\u001b[0;34m(\u001b[0m\u001b[0mp\u001b[0m\u001b[0;34m)\u001b[0m\u001b[0;34m\u001b[0m\u001b[0m\n",
      "\u001b[0;31mTypeError\u001b[0m: figure() got multiple values for keyword argument 'tools'"
     ]
    }
   ],
   "source": [
    "from bokeh.models import HoverTool\n",
    "hover = HoverTool(tooltips='@country', show_arrow=False)\n",
    "p = figure(tools=[hover], **PLOT_OPTS)\n",
    "p.circle(x='x', y='y', size=20, alpha=0.6,  source=source)\n",
    "show(p)"
   ]
  },
  {
   "cell_type": "code",
   "execution_count": 8,
   "metadata": {
    "collapsed": false
   },
   "outputs": [
    {
     "data": {
      "text/plain": [
       "['region', 'x', 'population', 'y', 'country']"
      ]
     },
     "execution_count": 8,
     "metadata": {},
     "output_type": "execute_result"
    }
   ],
   "source": [
    "from bokeh.models import ColumnDataSource\n",
    "source = ColumnDataSource(dict(\n",
    "    x=data.loc[2010].income,\n",
    "    y=data.loc[2010].life,\n",
    "    country=data.loc[2010].Country,\n",
    "    population=data.loc[2010].population,\n",
    "    region=data.loc[2010].region\n",
    "))\n",
    "source.column_names"
   ]
  },
  {
   "cell_type": "code",
   "execution_count": 30,
   "metadata": {
    "collapsed": false
   },
   "outputs": [
    {
     "data": {
      "text/plain": [
       "['South Asia',\n",
       " 'Europe & Central Asia',\n",
       " 'Middle East & North Africa',\n",
       " 'Sub-Saharan Africa',\n",
       " 'America',\n",
       " 'East Asia & Pacific']"
      ]
     },
     "execution_count": 30,
     "metadata": {},
     "output_type": "execute_result"
    }
   ],
   "source": [
    "list(data.region.unique())"
   ]
  },
  {
   "cell_type": "code",
   "execution_count": 31,
   "metadata": {
    "collapsed": false
   },
   "outputs": [
    {
     "data": {
      "text/plain": [
       "['#3288bd', '#99d594', '#e6f598', '#fee08b', '#fc8d59', '#d53e4f']"
      ]
     },
     "execution_count": 31,
     "metadata": {},
     "output_type": "execute_result"
    }
   ],
   "source": [
    "from bokeh.palettes import Spectral6\n",
    "Spectral6"
   ]
  },
  {
   "cell_type": "code",
   "execution_count": 48,
   "metadata": {
    "collapsed": false,
    "scrolled": false
   },
   "outputs": [
    {
     "data": {
      "text/html": [
       "\n",
       "\n",
       "    <div class=\"bk-root\">\n",
       "        <div class=\"plotdiv\" id=\"fda6bf94-9461-4a08-b747-471257c9841a\"></div>\n",
       "    </div>\n",
       "<script type=\"text/javascript\">\n",
       "  \n",
       "  (function(global) {\n",
       "    function now() {\n",
       "      return new Date();\n",
       "    }\n",
       "  \n",
       "    var force = \"\";\n",
       "  \n",
       "    if (typeof (window._bokeh_onload_callbacks) === \"undefined\" || force !== \"\") {\n",
       "      window._bokeh_onload_callbacks = [];\n",
       "      window._bokeh_is_loading = undefined;\n",
       "    }\n",
       "  \n",
       "  \n",
       "    \n",
       "    if (typeof (window._bokeh_timeout) === \"undefined\" || force !== \"\") {\n",
       "      window._bokeh_timeout = Date.now() + 0;\n",
       "      window._bokeh_failed_load = false;\n",
       "    }\n",
       "  \n",
       "    var NB_LOAD_WARNING = {'data': {'text/html':\n",
       "       \"<div style='background-color: #fdd'>\\n\"+\n",
       "       \"<p>\\n\"+\n",
       "       \"BokehJS does not appear to have successfully loaded. If loading BokehJS from CDN, this \\n\"+\n",
       "       \"may be due to a slow or bad network connection. Possible fixes:\\n\"+\n",
       "       \"</p>\\n\"+\n",
       "       \"<ul>\\n\"+\n",
       "       \"<li>re-rerun `output_notebook()` to attempt to load from CDN again, or</li>\\n\"+\n",
       "       \"<li>use INLINE resources instead, as so:</li>\\n\"+\n",
       "       \"</ul>\\n\"+\n",
       "       \"<code>\\n\"+\n",
       "       \"from bokeh.resources import INLINE\\n\"+\n",
       "       \"output_notebook(resources=INLINE)\\n\"+\n",
       "       \"</code>\\n\"+\n",
       "       \"</div>\"}};\n",
       "  \n",
       "    function display_loaded() {\n",
       "      if (window.Bokeh !== undefined) {\n",
       "        Bokeh.$(\"#fda6bf94-9461-4a08-b747-471257c9841a\").text(\"BokehJS successfully loaded.\");\n",
       "      } else if (Date.now() < window._bokeh_timeout) {\n",
       "        setTimeout(display_loaded, 100)\n",
       "      }\n",
       "    }if ((window.Jupyter !== undefined) && Jupyter.notebook.kernel) {\n",
       "      comm_manager = Jupyter.notebook.kernel.comm_manager\n",
       "      comm_manager.register_target(\"4a323d7c-9672-4099-af95-f9ffcbe6338d\", function () {});\n",
       "    }\n",
       "  \n",
       "    function run_callbacks() {\n",
       "      window._bokeh_onload_callbacks.forEach(function(callback) { callback() });\n",
       "      delete window._bokeh_onload_callbacks\n",
       "      console.info(\"Bokeh: all callbacks have finished\");\n",
       "    }\n",
       "  \n",
       "    function load_libs(js_urls, callback) {\n",
       "      window._bokeh_onload_callbacks.push(callback);\n",
       "      if (window._bokeh_is_loading > 0) {\n",
       "        console.log(\"Bokeh: BokehJS is being loaded, scheduling callback at\", now());\n",
       "        return null;\n",
       "      }\n",
       "      if (js_urls == null || js_urls.length === 0) {\n",
       "        run_callbacks();\n",
       "        return null;\n",
       "      }\n",
       "      console.log(\"Bokeh: BokehJS not loaded, scheduling load and callback at\", now());\n",
       "      window._bokeh_is_loading = js_urls.length;\n",
       "      for (var i = 0; i < js_urls.length; i++) {\n",
       "        var url = js_urls[i];\n",
       "        var s = document.createElement('script');\n",
       "        s.src = url;\n",
       "        s.async = false;\n",
       "        s.onreadystatechange = s.onload = function() {\n",
       "          window._bokeh_is_loading--;\n",
       "          if (window._bokeh_is_loading === 0) {\n",
       "            console.log(\"Bokeh: all BokehJS libraries loaded\");\n",
       "            run_callbacks()\n",
       "          }\n",
       "        };\n",
       "        s.onerror = function() {\n",
       "          console.warn(\"failed to load library \" + url);\n",
       "        };\n",
       "        console.log(\"Bokeh: injecting script tag for BokehJS library: \", url);\n",
       "        document.getElementsByTagName(\"head\")[0].appendChild(s);\n",
       "      }\n",
       "    };var element = document.getElementById(\"fda6bf94-9461-4a08-b747-471257c9841a\");\n",
       "    if (element == null) {\n",
       "      console.log(\"Bokeh: ERROR: autoload.js configured with elementid 'fda6bf94-9461-4a08-b747-471257c9841a' but no matching script tag was found. \")\n",
       "      return false;\n",
       "    }\n",
       "  \n",
       "    var js_urls = [];\n",
       "  \n",
       "    var inline_js = [\n",
       "      function(Bokeh) {\n",
       "        Bokeh.$(function() {\n",
       "            var docs_json = {\"40790826-3f1b-414d-842a-02ed02cbc498\":{\"roots\":{\"references\":[{\"attributes\":{\"callback\":null,\"end\":100000,\"start\":100},\"id\":\"2b7e3aca-b9fa-4d37-8a2f-aee0e12ea3ad\",\"type\":\"Range1d\"},{\"attributes\":{\"data_source\":{\"id\":\"c8597acd-6aec-4783-bbe8-8018e9a98f7d\",\"type\":\"ColumnDataSource\"},\"glyph\":{\"id\":\"b0536603-d6d8-4a45-b01b-01ab410d42ed\",\"type\":\"Circle\"},\"hover_glyph\":null,\"nonselection_glyph\":{\"id\":\"fec554b8-8892-4ab9-8b43-e598a917092a\",\"type\":\"Circle\"},\"selection_glyph\":null},\"id\":\"e57ae04e-ecd3-46c2-8fd6-67bf2ced2933\",\"type\":\"GlyphRenderer\"},{\"attributes\":{\"factors\":[\"South Asia\",\"Europe & Central Asia\",\"Middle East & North Africa\",\"Sub-Saharan Africa\",\"America\",\"East Asia & Pacific\"],\"palette\":[\"#3288bd\",\"#99d594\",\"#e6f598\",\"#fee08b\",\"#fc8d59\",\"#d53e4f\"]},\"id\":\"96003b10-acbb-4e2b-b5a1-adef78ae2039\",\"type\":\"CategoricalColorMapper\"},{\"attributes\":{\"below\":[{\"id\":\"75172d14-5ba7-4896-80ba-888c94b415db\",\"type\":\"LogAxis\"}],\"left\":[{\"id\":\"593f8b53-6215-49f2-863c-d552ec84b6ee\",\"type\":\"LinearAxis\"}],\"plot_height\":400,\"renderers\":[{\"id\":\"75172d14-5ba7-4896-80ba-888c94b415db\",\"type\":\"LogAxis\"},{\"id\":\"88562e56-c93b-4b6d-a68b-a608f91ed8a8\",\"type\":\"Grid\"},{\"id\":\"593f8b53-6215-49f2-863c-d552ec84b6ee\",\"type\":\"LinearAxis\"},{\"id\":\"2f778cd5-debb-4e54-ae77-80d0f85bbb45\",\"type\":\"Grid\"},{\"id\":\"98f1a4c1-a931-4c2b-a975-d973fd539d2b\",\"type\":\"Legend\"},{\"id\":\"e57ae04e-ecd3-46c2-8fd6-67bf2ced2933\",\"type\":\"GlyphRenderer\"}],\"right\":[{\"id\":\"98f1a4c1-a931-4c2b-a975-d973fd539d2b\",\"type\":\"Legend\"}],\"title\":{\"id\":\"4f3269bf-b819-4ae4-8f97-abe22b0d19ab\",\"type\":\"Title\"},\"tool_events\":{\"id\":\"6e4d6ceb-0d21-4c21-ad7b-0a2168e6eb72\",\"type\":\"ToolEvents\"},\"toolbar\":{\"id\":\"8116e82f-1ac9-4220-ba23-4f9a8e9dbf35\",\"type\":\"Toolbar\"},\"toolbar_location\":\"above\",\"x_mapper_type\":\"log\",\"x_range\":{\"id\":\"2b7e3aca-b9fa-4d37-8a2f-aee0e12ea3ad\",\"type\":\"Range1d\"},\"y_range\":{\"id\":\"951b1cf9-5a2d-466f-ae35-72a4afdd88b6\",\"type\":\"Range1d\"}},\"id\":\"21368762-c984-43a2-add3-78fd1a8a9c5a\",\"subtype\":\"Figure\",\"type\":\"Plot\"},{\"attributes\":{\"dimension\":1,\"plot\":{\"id\":\"21368762-c984-43a2-add3-78fd1a8a9c5a\",\"subtype\":\"Figure\",\"type\":\"Plot\"},\"ticker\":{\"id\":\"3010e494-0e50-4c20-8890-ada786025a0d\",\"type\":\"BasicTicker\"}},\"id\":\"2f778cd5-debb-4e54-ae77-80d0f85bbb45\",\"type\":\"Grid\"},{\"attributes\":{\"formatter\":{\"id\":\"47f89c9b-d784-4894-875e-29dcc432d8b0\",\"type\":\"BasicTickFormatter\"},\"plot\":{\"id\":\"21368762-c984-43a2-add3-78fd1a8a9c5a\",\"subtype\":\"Figure\",\"type\":\"Plot\"},\"ticker\":{\"id\":\"3010e494-0e50-4c20-8890-ada786025a0d\",\"type\":\"BasicTicker\"}},\"id\":\"593f8b53-6215-49f2-863c-d552ec84b6ee\",\"type\":\"LinearAxis\"},{\"attributes\":{\"plot\":{\"id\":\"21368762-c984-43a2-add3-78fd1a8a9c5a\",\"subtype\":\"Figure\",\"type\":\"Plot\"},\"ticker\":{\"id\":\"48f2e6d3-1d59-4fd5-a7a4-8c6f7e2daf3b\",\"type\":\"LogTicker\"}},\"id\":\"88562e56-c93b-4b6d-a68b-a608f91ed8a8\",\"type\":\"Grid\"},{\"attributes\":{\"callback\":null,\"column_names\":[\"region\",\"x\",\"population\",\"y\",\"country\"],\"data\":{\"country\":[\"Afghanistan\",\"Albania\",\"Algeria\",\"Angola\",\"Antigua and Barbuda\",\"Argentina\",\"Armenia\",\"Aruba\",\"Australia\",\"Austria\",\"Azerbaijan\",\"Bahamas\",\"Bahrain\",\"Bangladesh\",\"Barbados\",\"Belarus\",\"Belgium\",\"Belize\",\"Benin\",\"Bhutan\",\"Bolivia\",\"Bosnia and Herzegovina\",\"Botswana\",\"Brazil\",\"Brunei\",\"Bulgaria\",\"Burkina Faso\",\"Burundi\",\"Cambodia\",\"Cameroon\",\"Canada\",\"Cape Verde\",\"Chad\",\"Chile\",\"China\",\"Colombia\",\"Comoros\",\"Congo, Dem. Rep.\",\"Congo, Rep.\",\"Costa Rica\",\"Cote d'Ivoire\",\"Croatia\",\"Cuba\",\"Cyprus\",\"Denmark\",\"Djibouti\",\"Ecuador\",\"Egypt\",\"El Salvador\",\"Equatorial Guinea\",\"Eritrea\",\"Estonia\",\"Ethiopia\",\"Fiji\",\"Finland\",\"France\",\"French Guiana\",\"French Polynesia\",\"Gabon\",\"Gambia\",\"Georgia\",\"Germany\",\"Ghana\",\"Greece\",\"Greenland\",\"Grenada\",\"Guadeloupe\",\"Guam\",\"Guatemala\",\"Guinea\",\"Guinea-Bissau\",\"Guyana\",\"Haiti\",\"Honduras\",\"Hong Kong, China\",\"Hungary\",\"Iceland\",\"India\",\"Indonesia\",\"Iran\",\"Iraq\",\"Ireland\",\"Israel\",\"Italy\",\"Jamaica\",\"Japan\",\"Jordan\",\"Kazakhstan\",\"Kenya\",\"Kiribati\",\"Kuwait\",\"Latvia\",\"Lebanon\",\"Lesotho\",\"Liberia\",\"Libya\",\"Lithuania\",\"Luxembourg\",\"Macao, China\",\"Macedonia, FYR\",\"Madagascar\",\"Malawi\",\"Malaysia\",\"Maldives\",\"Mali\",\"Malta\",\"Martinique\",\"Mauritania\",\"Mauritius\",\"Mayotte\",\"Mexico\",\"Micronesia, Fed. Sts.\",\"Moldova\",\"Mongolia\",\"Montenegro\",\"Morocco\",\"Mozambique\",\"Myanmar\",\"Namibia\",\"Nepal\",\"Netherlands\",\"Netherlands Antilles\",\"New Caledonia\",\"New Zealand\",\"Nicaragua\",\"Niger\",\"Nigeria\",\"Norway\",\"Oman\",\"Pakistan\",\"Panama\",\"Papua New Guinea\",\"Paraguay\",\"Peru\",\"Philippines\",\"Poland\",\"Portugal\",\"Puerto Rico\",\"Qatar\",\"Reunion\",\"Romania\",\"Russia\",\"Rwanda\",\"Samoa\",\"Sao Tome and Principe\",\"Saudi Arabia\",\"Senegal\",\"Serbia\",\"Seychelles\",\"Sierra Leone\",\"Singapore\",\"Slovak Republic\",\"Slovenia\",\"Solomon Islands\",\"Somalia\",\"South Africa\",\"South Sudan\",\"Spain\",\"Sri Lanka\",\"Sudan\",\"Suriname\",\"Swaziland\",\"Sweden\",\"Switzerland\",\"Syria\",\"Taiwan\",\"Tajikistan\",\"Tanzania\",\"Thailand\",\"Timor-Leste\",\"Togo\",\"Tonga\",\"Trinidad and Tobago\",\"Tunisia\",\"Turkey\",\"Turkmenistan\",\"Uganda\",\"Ukraine\",\"United Arab Emirates\",\"United Kingdom\",\"United States\",\"Uruguay\",\"Uzbekistan\",\"Vanuatu\",\"Venezuela\",\"Vietnam\",\"Virgin Islands (U.S.)\",\"West Bank and Gaza\",\"Western Sahara\",\"Zambia\",\"Zimbabwe\"],\"population\":[3280000.0,410445.0,2503218.0,1567028.0,37000.0,534000.0,413326.0,19286.0,351014.0,3205587.0,879960.0,27350.0,64474.0,19227358.0,81729.0,2355081.0,3138137.0,25526.0,636559.0,89989.0,1100000.0,851806.0,121000.0,3639636.0,2128.0,1992320.0,1665421.0,899097.0,2090000.0,1860054.0,645526.0,55716.0,1432000.0,771447.0,321675013.0,1206000.0,56346.0,5163819.0,314465.0,51987.0,1088530.0,1227886.0,345043.0,184392.0,1062514.0,22848.0,500000.0,4243515.0,248000.0,80377.0,205010.0,334136.0,2948990.0,130533.0,977662.0,29355111.0,9899.0,62530.0,158227.0,103274.0,1072178.0,22886919.0,2016034.0,2151155.0,9584.0,29409.0,80726.0,6053.0,458965.0,983959.0,218167.0,166034.0,723000.0,126118.0,20000.0,3499771.0,61428.0,168574895.0,16108545.0,6269721.0,1076920.0,4064749.0,209954.0,18822234.0,401000.0,30294378.0,217000.0,2041282.0,2574000.0,17876.0,81280.0,590588.0,332000.0,276361.0,313543.0,531472.0,778655.0,127030.0,17311.0,391865.0,1543133.0,737000.0,287000.0,42378.0,1403398.0,134072.0,84039.0,382696.0,62865.0,8219.0,6181708.0,16416.0,712558.0,619000.0,126582.0,2503218.0,1982324.0,3506000.0,229000.0,3881000.0,2254522.0,\"NaN\",29432.0,100000.0,219387.0,1244861.0,12100855.0,868570.0,318000.0,13123633.0,78842.0,754894.0,143000.0,1314151.0,1894389.0,9508747.0,3033454.0,155000.0,14092.0,92744.0,5464085.0,31088398.0,928368.0,47300.0,22731.0,2091000.0,1009886.0,2147197.0,12522.0,794264.0,30000.0,2140651.0,469664.0,56998.0,991488.0,1440820.0,1027378.0,11549294.0,1213000.0,3994154.0,80721.0,86000.0,2354189.0,1826051.0,1337000.0,\"NaN\",466629.0,3019768.0,4665000.0,137262.0,445985.0,18658.0,60000.0,862029.0,9773456.0,367215.0,2101397.0,11215490.0,40153.0,12327466.0,6801854.0,55000.0,1919159.0,27791.0,718000.0,6551000.0,40000.0,165944.0,2788.0,747000.0,1085814.0],\"region\":[\"South Asia\",\"Europe & Central Asia\",\"Middle East & North Africa\",\"Sub-Saharan Africa\",\"America\",\"America\",\"Europe & Central Asia\",\"America\",\"East Asia & Pacific\",\"Europe & Central Asia\",\"Europe & Central Asia\",\"America\",\"Middle East & North Africa\",\"South Asia\",\"America\",\"Europe & Central Asia\",\"Europe & Central Asia\",\"America\",\"Sub-Saharan Africa\",\"South Asia\",\"America\",\"Europe & Central Asia\",\"Sub-Saharan Africa\",\"America\",\"East Asia & Pacific\",\"Europe & Central Asia\",\"Sub-Saharan Africa\",\"Sub-Saharan Africa\",\"East Asia & Pacific\",\"Sub-Saharan Africa\",\"America\",\"Sub-Saharan Africa\",\"Sub-Saharan Africa\",\"America\",\"East Asia & Pacific\",\"America\",\"Sub-Saharan Africa\",\"Sub-Saharan Africa\",\"Sub-Saharan Africa\",\"America\",\"Sub-Saharan Africa\",\"Europe & Central Asia\",\"America\",\"Europe & Central Asia\",\"Europe & Central Asia\",\"Middle East & North Africa\",\"America\",\"Middle East & North Africa\",\"America\",\"Sub-Saharan Africa\",\"Sub-Saharan Africa\",\"Europe & Central Asia\",\"Sub-Saharan Africa\",\"East Asia & Pacific\",\"Europe & Central Asia\",\"Europe & Central Asia\",\"America\",\"East Asia & Pacific\",\"Sub-Saharan Africa\",\"Sub-Saharan Africa\",\"Europe & Central Asia\",\"Europe & Central Asia\",\"Sub-Saharan Africa\",\"Europe & Central Asia\",\"Europe & Central Asia\",\"America\",\"America\",\"East Asia & Pacific\",\"America\",\"Sub-Saharan Africa\",\"Sub-Saharan Africa\",\"America\",\"America\",\"America\",\"East Asia & Pacific\",\"Europe & Central Asia\",\"Europe & Central Asia\",\"South Asia\",\"East Asia & Pacific\",\"Middle East & North Africa\",\"Middle East & North Africa\",\"Europe & Central Asia\",\"Middle East & North Africa\",\"Europe & Central Asia\",\"America\",\"East Asia & Pacific\",\"Middle East & North Africa\",\"Europe & Central Asia\",\"Sub-Saharan Africa\",\"East Asia & Pacific\",\"Middle East & North Africa\",\"Europe & Central Asia\",\"Middle East & North Africa\",\"Sub-Saharan Africa\",\"Sub-Saharan Africa\",\"Middle East & North Africa\",\"Europe & Central Asia\",\"Europe & Central Asia\",\"East Asia & Pacific\",\"Europe & Central Asia\",\"Sub-Saharan Africa\",\"Sub-Saharan Africa\",\"East Asia & Pacific\",\"South Asia\",\"Sub-Saharan Africa\",\"Europe & Central Asia\",\"America\",\"Sub-Saharan Africa\",\"Sub-Saharan Africa\",\"Sub-Saharan Africa\",\"America\",\"East Asia & Pacific\",\"Europe & Central Asia\",\"East Asia & Pacific\",\"Europe & Central Asia\",\"Middle East & North Africa\",\"Sub-Saharan Africa\",\"East Asia & Pacific\",\"Sub-Saharan Africa\",\"South Asia\",\"Europe & Central Asia\",\"America\",\"East Asia & Pacific\",\"East Asia & Pacific\",\"America\",\"Sub-Saharan Africa\",\"Sub-Saharan Africa\",\"Europe & Central Asia\",\"Middle East & North Africa\",\"South Asia\",\"America\",\"East Asia & Pacific\",\"America\",\"America\",\"East Asia & Pacific\",\"Europe & Central Asia\",\"Europe & Central Asia\",\"America\",\"Middle East & North Africa\",\"Sub-Saharan Africa\",\"Europe & Central Asia\",\"Europe & Central Asia\",\"Sub-Saharan Africa\",\"East Asia & Pacific\",\"Sub-Saharan Africa\",\"Middle East & North Africa\",\"Sub-Saharan Africa\",\"Europe & Central Asia\",\"Sub-Saharan Africa\",\"Sub-Saharan Africa\",\"East Asia & Pacific\",\"Europe & Central Asia\",\"Europe & Central Asia\",\"East Asia & Pacific\",\"Sub-Saharan Africa\",\"Sub-Saharan Africa\",\"Sub-Saharan Africa\",\"Europe & Central Asia\",\"South Asia\",\"Sub-Saharan Africa\",\"America\",\"Sub-Saharan Africa\",\"Europe & Central Asia\",\"Europe & Central Asia\",\"Middle East & North Africa\",\"East Asia & Pacific\",\"Europe & Central Asia\",\"Sub-Saharan Africa\",\"East Asia & Pacific\",\"East Asia & Pacific\",\"Sub-Saharan Africa\",\"East Asia & Pacific\",\"America\",\"Middle East & North Africa\",\"Europe & Central Asia\",\"Europe & Central Asia\",\"Sub-Saharan Africa\",\"Europe & Central Asia\",\"Middle East & North Africa\",\"Europe & Central Asia\",\"America\",\"America\",\"Europe & Central Asia\",\"East Asia & Pacific\",\"America\",\"East Asia & Pacific\",\"America\",\"Middle East & North Africa\",\"Middle East & North Africa\",\"Sub-Saharan Africa\",\"Sub-Saharan Africa\"],\"x\":[603.0,667.0,716.0,618.0,757.0,1507.0,514.0,833.0,815.0,1848.0,775.0,1445.0,1235.0,876.0,913.0,608.0,2412.0,579.0,597.0,629.0,854.0,669.0,397.0,1109.0,1512.0,1089.0,480.0,418.0,903.0,626.0,1314.0,529.0,418.0,1026.0,985.0,963.0,696.0,485.0,575.0,775.0,812.0,\"NaN\",864.0,853.0,2013.0,752.0,529.0,791.0,974.0,356.0,532.0,938.0,523.0,785.0,1244.0,1803.0,\"NaN\",\"NaN\",390.0,813.0,543.0,1639.0,696.0,1371.0,393.0,959.0,\"NaN\",\"NaN\",857.0,450.0,777.0,1214.0,633.0,675.0,1007.0,1249.0,926.0,1052.0,994.0,977.0,970.0,1447.0,879.0,2225.0,1170.0,1050.0,976.0,1140.0,854.0,551.0,1097.0,751.0,1081.0,393.0,797.0,1050.0,1270.0,1453.0,992.0,690.0,573.0,350.0,997.0,842.0,603.0,781.0,\"NaN\",527.0,940.0,\"NaN\",1379.0,518.0,621.0,592.0,1057.0,715.0,390.0,840.0,540.0,654.0,4235.0,\"NaN\",\"NaN\",658.0,973.0,446.0,851.0,1278.0,915.0,1021.0,847.0,546.0,835.0,1204.0,962.0,1213.0,1685.0,1375.0,1097.0,\"NaN\",815.0,1430.0,431.0,1400.0,850.0,846.0,497.0,1358.0,792.0,734.0,1021.0,1427.0,1409.0,363.0,694.0,1480.0,507.0,1518.0,898.0,518.0,1636.0,490.0,1414.0,2701.0,1081.0,996.0,556.0,562.0,931.0,521.0,682.0,663.0,1230.0,716.0,1221.0,943.0,464.0,763.0,998.0,3431.0,2128.0,1758.0,502.0,585.0,682.0,861.0,\"NaN\",1220.0,\"NaN\",663.0,869.0],\"y\":[28.211,35.4,28.8224,26.98,33.536,33.2,33.995,34.419000000000004,34.05,34.4,29.165,35.179,30.3,25.5,32.124,36.2,40.0,26.5,31.0,28.799,33.0,35.1,33.6,32.0,29.2,35.8,29.2,31.5,35.0,28.75,39.0,33.8,30.9,32.0,32.0,32.0,32.1,31.6,32.7,30.2147,31.156,36.1,32.2,38.5,37.40555325,29.9,32.9,33.0,28.7,29.8,30.2,36.14196743,29.7,26.1,36.5731262,33.96717024,30.5,25.6,30.6,28.8,31.871,38.37,28.0,36.6,33.867,31.4,27.655,27.5,25.8,29.5,32.0,31.12,29.0,33.9,34.9,36.0,42.84559912,25.4424,30.0,25.6,31.2,38.3,32.0,29.69,34.2,36.4,31.7,26.2,25.5,24.9,26.0,33.0,29.7,32.8,31.1,33.1,28.9,36.9,34.7,36.1,30.5,30.3,30.6,32.647,26.408,28.7,30.153,32.0,28.7,32.5,26.9,26.7,33.145,31.8,35.4,33.1,30.278,30.8,32.4,32.8,39.86,34.408,26.0,34.05,25.4,30.8,30.4,37.91620899,32.3,25.8,32.9,31.5,35.5,35.7,30.9,35.9,35.6,30.43,30.8,33.0,35.7,29.5734572,31.8,25.4,31.0,32.1,25.2,35.5,37.0,25.1,29.1,36.4,36.6,25.1,29.4,33.5,26.665,29.5,32.6,31.4,32.9,32.3,32.16,38.0,31.1,28.3,24.235,32.2,30.4,28.949,31.3,28.2,32.9,28.8,35.0,24.0,25.3,36.6,30.7,38.6497603,39.41,32.9,26.926,24.3,32.2,32.0,33.403,32.1,34.753,32.6,33.7]}},\"id\":\"c8597acd-6aec-4783-bbe8-8018e9a98f7d\",\"type\":\"ColumnDataSource\"},{\"attributes\":{\"num_minor_ticks\":10},\"id\":\"48f2e6d3-1d59-4fd5-a7a4-8c6f7e2daf3b\",\"type\":\"LogTicker\"},{\"attributes\":{\"fill_alpha\":{\"value\":0.6},\"fill_color\":{\"field\":\"region\",\"transform\":{\"id\":\"96003b10-acbb-4e2b-b5a1-adef78ae2039\",\"type\":\"CategoricalColorMapper\"}},\"label\":{\"field\":\"region\"},\"line_alpha\":{\"value\":0.6},\"line_color\":{\"field\":\"region\",\"transform\":{\"id\":\"96003b10-acbb-4e2b-b5a1-adef78ae2039\",\"type\":\"CategoricalColorMapper\"}},\"size\":{\"field\":\"population\",\"transform\":{\"id\":\"86e35ffa-58ab-418b-9fbd-a6d789ba9b45\",\"type\":\"LinearInterpolator\"},\"units\":\"screen\"},\"x\":{\"field\":\"x\"},\"y\":{\"field\":\"y\"}},\"id\":\"b0536603-d6d8-4a45-b01b-01ab410d42ed\",\"type\":\"Circle\"},{\"attributes\":{},\"id\":\"47f89c9b-d784-4894-875e-29dcc432d8b0\",\"type\":\"BasicTickFormatter\"},{\"attributes\":{\"ticker\":null},\"id\":\"ce6f8183-e3b9-4b21-8d7d-a0607f8770c2\",\"type\":\"LogTickFormatter\"},{\"attributes\":{\"plot\":null,\"text\":\"2010\"},\"id\":\"4f3269bf-b819-4ae4-8f97-abe22b0d19ab\",\"type\":\"Title\"},{\"attributes\":{\"border_line_color\":{\"value\":null},\"legends\":[{\"id\":\"e57ae04e-ecd3-46c2-8fd6-67bf2ced2933\",\"type\":\"GlyphRenderer\"}],\"location\":[0,-50],\"plot\":{\"id\":\"21368762-c984-43a2-add3-78fd1a8a9c5a\",\"subtype\":\"Figure\",\"type\":\"Plot\"}},\"id\":\"98f1a4c1-a931-4c2b-a975-d973fd539d2b\",\"type\":\"Legend\"},{\"attributes\":{\"fill_alpha\":{\"value\":0.1},\"fill_color\":{\"value\":\"#1f77b4\"},\"label\":{\"field\":\"region\"},\"line_alpha\":{\"value\":0.1},\"line_color\":{\"value\":\"#1f77b4\"},\"size\":{\"field\":\"population\",\"transform\":{\"id\":\"86e35ffa-58ab-418b-9fbd-a6d789ba9b45\",\"type\":\"LinearInterpolator\"},\"units\":\"screen\"},\"x\":{\"field\":\"x\"},\"y\":{\"field\":\"y\"}},\"id\":\"fec554b8-8892-4ab9-8b43-e598a917092a\",\"type\":\"Circle\"},{\"attributes\":{\"data\":null,\"x\":[1548.0,1376048943.0],\"y\":[5,50]},\"id\":\"86e35ffa-58ab-418b-9fbd-a6d789ba9b45\",\"type\":\"LinearInterpolator\"},{\"attributes\":{\"callback\":null,\"plot\":{\"id\":\"21368762-c984-43a2-add3-78fd1a8a9c5a\",\"subtype\":\"Figure\",\"type\":\"Plot\"},\"show_arrow\":false,\"tooltips\":\"@country\"},\"id\":\"06d4d70c-4b50-4e36-bb17-97856f599221\",\"type\":\"HoverTool\"},{\"attributes\":{\"callback\":null,\"end\":100},\"id\":\"951b1cf9-5a2d-466f-ae35-72a4afdd88b6\",\"type\":\"Range1d\"},{\"attributes\":{},\"id\":\"6e4d6ceb-0d21-4c21-ad7b-0a2168e6eb72\",\"type\":\"ToolEvents\"},{\"attributes\":{},\"id\":\"3010e494-0e50-4c20-8890-ada786025a0d\",\"type\":\"BasicTicker\"},{\"attributes\":{\"formatter\":{\"id\":\"ce6f8183-e3b9-4b21-8d7d-a0607f8770c2\",\"type\":\"LogTickFormatter\"},\"plot\":{\"id\":\"21368762-c984-43a2-add3-78fd1a8a9c5a\",\"subtype\":\"Figure\",\"type\":\"Plot\"},\"ticker\":{\"id\":\"48f2e6d3-1d59-4fd5-a7a4-8c6f7e2daf3b\",\"type\":\"LogTicker\"}},\"id\":\"75172d14-5ba7-4896-80ba-888c94b415db\",\"type\":\"LogAxis\"},{\"attributes\":{\"active_drag\":\"auto\",\"active_scroll\":\"auto\",\"active_tap\":\"auto\",\"tools\":[{\"id\":\"06d4d70c-4b50-4e36-bb17-97856f599221\",\"type\":\"HoverTool\"}]},\"id\":\"8116e82f-1ac9-4220-ba23-4f9a8e9dbf35\",\"type\":\"Toolbar\"}],\"root_ids\":[\"21368762-c984-43a2-add3-78fd1a8a9c5a\"]},\"title\":\"Bokeh Application\",\"version\":\"0.12.3dev3\"}};\n",
       "            var render_items = [{\"docid\":\"40790826-3f1b-414d-842a-02ed02cbc498\",\"elementid\":\"fda6bf94-9461-4a08-b747-471257c9841a\",\"modelid\":\"21368762-c984-43a2-add3-78fd1a8a9c5a\",\"notebook_comms_target\":\"4a323d7c-9672-4099-af95-f9ffcbe6338d\"}];\n",
       "            \n",
       "            Bokeh.embed.embed_items(docs_json, render_items);\n",
       "        });\n",
       "      },\n",
       "      function(Bokeh) {\n",
       "      }\n",
       "    ];\n",
       "  \n",
       "    function run_inline_js() {\n",
       "      \n",
       "      if ((window.Bokeh !== undefined) || (force === \"1\")) {\n",
       "        for (var i = 0; i < inline_js.length; i++) {\n",
       "          inline_js[i](window.Bokeh);\n",
       "        }if (force === \"1\") {\n",
       "          display_loaded();\n",
       "        }} else if (Date.now() < window._bokeh_timeout) {\n",
       "        setTimeout(run_inline_js, 100);\n",
       "      } else if (!window._bokeh_failed_load) {\n",
       "        console.log(\"Bokeh: BokehJS failed to load within specified timeout.\");\n",
       "        window._bokeh_failed_load = true;\n",
       "      } else if (!force) {\n",
       "        var cell = $(\"#fda6bf94-9461-4a08-b747-471257c9841a\").parents('.cell').data().cell;\n",
       "        cell.output_area.append_execute_result(NB_LOAD_WARNING)\n",
       "      }\n",
       "  \n",
       "    }\n",
       "  \n",
       "    if (window._bokeh_is_loading === 0) {\n",
       "      console.log(\"Bokeh: BokehJS loaded, going straight to plotting\");\n",
       "      run_inline_js();\n",
       "    } else {\n",
       "      load_libs(js_urls, function() {\n",
       "        console.log(\"Bokeh: BokehJS plotting callback run at\", now());\n",
       "        run_inline_js();\n",
       "      });\n",
       "    }\n",
       "  }(this));\n",
       "</script>"
      ]
     },
     "metadata": {},
     "output_type": "display_data"
    },
    {
     "data": {
      "text/html": [
       "<p><code>&lt;Bokeh Notebook handle for <strong>In[48]</strong>&gt;</code></p>"
      ],
      "text/plain": [
       "<bokeh.io._CommsHandle at 0x10e98e898>"
      ]
     },
     "execution_count": 48,
     "metadata": {},
     "output_type": "execute_result"
    }
   ],
   "source": [
    "from bokeh.models import LinearInterpolator, CategoricalColorMapper\n",
    "\n",
    "from ipywidgets import interact\n",
    "\n",
    "from bokeh.io import push_notebook\n",
    "\n",
    "def update(year):\n",
    "    new_data = dict(\n",
    "        x=data.loc[year].income, \n",
    "        y=data.loc[year].life, \n",
    "        country=data.loc[year].Country,\n",
    "        region=data.loc[year].region,\n",
    "        population=data.loc[year].population,\n",
    "    )\n",
    "    source.data = new_data\n",
    "    p.title.text = str(year)\n",
    "    push_notebook()\n",
    "\n",
    "size_mapper = LinearInterpolator(\n",
    "    x=[data.population.min(), data.population.max()],\n",
    "    y=[5, 50]\n",
    ")\n",
    "color_mapper = CategoricalColorMapper(\n",
    "    factors=list(data.region.unique()),\n",
    "    palette=Spectral6,\n",
    ")\n",
    "\n",
    "p = figure(\n",
    "    title=str(2010), toolbar_location='above',\n",
    "    tools=[HoverTool(tooltips='@country', show_arrow=False)], \n",
    "    **PLOT_OPTS)\n",
    "p.circle(\n",
    "    x='x', y='y', \n",
    "    size={'field': 'population', 'transform': size_mapper}, \n",
    "    color={'field': 'region', 'transform': color_mapper},\n",
    "    alpha=0.6,  \n",
    "    source=source,\n",
    "    legend='region'\n",
    ")\n",
    "p.legend.border_line_color = None\n",
    "p.legend.location = (0, -50)\n",
    "p.right.append(p.legend[0])\n",
    "show(p, notebook_handle=True)"
   ]
  },
  {
   "cell_type": "code",
   "execution_count": 49,
   "metadata": {
    "collapsed": false
   },
   "outputs": [],
   "source": [
    "interact(update, year=(1800, 2014, 1))"
   ]
  },
  {
   "cell_type": "code",
   "execution_count": null,
   "metadata": {
    "collapsed": true
   },
   "outputs": [],
   "source": []
  }
 ],
 "metadata": {
  "kernelspec": {
   "display_name": "Python 3",
   "language": "python",
   "name": "python3"
  },
  "language_info": {
   "codemirror_mode": {
    "name": "ipython",
    "version": 3
   },
   "file_extension": ".py",
   "mimetype": "text/x-python",
   "name": "python",
   "nbconvert_exporter": "python",
   "pygments_lexer": "ipython3",
   "version": "3.5.2"
  },
  "widgets": {
   "state": {
    "ffa539b6ee7e4c828171a1ebee4cae80": {
     "views": [
      {
       "cell_index": 15
      }
     ]
    }
   },
   "version": "1.2.0"
  }
 },
 "nbformat": 4,
 "nbformat_minor": 1
}
