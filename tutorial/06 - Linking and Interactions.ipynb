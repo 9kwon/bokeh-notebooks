{
 "cells": [
  {
   "cell_type": "markdown",
   "metadata": {},
   "source": [
    "<table style=\"float:left; border:none\">\n",
    "   <tr style=\"border:none; background-color: #ffffff\">\n",
    "       <td style=\"border:none\">\n",
    "           <a href=\"http://bokeh.pydata.org/\">     \n",
    "           <img \n",
    "               src=\"assets/bokeh-transparent.png\" \n",
    "               style=\"width:50px\"\n",
    "           >\n",
    "           </a>    \n",
    "       </td>\n",
    "       <td style=\"border:none\">\n",
    "           <h1>Bokeh Tutorial</h1>\n",
    "       </td>\n",
    "   </tr>\n",
    "</table>\n",
    "\n",
    "<div style=\"float:right;\"><h2>06. Linking and Interactions</h2></div>"
   ]
  },
  {
   "cell_type": "code",
   "execution_count": 1,
   "metadata": {},
   "outputs": [
    {
     "data": {
      "text/html": [
       "\n",
       "    <div class=\"bk-root\">\n",
       "        <a href=\"https://bokeh.pydata.org\" target=\"_blank\" class=\"bk-logo bk-logo-small bk-logo-notebook\"></a>\n",
       "        <span id=\"a7c7ba54-6d78-4191-b468-ba1e35bf27ea\">Loading BokehJS ...</span>\n",
       "    </div>"
      ]
     },
     "metadata": {},
     "output_type": "display_data"
    },
    {
     "data": {
      "application/javascript": [
       "\n",
       "(function(root) {\n",
       "  function now() {\n",
       "    return new Date();\n",
       "  }\n",
       "\n",
       "  var force = true;\n",
       "\n",
       "  if (typeof (root._bokeh_onload_callbacks) === \"undefined\" || force === true) {\n",
       "    root._bokeh_onload_callbacks = [];\n",
       "    root._bokeh_is_loading = undefined;\n",
       "  }\n",
       "\n",
       "  var JS_MIME_TYPE = 'application/javascript';\n",
       "  var HTML_MIME_TYPE = 'text/html';\n",
       "  var EXEC_MIME_TYPE = 'application/vnd.bokehjs_exec.v0+json';\n",
       "  var CLASS_NAME = 'output_bokeh rendered_html';\n",
       "\n",
       "  /**\n",
       "   * Render data to the DOM node\n",
       "   */\n",
       "  function render(props, node) {\n",
       "    var script = document.createElement(\"script\");\n",
       "    node.appendChild(script);\n",
       "  }\n",
       "\n",
       "  /**\n",
       "   * Handle when an output is cleared or removed\n",
       "   */\n",
       "  function handleClearOutput(event, handle) {\n",
       "    var cell = handle.cell;\n",
       "\n",
       "    var id = cell.output_area._bokeh_element_id;\n",
       "    var server_id = cell.output_area._bokeh_server_id;\n",
       "    // Clean up Bokeh references\n",
       "    if (id !== undefined) {\n",
       "      Bokeh.index[id].model.document.clear();\n",
       "      delete Bokeh.index[id];\n",
       "    }\n",
       "\n",
       "    if (server_id !== undefined) {\n",
       "      // Clean up Bokeh references\n",
       "      var cmd = \"from bokeh.io import _state; print(_state.uuid_to_server['\" + server_id + \"'].get_sessions()[0].document.roots[0]._id)\";\n",
       "      cell.notebook.kernel.execute(cmd, {\n",
       "        iopub: {\n",
       "          output: function(msg) {\n",
       "            var element_id = msg.content.text.trim();\n",
       "            Bokeh.index[element_id].model.document.clear();\n",
       "            delete Bokeh.index[element_id];\n",
       "          }\n",
       "        }\n",
       "      });\n",
       "      // Destroy server and session\n",
       "      var cmd = \"from bokeh import io; io._destroy_server('\" + server_id + \"')\";\n",
       "      cell.notebook.kernel.execute(cmd);\n",
       "    }\n",
       "  }\n",
       "\n",
       "  /**\n",
       "   * Handle when a new output is added\n",
       "   */\n",
       "  function handleAddOutput(event, handle) {\n",
       "    var output_area = handle.output_area;\n",
       "    var output = handle.output;\n",
       "\n",
       "    // limit handleAddOutput to display_data with EXEC_MIME_TYPE content only\n",
       "    if ((output.output_type != \"display_data\") || (!output.data.hasOwnProperty(EXEC_MIME_TYPE))) {\n",
       "      return\n",
       "    }\n",
       "\n",
       "    var toinsert = output_area.element.find(`.${CLASS_NAME.split(' ')[0]}`);\n",
       "\n",
       "    if (output.metadata[EXEC_MIME_TYPE][\"id\"] !== undefined) {\n",
       "      toinsert[0].firstChild.textContent = output.data[JS_MIME_TYPE];\n",
       "      // store reference to embed id on output_area\n",
       "      output_area._bokeh_element_id = output.metadata[EXEC_MIME_TYPE][\"id\"];\n",
       "    }\n",
       "    if (output.metadata[EXEC_MIME_TYPE][\"server_id\"] !== undefined) {\n",
       "      var bk_div = document.createElement(\"div\");\n",
       "      bk_div.innerHTML = output.data[HTML_MIME_TYPE];\n",
       "      var script_attrs = bk_div.children[0].attributes;\n",
       "      for (var i = 0; i < script_attrs.length; i++) {\n",
       "        toinsert[0].firstChild.setAttribute(script_attrs[i].name, script_attrs[i].value);\n",
       "      }\n",
       "      // store reference to server id on output_area\n",
       "      output_area._bokeh_server_id = output.metadata[EXEC_MIME_TYPE][\"server_id\"];\n",
       "    }\n",
       "  }\n",
       "\n",
       "  function register_renderer(events, OutputArea) {\n",
       "\n",
       "    function append_mime(data, metadata, element) {\n",
       "      // create a DOM node to render to\n",
       "      var toinsert = this.create_output_subarea(\n",
       "        metadata,\n",
       "        CLASS_NAME,\n",
       "        EXEC_MIME_TYPE\n",
       "      );\n",
       "      this.keyboard_manager.register_events(toinsert);\n",
       "      // Render to node\n",
       "      var props = {data: data, metadata: metadata[EXEC_MIME_TYPE]};\n",
       "      render(props, toinsert[0]);\n",
       "      element.append(toinsert);\n",
       "      return toinsert\n",
       "    }\n",
       "\n",
       "    /* Handle when an output is cleared or removed */\n",
       "    events.on('clear_output.CodeCell', handleClearOutput);\n",
       "    events.on('delete.Cell', handleClearOutput);\n",
       "\n",
       "    /* Handle when a new output is added */\n",
       "    events.on('output_added.OutputArea', handleAddOutput);\n",
       "\n",
       "    /**\n",
       "     * Register the mime type and append_mime function with output_area\n",
       "     */\n",
       "    OutputArea.prototype.register_mime_type(EXEC_MIME_TYPE, append_mime, {\n",
       "      /* Is output safe? */\n",
       "      safe: true,\n",
       "      /* Index of renderer in `output_area.display_order` */\n",
       "      index: 0\n",
       "    });\n",
       "  }\n",
       "\n",
       "  // register the mime type if in Jupyter Notebook environment and previously unregistered\n",
       "  if (root.Jupyter !== undefined) {\n",
       "    var events = require('base/js/events');\n",
       "    var OutputArea = require('notebook/js/outputarea').OutputArea;\n",
       "\n",
       "    if (OutputArea.prototype.mime_types().indexOf(EXEC_MIME_TYPE) == -1) {\n",
       "      register_renderer(events, OutputArea);\n",
       "    }\n",
       "  }\n",
       "\n",
       "  \n",
       "  if (typeof (root._bokeh_timeout) === \"undefined\" || force === true) {\n",
       "    root._bokeh_timeout = Date.now() + 5000;\n",
       "    root._bokeh_failed_load = false;\n",
       "  }\n",
       "\n",
       "  var NB_LOAD_WARNING = {'data': {'text/html':\n",
       "     \"<div style='background-color: #fdd'>\\n\"+\n",
       "     \"<p>\\n\"+\n",
       "     \"BokehJS does not appear to have successfully loaded. If loading BokehJS from CDN, this \\n\"+\n",
       "     \"may be due to a slow or bad network connection. Possible fixes:\\n\"+\n",
       "     \"</p>\\n\"+\n",
       "     \"<ul>\\n\"+\n",
       "     \"<li>re-rerun `output_notebook()` to attempt to load from CDN again, or</li>\\n\"+\n",
       "     \"<li>use INLINE resources instead, as so:</li>\\n\"+\n",
       "     \"</ul>\\n\"+\n",
       "     \"<code>\\n\"+\n",
       "     \"from bokeh.resources import INLINE\\n\"+\n",
       "     \"output_notebook(resources=INLINE)\\n\"+\n",
       "     \"</code>\\n\"+\n",
       "     \"</div>\"}};\n",
       "\n",
       "  function display_loaded() {\n",
       "    var el = document.getElementById(\"a7c7ba54-6d78-4191-b468-ba1e35bf27ea\");\n",
       "    if (el != null) {\n",
       "      el.textContent = \"BokehJS is loading...\";\n",
       "    }\n",
       "    if (root.Bokeh !== undefined) {\n",
       "      if (el != null) {\n",
       "        el.textContent = \"BokehJS \" + root.Bokeh.version + \" successfully loaded.\";\n",
       "      }\n",
       "    } else if (Date.now() < root._bokeh_timeout) {\n",
       "      setTimeout(display_loaded, 100)\n",
       "    }\n",
       "  }\n",
       "\n",
       "\n",
       "  function run_callbacks() {\n",
       "    try {\n",
       "      root._bokeh_onload_callbacks.forEach(function(callback) { callback() });\n",
       "    }\n",
       "    finally {\n",
       "      delete root._bokeh_onload_callbacks\n",
       "    }\n",
       "    console.info(\"Bokeh: all callbacks have finished\");\n",
       "  }\n",
       "\n",
       "  function load_libs(js_urls, callback) {\n",
       "    root._bokeh_onload_callbacks.push(callback);\n",
       "    if (root._bokeh_is_loading > 0) {\n",
       "      console.log(\"Bokeh: BokehJS is being loaded, scheduling callback at\", now());\n",
       "      return null;\n",
       "    }\n",
       "    if (js_urls == null || js_urls.length === 0) {\n",
       "      run_callbacks();\n",
       "      return null;\n",
       "    }\n",
       "    console.log(\"Bokeh: BokehJS not loaded, scheduling load and callback at\", now());\n",
       "    root._bokeh_is_loading = js_urls.length;\n",
       "    for (var i = 0; i < js_urls.length; i++) {\n",
       "      var url = js_urls[i];\n",
       "      var s = document.createElement('script');\n",
       "      s.src = url;\n",
       "      s.async = false;\n",
       "      s.onreadystatechange = s.onload = function() {\n",
       "        root._bokeh_is_loading--;\n",
       "        if (root._bokeh_is_loading === 0) {\n",
       "          console.log(\"Bokeh: all BokehJS libraries loaded\");\n",
       "          run_callbacks()\n",
       "        }\n",
       "      };\n",
       "      s.onerror = function() {\n",
       "        console.warn(\"failed to load library \" + url);\n",
       "      };\n",
       "      console.log(\"Bokeh: injecting script tag for BokehJS library: \", url);\n",
       "      document.getElementsByTagName(\"head\")[0].appendChild(s);\n",
       "    }\n",
       "  };var element = document.getElementById(\"a7c7ba54-6d78-4191-b468-ba1e35bf27ea\");\n",
       "  if (element == null) {\n",
       "    console.log(\"Bokeh: ERROR: autoload.js configured with elementid 'a7c7ba54-6d78-4191-b468-ba1e35bf27ea' but no matching script tag was found. \")\n",
       "    return false;\n",
       "  }\n",
       "\n",
       "  var js_urls = [\"https://cdn.pydata.org/bokeh/release/bokeh-0.12.8.min.js\", \"https://cdn.pydata.org/bokeh/release/bokeh-widgets-0.12.8.min.js\", \"https://cdn.pydata.org/bokeh/release/bokeh-tables-0.12.8.min.js\", \"https://cdn.pydata.org/bokeh/release/bokeh-gl-0.12.8.min.js\"];\n",
       "\n",
       "  var inline_js = [\n",
       "    function(Bokeh) {\n",
       "      Bokeh.set_log_level(\"info\");\n",
       "    },\n",
       "    \n",
       "    function(Bokeh) {\n",
       "      \n",
       "    },\n",
       "    function(Bokeh) {\n",
       "      console.log(\"Bokeh: injecting CSS: https://cdn.pydata.org/bokeh/release/bokeh-0.12.8.min.css\");\n",
       "      Bokeh.embed.inject_css(\"https://cdn.pydata.org/bokeh/release/bokeh-0.12.8.min.css\");\n",
       "      console.log(\"Bokeh: injecting CSS: https://cdn.pydata.org/bokeh/release/bokeh-widgets-0.12.8.min.css\");\n",
       "      Bokeh.embed.inject_css(\"https://cdn.pydata.org/bokeh/release/bokeh-widgets-0.12.8.min.css\");\n",
       "      console.log(\"Bokeh: injecting CSS: https://cdn.pydata.org/bokeh/release/bokeh-tables-0.12.8.min.css\");\n",
       "      Bokeh.embed.inject_css(\"https://cdn.pydata.org/bokeh/release/bokeh-tables-0.12.8.min.css\");\n",
       "    }\n",
       "  ];\n",
       "\n",
       "  function run_inline_js() {\n",
       "    \n",
       "    if ((root.Bokeh !== undefined) || (force === true)) {\n",
       "      for (var i = 0; i < inline_js.length; i++) {\n",
       "        inline_js[i].call(root, root.Bokeh);\n",
       "      }if (force === true) {\n",
       "        display_loaded();\n",
       "      }} else if (Date.now() < root._bokeh_timeout) {\n",
       "      setTimeout(run_inline_js, 100);\n",
       "    } else if (!root._bokeh_failed_load) {\n",
       "      console.log(\"Bokeh: BokehJS failed to load within specified timeout.\");\n",
       "      root._bokeh_failed_load = true;\n",
       "    } else if (force !== true) {\n",
       "      var cell = $(document.getElementById(\"a7c7ba54-6d78-4191-b468-ba1e35bf27ea\")).parents('.cell').data().cell;\n",
       "      cell.output_area.append_execute_result(NB_LOAD_WARNING)\n",
       "    }\n",
       "\n",
       "  }\n",
       "\n",
       "  if (root._bokeh_is_loading === 0) {\n",
       "    console.log(\"Bokeh: BokehJS loaded, going straight to plotting\");\n",
       "    run_inline_js();\n",
       "  } else {\n",
       "    load_libs(js_urls, function() {\n",
       "      console.log(\"Bokeh: BokehJS plotting callback run at\", now());\n",
       "      run_inline_js();\n",
       "    });\n",
       "  }\n",
       "}(window));"
      ],
      "application/vnd.bokehjs_load.v0+json": "\n(function(root) {\n  function now() {\n    return new Date();\n  }\n\n  var force = true;\n\n  if (typeof (root._bokeh_onload_callbacks) === \"undefined\" || force === true) {\n    root._bokeh_onload_callbacks = [];\n    root._bokeh_is_loading = undefined;\n  }\n\n  \n\n  \n  if (typeof (root._bokeh_timeout) === \"undefined\" || force === true) {\n    root._bokeh_timeout = Date.now() + 5000;\n    root._bokeh_failed_load = false;\n  }\n\n  var NB_LOAD_WARNING = {'data': {'text/html':\n     \"<div style='background-color: #fdd'>\\n\"+\n     \"<p>\\n\"+\n     \"BokehJS does not appear to have successfully loaded. If loading BokehJS from CDN, this \\n\"+\n     \"may be due to a slow or bad network connection. Possible fixes:\\n\"+\n     \"</p>\\n\"+\n     \"<ul>\\n\"+\n     \"<li>re-rerun `output_notebook()` to attempt to load from CDN again, or</li>\\n\"+\n     \"<li>use INLINE resources instead, as so:</li>\\n\"+\n     \"</ul>\\n\"+\n     \"<code>\\n\"+\n     \"from bokeh.resources import INLINE\\n\"+\n     \"output_notebook(resources=INLINE)\\n\"+\n     \"</code>\\n\"+\n     \"</div>\"}};\n\n  function display_loaded() {\n    var el = document.getElementById(\"a7c7ba54-6d78-4191-b468-ba1e35bf27ea\");\n    if (el != null) {\n      el.textContent = \"BokehJS is loading...\";\n    }\n    if (root.Bokeh !== undefined) {\n      if (el != null) {\n        el.textContent = \"BokehJS \" + root.Bokeh.version + \" successfully loaded.\";\n      }\n    } else if (Date.now() < root._bokeh_timeout) {\n      setTimeout(display_loaded, 100)\n    }\n  }\n\n\n  function run_callbacks() {\n    try {\n      root._bokeh_onload_callbacks.forEach(function(callback) { callback() });\n    }\n    finally {\n      delete root._bokeh_onload_callbacks\n    }\n    console.info(\"Bokeh: all callbacks have finished\");\n  }\n\n  function load_libs(js_urls, callback) {\n    root._bokeh_onload_callbacks.push(callback);\n    if (root._bokeh_is_loading > 0) {\n      console.log(\"Bokeh: BokehJS is being loaded, scheduling callback at\", now());\n      return null;\n    }\n    if (js_urls == null || js_urls.length === 0) {\n      run_callbacks();\n      return null;\n    }\n    console.log(\"Bokeh: BokehJS not loaded, scheduling load and callback at\", now());\n    root._bokeh_is_loading = js_urls.length;\n    for (var i = 0; i < js_urls.length; i++) {\n      var url = js_urls[i];\n      var s = document.createElement('script');\n      s.src = url;\n      s.async = false;\n      s.onreadystatechange = s.onload = function() {\n        root._bokeh_is_loading--;\n        if (root._bokeh_is_loading === 0) {\n          console.log(\"Bokeh: all BokehJS libraries loaded\");\n          run_callbacks()\n        }\n      };\n      s.onerror = function() {\n        console.warn(\"failed to load library \" + url);\n      };\n      console.log(\"Bokeh: injecting script tag for BokehJS library: \", url);\n      document.getElementsByTagName(\"head\")[0].appendChild(s);\n    }\n  };var element = document.getElementById(\"a7c7ba54-6d78-4191-b468-ba1e35bf27ea\");\n  if (element == null) {\n    console.log(\"Bokeh: ERROR: autoload.js configured with elementid 'a7c7ba54-6d78-4191-b468-ba1e35bf27ea' but no matching script tag was found. \")\n    return false;\n  }\n\n  var js_urls = [\"https://cdn.pydata.org/bokeh/release/bokeh-0.12.8.min.js\", \"https://cdn.pydata.org/bokeh/release/bokeh-widgets-0.12.8.min.js\", \"https://cdn.pydata.org/bokeh/release/bokeh-tables-0.12.8.min.js\", \"https://cdn.pydata.org/bokeh/release/bokeh-gl-0.12.8.min.js\"];\n\n  var inline_js = [\n    function(Bokeh) {\n      Bokeh.set_log_level(\"info\");\n    },\n    \n    function(Bokeh) {\n      \n    },\n    function(Bokeh) {\n      console.log(\"Bokeh: injecting CSS: https://cdn.pydata.org/bokeh/release/bokeh-0.12.8.min.css\");\n      Bokeh.embed.inject_css(\"https://cdn.pydata.org/bokeh/release/bokeh-0.12.8.min.css\");\n      console.log(\"Bokeh: injecting CSS: https://cdn.pydata.org/bokeh/release/bokeh-widgets-0.12.8.min.css\");\n      Bokeh.embed.inject_css(\"https://cdn.pydata.org/bokeh/release/bokeh-widgets-0.12.8.min.css\");\n      console.log(\"Bokeh: injecting CSS: https://cdn.pydata.org/bokeh/release/bokeh-tables-0.12.8.min.css\");\n      Bokeh.embed.inject_css(\"https://cdn.pydata.org/bokeh/release/bokeh-tables-0.12.8.min.css\");\n    }\n  ];\n\n  function run_inline_js() {\n    \n    if ((root.Bokeh !== undefined) || (force === true)) {\n      for (var i = 0; i < inline_js.length; i++) {\n        inline_js[i].call(root, root.Bokeh);\n      }if (force === true) {\n        display_loaded();\n      }} else if (Date.now() < root._bokeh_timeout) {\n      setTimeout(run_inline_js, 100);\n    } else if (!root._bokeh_failed_load) {\n      console.log(\"Bokeh: BokehJS failed to load within specified timeout.\");\n      root._bokeh_failed_load = true;\n    } else if (force !== true) {\n      var cell = $(document.getElementById(\"a7c7ba54-6d78-4191-b468-ba1e35bf27ea\")).parents('.cell').data().cell;\n      cell.output_area.append_execute_result(NB_LOAD_WARNING)\n    }\n\n  }\n\n  if (root._bokeh_is_loading === 0) {\n    console.log(\"Bokeh: BokehJS loaded, going straight to plotting\");\n    run_inline_js();\n  } else {\n    load_libs(js_urls, function() {\n      console.log(\"Bokeh: BokehJS plotting callback run at\", now());\n      run_inline_js();\n    });\n  }\n}(window));"
     },
     "metadata": {},
     "output_type": "display_data"
    }
   ],
   "source": [
    "from bokeh.io import output_notebook, show\n",
    "from bokeh.plotting import figure\n",
    "output_notebook()"
   ]
  },
  {
   "cell_type": "markdown",
   "metadata": {},
   "source": [
    "Now that we know from the previous chapter how multiple plots can be placed together in a layout, we can start to look at how different plots can be linked togeher, or how plots can be linked to widgets. "
   ]
  },
  {
   "cell_type": "markdown",
   "metadata": {
    "collapsed": true
   },
   "source": [
    "# Linked Interactions\n",
    "\n",
    "It is possible to link various interactions between different Bokeh plots. For instance, the ranges of two (or more) plots can be linked, so that when one of the plots is panned (or zoomed, or otherwise has its range changed) the other plots will update in unison. It is also possible to link selections between two plots, so that when items are selected on one plot, the corresponding items on the second plot also become selected. "
   ]
  },
  {
   "cell_type": "markdown",
   "metadata": {},
   "source": [
    "## Linked panning\n",
    "\n",
    "Linked panning (when multiple plots have ranges that stay in sync) is simple to spell with Bokeh. You simply share the appropriate range objects between two (or more) plots. The example below shows how to accomplish this by linking the ranges of three plots in various ways:"
   ]
  },
  {
   "cell_type": "code",
   "execution_count": 2,
   "metadata": {},
   "outputs": [
    {
     "data": {
      "text/html": [
       "\n",
       "<div class=\"bk-root\">\n",
       "    <div class=\"bk-plotdiv\" id=\"34e0c13b-976c-444c-bf81-6547d4acb19f\"></div>\n",
       "</div>"
      ]
     },
     "metadata": {},
     "output_type": "display_data"
    },
    {
     "data": {
      "application/javascript": [
       "(function(root) {\n",
       "  function embed_document(root) {\n",
       "    var docs_json = {\"8b532225-03cd-41d3-95dc-55fec8fedcdf\":{\"roots\":{\"references\":[{\"attributes\":{},\"id\":\"2a044170-b550-4657-9413-76b96bd99d6f\",\"type\":\"BasicTickFormatter\"},{\"attributes\":{\"active_drag\":\"auto\",\"active_inspect\":\"auto\",\"active_scroll\":\"auto\",\"active_tap\":\"auto\",\"tools\":[{\"id\":\"33432f52-fe48-47e3-ad15-6610bcf28968\",\"type\":\"PanTool\"},{\"id\":\"f7876ef6-b84a-4d5e-ad73-96f6c22f8de3\",\"type\":\"WheelZoomTool\"}]},\"id\":\"dde354f7-ccc9-4a30-9560-cab96cb53949\",\"type\":\"Toolbar\"},{\"attributes\":{\"callback\":null},\"id\":\"0ae0ac62-65eb-423c-a3f6-ed72f2d981cb\",\"type\":\"DataRange1d\"},{\"attributes\":{},\"id\":\"5d93cfd0-8bf4-40a3-8911-b01b9964e6af\",\"type\":\"LinearScale\"},{\"attributes\":{\"sizing_mode\":\"scale_width\",\"toolbar_location\":\"above\",\"tools\":[{\"id\":\"40904e8c-5721-4c4a-9374-7ba3d9cd729e\",\"type\":\"PanTool\"},{\"id\":\"8c7cc26b-2aa8-40b0-8aca-2b587c75a10f\",\"type\":\"WheelZoomTool\"},{\"id\":\"ed60777d-2c64-44e3-b387-7c42e8965eab\",\"type\":\"PanTool\"},{\"id\":\"6b8ffdfa-fb57-4f1a-bbba-2198d9b5d02b\",\"type\":\"WheelZoomTool\"},{\"id\":\"33432f52-fe48-47e3-ad15-6610bcf28968\",\"type\":\"PanTool\"},{\"id\":\"f7876ef6-b84a-4d5e-ad73-96f6c22f8de3\",\"type\":\"WheelZoomTool\"}]},\"id\":\"16692c8a-e88d-4758-8234-80716ddc8a5c\",\"type\":\"ToolbarBox\"},{\"attributes\":{\"plot\":{\"id\":\"26fe84fb-c544-4547-9b07-4b57551a8c5a\",\"subtype\":\"Figure\",\"type\":\"Plot\"},\"ticker\":{\"id\":\"1ba29ddd-8961-4164-bd32-39490ffc4216\",\"type\":\"BasicTicker\"}},\"id\":\"d46ca58a-fa53-423c-a4c9-b10edb2b48d7\",\"type\":\"Grid\"},{\"attributes\":{\"children\":[{\"id\":\"f5827375-15cf-4154-9cae-8ea0c1de1209\",\"subtype\":\"Figure\",\"type\":\"Plot\"},{\"id\":\"d66933e9-da6a-4d8c-9d9a-79a63b63feb2\",\"subtype\":\"Figure\",\"type\":\"Plot\"},{\"id\":\"26fe84fb-c544-4547-9b07-4b57551a8c5a\",\"subtype\":\"Figure\",\"type\":\"Plot\"}]},\"id\":\"ddfd0ca0-2c4f-4868-8173-90cdc5164d72\",\"type\":\"Row\"},{\"attributes\":{},\"id\":\"87a52054-511c-4585-b6db-921e97ffb3c2\",\"type\":\"LinearScale\"},{\"attributes\":{\"formatter\":{\"id\":\"aaec6770-46d0-44f0-ab33-a198df3b6aaf\",\"type\":\"BasicTickFormatter\"},\"plot\":{\"id\":\"26fe84fb-c544-4547-9b07-4b57551a8c5a\",\"subtype\":\"Figure\",\"type\":\"Plot\"},\"ticker\":{\"id\":\"1ba29ddd-8961-4164-bd32-39490ffc4216\",\"type\":\"BasicTicker\"}},\"id\":\"e016be55-e86b-4c38-8f0c-bbc33b481db1\",\"type\":\"LinearAxis\"},{\"attributes\":{\"source\":{\"id\":\"48870f8f-1532-4804-b3b9-19eae430cc8a\",\"type\":\"ColumnDataSource\"}},\"id\":\"c673ba52-914a-4268-94c6-df189fc573de\",\"type\":\"CDSView\"},{\"attributes\":{},\"id\":\"1ba29ddd-8961-4164-bd32-39490ffc4216\",\"type\":\"BasicTicker\"},{\"attributes\":{\"data_source\":{\"id\":\"48870f8f-1532-4804-b3b9-19eae430cc8a\",\"type\":\"ColumnDataSource\"},\"glyph\":{\"id\":\"e5e12ef7-be78-4e46-bf7f-fd41aeba1f85\",\"type\":\"Circle\"},\"hover_glyph\":null,\"muted_glyph\":null,\"nonselection_glyph\":{\"id\":\"f84be053-8737-4bb4-bb58-7271dbdfd1e7\",\"type\":\"Circle\"},\"selection_glyph\":null,\"view\":{\"id\":\"c673ba52-914a-4268-94c6-df189fc573de\",\"type\":\"CDSView\"}},\"id\":\"2fb92ff8-580f-4a43-ae25-e65a820d6049\",\"type\":\"GlyphRenderer\"},{\"attributes\":{\"formatter\":{\"id\":\"b26c06da-5751-4020-bbfc-7c059850fbb5\",\"type\":\"BasicTickFormatter\"},\"plot\":{\"id\":\"26fe84fb-c544-4547-9b07-4b57551a8c5a\",\"subtype\":\"Figure\",\"type\":\"Plot\"},\"ticker\":{\"id\":\"0114a496-dbc5-4ff5-8479-e7f1a741f1b9\",\"type\":\"BasicTicker\"}},\"id\":\"707406af-40a8-4e1e-aec6-47fb7e2132e8\",\"type\":\"LinearAxis\"},{\"attributes\":{},\"id\":\"0114a496-dbc5-4ff5-8479-e7f1a741f1b9\",\"type\":\"BasicTicker\"},{\"attributes\":{\"fill_color\":{\"value\":\"olive\"},\"line_color\":{\"value\":\"olive\"},\"size\":{\"units\":\"screen\",\"value\":10},\"x\":{\"field\":\"x\"},\"y\":{\"field\":\"y\"}},\"id\":\"0e8fbcff-d02e-44b3-b1dc-ffafc0ef782f\",\"type\":\"Square\"},{\"attributes\":{},\"id\":\"33432f52-fe48-47e3-ad15-6610bcf28968\",\"type\":\"PanTool\"},{\"attributes\":{},\"id\":\"f7876ef6-b84a-4d5e-ad73-96f6c22f8de3\",\"type\":\"WheelZoomTool\"},{\"attributes\":{\"fill_alpha\":{\"value\":0.1},\"fill_color\":{\"value\":\"#1f77b4\"},\"line_alpha\":{\"value\":0.1},\"line_color\":{\"value\":\"#1f77b4\"},\"size\":{\"units\":\"screen\",\"value\":10},\"x\":{\"field\":\"x\"},\"y\":{\"field\":\"y\"}},\"id\":\"116d3f58-a6c2-42fc-b6ac-06dc00956b51\",\"type\":\"Square\"},{\"attributes\":{\"data_source\":{\"id\":\"69c00065-1ca1-4254-8784-b630147c0a81\",\"type\":\"ColumnDataSource\"},\"glyph\":{\"id\":\"0e8fbcff-d02e-44b3-b1dc-ffafc0ef782f\",\"type\":\"Square\"},\"hover_glyph\":null,\"muted_glyph\":null,\"nonselection_glyph\":{\"id\":\"116d3f58-a6c2-42fc-b6ac-06dc00956b51\",\"type\":\"Square\"},\"selection_glyph\":null,\"view\":{\"id\":\"b91542c4-ca43-4474-b0a1-ee1fbe0a824f\",\"type\":\"CDSView\"}},\"id\":\"f31752bc-029d-4e18-bdc3-c98d110dab46\",\"type\":\"GlyphRenderer\"},{\"attributes\":{\"source\":{\"id\":\"69c00065-1ca1-4254-8784-b630147c0a81\",\"type\":\"ColumnDataSource\"}},\"id\":\"b91542c4-ca43-4474-b0a1-ee1fbe0a824f\",\"type\":\"CDSView\"},{\"attributes\":{},\"id\":\"aaec6770-46d0-44f0-ab33-a198df3b6aaf\",\"type\":\"BasicTickFormatter\"},{\"attributes\":{\"plot\":null,\"text\":\"\"},\"id\":\"83df771d-9311-4ddf-a9e3-11e9068e3108\",\"type\":\"Title\"},{\"attributes\":{\"fill_color\":{\"value\":\"navy\"},\"line_color\":{\"value\":\"navy\"},\"size\":{\"units\":\"screen\",\"value\":10},\"x\":{\"field\":\"x\"},\"y\":{\"field\":\"y\"}},\"id\":\"e5e12ef7-be78-4e46-bf7f-fd41aeba1f85\",\"type\":\"Circle\"},{\"attributes\":{},\"id\":\"b26c06da-5751-4020-bbfc-7c059850fbb5\",\"type\":\"BasicTickFormatter\"},{\"attributes\":{\"children\":[{\"id\":\"16692c8a-e88d-4758-8234-80716ddc8a5c\",\"type\":\"ToolbarBox\"},{\"id\":\"c5118e97-2ca9-43e9-ab45-22099041b2b3\",\"type\":\"Column\"}]},\"id\":\"50a3aea8-0ad5-43ea-ae7e-58f1202680a2\",\"type\":\"Column\"},{\"attributes\":{\"below\":[{\"id\":\"fba90aa3-5ed1-4849-a218-9ab3e4a6c9b7\",\"type\":\"LinearAxis\"}],\"left\":[{\"id\":\"baf3ef60-725f-45d1-8891-842a08b66537\",\"type\":\"LinearAxis\"}],\"plot_height\":250,\"plot_width\":250,\"renderers\":[{\"id\":\"fba90aa3-5ed1-4849-a218-9ab3e4a6c9b7\",\"type\":\"LinearAxis\"},{\"id\":\"da29f51a-ac56-4053-9589-83f3b2744796\",\"type\":\"Grid\"},{\"id\":\"baf3ef60-725f-45d1-8891-842a08b66537\",\"type\":\"LinearAxis\"},{\"id\":\"ec1d8085-891a-406a-8f84-b6a6a4babf6e\",\"type\":\"Grid\"},{\"id\":\"2fb92ff8-580f-4a43-ae25-e65a820d6049\",\"type\":\"GlyphRenderer\"}],\"title\":{\"id\":\"a08eae9e-01c4-421c-a86e-bcad2c18855d\",\"type\":\"Title\"},\"toolbar\":{\"id\":\"b615812a-0200-48ff-8b8f-605799d3e3f0\",\"type\":\"Toolbar\"},\"toolbar_location\":null,\"x_range\":{\"id\":\"f7e60a24-b7c5-49d5-94fa-13a5390e0ada\",\"type\":\"DataRange1d\"},\"x_scale\":{\"id\":\"cbe9705e-2940-4eee-b543-adc8b656eb8f\",\"type\":\"LinearScale\"},\"y_range\":{\"id\":\"893ea4af-298e-40fe-ab8d-fa9f010854b3\",\"type\":\"DataRange1d\"},\"y_scale\":{\"id\":\"de2c0a15-7887-4339-832b-4f4f06f44ae3\",\"type\":\"LinearScale\"}},\"id\":\"f5827375-15cf-4154-9cae-8ea0c1de1209\",\"subtype\":\"Figure\",\"type\":\"Plot\"},{\"attributes\":{\"active_drag\":\"auto\",\"active_inspect\":\"auto\",\"active_scroll\":\"auto\",\"active_tap\":\"auto\",\"tools\":[{\"id\":\"ed60777d-2c64-44e3-b387-7c42e8965eab\",\"type\":\"PanTool\"},{\"id\":\"6b8ffdfa-fb57-4f1a-bbba-2198d9b5d02b\",\"type\":\"WheelZoomTool\"}]},\"id\":\"6fcc8adb-5dd5-493c-9bdb-96ce69ce09ad\",\"type\":\"Toolbar\"},{\"attributes\":{\"active_drag\":\"auto\",\"active_inspect\":\"auto\",\"active_scroll\":\"auto\",\"active_tap\":\"auto\",\"tools\":[{\"id\":\"40904e8c-5721-4c4a-9374-7ba3d9cd729e\",\"type\":\"PanTool\"},{\"id\":\"8c7cc26b-2aa8-40b0-8aca-2b587c75a10f\",\"type\":\"WheelZoomTool\"}]},\"id\":\"b615812a-0200-48ff-8b8f-605799d3e3f0\",\"type\":\"Toolbar\"},{\"attributes\":{\"dimension\":1,\"plot\":{\"id\":\"26fe84fb-c544-4547-9b07-4b57551a8c5a\",\"subtype\":\"Figure\",\"type\":\"Plot\"},\"ticker\":{\"id\":\"0114a496-dbc5-4ff5-8479-e7f1a741f1b9\",\"type\":\"BasicTicker\"}},\"id\":\"598108a0-f972-4064-9b82-06753fcd2be1\",\"type\":\"Grid\"},{\"attributes\":{\"callback\":null},\"id\":\"f7e60a24-b7c5-49d5-94fa-13a5390e0ada\",\"type\":\"DataRange1d\"},{\"attributes\":{\"callback\":null},\"id\":\"893ea4af-298e-40fe-ab8d-fa9f010854b3\",\"type\":\"DataRange1d\"},{\"attributes\":{\"callback\":null,\"column_names\":[\"x\",\"y\"],\"data\":{\"x\":[0,1,2,3,4,5,6,7,8,9,10],\"y\":[0,1,2,3,4,5,6,7,8,9,10]}},\"id\":\"48870f8f-1532-4804-b3b9-19eae430cc8a\",\"type\":\"ColumnDataSource\"},{\"attributes\":{},\"id\":\"6e7517f4-f657-4b2b-bae8-24fee04cd211\",\"type\":\"BasicTickFormatter\"},{\"attributes\":{},\"id\":\"cbe9705e-2940-4eee-b543-adc8b656eb8f\",\"type\":\"LinearScale\"},{\"attributes\":{\"plot\":null,\"text\":\"\"},\"id\":\"a08eae9e-01c4-421c-a86e-bcad2c18855d\",\"type\":\"Title\"},{\"attributes\":{},\"id\":\"de2c0a15-7887-4339-832b-4f4f06f44ae3\",\"type\":\"LinearScale\"},{\"attributes\":{\"formatter\":{\"id\":\"d6572783-da3a-47d0-9ecb-e717424f2250\",\"type\":\"BasicTickFormatter\"},\"plot\":{\"id\":\"f5827375-15cf-4154-9cae-8ea0c1de1209\",\"subtype\":\"Figure\",\"type\":\"Plot\"},\"ticker\":{\"id\":\"547954e8-f93f-4134-86d5-bef87b8d208f\",\"type\":\"BasicTicker\"}},\"id\":\"fba90aa3-5ed1-4849-a218-9ab3e4a6c9b7\",\"type\":\"LinearAxis\"},{\"attributes\":{},\"id\":\"547954e8-f93f-4134-86d5-bef87b8d208f\",\"type\":\"BasicTicker\"},{\"attributes\":{\"plot\":{\"id\":\"f5827375-15cf-4154-9cae-8ea0c1de1209\",\"subtype\":\"Figure\",\"type\":\"Plot\"},\"ticker\":{\"id\":\"547954e8-f93f-4134-86d5-bef87b8d208f\",\"type\":\"BasicTicker\"}},\"id\":\"da29f51a-ac56-4053-9589-83f3b2744796\",\"type\":\"Grid\"},{\"attributes\":{\"formatter\":{\"id\":\"6e7517f4-f657-4b2b-bae8-24fee04cd211\",\"type\":\"BasicTickFormatter\"},\"plot\":{\"id\":\"f5827375-15cf-4154-9cae-8ea0c1de1209\",\"subtype\":\"Figure\",\"type\":\"Plot\"},\"ticker\":{\"id\":\"5458f960-1d60-449f-8977-72ec8526f290\",\"type\":\"BasicTicker\"}},\"id\":\"baf3ef60-725f-45d1-8891-842a08b66537\",\"type\":\"LinearAxis\"},{\"attributes\":{},\"id\":\"5458f960-1d60-449f-8977-72ec8526f290\",\"type\":\"BasicTicker\"},{\"attributes\":{\"dimension\":1,\"plot\":{\"id\":\"f5827375-15cf-4154-9cae-8ea0c1de1209\",\"subtype\":\"Figure\",\"type\":\"Plot\"},\"ticker\":{\"id\":\"5458f960-1d60-449f-8977-72ec8526f290\",\"type\":\"BasicTicker\"}},\"id\":\"ec1d8085-891a-406a-8f84-b6a6a4babf6e\",\"type\":\"Grid\"},{\"attributes\":{},\"id\":\"8c7cc26b-2aa8-40b0-8aca-2b587c75a10f\",\"type\":\"WheelZoomTool\"},{\"attributes\":{},\"id\":\"40904e8c-5721-4c4a-9374-7ba3d9cd729e\",\"type\":\"PanTool\"},{\"attributes\":{},\"id\":\"fd692986-efb0-453e-bd1f-2cb3d2500442\",\"type\":\"BasicTickFormatter\"},{\"attributes\":{\"below\":[{\"id\":\"04359d82-ce43-4f4f-8d27-8a2678e26ca6\",\"type\":\"LinearAxis\"}],\"left\":[{\"id\":\"142d1698-f6f5-42c8-a69f-8eabafef12d4\",\"type\":\"LinearAxis\"}],\"plot_height\":250,\"plot_width\":250,\"renderers\":[{\"id\":\"04359d82-ce43-4f4f-8d27-8a2678e26ca6\",\"type\":\"LinearAxis\"},{\"id\":\"7a4d6b00-3cf8-4a19-bace-91e9bfdc53e8\",\"type\":\"Grid\"},{\"id\":\"142d1698-f6f5-42c8-a69f-8eabafef12d4\",\"type\":\"LinearAxis\"},{\"id\":\"3166c102-9745-40d7-b659-025b471db5fb\",\"type\":\"Grid\"},{\"id\":\"fb9458cd-ae4c-42ba-a512-9142b448ec1c\",\"type\":\"GlyphRenderer\"}],\"title\":{\"id\":\"21050ef4-07b4-4265-9a54-a9557334e358\",\"type\":\"Title\"},\"toolbar\":{\"id\":\"6fcc8adb-5dd5-493c-9bdb-96ce69ce09ad\",\"type\":\"Toolbar\"},\"toolbar_location\":null,\"x_range\":{\"id\":\"f7e60a24-b7c5-49d5-94fa-13a5390e0ada\",\"type\":\"DataRange1d\"},\"x_scale\":{\"id\":\"4d53ce0b-4cb1-48af-81a1-df0ed15d2058\",\"type\":\"LinearScale\"},\"y_range\":{\"id\":\"893ea4af-298e-40fe-ab8d-fa9f010854b3\",\"type\":\"DataRange1d\"},\"y_scale\":{\"id\":\"328824f1-9092-45ef-b9a2-9621d7ed61b3\",\"type\":\"LinearScale\"}},\"id\":\"d66933e9-da6a-4d8c-9d9a-79a63b63feb2\",\"subtype\":\"Figure\",\"type\":\"Plot\"},{\"attributes\":{\"fill_alpha\":{\"value\":0.1},\"fill_color\":{\"value\":\"#1f77b4\"},\"line_alpha\":{\"value\":0.1},\"line_color\":{\"value\":\"#1f77b4\"},\"size\":{\"units\":\"screen\",\"value\":10},\"x\":{\"field\":\"x\"},\"y\":{\"field\":\"y\"}},\"id\":\"6a712ac0-e556-4f73-aaf8-7442b1077fbd\",\"type\":\"Triangle\"},{\"attributes\":{\"fill_color\":{\"value\":\"firebrick\"},\"line_color\":{\"value\":\"firebrick\"},\"size\":{\"units\":\"screen\",\"value\":10},\"x\":{\"field\":\"x\"},\"y\":{\"field\":\"y\"}},\"id\":\"45ef1441-6468-48c0-8deb-cd1786eeddaa\",\"type\":\"Triangle\"},{\"attributes\":{\"children\":[{\"id\":\"ddfd0ca0-2c4f-4868-8173-90cdc5164d72\",\"type\":\"Row\"}]},\"id\":\"c5118e97-2ca9-43e9-ab45-22099041b2b3\",\"type\":\"Column\"},{\"attributes\":{},\"id\":\"d6572783-da3a-47d0-9ecb-e717424f2250\",\"type\":\"BasicTickFormatter\"},{\"attributes\":{},\"id\":\"6b8ffdfa-fb57-4f1a-bbba-2198d9b5d02b\",\"type\":\"WheelZoomTool\"},{\"attributes\":{},\"id\":\"328824f1-9092-45ef-b9a2-9621d7ed61b3\",\"type\":\"LinearScale\"},{\"attributes\":{},\"id\":\"4d53ce0b-4cb1-48af-81a1-df0ed15d2058\",\"type\":\"LinearScale\"},{\"attributes\":{\"callback\":null,\"column_names\":[\"x\",\"y\"],\"data\":{\"x\":[0,1,2,3,4,5,6,7,8,9,10],\"y\":[10,9,8,7,6,5,4,3,2,1,0]}},\"id\":\"84a626e9-0b73-4960-807e-1a417cb86352\",\"type\":\"ColumnDataSource\"},{\"attributes\":{},\"id\":\"2ac95543-f240-4966-aa3c-1e6dc464141f\",\"type\":\"BasicTicker\"},{\"attributes\":{\"plot\":{\"id\":\"d66933e9-da6a-4d8c-9d9a-79a63b63feb2\",\"subtype\":\"Figure\",\"type\":\"Plot\"},\"ticker\":{\"id\":\"2ac95543-f240-4966-aa3c-1e6dc464141f\",\"type\":\"BasicTicker\"}},\"id\":\"7a4d6b00-3cf8-4a19-bace-91e9bfdc53e8\",\"type\":\"Grid\"},{\"attributes\":{\"formatter\":{\"id\":\"2a044170-b550-4657-9413-76b96bd99d6f\",\"type\":\"BasicTickFormatter\"},\"plot\":{\"id\":\"d66933e9-da6a-4d8c-9d9a-79a63b63feb2\",\"subtype\":\"Figure\",\"type\":\"Plot\"},\"ticker\":{\"id\":\"2ac95543-f240-4966-aa3c-1e6dc464141f\",\"type\":\"BasicTicker\"}},\"id\":\"04359d82-ce43-4f4f-8d27-8a2678e26ca6\",\"type\":\"LinearAxis\"},{\"attributes\":{\"formatter\":{\"id\":\"fd692986-efb0-453e-bd1f-2cb3d2500442\",\"type\":\"BasicTickFormatter\"},\"plot\":{\"id\":\"d66933e9-da6a-4d8c-9d9a-79a63b63feb2\",\"subtype\":\"Figure\",\"type\":\"Plot\"},\"ticker\":{\"id\":\"1043d86b-5938-4039-9cc6-e2a2f6b2e805\",\"type\":\"BasicTicker\"}},\"id\":\"142d1698-f6f5-42c8-a69f-8eabafef12d4\",\"type\":\"LinearAxis\"},{\"attributes\":{\"fill_alpha\":{\"value\":0.1},\"fill_color\":{\"value\":\"#1f77b4\"},\"line_alpha\":{\"value\":0.1},\"line_color\":{\"value\":\"#1f77b4\"},\"size\":{\"units\":\"screen\",\"value\":10},\"x\":{\"field\":\"x\"},\"y\":{\"field\":\"y\"}},\"id\":\"f84be053-8737-4bb4-bb58-7271dbdfd1e7\",\"type\":\"Circle\"},{\"attributes\":{},\"id\":\"1043d86b-5938-4039-9cc6-e2a2f6b2e805\",\"type\":\"BasicTicker\"},{\"attributes\":{\"dimension\":1,\"plot\":{\"id\":\"d66933e9-da6a-4d8c-9d9a-79a63b63feb2\",\"subtype\":\"Figure\",\"type\":\"Plot\"},\"ticker\":{\"id\":\"1043d86b-5938-4039-9cc6-e2a2f6b2e805\",\"type\":\"BasicTicker\"}},\"id\":\"3166c102-9745-40d7-b659-025b471db5fb\",\"type\":\"Grid\"},{\"attributes\":{\"callback\":null,\"column_names\":[\"x\",\"y\"],\"data\":{\"x\":[0,1,2,3,4,5,6,7,8,9,10],\"y\":[5,4,3,2,1,0,1,2,3,4,5]}},\"id\":\"69c00065-1ca1-4254-8784-b630147c0a81\",\"type\":\"ColumnDataSource\"},{\"attributes\":{},\"id\":\"ed60777d-2c64-44e3-b387-7c42e8965eab\",\"type\":\"PanTool\"},{\"attributes\":{\"below\":[{\"id\":\"e016be55-e86b-4c38-8f0c-bbc33b481db1\",\"type\":\"LinearAxis\"}],\"left\":[{\"id\":\"707406af-40a8-4e1e-aec6-47fb7e2132e8\",\"type\":\"LinearAxis\"}],\"plot_height\":250,\"plot_width\":250,\"renderers\":[{\"id\":\"e016be55-e86b-4c38-8f0c-bbc33b481db1\",\"type\":\"LinearAxis\"},{\"id\":\"d46ca58a-fa53-423c-a4c9-b10edb2b48d7\",\"type\":\"Grid\"},{\"id\":\"707406af-40a8-4e1e-aec6-47fb7e2132e8\",\"type\":\"LinearAxis\"},{\"id\":\"598108a0-f972-4064-9b82-06753fcd2be1\",\"type\":\"Grid\"},{\"id\":\"f31752bc-029d-4e18-bdc3-c98d110dab46\",\"type\":\"GlyphRenderer\"}],\"title\":{\"id\":\"83df771d-9311-4ddf-a9e3-11e9068e3108\",\"type\":\"Title\"},\"toolbar\":{\"id\":\"dde354f7-ccc9-4a30-9560-cab96cb53949\",\"type\":\"Toolbar\"},\"toolbar_location\":null,\"x_range\":{\"id\":\"f7e60a24-b7c5-49d5-94fa-13a5390e0ada\",\"type\":\"DataRange1d\"},\"x_scale\":{\"id\":\"5d93cfd0-8bf4-40a3-8911-b01b9964e6af\",\"type\":\"LinearScale\"},\"y_range\":{\"id\":\"0ae0ac62-65eb-423c-a3f6-ed72f2d981cb\",\"type\":\"DataRange1d\"},\"y_scale\":{\"id\":\"87a52054-511c-4585-b6db-921e97ffb3c2\",\"type\":\"LinearScale\"}},\"id\":\"26fe84fb-c544-4547-9b07-4b57551a8c5a\",\"subtype\":\"Figure\",\"type\":\"Plot\"},{\"attributes\":{\"data_source\":{\"id\":\"84a626e9-0b73-4960-807e-1a417cb86352\",\"type\":\"ColumnDataSource\"},\"glyph\":{\"id\":\"45ef1441-6468-48c0-8deb-cd1786eeddaa\",\"type\":\"Triangle\"},\"hover_glyph\":null,\"muted_glyph\":null,\"nonselection_glyph\":{\"id\":\"6a712ac0-e556-4f73-aaf8-7442b1077fbd\",\"type\":\"Triangle\"},\"selection_glyph\":null,\"view\":{\"id\":\"d525f6dd-ff75-407c-a83d-84f9e0c42c85\",\"type\":\"CDSView\"}},\"id\":\"fb9458cd-ae4c-42ba-a512-9142b448ec1c\",\"type\":\"GlyphRenderer\"},{\"attributes\":{\"source\":{\"id\":\"84a626e9-0b73-4960-807e-1a417cb86352\",\"type\":\"ColumnDataSource\"}},\"id\":\"d525f6dd-ff75-407c-a83d-84f9e0c42c85\",\"type\":\"CDSView\"},{\"attributes\":{\"plot\":null,\"text\":\"\"},\"id\":\"21050ef4-07b4-4265-9a54-a9557334e358\",\"type\":\"Title\"}],\"root_ids\":[\"50a3aea8-0ad5-43ea-ae7e-58f1202680a2\"]},\"title\":\"Bokeh Application\",\"version\":\"0.12.8\"}};\n",
       "    var render_items = [{\"docid\":\"8b532225-03cd-41d3-95dc-55fec8fedcdf\",\"elementid\":\"34e0c13b-976c-444c-bf81-6547d4acb19f\",\"modelid\":\"50a3aea8-0ad5-43ea-ae7e-58f1202680a2\"}];\n",
       "\n",
       "    root.Bokeh.embed.embed_items(docs_json, render_items);\n",
       "  }\n",
       "\n",
       "  if (root.Bokeh !== undefined) {\n",
       "    embed_document(root);\n",
       "  } else {\n",
       "    var attempts = 0;\n",
       "    var timer = setInterval(function(root) {\n",
       "      if (root.Bokeh !== undefined) {\n",
       "        embed_document(root);\n",
       "        clearInterval(timer);\n",
       "      }\n",
       "      attempts++;\n",
       "      if (attempts > 100) {\n",
       "        console.log(\"Bokeh: ERROR: Unable to embed document because BokehJS library is missing\")\n",
       "        clearInterval(timer);\n",
       "      }\n",
       "    }, 10, root)\n",
       "  }\n",
       "})(window);"
      ],
      "application/vnd.bokehjs_exec.v0+json": ""
     },
     "metadata": {
      "application/vnd.bokehjs_exec.v0+json": {
       "id": "50a3aea8-0ad5-43ea-ae7e-58f1202680a2"
      }
     },
     "output_type": "display_data"
    }
   ],
   "source": [
    "from bokeh.layouts import gridplot\n",
    "\n",
    "x = list(range(11))\n",
    "y0, y1, y2 = x, [10-i for i in x], [abs(i-5) for i in x]\n",
    "\n",
    "plot_options = dict(width=250, plot_height=250, tools='pan,wheel_zoom')\n",
    "\n",
    "# create a new plot\n",
    "s1 = figure(**plot_options)\n",
    "s1.circle(x, y0, size=10, color=\"navy\")\n",
    "\n",
    "# create a new plot and share both ranges\n",
    "s2 = figure(x_range=s1.x_range, y_range=s1.y_range, **plot_options)\n",
    "s2.triangle(x, y1, size=10, color=\"firebrick\")\n",
    "\n",
    "# create a new plot and share only one range\n",
    "s3 = figure(x_range=s1.x_range, **plot_options)\n",
    "s3.square(x, y2, size=10, color=\"olive\")\n",
    "\n",
    "p = gridplot([[s1, s2, s3]])\n",
    "\n",
    "# show the results\n",
    "show(p)"
   ]
  },
  {
   "cell_type": "code",
   "execution_count": 3,
   "metadata": {
    "collapsed": true
   },
   "outputs": [],
   "source": [
    "# EXERCISE: create two plots in a gridplot, and link their ranges\n"
   ]
  },
  {
   "cell_type": "markdown",
   "metadata": {},
   "source": [
    "## Linked brushing\n",
    "\n",
    "Linking selections is accomplished in a similar way, by sharing data sources between plots. Note that normally with ``bokeh.plotting`` and ``bokeh.charts`` creating a default data source for simple plots is handled automatically. However to share a data source, we must create them by hand and pass them explicitly. This is illustrated in the example below:"
   ]
  },
  {
   "cell_type": "code",
   "execution_count": 4,
   "metadata": {},
   "outputs": [
    {
     "data": {
      "text/html": [
       "\n",
       "<div class=\"bk-root\">\n",
       "    <div class=\"bk-plotdiv\" id=\"ea77b39a-400f-46f7-b6eb-9ef2e0e70b70\"></div>\n",
       "</div>"
      ]
     },
     "metadata": {},
     "output_type": "display_data"
    },
    {
     "data": {
      "application/javascript": [
       "(function(root) {\n",
       "  function embed_document(root) {\n",
       "    var docs_json = {\"dc0cb20d-ff4d-4461-8850-e0bcf7fba30a\":{\"roots\":{\"references\":[{\"attributes\":{\"bottom_units\":\"screen\",\"fill_alpha\":{\"value\":0.5},\"fill_color\":{\"value\":\"lightgrey\"},\"left_units\":\"screen\",\"level\":\"overlay\",\"line_alpha\":{\"value\":1.0},\"line_color\":{\"value\":\"black\"},\"line_dash\":[4,4],\"line_width\":{\"value\":2},\"plot\":null,\"render_mode\":\"css\",\"right_units\":\"screen\",\"top_units\":\"screen\"},\"id\":\"63d4257c-8ca9-4c5d-81f1-883b912e2c8e\",\"type\":\"BoxAnnotation\"},{\"attributes\":{\"formatter\":{\"id\":\"2254c8cb-1243-4713-bd93-105812826684\",\"type\":\"BasicTickFormatter\"},\"plot\":{\"id\":\"390b1e93-2fc0-4aa5-8273-56bcfcef3170\",\"subtype\":\"Figure\",\"type\":\"Plot\"},\"ticker\":{\"id\":\"6f423b18-fd46-427c-9106-401bb35a081d\",\"type\":\"BasicTicker\"}},\"id\":\"6ca5d522-2480-434e-a580-cb3a5baa2646\",\"type\":\"LinearAxis\"},{\"attributes\":{},\"id\":\"82ca5850-9c2a-46d2-bf74-473bbb8ed495\",\"type\":\"BasicTicker\"},{\"attributes\":{\"bottom_units\":\"screen\",\"fill_alpha\":{\"value\":0.5},\"fill_color\":{\"value\":\"lightgrey\"},\"left_units\":\"screen\",\"level\":\"overlay\",\"line_alpha\":{\"value\":1.0},\"line_color\":{\"value\":\"black\"},\"line_dash\":[4,4],\"line_width\":{\"value\":2},\"plot\":null,\"render_mode\":\"css\",\"right_units\":\"screen\",\"top_units\":\"screen\"},\"id\":\"b777ea77-5b5a-4122-a2de-163160bc4978\",\"type\":\"BoxAnnotation\"},{\"attributes\":{\"fill_color\":{\"value\":\"#1f77b4\"},\"line_color\":{\"value\":\"#1f77b4\"},\"x\":{\"field\":\"x\"},\"y\":{\"field\":\"y1\"}},\"id\":\"26a16361-2cd4-4c49-b826-98ddeb3c0e1c\",\"type\":\"Circle\"},{\"attributes\":{\"sizing_mode\":\"scale_width\",\"toolbar_location\":\"above\",\"tools\":[{\"id\":\"60812786-ee6d-4b30-ade8-ef321da103a7\",\"type\":\"BoxSelectTool\"},{\"id\":\"f4403725-89bb-4554-9b06-25d9b8807053\",\"type\":\"LassoSelectTool\"},{\"id\":\"e8a3aff7-6ed5-498b-84ac-19284dece770\",\"type\":\"HelpTool\"},{\"id\":\"0ec6fb44-b017-41f4-bbea-8f24801d1ff6\",\"type\":\"BoxSelectTool\"},{\"id\":\"c9967763-45a9-444f-bba0-ca1e8f0a297e\",\"type\":\"LassoSelectTool\"},{\"id\":\"7467a70b-7144-4a7f-8a41-45373b89ee70\",\"type\":\"HelpTool\"}]},\"id\":\"d8775d24-9707-4a07-ab16-d000815ea539\",\"type\":\"ToolbarBox\"},{\"attributes\":{\"source\":{\"id\":\"a3ca9dd8-a645-4912-92e6-c0bd870d8caf\",\"type\":\"ColumnDataSource\"}},\"id\":\"2a68ca2f-4f45-4e69-9e84-cf5915eeb218\",\"type\":\"CDSView\"},{\"attributes\":{\"fill_alpha\":{\"value\":0.5},\"fill_color\":{\"value\":\"lightgrey\"},\"level\":\"overlay\",\"line_alpha\":{\"value\":1.0},\"line_color\":{\"value\":\"black\"},\"line_dash\":[4,4],\"line_width\":{\"value\":2},\"plot\":null,\"xs_units\":\"screen\",\"ys_units\":\"screen\"},\"id\":\"86689358-62c1-4341-b138-bb319b45b9f5\",\"type\":\"PolyAnnotation\"},{\"attributes\":{\"callback\":null},\"id\":\"dcb2b66a-0feb-498a-93e6-e1961f16b625\",\"type\":\"DataRange1d\"},{\"attributes\":{\"plot\":null,\"text\":\"\"},\"id\":\"ebc9fa80-47fb-4158-90f3-db2f1bae3d2e\",\"type\":\"Title\"},{\"attributes\":{},\"id\":\"2254c8cb-1243-4713-bd93-105812826684\",\"type\":\"BasicTickFormatter\"},{\"attributes\":{\"children\":[{\"id\":\"7de306c6-fc9b-4806-bef4-a7f701cc7bd4\",\"type\":\"Row\"}]},\"id\":\"57c6555b-d110-45de-b0bd-410134b273ca\",\"type\":\"Column\"},{\"attributes\":{},\"id\":\"b6e4569d-58ee-479d-b7b2-6b34fbcac543\",\"type\":\"LinearScale\"},{\"attributes\":{\"plot\":{\"id\":\"092742f1-62c1-4f75-acc6-7b831568c9d3\",\"subtype\":\"Figure\",\"type\":\"Plot\"},\"ticker\":{\"id\":\"2b370751-e8d3-4cca-bc12-4e767669825d\",\"type\":\"BasicTicker\"}},\"id\":\"6ec731ae-b698-43e2-9698-c38833fa6583\",\"type\":\"Grid\"},{\"attributes\":{},\"id\":\"c8e9cf9d-73a4-4144-ba67-a983d678cf82\",\"type\":\"BasicTickFormatter\"},{\"attributes\":{},\"id\":\"7467a70b-7144-4a7f-8a41-45373b89ee70\",\"type\":\"HelpTool\"},{\"attributes\":{\"below\":[{\"id\":\"1cdc73ec-91ea-409a-9067-1f58377c1767\",\"type\":\"LinearAxis\"}],\"left\":[{\"id\":\"6ca5d522-2480-434e-a580-cb3a5baa2646\",\"type\":\"LinearAxis\"}],\"plot_height\":300,\"plot_width\":300,\"renderers\":[{\"id\":\"1cdc73ec-91ea-409a-9067-1f58377c1767\",\"type\":\"LinearAxis\"},{\"id\":\"78d8ef2d-51c7-4283-8d0f-37055c3514e5\",\"type\":\"Grid\"},{\"id\":\"6ca5d522-2480-434e-a580-cb3a5baa2646\",\"type\":\"LinearAxis\"},{\"id\":\"541b8941-9595-4a18-b6de-95ea6cc823eb\",\"type\":\"Grid\"},{\"id\":\"63d4257c-8ca9-4c5d-81f1-883b912e2c8e\",\"type\":\"BoxAnnotation\"},{\"id\":\"86689358-62c1-4341-b138-bb319b45b9f5\",\"type\":\"PolyAnnotation\"},{\"id\":\"bcbed4e5-f447-4528-9cf3-e4e80bb9a680\",\"type\":\"GlyphRenderer\"}],\"title\":{\"id\":\"ebc9fa80-47fb-4158-90f3-db2f1bae3d2e\",\"type\":\"Title\"},\"toolbar\":{\"id\":\"bea0a452-3b5d-4292-8dcf-bb297c300049\",\"type\":\"Toolbar\"},\"toolbar_location\":null,\"x_range\":{\"id\":\"36254cfe-1fff-46ed-aca7-4441d1f06ec7\",\"type\":\"DataRange1d\"},\"x_scale\":{\"id\":\"2b7cc3f1-7cab-4d65-9a65-a428c9fbd793\",\"type\":\"LinearScale\"},\"y_range\":{\"id\":\"43521e11-6b05-47b1-b0ef-71cbc802c7f3\",\"type\":\"DataRange1d\"},\"y_scale\":{\"id\":\"a8be7b76-3166-4d89-9e09-5af053498d8c\",\"type\":\"LinearScale\"}},\"id\":\"390b1e93-2fc0-4aa5-8273-56bcfcef3170\",\"subtype\":\"Figure\",\"type\":\"Plot\"},{\"attributes\":{},\"id\":\"e5cb48c4-24e7-44bd-ad97-b5695989d349\",\"type\":\"LinearScale\"},{\"attributes\":{\"callback\":null,\"column_names\":[\"x\",\"y0\",\"y1\"],\"data\":{\"x\":[-20,-19,-18,-17,-16,-15,-14,-13,-12,-11,-10,-9,-8,-7,-6,-5,-4,-3,-2,-1,0,1,2,3,4,5,6,7,8,9,10,11,12,13,14,15,16,17,18,19,20],\"y0\":[20,19,18,17,16,15,14,13,12,11,10,9,8,7,6,5,4,3,2,1,0,1,2,3,4,5,6,7,8,9,10,11,12,13,14,15,16,17,18,19,20],\"y1\":[400,361,324,289,256,225,196,169,144,121,100,81,64,49,36,25,16,9,4,1,0,1,4,9,16,25,36,49,64,81,100,121,144,169,196,225,256,289,324,361,400]}},\"id\":\"a3ca9dd8-a645-4912-92e6-c0bd870d8caf\",\"type\":\"ColumnDataSource\"},{\"attributes\":{},\"id\":\"2b370751-e8d3-4cca-bc12-4e767669825d\",\"type\":\"BasicTicker\"},{\"attributes\":{\"below\":[{\"id\":\"e9169490-2aba-4d47-82b9-2b6c8cfaee93\",\"type\":\"LinearAxis\"}],\"left\":[{\"id\":\"41b6120e-8071-4c6e-b955-b6c22f22cadf\",\"type\":\"LinearAxis\"}],\"plot_height\":300,\"plot_width\":300,\"renderers\":[{\"id\":\"e9169490-2aba-4d47-82b9-2b6c8cfaee93\",\"type\":\"LinearAxis\"},{\"id\":\"6ec731ae-b698-43e2-9698-c38833fa6583\",\"type\":\"Grid\"},{\"id\":\"41b6120e-8071-4c6e-b955-b6c22f22cadf\",\"type\":\"LinearAxis\"},{\"id\":\"9d6b8127-c70d-483e-83b2-b279b49e7662\",\"type\":\"Grid\"},{\"id\":\"b777ea77-5b5a-4122-a2de-163160bc4978\",\"type\":\"BoxAnnotation\"},{\"id\":\"466a7e0c-0673-4190-ad49-765265b6fb95\",\"type\":\"PolyAnnotation\"},{\"id\":\"b5768ca5-efdb-41ab-8149-525ccf2382b1\",\"type\":\"GlyphRenderer\"}],\"title\":{\"id\":\"21768917-988b-4ca8-9d6f-f973c70ddd72\",\"type\":\"Title\"},\"toolbar\":{\"id\":\"36c4982e-408c-4dc5-947f-abdf2e5aa133\",\"type\":\"Toolbar\"},\"toolbar_location\":null,\"x_range\":{\"id\":\"dcb2b66a-0feb-498a-93e6-e1961f16b625\",\"type\":\"DataRange1d\"},\"x_scale\":{\"id\":\"b6e4569d-58ee-479d-b7b2-6b34fbcac543\",\"type\":\"LinearScale\"},\"y_range\":{\"id\":\"d8d4b0d6-cfd6-490e-a38a-2a013543000e\",\"type\":\"DataRange1d\"},\"y_scale\":{\"id\":\"e5cb48c4-24e7-44bd-ad97-b5695989d349\",\"type\":\"LinearScale\"}},\"id\":\"092742f1-62c1-4f75-acc6-7b831568c9d3\",\"subtype\":\"Figure\",\"type\":\"Plot\"},{\"attributes\":{\"formatter\":{\"id\":\"7472093b-a025-43c7-89e2-fa60b813404c\",\"type\":\"BasicTickFormatter\"},\"plot\":{\"id\":\"092742f1-62c1-4f75-acc6-7b831568c9d3\",\"subtype\":\"Figure\",\"type\":\"Plot\"},\"ticker\":{\"id\":\"2b370751-e8d3-4cca-bc12-4e767669825d\",\"type\":\"BasicTicker\"}},\"id\":\"e9169490-2aba-4d47-82b9-2b6c8cfaee93\",\"type\":\"LinearAxis\"},{\"attributes\":{},\"id\":\"e8a3aff7-6ed5-498b-84ac-19284dece770\",\"type\":\"HelpTool\"},{\"attributes\":{},\"id\":\"8bb343b2-6718-42c5-b094-72c3af01ad1e\",\"type\":\"BasicTicker\"},{\"attributes\":{\"fill_alpha\":{\"value\":0.1},\"fill_color\":{\"value\":\"#1f77b4\"},\"line_alpha\":{\"value\":0.1},\"line_color\":{\"value\":\"#1f77b4\"},\"x\":{\"field\":\"x\"},\"y\":{\"field\":\"y0\"}},\"id\":\"dfc03ae0-ace9-4597-b300-72cce716f258\",\"type\":\"Circle\"},{\"attributes\":{\"formatter\":{\"id\":\"c49ce5a5-a99c-4919-84d8-16ef49027d19\",\"type\":\"BasicTickFormatter\"},\"plot\":{\"id\":\"092742f1-62c1-4f75-acc6-7b831568c9d3\",\"subtype\":\"Figure\",\"type\":\"Plot\"},\"ticker\":{\"id\":\"8bb343b2-6718-42c5-b094-72c3af01ad1e\",\"type\":\"BasicTicker\"}},\"id\":\"41b6120e-8071-4c6e-b955-b6c22f22cadf\",\"type\":\"LinearAxis\"},{\"attributes\":{\"fill_color\":{\"value\":\"#1f77b4\"},\"line_color\":{\"value\":\"#1f77b4\"},\"x\":{\"field\":\"x\"},\"y\":{\"field\":\"y0\"}},\"id\":\"37fc9635-977d-41ce-8851-f0c12197197f\",\"type\":\"Circle\"},{\"attributes\":{\"callback\":null},\"id\":\"d8d4b0d6-cfd6-490e-a38a-2a013543000e\",\"type\":\"DataRange1d\"},{\"attributes\":{\"active_drag\":\"auto\",\"active_inspect\":\"auto\",\"active_scroll\":\"auto\",\"active_tap\":\"auto\",\"tools\":[{\"id\":\"60812786-ee6d-4b30-ade8-ef321da103a7\",\"type\":\"BoxSelectTool\"},{\"id\":\"f4403725-89bb-4554-9b06-25d9b8807053\",\"type\":\"LassoSelectTool\"},{\"id\":\"e8a3aff7-6ed5-498b-84ac-19284dece770\",\"type\":\"HelpTool\"}]},\"id\":\"bea0a452-3b5d-4292-8dcf-bb297c300049\",\"type\":\"Toolbar\"},{\"attributes\":{\"children\":[{\"id\":\"390b1e93-2fc0-4aa5-8273-56bcfcef3170\",\"subtype\":\"Figure\",\"type\":\"Plot\"},{\"id\":\"092742f1-62c1-4f75-acc6-7b831568c9d3\",\"subtype\":\"Figure\",\"type\":\"Plot\"}]},\"id\":\"7de306c6-fc9b-4806-bef4-a7f701cc7bd4\",\"type\":\"Row\"},{\"attributes\":{\"callback\":null},\"id\":\"36254cfe-1fff-46ed-aca7-4441d1f06ec7\",\"type\":\"DataRange1d\"},{\"attributes\":{\"dimension\":1,\"plot\":{\"id\":\"092742f1-62c1-4f75-acc6-7b831568c9d3\",\"subtype\":\"Figure\",\"type\":\"Plot\"},\"ticker\":{\"id\":\"8bb343b2-6718-42c5-b094-72c3af01ad1e\",\"type\":\"BasicTicker\"}},\"id\":\"9d6b8127-c70d-483e-83b2-b279b49e7662\",\"type\":\"Grid\"},{\"attributes\":{\"formatter\":{\"id\":\"c8e9cf9d-73a4-4144-ba67-a983d678cf82\",\"type\":\"BasicTickFormatter\"},\"plot\":{\"id\":\"390b1e93-2fc0-4aa5-8273-56bcfcef3170\",\"subtype\":\"Figure\",\"type\":\"Plot\"},\"ticker\":{\"id\":\"82ca5850-9c2a-46d2-bf74-473bbb8ed495\",\"type\":\"BasicTicker\"}},\"id\":\"1cdc73ec-91ea-409a-9067-1f58377c1767\",\"type\":\"LinearAxis\"},{\"attributes\":{\"fill_alpha\":{\"value\":0.1},\"fill_color\":{\"value\":\"#1f77b4\"},\"line_alpha\":{\"value\":0.1},\"line_color\":{\"value\":\"#1f77b4\"},\"x\":{\"field\":\"x\"},\"y\":{\"field\":\"y1\"}},\"id\":\"da7677ab-8a7e-4494-a10d-d793cd37e030\",\"type\":\"Circle\"},{\"attributes\":{\"dimension\":1,\"plot\":{\"id\":\"390b1e93-2fc0-4aa5-8273-56bcfcef3170\",\"subtype\":\"Figure\",\"type\":\"Plot\"},\"ticker\":{\"id\":\"6f423b18-fd46-427c-9106-401bb35a081d\",\"type\":\"BasicTicker\"}},\"id\":\"541b8941-9595-4a18-b6de-95ea6cc823eb\",\"type\":\"Grid\"},{\"attributes\":{},\"id\":\"2b7cc3f1-7cab-4d65-9a65-a428c9fbd793\",\"type\":\"LinearScale\"},{\"attributes\":{\"callback\":null,\"overlay\":{\"id\":\"b777ea77-5b5a-4122-a2de-163160bc4978\",\"type\":\"BoxAnnotation\"},\"renderers\":[{\"id\":\"b5768ca5-efdb-41ab-8149-525ccf2382b1\",\"type\":\"GlyphRenderer\"}]},\"id\":\"0ec6fb44-b017-41f4-bbea-8f24801d1ff6\",\"type\":\"BoxSelectTool\"},{\"attributes\":{\"callback\":null},\"id\":\"43521e11-6b05-47b1-b0ef-71cbc802c7f3\",\"type\":\"DataRange1d\"},{\"attributes\":{\"fill_alpha\":{\"value\":0.5},\"fill_color\":{\"value\":\"lightgrey\"},\"level\":\"overlay\",\"line_alpha\":{\"value\":1.0},\"line_color\":{\"value\":\"black\"},\"line_dash\":[4,4],\"line_width\":{\"value\":2},\"plot\":null,\"xs_units\":\"screen\",\"ys_units\":\"screen\"},\"id\":\"466a7e0c-0673-4190-ad49-765265b6fb95\",\"type\":\"PolyAnnotation\"},{\"attributes\":{},\"id\":\"a8be7b76-3166-4d89-9e09-5af053498d8c\",\"type\":\"LinearScale\"},{\"attributes\":{\"source\":{\"id\":\"a3ca9dd8-a645-4912-92e6-c0bd870d8caf\",\"type\":\"ColumnDataSource\"}},\"id\":\"18097b0d-4993-4804-a2b2-7e784b8df839\",\"type\":\"CDSView\"},{\"attributes\":{\"plot\":{\"id\":\"390b1e93-2fc0-4aa5-8273-56bcfcef3170\",\"subtype\":\"Figure\",\"type\":\"Plot\"},\"ticker\":{\"id\":\"82ca5850-9c2a-46d2-bf74-473bbb8ed495\",\"type\":\"BasicTicker\"}},\"id\":\"78d8ef2d-51c7-4283-8d0f-37055c3514e5\",\"type\":\"Grid\"},{\"attributes\":{\"callback\":null,\"overlay\":{\"id\":\"466a7e0c-0673-4190-ad49-765265b6fb95\",\"type\":\"PolyAnnotation\"}},\"id\":\"c9967763-45a9-444f-bba0-ca1e8f0a297e\",\"type\":\"LassoSelectTool\"},{\"attributes\":{\"data_source\":{\"id\":\"a3ca9dd8-a645-4912-92e6-c0bd870d8caf\",\"type\":\"ColumnDataSource\"},\"glyph\":{\"id\":\"37fc9635-977d-41ce-8851-f0c12197197f\",\"type\":\"Circle\"},\"hover_glyph\":null,\"muted_glyph\":null,\"nonselection_glyph\":{\"id\":\"dfc03ae0-ace9-4597-b300-72cce716f258\",\"type\":\"Circle\"},\"selection_glyph\":null,\"view\":{\"id\":\"2a68ca2f-4f45-4e69-9e84-cf5915eeb218\",\"type\":\"CDSView\"}},\"id\":\"bcbed4e5-f447-4528-9cf3-e4e80bb9a680\",\"type\":\"GlyphRenderer\"},{\"attributes\":{},\"id\":\"c49ce5a5-a99c-4919-84d8-16ef49027d19\",\"type\":\"BasicTickFormatter\"},{\"attributes\":{},\"id\":\"7472093b-a025-43c7-89e2-fa60b813404c\",\"type\":\"BasicTickFormatter\"},{\"attributes\":{\"data_source\":{\"id\":\"a3ca9dd8-a645-4912-92e6-c0bd870d8caf\",\"type\":\"ColumnDataSource\"},\"glyph\":{\"id\":\"26a16361-2cd4-4c49-b826-98ddeb3c0e1c\",\"type\":\"Circle\"},\"hover_glyph\":null,\"muted_glyph\":null,\"nonselection_glyph\":{\"id\":\"da7677ab-8a7e-4494-a10d-d793cd37e030\",\"type\":\"Circle\"},\"selection_glyph\":null,\"view\":{\"id\":\"18097b0d-4993-4804-a2b2-7e784b8df839\",\"type\":\"CDSView\"}},\"id\":\"b5768ca5-efdb-41ab-8149-525ccf2382b1\",\"type\":\"GlyphRenderer\"},{\"attributes\":{\"callback\":null,\"overlay\":{\"id\":\"86689358-62c1-4341-b138-bb319b45b9f5\",\"type\":\"PolyAnnotation\"}},\"id\":\"f4403725-89bb-4554-9b06-25d9b8807053\",\"type\":\"LassoSelectTool\"},{\"attributes\":{\"plot\":null,\"text\":\"\"},\"id\":\"21768917-988b-4ca8-9d6f-f973c70ddd72\",\"type\":\"Title\"},{\"attributes\":{\"active_drag\":\"auto\",\"active_inspect\":\"auto\",\"active_scroll\":\"auto\",\"active_tap\":\"auto\",\"tools\":[{\"id\":\"0ec6fb44-b017-41f4-bbea-8f24801d1ff6\",\"type\":\"BoxSelectTool\"},{\"id\":\"c9967763-45a9-444f-bba0-ca1e8f0a297e\",\"type\":\"LassoSelectTool\"},{\"id\":\"7467a70b-7144-4a7f-8a41-45373b89ee70\",\"type\":\"HelpTool\"}]},\"id\":\"36c4982e-408c-4dc5-947f-abdf2e5aa133\",\"type\":\"Toolbar\"},{\"attributes\":{},\"id\":\"6f423b18-fd46-427c-9106-401bb35a081d\",\"type\":\"BasicTicker\"},{\"attributes\":{\"children\":[{\"id\":\"d8775d24-9707-4a07-ab16-d000815ea539\",\"type\":\"ToolbarBox\"},{\"id\":\"57c6555b-d110-45de-b0bd-410134b273ca\",\"type\":\"Column\"}]},\"id\":\"9c067321-f6e5-4fad-a5fe-4584c11de0a1\",\"type\":\"Column\"},{\"attributes\":{\"callback\":null,\"overlay\":{\"id\":\"63d4257c-8ca9-4c5d-81f1-883b912e2c8e\",\"type\":\"BoxAnnotation\"},\"renderers\":[{\"id\":\"bcbed4e5-f447-4528-9cf3-e4e80bb9a680\",\"type\":\"GlyphRenderer\"}]},\"id\":\"60812786-ee6d-4b30-ade8-ef321da103a7\",\"type\":\"BoxSelectTool\"}],\"root_ids\":[\"9c067321-f6e5-4fad-a5fe-4584c11de0a1\"]},\"title\":\"Bokeh Application\",\"version\":\"0.12.8\"}};\n",
       "    var render_items = [{\"docid\":\"dc0cb20d-ff4d-4461-8850-e0bcf7fba30a\",\"elementid\":\"ea77b39a-400f-46f7-b6eb-9ef2e0e70b70\",\"modelid\":\"9c067321-f6e5-4fad-a5fe-4584c11de0a1\"}];\n",
       "\n",
       "    root.Bokeh.embed.embed_items(docs_json, render_items);\n",
       "  }\n",
       "\n",
       "  if (root.Bokeh !== undefined) {\n",
       "    embed_document(root);\n",
       "  } else {\n",
       "    var attempts = 0;\n",
       "    var timer = setInterval(function(root) {\n",
       "      if (root.Bokeh !== undefined) {\n",
       "        embed_document(root);\n",
       "        clearInterval(timer);\n",
       "      }\n",
       "      attempts++;\n",
       "      if (attempts > 100) {\n",
       "        console.log(\"Bokeh: ERROR: Unable to embed document because BokehJS library is missing\")\n",
       "        clearInterval(timer);\n",
       "      }\n",
       "    }, 10, root)\n",
       "  }\n",
       "})(window);"
      ],
      "application/vnd.bokehjs_exec.v0+json": ""
     },
     "metadata": {
      "application/vnd.bokehjs_exec.v0+json": {
       "id": "9c067321-f6e5-4fad-a5fe-4584c11de0a1"
      }
     },
     "output_type": "display_data"
    }
   ],
   "source": [
    "from bokeh.models import ColumnDataSource\n",
    "\n",
    "x = list(range(-20, 21))\n",
    "y0, y1 = [abs(xx) for xx in x], [xx**2 for xx in x]\n",
    "\n",
    "# create a column data source for the plots to share\n",
    "source = ColumnDataSource(data=dict(x=x, y0=y0, y1=y1))\n",
    "\n",
    "TOOLS = \"box_select,lasso_select,help\"\n",
    "\n",
    "# create a new plot and add a renderer\n",
    "left = figure(tools=TOOLS, width=300, height=300)\n",
    "left.circle('x', 'y0', source=source)\n",
    "\n",
    "# create another new plot and add a renderer\n",
    "right = figure(tools=TOOLS, width=300, height=300)\n",
    "right.circle('x', 'y1', source=source)\n",
    "\n",
    "p = gridplot([[left, right]])\n",
    "\n",
    "show(p)"
   ]
  },
  {
   "cell_type": "code",
   "execution_count": 5,
   "metadata": {
    "collapsed": true
   },
   "outputs": [],
   "source": [
    "# EXERCISE: create two plots in a gridplot, and link their data sources\n",
    "\n"
   ]
  },
  {
   "cell_type": "markdown",
   "metadata": {},
   "source": [
    "# Hover Tools\n",
    "\n",
    "Bokeh has a Hover Tool that allows additional information to be displayed in a popup whenever the user hovers over a specific glyph. Basic hover tool configuration amounts to providing a list of ``(name, format)`` tuples. The full details can be found in the User's Guide [here](http://bokeh.pydata.org/en/latest/docs/user_guide/tools.html#hovertool).\n",
    "\n",
    "The example below shows some basic usage of the Hover tool with a circle glyph, using hover information defined in utils.py:"
   ]
  },
  {
   "cell_type": "code",
   "execution_count": 6,
   "metadata": {},
   "outputs": [
    {
     "data": {
      "text/html": [
       "\n",
       "<div class=\"bk-root\">\n",
       "    <div class=\"bk-plotdiv\" id=\"0f558852-72a4-4409-b6d9-a91b08bf0cd4\"></div>\n",
       "</div>"
      ]
     },
     "metadata": {},
     "output_type": "display_data"
    },
    {
     "data": {
      "application/javascript": [
       "(function(root) {\n",
       "  function embed_document(root) {\n",
       "    var docs_json = {\"1310842f-3c7d-41b2-96d0-9918716e75f5\":{\"roots\":{\"references\":[{\"attributes\":{\"fill_color\":{\"value\":\"#1f77b4\"},\"line_color\":{\"value\":\"#1f77b4\"},\"size\":{\"units\":\"screen\",\"value\":20},\"x\":{\"field\":\"x\"},\"y\":{\"field\":\"y\"}},\"id\":\"cebbf938-247f-4adc-b6fb-6e829c5c763d\",\"type\":\"Circle\"},{\"attributes\":{\"fill_alpha\":{\"value\":0.1},\"fill_color\":{\"value\":\"#1f77b4\"},\"line_alpha\":{\"value\":0.1},\"line_color\":{\"value\":\"#1f77b4\"},\"size\":{\"units\":\"screen\",\"value\":20},\"x\":{\"field\":\"x\"},\"y\":{\"field\":\"y\"}},\"id\":\"303a17e0-9aab-4e9c-98ab-29ed167dcb3a\",\"type\":\"Circle\"},{\"attributes\":{\"dimension\":1,\"plot\":{\"id\":\"2eb874cd-7222-40fa-8c0d-0ef01e562904\",\"subtype\":\"Figure\",\"type\":\"Plot\"},\"ticker\":{\"id\":\"6d15d3b6-f17a-471a-8583-5cdd023b65cc\",\"type\":\"BasicTicker\"}},\"id\":\"6cb96f61-5e66-4bc7-aee2-b06700c68cad\",\"type\":\"Grid\"},{\"attributes\":{\"data_source\":{\"id\":\"dcce5289-0bc5-4c99-b695-77f7e864e011\",\"type\":\"ColumnDataSource\"},\"glyph\":{\"id\":\"cebbf938-247f-4adc-b6fb-6e829c5c763d\",\"type\":\"Circle\"},\"hover_glyph\":null,\"muted_glyph\":null,\"nonselection_glyph\":{\"id\":\"303a17e0-9aab-4e9c-98ab-29ed167dcb3a\",\"type\":\"Circle\"},\"selection_glyph\":null,\"view\":{\"id\":\"48ef51d4-00be-41f6-95fb-08b205079e3b\",\"type\":\"CDSView\"}},\"id\":\"3e8f1484-8f3a-4f44-99b4-a90c16bca727\",\"type\":\"GlyphRenderer\"},{\"attributes\":{\"plot\":null,\"text\":\"Mouse over the dots\"},\"id\":\"2245ea4a-5ad6-4386-9580-71963d3ee7d3\",\"type\":\"Title\"},{\"attributes\":{\"source\":{\"id\":\"dcce5289-0bc5-4c99-b695-77f7e864e011\",\"type\":\"ColumnDataSource\"}},\"id\":\"48ef51d4-00be-41f6-95fb-08b205079e3b\",\"type\":\"CDSView\"},{\"attributes\":{\"formatter\":{\"id\":\"ed3e8780-e2d7-4a2b-bdc3-4c82d103a310\",\"type\":\"BasicTickFormatter\"},\"plot\":{\"id\":\"2eb874cd-7222-40fa-8c0d-0ef01e562904\",\"subtype\":\"Figure\",\"type\":\"Plot\"},\"ticker\":{\"id\":\"98f1d5da-174b-4402-bbae-d05b0f7b2172\",\"type\":\"BasicTicker\"}},\"id\":\"b87833bd-bd89-485a-b6dd-25bf2ce07069\",\"type\":\"LinearAxis\"},{\"attributes\":{\"active_drag\":\"auto\",\"active_inspect\":\"auto\",\"active_scroll\":\"auto\",\"active_tap\":\"auto\",\"tools\":[{\"id\":\"b7bf5910-4ee7-4d52-a5ea-021eedb02e9b\",\"type\":\"HoverTool\"}]},\"id\":\"854f648d-ac13-4049-aebf-972246eebcc1\",\"type\":\"Toolbar\"},{\"attributes\":{},\"id\":\"9a292da4-3547-410a-8c77-c159956e9287\",\"type\":\"LinearScale\"},{\"attributes\":{},\"id\":\"bca7ccfc-aec2-4ed9-a38f-db732614ce41\",\"type\":\"BasicTickFormatter\"},{\"attributes\":{},\"id\":\"ed3e8780-e2d7-4a2b-bdc3-4c82d103a310\",\"type\":\"BasicTickFormatter\"},{\"attributes\":{\"callback\":null},\"id\":\"7ef05fd1-aa9e-489f-8670-45ef95410c6c\",\"type\":\"DataRange1d\"},{\"attributes\":{\"formatter\":{\"id\":\"bca7ccfc-aec2-4ed9-a38f-db732614ce41\",\"type\":\"BasicTickFormatter\"},\"plot\":{\"id\":\"2eb874cd-7222-40fa-8c0d-0ef01e562904\",\"subtype\":\"Figure\",\"type\":\"Plot\"},\"ticker\":{\"id\":\"6d15d3b6-f17a-471a-8583-5cdd023b65cc\",\"type\":\"BasicTicker\"}},\"id\":\"abc94e15-0bf9-407b-adb4-6a5eaa958f84\",\"type\":\"LinearAxis\"},{\"attributes\":{\"callback\":null,\"tooltips\":[[\"index\",\"$index\"],[\"(x,y)\",\"($x, $y)\"],[\"desc\",\"@desc\"]]},\"id\":\"b7bf5910-4ee7-4d52-a5ea-021eedb02e9b\",\"type\":\"HoverTool\"},{\"attributes\":{},\"id\":\"98f1d5da-174b-4402-bbae-d05b0f7b2172\",\"type\":\"BasicTicker\"},{\"attributes\":{\"below\":[{\"id\":\"b87833bd-bd89-485a-b6dd-25bf2ce07069\",\"type\":\"LinearAxis\"}],\"left\":[{\"id\":\"abc94e15-0bf9-407b-adb4-6a5eaa958f84\",\"type\":\"LinearAxis\"}],\"plot_height\":300,\"plot_width\":300,\"renderers\":[{\"id\":\"b87833bd-bd89-485a-b6dd-25bf2ce07069\",\"type\":\"LinearAxis\"},{\"id\":\"cf3e5c9c-8870-4884-b724-b0780db3495c\",\"type\":\"Grid\"},{\"id\":\"abc94e15-0bf9-407b-adb4-6a5eaa958f84\",\"type\":\"LinearAxis\"},{\"id\":\"6cb96f61-5e66-4bc7-aee2-b06700c68cad\",\"type\":\"Grid\"},{\"id\":\"3e8f1484-8f3a-4f44-99b4-a90c16bca727\",\"type\":\"GlyphRenderer\"}],\"title\":{\"id\":\"2245ea4a-5ad6-4386-9580-71963d3ee7d3\",\"type\":\"Title\"},\"toolbar\":{\"id\":\"854f648d-ac13-4049-aebf-972246eebcc1\",\"type\":\"Toolbar\"},\"x_range\":{\"id\":\"7ef05fd1-aa9e-489f-8670-45ef95410c6c\",\"type\":\"DataRange1d\"},\"x_scale\":{\"id\":\"9a292da4-3547-410a-8c77-c159956e9287\",\"type\":\"LinearScale\"},\"y_range\":{\"id\":\"08a44e3f-38e0-4963-b96c-f477d0939043\",\"type\":\"DataRange1d\"},\"y_scale\":{\"id\":\"466bfc33-cda0-41ca-b58c-ad6a9f0ca100\",\"type\":\"LinearScale\"}},\"id\":\"2eb874cd-7222-40fa-8c0d-0ef01e562904\",\"subtype\":\"Figure\",\"type\":\"Plot\"},{\"attributes\":{\"callback\":null,\"column_names\":[\"x\",\"y\",\"desc\"],\"data\":{\"desc\":[\"A\",\"b\",\"C\",\"d\",\"E\"],\"x\":[1,2,3,4,5],\"y\":[2,5,8,2,7]}},\"id\":\"dcce5289-0bc5-4c99-b695-77f7e864e011\",\"type\":\"ColumnDataSource\"},{\"attributes\":{},\"id\":\"6d15d3b6-f17a-471a-8583-5cdd023b65cc\",\"type\":\"BasicTicker\"},{\"attributes\":{\"plot\":{\"id\":\"2eb874cd-7222-40fa-8c0d-0ef01e562904\",\"subtype\":\"Figure\",\"type\":\"Plot\"},\"ticker\":{\"id\":\"98f1d5da-174b-4402-bbae-d05b0f7b2172\",\"type\":\"BasicTicker\"}},\"id\":\"cf3e5c9c-8870-4884-b724-b0780db3495c\",\"type\":\"Grid\"},{\"attributes\":{\"callback\":null},\"id\":\"08a44e3f-38e0-4963-b96c-f477d0939043\",\"type\":\"DataRange1d\"},{\"attributes\":{},\"id\":\"466bfc33-cda0-41ca-b58c-ad6a9f0ca100\",\"type\":\"LinearScale\"}],\"root_ids\":[\"2eb874cd-7222-40fa-8c0d-0ef01e562904\"]},\"title\":\"Bokeh Application\",\"version\":\"0.12.8\"}};\n",
       "    var render_items = [{\"docid\":\"1310842f-3c7d-41b2-96d0-9918716e75f5\",\"elementid\":\"0f558852-72a4-4409-b6d9-a91b08bf0cd4\",\"modelid\":\"2eb874cd-7222-40fa-8c0d-0ef01e562904\"}];\n",
       "\n",
       "    root.Bokeh.embed.embed_items(docs_json, render_items);\n",
       "  }\n",
       "\n",
       "  if (root.Bokeh !== undefined) {\n",
       "    embed_document(root);\n",
       "  } else {\n",
       "    var attempts = 0;\n",
       "    var timer = setInterval(function(root) {\n",
       "      if (root.Bokeh !== undefined) {\n",
       "        embed_document(root);\n",
       "        clearInterval(timer);\n",
       "      }\n",
       "      attempts++;\n",
       "      if (attempts > 100) {\n",
       "        console.log(\"Bokeh: ERROR: Unable to embed document because BokehJS library is missing\")\n",
       "        clearInterval(timer);\n",
       "      }\n",
       "    }, 10, root)\n",
       "  }\n",
       "})(window);"
      ],
      "application/vnd.bokehjs_exec.v0+json": ""
     },
     "metadata": {
      "application/vnd.bokehjs_exec.v0+json": {
       "id": "2eb874cd-7222-40fa-8c0d-0ef01e562904"
      }
     },
     "output_type": "display_data"
    }
   ],
   "source": [
    "from bokeh.models import HoverTool\n",
    "\n",
    "source = ColumnDataSource(\n",
    "        data=dict(\n",
    "            x=[1, 2, 3, 4, 5],\n",
    "            y=[2, 5, 8, 2, 7],\n",
    "            desc=['A', 'b', 'C', 'd', 'E'],\n",
    "        )\n",
    "    )\n",
    "\n",
    "hover = HoverTool(\n",
    "        tooltips=[\n",
    "            (\"index\", \"$index\"),\n",
    "            (\"(x,y)\", \"($x, $y)\"),\n",
    "            (\"desc\", \"@desc\"),\n",
    "        ]\n",
    "    )\n",
    "\n",
    "p = figure(plot_width=300, plot_height=300, tools=[hover], title=\"Mouse over the dots\")\n",
    "\n",
    "p.circle('x', 'y', size=20, source=source)\n",
    "\n",
    "show(p)"
   ]
  },
  {
   "cell_type": "markdown",
   "metadata": {},
   "source": [
    "# Widgets"
   ]
  },
  {
   "cell_type": "markdown",
   "metadata": {},
   "source": [
    "Bokeh supports direct integration with a small basic widget set. Thse can be used in conjunction with a Bokeh Server, or with ``CustomJS`` models to add more interactive capability to your documents. You can see a complete list, with example code in the [Adding Widgets](http://bokeh.pydata.org/en/latest/docs/user_guide/interaction.html#adding-widgets) section of the User's Guide. \n",
    "\n",
    "To use the widgets, include them in a layout like you would a plot object:"
   ]
  },
  {
   "cell_type": "code",
   "execution_count": 7,
   "metadata": {},
   "outputs": [
    {
     "data": {
      "text/html": [
       "\n",
       "<div class=\"bk-root\">\n",
       "    <div class=\"bk-plotdiv\" id=\"c2e7278b-5ed0-42e5-ad98-f293e7147ba1\"></div>\n",
       "</div>"
      ]
     },
     "metadata": {},
     "output_type": "display_data"
    },
    {
     "data": {
      "application/javascript": [
       "(function(root) {\n",
       "  function embed_document(root) {\n",
       "    var docs_json = {\"856ef286-53f3-44ae-92aa-6e3905946e5d\":{\"roots\":{\"references\":[{\"attributes\":{\"callback\":null,\"end\":10,\"start\":0,\"step\":0.1,\"title\":\"foo\",\"value\":1},\"id\":\"f8c654e2-bf70-4d37-8742-efcd653ca38f\",\"type\":\"Slider\"},{\"attributes\":{\"children\":[{\"id\":\"f8c654e2-bf70-4d37-8742-efcd653ca38f\",\"type\":\"Slider\"}]},\"id\":\"f384bc22-5a62-4ed8-a695-d3d806ea9cca\",\"type\":\"WidgetBox\"}],\"root_ids\":[\"f384bc22-5a62-4ed8-a695-d3d806ea9cca\"]},\"title\":\"Bokeh Application\",\"version\":\"0.12.8\"}};\n",
       "    var render_items = [{\"docid\":\"856ef286-53f3-44ae-92aa-6e3905946e5d\",\"elementid\":\"c2e7278b-5ed0-42e5-ad98-f293e7147ba1\",\"modelid\":\"f384bc22-5a62-4ed8-a695-d3d806ea9cca\"}];\n",
       "\n",
       "    root.Bokeh.embed.embed_items(docs_json, render_items);\n",
       "  }\n",
       "\n",
       "  if (root.Bokeh !== undefined) {\n",
       "    embed_document(root);\n",
       "  } else {\n",
       "    var attempts = 0;\n",
       "    var timer = setInterval(function(root) {\n",
       "      if (root.Bokeh !== undefined) {\n",
       "        embed_document(root);\n",
       "        clearInterval(timer);\n",
       "      }\n",
       "      attempts++;\n",
       "      if (attempts > 100) {\n",
       "        console.log(\"Bokeh: ERROR: Unable to embed document because BokehJS library is missing\")\n",
       "        clearInterval(timer);\n",
       "      }\n",
       "    }, 10, root)\n",
       "  }\n",
       "})(window);"
      ],
      "application/vnd.bokehjs_exec.v0+json": ""
     },
     "metadata": {
      "application/vnd.bokehjs_exec.v0+json": {
       "id": "f384bc22-5a62-4ed8-a695-d3d806ea9cca"
      }
     },
     "output_type": "display_data"
    }
   ],
   "source": [
    "from bokeh.layouts import widgetbox\n",
    "from bokeh.models.widgets import Slider\n",
    "\n",
    "\n",
    "slider = Slider(start=0, end=10, value=1, step=.1, title=\"foo\")\n",
    "\n",
    "show(widgetbox(slider))"
   ]
  },
  {
   "cell_type": "code",
   "execution_count": 8,
   "metadata": {
    "collapsed": true
   },
   "outputs": [],
   "source": [
    "# EXERCISE: create and show a Select widget \n"
   ]
  },
  {
   "cell_type": "markdown",
   "metadata": {},
   "source": [
    "# CustomJS Callbacks"
   ]
  },
  {
   "cell_type": "code",
   "execution_count": 9,
   "metadata": {},
   "outputs": [
    {
     "data": {
      "text/html": [
       "\n",
       "<div class=\"bk-root\">\n",
       "    <div class=\"bk-plotdiv\" id=\"9a0dc1e0-3943-44d2-99d0-82c3dff1d1f3\"></div>\n",
       "</div>"
      ]
     },
     "metadata": {},
     "output_type": "display_data"
    },
    {
     "data": {
      "application/javascript": [
       "(function(root) {\n",
       "  function embed_document(root) {\n",
       "    var docs_json = {\"16943b7d-5d8c-46dc-8df5-430ed85ffb43\":{\"roots\":{\"references\":[{\"attributes\":{\"fill_color\":{\"value\":\"#1f77b4\"},\"line_color\":{\"value\":\"#1f77b4\"},\"size\":{\"units\":\"screen\",\"value\":20},\"x\":{\"field\":\"x\"},\"y\":{\"field\":\"y\"}},\"id\":\"3fa7d182-376b-4a35-a675-49018546239a\",\"type\":\"Circle\"},{\"attributes\":{},\"id\":\"abf4638f-45a4-410c-83f8-770e151f9cb8\",\"type\":\"BasicTickFormatter\"},{\"attributes\":{\"callback\":null,\"column_names\":[\"x\",\"y\"],\"data\":{\"x\":[1,2,3,4,5],\"y\":[2,5,8,2,7]}},\"id\":\"3d73b42d-af18-4ce4-96e5-ccea3970dbbe\",\"type\":\"ColumnDataSource\"},{\"attributes\":{\"dimension\":1,\"plot\":{\"id\":\"b1dae499-e7b1-42ef-abed-4773507cacfe\",\"subtype\":\"Figure\",\"type\":\"Plot\"},\"ticker\":{\"id\":\"6b0ffab3-1bb0-47c7-943c-4b1666b5f604\",\"type\":\"BasicTicker\"}},\"id\":\"afe78670-5e87-4ee1-b4a0-9df06c5767a3\",\"type\":\"Grid\"},{\"attributes\":{},\"id\":\"91cc0e00-b9cb-4b6e-bbbb-56780803c153\",\"type\":\"BasicTickFormatter\"},{\"attributes\":{},\"id\":\"6b0ffab3-1bb0-47c7-943c-4b1666b5f604\",\"type\":\"BasicTicker\"},{\"attributes\":{\"fill_alpha\":{\"value\":0.1},\"fill_color\":{\"value\":\"#1f77b4\"},\"line_alpha\":{\"value\":0.1},\"line_color\":{\"value\":\"#1f77b4\"},\"size\":{\"units\":\"screen\",\"value\":20},\"x\":{\"field\":\"x\"},\"y\":{\"field\":\"y\"}},\"id\":\"547baafa-1634-42b5-be79-fade8112b678\",\"type\":\"Circle\"},{\"attributes\":{\"active_drag\":\"auto\",\"active_inspect\":\"auto\",\"active_scroll\":\"auto\",\"active_tap\":\"auto\",\"tools\":[{\"id\":\"5ca737e0-df99-4bb9-9d5b-e5a6ede297b8\",\"type\":\"TapTool\"}]},\"id\":\"eac57de4-fa30-4bea-9995-530dfdc3dda3\",\"type\":\"Toolbar\"},{\"attributes\":{\"callback\":null},\"id\":\"8a97eb8b-a23b-456c-bfbe-2be406ba9c1b\",\"type\":\"DataRange1d\"},{\"attributes\":{\"formatter\":{\"id\":\"91cc0e00-b9cb-4b6e-bbbb-56780803c153\",\"type\":\"BasicTickFormatter\"},\"plot\":{\"id\":\"b1dae499-e7b1-42ef-abed-4773507cacfe\",\"subtype\":\"Figure\",\"type\":\"Plot\"},\"ticker\":{\"id\":\"6b0ffab3-1bb0-47c7-943c-4b1666b5f604\",\"type\":\"BasicTicker\"}},\"id\":\"e3ccb008-aa62-4d17-b4fa-294b63a43a81\",\"type\":\"LinearAxis\"},{\"attributes\":{\"plot\":null,\"text\":\"\"},\"id\":\"63e2a380-ee08-431d-b829-7001bee19c8b\",\"type\":\"Title\"},{\"attributes\":{},\"id\":\"0ffd4887-d615-4733-9310-d594d2b41079\",\"type\":\"BasicTicker\"},{\"attributes\":{\"plot\":{\"id\":\"b1dae499-e7b1-42ef-abed-4773507cacfe\",\"subtype\":\"Figure\",\"type\":\"Plot\"},\"ticker\":{\"id\":\"0ffd4887-d615-4733-9310-d594d2b41079\",\"type\":\"BasicTicker\"}},\"id\":\"a39cac9f-ec92-435a-a543-02f1113abe62\",\"type\":\"Grid\"},{\"attributes\":{\"source\":{\"id\":\"3d73b42d-af18-4ce4-96e5-ccea3970dbbe\",\"type\":\"ColumnDataSource\"}},\"id\":\"b738fa60-570d-4cc9-ba31-929267210e42\",\"type\":\"CDSView\"},{\"attributes\":{\"data_source\":{\"id\":\"3d73b42d-af18-4ce4-96e5-ccea3970dbbe\",\"type\":\"ColumnDataSource\"},\"glyph\":{\"id\":\"3fa7d182-376b-4a35-a675-49018546239a\",\"type\":\"Circle\"},\"hover_glyph\":null,\"muted_glyph\":null,\"nonselection_glyph\":{\"id\":\"547baafa-1634-42b5-be79-fade8112b678\",\"type\":\"Circle\"},\"selection_glyph\":null,\"view\":{\"id\":\"b738fa60-570d-4cc9-ba31-929267210e42\",\"type\":\"CDSView\"}},\"id\":\"da67923b-a745-4ff4-ae8d-c2765643fc2c\",\"type\":\"GlyphRenderer\"},{\"attributes\":{},\"id\":\"9c274504-ccef-489e-85c1-5f9736d205ce\",\"type\":\"LinearScale\"},{\"attributes\":{\"callback\":{\"id\":\"db51c025-95eb-41bd-b272-da36a91ab213\",\"type\":\"CustomJS\"}},\"id\":\"5ca737e0-df99-4bb9-9d5b-e5a6ede297b8\",\"type\":\"TapTool\"},{\"attributes\":{\"below\":[{\"id\":\"a635088c-991e-4663-b38b-abbeb857c1fe\",\"type\":\"LinearAxis\"}],\"left\":[{\"id\":\"e3ccb008-aa62-4d17-b4fa-294b63a43a81\",\"type\":\"LinearAxis\"}],\"plot_height\":300,\"renderers\":[{\"id\":\"a635088c-991e-4663-b38b-abbeb857c1fe\",\"type\":\"LinearAxis\"},{\"id\":\"a39cac9f-ec92-435a-a543-02f1113abe62\",\"type\":\"Grid\"},{\"id\":\"e3ccb008-aa62-4d17-b4fa-294b63a43a81\",\"type\":\"LinearAxis\"},{\"id\":\"afe78670-5e87-4ee1-b4a0-9df06c5767a3\",\"type\":\"Grid\"},{\"id\":\"da67923b-a745-4ff4-ae8d-c2765643fc2c\",\"type\":\"GlyphRenderer\"}],\"title\":{\"id\":\"63e2a380-ee08-431d-b829-7001bee19c8b\",\"type\":\"Title\"},\"toolbar\":{\"id\":\"eac57de4-fa30-4bea-9995-530dfdc3dda3\",\"type\":\"Toolbar\"},\"x_range\":{\"id\":\"f6bae76f-9525-47e9-a6c9-ca5407cb0940\",\"type\":\"DataRange1d\"},\"x_scale\":{\"id\":\"efd70c84-8aa7-402d-b3bf-488a006f8cf3\",\"type\":\"LinearScale\"},\"y_range\":{\"id\":\"8a97eb8b-a23b-456c-bfbe-2be406ba9c1b\",\"type\":\"DataRange1d\"},\"y_scale\":{\"id\":\"9c274504-ccef-489e-85c1-5f9736d205ce\",\"type\":\"LinearScale\"}},\"id\":\"b1dae499-e7b1-42ef-abed-4773507cacfe\",\"subtype\":\"Figure\",\"type\":\"Plot\"},{\"attributes\":{\"code\":\"alert('hello world')\"},\"id\":\"db51c025-95eb-41bd-b272-da36a91ab213\",\"type\":\"CustomJS\"},{\"attributes\":{\"formatter\":{\"id\":\"abf4638f-45a4-410c-83f8-770e151f9cb8\",\"type\":\"BasicTickFormatter\"},\"plot\":{\"id\":\"b1dae499-e7b1-42ef-abed-4773507cacfe\",\"subtype\":\"Figure\",\"type\":\"Plot\"},\"ticker\":{\"id\":\"0ffd4887-d615-4733-9310-d594d2b41079\",\"type\":\"BasicTicker\"}},\"id\":\"a635088c-991e-4663-b38b-abbeb857c1fe\",\"type\":\"LinearAxis\"},{\"attributes\":{\"callback\":null},\"id\":\"f6bae76f-9525-47e9-a6c9-ca5407cb0940\",\"type\":\"DataRange1d\"},{\"attributes\":{},\"id\":\"efd70c84-8aa7-402d-b3bf-488a006f8cf3\",\"type\":\"LinearScale\"}],\"root_ids\":[\"b1dae499-e7b1-42ef-abed-4773507cacfe\"]},\"title\":\"Bokeh Application\",\"version\":\"0.12.8\"}};\n",
       "    var render_items = [{\"docid\":\"16943b7d-5d8c-46dc-8df5-430ed85ffb43\",\"elementid\":\"9a0dc1e0-3943-44d2-99d0-82c3dff1d1f3\",\"modelid\":\"b1dae499-e7b1-42ef-abed-4773507cacfe\"}];\n",
       "\n",
       "    root.Bokeh.embed.embed_items(docs_json, render_items);\n",
       "  }\n",
       "\n",
       "  if (root.Bokeh !== undefined) {\n",
       "    embed_document(root);\n",
       "  } else {\n",
       "    var attempts = 0;\n",
       "    var timer = setInterval(function(root) {\n",
       "      if (root.Bokeh !== undefined) {\n",
       "        embed_document(root);\n",
       "        clearInterval(timer);\n",
       "      }\n",
       "      attempts++;\n",
       "      if (attempts > 100) {\n",
       "        console.log(\"Bokeh: ERROR: Unable to embed document because BokehJS library is missing\")\n",
       "        clearInterval(timer);\n",
       "      }\n",
       "    }, 10, root)\n",
       "  }\n",
       "})(window);"
      ],
      "application/vnd.bokehjs_exec.v0+json": ""
     },
     "metadata": {
      "application/vnd.bokehjs_exec.v0+json": {
       "id": "b1dae499-e7b1-42ef-abed-4773507cacfe"
      }
     },
     "output_type": "display_data"
    }
   ],
   "source": [
    "from bokeh.models import TapTool, CustomJS, ColumnDataSource\n",
    "\n",
    "callback = CustomJS(code=\"alert('hello world')\")\n",
    "tap = TapTool(callback=callback)\n",
    "\n",
    "p = figure(plot_width=600, plot_height=300, tools=[tap])\n",
    "\n",
    "p.circle(x=[1, 2, 3, 4, 5], y=[2, 5, 8, 2, 7], size=20)\n",
    "\n",
    "show(p)"
   ]
  },
  {
   "cell_type": "markdown",
   "metadata": {},
   "source": [
    "## Lots of places to add callbacks\n",
    "\n",
    "* Widgets - Button, Toggle, Dropdown, TextInput, AutocompleteInput, Select, Multiselect, Slider, (DateRangeSlider), DatePicker,\n",
    "* Tools - TapTool, BoxSelectTool, HoverTool,\n",
    "* Selection - ColumnDataSource, AjaxDataSource, BlazeDataSource, ServerDataSource\n",
    "* Ranges - Range1d, DataRange1d, FactorRange\n"
   ]
  },
  {
   "cell_type": "markdown",
   "metadata": {},
   "source": [
    "## Callbacks for widgets\n",
    "\n",
    "Widgets that have values associated can have small JavaScript actions attached to them. These actions (also referred to as \"callbacks\") are executed whenever the widget's value is changed. In order to make it easier to refer to specific Bokeh models (e.g., a data source, or a glyhph) from JavaScript, the ``CustomJS`` obejct also accepts a dictionary of \"args\" that map names to Python Bokeh models. The corresponding JavaScript models are made available automaticaly to the ``CustomJS`` code. \n",
    "\n",
    "And example below shows an action attached to a slider that updates a data source whenever the slider is moved:"
   ]
  },
  {
   "cell_type": "code",
   "execution_count": 10,
   "metadata": {},
   "outputs": [
    {
     "data": {
      "text/html": [
       "\n",
       "<div class=\"bk-root\">\n",
       "    <div class=\"bk-plotdiv\" id=\"1f89961f-72ff-4c90-b04d-d576d4e2785e\"></div>\n",
       "</div>"
      ]
     },
     "metadata": {},
     "output_type": "display_data"
    },
    {
     "data": {
      "application/javascript": [
       "(function(root) {\n",
       "  function embed_document(root) {\n",
       "    var docs_json = {\"1ede6e9c-1a43-4314-8def-4b135e083a66\":{\"roots\":{\"references\":[{\"attributes\":{\"line_alpha\":{\"value\":0.6},\"line_color\":{\"value\":\"#1f77b4\"},\"line_width\":{\"value\":3},\"x\":{\"field\":\"x\"},\"y\":{\"field\":\"y\"}},\"id\":\"49cfa051-093a-436d-a9e4-ed0e39a220f5\",\"type\":\"Line\"},{\"attributes\":{\"plot\":null,\"text\":\"\"},\"id\":\"490d64f1-5570-45d3-8319-7a2956d59edd\",\"type\":\"Title\"},{\"attributes\":{\"callback\":null},\"id\":\"90da6364-5833-4eed-b322-41b08ee38f55\",\"type\":\"DataRange1d\"},{\"attributes\":{\"bottom_units\":\"screen\",\"fill_alpha\":{\"value\":0.5},\"fill_color\":{\"value\":\"lightgrey\"},\"left_units\":\"screen\",\"level\":\"overlay\",\"line_alpha\":{\"value\":1.0},\"line_color\":{\"value\":\"black\"},\"line_dash\":[4,4],\"line_width\":{\"value\":2},\"plot\":null,\"render_mode\":\"css\",\"right_units\":\"screen\",\"top_units\":\"screen\"},\"id\":\"a423b11a-4755-44ac-bb0a-7515e90eb77c\",\"type\":\"BoxAnnotation\"},{\"attributes\":{},\"id\":\"92334efc-37a2-4d03-9d59-cc598f895b89\",\"type\":\"LinearScale\"},{\"attributes\":{\"plot\":{\"id\":\"3850e1cd-ea94-4454-b2cf-f0de485ca021\",\"subtype\":\"Figure\",\"type\":\"Plot\"},\"ticker\":{\"id\":\"ae246fc2-e21e-42f7-970a-61846415cfd4\",\"type\":\"BasicTicker\"}},\"id\":\"c653cd91-226e-4fe1-af28-8c2e3f46bb38\",\"type\":\"Grid\"},{\"attributes\":{},\"id\":\"a3b98b5d-ac33-4114-bead-5916f29c2cfa\",\"type\":\"SaveTool\"},{\"attributes\":{},\"id\":\"1b7adde2-6cf3-4a34-adc9-1b0a7edaf9a6\",\"type\":\"HelpTool\"},{\"attributes\":{\"children\":[{\"id\":\"d7162c8e-46dd-41f6-80c9-9db6b8f3693e\",\"type\":\"WidgetBox\"},{\"id\":\"3850e1cd-ea94-4454-b2cf-f0de485ca021\",\"subtype\":\"Figure\",\"type\":\"Plot\"}]},\"id\":\"b609c83c-a9f4-4ae8-9fa8-123a5a0b3778\",\"type\":\"Column\"},{\"attributes\":{},\"id\":\"c2d54b7b-d4a7-484d-afec-45414fb90ccb\",\"type\":\"ResetTool\"},{\"attributes\":{\"dimension\":1,\"plot\":{\"id\":\"3850e1cd-ea94-4454-b2cf-f0de485ca021\",\"subtype\":\"Figure\",\"type\":\"Plot\"},\"ticker\":{\"id\":\"6db526f0-cd9c-4608-a8ee-451707458fe2\",\"type\":\"BasicTicker\"}},\"id\":\"375a0e2b-aabf-46ee-a52a-0ccce5b575bb\",\"type\":\"Grid\"},{\"attributes\":{},\"id\":\"d0d92963-1fac-4a9c-885e-e4cc33f9e35d\",\"type\":\"PanTool\"},{\"attributes\":{\"args\":{\"slider\":{\"id\":\"2df50637-3db2-49b5-8a81-dc763f02952c\",\"type\":\"Slider\"},\"source\":{\"id\":\"08015e78-cea7-4af4-9759-88386c379b11\",\"type\":\"ColumnDataSource\"}},\"code\":\"\\n    var data = source.get('data');\\n    var f = slider.value;\\n    x = data['x']\\n    y = data['y']\\n    for (i = 0; i < x.length; i++) {\\n        y[i] = Math.pow(x[i], f)\\n    }\\n    source.change.emit();\\n\"},\"id\":\"446adf7d-2d0a-4219-93e9-a16e9b030754\",\"type\":\"CustomJS\"},{\"attributes\":{},\"id\":\"a3d3721e-25f0-40e3-8afb-4c65bf6e6679\",\"type\":\"LinearScale\"},{\"attributes\":{\"callback\":null,\"end\":6,\"js_property_callbacks\":{\"change:value\":[{\"id\":\"446adf7d-2d0a-4219-93e9-a16e9b030754\",\"type\":\"CustomJS\"}]},\"start\":0.1,\"step\":0.1,\"title\":\"power\",\"value\":1},\"id\":\"2df50637-3db2-49b5-8a81-dc763f02952c\",\"type\":\"Slider\"},{\"attributes\":{\"active_drag\":\"auto\",\"active_inspect\":\"auto\",\"active_scroll\":\"auto\",\"active_tap\":\"auto\",\"tools\":[{\"id\":\"d0d92963-1fac-4a9c-885e-e4cc33f9e35d\",\"type\":\"PanTool\"},{\"id\":\"4cfdbcdc-4d98-4d5d-a702-96acc6c5620f\",\"type\":\"WheelZoomTool\"},{\"id\":\"ee9e1bcd-9247-4554-8a49-f57591b774f6\",\"type\":\"BoxZoomTool\"},{\"id\":\"a3b98b5d-ac33-4114-bead-5916f29c2cfa\",\"type\":\"SaveTool\"},{\"id\":\"c2d54b7b-d4a7-484d-afec-45414fb90ccb\",\"type\":\"ResetTool\"},{\"id\":\"1b7adde2-6cf3-4a34-adc9-1b0a7edaf9a6\",\"type\":\"HelpTool\"}]},\"id\":\"c28d10b0-afe9-4e98-bb7a-8d22b36fab2e\",\"type\":\"Toolbar\"},{\"attributes\":{\"children\":[{\"id\":\"2df50637-3db2-49b5-8a81-dc763f02952c\",\"type\":\"Slider\"}]},\"id\":\"d7162c8e-46dd-41f6-80c9-9db6b8f3693e\",\"type\":\"WidgetBox\"},{\"attributes\":{\"below\":[{\"id\":\"dc221351-aa31-4343-b277-133abf68c755\",\"type\":\"LinearAxis\"}],\"left\":[{\"id\":\"49246384-996b-4b2f-ad56-1776f2a5ceaf\",\"type\":\"LinearAxis\"}],\"plot_height\":400,\"plot_width\":400,\"renderers\":[{\"id\":\"dc221351-aa31-4343-b277-133abf68c755\",\"type\":\"LinearAxis\"},{\"id\":\"c653cd91-226e-4fe1-af28-8c2e3f46bb38\",\"type\":\"Grid\"},{\"id\":\"49246384-996b-4b2f-ad56-1776f2a5ceaf\",\"type\":\"LinearAxis\"},{\"id\":\"375a0e2b-aabf-46ee-a52a-0ccce5b575bb\",\"type\":\"Grid\"},{\"id\":\"a423b11a-4755-44ac-bb0a-7515e90eb77c\",\"type\":\"BoxAnnotation\"},{\"id\":\"b040faef-5e16-4e1f-8985-af25688a1d35\",\"type\":\"GlyphRenderer\"}],\"title\":{\"id\":\"490d64f1-5570-45d3-8319-7a2956d59edd\",\"type\":\"Title\"},\"toolbar\":{\"id\":\"c28d10b0-afe9-4e98-bb7a-8d22b36fab2e\",\"type\":\"Toolbar\"},\"x_range\":{\"id\":\"26ccc826-c670-4766-a043-a7a5da398640\",\"type\":\"DataRange1d\"},\"x_scale\":{\"id\":\"92334efc-37a2-4d03-9d59-cc598f895b89\",\"type\":\"LinearScale\"},\"y_range\":{\"id\":\"90da6364-5833-4eed-b322-41b08ee38f55\",\"type\":\"DataRange1d\"},\"y_scale\":{\"id\":\"a3d3721e-25f0-40e3-8afb-4c65bf6e6679\",\"type\":\"LinearScale\"}},\"id\":\"3850e1cd-ea94-4454-b2cf-f0de485ca021\",\"subtype\":\"Figure\",\"type\":\"Plot\"},{\"attributes\":{},\"id\":\"6db526f0-cd9c-4608-a8ee-451707458fe2\",\"type\":\"BasicTicker\"},{\"attributes\":{\"data_source\":{\"id\":\"08015e78-cea7-4af4-9759-88386c379b11\",\"type\":\"ColumnDataSource\"},\"glyph\":{\"id\":\"49cfa051-093a-436d-a9e4-ed0e39a220f5\",\"type\":\"Line\"},\"hover_glyph\":null,\"muted_glyph\":null,\"nonselection_glyph\":{\"id\":\"ee068108-e49e-4a06-a696-ad6a50831538\",\"type\":\"Line\"},\"selection_glyph\":null,\"view\":{\"id\":\"ad8557ec-e6e2-4fa2-82c1-65f0ac72830d\",\"type\":\"CDSView\"}},\"id\":\"b040faef-5e16-4e1f-8985-af25688a1d35\",\"type\":\"GlyphRenderer\"},{\"attributes\":{},\"id\":\"0fb3d010-4f78-496b-becb-b38e5ecf3363\",\"type\":\"BasicTickFormatter\"},{\"attributes\":{},\"id\":\"567b41ce-5431-4415-a798-154a6558bf6c\",\"type\":\"BasicTickFormatter\"},{\"attributes\":{},\"id\":\"4cfdbcdc-4d98-4d5d-a702-96acc6c5620f\",\"type\":\"WheelZoomTool\"},{\"attributes\":{\"callback\":null,\"column_names\":[\"x\",\"y\"],\"data\":{\"x\":[0.0,0.005,0.01,0.015,0.02,0.025,0.03,0.035,0.04,0.045,0.05,0.055,0.06,0.065,0.07,0.075,0.08,0.085,0.09,0.095,0.1,0.105,0.11,0.115,0.12,0.125,0.13,0.135,0.14,0.145,0.15,0.155,0.16,0.165,0.17,0.17500000000000002,0.18,0.185,0.19,0.195,0.2,0.20500000000000002,0.21,0.215,0.22,0.225,0.23,0.23500000000000001,0.24,0.245,0.25,0.255,0.26,0.265,0.27,0.275,0.28,0.28500000000000003,0.29,0.295,0.3,0.305,0.31,0.315,0.32,0.325,0.33,0.335,0.34,0.34500000000000003,0.35000000000000003,0.355,0.36,0.365,0.37,0.375,0.38,0.385,0.39,0.395,0.4,0.405,0.41000000000000003,0.41500000000000004,0.42,0.425,0.43,0.435,0.44,0.445,0.45,0.455,0.46,0.465,0.47000000000000003,0.47500000000000003,0.48,0.485,0.49,0.495,0.5,0.505,0.51,0.515,0.52,0.525,0.53,0.535,0.54,0.545,0.55,0.555,0.56,0.5650000000000001,0.5700000000000001,0.5750000000000001,0.58,0.585,0.59,0.595,0.6,0.605,0.61,0.615,0.62,0.625,0.63,0.635,0.64,0.645,0.65,0.655,0.66,0.665,0.67,0.675,0.68,0.685,0.6900000000000001,0.6950000000000001,0.7000000000000001,0.705,0.71,0.715,0.72,0.725,0.73,0.735,0.74,0.745,0.75,0.755,0.76,0.765,0.77,0.775,0.78,0.785,0.79,0.795,0.8,0.805,0.81,0.8150000000000001,0.8200000000000001,0.8250000000000001,0.8300000000000001,0.835,0.84,0.845,0.85,0.855,0.86,0.865,0.87,0.875,0.88,0.885,0.89,0.895,0.9,0.905,0.91,0.915,0.92,0.925,0.93,0.935,0.9400000000000001,0.9450000000000001,0.9500000000000001,0.9550000000000001,0.96,0.965,0.97,0.975,0.98,0.985,0.99,0.995,1.0],\"y\":[0.0,0.005,0.01,0.015,0.02,0.025,0.03,0.035,0.04,0.045,0.05,0.055,0.06,0.065,0.07,0.075,0.08,0.085,0.09,0.095,0.1,0.105,0.11,0.115,0.12,0.125,0.13,0.135,0.14,0.145,0.15,0.155,0.16,0.165,0.17,0.17500000000000002,0.18,0.185,0.19,0.195,0.2,0.20500000000000002,0.21,0.215,0.22,0.225,0.23,0.23500000000000001,0.24,0.245,0.25,0.255,0.26,0.265,0.27,0.275,0.28,0.28500000000000003,0.29,0.295,0.3,0.305,0.31,0.315,0.32,0.325,0.33,0.335,0.34,0.34500000000000003,0.35000000000000003,0.355,0.36,0.365,0.37,0.375,0.38,0.385,0.39,0.395,0.4,0.405,0.41000000000000003,0.41500000000000004,0.42,0.425,0.43,0.435,0.44,0.445,0.45,0.455,0.46,0.465,0.47000000000000003,0.47500000000000003,0.48,0.485,0.49,0.495,0.5,0.505,0.51,0.515,0.52,0.525,0.53,0.535,0.54,0.545,0.55,0.555,0.56,0.5650000000000001,0.5700000000000001,0.5750000000000001,0.58,0.585,0.59,0.595,0.6,0.605,0.61,0.615,0.62,0.625,0.63,0.635,0.64,0.645,0.65,0.655,0.66,0.665,0.67,0.675,0.68,0.685,0.6900000000000001,0.6950000000000001,0.7000000000000001,0.705,0.71,0.715,0.72,0.725,0.73,0.735,0.74,0.745,0.75,0.755,0.76,0.765,0.77,0.775,0.78,0.785,0.79,0.795,0.8,0.805,0.81,0.8150000000000001,0.8200000000000001,0.8250000000000001,0.8300000000000001,0.835,0.84,0.845,0.85,0.855,0.86,0.865,0.87,0.875,0.88,0.885,0.89,0.895,0.9,0.905,0.91,0.915,0.92,0.925,0.93,0.935,0.9400000000000001,0.9450000000000001,0.9500000000000001,0.9550000000000001,0.96,0.965,0.97,0.975,0.98,0.985,0.99,0.995,1.0]}},\"id\":\"08015e78-cea7-4af4-9759-88386c379b11\",\"type\":\"ColumnDataSource\"},{\"attributes\":{\"overlay\":{\"id\":\"a423b11a-4755-44ac-bb0a-7515e90eb77c\",\"type\":\"BoxAnnotation\"}},\"id\":\"ee9e1bcd-9247-4554-8a49-f57591b774f6\",\"type\":\"BoxZoomTool\"},{\"attributes\":{\"formatter\":{\"id\":\"567b41ce-5431-4415-a798-154a6558bf6c\",\"type\":\"BasicTickFormatter\"},\"plot\":{\"id\":\"3850e1cd-ea94-4454-b2cf-f0de485ca021\",\"subtype\":\"Figure\",\"type\":\"Plot\"},\"ticker\":{\"id\":\"ae246fc2-e21e-42f7-970a-61846415cfd4\",\"type\":\"BasicTicker\"}},\"id\":\"dc221351-aa31-4343-b277-133abf68c755\",\"type\":\"LinearAxis\"},{\"attributes\":{},\"id\":\"ae246fc2-e21e-42f7-970a-61846415cfd4\",\"type\":\"BasicTicker\"},{\"attributes\":{\"source\":{\"id\":\"08015e78-cea7-4af4-9759-88386c379b11\",\"type\":\"ColumnDataSource\"}},\"id\":\"ad8557ec-e6e2-4fa2-82c1-65f0ac72830d\",\"type\":\"CDSView\"},{\"attributes\":{\"formatter\":{\"id\":\"0fb3d010-4f78-496b-becb-b38e5ecf3363\",\"type\":\"BasicTickFormatter\"},\"plot\":{\"id\":\"3850e1cd-ea94-4454-b2cf-f0de485ca021\",\"subtype\":\"Figure\",\"type\":\"Plot\"},\"ticker\":{\"id\":\"6db526f0-cd9c-4608-a8ee-451707458fe2\",\"type\":\"BasicTicker\"}},\"id\":\"49246384-996b-4b2f-ad56-1776f2a5ceaf\",\"type\":\"LinearAxis\"},{\"attributes\":{\"callback\":null},\"id\":\"26ccc826-c670-4766-a043-a7a5da398640\",\"type\":\"DataRange1d\"},{\"attributes\":{\"line_alpha\":{\"value\":0.1},\"line_color\":{\"value\":\"#1f77b4\"},\"line_width\":{\"value\":3},\"x\":{\"field\":\"x\"},\"y\":{\"field\":\"y\"}},\"id\":\"ee068108-e49e-4a06-a696-ad6a50831538\",\"type\":\"Line\"}],\"root_ids\":[\"b609c83c-a9f4-4ae8-9fa8-123a5a0b3778\"]},\"title\":\"Bokeh Application\",\"version\":\"0.12.8\"}};\n",
       "    var render_items = [{\"docid\":\"1ede6e9c-1a43-4314-8def-4b135e083a66\",\"elementid\":\"1f89961f-72ff-4c90-b04d-d576d4e2785e\",\"modelid\":\"b609c83c-a9f4-4ae8-9fa8-123a5a0b3778\"}];\n",
       "\n",
       "    root.Bokeh.embed.embed_items(docs_json, render_items);\n",
       "  }\n",
       "\n",
       "  if (root.Bokeh !== undefined) {\n",
       "    embed_document(root);\n",
       "  } else {\n",
       "    var attempts = 0;\n",
       "    var timer = setInterval(function(root) {\n",
       "      if (root.Bokeh !== undefined) {\n",
       "        embed_document(root);\n",
       "        clearInterval(timer);\n",
       "      }\n",
       "      attempts++;\n",
       "      if (attempts > 100) {\n",
       "        console.log(\"Bokeh: ERROR: Unable to embed document because BokehJS library is missing\")\n",
       "        clearInterval(timer);\n",
       "      }\n",
       "    }, 10, root)\n",
       "  }\n",
       "})(window);"
      ],
      "application/vnd.bokehjs_exec.v0+json": ""
     },
     "metadata": {
      "application/vnd.bokehjs_exec.v0+json": {
       "id": "b609c83c-a9f4-4ae8-9fa8-123a5a0b3778"
      }
     },
     "output_type": "display_data"
    }
   ],
   "source": [
    "from bokeh.layouts import column\n",
    "from bokeh.models import CustomJS, ColumnDataSource, Slider\n",
    "\n",
    "x = [x*0.005 for x in range(0, 201)]\n",
    "\n",
    "source = ColumnDataSource(data=dict(x=x, y=x))\n",
    "\n",
    "plot = figure(plot_width=400, plot_height=400)\n",
    "plot.line('x', 'y', source=source, line_width=3, line_alpha=0.6)\n",
    "\n",
    "slider = Slider(start=0.1, end=6, value=1, step=.1, title=\"power\")\n",
    "\n",
    "update_curve = CustomJS(args=dict(source=source, slider=slider), code=\"\"\"\n",
    "    var data = source.get('data');\n",
    "    var f = slider.value;\n",
    "    x = data['x']\n",
    "    y = data['y']\n",
    "    for (i = 0; i < x.length; i++) {\n",
    "        y[i] = Math.pow(x[i], f)\n",
    "    }\n",
    "    source.change.emit();\n",
    "\"\"\")\n",
    "slider.js_on_change('value', update_curve)\n",
    "\n",
    "\n",
    "show(column(slider, plot))"
   ]
  },
  {
   "cell_type": "markdown",
   "metadata": {},
   "source": [
    "## Calbacks for selections\n",
    "\n",
    "It's also possible to make JavaScript actions that execute whenever a user selection (e.g., box, point, lasso) changes. This is done by attaching the same kind of CustomJS object to whatever data source the selection is made on.\n",
    "\n",
    "The example below is a bit more sophisticated, and demonstrates updating one glyph's data source in response to another glyph's selection: "
   ]
  },
  {
   "cell_type": "code",
   "execution_count": 11,
   "metadata": {},
   "outputs": [
    {
     "data": {
      "text/html": [
       "\n",
       "<div class=\"bk-root\">\n",
       "    <div class=\"bk-plotdiv\" id=\"32a3327c-60f8-4c8e-b22c-51d2b0da89a2\"></div>\n",
       "</div>"
      ]
     },
     "metadata": {},
     "output_type": "display_data"
    },
    {
     "data": {
      "application/javascript": [
       "(function(root) {\n",
       "  function embed_document(root) {\n",
       "    var docs_json = {\"232c2a24-99e2-496f-a928-3f5bcbee4236\":{\"roots\":{\"references\":[{\"attributes\":{\"fill_alpha\":{\"value\":0.4},\"fill_color\":{\"field\":\"color\"},\"line_alpha\":{\"value\":0.4},\"line_color\":{\"field\":\"color\"},\"size\":{\"units\":\"screen\",\"value\":8},\"x\":{\"field\":\"x\"},\"y\":{\"field\":\"y\"}},\"id\":\"565857da-c184-4df6-b819-c116e98d8b3d\",\"type\":\"Circle\"},{\"attributes\":{\"below\":[{\"id\":\"daf154bf-b667-43d9-9bab-97d616a0f4cd\",\"type\":\"LinearAxis\"}],\"left\":[{\"id\":\"70c17477-052f-43ca-89e5-52309b59fa2e\",\"type\":\"LinearAxis\"}],\"plot_height\":400,\"plot_width\":400,\"renderers\":[{\"id\":\"daf154bf-b667-43d9-9bab-97d616a0f4cd\",\"type\":\"LinearAxis\"},{\"id\":\"cfead57e-5efc-4db6-a352-5c4946fda400\",\"type\":\"Grid\"},{\"id\":\"70c17477-052f-43ca-89e5-52309b59fa2e\",\"type\":\"LinearAxis\"},{\"id\":\"3f8f512b-d7a7-4fac-b339-0430d56dba51\",\"type\":\"Grid\"},{\"id\":\"fd937620-77e0-4eac-90e8-16964b03c2e7\",\"type\":\"PolyAnnotation\"},{\"id\":\"c9054eb2-aefd-4735-b90e-0f430d28a735\",\"type\":\"GlyphRenderer\"},{\"id\":\"a7764359-a6d5-4b82-b5ea-30a29ef25b17\",\"type\":\"GlyphRenderer\"}],\"title\":{\"id\":\"547dab31-cf72-4bba-9956-54e117b903a4\",\"type\":\"Title\"},\"toolbar\":{\"id\":\"1905884d-63e9-4c77-875e-9e64c1538d6c\",\"type\":\"Toolbar\"},\"x_range\":{\"id\":\"5ac4794e-ec17-460f-a00f-2b41f40c44bd\",\"type\":\"DataRange1d\"},\"x_scale\":{\"id\":\"012feca2-16a2-4b80-9cd4-56628a122bca\",\"type\":\"LinearScale\"},\"y_range\":{\"id\":\"5e3aa3c6-e554-4cde-b389-cf6b559447e9\",\"type\":\"DataRange1d\"},\"y_scale\":{\"id\":\"422a5906-e5f9-4378-a426-f674a0dd2494\",\"type\":\"LinearScale\"}},\"id\":\"aa9199d4-f568-4684-ab4d-07e11c7e6c58\",\"subtype\":\"Figure\",\"type\":\"Plot\"},{\"attributes\":{\"active_drag\":\"auto\",\"active_inspect\":\"auto\",\"active_scroll\":\"auto\",\"active_tap\":\"auto\",\"tools\":[{\"id\":\"5d834691-d5bf-42f4-81df-e2fa60e18200\",\"type\":\"LassoSelectTool\"}]},\"id\":\"1905884d-63e9-4c77-875e-9e64c1538d6c\",\"type\":\"Toolbar\"},{\"attributes\":{\"callback\":null,\"column_names\":[\"xm\",\"ym\"],\"data\":{\"xm\":[0,1],\"ym\":[0.5,0.5]}},\"id\":\"5eab51ff-cddf-4870-ae63-165c779a4c5f\",\"type\":\"ColumnDataSource\"},{\"attributes\":{\"plot\":null,\"text\":\"Select Here\"},\"id\":\"547dab31-cf72-4bba-9956-54e117b903a4\",\"type\":\"Title\"},{\"attributes\":{\"source\":{\"id\":\"5eab51ff-cddf-4870-ae63-165c779a4c5f\",\"type\":\"ColumnDataSource\"}},\"id\":\"45c72ea1-b902-4cc6-a10c-d5522341e567\",\"type\":\"CDSView\"},{\"attributes\":{\"callback\":null},\"id\":\"5ac4794e-ec17-460f-a00f-2b41f40c44bd\",\"type\":\"DataRange1d\"},{\"attributes\":{\"source\":{\"id\":\"20a63b57-9ac2-4540-9454-b58a18b643b2\",\"type\":\"ColumnDataSource\"}},\"id\":\"c1f2eafc-4665-4efa-8ad1-dd6818468318\",\"type\":\"CDSView\"},{\"attributes\":{\"data_source\":{\"id\":\"5eab51ff-cddf-4870-ae63-165c779a4c5f\",\"type\":\"ColumnDataSource\"},\"glyph\":{\"id\":\"f872af87-4dce-48b7-9155-3d450f19d3fa\",\"type\":\"Line\"},\"hover_glyph\":null,\"muted_glyph\":null,\"nonselection_glyph\":{\"id\":\"1d5d57d6-6103-4d94-962d-8715aaa69cf8\",\"type\":\"Line\"},\"selection_glyph\":null,\"view\":{\"id\":\"45c72ea1-b902-4cc6-a10c-d5522341e567\",\"type\":\"CDSView\"}},\"id\":\"a7764359-a6d5-4b82-b5ea-30a29ef25b17\",\"type\":\"GlyphRenderer\"},{\"attributes\":{\"dimension\":1,\"plot\":{\"id\":\"aa9199d4-f568-4684-ab4d-07e11c7e6c58\",\"subtype\":\"Figure\",\"type\":\"Plot\"},\"ticker\":{\"id\":\"4293dacd-b9e5-4c3b-8f5a-e1b63c94459a\",\"type\":\"BasicTicker\"}},\"id\":\"3f8f512b-d7a7-4fac-b339-0430d56dba51\",\"type\":\"Grid\"},{\"attributes\":{\"fill_alpha\":{\"value\":0.5},\"fill_color\":{\"value\":\"lightgrey\"},\"level\":\"overlay\",\"line_alpha\":{\"value\":1.0},\"line_color\":{\"value\":\"black\"},\"line_dash\":[4,4],\"line_width\":{\"value\":2},\"plot\":null,\"xs_units\":\"screen\",\"ys_units\":\"screen\"},\"id\":\"fd937620-77e0-4eac-90e8-16964b03c2e7\",\"type\":\"PolyAnnotation\"},{\"attributes\":{},\"id\":\"4293dacd-b9e5-4c3b-8f5a-e1b63c94459a\",\"type\":\"BasicTicker\"},{\"attributes\":{\"line_alpha\":{\"value\":0.1},\"line_color\":{\"value\":\"#1f77b4\"},\"line_width\":{\"value\":5},\"x\":{\"field\":\"xm\"},\"y\":{\"field\":\"ym\"}},\"id\":\"1d5d57d6-6103-4d94-962d-8715aaa69cf8\",\"type\":\"Line\"},{\"attributes\":{\"formatter\":{\"id\":\"5e0129a8-9428-45c5-8bb2-26b0547fd902\",\"type\":\"BasicTickFormatter\"},\"plot\":{\"id\":\"aa9199d4-f568-4684-ab4d-07e11c7e6c58\",\"subtype\":\"Figure\",\"type\":\"Plot\"},\"ticker\":{\"id\":\"4293dacd-b9e5-4c3b-8f5a-e1b63c94459a\",\"type\":\"BasicTicker\"}},\"id\":\"70c17477-052f-43ca-89e5-52309b59fa2e\",\"type\":\"LinearAxis\"},{\"attributes\":{\"args\":{\"s2\":{\"id\":\"5eab51ff-cddf-4870-ae63-165c779a4c5f\",\"type\":\"ColumnDataSource\"}},\"code\":\"\\n    var inds = cb_obj.get('selected')['1d'].indices;\\n    var d = cb_obj.get('data');\\n    var ym = 0\\n    \\n    if (inds.length == 0) { return; }\\n    \\n    for (i = 0; i < d['color'].length; i++) {\\n        d['color'][i] = \\\"navy\\\"\\n    }\\n    for (i = 0; i < inds.length; i++) {\\n        d['color'][inds[i]] = \\\"firebrick\\\"\\n        ym += d['y'][inds[i]]\\n    }\\n    \\n    ym /= inds.length\\n    s2.get('data')['ym'] = [ym, ym]\\n    \\n    cb_obj.trigger('change');\\n    s2.trigger('change');\\n\"},\"id\":\"4a6d346c-4ed6-46df-b09a-97ec5c2051b8\",\"type\":\"CustomJS\"},{\"attributes\":{},\"id\":\"012feca2-16a2-4b80-9cd4-56628a122bca\",\"type\":\"LinearScale\"},{\"attributes\":{\"line_alpha\":{\"value\":0.6},\"line_color\":{\"value\":\"orange\"},\"line_width\":{\"value\":5},\"x\":{\"field\":\"xm\"},\"y\":{\"field\":\"ym\"}},\"id\":\"f872af87-4dce-48b7-9155-3d450f19d3fa\",\"type\":\"Line\"},{\"attributes\":{\"fill_alpha\":{\"value\":0.1},\"fill_color\":{\"value\":\"#1f77b4\"},\"line_alpha\":{\"value\":0.1},\"line_color\":{\"value\":\"#1f77b4\"},\"size\":{\"units\":\"screen\",\"value\":8},\"x\":{\"field\":\"x\"},\"y\":{\"field\":\"y\"}},\"id\":\"e1e378e7-c627-4147-8d63-8c2de9d453a0\",\"type\":\"Circle\"},{\"attributes\":{},\"id\":\"5e0129a8-9428-45c5-8bb2-26b0547fd902\",\"type\":\"BasicTickFormatter\"},{\"attributes\":{},\"id\":\"999870cc-45cd-41d8-a5ab-27e73adf5d13\",\"type\":\"BasicTicker\"},{\"attributes\":{\"data_source\":{\"id\":\"20a63b57-9ac2-4540-9454-b58a18b643b2\",\"type\":\"ColumnDataSource\"},\"glyph\":{\"id\":\"565857da-c184-4df6-b819-c116e98d8b3d\",\"type\":\"Circle\"},\"hover_glyph\":null,\"muted_glyph\":null,\"nonselection_glyph\":{\"id\":\"e1e378e7-c627-4147-8d63-8c2de9d453a0\",\"type\":\"Circle\"},\"selection_glyph\":null,\"view\":{\"id\":\"c1f2eafc-4665-4efa-8ad1-dd6818468318\",\"type\":\"CDSView\"}},\"id\":\"c9054eb2-aefd-4735-b90e-0f430d28a735\",\"type\":\"GlyphRenderer\"},{\"attributes\":{},\"id\":\"c6b82a34-e99f-4f01-99ee-f57859c3df6e\",\"type\":\"BasicTickFormatter\"},{\"attributes\":{\"formatter\":{\"id\":\"c6b82a34-e99f-4f01-99ee-f57859c3df6e\",\"type\":\"BasicTickFormatter\"},\"plot\":{\"id\":\"aa9199d4-f568-4684-ab4d-07e11c7e6c58\",\"subtype\":\"Figure\",\"type\":\"Plot\"},\"ticker\":{\"id\":\"999870cc-45cd-41d8-a5ab-27e73adf5d13\",\"type\":\"BasicTicker\"}},\"id\":\"daf154bf-b667-43d9-9bab-97d616a0f4cd\",\"type\":\"LinearAxis\"},{\"attributes\":{\"plot\":{\"id\":\"aa9199d4-f568-4684-ab4d-07e11c7e6c58\",\"subtype\":\"Figure\",\"type\":\"Plot\"},\"ticker\":{\"id\":\"999870cc-45cd-41d8-a5ab-27e73adf5d13\",\"type\":\"BasicTicker\"}},\"id\":\"cfead57e-5efc-4db6-a352-5c4946fda400\",\"type\":\"Grid\"},{\"attributes\":{\"callback\":null,\"overlay\":{\"id\":\"fd937620-77e0-4eac-90e8-16964b03c2e7\",\"type\":\"PolyAnnotation\"}},\"id\":\"5d834691-d5bf-42f4-81df-e2fa60e18200\",\"type\":\"LassoSelectTool\"},{\"attributes\":{},\"id\":\"422a5906-e5f9-4378-a426-f674a0dd2494\",\"type\":\"LinearScale\"},{\"attributes\":{\"callback\":{\"id\":\"4a6d346c-4ed6-46df-b09a-97ec5c2051b8\",\"type\":\"CustomJS\"},\"column_names\":[\"x\",\"y\",\"color\"],\"data\":{\"color\":[\"navy\",\"navy\",\"navy\",\"navy\",\"navy\",\"navy\",\"navy\",\"navy\",\"navy\",\"navy\",\"navy\",\"navy\",\"navy\",\"navy\",\"navy\",\"navy\",\"navy\",\"navy\",\"navy\",\"navy\",\"navy\",\"navy\",\"navy\",\"navy\",\"navy\",\"navy\",\"navy\",\"navy\",\"navy\",\"navy\",\"navy\",\"navy\",\"navy\",\"navy\",\"navy\",\"navy\",\"navy\",\"navy\",\"navy\",\"navy\",\"navy\",\"navy\",\"navy\",\"navy\",\"navy\",\"navy\",\"navy\",\"navy\",\"navy\",\"navy\",\"navy\",\"navy\",\"navy\",\"navy\",\"navy\",\"navy\",\"navy\",\"navy\",\"navy\",\"navy\",\"navy\",\"navy\",\"navy\",\"navy\",\"navy\",\"navy\",\"navy\",\"navy\",\"navy\",\"navy\",\"navy\",\"navy\",\"navy\",\"navy\",\"navy\",\"navy\",\"navy\",\"navy\",\"navy\",\"navy\",\"navy\",\"navy\",\"navy\",\"navy\",\"navy\",\"navy\",\"navy\",\"navy\",\"navy\",\"navy\",\"navy\",\"navy\",\"navy\",\"navy\",\"navy\",\"navy\",\"navy\",\"navy\",\"navy\",\"navy\",\"navy\",\"navy\",\"navy\",\"navy\",\"navy\",\"navy\",\"navy\",\"navy\",\"navy\",\"navy\",\"navy\",\"navy\",\"navy\",\"navy\",\"navy\",\"navy\",\"navy\",\"navy\",\"navy\",\"navy\",\"navy\",\"navy\",\"navy\",\"navy\",\"navy\",\"navy\",\"navy\",\"navy\",\"navy\",\"navy\",\"navy\",\"navy\",\"navy\",\"navy\",\"navy\",\"navy\",\"navy\",\"navy\",\"navy\",\"navy\",\"navy\",\"navy\",\"navy\",\"navy\",\"navy\",\"navy\",\"navy\",\"navy\",\"navy\",\"navy\",\"navy\",\"navy\",\"navy\",\"navy\",\"navy\",\"navy\",\"navy\",\"navy\",\"navy\",\"navy\",\"navy\",\"navy\",\"navy\",\"navy\",\"navy\",\"navy\",\"navy\",\"navy\",\"navy\",\"navy\",\"navy\",\"navy\",\"navy\",\"navy\",\"navy\",\"navy\",\"navy\",\"navy\",\"navy\",\"navy\",\"navy\",\"navy\",\"navy\",\"navy\",\"navy\",\"navy\",\"navy\",\"navy\",\"navy\",\"navy\",\"navy\",\"navy\",\"navy\",\"navy\",\"navy\",\"navy\",\"navy\",\"navy\",\"navy\",\"navy\",\"navy\",\"navy\",\"navy\",\"navy\",\"navy\",\"navy\",\"navy\",\"navy\",\"navy\",\"navy\",\"navy\",\"navy\",\"navy\",\"navy\",\"navy\",\"navy\",\"navy\",\"navy\",\"navy\",\"navy\",\"navy\",\"navy\",\"navy\",\"navy\",\"navy\",\"navy\",\"navy\",\"navy\",\"navy\",\"navy\",\"navy\",\"navy\",\"navy\",\"navy\",\"navy\",\"navy\",\"navy\",\"navy\",\"navy\",\"navy\",\"navy\",\"navy\",\"navy\",\"navy\",\"navy\",\"navy\",\"navy\",\"navy\",\"navy\",\"navy\",\"navy\",\"navy\",\"navy\",\"navy\",\"navy\",\"navy\",\"navy\",\"navy\",\"navy\",\"navy\",\"navy\",\"navy\",\"navy\",\"navy\",\"navy\",\"navy\",\"navy\",\"navy\",\"navy\",\"navy\",\"navy\",\"navy\",\"navy\",\"navy\",\"navy\",\"navy\",\"navy\",\"navy\",\"navy\",\"navy\",\"navy\",\"navy\",\"navy\",\"navy\",\"navy\",\"navy\",\"navy\",\"navy\",\"navy\",\"navy\",\"navy\",\"navy\",\"navy\",\"navy\",\"navy\",\"navy\",\"navy\",\"navy\",\"navy\",\"navy\",\"navy\",\"navy\",\"navy\",\"navy\",\"navy\",\"navy\",\"navy\",\"navy\",\"navy\",\"navy\",\"navy\",\"navy\",\"navy\",\"navy\",\"navy\",\"navy\",\"navy\",\"navy\",\"navy\",\"navy\",\"navy\",\"navy\",\"navy\",\"navy\",\"navy\",\"navy\",\"navy\",\"navy\",\"navy\",\"navy\",\"navy\",\"navy\",\"navy\",\"navy\",\"navy\",\"navy\",\"navy\",\"navy\",\"navy\",\"navy\",\"navy\",\"navy\",\"navy\",\"navy\",\"navy\",\"navy\",\"navy\",\"navy\",\"navy\",\"navy\",\"navy\",\"navy\",\"navy\",\"navy\",\"navy\",\"navy\",\"navy\",\"navy\",\"navy\",\"navy\",\"navy\",\"navy\",\"navy\",\"navy\",\"navy\",\"navy\",\"navy\",\"navy\",\"navy\",\"navy\",\"navy\",\"navy\",\"navy\",\"navy\",\"navy\",\"navy\",\"navy\",\"navy\",\"navy\",\"navy\",\"navy\",\"navy\",\"navy\",\"navy\",\"navy\",\"navy\",\"navy\",\"navy\",\"navy\",\"navy\",\"navy\",\"navy\",\"navy\",\"navy\",\"navy\",\"navy\",\"navy\",\"navy\",\"navy\",\"navy\",\"navy\",\"navy\",\"navy\",\"navy\",\"navy\",\"navy\",\"navy\",\"navy\",\"navy\",\"navy\",\"navy\",\"navy\",\"navy\",\"navy\",\"navy\",\"navy\",\"navy\",\"navy\",\"navy\",\"navy\",\"navy\",\"navy\",\"navy\",\"navy\",\"navy\",\"navy\",\"navy\",\"navy\",\"navy\",\"navy\",\"navy\",\"navy\",\"navy\",\"navy\",\"navy\",\"navy\",\"navy\",\"navy\",\"navy\",\"navy\",\"navy\",\"navy\",\"navy\",\"navy\",\"navy\",\"navy\",\"navy\",\"navy\",\"navy\",\"navy\",\"navy\",\"navy\",\"navy\",\"navy\",\"navy\",\"navy\",\"navy\",\"navy\",\"navy\",\"navy\",\"navy\",\"navy\",\"navy\",\"navy\",\"navy\",\"navy\",\"navy\",\"navy\",\"navy\",\"navy\",\"navy\",\"navy\",\"navy\",\"navy\",\"navy\",\"navy\",\"navy\",\"navy\",\"navy\",\"navy\",\"navy\",\"navy\",\"navy\",\"navy\",\"navy\",\"navy\",\"navy\",\"navy\",\"navy\",\"navy\",\"navy\",\"navy\",\"navy\",\"navy\",\"navy\",\"navy\",\"navy\",\"navy\",\"navy\",\"navy\"],\"x\":[0.7834129973079119,0.11761995176706741,0.10984707293009821,0.24752691886519151,0.21611943013115353,0.5476313253209352,0.769009980562374,0.7559386979549022,0.732554686596793,0.23786530025059027,0.5076796483279972,0.590278196129957,0.4591713284147637,0.5177402457411026,0.5787179605349556,0.30280301660145403,0.2582993487765246,0.8097010274063626,0.7758584179049909,0.2502087990640016,0.36858322363077867,0.5317567174592861,0.45308880347346714,0.2632690823305579,0.6059513874113871,0.37758447925210636,0.8188352175489758,0.07946771095083383,0.17144920001781994,0.622324180417563,0.5706897737362528,0.43273484441475685,0.7518255303820904,0.07777524686695236,0.6245245820815486,0.3944179436186416,0.8968340464355896,0.621773266475666,0.4001526573681866,0.1263547909382453,0.4888399026086919,0.005158327468126389,0.8279790194511902,0.6109472893650025,0.48837747056284275,0.716336710773211,0.18764079824555835,0.013089485677626245,0.9200660080160845,0.46094995091557056,0.9815418610889041,0.9029264039452517,0.5392778228452264,0.3315947730936861,0.27702133458925915,0.2046580717294647,0.7173775404392432,0.5741592207504125,0.43783939067260946,0.7762130008939767,0.05056688437407508,0.5469513862964154,0.3771830947029723,0.0978639417694539,0.7982367617372963,0.04482758159511391,0.2734312105280061,0.0796998948767228,0.9683934128759404,0.6846532865335349,0.6698643046132765,0.1918490743496274,0.2610250111233017,0.443889495442913,0.02783542763531699,0.045366476351551,0.1157132628418458,0.952559347902603,0.2754643904604259,0.24874753993271304,0.43739336343134383,0.25340404723097576,0.33790262495845014,0.5219603727383745,0.16516250970764035,0.6860110020393092,0.761610288996781,0.6535666755618973,0.10083047740591333,0.5157165820644315,0.7293926362114014,0.8298667485785076,0.17703294133173642,0.19165892242131233,0.8653956828268855,0.623401115555871,0.9668857807206107,0.036620943620660706,0.9326754697010361,0.5868661568407583,0.5346445188254263,0.3224952833498125,0.3055691319664231,0.7078320943525336,0.1438518906090006,0.9712424188729373,0.5253282197729873,0.6799422101587431,0.8795748875383854,0.9013146168814985,0.470036224153647,0.775907667222059,0.4365866433808653,0.8599212109940678,0.9418450140852859,0.5304225900683756,0.7791203181798843,0.19685103554690553,0.8972955513770932,0.6030450139515763,0.35304100455095955,0.815365923364326,0.007745318874457063,0.25629747950751103,0.985794507814351,0.20513007516246107,0.46441591295296714,0.577287910803827,0.9210104571204241,0.8073490238643207,0.09658851082117959,0.004340920708485685,0.35179184977632083,0.431648497746407,0.17436847206573813,0.38891614693588983,0.6416716612121484,0.865507601389909,0.7843734486368129,0.8747444056929425,0.6501143961587668,0.39099256571043395,0.2669911364443266,0.8381937813816831,0.9594436073518122,0.4421402045953646,0.22561047660810796,0.8199847398492837,0.7633055366578801,0.7366659759389504,0.5787888064420387,0.35183232006827736,0.8083646363208664,0.2180144503242215,0.4057642439880417,0.3671334689263147,0.9462907454594166,0.8438857540621363,0.0009851445039156248,0.9388606157127103,0.21019071583582583,0.48653594744235873,0.8107716048672606,0.48966208671815736,0.8256738999036,0.16103616433998158,0.8094685117462489,0.6623454048420377,0.28804586249890385,0.7586968781050459,0.4437742402858659,0.1890212967626933,0.020749509590982984,0.7719783409740159,0.5946638430536066,0.6857998037656228,0.964295518348601,0.5703029747030797,0.6012250327223411,0.9696561377662409,0.335143462583919,0.9058954795938075,0.4208889255539009,0.5091667381093344,0.6995791070069062,0.6882676055804572,0.4842955397444769,0.39174284242502433,0.3506598847833815,0.15299824420976182,0.6458531469622169,0.04851162734279879,0.20585458246379496,0.8876584234026633,0.3919224141793908,0.09223199383265346,0.5386673662149043,0.12272975949434706,0.4386545023806976,0.7393500386962065,0.20268135286065336,0.7536187612426692,0.47223589465002325,0.7283983996093227,0.21978589947330252,0.03256886840233908,0.3358260826891455,0.17744839104493848,0.5863484520838517,0.8669932644394265,0.3681824622517016,0.9481931555052401,0.4942539038371153,0.46667163611998064,0.1735996783217848,0.8461730715889068,0.5353249709917453,0.2815869406696858,0.934559110467515,0.215027873985555,0.6640767906214414,0.12822224087893386,0.9076398618422848,0.059812404160379695,0.9412861511072999,0.5551998360066815,0.7013198388922903,0.7600784796230508,0.5122220761744719,0.8891983649181112,0.7578701598799296,0.7423602055222855,0.34232624475958173,0.6572975638793823,0.6496294310403998,0.7066437251884474,0.808557869665537,0.6174775117675069,0.21343945491867655,0.3314440321667773,0.2854526546236609,0.7623387586075844,0.5074215669750957,0.5536332262954377,0.89586012410293,0.6515476733393352,0.5837349398826052,0.3291482062472474,0.3362105801224553,0.7100464691976339,0.8557342940220125,0.5656162281150375,0.9855523881001804,0.9721583487416968,0.41878833039633434,0.6226020263333968,0.5939532643490472,0.9937093628446039,0.11800573552148985,0.7761119785738667,0.7197609308438315,0.8644882710068045,0.9779787133642736,0.7948355316026723,0.1738675876352357,0.1531370292641504,0.8243007739234333,0.07566218148640147,0.32403739302800993,0.42898220050857805,0.5426776985635249,0.5180542215235509,0.5464014065722341,0.30012465430025403,0.3258494718055748,0.8304098238038405,0.3885090506294786,0.18928146596709128,0.7493952670251267,0.12855366761436848,0.11656877333087412,0.007648832064982569,0.39254049244744593,0.7085084482388287,0.14768161872985208,0.6086273649472617,0.6976194195676398,0.77162357149906,0.11042976600659449,0.14145239627383432,0.9753493135530088,0.9024591951378044,0.7406876729512862,0.9334493072406178,0.6560848280642659,0.23385858716733077,0.8766128959365487,0.23579098671905974,0.0728583450914464,0.6482866045977271,0.5334416830525096,0.9395851034305992,0.5659009961742386,0.9548524379506083,0.29310194074083484,0.33674946779521353,0.589149750631808,0.10181336131591945,0.7317561702569407,0.5817254289593996,0.7179775283950154,0.3325118204811519,0.4668491466431831,0.4867041724377409,0.10265731441635151,0.018364282123709996,0.2733517527232915,0.8116622167910187,0.5727245026272616,0.27640640315544307,0.9898818808012253,0.8309213533133475,0.6004741944408134,0.5949833116283553,0.8411295963490502,0.7880327892037545,0.8343977393183095,0.6284453234338443,0.5583208146602577,0.8320954857797733,0.3396339154761949,0.36754855924474494,0.06874487289611608,0.21965878465073752,0.09767173212926361,0.8895449326766561,0.28066247575982506,0.06310392336058024,0.5683311767096426,0.8834619363706762,0.5554210916500107,0.8303471512587093,0.1542873307958763,0.23078851516205534,0.5128430575138333,0.2089078042043604,0.13633278352303457,0.6007547957659394,0.10279233174304081,0.41627130128066336,0.46468038477157947,0.2150160462826909,0.8770546950977082,0.5635288033003518,0.08797542305459605,0.8276985824108827,0.8368501341524229,0.9516682461212985,0.19107881298675577,0.4506353610277032,0.2674883840063539,0.408086575688402,0.35451375458721757,0.6423817327676835,0.5229158732460746,0.8530552911689547,0.21249591837171744,0.7709422259189896,0.9491702264928509,0.18003703720848774,0.5952099235928139,0.8685288133057502,0.5349880111908708,0.48704091625645307,0.5935154730380948,0.1826129797357401,0.11667869862180313,0.36152837620600775,0.05691049722676922,0.5041565516720699,0.1288729422959367,0.15299207938951076,0.6424495460969213,0.5209009725554524,0.4471869917113067,0.23220325916595352,0.2899313253284299,0.6906707856828762,0.9902864801801368,0.23069608900651772,0.4262425235193471,0.26247470651031446,0.8381778385030013,0.7533601764693886,0.2409407789627971,0.7704027804196495,0.00367036964432077,0.8874088442600957,0.9266322947010167,0.37831250423345686,0.31114202067789887,0.4154236783951085,0.4381791406042098,0.2663716369347018,0.3145582700570506,0.20334310472370953,0.5033722781913632,0.1712422031216806,0.11593906257743403,0.478755624309271,0.6098332038761568,0.7138723450747343,0.645318338480464,0.6709786421428431,0.5908628315925706,0.3646696743234178,0.9667679065464652,0.9002377793192006,0.8911561771425018,0.570957290293469,0.5213701346517248,0.17361239834178843,0.3018314634836534,0.752395741096868,0.9791149793174542,0.17376476332530544,0.5697367453677795,0.6063062491211438,0.22114653492691072,0.45281808411174573,0.2836687132690149,0.48805364589188505,0.7019367158690663,0.5878262929130705,0.5857916254499014,0.6972275131720552,0.13418219284351762,0.3294331891657062,0.5094713303853137,0.19935003211278635,0.8889053912346618,0.5341231250044078,0.2691006833238253,0.06356779983595517,0.7275169741275886,0.023005673283367778,0.18787952276800313,0.6695504321488663,0.4949906166192687,0.4500236655565204,0.7735550930911937,0.1528986356485148,0.10362723361539661,0.9528458834551051,0.4079775655005481,0.6649597294111665,0.17354148083259713,0.9456633382865345,0.03382873295003863,0.5256002610301341,0.03605875825650373,0.30876438963728925,0.5959919057256532,0.4564206367597612,0.6493242707155652,0.7190997934970911,0.2336255411231184,0.4620295996097331,0.4162030526409888,0.6254581732529063,0.5988106668756116,0.873211187821777,0.7233881933158903,0.08217928233011773,0.24502186017890681,0.09048924369145894,0.7957739431785603,0.9691496381257365,0.8954404735500349,0.2429307533634809,0.05348424826136977,0.11251332438216632,0.768915210232121,0.6917346870206225,0.07517158903066967,0.4335605698649221,0.24169722606007027,0.0046215036838973544,0.5437859179951656,0.5637410720594599,0.6224920677441828,0.4356921486857066,0.013139223569930358,0.6697448370260104,0.17008544177234486,0.7201359731798045,0.9198123939385272,0.3833200339912025,0.2989106597749993,0.6178103294239824],\"y\":[0.586120462567331,0.40828608591730564,0.3238913183735259,0.22016100521464976,0.3757831676115263,0.05687024860061318,0.660770783567952,0.11486855179653666,0.6283271562744654,0.3625569961269791,0.4118905935340672,0.9038430415349059,0.4511235579064189,0.7817816327700817,0.8101253062437261,0.8195398530396207,0.4873975446869069,0.6260732012133355,0.5000292587583429,0.4763943627242585,0.1525145803572009,0.2593164149684324,0.6919408413965167,0.6801413698197208,0.4841887833572328,0.40433837983437115,0.5429016066753831,0.7750574108130894,0.14772581761487225,0.5590113785010432,0.017331109361982344,0.525965258059845,0.7644137692940115,0.07532231456059957,0.49513940034919546,0.9213206580822569,0.7729124440928766,0.8223690561997545,0.001044294196349993,0.01598757551995955,0.17675131257985421,0.41310903046652214,0.6485143914302878,0.9753949007007157,0.019360012556240203,0.06375761978902761,0.49158846938347167,0.4241546901640457,0.6838492467850545,0.8725981931173905,0.21287609104287075,0.5560881482244652,0.4709923848237154,0.7238055713442232,0.9886831048431235,0.5498048525233762,0.9638692848521482,0.7016481639135768,0.10685535677242952,0.3467770163307735,0.04189094059484644,0.9540568013545353,0.9787088360232595,0.2338064565325494,0.28561008365521845,0.17700639028094545,0.9764443960633269,0.27387608201189584,0.7866830631381112,0.8287590155248593,0.2619018048495898,0.2041646860657067,0.632051450642236,0.5413167918243778,0.03581973770841873,0.37753302179509785,0.5384555541479582,0.29232388159328737,0.5450609821512719,0.5194227041465352,0.21740645017613458,0.5770853657096554,0.4075789188197759,0.3621637258466025,0.20592497790768405,0.6067879902811175,0.43371764570804605,0.9547540742190322,0.6667767517393426,0.6425725822843187,0.22536168576884563,0.17355639034408066,0.4327445641541975,0.8810466762258207,0.5548625292824436,0.5867619828977575,0.48945409146573393,0.18144324555689006,0.7649222482325969,0.8140285756712637,0.8945682826004269,0.6711559226808278,0.660823116439795,0.9334680583094427,0.38565311288419224,0.7023385418430171,0.23412568279802748,0.539568988168074,0.6732724926075626,0.01352774794605005,0.9957156650505355,0.8554226381784734,0.5885167297344065,0.16648675502155663,0.26292819471839823,0.5192612666967192,0.5281021295248363,0.6089198993036707,0.21326476017134388,0.05042213341730517,0.02719959665236993,0.7278408258207568,0.6942617720182567,0.7597483514891343,0.18105353906353538,0.5525584329006542,0.2730064344862313,0.8779920366313932,0.24694520518975716,0.4222017900841455,0.44558232742192183,0.17596163169992896,0.1211464724396194,0.6676569671380912,0.22399994025289116,0.09053302585420242,0.5377882568900569,0.9860937049448384,0.773979595809766,0.9282559474086228,0.9064212923259573,0.898676289715181,0.6997168126160044,0.07553303162729319,0.06771233135035215,0.8210971490361426,0.4255495941367168,0.9638543207176349,0.8516379938996043,0.36877939150491923,0.2752497434481821,0.5026172117677117,0.5250971337032845,0.46726622430289555,0.44951235551414015,0.8882107692928656,0.3656941647621059,0.9706156902142634,0.7916070031284618,0.06351250727951852,0.4003726119181691,0.969047174012201,0.9711057747625178,0.8171176759740957,0.49225919366716075,0.40863959370954905,0.7269349017863201,0.41221051602808345,0.6550628437666042,0.7177385413281833,0.4468698219795356,0.6380057075267177,0.013611700229307688,0.8046329746726298,0.7308952495306393,0.8829508686947284,0.8706544911916178,0.794786254115672,0.47664399897347665,0.863281168806643,0.4591981901690251,0.6603432239764607,0.4319004212499731,0.07416643082388796,0.2378543742380791,0.11859061803690119,0.3132085237452591,0.3365882205716736,0.2527360532143964,0.5860302707634458,0.45019496220651967,0.49549953459965357,0.509577632440357,0.6790594311118482,0.5886595644898964,0.9141466160875106,0.6407880557986746,0.30039006154393444,0.09309233676303441,0.511035270300994,0.20308825490459514,0.540775732088193,0.4151405858382986,0.3954308753905449,0.16381904973500705,0.6533088114894681,0.26961080631462886,0.03616660120906856,0.32974945944908896,0.5882583782581251,0.24451295402086826,0.8904279005521651,0.8738125913085601,0.5402436953566121,0.5753805954045755,0.9693721689869701,0.605452946347903,0.1383615875401013,0.07710293310543403,0.4823098757847333,0.6142084503899127,0.1103147594422651,0.588503068677509,0.9968735440499966,0.890757658221313,0.8716419339428235,0.609788865932664,0.9432597542806198,0.141322359863161,0.004474028740431901,0.17833725813770018,0.31690451439018985,0.9118767728751735,0.5364319867313508,0.11430652876151604,0.7445568523482071,0.46262738161857964,0.0902639398478472,0.661552239860394,0.4067958334761378,0.08318023452146261,0.5005651082631183,0.2815889936728325,0.5658244250532645,0.7834951658079922,0.2406304353674844,0.8288302111102049,0.7157493844498881,0.19609136309883024,0.9052262315425664,0.8444933643287315,0.876852849889967,0.08368163301072107,0.5020417767161236,0.9477833961052063,0.864790682585821,0.6720457413853083,0.9248678625192107,0.376870060102118,0.7594324452863306,0.7957350166450695,0.7137824788122177,0.6191097053754665,0.4201737100174441,0.06575297869333907,0.46914699408692817,0.06568833395625973,0.9923166429879265,0.18502874761766108,0.6550669838706955,0.8055427216866808,0.7746969161556828,0.15394461078761013,0.1950204659146234,0.2884766727794078,0.9369678172022794,0.7521574220443022,0.1881498158321655,0.5635200962198205,0.0031912222420156233,0.9849720982151203,0.4744542094572023,0.458098297291212,0.7767895232238241,0.8331884108869638,0.17026373499625758,0.20572099189811488,0.03657699533737624,0.11849354566060788,0.9269467569550285,0.4743573505061729,0.5579577740556544,0.16256989804067412,0.19724609304792418,0.9886957070836507,0.08050992444868732,0.4358814412790101,0.4385960634172511,0.3304642942604452,0.37265301488695823,0.4572649830634634,0.6541310429508218,0.3452225231036432,0.3700351878664925,0.22139082622000916,0.3088637776803451,0.6631373791426011,0.8899445080559929,0.634998712637234,0.4869904270797695,0.11483792772673684,0.9917555809208939,0.6744360892886155,0.5659959020599526,0.06129722507357549,0.775853096452884,0.325232471267333,0.3279964259020284,0.961189094740411,0.8496456759820594,0.2966520689956672,0.7317749641555158,0.6881338464952578,0.6515939443764347,0.8051142297429282,0.7607915769106113,0.4618849715973572,0.7083944298078877,0.4533026419334524,0.5638941551652707,0.4966502953450671,0.6221494865027615,0.8951064938136741,0.7915425814798842,0.2890471729511803,0.6749003793439275,0.8356179989047922,0.3809857581390098,0.4363166348154892,0.38335340364204895,0.0729631185893721,0.7394745498251551,0.25332465869776055,0.05158951490046548,0.7145228732846928,0.9763742926677448,0.05130847908798564,0.7951959378067569,0.4503491208241207,0.539524402717629,0.6926411369680294,0.42527327355080946,0.2828810264955416,0.5249808188347876,0.9452300479467319,0.9701881722580294,0.6662311926309771,0.500508416616605,0.8867813579039177,0.9790063234844437,0.20355089051811215,0.3334108501351063,0.5961672498214377,0.9302133015224826,0.45376423587824155,0.9440276651258159,0.6545601719438376,0.6140310041572316,0.23164695144661873,0.17019853247497485,0.9097722327003437,0.9068727172725186,0.4339703654230438,0.770633017036476,0.5761254468674523,0.33850117771408017,0.9110326848818678,0.8631708919450826,0.18005871700905984,0.10389205694133374,0.5196626253573947,0.5248869868977738,0.7541431161984555,0.3274532517073464,0.3002194112310985,0.5994983080453279,0.3355837491660987,0.5133263874808788,0.16507211622525342,0.751993214080762,0.4374822997300054,0.2998426057667428,0.024843291871860407,0.1814749254813065,0.8037392497825131,0.8973626909842691,0.26602912855943894,0.8945707283284475,0.8259429759308275,0.4743935553737352,0.3823085245254544,0.8435621249444291,0.43414373585920907,0.13958859541578128,0.6697693680423155,0.8796126964041611,0.42440271437849053,0.6847532443088773,0.4126504029746143,0.771403224508554,0.5779644126884489,0.3467651230618327,0.5701257781008644,0.5282595926740185,0.4412584756171283,0.20030174385306654,0.30345940180720565,0.6834412552578438,0.027249813331596595,0.38146420568340667,0.448173861319077,0.6257717432865457,0.6742113210508309,0.09561044250745654,0.5399212477904923,0.7011176593709681,0.7734857012407306,0.8338968800205523,0.8044642464417967,0.30719813804140317,0.8551722196719436,0.8072300378626266,0.5454103373441198,0.5910777996569327,0.741745930025234,0.7975934386937297,0.9396343991067483,0.6890403339620979,0.9490950213997885,0.5670468688033338,0.9687980232676376,0.39748081523813483,0.6065013386312168,0.8042190429474367,0.48142957202678793,0.6535808783844195,0.9969204258165423,0.8237546414111062,0.8228991164234092,0.9339481243326468,0.0381519398634006,0.4316257341223072,0.3992921924794862,0.2154120666569086,0.32021170337127924,0.16543016118735787,0.6907803277294365,0.9084127635623356,0.7251255023961971,0.8036401834273468,0.6166364390563785,0.12020790641678503,0.15374513499498654,0.34001368446947366,0.5484516345336842,0.9175868995845237,0.17037798742679156,0.9296351334594777,0.21560433646630484,0.2861596852203502,0.5271157876944722,0.8360718647603202,0.18924108775753756,0.37078490141246345,0.04289464238862983,0.2066212965992954,0.29122658786750033,0.8419534447280373,0.48606144922773753,0.9969018778232382,0.28140756624108565,0.5067956544044949,0.74461160154586,0.8856985507659279,0.7092078962539199,0.9965846960787903,0.37672969495147435,0.01469149492779065,0.6157700110083366,0.7476612963544418,0.49442837366570924,0.17281091320269493,0.512093482662012,0.09389225512423516,0.08815213695840929,0.4615316460403609,0.39417856802875373,0.7018508901026427,0.14991039864641398,0.7351252208746777]}},\"id\":\"20a63b57-9ac2-4540-9454-b58a18b643b2\",\"type\":\"ColumnDataSource\"},{\"attributes\":{\"callback\":null},\"id\":\"5e3aa3c6-e554-4cde-b389-cf6b559447e9\",\"type\":\"DataRange1d\"}],\"root_ids\":[\"aa9199d4-f568-4684-ab4d-07e11c7e6c58\"]},\"title\":\"Bokeh Application\",\"version\":\"0.12.8\"}};\n",
       "    var render_items = [{\"docid\":\"232c2a24-99e2-496f-a928-3f5bcbee4236\",\"elementid\":\"32a3327c-60f8-4c8e-b22c-51d2b0da89a2\",\"modelid\":\"aa9199d4-f568-4684-ab4d-07e11c7e6c58\"}];\n",
       "\n",
       "    root.Bokeh.embed.embed_items(docs_json, render_items);\n",
       "  }\n",
       "\n",
       "  if (root.Bokeh !== undefined) {\n",
       "    embed_document(root);\n",
       "  } else {\n",
       "    var attempts = 0;\n",
       "    var timer = setInterval(function(root) {\n",
       "      if (root.Bokeh !== undefined) {\n",
       "        embed_document(root);\n",
       "        clearInterval(timer);\n",
       "      }\n",
       "      attempts++;\n",
       "      if (attempts > 100) {\n",
       "        console.log(\"Bokeh: ERROR: Unable to embed document because BokehJS library is missing\")\n",
       "        clearInterval(timer);\n",
       "      }\n",
       "    }, 10, root)\n",
       "  }\n",
       "})(window);"
      ],
      "application/vnd.bokehjs_exec.v0+json": ""
     },
     "metadata": {
      "application/vnd.bokehjs_exec.v0+json": {
       "id": "aa9199d4-f568-4684-ab4d-07e11c7e6c58"
      }
     },
     "output_type": "display_data"
    }
   ],
   "source": [
    "from random import random\n",
    "\n",
    "x = [random() for x in range(500)]\n",
    "y = [random() for y in range(500)]\n",
    "color = [\"navy\"] * len(x)\n",
    "\n",
    "s = ColumnDataSource(data=dict(x=x, y=y, color=color))\n",
    "p = figure(plot_width=400, plot_height=400, tools=\"lasso_select\", title=\"Select Here\")\n",
    "p.circle('x', 'y', color='color', size=8, source=s, alpha=0.4)\n",
    "\n",
    "s2 = ColumnDataSource(data=dict(xm=[0,1],ym=[0.5, 0.5]))\n",
    "p.line(x='xm', y='ym', color=\"orange\", line_width=5, alpha=0.6, source=s2)\n",
    "\n",
    "s.callback = CustomJS(args=dict(s2=s2), code=\"\"\"\n",
    "    var inds = cb_obj.get('selected')['1d'].indices;\n",
    "    var d = cb_obj.get('data');\n",
    "    var ym = 0\n",
    "    \n",
    "    if (inds.length == 0) { return; }\n",
    "    \n",
    "    for (i = 0; i < d['color'].length; i++) {\n",
    "        d['color'][i] = \"navy\"\n",
    "    }\n",
    "    for (i = 0; i < inds.length; i++) {\n",
    "        d['color'][inds[i]] = \"firebrick\"\n",
    "        ym += d['y'][inds[i]]\n",
    "    }\n",
    "    \n",
    "    ym /= inds.length\n",
    "    s2.get('data')['ym'] = [ym, ym]\n",
    "    \n",
    "    cb_obj.trigger('change');\n",
    "    s2.trigger('change');\n",
    "\"\"\")\n",
    "\n",
    "show(p)"
   ]
  },
  {
   "cell_type": "markdown",
   "metadata": {
    "collapsed": true
   },
   "source": [
    "# More\n",
    "For more interactions, see the User Guide - http://bokeh.pydata.org/en/latest/docs/user_guide/interaction.html"
   ]
  },
  {
   "cell_type": "code",
   "execution_count": null,
   "metadata": {
    "collapsed": true
   },
   "outputs": [],
   "source": []
  }
 ],
 "metadata": {
  "anaconda-cloud": {},
  "kernelspec": {
   "display_name": "Python 3",
   "language": "python",
   "name": "python3"
  },
  "language_info": {
   "codemirror_mode": {
    "name": "ipython",
    "version": 3
   },
   "file_extension": ".py",
   "mimetype": "text/x-python",
   "name": "python",
   "nbconvert_exporter": "python",
   "pygments_lexer": "ipython3",
   "version": "3.6.2"
  },
  "widgets": {
   "state": {
    "335ae2c8ff80469e9adac668c2924989": {
     "views": [
      {
       "cell_index": 19
      }
     ]
    }
   },
   "version": "1.2.0"
  }
 },
 "nbformat": 4,
 "nbformat_minor": 1
}
