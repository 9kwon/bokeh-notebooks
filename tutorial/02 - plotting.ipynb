{
 "cells": [
  {
   "cell_type": "markdown",
   "metadata": {
    "collapsed": true
   },
   "source": [
    "<table style=\"float:left; border:none\">\n",
    "   <tr style=\"border:none\">\n",
    "       <td style=\"border:none\">\n",
    "           <a href=\"http://bokeh.pydata.org/\">     \n",
    "           <img \n",
    "               src=\"assets/images/bokeh-transparent.png\" \n",
    "               style=\"width:70px\"\n",
    "           >\n",
    "           </a>    \n",
    "       </td>\n",
    "       <td style=\"border:none\">\n",
    "           <h1>Bokeh Tutorial &mdash; <tt style=\"display:inline\">bokeh.plotting</tt> interface</h1>\n",
    "       </td>\n",
    "   </tr>\n",
    "</table>"
   ]
  },
  {
   "cell_type": "markdown",
   "metadata": {},
   "source": [
    "This section of the tutorial covers the [`bokeh.plotting`](http://bokeh.pydata.org/en/latest/docs/user_guide/plotting.html) \n",
    "interface. This interface is a \"mid-level\" interface, and the main idea can be described by the statement:\n",
    "\n",
    "> Starting from simple default figures (with default tools, grids and axes), add markers and other shapes whose \n",
    "visual attributes are tied to data.\n",
    "\n",
    "We will see that it is possible to customize and change all of the defaults, but having them means that it is possible to get up and running very quickly. "
   ]
  },
  {
   "cell_type": "markdown",
   "metadata": {},
   "source": [
    "# Imports and Setup\n",
    "\n",
    "When using the [`bokeh.plotting`](http://bokeh.pydata.org/en/latest/docs/user_guide/plotting.html) interface, there are a few common imports:\n",
    "* Use the [`figure`](http://bokeh.pydata.org/en/latest/docs/reference/plotting.html#bokeh.plotting.figure) function to  create new plot objects to work with. \n",
    "* Call the functions [`output_file`](http://bokeh.pydata.org/en/latest/docs/reference/resources_embedding.html#bokeh.io.output_file), [`output_notebook`](http://bokeh.pydata.org/en/latest/docs/reference/resources_embedding.html#bokeh.io.output_notebook), and [`output_server`](http://bokeh.pydata.org/en/latest/docs/reference/resources_embedding.html#bokeh.io.output_server) (possibly in combination) to tell Bokeh how to display or save output. \n",
    "* Execute [`show`](http://bokeh.pydata.org/en/latest/docs/reference/resources_embedding.html#bokeh.io.show) and  [`save`](http://bokeh.pydata.org/en/latest/docs/reference/resources_embedding.html#bokeh.io.save) to display or save plots and layouts."
   ]
  },
  {
   "cell_type": "code",
   "execution_count": 1,
   "metadata": {
    "collapsed": false
   },
   "outputs": [],
   "source": [
    "from bokeh.io import output_notebook, show\n",
    "from bokeh.plotting import figure"
   ]
  },
  {
   "cell_type": "markdown",
   "metadata": {},
   "source": [
    "In this case, we are in the Jupyter notebook, so call `output_notebook()`. We only need to call this once, and all subsequent calls to `show()` will display inline in the notebook."
   ]
  },
  {
   "cell_type": "code",
   "execution_count": 2,
   "metadata": {
    "collapsed": false
   },
   "outputs": [
    {
     "data": {
      "text/html": [
       "\n",
       "    <div class=\"bk-banner\">\n",
       "        <a href=\"http://bokeh.pydata.org\" target=\"_blank\" class=\"bk-logo bk-logo-small bk-logo-notebook\"></a>\n",
       "        <span id=\"31a1f1d1-8630-44de-98ab-c54f003cdc8b\">Loading BokehJS ...</span>\n",
       "    </div>"
      ]
     },
     "metadata": {},
     "output_type": "display_data"
    },
    {
     "data": {
      "application/javascript": [
       "\n",
       "(function(global) {\n",
       "  function now() {\n",
       "    return new Date();\n",
       "  }\n",
       "\n",
       "  if (typeof (window._bokeh_onload_callbacks) === \"undefined\") {\n",
       "    window._bokeh_onload_callbacks = [];\n",
       "  }\n",
       "\n",
       "  function run_callbacks() {\n",
       "    window._bokeh_onload_callbacks.forEach(function(callback) { callback() });\n",
       "    delete window._bokeh_onload_callbacks\n",
       "    console.info(\"Bokeh: all callbacks have finished\");\n",
       "  }\n",
       "\n",
       "  function load_libs(js_urls, callback) {\n",
       "    window._bokeh_onload_callbacks.push(callback);\n",
       "    if (window._bokeh_is_loading > 0) {\n",
       "      console.log(\"Bokeh: BokehJS is being loaded, scheduling callback at\", now());\n",
       "      return null;\n",
       "    }\n",
       "    if (js_urls == null || js_urls.length === 0) {\n",
       "      run_callbacks();\n",
       "      return null;\n",
       "    }\n",
       "    console.log(\"Bokeh: BokehJS not loaded, scheduling load and callback at\", now());\n",
       "    window._bokeh_is_loading = js_urls.length;\n",
       "    for (var i = 0; i < js_urls.length; i++) {\n",
       "      var url = js_urls[i];\n",
       "      var s = document.createElement('script');\n",
       "      s.src = url;\n",
       "      s.async = false;\n",
       "      s.onreadystatechange = s.onload = function() {\n",
       "        window._bokeh_is_loading--;\n",
       "        if (window._bokeh_is_loading === 0) {\n",
       "          console.log(\"Bokeh: all BokehJS libraries loaded\");\n",
       "          run_callbacks()\n",
       "        }\n",
       "      };\n",
       "      s.onerror = function() {\n",
       "        console.warn(\"failed to load library \" + url);\n",
       "      };\n",
       "      console.log(\"Bokeh: injecting script tag for BokehJS library: \", url);\n",
       "      document.getElementsByTagName(\"head\")[0].appendChild(s);\n",
       "    }\n",
       "  };\n",
       "\n",
       "  var js_urls = ['https://cdn.pydata.org/bokeh/release/bokeh-0.11.1.min.js', 'https://cdn.pydata.org/bokeh/release/bokeh-widgets-0.11.1.min.js', 'https://cdn.pydata.org/bokeh/release/bokeh-compiler-0.11.1.min.js'];\n",
       "\n",
       "  var inline_js = [\n",
       "    function(Bokeh) {\n",
       "      Bokeh.set_log_level(\"info\");\n",
       "    },\n",
       "    \n",
       "    function(Bokeh) {\n",
       "      Bokeh.$(\"#31a1f1d1-8630-44de-98ab-c54f003cdc8b\").text(\"BokehJS successfully loaded\");\n",
       "    },\n",
       "    function(Bokeh) {\n",
       "      console.log(\"Bokeh: injecting CSS: https://cdn.pydata.org/bokeh/release/bokeh-0.11.1.min.css\");\n",
       "      Bokeh.embed.inject_css(\"https://cdn.pydata.org/bokeh/release/bokeh-0.11.1.min.css\");\n",
       "      console.log(\"Bokeh: injecting CSS: https://cdn.pydata.org/bokeh/release/bokeh-widgets-0.11.1.min.css\");\n",
       "      Bokeh.embed.inject_css(\"https://cdn.pydata.org/bokeh/release/bokeh-widgets-0.11.1.min.css\");\n",
       "    }\n",
       "  ];\n",
       "\n",
       "  function run_inline_js() {\n",
       "    for (var i = 0; i < inline_js.length; i++) {\n",
       "      inline_js[i](window.Bokeh);\n",
       "    }\n",
       "  }\n",
       "\n",
       "  if (window._bokeh_is_loading === 0) {\n",
       "    console.log(\"Bokeh: BokehJS loaded, going straight to plotting\");\n",
       "    run_inline_js();\n",
       "  } else {\n",
       "    load_libs(js_urls, function() {\n",
       "      console.log(\"Bokeh: BokehJS plotting callback run at\", now());\n",
       "      run_inline_js();\n",
       "    });\n",
       "  }\n",
       "}(this));"
      ]
     },
     "metadata": {},
     "output_type": "display_data"
    }
   ],
   "source": [
    "output_notebook()"
   ]
  },
  {
   "cell_type": "markdown",
   "metadata": {},
   "source": [
    "# Some Basic Scatter Plots\n",
    "\n",
    "In this section you will see how to use Bokeh's various marker types to create simple scatter plots. "
   ]
  },
  {
   "cell_type": "code",
   "execution_count": 3,
   "metadata": {
    "collapsed": false
   },
   "outputs": [
    {
     "data": {
      "text/html": [
       "\n",
       "\n",
       "    <div class=\"plotdiv\" id=\"f7571a44-ae68-430b-891f-24057848c8d1\"></div>\n",
       "<script type=\"text/javascript\">\n",
       "  \n",
       "  (function(global) {\n",
       "    function now() {\n",
       "      return new Date();\n",
       "    }\n",
       "  \n",
       "    if (typeof (window._bokeh_onload_callbacks) === \"undefined\") {\n",
       "      window._bokeh_onload_callbacks = [];\n",
       "    }\n",
       "  \n",
       "    function run_callbacks() {\n",
       "      window._bokeh_onload_callbacks.forEach(function(callback) { callback() });\n",
       "      delete window._bokeh_onload_callbacks\n",
       "      console.info(\"Bokeh: all callbacks have finished\");\n",
       "    }\n",
       "  \n",
       "    function load_libs(js_urls, callback) {\n",
       "      window._bokeh_onload_callbacks.push(callback);\n",
       "      if (window._bokeh_is_loading > 0) {\n",
       "        console.log(\"Bokeh: BokehJS is being loaded, scheduling callback at\", now());\n",
       "        return null;\n",
       "      }\n",
       "      if (js_urls == null || js_urls.length === 0) {\n",
       "        run_callbacks();\n",
       "        return null;\n",
       "      }\n",
       "      console.log(\"Bokeh: BokehJS not loaded, scheduling load and callback at\", now());\n",
       "      window._bokeh_is_loading = js_urls.length;\n",
       "      for (var i = 0; i < js_urls.length; i++) {\n",
       "        var url = js_urls[i];\n",
       "        var s = document.createElement('script');\n",
       "        s.src = url;\n",
       "        s.async = false;\n",
       "        s.onreadystatechange = s.onload = function() {\n",
       "          window._bokeh_is_loading--;\n",
       "          if (window._bokeh_is_loading === 0) {\n",
       "            console.log(\"Bokeh: all BokehJS libraries loaded\");\n",
       "            run_callbacks()\n",
       "          }\n",
       "        };\n",
       "        s.onerror = function() {\n",
       "          console.warn(\"failed to load library \" + url);\n",
       "        };\n",
       "        console.log(\"Bokeh: injecting script tag for BokehJS library: \", url);\n",
       "        document.getElementsByTagName(\"head\")[0].appendChild(s);\n",
       "      }\n",
       "    };var element = document.getElementById(\"f7571a44-ae68-430b-891f-24057848c8d1\");\n",
       "    if (element == null) {\n",
       "      console.log(\"Bokeh: ERROR: autoload.js configured with elementid 'f7571a44-ae68-430b-891f-24057848c8d1' but no matching script tag was found. \")\n",
       "      return false;\n",
       "    }\n",
       "  \n",
       "    var js_urls = [];\n",
       "  \n",
       "    var inline_js = [\n",
       "      function(Bokeh) {\n",
       "        Bokeh.$(function() {\n",
       "            var docs_json = {\"9106e10e-1a2b-475d-807d-b9d2c5c6f877\":{\"roots\":{\"references\":[{\"attributes\":{\"below\":[{\"id\":\"9a3e5262-5efa-4676-aa65-94a7f98276d8\",\"type\":\"LinearAxis\"}],\"left\":[{\"id\":\"6a353706-c8f2-424d-ab37-a9a62f768b99\",\"type\":\"LinearAxis\"}],\"plot_height\":400,\"plot_width\":400,\"renderers\":[{\"id\":\"9a3e5262-5efa-4676-aa65-94a7f98276d8\",\"type\":\"LinearAxis\"},{\"id\":\"da55123e-cc3b-4f6d-880d-edcfde58cea3\",\"type\":\"Grid\"},{\"id\":\"6a353706-c8f2-424d-ab37-a9a62f768b99\",\"type\":\"LinearAxis\"},{\"id\":\"2544b297-de76-4dff-8aaf-bf73969f7453\",\"type\":\"Grid\"},{\"id\":\"31efc230-1cf5-46b0-89a2-fd103049b5dd\",\"type\":\"BoxAnnotation\"},{\"id\":\"c64176da-336e-4614-9a3a-7e0f4e30e688\",\"type\":\"GlyphRenderer\"}],\"tool_events\":{\"id\":\"0eada2fc-6772-4b65-b85d-e3658d6a8d6f\",\"type\":\"ToolEvents\"},\"tools\":[{\"id\":\"d0b44c9d-075b-4bb1-83d8-c365c87839f0\",\"type\":\"PanTool\"},{\"id\":\"4d88bb88-58ce-43b8-ad04-dd6a92d356d6\",\"type\":\"WheelZoomTool\"},{\"id\":\"e3b3d5b9-25b1-496f-82c8-452275db87e9\",\"type\":\"BoxZoomTool\"},{\"id\":\"f3f12abf-b96b-498b-951d-1616ce2ae633\",\"type\":\"PreviewSaveTool\"},{\"id\":\"abcf5b45-e912-402b-be94-538e9157afec\",\"type\":\"ResizeTool\"},{\"id\":\"b2c94bd0-eb4a-47d6-ac36-3e9dedaff8f3\",\"type\":\"ResetTool\"},{\"id\":\"b06c2515-a34e-48c2-88a0-628a04a4e627\",\"type\":\"HelpTool\"}],\"x_range\":{\"id\":\"92cecd4b-10a2-49a2-a37d-e2c7b5a02078\",\"type\":\"DataRange1d\"},\"y_range\":{\"id\":\"1db6e218-ae52-40cf-8128-747fb851e2aa\",\"type\":\"DataRange1d\"}},\"id\":\"d1e9a4f8-02eb-4ba4-969b-4aadc7c02a8a\",\"subtype\":\"Figure\",\"type\":\"Plot\"},{\"attributes\":{\"callback\":null,\"column_names\":[\"y\",\"x\"],\"data\":{\"x\":[1,2,3,4,5],\"y\":[6,7,2,4,5]}},\"id\":\"9b72ef34-3f0a-44d5-8d70-e7edfa0ac6f6\",\"type\":\"ColumnDataSource\"},{\"attributes\":{\"fill_alpha\":{\"value\":0.5},\"fill_color\":{\"value\":\"orange\"},\"line_color\":{\"value\":\"navy\"},\"size\":{\"units\":\"screen\",\"value\":15},\"x\":{\"field\":\"x\"},\"y\":{\"field\":\"y\"}},\"id\":\"1d7304d8-c442-490d-b107-7359f5f32016\",\"type\":\"Circle\"},{\"attributes\":{\"plot\":{\"id\":\"d1e9a4f8-02eb-4ba4-969b-4aadc7c02a8a\",\"subtype\":\"Figure\",\"type\":\"Plot\"}},\"id\":\"d0b44c9d-075b-4bb1-83d8-c365c87839f0\",\"type\":\"PanTool\"},{\"attributes\":{\"plot\":{\"id\":\"d1e9a4f8-02eb-4ba4-969b-4aadc7c02a8a\",\"subtype\":\"Figure\",\"type\":\"Plot\"}},\"id\":\"abcf5b45-e912-402b-be94-538e9157afec\",\"type\":\"ResizeTool\"},{\"attributes\":{\"plot\":{\"id\":\"d1e9a4f8-02eb-4ba4-969b-4aadc7c02a8a\",\"subtype\":\"Figure\",\"type\":\"Plot\"}},\"id\":\"f3f12abf-b96b-498b-951d-1616ce2ae633\",\"type\":\"PreviewSaveTool\"},{\"attributes\":{\"callback\":null},\"id\":\"92cecd4b-10a2-49a2-a37d-e2c7b5a02078\",\"type\":\"DataRange1d\"},{\"attributes\":{\"callback\":null},\"id\":\"1db6e218-ae52-40cf-8128-747fb851e2aa\",\"type\":\"DataRange1d\"},{\"attributes\":{},\"id\":\"44685515-c9b8-4429-a726-7aecfdb46d9e\",\"type\":\"BasicTicker\"},{\"attributes\":{\"plot\":{\"id\":\"d1e9a4f8-02eb-4ba4-969b-4aadc7c02a8a\",\"subtype\":\"Figure\",\"type\":\"Plot\"}},\"id\":\"4d88bb88-58ce-43b8-ad04-dd6a92d356d6\",\"type\":\"WheelZoomTool\"},{\"attributes\":{},\"id\":\"5f1c2ad9-8ee2-41ca-98d1-8ccee6967dcb\",\"type\":\"BasicTickFormatter\"},{\"attributes\":{\"fill_alpha\":{\"value\":0.1},\"fill_color\":{\"value\":\"#1f77b4\"},\"line_alpha\":{\"value\":0.1},\"line_color\":{\"value\":\"#1f77b4\"},\"size\":{\"units\":\"screen\",\"value\":15},\"x\":{\"field\":\"x\"},\"y\":{\"field\":\"y\"}},\"id\":\"b4ad2e92-b478-48ad-b4b9-f2d023676f78\",\"type\":\"Circle\"},{\"attributes\":{\"overlay\":{\"id\":\"31efc230-1cf5-46b0-89a2-fd103049b5dd\",\"type\":\"BoxAnnotation\"},\"plot\":{\"id\":\"d1e9a4f8-02eb-4ba4-969b-4aadc7c02a8a\",\"subtype\":\"Figure\",\"type\":\"Plot\"}},\"id\":\"e3b3d5b9-25b1-496f-82c8-452275db87e9\",\"type\":\"BoxZoomTool\"},{\"attributes\":{\"plot\":{\"id\":\"d1e9a4f8-02eb-4ba4-969b-4aadc7c02a8a\",\"subtype\":\"Figure\",\"type\":\"Plot\"},\"ticker\":{\"id\":\"a19ee180-7585-4df7-a96b-8dfb14c77a24\",\"type\":\"BasicTicker\"}},\"id\":\"da55123e-cc3b-4f6d-880d-edcfde58cea3\",\"type\":\"Grid\"},{\"attributes\":{\"data_source\":{\"id\":\"9b72ef34-3f0a-44d5-8d70-e7edfa0ac6f6\",\"type\":\"ColumnDataSource\"},\"glyph\":{\"id\":\"1d7304d8-c442-490d-b107-7359f5f32016\",\"type\":\"Circle\"},\"hover_glyph\":null,\"nonselection_glyph\":{\"id\":\"b4ad2e92-b478-48ad-b4b9-f2d023676f78\",\"type\":\"Circle\"},\"selection_glyph\":null},\"id\":\"c64176da-336e-4614-9a3a-7e0f4e30e688\",\"type\":\"GlyphRenderer\"},{\"attributes\":{\"formatter\":{\"id\":\"5f1c2ad9-8ee2-41ca-98d1-8ccee6967dcb\",\"type\":\"BasicTickFormatter\"},\"plot\":{\"id\":\"d1e9a4f8-02eb-4ba4-969b-4aadc7c02a8a\",\"subtype\":\"Figure\",\"type\":\"Plot\"},\"ticker\":{\"id\":\"44685515-c9b8-4429-a726-7aecfdb46d9e\",\"type\":\"BasicTicker\"}},\"id\":\"6a353706-c8f2-424d-ab37-a9a62f768b99\",\"type\":\"LinearAxis\"},{\"attributes\":{\"plot\":{\"id\":\"d1e9a4f8-02eb-4ba4-969b-4aadc7c02a8a\",\"subtype\":\"Figure\",\"type\":\"Plot\"}},\"id\":\"b06c2515-a34e-48c2-88a0-628a04a4e627\",\"type\":\"HelpTool\"},{\"attributes\":{},\"id\":\"09d1b6a0-305c-4202-a190-ea302b12f41e\",\"type\":\"BasicTickFormatter\"},{\"attributes\":{\"formatter\":{\"id\":\"09d1b6a0-305c-4202-a190-ea302b12f41e\",\"type\":\"BasicTickFormatter\"},\"plot\":{\"id\":\"d1e9a4f8-02eb-4ba4-969b-4aadc7c02a8a\",\"subtype\":\"Figure\",\"type\":\"Plot\"},\"ticker\":{\"id\":\"a19ee180-7585-4df7-a96b-8dfb14c77a24\",\"type\":\"BasicTicker\"}},\"id\":\"9a3e5262-5efa-4676-aa65-94a7f98276d8\",\"type\":\"LinearAxis\"},{\"attributes\":{},\"id\":\"a19ee180-7585-4df7-a96b-8dfb14c77a24\",\"type\":\"BasicTicker\"},{\"attributes\":{},\"id\":\"0eada2fc-6772-4b65-b85d-e3658d6a8d6f\",\"type\":\"ToolEvents\"},{\"attributes\":{\"dimension\":1,\"plot\":{\"id\":\"d1e9a4f8-02eb-4ba4-969b-4aadc7c02a8a\",\"subtype\":\"Figure\",\"type\":\"Plot\"},\"ticker\":{\"id\":\"44685515-c9b8-4429-a726-7aecfdb46d9e\",\"type\":\"BasicTicker\"}},\"id\":\"2544b297-de76-4dff-8aaf-bf73969f7453\",\"type\":\"Grid\"},{\"attributes\":{\"bottom_units\":\"screen\",\"fill_alpha\":{\"value\":0.5},\"fill_color\":{\"value\":\"lightgrey\"},\"left_units\":\"screen\",\"level\":\"overlay\",\"line_alpha\":{\"value\":1.0},\"line_color\":{\"value\":\"black\"},\"line_dash\":[4,4],\"line_width\":{\"value\":2},\"plot\":null,\"render_mode\":\"css\",\"right_units\":\"screen\",\"top_units\":\"screen\"},\"id\":\"31efc230-1cf5-46b0-89a2-fd103049b5dd\",\"type\":\"BoxAnnotation\"},{\"attributes\":{\"plot\":{\"id\":\"d1e9a4f8-02eb-4ba4-969b-4aadc7c02a8a\",\"subtype\":\"Figure\",\"type\":\"Plot\"}},\"id\":\"b2c94bd0-eb4a-47d6-ac36-3e9dedaff8f3\",\"type\":\"ResetTool\"}],\"root_ids\":[\"d1e9a4f8-02eb-4ba4-969b-4aadc7c02a8a\"]},\"title\":\"Bokeh Application\",\"version\":\"0.11.1\"}};\n",
       "            var render_items = [{\"docid\":\"9106e10e-1a2b-475d-807d-b9d2c5c6f877\",\"elementid\":\"f7571a44-ae68-430b-891f-24057848c8d1\",\"modelid\":\"d1e9a4f8-02eb-4ba4-969b-4aadc7c02a8a\",\"notebook_comms_target\":\"f44fe7cb-9e9d-4341-ba30-123d9d2986d5\"}];\n",
       "            \n",
       "            Bokeh.embed.embed_items(docs_json, render_items);\n",
       "        });\n",
       "      },\n",
       "      function(Bokeh) {\n",
       "      }\n",
       "    ];\n",
       "  \n",
       "    function run_inline_js() {\n",
       "      for (var i = 0; i < inline_js.length; i++) {\n",
       "        inline_js[i](window.Bokeh);\n",
       "      }\n",
       "    }\n",
       "  \n",
       "    if (window._bokeh_is_loading === 0) {\n",
       "      console.log(\"Bokeh: BokehJS loaded, going straight to plotting\");\n",
       "      run_inline_js();\n",
       "    } else {\n",
       "      load_libs(js_urls, function() {\n",
       "        console.log(\"Bokeh: BokehJS plotting callback run at\", now());\n",
       "        run_inline_js();\n",
       "      });\n",
       "    }\n",
       "  }(this));\n",
       "</script>"
      ]
     },
     "metadata": {},
     "output_type": "display_data"
    },
    {
     "data": {
      "text/html": [
       "<p><code>&lt;Bokeh Notebook handle for <strong>In[3]</strong>&gt;</code></p>"
      ],
      "text/plain": [
       "<bokeh.io._CommsHandle at 0x10cfbd1d0>"
      ]
     },
     "execution_count": 3,
     "metadata": {},
     "output_type": "execute_result"
    }
   ],
   "source": [
    "# create a new plot with default tools, using figure\n",
    "p = figure(plot_width=400, plot_height=400)\n",
    "\n",
    "# add a circle renderer with a size, color, and alpha\n",
    "p.circle([1, 2, 3, 4, 5], [6, 7, 2, 4, 5], size=15, line_color=\"navy\", fill_color=\"orange\", fill_alpha=0.5)\n",
    "\n",
    "show(p) # show the results"
   ]
  },
  {
   "cell_type": "markdown",
   "metadata": {},
   "source": [
    "All Bokeh markers accept `size` (measured in screen space units) as a property. Circles also have `radius` (measured in \"data\" space units). "
   ]
  },
  {
   "cell_type": "code",
   "execution_count": 4,
   "metadata": {
    "collapsed": true
   },
   "outputs": [],
   "source": [
    "# EXERCISE: Try changing the example above to set a `radius` value instead of `size`\n",
    "\n"
   ]
  },
  {
   "cell_type": "markdown",
   "metadata": {},
   "source": [
    "To scatter square markers instead of circles, you can use the `square` method on figures. "
   ]
  },
  {
   "cell_type": "code",
   "execution_count": 5,
   "metadata": {
    "collapsed": false
   },
   "outputs": [
    {
     "data": {
      "text/html": [
       "\n",
       "\n",
       "    <div class=\"plotdiv\" id=\"25339515-4671-4ed2-8bc0-3af05cfb6fc6\"></div>\n",
       "<script type=\"text/javascript\">\n",
       "  \n",
       "  (function(global) {\n",
       "    function now() {\n",
       "      return new Date();\n",
       "    }\n",
       "  \n",
       "    if (typeof (window._bokeh_onload_callbacks) === \"undefined\") {\n",
       "      window._bokeh_onload_callbacks = [];\n",
       "    }\n",
       "  \n",
       "    function run_callbacks() {\n",
       "      window._bokeh_onload_callbacks.forEach(function(callback) { callback() });\n",
       "      delete window._bokeh_onload_callbacks\n",
       "      console.info(\"Bokeh: all callbacks have finished\");\n",
       "    }\n",
       "  \n",
       "    function load_libs(js_urls, callback) {\n",
       "      window._bokeh_onload_callbacks.push(callback);\n",
       "      if (window._bokeh_is_loading > 0) {\n",
       "        console.log(\"Bokeh: BokehJS is being loaded, scheduling callback at\", now());\n",
       "        return null;\n",
       "      }\n",
       "      if (js_urls == null || js_urls.length === 0) {\n",
       "        run_callbacks();\n",
       "        return null;\n",
       "      }\n",
       "      console.log(\"Bokeh: BokehJS not loaded, scheduling load and callback at\", now());\n",
       "      window._bokeh_is_loading = js_urls.length;\n",
       "      for (var i = 0; i < js_urls.length; i++) {\n",
       "        var url = js_urls[i];\n",
       "        var s = document.createElement('script');\n",
       "        s.src = url;\n",
       "        s.async = false;\n",
       "        s.onreadystatechange = s.onload = function() {\n",
       "          window._bokeh_is_loading--;\n",
       "          if (window._bokeh_is_loading === 0) {\n",
       "            console.log(\"Bokeh: all BokehJS libraries loaded\");\n",
       "            run_callbacks()\n",
       "          }\n",
       "        };\n",
       "        s.onerror = function() {\n",
       "          console.warn(\"failed to load library \" + url);\n",
       "        };\n",
       "        console.log(\"Bokeh: injecting script tag for BokehJS library: \", url);\n",
       "        document.getElementsByTagName(\"head\")[0].appendChild(s);\n",
       "      }\n",
       "    };var element = document.getElementById(\"25339515-4671-4ed2-8bc0-3af05cfb6fc6\");\n",
       "    if (element == null) {\n",
       "      console.log(\"Bokeh: ERROR: autoload.js configured with elementid '25339515-4671-4ed2-8bc0-3af05cfb6fc6' but no matching script tag was found. \")\n",
       "      return false;\n",
       "    }\n",
       "  \n",
       "    var js_urls = [];\n",
       "  \n",
       "    var inline_js = [\n",
       "      function(Bokeh) {\n",
       "        Bokeh.$(function() {\n",
       "            var docs_json = {\"2fd778fe-8344-44e8-97c9-12cae11b233d\":{\"roots\":{\"references\":[{\"attributes\":{\"dimension\":1,\"plot\":{\"id\":\"4683ed72-de92-4529-890f-6b41e65d0a39\",\"subtype\":\"Figure\",\"type\":\"Plot\"},\"ticker\":{\"id\":\"bbcf32c9-d903-4342-ad16-d39ae00d24bd\",\"type\":\"BasicTicker\"}},\"id\":\"d282c17c-459c-4b58-8832-24902bd26cfb\",\"type\":\"Grid\"},{\"attributes\":{\"below\":[{\"id\":\"a108a2bf-2f29-4410-a054-1dad3504852e\",\"type\":\"LinearAxis\"}],\"left\":[{\"id\":\"48562ddc-29f8-4acb-af1f-ed35d2954dfa\",\"type\":\"LinearAxis\"}],\"plot_height\":400,\"plot_width\":400,\"renderers\":[{\"id\":\"a108a2bf-2f29-4410-a054-1dad3504852e\",\"type\":\"LinearAxis\"},{\"id\":\"1c529146-0866-43c7-a813-05a532299d5e\",\"type\":\"Grid\"},{\"id\":\"48562ddc-29f8-4acb-af1f-ed35d2954dfa\",\"type\":\"LinearAxis\"},{\"id\":\"d282c17c-459c-4b58-8832-24902bd26cfb\",\"type\":\"Grid\"},{\"id\":\"4617a28b-3ac9-4f43-bc1c-a52369339c58\",\"type\":\"BoxAnnotation\"},{\"id\":\"e3275840-bc4d-4515-9048-f2d6397ad50b\",\"type\":\"GlyphRenderer\"}],\"tool_events\":{\"id\":\"63ad6d9a-4e47-46db-bf26-17aa9925b401\",\"type\":\"ToolEvents\"},\"tools\":[{\"id\":\"f9118000-eff3-4a15-a27d-cc50d1cc6824\",\"type\":\"PanTool\"},{\"id\":\"ebfa8396-8b77-4038-bc5b-4977b07dc528\",\"type\":\"WheelZoomTool\"},{\"id\":\"5ed58fc5-5385-412c-90a7-3869be3f1f65\",\"type\":\"BoxZoomTool\"},{\"id\":\"f192a9f5-9a53-4025-be80-f04ab7adb1ac\",\"type\":\"PreviewSaveTool\"},{\"id\":\"81360e3d-55b6-4455-8532-92d7ad04f94b\",\"type\":\"ResizeTool\"},{\"id\":\"170d859c-dfa2-40ea-b05a-c3055e87f524\",\"type\":\"ResetTool\"},{\"id\":\"88cefeec-799e-4937-9710-6e4c6fdd8b06\",\"type\":\"HelpTool\"}],\"x_range\":{\"id\":\"ea80e758-436a-4c81-a181-b6c6a583bd29\",\"type\":\"DataRange1d\"},\"y_range\":{\"id\":\"0b702811-362c-47dd-86e7-14966f9421f6\",\"type\":\"DataRange1d\"}},\"id\":\"4683ed72-de92-4529-890f-6b41e65d0a39\",\"subtype\":\"Figure\",\"type\":\"Plot\"},{\"attributes\":{\"data_source\":{\"id\":\"2681bbf1-f024-4a2b-847e-ceb0260ee2ab\",\"type\":\"ColumnDataSource\"},\"glyph\":{\"id\":\"66af364c-b0ea-4f2e-9736-4faf6b619f80\",\"type\":\"Square\"},\"hover_glyph\":null,\"nonselection_glyph\":{\"id\":\"da3008a7-203a-480f-a151-a681faca33d9\",\"type\":\"Square\"},\"selection_glyph\":null},\"id\":\"e3275840-bc4d-4515-9048-f2d6397ad50b\",\"type\":\"GlyphRenderer\"},{\"attributes\":{\"plot\":{\"id\":\"d1e9a4f8-02eb-4ba4-969b-4aadc7c02a8a\",\"subtype\":\"Figure\",\"type\":\"Plot\"}},\"id\":\"abcf5b45-e912-402b-be94-538e9157afec\",\"type\":\"ResizeTool\"},{\"attributes\":{},\"id\":\"bbcf32c9-d903-4342-ad16-d39ae00d24bd\",\"type\":\"BasicTicker\"},{\"attributes\":{\"plot\":{\"id\":\"4683ed72-de92-4529-890f-6b41e65d0a39\",\"subtype\":\"Figure\",\"type\":\"Plot\"}},\"id\":\"f192a9f5-9a53-4025-be80-f04ab7adb1ac\",\"type\":\"PreviewSaveTool\"},{\"attributes\":{\"plot\":{\"id\":\"d1e9a4f8-02eb-4ba4-969b-4aadc7c02a8a\",\"subtype\":\"Figure\",\"type\":\"Plot\"}},\"id\":\"f3f12abf-b96b-498b-951d-1616ce2ae633\",\"type\":\"PreviewSaveTool\"},{\"attributes\":{},\"id\":\"44685515-c9b8-4429-a726-7aecfdb46d9e\",\"type\":\"BasicTicker\"},{\"attributes\":{\"callback\":null,\"column_names\":[\"y\",\"x\"],\"data\":{\"x\":[1,2,3,4,5],\"y\":[6,7,2,4,5]}},\"id\":\"9b72ef34-3f0a-44d5-8d70-e7edfa0ac6f6\",\"type\":\"ColumnDataSource\"},{\"attributes\":{},\"id\":\"7a89a4b3-b9ed-4a74-be69-c1b33c72c5c4\",\"type\":\"BasicTickFormatter\"},{\"attributes\":{\"formatter\":{\"id\":\"66c88396-390d-40ff-b26b-cbcea5ce25ad\",\"type\":\"BasicTickFormatter\"},\"plot\":{\"id\":\"4683ed72-de92-4529-890f-6b41e65d0a39\",\"subtype\":\"Figure\",\"type\":\"Plot\"},\"ticker\":{\"id\":\"bbcf32c9-d903-4342-ad16-d39ae00d24bd\",\"type\":\"BasicTicker\"}},\"id\":\"48562ddc-29f8-4acb-af1f-ed35d2954dfa\",\"type\":\"LinearAxis\"},{\"attributes\":{\"plot\":{\"id\":\"4683ed72-de92-4529-890f-6b41e65d0a39\",\"subtype\":\"Figure\",\"type\":\"Plot\"}},\"id\":\"88cefeec-799e-4937-9710-6e4c6fdd8b06\",\"type\":\"HelpTool\"},{\"attributes\":{\"fill_alpha\":{\"value\":0.1},\"fill_color\":{\"value\":\"#1f77b4\"},\"line_alpha\":{\"value\":0.1},\"line_color\":{\"value\":\"#1f77b4\"},\"size\":{\"units\":\"screen\",\"value\":15},\"x\":{\"field\":\"x\"},\"y\":{\"field\":\"y\"}},\"id\":\"b4ad2e92-b478-48ad-b4b9-f2d023676f78\",\"type\":\"Circle\"},{\"attributes\":{\"callback\":null},\"id\":\"ea80e758-436a-4c81-a181-b6c6a583bd29\",\"type\":\"DataRange1d\"},{\"attributes\":{\"plot\":{\"id\":\"4683ed72-de92-4529-890f-6b41e65d0a39\",\"subtype\":\"Figure\",\"type\":\"Plot\"}},\"id\":\"f9118000-eff3-4a15-a27d-cc50d1cc6824\",\"type\":\"PanTool\"},{\"attributes\":{\"plot\":{\"id\":\"d1e9a4f8-02eb-4ba4-969b-4aadc7c02a8a\",\"subtype\":\"Figure\",\"type\":\"Plot\"},\"ticker\":{\"id\":\"a19ee180-7585-4df7-a96b-8dfb14c77a24\",\"type\":\"BasicTicker\"}},\"id\":\"da55123e-cc3b-4f6d-880d-edcfde58cea3\",\"type\":\"Grid\"},{\"attributes\":{\"data_source\":{\"id\":\"9b72ef34-3f0a-44d5-8d70-e7edfa0ac6f6\",\"type\":\"ColumnDataSource\"},\"glyph\":{\"id\":\"1d7304d8-c442-490d-b107-7359f5f32016\",\"type\":\"Circle\"},\"hover_glyph\":null,\"nonselection_glyph\":{\"id\":\"b4ad2e92-b478-48ad-b4b9-f2d023676f78\",\"type\":\"Circle\"},\"selection_glyph\":null},\"id\":\"c64176da-336e-4614-9a3a-7e0f4e30e688\",\"type\":\"GlyphRenderer\"},{\"attributes\":{\"formatter\":{\"id\":\"5f1c2ad9-8ee2-41ca-98d1-8ccee6967dcb\",\"type\":\"BasicTickFormatter\"},\"plot\":{\"id\":\"d1e9a4f8-02eb-4ba4-969b-4aadc7c02a8a\",\"subtype\":\"Figure\",\"type\":\"Plot\"},\"ticker\":{\"id\":\"44685515-c9b8-4429-a726-7aecfdb46d9e\",\"type\":\"BasicTicker\"}},\"id\":\"6a353706-c8f2-424d-ab37-a9a62f768b99\",\"type\":\"LinearAxis\"},{\"attributes\":{\"plot\":{\"id\":\"d1e9a4f8-02eb-4ba4-969b-4aadc7c02a8a\",\"subtype\":\"Figure\",\"type\":\"Plot\"}},\"id\":\"b06c2515-a34e-48c2-88a0-628a04a4e627\",\"type\":\"HelpTool\"},{\"attributes\":{\"plot\":{\"id\":\"4683ed72-de92-4529-890f-6b41e65d0a39\",\"subtype\":\"Figure\",\"type\":\"Plot\"}},\"id\":\"ebfa8396-8b77-4038-bc5b-4977b07dc528\",\"type\":\"WheelZoomTool\"},{\"attributes\":{\"callback\":null,\"column_names\":[\"y\",\"x\",\"size\"],\"data\":{\"size\":[10,15,20,25,30],\"x\":[1,2,3,4,5],\"y\":[6,7,2,4,5]}},\"id\":\"2681bbf1-f024-4a2b-847e-ceb0260ee2ab\",\"type\":\"ColumnDataSource\"},{\"attributes\":{},\"id\":\"09d1b6a0-305c-4202-a190-ea302b12f41e\",\"type\":\"BasicTickFormatter\"},{\"attributes\":{\"formatter\":{\"id\":\"09d1b6a0-305c-4202-a190-ea302b12f41e\",\"type\":\"BasicTickFormatter\"},\"plot\":{\"id\":\"d1e9a4f8-02eb-4ba4-969b-4aadc7c02a8a\",\"subtype\":\"Figure\",\"type\":\"Plot\"},\"ticker\":{\"id\":\"a19ee180-7585-4df7-a96b-8dfb14c77a24\",\"type\":\"BasicTicker\"}},\"id\":\"9a3e5262-5efa-4676-aa65-94a7f98276d8\",\"type\":\"LinearAxis\"},{\"attributes\":{\"dimension\":1,\"plot\":{\"id\":\"d1e9a4f8-02eb-4ba4-969b-4aadc7c02a8a\",\"subtype\":\"Figure\",\"type\":\"Plot\"},\"ticker\":{\"id\":\"44685515-c9b8-4429-a726-7aecfdb46d9e\",\"type\":\"BasicTicker\"}},\"id\":\"2544b297-de76-4dff-8aaf-bf73969f7453\",\"type\":\"Grid\"},{\"attributes\":{\"plot\":{\"id\":\"d1e9a4f8-02eb-4ba4-969b-4aadc7c02a8a\",\"subtype\":\"Figure\",\"type\":\"Plot\"}},\"id\":\"b2c94bd0-eb4a-47d6-ac36-3e9dedaff8f3\",\"type\":\"ResetTool\"},{\"attributes\":{\"below\":[{\"id\":\"9a3e5262-5efa-4676-aa65-94a7f98276d8\",\"type\":\"LinearAxis\"}],\"left\":[{\"id\":\"6a353706-c8f2-424d-ab37-a9a62f768b99\",\"type\":\"LinearAxis\"}],\"plot_height\":400,\"plot_width\":400,\"renderers\":[{\"id\":\"9a3e5262-5efa-4676-aa65-94a7f98276d8\",\"type\":\"LinearAxis\"},{\"id\":\"da55123e-cc3b-4f6d-880d-edcfde58cea3\",\"type\":\"Grid\"},{\"id\":\"6a353706-c8f2-424d-ab37-a9a62f768b99\",\"type\":\"LinearAxis\"},{\"id\":\"2544b297-de76-4dff-8aaf-bf73969f7453\",\"type\":\"Grid\"},{\"id\":\"31efc230-1cf5-46b0-89a2-fd103049b5dd\",\"type\":\"BoxAnnotation\"},{\"id\":\"c64176da-336e-4614-9a3a-7e0f4e30e688\",\"type\":\"GlyphRenderer\"}],\"tool_events\":{\"id\":\"0eada2fc-6772-4b65-b85d-e3658d6a8d6f\",\"type\":\"ToolEvents\"},\"tools\":[{\"id\":\"d0b44c9d-075b-4bb1-83d8-c365c87839f0\",\"type\":\"PanTool\"},{\"id\":\"4d88bb88-58ce-43b8-ad04-dd6a92d356d6\",\"type\":\"WheelZoomTool\"},{\"id\":\"e3b3d5b9-25b1-496f-82c8-452275db87e9\",\"type\":\"BoxZoomTool\"},{\"id\":\"f3f12abf-b96b-498b-951d-1616ce2ae633\",\"type\":\"PreviewSaveTool\"},{\"id\":\"abcf5b45-e912-402b-be94-538e9157afec\",\"type\":\"ResizeTool\"},{\"id\":\"b2c94bd0-eb4a-47d6-ac36-3e9dedaff8f3\",\"type\":\"ResetTool\"},{\"id\":\"b06c2515-a34e-48c2-88a0-628a04a4e627\",\"type\":\"HelpTool\"}],\"x_range\":{\"id\":\"92cecd4b-10a2-49a2-a37d-e2c7b5a02078\",\"type\":\"DataRange1d\"},\"y_range\":{\"id\":\"1db6e218-ae52-40cf-8128-747fb851e2aa\",\"type\":\"DataRange1d\"}},\"id\":\"d1e9a4f8-02eb-4ba4-969b-4aadc7c02a8a\",\"subtype\":\"Figure\",\"type\":\"Plot\"},{\"attributes\":{\"bottom_units\":\"screen\",\"fill_alpha\":{\"value\":0.5},\"fill_color\":{\"value\":\"lightgrey\"},\"left_units\":\"screen\",\"level\":\"overlay\",\"line_alpha\":{\"value\":1.0},\"line_color\":{\"value\":\"black\"},\"line_dash\":[4,4],\"line_width\":{\"value\":2},\"plot\":null,\"render_mode\":\"css\",\"right_units\":\"screen\",\"top_units\":\"screen\"},\"id\":\"4617a28b-3ac9-4f43-bc1c-a52369339c58\",\"type\":\"BoxAnnotation\"},{\"attributes\":{\"fill_alpha\":{\"value\":0.5},\"fill_color\":{\"value\":\"orange\"},\"line_color\":{\"value\":\"navy\"},\"size\":{\"units\":\"screen\",\"value\":15},\"x\":{\"field\":\"x\"},\"y\":{\"field\":\"y\"}},\"id\":\"1d7304d8-c442-490d-b107-7359f5f32016\",\"type\":\"Circle\"},{\"attributes\":{\"plot\":{\"id\":\"d1e9a4f8-02eb-4ba4-969b-4aadc7c02a8a\",\"subtype\":\"Figure\",\"type\":\"Plot\"}},\"id\":\"d0b44c9d-075b-4bb1-83d8-c365c87839f0\",\"type\":\"PanTool\"},{\"attributes\":{\"fill_alpha\":{\"value\":0.6},\"fill_color\":{\"value\":\"firebrick\"},\"line_alpha\":{\"value\":0.6},\"line_color\":{\"value\":\"firebrick\"},\"size\":{\"field\":\"size\",\"units\":\"screen\"},\"x\":{\"field\":\"x\"},\"y\":{\"field\":\"y\"}},\"id\":\"66af364c-b0ea-4f2e-9736-4faf6b619f80\",\"type\":\"Square\"},{\"attributes\":{\"callback\":null},\"id\":\"1db6e218-ae52-40cf-8128-747fb851e2aa\",\"type\":\"DataRange1d\"},{\"attributes\":{\"plot\":{\"id\":\"d1e9a4f8-02eb-4ba4-969b-4aadc7c02a8a\",\"subtype\":\"Figure\",\"type\":\"Plot\"}},\"id\":\"4d88bb88-58ce-43b8-ad04-dd6a92d356d6\",\"type\":\"WheelZoomTool\"},{\"attributes\":{\"callback\":null},\"id\":\"92cecd4b-10a2-49a2-a37d-e2c7b5a02078\",\"type\":\"DataRange1d\"},{\"attributes\":{\"fill_alpha\":{\"value\":0.1},\"fill_color\":{\"value\":\"#1f77b4\"},\"line_alpha\":{\"value\":0.1},\"line_color\":{\"value\":\"#1f77b4\"},\"size\":{\"field\":\"size\",\"units\":\"screen\"},\"x\":{\"field\":\"x\"},\"y\":{\"field\":\"y\"}},\"id\":\"da3008a7-203a-480f-a151-a681faca33d9\",\"type\":\"Square\"},{\"attributes\":{\"plot\":{\"id\":\"4683ed72-de92-4529-890f-6b41e65d0a39\",\"subtype\":\"Figure\",\"type\":\"Plot\"}},\"id\":\"81360e3d-55b6-4455-8532-92d7ad04f94b\",\"type\":\"ResizeTool\"},{\"attributes\":{},\"id\":\"5f1c2ad9-8ee2-41ca-98d1-8ccee6967dcb\",\"type\":\"BasicTickFormatter\"},{\"attributes\":{\"overlay\":{\"id\":\"4617a28b-3ac9-4f43-bc1c-a52369339c58\",\"type\":\"BoxAnnotation\"},\"plot\":{\"id\":\"4683ed72-de92-4529-890f-6b41e65d0a39\",\"subtype\":\"Figure\",\"type\":\"Plot\"}},\"id\":\"5ed58fc5-5385-412c-90a7-3869be3f1f65\",\"type\":\"BoxZoomTool\"},{\"attributes\":{},\"id\":\"66c88396-390d-40ff-b26b-cbcea5ce25ad\",\"type\":\"BasicTickFormatter\"},{\"attributes\":{\"overlay\":{\"id\":\"31efc230-1cf5-46b0-89a2-fd103049b5dd\",\"type\":\"BoxAnnotation\"},\"plot\":{\"id\":\"d1e9a4f8-02eb-4ba4-969b-4aadc7c02a8a\",\"subtype\":\"Figure\",\"type\":\"Plot\"}},\"id\":\"e3b3d5b9-25b1-496f-82c8-452275db87e9\",\"type\":\"BoxZoomTool\"},{\"attributes\":{\"callback\":null},\"id\":\"0b702811-362c-47dd-86e7-14966f9421f6\",\"type\":\"DataRange1d\"},{\"attributes\":{\"plot\":{\"id\":\"4683ed72-de92-4529-890f-6b41e65d0a39\",\"subtype\":\"Figure\",\"type\":\"Plot\"}},\"id\":\"170d859c-dfa2-40ea-b05a-c3055e87f524\",\"type\":\"ResetTool\"},{\"attributes\":{},\"id\":\"63ad6d9a-4e47-46db-bf26-17aa9925b401\",\"type\":\"ToolEvents\"},{\"attributes\":{},\"id\":\"a19ee180-7585-4df7-a96b-8dfb14c77a24\",\"type\":\"BasicTicker\"},{\"attributes\":{\"formatter\":{\"id\":\"7a89a4b3-b9ed-4a74-be69-c1b33c72c5c4\",\"type\":\"BasicTickFormatter\"},\"plot\":{\"id\":\"4683ed72-de92-4529-890f-6b41e65d0a39\",\"subtype\":\"Figure\",\"type\":\"Plot\"},\"ticker\":{\"id\":\"f5ed0c38-5ef4-481f-b399-8d4b155892d6\",\"type\":\"BasicTicker\"}},\"id\":\"a108a2bf-2f29-4410-a054-1dad3504852e\",\"type\":\"LinearAxis\"},{\"attributes\":{},\"id\":\"0eada2fc-6772-4b65-b85d-e3658d6a8d6f\",\"type\":\"ToolEvents\"},{\"attributes\":{\"plot\":{\"id\":\"4683ed72-de92-4529-890f-6b41e65d0a39\",\"subtype\":\"Figure\",\"type\":\"Plot\"},\"ticker\":{\"id\":\"f5ed0c38-5ef4-481f-b399-8d4b155892d6\",\"type\":\"BasicTicker\"}},\"id\":\"1c529146-0866-43c7-a813-05a532299d5e\",\"type\":\"Grid\"},{\"attributes\":{\"bottom_units\":\"screen\",\"fill_alpha\":{\"value\":0.5},\"fill_color\":{\"value\":\"lightgrey\"},\"left_units\":\"screen\",\"level\":\"overlay\",\"line_alpha\":{\"value\":1.0},\"line_color\":{\"value\":\"black\"},\"line_dash\":[4,4],\"line_width\":{\"value\":2},\"plot\":null,\"render_mode\":\"css\",\"right_units\":\"screen\",\"top_units\":\"screen\"},\"id\":\"31efc230-1cf5-46b0-89a2-fd103049b5dd\",\"type\":\"BoxAnnotation\"},{\"attributes\":{},\"id\":\"f5ed0c38-5ef4-481f-b399-8d4b155892d6\",\"type\":\"BasicTicker\"}],\"root_ids\":[\"d1e9a4f8-02eb-4ba4-969b-4aadc7c02a8a\",\"4683ed72-de92-4529-890f-6b41e65d0a39\"]},\"title\":\"Bokeh Application\",\"version\":\"0.11.1\"}};\n",
       "            var render_items = [{\"docid\":\"2fd778fe-8344-44e8-97c9-12cae11b233d\",\"elementid\":\"25339515-4671-4ed2-8bc0-3af05cfb6fc6\",\"modelid\":\"4683ed72-de92-4529-890f-6b41e65d0a39\",\"notebook_comms_target\":\"5ec307ff-4b2c-4896-aaec-19c9722c207b\"}];\n",
       "            \n",
       "            Bokeh.embed.embed_items(docs_json, render_items);\n",
       "        });\n",
       "      },\n",
       "      function(Bokeh) {\n",
       "      }\n",
       "    ];\n",
       "  \n",
       "    function run_inline_js() {\n",
       "      for (var i = 0; i < inline_js.length; i++) {\n",
       "        inline_js[i](window.Bokeh);\n",
       "      }\n",
       "    }\n",
       "  \n",
       "    if (window._bokeh_is_loading === 0) {\n",
       "      console.log(\"Bokeh: BokehJS loaded, going straight to plotting\");\n",
       "      run_inline_js();\n",
       "    } else {\n",
       "      load_libs(js_urls, function() {\n",
       "        console.log(\"Bokeh: BokehJS plotting callback run at\", now());\n",
       "        run_inline_js();\n",
       "      });\n",
       "    }\n",
       "  }(this));\n",
       "</script>"
      ]
     },
     "metadata": {},
     "output_type": "display_data"
    },
    {
     "data": {
      "text/html": [
       "<p><code>&lt;Bokeh Notebook handle for <strong>In[5]</strong>&gt;</code></p>"
      ],
      "text/plain": [
       "<bokeh.io._CommsHandle at 0x10cfd5710>"
      ]
     },
     "execution_count": 5,
     "metadata": {},
     "output_type": "execute_result"
    }
   ],
   "source": [
    "# create a new plot using figure\n",
    "p = figure(plot_width=400, plot_height=400)\n",
    "\n",
    "# add a square renderer with a size, color, alpha, and sizes\n",
    "p.square([1, 2, 3, 4, 5], [6, 7, 2, 4, 5], size=[10, 15, 20, 25, 30], color=\"firebrick\", alpha=0.6)\n",
    "\n",
    "show(p) # show the results"
   ]
  },
  {
   "cell_type": "markdown",
   "metadata": {},
   "source": [
    "Note that in the example above, we are also specifying different sizes for each individual marker. ***In general, all of a glyph's properties can be \"vectorized\" in this fashion. ***  Also note that we have passed ``color`` as a shorthand to set both the line and fill colors easily at the same time. This is a convenience specific to ``bokeh.plotting``.\n",
    "\n",
    "</table><p>There are many marker types available in Bokeh, you can see details and\n",
    "example plots for all of them in the reference guide by clicking on entries in the list below:</p>\n",
    "<table class=\"hlist\" style=\"float:left\"><tr><td><ul>\n",
    "<li><a href=\"http://bokeh.pydata.org/en/latest/docs/reference/plotting.html#bokeh.plotting.Figure.asterisk\" title=\"bokeh.plotting.Figure.asterisk\"><code class=\"xref py py-func docutils literal\"><span class=\"pre\">asterisk()</span></code></a></li>\n",
    "<li><a href=\"http://bokeh.pydata.org/en/latest/docs/reference/plotting.html#bokeh.plotting.Figure.circle\" title=\"bokeh.plotting.Figure.circle\"><code class=\"xref py py-func docutils literal\"><span class=\"pre\">circle()</span></code></a></li>\n",
    "<li><a href=\"http://bokeh.pydata.org/en/latest/docs/reference/plotting.html#bokeh.plotting.Figure.circle_cross\" title=\"bokeh.plotting.Figure.circle_cross\"><code class=\"xref py py-func docutils literal\"><span class=\"pre\">circle_cross()</span></code></a></li>\n",
    "<li><a href=\"http://bokeh.pydata.org/en/latest/docs/reference/plotting.html#bokeh.plotting.Figure.circle_x\" title=\"bokeh.plotting.Figure.circle_x\"><code class=\"xref py py-func docutils literal\"><span class=\"pre\">circle_x()</span></code></a></li>\n",
    "<li><a href=\"http://bokeh.pydata.org/en/latest/docs/reference/plotting.html#bokeh.plotting.Figure.cross\" title=\"bokeh.plotting.Figure.cross\"><code class=\"xref py py-func docutils literal\"><span class=\"pre\">cross()</span></code></a></li>\n",
    "</ul>\n",
    "</td><td><ul>\n",
    "<li><a href=\"http://bokeh.pydata.org/en/latest/docs/reference/plotting.html#bokeh.plotting.Figure.diamond\" title=\"bokeh.plotting.Figure.diamond\"><code class=\"xref py py-func docutils literal\"><span class=\"pre\">diamond()</span></code></a></li>\n",
    "<li><a href=\"http://bokeh.pydata.org/en/latest/docs/reference/plotting.html#bokeh.plotting.Figure.diamond_cross\" title=\"bokeh.plotting.Figure.diamond_cross\"><code class=\"xref py py-func docutils literal\"><span class=\"pre\">diamond_cross()</span></code></a></li>\n",
    "<li><a href=\"http://bokeh.pydata.org/en/latest/docs/reference/plotting.html#bokeh.plotting.Figure.inverted_triangle\" title=\"bokeh.plotting.Figure.inverted_triangle\"><code class=\"xref py py-func docutils literal\"><span class=\"pre\">inverted_triangle()</span></code></a></li>\n",
    "<li><a href=\"http://bokeh.pydata.org/en/latest/docs/reference/plotting.html#bokeh.plotting.Figure.square\" title=\"bokeh.plotting.Figure.square\"><code class=\"xref py py-func docutils literal\"><span class=\"pre\">square()</span></code></a></li>\n",
    "</ul>\n",
    "</td><td><ul>\n",
    "<li><a href=\"http://bokeh.pydata.org/en/latest/docs/reference/plotting.html#bokeh.plotting.Figure.square_cross\" title=\"bokeh.plotting.Figure.square_cross\"><code class=\"xref py py-func docutils literal\"><span class=\"pre\">square_cross()</span></code></a></li>\n",
    "<li><a href=\"http://bokeh.pydata.org/en/latest/docs/reference/plotting.html#bokeh.plotting.Figure.square_x\" title=\"bokeh.plotting.Figure.square_x\"><code class=\"xref py py-func docutils literal\"><span class=\"pre\">square_x()</span></code></a></li>\n",
    "<li><a href=\"http://bokeh.pydata.org/en/latest/docs/reference/plotting.html#bokeh.plotting.Figure.triangle\" title=\"bokeh.plotting.Figure.triangle\"><code class=\"xref py py-func docutils literal\"><span class=\"pre\">triangle()</span></code></a></li>\n",
    "<li><a href=\"http://bokeh.pydata.org/en/latest/docs/reference/plotting.html#bokeh.plotting.Figure.x\" title=\"bokeh.plotting.Figure.x\"><code class=\"xref py py-func docutils literal\"><span class=\"pre\">x()</span></code></a></li>\n",
    "</ul>\n",
    "</td></tr></table>"
   ]
  },
  {
   "cell_type": "code",
   "execution_count": 6,
   "metadata": {
    "collapsed": true
   },
   "outputs": [],
   "source": [
    "# EXERCISE: Plot some different markers in this cell\n",
    "\n"
   ]
  },
  {
   "cell_type": "markdown",
   "metadata": {},
   "source": [
    "# Basic Line Plots"
   ]
  },
  {
   "cell_type": "code",
   "execution_count": 7,
   "metadata": {
    "collapsed": false
   },
   "outputs": [
    {
     "data": {
      "text/html": [
       "\n",
       "\n",
       "    <div class=\"plotdiv\" id=\"a628483d-2b3a-495f-82bb-43af7c3a11af\"></div>\n",
       "<script type=\"text/javascript\">\n",
       "  \n",
       "  (function(global) {\n",
       "    function now() {\n",
       "      return new Date();\n",
       "    }\n",
       "  \n",
       "    if (typeof (window._bokeh_onload_callbacks) === \"undefined\") {\n",
       "      window._bokeh_onload_callbacks = [];\n",
       "    }\n",
       "  \n",
       "    function run_callbacks() {\n",
       "      window._bokeh_onload_callbacks.forEach(function(callback) { callback() });\n",
       "      delete window._bokeh_onload_callbacks\n",
       "      console.info(\"Bokeh: all callbacks have finished\");\n",
       "    }\n",
       "  \n",
       "    function load_libs(js_urls, callback) {\n",
       "      window._bokeh_onload_callbacks.push(callback);\n",
       "      if (window._bokeh_is_loading > 0) {\n",
       "        console.log(\"Bokeh: BokehJS is being loaded, scheduling callback at\", now());\n",
       "        return null;\n",
       "      }\n",
       "      if (js_urls == null || js_urls.length === 0) {\n",
       "        run_callbacks();\n",
       "        return null;\n",
       "      }\n",
       "      console.log(\"Bokeh: BokehJS not loaded, scheduling load and callback at\", now());\n",
       "      window._bokeh_is_loading = js_urls.length;\n",
       "      for (var i = 0; i < js_urls.length; i++) {\n",
       "        var url = js_urls[i];\n",
       "        var s = document.createElement('script');\n",
       "        s.src = url;\n",
       "        s.async = false;\n",
       "        s.onreadystatechange = s.onload = function() {\n",
       "          window._bokeh_is_loading--;\n",
       "          if (window._bokeh_is_loading === 0) {\n",
       "            console.log(\"Bokeh: all BokehJS libraries loaded\");\n",
       "            run_callbacks()\n",
       "          }\n",
       "        };\n",
       "        s.onerror = function() {\n",
       "          console.warn(\"failed to load library \" + url);\n",
       "        };\n",
       "        console.log(\"Bokeh: injecting script tag for BokehJS library: \", url);\n",
       "        document.getElementsByTagName(\"head\")[0].appendChild(s);\n",
       "      }\n",
       "    };var element = document.getElementById(\"a628483d-2b3a-495f-82bb-43af7c3a11af\");\n",
       "    if (element == null) {\n",
       "      console.log(\"Bokeh: ERROR: autoload.js configured with elementid 'a628483d-2b3a-495f-82bb-43af7c3a11af' but no matching script tag was found. \")\n",
       "      return false;\n",
       "    }\n",
       "  \n",
       "    var js_urls = [];\n",
       "  \n",
       "    var inline_js = [\n",
       "      function(Bokeh) {\n",
       "        Bokeh.$(function() {\n",
       "            var docs_json = {\"737ff022-bcff-4fa6-aca9-88e73cf5cd6e\":{\"roots\":{\"references\":[{\"attributes\":{\"below\":[{\"id\":\"bd6366b9-741f-48cc-a8d1-71026339de62\",\"type\":\"LinearAxis\"}],\"left\":[{\"id\":\"20dc5fb7-213e-4b88-b86d-08159699c300\",\"type\":\"LinearAxis\"}],\"plot_height\":400,\"plot_width\":400,\"renderers\":[{\"id\":\"bd6366b9-741f-48cc-a8d1-71026339de62\",\"type\":\"LinearAxis\"},{\"id\":\"d1bef982-c76c-4cd4-85a6-ab1f968f96ce\",\"type\":\"Grid\"},{\"id\":\"20dc5fb7-213e-4b88-b86d-08159699c300\",\"type\":\"LinearAxis\"},{\"id\":\"e6591238-c798-488a-9fdb-67fe5270c249\",\"type\":\"Grid\"},{\"id\":\"b88c41cf-156f-4b81-bcc7-6d4a6cc35417\",\"type\":\"BoxAnnotation\"},{\"id\":\"daa63100-d82e-4b64-b148-b530b2568c4d\",\"type\":\"GlyphRenderer\"}],\"title\":\"My Line Plot\",\"tool_events\":{\"id\":\"77c813af-e713-44e4-8f8d-49580b7686d8\",\"type\":\"ToolEvents\"},\"tools\":[{\"id\":\"6b5fef9a-72d4-47e2-8520-85c4365153d2\",\"type\":\"PanTool\"},{\"id\":\"2dd45272-6172-4a78-ae68-6fbaf024856f\",\"type\":\"WheelZoomTool\"},{\"id\":\"45114ed1-8349-4819-be29-ac278ef9bdfc\",\"type\":\"BoxZoomTool\"},{\"id\":\"66053637-f100-4ba5-bacb-8eaed1f70c7a\",\"type\":\"PreviewSaveTool\"},{\"id\":\"cce4a937-0c8f-45bc-9a6d-04e041c6f4d2\",\"type\":\"ResizeTool\"},{\"id\":\"f84cffed-e6fc-41d0-bea5-5115ea468e72\",\"type\":\"ResetTool\"},{\"id\":\"a1c3e30b-4582-4030-8c0d-a4cafce48a7e\",\"type\":\"HelpTool\"}],\"x_range\":{\"id\":\"7cee0245-d7d0-43b3-ab83-202b1fb29057\",\"type\":\"DataRange1d\"},\"y_range\":{\"id\":\"d5fefaad-e3d6-4c23-8236-647c8d1a6821\",\"type\":\"DataRange1d\"}},\"id\":\"7395e6c1-7a42-41b8-b6e4-5b4a329ef94a\",\"subtype\":\"Figure\",\"type\":\"Plot\"},{\"attributes\":{\"dimension\":1,\"plot\":{\"id\":\"4683ed72-de92-4529-890f-6b41e65d0a39\",\"subtype\":\"Figure\",\"type\":\"Plot\"},\"ticker\":{\"id\":\"bbcf32c9-d903-4342-ad16-d39ae00d24bd\",\"type\":\"BasicTicker\"}},\"id\":\"d282c17c-459c-4b58-8832-24902bd26cfb\",\"type\":\"Grid\"},{\"attributes\":{\"bottom_units\":\"screen\",\"fill_alpha\":{\"value\":0.5},\"fill_color\":{\"value\":\"lightgrey\"},\"left_units\":\"screen\",\"level\":\"overlay\",\"line_alpha\":{\"value\":1.0},\"line_color\":{\"value\":\"black\"},\"line_dash\":[4,4],\"line_width\":{\"value\":2},\"plot\":null,\"render_mode\":\"css\",\"right_units\":\"screen\",\"top_units\":\"screen\"},\"id\":\"b88c41cf-156f-4b81-bcc7-6d4a6cc35417\",\"type\":\"BoxAnnotation\"},{\"attributes\":{\"below\":[{\"id\":\"a108a2bf-2f29-4410-a054-1dad3504852e\",\"type\":\"LinearAxis\"}],\"left\":[{\"id\":\"48562ddc-29f8-4acb-af1f-ed35d2954dfa\",\"type\":\"LinearAxis\"}],\"plot_height\":400,\"plot_width\":400,\"renderers\":[{\"id\":\"a108a2bf-2f29-4410-a054-1dad3504852e\",\"type\":\"LinearAxis\"},{\"id\":\"1c529146-0866-43c7-a813-05a532299d5e\",\"type\":\"Grid\"},{\"id\":\"48562ddc-29f8-4acb-af1f-ed35d2954dfa\",\"type\":\"LinearAxis\"},{\"id\":\"d282c17c-459c-4b58-8832-24902bd26cfb\",\"type\":\"Grid\"},{\"id\":\"4617a28b-3ac9-4f43-bc1c-a52369339c58\",\"type\":\"BoxAnnotation\"},{\"id\":\"e3275840-bc4d-4515-9048-f2d6397ad50b\",\"type\":\"GlyphRenderer\"}],\"tool_events\":{\"id\":\"63ad6d9a-4e47-46db-bf26-17aa9925b401\",\"type\":\"ToolEvents\"},\"tools\":[{\"id\":\"f9118000-eff3-4a15-a27d-cc50d1cc6824\",\"type\":\"PanTool\"},{\"id\":\"ebfa8396-8b77-4038-bc5b-4977b07dc528\",\"type\":\"WheelZoomTool\"},{\"id\":\"5ed58fc5-5385-412c-90a7-3869be3f1f65\",\"type\":\"BoxZoomTool\"},{\"id\":\"f192a9f5-9a53-4025-be80-f04ab7adb1ac\",\"type\":\"PreviewSaveTool\"},{\"id\":\"81360e3d-55b6-4455-8532-92d7ad04f94b\",\"type\":\"ResizeTool\"},{\"id\":\"170d859c-dfa2-40ea-b05a-c3055e87f524\",\"type\":\"ResetTool\"},{\"id\":\"88cefeec-799e-4937-9710-6e4c6fdd8b06\",\"type\":\"HelpTool\"}],\"x_range\":{\"id\":\"ea80e758-436a-4c81-a181-b6c6a583bd29\",\"type\":\"DataRange1d\"},\"y_range\":{\"id\":\"0b702811-362c-47dd-86e7-14966f9421f6\",\"type\":\"DataRange1d\"}},\"id\":\"4683ed72-de92-4529-890f-6b41e65d0a39\",\"subtype\":\"Figure\",\"type\":\"Plot\"},{\"attributes\":{\"data_source\":{\"id\":\"2681bbf1-f024-4a2b-847e-ceb0260ee2ab\",\"type\":\"ColumnDataSource\"},\"glyph\":{\"id\":\"66af364c-b0ea-4f2e-9736-4faf6b619f80\",\"type\":\"Square\"},\"hover_glyph\":null,\"nonselection_glyph\":{\"id\":\"da3008a7-203a-480f-a151-a681faca33d9\",\"type\":\"Square\"},\"selection_glyph\":null},\"id\":\"e3275840-bc4d-4515-9048-f2d6397ad50b\",\"type\":\"GlyphRenderer\"},{\"attributes\":{\"plot\":{\"id\":\"d1e9a4f8-02eb-4ba4-969b-4aadc7c02a8a\",\"subtype\":\"Figure\",\"type\":\"Plot\"}},\"id\":\"abcf5b45-e912-402b-be94-538e9157afec\",\"type\":\"ResizeTool\"},{\"attributes\":{},\"id\":\"bbcf32c9-d903-4342-ad16-d39ae00d24bd\",\"type\":\"BasicTicker\"},{\"attributes\":{\"plot\":{\"id\":\"4683ed72-de92-4529-890f-6b41e65d0a39\",\"subtype\":\"Figure\",\"type\":\"Plot\"}},\"id\":\"f192a9f5-9a53-4025-be80-f04ab7adb1ac\",\"type\":\"PreviewSaveTool\"},{\"attributes\":{\"plot\":{\"id\":\"d1e9a4f8-02eb-4ba4-969b-4aadc7c02a8a\",\"subtype\":\"Figure\",\"type\":\"Plot\"}},\"id\":\"f3f12abf-b96b-498b-951d-1616ce2ae633\",\"type\":\"PreviewSaveTool\"},{\"attributes\":{},\"id\":\"44685515-c9b8-4429-a726-7aecfdb46d9e\",\"type\":\"BasicTicker\"},{\"attributes\":{\"callback\":null,\"column_names\":[\"y\",\"x\"],\"data\":{\"x\":[1,2,3,4,5],\"y\":[6,7,2,4,5]}},\"id\":\"9b72ef34-3f0a-44d5-8d70-e7edfa0ac6f6\",\"type\":\"ColumnDataSource\"},{\"attributes\":{},\"id\":\"de4a030a-c2c8-4dbf-b760-d682095c6533\",\"type\":\"BasicTickFormatter\"},{\"attributes\":{\"line_color\":{\"value\":\"#1f77b4\"},\"line_width\":{\"value\":2},\"x\":{\"field\":\"x\"},\"y\":{\"field\":\"y\"}},\"id\":\"b3739b16-5e67-4efc-8a08-e12bd669bfb1\",\"type\":\"Line\"},{\"attributes\":{},\"id\":\"7a89a4b3-b9ed-4a74-be69-c1b33c72c5c4\",\"type\":\"BasicTickFormatter\"},{\"attributes\":{\"callback\":null},\"id\":\"1db6e218-ae52-40cf-8128-747fb851e2aa\",\"type\":\"DataRange1d\"},{\"attributes\":{\"formatter\":{\"id\":\"de4a030a-c2c8-4dbf-b760-d682095c6533\",\"type\":\"BasicTickFormatter\"},\"plot\":{\"id\":\"7395e6c1-7a42-41b8-b6e4-5b4a329ef94a\",\"subtype\":\"Figure\",\"type\":\"Plot\"},\"ticker\":{\"id\":\"b7e25b94-6f81-4a1b-909b-2d3d436b4f2c\",\"type\":\"BasicTicker\"}},\"id\":\"20dc5fb7-213e-4b88-b86d-08159699c300\",\"type\":\"LinearAxis\"},{\"attributes\":{\"formatter\":{\"id\":\"66c88396-390d-40ff-b26b-cbcea5ce25ad\",\"type\":\"BasicTickFormatter\"},\"plot\":{\"id\":\"4683ed72-de92-4529-890f-6b41e65d0a39\",\"subtype\":\"Figure\",\"type\":\"Plot\"},\"ticker\":{\"id\":\"bbcf32c9-d903-4342-ad16-d39ae00d24bd\",\"type\":\"BasicTicker\"}},\"id\":\"48562ddc-29f8-4acb-af1f-ed35d2954dfa\",\"type\":\"LinearAxis\"},{\"attributes\":{\"plot\":{\"id\":\"4683ed72-de92-4529-890f-6b41e65d0a39\",\"subtype\":\"Figure\",\"type\":\"Plot\"}},\"id\":\"88cefeec-799e-4937-9710-6e4c6fdd8b06\",\"type\":\"HelpTool\"},{\"attributes\":{\"fill_alpha\":{\"value\":0.1},\"fill_color\":{\"value\":\"#1f77b4\"},\"line_alpha\":{\"value\":0.1},\"line_color\":{\"value\":\"#1f77b4\"},\"size\":{\"units\":\"screen\",\"value\":15},\"x\":{\"field\":\"x\"},\"y\":{\"field\":\"y\"}},\"id\":\"b4ad2e92-b478-48ad-b4b9-f2d023676f78\",\"type\":\"Circle\"},{\"attributes\":{\"line_alpha\":{\"value\":0.1},\"line_color\":{\"value\":\"#1f77b4\"},\"line_width\":{\"value\":2},\"x\":{\"field\":\"x\"},\"y\":{\"field\":\"y\"}},\"id\":\"88e2e5fe-9c0b-465d-9c9d-cc99cacdb7f4\",\"type\":\"Line\"},{\"attributes\":{\"callback\":null},\"id\":\"ea80e758-436a-4c81-a181-b6c6a583bd29\",\"type\":\"DataRange1d\"},{\"attributes\":{\"plot\":{\"id\":\"7395e6c1-7a42-41b8-b6e4-5b4a329ef94a\",\"subtype\":\"Figure\",\"type\":\"Plot\"}},\"id\":\"a1c3e30b-4582-4030-8c0d-a4cafce48a7e\",\"type\":\"HelpTool\"},{\"attributes\":{\"plot\":{\"id\":\"4683ed72-de92-4529-890f-6b41e65d0a39\",\"subtype\":\"Figure\",\"type\":\"Plot\"}},\"id\":\"f9118000-eff3-4a15-a27d-cc50d1cc6824\",\"type\":\"PanTool\"},{\"attributes\":{\"plot\":{\"id\":\"d1e9a4f8-02eb-4ba4-969b-4aadc7c02a8a\",\"subtype\":\"Figure\",\"type\":\"Plot\"},\"ticker\":{\"id\":\"a19ee180-7585-4df7-a96b-8dfb14c77a24\",\"type\":\"BasicTicker\"}},\"id\":\"da55123e-cc3b-4f6d-880d-edcfde58cea3\",\"type\":\"Grid\"},{\"attributes\":{\"plot\":{\"id\":\"7395e6c1-7a42-41b8-b6e4-5b4a329ef94a\",\"subtype\":\"Figure\",\"type\":\"Plot\"},\"ticker\":{\"id\":\"fc1441ca-adba-464d-881e-1d7f82b14c98\",\"type\":\"BasicTicker\"}},\"id\":\"d1bef982-c76c-4cd4-85a6-ab1f968f96ce\",\"type\":\"Grid\"},{\"attributes\":{\"data_source\":{\"id\":\"9b72ef34-3f0a-44d5-8d70-e7edfa0ac6f6\",\"type\":\"ColumnDataSource\"},\"glyph\":{\"id\":\"1d7304d8-c442-490d-b107-7359f5f32016\",\"type\":\"Circle\"},\"hover_glyph\":null,\"nonselection_glyph\":{\"id\":\"b4ad2e92-b478-48ad-b4b9-f2d023676f78\",\"type\":\"Circle\"},\"selection_glyph\":null},\"id\":\"c64176da-336e-4614-9a3a-7e0f4e30e688\",\"type\":\"GlyphRenderer\"},{\"attributes\":{\"formatter\":{\"id\":\"a1e0a318-db4d-441b-9a2c-f4d524f4ed52\",\"type\":\"BasicTickFormatter\"},\"plot\":{\"id\":\"7395e6c1-7a42-41b8-b6e4-5b4a329ef94a\",\"subtype\":\"Figure\",\"type\":\"Plot\"},\"ticker\":{\"id\":\"fc1441ca-adba-464d-881e-1d7f82b14c98\",\"type\":\"BasicTicker\"}},\"id\":\"bd6366b9-741f-48cc-a8d1-71026339de62\",\"type\":\"LinearAxis\"},{\"attributes\":{\"formatter\":{\"id\":\"5f1c2ad9-8ee2-41ca-98d1-8ccee6967dcb\",\"type\":\"BasicTickFormatter\"},\"plot\":{\"id\":\"d1e9a4f8-02eb-4ba4-969b-4aadc7c02a8a\",\"subtype\":\"Figure\",\"type\":\"Plot\"},\"ticker\":{\"id\":\"44685515-c9b8-4429-a726-7aecfdb46d9e\",\"type\":\"BasicTicker\"}},\"id\":\"6a353706-c8f2-424d-ab37-a9a62f768b99\",\"type\":\"LinearAxis\"},{\"attributes\":{\"plot\":{\"id\":\"d1e9a4f8-02eb-4ba4-969b-4aadc7c02a8a\",\"subtype\":\"Figure\",\"type\":\"Plot\"}},\"id\":\"b06c2515-a34e-48c2-88a0-628a04a4e627\",\"type\":\"HelpTool\"},{\"attributes\":{\"plot\":{\"id\":\"4683ed72-de92-4529-890f-6b41e65d0a39\",\"subtype\":\"Figure\",\"type\":\"Plot\"}},\"id\":\"ebfa8396-8b77-4038-bc5b-4977b07dc528\",\"type\":\"WheelZoomTool\"},{\"attributes\":{\"callback\":null,\"column_names\":[\"y\",\"x\",\"size\"],\"data\":{\"size\":[10,15,20,25,30],\"x\":[1,2,3,4,5],\"y\":[6,7,2,4,5]}},\"id\":\"2681bbf1-f024-4a2b-847e-ceb0260ee2ab\",\"type\":\"ColumnDataSource\"},{\"attributes\":{},\"id\":\"09d1b6a0-305c-4202-a190-ea302b12f41e\",\"type\":\"BasicTickFormatter\"},{\"attributes\":{\"formatter\":{\"id\":\"09d1b6a0-305c-4202-a190-ea302b12f41e\",\"type\":\"BasicTickFormatter\"},\"plot\":{\"id\":\"d1e9a4f8-02eb-4ba4-969b-4aadc7c02a8a\",\"subtype\":\"Figure\",\"type\":\"Plot\"},\"ticker\":{\"id\":\"a19ee180-7585-4df7-a96b-8dfb14c77a24\",\"type\":\"BasicTicker\"}},\"id\":\"9a3e5262-5efa-4676-aa65-94a7f98276d8\",\"type\":\"LinearAxis\"},{\"attributes\":{\"dimension\":1,\"plot\":{\"id\":\"d1e9a4f8-02eb-4ba4-969b-4aadc7c02a8a\",\"subtype\":\"Figure\",\"type\":\"Plot\"},\"ticker\":{\"id\":\"44685515-c9b8-4429-a726-7aecfdb46d9e\",\"type\":\"BasicTicker\"}},\"id\":\"2544b297-de76-4dff-8aaf-bf73969f7453\",\"type\":\"Grid\"},{\"attributes\":{\"plot\":{\"id\":\"d1e9a4f8-02eb-4ba4-969b-4aadc7c02a8a\",\"subtype\":\"Figure\",\"type\":\"Plot\"}},\"id\":\"b2c94bd0-eb4a-47d6-ac36-3e9dedaff8f3\",\"type\":\"ResetTool\"},{\"attributes\":{},\"id\":\"b7e25b94-6f81-4a1b-909b-2d3d436b4f2c\",\"type\":\"BasicTicker\"},{\"attributes\":{\"below\":[{\"id\":\"9a3e5262-5efa-4676-aa65-94a7f98276d8\",\"type\":\"LinearAxis\"}],\"left\":[{\"id\":\"6a353706-c8f2-424d-ab37-a9a62f768b99\",\"type\":\"LinearAxis\"}],\"plot_height\":400,\"plot_width\":400,\"renderers\":[{\"id\":\"9a3e5262-5efa-4676-aa65-94a7f98276d8\",\"type\":\"LinearAxis\"},{\"id\":\"da55123e-cc3b-4f6d-880d-edcfde58cea3\",\"type\":\"Grid\"},{\"id\":\"6a353706-c8f2-424d-ab37-a9a62f768b99\",\"type\":\"LinearAxis\"},{\"id\":\"2544b297-de76-4dff-8aaf-bf73969f7453\",\"type\":\"Grid\"},{\"id\":\"31efc230-1cf5-46b0-89a2-fd103049b5dd\",\"type\":\"BoxAnnotation\"},{\"id\":\"c64176da-336e-4614-9a3a-7e0f4e30e688\",\"type\":\"GlyphRenderer\"}],\"tool_events\":{\"id\":\"0eada2fc-6772-4b65-b85d-e3658d6a8d6f\",\"type\":\"ToolEvents\"},\"tools\":[{\"id\":\"d0b44c9d-075b-4bb1-83d8-c365c87839f0\",\"type\":\"PanTool\"},{\"id\":\"4d88bb88-58ce-43b8-ad04-dd6a92d356d6\",\"type\":\"WheelZoomTool\"},{\"id\":\"e3b3d5b9-25b1-496f-82c8-452275db87e9\",\"type\":\"BoxZoomTool\"},{\"id\":\"f3f12abf-b96b-498b-951d-1616ce2ae633\",\"type\":\"PreviewSaveTool\"},{\"id\":\"abcf5b45-e912-402b-be94-538e9157afec\",\"type\":\"ResizeTool\"},{\"id\":\"b2c94bd0-eb4a-47d6-ac36-3e9dedaff8f3\",\"type\":\"ResetTool\"},{\"id\":\"b06c2515-a34e-48c2-88a0-628a04a4e627\",\"type\":\"HelpTool\"}],\"x_range\":{\"id\":\"92cecd4b-10a2-49a2-a37d-e2c7b5a02078\",\"type\":\"DataRange1d\"},\"y_range\":{\"id\":\"1db6e218-ae52-40cf-8128-747fb851e2aa\",\"type\":\"DataRange1d\"}},\"id\":\"d1e9a4f8-02eb-4ba4-969b-4aadc7c02a8a\",\"subtype\":\"Figure\",\"type\":\"Plot\"},{\"attributes\":{\"callback\":null,\"column_names\":[\"y\",\"x\"],\"data\":{\"x\":[1,2,3,4,5],\"y\":[6,7,2,4,5]}},\"id\":\"62ea0c3f-a95a-4d5e-9906-4904fb9fc805\",\"type\":\"ColumnDataSource\"},{\"attributes\":{\"bottom_units\":\"screen\",\"fill_alpha\":{\"value\":0.5},\"fill_color\":{\"value\":\"lightgrey\"},\"left_units\":\"screen\",\"level\":\"overlay\",\"line_alpha\":{\"value\":1.0},\"line_color\":{\"value\":\"black\"},\"line_dash\":[4,4],\"line_width\":{\"value\":2},\"plot\":null,\"render_mode\":\"css\",\"right_units\":\"screen\",\"top_units\":\"screen\"},\"id\":\"4617a28b-3ac9-4f43-bc1c-a52369339c58\",\"type\":\"BoxAnnotation\"},{\"attributes\":{\"overlay\":{\"id\":\"b88c41cf-156f-4b81-bcc7-6d4a6cc35417\",\"type\":\"BoxAnnotation\"},\"plot\":{\"id\":\"7395e6c1-7a42-41b8-b6e4-5b4a329ef94a\",\"subtype\":\"Figure\",\"type\":\"Plot\"}},\"id\":\"45114ed1-8349-4819-be29-ac278ef9bdfc\",\"type\":\"BoxZoomTool\"},{\"attributes\":{\"fill_alpha\":{\"value\":0.5},\"fill_color\":{\"value\":\"orange\"},\"line_color\":{\"value\":\"navy\"},\"size\":{\"units\":\"screen\",\"value\":15},\"x\":{\"field\":\"x\"},\"y\":{\"field\":\"y\"}},\"id\":\"1d7304d8-c442-490d-b107-7359f5f32016\",\"type\":\"Circle\"},{\"attributes\":{\"plot\":{\"id\":\"d1e9a4f8-02eb-4ba4-969b-4aadc7c02a8a\",\"subtype\":\"Figure\",\"type\":\"Plot\"}},\"id\":\"d0b44c9d-075b-4bb1-83d8-c365c87839f0\",\"type\":\"PanTool\"},{\"attributes\":{\"data_source\":{\"id\":\"62ea0c3f-a95a-4d5e-9906-4904fb9fc805\",\"type\":\"ColumnDataSource\"},\"glyph\":{\"id\":\"b3739b16-5e67-4efc-8a08-e12bd669bfb1\",\"type\":\"Line\"},\"hover_glyph\":null,\"nonselection_glyph\":{\"id\":\"88e2e5fe-9c0b-465d-9c9d-cc99cacdb7f4\",\"type\":\"Line\"},\"selection_glyph\":null},\"id\":\"daa63100-d82e-4b64-b148-b530b2568c4d\",\"type\":\"GlyphRenderer\"},{\"attributes\":{\"plot\":{\"id\":\"7395e6c1-7a42-41b8-b6e4-5b4a329ef94a\",\"subtype\":\"Figure\",\"type\":\"Plot\"}},\"id\":\"66053637-f100-4ba5-bacb-8eaed1f70c7a\",\"type\":\"PreviewSaveTool\"},{\"attributes\":{\"fill_alpha\":{\"value\":0.6},\"fill_color\":{\"value\":\"firebrick\"},\"line_alpha\":{\"value\":0.6},\"line_color\":{\"value\":\"firebrick\"},\"size\":{\"field\":\"size\",\"units\":\"screen\"},\"x\":{\"field\":\"x\"},\"y\":{\"field\":\"y\"}},\"id\":\"66af364c-b0ea-4f2e-9736-4faf6b619f80\",\"type\":\"Square\"},{\"attributes\":{\"plot\":{\"id\":\"7395e6c1-7a42-41b8-b6e4-5b4a329ef94a\",\"subtype\":\"Figure\",\"type\":\"Plot\"}},\"id\":\"2dd45272-6172-4a78-ae68-6fbaf024856f\",\"type\":\"WheelZoomTool\"},{\"attributes\":{\"plot\":{\"id\":\"d1e9a4f8-02eb-4ba4-969b-4aadc7c02a8a\",\"subtype\":\"Figure\",\"type\":\"Plot\"}},\"id\":\"4d88bb88-58ce-43b8-ad04-dd6a92d356d6\",\"type\":\"WheelZoomTool\"},{\"attributes\":{\"plot\":{\"id\":\"7395e6c1-7a42-41b8-b6e4-5b4a329ef94a\",\"subtype\":\"Figure\",\"type\":\"Plot\"}},\"id\":\"f84cffed-e6fc-41d0-bea5-5115ea468e72\",\"type\":\"ResetTool\"},{\"attributes\":{\"callback\":null},\"id\":\"92cecd4b-10a2-49a2-a37d-e2c7b5a02078\",\"type\":\"DataRange1d\"},{\"attributes\":{\"fill_alpha\":{\"value\":0.1},\"fill_color\":{\"value\":\"#1f77b4\"},\"line_alpha\":{\"value\":0.1},\"line_color\":{\"value\":\"#1f77b4\"},\"size\":{\"field\":\"size\",\"units\":\"screen\"},\"x\":{\"field\":\"x\"},\"y\":{\"field\":\"y\"}},\"id\":\"da3008a7-203a-480f-a151-a681faca33d9\",\"type\":\"Square\"},{\"attributes\":{\"plot\":{\"id\":\"4683ed72-de92-4529-890f-6b41e65d0a39\",\"subtype\":\"Figure\",\"type\":\"Plot\"}},\"id\":\"81360e3d-55b6-4455-8532-92d7ad04f94b\",\"type\":\"ResizeTool\"},{\"attributes\":{},\"id\":\"fc1441ca-adba-464d-881e-1d7f82b14c98\",\"type\":\"BasicTicker\"},{\"attributes\":{},\"id\":\"5f1c2ad9-8ee2-41ca-98d1-8ccee6967dcb\",\"type\":\"BasicTickFormatter\"},{\"attributes\":{\"bottom_units\":\"screen\",\"fill_alpha\":{\"value\":0.5},\"fill_color\":{\"value\":\"lightgrey\"},\"left_units\":\"screen\",\"level\":\"overlay\",\"line_alpha\":{\"value\":1.0},\"line_color\":{\"value\":\"black\"},\"line_dash\":[4,4],\"line_width\":{\"value\":2},\"plot\":null,\"render_mode\":\"css\",\"right_units\":\"screen\",\"top_units\":\"screen\"},\"id\":\"31efc230-1cf5-46b0-89a2-fd103049b5dd\",\"type\":\"BoxAnnotation\"},{\"attributes\":{\"overlay\":{\"id\":\"4617a28b-3ac9-4f43-bc1c-a52369339c58\",\"type\":\"BoxAnnotation\"},\"plot\":{\"id\":\"4683ed72-de92-4529-890f-6b41e65d0a39\",\"subtype\":\"Figure\",\"type\":\"Plot\"}},\"id\":\"5ed58fc5-5385-412c-90a7-3869be3f1f65\",\"type\":\"BoxZoomTool\"},{\"attributes\":{},\"id\":\"66c88396-390d-40ff-b26b-cbcea5ce25ad\",\"type\":\"BasicTickFormatter\"},{\"attributes\":{\"overlay\":{\"id\":\"31efc230-1cf5-46b0-89a2-fd103049b5dd\",\"type\":\"BoxAnnotation\"},\"plot\":{\"id\":\"d1e9a4f8-02eb-4ba4-969b-4aadc7c02a8a\",\"subtype\":\"Figure\",\"type\":\"Plot\"}},\"id\":\"e3b3d5b9-25b1-496f-82c8-452275db87e9\",\"type\":\"BoxZoomTool\"},{\"attributes\":{\"callback\":null},\"id\":\"0b702811-362c-47dd-86e7-14966f9421f6\",\"type\":\"DataRange1d\"},{\"attributes\":{\"plot\":{\"id\":\"7395e6c1-7a42-41b8-b6e4-5b4a329ef94a\",\"subtype\":\"Figure\",\"type\":\"Plot\"}},\"id\":\"cce4a937-0c8f-45bc-9a6d-04e041c6f4d2\",\"type\":\"ResizeTool\"},{\"attributes\":{\"dimension\":1,\"plot\":{\"id\":\"7395e6c1-7a42-41b8-b6e4-5b4a329ef94a\",\"subtype\":\"Figure\",\"type\":\"Plot\"},\"ticker\":{\"id\":\"b7e25b94-6f81-4a1b-909b-2d3d436b4f2c\",\"type\":\"BasicTicker\"}},\"id\":\"e6591238-c798-488a-9fdb-67fe5270c249\",\"type\":\"Grid\"},{\"attributes\":{\"plot\":{\"id\":\"4683ed72-de92-4529-890f-6b41e65d0a39\",\"subtype\":\"Figure\",\"type\":\"Plot\"}},\"id\":\"170d859c-dfa2-40ea-b05a-c3055e87f524\",\"type\":\"ResetTool\"},{\"attributes\":{},\"id\":\"77c813af-e713-44e4-8f8d-49580b7686d8\",\"type\":\"ToolEvents\"},{\"attributes\":{},\"id\":\"63ad6d9a-4e47-46db-bf26-17aa9925b401\",\"type\":\"ToolEvents\"},{\"attributes\":{\"plot\":{\"id\":\"7395e6c1-7a42-41b8-b6e4-5b4a329ef94a\",\"subtype\":\"Figure\",\"type\":\"Plot\"}},\"id\":\"6b5fef9a-72d4-47e2-8520-85c4365153d2\",\"type\":\"PanTool\"},{\"attributes\":{},\"id\":\"a1e0a318-db4d-441b-9a2c-f4d524f4ed52\",\"type\":\"BasicTickFormatter\"},{\"attributes\":{},\"id\":\"a19ee180-7585-4df7-a96b-8dfb14c77a24\",\"type\":\"BasicTicker\"},{\"attributes\":{\"formatter\":{\"id\":\"7a89a4b3-b9ed-4a74-be69-c1b33c72c5c4\",\"type\":\"BasicTickFormatter\"},\"plot\":{\"id\":\"4683ed72-de92-4529-890f-6b41e65d0a39\",\"subtype\":\"Figure\",\"type\":\"Plot\"},\"ticker\":{\"id\":\"f5ed0c38-5ef4-481f-b399-8d4b155892d6\",\"type\":\"BasicTicker\"}},\"id\":\"a108a2bf-2f29-4410-a054-1dad3504852e\",\"type\":\"LinearAxis\"},{\"attributes\":{},\"id\":\"0eada2fc-6772-4b65-b85d-e3658d6a8d6f\",\"type\":\"ToolEvents\"},{\"attributes\":{\"plot\":{\"id\":\"4683ed72-de92-4529-890f-6b41e65d0a39\",\"subtype\":\"Figure\",\"type\":\"Plot\"},\"ticker\":{\"id\":\"f5ed0c38-5ef4-481f-b399-8d4b155892d6\",\"type\":\"BasicTicker\"}},\"id\":\"1c529146-0866-43c7-a813-05a532299d5e\",\"type\":\"Grid\"},{\"attributes\":{\"callback\":null},\"id\":\"7cee0245-d7d0-43b3-ab83-202b1fb29057\",\"type\":\"DataRange1d\"},{\"attributes\":{\"callback\":null},\"id\":\"d5fefaad-e3d6-4c23-8236-647c8d1a6821\",\"type\":\"DataRange1d\"},{\"attributes\":{},\"id\":\"f5ed0c38-5ef4-481f-b399-8d4b155892d6\",\"type\":\"BasicTicker\"}],\"root_ids\":[\"d1e9a4f8-02eb-4ba4-969b-4aadc7c02a8a\",\"4683ed72-de92-4529-890f-6b41e65d0a39\",\"7395e6c1-7a42-41b8-b6e4-5b4a329ef94a\"]},\"title\":\"Bokeh Application\",\"version\":\"0.11.1\"}};\n",
       "            var render_items = [{\"docid\":\"737ff022-bcff-4fa6-aca9-88e73cf5cd6e\",\"elementid\":\"a628483d-2b3a-495f-82bb-43af7c3a11af\",\"modelid\":\"7395e6c1-7a42-41b8-b6e4-5b4a329ef94a\",\"notebook_comms_target\":\"99030e6b-45f2-4b9e-9dea-95c4883c16a5\"}];\n",
       "            \n",
       "            Bokeh.embed.embed_items(docs_json, render_items);\n",
       "        });\n",
       "      },\n",
       "      function(Bokeh) {\n",
       "      }\n",
       "    ];\n",
       "  \n",
       "    function run_inline_js() {\n",
       "      for (var i = 0; i < inline_js.length; i++) {\n",
       "        inline_js[i](window.Bokeh);\n",
       "      }\n",
       "    }\n",
       "  \n",
       "    if (window._bokeh_is_loading === 0) {\n",
       "      console.log(\"Bokeh: BokehJS loaded, going straight to plotting\");\n",
       "      run_inline_js();\n",
       "    } else {\n",
       "      load_libs(js_urls, function() {\n",
       "        console.log(\"Bokeh: BokehJS plotting callback run at\", now());\n",
       "        run_inline_js();\n",
       "      });\n",
       "    }\n",
       "  }(this));\n",
       "</script>"
      ]
     },
     "metadata": {},
     "output_type": "display_data"
    },
    {
     "data": {
      "text/html": [
       "<p><code>&lt;Bokeh Notebook handle for <strong>In[7]</strong>&gt;</code></p>"
      ],
      "text/plain": [
       "<bokeh.io._CommsHandle at 0x10cfe6c18>"
      ]
     },
     "execution_count": 7,
     "metadata": {},
     "output_type": "execute_result"
    }
   ],
   "source": [
    "# create a new plot (with a title) using figure\n",
    "p = figure(plot_width=400, plot_height=400, title=\"My Line Plot\")\n",
    "\n",
    "# add a line renderer\n",
    "p.line([1, 2, 3, 4, 5], [6, 7, 2, 4, 5], line_width=2)\n",
    "\n",
    "show(p) # show the results"
   ]
  },
  {
   "cell_type": "markdown",
   "metadata": {},
   "source": [
    "# Images"
   ]
  },
  {
   "cell_type": "markdown",
   "metadata": {},
   "source": [
    "The example below shows how to use the `image_rgba` method to display raw RGBA data. \n",
    "\n",
    "**Note**: This example makes use of the NumPy library "
   ]
  },
  {
   "cell_type": "code",
   "execution_count": 8,
   "metadata": {
    "collapsed": false
   },
   "outputs": [
    {
     "data": {
      "text/html": [
       "\n",
       "\n",
       "    <div class=\"plotdiv\" id=\"fa68ce26-dea3-4af4-89f5-f45cab7a6a9f\"></div>\n",
       "<script type=\"text/javascript\">\n",
       "  \n",
       "  (function(global) {\n",
       "    function now() {\n",
       "      return new Date();\n",
       "    }\n",
       "  \n",
       "    if (typeof (window._bokeh_onload_callbacks) === \"undefined\") {\n",
       "      window._bokeh_onload_callbacks = [];\n",
       "    }\n",
       "  \n",
       "    function run_callbacks() {\n",
       "      window._bokeh_onload_callbacks.forEach(function(callback) { callback() });\n",
       "      delete window._bokeh_onload_callbacks\n",
       "      console.info(\"Bokeh: all callbacks have finished\");\n",
       "    }\n",
       "  \n",
       "    function load_libs(js_urls, callback) {\n",
       "      window._bokeh_onload_callbacks.push(callback);\n",
       "      if (window._bokeh_is_loading > 0) {\n",
       "        console.log(\"Bokeh: BokehJS is being loaded, scheduling callback at\", now());\n",
       "        return null;\n",
       "      }\n",
       "      if (js_urls == null || js_urls.length === 0) {\n",
       "        run_callbacks();\n",
       "        return null;\n",
       "      }\n",
       "      console.log(\"Bokeh: BokehJS not loaded, scheduling load and callback at\", now());\n",
       "      window._bokeh_is_loading = js_urls.length;\n",
       "      for (var i = 0; i < js_urls.length; i++) {\n",
       "        var url = js_urls[i];\n",
       "        var s = document.createElement('script');\n",
       "        s.src = url;\n",
       "        s.async = false;\n",
       "        s.onreadystatechange = s.onload = function() {\n",
       "          window._bokeh_is_loading--;\n",
       "          if (window._bokeh_is_loading === 0) {\n",
       "            console.log(\"Bokeh: all BokehJS libraries loaded\");\n",
       "            run_callbacks()\n",
       "          }\n",
       "        };\n",
       "        s.onerror = function() {\n",
       "          console.warn(\"failed to load library \" + url);\n",
       "        };\n",
       "        console.log(\"Bokeh: injecting script tag for BokehJS library: \", url);\n",
       "        document.getElementsByTagName(\"head\")[0].appendChild(s);\n",
       "      }\n",
       "    };var element = document.getElementById(\"fa68ce26-dea3-4af4-89f5-f45cab7a6a9f\");\n",
       "    if (element == null) {\n",
       "      console.log(\"Bokeh: ERROR: autoload.js configured with elementid 'fa68ce26-dea3-4af4-89f5-f45cab7a6a9f' but no matching script tag was found. \")\n",
       "      return false;\n",
       "    }\n",
       "  \n",
       "    var js_urls = [];\n",
       "  \n",
       "    var inline_js = [\n",
       "      function(Bokeh) {\n",
       "        Bokeh.$(function() {\n",
       "            var docs_json = {\"fe6813fe-6789-43f4-83ed-7bc7b1f32170\":{\"roots\":{\"references\":[{\"attributes\":{\"below\":[{\"id\":\"bd6366b9-741f-48cc-a8d1-71026339de62\",\"type\":\"LinearAxis\"}],\"left\":[{\"id\":\"20dc5fb7-213e-4b88-b86d-08159699c300\",\"type\":\"LinearAxis\"}],\"plot_height\":400,\"plot_width\":400,\"renderers\":[{\"id\":\"bd6366b9-741f-48cc-a8d1-71026339de62\",\"type\":\"LinearAxis\"},{\"id\":\"d1bef982-c76c-4cd4-85a6-ab1f968f96ce\",\"type\":\"Grid\"},{\"id\":\"20dc5fb7-213e-4b88-b86d-08159699c300\",\"type\":\"LinearAxis\"},{\"id\":\"e6591238-c798-488a-9fdb-67fe5270c249\",\"type\":\"Grid\"},{\"id\":\"b88c41cf-156f-4b81-bcc7-6d4a6cc35417\",\"type\":\"BoxAnnotation\"},{\"id\":\"daa63100-d82e-4b64-b148-b530b2568c4d\",\"type\":\"GlyphRenderer\"}],\"title\":\"My Line Plot\",\"tool_events\":{\"id\":\"77c813af-e713-44e4-8f8d-49580b7686d8\",\"type\":\"ToolEvents\"},\"tools\":[{\"id\":\"6b5fef9a-72d4-47e2-8520-85c4365153d2\",\"type\":\"PanTool\"},{\"id\":\"2dd45272-6172-4a78-ae68-6fbaf024856f\",\"type\":\"WheelZoomTool\"},{\"id\":\"45114ed1-8349-4819-be29-ac278ef9bdfc\",\"type\":\"BoxZoomTool\"},{\"id\":\"66053637-f100-4ba5-bacb-8eaed1f70c7a\",\"type\":\"PreviewSaveTool\"},{\"id\":\"cce4a937-0c8f-45bc-9a6d-04e041c6f4d2\",\"type\":\"ResizeTool\"},{\"id\":\"f84cffed-e6fc-41d0-bea5-5115ea468e72\",\"type\":\"ResetTool\"},{\"id\":\"a1c3e30b-4582-4030-8c0d-a4cafce48a7e\",\"type\":\"HelpTool\"}],\"x_range\":{\"id\":\"7cee0245-d7d0-43b3-ab83-202b1fb29057\",\"type\":\"DataRange1d\"},\"y_range\":{\"id\":\"d5fefaad-e3d6-4c23-8236-647c8d1a6821\",\"type\":\"DataRange1d\"}},\"id\":\"7395e6c1-7a42-41b8-b6e4-5b4a329ef94a\",\"subtype\":\"Figure\",\"type\":\"Plot\"},{\"attributes\":{},\"id\":\"f6d54d9d-4f87-4f95-8e0b-b72035e27d2f\",\"type\":\"ToolEvents\"},{\"attributes\":{\"below\":[{\"id\":\"a108a2bf-2f29-4410-a054-1dad3504852e\",\"type\":\"LinearAxis\"}],\"left\":[{\"id\":\"48562ddc-29f8-4acb-af1f-ed35d2954dfa\",\"type\":\"LinearAxis\"}],\"plot_height\":400,\"plot_width\":400,\"renderers\":[{\"id\":\"a108a2bf-2f29-4410-a054-1dad3504852e\",\"type\":\"LinearAxis\"},{\"id\":\"1c529146-0866-43c7-a813-05a532299d5e\",\"type\":\"Grid\"},{\"id\":\"48562ddc-29f8-4acb-af1f-ed35d2954dfa\",\"type\":\"LinearAxis\"},{\"id\":\"d282c17c-459c-4b58-8832-24902bd26cfb\",\"type\":\"Grid\"},{\"id\":\"4617a28b-3ac9-4f43-bc1c-a52369339c58\",\"type\":\"BoxAnnotation\"},{\"id\":\"e3275840-bc4d-4515-9048-f2d6397ad50b\",\"type\":\"GlyphRenderer\"}],\"tool_events\":{\"id\":\"63ad6d9a-4e47-46db-bf26-17aa9925b401\",\"type\":\"ToolEvents\"},\"tools\":[{\"id\":\"f9118000-eff3-4a15-a27d-cc50d1cc6824\",\"type\":\"PanTool\"},{\"id\":\"ebfa8396-8b77-4038-bc5b-4977b07dc528\",\"type\":\"WheelZoomTool\"},{\"id\":\"5ed58fc5-5385-412c-90a7-3869be3f1f65\",\"type\":\"BoxZoomTool\"},{\"id\":\"f192a9f5-9a53-4025-be80-f04ab7adb1ac\",\"type\":\"PreviewSaveTool\"},{\"id\":\"81360e3d-55b6-4455-8532-92d7ad04f94b\",\"type\":\"ResizeTool\"},{\"id\":\"170d859c-dfa2-40ea-b05a-c3055e87f524\",\"type\":\"ResetTool\"},{\"id\":\"88cefeec-799e-4937-9710-6e4c6fdd8b06\",\"type\":\"HelpTool\"}],\"x_range\":{\"id\":\"ea80e758-436a-4c81-a181-b6c6a583bd29\",\"type\":\"DataRange1d\"},\"y_range\":{\"id\":\"0b702811-362c-47dd-86e7-14966f9421f6\",\"type\":\"DataRange1d\"}},\"id\":\"4683ed72-de92-4529-890f-6b41e65d0a39\",\"subtype\":\"Figure\",\"type\":\"Plot\"},{\"attributes\":{},\"id\":\"bbcf32c9-d903-4342-ad16-d39ae00d24bd\",\"type\":\"BasicTicker\"},{\"attributes\":{\"plot\":{\"id\":\"4683ed72-de92-4529-890f-6b41e65d0a39\",\"subtype\":\"Figure\",\"type\":\"Plot\"}},\"id\":\"f192a9f5-9a53-4025-be80-f04ab7adb1ac\",\"type\":\"PreviewSaveTool\"},{\"attributes\":{\"plot\":{\"id\":\"d1e9a4f8-02eb-4ba4-969b-4aadc7c02a8a\",\"subtype\":\"Figure\",\"type\":\"Plot\"}},\"id\":\"f3f12abf-b96b-498b-951d-1616ce2ae633\",\"type\":\"PreviewSaveTool\"},{\"attributes\":{},\"id\":\"9540dbad-f94c-4d02-b445-40d2cd00e0dd\",\"type\":\"BasicTickFormatter\"},{\"attributes\":{},\"id\":\"44685515-c9b8-4429-a726-7aecfdb46d9e\",\"type\":\"BasicTicker\"},{\"attributes\":{\"plot\":{\"id\":\"849e280a-daed-4aee-8d73-df1d784a659e\",\"subtype\":\"Figure\",\"type\":\"Plot\"}},\"id\":\"242b0fc6-5882-4793-bfff-abe419d1dc4d\",\"type\":\"ResizeTool\"},{\"attributes\":{},\"id\":\"de4a030a-c2c8-4dbf-b760-d682095c6533\",\"type\":\"BasicTickFormatter\"},{\"attributes\":{\"line_color\":{\"value\":\"#1f77b4\"},\"line_width\":{\"value\":2},\"x\":{\"field\":\"x\"},\"y\":{\"field\":\"y\"}},\"id\":\"b3739b16-5e67-4efc-8a08-e12bd669bfb1\",\"type\":\"Line\"},{\"attributes\":{\"formatter\":{\"id\":\"66c88396-390d-40ff-b26b-cbcea5ce25ad\",\"type\":\"BasicTickFormatter\"},\"plot\":{\"id\":\"4683ed72-de92-4529-890f-6b41e65d0a39\",\"subtype\":\"Figure\",\"type\":\"Plot\"},\"ticker\":{\"id\":\"bbcf32c9-d903-4342-ad16-d39ae00d24bd\",\"type\":\"BasicTicker\"}},\"id\":\"48562ddc-29f8-4acb-af1f-ed35d2954dfa\",\"type\":\"LinearAxis\"},{\"attributes\":{\"plot\":{\"id\":\"849e280a-daed-4aee-8d73-df1d784a659e\",\"subtype\":\"Figure\",\"type\":\"Plot\"}},\"id\":\"d012125c-b0e3-422d-8a59-b51282787e74\",\"type\":\"PreviewSaveTool\"},{\"attributes\":{\"data_source\":{\"id\":\"3a7260b5-7a8b-428e-b53e-c87c7f01afaf\",\"type\":\"ColumnDataSource\"},\"glyph\":{\"id\":\"8a27e804-e3ed-4284-bd17-030c71525745\",\"type\":\"ImageRGBA\"},\"hover_glyph\":null,\"nonselection_glyph\":{\"id\":\"2b7502ab-6b18-4c42-b90e-6ec33cc378f1\",\"type\":\"ImageRGBA\"},\"selection_glyph\":null},\"id\":\"02acd20b-7c25-4f04-919b-81b988e8e350\",\"type\":\"GlyphRenderer\"},{\"attributes\":{\"callback\":null},\"id\":\"ea80e758-436a-4c81-a181-b6c6a583bd29\",\"type\":\"DataRange1d\"},{\"attributes\":{\"plot\":{\"id\":\"4683ed72-de92-4529-890f-6b41e65d0a39\",\"subtype\":\"Figure\",\"type\":\"Plot\"}},\"id\":\"f9118000-eff3-4a15-a27d-cc50d1cc6824\",\"type\":\"PanTool\"},{\"attributes\":{\"plot\":{\"id\":\"d1e9a4f8-02eb-4ba4-969b-4aadc7c02a8a\",\"subtype\":\"Figure\",\"type\":\"Plot\"},\"ticker\":{\"id\":\"a19ee180-7585-4df7-a96b-8dfb14c77a24\",\"type\":\"BasicTicker\"}},\"id\":\"da55123e-cc3b-4f6d-880d-edcfde58cea3\",\"type\":\"Grid\"},{\"attributes\":{\"bottom_units\":\"screen\",\"fill_alpha\":{\"value\":0.5},\"fill_color\":{\"value\":\"lightgrey\"},\"left_units\":\"screen\",\"level\":\"overlay\",\"line_alpha\":{\"value\":1.0},\"line_color\":{\"value\":\"black\"},\"line_dash\":[4,4],\"line_width\":{\"value\":2},\"plot\":null,\"render_mode\":\"css\",\"right_units\":\"screen\",\"top_units\":\"screen\"},\"id\":\"31efc230-1cf5-46b0-89a2-fd103049b5dd\",\"type\":\"BoxAnnotation\"},{\"attributes\":{\"formatter\":{\"id\":\"a1e0a318-db4d-441b-9a2c-f4d524f4ed52\",\"type\":\"BasicTickFormatter\"},\"plot\":{\"id\":\"7395e6c1-7a42-41b8-b6e4-5b4a329ef94a\",\"subtype\":\"Figure\",\"type\":\"Plot\"},\"ticker\":{\"id\":\"fc1441ca-adba-464d-881e-1d7f82b14c98\",\"type\":\"BasicTicker\"}},\"id\":\"bd6366b9-741f-48cc-a8d1-71026339de62\",\"type\":\"LinearAxis\"},{\"attributes\":{\"overlay\":{\"id\":\"c57cbd72-8d38-472a-af99-1da473e45bd8\",\"type\":\"BoxAnnotation\"},\"plot\":{\"id\":\"849e280a-daed-4aee-8d73-df1d784a659e\",\"subtype\":\"Figure\",\"type\":\"Plot\"}},\"id\":\"86de0849-3434-404b-89ca-b64615e260b7\",\"type\":\"BoxZoomTool\"},{\"attributes\":{\"plot\":{\"id\":\"4683ed72-de92-4529-890f-6b41e65d0a39\",\"subtype\":\"Figure\",\"type\":\"Plot\"}},\"id\":\"ebfa8396-8b77-4038-bc5b-4977b07dc528\",\"type\":\"WheelZoomTool\"},{\"attributes\":{\"callback\":null,\"column_names\":[\"y\",\"x\",\"size\"],\"data\":{\"size\":[10,15,20,25,30],\"x\":[1,2,3,4,5],\"y\":[6,7,2,4,5]}},\"id\":\"2681bbf1-f024-4a2b-847e-ceb0260ee2ab\",\"type\":\"ColumnDataSource\"},{\"attributes\":{},\"id\":\"c23a61b6-061b-4e5d-b6bf-45311111e1ea\",\"type\":\"BasicTicker\"},{\"attributes\":{\"plot\":{\"id\":\"849e280a-daed-4aee-8d73-df1d784a659e\",\"subtype\":\"Figure\",\"type\":\"Plot\"}},\"id\":\"e31efd18-0ee2-4f73-b53e-881159b0d904\",\"type\":\"PanTool\"},{\"attributes\":{\"dimension\":1,\"plot\":{\"id\":\"d1e9a4f8-02eb-4ba4-969b-4aadc7c02a8a\",\"subtype\":\"Figure\",\"type\":\"Plot\"},\"ticker\":{\"id\":\"44685515-c9b8-4429-a726-7aecfdb46d9e\",\"type\":\"BasicTicker\"}},\"id\":\"2544b297-de76-4dff-8aaf-bf73969f7453\",\"type\":\"Grid\"},{\"attributes\":{\"formatter\":{\"id\":\"de4a030a-c2c8-4dbf-b760-d682095c6533\",\"type\":\"BasicTickFormatter\"},\"plot\":{\"id\":\"7395e6c1-7a42-41b8-b6e4-5b4a329ef94a\",\"subtype\":\"Figure\",\"type\":\"Plot\"},\"ticker\":{\"id\":\"b7e25b94-6f81-4a1b-909b-2d3d436b4f2c\",\"type\":\"BasicTicker\"}},\"id\":\"20dc5fb7-213e-4b88-b86d-08159699c300\",\"type\":\"LinearAxis\"},{\"attributes\":{\"below\":[{\"id\":\"9a3e5262-5efa-4676-aa65-94a7f98276d8\",\"type\":\"LinearAxis\"}],\"left\":[{\"id\":\"6a353706-c8f2-424d-ab37-a9a62f768b99\",\"type\":\"LinearAxis\"}],\"plot_height\":400,\"plot_width\":400,\"renderers\":[{\"id\":\"9a3e5262-5efa-4676-aa65-94a7f98276d8\",\"type\":\"LinearAxis\"},{\"id\":\"da55123e-cc3b-4f6d-880d-edcfde58cea3\",\"type\":\"Grid\"},{\"id\":\"6a353706-c8f2-424d-ab37-a9a62f768b99\",\"type\":\"LinearAxis\"},{\"id\":\"2544b297-de76-4dff-8aaf-bf73969f7453\",\"type\":\"Grid\"},{\"id\":\"31efc230-1cf5-46b0-89a2-fd103049b5dd\",\"type\":\"BoxAnnotation\"},{\"id\":\"c64176da-336e-4614-9a3a-7e0f4e30e688\",\"type\":\"GlyphRenderer\"}],\"tool_events\":{\"id\":\"0eada2fc-6772-4b65-b85d-e3658d6a8d6f\",\"type\":\"ToolEvents\"},\"tools\":[{\"id\":\"d0b44c9d-075b-4bb1-83d8-c365c87839f0\",\"type\":\"PanTool\"},{\"id\":\"4d88bb88-58ce-43b8-ad04-dd6a92d356d6\",\"type\":\"WheelZoomTool\"},{\"id\":\"e3b3d5b9-25b1-496f-82c8-452275db87e9\",\"type\":\"BoxZoomTool\"},{\"id\":\"f3f12abf-b96b-498b-951d-1616ce2ae633\",\"type\":\"PreviewSaveTool\"},{\"id\":\"abcf5b45-e912-402b-be94-538e9157afec\",\"type\":\"ResizeTool\"},{\"id\":\"b2c94bd0-eb4a-47d6-ac36-3e9dedaff8f3\",\"type\":\"ResetTool\"},{\"id\":\"b06c2515-a34e-48c2-88a0-628a04a4e627\",\"type\":\"HelpTool\"}],\"x_range\":{\"id\":\"92cecd4b-10a2-49a2-a37d-e2c7b5a02078\",\"type\":\"DataRange1d\"},\"y_range\":{\"id\":\"1db6e218-ae52-40cf-8128-747fb851e2aa\",\"type\":\"DataRange1d\"}},\"id\":\"d1e9a4f8-02eb-4ba4-969b-4aadc7c02a8a\",\"subtype\":\"Figure\",\"type\":\"Plot\"},{\"attributes\":{\"callback\":null,\"column_names\":[\"y\",\"x\"],\"data\":{\"x\":[1,2,3,4,5],\"y\":[6,7,2,4,5]}},\"id\":\"62ea0c3f-a95a-4d5e-9906-4904fb9fc805\",\"type\":\"ColumnDataSource\"},{\"attributes\":{},\"id\":\"8735cb77-f0cf-4c45-b9b5-b4659e6b426d\",\"type\":\"BasicTicker\"},{\"attributes\":{\"overlay\":{\"id\":\"b88c41cf-156f-4b81-bcc7-6d4a6cc35417\",\"type\":\"BoxAnnotation\"},\"plot\":{\"id\":\"7395e6c1-7a42-41b8-b6e4-5b4a329ef94a\",\"subtype\":\"Figure\",\"type\":\"Plot\"}},\"id\":\"45114ed1-8349-4819-be29-ac278ef9bdfc\",\"type\":\"BoxZoomTool\"},{\"attributes\":{\"fill_alpha\":{\"value\":0.5},\"fill_color\":{\"value\":\"orange\"},\"line_color\":{\"value\":\"navy\"},\"size\":{\"units\":\"screen\",\"value\":15},\"x\":{\"field\":\"x\"},\"y\":{\"field\":\"y\"}},\"id\":\"1d7304d8-c442-490d-b107-7359f5f32016\",\"type\":\"Circle\"},{\"attributes\":{\"plot\":{\"id\":\"d1e9a4f8-02eb-4ba4-969b-4aadc7c02a8a\",\"subtype\":\"Figure\",\"type\":\"Plot\"}},\"id\":\"d0b44c9d-075b-4bb1-83d8-c365c87839f0\",\"type\":\"PanTool\"},{\"attributes\":{\"plot\":{\"id\":\"849e280a-daed-4aee-8d73-df1d784a659e\",\"subtype\":\"Figure\",\"type\":\"Plot\"}},\"id\":\"a200832d-2e3f-4f61-abfb-b827f1982515\",\"type\":\"WheelZoomTool\"},{\"attributes\":{\"callback\":null,\"end\":10},\"id\":\"2ccbf59d-172b-4d9f-9e67-6129ea776b9d\",\"type\":\"Range1d\"},{\"attributes\":{\"fill_alpha\":{\"value\":0.6},\"fill_color\":{\"value\":\"firebrick\"},\"line_alpha\":{\"value\":0.6},\"line_color\":{\"value\":\"firebrick\"},\"size\":{\"field\":\"size\",\"units\":\"screen\"},\"x\":{\"field\":\"x\"},\"y\":{\"field\":\"y\"}},\"id\":\"66af364c-b0ea-4f2e-9736-4faf6b619f80\",\"type\":\"Square\"},{\"attributes\":{\"callback\":null},\"id\":\"1db6e218-ae52-40cf-8128-747fb851e2aa\",\"type\":\"DataRange1d\"},{\"attributes\":{\"formatter\":{\"id\":\"9540dbad-f94c-4d02-b445-40d2cd00e0dd\",\"type\":\"BasicTickFormatter\"},\"plot\":{\"id\":\"849e280a-daed-4aee-8d73-df1d784a659e\",\"subtype\":\"Figure\",\"type\":\"Plot\"},\"ticker\":{\"id\":\"8735cb77-f0cf-4c45-b9b5-b4659e6b426d\",\"type\":\"BasicTicker\"}},\"id\":\"ada34d9f-03a0-4238-840a-c4caba06658a\",\"type\":\"LinearAxis\"},{\"attributes\":{\"plot\":{\"id\":\"7395e6c1-7a42-41b8-b6e4-5b4a329ef94a\",\"subtype\":\"Figure\",\"type\":\"Plot\"}},\"id\":\"f84cffed-e6fc-41d0-bea5-5115ea468e72\",\"type\":\"ResetTool\"},{\"attributes\":{\"callback\":null,\"column_names\":[\"image\",\"dh\",\"dw\",\"y\",\"x\"],\"data\":{\"dh\":[10],\"dw\":[10],\"image\":[[[4278230528,4279016960,4279868928,4280720896,4281572864,4282359296,4283211264,4284063232,4284915200,4285701632,4286553600,4287405568,4288257536,4289043968,4289895936,4290747904,4291599872,4292386304,4293238272,4294090240],[4278230540,4279016972,4279868940,4280720908,4281572876,4282359308,4283211276,4284063244,4284915212,4285701644,4286553612,4287405580,4288257548,4289043980,4289895948,4290747916,4291599884,4292386316,4293238284,4294090252],[4278230553,4279016985,4279868953,4280720921,4281572889,4282359321,4283211289,4284063257,4284915225,4285701657,4286553625,4287405593,4288257561,4289043993,4289895961,4290747929,4291599897,4292386329,4293238297,4294090265],[4278230566,4279016998,4279868966,4280720934,4281572902,4282359334,4283211302,4284063270,4284915238,4285701670,4286553638,4287405606,4288257574,4289044006,4289895974,4290747942,4291599910,4292386342,4293238310,4294090278],[4278230579,4279017011,4279868979,4280720947,4281572915,4282359347,4283211315,4284063283,4284915251,4285701683,4286553651,4287405619,4288257587,4289044019,4289895987,4290747955,4291599923,4292386355,4293238323,4294090291],[4278230591,4279017023,4279868991,4280720959,4281572927,4282359359,4283211327,4284063295,4284915263,4285701695,4286553663,4287405631,4288257599,4289044031,4289895999,4290747967,4291599935,4292386367,4293238335,4294090303],[4278230604,4279017036,4279869004,4280720972,4281572940,4282359372,4283211340,4284063308,4284915276,4285701708,4286553676,4287405644,4288257612,4289044044,4289896012,4290747980,4291599948,4292386380,4293238348,4294090316],[4278230617,4279017049,4279869017,4280720985,4281572953,4282359385,4283211353,4284063321,4284915289,4285701721,4286553689,4287405657,4288257625,4289044057,4289896025,4290747993,4291599961,4292386393,4293238361,4294090329],[4278230630,4279017062,4279869030,4280720998,4281572966,4282359398,4283211366,4284063334,4284915302,4285701734,4286553702,4287405670,4288257638,4289044070,4289896038,4290748006,4291599974,4292386406,4293238374,4294090342],[4278230642,4279017074,4279869042,4280721010,4281572978,4282359410,4283211378,4284063346,4284915314,4285701746,4286553714,4287405682,4288257650,4289044082,4289896050,4290748018,4291599986,4292386418,4293238386,4294090354],[4278230655,4279017087,4279869055,4280721023,4281572991,4282359423,4283211391,4284063359,4284915327,4285701759,4286553727,4287405695,4288257663,4289044095,4289896063,4290748031,4291599999,4292386431,4293238399,4294090367],[4278230668,4279017100,4279869068,4280721036,4281573004,4282359436,4283211404,4284063372,4284915340,4285701772,4286553740,4287405708,4288257676,4289044108,4289896076,4290748044,4291600012,4292386444,4293238412,4294090380],[4278230681,4279017113,4279869081,4280721049,4281573017,4282359449,4283211417,4284063385,4284915353,4285701785,4286553753,4287405721,4288257689,4289044121,4289896089,4290748057,4291600025,4292386457,4293238425,4294090393],[4278230693,4279017125,4279869093,4280721061,4281573029,4282359461,4283211429,4284063397,4284915365,4285701797,4286553765,4287405733,4288257701,4289044133,4289896101,4290748069,4291600037,4292386469,4293238437,4294090405],[4278230706,4279017138,4279869106,4280721074,4281573042,4282359474,4283211442,4284063410,4284915378,4285701810,4286553778,4287405746,4288257714,4289044146,4289896114,4290748082,4291600050,4292386482,4293238450,4294090418],[4278230719,4279017151,4279869119,4280721087,4281573055,4282359487,4283211455,4284063423,4284915391,4285701823,4286553791,4287405759,4288257727,4289044159,4289896127,4290748095,4291600063,4292386495,4293238463,4294090431],[4278230732,4279017164,4279869132,4280721100,4281573068,4282359500,4283211468,4284063436,4284915404,4285701836,4286553804,4287405772,4288257740,4289044172,4289896140,4290748108,4291600076,4292386508,4293238476,4294090444],[4278230744,4279017176,4279869144,4280721112,4281573080,4282359512,4283211480,4284063448,4284915416,4285701848,4286553816,4287405784,4288257752,4289044184,4289896152,4290748120,4291600088,4292386520,4293238488,4294090456],[4278230757,4279017189,4279869157,4280721125,4281573093,4282359525,4283211493,4284063461,4284915429,4285701861,4286553829,4287405797,4288257765,4289044197,4289896165,4290748133,4291600101,4292386533,4293238501,4294090469],[4278230770,4279017202,4279869170,4280721138,4281573106,4282359538,4283211506,4284063474,4284915442,4285701874,4286553842,4287405810,4288257778,4289044210,4289896178,4290748146,4291600114,4292386546,4293238514,4294090482]]],\"x\":[0],\"y\":[0]}},\"id\":\"3a7260b5-7a8b-428e-b53e-c87c7f01afaf\",\"type\":\"ColumnDataSource\"},{\"attributes\":{\"fill_alpha\":{\"value\":0.1},\"fill_color\":{\"value\":\"#1f77b4\"},\"line_alpha\":{\"value\":0.1},\"line_color\":{\"value\":\"#1f77b4\"},\"size\":{\"field\":\"size\",\"units\":\"screen\"},\"x\":{\"field\":\"x\"},\"y\":{\"field\":\"y\"}},\"id\":\"da3008a7-203a-480f-a151-a681faca33d9\",\"type\":\"Square\"},{\"attributes\":{\"plot\":{\"id\":\"4683ed72-de92-4529-890f-6b41e65d0a39\",\"subtype\":\"Figure\",\"type\":\"Plot\"}},\"id\":\"81360e3d-55b6-4455-8532-92d7ad04f94b\",\"type\":\"ResizeTool\"},{\"attributes\":{\"below\":[{\"id\":\"dc05d5a7-b370-4a3e-97b2-60d7aa556035\",\"type\":\"LinearAxis\"}],\"left\":[{\"id\":\"ada34d9f-03a0-4238-840a-c4caba06658a\",\"type\":\"LinearAxis\"}],\"renderers\":[{\"id\":\"dc05d5a7-b370-4a3e-97b2-60d7aa556035\",\"type\":\"LinearAxis\"},{\"id\":\"c8706351-d2d9-4889-9e79-75949b75f07a\",\"type\":\"Grid\"},{\"id\":\"ada34d9f-03a0-4238-840a-c4caba06658a\",\"type\":\"LinearAxis\"},{\"id\":\"929e43da-522c-4c1f-bdd5-cd4f062ac54b\",\"type\":\"Grid\"},{\"id\":\"c57cbd72-8d38-472a-af99-1da473e45bd8\",\"type\":\"BoxAnnotation\"},{\"id\":\"02acd20b-7c25-4f04-919b-81b988e8e350\",\"type\":\"GlyphRenderer\"}],\"tool_events\":{\"id\":\"f6d54d9d-4f87-4f95-8e0b-b72035e27d2f\",\"type\":\"ToolEvents\"},\"tools\":[{\"id\":\"e31efd18-0ee2-4f73-b53e-881159b0d904\",\"type\":\"PanTool\"},{\"id\":\"a200832d-2e3f-4f61-abfb-b827f1982515\",\"type\":\"WheelZoomTool\"},{\"id\":\"86de0849-3434-404b-89ca-b64615e260b7\",\"type\":\"BoxZoomTool\"},{\"id\":\"d012125c-b0e3-422d-8a59-b51282787e74\",\"type\":\"PreviewSaveTool\"},{\"id\":\"242b0fc6-5882-4793-bfff-abe419d1dc4d\",\"type\":\"ResizeTool\"},{\"id\":\"c51e1936-4aeb-464a-aeac-c7666c698d9a\",\"type\":\"ResetTool\"},{\"id\":\"6bcb07a5-58cc-4ea4-9570-39c0ef116781\",\"type\":\"HelpTool\"}],\"x_range\":{\"id\":\"5a3ce586-4f77-4982-a946-b2b45c816156\",\"type\":\"Range1d\"},\"y_range\":{\"id\":\"2ccbf59d-172b-4d9f-9e67-6129ea776b9d\",\"type\":\"Range1d\"}},\"id\":\"849e280a-daed-4aee-8d73-df1d784a659e\",\"subtype\":\"Figure\",\"type\":\"Plot\"},{\"attributes\":{},\"id\":\"5f1c2ad9-8ee2-41ca-98d1-8ccee6967dcb\",\"type\":\"BasicTickFormatter\"},{\"attributes\":{\"overlay\":{\"id\":\"4617a28b-3ac9-4f43-bc1c-a52369339c58\",\"type\":\"BoxAnnotation\"},\"plot\":{\"id\":\"4683ed72-de92-4529-890f-6b41e65d0a39\",\"subtype\":\"Figure\",\"type\":\"Plot\"}},\"id\":\"5ed58fc5-5385-412c-90a7-3869be3f1f65\",\"type\":\"BoxZoomTool\"},{\"attributes\":{\"overlay\":{\"id\":\"31efc230-1cf5-46b0-89a2-fd103049b5dd\",\"type\":\"BoxAnnotation\"},\"plot\":{\"id\":\"d1e9a4f8-02eb-4ba4-969b-4aadc7c02a8a\",\"subtype\":\"Figure\",\"type\":\"Plot\"}},\"id\":\"e3b3d5b9-25b1-496f-82c8-452275db87e9\",\"type\":\"BoxZoomTool\"},{\"attributes\":{\"callback\":null},\"id\":\"0b702811-362c-47dd-86e7-14966f9421f6\",\"type\":\"DataRange1d\"},{\"attributes\":{\"dimension\":1,\"plot\":{\"id\":\"7395e6c1-7a42-41b8-b6e4-5b4a329ef94a\",\"subtype\":\"Figure\",\"type\":\"Plot\"},\"ticker\":{\"id\":\"b7e25b94-6f81-4a1b-909b-2d3d436b4f2c\",\"type\":\"BasicTicker\"}},\"id\":\"e6591238-c798-488a-9fdb-67fe5270c249\",\"type\":\"Grid\"},{\"attributes\":{},\"id\":\"77c813af-e713-44e4-8f8d-49580b7686d8\",\"type\":\"ToolEvents\"},{\"attributes\":{\"formatter\":{\"id\":\"119aab8c-4936-46be-9eb1-50ba743ba8b8\",\"type\":\"BasicTickFormatter\"},\"plot\":{\"id\":\"849e280a-daed-4aee-8d73-df1d784a659e\",\"subtype\":\"Figure\",\"type\":\"Plot\"},\"ticker\":{\"id\":\"c23a61b6-061b-4e5d-b6bf-45311111e1ea\",\"type\":\"BasicTicker\"}},\"id\":\"dc05d5a7-b370-4a3e-97b2-60d7aa556035\",\"type\":\"LinearAxis\"},{\"attributes\":{},\"id\":\"119aab8c-4936-46be-9eb1-50ba743ba8b8\",\"type\":\"BasicTickFormatter\"},{\"attributes\":{},\"id\":\"63ad6d9a-4e47-46db-bf26-17aa9925b401\",\"type\":\"ToolEvents\"},{\"attributes\":{},\"id\":\"b7e25b94-6f81-4a1b-909b-2d3d436b4f2c\",\"type\":\"BasicTicker\"},{\"attributes\":{},\"id\":\"a1e0a318-db4d-441b-9a2c-f4d524f4ed52\",\"type\":\"BasicTickFormatter\"},{\"attributes\":{\"formatter\":{\"id\":\"7a89a4b3-b9ed-4a74-be69-c1b33c72c5c4\",\"type\":\"BasicTickFormatter\"},\"plot\":{\"id\":\"4683ed72-de92-4529-890f-6b41e65d0a39\",\"subtype\":\"Figure\",\"type\":\"Plot\"},\"ticker\":{\"id\":\"f5ed0c38-5ef4-481f-b399-8d4b155892d6\",\"type\":\"BasicTicker\"}},\"id\":\"a108a2bf-2f29-4410-a054-1dad3504852e\",\"type\":\"LinearAxis\"},{\"attributes\":{},\"id\":\"0eada2fc-6772-4b65-b85d-e3658d6a8d6f\",\"type\":\"ToolEvents\"},{\"attributes\":{\"plot\":{\"id\":\"4683ed72-de92-4529-890f-6b41e65d0a39\",\"subtype\":\"Figure\",\"type\":\"Plot\"},\"ticker\":{\"id\":\"f5ed0c38-5ef4-481f-b399-8d4b155892d6\",\"type\":\"BasicTicker\"}},\"id\":\"1c529146-0866-43c7-a813-05a532299d5e\",\"type\":\"Grid\"},{\"attributes\":{\"callback\":null},\"id\":\"d5fefaad-e3d6-4c23-8236-647c8d1a6821\",\"type\":\"DataRange1d\"},{\"attributes\":{},\"id\":\"f5ed0c38-5ef4-481f-b399-8d4b155892d6\",\"type\":\"BasicTicker\"},{\"attributes\":{\"dimension\":1,\"plot\":{\"id\":\"4683ed72-de92-4529-890f-6b41e65d0a39\",\"subtype\":\"Figure\",\"type\":\"Plot\"},\"ticker\":{\"id\":\"bbcf32c9-d903-4342-ad16-d39ae00d24bd\",\"type\":\"BasicTicker\"}},\"id\":\"d282c17c-459c-4b58-8832-24902bd26cfb\",\"type\":\"Grid\"},{\"attributes\":{\"data_source\":{\"id\":\"2681bbf1-f024-4a2b-847e-ceb0260ee2ab\",\"type\":\"ColumnDataSource\"},\"glyph\":{\"id\":\"66af364c-b0ea-4f2e-9736-4faf6b619f80\",\"type\":\"Square\"},\"hover_glyph\":null,\"nonselection_glyph\":{\"id\":\"da3008a7-203a-480f-a151-a681faca33d9\",\"type\":\"Square\"},\"selection_glyph\":null},\"id\":\"e3275840-bc4d-4515-9048-f2d6397ad50b\",\"type\":\"GlyphRenderer\"},{\"attributes\":{\"plot\":{\"id\":\"d1e9a4f8-02eb-4ba4-969b-4aadc7c02a8a\",\"subtype\":\"Figure\",\"type\":\"Plot\"}},\"id\":\"abcf5b45-e912-402b-be94-538e9157afec\",\"type\":\"ResizeTool\"},{\"attributes\":{\"bottom_units\":\"screen\",\"fill_alpha\":{\"value\":0.5},\"fill_color\":{\"value\":\"lightgrey\"},\"left_units\":\"screen\",\"level\":\"overlay\",\"line_alpha\":{\"value\":1.0},\"line_color\":{\"value\":\"black\"},\"line_dash\":[4,4],\"line_width\":{\"value\":2},\"plot\":null,\"render_mode\":\"css\",\"right_units\":\"screen\",\"top_units\":\"screen\"},\"id\":\"4617a28b-3ac9-4f43-bc1c-a52369339c58\",\"type\":\"BoxAnnotation\"},{\"attributes\":{\"data_source\":{\"id\":\"62ea0c3f-a95a-4d5e-9906-4904fb9fc805\",\"type\":\"ColumnDataSource\"},\"glyph\":{\"id\":\"b3739b16-5e67-4efc-8a08-e12bd669bfb1\",\"type\":\"Line\"},\"hover_glyph\":null,\"nonselection_glyph\":{\"id\":\"88e2e5fe-9c0b-465d-9c9d-cc99cacdb7f4\",\"type\":\"Line\"},\"selection_glyph\":null},\"id\":\"daa63100-d82e-4b64-b148-b530b2568c4d\",\"type\":\"GlyphRenderer\"},{\"attributes\":{\"callback\":null,\"end\":10},\"id\":\"5a3ce586-4f77-4982-a946-b2b45c816156\",\"type\":\"Range1d\"},{\"attributes\":{\"dh\":{\"field\":\"dh\",\"units\":\"data\"},\"dw\":{\"field\":\"dw\",\"units\":\"data\"},\"image\":{\"field\":\"image\"},\"x\":{\"field\":\"x\"},\"y\":{\"field\":\"y\"}},\"id\":\"8a27e804-e3ed-4284-bd17-030c71525745\",\"type\":\"ImageRGBA\"},{\"attributes\":{\"plot\":{\"id\":\"849e280a-daed-4aee-8d73-df1d784a659e\",\"subtype\":\"Figure\",\"type\":\"Plot\"}},\"id\":\"c51e1936-4aeb-464a-aeac-c7666c698d9a\",\"type\":\"ResetTool\"},{\"attributes\":{},\"id\":\"7a89a4b3-b9ed-4a74-be69-c1b33c72c5c4\",\"type\":\"BasicTickFormatter\"},{\"attributes\":{\"dh\":{\"field\":\"dh\",\"units\":\"data\"},\"dw\":{\"field\":\"dw\",\"units\":\"data\"},\"image\":{\"field\":\"image\"},\"x\":{\"field\":\"x\"},\"y\":{\"field\":\"y\"}},\"id\":\"2b7502ab-6b18-4c42-b90e-6ec33cc378f1\",\"type\":\"ImageRGBA\"},{\"attributes\":{\"plot\":{\"id\":\"4683ed72-de92-4529-890f-6b41e65d0a39\",\"subtype\":\"Figure\",\"type\":\"Plot\"}},\"id\":\"88cefeec-799e-4937-9710-6e4c6fdd8b06\",\"type\":\"HelpTool\"},{\"attributes\":{\"fill_alpha\":{\"value\":0.1},\"fill_color\":{\"value\":\"#1f77b4\"},\"line_alpha\":{\"value\":0.1},\"line_color\":{\"value\":\"#1f77b4\"},\"size\":{\"units\":\"screen\",\"value\":15},\"x\":{\"field\":\"x\"},\"y\":{\"field\":\"y\"}},\"id\":\"b4ad2e92-b478-48ad-b4b9-f2d023676f78\",\"type\":\"Circle\"},{\"attributes\":{\"line_alpha\":{\"value\":0.1},\"line_color\":{\"value\":\"#1f77b4\"},\"line_width\":{\"value\":2},\"x\":{\"field\":\"x\"},\"y\":{\"field\":\"y\"}},\"id\":\"88e2e5fe-9c0b-465d-9c9d-cc99cacdb7f4\",\"type\":\"Line\"},{\"attributes\":{\"plot\":{\"id\":\"7395e6c1-7a42-41b8-b6e4-5b4a329ef94a\",\"subtype\":\"Figure\",\"type\":\"Plot\"}},\"id\":\"a1c3e30b-4582-4030-8c0d-a4cafce48a7e\",\"type\":\"HelpTool\"},{\"attributes\":{\"dimension\":1,\"plot\":{\"id\":\"849e280a-daed-4aee-8d73-df1d784a659e\",\"subtype\":\"Figure\",\"type\":\"Plot\"},\"ticker\":{\"id\":\"8735cb77-f0cf-4c45-b9b5-b4659e6b426d\",\"type\":\"BasicTicker\"}},\"id\":\"929e43da-522c-4c1f-bdd5-cd4f062ac54b\",\"type\":\"Grid\"},{\"attributes\":{\"plot\":{\"id\":\"7395e6c1-7a42-41b8-b6e4-5b4a329ef94a\",\"subtype\":\"Figure\",\"type\":\"Plot\"},\"ticker\":{\"id\":\"fc1441ca-adba-464d-881e-1d7f82b14c98\",\"type\":\"BasicTicker\"}},\"id\":\"d1bef982-c76c-4cd4-85a6-ab1f968f96ce\",\"type\":\"Grid\"},{\"attributes\":{\"data_source\":{\"id\":\"9b72ef34-3f0a-44d5-8d70-e7edfa0ac6f6\",\"type\":\"ColumnDataSource\"},\"glyph\":{\"id\":\"1d7304d8-c442-490d-b107-7359f5f32016\",\"type\":\"Circle\"},\"hover_glyph\":null,\"nonselection_glyph\":{\"id\":\"b4ad2e92-b478-48ad-b4b9-f2d023676f78\",\"type\":\"Circle\"},\"selection_glyph\":null},\"id\":\"c64176da-336e-4614-9a3a-7e0f4e30e688\",\"type\":\"GlyphRenderer\"},{\"attributes\":{\"formatter\":{\"id\":\"5f1c2ad9-8ee2-41ca-98d1-8ccee6967dcb\",\"type\":\"BasicTickFormatter\"},\"plot\":{\"id\":\"d1e9a4f8-02eb-4ba4-969b-4aadc7c02a8a\",\"subtype\":\"Figure\",\"type\":\"Plot\"},\"ticker\":{\"id\":\"44685515-c9b8-4429-a726-7aecfdb46d9e\",\"type\":\"BasicTicker\"}},\"id\":\"6a353706-c8f2-424d-ab37-a9a62f768b99\",\"type\":\"LinearAxis\"},{\"attributes\":{\"plot\":{\"id\":\"d1e9a4f8-02eb-4ba4-969b-4aadc7c02a8a\",\"subtype\":\"Figure\",\"type\":\"Plot\"}},\"id\":\"b06c2515-a34e-48c2-88a0-628a04a4e627\",\"type\":\"HelpTool\"},{\"attributes\":{},\"id\":\"09d1b6a0-305c-4202-a190-ea302b12f41e\",\"type\":\"BasicTickFormatter\"},{\"attributes\":{\"formatter\":{\"id\":\"09d1b6a0-305c-4202-a190-ea302b12f41e\",\"type\":\"BasicTickFormatter\"},\"plot\":{\"id\":\"d1e9a4f8-02eb-4ba4-969b-4aadc7c02a8a\",\"subtype\":\"Figure\",\"type\":\"Plot\"},\"ticker\":{\"id\":\"a19ee180-7585-4df7-a96b-8dfb14c77a24\",\"type\":\"BasicTicker\"}},\"id\":\"9a3e5262-5efa-4676-aa65-94a7f98276d8\",\"type\":\"LinearAxis\"},{\"attributes\":{\"plot\":{\"id\":\"d1e9a4f8-02eb-4ba4-969b-4aadc7c02a8a\",\"subtype\":\"Figure\",\"type\":\"Plot\"}},\"id\":\"b2c94bd0-eb4a-47d6-ac36-3e9dedaff8f3\",\"type\":\"ResetTool\"},{\"attributes\":{\"plot\":{\"id\":\"7395e6c1-7a42-41b8-b6e4-5b4a329ef94a\",\"subtype\":\"Figure\",\"type\":\"Plot\"}},\"id\":\"6b5fef9a-72d4-47e2-8520-85c4365153d2\",\"type\":\"PanTool\"},{\"attributes\":{\"callback\":null,\"column_names\":[\"y\",\"x\"],\"data\":{\"x\":[1,2,3,4,5],\"y\":[6,7,2,4,5]}},\"id\":\"9b72ef34-3f0a-44d5-8d70-e7edfa0ac6f6\",\"type\":\"ColumnDataSource\"},{\"attributes\":{\"plot\":{\"id\":\"849e280a-daed-4aee-8d73-df1d784a659e\",\"subtype\":\"Figure\",\"type\":\"Plot\"},\"ticker\":{\"id\":\"c23a61b6-061b-4e5d-b6bf-45311111e1ea\",\"type\":\"BasicTicker\"}},\"id\":\"c8706351-d2d9-4889-9e79-75949b75f07a\",\"type\":\"Grid\"},{\"attributes\":{\"plot\":{\"id\":\"7395e6c1-7a42-41b8-b6e4-5b4a329ef94a\",\"subtype\":\"Figure\",\"type\":\"Plot\"}},\"id\":\"66053637-f100-4ba5-bacb-8eaed1f70c7a\",\"type\":\"PreviewSaveTool\"},{\"attributes\":{\"callback\":null},\"id\":\"92cecd4b-10a2-49a2-a37d-e2c7b5a02078\",\"type\":\"DataRange1d\"},{\"attributes\":{\"plot\":{\"id\":\"7395e6c1-7a42-41b8-b6e4-5b4a329ef94a\",\"subtype\":\"Figure\",\"type\":\"Plot\"}},\"id\":\"2dd45272-6172-4a78-ae68-6fbaf024856f\",\"type\":\"WheelZoomTool\"},{\"attributes\":{\"plot\":{\"id\":\"d1e9a4f8-02eb-4ba4-969b-4aadc7c02a8a\",\"subtype\":\"Figure\",\"type\":\"Plot\"}},\"id\":\"4d88bb88-58ce-43b8-ad04-dd6a92d356d6\",\"type\":\"WheelZoomTool\"},{\"attributes\":{},\"id\":\"fc1441ca-adba-464d-881e-1d7f82b14c98\",\"type\":\"BasicTicker\"},{\"attributes\":{\"bottom_units\":\"screen\",\"fill_alpha\":{\"value\":0.5},\"fill_color\":{\"value\":\"lightgrey\"},\"left_units\":\"screen\",\"level\":\"overlay\",\"line_alpha\":{\"value\":1.0},\"line_color\":{\"value\":\"black\"},\"line_dash\":[4,4],\"line_width\":{\"value\":2},\"plot\":null,\"render_mode\":\"css\",\"right_units\":\"screen\",\"top_units\":\"screen\"},\"id\":\"b88c41cf-156f-4b81-bcc7-6d4a6cc35417\",\"type\":\"BoxAnnotation\"},{\"attributes\":{},\"id\":\"66c88396-390d-40ff-b26b-cbcea5ce25ad\",\"type\":\"BasicTickFormatter\"},{\"attributes\":{\"plot\":{\"id\":\"7395e6c1-7a42-41b8-b6e4-5b4a329ef94a\",\"subtype\":\"Figure\",\"type\":\"Plot\"}},\"id\":\"cce4a937-0c8f-45bc-9a6d-04e041c6f4d2\",\"type\":\"ResizeTool\"},{\"attributes\":{\"plot\":{\"id\":\"4683ed72-de92-4529-890f-6b41e65d0a39\",\"subtype\":\"Figure\",\"type\":\"Plot\"}},\"id\":\"170d859c-dfa2-40ea-b05a-c3055e87f524\",\"type\":\"ResetTool\"},{\"attributes\":{\"bottom_units\":\"screen\",\"fill_alpha\":{\"value\":0.5},\"fill_color\":{\"value\":\"lightgrey\"},\"left_units\":\"screen\",\"level\":\"overlay\",\"line_alpha\":{\"value\":1.0},\"line_color\":{\"value\":\"black\"},\"line_dash\":[4,4],\"line_width\":{\"value\":2},\"plot\":null,\"render_mode\":\"css\",\"right_units\":\"screen\",\"top_units\":\"screen\"},\"id\":\"c57cbd72-8d38-472a-af99-1da473e45bd8\",\"type\":\"BoxAnnotation\"},{\"attributes\":{\"plot\":{\"id\":\"849e280a-daed-4aee-8d73-df1d784a659e\",\"subtype\":\"Figure\",\"type\":\"Plot\"}},\"id\":\"6bcb07a5-58cc-4ea4-9570-39c0ef116781\",\"type\":\"HelpTool\"},{\"attributes\":{},\"id\":\"a19ee180-7585-4df7-a96b-8dfb14c77a24\",\"type\":\"BasicTicker\"},{\"attributes\":{\"callback\":null},\"id\":\"7cee0245-d7d0-43b3-ab83-202b1fb29057\",\"type\":\"DataRange1d\"}],\"root_ids\":[\"d1e9a4f8-02eb-4ba4-969b-4aadc7c02a8a\",\"4683ed72-de92-4529-890f-6b41e65d0a39\",\"7395e6c1-7a42-41b8-b6e4-5b4a329ef94a\",\"849e280a-daed-4aee-8d73-df1d784a659e\"]},\"title\":\"Bokeh Application\",\"version\":\"0.11.1\"}};\n",
       "            var render_items = [{\"docid\":\"fe6813fe-6789-43f4-83ed-7bc7b1f32170\",\"elementid\":\"fa68ce26-dea3-4af4-89f5-f45cab7a6a9f\",\"modelid\":\"849e280a-daed-4aee-8d73-df1d784a659e\",\"notebook_comms_target\":\"90e2d5b5-7b1d-4763-a06e-187fa821a36b\"}];\n",
       "            \n",
       "            Bokeh.embed.embed_items(docs_json, render_items);\n",
       "        });\n",
       "      },\n",
       "      function(Bokeh) {\n",
       "      }\n",
       "    ];\n",
       "  \n",
       "    function run_inline_js() {\n",
       "      for (var i = 0; i < inline_js.length; i++) {\n",
       "        inline_js[i](window.Bokeh);\n",
       "      }\n",
       "    }\n",
       "  \n",
       "    if (window._bokeh_is_loading === 0) {\n",
       "      console.log(\"Bokeh: BokehJS loaded, going straight to plotting\");\n",
       "      run_inline_js();\n",
       "    } else {\n",
       "      load_libs(js_urls, function() {\n",
       "        console.log(\"Bokeh: BokehJS plotting callback run at\", now());\n",
       "        run_inline_js();\n",
       "      });\n",
       "    }\n",
       "  }(this));\n",
       "</script>"
      ]
     },
     "metadata": {},
     "output_type": "display_data"
    },
    {
     "data": {
      "text/html": [
       "<p><code>&lt;Bokeh Notebook handle for <strong>In[8]</strong>&gt;</code></p>"
      ],
      "text/plain": [
       "<bokeh.io._CommsHandle at 0x10cff8198>"
      ]
     },
     "execution_count": 8,
     "metadata": {},
     "output_type": "execute_result"
    }
   ],
   "source": [
    "from __future__ import division\n",
    "import numpy as np\n",
    "\n",
    "# set up some data\n",
    "N = 20\n",
    "img = np.empty((N,N), dtype=np.uint32)\n",
    "view = img.view(dtype=np.uint8).reshape((N, N, 4))\n",
    "for i in range(N):\n",
    "    for j in range(N):\n",
    "        view[i, j, 0] = int(i/N*255) # red\n",
    "        view[i, j, 1] = 158          # green\n",
    "        view[i, j, 2] = int(j/N*255) # blue\n",
    "        view[i, j, 3] = 255          # alpha\n",
    "        \n",
    "# create a new plot (with a fixed range) using figure\n",
    "p = figure(x_range=[0,10], y_range=[0,10])\n",
    "\n",
    "# add an RGBA image renderer\n",
    "p.image_rgba(image=[img], x=[0], y=[0], dw=[10], dh=[10])\n",
    "\n",
    "show(p) # show the results"
   ]
  },
  {
   "cell_type": "markdown",
   "metadata": {},
   "source": [
    "# Other Kinds of Glyphs\n",
    "\n",
    "Bokeh supports many other kinds of glyphs. You can click on the User Guide links below to see how to create plots with these glyphs using the [`bokeh.plotting`](http://bokeh.pydata.org/en/latest/docs/user_guide/plotting.html) interface.\n",
    "\n",
    "* [Rectangles and Ovals](http://bokeh.pydata.org/en/latest/docs/user_guide/plotting.html#rectangles-and-ovals)\n",
    "* [Segments and Rays](http://bokeh.pydata.org/en/latest/docs/user_guide/plotting.html#segments-and-rays)\n",
    "* [Wedges and Arcs](http://bokeh.pydata.org/en/latest/docs/user_guide/plotting.html#wedges-and-arcs)\n",
    "* [Specialized Curves](http://bokeh.pydata.org/en/latest/docs/user_guide/plotting.html#specialized-curves)\n"
   ]
  },
  {
   "cell_type": "code",
   "execution_count": 9,
   "metadata": {
    "collapsed": true
   },
   "outputs": [],
   "source": [
    "# EXERCISE: Plot some of the other glyph types, following the examples in the User Guide. \n",
    "\n"
   ]
  },
  {
   "cell_type": "markdown",
   "metadata": {},
   "source": [
    "# Plots with Multiple Glyphs \n",
    "\n",
    "It is possible to combine more than one glyph on a single figure. You just need to call multiple glyph methods on one figure object:"
   ]
  },
  {
   "cell_type": "code",
   "execution_count": 10,
   "metadata": {
    "collapsed": false
   },
   "outputs": [
    {
     "data": {
      "text/html": [
       "\n",
       "\n",
       "    <div class=\"plotdiv\" id=\"c44790a8-4714-48cc-8cd3-a1167ee0a914\"></div>\n",
       "<script type=\"text/javascript\">\n",
       "  \n",
       "  (function(global) {\n",
       "    function now() {\n",
       "      return new Date();\n",
       "    }\n",
       "  \n",
       "    if (typeof (window._bokeh_onload_callbacks) === \"undefined\") {\n",
       "      window._bokeh_onload_callbacks = [];\n",
       "    }\n",
       "  \n",
       "    function run_callbacks() {\n",
       "      window._bokeh_onload_callbacks.forEach(function(callback) { callback() });\n",
       "      delete window._bokeh_onload_callbacks\n",
       "      console.info(\"Bokeh: all callbacks have finished\");\n",
       "    }\n",
       "  \n",
       "    function load_libs(js_urls, callback) {\n",
       "      window._bokeh_onload_callbacks.push(callback);\n",
       "      if (window._bokeh_is_loading > 0) {\n",
       "        console.log(\"Bokeh: BokehJS is being loaded, scheduling callback at\", now());\n",
       "        return null;\n",
       "      }\n",
       "      if (js_urls == null || js_urls.length === 0) {\n",
       "        run_callbacks();\n",
       "        return null;\n",
       "      }\n",
       "      console.log(\"Bokeh: BokehJS not loaded, scheduling load and callback at\", now());\n",
       "      window._bokeh_is_loading = js_urls.length;\n",
       "      for (var i = 0; i < js_urls.length; i++) {\n",
       "        var url = js_urls[i];\n",
       "        var s = document.createElement('script');\n",
       "        s.src = url;\n",
       "        s.async = false;\n",
       "        s.onreadystatechange = s.onload = function() {\n",
       "          window._bokeh_is_loading--;\n",
       "          if (window._bokeh_is_loading === 0) {\n",
       "            console.log(\"Bokeh: all BokehJS libraries loaded\");\n",
       "            run_callbacks()\n",
       "          }\n",
       "        };\n",
       "        s.onerror = function() {\n",
       "          console.warn(\"failed to load library \" + url);\n",
       "        };\n",
       "        console.log(\"Bokeh: injecting script tag for BokehJS library: \", url);\n",
       "        document.getElementsByTagName(\"head\")[0].appendChild(s);\n",
       "      }\n",
       "    };var element = document.getElementById(\"c44790a8-4714-48cc-8cd3-a1167ee0a914\");\n",
       "    if (element == null) {\n",
       "      console.log(\"Bokeh: ERROR: autoload.js configured with elementid 'c44790a8-4714-48cc-8cd3-a1167ee0a914' but no matching script tag was found. \")\n",
       "      return false;\n",
       "    }\n",
       "  \n",
       "    var js_urls = [];\n",
       "  \n",
       "    var inline_js = [\n",
       "      function(Bokeh) {\n",
       "        Bokeh.$(function() {\n",
       "            var docs_json = {\"c9fa7535-5e65-4dc5-890b-7aea5d270f97\":{\"roots\":{\"references\":[{\"attributes\":{\"below\":[{\"id\":\"bd6366b9-741f-48cc-a8d1-71026339de62\",\"type\":\"LinearAxis\"}],\"left\":[{\"id\":\"20dc5fb7-213e-4b88-b86d-08159699c300\",\"type\":\"LinearAxis\"}],\"plot_height\":400,\"plot_width\":400,\"renderers\":[{\"id\":\"bd6366b9-741f-48cc-a8d1-71026339de62\",\"type\":\"LinearAxis\"},{\"id\":\"d1bef982-c76c-4cd4-85a6-ab1f968f96ce\",\"type\":\"Grid\"},{\"id\":\"20dc5fb7-213e-4b88-b86d-08159699c300\",\"type\":\"LinearAxis\"},{\"id\":\"e6591238-c798-488a-9fdb-67fe5270c249\",\"type\":\"Grid\"},{\"id\":\"b88c41cf-156f-4b81-bcc7-6d4a6cc35417\",\"type\":\"BoxAnnotation\"},{\"id\":\"daa63100-d82e-4b64-b148-b530b2568c4d\",\"type\":\"GlyphRenderer\"}],\"title\":\"My Line Plot\",\"tool_events\":{\"id\":\"77c813af-e713-44e4-8f8d-49580b7686d8\",\"type\":\"ToolEvents\"},\"tools\":[{\"id\":\"6b5fef9a-72d4-47e2-8520-85c4365153d2\",\"type\":\"PanTool\"},{\"id\":\"2dd45272-6172-4a78-ae68-6fbaf024856f\",\"type\":\"WheelZoomTool\"},{\"id\":\"45114ed1-8349-4819-be29-ac278ef9bdfc\",\"type\":\"BoxZoomTool\"},{\"id\":\"66053637-f100-4ba5-bacb-8eaed1f70c7a\",\"type\":\"PreviewSaveTool\"},{\"id\":\"cce4a937-0c8f-45bc-9a6d-04e041c6f4d2\",\"type\":\"ResizeTool\"},{\"id\":\"f84cffed-e6fc-41d0-bea5-5115ea468e72\",\"type\":\"ResetTool\"},{\"id\":\"a1c3e30b-4582-4030-8c0d-a4cafce48a7e\",\"type\":\"HelpTool\"}],\"x_range\":{\"id\":\"7cee0245-d7d0-43b3-ab83-202b1fb29057\",\"type\":\"DataRange1d\"},\"y_range\":{\"id\":\"d5fefaad-e3d6-4c23-8236-647c8d1a6821\",\"type\":\"DataRange1d\"}},\"id\":\"7395e6c1-7a42-41b8-b6e4-5b4a329ef94a\",\"subtype\":\"Figure\",\"type\":\"Plot\"},{\"attributes\":{\"plot\":{\"id\":\"7157f27c-11fc-437f-aba3-7c84b6db1f14\",\"subtype\":\"Figure\",\"type\":\"Plot\"},\"ticker\":{\"id\":\"52c0b4e4-a9a2-43bd-b551-142c2a664733\",\"type\":\"BasicTicker\"}},\"id\":\"9890f246-435b-4b43-8c16-3a39484aa375\",\"type\":\"Grid\"},{\"attributes\":{},\"id\":\"f6d54d9d-4f87-4f95-8e0b-b72035e27d2f\",\"type\":\"ToolEvents\"},{\"attributes\":{\"below\":[{\"id\":\"a108a2bf-2f29-4410-a054-1dad3504852e\",\"type\":\"LinearAxis\"}],\"left\":[{\"id\":\"48562ddc-29f8-4acb-af1f-ed35d2954dfa\",\"type\":\"LinearAxis\"}],\"plot_height\":400,\"plot_width\":400,\"renderers\":[{\"id\":\"a108a2bf-2f29-4410-a054-1dad3504852e\",\"type\":\"LinearAxis\"},{\"id\":\"1c529146-0866-43c7-a813-05a532299d5e\",\"type\":\"Grid\"},{\"id\":\"48562ddc-29f8-4acb-af1f-ed35d2954dfa\",\"type\":\"LinearAxis\"},{\"id\":\"d282c17c-459c-4b58-8832-24902bd26cfb\",\"type\":\"Grid\"},{\"id\":\"4617a28b-3ac9-4f43-bc1c-a52369339c58\",\"type\":\"BoxAnnotation\"},{\"id\":\"e3275840-bc4d-4515-9048-f2d6397ad50b\",\"type\":\"GlyphRenderer\"}],\"tool_events\":{\"id\":\"63ad6d9a-4e47-46db-bf26-17aa9925b401\",\"type\":\"ToolEvents\"},\"tools\":[{\"id\":\"f9118000-eff3-4a15-a27d-cc50d1cc6824\",\"type\":\"PanTool\"},{\"id\":\"ebfa8396-8b77-4038-bc5b-4977b07dc528\",\"type\":\"WheelZoomTool\"},{\"id\":\"5ed58fc5-5385-412c-90a7-3869be3f1f65\",\"type\":\"BoxZoomTool\"},{\"id\":\"f192a9f5-9a53-4025-be80-f04ab7adb1ac\",\"type\":\"PreviewSaveTool\"},{\"id\":\"81360e3d-55b6-4455-8532-92d7ad04f94b\",\"type\":\"ResizeTool\"},{\"id\":\"170d859c-dfa2-40ea-b05a-c3055e87f524\",\"type\":\"ResetTool\"},{\"id\":\"88cefeec-799e-4937-9710-6e4c6fdd8b06\",\"type\":\"HelpTool\"}],\"x_range\":{\"id\":\"ea80e758-436a-4c81-a181-b6c6a583bd29\",\"type\":\"DataRange1d\"},\"y_range\":{\"id\":\"0b702811-362c-47dd-86e7-14966f9421f6\",\"type\":\"DataRange1d\"}},\"id\":\"4683ed72-de92-4529-890f-6b41e65d0a39\",\"subtype\":\"Figure\",\"type\":\"Plot\"},{\"attributes\":{},\"id\":\"bbcf32c9-d903-4342-ad16-d39ae00d24bd\",\"type\":\"BasicTicker\"},{\"attributes\":{\"plot\":{\"id\":\"4683ed72-de92-4529-890f-6b41e65d0a39\",\"subtype\":\"Figure\",\"type\":\"Plot\"}},\"id\":\"f192a9f5-9a53-4025-be80-f04ab7adb1ac\",\"type\":\"PreviewSaveTool\"},{\"attributes\":{\"plot\":{\"id\":\"d1e9a4f8-02eb-4ba4-969b-4aadc7c02a8a\",\"subtype\":\"Figure\",\"type\":\"Plot\"}},\"id\":\"f3f12abf-b96b-498b-951d-1616ce2ae633\",\"type\":\"PreviewSaveTool\"},{\"attributes\":{},\"id\":\"9540dbad-f94c-4d02-b445-40d2cd00e0dd\",\"type\":\"BasicTickFormatter\"},{\"attributes\":{\"plot\":{\"id\":\"7157f27c-11fc-437f-aba3-7c84b6db1f14\",\"subtype\":\"Figure\",\"type\":\"Plot\"}},\"id\":\"c6be103e-57c3-46bb-96b1-df44a454a2e4\",\"type\":\"ResetTool\"},{\"attributes\":{\"formatter\":{\"id\":\"119aab8c-4936-46be-9eb1-50ba743ba8b8\",\"type\":\"BasicTickFormatter\"},\"plot\":{\"id\":\"849e280a-daed-4aee-8d73-df1d784a659e\",\"subtype\":\"Figure\",\"type\":\"Plot\"},\"ticker\":{\"id\":\"c23a61b6-061b-4e5d-b6bf-45311111e1ea\",\"type\":\"BasicTicker\"}},\"id\":\"dc05d5a7-b370-4a3e-97b2-60d7aa556035\",\"type\":\"LinearAxis\"},{\"attributes\":{},\"id\":\"44685515-c9b8-4429-a726-7aecfdb46d9e\",\"type\":\"BasicTicker\"},{\"attributes\":{\"plot\":{\"id\":\"849e280a-daed-4aee-8d73-df1d784a659e\",\"subtype\":\"Figure\",\"type\":\"Plot\"}},\"id\":\"242b0fc6-5882-4793-bfff-abe419d1dc4d\",\"type\":\"ResizeTool\"},{\"attributes\":{},\"id\":\"7dc75fd6-7759-4569-b332-5074a6294e02\",\"type\":\"BasicTickFormatter\"},{\"attributes\":{\"line_color\":{\"value\":\"#1f77b4\"},\"line_width\":{\"value\":2},\"x\":{\"field\":\"x\"},\"y\":{\"field\":\"y\"}},\"id\":\"b3739b16-5e67-4efc-8a08-e12bd669bfb1\",\"type\":\"Line\"},{\"attributes\":{\"plot\":{\"id\":\"7157f27c-11fc-437f-aba3-7c84b6db1f14\",\"subtype\":\"Figure\",\"type\":\"Plot\"}},\"id\":\"49ec6c39-891c-4168-aba2-c9f1ea79127e\",\"type\":\"WheelZoomTool\"},{\"attributes\":{\"formatter\":{\"id\":\"66c88396-390d-40ff-b26b-cbcea5ce25ad\",\"type\":\"BasicTickFormatter\"},\"plot\":{\"id\":\"4683ed72-de92-4529-890f-6b41e65d0a39\",\"subtype\":\"Figure\",\"type\":\"Plot\"},\"ticker\":{\"id\":\"bbcf32c9-d903-4342-ad16-d39ae00d24bd\",\"type\":\"BasicTicker\"}},\"id\":\"48562ddc-29f8-4acb-af1f-ed35d2954dfa\",\"type\":\"LinearAxis\"},{\"attributes\":{\"plot\":{\"id\":\"849e280a-daed-4aee-8d73-df1d784a659e\",\"subtype\":\"Figure\",\"type\":\"Plot\"}},\"id\":\"d012125c-b0e3-422d-8a59-b51282787e74\",\"type\":\"PreviewSaveTool\"},{\"attributes\":{\"data_source\":{\"id\":\"3a7260b5-7a8b-428e-b53e-c87c7f01afaf\",\"type\":\"ColumnDataSource\"},\"glyph\":{\"id\":\"8a27e804-e3ed-4284-bd17-030c71525745\",\"type\":\"ImageRGBA\"},\"hover_glyph\":null,\"nonselection_glyph\":{\"id\":\"2b7502ab-6b18-4c42-b90e-6ec33cc378f1\",\"type\":\"ImageRGBA\"},\"selection_glyph\":null},\"id\":\"02acd20b-7c25-4f04-919b-81b988e8e350\",\"type\":\"GlyphRenderer\"},{\"attributes\":{\"callback\":null},\"id\":\"ea80e758-436a-4c81-a181-b6c6a583bd29\",\"type\":\"DataRange1d\"},{\"attributes\":{\"plot\":{\"id\":\"4683ed72-de92-4529-890f-6b41e65d0a39\",\"subtype\":\"Figure\",\"type\":\"Plot\"}},\"id\":\"f9118000-eff3-4a15-a27d-cc50d1cc6824\",\"type\":\"PanTool\"},{\"attributes\":{\"plot\":{\"id\":\"d1e9a4f8-02eb-4ba4-969b-4aadc7c02a8a\",\"subtype\":\"Figure\",\"type\":\"Plot\"},\"ticker\":{\"id\":\"a19ee180-7585-4df7-a96b-8dfb14c77a24\",\"type\":\"BasicTicker\"}},\"id\":\"da55123e-cc3b-4f6d-880d-edcfde58cea3\",\"type\":\"Grid\"},{\"attributes\":{},\"id\":\"5f1c2ad9-8ee2-41ca-98d1-8ccee6967dcb\",\"type\":\"BasicTickFormatter\"},{\"attributes\":{\"bottom_units\":\"screen\",\"fill_alpha\":{\"value\":0.5},\"fill_color\":{\"value\":\"lightgrey\"},\"left_units\":\"screen\",\"level\":\"overlay\",\"line_alpha\":{\"value\":1.0},\"line_color\":{\"value\":\"black\"},\"line_dash\":[4,4],\"line_width\":{\"value\":2},\"plot\":null,\"render_mode\":\"css\",\"right_units\":\"screen\",\"top_units\":\"screen\"},\"id\":\"31efc230-1cf5-46b0-89a2-fd103049b5dd\",\"type\":\"BoxAnnotation\"},{\"attributes\":{\"formatter\":{\"id\":\"a1e0a318-db4d-441b-9a2c-f4d524f4ed52\",\"type\":\"BasicTickFormatter\"},\"plot\":{\"id\":\"7395e6c1-7a42-41b8-b6e4-5b4a329ef94a\",\"subtype\":\"Figure\",\"type\":\"Plot\"},\"ticker\":{\"id\":\"fc1441ca-adba-464d-881e-1d7f82b14c98\",\"type\":\"BasicTicker\"}},\"id\":\"bd6366b9-741f-48cc-a8d1-71026339de62\",\"type\":\"LinearAxis\"},{\"attributes\":{\"callback\":null},\"id\":\"1db6e218-ae52-40cf-8128-747fb851e2aa\",\"type\":\"DataRange1d\"},{\"attributes\":{\"overlay\":{\"id\":\"c57cbd72-8d38-472a-af99-1da473e45bd8\",\"type\":\"BoxAnnotation\"},\"plot\":{\"id\":\"849e280a-daed-4aee-8d73-df1d784a659e\",\"subtype\":\"Figure\",\"type\":\"Plot\"}},\"id\":\"86de0849-3434-404b-89ca-b64615e260b7\",\"type\":\"BoxZoomTool\"},{\"attributes\":{\"plot\":{\"id\":\"4683ed72-de92-4529-890f-6b41e65d0a39\",\"subtype\":\"Figure\",\"type\":\"Plot\"}},\"id\":\"ebfa8396-8b77-4038-bc5b-4977b07dc528\",\"type\":\"WheelZoomTool\"},{\"attributes\":{\"callback\":null,\"column_names\":[\"y\",\"x\",\"size\"],\"data\":{\"size\":[10,15,20,25,30],\"x\":[1,2,3,4,5],\"y\":[6,7,2,4,5]}},\"id\":\"2681bbf1-f024-4a2b-847e-ceb0260ee2ab\",\"type\":\"ColumnDataSource\"},{\"attributes\":{\"callback\":null},\"id\":\"0c3f799c-9fe4-4b26-ac5b-ceabe03a2ff1\",\"type\":\"DataRange1d\"},{\"attributes\":{\"plot\":{\"id\":\"7157f27c-11fc-437f-aba3-7c84b6db1f14\",\"subtype\":\"Figure\",\"type\":\"Plot\"}},\"id\":\"b46cabc0-e074-43c2-acec-2665fe838943\",\"type\":\"PanTool\"},{\"attributes\":{\"callback\":null,\"end\":10},\"id\":\"2ccbf59d-172b-4d9f-9e67-6129ea776b9d\",\"type\":\"Range1d\"},{\"attributes\":{\"plot\":{\"id\":\"849e280a-daed-4aee-8d73-df1d784a659e\",\"subtype\":\"Figure\",\"type\":\"Plot\"}},\"id\":\"e31efd18-0ee2-4f73-b53e-881159b0d904\",\"type\":\"PanTool\"},{\"attributes\":{\"dimension\":1,\"plot\":{\"id\":\"d1e9a4f8-02eb-4ba4-969b-4aadc7c02a8a\",\"subtype\":\"Figure\",\"type\":\"Plot\"},\"ticker\":{\"id\":\"44685515-c9b8-4429-a726-7aecfdb46d9e\",\"type\":\"BasicTicker\"}},\"id\":\"2544b297-de76-4dff-8aaf-bf73969f7453\",\"type\":\"Grid\"},{\"attributes\":{\"formatter\":{\"id\":\"de4a030a-c2c8-4dbf-b760-d682095c6533\",\"type\":\"BasicTickFormatter\"},\"plot\":{\"id\":\"7395e6c1-7a42-41b8-b6e4-5b4a329ef94a\",\"subtype\":\"Figure\",\"type\":\"Plot\"},\"ticker\":{\"id\":\"b7e25b94-6f81-4a1b-909b-2d3d436b4f2c\",\"type\":\"BasicTicker\"}},\"id\":\"20dc5fb7-213e-4b88-b86d-08159699c300\",\"type\":\"LinearAxis\"},{\"attributes\":{\"below\":[{\"id\":\"9a3e5262-5efa-4676-aa65-94a7f98276d8\",\"type\":\"LinearAxis\"}],\"left\":[{\"id\":\"6a353706-c8f2-424d-ab37-a9a62f768b99\",\"type\":\"LinearAxis\"}],\"plot_height\":400,\"plot_width\":400,\"renderers\":[{\"id\":\"9a3e5262-5efa-4676-aa65-94a7f98276d8\",\"type\":\"LinearAxis\"},{\"id\":\"da55123e-cc3b-4f6d-880d-edcfde58cea3\",\"type\":\"Grid\"},{\"id\":\"6a353706-c8f2-424d-ab37-a9a62f768b99\",\"type\":\"LinearAxis\"},{\"id\":\"2544b297-de76-4dff-8aaf-bf73969f7453\",\"type\":\"Grid\"},{\"id\":\"31efc230-1cf5-46b0-89a2-fd103049b5dd\",\"type\":\"BoxAnnotation\"},{\"id\":\"c64176da-336e-4614-9a3a-7e0f4e30e688\",\"type\":\"GlyphRenderer\"}],\"tool_events\":{\"id\":\"0eada2fc-6772-4b65-b85d-e3658d6a8d6f\",\"type\":\"ToolEvents\"},\"tools\":[{\"id\":\"d0b44c9d-075b-4bb1-83d8-c365c87839f0\",\"type\":\"PanTool\"},{\"id\":\"4d88bb88-58ce-43b8-ad04-dd6a92d356d6\",\"type\":\"WheelZoomTool\"},{\"id\":\"e3b3d5b9-25b1-496f-82c8-452275db87e9\",\"type\":\"BoxZoomTool\"},{\"id\":\"f3f12abf-b96b-498b-951d-1616ce2ae633\",\"type\":\"PreviewSaveTool\"},{\"id\":\"abcf5b45-e912-402b-be94-538e9157afec\",\"type\":\"ResizeTool\"},{\"id\":\"b2c94bd0-eb4a-47d6-ac36-3e9dedaff8f3\",\"type\":\"ResetTool\"},{\"id\":\"b06c2515-a34e-48c2-88a0-628a04a4e627\",\"type\":\"HelpTool\"}],\"x_range\":{\"id\":\"92cecd4b-10a2-49a2-a37d-e2c7b5a02078\",\"type\":\"DataRange1d\"},\"y_range\":{\"id\":\"1db6e218-ae52-40cf-8128-747fb851e2aa\",\"type\":\"DataRange1d\"}},\"id\":\"d1e9a4f8-02eb-4ba4-969b-4aadc7c02a8a\",\"subtype\":\"Figure\",\"type\":\"Plot\"},{\"attributes\":{\"callback\":null,\"column_names\":[\"y\",\"x\"],\"data\":{\"x\":[1,2,3,4,5],\"y\":[6,7,2,4,5]}},\"id\":\"62ea0c3f-a95a-4d5e-9906-4904fb9fc805\",\"type\":\"ColumnDataSource\"},{\"attributes\":{},\"id\":\"8735cb77-f0cf-4c45-b9b5-b4659e6b426d\",\"type\":\"BasicTicker\"},{\"attributes\":{\"line_alpha\":{\"value\":0.1},\"line_color\":{\"value\":\"#1f77b4\"},\"line_width\":{\"value\":2},\"x\":{\"field\":\"x\"},\"y\":{\"field\":\"y\"}},\"id\":\"9401fe5a-ff48-41f2-8138-f8887fbf806a\",\"type\":\"Line\"},{\"attributes\":{\"fill_alpha\":{\"value\":0.5},\"fill_color\":{\"value\":\"orange\"},\"line_color\":{\"value\":\"navy\"},\"size\":{\"units\":\"screen\",\"value\":15},\"x\":{\"field\":\"x\"},\"y\":{\"field\":\"y\"}},\"id\":\"1d7304d8-c442-490d-b107-7359f5f32016\",\"type\":\"Circle\"},{\"attributes\":{\"plot\":{\"id\":\"d1e9a4f8-02eb-4ba4-969b-4aadc7c02a8a\",\"subtype\":\"Figure\",\"type\":\"Plot\"}},\"id\":\"d0b44c9d-075b-4bb1-83d8-c365c87839f0\",\"type\":\"PanTool\"},{\"attributes\":{\"plot\":{\"id\":\"849e280a-daed-4aee-8d73-df1d784a659e\",\"subtype\":\"Figure\",\"type\":\"Plot\"}},\"id\":\"a200832d-2e3f-4f61-abfb-b827f1982515\",\"type\":\"WheelZoomTool\"},{\"attributes\":{},\"id\":\"66c88396-390d-40ff-b26b-cbcea5ce25ad\",\"type\":\"BasicTickFormatter\"},{\"attributes\":{\"fill_alpha\":{\"value\":0.6},\"fill_color\":{\"value\":\"firebrick\"},\"line_alpha\":{\"value\":0.6},\"line_color\":{\"value\":\"firebrick\"},\"size\":{\"field\":\"size\",\"units\":\"screen\"},\"x\":{\"field\":\"x\"},\"y\":{\"field\":\"y\"}},\"id\":\"66af364c-b0ea-4f2e-9736-4faf6b619f80\",\"type\":\"Square\"},{\"attributes\":{\"bottom_units\":\"screen\",\"fill_alpha\":{\"value\":0.5},\"fill_color\":{\"value\":\"lightgrey\"},\"left_units\":\"screen\",\"level\":\"overlay\",\"line_alpha\":{\"value\":1.0},\"line_color\":{\"value\":\"black\"},\"line_dash\":[4,4],\"line_width\":{\"value\":2},\"plot\":null,\"render_mode\":\"css\",\"right_units\":\"screen\",\"top_units\":\"screen\"},\"id\":\"96635a55-9a73-4e72-8e12-23b124683034\",\"type\":\"BoxAnnotation\"},{\"attributes\":{\"formatter\":{\"id\":\"9540dbad-f94c-4d02-b445-40d2cd00e0dd\",\"type\":\"BasicTickFormatter\"},\"plot\":{\"id\":\"849e280a-daed-4aee-8d73-df1d784a659e\",\"subtype\":\"Figure\",\"type\":\"Plot\"},\"ticker\":{\"id\":\"8735cb77-f0cf-4c45-b9b5-b4659e6b426d\",\"type\":\"BasicTicker\"}},\"id\":\"ada34d9f-03a0-4238-840a-c4caba06658a\",\"type\":\"LinearAxis\"},{\"attributes\":{\"plot\":{\"id\":\"7395e6c1-7a42-41b8-b6e4-5b4a329ef94a\",\"subtype\":\"Figure\",\"type\":\"Plot\"}},\"id\":\"f84cffed-e6fc-41d0-bea5-5115ea468e72\",\"type\":\"ResetTool\"},{\"attributes\":{\"callback\":null,\"column_names\":[\"image\",\"dh\",\"dw\",\"y\",\"x\"],\"data\":{\"dh\":[10],\"dw\":[10],\"image\":[[[4278230528,4279016960,4279868928,4280720896,4281572864,4282359296,4283211264,4284063232,4284915200,4285701632,4286553600,4287405568,4288257536,4289043968,4289895936,4290747904,4291599872,4292386304,4293238272,4294090240],[4278230540,4279016972,4279868940,4280720908,4281572876,4282359308,4283211276,4284063244,4284915212,4285701644,4286553612,4287405580,4288257548,4289043980,4289895948,4290747916,4291599884,4292386316,4293238284,4294090252],[4278230553,4279016985,4279868953,4280720921,4281572889,4282359321,4283211289,4284063257,4284915225,4285701657,4286553625,4287405593,4288257561,4289043993,4289895961,4290747929,4291599897,4292386329,4293238297,4294090265],[4278230566,4279016998,4279868966,4280720934,4281572902,4282359334,4283211302,4284063270,4284915238,4285701670,4286553638,4287405606,4288257574,4289044006,4289895974,4290747942,4291599910,4292386342,4293238310,4294090278],[4278230579,4279017011,4279868979,4280720947,4281572915,4282359347,4283211315,4284063283,4284915251,4285701683,4286553651,4287405619,4288257587,4289044019,4289895987,4290747955,4291599923,4292386355,4293238323,4294090291],[4278230591,4279017023,4279868991,4280720959,4281572927,4282359359,4283211327,4284063295,4284915263,4285701695,4286553663,4287405631,4288257599,4289044031,4289895999,4290747967,4291599935,4292386367,4293238335,4294090303],[4278230604,4279017036,4279869004,4280720972,4281572940,4282359372,4283211340,4284063308,4284915276,4285701708,4286553676,4287405644,4288257612,4289044044,4289896012,4290747980,4291599948,4292386380,4293238348,4294090316],[4278230617,4279017049,4279869017,4280720985,4281572953,4282359385,4283211353,4284063321,4284915289,4285701721,4286553689,4287405657,4288257625,4289044057,4289896025,4290747993,4291599961,4292386393,4293238361,4294090329],[4278230630,4279017062,4279869030,4280720998,4281572966,4282359398,4283211366,4284063334,4284915302,4285701734,4286553702,4287405670,4288257638,4289044070,4289896038,4290748006,4291599974,4292386406,4293238374,4294090342],[4278230642,4279017074,4279869042,4280721010,4281572978,4282359410,4283211378,4284063346,4284915314,4285701746,4286553714,4287405682,4288257650,4289044082,4289896050,4290748018,4291599986,4292386418,4293238386,4294090354],[4278230655,4279017087,4279869055,4280721023,4281572991,4282359423,4283211391,4284063359,4284915327,4285701759,4286553727,4287405695,4288257663,4289044095,4289896063,4290748031,4291599999,4292386431,4293238399,4294090367],[4278230668,4279017100,4279869068,4280721036,4281573004,4282359436,4283211404,4284063372,4284915340,4285701772,4286553740,4287405708,4288257676,4289044108,4289896076,4290748044,4291600012,4292386444,4293238412,4294090380],[4278230681,4279017113,4279869081,4280721049,4281573017,4282359449,4283211417,4284063385,4284915353,4285701785,4286553753,4287405721,4288257689,4289044121,4289896089,4290748057,4291600025,4292386457,4293238425,4294090393],[4278230693,4279017125,4279869093,4280721061,4281573029,4282359461,4283211429,4284063397,4284915365,4285701797,4286553765,4287405733,4288257701,4289044133,4289896101,4290748069,4291600037,4292386469,4293238437,4294090405],[4278230706,4279017138,4279869106,4280721074,4281573042,4282359474,4283211442,4284063410,4284915378,4285701810,4286553778,4287405746,4288257714,4289044146,4289896114,4290748082,4291600050,4292386482,4293238450,4294090418],[4278230719,4279017151,4279869119,4280721087,4281573055,4282359487,4283211455,4284063423,4284915391,4285701823,4286553791,4287405759,4288257727,4289044159,4289896127,4290748095,4291600063,4292386495,4293238463,4294090431],[4278230732,4279017164,4279869132,4280721100,4281573068,4282359500,4283211468,4284063436,4284915404,4285701836,4286553804,4287405772,4288257740,4289044172,4289896140,4290748108,4291600076,4292386508,4293238476,4294090444],[4278230744,4279017176,4279869144,4280721112,4281573080,4282359512,4283211480,4284063448,4284915416,4285701848,4286553816,4287405784,4288257752,4289044184,4289896152,4290748120,4291600088,4292386520,4293238488,4294090456],[4278230757,4279017189,4279869157,4280721125,4281573093,4282359525,4283211493,4284063461,4284915429,4285701861,4286553829,4287405797,4288257765,4289044197,4289896165,4290748133,4291600101,4292386533,4293238501,4294090469],[4278230770,4279017202,4279869170,4280721138,4281573106,4282359538,4283211506,4284063474,4284915442,4285701874,4286553842,4287405810,4288257778,4289044210,4289896178,4290748146,4291600114,4292386546,4293238514,4294090482]]],\"x\":[0],\"y\":[0]}},\"id\":\"3a7260b5-7a8b-428e-b53e-c87c7f01afaf\",\"type\":\"ColumnDataSource\"},{\"attributes\":{\"fill_alpha\":{\"value\":0.1},\"fill_color\":{\"value\":\"#1f77b4\"},\"line_alpha\":{\"value\":0.1},\"line_color\":{\"value\":\"#1f77b4\"},\"size\":{\"field\":\"size\",\"units\":\"screen\"},\"x\":{\"field\":\"x\"},\"y\":{\"field\":\"y\"}},\"id\":\"da3008a7-203a-480f-a151-a681faca33d9\",\"type\":\"Square\"},{\"attributes\":{\"plot\":{\"id\":\"4683ed72-de92-4529-890f-6b41e65d0a39\",\"subtype\":\"Figure\",\"type\":\"Plot\"}},\"id\":\"81360e3d-55b6-4455-8532-92d7ad04f94b\",\"type\":\"ResizeTool\"},{\"attributes\":{\"below\":[{\"id\":\"dc05d5a7-b370-4a3e-97b2-60d7aa556035\",\"type\":\"LinearAxis\"}],\"left\":[{\"id\":\"ada34d9f-03a0-4238-840a-c4caba06658a\",\"type\":\"LinearAxis\"}],\"renderers\":[{\"id\":\"dc05d5a7-b370-4a3e-97b2-60d7aa556035\",\"type\":\"LinearAxis\"},{\"id\":\"c8706351-d2d9-4889-9e79-75949b75f07a\",\"type\":\"Grid\"},{\"id\":\"ada34d9f-03a0-4238-840a-c4caba06658a\",\"type\":\"LinearAxis\"},{\"id\":\"929e43da-522c-4c1f-bdd5-cd4f062ac54b\",\"type\":\"Grid\"},{\"id\":\"c57cbd72-8d38-472a-af99-1da473e45bd8\",\"type\":\"BoxAnnotation\"},{\"id\":\"02acd20b-7c25-4f04-919b-81b988e8e350\",\"type\":\"GlyphRenderer\"}],\"tool_events\":{\"id\":\"f6d54d9d-4f87-4f95-8e0b-b72035e27d2f\",\"type\":\"ToolEvents\"},\"tools\":[{\"id\":\"e31efd18-0ee2-4f73-b53e-881159b0d904\",\"type\":\"PanTool\"},{\"id\":\"a200832d-2e3f-4f61-abfb-b827f1982515\",\"type\":\"WheelZoomTool\"},{\"id\":\"86de0849-3434-404b-89ca-b64615e260b7\",\"type\":\"BoxZoomTool\"},{\"id\":\"d012125c-b0e3-422d-8a59-b51282787e74\",\"type\":\"PreviewSaveTool\"},{\"id\":\"242b0fc6-5882-4793-bfff-abe419d1dc4d\",\"type\":\"ResizeTool\"},{\"id\":\"c51e1936-4aeb-464a-aeac-c7666c698d9a\",\"type\":\"ResetTool\"},{\"id\":\"6bcb07a5-58cc-4ea4-9570-39c0ef116781\",\"type\":\"HelpTool\"}],\"x_range\":{\"id\":\"5a3ce586-4f77-4982-a946-b2b45c816156\",\"type\":\"Range1d\"},\"y_range\":{\"id\":\"2ccbf59d-172b-4d9f-9e67-6129ea776b9d\",\"type\":\"Range1d\"}},\"id\":\"849e280a-daed-4aee-8d73-df1d784a659e\",\"subtype\":\"Figure\",\"type\":\"Plot\"},{\"attributes\":{\"plot\":{\"id\":\"7157f27c-11fc-437f-aba3-7c84b6db1f14\",\"subtype\":\"Figure\",\"type\":\"Plot\"}},\"id\":\"b729c5bc-13e9-4913-8b6b-a876ca2d982d\",\"type\":\"HelpTool\"},{\"attributes\":{\"overlay\":{\"id\":\"4617a28b-3ac9-4f43-bc1c-a52369339c58\",\"type\":\"BoxAnnotation\"},\"plot\":{\"id\":\"4683ed72-de92-4529-890f-6b41e65d0a39\",\"subtype\":\"Figure\",\"type\":\"Plot\"}},\"id\":\"5ed58fc5-5385-412c-90a7-3869be3f1f65\",\"type\":\"BoxZoomTool\"},{\"attributes\":{\"callback\":null},\"id\":\"6d69f326-cd1e-45e7-962f-921b1f23b485\",\"type\":\"DataRange1d\"},{\"attributes\":{\"overlay\":{\"id\":\"31efc230-1cf5-46b0-89a2-fd103049b5dd\",\"type\":\"BoxAnnotation\"},\"plot\":{\"id\":\"d1e9a4f8-02eb-4ba4-969b-4aadc7c02a8a\",\"subtype\":\"Figure\",\"type\":\"Plot\"}},\"id\":\"e3b3d5b9-25b1-496f-82c8-452275db87e9\",\"type\":\"BoxZoomTool\"},{\"attributes\":{\"callback\":null},\"id\":\"0b702811-362c-47dd-86e7-14966f9421f6\",\"type\":\"DataRange1d\"},{\"attributes\":{\"plot\":{\"id\":\"7157f27c-11fc-437f-aba3-7c84b6db1f14\",\"subtype\":\"Figure\",\"type\":\"Plot\"}},\"id\":\"107e6c3b-4e44-4a77-b203-3e3ef5eb3c91\",\"type\":\"PreviewSaveTool\"},{\"attributes\":{\"dimension\":1,\"plot\":{\"id\":\"7395e6c1-7a42-41b8-b6e4-5b4a329ef94a\",\"subtype\":\"Figure\",\"type\":\"Plot\"},\"ticker\":{\"id\":\"b7e25b94-6f81-4a1b-909b-2d3d436b4f2c\",\"type\":\"BasicTicker\"}},\"id\":\"e6591238-c798-488a-9fdb-67fe5270c249\",\"type\":\"Grid\"},{\"attributes\":{},\"id\":\"77c813af-e713-44e4-8f8d-49580b7686d8\",\"type\":\"ToolEvents\"},{\"attributes\":{},\"id\":\"e787a1f9-ab74-4b8f-925a-ccf43c775c5e\",\"type\":\"ToolEvents\"},{\"attributes\":{},\"id\":\"119aab8c-4936-46be-9eb1-50ba743ba8b8\",\"type\":\"BasicTickFormatter\"},{\"attributes\":{},\"id\":\"de4a030a-c2c8-4dbf-b760-d682095c6533\",\"type\":\"BasicTickFormatter\"},{\"attributes\":{},\"id\":\"63ad6d9a-4e47-46db-bf26-17aa9925b401\",\"type\":\"ToolEvents\"},{\"attributes\":{\"plot\":{\"id\":\"7395e6c1-7a42-41b8-b6e4-5b4a329ef94a\",\"subtype\":\"Figure\",\"type\":\"Plot\"}},\"id\":\"6b5fef9a-72d4-47e2-8520-85c4365153d2\",\"type\":\"PanTool\"},{\"attributes\":{},\"id\":\"a1e0a318-db4d-441b-9a2c-f4d524f4ed52\",\"type\":\"BasicTickFormatter\"},{\"attributes\":{\"formatter\":{\"id\":\"7a89a4b3-b9ed-4a74-be69-c1b33c72c5c4\",\"type\":\"BasicTickFormatter\"},\"plot\":{\"id\":\"4683ed72-de92-4529-890f-6b41e65d0a39\",\"subtype\":\"Figure\",\"type\":\"Plot\"},\"ticker\":{\"id\":\"f5ed0c38-5ef4-481f-b399-8d4b155892d6\",\"type\":\"BasicTicker\"}},\"id\":\"a108a2bf-2f29-4410-a054-1dad3504852e\",\"type\":\"LinearAxis\"},{\"attributes\":{},\"id\":\"0eada2fc-6772-4b65-b85d-e3658d6a8d6f\",\"type\":\"ToolEvents\"},{\"attributes\":{\"plot\":{\"id\":\"4683ed72-de92-4529-890f-6b41e65d0a39\",\"subtype\":\"Figure\",\"type\":\"Plot\"},\"ticker\":{\"id\":\"f5ed0c38-5ef4-481f-b399-8d4b155892d6\",\"type\":\"BasicTicker\"}},\"id\":\"1c529146-0866-43c7-a813-05a532299d5e\",\"type\":\"Grid\"},{\"attributes\":{},\"id\":\"09d1b6a0-305c-4202-a190-ea302b12f41e\",\"type\":\"BasicTickFormatter\"},{\"attributes\":{\"data_source\":{\"id\":\"6e82103c-3261-4605-b455-8f2061199ed9\",\"type\":\"ColumnDataSource\"},\"glyph\":{\"id\":\"5bbfafc9-5a08-4ed2-8aa7-084062403800\",\"type\":\"Line\"},\"hover_glyph\":null,\"nonselection_glyph\":{\"id\":\"9401fe5a-ff48-41f2-8138-f8887fbf806a\",\"type\":\"Line\"},\"selection_glyph\":null},\"id\":\"a3147927-aaf3-4799-b8f8-f7c7b830da68\",\"type\":\"GlyphRenderer\"},{\"attributes\":{},\"id\":\"f5ed0c38-5ef4-481f-b399-8d4b155892d6\",\"type\":\"BasicTicker\"},{\"attributes\":{\"formatter\":{\"id\":\"7dc75fd6-7759-4569-b332-5074a6294e02\",\"type\":\"BasicTickFormatter\"},\"plot\":{\"id\":\"7157f27c-11fc-437f-aba3-7c84b6db1f14\",\"subtype\":\"Figure\",\"type\":\"Plot\"},\"ticker\":{\"id\":\"5783d6a2-b949-4837-8647-c62b5a830d0f\",\"type\":\"BasicTicker\"}},\"id\":\"cfa044e2-6fda-422b-9a07-57aa0f775d00\",\"type\":\"LinearAxis\"},{\"attributes\":{\"dimension\":1,\"plot\":{\"id\":\"4683ed72-de92-4529-890f-6b41e65d0a39\",\"subtype\":\"Figure\",\"type\":\"Plot\"},\"ticker\":{\"id\":\"bbcf32c9-d903-4342-ad16-d39ae00d24bd\",\"type\":\"BasicTicker\"}},\"id\":\"d282c17c-459c-4b58-8832-24902bd26cfb\",\"type\":\"Grid\"},{\"attributes\":{\"callback\":null,\"column_names\":[\"y\",\"x\"],\"data\":{\"x\":[1,2,3,4,5],\"y\":[6,7,8,7,3]}},\"id\":\"a7ce16b2-785d-4ebe-8482-bde00b28ba87\",\"type\":\"ColumnDataSource\"},{\"attributes\":{\"data_source\":{\"id\":\"2681bbf1-f024-4a2b-847e-ceb0260ee2ab\",\"type\":\"ColumnDataSource\"},\"glyph\":{\"id\":\"66af364c-b0ea-4f2e-9736-4faf6b619f80\",\"type\":\"Square\"},\"hover_glyph\":null,\"nonselection_glyph\":{\"id\":\"da3008a7-203a-480f-a151-a681faca33d9\",\"type\":\"Square\"},\"selection_glyph\":null},\"id\":\"e3275840-bc4d-4515-9048-f2d6397ad50b\",\"type\":\"GlyphRenderer\"},{\"attributes\":{\"plot\":{\"id\":\"d1e9a4f8-02eb-4ba4-969b-4aadc7c02a8a\",\"subtype\":\"Figure\",\"type\":\"Plot\"}},\"id\":\"abcf5b45-e912-402b-be94-538e9157afec\",\"type\":\"ResizeTool\"},{\"attributes\":{\"bottom_units\":\"screen\",\"fill_alpha\":{\"value\":0.5},\"fill_color\":{\"value\":\"lightgrey\"},\"left_units\":\"screen\",\"level\":\"overlay\",\"line_alpha\":{\"value\":1.0},\"line_color\":{\"value\":\"black\"},\"line_dash\":[4,4],\"line_width\":{\"value\":2},\"plot\":null,\"render_mode\":\"css\",\"right_units\":\"screen\",\"top_units\":\"screen\"},\"id\":\"4617a28b-3ac9-4f43-bc1c-a52369339c58\",\"type\":\"BoxAnnotation\"},{\"attributes\":{\"data_source\":{\"id\":\"62ea0c3f-a95a-4d5e-9906-4904fb9fc805\",\"type\":\"ColumnDataSource\"},\"glyph\":{\"id\":\"b3739b16-5e67-4efc-8a08-e12bd669bfb1\",\"type\":\"Line\"},\"hover_glyph\":null,\"nonselection_glyph\":{\"id\":\"88e2e5fe-9c0b-465d-9c9d-cc99cacdb7f4\",\"type\":\"Line\"},\"selection_glyph\":null},\"id\":\"daa63100-d82e-4b64-b148-b530b2568c4d\",\"type\":\"GlyphRenderer\"},{\"attributes\":{\"callback\":null,\"end\":10},\"id\":\"5a3ce586-4f77-4982-a946-b2b45c816156\",\"type\":\"Range1d\"},{\"attributes\":{\"dh\":{\"field\":\"dh\",\"units\":\"data\"},\"dw\":{\"field\":\"dw\",\"units\":\"data\"},\"image\":{\"field\":\"image\"},\"x\":{\"field\":\"x\"},\"y\":{\"field\":\"y\"}},\"id\":\"8a27e804-e3ed-4284-bd17-030c71525745\",\"type\":\"ImageRGBA\"},{\"attributes\":{\"plot\":{\"id\":\"849e280a-daed-4aee-8d73-df1d784a659e\",\"subtype\":\"Figure\",\"type\":\"Plot\"}},\"id\":\"c51e1936-4aeb-464a-aeac-c7666c698d9a\",\"type\":\"ResetTool\"},{\"attributes\":{},\"id\":\"7a89a4b3-b9ed-4a74-be69-c1b33c72c5c4\",\"type\":\"BasicTickFormatter\"},{\"attributes\":{\"overlay\":{\"id\":\"b88c41cf-156f-4b81-bcc7-6d4a6cc35417\",\"type\":\"BoxAnnotation\"},\"plot\":{\"id\":\"7395e6c1-7a42-41b8-b6e4-5b4a329ef94a\",\"subtype\":\"Figure\",\"type\":\"Plot\"}},\"id\":\"45114ed1-8349-4819-be29-ac278ef9bdfc\",\"type\":\"BoxZoomTool\"},{\"attributes\":{},\"id\":\"d4b104ef-8758-4b83-9d59-9b4b00ead057\",\"type\":\"BasicTickFormatter\"},{\"attributes\":{\"dh\":{\"field\":\"dh\",\"units\":\"data\"},\"dw\":{\"field\":\"dw\",\"units\":\"data\"},\"image\":{\"field\":\"image\"},\"x\":{\"field\":\"x\"},\"y\":{\"field\":\"y\"}},\"id\":\"2b7502ab-6b18-4c42-b90e-6ec33cc378f1\",\"type\":\"ImageRGBA\"},{\"attributes\":{\"plot\":{\"id\":\"4683ed72-de92-4529-890f-6b41e65d0a39\",\"subtype\":\"Figure\",\"type\":\"Plot\"}},\"id\":\"88cefeec-799e-4937-9710-6e4c6fdd8b06\",\"type\":\"HelpTool\"},{\"attributes\":{\"fill_alpha\":{\"value\":0.1},\"fill_color\":{\"value\":\"#1f77b4\"},\"line_alpha\":{\"value\":0.1},\"line_color\":{\"value\":\"#1f77b4\"},\"size\":{\"units\":\"screen\",\"value\":15},\"x\":{\"field\":\"x\"},\"y\":{\"field\":\"y\"}},\"id\":\"b4ad2e92-b478-48ad-b4b9-f2d023676f78\",\"type\":\"Circle\"},{\"attributes\":{\"line_alpha\":{\"value\":0.1},\"line_color\":{\"value\":\"#1f77b4\"},\"line_width\":{\"value\":2},\"x\":{\"field\":\"x\"},\"y\":{\"field\":\"y\"}},\"id\":\"88e2e5fe-9c0b-465d-9c9d-cc99cacdb7f4\",\"type\":\"Line\"},{\"attributes\":{\"plot\":{\"id\":\"7395e6c1-7a42-41b8-b6e4-5b4a329ef94a\",\"subtype\":\"Figure\",\"type\":\"Plot\"}},\"id\":\"a1c3e30b-4582-4030-8c0d-a4cafce48a7e\",\"type\":\"HelpTool\"},{\"attributes\":{},\"id\":\"c23a61b6-061b-4e5d-b6bf-45311111e1ea\",\"type\":\"BasicTicker\"},{\"attributes\":{\"plot\":{\"id\":\"7395e6c1-7a42-41b8-b6e4-5b4a329ef94a\",\"subtype\":\"Figure\",\"type\":\"Plot\"},\"ticker\":{\"id\":\"fc1441ca-adba-464d-881e-1d7f82b14c98\",\"type\":\"BasicTicker\"}},\"id\":\"d1bef982-c76c-4cd4-85a6-ab1f968f96ce\",\"type\":\"Grid\"},{\"attributes\":{\"data_source\":{\"id\":\"9b72ef34-3f0a-44d5-8d70-e7edfa0ac6f6\",\"type\":\"ColumnDataSource\"},\"glyph\":{\"id\":\"1d7304d8-c442-490d-b107-7359f5f32016\",\"type\":\"Circle\"},\"hover_glyph\":null,\"nonselection_glyph\":{\"id\":\"b4ad2e92-b478-48ad-b4b9-f2d023676f78\",\"type\":\"Circle\"},\"selection_glyph\":null},\"id\":\"c64176da-336e-4614-9a3a-7e0f4e30e688\",\"type\":\"GlyphRenderer\"},{\"attributes\":{\"fill_alpha\":{\"value\":0.1},\"fill_color\":{\"value\":\"#1f77b4\"},\"line_alpha\":{\"value\":0.1},\"line_color\":{\"value\":\"#1f77b4\"},\"size\":{\"units\":\"screen\",\"value\":8},\"x\":{\"field\":\"x\"},\"y\":{\"field\":\"y\"}},\"id\":\"fe279858-c391-48dc-9e60-0fe9dbf515f0\",\"type\":\"Circle\"},{\"attributes\":{\"formatter\":{\"id\":\"5f1c2ad9-8ee2-41ca-98d1-8ccee6967dcb\",\"type\":\"BasicTickFormatter\"},\"plot\":{\"id\":\"d1e9a4f8-02eb-4ba4-969b-4aadc7c02a8a\",\"subtype\":\"Figure\",\"type\":\"Plot\"},\"ticker\":{\"id\":\"44685515-c9b8-4429-a726-7aecfdb46d9e\",\"type\":\"BasicTicker\"}},\"id\":\"6a353706-c8f2-424d-ab37-a9a62f768b99\",\"type\":\"LinearAxis\"},{\"attributes\":{\"plot\":{\"id\":\"d1e9a4f8-02eb-4ba4-969b-4aadc7c02a8a\",\"subtype\":\"Figure\",\"type\":\"Plot\"}},\"id\":\"b06c2515-a34e-48c2-88a0-628a04a4e627\",\"type\":\"HelpTool\"},{\"attributes\":{\"plot\":{\"id\":\"7157f27c-11fc-437f-aba3-7c84b6db1f14\",\"subtype\":\"Figure\",\"type\":\"Plot\"}},\"id\":\"d7e395f0-9477-4dd7-9477-3b71765928f1\",\"type\":\"ResizeTool\"},{\"attributes\":{},\"id\":\"5783d6a2-b949-4837-8647-c62b5a830d0f\",\"type\":\"BasicTicker\"},{\"attributes\":{\"formatter\":{\"id\":\"09d1b6a0-305c-4202-a190-ea302b12f41e\",\"type\":\"BasicTickFormatter\"},\"plot\":{\"id\":\"d1e9a4f8-02eb-4ba4-969b-4aadc7c02a8a\",\"subtype\":\"Figure\",\"type\":\"Plot\"},\"ticker\":{\"id\":\"a19ee180-7585-4df7-a96b-8dfb14c77a24\",\"type\":\"BasicTicker\"}},\"id\":\"9a3e5262-5efa-4676-aa65-94a7f98276d8\",\"type\":\"LinearAxis\"},{\"attributes\":{\"plot\":{\"id\":\"d1e9a4f8-02eb-4ba4-969b-4aadc7c02a8a\",\"subtype\":\"Figure\",\"type\":\"Plot\"}},\"id\":\"b2c94bd0-eb4a-47d6-ac36-3e9dedaff8f3\",\"type\":\"ResetTool\"},{\"attributes\":{},\"id\":\"b7e25b94-6f81-4a1b-909b-2d3d436b4f2c\",\"type\":\"BasicTicker\"},{\"attributes\":{\"callback\":null,\"column_names\":[\"y\",\"x\"],\"data\":{\"x\":[1,2,3,4,5],\"y\":[6,7,2,4,5]}},\"id\":\"9b72ef34-3f0a-44d5-8d70-e7edfa0ac6f6\",\"type\":\"ColumnDataSource\"},{\"attributes\":{\"plot\":{\"id\":\"849e280a-daed-4aee-8d73-df1d784a659e\",\"subtype\":\"Figure\",\"type\":\"Plot\"},\"ticker\":{\"id\":\"c23a61b6-061b-4e5d-b6bf-45311111e1ea\",\"type\":\"BasicTicker\"}},\"id\":\"c8706351-d2d9-4889-9e79-75949b75f07a\",\"type\":\"Grid\"},{\"attributes\":{\"plot\":{\"id\":\"7395e6c1-7a42-41b8-b6e4-5b4a329ef94a\",\"subtype\":\"Figure\",\"type\":\"Plot\"}},\"id\":\"66053637-f100-4ba5-bacb-8eaed1f70c7a\",\"type\":\"PreviewSaveTool\"},{\"attributes\":{\"dimension\":1,\"plot\":{\"id\":\"7157f27c-11fc-437f-aba3-7c84b6db1f14\",\"subtype\":\"Figure\",\"type\":\"Plot\"},\"ticker\":{\"id\":\"5783d6a2-b949-4837-8647-c62b5a830d0f\",\"type\":\"BasicTicker\"}},\"id\":\"33370ff3-2b4e-49be-8732-97801e9b23b8\",\"type\":\"Grid\"},{\"attributes\":{\"fill_color\":{\"value\":\"white\"},\"line_color\":{\"value\":\"#1f77b4\"},\"size\":{\"units\":\"screen\",\"value\":8},\"x\":{\"field\":\"x\"},\"y\":{\"field\":\"y\"}},\"id\":\"70c4c691-1b9c-49ee-ad76-f30854034066\",\"type\":\"Circle\"},{\"attributes\":{\"callback\":null},\"id\":\"92cecd4b-10a2-49a2-a37d-e2c7b5a02078\",\"type\":\"DataRange1d\"},{\"attributes\":{\"plot\":{\"id\":\"7395e6c1-7a42-41b8-b6e4-5b4a329ef94a\",\"subtype\":\"Figure\",\"type\":\"Plot\"}},\"id\":\"2dd45272-6172-4a78-ae68-6fbaf024856f\",\"type\":\"WheelZoomTool\"},{\"attributes\":{\"plot\":{\"id\":\"d1e9a4f8-02eb-4ba4-969b-4aadc7c02a8a\",\"subtype\":\"Figure\",\"type\":\"Plot\"}},\"id\":\"4d88bb88-58ce-43b8-ad04-dd6a92d356d6\",\"type\":\"WheelZoomTool\"},{\"attributes\":{\"line_color\":{\"value\":\"#1f77b4\"},\"line_width\":{\"value\":2},\"x\":{\"field\":\"x\"},\"y\":{\"field\":\"y\"}},\"id\":\"5bbfafc9-5a08-4ed2-8aa7-084062403800\",\"type\":\"Line\"},{\"attributes\":{\"below\":[{\"id\":\"236ede34-fbb0-4bde-89c6-008b4fafab2f\",\"type\":\"LinearAxis\"}],\"left\":[{\"id\":\"cfa044e2-6fda-422b-9a07-57aa0f775d00\",\"type\":\"LinearAxis\"}],\"plot_height\":400,\"plot_width\":400,\"renderers\":[{\"id\":\"236ede34-fbb0-4bde-89c6-008b4fafab2f\",\"type\":\"LinearAxis\"},{\"id\":\"9890f246-435b-4b43-8c16-3a39484aa375\",\"type\":\"Grid\"},{\"id\":\"cfa044e2-6fda-422b-9a07-57aa0f775d00\",\"type\":\"LinearAxis\"},{\"id\":\"33370ff3-2b4e-49be-8732-97801e9b23b8\",\"type\":\"Grid\"},{\"id\":\"96635a55-9a73-4e72-8e12-23b124683034\",\"type\":\"BoxAnnotation\"},{\"id\":\"a3147927-aaf3-4799-b8f8-f7c7b830da68\",\"type\":\"GlyphRenderer\"},{\"id\":\"618da768-265f-469a-92c6-6ecea1a346f6\",\"type\":\"GlyphRenderer\"}],\"tool_events\":{\"id\":\"e787a1f9-ab74-4b8f-925a-ccf43c775c5e\",\"type\":\"ToolEvents\"},\"tools\":[{\"id\":\"b46cabc0-e074-43c2-acec-2665fe838943\",\"type\":\"PanTool\"},{\"id\":\"49ec6c39-891c-4168-aba2-c9f1ea79127e\",\"type\":\"WheelZoomTool\"},{\"id\":\"feff262b-db52-4ccf-896e-6349229b8b3d\",\"type\":\"BoxZoomTool\"},{\"id\":\"107e6c3b-4e44-4a77-b203-3e3ef5eb3c91\",\"type\":\"PreviewSaveTool\"},{\"id\":\"d7e395f0-9477-4dd7-9477-3b71765928f1\",\"type\":\"ResizeTool\"},{\"id\":\"c6be103e-57c3-46bb-96b1-df44a454a2e4\",\"type\":\"ResetTool\"},{\"id\":\"b729c5bc-13e9-4913-8b6b-a876ca2d982d\",\"type\":\"HelpTool\"}],\"x_range\":{\"id\":\"6d69f326-cd1e-45e7-962f-921b1f23b485\",\"type\":\"DataRange1d\"},\"y_range\":{\"id\":\"0c3f799c-9fe4-4b26-ac5b-ceabe03a2ff1\",\"type\":\"DataRange1d\"}},\"id\":\"7157f27c-11fc-437f-aba3-7c84b6db1f14\",\"subtype\":\"Figure\",\"type\":\"Plot\"},{\"attributes\":{\"formatter\":{\"id\":\"d4b104ef-8758-4b83-9d59-9b4b00ead057\",\"type\":\"BasicTickFormatter\"},\"plot\":{\"id\":\"7157f27c-11fc-437f-aba3-7c84b6db1f14\",\"subtype\":\"Figure\",\"type\":\"Plot\"},\"ticker\":{\"id\":\"52c0b4e4-a9a2-43bd-b551-142c2a664733\",\"type\":\"BasicTicker\"}},\"id\":\"236ede34-fbb0-4bde-89c6-008b4fafab2f\",\"type\":\"LinearAxis\"},{\"attributes\":{},\"id\":\"52c0b4e4-a9a2-43bd-b551-142c2a664733\",\"type\":\"BasicTicker\"},{\"attributes\":{},\"id\":\"fc1441ca-adba-464d-881e-1d7f82b14c98\",\"type\":\"BasicTicker\"},{\"attributes\":{\"bottom_units\":\"screen\",\"fill_alpha\":{\"value\":0.5},\"fill_color\":{\"value\":\"lightgrey\"},\"left_units\":\"screen\",\"level\":\"overlay\",\"line_alpha\":{\"value\":1.0},\"line_color\":{\"value\":\"black\"},\"line_dash\":[4,4],\"line_width\":{\"value\":2},\"plot\":null,\"render_mode\":\"css\",\"right_units\":\"screen\",\"top_units\":\"screen\"},\"id\":\"b88c41cf-156f-4b81-bcc7-6d4a6cc35417\",\"type\":\"BoxAnnotation\"},{\"attributes\":{\"callback\":null,\"column_names\":[\"y\",\"x\"],\"data\":{\"x\":[1,2,3,4,5],\"y\":[6,7,8,7,3]}},\"id\":\"6e82103c-3261-4605-b455-8f2061199ed9\",\"type\":\"ColumnDataSource\"},{\"attributes\":{\"callback\":null},\"id\":\"7cee0245-d7d0-43b3-ab83-202b1fb29057\",\"type\":\"DataRange1d\"},{\"attributes\":{\"plot\":{\"id\":\"7395e6c1-7a42-41b8-b6e4-5b4a329ef94a\",\"subtype\":\"Figure\",\"type\":\"Plot\"}},\"id\":\"cce4a937-0c8f-45bc-9a6d-04e041c6f4d2\",\"type\":\"ResizeTool\"},{\"attributes\":{\"plot\":{\"id\":\"4683ed72-de92-4529-890f-6b41e65d0a39\",\"subtype\":\"Figure\",\"type\":\"Plot\"}},\"id\":\"170d859c-dfa2-40ea-b05a-c3055e87f524\",\"type\":\"ResetTool\"},{\"attributes\":{\"bottom_units\":\"screen\",\"fill_alpha\":{\"value\":0.5},\"fill_color\":{\"value\":\"lightgrey\"},\"left_units\":\"screen\",\"level\":\"overlay\",\"line_alpha\":{\"value\":1.0},\"line_color\":{\"value\":\"black\"},\"line_dash\":[4,4],\"line_width\":{\"value\":2},\"plot\":null,\"render_mode\":\"css\",\"right_units\":\"screen\",\"top_units\":\"screen\"},\"id\":\"c57cbd72-8d38-472a-af99-1da473e45bd8\",\"type\":\"BoxAnnotation\"},{\"attributes\":{\"overlay\":{\"id\":\"96635a55-9a73-4e72-8e12-23b124683034\",\"type\":\"BoxAnnotation\"},\"plot\":{\"id\":\"7157f27c-11fc-437f-aba3-7c84b6db1f14\",\"subtype\":\"Figure\",\"type\":\"Plot\"}},\"id\":\"feff262b-db52-4ccf-896e-6349229b8b3d\",\"type\":\"BoxZoomTool\"},{\"attributes\":{\"callback\":null},\"id\":\"d5fefaad-e3d6-4c23-8236-647c8d1a6821\",\"type\":\"DataRange1d\"},{\"attributes\":{\"dimension\":1,\"plot\":{\"id\":\"849e280a-daed-4aee-8d73-df1d784a659e\",\"subtype\":\"Figure\",\"type\":\"Plot\"},\"ticker\":{\"id\":\"8735cb77-f0cf-4c45-b9b5-b4659e6b426d\",\"type\":\"BasicTicker\"}},\"id\":\"929e43da-522c-4c1f-bdd5-cd4f062ac54b\",\"type\":\"Grid\"},{\"attributes\":{\"plot\":{\"id\":\"849e280a-daed-4aee-8d73-df1d784a659e\",\"subtype\":\"Figure\",\"type\":\"Plot\"}},\"id\":\"6bcb07a5-58cc-4ea4-9570-39c0ef116781\",\"type\":\"HelpTool\"},{\"attributes\":{},\"id\":\"a19ee180-7585-4df7-a96b-8dfb14c77a24\",\"type\":\"BasicTicker\"},{\"attributes\":{\"data_source\":{\"id\":\"a7ce16b2-785d-4ebe-8482-bde00b28ba87\",\"type\":\"ColumnDataSource\"},\"glyph\":{\"id\":\"70c4c691-1b9c-49ee-ad76-f30854034066\",\"type\":\"Circle\"},\"hover_glyph\":null,\"nonselection_glyph\":{\"id\":\"fe279858-c391-48dc-9e60-0fe9dbf515f0\",\"type\":\"Circle\"},\"selection_glyph\":null},\"id\":\"618da768-265f-469a-92c6-6ecea1a346f6\",\"type\":\"GlyphRenderer\"}],\"root_ids\":[\"d1e9a4f8-02eb-4ba4-969b-4aadc7c02a8a\",\"4683ed72-de92-4529-890f-6b41e65d0a39\",\"7395e6c1-7a42-41b8-b6e4-5b4a329ef94a\",\"849e280a-daed-4aee-8d73-df1d784a659e\",\"7157f27c-11fc-437f-aba3-7c84b6db1f14\"]},\"title\":\"Bokeh Application\",\"version\":\"0.11.1\"}};\n",
       "            var render_items = [{\"docid\":\"c9fa7535-5e65-4dc5-890b-7aea5d270f97\",\"elementid\":\"c44790a8-4714-48cc-8cd3-a1167ee0a914\",\"modelid\":\"7157f27c-11fc-437f-aba3-7c84b6db1f14\",\"notebook_comms_target\":\"f8642610-d6a1-4e51-9bed-6387fd435502\"}];\n",
       "            \n",
       "            Bokeh.embed.embed_items(docs_json, render_items);\n",
       "        });\n",
       "      },\n",
       "      function(Bokeh) {\n",
       "      }\n",
       "    ];\n",
       "  \n",
       "    function run_inline_js() {\n",
       "      for (var i = 0; i < inline_js.length; i++) {\n",
       "        inline_js[i](window.Bokeh);\n",
       "      }\n",
       "    }\n",
       "  \n",
       "    if (window._bokeh_is_loading === 0) {\n",
       "      console.log(\"Bokeh: BokehJS loaded, going straight to plotting\");\n",
       "      run_inline_js();\n",
       "    } else {\n",
       "      load_libs(js_urls, function() {\n",
       "        console.log(\"Bokeh: BokehJS plotting callback run at\", now());\n",
       "        run_inline_js();\n",
       "      });\n",
       "    }\n",
       "  }(this));\n",
       "</script>"
      ]
     },
     "metadata": {},
     "output_type": "display_data"
    },
    {
     "data": {
      "text/html": [
       "<p><code>&lt;Bokeh Notebook handle for <strong>In[10]</strong>&gt;</code></p>"
      ],
      "text/plain": [
       "<bokeh.io._CommsHandle at 0x10d10d048>"
      ]
     },
     "execution_count": 10,
     "metadata": {},
     "output_type": "execute_result"
    }
   ],
   "source": [
    "# set up some data\n",
    "x = [1, 2, 3, 4, 5]\n",
    "y = [6, 7, 8, 7, 3]\n",
    "\n",
    "# create a new plot with figure\n",
    "p = figure(plot_width=400, plot_height=400)\n",
    "\n",
    "# add both a line and circles on the same plot\n",
    "p.line(x, y, line_width=2)\n",
    "p.circle(x, y, fill_color=\"white\", size=8)\n",
    "\n",
    "show(p) # show the results"
   ]
  },
  {
   "cell_type": "code",
   "execution_count": 11,
   "metadata": {
    "collapsed": true
   },
   "outputs": [],
   "source": [
    "# EXERCISE: create your own plot combining multiple glyphs together\n",
    "\n"
   ]
  },
  {
   "cell_type": "code",
   "execution_count": null,
   "metadata": {
    "collapsed": true
   },
   "outputs": [],
   "source": []
  },
  {
   "cell_type": "code",
   "execution_count": null,
   "metadata": {
    "collapsed": true
   },
   "outputs": [],
   "source": []
  }
 ],
 "metadata": {
  "kernelspec": {
   "display_name": "Python 3",
   "language": "python",
   "name": "python3"
  },
  "language_info": {
   "codemirror_mode": {
    "name": "ipython",
    "version": 3
   },
   "file_extension": ".py",
   "mimetype": "text/x-python",
   "name": "python",
   "nbconvert_exporter": "python",
   "pygments_lexer": "ipython3",
   "version": "3.5.1"
  }
 },
 "nbformat": 4,
 "nbformat_minor": 0
}
