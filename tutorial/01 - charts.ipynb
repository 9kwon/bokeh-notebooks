{
 "cells": [
  {
   "cell_type": "markdown",
   "metadata": {},
   "source": [
    "<table style=\"float:left; border:none\">\n",
    "   <tr style=\"border:none\">\n",
    "       <td style=\"border:none\">\n",
    "           <a href=\"http://bokeh.pydata.org/\">     \n",
    "           <img \n",
    "               src=\"assets/images/bokeh-transparent.png\" \n",
    "               style=\"width:50px\"\n",
    "           >\n",
    "           </a>    \n",
    "       </td>\n",
    "       <td style=\"border:none\">\n",
    "           <h1>Bokeh Tutorial</h1>\n",
    "       </td>\n",
    "   </tr>\n",
    "</table>\n",
    "\n",
    "<div style=\"float:right;\"><h2>01. High Level Charts</h2></div>"
   ]
  },
  {
   "cell_type": "markdown",
   "metadata": {},
   "source": [
    "This section covers the `bokeh.charts` interface, which is a high-level API that is especially useful for exploratory data analysis (for instance, in a Jupyter notebook). It provides functions for quickly producing many standard chart types, often with a single line of code. We will look at the following types in this notebook:\n",
    "\n",
    "* [Scatter Plot](#Scatter-Plot)\n",
    "* [Bar Chart](#Bar-Chart)\n",
    "* [Histogram](#Histogram)\n",
    "* [Box Plot](#Box-Plot)"
   ]
  },
  {
   "cell_type": "code",
   "execution_count": 1,
   "metadata": {
    "collapsed": false
   },
   "outputs": [
    {
     "data": {
      "text/html": [
       "\n",
       "    <div class=\"bk-root\">\n",
       "        <a href=\"http://bokeh.pydata.org\" target=\"_blank\" class=\"bk-logo bk-logo-small bk-logo-notebook\"></a>\n",
       "        <span id=\"51d16519-2887-40b3-bd56-5e392804fe8e\">Loading BokehJS ...</span>\n",
       "    </div>"
      ]
     },
     "metadata": {},
     "output_type": "display_data"
    },
    {
     "data": {
      "application/javascript": [
       "\n",
       "(function(global) {\n",
       "  function now() {\n",
       "    return new Date();\n",
       "  }\n",
       "\n",
       "  if (typeof (window._bokeh_onload_callbacks) === \"undefined\") {\n",
       "    window._bokeh_onload_callbacks = [];\n",
       "  }\n",
       "\n",
       "  function run_callbacks() {\n",
       "    window._bokeh_onload_callbacks.forEach(function(callback) { callback() });\n",
       "    delete window._bokeh_onload_callbacks\n",
       "    console.info(\"Bokeh: all callbacks have finished\");\n",
       "  }\n",
       "\n",
       "  function load_libs(js_urls, callback) {\n",
       "    window._bokeh_onload_callbacks.push(callback);\n",
       "    if (window._bokeh_is_loading > 0) {\n",
       "      console.log(\"Bokeh: BokehJS is being loaded, scheduling callback at\", now());\n",
       "      return null;\n",
       "    }\n",
       "    if (js_urls == null || js_urls.length === 0) {\n",
       "      run_callbacks();\n",
       "      return null;\n",
       "    }\n",
       "    console.log(\"Bokeh: BokehJS not loaded, scheduling load and callback at\", now());\n",
       "    window._bokeh_is_loading = js_urls.length;\n",
       "    for (var i = 0; i < js_urls.length; i++) {\n",
       "      var url = js_urls[i];\n",
       "      var s = document.createElement('script');\n",
       "      s.src = url;\n",
       "      s.async = false;\n",
       "      s.onreadystatechange = s.onload = function() {\n",
       "        window._bokeh_is_loading--;\n",
       "        if (window._bokeh_is_loading === 0) {\n",
       "          console.log(\"Bokeh: all BokehJS libraries loaded\");\n",
       "          run_callbacks()\n",
       "        }\n",
       "      };\n",
       "      s.onerror = function() {\n",
       "        console.warn(\"failed to load library \" + url);\n",
       "      };\n",
       "      console.log(\"Bokeh: injecting script tag for BokehJS library: \", url);\n",
       "      document.getElementsByTagName(\"head\")[0].appendChild(s);\n",
       "    }\n",
       "  };\n",
       "\n",
       "  var js_urls = ['https://cdn.pydata.org/bokeh/release/bokeh-0.12.0.min.js', 'https://cdn.pydata.org/bokeh/release/bokeh-widgets-0.12.0.min.js', 'https://cdn.pydata.org/bokeh/release/bokeh-compiler-0.12.0.min.js'];\n",
       "\n",
       "  var inline_js = [\n",
       "    function(Bokeh) {\n",
       "      Bokeh.set_log_level(\"info\");\n",
       "    },\n",
       "    \n",
       "    function(Bokeh) {\n",
       "      Bokeh.$(\"#51d16519-2887-40b3-bd56-5e392804fe8e\").text(\"BokehJS successfully loaded\");\n",
       "    },\n",
       "    function(Bokeh) {\n",
       "      console.log(\"Bokeh: injecting CSS: https://cdn.pydata.org/bokeh/release/bokeh-0.12.0.min.css\");\n",
       "      Bokeh.embed.inject_css(\"https://cdn.pydata.org/bokeh/release/bokeh-0.12.0.min.css\");\n",
       "      console.log(\"Bokeh: injecting CSS: https://cdn.pydata.org/bokeh/release/bokeh-widgets-0.12.0.min.css\");\n",
       "      Bokeh.embed.inject_css(\"https://cdn.pydata.org/bokeh/release/bokeh-widgets-0.12.0.min.css\");\n",
       "    }\n",
       "  ];\n",
       "\n",
       "  function run_inline_js() {\n",
       "    for (var i = 0; i < inline_js.length; i++) {\n",
       "      inline_js[i](window.Bokeh);\n",
       "    }\n",
       "  }\n",
       "\n",
       "  if (window._bokeh_is_loading === 0) {\n",
       "    console.log(\"Bokeh: BokehJS loaded, going straight to plotting\");\n",
       "    run_inline_js();\n",
       "  } else {\n",
       "    load_libs(js_urls, function() {\n",
       "      console.log(\"Bokeh: BokehJS plotting callback run at\", now());\n",
       "      run_inline_js();\n",
       "    });\n",
       "  }\n",
       "}(this));"
      ]
     },
     "metadata": {},
     "output_type": "display_data"
    }
   ],
   "source": [
    "from bokeh.io import output_notebook, show\n",
    "output_notebook()"
   ]
  },
  {
   "cell_type": "markdown",
   "metadata": {},
   "source": [
    "# Scatter Plot\n",
    "\n",
    "A high-level scatter plot is provided by [`bokeh.charts.Scatter`]().\n",
    "\n",
    "For this section will use the \"iris\" data set. First let's import it and take a look at a few rows:"
   ]
  },
  {
   "cell_type": "code",
   "execution_count": 2,
   "metadata": {
    "collapsed": false
   },
   "outputs": [
    {
     "data": {
      "text/html": [
       "<div>\n",
       "<table border=\"1\" class=\"dataframe\">\n",
       "  <thead>\n",
       "    <tr style=\"text-align: right;\">\n",
       "      <th></th>\n",
       "      <th>sepal_length</th>\n",
       "      <th>sepal_width</th>\n",
       "      <th>petal_length</th>\n",
       "      <th>petal_width</th>\n",
       "      <th>species</th>\n",
       "    </tr>\n",
       "  </thead>\n",
       "  <tbody>\n",
       "    <tr>\n",
       "      <th>0</th>\n",
       "      <td>5.1</td>\n",
       "      <td>3.5</td>\n",
       "      <td>1.4</td>\n",
       "      <td>0.2</td>\n",
       "      <td>setosa</td>\n",
       "    </tr>\n",
       "    <tr>\n",
       "      <th>1</th>\n",
       "      <td>4.9</td>\n",
       "      <td>3.0</td>\n",
       "      <td>1.4</td>\n",
       "      <td>0.2</td>\n",
       "      <td>setosa</td>\n",
       "    </tr>\n",
       "    <tr>\n",
       "      <th>2</th>\n",
       "      <td>4.7</td>\n",
       "      <td>3.2</td>\n",
       "      <td>1.3</td>\n",
       "      <td>0.2</td>\n",
       "      <td>setosa</td>\n",
       "    </tr>\n",
       "    <tr>\n",
       "      <th>3</th>\n",
       "      <td>4.6</td>\n",
       "      <td>3.1</td>\n",
       "      <td>1.5</td>\n",
       "      <td>0.2</td>\n",
       "      <td>setosa</td>\n",
       "    </tr>\n",
       "    <tr>\n",
       "      <th>4</th>\n",
       "      <td>5.0</td>\n",
       "      <td>3.6</td>\n",
       "      <td>1.4</td>\n",
       "      <td>0.2</td>\n",
       "      <td>setosa</td>\n",
       "    </tr>\n",
       "  </tbody>\n",
       "</table>\n",
       "</div>"
      ],
      "text/plain": [
       "   sepal_length  sepal_width  petal_length  petal_width species\n",
       "0           5.1          3.5           1.4          0.2  setosa\n",
       "1           4.9          3.0           1.4          0.2  setosa\n",
       "2           4.7          3.2           1.3          0.2  setosa\n",
       "3           4.6          3.1           1.5          0.2  setosa\n",
       "4           5.0          3.6           1.4          0.2  setosa"
      ]
     },
     "execution_count": 2,
     "metadata": {},
     "output_type": "execute_result"
    }
   ],
   "source": [
    "from bokeh.sampledata.iris import flowers\n",
    "flowers.head()"
   ]
  },
  {
   "cell_type": "code",
   "execution_count": 3,
   "metadata": {
    "collapsed": true
   },
   "outputs": [],
   "source": [
    "from bokeh.charts import Scatter"
   ]
  },
  {
   "cell_type": "markdown",
   "metadata": {},
   "source": [
    "A basic scatter chart takes the data (in this case a pandas DataFrame) as the first argument, and specifies the `x` and `y` coordinates for the scatter as the names of columns in the data."
   ]
  },
  {
   "cell_type": "code",
   "execution_count": 4,
   "metadata": {
    "collapsed": false
   },
   "outputs": [
    {
     "data": {
      "text/html": [
       "\n",
       "\n",
       "    <div class=\"bk-root\">\n",
       "        <div class=\"plotdiv\" id=\"9df30d2d-6b0b-4fcf-9af2-143ad5f6bee7\"></div>\n",
       "    </div>\n",
       "<script type=\"text/javascript\">\n",
       "  \n",
       "  (function(global) {\n",
       "    function now() {\n",
       "      return new Date();\n",
       "    }\n",
       "  \n",
       "    if (typeof (window._bokeh_onload_callbacks) === \"undefined\") {\n",
       "      window._bokeh_onload_callbacks = [];\n",
       "    }\n",
       "  \n",
       "    function run_callbacks() {\n",
       "      window._bokeh_onload_callbacks.forEach(function(callback) { callback() });\n",
       "      delete window._bokeh_onload_callbacks\n",
       "      console.info(\"Bokeh: all callbacks have finished\");\n",
       "    }\n",
       "  \n",
       "    function load_libs(js_urls, callback) {\n",
       "      window._bokeh_onload_callbacks.push(callback);\n",
       "      if (window._bokeh_is_loading > 0) {\n",
       "        console.log(\"Bokeh: BokehJS is being loaded, scheduling callback at\", now());\n",
       "        return null;\n",
       "      }\n",
       "      if (js_urls == null || js_urls.length === 0) {\n",
       "        run_callbacks();\n",
       "        return null;\n",
       "      }\n",
       "      console.log(\"Bokeh: BokehJS not loaded, scheduling load and callback at\", now());\n",
       "      window._bokeh_is_loading = js_urls.length;\n",
       "      for (var i = 0; i < js_urls.length; i++) {\n",
       "        var url = js_urls[i];\n",
       "        var s = document.createElement('script');\n",
       "        s.src = url;\n",
       "        s.async = false;\n",
       "        s.onreadystatechange = s.onload = function() {\n",
       "          window._bokeh_is_loading--;\n",
       "          if (window._bokeh_is_loading === 0) {\n",
       "            console.log(\"Bokeh: all BokehJS libraries loaded\");\n",
       "            run_callbacks()\n",
       "          }\n",
       "        };\n",
       "        s.onerror = function() {\n",
       "          console.warn(\"failed to load library \" + url);\n",
       "        };\n",
       "        console.log(\"Bokeh: injecting script tag for BokehJS library: \", url);\n",
       "        document.getElementsByTagName(\"head\")[0].appendChild(s);\n",
       "      }\n",
       "    };var element = document.getElementById(\"9df30d2d-6b0b-4fcf-9af2-143ad5f6bee7\");\n",
       "    if (element == null) {\n",
       "      console.log(\"Bokeh: ERROR: autoload.js configured with elementid '9df30d2d-6b0b-4fcf-9af2-143ad5f6bee7' but no matching script tag was found. \")\n",
       "      return false;\n",
       "    }\n",
       "  \n",
       "    var js_urls = [];\n",
       "  \n",
       "    var inline_js = [\n",
       "      function(Bokeh) {\n",
       "        Bokeh.$(function() {\n",
       "            var docs_json = {\"3ee99280-c0c9-4c9b-8500-b15fd09e7d26\":{\"roots\":{\"references\":[{\"attributes\":{\"callback\":null,\"column_names\":[\"x_values\",\"y_values\"],\"data\":{\"chart_index\":[null,null,null,null,null,null,null,null,null,null,null,null,null,null,null,null,null,null,null,null,null,null,null,null,null,null,null,null,null,null,null,null,null,null,null,null,null,null,null,null,null,null,null,null,null,null,null,null,null,null,null,null,null,null,null,null,null,null,null,null,null,null,null,null,null,null,null,null,null,null,null,null,null,null,null,null,null,null,null,null,null,null,null,null,null,null,null,null,null,null,null,null,null,null,null,null,null,null,null,null,null,null,null,null,null,null,null,null,null,null,null,null,null,null,null,null,null,null,null,null,null,null,null,null,null,null,null,null,null,null,null,null,null,null,null,null,null,null,null,null,null,null,null,null,null,null,null,null,null,null],\"x_values\":[1.4,1.4,1.3,1.5,1.4,1.7,1.4,1.5,1.4,1.5,1.5,1.6,1.4,1.1,1.2,1.5,1.3,1.4,1.7,1.5,1.7,1.5,1.0,1.7,1.9,1.6,1.6,1.5,1.4,1.6,1.6,1.5,1.5,1.4,1.5,1.2,1.3,1.4,1.3,1.5,1.3,1.3,1.3,1.6,1.9,1.4,1.6,1.4,1.5,1.4,4.7,4.5,4.9,4.0,4.6,4.5,4.7,3.3,4.6,3.9,3.5,4.2,4.0,4.7,3.6,4.4,4.5,4.1,4.5,3.9,4.8,4.0,4.9,4.7,4.3,4.4,4.8,5.0,4.5,3.5,3.8,3.7,3.9,5.1,4.5,4.5,4.7,4.4,4.1,4.0,4.4,4.6,4.0,3.3,4.2,4.2,4.2,4.3,3.0,4.1,6.0,5.1,5.9,5.6,5.8,6.6,4.5,6.3,5.8,6.1,5.1,5.3,5.5,5.0,5.1,5.3,5.5,6.7,6.9,5.0,5.7,4.9,6.7,4.9,5.7,6.0,4.8,4.9,5.6,5.8,6.1,6.4,5.6,5.1,5.6,6.1,5.6,5.5,4.8,5.4,5.6,5.1,5.1,5.9,5.7,5.2,5.0,5.2,5.4,5.1],\"y_values\":[0.2,0.2,0.2,0.2,0.2,0.4,0.3,0.2,0.2,0.1,0.2,0.2,0.1,0.1,0.2,0.4,0.4,0.3,0.3,0.3,0.2,0.4,0.2,0.5,0.2,0.2,0.4,0.2,0.2,0.2,0.2,0.4,0.1,0.2,0.2,0.2,0.2,0.1,0.2,0.2,0.3,0.3,0.2,0.6,0.4,0.3,0.2,0.2,0.2,0.2,1.4,1.5,1.5,1.3,1.5,1.3,1.6,1.0,1.3,1.4,1.0,1.5,1.0,1.4,1.3,1.4,1.5,1.0,1.5,1.1,1.8,1.3,1.5,1.2,1.3,1.4,1.4,1.7,1.5,1.0,1.1,1.0,1.2,1.6,1.5,1.6,1.5,1.3,1.3,1.3,1.2,1.4,1.2,1.0,1.3,1.2,1.3,1.3,1.1,1.3,2.5,1.9,2.1,1.8,2.2,2.1,1.7,1.8,1.8,2.5,2.0,1.9,2.1,2.0,2.4,2.3,1.8,2.2,2.3,1.5,2.3,2.0,2.0,1.8,2.1,1.8,1.8,1.8,2.1,1.6,1.9,2.0,2.2,1.5,1.4,2.3,2.4,1.8,1.8,2.1,2.4,2.3,1.9,2.3,2.5,2.3,1.9,2.0,2.3,1.8]}},\"id\":\"7fa953cf-76af-428d-8f8b-828d5fd55a93\",\"type\":\"ColumnDataSource\"},{\"attributes\":{\"active_drag\":\"auto\",\"active_scroll\":\"auto\",\"active_tap\":\"auto\",\"tools\":[{\"id\":\"5ba03a7d-a18c-4ea5-b57a-3de8745a0ff8\",\"type\":\"PanTool\"},{\"id\":\"20e50f88-940e-4c75-b467-21d5c16d1ab5\",\"type\":\"WheelZoomTool\"},{\"id\":\"c127f406-e6d5-4ff2-a884-5a75ad4425e1\",\"type\":\"BoxZoomTool\"},{\"id\":\"b440b284-e280-4e76-afd7-1918d3f0d304\",\"type\":\"SaveTool\"},{\"id\":\"769bf838-4cfb-4d41-829b-d2a37f6af16d\",\"type\":\"ResetTool\"},{\"id\":\"bd6ba1d0-2f3a-410f-83e7-323a7ce19fc4\",\"type\":\"HelpTool\"}]},\"id\":\"8fdd1d3c-02ad-415c-af4d-a2fae55b992f\",\"type\":\"Toolbar\"},{\"attributes\":{},\"id\":\"fefa7d9f-02c8-4dbb-a0bc-bb991171c176\",\"type\":\"ToolEvents\"},{\"attributes\":{\"plot\":{\"id\":\"c3260fc6-58b2-4853-8cd3-3abbc62e9f5c\",\"subtype\":\"Chart\",\"type\":\"Plot\"}},\"id\":\"bd6ba1d0-2f3a-410f-83e7-323a7ce19fc4\",\"type\":\"HelpTool\"},{\"attributes\":{\"plot\":null,\"text\":null},\"id\":\"469af7bb-f323-4dd8-9799-96aef70fd561\",\"type\":\"Title\"},{\"attributes\":{\"plot\":{\"id\":\"c3260fc6-58b2-4853-8cd3-3abbc62e9f5c\",\"subtype\":\"Chart\",\"type\":\"Plot\"}},\"id\":\"b440b284-e280-4e76-afd7-1918d3f0d304\",\"type\":\"SaveTool\"},{\"attributes\":{\"plot\":{\"id\":\"c3260fc6-58b2-4853-8cd3-3abbc62e9f5c\",\"subtype\":\"Chart\",\"type\":\"Plot\"}},\"id\":\"20e50f88-940e-4c75-b467-21d5c16d1ab5\",\"type\":\"WheelZoomTool\"},{\"attributes\":{\"fill_alpha\":{\"value\":0.7},\"fill_color\":{\"value\":\"#f22c40\"},\"line_color\":{\"value\":\"#f22c40\"},\"size\":{\"units\":\"screen\",\"value\":8},\"x\":{\"field\":\"x_values\"},\"y\":{\"field\":\"y_values\"}},\"id\":\"1fd6c173-3477-4dc8-ba9b-a005f8fbeebc\",\"type\":\"Circle\"},{\"attributes\":{\"plot\":{\"id\":\"c3260fc6-58b2-4853-8cd3-3abbc62e9f5c\",\"subtype\":\"Chart\",\"type\":\"Plot\"},\"ticker\":{\"id\":\"04b31b7b-94c1-4f4d-935d-d1ed251aa1da\",\"type\":\"BasicTicker\"}},\"id\":\"1b3e7bfd-3ef8-4ff0-b9df-9be6c17d89fd\",\"type\":\"Grid\"},{\"attributes\":{},\"id\":\"04b31b7b-94c1-4f4d-935d-d1ed251aa1da\",\"type\":\"BasicTicker\"},{\"attributes\":{\"plot\":{\"id\":\"c3260fc6-58b2-4853-8cd3-3abbc62e9f5c\",\"subtype\":\"Chart\",\"type\":\"Plot\"}},\"id\":\"5ba03a7d-a18c-4ea5-b57a-3de8745a0ff8\",\"type\":\"PanTool\"},{\"attributes\":{\"axis_label\":\"petal_width\",\"formatter\":{\"id\":\"486a8a5f-8bbf-4e3d-a017-8b73cdf93ca3\",\"type\":\"BasicTickFormatter\"},\"plot\":{\"id\":\"c3260fc6-58b2-4853-8cd3-3abbc62e9f5c\",\"subtype\":\"Chart\",\"type\":\"Plot\"},\"ticker\":{\"id\":\"46c4842c-8668-4b1b-9df8-9c70b7b6eae0\",\"type\":\"BasicTicker\"}},\"id\":\"3b47d225-d812-4be6-826b-cb6b65187e2f\",\"type\":\"LinearAxis\"},{\"attributes\":{\"bottom_units\":\"screen\",\"fill_alpha\":{\"value\":0.5},\"fill_color\":{\"value\":\"lightgrey\"},\"left_units\":\"screen\",\"level\":\"overlay\",\"line_alpha\":{\"value\":1.0},\"line_color\":{\"value\":\"black\"},\"line_dash\":[4,4],\"line_width\":{\"value\":2},\"plot\":null,\"render_mode\":\"css\",\"right_units\":\"screen\",\"top_units\":\"screen\"},\"id\":\"bc526454-69af-4222-b6da-c404ca0f70b1\",\"type\":\"BoxAnnotation\"},{\"attributes\":{\"data_source\":{\"id\":\"7fa953cf-76af-428d-8f8b-828d5fd55a93\",\"type\":\"ColumnDataSource\"},\"glyph\":{\"id\":\"1fd6c173-3477-4dc8-ba9b-a005f8fbeebc\",\"type\":\"Circle\"},\"hover_glyph\":null,\"nonselection_glyph\":null,\"selection_glyph\":null},\"id\":\"dcbe0029-38b8-4642-baef-74aafbcfd206\",\"type\":\"GlyphRenderer\"},{\"attributes\":{\"axis_label\":\"petal_length\",\"formatter\":{\"id\":\"bcd04ca7-8fe2-46be-aa91-b37cdaeb85c0\",\"type\":\"BasicTickFormatter\"},\"plot\":{\"id\":\"c3260fc6-58b2-4853-8cd3-3abbc62e9f5c\",\"subtype\":\"Chart\",\"type\":\"Plot\"},\"ticker\":{\"id\":\"04b31b7b-94c1-4f4d-935d-d1ed251aa1da\",\"type\":\"BasicTicker\"}},\"id\":\"3b0190ff-19ed-4ab2-b10a-b4232c769fce\",\"type\":\"LinearAxis\"},{\"attributes\":{\"dimension\":1,\"plot\":{\"id\":\"c3260fc6-58b2-4853-8cd3-3abbc62e9f5c\",\"subtype\":\"Chart\",\"type\":\"Plot\"},\"ticker\":{\"id\":\"46c4842c-8668-4b1b-9df8-9c70b7b6eae0\",\"type\":\"BasicTicker\"}},\"id\":\"ae666098-ca7e-4568-a9c3-7008cd3b5db1\",\"type\":\"Grid\"},{\"attributes\":{\"plot\":{\"id\":\"c3260fc6-58b2-4853-8cd3-3abbc62e9f5c\",\"subtype\":\"Chart\",\"type\":\"Plot\"}},\"id\":\"769bf838-4cfb-4d41-829b-d2a37f6af16d\",\"type\":\"ResetTool\"},{\"attributes\":{},\"id\":\"bcd04ca7-8fe2-46be-aa91-b37cdaeb85c0\",\"type\":\"BasicTickFormatter\"},{\"attributes\":{\"below\":[{\"id\":\"3b0190ff-19ed-4ab2-b10a-b4232c769fce\",\"type\":\"LinearAxis\"}],\"left\":[{\"id\":\"3b47d225-d812-4be6-826b-cb6b65187e2f\",\"type\":\"LinearAxis\"}],\"renderers\":[{\"id\":\"bc526454-69af-4222-b6da-c404ca0f70b1\",\"type\":\"BoxAnnotation\"},{\"id\":\"dcbe0029-38b8-4642-baef-74aafbcfd206\",\"type\":\"GlyphRenderer\"},{\"id\":\"da4f6788-e7ee-4b37-8ae2-d7fda5fb84c5\",\"type\":\"Legend\"},{\"id\":\"3b0190ff-19ed-4ab2-b10a-b4232c769fce\",\"type\":\"LinearAxis\"},{\"id\":\"3b47d225-d812-4be6-826b-cb6b65187e2f\",\"type\":\"LinearAxis\"},{\"id\":\"1b3e7bfd-3ef8-4ff0-b9df-9be6c17d89fd\",\"type\":\"Grid\"},{\"id\":\"ae666098-ca7e-4568-a9c3-7008cd3b5db1\",\"type\":\"Grid\"}],\"title\":{\"id\":\"469af7bb-f323-4dd8-9799-96aef70fd561\",\"type\":\"Title\"},\"tool_events\":{\"id\":\"fefa7d9f-02c8-4dbb-a0bc-bb991171c176\",\"type\":\"ToolEvents\"},\"toolbar\":{\"id\":\"8fdd1d3c-02ad-415c-af4d-a2fae55b992f\",\"type\":\"Toolbar\"},\"x_mapper_type\":\"auto\",\"x_range\":{\"id\":\"d63ae1e5-058b-41aa-b824-d5dd870a398d\",\"type\":\"Range1d\"},\"y_mapper_type\":\"auto\",\"y_range\":{\"id\":\"20ffccf3-dfe9-4e32-b970-1a473913c485\",\"type\":\"Range1d\"}},\"id\":\"c3260fc6-58b2-4853-8cd3-3abbc62e9f5c\",\"subtype\":\"Chart\",\"type\":\"Plot\"},{\"attributes\":{\"location\":\"top_left\",\"plot\":{\"id\":\"c3260fc6-58b2-4853-8cd3-3abbc62e9f5c\",\"subtype\":\"Chart\",\"type\":\"Plot\"}},\"id\":\"da4f6788-e7ee-4b37-8ae2-d7fda5fb84c5\",\"type\":\"Legend\"},{\"attributes\":{\"callback\":null,\"end\":7.49,\"start\":0.4099999999999999},\"id\":\"d63ae1e5-058b-41aa-b824-d5dd870a398d\",\"type\":\"Range1d\"},{\"attributes\":{\"callback\":null,\"end\":2.74,\"start\":-0.13999999999999999},\"id\":\"20ffccf3-dfe9-4e32-b970-1a473913c485\",\"type\":\"Range1d\"},{\"attributes\":{},\"id\":\"486a8a5f-8bbf-4e3d-a017-8b73cdf93ca3\",\"type\":\"BasicTickFormatter\"},{\"attributes\":{\"overlay\":{\"id\":\"bc526454-69af-4222-b6da-c404ca0f70b1\",\"type\":\"BoxAnnotation\"},\"plot\":{\"id\":\"c3260fc6-58b2-4853-8cd3-3abbc62e9f5c\",\"subtype\":\"Chart\",\"type\":\"Plot\"}},\"id\":\"c127f406-e6d5-4ff2-a884-5a75ad4425e1\",\"type\":\"BoxZoomTool\"},{\"attributes\":{},\"id\":\"46c4842c-8668-4b1b-9df8-9c70b7b6eae0\",\"type\":\"BasicTicker\"}],\"root_ids\":[\"c3260fc6-58b2-4853-8cd3-3abbc62e9f5c\"]},\"title\":\"Bokeh Application\",\"version\":\"0.12.0\"}};\n",
       "            var render_items = [{\"docid\":\"3ee99280-c0c9-4c9b-8500-b15fd09e7d26\",\"elementid\":\"9df30d2d-6b0b-4fcf-9af2-143ad5f6bee7\",\"modelid\":\"c3260fc6-58b2-4853-8cd3-3abbc62e9f5c\",\"notebook_comms_target\":\"0f4e4935-2200-4b4e-aec8-2fd62fe6b54b\"}];\n",
       "            \n",
       "            Bokeh.embed.embed_items(docs_json, render_items);\n",
       "        });\n",
       "      },\n",
       "      function(Bokeh) {\n",
       "      }\n",
       "    ];\n",
       "  \n",
       "    function run_inline_js() {\n",
       "      for (var i = 0; i < inline_js.length; i++) {\n",
       "        inline_js[i](window.Bokeh);\n",
       "      }\n",
       "    }\n",
       "  \n",
       "    if (window._bokeh_is_loading === 0) {\n",
       "      console.log(\"Bokeh: BokehJS loaded, going straight to plotting\");\n",
       "      run_inline_js();\n",
       "    } else {\n",
       "      load_libs(js_urls, function() {\n",
       "        console.log(\"Bokeh: BokehJS plotting callback run at\", now());\n",
       "        run_inline_js();\n",
       "      });\n",
       "    }\n",
       "  }(this));\n",
       "</script>"
      ]
     },
     "metadata": {},
     "output_type": "display_data"
    },
    {
     "data": {
      "text/html": [
       "<p><code>&lt;Bokeh Notebook handle for <strong>In[4]</strong>&gt;</code></p>"
      ],
      "text/plain": [
       "<bokeh.io._CommsHandle at 0x10da03278>"
      ]
     },
     "execution_count": 4,
     "metadata": {},
     "output_type": "execute_result"
    }
   ],
   "source": [
    "p = Scatter(flowers, x='petal_length', y='petal_width')\n",
    "show(p)"
   ]
  },
  {
   "cell_type": "markdown",
   "metadata": {},
   "source": [
    "By passing a column name for the `color` parameter, you can make `Scatter` automatically color the markers according to the groups in that column. Let's also add a legend by specify its location as the value of a `legend` paramter (in this case `\"top_left\"`)"
   ]
  },
  {
   "cell_type": "code",
   "execution_count": 5,
   "metadata": {
    "collapsed": false
   },
   "outputs": [
    {
     "data": {
      "text/html": [
       "\n",
       "\n",
       "    <div class=\"bk-root\">\n",
       "        <div class=\"plotdiv\" id=\"99a3d1d6-2e84-4a52-8bd6-caf8cf6f0192\"></div>\n",
       "    </div>\n",
       "<script type=\"text/javascript\">\n",
       "  \n",
       "  (function(global) {\n",
       "    function now() {\n",
       "      return new Date();\n",
       "    }\n",
       "  \n",
       "    if (typeof (window._bokeh_onload_callbacks) === \"undefined\") {\n",
       "      window._bokeh_onload_callbacks = [];\n",
       "    }\n",
       "  \n",
       "    function run_callbacks() {\n",
       "      window._bokeh_onload_callbacks.forEach(function(callback) { callback() });\n",
       "      delete window._bokeh_onload_callbacks\n",
       "      console.info(\"Bokeh: all callbacks have finished\");\n",
       "    }\n",
       "  \n",
       "    function load_libs(js_urls, callback) {\n",
       "      window._bokeh_onload_callbacks.push(callback);\n",
       "      if (window._bokeh_is_loading > 0) {\n",
       "        console.log(\"Bokeh: BokehJS is being loaded, scheduling callback at\", now());\n",
       "        return null;\n",
       "      }\n",
       "      if (js_urls == null || js_urls.length === 0) {\n",
       "        run_callbacks();\n",
       "        return null;\n",
       "      }\n",
       "      console.log(\"Bokeh: BokehJS not loaded, scheduling load and callback at\", now());\n",
       "      window._bokeh_is_loading = js_urls.length;\n",
       "      for (var i = 0; i < js_urls.length; i++) {\n",
       "        var url = js_urls[i];\n",
       "        var s = document.createElement('script');\n",
       "        s.src = url;\n",
       "        s.async = false;\n",
       "        s.onreadystatechange = s.onload = function() {\n",
       "          window._bokeh_is_loading--;\n",
       "          if (window._bokeh_is_loading === 0) {\n",
       "            console.log(\"Bokeh: all BokehJS libraries loaded\");\n",
       "            run_callbacks()\n",
       "          }\n",
       "        };\n",
       "        s.onerror = function() {\n",
       "          console.warn(\"failed to load library \" + url);\n",
       "        };\n",
       "        console.log(\"Bokeh: injecting script tag for BokehJS library: \", url);\n",
       "        document.getElementsByTagName(\"head\")[0].appendChild(s);\n",
       "      }\n",
       "    };var element = document.getElementById(\"99a3d1d6-2e84-4a52-8bd6-caf8cf6f0192\");\n",
       "    if (element == null) {\n",
       "      console.log(\"Bokeh: ERROR: autoload.js configured with elementid '99a3d1d6-2e84-4a52-8bd6-caf8cf6f0192' but no matching script tag was found. \")\n",
       "      return false;\n",
       "    }\n",
       "  \n",
       "    var js_urls = [];\n",
       "  \n",
       "    var inline_js = [\n",
       "      function(Bokeh) {\n",
       "        Bokeh.$(function() {\n",
       "            var docs_json = {\"1dd54b1e-33c2-42bb-a7c7-aa3638d06cf7\":{\"roots\":{\"references\":[{\"attributes\":{\"active_drag\":\"auto\",\"active_scroll\":\"auto\",\"active_tap\":\"auto\",\"tools\":[{\"id\":\"3f051ca4-db2d-4b68-bd0a-7d0ac0247f05\",\"type\":\"PanTool\"},{\"id\":\"69c53c9e-0709-41c6-9db8-1697fd3cf261\",\"type\":\"WheelZoomTool\"},{\"id\":\"31c277dd-e17b-44b2-92bd-e0e69285bc1d\",\"type\":\"BoxZoomTool\"},{\"id\":\"cc3e8f0e-fece-4beb-83e9-e66061067745\",\"type\":\"SaveTool\"},{\"id\":\"1cd7baf2-ae72-4550-a023-5dd4a5b5230f\",\"type\":\"ResetTool\"},{\"id\":\"fa3df103-2547-499d-a2b5-88e4c1f5752a\",\"type\":\"HelpTool\"}]},\"id\":\"fa6de5d9-66da-4fc7-866d-67b861787a55\",\"type\":\"Toolbar\"},{\"attributes\":{\"callback\":null,\"column_names\":[\"x_values\",\"y_values\"],\"data\":{\"chart_index\":[{\"species\":\"versicolor\"},{\"species\":\"versicolor\"},{\"species\":\"versicolor\"},{\"species\":\"versicolor\"},{\"species\":\"versicolor\"},{\"species\":\"versicolor\"},{\"species\":\"versicolor\"},{\"species\":\"versicolor\"},{\"species\":\"versicolor\"},{\"species\":\"versicolor\"},{\"species\":\"versicolor\"},{\"species\":\"versicolor\"},{\"species\":\"versicolor\"},{\"species\":\"versicolor\"},{\"species\":\"versicolor\"},{\"species\":\"versicolor\"},{\"species\":\"versicolor\"},{\"species\":\"versicolor\"},{\"species\":\"versicolor\"},{\"species\":\"versicolor\"},{\"species\":\"versicolor\"},{\"species\":\"versicolor\"},{\"species\":\"versicolor\"},{\"species\":\"versicolor\"},{\"species\":\"versicolor\"},{\"species\":\"versicolor\"},{\"species\":\"versicolor\"},{\"species\":\"versicolor\"},{\"species\":\"versicolor\"},{\"species\":\"versicolor\"},{\"species\":\"versicolor\"},{\"species\":\"versicolor\"},{\"species\":\"versicolor\"},{\"species\":\"versicolor\"},{\"species\":\"versicolor\"},{\"species\":\"versicolor\"},{\"species\":\"versicolor\"},{\"species\":\"versicolor\"},{\"species\":\"versicolor\"},{\"species\":\"versicolor\"},{\"species\":\"versicolor\"},{\"species\":\"versicolor\"},{\"species\":\"versicolor\"},{\"species\":\"versicolor\"},{\"species\":\"versicolor\"},{\"species\":\"versicolor\"},{\"species\":\"versicolor\"},{\"species\":\"versicolor\"},{\"species\":\"versicolor\"},{\"species\":\"versicolor\"}],\"species\":[\"versicolor\",\"versicolor\",\"versicolor\",\"versicolor\",\"versicolor\",\"versicolor\",\"versicolor\",\"versicolor\",\"versicolor\",\"versicolor\",\"versicolor\",\"versicolor\",\"versicolor\",\"versicolor\",\"versicolor\",\"versicolor\",\"versicolor\",\"versicolor\",\"versicolor\",\"versicolor\",\"versicolor\",\"versicolor\",\"versicolor\",\"versicolor\",\"versicolor\",\"versicolor\",\"versicolor\",\"versicolor\",\"versicolor\",\"versicolor\",\"versicolor\",\"versicolor\",\"versicolor\",\"versicolor\",\"versicolor\",\"versicolor\",\"versicolor\",\"versicolor\",\"versicolor\",\"versicolor\",\"versicolor\",\"versicolor\",\"versicolor\",\"versicolor\",\"versicolor\",\"versicolor\",\"versicolor\",\"versicolor\",\"versicolor\",\"versicolor\"],\"x_values\":[4.7,4.5,4.9,4.0,4.6,4.5,4.7,3.3,4.6,3.9,3.5,4.2,4.0,4.7,3.6,4.4,4.5,4.1,4.5,3.9,4.8,4.0,4.9,4.7,4.3,4.4,4.8,5.0,4.5,3.5,3.8,3.7,3.9,5.1,4.5,4.5,4.7,4.4,4.1,4.0,4.4,4.6,4.0,3.3,4.2,4.2,4.2,4.3,3.0,4.1],\"y_values\":[1.4,1.5,1.5,1.3,1.5,1.3,1.6,1.0,1.3,1.4,1.0,1.5,1.0,1.4,1.3,1.4,1.5,1.0,1.5,1.1,1.8,1.3,1.5,1.2,1.3,1.4,1.4,1.7,1.5,1.0,1.1,1.0,1.2,1.6,1.5,1.6,1.5,1.3,1.3,1.3,1.2,1.4,1.2,1.0,1.3,1.2,1.3,1.3,1.1,1.3]}},\"id\":\"271c6862-f199-4f50-8c3d-cb1220469231\",\"type\":\"ColumnDataSource\"},{\"attributes\":{},\"id\":\"88bc2e0e-d201-48e9-9004-50c1cf3fbc37\",\"type\":\"BasicTicker\"},{\"attributes\":{\"fill_alpha\":{\"value\":0.7},\"fill_color\":{\"value\":\"#5ab738\"},\"line_color\":{\"value\":\"#5ab738\"},\"size\":{\"units\":\"screen\",\"value\":8},\"x\":{\"field\":\"x_values\"},\"y\":{\"field\":\"y_values\"}},\"id\":\"86a12ec8-7ad0-4c1b-82a2-92087be5994e\",\"type\":\"Circle\"},{\"attributes\":{\"plot\":{\"id\":\"282d37a0-d67e-403a-9468-3222a1f7292f\",\"subtype\":\"Chart\",\"type\":\"Plot\"}},\"id\":\"1cd7baf2-ae72-4550-a023-5dd4a5b5230f\",\"type\":\"ResetTool\"},{\"attributes\":{\"overlay\":{\"id\":\"444d9945-9e2d-4d0f-9e63-a1a9a2d49691\",\"type\":\"BoxAnnotation\"},\"plot\":{\"id\":\"282d37a0-d67e-403a-9468-3222a1f7292f\",\"subtype\":\"Chart\",\"type\":\"Plot\"}},\"id\":\"31c277dd-e17b-44b2-92bd-e0e69285bc1d\",\"type\":\"BoxZoomTool\"},{\"attributes\":{\"legends\":[[\"setosa\",[{\"id\":\"5d0d8841-3696-4127-8816-95db57d470e8\",\"type\":\"GlyphRenderer\"}]],[\"versicolor\",[{\"id\":\"d54052ff-f25a-425f-859c-4f28e45813cb\",\"type\":\"GlyphRenderer\"}]],[\"virginica\",[{\"id\":\"6bf0b74c-6d98-4215-ac36-f837a7dbb12f\",\"type\":\"GlyphRenderer\"}]]],\"location\":\"top_left\",\"plot\":{\"id\":\"282d37a0-d67e-403a-9468-3222a1f7292f\",\"subtype\":\"Chart\",\"type\":\"Plot\"}},\"id\":\"71081f50-015d-4664-9c1a-5c9256e48518\",\"type\":\"Legend\"},{\"attributes\":{\"plot\":{\"id\":\"282d37a0-d67e-403a-9468-3222a1f7292f\",\"subtype\":\"Chart\",\"type\":\"Plot\"},\"ticker\":{\"id\":\"dfeb89e5-497c-414c-80c4-4b3af21c6239\",\"type\":\"BasicTicker\"}},\"id\":\"d61a46dd-c423-44f2-bb47-91b5cded0e99\",\"type\":\"Grid\"},{\"attributes\":{\"axis_label\":\"petal_width\",\"formatter\":{\"id\":\"330b8d01-6a30-477d-bc3c-c04a342e77aa\",\"type\":\"BasicTickFormatter\"},\"plot\":{\"id\":\"282d37a0-d67e-403a-9468-3222a1f7292f\",\"subtype\":\"Chart\",\"type\":\"Plot\"},\"ticker\":{\"id\":\"88bc2e0e-d201-48e9-9004-50c1cf3fbc37\",\"type\":\"BasicTicker\"}},\"id\":\"f53f127f-6475-4694-a10d-ea0917a6422c\",\"type\":\"LinearAxis\"},{\"attributes\":{\"fill_alpha\":{\"value\":0.7},\"fill_color\":{\"value\":\"#f22c40\"},\"line_color\":{\"value\":\"#f22c40\"},\"size\":{\"units\":\"screen\",\"value\":8},\"x\":{\"field\":\"x_values\"},\"y\":{\"field\":\"y_values\"}},\"id\":\"6323bfe0-1b67-477b-a9b3-54d3942beef8\",\"type\":\"Circle\"},{\"attributes\":{},\"id\":\"2dc6acbb-821b-4bb1-ad1f-0285e3a60406\",\"type\":\"BasicTickFormatter\"},{\"attributes\":{\"axis_label\":\"petal_length\",\"formatter\":{\"id\":\"2dc6acbb-821b-4bb1-ad1f-0285e3a60406\",\"type\":\"BasicTickFormatter\"},\"plot\":{\"id\":\"282d37a0-d67e-403a-9468-3222a1f7292f\",\"subtype\":\"Chart\",\"type\":\"Plot\"},\"ticker\":{\"id\":\"dfeb89e5-497c-414c-80c4-4b3af21c6239\",\"type\":\"BasicTicker\"}},\"id\":\"7742d0d7-a4a2-44e3-8397-ae38656511cf\",\"type\":\"LinearAxis\"},{\"attributes\":{\"plot\":{\"id\":\"282d37a0-d67e-403a-9468-3222a1f7292f\",\"subtype\":\"Chart\",\"type\":\"Plot\"}},\"id\":\"3f051ca4-db2d-4b68-bd0a-7d0ac0247f05\",\"type\":\"PanTool\"},{\"attributes\":{\"data_source\":{\"id\":\"271c6862-f199-4f50-8c3d-cb1220469231\",\"type\":\"ColumnDataSource\"},\"glyph\":{\"id\":\"86a12ec8-7ad0-4c1b-82a2-92087be5994e\",\"type\":\"Circle\"},\"hover_glyph\":null,\"nonselection_glyph\":null,\"selection_glyph\":null},\"id\":\"d54052ff-f25a-425f-859c-4f28e45813cb\",\"type\":\"GlyphRenderer\"},{\"attributes\":{\"plot\":{\"id\":\"282d37a0-d67e-403a-9468-3222a1f7292f\",\"subtype\":\"Chart\",\"type\":\"Plot\"}},\"id\":\"69c53c9e-0709-41c6-9db8-1697fd3cf261\",\"type\":\"WheelZoomTool\"},{\"attributes\":{\"plot\":null,\"text\":null},\"id\":\"3f45eb65-4564-48d9-af17-d16631a82ffc\",\"type\":\"Title\"},{\"attributes\":{\"below\":[{\"id\":\"7742d0d7-a4a2-44e3-8397-ae38656511cf\",\"type\":\"LinearAxis\"}],\"left\":[{\"id\":\"f53f127f-6475-4694-a10d-ea0917a6422c\",\"type\":\"LinearAxis\"}],\"renderers\":[{\"id\":\"444d9945-9e2d-4d0f-9e63-a1a9a2d49691\",\"type\":\"BoxAnnotation\"},{\"id\":\"5d0d8841-3696-4127-8816-95db57d470e8\",\"type\":\"GlyphRenderer\"},{\"id\":\"d54052ff-f25a-425f-859c-4f28e45813cb\",\"type\":\"GlyphRenderer\"},{\"id\":\"6bf0b74c-6d98-4215-ac36-f837a7dbb12f\",\"type\":\"GlyphRenderer\"},{\"id\":\"71081f50-015d-4664-9c1a-5c9256e48518\",\"type\":\"Legend\"},{\"id\":\"7742d0d7-a4a2-44e3-8397-ae38656511cf\",\"type\":\"LinearAxis\"},{\"id\":\"f53f127f-6475-4694-a10d-ea0917a6422c\",\"type\":\"LinearAxis\"},{\"id\":\"d61a46dd-c423-44f2-bb47-91b5cded0e99\",\"type\":\"Grid\"},{\"id\":\"1f2ed726-242b-41b6-be29-28c5c633fb24\",\"type\":\"Grid\"}],\"title\":{\"id\":\"3f45eb65-4564-48d9-af17-d16631a82ffc\",\"type\":\"Title\"},\"tool_events\":{\"id\":\"60b88ecb-d650-45b7-bac3-f45ff18c4ca0\",\"type\":\"ToolEvents\"},\"toolbar\":{\"id\":\"fa6de5d9-66da-4fc7-866d-67b861787a55\",\"type\":\"Toolbar\"},\"x_mapper_type\":\"auto\",\"x_range\":{\"id\":\"1eb484ee-c713-4f2e-a235-ab1d5b81aa08\",\"type\":\"Range1d\"},\"y_mapper_type\":\"auto\",\"y_range\":{\"id\":\"c5b68d2f-3d39-4456-80fc-c29e60d820a5\",\"type\":\"Range1d\"}},\"id\":\"282d37a0-d67e-403a-9468-3222a1f7292f\",\"subtype\":\"Chart\",\"type\":\"Plot\"},{\"attributes\":{\"fill_alpha\":{\"value\":0.7},\"fill_color\":{\"value\":\"#407ee7\"},\"line_color\":{\"value\":\"#407ee7\"},\"size\":{\"units\":\"screen\",\"value\":8},\"x\":{\"field\":\"x_values\"},\"y\":{\"field\":\"y_values\"}},\"id\":\"6c7c291a-dfa7-49be-81cd-142255c5b102\",\"type\":\"Circle\"},{\"attributes\":{\"dimension\":1,\"plot\":{\"id\":\"282d37a0-d67e-403a-9468-3222a1f7292f\",\"subtype\":\"Chart\",\"type\":\"Plot\"},\"ticker\":{\"id\":\"88bc2e0e-d201-48e9-9004-50c1cf3fbc37\",\"type\":\"BasicTicker\"}},\"id\":\"1f2ed726-242b-41b6-be29-28c5c633fb24\",\"type\":\"Grid\"},{\"attributes\":{},\"id\":\"330b8d01-6a30-477d-bc3c-c04a342e77aa\",\"type\":\"BasicTickFormatter\"},{\"attributes\":{\"plot\":{\"id\":\"282d37a0-d67e-403a-9468-3222a1f7292f\",\"subtype\":\"Chart\",\"type\":\"Plot\"}},\"id\":\"cc3e8f0e-fece-4beb-83e9-e66061067745\",\"type\":\"SaveTool\"},{\"attributes\":{},\"id\":\"60b88ecb-d650-45b7-bac3-f45ff18c4ca0\",\"type\":\"ToolEvents\"},{\"attributes\":{\"callback\":null,\"column_names\":[\"x_values\",\"y_values\"],\"data\":{\"chart_index\":[{\"species\":\"setosa\"},{\"species\":\"setosa\"},{\"species\":\"setosa\"},{\"species\":\"setosa\"},{\"species\":\"setosa\"},{\"species\":\"setosa\"},{\"species\":\"setosa\"},{\"species\":\"setosa\"},{\"species\":\"setosa\"},{\"species\":\"setosa\"},{\"species\":\"setosa\"},{\"species\":\"setosa\"},{\"species\":\"setosa\"},{\"species\":\"setosa\"},{\"species\":\"setosa\"},{\"species\":\"setosa\"},{\"species\":\"setosa\"},{\"species\":\"setosa\"},{\"species\":\"setosa\"},{\"species\":\"setosa\"},{\"species\":\"setosa\"},{\"species\":\"setosa\"},{\"species\":\"setosa\"},{\"species\":\"setosa\"},{\"species\":\"setosa\"},{\"species\":\"setosa\"},{\"species\":\"setosa\"},{\"species\":\"setosa\"},{\"species\":\"setosa\"},{\"species\":\"setosa\"},{\"species\":\"setosa\"},{\"species\":\"setosa\"},{\"species\":\"setosa\"},{\"species\":\"setosa\"},{\"species\":\"setosa\"},{\"species\":\"setosa\"},{\"species\":\"setosa\"},{\"species\":\"setosa\"},{\"species\":\"setosa\"},{\"species\":\"setosa\"},{\"species\":\"setosa\"},{\"species\":\"setosa\"},{\"species\":\"setosa\"},{\"species\":\"setosa\"},{\"species\":\"setosa\"},{\"species\":\"setosa\"},{\"species\":\"setosa\"},{\"species\":\"setosa\"},{\"species\":\"setosa\"},{\"species\":\"setosa\"}],\"species\":[\"setosa\",\"setosa\",\"setosa\",\"setosa\",\"setosa\",\"setosa\",\"setosa\",\"setosa\",\"setosa\",\"setosa\",\"setosa\",\"setosa\",\"setosa\",\"setosa\",\"setosa\",\"setosa\",\"setosa\",\"setosa\",\"setosa\",\"setosa\",\"setosa\",\"setosa\",\"setosa\",\"setosa\",\"setosa\",\"setosa\",\"setosa\",\"setosa\",\"setosa\",\"setosa\",\"setosa\",\"setosa\",\"setosa\",\"setosa\",\"setosa\",\"setosa\",\"setosa\",\"setosa\",\"setosa\",\"setosa\",\"setosa\",\"setosa\",\"setosa\",\"setosa\",\"setosa\",\"setosa\",\"setosa\",\"setosa\",\"setosa\",\"setosa\"],\"x_values\":[1.4,1.4,1.3,1.5,1.4,1.7,1.4,1.5,1.4,1.5,1.5,1.6,1.4,1.1,1.2,1.5,1.3,1.4,1.7,1.5,1.7,1.5,1.0,1.7,1.9,1.6,1.6,1.5,1.4,1.6,1.6,1.5,1.5,1.4,1.5,1.2,1.3,1.4,1.3,1.5,1.3,1.3,1.3,1.6,1.9,1.4,1.6,1.4,1.5,1.4],\"y_values\":[0.2,0.2,0.2,0.2,0.2,0.4,0.3,0.2,0.2,0.1,0.2,0.2,0.1,0.1,0.2,0.4,0.4,0.3,0.3,0.3,0.2,0.4,0.2,0.5,0.2,0.2,0.4,0.2,0.2,0.2,0.2,0.4,0.1,0.2,0.2,0.2,0.2,0.1,0.2,0.2,0.3,0.3,0.2,0.6,0.4,0.3,0.2,0.2,0.2,0.2]}},\"id\":\"bf8179d0-bc10-4f64-83e9-8ba938f7ba17\",\"type\":\"ColumnDataSource\"},{\"attributes\":{\"bottom_units\":\"screen\",\"fill_alpha\":{\"value\":0.5},\"fill_color\":{\"value\":\"lightgrey\"},\"left_units\":\"screen\",\"level\":\"overlay\",\"line_alpha\":{\"value\":1.0},\"line_color\":{\"value\":\"black\"},\"line_dash\":[4,4],\"line_width\":{\"value\":2},\"plot\":null,\"render_mode\":\"css\",\"right_units\":\"screen\",\"top_units\":\"screen\"},\"id\":\"444d9945-9e2d-4d0f-9e63-a1a9a2d49691\",\"type\":\"BoxAnnotation\"},{\"attributes\":{\"data_source\":{\"id\":\"7dc6f24e-8d56-4c60-bb90-76baa44dc4c1\",\"type\":\"ColumnDataSource\"},\"glyph\":{\"id\":\"6c7c291a-dfa7-49be-81cd-142255c5b102\",\"type\":\"Circle\"},\"hover_glyph\":null,\"nonselection_glyph\":null,\"selection_glyph\":null},\"id\":\"6bf0b74c-6d98-4215-ac36-f837a7dbb12f\",\"type\":\"GlyphRenderer\"},{\"attributes\":{\"callback\":null,\"column_names\":[\"x_values\",\"y_values\"],\"data\":{\"chart_index\":[{\"species\":\"virginica\"},{\"species\":\"virginica\"},{\"species\":\"virginica\"},{\"species\":\"virginica\"},{\"species\":\"virginica\"},{\"species\":\"virginica\"},{\"species\":\"virginica\"},{\"species\":\"virginica\"},{\"species\":\"virginica\"},{\"species\":\"virginica\"},{\"species\":\"virginica\"},{\"species\":\"virginica\"},{\"species\":\"virginica\"},{\"species\":\"virginica\"},{\"species\":\"virginica\"},{\"species\":\"virginica\"},{\"species\":\"virginica\"},{\"species\":\"virginica\"},{\"species\":\"virginica\"},{\"species\":\"virginica\"},{\"species\":\"virginica\"},{\"species\":\"virginica\"},{\"species\":\"virginica\"},{\"species\":\"virginica\"},{\"species\":\"virginica\"},{\"species\":\"virginica\"},{\"species\":\"virginica\"},{\"species\":\"virginica\"},{\"species\":\"virginica\"},{\"species\":\"virginica\"},{\"species\":\"virginica\"},{\"species\":\"virginica\"},{\"species\":\"virginica\"},{\"species\":\"virginica\"},{\"species\":\"virginica\"},{\"species\":\"virginica\"},{\"species\":\"virginica\"},{\"species\":\"virginica\"},{\"species\":\"virginica\"},{\"species\":\"virginica\"},{\"species\":\"virginica\"},{\"species\":\"virginica\"},{\"species\":\"virginica\"},{\"species\":\"virginica\"},{\"species\":\"virginica\"},{\"species\":\"virginica\"},{\"species\":\"virginica\"},{\"species\":\"virginica\"},{\"species\":\"virginica\"},{\"species\":\"virginica\"}],\"species\":[\"virginica\",\"virginica\",\"virginica\",\"virginica\",\"virginica\",\"virginica\",\"virginica\",\"virginica\",\"virginica\",\"virginica\",\"virginica\",\"virginica\",\"virginica\",\"virginica\",\"virginica\",\"virginica\",\"virginica\",\"virginica\",\"virginica\",\"virginica\",\"virginica\",\"virginica\",\"virginica\",\"virginica\",\"virginica\",\"virginica\",\"virginica\",\"virginica\",\"virginica\",\"virginica\",\"virginica\",\"virginica\",\"virginica\",\"virginica\",\"virginica\",\"virginica\",\"virginica\",\"virginica\",\"virginica\",\"virginica\",\"virginica\",\"virginica\",\"virginica\",\"virginica\",\"virginica\",\"virginica\",\"virginica\",\"virginica\",\"virginica\",\"virginica\"],\"x_values\":[6.0,5.1,5.9,5.6,5.8,6.6,4.5,6.3,5.8,6.1,5.1,5.3,5.5,5.0,5.1,5.3,5.5,6.7,6.9,5.0,5.7,4.9,6.7,4.9,5.7,6.0,4.8,4.9,5.6,5.8,6.1,6.4,5.6,5.1,5.6,6.1,5.6,5.5,4.8,5.4,5.6,5.1,5.1,5.9,5.7,5.2,5.0,5.2,5.4,5.1],\"y_values\":[2.5,1.9,2.1,1.8,2.2,2.1,1.7,1.8,1.8,2.5,2.0,1.9,2.1,2.0,2.4,2.3,1.8,2.2,2.3,1.5,2.3,2.0,2.0,1.8,2.1,1.8,1.8,1.8,2.1,1.6,1.9,2.0,2.2,1.5,1.4,2.3,2.4,1.8,1.8,2.1,2.4,2.3,1.9,2.3,2.5,2.3,1.9,2.0,2.3,1.8]}},\"id\":\"7dc6f24e-8d56-4c60-bb90-76baa44dc4c1\",\"type\":\"ColumnDataSource\"},{\"attributes\":{\"data_source\":{\"id\":\"bf8179d0-bc10-4f64-83e9-8ba938f7ba17\",\"type\":\"ColumnDataSource\"},\"glyph\":{\"id\":\"6323bfe0-1b67-477b-a9b3-54d3942beef8\",\"type\":\"Circle\"},\"hover_glyph\":null,\"nonselection_glyph\":null,\"selection_glyph\":null},\"id\":\"5d0d8841-3696-4127-8816-95db57d470e8\",\"type\":\"GlyphRenderer\"},{\"attributes\":{\"plot\":{\"id\":\"282d37a0-d67e-403a-9468-3222a1f7292f\",\"subtype\":\"Chart\",\"type\":\"Plot\"}},\"id\":\"fa3df103-2547-499d-a2b5-88e4c1f5752a\",\"type\":\"HelpTool\"},{\"attributes\":{\"callback\":null,\"end\":7.49,\"start\":0.4099999999999999},\"id\":\"1eb484ee-c713-4f2e-a235-ab1d5b81aa08\",\"type\":\"Range1d\"},{\"attributes\":{},\"id\":\"dfeb89e5-497c-414c-80c4-4b3af21c6239\",\"type\":\"BasicTicker\"},{\"attributes\":{\"callback\":null,\"end\":2.74,\"start\":-0.13999999999999999},\"id\":\"c5b68d2f-3d39-4456-80fc-c29e60d820a5\",\"type\":\"Range1d\"}],\"root_ids\":[\"282d37a0-d67e-403a-9468-3222a1f7292f\"]},\"title\":\"Bokeh Application\",\"version\":\"0.12.0\"}};\n",
       "            var render_items = [{\"docid\":\"1dd54b1e-33c2-42bb-a7c7-aa3638d06cf7\",\"elementid\":\"99a3d1d6-2e84-4a52-8bd6-caf8cf6f0192\",\"modelid\":\"282d37a0-d67e-403a-9468-3222a1f7292f\",\"notebook_comms_target\":\"7d5d2d8e-dd9e-47d4-8766-739a6e70fab4\"}];\n",
       "            \n",
       "            Bokeh.embed.embed_items(docs_json, render_items);\n",
       "        });\n",
       "      },\n",
       "      function(Bokeh) {\n",
       "      }\n",
       "    ];\n",
       "  \n",
       "    function run_inline_js() {\n",
       "      for (var i = 0; i < inline_js.length; i++) {\n",
       "        inline_js[i](window.Bokeh);\n",
       "      }\n",
       "    }\n",
       "  \n",
       "    if (window._bokeh_is_loading === 0) {\n",
       "      console.log(\"Bokeh: BokehJS loaded, going straight to plotting\");\n",
       "      run_inline_js();\n",
       "    } else {\n",
       "      load_libs(js_urls, function() {\n",
       "        console.log(\"Bokeh: BokehJS plotting callback run at\", now());\n",
       "        run_inline_js();\n",
       "      });\n",
       "    }\n",
       "  }(this));\n",
       "</script>"
      ]
     },
     "metadata": {},
     "output_type": "display_data"
    },
    {
     "data": {
      "text/html": [
       "<p><code>&lt;Bokeh Notebook handle for <strong>In[5]</strong>&gt;</code></p>"
      ],
      "text/plain": [
       "<bokeh.io._CommsHandle at 0x10da38d30>"
      ]
     },
     "execution_count": 5,
     "metadata": {},
     "output_type": "execute_result"
    }
   ],
   "source": [
    "p = Scatter(flowers, x='petal_length', y='petal_width', color='species', legend='top_left')\n",
    "show(p)"
   ]
  },
  {
   "cell_type": "markdown",
   "metadata": {},
   "source": [
    "By passing a column name for the `marker` parameter, you can make `Scatter` automatically vary the marker shapes according to the groups in that column. Let's try that as an exercise."
   ]
  },
  {
   "cell_type": "code",
   "execution_count": 6,
   "metadata": {
    "collapsed": false
   },
   "outputs": [],
   "source": [
    "# EXERCISE: vary the marker shape by passing a column name as the `marker` keyword argument\n"
   ]
  },
  {
   "cell_type": "markdown",
   "metadata": {},
   "source": [
    "# Bar Chart\n",
    "\n",
    "A high-level bar chart is provided by [`bokeh.charts.Bar`]()\n",
    "\n",
    "For this section, we will use the \"autompg\" data set. Let's import it and take a quick look:"
   ]
  },
  {
   "cell_type": "code",
   "execution_count": 7,
   "metadata": {
    "collapsed": false
   },
   "outputs": [
    {
     "data": {
      "text/html": [
       "<div>\n",
       "<table border=\"1\" class=\"dataframe\">\n",
       "  <thead>\n",
       "    <tr style=\"text-align: right;\">\n",
       "      <th></th>\n",
       "      <th>mpg</th>\n",
       "      <th>cyl</th>\n",
       "      <th>displ</th>\n",
       "      <th>hp</th>\n",
       "      <th>weight</th>\n",
       "      <th>accel</th>\n",
       "      <th>yr</th>\n",
       "      <th>origin</th>\n",
       "      <th>name</th>\n",
       "    </tr>\n",
       "  </thead>\n",
       "  <tbody>\n",
       "    <tr>\n",
       "      <th>0</th>\n",
       "      <td>18.0</td>\n",
       "      <td>8</td>\n",
       "      <td>307.0</td>\n",
       "      <td>130</td>\n",
       "      <td>3504</td>\n",
       "      <td>12.0</td>\n",
       "      <td>70</td>\n",
       "      <td>1</td>\n",
       "      <td>chevrolet chevelle malibu</td>\n",
       "    </tr>\n",
       "    <tr>\n",
       "      <th>1</th>\n",
       "      <td>15.0</td>\n",
       "      <td>8</td>\n",
       "      <td>350.0</td>\n",
       "      <td>165</td>\n",
       "      <td>3693</td>\n",
       "      <td>11.5</td>\n",
       "      <td>70</td>\n",
       "      <td>1</td>\n",
       "      <td>buick skylark 320</td>\n",
       "    </tr>\n",
       "    <tr>\n",
       "      <th>2</th>\n",
       "      <td>18.0</td>\n",
       "      <td>8</td>\n",
       "      <td>318.0</td>\n",
       "      <td>150</td>\n",
       "      <td>3436</td>\n",
       "      <td>11.0</td>\n",
       "      <td>70</td>\n",
       "      <td>1</td>\n",
       "      <td>plymouth satellite</td>\n",
       "    </tr>\n",
       "    <tr>\n",
       "      <th>3</th>\n",
       "      <td>16.0</td>\n",
       "      <td>8</td>\n",
       "      <td>304.0</td>\n",
       "      <td>150</td>\n",
       "      <td>3433</td>\n",
       "      <td>12.0</td>\n",
       "      <td>70</td>\n",
       "      <td>1</td>\n",
       "      <td>amc rebel sst</td>\n",
       "    </tr>\n",
       "    <tr>\n",
       "      <th>4</th>\n",
       "      <td>17.0</td>\n",
       "      <td>8</td>\n",
       "      <td>302.0</td>\n",
       "      <td>140</td>\n",
       "      <td>3449</td>\n",
       "      <td>10.5</td>\n",
       "      <td>70</td>\n",
       "      <td>1</td>\n",
       "      <td>ford torino</td>\n",
       "    </tr>\n",
       "  </tbody>\n",
       "</table>\n",
       "</div>"
      ],
      "text/plain": [
       "    mpg  cyl  displ   hp  weight  accel  yr  origin                       name\n",
       "0  18.0    8  307.0  130    3504   12.0  70       1  chevrolet chevelle malibu\n",
       "1  15.0    8  350.0  165    3693   11.5  70       1          buick skylark 320\n",
       "2  18.0    8  318.0  150    3436   11.0  70       1         plymouth satellite\n",
       "3  16.0    8  304.0  150    3433   12.0  70       1              amc rebel sst\n",
       "4  17.0    8  302.0  140    3449   10.5  70       1                ford torino"
      ]
     },
     "execution_count": 7,
     "metadata": {},
     "output_type": "execute_result"
    }
   ],
   "source": [
    "from bokeh.sampledata.autompg import autompg\n",
    "autompg.head()"
   ]
  },
  {
   "cell_type": "code",
   "execution_count": 8,
   "metadata": {
    "collapsed": true
   },
   "outputs": [],
   "source": [
    "from bokeh.charts import Bar"
   ]
  },
  {
   "cell_type": "markdown",
   "metadata": {},
   "source": [
    "A basic bar chart takes the data (again a DataFrame) as the first value, as well as column names for:\n",
    "\n",
    "* `label` - a column to group to label the x-axis\n",
    "* `values` - a column to aggregate values for each group, to give the bar heights\n",
    "* `agg` - the name of an aggregation to perform over the values (e.g., `\"mean\"`, `\"max\"`, etc.)\n",
    "\n",
    "A simple example that also specifies some other properties such as `title` and `legend` is shown below:"
   ]
  },
  {
   "cell_type": "code",
   "execution_count": 9,
   "metadata": {
    "collapsed": false
   },
   "outputs": [
    {
     "data": {
      "text/html": [
       "\n",
       "\n",
       "    <div class=\"bk-root\">\n",
       "        <div class=\"plotdiv\" id=\"6b4973aa-ebbd-4b1a-9534-752b864d47fe\"></div>\n",
       "    </div>\n",
       "<script type=\"text/javascript\">\n",
       "  \n",
       "  (function(global) {\n",
       "    function now() {\n",
       "      return new Date();\n",
       "    }\n",
       "  \n",
       "    if (typeof (window._bokeh_onload_callbacks) === \"undefined\") {\n",
       "      window._bokeh_onload_callbacks = [];\n",
       "    }\n",
       "  \n",
       "    function run_callbacks() {\n",
       "      window._bokeh_onload_callbacks.forEach(function(callback) { callback() });\n",
       "      delete window._bokeh_onload_callbacks\n",
       "      console.info(\"Bokeh: all callbacks have finished\");\n",
       "    }\n",
       "  \n",
       "    function load_libs(js_urls, callback) {\n",
       "      window._bokeh_onload_callbacks.push(callback);\n",
       "      if (window._bokeh_is_loading > 0) {\n",
       "        console.log(\"Bokeh: BokehJS is being loaded, scheduling callback at\", now());\n",
       "        return null;\n",
       "      }\n",
       "      if (js_urls == null || js_urls.length === 0) {\n",
       "        run_callbacks();\n",
       "        return null;\n",
       "      }\n",
       "      console.log(\"Bokeh: BokehJS not loaded, scheduling load and callback at\", now());\n",
       "      window._bokeh_is_loading = js_urls.length;\n",
       "      for (var i = 0; i < js_urls.length; i++) {\n",
       "        var url = js_urls[i];\n",
       "        var s = document.createElement('script');\n",
       "        s.src = url;\n",
       "        s.async = false;\n",
       "        s.onreadystatechange = s.onload = function() {\n",
       "          window._bokeh_is_loading--;\n",
       "          if (window._bokeh_is_loading === 0) {\n",
       "            console.log(\"Bokeh: all BokehJS libraries loaded\");\n",
       "            run_callbacks()\n",
       "          }\n",
       "        };\n",
       "        s.onerror = function() {\n",
       "          console.warn(\"failed to load library \" + url);\n",
       "        };\n",
       "        console.log(\"Bokeh: injecting script tag for BokehJS library: \", url);\n",
       "        document.getElementsByTagName(\"head\")[0].appendChild(s);\n",
       "      }\n",
       "    };var element = document.getElementById(\"6b4973aa-ebbd-4b1a-9534-752b864d47fe\");\n",
       "    if (element == null) {\n",
       "      console.log(\"Bokeh: ERROR: autoload.js configured with elementid '6b4973aa-ebbd-4b1a-9534-752b864d47fe' but no matching script tag was found. \")\n",
       "      return false;\n",
       "    }\n",
       "  \n",
       "    var js_urls = [];\n",
       "  \n",
       "    var inline_js = [\n",
       "      function(Bokeh) {\n",
       "        Bokeh.$(function() {\n",
       "            var docs_json = {\"9963484a-3dfc-4ede-a551-f54705ed42b0\":{\"roots\":{\"references\":[{\"attributes\":{\"plot\":null,\"text\":\"Max MPG by CYL\"},\"id\":\"6c487711-5590-4510-848d-66ec2554f533\",\"type\":\"Title\"},{\"attributes\":{\"below\":[{\"id\":\"93089e07-5502-4c63-9ad6-943f8b873bee\",\"type\":\"CategoricalAxis\"}],\"left\":[{\"id\":\"5f2c014a-ac88-4b5d-9c55-f056d3f21f1f\",\"type\":\"LinearAxis\"}],\"renderers\":[{\"id\":\"c087b0d6-480a-42d7-b6f6-2448ce8bae22\",\"type\":\"GlyphRenderer\"},{\"id\":\"70fce3bb-7e5b-4ee4-8bc9-ebccfb989a1e\",\"type\":\"GlyphRenderer\"},{\"id\":\"c64aea87-8fc4-4920-8e8b-7fb531ecf445\",\"type\":\"GlyphRenderer\"},{\"id\":\"95c3ad51-d472-43a3-ab31-4b997ffe2ea4\",\"type\":\"GlyphRenderer\"},{\"id\":\"5819be56-7953-4b63-95f6-1820d98f20a6\",\"type\":\"GlyphRenderer\"},{\"id\":\"93089e07-5502-4c63-9ad6-943f8b873bee\",\"type\":\"CategoricalAxis\"},{\"id\":\"5f2c014a-ac88-4b5d-9c55-f056d3f21f1f\",\"type\":\"LinearAxis\"},{\"id\":\"0b00459f-6b72-4f8c-9399-d91002b0ef25\",\"type\":\"Grid\"}],\"title\":{\"id\":\"6c487711-5590-4510-848d-66ec2554f533\",\"type\":\"Title\"},\"tool_events\":{\"id\":\"950bd808-d32d-4eeb-b746-324f6478ac19\",\"type\":\"ToolEvents\"},\"toolbar\":{\"id\":\"18e70967-d835-4b5c-b050-80db4800bc28\",\"type\":\"Toolbar\"},\"x_mapper_type\":\"auto\",\"x_range\":{\"id\":\"9bc862e9-25d4-44c3-8c1d-c130296ab715\",\"type\":\"FactorRange\"},\"y_mapper_type\":\"auto\",\"y_range\":{\"id\":\"5586fb47-e4a8-438c-a3a0-9e8dd9fe9664\",\"type\":\"Range1d\"}},\"id\":\"6a1e92ba-a6c9-4164-8db1-441946b17357\",\"subtype\":\"Chart\",\"type\":\"Plot\"},{\"attributes\":{},\"id\":\"258c014c-df16-43ae-8603-6601f8d2dcc2\",\"type\":\"BasicTickFormatter\"},{\"attributes\":{\"callback\":null,\"column_names\":[\"line_color\",\"width\",\"height\",\"fill_alpha\",\"label\",\"x\",\"line_alpha\",\"color\",\"y\"],\"data\":{\"chart_index\":[{\"cyl\":6}],\"color\":[\"#f22c40\"],\"cyl\":[6],\"fill_alpha\":[0.8],\"height\":[38.0],\"label\":[{\"cyl\":6}],\"line_alpha\":[1.0],\"line_color\":[\"white\"],\"width\":[0.8],\"x\":[\"6\"],\"y\":[19.0]}},\"id\":\"ee7bae22-63b2-4d50-9b0d-21af29232531\",\"type\":\"ColumnDataSource\"},{\"attributes\":{},\"id\":\"e34753e6-0e6d-4233-a71e-8daa52de9f9b\",\"type\":\"CategoricalTicker\"},{\"attributes\":{\"callback\":null,\"column_names\":[\"line_color\",\"width\",\"height\",\"fill_alpha\",\"label\",\"x\",\"line_alpha\",\"color\",\"y\"],\"data\":{\"chart_index\":[{\"cyl\":8}],\"color\":[\"#f22c40\"],\"cyl\":[8],\"fill_alpha\":[0.8],\"height\":[26.6],\"label\":[{\"cyl\":8}],\"line_alpha\":[1.0],\"line_color\":[\"white\"],\"width\":[0.8],\"x\":[\"8\"],\"y\":[13.3]}},\"id\":\"2d5b0109-a861-4757-b308-641ba4d670a8\",\"type\":\"ColumnDataSource\"},{\"attributes\":{\"callback\":null,\"column_names\":[\"line_color\",\"width\",\"height\",\"fill_alpha\",\"label\",\"x\",\"line_alpha\",\"color\",\"y\"],\"data\":{\"chart_index\":[{\"cyl\":5}],\"color\":[\"#f22c40\"],\"cyl\":[5],\"fill_alpha\":[0.8],\"height\":[36.4],\"label\":[{\"cyl\":5}],\"line_alpha\":[1.0],\"line_color\":[\"white\"],\"width\":[0.8],\"x\":[\"5\"],\"y\":[18.2]}},\"id\":\"5823af81-0de9-4b12-bb87-e7d0dbe302bf\",\"type\":\"ColumnDataSource\"},{\"attributes\":{\"callback\":null,\"column_names\":[\"line_color\",\"width\",\"height\",\"fill_alpha\",\"label\",\"x\",\"line_alpha\",\"color\",\"y\"],\"data\":{\"chart_index\":[{\"cyl\":3}],\"color\":[\"#f22c40\"],\"cyl\":[3],\"fill_alpha\":[0.8],\"height\":[23.7],\"label\":[{\"cyl\":3}],\"line_alpha\":[1.0],\"line_color\":[\"white\"],\"width\":[0.8],\"x\":[\"3\"],\"y\":[11.85]}},\"id\":\"eb9373f3-f1e4-48e7-96c0-cf4e3d4d5ca5\",\"type\":\"ColumnDataSource\"},{\"attributes\":{},\"id\":\"23253db2-e67c-4cc4-bfc9-6745bdb99db7\",\"type\":\"BasicTicker\"},{\"attributes\":{\"fill_alpha\":{\"field\":\"fill_alpha\"},\"fill_color\":{\"field\":\"color\"},\"height\":{\"field\":\"height\",\"units\":\"data\"},\"line_color\":{\"field\":\"line_color\"},\"width\":{\"field\":\"width\",\"units\":\"data\"},\"x\":{\"field\":\"x\"},\"y\":{\"field\":\"y\"}},\"id\":\"34d85798-b7d2-49c0-87a8-d744a18449d2\",\"type\":\"Rect\"},{\"attributes\":{\"fill_alpha\":{\"field\":\"fill_alpha\"},\"fill_color\":{\"field\":\"color\"},\"height\":{\"field\":\"height\",\"units\":\"data\"},\"line_color\":{\"field\":\"line_color\"},\"width\":{\"field\":\"width\",\"units\":\"data\"},\"x\":{\"field\":\"x\"},\"y\":{\"field\":\"y\"}},\"id\":\"d76b317b-7ba0-4436-865c-26f0b4e05b66\",\"type\":\"Rect\"},{\"attributes\":{},\"id\":\"950bd808-d32d-4eeb-b746-324f6478ac19\",\"type\":\"ToolEvents\"},{\"attributes\":{\"callback\":null,\"factors\":[\"3\",\"4\",\"5\",\"6\",\"8\"]},\"id\":\"9bc862e9-25d4-44c3-8c1d-c130296ab715\",\"type\":\"FactorRange\"},{\"attributes\":{\"data_source\":{\"id\":\"5823af81-0de9-4b12-bb87-e7d0dbe302bf\",\"type\":\"ColumnDataSource\"},\"glyph\":{\"id\":\"d76b317b-7ba0-4436-865c-26f0b4e05b66\",\"type\":\"Rect\"},\"hover_glyph\":null,\"nonselection_glyph\":null,\"selection_glyph\":null},\"id\":\"5819be56-7953-4b63-95f6-1820d98f20a6\",\"type\":\"GlyphRenderer\"},{\"attributes\":{\"data_source\":{\"id\":\"2d5b0109-a861-4757-b308-641ba4d670a8\",\"type\":\"ColumnDataSource\"},\"glyph\":{\"id\":\"c0aaef47-3d2f-46c1-b807-4e79a16cf5a2\",\"type\":\"Rect\"},\"hover_glyph\":null,\"nonselection_glyph\":null,\"selection_glyph\":null},\"id\":\"c087b0d6-480a-42d7-b6f6-2448ce8bae22\",\"type\":\"GlyphRenderer\"},{\"attributes\":{\"active_drag\":\"auto\",\"active_scroll\":\"auto\",\"active_tap\":\"auto\",\"tools\":[{\"id\":\"0a1a65f5-43dd-4104-a5ee-749fee5c633c\",\"type\":\"CrosshairTool\"}]},\"id\":\"18e70967-d835-4b5c-b050-80db4800bc28\",\"type\":\"Toolbar\"},{\"attributes\":{\"axis_label\":\"Cyl\",\"formatter\":{\"id\":\"a5a11597-a597-4fef-a615-e1a15ca4f9bf\",\"type\":\"CategoricalTickFormatter\"},\"major_label_orientation\":0.7853981633974483,\"plot\":{\"id\":\"6a1e92ba-a6c9-4164-8db1-441946b17357\",\"subtype\":\"Chart\",\"type\":\"Plot\"},\"ticker\":{\"id\":\"e34753e6-0e6d-4233-a71e-8daa52de9f9b\",\"type\":\"CategoricalTicker\"}},\"id\":\"93089e07-5502-4c63-9ad6-943f8b873bee\",\"type\":\"CategoricalAxis\"},{\"attributes\":{\"fill_alpha\":{\"field\":\"fill_alpha\"},\"fill_color\":{\"field\":\"color\"},\"height\":{\"field\":\"height\",\"units\":\"data\"},\"line_color\":{\"field\":\"line_color\"},\"width\":{\"field\":\"width\",\"units\":\"data\"},\"x\":{\"field\":\"x\"},\"y\":{\"field\":\"y\"}},\"id\":\"52ac8a16-9433-4aab-b6e3-94463bf5efc4\",\"type\":\"Rect\"},{\"attributes\":{\"dimension\":1,\"plot\":{\"id\":\"6a1e92ba-a6c9-4164-8db1-441946b17357\",\"subtype\":\"Chart\",\"type\":\"Plot\"},\"ticker\":{\"id\":\"23253db2-e67c-4cc4-bfc9-6745bdb99db7\",\"type\":\"BasicTicker\"}},\"id\":\"0b00459f-6b72-4f8c-9399-d91002b0ef25\",\"type\":\"Grid\"},{\"attributes\":{\"callback\":null,\"column_names\":[\"line_color\",\"width\",\"height\",\"fill_alpha\",\"label\",\"x\",\"line_alpha\",\"color\",\"y\"],\"data\":{\"chart_index\":[{\"cyl\":4}],\"color\":[\"#f22c40\"],\"cyl\":[4],\"fill_alpha\":[0.8],\"height\":[46.6],\"label\":[{\"cyl\":4}],\"line_alpha\":[1.0],\"line_color\":[\"white\"],\"width\":[0.8],\"x\":[\"4\"],\"y\":[23.3]}},\"id\":\"76bda548-adda-4e67-83ff-cd24f5fe6e6a\",\"type\":\"ColumnDataSource\"},{\"attributes\":{},\"id\":\"a5a11597-a597-4fef-a615-e1a15ca4f9bf\",\"type\":\"CategoricalTickFormatter\"},{\"attributes\":{\"plot\":{\"id\":\"6a1e92ba-a6c9-4164-8db1-441946b17357\",\"subtype\":\"Chart\",\"type\":\"Plot\"}},\"id\":\"0a1a65f5-43dd-4104-a5ee-749fee5c633c\",\"type\":\"CrosshairTool\"},{\"attributes\":{\"callback\":null,\"end\":48.93},\"id\":\"5586fb47-e4a8-438c-a3a0-9e8dd9fe9664\",\"type\":\"Range1d\"},{\"attributes\":{\"fill_alpha\":{\"field\":\"fill_alpha\"},\"fill_color\":{\"field\":\"color\"},\"height\":{\"field\":\"height\",\"units\":\"data\"},\"line_color\":{\"field\":\"line_color\"},\"width\":{\"field\":\"width\",\"units\":\"data\"},\"x\":{\"field\":\"x\"},\"y\":{\"field\":\"y\"}},\"id\":\"1d516bda-13c6-4fdf-91f8-fc659d64500f\",\"type\":\"Rect\"},{\"attributes\":{\"fill_alpha\":{\"field\":\"fill_alpha\"},\"fill_color\":{\"field\":\"color\"},\"height\":{\"field\":\"height\",\"units\":\"data\"},\"line_color\":{\"field\":\"line_color\"},\"width\":{\"field\":\"width\",\"units\":\"data\"},\"x\":{\"field\":\"x\"},\"y\":{\"field\":\"y\"}},\"id\":\"c0aaef47-3d2f-46c1-b807-4e79a16cf5a2\",\"type\":\"Rect\"},{\"attributes\":{\"data_source\":{\"id\":\"ee7bae22-63b2-4d50-9b0d-21af29232531\",\"type\":\"ColumnDataSource\"},\"glyph\":{\"id\":\"1d516bda-13c6-4fdf-91f8-fc659d64500f\",\"type\":\"Rect\"},\"hover_glyph\":null,\"nonselection_glyph\":null,\"selection_glyph\":null},\"id\":\"c64aea87-8fc4-4920-8e8b-7fb531ecf445\",\"type\":\"GlyphRenderer\"},{\"attributes\":{\"axis_label\":\"Max( Mpg )\",\"formatter\":{\"id\":\"258c014c-df16-43ae-8603-6601f8d2dcc2\",\"type\":\"BasicTickFormatter\"},\"plot\":{\"id\":\"6a1e92ba-a6c9-4164-8db1-441946b17357\",\"subtype\":\"Chart\",\"type\":\"Plot\"},\"ticker\":{\"id\":\"23253db2-e67c-4cc4-bfc9-6745bdb99db7\",\"type\":\"BasicTicker\"}},\"id\":\"5f2c014a-ac88-4b5d-9c55-f056d3f21f1f\",\"type\":\"LinearAxis\"},{\"attributes\":{\"data_source\":{\"id\":\"eb9373f3-f1e4-48e7-96c0-cf4e3d4d5ca5\",\"type\":\"ColumnDataSource\"},\"glyph\":{\"id\":\"34d85798-b7d2-49c0-87a8-d744a18449d2\",\"type\":\"Rect\"},\"hover_glyph\":null,\"nonselection_glyph\":null,\"selection_glyph\":null},\"id\":\"95c3ad51-d472-43a3-ab31-4b997ffe2ea4\",\"type\":\"GlyphRenderer\"},{\"attributes\":{\"data_source\":{\"id\":\"76bda548-adda-4e67-83ff-cd24f5fe6e6a\",\"type\":\"ColumnDataSource\"},\"glyph\":{\"id\":\"52ac8a16-9433-4aab-b6e3-94463bf5efc4\",\"type\":\"Rect\"},\"hover_glyph\":null,\"nonselection_glyph\":null,\"selection_glyph\":null},\"id\":\"70fce3bb-7e5b-4ee4-8bc9-ebccfb989a1e\",\"type\":\"GlyphRenderer\"}],\"root_ids\":[\"6a1e92ba-a6c9-4164-8db1-441946b17357\"]},\"title\":\"Bokeh Application\",\"version\":\"0.12.0\"}};\n",
       "            var render_items = [{\"docid\":\"9963484a-3dfc-4ede-a551-f54705ed42b0\",\"elementid\":\"6b4973aa-ebbd-4b1a-9534-752b864d47fe\",\"modelid\":\"6a1e92ba-a6c9-4164-8db1-441946b17357\",\"notebook_comms_target\":\"84565e28-69dd-45d9-a72f-25381ac37691\"}];\n",
       "            \n",
       "            Bokeh.embed.embed_items(docs_json, render_items);\n",
       "        });\n",
       "      },\n",
       "      function(Bokeh) {\n",
       "      }\n",
       "    ];\n",
       "  \n",
       "    function run_inline_js() {\n",
       "      for (var i = 0; i < inline_js.length; i++) {\n",
       "        inline_js[i](window.Bokeh);\n",
       "      }\n",
       "    }\n",
       "  \n",
       "    if (window._bokeh_is_loading === 0) {\n",
       "      console.log(\"Bokeh: BokehJS loaded, going straight to plotting\");\n",
       "      run_inline_js();\n",
       "    } else {\n",
       "      load_libs(js_urls, function() {\n",
       "        console.log(\"Bokeh: BokehJS plotting callback run at\", now());\n",
       "        run_inline_js();\n",
       "      });\n",
       "    }\n",
       "  }(this));\n",
       "</script>"
      ]
     },
     "metadata": {},
     "output_type": "display_data"
    },
    {
     "data": {
      "text/html": [
       "<p><code>&lt;Bokeh Notebook handle for <strong>In[9]</strong>&gt;</code></p>"
      ],
      "text/plain": [
       "<bokeh.io._CommsHandle at 0x10da7f898>"
      ]
     },
     "execution_count": 9,
     "metadata": {},
     "output_type": "execute_result"
    }
   ],
   "source": [
    "p = Bar(autompg, label='cyl', values='mpg', agg='max', \n",
    "        title=\"Max MPG by CYL\", legend=None, tools='crosshair')\n",
    "show(p)"
   ]
  },
  {
   "cell_type": "markdown",
   "metadata": {},
   "source": [
    "By passing another column name as the `group` parameter, the aggregations can be further subdivided by the groups in that column, and the bars grouped visually. The example below demonstrates this, as well as adding a legend by specifying its location:"
   ]
  },
  {
   "cell_type": "code",
   "execution_count": 10,
   "metadata": {
    "collapsed": false
   },
   "outputs": [
    {
     "data": {
      "text/html": [
       "\n",
       "\n",
       "    <div class=\"bk-root\">\n",
       "        <div class=\"plotdiv\" id=\"01311224-055a-47eb-8e86-9ba07ac75692\"></div>\n",
       "    </div>\n",
       "<script type=\"text/javascript\">\n",
       "  \n",
       "  (function(global) {\n",
       "    function now() {\n",
       "      return new Date();\n",
       "    }\n",
       "  \n",
       "    if (typeof (window._bokeh_onload_callbacks) === \"undefined\") {\n",
       "      window._bokeh_onload_callbacks = [];\n",
       "    }\n",
       "  \n",
       "    function run_callbacks() {\n",
       "      window._bokeh_onload_callbacks.forEach(function(callback) { callback() });\n",
       "      delete window._bokeh_onload_callbacks\n",
       "      console.info(\"Bokeh: all callbacks have finished\");\n",
       "    }\n",
       "  \n",
       "    function load_libs(js_urls, callback) {\n",
       "      window._bokeh_onload_callbacks.push(callback);\n",
       "      if (window._bokeh_is_loading > 0) {\n",
       "        console.log(\"Bokeh: BokehJS is being loaded, scheduling callback at\", now());\n",
       "        return null;\n",
       "      }\n",
       "      if (js_urls == null || js_urls.length === 0) {\n",
       "        run_callbacks();\n",
       "        return null;\n",
       "      }\n",
       "      console.log(\"Bokeh: BokehJS not loaded, scheduling load and callback at\", now());\n",
       "      window._bokeh_is_loading = js_urls.length;\n",
       "      for (var i = 0; i < js_urls.length; i++) {\n",
       "        var url = js_urls[i];\n",
       "        var s = document.createElement('script');\n",
       "        s.src = url;\n",
       "        s.async = false;\n",
       "        s.onreadystatechange = s.onload = function() {\n",
       "          window._bokeh_is_loading--;\n",
       "          if (window._bokeh_is_loading === 0) {\n",
       "            console.log(\"Bokeh: all BokehJS libraries loaded\");\n",
       "            run_callbacks()\n",
       "          }\n",
       "        };\n",
       "        s.onerror = function() {\n",
       "          console.warn(\"failed to load library \" + url);\n",
       "        };\n",
       "        console.log(\"Bokeh: injecting script tag for BokehJS library: \", url);\n",
       "        document.getElementsByTagName(\"head\")[0].appendChild(s);\n",
       "      }\n",
       "    };var element = document.getElementById(\"01311224-055a-47eb-8e86-9ba07ac75692\");\n",
       "    if (element == null) {\n",
       "      console.log(\"Bokeh: ERROR: autoload.js configured with elementid '01311224-055a-47eb-8e86-9ba07ac75692' but no matching script tag was found. \")\n",
       "      return false;\n",
       "    }\n",
       "  \n",
       "    var js_urls = [];\n",
       "  \n",
       "    var inline_js = [\n",
       "      function(Bokeh) {\n",
       "        Bokeh.$(function() {\n",
       "            var docs_json = {\"5b9491aa-0c1e-4bc6-9457-a171a61c0a05\":{\"roots\":{\"references\":[{\"attributes\":{\"data_source\":{\"id\":\"d9ec3a03-d84a-4b19-9ac3-a458eebaa6bf\",\"type\":\"ColumnDataSource\"},\"glyph\":{\"id\":\"51502991-7181-451b-ba4d-db1f64218f08\",\"type\":\"Rect\"},\"hover_glyph\":null,\"nonselection_glyph\":null,\"selection_glyph\":null},\"id\":\"97e9ec66-a100-4341-b195-0186d38c8d67\",\"type\":\"GlyphRenderer\"},{\"attributes\":{\"callback\":null,\"column_names\":[\"line_color\",\"width\",\"height\",\"fill_alpha\",\"label\",\"x\",\"line_alpha\",\"color\",\"y\"],\"data\":{\"chart_index\":[{\"origin\":3,\"yr\":71}],\"color\":[\"#407ee7\"],\"fill_alpha\":[0.8],\"height\":[29.0],\"label\":[{\"origin\":3,\"yr\":71}],\"line_alpha\":[1.0],\"line_color\":[\"white\"],\"origin\":[3],\"width\":[0.2],\"x\":[\"71:0.5\"],\"y\":[14.5],\"yr\":[71]}},\"id\":\"c8111f48-a887-4abb-a913-6286b259a3fa\",\"type\":\"ColumnDataSource\"},{\"attributes\":{\"callback\":null,\"column_names\":[\"line_color\",\"width\",\"height\",\"fill_alpha\",\"label\",\"x\",\"line_alpha\",\"color\",\"y\"],\"data\":{\"chart_index\":[{\"origin\":3,\"yr\":74}],\"color\":[\"#407ee7\"],\"fill_alpha\":[0.8],\"height\":[31.0],\"label\":[{\"origin\":3,\"yr\":74}],\"line_alpha\":[1.0],\"line_color\":[\"white\"],\"origin\":[3],\"width\":[0.2],\"x\":[\"74:0.5\"],\"y\":[15.5],\"yr\":[74]}},\"id\":\"ba736d26-16a5-4619-bb33-685b7794c703\",\"type\":\"ColumnDataSource\"},{\"attributes\":{\"fill_alpha\":{\"field\":\"fill_alpha\"},\"fill_color\":{\"field\":\"color\"},\"height\":{\"field\":\"height\",\"units\":\"data\"},\"line_color\":{\"field\":\"line_color\"},\"width\":{\"field\":\"width\",\"units\":\"data\"},\"x\":{\"field\":\"x\"},\"y\":{\"field\":\"y\"}},\"id\":\"6fc72d02-500b-435c-ba12-44ec2c186383\",\"type\":\"Rect\"},{\"attributes\":{\"fill_alpha\":{\"field\":\"fill_alpha\"},\"fill_color\":{\"field\":\"color\"},\"height\":{\"field\":\"height\",\"units\":\"data\"},\"line_color\":{\"field\":\"line_color\"},\"width\":{\"field\":\"width\",\"units\":\"data\"},\"x\":{\"field\":\"x\"},\"y\":{\"field\":\"y\"}},\"id\":\"05953280-fcff-47e7-b934-979a932c5dd6\",\"type\":\"Rect\"},{\"attributes\":{\"data_source\":{\"id\":\"70ff522e-9010-42e4-97e4-cf3d2411988f\",\"type\":\"ColumnDataSource\"},\"glyph\":{\"id\":\"05953280-fcff-47e7-b934-979a932c5dd6\",\"type\":\"Rect\"},\"hover_glyph\":null,\"nonselection_glyph\":null,\"selection_glyph\":null},\"id\":\"2002889b-fdcd-4528-a765-9bf6875e1f30\",\"type\":\"GlyphRenderer\"},{\"attributes\":{\"fill_alpha\":{\"field\":\"fill_alpha\"},\"fill_color\":{\"field\":\"color\"},\"height\":{\"field\":\"height\",\"units\":\"data\"},\"line_color\":{\"field\":\"line_color\"},\"width\":{\"field\":\"width\",\"units\":\"data\"},\"x\":{\"field\":\"x\"},\"y\":{\"field\":\"y\"}},\"id\":\"f6e1cc1d-8d0e-4556-88f8-e6f7bf08bdd2\",\"type\":\"Rect\"},{\"attributes\":{\"callback\":null,\"column_names\":[\"line_color\",\"width\",\"height\",\"fill_alpha\",\"label\",\"x\",\"line_alpha\",\"color\",\"y\"],\"data\":{\"chart_index\":[{\"origin\":3,\"yr\":76}],\"color\":[\"#407ee7\"],\"fill_alpha\":[0.8],\"height\":[30.0],\"label\":[{\"origin\":3,\"yr\":76}],\"line_alpha\":[1.0],\"line_color\":[\"white\"],\"origin\":[3],\"width\":[0.2],\"x\":[\"76:0.5\"],\"y\":[15.0],\"yr\":[76]}},\"id\":\"1ccdd0c2-e15e-44ce-aa87-2fe37df9e02e\",\"type\":\"ColumnDataSource\"},{\"attributes\":{\"callback\":null,\"column_names\":[\"line_color\",\"width\",\"height\",\"fill_alpha\",\"label\",\"x\",\"line_alpha\",\"color\",\"y\"],\"data\":{\"chart_index\":[{\"origin\":1,\"yr\":78}],\"color\":[\"#f22c40\"],\"fill_alpha\":[0.8],\"height\":[20.2],\"label\":[{\"origin\":1,\"yr\":78}],\"line_alpha\":[1.0],\"line_color\":[\"white\"],\"origin\":[1],\"width\":[0.2],\"x\":[\"78:0.25\"],\"y\":[10.1],\"yr\":[78]}},\"id\":\"5120deb4-4eb0-4545-b434-d9501795e893\",\"type\":\"ColumnDataSource\"},{\"attributes\":{\"fill_alpha\":{\"field\":\"fill_alpha\"},\"fill_color\":{\"field\":\"color\"},\"height\":{\"field\":\"height\",\"units\":\"data\"},\"line_color\":{\"field\":\"line_color\"},\"width\":{\"field\":\"width\",\"units\":\"data\"},\"x\":{\"field\":\"x\"},\"y\":{\"field\":\"y\"}},\"id\":\"ce434577-409b-4532-b6c7-814ece7282ff\",\"type\":\"Rect\"},{\"attributes\":{\"fill_alpha\":{\"field\":\"fill_alpha\"},\"fill_color\":{\"field\":\"color\"},\"height\":{\"field\":\"height\",\"units\":\"data\"},\"line_color\":{\"field\":\"line_color\"},\"width\":{\"field\":\"width\",\"units\":\"data\"},\"x\":{\"field\":\"x\"},\"y\":{\"field\":\"y\"}},\"id\":\"51502991-7181-451b-ba4d-db1f64218f08\",\"type\":\"Rect\"},{\"attributes\":{\"data_source\":{\"id\":\"d389182c-24e9-45d1-8a19-e5a17e72cefb\",\"type\":\"ColumnDataSource\"},\"glyph\":{\"id\":\"1da0a474-7e90-4cfd-a43f-2ea9a6ce5837\",\"type\":\"Rect\"},\"hover_glyph\":null,\"nonselection_glyph\":null,\"selection_glyph\":null},\"id\":\"9f4ce4bf-cfb6-4340-9440-8986912daffe\",\"type\":\"GlyphRenderer\"},{\"attributes\":{\"callback\":null,\"column_names\":[\"line_color\",\"width\",\"height\",\"fill_alpha\",\"label\",\"x\",\"line_alpha\",\"color\",\"y\"],\"data\":{\"chart_index\":[{\"origin\":2,\"yr\":72}],\"color\":[\"#5ab738\"],\"fill_alpha\":[0.8],\"height\":[22.0],\"label\":[{\"origin\":2,\"yr\":72}],\"line_alpha\":[1.0],\"line_color\":[\"white\"],\"origin\":[2],\"width\":[0.2],\"x\":[\"72:0.75\"],\"y\":[11.0],\"yr\":[72]}},\"id\":\"bb766118-0d3a-4199-9a01-77669e96246f\",\"type\":\"ColumnDataSource\"},{\"attributes\":{\"data_source\":{\"id\":\"0e5333d3-6429-4fb9-9b0a-e946917521d1\",\"type\":\"ColumnDataSource\"},\"glyph\":{\"id\":\"52be52ab-8998-4ec9-b067-f8d85968611f\",\"type\":\"Rect\"},\"hover_glyph\":null,\"nonselection_glyph\":null,\"selection_glyph\":null},\"id\":\"b84c45fa-cfa0-446f-a2bc-9b7a5f14ea4b\",\"type\":\"GlyphRenderer\"},{\"attributes\":{},\"id\":\"2a3be180-2f87-4e28-a1ab-503311e3a790\",\"type\":\"BasicTickFormatter\"},{\"attributes\":{\"callback\":null,\"column_names\":[\"line_color\",\"width\",\"height\",\"fill_alpha\",\"label\",\"x\",\"line_alpha\",\"color\",\"y\"],\"data\":{\"chart_index\":[{\"origin\":3,\"yr\":73}],\"color\":[\"#407ee7\"],\"fill_alpha\":[0.8],\"height\":[20.0],\"label\":[{\"origin\":3,\"yr\":73}],\"line_alpha\":[1.0],\"line_color\":[\"white\"],\"origin\":[3],\"width\":[0.2],\"x\":[\"73:0.5\"],\"y\":[10.0],\"yr\":[73]}},\"id\":\"3778ea07-cf21-4c08-9467-a6e4bf8e3877\",\"type\":\"ColumnDataSource\"},{\"attributes\":{\"fill_alpha\":{\"field\":\"fill_alpha\"},\"fill_color\":{\"field\":\"color\"},\"height\":{\"field\":\"height\",\"units\":\"data\"},\"line_color\":{\"field\":\"line_color\"},\"width\":{\"field\":\"width\",\"units\":\"data\"},\"x\":{\"field\":\"x\"},\"y\":{\"field\":\"y\"}},\"id\":\"92a53355-106f-4de5-b4c1-7469cc4a413d\",\"type\":\"Rect\"},{\"attributes\":{\"data_source\":{\"id\":\"d569f19b-6bd8-4d21-ae22-0dd9c71fa951\",\"type\":\"ColumnDataSource\"},\"glyph\":{\"id\":\"0295ceb8-d756-4256-9671-46862eacc846\",\"type\":\"Rect\"},\"hover_glyph\":null,\"nonselection_glyph\":null,\"selection_glyph\":null},\"id\":\"e581d07e-f942-4b1a-bed3-abf96cf00c3a\",\"type\":\"GlyphRenderer\"},{\"attributes\":{\"callback\":null,\"column_names\":[\"line_color\",\"width\",\"height\",\"fill_alpha\",\"label\",\"x\",\"line_alpha\",\"color\",\"y\"],\"data\":{\"chart_index\":[{\"origin\":1,\"yr\":76}],\"color\":[\"#f22c40\"],\"fill_alpha\":[0.8],\"height\":[18.25],\"label\":[{\"origin\":1,\"yr\":76}],\"line_alpha\":[1.0],\"line_color\":[\"white\"],\"origin\":[1],\"width\":[0.2],\"x\":[\"76:0.25\"],\"y\":[9.125],\"yr\":[76]}},\"id\":\"8a453a74-529b-4d53-8bca-7e81fff9090b\",\"type\":\"ColumnDataSource\"},{\"attributes\":{\"callback\":null,\"column_names\":[\"line_color\",\"width\",\"height\",\"fill_alpha\",\"label\",\"x\",\"line_alpha\",\"color\",\"y\"],\"data\":{\"chart_index\":[{\"origin\":1,\"yr\":70}],\"color\":[\"#f22c40\"],\"fill_alpha\":[0.8],\"height\":[15.0],\"label\":[{\"origin\":1,\"yr\":70}],\"line_alpha\":[1.0],\"line_color\":[\"white\"],\"origin\":[1],\"width\":[0.2],\"x\":[\"70:0.25\"],\"y\":[7.5],\"yr\":[70]}},\"id\":\"f8f6f0ad-5d8a-49f3-bcc5-d58bb7c7e676\",\"type\":\"ColumnDataSource\"},{\"attributes\":{\"fill_alpha\":{\"field\":\"fill_alpha\"},\"fill_color\":{\"field\":\"color\"},\"height\":{\"field\":\"height\",\"units\":\"data\"},\"line_color\":{\"field\":\"line_color\"},\"width\":{\"field\":\"width\",\"units\":\"data\"},\"x\":{\"field\":\"x\"},\"y\":{\"field\":\"y\"}},\"id\":\"11a74b0a-c256-4a4e-99c1-a5d9e0c343e7\",\"type\":\"Rect\"},{\"attributes\":{\"fill_alpha\":{\"field\":\"fill_alpha\"},\"fill_color\":{\"field\":\"color\"},\"height\":{\"field\":\"height\",\"units\":\"data\"},\"line_color\":{\"field\":\"line_color\"},\"width\":{\"field\":\"width\",\"units\":\"data\"},\"x\":{\"field\":\"x\"},\"y\":{\"field\":\"y\"}},\"id\":\"2f6d9365-58c3-4c1f-8ba1-4cd0c69302f8\",\"type\":\"Rect\"},{\"attributes\":{\"data_source\":{\"id\":\"8a453a74-529b-4d53-8bca-7e81fff9090b\",\"type\":\"ColumnDataSource\"},\"glyph\":{\"id\":\"b4385ddd-f332-4a24-86f6-4bd0e4ac003a\",\"type\":\"Rect\"},\"hover_glyph\":null,\"nonselection_glyph\":null,\"selection_glyph\":null},\"id\":\"58f4eccd-eb8e-44cd-8f58-4a71cb5be770\",\"type\":\"GlyphRenderer\"},{\"attributes\":{\"data_source\":{\"id\":\"57b25718-02f1-4399-9c8f-ea2bc69d4c0d\",\"type\":\"ColumnDataSource\"},\"glyph\":{\"id\":\"99ee68b4-aa2e-4b75-8151-749056f1564e\",\"type\":\"Rect\"},\"hover_glyph\":null,\"nonselection_glyph\":null,\"selection_glyph\":null},\"id\":\"ee5b7e25-372c-4d81-8c04-334fa13353de\",\"type\":\"GlyphRenderer\"},{\"attributes\":{\"callback\":null,\"column_names\":[\"line_color\",\"width\",\"height\",\"fill_alpha\",\"label\",\"x\",\"line_alpha\",\"color\",\"y\"],\"data\":{\"chart_index\":[{\"origin\":3,\"yr\":70}],\"color\":[\"#407ee7\"],\"fill_alpha\":[0.8],\"height\":[25.5],\"label\":[{\"origin\":3,\"yr\":70}],\"line_alpha\":[1.0],\"line_color\":[\"white\"],\"origin\":[3],\"width\":[0.2],\"x\":[\"70:0.5\"],\"y\":[12.75],\"yr\":[70]}},\"id\":\"a9a3337a-cc81-4b69-b2a9-8d99365ea5a8\",\"type\":\"ColumnDataSource\"},{\"attributes\":{\"fill_alpha\":{\"field\":\"fill_alpha\"},\"fill_color\":{\"field\":\"color\"},\"height\":{\"field\":\"height\",\"units\":\"data\"},\"line_color\":{\"field\":\"line_color\"},\"width\":{\"field\":\"width\",\"units\":\"data\"},\"x\":{\"field\":\"x\"},\"y\":{\"field\":\"y\"}},\"id\":\"6f6e1ded-ebbb-4755-a1b7-131ee24ed602\",\"type\":\"Rect\"},{\"attributes\":{\"fill_alpha\":{\"field\":\"fill_alpha\"},\"fill_color\":{\"field\":\"color\"},\"height\":{\"field\":\"height\",\"units\":\"data\"},\"line_color\":{\"field\":\"line_color\"},\"width\":{\"field\":\"width\",\"units\":\"data\"},\"x\":{\"field\":\"x\"},\"y\":{\"field\":\"y\"}},\"id\":\"a29a665a-4c46-4f13-8c54-d41ff895f5bb\",\"type\":\"Rect\"},{\"attributes\":{\"data_source\":{\"id\":\"7a3c0dcc-9b40-4bba-b883-51fe7680dc3f\",\"type\":\"ColumnDataSource\"},\"glyph\":{\"id\":\"92a53355-106f-4de5-b4c1-7469cc4a413d\",\"type\":\"Rect\"},\"hover_glyph\":null,\"nonselection_glyph\":null,\"selection_glyph\":null},\"id\":\"a037327d-a1b6-4851-a418-29a185b03ed8\",\"type\":\"GlyphRenderer\"},{\"attributes\":{\"callback\":null,\"column_names\":[\"line_color\",\"width\",\"height\",\"fill_alpha\",\"label\",\"x\",\"line_alpha\",\"color\",\"y\"],\"data\":{\"chart_index\":[{\"origin\":3,\"yr\":72}],\"color\":[\"#407ee7\"],\"fill_alpha\":[0.8],\"height\":[24.0],\"label\":[{\"origin\":3,\"yr\":72}],\"line_alpha\":[1.0],\"line_color\":[\"white\"],\"origin\":[3],\"width\":[0.2],\"x\":[\"72:0.5\"],\"y\":[12.0],\"yr\":[72]}},\"id\":\"f7ac3e28-20fa-40ba-89ef-de34311a80aa\",\"type\":\"ColumnDataSource\"},{\"attributes\":{\"data_source\":{\"id\":\"1ccdd0c2-e15e-44ce-aa87-2fe37df9e02e\",\"type\":\"ColumnDataSource\"},\"glyph\":{\"id\":\"9a6b24ab-1671-4c5f-86bb-0155cfc4dd59\",\"type\":\"Rect\"},\"hover_glyph\":null,\"nonselection_glyph\":null,\"selection_glyph\":null},\"id\":\"cb1e1454-6fa8-43ad-93eb-6110f95ce4ef\",\"type\":\"GlyphRenderer\"},{\"attributes\":{\"data_source\":{\"id\":\"71f12262-f25b-4aff-91e4-0db671e4fb80\",\"type\":\"ColumnDataSource\"},\"glyph\":{\"id\":\"a29a665a-4c46-4f13-8c54-d41ff895f5bb\",\"type\":\"Rect\"},\"hover_glyph\":null,\"nonselection_glyph\":null,\"selection_glyph\":null},\"id\":\"409614fa-52b0-4e65-a92f-5d4e51991fbf\",\"type\":\"GlyphRenderer\"},{\"attributes\":{\"callback\":null,\"column_names\":[\"line_color\",\"width\",\"height\",\"fill_alpha\",\"label\",\"x\",\"line_alpha\",\"color\",\"y\"],\"data\":{\"chart_index\":[{\"origin\":1,\"yr\":79}],\"color\":[\"#f22c40\"],\"fill_alpha\":[0.8],\"height\":[21.5],\"label\":[{\"origin\":1,\"yr\":79}],\"line_alpha\":[1.0],\"line_color\":[\"white\"],\"origin\":[1],\"width\":[0.2],\"x\":[\"79:0.25\"],\"y\":[10.75],\"yr\":[79]}},\"id\":\"71f12262-f25b-4aff-91e4-0db671e4fb80\",\"type\":\"ColumnDataSource\"},{\"attributes\":{\"fill_alpha\":{\"field\":\"fill_alpha\"},\"fill_color\":{\"field\":\"color\"},\"height\":{\"field\":\"height\",\"units\":\"data\"},\"line_color\":{\"field\":\"line_color\"},\"width\":{\"field\":\"width\",\"units\":\"data\"},\"x\":{\"field\":\"x\"},\"y\":{\"field\":\"y\"}},\"id\":\"e3269cf7-3653-47ba-b733-5df3c50f668e\",\"type\":\"Rect\"},{\"attributes\":{\"fill_alpha\":{\"field\":\"fill_alpha\"},\"fill_color\":{\"field\":\"color\"},\"height\":{\"field\":\"height\",\"units\":\"data\"},\"line_color\":{\"field\":\"line_color\"},\"width\":{\"field\":\"width\",\"units\":\"data\"},\"x\":{\"field\":\"x\"},\"y\":{\"field\":\"y\"}},\"id\":\"f1590cf8-2309-4390-a7d6-dc77e2015610\",\"type\":\"Rect\"},{\"attributes\":{\"data_source\":{\"id\":\"9443c272-6682-4793-af60-644bebb95dac\",\"type\":\"ColumnDataSource\"},\"glyph\":{\"id\":\"f5d3e21c-8e15-4c22-8ed6-5ba86f88f5f6\",\"type\":\"Rect\"},\"hover_glyph\":null,\"nonselection_glyph\":null,\"selection_glyph\":null},\"id\":\"934324ee-a27b-408f-9f10-d9608d645d84\",\"type\":\"GlyphRenderer\"},{\"attributes\":{\"data_source\":{\"id\":\"ba736d26-16a5-4619-bb33-685b7794c703\",\"type\":\"ColumnDataSource\"},\"glyph\":{\"id\":\"2d1b2239-0d74-4806-ba08-82db398f06c6\",\"type\":\"Rect\"},\"hover_glyph\":null,\"nonselection_glyph\":null,\"selection_glyph\":null},\"id\":\"6996dadf-b3ff-4453-93fd-ae2a5e1a763b\",\"type\":\"GlyphRenderer\"},{\"attributes\":{},\"id\":\"c3142623-6d11-4489-8132-23332f0c7f9a\",\"type\":\"CategoricalTicker\"},{\"attributes\":{\"callback\":null,\"column_names\":[\"line_color\",\"width\",\"height\",\"fill_alpha\",\"label\",\"x\",\"line_alpha\",\"color\",\"y\"],\"data\":{\"chart_index\":[{\"origin\":1,\"yr\":75}],\"color\":[\"#f22c40\"],\"fill_alpha\":[0.8],\"height\":[17.5],\"label\":[{\"origin\":1,\"yr\":75}],\"line_alpha\":[1.0],\"line_color\":[\"white\"],\"origin\":[1],\"width\":[0.2],\"x\":[\"75:0.25\"],\"y\":[8.75],\"yr\":[75]}},\"id\":\"70ff522e-9010-42e4-97e4-cf3d2411988f\",\"type\":\"ColumnDataSource\"},{\"attributes\":{\"axis_label\":\"Yr\",\"formatter\":{\"id\":\"fd75ac45-594c-4d99-912d-9af6ca3b302f\",\"type\":\"CategoricalTickFormatter\"},\"major_label_orientation\":0.7853981633974483,\"plot\":{\"id\":\"b98f6768-3004-4395-8f96-417502eb9a0e\",\"subtype\":\"Chart\",\"type\":\"Plot\"},\"ticker\":{\"id\":\"c3142623-6d11-4489-8132-23332f0c7f9a\",\"type\":\"CategoricalTicker\"}},\"id\":\"f7841257-729a-41d7-9a01-2602698f160c\",\"type\":\"CategoricalAxis\"},{\"attributes\":{\"callback\":null,\"factors\":[\"70\",\"71\",\"72\",\"73\",\"74\",\"75\",\"76\",\"77\",\"78\",\"79\",\"80\",\"81\",\"82\"]},\"id\":\"3741db94-942a-4eff-94ad-f46b0c22ef0c\",\"type\":\"FactorRange\"},{\"attributes\":{\"callback\":null,\"column_names\":[\"line_color\",\"width\",\"height\",\"fill_alpha\",\"label\",\"x\",\"line_alpha\",\"color\",\"y\"],\"data\":{\"chart_index\":[{\"origin\":1,\"yr\":80}],\"color\":[\"#f22c40\"],\"fill_alpha\":[0.8],\"height\":[27.15],\"label\":[{\"origin\":1,\"yr\":80}],\"line_alpha\":[1.0],\"line_color\":[\"white\"],\"origin\":[1],\"width\":[0.2],\"x\":[\"80:0.25\"],\"y\":[13.575],\"yr\":[80]}},\"id\":\"13d073e7-a477-4a00-b37f-79a10c7f16d5\",\"type\":\"ColumnDataSource\"},{\"attributes\":{\"fill_alpha\":{\"field\":\"fill_alpha\"},\"fill_color\":{\"field\":\"color\"},\"height\":{\"field\":\"height\",\"units\":\"data\"},\"line_color\":{\"field\":\"line_color\"},\"width\":{\"field\":\"width\",\"units\":\"data\"},\"x\":{\"field\":\"x\"},\"y\":{\"field\":\"y\"}},\"id\":\"8d15b202-a41e-473c-94ce-14d72a61f71b\",\"type\":\"Rect\"},{\"attributes\":{\"callback\":null,\"column_names\":[\"line_color\",\"width\",\"height\",\"fill_alpha\",\"label\",\"x\",\"line_alpha\",\"color\",\"y\"],\"data\":{\"chart_index\":[{\"origin\":3,\"yr\":82}],\"color\":[\"#407ee7\"],\"fill_alpha\":[0.8],\"height\":[36.0],\"label\":[{\"origin\":3,\"yr\":82}],\"line_alpha\":[1.0],\"line_color\":[\"white\"],\"origin\":[3],\"width\":[0.2],\"x\":[\"82:0.5\"],\"y\":[18.0],\"yr\":[82]}},\"id\":\"18feb6a2-838e-45a4-badc-0527455577ea\",\"type\":\"ColumnDataSource\"},{\"attributes\":{\"callback\":null,\"column_names\":[\"line_color\",\"width\",\"height\",\"fill_alpha\",\"label\",\"x\",\"line_alpha\",\"color\",\"y\"],\"data\":{\"chart_index\":[{\"origin\":1,\"yr\":74}],\"color\":[\"#f22c40\"],\"fill_alpha\":[0.8],\"height\":[16.0],\"label\":[{\"origin\":1,\"yr\":74}],\"line_alpha\":[1.0],\"line_color\":[\"white\"],\"origin\":[1],\"width\":[0.2],\"x\":[\"74:0.25\"],\"y\":[8.0],\"yr\":[74]}},\"id\":\"9443c272-6682-4793-af60-644bebb95dac\",\"type\":\"ColumnDataSource\"},{\"attributes\":{\"data_source\":{\"id\":\"5e3f5a30-207d-4222-afd9-36eb3805906c\",\"type\":\"ColumnDataSource\"},\"glyph\":{\"id\":\"6fc72d02-500b-435c-ba12-44ec2c186383\",\"type\":\"Rect\"},\"hover_glyph\":null,\"nonselection_glyph\":null,\"selection_glyph\":null},\"id\":\"239b96da-51a8-4cca-87a6-fd403f478bdf\",\"type\":\"GlyphRenderer\"},{\"attributes\":{\"data_source\":{\"id\":\"d6f93832-c7da-4c30-954a-8c198676c946\",\"type\":\"ColumnDataSource\"},\"glyph\":{\"id\":\"ce434577-409b-4532-b6c7-814ece7282ff\",\"type\":\"Rect\"},\"hover_glyph\":null,\"nonselection_glyph\":null,\"selection_glyph\":null},\"id\":\"8ad200fb-1a95-4a7a-8e0f-eb73ba470ded\",\"type\":\"GlyphRenderer\"},{\"attributes\":{},\"id\":\"d9e47128-f46b-4277-8f54-28d710cbb625\",\"type\":\"BasicTicker\"},{\"attributes\":{\"fill_alpha\":{\"field\":\"fill_alpha\"},\"fill_color\":{\"field\":\"color\"},\"height\":{\"field\":\"height\",\"units\":\"data\"},\"line_color\":{\"field\":\"line_color\"},\"width\":{\"field\":\"width\",\"units\":\"data\"},\"x\":{\"field\":\"x\"},\"y\":{\"field\":\"y\"}},\"id\":\"f5d3e21c-8e15-4c22-8ed6-5ba86f88f5f6\",\"type\":\"Rect\"},{\"attributes\":{\"callback\":null,\"column_names\":[\"line_color\",\"width\",\"height\",\"fill_alpha\",\"label\",\"x\",\"line_alpha\",\"color\",\"y\"],\"data\":{\"chart_index\":[{\"origin\":1,\"yr\":72}],\"color\":[\"#f22c40\"],\"fill_alpha\":[0.8],\"height\":[14.0],\"label\":[{\"origin\":1,\"yr\":72}],\"line_alpha\":[1.0],\"line_color\":[\"white\"],\"origin\":[1],\"width\":[0.2],\"x\":[\"72:0.25\"],\"y\":[7.0],\"yr\":[72]}},\"id\":\"d9ec3a03-d84a-4b19-9ac3-a458eebaa6bf\",\"type\":\"ColumnDataSource\"},{\"attributes\":{\"data_source\":{\"id\":\"c246de7d-b612-4b57-94d7-bb0e1a3b63e4\",\"type\":\"ColumnDataSource\"},\"glyph\":{\"id\":\"f268596f-c6ff-4c0c-be20-ddf114d039b0\",\"type\":\"Rect\"},\"hover_glyph\":null,\"nonselection_glyph\":null,\"selection_glyph\":null},\"id\":\"434be091-6c0b-407c-8521-a21090ed76a7\",\"type\":\"GlyphRenderer\"},{\"attributes\":{\"callback\":null,\"column_names\":[\"line_color\",\"width\",\"height\",\"fill_alpha\",\"label\",\"x\",\"line_alpha\",\"color\",\"y\"],\"data\":{\"chart_index\":[{\"origin\":1,\"yr\":71}],\"color\":[\"#f22c40\"],\"fill_alpha\":[0.8],\"height\":[18.0],\"label\":[{\"origin\":1,\"yr\":71}],\"line_alpha\":[1.0],\"line_color\":[\"white\"],\"origin\":[1],\"width\":[0.2],\"x\":[\"71:0.25\"],\"y\":[9.0],\"yr\":[71]}},\"id\":\"d1c94b87-9dd2-482d-979b-e7c036ea7fa8\",\"type\":\"ColumnDataSource\"},{\"attributes\":{\"data_source\":{\"id\":\"f8f6f0ad-5d8a-49f3-bcc5-d58bb7c7e676\",\"type\":\"ColumnDataSource\"},\"glyph\":{\"id\":\"e3269cf7-3653-47ba-b733-5df3c50f668e\",\"type\":\"Rect\"},\"hover_glyph\":null,\"nonselection_glyph\":null,\"selection_glyph\":null},\"id\":\"cb81c1b0-2f83-4a54-9cf7-9a873b74efdb\",\"type\":\"GlyphRenderer\"},{\"attributes\":{\"callback\":null,\"column_names\":[\"line_color\",\"width\",\"height\",\"fill_alpha\",\"label\",\"x\",\"line_alpha\",\"color\",\"y\"],\"data\":{\"chart_index\":[{\"origin\":1,\"yr\":73}],\"color\":[\"#f22c40\"],\"fill_alpha\":[0.8],\"height\":[14.0],\"label\":[{\"origin\":1,\"yr\":73}],\"line_alpha\":[1.0],\"line_color\":[\"white\"],\"origin\":[1],\"width\":[0.2],\"x\":[\"73:0.25\"],\"y\":[7.0],\"yr\":[73]}},\"id\":\"d65faa7b-75ee-407b-9df2-22762eccaf97\",\"type\":\"ColumnDataSource\"},{\"attributes\":{\"fill_alpha\":{\"field\":\"fill_alpha\"},\"fill_color\":{\"field\":\"color\"},\"height\":{\"field\":\"height\",\"units\":\"data\"},\"line_color\":{\"field\":\"line_color\"},\"width\":{\"field\":\"width\",\"units\":\"data\"},\"x\":{\"field\":\"x\"},\"y\":{\"field\":\"y\"}},\"id\":\"2d1b2239-0d74-4806-ba08-82db398f06c6\",\"type\":\"Rect\"},{\"attributes\":{\"fill_alpha\":{\"field\":\"fill_alpha\"},\"fill_color\":{\"field\":\"color\"},\"height\":{\"field\":\"height\",\"units\":\"data\"},\"line_color\":{\"field\":\"line_color\"},\"width\":{\"field\":\"width\",\"units\":\"data\"},\"x\":{\"field\":\"x\"},\"y\":{\"field\":\"y\"}},\"id\":\"6f6c22b0-b0bd-4c42-bb05-3c49346a1ae4\",\"type\":\"Rect\"},{\"attributes\":{\"fill_alpha\":{\"field\":\"fill_alpha\"},\"fill_color\":{\"field\":\"color\"},\"height\":{\"field\":\"height\",\"units\":\"data\"},\"line_color\":{\"field\":\"line_color\"},\"width\":{\"field\":\"width\",\"units\":\"data\"},\"x\":{\"field\":\"x\"},\"y\":{\"field\":\"y\"}},\"id\":\"b4385ddd-f332-4a24-86f6-4bd0e4ac003a\",\"type\":\"Rect\"},{\"attributes\":{\"callback\":null,\"column_names\":[\"line_color\",\"width\",\"height\",\"fill_alpha\",\"label\",\"x\",\"line_alpha\",\"color\",\"y\"],\"data\":{\"chart_index\":[{\"origin\":1,\"yr\":82}],\"color\":[\"#f22c40\"],\"fill_alpha\":[0.8],\"height\":[28.0],\"label\":[{\"origin\":1,\"yr\":82}],\"line_alpha\":[1.0],\"line_color\":[\"white\"],\"origin\":[1],\"width\":[0.2],\"x\":[\"82:0.25\"],\"y\":[14.0],\"yr\":[82]}},\"id\":\"d389182c-24e9-45d1-8a19-e5a17e72cefb\",\"type\":\"ColumnDataSource\"},{\"attributes\":{\"callback\":null,\"column_names\":[\"line_color\",\"width\",\"height\",\"fill_alpha\",\"label\",\"x\",\"line_alpha\",\"color\",\"y\"],\"data\":{\"chart_index\":[{\"origin\":1,\"yr\":77}],\"color\":[\"#f22c40\"],\"fill_alpha\":[0.8],\"height\":[18.0],\"label\":[{\"origin\":1,\"yr\":77}],\"line_alpha\":[1.0],\"line_color\":[\"white\"],\"origin\":[1],\"width\":[0.2],\"x\":[\"77:0.25\"],\"y\":[9.0],\"yr\":[77]}},\"id\":\"f6794c8a-981e-42bc-b761-4e4422d50289\",\"type\":\"ColumnDataSource\"},{\"attributes\":{\"callback\":null,\"column_names\":[\"line_color\",\"width\",\"height\",\"fill_alpha\",\"label\",\"x\",\"line_alpha\",\"color\",\"y\"],\"data\":{\"chart_index\":[{\"origin\":2,\"yr\":73}],\"color\":[\"#5ab738\"],\"fill_alpha\":[0.8],\"height\":[24.0],\"label\":[{\"origin\":2,\"yr\":73}],\"line_alpha\":[1.0],\"line_color\":[\"white\"],\"origin\":[2],\"width\":[0.2],\"x\":[\"73:0.75\"],\"y\":[12.0],\"yr\":[73]}},\"id\":\"b3b3dbaa-87f7-46ab-afe0-3e963ddbcbe3\",\"type\":\"ColumnDataSource\"},{\"attributes\":{\"data_source\":{\"id\":\"f6d80f9b-aa82-4a25-898b-736fa187d3e0\",\"type\":\"ColumnDataSource\"},\"glyph\":{\"id\":\"45040a3a-fdc1-484f-869f-e52fd030d4ae\",\"type\":\"Rect\"},\"hover_glyph\":null,\"nonselection_glyph\":null,\"selection_glyph\":null},\"id\":\"212433e2-84aa-4beb-98dd-28c25a36b36c\",\"type\":\"GlyphRenderer\"},{\"attributes\":{},\"id\":\"2fc206e8-848e-4563-a931-cb166ba7ba9a\",\"type\":\"ToolEvents\"},{\"attributes\":{\"callback\":null,\"column_names\":[\"line_color\",\"width\",\"height\",\"fill_alpha\",\"label\",\"x\",\"line_alpha\",\"color\",\"y\"],\"data\":{\"chart_index\":[{\"origin\":2,\"yr\":75}],\"color\":[\"#5ab738\"],\"fill_alpha\":[0.8],\"height\":[24.0],\"label\":[{\"origin\":2,\"yr\":75}],\"line_alpha\":[1.0],\"line_color\":[\"white\"],\"origin\":[2],\"width\":[0.2],\"x\":[\"75:0.75\"],\"y\":[12.0],\"yr\":[75]}},\"id\":\"d6f93832-c7da-4c30-954a-8c198676c946\",\"type\":\"ColumnDataSource\"},{\"attributes\":{\"callback\":null,\"column_names\":[\"line_color\",\"width\",\"height\",\"fill_alpha\",\"label\",\"x\",\"line_alpha\",\"color\",\"y\"],\"data\":{\"chart_index\":[{\"origin\":1,\"yr\":81}],\"color\":[\"#f22c40\"],\"fill_alpha\":[0.8],\"height\":[26.6],\"label\":[{\"origin\":1,\"yr\":81}],\"line_alpha\":[1.0],\"line_color\":[\"white\"],\"origin\":[1],\"width\":[0.2],\"x\":[\"81:0.25\"],\"y\":[13.3],\"yr\":[81]}},\"id\":\"1542dcce-18a0-4b62-bf8a-cc021fe3a262\",\"type\":\"ColumnDataSource\"},{\"attributes\":{\"data_source\":{\"id\":\"b3b3dbaa-87f7-46ab-afe0-3e963ddbcbe3\",\"type\":\"ColumnDataSource\"},\"glyph\":{\"id\":\"bb87ad63-32ac-4b2e-9e7b-5c774581d9e5\",\"type\":\"Rect\"},\"hover_glyph\":null,\"nonselection_glyph\":null,\"selection_glyph\":null},\"id\":\"6690e892-000b-4ede-a2a1-4a67c50a8a3a\",\"type\":\"GlyphRenderer\"},{\"attributes\":{\"data_source\":{\"id\":\"3778ea07-cf21-4c08-9467-a6e4bf8e3877\",\"type\":\"ColumnDataSource\"},\"glyph\":{\"id\":\"0c21c2d3-311b-4392-8ee4-8406f81db5a3\",\"type\":\"Rect\"},\"hover_glyph\":null,\"nonselection_glyph\":null,\"selection_glyph\":null},\"id\":\"60caa05c-370d-4954-921f-1b86146c1717\",\"type\":\"GlyphRenderer\"},{\"attributes\":{\"callback\":null,\"column_names\":[\"line_color\",\"width\",\"height\",\"fill_alpha\",\"label\",\"x\",\"line_alpha\",\"color\",\"y\"],\"data\":{\"chart_index\":[{\"origin\":2,\"yr\":70}],\"color\":[\"#5ab738\"],\"fill_alpha\":[0.8],\"height\":[25.0],\"label\":[{\"origin\":2,\"yr\":70}],\"line_alpha\":[1.0],\"line_color\":[\"white\"],\"origin\":[2],\"width\":[0.2],\"x\":[\"70:0.75\"],\"y\":[12.5],\"yr\":[70]}},\"id\":\"11170d5a-7af5-4302-8efb-ca69c86e6ed1\",\"type\":\"ColumnDataSource\"},{\"attributes\":{\"data_source\":{\"id\":\"f6794c8a-981e-42bc-b761-4e4422d50289\",\"type\":\"ColumnDataSource\"},\"glyph\":{\"id\":\"8d15b202-a41e-473c-94ce-14d72a61f71b\",\"type\":\"Rect\"},\"hover_glyph\":null,\"nonselection_glyph\":null,\"selection_glyph\":null},\"id\":\"2db6422c-7584-4e7f-b4a6-0c32b5a19c01\",\"type\":\"GlyphRenderer\"},{\"attributes\":{\"callback\":null,\"column_names\":[\"line_color\",\"width\",\"height\",\"fill_alpha\",\"label\",\"x\",\"line_alpha\",\"color\",\"y\"],\"data\":{\"chart_index\":[{\"origin\":2,\"yr\":71}],\"color\":[\"#5ab738\"],\"fill_alpha\":[0.8],\"height\":[29.0],\"label\":[{\"origin\":2,\"yr\":71}],\"line_alpha\":[1.0],\"line_color\":[\"white\"],\"origin\":[2],\"width\":[0.2],\"x\":[\"71:0.75\"],\"y\":[14.5],\"yr\":[71]}},\"id\":\"a1e6e2bf-280a-4661-8ad2-e4d352551251\",\"type\":\"ColumnDataSource\"},{\"attributes\":{\"fill_alpha\":{\"field\":\"fill_alpha\"},\"fill_color\":{\"field\":\"color\"},\"height\":{\"field\":\"height\",\"units\":\"data\"},\"line_color\":{\"field\":\"line_color\"},\"width\":{\"field\":\"width\",\"units\":\"data\"},\"x\":{\"field\":\"x\"},\"y\":{\"field\":\"y\"}},\"id\":\"c9b7f3af-742d-485d-b2a5-74d62353fdfb\",\"type\":\"Rect\"},{\"attributes\":{\"data_source\":{\"id\":\"d65faa7b-75ee-407b-9df2-22762eccaf97\",\"type\":\"ColumnDataSource\"},\"glyph\":{\"id\":\"d5c48df8-10cb-4b33-b902-59c9502cb768\",\"type\":\"Rect\"},\"hover_glyph\":null,\"nonselection_glyph\":null,\"selection_glyph\":null},\"id\":\"e9ce26a1-23d8-4b55-90bf-d6874b909258\",\"type\":\"GlyphRenderer\"},{\"attributes\":{},\"id\":\"fd75ac45-594c-4d99-912d-9af6ca3b302f\",\"type\":\"CategoricalTickFormatter\"},{\"attributes\":{\"data_source\":{\"id\":\"d1c94b87-9dd2-482d-979b-e7c036ea7fa8\",\"type\":\"ColumnDataSource\"},\"glyph\":{\"id\":\"2a99a42c-c201-4417-8f7f-c6cb7161959a\",\"type\":\"Rect\"},\"hover_glyph\":null,\"nonselection_glyph\":null,\"selection_glyph\":null},\"id\":\"b93f76c0-80af-4cb3-917a-c5100a4c8fa5\",\"type\":\"GlyphRenderer\"},{\"attributes\":{\"fill_alpha\":{\"field\":\"fill_alpha\"},\"fill_color\":{\"field\":\"color\"},\"height\":{\"field\":\"height\",\"units\":\"data\"},\"line_color\":{\"field\":\"line_color\"},\"width\":{\"field\":\"width\",\"units\":\"data\"},\"x\":{\"field\":\"x\"},\"y\":{\"field\":\"y\"}},\"id\":\"350ce4c4-efbf-41d5-a2b1-63e8834677b5\",\"type\":\"Rect\"},{\"attributes\":{\"fill_alpha\":{\"field\":\"fill_alpha\"},\"fill_color\":{\"field\":\"color\"},\"height\":{\"field\":\"height\",\"units\":\"data\"},\"line_color\":{\"field\":\"line_color\"},\"width\":{\"field\":\"width\",\"units\":\"data\"},\"x\":{\"field\":\"x\"},\"y\":{\"field\":\"y\"}},\"id\":\"22382e50-b051-4d13-baf9-7345c9acdc92\",\"type\":\"Rect\"},{\"attributes\":{\"callback\":null,\"column_names\":[\"line_color\",\"width\",\"height\",\"fill_alpha\",\"label\",\"x\",\"line_alpha\",\"color\",\"y\"],\"data\":{\"chart_index\":[{\"origin\":3,\"yr\":80}],\"color\":[\"#407ee7\"],\"fill_alpha\":[0.8],\"height\":[33.8],\"label\":[{\"origin\":3,\"yr\":80}],\"line_alpha\":[1.0],\"line_color\":[\"white\"],\"origin\":[3],\"width\":[0.2],\"x\":[\"80:0.5\"],\"y\":[16.9],\"yr\":[80]}},\"id\":\"e80ab99c-90ed-409f-9d20-36534771889b\",\"type\":\"ColumnDataSource\"},{\"attributes\":{\"active_drag\":\"auto\",\"active_scroll\":\"auto\",\"active_tap\":\"auto\",\"tools\":[{\"id\":\"328b4492-332d-4c41-8e0b-f25e67328002\",\"type\":\"CrosshairTool\"}]},\"id\":\"ba99d87a-3b4c-4286-bb21-0b768ef24f17\",\"type\":\"Toolbar\"},{\"attributes\":{\"fill_alpha\":{\"field\":\"fill_alpha\"},\"fill_color\":{\"field\":\"color\"},\"height\":{\"field\":\"height\",\"units\":\"data\"},\"line_color\":{\"field\":\"line_color\"},\"width\":{\"field\":\"width\",\"units\":\"data\"},\"x\":{\"field\":\"x\"},\"y\":{\"field\":\"y\"}},\"id\":\"99ee68b4-aa2e-4b75-8151-749056f1564e\",\"type\":\"Rect\"},{\"attributes\":{\"data_source\":{\"id\":\"5120deb4-4eb0-4545-b434-d9501795e893\",\"type\":\"ColumnDataSource\"},\"glyph\":{\"id\":\"22382e50-b051-4d13-baf9-7345c9acdc92\",\"type\":\"Rect\"},\"hover_glyph\":null,\"nonselection_glyph\":null,\"selection_glyph\":null},\"id\":\"05c8b887-0375-40d6-8254-15417e2ebcf3\",\"type\":\"GlyphRenderer\"},{\"attributes\":{\"callback\":null,\"column_names\":[\"line_color\",\"width\",\"height\",\"fill_alpha\",\"label\",\"x\",\"line_alpha\",\"color\",\"y\"],\"data\":{\"chart_index\":[{\"origin\":2,\"yr\":77}],\"color\":[\"#5ab738\"],\"fill_alpha\":[0.8],\"height\":[29.75],\"label\":[{\"origin\":2,\"yr\":77}],\"line_alpha\":[1.0],\"line_color\":[\"white\"],\"origin\":[2],\"width\":[0.2],\"x\":[\"77:0.75\"],\"y\":[14.875],\"yr\":[77]}},\"id\":\"f6d80f9b-aa82-4a25-898b-736fa187d3e0\",\"type\":\"ColumnDataSource\"},{\"attributes\":{\"fill_alpha\":{\"field\":\"fill_alpha\"},\"fill_color\":{\"field\":\"color\"},\"height\":{\"field\":\"height\",\"units\":\"data\"},\"line_color\":{\"field\":\"line_color\"},\"width\":{\"field\":\"width\",\"units\":\"data\"},\"x\":{\"field\":\"x\"},\"y\":{\"field\":\"y\"}},\"id\":\"92d7b00b-8f07-46a1-bc65-c2d6e5e46a25\",\"type\":\"Rect\"},{\"attributes\":{\"fill_alpha\":{\"field\":\"fill_alpha\"},\"fill_color\":{\"field\":\"color\"},\"height\":{\"field\":\"height\",\"units\":\"data\"},\"line_color\":{\"field\":\"line_color\"},\"width\":{\"field\":\"width\",\"units\":\"data\"},\"x\":{\"field\":\"x\"},\"y\":{\"field\":\"y\"}},\"id\":\"53cb2799-eee4-4fe4-9766-24ca5398c55a\",\"type\":\"Rect\"},{\"attributes\":{\"fill_alpha\":{\"field\":\"fill_alpha\"},\"fill_color\":{\"field\":\"color\"},\"height\":{\"field\":\"height\",\"units\":\"data\"},\"line_color\":{\"field\":\"line_color\"},\"width\":{\"field\":\"width\",\"units\":\"data\"},\"x\":{\"field\":\"x\"},\"y\":{\"field\":\"y\"}},\"id\":\"f268596f-c6ff-4c0c-be20-ddf114d039b0\",\"type\":\"Rect\"},{\"attributes\":{\"callback\":null,\"column_names\":[\"line_color\",\"width\",\"height\",\"fill_alpha\",\"label\",\"x\",\"line_alpha\",\"color\",\"y\"],\"data\":{\"chart_index\":[{\"origin\":3,\"yr\":79}],\"color\":[\"#407ee7\"],\"fill_alpha\":[0.8],\"height\":[32.95],\"label\":[{\"origin\":3,\"yr\":79}],\"line_alpha\":[1.0],\"line_color\":[\"white\"],\"origin\":[3],\"width\":[0.2],\"x\":[\"79:0.5\"],\"y\":[16.475],\"yr\":[79]}},\"id\":\"7a3c0dcc-9b40-4bba-b883-51fe7680dc3f\",\"type\":\"ColumnDataSource\"},{\"attributes\":{\"data_source\":{\"id\":\"daf97419-9347-4340-b159-9738f45546b8\",\"type\":\"ColumnDataSource\"},\"glyph\":{\"id\":\"350ce4c4-efbf-41d5-a2b1-63e8834677b5\",\"type\":\"Rect\"},\"hover_glyph\":null,\"nonselection_glyph\":null,\"selection_glyph\":null},\"id\":\"4d5fbc7b-2077-436d-8baa-37ad9150f81b\",\"type\":\"GlyphRenderer\"},{\"attributes\":{\"fill_alpha\":{\"field\":\"fill_alpha\"},\"fill_color\":{\"field\":\"color\"},\"height\":{\"field\":\"height\",\"units\":\"data\"},\"line_color\":{\"field\":\"line_color\"},\"width\":{\"field\":\"width\",\"units\":\"data\"},\"x\":{\"field\":\"x\"},\"y\":{\"field\":\"y\"}},\"id\":\"3ba103ca-6511-4e94-a0bb-3142ddf3b84f\",\"type\":\"Rect\"},{\"attributes\":{\"callback\":null,\"column_names\":[\"line_color\",\"width\",\"height\",\"fill_alpha\",\"label\",\"x\",\"line_alpha\",\"color\",\"y\"],\"data\":{\"chart_index\":[{\"origin\":2,\"yr\":79}],\"color\":[\"#5ab738\"],\"fill_alpha\":[0.8],\"height\":[29.549999999999997],\"label\":[{\"origin\":2,\"yr\":79}],\"line_alpha\":[1.0],\"line_color\":[\"white\"],\"origin\":[2],\"width\":[0.2],\"x\":[\"79:0.75\"],\"y\":[14.774999999999999],\"yr\":[79]}},\"id\":\"0e5333d3-6429-4fb9-9b0a-e946917521d1\",\"type\":\"ColumnDataSource\"},{\"attributes\":{\"data_source\":{\"id\":\"13d073e7-a477-4a00-b37f-79a10c7f16d5\",\"type\":\"ColumnDataSource\"},\"glyph\":{\"id\":\"6f6e1ded-ebbb-4755-a1b7-131ee24ed602\",\"type\":\"Rect\"},\"hover_glyph\":null,\"nonselection_glyph\":null,\"selection_glyph\":null},\"id\":\"a0d6842b-6d5c-4e71-868d-debf1f6c5f14\",\"type\":\"GlyphRenderer\"},{\"attributes\":{\"callback\":null,\"column_names\":[\"line_color\",\"width\",\"height\",\"fill_alpha\",\"label\",\"x\",\"line_alpha\",\"color\",\"y\"],\"data\":{\"chart_index\":[{\"origin\":2,\"yr\":78}],\"color\":[\"#5ab738\"],\"fill_alpha\":[0.8],\"height\":[20.950000000000003],\"label\":[{\"origin\":2,\"yr\":78}],\"line_alpha\":[1.0],\"line_color\":[\"white\"],\"origin\":[2],\"width\":[0.2],\"x\":[\"78:0.75\"],\"y\":[10.475000000000001],\"yr\":[78]}},\"id\":\"be01e219-00a2-46b8-8641-95b17b8dd2ec\",\"type\":\"ColumnDataSource\"},{\"attributes\":{\"data_source\":{\"id\":\"11170d5a-7af5-4302-8efb-ca69c86e6ed1\",\"type\":\"ColumnDataSource\"},\"glyph\":{\"id\":\"a8976181-6d5a-49cb-9447-971753485ddc\",\"type\":\"Rect\"},\"hover_glyph\":null,\"nonselection_glyph\":null,\"selection_glyph\":null},\"id\":\"62d7d69e-fc35-431f-a717-b0c2ccde5b38\",\"type\":\"GlyphRenderer\"},{\"attributes\":{\"data_source\":{\"id\":\"a1e6e2bf-280a-4661-8ad2-e4d352551251\",\"type\":\"ColumnDataSource\"},\"glyph\":{\"id\":\"2f6d9365-58c3-4c1f-8ba1-4cd0c69302f8\",\"type\":\"Rect\"},\"hover_glyph\":null,\"nonselection_glyph\":null,\"selection_glyph\":null},\"id\":\"0a7f8e5b-d373-4cb9-b3ba-272e6e75d168\",\"type\":\"GlyphRenderer\"},{\"attributes\":{\"fill_alpha\":{\"field\":\"fill_alpha\"},\"fill_color\":{\"field\":\"color\"},\"height\":{\"field\":\"height\",\"units\":\"data\"},\"line_color\":{\"field\":\"line_color\"},\"width\":{\"field\":\"width\",\"units\":\"data\"},\"x\":{\"field\":\"x\"},\"y\":{\"field\":\"y\"}},\"id\":\"52be52ab-8998-4ec9-b067-f8d85968611f\",\"type\":\"Rect\"},{\"attributes\":{\"legends\":[[\"1\",[{\"id\":\"cb81c1b0-2f83-4a54-9cf7-9a873b74efdb\",\"type\":\"GlyphRenderer\"}]],[\"3\",[{\"id\":\"cbf41bc4-f774-449d-b98e-287a5b98841a\",\"type\":\"GlyphRenderer\"}]],[\"2\",[{\"id\":\"62d7d69e-fc35-431f-a717-b0c2ccde5b38\",\"type\":\"GlyphRenderer\"}]]],\"location\":\"top_left\",\"plot\":{\"id\":\"b98f6768-3004-4395-8f96-417502eb9a0e\",\"subtype\":\"Chart\",\"type\":\"Plot\"}},\"id\":\"e747a28a-86a8-4f81-a98d-8fb76ccc9552\",\"type\":\"Legend\"},{\"attributes\":{\"data_source\":{\"id\":\"18feb6a2-838e-45a4-badc-0527455577ea\",\"type\":\"ColumnDataSource\"},\"glyph\":{\"id\":\"8518ef6e-a26c-4840-9005-24f2e4414342\",\"type\":\"Rect\"},\"hover_glyph\":null,\"nonselection_glyph\":null,\"selection_glyph\":null},\"id\":\"6c8222ef-53ce-4905-ba1d-9f80a53ea3b8\",\"type\":\"GlyphRenderer\"},{\"attributes\":{\"data_source\":{\"id\":\"071c529a-15c9-45e6-a24e-2cf17912b86d\",\"type\":\"ColumnDataSource\"},\"glyph\":{\"id\":\"92d7b00b-8f07-46a1-bc65-c2d6e5e46a25\",\"type\":\"Rect\"},\"hover_glyph\":null,\"nonselection_glyph\":null,\"selection_glyph\":null},\"id\":\"bb0dfa01-cfc4-4e47-a508-d937bb05405d\",\"type\":\"GlyphRenderer\"},{\"attributes\":{\"callback\":null,\"end\":42.0},\"id\":\"236ed23d-6f83-4244-b2b9-e6f5b8d4565f\",\"type\":\"Range1d\"},{\"attributes\":{\"data_source\":{\"id\":\"1542dcce-18a0-4b62-bf8a-cc021fe3a262\",\"type\":\"ColumnDataSource\"},\"glyph\":{\"id\":\"3ba103ca-6511-4e94-a0bb-3142ddf3b84f\",\"type\":\"Rect\"},\"hover_glyph\":null,\"nonselection_glyph\":null,\"selection_glyph\":null},\"id\":\"e2ad4196-ffe1-43c5-bc3d-555fdaa321ac\",\"type\":\"GlyphRenderer\"},{\"attributes\":{\"fill_alpha\":{\"field\":\"fill_alpha\"},\"fill_color\":{\"field\":\"color\"},\"height\":{\"field\":\"height\",\"units\":\"data\"},\"line_color\":{\"field\":\"line_color\"},\"width\":{\"field\":\"width\",\"units\":\"data\"},\"x\":{\"field\":\"x\"},\"y\":{\"field\":\"y\"}},\"id\":\"d5c48df8-10cb-4b33-b902-59c9502cb768\",\"type\":\"Rect\"},{\"attributes\":{\"callback\":null,\"column_names\":[\"line_color\",\"width\",\"height\",\"fill_alpha\",\"label\",\"x\",\"line_alpha\",\"color\",\"y\"],\"data\":{\"chart_index\":[{\"origin\":3,\"yr\":78}],\"color\":[\"#407ee7\"],\"fill_alpha\":[0.8],\"height\":[28.5],\"label\":[{\"origin\":3,\"yr\":78}],\"line_alpha\":[1.0],\"line_color\":[\"white\"],\"origin\":[3],\"width\":[0.2],\"x\":[\"78:0.5\"],\"y\":[14.25],\"yr\":[78]}},\"id\":\"5e3f5a30-207d-4222-afd9-36eb3805906c\",\"type\":\"ColumnDataSource\"},{\"attributes\":{\"dimension\":1,\"plot\":{\"id\":\"b98f6768-3004-4395-8f96-417502eb9a0e\",\"subtype\":\"Chart\",\"type\":\"Plot\"},\"ticker\":{\"id\":\"d9e47128-f46b-4277-8f54-28d710cbb625\",\"type\":\"BasicTicker\"}},\"id\":\"816142ac-1a21-4746-9fb6-644933b3428f\",\"type\":\"Grid\"},{\"attributes\":{\"data_source\":{\"id\":\"5f6ebb66-cd39-4cca-af36-1f79044fcc9f\",\"type\":\"ColumnDataSource\"},\"glyph\":{\"id\":\"f0e79278-47ed-410c-9f67-2bed42cedcf0\",\"type\":\"Rect\"},\"hover_glyph\":null,\"nonselection_glyph\":null,\"selection_glyph\":null},\"id\":\"939463f5-744c-40dd-a536-49056f5bcdb3\",\"type\":\"GlyphRenderer\"},{\"attributes\":{\"plot\":{\"id\":\"b98f6768-3004-4395-8f96-417502eb9a0e\",\"subtype\":\"Chart\",\"type\":\"Plot\"}},\"id\":\"328b4492-332d-4c41-8e0b-f25e67328002\",\"type\":\"CrosshairTool\"},{\"attributes\":{\"callback\":null,\"column_names\":[\"line_color\",\"width\",\"height\",\"fill_alpha\",\"label\",\"x\",\"line_alpha\",\"color\",\"y\"],\"data\":{\"chart_index\":[{\"origin\":2,\"yr\":82}],\"color\":[\"#5ab738\"],\"fill_alpha\":[0.8],\"height\":[40.0],\"label\":[{\"origin\":2,\"yr\":82}],\"line_alpha\":[1.0],\"line_color\":[\"white\"],\"origin\":[2],\"width\":[0.2],\"x\":[\"82:0.75\"],\"y\":[20.0],\"yr\":[82]}},\"id\":\"7db5ff08-872e-4930-879f-ac80ca97ba70\",\"type\":\"ColumnDataSource\"},{\"attributes\":{\"fill_alpha\":{\"field\":\"fill_alpha\"},\"fill_color\":{\"field\":\"color\"},\"height\":{\"field\":\"height\",\"units\":\"data\"},\"line_color\":{\"field\":\"line_color\"},\"width\":{\"field\":\"width\",\"units\":\"data\"},\"x\":{\"field\":\"x\"},\"y\":{\"field\":\"y\"}},\"id\":\"2a99a42c-c201-4417-8f7f-c6cb7161959a\",\"type\":\"Rect\"},{\"attributes\":{\"callback\":null,\"column_names\":[\"line_color\",\"width\",\"height\",\"fill_alpha\",\"label\",\"x\",\"line_alpha\",\"color\",\"y\"],\"data\":{\"chart_index\":[{\"origin\":3,\"yr\":81}],\"color\":[\"#407ee7\"],\"fill_alpha\":[0.8],\"height\":[33.3],\"label\":[{\"origin\":3,\"yr\":81}],\"line_alpha\":[1.0],\"line_color\":[\"white\"],\"origin\":[3],\"width\":[0.2],\"x\":[\"81:0.5\"],\"y\":[16.65],\"yr\":[81]}},\"id\":\"daf97419-9347-4340-b159-9738f45546b8\",\"type\":\"ColumnDataSource\"},{\"attributes\":{\"data_source\":{\"id\":\"699349d1-a047-4626-ae7b-3f2ec28122bf\",\"type\":\"ColumnDataSource\"},\"glyph\":{\"id\":\"368e425b-ca63-45ff-afbc-b829eb7d49a2\",\"type\":\"Rect\"},\"hover_glyph\":null,\"nonselection_glyph\":null,\"selection_glyph\":null},\"id\":\"d7cd435e-56ea-4b0d-9190-15496999941a\",\"type\":\"GlyphRenderer\"},{\"attributes\":{\"data_source\":{\"id\":\"f7ac3e28-20fa-40ba-89ef-de34311a80aa\",\"type\":\"ColumnDataSource\"},\"glyph\":{\"id\":\"c9b7f3af-742d-485d-b2a5-74d62353fdfb\",\"type\":\"Rect\"},\"hover_glyph\":null,\"nonselection_glyph\":null,\"selection_glyph\":null},\"id\":\"af49efa6-d551-4596-abc7-735640b1e4f1\",\"type\":\"GlyphRenderer\"},{\"attributes\":{\"callback\":null,\"column_names\":[\"line_color\",\"width\",\"height\",\"fill_alpha\",\"label\",\"x\",\"line_alpha\",\"color\",\"y\"],\"data\":{\"chart_index\":[{\"origin\":2,\"yr\":76}],\"color\":[\"#5ab738\"],\"fill_alpha\":[0.8],\"height\":[26.0],\"label\":[{\"origin\":2,\"yr\":76}],\"line_alpha\":[1.0],\"line_color\":[\"white\"],\"origin\":[2],\"width\":[0.2],\"x\":[\"76:0.75\"],\"y\":[13.0],\"yr\":[76]}},\"id\":\"699349d1-a047-4626-ae7b-3f2ec28122bf\",\"type\":\"ColumnDataSource\"},{\"attributes\":{\"fill_alpha\":{\"field\":\"fill_alpha\"},\"fill_color\":{\"field\":\"color\"},\"height\":{\"field\":\"height\",\"units\":\"data\"},\"line_color\":{\"field\":\"line_color\"},\"width\":{\"field\":\"width\",\"units\":\"data\"},\"x\":{\"field\":\"x\"},\"y\":{\"field\":\"y\"}},\"id\":\"1da0a474-7e90-4cfd-a43f-2ea9a6ce5837\",\"type\":\"Rect\"},{\"attributes\":{\"plot\":null,\"text\":\"Median MPG by YR, grouped by ORIGIN\"},\"id\":\"b7c15548-d45f-4964-87fb-3cc3fd1ad81b\",\"type\":\"Title\"},{\"attributes\":{\"fill_alpha\":{\"field\":\"fill_alpha\"},\"fill_color\":{\"field\":\"color\"},\"height\":{\"field\":\"height\",\"units\":\"data\"},\"line_color\":{\"field\":\"line_color\"},\"width\":{\"field\":\"width\",\"units\":\"data\"},\"x\":{\"field\":\"x\"},\"y\":{\"field\":\"y\"}},\"id\":\"0295ceb8-d756-4256-9671-46862eacc846\",\"type\":\"Rect\"},{\"attributes\":{\"data_source\":{\"id\":\"c8111f48-a887-4abb-a913-6286b259a3fa\",\"type\":\"ColumnDataSource\"},\"glyph\":{\"id\":\"f1590cf8-2309-4390-a7d6-dc77e2015610\",\"type\":\"Rect\"},\"hover_glyph\":null,\"nonselection_glyph\":null,\"selection_glyph\":null},\"id\":\"0b468eed-e9d9-4b27-9213-d75dca794c53\",\"type\":\"GlyphRenderer\"},{\"attributes\":{\"fill_alpha\":{\"field\":\"fill_alpha\"},\"fill_color\":{\"field\":\"color\"},\"height\":{\"field\":\"height\",\"units\":\"data\"},\"line_color\":{\"field\":\"line_color\"},\"width\":{\"field\":\"width\",\"units\":\"data\"},\"x\":{\"field\":\"x\"},\"y\":{\"field\":\"y\"}},\"id\":\"0c21c2d3-311b-4392-8ee4-8406f81db5a3\",\"type\":\"Rect\"},{\"attributes\":{\"fill_alpha\":{\"field\":\"fill_alpha\"},\"fill_color\":{\"field\":\"color\"},\"height\":{\"field\":\"height\",\"units\":\"data\"},\"line_color\":{\"field\":\"line_color\"},\"width\":{\"field\":\"width\",\"units\":\"data\"},\"x\":{\"field\":\"x\"},\"y\":{\"field\":\"y\"}},\"id\":\"bb87ad63-32ac-4b2e-9e7b-5c774581d9e5\",\"type\":\"Rect\"},{\"attributes\":{\"callback\":null,\"column_names\":[\"line_color\",\"width\",\"height\",\"fill_alpha\",\"label\",\"x\",\"line_alpha\",\"color\",\"y\"],\"data\":{\"chart_index\":[{\"origin\":2,\"yr\":80}],\"color\":[\"#5ab738\"],\"fill_alpha\":[0.8],\"height\":[35.7],\"label\":[{\"origin\":2,\"yr\":80}],\"line_alpha\":[1.0],\"line_color\":[\"white\"],\"origin\":[2],\"width\":[0.2],\"x\":[\"80:0.75\"],\"y\":[17.85],\"yr\":[80]}},\"id\":\"d569f19b-6bd8-4d21-ae22-0dd9c71fa951\",\"type\":\"ColumnDataSource\"},{\"attributes\":{\"callback\":null,\"column_names\":[\"line_color\",\"width\",\"height\",\"fill_alpha\",\"label\",\"x\",\"line_alpha\",\"color\",\"y\"],\"data\":{\"chart_index\":[{\"origin\":2,\"yr\":74}],\"color\":[\"#5ab738\"],\"fill_alpha\":[0.8],\"height\":[26.0],\"label\":[{\"origin\":2,\"yr\":74}],\"line_alpha\":[1.0],\"line_color\":[\"white\"],\"origin\":[2],\"width\":[0.2],\"x\":[\"74:0.75\"],\"y\":[13.0],\"yr\":[74]}},\"id\":\"57b25718-02f1-4399-9c8f-ea2bc69d4c0d\",\"type\":\"ColumnDataSource\"},{\"attributes\":{\"data_source\":{\"id\":\"7db5ff08-872e-4930-879f-ac80ca97ba70\",\"type\":\"ColumnDataSource\"},\"glyph\":{\"id\":\"11a74b0a-c256-4a4e-99c1-a5d9e0c343e7\",\"type\":\"Rect\"},\"hover_glyph\":null,\"nonselection_glyph\":null,\"selection_glyph\":null},\"id\":\"e233bb84-2c7b-45d1-b337-1c008689d0bb\",\"type\":\"GlyphRenderer\"},{\"attributes\":{\"callback\":null,\"column_names\":[\"line_color\",\"width\",\"height\",\"fill_alpha\",\"label\",\"x\",\"line_alpha\",\"color\",\"y\"],\"data\":{\"chart_index\":[{\"origin\":2,\"yr\":81}],\"color\":[\"#5ab738\"],\"fill_alpha\":[0.8],\"height\":[30.7],\"label\":[{\"origin\":2,\"yr\":81}],\"line_alpha\":[1.0],\"line_color\":[\"white\"],\"origin\":[2],\"width\":[0.2],\"x\":[\"81:0.75\"],\"y\":[15.35],\"yr\":[81]}},\"id\":\"c246de7d-b612-4b57-94d7-bb0e1a3b63e4\",\"type\":\"ColumnDataSource\"},{\"attributes\":{\"fill_alpha\":{\"field\":\"fill_alpha\"},\"fill_color\":{\"field\":\"color\"},\"height\":{\"field\":\"height\",\"units\":\"data\"},\"line_color\":{\"field\":\"line_color\"},\"width\":{\"field\":\"width\",\"units\":\"data\"},\"x\":{\"field\":\"x\"},\"y\":{\"field\":\"y\"}},\"id\":\"368e425b-ca63-45ff-afbc-b829eb7d49a2\",\"type\":\"Rect\"},{\"attributes\":{\"fill_alpha\":{\"field\":\"fill_alpha\"},\"fill_color\":{\"field\":\"color\"},\"height\":{\"field\":\"height\",\"units\":\"data\"},\"line_color\":{\"field\":\"line_color\"},\"width\":{\"field\":\"width\",\"units\":\"data\"},\"x\":{\"field\":\"x\"},\"y\":{\"field\":\"y\"}},\"id\":\"a8976181-6d5a-49cb-9447-971753485ddc\",\"type\":\"Rect\"},{\"attributes\":{\"data_source\":{\"id\":\"be01e219-00a2-46b8-8641-95b17b8dd2ec\",\"type\":\"ColumnDataSource\"},\"glyph\":{\"id\":\"53cb2799-eee4-4fe4-9766-24ca5398c55a\",\"type\":\"Rect\"},\"hover_glyph\":null,\"nonselection_glyph\":null,\"selection_glyph\":null},\"id\":\"19830afb-58d6-4fff-a38b-aecde28a8d9d\",\"type\":\"GlyphRenderer\"},{\"attributes\":{\"fill_alpha\":{\"field\":\"fill_alpha\"},\"fill_color\":{\"field\":\"color\"},\"height\":{\"field\":\"height\",\"units\":\"data\"},\"line_color\":{\"field\":\"line_color\"},\"width\":{\"field\":\"width\",\"units\":\"data\"},\"x\":{\"field\":\"x\"},\"y\":{\"field\":\"y\"}},\"id\":\"8518ef6e-a26c-4840-9005-24f2e4414342\",\"type\":\"Rect\"},{\"attributes\":{\"data_source\":{\"id\":\"bb766118-0d3a-4199-9a01-77669e96246f\",\"type\":\"ColumnDataSource\"},\"glyph\":{\"id\":\"f6e1cc1d-8d0e-4556-88f8-e6f7bf08bdd2\",\"type\":\"Rect\"},\"hover_glyph\":null,\"nonselection_glyph\":null,\"selection_glyph\":null},\"id\":\"d8cb0aba-b15b-4fee-b8fe-9a6c2fc5d1da\",\"type\":\"GlyphRenderer\"},{\"attributes\":{\"data_source\":{\"id\":\"a9a3337a-cc81-4b69-b2a9-8d99365ea5a8\",\"type\":\"ColumnDataSource\"},\"glyph\":{\"id\":\"13985756-3fa7-491d-862b-aba089ce7e55\",\"type\":\"Rect\"},\"hover_glyph\":null,\"nonselection_glyph\":null,\"selection_glyph\":null},\"id\":\"cbf41bc4-f774-449d-b98e-287a5b98841a\",\"type\":\"GlyphRenderer\"},{\"attributes\":{\"fill_alpha\":{\"field\":\"fill_alpha\"},\"fill_color\":{\"field\":\"color\"},\"height\":{\"field\":\"height\",\"units\":\"data\"},\"line_color\":{\"field\":\"line_color\"},\"width\":{\"field\":\"width\",\"units\":\"data\"},\"x\":{\"field\":\"x\"},\"y\":{\"field\":\"y\"}},\"id\":\"f0e79278-47ed-410c-9f67-2bed42cedcf0\",\"type\":\"Rect\"},{\"attributes\":{\"callback\":null,\"column_names\":[\"line_color\",\"width\",\"height\",\"fill_alpha\",\"label\",\"x\",\"line_alpha\",\"color\",\"y\"],\"data\":{\"chart_index\":[{\"origin\":3,\"yr\":77}],\"color\":[\"#407ee7\"],\"fill_alpha\":[0.8],\"height\":[28.0],\"label\":[{\"origin\":3,\"yr\":77}],\"line_alpha\":[1.0],\"line_color\":[\"white\"],\"origin\":[3],\"width\":[0.2],\"x\":[\"77:0.5\"],\"y\":[14.0],\"yr\":[77]}},\"id\":\"5f6ebb66-cd39-4cca-af36-1f79044fcc9f\",\"type\":\"ColumnDataSource\"},{\"attributes\":{\"fill_alpha\":{\"field\":\"fill_alpha\"},\"fill_color\":{\"field\":\"color\"},\"height\":{\"field\":\"height\",\"units\":\"data\"},\"line_color\":{\"field\":\"line_color\"},\"width\":{\"field\":\"width\",\"units\":\"data\"},\"x\":{\"field\":\"x\"},\"y\":{\"field\":\"y\"}},\"id\":\"13985756-3fa7-491d-862b-aba089ce7e55\",\"type\":\"Rect\"},{\"attributes\":{\"fill_alpha\":{\"field\":\"fill_alpha\"},\"fill_color\":{\"field\":\"color\"},\"height\":{\"field\":\"height\",\"units\":\"data\"},\"line_color\":{\"field\":\"line_color\"},\"width\":{\"field\":\"width\",\"units\":\"data\"},\"x\":{\"field\":\"x\"},\"y\":{\"field\":\"y\"}},\"id\":\"45040a3a-fdc1-484f-869f-e52fd030d4ae\",\"type\":\"Rect\"},{\"attributes\":{\"data_source\":{\"id\":\"e80ab99c-90ed-409f-9d20-36534771889b\",\"type\":\"ColumnDataSource\"},\"glyph\":{\"id\":\"6f6c22b0-b0bd-4c42-bb05-3c49346a1ae4\",\"type\":\"Rect\"},\"hover_glyph\":null,\"nonselection_glyph\":null,\"selection_glyph\":null},\"id\":\"c5bfee75-9374-4649-af39-921e19cec049\",\"type\":\"GlyphRenderer\"},{\"attributes\":{\"axis_label\":\"Median( Mpg )\",\"formatter\":{\"id\":\"2a3be180-2f87-4e28-a1ab-503311e3a790\",\"type\":\"BasicTickFormatter\"},\"plot\":{\"id\":\"b98f6768-3004-4395-8f96-417502eb9a0e\",\"subtype\":\"Chart\",\"type\":\"Plot\"},\"ticker\":{\"id\":\"d9e47128-f46b-4277-8f54-28d710cbb625\",\"type\":\"BasicTicker\"}},\"id\":\"887a8db5-8c77-4b5c-b75a-268858e6f4d8\",\"type\":\"LinearAxis\"},{\"attributes\":{\"callback\":null,\"column_names\":[\"line_color\",\"width\",\"height\",\"fill_alpha\",\"label\",\"x\",\"line_alpha\",\"color\",\"y\"],\"data\":{\"chart_index\":[{\"origin\":3,\"yr\":75}],\"color\":[\"#407ee7\"],\"fill_alpha\":[0.8],\"height\":[26.5],\"label\":[{\"origin\":3,\"yr\":75}],\"line_alpha\":[1.0],\"line_color\":[\"white\"],\"origin\":[3],\"width\":[0.2],\"x\":[\"75:0.5\"],\"y\":[13.25],\"yr\":[75]}},\"id\":\"071c529a-15c9-45e6-a24e-2cf17912b86d\",\"type\":\"ColumnDataSource\"},{\"attributes\":{\"fill_alpha\":{\"field\":\"fill_alpha\"},\"fill_color\":{\"field\":\"color\"},\"height\":{\"field\":\"height\",\"units\":\"data\"},\"line_color\":{\"field\":\"line_color\"},\"width\":{\"field\":\"width\",\"units\":\"data\"},\"x\":{\"field\":\"x\"},\"y\":{\"field\":\"y\"}},\"id\":\"9a6b24ab-1671-4c5f-86bb-0155cfc4dd59\",\"type\":\"Rect\"},{\"attributes\":{\"below\":[{\"id\":\"f7841257-729a-41d7-9a01-2602698f160c\",\"type\":\"CategoricalAxis\"}],\"left\":[{\"id\":\"887a8db5-8c77-4b5c-b75a-268858e6f4d8\",\"type\":\"LinearAxis\"}],\"renderers\":[{\"id\":\"cb81c1b0-2f83-4a54-9cf7-9a873b74efdb\",\"type\":\"GlyphRenderer\"},{\"id\":\"cbf41bc4-f774-449d-b98e-287a5b98841a\",\"type\":\"GlyphRenderer\"},{\"id\":\"62d7d69e-fc35-431f-a717-b0c2ccde5b38\",\"type\":\"GlyphRenderer\"},{\"id\":\"0b468eed-e9d9-4b27-9213-d75dca794c53\",\"type\":\"GlyphRenderer\"},{\"id\":\"b93f76c0-80af-4cb3-917a-c5100a4c8fa5\",\"type\":\"GlyphRenderer\"},{\"id\":\"0a7f8e5b-d373-4cb9-b3ba-272e6e75d168\",\"type\":\"GlyphRenderer\"},{\"id\":\"af49efa6-d551-4596-abc7-735640b1e4f1\",\"type\":\"GlyphRenderer\"},{\"id\":\"97e9ec66-a100-4341-b195-0186d38c8d67\",\"type\":\"GlyphRenderer\"},{\"id\":\"d8cb0aba-b15b-4fee-b8fe-9a6c2fc5d1da\",\"type\":\"GlyphRenderer\"},{\"id\":\"e9ce26a1-23d8-4b55-90bf-d6874b909258\",\"type\":\"GlyphRenderer\"},{\"id\":\"6690e892-000b-4ede-a2a1-4a67c50a8a3a\",\"type\":\"GlyphRenderer\"},{\"id\":\"60caa05c-370d-4954-921f-1b86146c1717\",\"type\":\"GlyphRenderer\"},{\"id\":\"934324ee-a27b-408f-9f10-d9608d645d84\",\"type\":\"GlyphRenderer\"},{\"id\":\"6996dadf-b3ff-4453-93fd-ae2a5e1a763b\",\"type\":\"GlyphRenderer\"},{\"id\":\"ee5b7e25-372c-4d81-8c04-334fa13353de\",\"type\":\"GlyphRenderer\"},{\"id\":\"2002889b-fdcd-4528-a765-9bf6875e1f30\",\"type\":\"GlyphRenderer\"},{\"id\":\"bb0dfa01-cfc4-4e47-a508-d937bb05405d\",\"type\":\"GlyphRenderer\"},{\"id\":\"8ad200fb-1a95-4a7a-8e0f-eb73ba470ded\",\"type\":\"GlyphRenderer\"},{\"id\":\"d7cd435e-56ea-4b0d-9190-15496999941a\",\"type\":\"GlyphRenderer\"},{\"id\":\"58f4eccd-eb8e-44cd-8f58-4a71cb5be770\",\"type\":\"GlyphRenderer\"},{\"id\":\"cb1e1454-6fa8-43ad-93eb-6110f95ce4ef\",\"type\":\"GlyphRenderer\"},{\"id\":\"939463f5-744c-40dd-a536-49056f5bcdb3\",\"type\":\"GlyphRenderer\"},{\"id\":\"2db6422c-7584-4e7f-b4a6-0c32b5a19c01\",\"type\":\"GlyphRenderer\"},{\"id\":\"212433e2-84aa-4beb-98dd-28c25a36b36c\",\"type\":\"GlyphRenderer\"},{\"id\":\"19830afb-58d6-4fff-a38b-aecde28a8d9d\",\"type\":\"GlyphRenderer\"},{\"id\":\"05c8b887-0375-40d6-8254-15417e2ebcf3\",\"type\":\"GlyphRenderer\"},{\"id\":\"239b96da-51a8-4cca-87a6-fd403f478bdf\",\"type\":\"GlyphRenderer\"},{\"id\":\"409614fa-52b0-4e65-a92f-5d4e51991fbf\",\"type\":\"GlyphRenderer\"},{\"id\":\"b84c45fa-cfa0-446f-a2bc-9b7a5f14ea4b\",\"type\":\"GlyphRenderer\"},{\"id\":\"a037327d-a1b6-4851-a418-29a185b03ed8\",\"type\":\"GlyphRenderer\"},{\"id\":\"e581d07e-f942-4b1a-bed3-abf96cf00c3a\",\"type\":\"GlyphRenderer\"},{\"id\":\"c5bfee75-9374-4649-af39-921e19cec049\",\"type\":\"GlyphRenderer\"},{\"id\":\"a0d6842b-6d5c-4e71-868d-debf1f6c5f14\",\"type\":\"GlyphRenderer\"},{\"id\":\"e2ad4196-ffe1-43c5-bc3d-555fdaa321ac\",\"type\":\"GlyphRenderer\"},{\"id\":\"4d5fbc7b-2077-436d-8baa-37ad9150f81b\",\"type\":\"GlyphRenderer\"},{\"id\":\"434be091-6c0b-407c-8521-a21090ed76a7\",\"type\":\"GlyphRenderer\"},{\"id\":\"9f4ce4bf-cfb6-4340-9440-8986912daffe\",\"type\":\"GlyphRenderer\"},{\"id\":\"e233bb84-2c7b-45d1-b337-1c008689d0bb\",\"type\":\"GlyphRenderer\"},{\"id\":\"6c8222ef-53ce-4905-ba1d-9f80a53ea3b8\",\"type\":\"GlyphRenderer\"},{\"id\":\"e747a28a-86a8-4f81-a98d-8fb76ccc9552\",\"type\":\"Legend\"},{\"id\":\"f7841257-729a-41d7-9a01-2602698f160c\",\"type\":\"CategoricalAxis\"},{\"id\":\"887a8db5-8c77-4b5c-b75a-268858e6f4d8\",\"type\":\"LinearAxis\"},{\"id\":\"816142ac-1a21-4746-9fb6-644933b3428f\",\"type\":\"Grid\"}],\"title\":{\"id\":\"b7c15548-d45f-4964-87fb-3cc3fd1ad81b\",\"type\":\"Title\"},\"tool_events\":{\"id\":\"2fc206e8-848e-4563-a931-cb166ba7ba9a\",\"type\":\"ToolEvents\"},\"toolbar\":{\"id\":\"ba99d87a-3b4c-4286-bb21-0b768ef24f17\",\"type\":\"Toolbar\"},\"x_mapper_type\":\"auto\",\"x_range\":{\"id\":\"3741db94-942a-4eff-94ad-f46b0c22ef0c\",\"type\":\"FactorRange\"},\"y_mapper_type\":\"auto\",\"y_range\":{\"id\":\"236ed23d-6f83-4244-b2b9-e6f5b8d4565f\",\"type\":\"Range1d\"}},\"id\":\"b98f6768-3004-4395-8f96-417502eb9a0e\",\"subtype\":\"Chart\",\"type\":\"Plot\"}],\"root_ids\":[\"b98f6768-3004-4395-8f96-417502eb9a0e\"]},\"title\":\"Bokeh Application\",\"version\":\"0.12.0\"}};\n",
       "            var render_items = [{\"docid\":\"5b9491aa-0c1e-4bc6-9457-a171a61c0a05\",\"elementid\":\"01311224-055a-47eb-8e86-9ba07ac75692\",\"modelid\":\"b98f6768-3004-4395-8f96-417502eb9a0e\",\"notebook_comms_target\":\"af80fe91-9caa-4d40-be6b-4c7c51ca3f8a\"}];\n",
       "            \n",
       "            Bokeh.embed.embed_items(docs_json, render_items);\n",
       "        });\n",
       "      },\n",
       "      function(Bokeh) {\n",
       "      }\n",
       "    ];\n",
       "  \n",
       "    function run_inline_js() {\n",
       "      for (var i = 0; i < inline_js.length; i++) {\n",
       "        inline_js[i](window.Bokeh);\n",
       "      }\n",
       "    }\n",
       "  \n",
       "    if (window._bokeh_is_loading === 0) {\n",
       "      console.log(\"Bokeh: BokehJS loaded, going straight to plotting\");\n",
       "      run_inline_js();\n",
       "    } else {\n",
       "      load_libs(js_urls, function() {\n",
       "        console.log(\"Bokeh: BokehJS plotting callback run at\", now());\n",
       "        run_inline_js();\n",
       "      });\n",
       "    }\n",
       "  }(this));\n",
       "</script>"
      ]
     },
     "metadata": {},
     "output_type": "display_data"
    },
    {
     "data": {
      "text/html": [
       "<p><code>&lt;Bokeh Notebook handle for <strong>In[10]</strong>&gt;</code></p>"
      ],
      "text/plain": [
       "<bokeh.io._CommsHandle at 0x10de96fd0>"
      ]
     },
     "execution_count": 10,
     "metadata": {},
     "output_type": "execute_result"
    }
   ],
   "source": [
    "p = Bar(autompg, label='yr', values='mpg', agg='median', group='origin', \n",
    "        title=\"Median MPG by YR, grouped by ORIGIN\", legend='top_left', tools='crosshair')\n",
    "show(p)"
   ]
  },
  {
   "cell_type": "markdown",
   "metadata": {},
   "source": [
    "Similarly, bars for subgroups can be stacked visually, by providing a column name for the `stack` parameter. Let's try that as an exercise."
   ]
  },
  {
   "cell_type": "code",
   "execution_count": 11,
   "metadata": {
    "collapsed": false
   },
   "outputs": [],
   "source": [
    "# EXERCISE: change the chart above to stack the bars with title \"Median MPG by YR, stacked by ORIGIN\"\n"
   ]
  },
  {
   "cell_type": "markdown",
   "metadata": {},
   "source": [
    "# Histogram\n",
    "\n",
    "A high-level Histogram is provided by [`bokeh.charts.Histogram`]()\n",
    "\n",
    "For this section, we will construct our own synthetic data set that has values generated from two different probability distributions. "
   ]
  },
  {
   "cell_type": "code",
   "execution_count": 12,
   "metadata": {
    "collapsed": false
   },
   "outputs": [
    {
     "data": {
      "text/html": [
       "<div>\n",
       "<table border=\"1\" class=\"dataframe\">\n",
       "  <thead>\n",
       "    <tr style=\"text-align: right;\">\n",
       "      <th></th>\n",
       "      <th>type</th>\n",
       "      <th>value</th>\n",
       "    </tr>\n",
       "  </thead>\n",
       "  <tbody>\n",
       "    <tr>\n",
       "      <th>995</th>\n",
       "      <td>normal</td>\n",
       "      <td>0.579677</td>\n",
       "    </tr>\n",
       "    <tr>\n",
       "      <th>996</th>\n",
       "      <td>normal</td>\n",
       "      <td>-0.623790</td>\n",
       "    </tr>\n",
       "    <tr>\n",
       "      <th>997</th>\n",
       "      <td>normal</td>\n",
       "      <td>0.164892</td>\n",
       "    </tr>\n",
       "    <tr>\n",
       "      <th>998</th>\n",
       "      <td>normal</td>\n",
       "      <td>0.886356</td>\n",
       "    </tr>\n",
       "    <tr>\n",
       "      <th>999</th>\n",
       "      <td>normal</td>\n",
       "      <td>-0.300768</td>\n",
       "    </tr>\n",
       "    <tr>\n",
       "      <th>0</th>\n",
       "      <td>lognormal</td>\n",
       "      <td>1.174440</td>\n",
       "    </tr>\n",
       "    <tr>\n",
       "      <th>1</th>\n",
       "      <td>lognormal</td>\n",
       "      <td>1.397469</td>\n",
       "    </tr>\n",
       "    <tr>\n",
       "      <th>2</th>\n",
       "      <td>lognormal</td>\n",
       "      <td>0.652845</td>\n",
       "    </tr>\n",
       "    <tr>\n",
       "      <th>3</th>\n",
       "      <td>lognormal</td>\n",
       "      <td>1.364771</td>\n",
       "    </tr>\n",
       "    <tr>\n",
       "      <th>4</th>\n",
       "      <td>lognormal</td>\n",
       "      <td>0.646743</td>\n",
       "    </tr>\n",
       "  </tbody>\n",
       "</table>\n",
       "</div>"
      ],
      "text/plain": [
       "          type     value\n",
       "995     normal  0.579677\n",
       "996     normal -0.623790\n",
       "997     normal  0.164892\n",
       "998     normal  0.886356\n",
       "999     normal -0.300768\n",
       "0    lognormal  1.174440\n",
       "1    lognormal  1.397469\n",
       "2    lognormal  0.652845\n",
       "3    lognormal  1.364771\n",
       "4    lognormal  0.646743"
      ]
     },
     "execution_count": 12,
     "metadata": {},
     "output_type": "execute_result"
    }
   ],
   "source": [
    "import pandas as pd\n",
    "import numpy as np\n",
    "\n",
    "# build some distributions\n",
    "mu, sigma = 0, 0.5\n",
    "normal = pd.DataFrame({'value': np.random.normal(mu, sigma, 1000), 'type': 'normal'})\n",
    "lognormal = pd.DataFrame({'value': np.random.lognormal(mu, sigma, 1000), 'type': 'lognormal'})\n",
    "\n",
    "# create a pandas data frame\n",
    "df = pd.concat([normal, lognormal])\n",
    "df[995:1005]"
   ]
  },
  {
   "cell_type": "code",
   "execution_count": 13,
   "metadata": {
    "collapsed": true
   },
   "outputs": [],
   "source": [
    "from bokeh.charts import Histogram"
   ]
  },
  {
   "cell_type": "markdown",
   "metadata": {},
   "source": [
    "A basic histogram takes the data as the first parameter, and a column name as the `values` parameter. Optionally, you can also specify the number of bins to use by giving a value for the `bins` parameter. The example below shows the distribution of ***all*** the values (both the \"normal\" and \"lognormal\" values). "
   ]
  },
  {
   "cell_type": "code",
   "execution_count": 14,
   "metadata": {
    "collapsed": false
   },
   "outputs": [
    {
     "data": {
      "text/html": [
       "\n",
       "\n",
       "    <div class=\"bk-root\">\n",
       "        <div class=\"plotdiv\" id=\"775d9811-d364-425b-b7cc-78014b81114d\"></div>\n",
       "    </div>\n",
       "<script type=\"text/javascript\">\n",
       "  \n",
       "  (function(global) {\n",
       "    function now() {\n",
       "      return new Date();\n",
       "    }\n",
       "  \n",
       "    if (typeof (window._bokeh_onload_callbacks) === \"undefined\") {\n",
       "      window._bokeh_onload_callbacks = [];\n",
       "    }\n",
       "  \n",
       "    function run_callbacks() {\n",
       "      window._bokeh_onload_callbacks.forEach(function(callback) { callback() });\n",
       "      delete window._bokeh_onload_callbacks\n",
       "      console.info(\"Bokeh: all callbacks have finished\");\n",
       "    }\n",
       "  \n",
       "    function load_libs(js_urls, callback) {\n",
       "      window._bokeh_onload_callbacks.push(callback);\n",
       "      if (window._bokeh_is_loading > 0) {\n",
       "        console.log(\"Bokeh: BokehJS is being loaded, scheduling callback at\", now());\n",
       "        return null;\n",
       "      }\n",
       "      if (js_urls == null || js_urls.length === 0) {\n",
       "        run_callbacks();\n",
       "        return null;\n",
       "      }\n",
       "      console.log(\"Bokeh: BokehJS not loaded, scheduling load and callback at\", now());\n",
       "      window._bokeh_is_loading = js_urls.length;\n",
       "      for (var i = 0; i < js_urls.length; i++) {\n",
       "        var url = js_urls[i];\n",
       "        var s = document.createElement('script');\n",
       "        s.src = url;\n",
       "        s.async = false;\n",
       "        s.onreadystatechange = s.onload = function() {\n",
       "          window._bokeh_is_loading--;\n",
       "          if (window._bokeh_is_loading === 0) {\n",
       "            console.log(\"Bokeh: all BokehJS libraries loaded\");\n",
       "            run_callbacks()\n",
       "          }\n",
       "        };\n",
       "        s.onerror = function() {\n",
       "          console.warn(\"failed to load library \" + url);\n",
       "        };\n",
       "        console.log(\"Bokeh: injecting script tag for BokehJS library: \", url);\n",
       "        document.getElementsByTagName(\"head\")[0].appendChild(s);\n",
       "      }\n",
       "    };var element = document.getElementById(\"775d9811-d364-425b-b7cc-78014b81114d\");\n",
       "    if (element == null) {\n",
       "      console.log(\"Bokeh: ERROR: autoload.js configured with elementid '775d9811-d364-425b-b7cc-78014b81114d' but no matching script tag was found. \")\n",
       "      return false;\n",
       "    }\n",
       "  \n",
       "    var js_urls = [];\n",
       "  \n",
       "    var inline_js = [\n",
       "      function(Bokeh) {\n",
       "        Bokeh.$(function() {\n",
       "            var docs_json = {\"900c559a-1555-4ffa-a7b8-d7402d02cf7c\":{\"roots\":{\"references\":[{\"attributes\":{\"fill_alpha\":{\"field\":\"fill_alpha\"},\"fill_color\":{\"field\":\"color\"},\"height\":{\"field\":\"height\",\"units\":\"data\"},\"line_color\":{\"field\":\"line_color\"},\"width\":{\"field\":\"width\",\"units\":\"data\"},\"x\":{\"field\":\"x\"},\"y\":{\"field\":\"y\"}},\"id\":\"b1f4f1fe-5c88-4555-abe7-7ae023b8ecbc\",\"type\":\"Rect\"},{\"attributes\":{\"fill_alpha\":{\"field\":\"fill_alpha\"},\"fill_color\":{\"field\":\"color\"},\"height\":{\"field\":\"height\",\"units\":\"data\"},\"line_color\":{\"field\":\"line_color\"},\"width\":{\"field\":\"width\",\"units\":\"data\"},\"x\":{\"field\":\"x\"},\"y\":{\"field\":\"y\"}},\"id\":\"09c33ddc-f351-4549-b5f7-238d33f6e215\",\"type\":\"Rect\"},{\"attributes\":{\"callback\":null,\"column_names\":[\"line_color\",\"width\",\"height\",\"fill_alpha\",\"label\",\"x\",\"line_alpha\",\"color\",\"y\"],\"data\":{\"chart_index\":[\"(0.7, 0.9]\"],\"color\":[\"#f22c40\"],\"fill_alpha\":[0.8],\"height\":[221.0],\"label\":[\"(0.7, 0.9]\"],\"line_alpha\":[1.0],\"line_color\":[\"black\"],\"width\":[0.20303907923374087],\"x\":[\"0.8\"],\"y\":[110.5]}},\"id\":\"71ec0243-abac-4c03-ae56-e093eec3da54\",\"type\":\"ColumnDataSource\"},{\"attributes\":{\"data_source\":{\"id\":\"3539d54b-933a-43d9-955d-1663a5cc8cf7\",\"type\":\"ColumnDataSource\"},\"glyph\":{\"id\":\"af178ead-b1c1-47d0-a09f-8950dd3ee5c6\",\"type\":\"Rect\"},\"hover_glyph\":null,\"nonselection_glyph\":null,\"selection_glyph\":null},\"id\":\"e24d83d3-fdc3-40be-806f-e7f11e4e1609\",\"type\":\"GlyphRenderer\"},{\"attributes\":{\"data_source\":{\"id\":\"1d674742-4477-40a0-b367-7815daa09c9d\",\"type\":\"ColumnDataSource\"},\"glyph\":{\"id\":\"52a18a5a-e227-4711-b365-82eda5ae624e\",\"type\":\"Rect\"},\"hover_glyph\":null,\"nonselection_glyph\":null,\"selection_glyph\":null},\"id\":\"1c95b46b-80b2-407c-ae37-aa723ad75493\",\"type\":\"GlyphRenderer\"},{\"attributes\":{\"callback\":null,\"column_names\":[\"line_color\",\"width\",\"height\",\"fill_alpha\",\"label\",\"x\",\"line_alpha\",\"color\",\"y\"],\"data\":{\"chart_index\":[\"[-1.5, -1.3]\"],\"color\":[\"#f22c40\"],\"fill_alpha\":[0.8],\"height\":[2.0],\"label\":[\"[-1.5, -1.3]\"],\"line_alpha\":[1.0],\"line_color\":[\"black\"],\"width\":[0.2030390792337411],\"x\":[\"-1.4\"],\"y\":[1.0]}},\"id\":\"72297faa-d1a4-411d-8a20-29a61e475b2f\",\"type\":\"ColumnDataSource\"},{\"attributes\":{\"active_drag\":\"auto\",\"active_scroll\":\"auto\",\"active_tap\":\"auto\",\"tools\":[{\"id\":\"a1aa957b-0303-45f6-86e4-c5c1b6bd471d\",\"type\":\"PanTool\"},{\"id\":\"fba7b9e0-0891-4f22-bdf6-18214a8a6e4a\",\"type\":\"WheelZoomTool\"},{\"id\":\"6091bdec-fe97-4053-8985-e837d142877e\",\"type\":\"BoxZoomTool\"},{\"id\":\"ad987ebb-63ad-49ca-9bfe-6338a7d42a44\",\"type\":\"SaveTool\"},{\"id\":\"03c30906-087c-4427-834c-97ee202e6aea\",\"type\":\"ResetTool\"},{\"id\":\"d54b0f78-a2d9-4d5f-a0b3-655b767b8c59\",\"type\":\"HelpTool\"}]},\"id\":\"80f93f63-b1ef-4506-861e-2e553326be12\",\"type\":\"Toolbar\"},{\"attributes\":{\"callback\":null,\"column_names\":[\"line_color\",\"width\",\"height\",\"fill_alpha\",\"label\",\"x\",\"line_alpha\",\"color\",\"y\"],\"data\":{\"chart_index\":[\"(3.1, 3.3]\"],\"color\":[\"#f22c40\"],\"fill_alpha\":[0.8],\"height\":[2.0],\"label\":[\"(3.1, 3.3]\"],\"line_alpha\":[1.0],\"line_color\":[\"black\"],\"width\":[0.20303907923374087],\"x\":[\"3.2\"],\"y\":[1.0]}},\"id\":\"ef483b39-351e-4cc8-92ca-b8a29d506257\",\"type\":\"ColumnDataSource\"},{\"attributes\":{\"location\":\"top_left\",\"plot\":{\"id\":\"4d0eef8a-61dd-40d6-8a32-35716aaf4a70\",\"subtype\":\"Chart\",\"type\":\"Plot\"}},\"id\":\"fa7c62c2-b7a2-468e-8a95-52a092b662ac\",\"type\":\"Legend\"},{\"attributes\":{\"data_source\":{\"id\":\"d5eb091f-cf30-4ffe-b5dc-897bbf6c7d89\",\"type\":\"ColumnDataSource\"},\"glyph\":{\"id\":\"79285924-b075-429e-bd71-84081ae00dcf\",\"type\":\"Rect\"},\"hover_glyph\":null,\"nonselection_glyph\":null,\"selection_glyph\":null},\"id\":\"1d153661-4c80-4d70-9a8a-34404ce97504\",\"type\":\"GlyphRenderer\"},{\"attributes\":{\"fill_alpha\":{\"field\":\"fill_alpha\"},\"fill_color\":{\"field\":\"color\"},\"height\":{\"field\":\"height\",\"units\":\"data\"},\"line_color\":{\"field\":\"line_color\"},\"width\":{\"field\":\"width\",\"units\":\"data\"},\"x\":{\"field\":\"x\"},\"y\":{\"field\":\"y\"}},\"id\":\"dbf71dd7-3c9a-43e3-a140-31a3d932df59\",\"type\":\"Rect\"},{\"attributes\":{\"callback\":null,\"column_names\":[\"line_color\",\"width\",\"height\",\"fill_alpha\",\"label\",\"x\",\"line_alpha\",\"color\",\"y\"],\"data\":{\"chart_index\":[\"(-0.9, -0.7]\"],\"color\":[\"#f22c40\"],\"fill_alpha\":[0.8],\"height\":[41.0],\"label\":[\"(-0.9, -0.7]\"],\"line_alpha\":[1.0],\"line_color\":[\"black\"],\"width\":[0.2030390792337411],\"x\":[\"-0.8\"],\"y\":[20.5]}},\"id\":\"f587b963-8a9b-4bcc-86e0-2f204100af6a\",\"type\":\"ColumnDataSource\"},{\"attributes\":{\"data_source\":{\"id\":\"af719b20-3b7e-4bb9-bc9c-cb59c6cc7413\",\"type\":\"ColumnDataSource\"},\"glyph\":{\"id\":\"efd9fc52-cb7f-489f-bba7-5efc57eb6004\",\"type\":\"Rect\"},\"hover_glyph\":null,\"nonselection_glyph\":null,\"selection_glyph\":null},\"id\":\"3b9c5adf-b235-4b17-a72e-8ef2aff12b37\",\"type\":\"GlyphRenderer\"},{\"attributes\":{\"data_source\":{\"id\":\"d00fd042-15fc-4f6e-9c6c-01c0657e7f42\",\"type\":\"ColumnDataSource\"},\"glyph\":{\"id\":\"4d4ea0bf-25b6-40e0-9291-ed3b301cd64a\",\"type\":\"Rect\"},\"hover_glyph\":null,\"nonselection_glyph\":null,\"selection_glyph\":null},\"id\":\"170c4bf6-c9f4-4ddc-bb81-eea6771bdecb\",\"type\":\"GlyphRenderer\"},{\"attributes\":{\"data_source\":{\"id\":\"a32d5ec7-cfce-444d-b014-52f54eea6bcb\",\"type\":\"ColumnDataSource\"},\"glyph\":{\"id\":\"af464693-a559-4b0a-a753-8636f3766c18\",\"type\":\"Rect\"},\"hover_glyph\":null,\"nonselection_glyph\":null,\"selection_glyph\":null},\"id\":\"f6d50376-2dec-417a-913d-ee00812e3dc8\",\"type\":\"GlyphRenderer\"},{\"attributes\":{\"callback\":null,\"column_names\":[\"line_color\",\"width\",\"height\",\"fill_alpha\",\"label\",\"x\",\"line_alpha\",\"color\",\"y\"],\"data\":{\"chart_index\":[\"(4.1, 4.4]\"],\"color\":[\"#f22c40\"],\"fill_alpha\":[0.8],\"height\":[0.0],\"label\":[\"(4.1, 4.4]\"],\"line_alpha\":[1.0],\"line_color\":[\"black\"],\"width\":[0.20303907923374087],\"x\":[\"4.25\"],\"y\":[0.0]}},\"id\":\"a32d5ec7-cfce-444d-b014-52f54eea6bcb\",\"type\":\"ColumnDataSource\"},{\"attributes\":{\"data_source\":{\"id\":\"0bf549bc-48b7-418d-a29e-a3815f26ab62\",\"type\":\"ColumnDataSource\"},\"glyph\":{\"id\":\"dbf71dd7-3c9a-43e3-a140-31a3d932df59\",\"type\":\"Rect\"},\"hover_glyph\":null,\"nonselection_glyph\":null,\"selection_glyph\":null},\"id\":\"2dbe95c6-9c87-4be1-ab16-f63a37e79167\",\"type\":\"GlyphRenderer\"},{\"attributes\":{\"fill_alpha\":{\"field\":\"fill_alpha\"},\"fill_color\":{\"field\":\"color\"},\"height\":{\"field\":\"height\",\"units\":\"data\"},\"line_color\":{\"field\":\"line_color\"},\"width\":{\"field\":\"width\",\"units\":\"data\"},\"x\":{\"field\":\"x\"},\"y\":{\"field\":\"y\"}},\"id\":\"628edb97-adcf-4c51-8a9d-aa9f03a788d8\",\"type\":\"Rect\"},{\"attributes\":{\"data_source\":{\"id\":\"a73ed02f-a78e-4652-8162-2479f3cd7cae\",\"type\":\"ColumnDataSource\"},\"glyph\":{\"id\":\"f65ecde8-f888-4dde-a30d-1c08327bdcb7\",\"type\":\"Rect\"},\"hover_glyph\":null,\"nonselection_glyph\":null,\"selection_glyph\":null},\"id\":\"68c5cd49-cf51-4e23-a5c2-643f88685dcc\",\"type\":\"GlyphRenderer\"},{\"attributes\":{\"fill_alpha\":{\"field\":\"fill_alpha\"},\"fill_color\":{\"field\":\"color\"},\"height\":{\"field\":\"height\",\"units\":\"data\"},\"line_color\":{\"field\":\"line_color\"},\"width\":{\"field\":\"width\",\"units\":\"data\"},\"x\":{\"field\":\"x\"},\"y\":{\"field\":\"y\"}},\"id\":\"86c0a201-d508-42b6-ab35-64c9d8c03ca2\",\"type\":\"Rect\"},{\"attributes\":{},\"id\":\"c0240749-07f3-4fb5-b518-2a7b9f6c0299\",\"type\":\"BasicTickFormatter\"},{\"attributes\":{\"callback\":null,\"column_names\":[\"line_color\",\"width\",\"height\",\"fill_alpha\",\"label\",\"x\",\"line_alpha\",\"color\",\"y\"],\"data\":{\"chart_index\":[\"(3.3, 3.5]\"],\"color\":[\"#f22c40\"],\"fill_alpha\":[0.8],\"height\":[2.0],\"label\":[\"(3.3, 3.5]\"],\"line_alpha\":[1.0],\"line_color\":[\"black\"],\"width\":[0.20303907923374176],\"x\":[\"3.4\"],\"y\":[1.0]}},\"id\":\"2af188ed-f40d-44f5-bda6-099faf4cda4b\",\"type\":\"ColumnDataSource\"},{\"attributes\":{\"fill_alpha\":{\"field\":\"fill_alpha\"},\"fill_color\":{\"field\":\"color\"},\"height\":{\"field\":\"height\",\"units\":\"data\"},\"line_color\":{\"field\":\"line_color\"},\"width\":{\"field\":\"width\",\"units\":\"data\"},\"x\":{\"field\":\"x\"},\"y\":{\"field\":\"y\"}},\"id\":\"f65ecde8-f888-4dde-a30d-1c08327bdcb7\",\"type\":\"Rect\"},{\"attributes\":{\"data_source\":{\"id\":\"5da0ded7-7e86-4d72-a576-3549b041fb61\",\"type\":\"ColumnDataSource\"},\"glyph\":{\"id\":\"628edb97-adcf-4c51-8a9d-aa9f03a788d8\",\"type\":\"Rect\"},\"hover_glyph\":null,\"nonselection_glyph\":null,\"selection_glyph\":null},\"id\":\"1e314534-46b1-4c71-ab1e-6ce03284f692\",\"type\":\"GlyphRenderer\"},{\"attributes\":{\"data_source\":{\"id\":\"535fc101-77c7-4aab-9f04-13e9b0a918dc\",\"type\":\"ColumnDataSource\"},\"glyph\":{\"id\":\"0af59bdf-5b91-4503-a919-36e305c42e51\",\"type\":\"Rect\"},\"hover_glyph\":null,\"nonselection_glyph\":null,\"selection_glyph\":null},\"id\":\"a55452f3-9b21-4845-a55a-38f457fabac2\",\"type\":\"GlyphRenderer\"},{\"attributes\":{\"callback\":null,\"column_names\":[\"line_color\",\"width\",\"height\",\"fill_alpha\",\"label\",\"x\",\"line_alpha\",\"color\",\"y\"],\"data\":{\"chart_index\":[\"(0.3, 0.5]\"],\"color\":[\"#f22c40\"],\"fill_alpha\":[0.8],\"height\":[198.0],\"label\":[\"(0.3, 0.5]\"],\"line_alpha\":[1.0],\"line_color\":[\"black\"],\"width\":[0.2030390792337411],\"x\":[\"0.4\"],\"y\":[99.0]}},\"id\":\"1d674742-4477-40a0-b367-7815daa09c9d\",\"type\":\"ColumnDataSource\"},{\"attributes\":{\"data_source\":{\"id\":\"2af188ed-f40d-44f5-bda6-099faf4cda4b\",\"type\":\"ColumnDataSource\"},\"glyph\":{\"id\":\"298c736e-2f52-4dcd-81bb-9ccc60bc6452\",\"type\":\"Rect\"},\"hover_glyph\":null,\"nonselection_glyph\":null,\"selection_glyph\":null},\"id\":\"2bd3d668-5852-4163-bab6-820c90058cd9\",\"type\":\"GlyphRenderer\"},{\"attributes\":{\"callback\":null,\"column_names\":[\"line_color\",\"width\",\"height\",\"fill_alpha\",\"label\",\"x\",\"line_alpha\",\"color\",\"y\"],\"data\":{\"chart_index\":[\"(-0.3, -0.1]\"],\"color\":[\"#f22c40\"],\"fill_alpha\":[0.8],\"height\":[165.0],\"label\":[\"(-0.3, -0.1]\"],\"line_alpha\":[1.0],\"line_color\":[\"black\"],\"width\":[0.2030390792337411],\"x\":[\"-0.2\"],\"y\":[82.5]}},\"id\":\"0bf549bc-48b7-418d-a29e-a3815f26ab62\",\"type\":\"ColumnDataSource\"},{\"attributes\":{},\"id\":\"561ef625-b93a-48c0-984d-606ca26a24be\",\"type\":\"BasicTicker\"},{\"attributes\":{\"callback\":null,\"column_names\":[\"line_color\",\"width\",\"height\",\"fill_alpha\",\"label\",\"x\",\"line_alpha\",\"color\",\"y\"],\"data\":{\"chart_index\":[\"(4.4, 4.6]\"],\"color\":[\"#f22c40\"],\"fill_alpha\":[0.8],\"height\":[2.0],\"label\":[\"(4.4, 4.6]\"],\"line_alpha\":[1.0],\"line_color\":[\"black\"],\"width\":[0.20303907923374176],\"x\":[\"4.5\"],\"y\":[1.0]}},\"id\":\"795d93b0-9bb1-4f6a-8c0a-64a77d8c1f10\",\"type\":\"ColumnDataSource\"},{\"attributes\":{\"data_source\":{\"id\":\"5e51cde0-d229-4853-8105-0134d04823d5\",\"type\":\"ColumnDataSource\"},\"glyph\":{\"id\":\"44156c5a-1840-4dab-95ed-de9c0b4abb62\",\"type\":\"Rect\"},\"hover_glyph\":null,\"nonselection_glyph\":null,\"selection_glyph\":null},\"id\":\"116dd852-7a69-4334-a320-06bdd9df3259\",\"type\":\"GlyphRenderer\"},{\"attributes\":{\"callback\":null,\"column_names\":[\"line_color\",\"width\",\"height\",\"fill_alpha\",\"label\",\"x\",\"line_alpha\",\"color\",\"y\"],\"data\":{\"chart_index\":[\"(-0.1, 0.1]\"],\"color\":[\"#f22c40\"],\"fill_alpha\":[0.8],\"height\":[152.0],\"label\":[\"(-0.1, 0.1]\"],\"line_alpha\":[1.0],\"line_color\":[\"black\"],\"width\":[0.2030390792337411],\"x\":[\"0.0\"],\"y\":[76.0]}},\"id\":\"607a6c79-6567-4dc8-81c9-62519b7d175f\",\"type\":\"ColumnDataSource\"},{\"attributes\":{},\"id\":\"f2cb2f60-6c43-469e-a099-c72d0b0197b4\",\"type\":\"ToolEvents\"},{\"attributes\":{\"data_source\":{\"id\":\"ebcb9e6d-d750-49d0-ac89-f3e560d7fb0e\",\"type\":\"ColumnDataSource\"},\"glyph\":{\"id\":\"66b16fc9-98cf-47d4-9800-0aae3a959fd2\",\"type\":\"Rect\"},\"hover_glyph\":null,\"nonselection_glyph\":null,\"selection_glyph\":null},\"id\":\"e69621d3-c103-438a-bbc9-b7cd6a0bfa45\",\"type\":\"GlyphRenderer\"},{\"attributes\":{\"plot\":{\"id\":\"4d0eef8a-61dd-40d6-8a32-35716aaf4a70\",\"subtype\":\"Chart\",\"type\":\"Plot\"}},\"id\":\"a1aa957b-0303-45f6-86e4-c5c1b6bd471d\",\"type\":\"PanTool\"},{\"attributes\":{\"callback\":null,\"column_names\":[\"line_color\",\"width\",\"height\",\"fill_alpha\",\"label\",\"x\",\"line_alpha\",\"color\",\"y\"],\"data\":{\"chart_index\":[\"(1.9, 2.1]\"],\"color\":[\"#f22c40\"],\"fill_alpha\":[0.8],\"height\":[31.0],\"label\":[\"(1.9, 2.1]\"],\"line_alpha\":[1.0],\"line_color\":[\"black\"],\"width\":[0.20303907923374154],\"x\":[\"2.0\"],\"y\":[15.5]}},\"id\":\"5e51cde0-d229-4853-8105-0134d04823d5\",\"type\":\"ColumnDataSource\"},{\"attributes\":{\"callback\":null,\"column_names\":[\"line_color\",\"width\",\"height\",\"fill_alpha\",\"label\",\"x\",\"line_alpha\",\"color\",\"y\"],\"data\":{\"chart_index\":[\"(2.5, 2.7]\"],\"color\":[\"#f22c40\"],\"fill_alpha\":[0.8],\"height\":[6.0],\"label\":[\"(2.5, 2.7]\"],\"line_alpha\":[1.0],\"line_color\":[\"black\"],\"width\":[0.20303907923374087],\"x\":[\"2.6\"],\"y\":[3.0]}},\"id\":\"d00fd042-15fc-4f6e-9c6c-01c0657e7f42\",\"type\":\"ColumnDataSource\"},{\"attributes\":{\"data_source\":{\"id\":\"35891030-a4b8-4437-9f36-eb3c63b34db4\",\"type\":\"ColumnDataSource\"},\"glyph\":{\"id\":\"3697b5f5-3128-48b6-8091-c10dc4304c08\",\"type\":\"Rect\"},\"hover_glyph\":null,\"nonselection_glyph\":null,\"selection_glyph\":null},\"id\":\"acba5544-50b6-4d39-9bdb-883e412492af\",\"type\":\"GlyphRenderer\"},{\"attributes\":{\"data_source\":{\"id\":\"795d93b0-9bb1-4f6a-8c0a-64a77d8c1f10\",\"type\":\"ColumnDataSource\"},\"glyph\":{\"id\":\"34962178-c6d7-4df8-a2ee-aec1a4d5291d\",\"type\":\"Rect\"},\"hover_glyph\":null,\"nonselection_glyph\":null,\"selection_glyph\":null},\"id\":\"fbd0bb8f-8766-4543-9fbe-84a04118829d\",\"type\":\"GlyphRenderer\"},{\"attributes\":{\"callback\":null,\"column_names\":[\"line_color\",\"width\",\"height\",\"fill_alpha\",\"label\",\"x\",\"line_alpha\",\"color\",\"y\"],\"data\":{\"chart_index\":[\"(3.9, 4.1]\"],\"color\":[\"#f22c40\"],\"fill_alpha\":[0.8],\"height\":[1.0],\"label\":[\"(3.9, 4.1]\"],\"line_alpha\":[1.0],\"line_color\":[\"black\"],\"width\":[0.20303907923374087],\"x\":[\"4.0\"],\"y\":[0.5]}},\"id\":\"5da0ded7-7e86-4d72-a576-3549b041fb61\",\"type\":\"ColumnDataSource\"},{\"attributes\":{\"axis_label\":\"Count( Value )\",\"formatter\":{\"id\":\"c0240749-07f3-4fb5-b518-2a7b9f6c0299\",\"type\":\"BasicTickFormatter\"},\"plot\":{\"id\":\"4d0eef8a-61dd-40d6-8a32-35716aaf4a70\",\"subtype\":\"Chart\",\"type\":\"Plot\"},\"ticker\":{\"id\":\"561ef625-b93a-48c0-984d-606ca26a24be\",\"type\":\"BasicTicker\"}},\"id\":\"fcca3169-9aec-43c1-b110-873137d6f92d\",\"type\":\"LinearAxis\"},{\"attributes\":{\"fill_alpha\":{\"field\":\"fill_alpha\"},\"fill_color\":{\"field\":\"color\"},\"height\":{\"field\":\"height\",\"units\":\"data\"},\"line_color\":{\"field\":\"line_color\"},\"width\":{\"field\":\"width\",\"units\":\"data\"},\"x\":{\"field\":\"x\"},\"y\":{\"field\":\"y\"}},\"id\":\"79285924-b075-429e-bd71-84081ae00dcf\",\"type\":\"Rect\"},{\"attributes\":{\"data_source\":{\"id\":\"ca4abad5-1a2b-4603-b73d-37a1f0a5e7a3\",\"type\":\"ColumnDataSource\"},\"glyph\":{\"id\":\"7721290f-e583-45df-8a33-830415a5a2ed\",\"type\":\"Rect\"},\"hover_glyph\":null,\"nonselection_glyph\":null,\"selection_glyph\":null},\"id\":\"9b5c5d5f-f2cd-4095-b36f-e2ee23a2871e\",\"type\":\"GlyphRenderer\"},{\"attributes\":{\"data_source\":{\"id\":\"cedc3a41-73e0-4346-a057-ab242c351347\",\"type\":\"ColumnDataSource\"},\"glyph\":{\"id\":\"09c33ddc-f351-4549-b5f7-238d33f6e215\",\"type\":\"Rect\"},\"hover_glyph\":null,\"nonselection_glyph\":null,\"selection_glyph\":null},\"id\":\"f819e865-e8c6-4d97-a2d0-19c7f3032530\",\"type\":\"GlyphRenderer\"},{\"attributes\":{\"data_source\":{\"id\":\"74603ac6-0de7-47b8-aae0-a6f2d2384726\",\"type\":\"ColumnDataSource\"},\"glyph\":{\"id\":\"bcbc97a5-d450-49f8-9d26-bcbf176ad5fa\",\"type\":\"Rect\"},\"hover_glyph\":null,\"nonselection_glyph\":null,\"selection_glyph\":null},\"id\":\"7470946e-4bb7-4b71-b2d3-e4bf06f86205\",\"type\":\"GlyphRenderer\"},{\"attributes\":{\"data_source\":{\"id\":\"a82c7cf1-39db-44ef-99f3-21c90f72e9e2\",\"type\":\"ColumnDataSource\"},\"glyph\":{\"id\":\"cb37b1bb-ef77-45ec-8508-85f666160c73\",\"type\":\"Rect\"},\"hover_glyph\":null,\"nonselection_glyph\":null,\"selection_glyph\":null},\"id\":\"baf0616a-6e7d-4791-9b32-099951844a95\",\"type\":\"GlyphRenderer\"},{\"attributes\":{\"data_source\":{\"id\":\"9a6e71ac-155c-41e0-8f86-4cb7809f4d18\",\"type\":\"ColumnDataSource\"},\"glyph\":{\"id\":\"a3761235-4f4f-4a4f-a942-6bc963efe62f\",\"type\":\"Rect\"},\"hover_glyph\":null,\"nonselection_glyph\":null,\"selection_glyph\":null},\"id\":\"6b7afb06-2d7b-46b3-bce3-5215a44018b1\",\"type\":\"GlyphRenderer\"},{\"attributes\":{\"data_source\":{\"id\":\"ef483b39-351e-4cc8-92ca-b8a29d506257\",\"type\":\"ColumnDataSource\"},\"glyph\":{\"id\":\"2ea797bd-ca99-4e1b-af81-53b3f3f034c1\",\"type\":\"Rect\"},\"hover_glyph\":null,\"nonselection_glyph\":null,\"selection_glyph\":null},\"id\":\"177f061e-5ae1-4fbb-bcef-3193365b2249\",\"type\":\"GlyphRenderer\"},{\"attributes\":{\"data_source\":{\"id\":\"439373ca-9670-4b49-93a9-a920eb261e94\",\"type\":\"ColumnDataSource\"},\"glyph\":{\"id\":\"c2fe2a0d-8605-45a8-baf2-3d3b725320aa\",\"type\":\"Rect\"},\"hover_glyph\":null,\"nonselection_glyph\":null,\"selection_glyph\":null},\"id\":\"9c042987-86b1-4f38-9f92-4ad7a1ec3c50\",\"type\":\"GlyphRenderer\"},{\"attributes\":{\"callback\":null,\"column_names\":[\"line_color\",\"width\",\"height\",\"fill_alpha\",\"label\",\"x\",\"line_alpha\",\"color\",\"y\"],\"data\":{\"chart_index\":[\"(2.3, 2.5]\"],\"color\":[\"#f22c40\"],\"fill_alpha\":[0.8],\"height\":[21.0],\"label\":[\"(2.3, 2.5]\"],\"line_alpha\":[1.0],\"line_color\":[\"black\"],\"width\":[0.20303907923374087],\"x\":[\"2.4\"],\"y\":[10.5]}},\"id\":\"535fc101-77c7-4aab-9f04-13e9b0a918dc\",\"type\":\"ColumnDataSource\"},{\"attributes\":{\"fill_alpha\":{\"field\":\"fill_alpha\"},\"fill_color\":{\"field\":\"color\"},\"height\":{\"field\":\"height\",\"units\":\"data\"},\"line_color\":{\"field\":\"line_color\"},\"width\":{\"field\":\"width\",\"units\":\"data\"},\"x\":{\"field\":\"x\"},\"y\":{\"field\":\"y\"}},\"id\":\"34962178-c6d7-4df8-a2ee-aec1a4d5291d\",\"type\":\"Rect\"},{\"attributes\":{\"plot\":{\"id\":\"4d0eef8a-61dd-40d6-8a32-35716aaf4a70\",\"subtype\":\"Chart\",\"type\":\"Plot\"}},\"id\":\"03c30906-087c-4427-834c-97ee202e6aea\",\"type\":\"ResetTool\"},{\"attributes\":{\"callback\":null,\"column_names\":[\"line_color\",\"width\",\"height\",\"fill_alpha\",\"label\",\"x\",\"line_alpha\",\"color\",\"y\"],\"data\":{\"chart_index\":[\"(-0.5, -0.3]\"],\"color\":[\"#f22c40\"],\"fill_alpha\":[0.8],\"height\":[115.0],\"label\":[\"(-0.5, -0.3]\"],\"line_alpha\":[1.0],\"line_color\":[\"black\"],\"width\":[0.20303907923374087],\"x\":[\"-0.4\"],\"y\":[57.5]}},\"id\":\"9a6e71ac-155c-41e0-8f86-4cb7809f4d18\",\"type\":\"ColumnDataSource\"},{\"attributes\":{\"fill_alpha\":{\"field\":\"fill_alpha\"},\"fill_color\":{\"field\":\"color\"},\"height\":{\"field\":\"height\",\"units\":\"data\"},\"line_color\":{\"field\":\"line_color\"},\"width\":{\"field\":\"width\",\"units\":\"data\"},\"x\":{\"field\":\"x\"},\"y\":{\"field\":\"y\"}},\"id\":\"63b2eeba-9c4f-4528-bae6-3a59216e6948\",\"type\":\"Rect\"},{\"attributes\":{\"callback\":null,\"column_names\":[\"line_color\",\"width\",\"height\",\"fill_alpha\",\"label\",\"x\",\"line_alpha\",\"color\",\"y\"],\"data\":{\"chart_index\":[\"(0.9, 1.1]\"],\"color\":[\"#f22c40\"],\"fill_alpha\":[0.8],\"height\":[190.0],\"label\":[\"(0.9, 1.1]\"],\"line_alpha\":[1.0],\"line_color\":[\"black\"],\"width\":[0.20303907923374132],\"x\":[\"1.0\"],\"y\":[95.0]}},\"id\":\"439373ca-9670-4b49-93a9-a920eb261e94\",\"type\":\"ColumnDataSource\"},{\"attributes\":{\"data_source\":{\"id\":\"f587b963-8a9b-4bcc-86e0-2f204100af6a\",\"type\":\"ColumnDataSource\"},\"glyph\":{\"id\":\"74cdb809-d7bc-494b-9024-fd118567cb71\",\"type\":\"Rect\"},\"hover_glyph\":null,\"nonselection_glyph\":null,\"selection_glyph\":null},\"id\":\"96379321-2a2a-4f9b-942c-d59ebe83a382\",\"type\":\"GlyphRenderer\"},{\"attributes\":{\"fill_alpha\":{\"field\":\"fill_alpha\"},\"fill_color\":{\"field\":\"color\"},\"height\":{\"field\":\"height\",\"units\":\"data\"},\"line_color\":{\"field\":\"line_color\"},\"width\":{\"field\":\"width\",\"units\":\"data\"},\"x\":{\"field\":\"x\"},\"y\":{\"field\":\"y\"}},\"id\":\"c2fe2a0d-8605-45a8-baf2-3d3b725320aa\",\"type\":\"Rect\"},{\"attributes\":{\"fill_alpha\":{\"field\":\"fill_alpha\"},\"fill_color\":{\"field\":\"color\"},\"height\":{\"field\":\"height\",\"units\":\"data\"},\"line_color\":{\"field\":\"line_color\"},\"width\":{\"field\":\"width\",\"units\":\"data\"},\"x\":{\"field\":\"x\"},\"y\":{\"field\":\"y\"}},\"id\":\"77bd87ec-9cb8-4bfa-b187-5937c6c07740\",\"type\":\"Rect\"},{\"attributes\":{\"fill_alpha\":{\"field\":\"fill_alpha\"},\"fill_color\":{\"field\":\"color\"},\"height\":{\"field\":\"height\",\"units\":\"data\"},\"line_color\":{\"field\":\"line_color\"},\"width\":{\"field\":\"width\",\"units\":\"data\"},\"x\":{\"field\":\"x\"},\"y\":{\"field\":\"y\"}},\"id\":\"d87310da-7402-4343-9d24-89972eadaa6a\",\"type\":\"Rect\"},{\"attributes\":{\"plot\":null,\"text\":null},\"id\":\"57dfb8a8-43e1-494d-bdce-0a6f84c34cf6\",\"type\":\"Title\"},{\"attributes\":{\"fill_alpha\":{\"field\":\"fill_alpha\"},\"fill_color\":{\"field\":\"color\"},\"height\":{\"field\":\"height\",\"units\":\"data\"},\"line_color\":{\"field\":\"line_color\"},\"width\":{\"field\":\"width\",\"units\":\"data\"},\"x\":{\"field\":\"x\"},\"y\":{\"field\":\"y\"}},\"id\":\"b8b42c88-28be-4930-b7ec-4b5073ed14bb\",\"type\":\"Rect\"},{\"attributes\":{\"dimension\":1,\"plot\":{\"id\":\"4d0eef8a-61dd-40d6-8a32-35716aaf4a70\",\"subtype\":\"Chart\",\"type\":\"Plot\"},\"ticker\":{\"id\":\"561ef625-b93a-48c0-984d-606ca26a24be\",\"type\":\"BasicTicker\"}},\"id\":\"b1420d5b-b12f-4b1b-b11d-2e08373323bf\",\"type\":\"Grid\"},{\"attributes\":{\"fill_alpha\":{\"field\":\"fill_alpha\"},\"fill_color\":{\"field\":\"color\"},\"height\":{\"field\":\"height\",\"units\":\"data\"},\"line_color\":{\"field\":\"line_color\"},\"width\":{\"field\":\"width\",\"units\":\"data\"},\"x\":{\"field\":\"x\"},\"y\":{\"field\":\"y\"}},\"id\":\"7721290f-e583-45df-8a33-830415a5a2ed\",\"type\":\"Rect\"},{\"attributes\":{\"fill_alpha\":{\"field\":\"fill_alpha\"},\"fill_color\":{\"field\":\"color\"},\"height\":{\"field\":\"height\",\"units\":\"data\"},\"line_color\":{\"field\":\"line_color\"},\"width\":{\"field\":\"width\",\"units\":\"data\"},\"x\":{\"field\":\"x\"},\"y\":{\"field\":\"y\"}},\"id\":\"74cdb809-d7bc-494b-9024-fd118567cb71\",\"type\":\"Rect\"},{\"attributes\":{\"callback\":null,\"column_names\":[\"line_color\",\"width\",\"height\",\"fill_alpha\",\"label\",\"x\",\"line_alpha\",\"color\",\"y\"],\"data\":{\"chart_index\":[\"(2.1, 2.3]\"],\"color\":[\"#f22c40\"],\"fill_alpha\":[0.8],\"height\":[20.0],\"label\":[\"(2.1, 2.3]\"],\"line_alpha\":[1.0],\"line_color\":[\"black\"],\"width\":[0.20303907923374087],\"x\":[\"2.2\"],\"y\":[10.0]}},\"id\":\"a73ed02f-a78e-4652-8162-2479f3cd7cae\",\"type\":\"ColumnDataSource\"},{\"attributes\":{\"callback\":null,\"column_names\":[\"line_color\",\"width\",\"height\",\"fill_alpha\",\"label\",\"x\",\"line_alpha\",\"color\",\"y\"],\"data\":{\"chart_index\":[\"(-1.1, -0.9]\"],\"color\":[\"#f22c40\"],\"fill_alpha\":[0.8],\"height\":[18.0],\"label\":[\"(-1.1, -0.9]\"],\"line_alpha\":[1.0],\"line_color\":[\"black\"],\"width\":[0.2030390792337411],\"x\":[\"-1.0\"],\"y\":[9.0]}},\"id\":\"2a211044-d834-4b8c-9d21-349604e22185\",\"type\":\"ColumnDataSource\"},{\"attributes\":{\"fill_alpha\":{\"field\":\"fill_alpha\"},\"fill_color\":{\"field\":\"color\"},\"height\":{\"field\":\"height\",\"units\":\"data\"},\"line_color\":{\"field\":\"line_color\"},\"width\":{\"field\":\"width\",\"units\":\"data\"},\"x\":{\"field\":\"x\"},\"y\":{\"field\":\"y\"}},\"id\":\"cb37b1bb-ef77-45ec-8508-85f666160c73\",\"type\":\"Rect\"},{\"attributes\":{\"callback\":null,\"column_names\":[\"line_color\",\"width\",\"height\",\"fill_alpha\",\"label\",\"x\",\"line_alpha\",\"color\",\"y\"],\"data\":{\"chart_index\":[\"(1.3, 1.5]\"],\"color\":[\"#f22c40\"],\"fill_alpha\":[0.8],\"height\":[111.0],\"label\":[\"(1.3, 1.5]\"],\"line_alpha\":[1.0],\"line_color\":[\"black\"],\"width\":[0.20303907923374132],\"x\":[\"1.4\"],\"y\":[55.5]}},\"id\":\"af719b20-3b7e-4bb9-bc9c-cb59c6cc7413\",\"type\":\"ColumnDataSource\"},{\"attributes\":{\"fill_alpha\":{\"field\":\"fill_alpha\"},\"fill_color\":{\"field\":\"color\"},\"height\":{\"field\":\"height\",\"units\":\"data\"},\"line_color\":{\"field\":\"line_color\"},\"width\":{\"field\":\"width\",\"units\":\"data\"},\"x\":{\"field\":\"x\"},\"y\":{\"field\":\"y\"}},\"id\":\"298c736e-2f52-4dcd-81bb-9ccc60bc6452\",\"type\":\"Rect\"},{\"attributes\":{\"callback\":null,\"column_names\":[\"line_color\",\"width\",\"height\",\"fill_alpha\",\"label\",\"x\",\"line_alpha\",\"color\",\"y\"],\"data\":{\"chart_index\":[\"(0.1, 0.3]\"],\"color\":[\"#f22c40\"],\"fill_alpha\":[0.8],\"height\":[140.0],\"label\":[\"(0.1, 0.3]\"],\"line_alpha\":[1.0],\"line_color\":[\"black\"],\"width\":[0.2030390792337411],\"x\":[\"0.2\"],\"y\":[70.0]}},\"id\":\"ca4abad5-1a2b-4603-b73d-37a1f0a5e7a3\",\"type\":\"ColumnDataSource\"},{\"attributes\":{\"callback\":null,\"column_names\":[\"line_color\",\"width\",\"height\",\"fill_alpha\",\"label\",\"x\",\"line_alpha\",\"color\",\"y\"],\"data\":{\"chart_index\":[\"(1.1, 1.3]\"],\"color\":[\"#f22c40\"],\"fill_alpha\":[0.8],\"height\":[139.0],\"label\":[\"(1.1, 1.3]\"],\"line_alpha\":[1.0],\"line_color\":[\"black\"],\"width\":[0.20303907923374087],\"x\":[\"1.2000000000000002\"],\"y\":[69.5]}},\"id\":\"d5eb091f-cf30-4ffe-b5dc-897bbf6c7d89\",\"type\":\"ColumnDataSource\"},{\"attributes\":{\"fill_alpha\":{\"field\":\"fill_alpha\"},\"fill_color\":{\"field\":\"color\"},\"height\":{\"field\":\"height\",\"units\":\"data\"},\"line_color\":{\"field\":\"line_color\"},\"width\":{\"field\":\"width\",\"units\":\"data\"},\"x\":{\"field\":\"x\"},\"y\":{\"field\":\"y\"}},\"id\":\"0af59bdf-5b91-4503-a919-36e305c42e51\",\"type\":\"Rect\"},{\"attributes\":{\"callback\":null,\"column_names\":[\"line_color\",\"width\",\"height\",\"fill_alpha\",\"label\",\"x\",\"line_alpha\",\"color\",\"y\"],\"data\":{\"chart_index\":[\"(2.9, 3.1]\"],\"color\":[\"#f22c40\"],\"fill_alpha\":[0.8],\"height\":[2.0],\"label\":[\"(2.9, 3.1]\"],\"line_alpha\":[1.0],\"line_color\":[\"black\"],\"width\":[0.20303907923374087],\"x\":[\"3.0\"],\"y\":[1.0]}},\"id\":\"cedc3a41-73e0-4346-a057-ab242c351347\",\"type\":\"ColumnDataSource\"},{\"attributes\":{\"fill_alpha\":{\"field\":\"fill_alpha\"},\"fill_color\":{\"field\":\"color\"},\"height\":{\"field\":\"height\",\"units\":\"data\"},\"line_color\":{\"field\":\"line_color\"},\"width\":{\"field\":\"width\",\"units\":\"data\"},\"x\":{\"field\":\"x\"},\"y\":{\"field\":\"y\"}},\"id\":\"52a18a5a-e227-4711-b365-82eda5ae624e\",\"type\":\"Rect\"},{\"attributes\":{\"overlay\":{\"id\":\"8e51d1e9-0634-418d-a8d7-afc0cb6a8ad8\",\"type\":\"BoxAnnotation\"},\"plot\":{\"id\":\"4d0eef8a-61dd-40d6-8a32-35716aaf4a70\",\"subtype\":\"Chart\",\"type\":\"Plot\"}},\"id\":\"6091bdec-fe97-4053-8985-e837d142877e\",\"type\":\"BoxZoomTool\"},{\"attributes\":{\"data_source\":{\"id\":\"4a8eb3b7-c18d-42f7-9a19-f949954381b8\",\"type\":\"ColumnDataSource\"},\"glyph\":{\"id\":\"b8b42c88-28be-4930-b7ec-4b5073ed14bb\",\"type\":\"Rect\"},\"hover_glyph\":null,\"nonselection_glyph\":null,\"selection_glyph\":null},\"id\":\"b994aa86-5c25-4829-89c0-8a7ac24985ad\",\"type\":\"GlyphRenderer\"},{\"attributes\":{\"callback\":null,\"column_names\":[\"line_color\",\"width\",\"height\",\"fill_alpha\",\"label\",\"x\",\"line_alpha\",\"color\",\"y\"],\"data\":{\"chart_index\":[\"(-0.7, -0.5]\"],\"color\":[\"#f22c40\"],\"fill_alpha\":[0.8],\"height\":[70.0],\"label\":[\"(-0.7, -0.5]\"],\"line_alpha\":[1.0],\"line_color\":[\"black\"],\"width\":[0.2030390792337411],\"x\":[\"-0.6\"],\"y\":[35.0]}},\"id\":\"3539d54b-933a-43d9-955d-1663a5cc8cf7\",\"type\":\"ColumnDataSource\"},{\"attributes\":{\"fill_alpha\":{\"field\":\"fill_alpha\"},\"fill_color\":{\"field\":\"color\"},\"height\":{\"field\":\"height\",\"units\":\"data\"},\"line_color\":{\"field\":\"line_color\"},\"width\":{\"field\":\"width\",\"units\":\"data\"},\"x\":{\"field\":\"x\"},\"y\":{\"field\":\"y\"}},\"id\":\"66b16fc9-98cf-47d4-9800-0aae3a959fd2\",\"type\":\"Rect\"},{\"attributes\":{\"data_source\":{\"id\":\"72297faa-d1a4-411d-8a20-29a61e475b2f\",\"type\":\"ColumnDataSource\"},\"glyph\":{\"id\":\"b1f4f1fe-5c88-4555-abe7-7ae023b8ecbc\",\"type\":\"Rect\"},\"hover_glyph\":null,\"nonselection_glyph\":null,\"selection_glyph\":null},\"id\":\"a17bd6f1-3a53-4822-87e2-739bd7cb23e7\",\"type\":\"GlyphRenderer\"},{\"attributes\":{},\"id\":\"f5ae4f21-3036-48d1-878b-270ed57a3eec\",\"type\":\"BasicTickFormatter\"},{\"attributes\":{\"fill_alpha\":{\"field\":\"fill_alpha\"},\"fill_color\":{\"field\":\"color\"},\"height\":{\"field\":\"height\",\"units\":\"data\"},\"line_color\":{\"field\":\"line_color\"},\"width\":{\"field\":\"width\",\"units\":\"data\"},\"x\":{\"field\":\"x\"},\"y\":{\"field\":\"y\"}},\"id\":\"ea83d930-ea6e-461e-8683-fc49018732ae\",\"type\":\"Rect\"},{\"attributes\":{\"bottom_units\":\"screen\",\"fill_alpha\":{\"value\":0.5},\"fill_color\":{\"value\":\"lightgrey\"},\"left_units\":\"screen\",\"level\":\"overlay\",\"line_alpha\":{\"value\":1.0},\"line_color\":{\"value\":\"black\"},\"line_dash\":[4,4],\"line_width\":{\"value\":2},\"plot\":null,\"render_mode\":\"css\",\"right_units\":\"screen\",\"top_units\":\"screen\"},\"id\":\"8e51d1e9-0634-418d-a8d7-afc0cb6a8ad8\",\"type\":\"BoxAnnotation\"},{\"attributes\":{\"fill_alpha\":{\"field\":\"fill_alpha\"},\"fill_color\":{\"field\":\"color\"},\"height\":{\"field\":\"height\",\"units\":\"data\"},\"line_color\":{\"field\":\"line_color\"},\"width\":{\"field\":\"width\",\"units\":\"data\"},\"x\":{\"field\":\"x\"},\"y\":{\"field\":\"y\"}},\"id\":\"af178ead-b1c1-47d0-a09f-8950dd3ee5c6\",\"type\":\"Rect\"},{\"attributes\":{\"fill_alpha\":{\"field\":\"fill_alpha\"},\"fill_color\":{\"field\":\"color\"},\"height\":{\"field\":\"height\",\"units\":\"data\"},\"line_color\":{\"field\":\"line_color\"},\"width\":{\"field\":\"width\",\"units\":\"data\"},\"x\":{\"field\":\"x\"},\"y\":{\"field\":\"y\"}},\"id\":\"bcbc97a5-d450-49f8-9d26-bcbf176ad5fa\",\"type\":\"Rect\"},{\"attributes\":{\"data_source\":{\"id\":\"d2d698fd-bf8a-41b4-b868-b60722df2f17\",\"type\":\"ColumnDataSource\"},\"glyph\":{\"id\":\"63b2eeba-9c4f-4528-bae6-3a59216e6948\",\"type\":\"Rect\"},\"hover_glyph\":null,\"nonselection_glyph\":null,\"selection_glyph\":null},\"id\":\"68f79355-9c36-4d9b-81fa-28cabab93aea\",\"type\":\"GlyphRenderer\"},{\"attributes\":{\"data_source\":{\"id\":\"71ec0243-abac-4c03-ae56-e093eec3da54\",\"type\":\"ColumnDataSource\"},\"glyph\":{\"id\":\"86c0a201-d508-42b6-ab35-64c9d8c03ca2\",\"type\":\"Rect\"},\"hover_glyph\":null,\"nonselection_glyph\":null,\"selection_glyph\":null},\"id\":\"6efc43b6-dc86-4b71-a597-c7790741f6a4\",\"type\":\"GlyphRenderer\"},{\"attributes\":{\"fill_alpha\":{\"field\":\"fill_alpha\"},\"fill_color\":{\"field\":\"color\"},\"height\":{\"field\":\"height\",\"units\":\"data\"},\"line_color\":{\"field\":\"line_color\"},\"width\":{\"field\":\"width\",\"units\":\"data\"},\"x\":{\"field\":\"x\"},\"y\":{\"field\":\"y\"}},\"id\":\"a3761235-4f4f-4a4f-a942-6bc963efe62f\",\"type\":\"Rect\"},{\"attributes\":{\"callback\":null,\"column_names\":[\"line_color\",\"width\",\"height\",\"fill_alpha\",\"label\",\"x\",\"line_alpha\",\"color\",\"y\"],\"data\":{\"chart_index\":[\"(1.5, 1.7]\"],\"color\":[\"#f22c40\"],\"fill_alpha\":[0.8],\"height\":[65.0],\"label\":[\"(1.5, 1.7]\"],\"line_alpha\":[1.0],\"line_color\":[\"black\"],\"width\":[0.20303907923374087],\"x\":[\"1.6\"],\"y\":[32.5]}},\"id\":\"35891030-a4b8-4437-9f36-eb3c63b34db4\",\"type\":\"ColumnDataSource\"},{\"attributes\":{\"axis_label\":\"value\",\"formatter\":{\"id\":\"f5ae4f21-3036-48d1-878b-270ed57a3eec\",\"type\":\"BasicTickFormatter\"},\"plot\":{\"id\":\"4d0eef8a-61dd-40d6-8a32-35716aaf4a70\",\"subtype\":\"Chart\",\"type\":\"Plot\"},\"ticker\":{\"id\":\"fb537252-f271-417d-9aad-1355feb5f4ab\",\"type\":\"BasicTicker\"}},\"id\":\"53c51f8a-19a8-46dd-bbdd-ad4095e5026e\",\"type\":\"LinearAxis\"},{\"attributes\":{\"data_source\":{\"id\":\"607a6c79-6567-4dc8-81c9-62519b7d175f\",\"type\":\"ColumnDataSource\"},\"glyph\":{\"id\":\"ea83d930-ea6e-461e-8683-fc49018732ae\",\"type\":\"Rect\"},\"hover_glyph\":null,\"nonselection_glyph\":null,\"selection_glyph\":null},\"id\":\"823b41b7-6c8e-4b2a-aa16-790c76c12b10\",\"type\":\"GlyphRenderer\"},{\"attributes\":{\"below\":[{\"id\":\"53c51f8a-19a8-46dd-bbdd-ad4095e5026e\",\"type\":\"LinearAxis\"}],\"left\":[{\"id\":\"fcca3169-9aec-43c1-b110-873137d6f92d\",\"type\":\"LinearAxis\"}],\"renderers\":[{\"id\":\"8e51d1e9-0634-418d-a8d7-afc0cb6a8ad8\",\"type\":\"BoxAnnotation\"},{\"id\":\"a17bd6f1-3a53-4822-87e2-739bd7cb23e7\",\"type\":\"GlyphRenderer\"},{\"id\":\"b994aa86-5c25-4829-89c0-8a7ac24985ad\",\"type\":\"GlyphRenderer\"},{\"id\":\"df85cea7-bd6b-4643-b019-22066b9c603c\",\"type\":\"GlyphRenderer\"},{\"id\":\"96379321-2a2a-4f9b-942c-d59ebe83a382\",\"type\":\"GlyphRenderer\"},{\"id\":\"e24d83d3-fdc3-40be-806f-e7f11e4e1609\",\"type\":\"GlyphRenderer\"},{\"id\":\"6b7afb06-2d7b-46b3-bce3-5215a44018b1\",\"type\":\"GlyphRenderer\"},{\"id\":\"2dbe95c6-9c87-4be1-ab16-f63a37e79167\",\"type\":\"GlyphRenderer\"},{\"id\":\"823b41b7-6c8e-4b2a-aa16-790c76c12b10\",\"type\":\"GlyphRenderer\"},{\"id\":\"9b5c5d5f-f2cd-4095-b36f-e2ee23a2871e\",\"type\":\"GlyphRenderer\"},{\"id\":\"1c95b46b-80b2-407c-ae37-aa723ad75493\",\"type\":\"GlyphRenderer\"},{\"id\":\"e69621d3-c103-438a-bbc9-b7cd6a0bfa45\",\"type\":\"GlyphRenderer\"},{\"id\":\"6efc43b6-dc86-4b71-a597-c7790741f6a4\",\"type\":\"GlyphRenderer\"},{\"id\":\"9c042987-86b1-4f38-9f92-4ad7a1ec3c50\",\"type\":\"GlyphRenderer\"},{\"id\":\"1d153661-4c80-4d70-9a8a-34404ce97504\",\"type\":\"GlyphRenderer\"},{\"id\":\"3b9c5adf-b235-4b17-a72e-8ef2aff12b37\",\"type\":\"GlyphRenderer\"},{\"id\":\"acba5544-50b6-4d39-9bdb-883e412492af\",\"type\":\"GlyphRenderer\"},{\"id\":\"7470946e-4bb7-4b71-b2d3-e4bf06f86205\",\"type\":\"GlyphRenderer\"},{\"id\":\"116dd852-7a69-4334-a320-06bdd9df3259\",\"type\":\"GlyphRenderer\"},{\"id\":\"68c5cd49-cf51-4e23-a5c2-643f88685dcc\",\"type\":\"GlyphRenderer\"},{\"id\":\"a55452f3-9b21-4845-a55a-38f457fabac2\",\"type\":\"GlyphRenderer\"},{\"id\":\"170c4bf6-c9f4-4ddc-bb81-eea6771bdecb\",\"type\":\"GlyphRenderer\"},{\"id\":\"799fb0da-871f-457d-bb18-0dcdf7e59bdb\",\"type\":\"GlyphRenderer\"},{\"id\":\"f819e865-e8c6-4d97-a2d0-19c7f3032530\",\"type\":\"GlyphRenderer\"},{\"id\":\"177f061e-5ae1-4fbb-bcef-3193365b2249\",\"type\":\"GlyphRenderer\"},{\"id\":\"2bd3d668-5852-4163-bab6-820c90058cd9\",\"type\":\"GlyphRenderer\"},{\"id\":\"baf0616a-6e7d-4791-9b32-099951844a95\",\"type\":\"GlyphRenderer\"},{\"id\":\"68f79355-9c36-4d9b-81fa-28cabab93aea\",\"type\":\"GlyphRenderer\"},{\"id\":\"1e314534-46b1-4c71-ab1e-6ce03284f692\",\"type\":\"GlyphRenderer\"},{\"id\":\"f6d50376-2dec-417a-913d-ee00812e3dc8\",\"type\":\"GlyphRenderer\"},{\"id\":\"fbd0bb8f-8766-4543-9fbe-84a04118829d\",\"type\":\"GlyphRenderer\"},{\"id\":\"fa7c62c2-b7a2-468e-8a95-52a092b662ac\",\"type\":\"Legend\"},{\"id\":\"53c51f8a-19a8-46dd-bbdd-ad4095e5026e\",\"type\":\"LinearAxis\"},{\"id\":\"fcca3169-9aec-43c1-b110-873137d6f92d\",\"type\":\"LinearAxis\"},{\"id\":\"b1420d5b-b12f-4b1b-b11d-2e08373323bf\",\"type\":\"Grid\"}],\"title\":{\"id\":\"57dfb8a8-43e1-494d-bdce-0a6f84c34cf6\",\"type\":\"Title\"},\"tool_events\":{\"id\":\"f2cb2f60-6c43-469e-a099-c72d0b0197b4\",\"type\":\"ToolEvents\"},\"toolbar\":{\"id\":\"80f93f63-b1ef-4506-861e-2e553326be12\",\"type\":\"Toolbar\"},\"x_mapper_type\":\"auto\",\"x_range\":{\"id\":\"60014187-854a-48cd-a089-bcc911c849c0\",\"type\":\"Range1d\"},\"y_mapper_type\":\"auto\",\"y_range\":{\"id\":\"79625fe6-ede5-47e8-ba66-4326c93a7393\",\"type\":\"Range1d\"}},\"id\":\"4d0eef8a-61dd-40d6-8a32-35716aaf4a70\",\"subtype\":\"Chart\",\"type\":\"Plot\"},{\"attributes\":{\"data_source\":{\"id\":\"2a211044-d834-4b8c-9d21-349604e22185\",\"type\":\"ColumnDataSource\"},\"glyph\":{\"id\":\"d87310da-7402-4343-9d24-89972eadaa6a\",\"type\":\"Rect\"},\"hover_glyph\":null,\"nonselection_glyph\":null,\"selection_glyph\":null},\"id\":\"df85cea7-bd6b-4643-b019-22066b9c603c\",\"type\":\"GlyphRenderer\"},{\"attributes\":{\"callback\":null,\"column_names\":[\"line_color\",\"width\",\"height\",\"fill_alpha\",\"label\",\"x\",\"line_alpha\",\"color\",\"y\"],\"data\":{\"chart_index\":[\"(1.7, 1.9]\"],\"color\":[\"#f22c40\"],\"fill_alpha\":[0.8],\"height\":[47.0],\"label\":[\"(1.7, 1.9]\"],\"line_alpha\":[1.0],\"line_color\":[\"black\"],\"width\":[0.20303907923374087],\"x\":[\"1.7999999999999998\"],\"y\":[23.5]}},\"id\":\"74603ac6-0de7-47b8-aae0-a6f2d2384726\",\"type\":\"ColumnDataSource\"},{\"attributes\":{\"plot\":{\"id\":\"4d0eef8a-61dd-40d6-8a32-35716aaf4a70\",\"subtype\":\"Chart\",\"type\":\"Plot\"}},\"id\":\"fba7b9e0-0891-4f22-bdf6-18214a8a6e4a\",\"type\":\"WheelZoomTool\"},{\"attributes\":{\"fill_alpha\":{\"field\":\"fill_alpha\"},\"fill_color\":{\"field\":\"color\"},\"height\":{\"field\":\"height\",\"units\":\"data\"},\"line_color\":{\"field\":\"line_color\"},\"width\":{\"field\":\"width\",\"units\":\"data\"},\"x\":{\"field\":\"x\"},\"y\":{\"field\":\"y\"}},\"id\":\"efd9fc52-cb7f-489f-bba7-5efc57eb6004\",\"type\":\"Rect\"},{\"attributes\":{\"callback\":null,\"column_names\":[\"line_color\",\"width\",\"height\",\"fill_alpha\",\"label\",\"x\",\"line_alpha\",\"color\",\"y\"],\"data\":{\"chart_index\":[\"(2.7, 2.9]\"],\"color\":[\"#f22c40\"],\"fill_alpha\":[0.8],\"height\":[13.0],\"label\":[\"(2.7, 2.9]\"],\"line_alpha\":[1.0],\"line_color\":[\"black\"],\"width\":[0.20303907923374087],\"x\":[\"2.8\"],\"y\":[6.5]}},\"id\":\"5f55a283-6622-4fc7-8598-c9315d37bac2\",\"type\":\"ColumnDataSource\"},{\"attributes\":{\"callback\":null,\"column_names\":[\"line_color\",\"width\",\"height\",\"fill_alpha\",\"label\",\"x\",\"line_alpha\",\"color\",\"y\"],\"data\":{\"chart_index\":[\"(3.7, 3.9]\"],\"color\":[\"#f22c40\"],\"fill_alpha\":[0.8],\"height\":[1.0],\"label\":[\"(3.7, 3.9]\"],\"line_alpha\":[1.0],\"line_color\":[\"black\"],\"width\":[0.20303907923374087],\"x\":[\"3.8\"],\"y\":[0.5]}},\"id\":\"d2d698fd-bf8a-41b4-b868-b60722df2f17\",\"type\":\"ColumnDataSource\"},{\"attributes\":{\"fill_alpha\":{\"field\":\"fill_alpha\"},\"fill_color\":{\"field\":\"color\"},\"height\":{\"field\":\"height\",\"units\":\"data\"},\"line_color\":{\"field\":\"line_color\"},\"width\":{\"field\":\"width\",\"units\":\"data\"},\"x\":{\"field\":\"x\"},\"y\":{\"field\":\"y\"}},\"id\":\"3697b5f5-3128-48b6-8091-c10dc4304c08\",\"type\":\"Rect\"},{\"attributes\":{\"callback\":null,\"column_names\":[\"line_color\",\"width\",\"height\",\"fill_alpha\",\"label\",\"x\",\"line_alpha\",\"color\",\"y\"],\"data\":{\"chart_index\":[\"(0.5, 0.7]\"],\"color\":[\"#f22c40\"],\"fill_alpha\":[0.8],\"height\":[219.0],\"label\":[\"(0.5, 0.7]\"],\"line_alpha\":[1.0],\"line_color\":[\"black\"],\"width\":[0.20303907923374087],\"x\":[\"0.6\"],\"y\":[109.5]}},\"id\":\"ebcb9e6d-d750-49d0-ac89-f3e560d7fb0e\",\"type\":\"ColumnDataSource\"},{\"attributes\":{\"fill_alpha\":{\"field\":\"fill_alpha\"},\"fill_color\":{\"field\":\"color\"},\"height\":{\"field\":\"height\",\"units\":\"data\"},\"line_color\":{\"field\":\"line_color\"},\"width\":{\"field\":\"width\",\"units\":\"data\"},\"x\":{\"field\":\"x\"},\"y\":{\"field\":\"y\"}},\"id\":\"af464693-a559-4b0a-a753-8636f3766c18\",\"type\":\"Rect\"},{\"attributes\":{\"callback\":null,\"end\":243.10000000000002},\"id\":\"79625fe6-ede5-47e8-ba66-4326c93a7393\",\"type\":\"Range1d\"},{\"attributes\":{\"data_source\":{\"id\":\"5f55a283-6622-4fc7-8598-c9315d37bac2\",\"type\":\"ColumnDataSource\"},\"glyph\":{\"id\":\"77bd87ec-9cb8-4bfa-b187-5937c6c07740\",\"type\":\"Rect\"},\"hover_glyph\":null,\"nonselection_glyph\":null,\"selection_glyph\":null},\"id\":\"799fb0da-871f-457d-bb18-0dcdf7e59bdb\",\"type\":\"GlyphRenderer\"},{\"attributes\":{\"plot\":{\"id\":\"4d0eef8a-61dd-40d6-8a32-35716aaf4a70\",\"subtype\":\"Chart\",\"type\":\"Plot\"}},\"id\":\"ad987ebb-63ad-49ca-9bfe-6338a7d42a44\",\"type\":\"SaveTool\"},{\"attributes\":{},\"id\":\"fb537252-f271-417d-9aad-1355feb5f4ab\",\"type\":\"BasicTicker\"},{\"attributes\":{\"fill_alpha\":{\"field\":\"fill_alpha\"},\"fill_color\":{\"field\":\"color\"},\"height\":{\"field\":\"height\",\"units\":\"data\"},\"line_color\":{\"field\":\"line_color\"},\"width\":{\"field\":\"width\",\"units\":\"data\"},\"x\":{\"field\":\"x\"},\"y\":{\"field\":\"y\"}},\"id\":\"44156c5a-1840-4dab-95ed-de9c0b4abb62\",\"type\":\"Rect\"},{\"attributes\":{\"fill_alpha\":{\"field\":\"fill_alpha\"},\"fill_color\":{\"field\":\"color\"},\"height\":{\"field\":\"height\",\"units\":\"data\"},\"line_color\":{\"field\":\"line_color\"},\"width\":{\"field\":\"width\",\"units\":\"data\"},\"x\":{\"field\":\"x\"},\"y\":{\"field\":\"y\"}},\"id\":\"4d4ea0bf-25b6-40e0-9291-ed3b301cd64a\",\"type\":\"Rect\"},{\"attributes\":{\"fill_alpha\":{\"field\":\"fill_alpha\"},\"fill_color\":{\"field\":\"color\"},\"height\":{\"field\":\"height\",\"units\":\"data\"},\"line_color\":{\"field\":\"line_color\"},\"width\":{\"field\":\"width\",\"units\":\"data\"},\"x\":{\"field\":\"x\"},\"y\":{\"field\":\"y\"}},\"id\":\"2ea797bd-ca99-4e1b-af81-53b3f3f034c1\",\"type\":\"Rect\"},{\"attributes\":{\"plot\":{\"id\":\"4d0eef8a-61dd-40d6-8a32-35716aaf4a70\",\"subtype\":\"Chart\",\"type\":\"Plot\"}},\"id\":\"d54b0f78-a2d9-4d5f-a0b3-655b767b8c59\",\"type\":\"HelpTool\"},{\"attributes\":{\"callback\":null,\"column_names\":[\"line_color\",\"width\",\"height\",\"fill_alpha\",\"label\",\"x\",\"line_alpha\",\"color\",\"y\"],\"data\":{\"chart_index\":[\"(3.5, 3.7]\"],\"color\":[\"#f22c40\"],\"fill_alpha\":[0.8],\"height\":[1.0],\"label\":[\"(3.5, 3.7]\"],\"line_alpha\":[1.0],\"line_color\":[\"black\"],\"width\":[0.20303907923374087],\"x\":[\"3.6\"],\"y\":[0.5]}},\"id\":\"a82c7cf1-39db-44ef-99f3-21c90f72e9e2\",\"type\":\"ColumnDataSource\"},{\"attributes\":{\"callback\":null,\"end\":4.679019539616871,\"start\":-1.5790195396168705},\"id\":\"60014187-854a-48cd-a089-bcc911c849c0\",\"type\":\"Range1d\"},{\"attributes\":{\"callback\":null,\"column_names\":[\"line_color\",\"width\",\"height\",\"fill_alpha\",\"label\",\"x\",\"line_alpha\",\"color\",\"y\"],\"data\":{\"chart_index\":[\"(-1.3, -1.1]\"],\"color\":[\"#f22c40\"],\"fill_alpha\":[0.8],\"height\":[5.0],\"label\":[\"(-1.3, -1.1]\"],\"line_alpha\":[1.0],\"line_color\":[\"black\"],\"width\":[0.20303907923374087],\"x\":[\"-1.2000000000000002\"],\"y\":[2.5]}},\"id\":\"4a8eb3b7-c18d-42f7-9a19-f949954381b8\",\"type\":\"ColumnDataSource\"}],\"root_ids\":[\"4d0eef8a-61dd-40d6-8a32-35716aaf4a70\"]},\"title\":\"Bokeh Application\",\"version\":\"0.12.0\"}};\n",
       "            var render_items = [{\"docid\":\"900c559a-1555-4ffa-a7b8-d7402d02cf7c\",\"elementid\":\"775d9811-d364-425b-b7cc-78014b81114d\",\"modelid\":\"4d0eef8a-61dd-40d6-8a32-35716aaf4a70\",\"notebook_comms_target\":\"d69505f3-9454-4433-b9c7-a2bea7d73222\"}];\n",
       "            \n",
       "            Bokeh.embed.embed_items(docs_json, render_items);\n",
       "        });\n",
       "      },\n",
       "      function(Bokeh) {\n",
       "      }\n",
       "    ];\n",
       "  \n",
       "    function run_inline_js() {\n",
       "      for (var i = 0; i < inline_js.length; i++) {\n",
       "        inline_js[i](window.Bokeh);\n",
       "      }\n",
       "    }\n",
       "  \n",
       "    if (window._bokeh_is_loading === 0) {\n",
       "      console.log(\"Bokeh: BokehJS loaded, going straight to plotting\");\n",
       "      run_inline_js();\n",
       "    } else {\n",
       "      load_libs(js_urls, function() {\n",
       "        console.log(\"Bokeh: BokehJS plotting callback run at\", now());\n",
       "        run_inline_js();\n",
       "      });\n",
       "    }\n",
       "  }(this));\n",
       "</script>"
      ]
     },
     "metadata": {},
     "output_type": "display_data"
    },
    {
     "data": {
      "text/html": [
       "<p><code>&lt;Bokeh Notebook handle for <strong>In[14]</strong>&gt;</code></p>"
      ],
      "text/plain": [
       "<bokeh.io._CommsHandle at 0x10df1e240>"
      ]
     },
     "execution_count": 14,
     "metadata": {},
     "output_type": "execute_result"
    }
   ],
   "source": [
    "hist = Histogram(df, values='value', bins=30)\n",
    "show(hist)"
   ]
  },
  {
   "cell_type": "markdown",
   "metadata": {},
   "source": [
    "It's also possible to generate multiple histograms at once by grouping the data. The column to group by is specified by the `color` parameter (and the histogram for each group is colored differently automatically). Let's try that as an exercise."
   ]
  },
  {
   "cell_type": "code",
   "execution_count": 15,
   "metadata": {
    "collapsed": true
   },
   "outputs": [],
   "source": [
    "# EXERCISE: generate histograms for each \"type\" of distribution, and add a legend to the top left.\n"
   ]
  },
  {
   "cell_type": "markdown",
   "metadata": {},
   "source": [
    "# Box Plot\n",
    "\n",
    "A high-level box plot is provided by [`bokeh.charts.BoxPlot`]()\n",
    "\n",
    "For this section we will use the \"iris\" data set again. "
   ]
  },
  {
   "cell_type": "code",
   "execution_count": 16,
   "metadata": {
    "collapsed": true
   },
   "outputs": [],
   "source": [
    "from bokeh.charts import BoxPlot"
   ]
  },
  {
   "cell_type": "markdown",
   "metadata": {},
   "source": [
    "A basic box plot takes the data as the first value, as well as column names for:\n",
    "\n",
    "* `label` - a column to group to label the x-axis\n",
    "* `values` - a column to aggregate values for each group\n",
    "\n",
    "A simple example that also specifies some other properties such as `title` and `legend` is shown below:"
   ]
  },
  {
   "cell_type": "code",
   "execution_count": 17,
   "metadata": {
    "collapsed": false
   },
   "outputs": [
    {
     "data": {
      "text/html": [
       "\n",
       "\n",
       "    <div class=\"bk-root\">\n",
       "        <div class=\"plotdiv\" id=\"84f0f292-fd6e-4588-b02f-42be8b4ab8ee\"></div>\n",
       "    </div>\n",
       "<script type=\"text/javascript\">\n",
       "  \n",
       "  (function(global) {\n",
       "    function now() {\n",
       "      return new Date();\n",
       "    }\n",
       "  \n",
       "    if (typeof (window._bokeh_onload_callbacks) === \"undefined\") {\n",
       "      window._bokeh_onload_callbacks = [];\n",
       "    }\n",
       "  \n",
       "    function run_callbacks() {\n",
       "      window._bokeh_onload_callbacks.forEach(function(callback) { callback() });\n",
       "      delete window._bokeh_onload_callbacks\n",
       "      console.info(\"Bokeh: all callbacks have finished\");\n",
       "    }\n",
       "  \n",
       "    function load_libs(js_urls, callback) {\n",
       "      window._bokeh_onload_callbacks.push(callback);\n",
       "      if (window._bokeh_is_loading > 0) {\n",
       "        console.log(\"Bokeh: BokehJS is being loaded, scheduling callback at\", now());\n",
       "        return null;\n",
       "      }\n",
       "      if (js_urls == null || js_urls.length === 0) {\n",
       "        run_callbacks();\n",
       "        return null;\n",
       "      }\n",
       "      console.log(\"Bokeh: BokehJS not loaded, scheduling load and callback at\", now());\n",
       "      window._bokeh_is_loading = js_urls.length;\n",
       "      for (var i = 0; i < js_urls.length; i++) {\n",
       "        var url = js_urls[i];\n",
       "        var s = document.createElement('script');\n",
       "        s.src = url;\n",
       "        s.async = false;\n",
       "        s.onreadystatechange = s.onload = function() {\n",
       "          window._bokeh_is_loading--;\n",
       "          if (window._bokeh_is_loading === 0) {\n",
       "            console.log(\"Bokeh: all BokehJS libraries loaded\");\n",
       "            run_callbacks()\n",
       "          }\n",
       "        };\n",
       "        s.onerror = function() {\n",
       "          console.warn(\"failed to load library \" + url);\n",
       "        };\n",
       "        console.log(\"Bokeh: injecting script tag for BokehJS library: \", url);\n",
       "        document.getElementsByTagName(\"head\")[0].appendChild(s);\n",
       "      }\n",
       "    };var element = document.getElementById(\"84f0f292-fd6e-4588-b02f-42be8b4ab8ee\");\n",
       "    if (element == null) {\n",
       "      console.log(\"Bokeh: ERROR: autoload.js configured with elementid '84f0f292-fd6e-4588-b02f-42be8b4ab8ee' but no matching script tag was found. \")\n",
       "      return false;\n",
       "    }\n",
       "  \n",
       "    var js_urls = [];\n",
       "  \n",
       "    var inline_js = [\n",
       "      function(Bokeh) {\n",
       "        Bokeh.$(function() {\n",
       "            var docs_json = {\"de609dce-0015-4daf-8cec-a7e23f579391\":{\"roots\":{\"references\":[{\"attributes\":{\"axis_label\":\"petal width, mm\",\"formatter\":{\"id\":\"82846aaf-0f16-41fc-a7fc-cdaaaf588f9c\",\"type\":\"BasicTickFormatter\"},\"plot\":{\"id\":\"61dbd580-1d66-436c-bbf0-7283b0725a81\",\"subtype\":\"Chart\",\"type\":\"Plot\"},\"ticker\":{\"id\":\"deb7d302-f346-480f-acfb-29e948160557\",\"type\":\"BasicTicker\"}},\"id\":\"7abcea30-a0b3-400e-85d4-5e740399750f\",\"type\":\"LinearAxis\"},{\"attributes\":{\"callback\":null,\"factors\":[\"setosa\",\"versicolor\",\"virginica\"]},\"id\":\"15433fbd-bef0-4f29-831b-ae773294b351\",\"type\":\"FactorRange\"},{\"attributes\":{\"dimension\":1,\"plot\":{\"id\":\"61dbd580-1d66-436c-bbf0-7283b0725a81\",\"subtype\":\"Chart\",\"type\":\"Plot\"},\"ticker\":{\"id\":\"deb7d302-f346-480f-acfb-29e948160557\",\"type\":\"BasicTicker\"}},\"id\":\"01986460-dd28-4954-9fe5-399d71c1c600\",\"type\":\"Grid\"},{\"attributes\":{\"callback\":null,\"column_names\":[\"line_color\",\"width\",\"height\",\"fill_alpha\",\"label\",\"x\",\"line_alpha\",\"color\",\"y\"],\"data\":{\"chart_index\":[{\"species\":\"setosa\"}],\"color\":[\"#aa4444\"],\"fill_alpha\":[0.8],\"height\":[0.09999999999999998],\"label\":[{\"species\":\"setosa\"}],\"line_alpha\":[1.0],\"line_color\":[\"black\"],\"species\":[\"setosa\"],\"width\":[0.8],\"x\":[\"setosa\"],\"y\":[0.25]}},\"id\":\"e0ecc81f-27df-4530-a329-5eccfe8b67ba\",\"type\":\"ColumnDataSource\"},{\"attributes\":{\"fill_alpha\":{\"field\":\"fill_alpha\"},\"fill_color\":{\"field\":\"color\"},\"height\":{\"field\":\"height\",\"units\":\"data\"},\"line_color\":{\"field\":\"line_color\"},\"width\":{\"field\":\"width\",\"units\":\"data\"},\"x\":{\"field\":\"x\"},\"y\":{\"field\":\"y\"}},\"id\":\"d67da937-e92d-4e3e-9979-fccd95c91bbb\",\"type\":\"Rect\"},{\"attributes\":{\"callback\":null,\"column_names\":[\"line_color\",\"width\",\"height\",\"fill_alpha\",\"label\",\"x\",\"line_alpha\",\"color\",\"y\"],\"data\":{\"chart_index\":[{\"species\":\"virginica\"}],\"color\":[\"#aa4444\"],\"fill_alpha\":[0.8],\"height\":[0.19999999999999996],\"label\":[{\"species\":\"virginica\"}],\"line_alpha\":[1.0],\"line_color\":[\"black\"],\"species\":[\"virginica\"],\"width\":[0.8],\"x\":[\"virginica\"],\"y\":[1.9]}},\"id\":\"c25ef58f-f17f-46ef-9fd3-3fb7554d4131\",\"type\":\"ColumnDataSource\"},{\"attributes\":{\"callback\":null,\"column_names\":[\"line_color\",\"width\",\"height\",\"fill_alpha\",\"label\",\"x\",\"line_alpha\",\"color\",\"y\"],\"data\":{\"chart_index\":[{\"species\":\"versicolor\"}],\"color\":[\"#aa4444\"],\"fill_alpha\":[0.8],\"height\":[0.19999999999999996],\"label\":[{\"species\":\"versicolor\"}],\"line_alpha\":[1.0],\"line_color\":[\"black\"],\"species\":[\"versicolor\"],\"width\":[0.8],\"x\":[\"versicolor\"],\"y\":[1.4]}},\"id\":\"e44a7e4e-08a1-4c4b-a7e2-ec495ca76ae0\",\"type\":\"ColumnDataSource\"},{\"attributes\":{\"data_source\":{\"id\":\"c25ef58f-f17f-46ef-9fd3-3fb7554d4131\",\"type\":\"ColumnDataSource\"},\"glyph\":{\"id\":\"15024022-3739-422f-8be9-77467f79f24c\",\"type\":\"Rect\"},\"hover_glyph\":null,\"nonselection_glyph\":null,\"selection_glyph\":null},\"id\":\"e6dd712d-ec2c-4a28-956a-5a591268c5f9\",\"type\":\"GlyphRenderer\"},{\"attributes\":{\"data_source\":{\"id\":\"e0ecc81f-27df-4530-a329-5eccfe8b67ba\",\"type\":\"ColumnDataSource\"},\"glyph\":{\"id\":\"91dab978-5388-4ab1-ab3e-0a79acaa7e12\",\"type\":\"Rect\"},\"hover_glyph\":null,\"nonselection_glyph\":null,\"selection_glyph\":null},\"id\":\"ae16da3b-6d78-44a7-b890-e0398eb631cd\",\"type\":\"GlyphRenderer\"},{\"attributes\":{\"fill_alpha\":{\"field\":\"fill_alpha\"},\"fill_color\":{\"field\":\"color\"},\"height\":{\"field\":\"height\",\"units\":\"data\"},\"line_color\":{\"field\":\"line_color\"},\"width\":{\"field\":\"width\",\"units\":\"data\"},\"x\":{\"field\":\"x\"},\"y\":{\"field\":\"y\"}},\"id\":\"15024022-3739-422f-8be9-77467f79f24c\",\"type\":\"Rect\"},{\"attributes\":{\"data_source\":{\"id\":\"4a999a0f-3158-45b2-9c2a-0ba87b9c6c9f\",\"type\":\"ColumnDataSource\"},\"glyph\":{\"id\":\"e10be315-fe44-40f6-bcc9-645d3dd7df4e\",\"type\":\"Circle\"},\"hover_glyph\":null,\"nonselection_glyph\":null,\"selection_glyph\":null},\"id\":\"c4196245-784c-4adf-86a1-aa2d6426a026\",\"type\":\"GlyphRenderer\"},{\"attributes\":{\"data_source\":{\"id\":\"33d34f8f-5939-4e3b-8868-a8c79638e13d\",\"type\":\"ColumnDataSource\"},\"glyph\":{\"id\":\"93dc9975-0d58-431d-8614-33b315fc9465\",\"type\":\"Segment\"},\"hover_glyph\":null,\"nonselection_glyph\":null,\"selection_glyph\":null},\"id\":\"5ef60968-3044-44af-af83-9bc6d5c01f30\",\"type\":\"GlyphRenderer\"},{\"attributes\":{\"callback\":null,\"column_names\":[\"x0s\",\"y0s\",\"x1s\",\"y1s\"],\"data\":{\"chart_index\":[{\"species\":\"versicolor\"},{\"species\":\"versicolor\"},{\"species\":\"versicolor\"},{\"species\":\"versicolor\"}],\"species\":[\"versicolor\",\"versicolor\",\"versicolor\",\"versicolor\"],\"x0s\":[\"versicolor:0.5\",\"versicolor:0.65\",\"versicolor:0.5\",\"versicolor:0.65\"],\"x1s\":[\"versicolor:0.5\",\"versicolor:0.35\",\"versicolor:0.5\",\"versicolor:0.35\"],\"y0s\":[1.0,1.0,1.5,1.8],\"y1s\":[1.2,1.0,1.8,1.8]}},\"id\":\"df42890c-c568-4966-8656-59b6718dc975\",\"type\":\"ColumnDataSource\"},{\"attributes\":{\"plot\":null,\"text\":\"Distributions of petal widths\"},\"id\":\"64f0b626-e71e-43aa-a944-471356d2b8dc\",\"type\":\"Title\"},{\"attributes\":{\"below\":[{\"id\":\"1112d394-94df-4dca-98a3-be7e78fd0b20\",\"type\":\"CategoricalAxis\"}],\"left\":[{\"id\":\"7abcea30-a0b3-400e-85d4-5e740399750f\",\"type\":\"LinearAxis\"}],\"renderers\":[{\"id\":\"ca1115a5-e0f7-4bdb-b3b6-c9ea50f431d6\",\"type\":\"GlyphRenderer\"},{\"id\":\"ae16da3b-6d78-44a7-b890-e0398eb631cd\",\"type\":\"GlyphRenderer\"},{\"id\":\"c4196245-784c-4adf-86a1-aa2d6426a026\",\"type\":\"GlyphRenderer\"},{\"id\":\"5ef60968-3044-44af-af83-9bc6d5c01f30\",\"type\":\"GlyphRenderer\"},{\"id\":\"539c653f-0d85-4da7-9e72-2c2cb9254968\",\"type\":\"GlyphRenderer\"},{\"id\":\"9e4b5d41-ffef-4b8d-8f27-a3c31cfb3600\",\"type\":\"GlyphRenderer\"},{\"id\":\"70ef5393-a74b-466b-9789-c465b243f41b\",\"type\":\"GlyphRenderer\"},{\"id\":\"e6dd712d-ec2c-4a28-956a-5a591268c5f9\",\"type\":\"GlyphRenderer\"},{\"id\":\"f80ab420-eacd-457f-8870-26ae0cfa7a24\",\"type\":\"GlyphRenderer\"},{\"id\":\"cf166d4a-6b9e-4725-ab3c-2169d310007e\",\"type\":\"GlyphRenderer\"},{\"id\":\"0a4eac2a-ac7a-4a73-8da8-924ec4acbf77\",\"type\":\"Legend\"},{\"id\":\"1112d394-94df-4dca-98a3-be7e78fd0b20\",\"type\":\"CategoricalAxis\"},{\"id\":\"7abcea30-a0b3-400e-85d4-5e740399750f\",\"type\":\"LinearAxis\"},{\"id\":\"01986460-dd28-4954-9fe5-399d71c1c600\",\"type\":\"Grid\"}],\"title\":{\"id\":\"64f0b626-e71e-43aa-a944-471356d2b8dc\",\"type\":\"Title\"},\"tool_events\":{\"id\":\"cfb1ca4c-9412-408a-b5a8-6f2cd73cfc2e\",\"type\":\"ToolEvents\"},\"toolbar\":{\"id\":\"2911734c-bbe8-459a-bab9-276d152e0a15\",\"type\":\"Toolbar\"},\"x_mapper_type\":\"auto\",\"x_range\":{\"id\":\"15433fbd-bef0-4f29-831b-ae773294b351\",\"type\":\"FactorRange\"},\"y_mapper_type\":\"auto\",\"y_range\":{\"id\":\"75fd2b6b-c1c1-4831-a203-637008841287\",\"type\":\"Range1d\"}},\"id\":\"61dbd580-1d66-436c-bbf0-7283b0725a81\",\"subtype\":\"Chart\",\"type\":\"Plot\"},{\"attributes\":{\"fill_alpha\":{\"field\":\"fill_alpha\"},\"fill_color\":{\"field\":\"color\"},\"height\":{\"field\":\"height\",\"units\":\"data\"},\"line_color\":{\"field\":\"line_color\"},\"width\":{\"field\":\"width\",\"units\":\"data\"},\"x\":{\"field\":\"x\"},\"y\":{\"field\":\"y\"}},\"id\":\"b7275472-94aa-4733-b817-3af4ae4950dd\",\"type\":\"Rect\"},{\"attributes\":{\"plot\":{\"id\":\"61dbd580-1d66-436c-bbf0-7283b0725a81\",\"subtype\":\"Chart\",\"type\":\"Plot\"}},\"id\":\"70e85623-d8a1-4848-a5d1-db6794745603\",\"type\":\"CrosshairTool\"},{\"attributes\":{\"data_source\":{\"id\":\"a8a0ef35-7a25-4704-9d7f-76461cbff57f\",\"type\":\"ColumnDataSource\"},\"glyph\":{\"id\":\"b7275472-94aa-4733-b817-3af4ae4950dd\",\"type\":\"Rect\"},\"hover_glyph\":null,\"nonselection_glyph\":null,\"selection_glyph\":null},\"id\":\"ca1115a5-e0f7-4bdb-b3b6-c9ea50f431d6\",\"type\":\"GlyphRenderer\"},{\"attributes\":{\"callback\":null,\"column_names\":[\"line_color\",\"width\",\"height\",\"fill_alpha\",\"label\",\"x\",\"line_alpha\",\"color\",\"y\"],\"data\":{\"chart_index\":[{\"species\":\"versicolor\"}],\"color\":[\"#aa4444\"],\"fill_alpha\":[0.8],\"height\":[0.10000000000000009],\"label\":[{\"species\":\"versicolor\"}],\"line_alpha\":[1.0],\"line_color\":[\"black\"],\"species\":[\"versicolor\"],\"width\":[0.8],\"x\":[\"versicolor\"],\"y\":[1.25]}},\"id\":\"831cba3f-853c-4235-bd9d-e87ada159644\",\"type\":\"ColumnDataSource\"},{\"attributes\":{},\"id\":\"6af656c9-2874-47fd-ad3b-aeef408910b1\",\"type\":\"CategoricalTickFormatter\"},{\"attributes\":{\"line_width\":{\"value\":2},\"x0\":{\"field\":\"x0s\"},\"x1\":{\"field\":\"x1s\"},\"y0\":{\"field\":\"y0s\"},\"y1\":{\"field\":\"y1s\"}},\"id\":\"11421039-fa4a-498f-9f57-fcff25785b55\",\"type\":\"Segment\"},{\"attributes\":{\"legends\":[[\"setosa\",[{\"id\":\"ca1115a5-e0f7-4bdb-b3b6-c9ea50f431d6\",\"type\":\"GlyphRenderer\"},{\"id\":\"ae16da3b-6d78-44a7-b890-e0398eb631cd\",\"type\":\"GlyphRenderer\"},{\"id\":\"c4196245-784c-4adf-86a1-aa2d6426a026\",\"type\":\"GlyphRenderer\"},{\"id\":\"5ef60968-3044-44af-af83-9bc6d5c01f30\",\"type\":\"GlyphRenderer\"}]],[\"versicolor\",[{\"id\":\"539c653f-0d85-4da7-9e72-2c2cb9254968\",\"type\":\"GlyphRenderer\"},{\"id\":\"9e4b5d41-ffef-4b8d-8f27-a3c31cfb3600\",\"type\":\"GlyphRenderer\"},{\"id\":\"70ef5393-a74b-466b-9789-c465b243f41b\",\"type\":\"GlyphRenderer\"}]],[\"virginica\",[{\"id\":\"e6dd712d-ec2c-4a28-956a-5a591268c5f9\",\"type\":\"GlyphRenderer\"},{\"id\":\"f80ab420-eacd-457f-8870-26ae0cfa7a24\",\"type\":\"GlyphRenderer\"},{\"id\":\"cf166d4a-6b9e-4725-ab3c-2169d310007e\",\"type\":\"GlyphRenderer\"}]]],\"location\":\"top_left\",\"plot\":{\"id\":\"61dbd580-1d66-436c-bbf0-7283b0725a81\",\"subtype\":\"Chart\",\"type\":\"Plot\"}},\"id\":\"0a4eac2a-ac7a-4a73-8da8-924ec4acbf77\",\"type\":\"Legend\"},{\"attributes\":{},\"id\":\"231cafd1-bbf4-4d65-a810-b004fb04e547\",\"type\":\"CategoricalTicker\"},{\"attributes\":{},\"id\":\"deb7d302-f346-480f-acfb-29e948160557\",\"type\":\"BasicTicker\"},{\"attributes\":{\"line_width\":{\"value\":2},\"x0\":{\"field\":\"x0s\"},\"x1\":{\"field\":\"x1s\"},\"y0\":{\"field\":\"y0s\"},\"y1\":{\"field\":\"y1s\"}},\"id\":\"a5677e81-0c99-4454-9191-26dd13903a65\",\"type\":\"Segment\"},{\"attributes\":{\"active_drag\":\"auto\",\"active_scroll\":\"auto\",\"active_tap\":\"auto\",\"tools\":[{\"id\":\"70e85623-d8a1-4848-a5d1-db6794745603\",\"type\":\"CrosshairTool\"}]},\"id\":\"2911734c-bbe8-459a-bab9-276d152e0a15\",\"type\":\"Toolbar\"},{\"attributes\":{},\"id\":\"cfb1ca4c-9412-408a-b5a8-6f2cd73cfc2e\",\"type\":\"ToolEvents\"},{\"attributes\":{\"line_width\":{\"value\":2},\"x0\":{\"field\":\"x0s\"},\"x1\":{\"field\":\"x1s\"},\"y0\":{\"field\":\"y0s\"},\"y1\":{\"field\":\"y1s\"}},\"id\":\"93dc9975-0d58-431d-8614-33b315fc9465\",\"type\":\"Segment\"},{\"attributes\":{\"callback\":null,\"end\":2.63},\"id\":\"75fd2b6b-c1c1-4831-a203-637008841287\",\"type\":\"Range1d\"},{\"attributes\":{\"callback\":null,\"column_names\":[\"x0s\",\"y0s\",\"x1s\",\"y1s\"],\"data\":{\"chart_index\":[{\"species\":\"setosa\"},{\"species\":\"setosa\"},{\"species\":\"setosa\"},{\"species\":\"setosa\"}],\"species\":[\"setosa\",\"setosa\",\"setosa\",\"setosa\"],\"x0s\":[\"setosa:0.5\",\"setosa:0.65\",\"setosa:0.5\",\"setosa:0.65\"],\"x1s\":[\"setosa:0.5\",\"setosa:0.35\",\"setosa:0.5\",\"setosa:0.35\"],\"y0s\":[0.1,0.1,0.3,0.44999999999999996],\"y1s\":[0.2,0.1,0.44999999999999996,0.44999999999999996]}},\"id\":\"33d34f8f-5939-4e3b-8868-a8c79638e13d\",\"type\":\"ColumnDataSource\"},{\"attributes\":{\"callback\":null,\"column_names\":[\"line_color\",\"width\",\"height\",\"fill_alpha\",\"label\",\"x\",\"line_alpha\",\"color\",\"y\"],\"data\":{\"chart_index\":[{\"species\":\"setosa\"}],\"color\":[\"#aa4444\"],\"fill_alpha\":[0.8],\"height\":[0.0],\"label\":[{\"species\":\"setosa\"}],\"line_alpha\":[1.0],\"line_color\":[\"black\"],\"species\":[\"setosa\"],\"width\":[0.8],\"x\":[\"setosa\"],\"y\":[0.2]}},\"id\":\"a8a0ef35-7a25-4704-9d7f-76461cbff57f\",\"type\":\"ColumnDataSource\"},{\"attributes\":{\"data_source\":{\"id\":\"c9a421d6-2e5a-4874-8343-5b5a33d94f21\",\"type\":\"ColumnDataSource\"},\"glyph\":{\"id\":\"d67da937-e92d-4e3e-9979-fccd95c91bbb\",\"type\":\"Rect\"},\"hover_glyph\":null,\"nonselection_glyph\":null,\"selection_glyph\":null},\"id\":\"f80ab420-eacd-457f-8870-26ae0cfa7a24\",\"type\":\"GlyphRenderer\"},{\"attributes\":{\"fill_alpha\":{\"field\":\"fill_alpha\"},\"fill_color\":{\"field\":\"color\"},\"height\":{\"field\":\"height\",\"units\":\"data\"},\"line_color\":{\"field\":\"line_color\"},\"width\":{\"field\":\"width\",\"units\":\"data\"},\"x\":{\"field\":\"x\"},\"y\":{\"field\":\"y\"}},\"id\":\"98728c2c-06e5-469f-b1b4-e1da45146d6a\",\"type\":\"Rect\"},{\"attributes\":{\"callback\":null,\"column_names\":[\"x0s\",\"y0s\",\"x1s\",\"y1s\"],\"data\":{\"chart_index\":[{\"species\":\"virginica\"},{\"species\":\"virginica\"},{\"species\":\"virginica\"},{\"species\":\"virginica\"}],\"species\":[\"virginica\",\"virginica\",\"virginica\",\"virginica\"],\"x0s\":[\"virginica:0.5\",\"virginica:0.65\",\"virginica:0.5\",\"virginica:0.65\"],\"x1s\":[\"virginica:0.5\",\"virginica:0.35\",\"virginica:0.5\",\"virginica:0.35\"],\"y0s\":[1.4,1.4,2.3,2.5],\"y1s\":[1.8,1.4,2.5,2.5]}},\"id\":\"d83a16b8-d2cf-478a-9c6e-4c31af354995\",\"type\":\"ColumnDataSource\"},{\"attributes\":{\"callback\":null,\"column_names\":[\"x_values\",\"y_values\"],\"data\":{\"chart_index\":[{\"species\":\"setosa\"},{\"species\":\"setosa\"}],\"species\":[\"setosa\",\"setosa\"],\"x_values\":[\"setosa:0.5\",\"setosa:0.5\"],\"y_values\":[0.5,0.6]}},\"id\":\"4a999a0f-3158-45b2-9c2a-0ba87b9c6c9f\",\"type\":\"ColumnDataSource\"},{\"attributes\":{\"data_source\":{\"id\":\"831cba3f-853c-4235-bd9d-e87ada159644\",\"type\":\"ColumnDataSource\"},\"glyph\":{\"id\":\"40c74447-5cf9-48a7-bd99-0effc6ccc38b\",\"type\":\"Rect\"},\"hover_glyph\":null,\"nonselection_glyph\":null,\"selection_glyph\":null},\"id\":\"539c653f-0d85-4da7-9e72-2c2cb9254968\",\"type\":\"GlyphRenderer\"},{\"attributes\":{\"fill_alpha\":{\"field\":\"fill_alpha\"},\"fill_color\":{\"field\":\"color\"},\"height\":{\"field\":\"height\",\"units\":\"data\"},\"line_color\":{\"field\":\"line_color\"},\"width\":{\"field\":\"width\",\"units\":\"data\"},\"x\":{\"field\":\"x\"},\"y\":{\"field\":\"y\"}},\"id\":\"40c74447-5cf9-48a7-bd99-0effc6ccc38b\",\"type\":\"Rect\"},{\"attributes\":{\"data_source\":{\"id\":\"e44a7e4e-08a1-4c4b-a7e2-ec495ca76ae0\",\"type\":\"ColumnDataSource\"},\"glyph\":{\"id\":\"98728c2c-06e5-469f-b1b4-e1da45146d6a\",\"type\":\"Rect\"},\"hover_glyph\":null,\"nonselection_glyph\":null,\"selection_glyph\":null},\"id\":\"9e4b5d41-ffef-4b8d-8f27-a3c31cfb3600\",\"type\":\"GlyphRenderer\"},{\"attributes\":{\"formatter\":{\"id\":\"6af656c9-2874-47fd-ad3b-aeef408910b1\",\"type\":\"CategoricalTickFormatter\"},\"major_label_orientation\":0.7853981633974483,\"plot\":{\"id\":\"61dbd580-1d66-436c-bbf0-7283b0725a81\",\"subtype\":\"Chart\",\"type\":\"Plot\"},\"ticker\":{\"id\":\"231cafd1-bbf4-4d65-a810-b004fb04e547\",\"type\":\"CategoricalTicker\"}},\"id\":\"1112d394-94df-4dca-98a3-be7e78fd0b20\",\"type\":\"CategoricalAxis\"},{\"attributes\":{\"fill_alpha\":{\"field\":\"fill_alpha\"},\"fill_color\":{\"field\":\"color\"},\"height\":{\"field\":\"height\",\"units\":\"data\"},\"line_color\":{\"field\":\"line_color\"},\"width\":{\"field\":\"width\",\"units\":\"data\"},\"x\":{\"field\":\"x\"},\"y\":{\"field\":\"y\"}},\"id\":\"91dab978-5388-4ab1-ab3e-0a79acaa7e12\",\"type\":\"Rect\"},{\"attributes\":{\"data_source\":{\"id\":\"d83a16b8-d2cf-478a-9c6e-4c31af354995\",\"type\":\"ColumnDataSource\"},\"glyph\":{\"id\":\"11421039-fa4a-498f-9f57-fcff25785b55\",\"type\":\"Segment\"},\"hover_glyph\":null,\"nonselection_glyph\":null,\"selection_glyph\":null},\"id\":\"cf166d4a-6b9e-4725-ab3c-2169d310007e\",\"type\":\"GlyphRenderer\"},{\"attributes\":{\"data_source\":{\"id\":\"df42890c-c568-4966-8656-59b6718dc975\",\"type\":\"ColumnDataSource\"},\"glyph\":{\"id\":\"a5677e81-0c99-4454-9191-26dd13903a65\",\"type\":\"Segment\"},\"hover_glyph\":null,\"nonselection_glyph\":null,\"selection_glyph\":null},\"id\":\"70ef5393-a74b-466b-9789-c465b243f41b\",\"type\":\"GlyphRenderer\"},{\"attributes\":{\"fill_alpha\":{\"value\":0.7},\"fill_color\":{\"value\":\"red\"},\"line_color\":{\"value\":\"red\"},\"size\":{\"units\":\"screen\",\"value\":5},\"x\":{\"field\":\"x_values\"},\"y\":{\"field\":\"y_values\"}},\"id\":\"e10be315-fe44-40f6-bcc9-645d3dd7df4e\",\"type\":\"Circle\"},{\"attributes\":{},\"id\":\"82846aaf-0f16-41fc-a7fc-cdaaaf588f9c\",\"type\":\"BasicTickFormatter\"},{\"attributes\":{\"callback\":null,\"column_names\":[\"line_color\",\"width\",\"height\",\"fill_alpha\",\"label\",\"x\",\"line_alpha\",\"color\",\"y\"],\"data\":{\"chart_index\":[{\"species\":\"virginica\"}],\"color\":[\"#aa4444\"],\"fill_alpha\":[0.8],\"height\":[0.2999999999999998],\"label\":[{\"species\":\"virginica\"}],\"line_alpha\":[1.0],\"line_color\":[\"black\"],\"species\":[\"virginica\"],\"width\":[0.8],\"x\":[\"virginica\"],\"y\":[2.15]}},\"id\":\"c9a421d6-2e5a-4874-8343-5b5a33d94f21\",\"type\":\"ColumnDataSource\"}],\"root_ids\":[\"61dbd580-1d66-436c-bbf0-7283b0725a81\"]},\"title\":\"Bokeh Application\",\"version\":\"0.12.0\"}};\n",
       "            var render_items = [{\"docid\":\"de609dce-0015-4daf-8cec-a7e23f579391\",\"elementid\":\"84f0f292-fd6e-4588-b02f-42be8b4ab8ee\",\"modelid\":\"61dbd580-1d66-436c-bbf0-7283b0725a81\",\"notebook_comms_target\":\"e5dfd892-d6fb-49e3-affc-f39b628a27fc\"}];\n",
       "            \n",
       "            Bokeh.embed.embed_items(docs_json, render_items);\n",
       "        });\n",
       "      },\n",
       "      function(Bokeh) {\n",
       "      }\n",
       "    ];\n",
       "  \n",
       "    function run_inline_js() {\n",
       "      for (var i = 0; i < inline_js.length; i++) {\n",
       "        inline_js[i](window.Bokeh);\n",
       "      }\n",
       "    }\n",
       "  \n",
       "    if (window._bokeh_is_loading === 0) {\n",
       "      console.log(\"Bokeh: BokehJS loaded, going straight to plotting\");\n",
       "      run_inline_js();\n",
       "    } else {\n",
       "      load_libs(js_urls, function() {\n",
       "        console.log(\"Bokeh: BokehJS plotting callback run at\", now());\n",
       "        run_inline_js();\n",
       "      });\n",
       "    }\n",
       "  }(this));\n",
       "</script>"
      ]
     },
     "metadata": {},
     "output_type": "display_data"
    },
    {
     "data": {
      "text/html": [
       "<p><code>&lt;Bokeh Notebook handle for <strong>In[17]</strong>&gt;</code></p>"
      ],
      "text/plain": [
       "<bokeh.io._CommsHandle at 0x10dfa3518>"
      ]
     },
     "execution_count": 17,
     "metadata": {},
     "output_type": "execute_result"
    }
   ],
   "source": [
    "p = BoxPlot(flowers, label='species', values='petal_width', tools='crosshair', color='#aa4444',\n",
    "            xlabel='', ylabel='petal width, mm', title='Distributions of petal widths')\n",
    "show(p)"
   ]
  },
  {
   "cell_type": "markdown",
   "metadata": {},
   "source": [
    "Instead of a single color, the box and whiskers groups can be colored by grouping one of the columns. This is done by passing a column name as the `color` parameter. Let's try that as an exercise."
   ]
  },
  {
   "cell_type": "code",
   "execution_count": 18,
   "metadata": {
    "collapsed": false
   },
   "outputs": [],
   "source": [
    "# EXERCISE: color the boxes by \"species\" and add a legend to the top left\n"
   ]
  },
  {
   "cell_type": "markdown",
   "metadata": {},
   "source": [
    "---\n",
    "\n",
    "# Further reading\n",
    "\n"
   ]
  },
  {
   "cell_type": "markdown",
   "metadata": {
    "collapsed": true
   },
   "source": [
    "http://nbviewer.jupyter.org/github/bokeh/bokeh/tree/0.11.1/examples/charts/file/\n",
    "\n",
    "http://nbviewer.jupyter.org/github/bokeh/bokeh/tree/0.11.1/examples/howto/charts/\n",
    "\n",
    "http://nbviewer.jupyter.org/github/bokeh/bokeh-demos/blob/master/presentations/2016-03-pydata-strata/notebooks/Charts.ipynb\n",
    "\n",
    "http://nbviewer.jupyter.org/github/bokeh/bokeh-demos/blob/master/presentations/2016-03-pydata-strata/notebooks/Charts%20Demo.ipynb"
   ]
  },
  {
   "cell_type": "code",
   "execution_count": null,
   "metadata": {
    "collapsed": true
   },
   "outputs": [],
   "source": []
  }
 ],
 "metadata": {
  "kernelspec": {
   "display_name": "Python 3",
   "language": "python",
   "name": "python3"
  },
  "language_info": {
   "codemirror_mode": {
    "name": "ipython",
    "version": 3
   },
   "file_extension": ".py",
   "mimetype": "text/x-python",
   "name": "python",
   "nbconvert_exporter": "python",
   "pygments_lexer": "ipython3",
   "version": "3.5.1"
  }
 },
 "nbformat": 4,
 "nbformat_minor": 0
}
