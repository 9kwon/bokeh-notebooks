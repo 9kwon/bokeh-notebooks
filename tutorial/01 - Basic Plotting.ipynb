{
 "cells": [
  {
   "cell_type": "markdown",
   "metadata": {
    "collapsed": true
   },
   "source": [
    "<table style=\"float:left; border:none\">\n",
    "   <tr style=\"border:none; background-color: #ffffff\">\n",
    "       <td style=\"border:none\">\n",
    "           <a href=\"http://bokeh.pydata.org/\">     \n",
    "           <img \n",
    "               src=\"assets/bokeh-transparent.png\" \n",
    "               style=\"width:50px\"\n",
    "           >\n",
    "           </a>    \n",
    "       </td>\n",
    "       <td style=\"border:none\">\n",
    "           <h1>Bokeh Tutorial</h1>\n",
    "       </td>\n",
    "   </tr>\n",
    "</table>\n",
    "\n",
    "<div style=\"float:right;\"><h2>01. Basic Plotting</h2></div>"
   ]
  },
  {
   "cell_type": "markdown",
   "metadata": {},
   "source": [
    "This section of the tutorial covers the [`bokeh.plotting`](http://bokeh.pydata.org/en/latest/docs/user_guide/plotting.html) \n",
    "interface. This interface is a \"mid-level\" interface, and the main idea can be described by the statement:\n",
    "\n",
    "**Starting from simple default figures (with sensible default tools, grids and axes), add markers and other shapes whose visual attributes are tied to directly data.**\n",
    "\n",
    "We will see that it is possible to customize and change all of the defaults, but having them means that it is possible to get up and running very quickly. "
   ]
  },
  {
   "cell_type": "markdown",
   "metadata": {},
   "source": [
    "# Imports and Setup\n",
    "\n",
    "When using the [`bokeh.plotting`](http://bokeh.pydata.org/en/latest/docs/user_guide/plotting.html) interface, there are a few common imports:\n",
    "* Use the [`figure`](http://bokeh.pydata.org/en/latest/docs/reference/plotting.html#bokeh.plotting.figure) function to  create new plot objects to work with. \n",
    "* Call the functions [`output_file`](http://bokeh.pydata.org/en/latest/docs/reference/resources_embedding.html#bokeh.io.output_file), [`output_notebook`](http://bokeh.pydata.org/en/latest/docs/reference/resources_embedding.html#bokeh.io.output_notebook), and [`output_server`](http://bokeh.pydata.org/en/latest/docs/reference/resources_embedding.html#bokeh.io.output_server) (possibly in combination) to tell Bokeh how to display or save output. \n",
    "* Execute [`show`](http://bokeh.pydata.org/en/latest/docs/reference/resources_embedding.html#bokeh.io.show) and  [`save`](http://bokeh.pydata.org/en/latest/docs/reference/resources_embedding.html#bokeh.io.save) to display or save plots and layouts."
   ]
  },
  {
   "cell_type": "code",
   "execution_count": 1,
   "metadata": {
    "collapsed": true
   },
   "outputs": [],
   "source": [
    "from bokeh.io import output_notebook, show\n",
    "from bokeh.plotting import figure"
   ]
  },
  {
   "cell_type": "code",
   "execution_count": null,
   "metadata": {
    "collapsed": true
   },
   "outputs": [],
   "source": []
  },
  {
   "cell_type": "markdown",
   "metadata": {},
   "source": [
    "In this case, we are in the Jupyter notebook, so call `output_notebook()`. We only need to call this once, and all subsequent calls to `show()` will display inline in the notebook."
   ]
  },
  {
   "cell_type": "code",
   "execution_count": 2,
   "metadata": {},
   "outputs": [
    {
     "data": {
      "text/html": [
       "\n",
       "    <div class=\"bk-root\">\n",
       "        <a href=\"https://bokeh.pydata.org\" target=\"_blank\" class=\"bk-logo bk-logo-small bk-logo-notebook\"></a>\n",
       "        <span id=\"8aa9d7c4-1739-4db8-8a50-4e7c901f31ff\">Loading BokehJS ...</span>\n",
       "    </div>"
      ]
     },
     "metadata": {},
     "output_type": "display_data"
    },
    {
     "data": {
      "application/javascript": [
       "\n",
       "(function(root) {\n",
       "  function now() {\n",
       "    return new Date();\n",
       "  }\n",
       "\n",
       "  var force = true;\n",
       "\n",
       "  if (typeof (root._bokeh_onload_callbacks) === \"undefined\" || force === true) {\n",
       "    root._bokeh_onload_callbacks = [];\n",
       "    root._bokeh_is_loading = undefined;\n",
       "  }\n",
       "\n",
       "  var JS_MIME_TYPE = 'application/javascript';\n",
       "  var HTML_MIME_TYPE = 'text/html';\n",
       "  var EXEC_MIME_TYPE = 'application/vnd.bokehjs_exec.v0+json';\n",
       "  var CLASS_NAME = 'output_bokeh rendered_html';\n",
       "\n",
       "  /**\n",
       "   * Render data to the DOM node\n",
       "   */\n",
       "  function render(props, node) {\n",
       "    var script = document.createElement(\"script\");\n",
       "    node.appendChild(script);\n",
       "  }\n",
       "\n",
       "  /**\n",
       "   * Handle when an output is cleared or removed\n",
       "   */\n",
       "  function handleClearOutput(event, handle) {\n",
       "    var cell = handle.cell;\n",
       "\n",
       "    var id = cell.output_area._bokeh_element_id;\n",
       "    var server_id = cell.output_area._bokeh_server_id;\n",
       "    // Clean up Bokeh references\n",
       "    if (id !== undefined) {\n",
       "      Bokeh.index[id].model.document.clear();\n",
       "      delete Bokeh.index[id];\n",
       "    }\n",
       "\n",
       "    if (server_id !== undefined) {\n",
       "      // Clean up Bokeh references\n",
       "      var cmd = \"from bokeh.io import _state; print(_state.uuid_to_server['\" + server_id + \"'].get_sessions()[0].document.roots[0]._id)\";\n",
       "      cell.notebook.kernel.execute(cmd, {\n",
       "        iopub: {\n",
       "          output: function(msg) {\n",
       "            var element_id = msg.content.text.trim();\n",
       "            Bokeh.index[element_id].model.document.clear();\n",
       "            delete Bokeh.index[element_id];\n",
       "          }\n",
       "        }\n",
       "      });\n",
       "      // Destroy server and session\n",
       "      var cmd = \"from bokeh import io; io._destroy_server('\" + server_id + \"')\";\n",
       "      cell.notebook.kernel.execute(cmd);\n",
       "    }\n",
       "  }\n",
       "\n",
       "  /**\n",
       "   * Handle when a new output is added\n",
       "   */\n",
       "  function handleAddOutput(event, handle) {\n",
       "    var output_area = handle.output_area;\n",
       "    var output = handle.output;\n",
       "\n",
       "    // limit handleAddOutput to display_data with EXEC_MIME_TYPE content only\n",
       "    if ((output.output_type != \"display_data\") || (!output.data.hasOwnProperty(EXEC_MIME_TYPE))) {\n",
       "      return\n",
       "    }\n",
       "\n",
       "    var toinsert = output_area.element.find(`.${CLASS_NAME.split(' ')[0]}`);\n",
       "\n",
       "    if (output.metadata[EXEC_MIME_TYPE][\"id\"] !== undefined) {\n",
       "      toinsert[0].firstChild.textContent = output.data[JS_MIME_TYPE];\n",
       "      // store reference to embed id on output_area\n",
       "      output_area._bokeh_element_id = output.metadata[EXEC_MIME_TYPE][\"id\"];\n",
       "    }\n",
       "    if (output.metadata[EXEC_MIME_TYPE][\"server_id\"] !== undefined) {\n",
       "      var bk_div = document.createElement(\"div\");\n",
       "      bk_div.innerHTML = output.data[HTML_MIME_TYPE];\n",
       "      var script_attrs = bk_div.children[0].attributes;\n",
       "      for (var i = 0; i < script_attrs.length; i++) {\n",
       "        toinsert[0].firstChild.setAttribute(script_attrs[i].name, script_attrs[i].value);\n",
       "      }\n",
       "      // store reference to server id on output_area\n",
       "      output_area._bokeh_server_id = output.metadata[EXEC_MIME_TYPE][\"server_id\"];\n",
       "    }\n",
       "  }\n",
       "\n",
       "  function register_renderer(events, OutputArea) {\n",
       "\n",
       "    function append_mime(data, metadata, element) {\n",
       "      // create a DOM node to render to\n",
       "      var toinsert = this.create_output_subarea(\n",
       "        metadata,\n",
       "        CLASS_NAME,\n",
       "        EXEC_MIME_TYPE\n",
       "      );\n",
       "      this.keyboard_manager.register_events(toinsert);\n",
       "      // Render to node\n",
       "      var props = {data: data, metadata: metadata[EXEC_MIME_TYPE]};\n",
       "      render(props, toinsert[0]);\n",
       "      element.append(toinsert);\n",
       "      return toinsert\n",
       "    }\n",
       "\n",
       "    /* Handle when an output is cleared or removed */\n",
       "    events.on('clear_output.CodeCell', handleClearOutput);\n",
       "    events.on('delete.Cell', handleClearOutput);\n",
       "\n",
       "    /* Handle when a new output is added */\n",
       "    events.on('output_added.OutputArea', handleAddOutput);\n",
       "\n",
       "    /**\n",
       "     * Register the mime type and append_mime function with output_area\n",
       "     */\n",
       "    OutputArea.prototype.register_mime_type(EXEC_MIME_TYPE, append_mime, {\n",
       "      /* Is output safe? */\n",
       "      safe: true,\n",
       "      /* Index of renderer in `output_area.display_order` */\n",
       "      index: 0\n",
       "    });\n",
       "  }\n",
       "\n",
       "  // register the mime type if in Jupyter Notebook environment and previously unregistered\n",
       "  if (root.Jupyter !== undefined) {\n",
       "    var events = require('base/js/events');\n",
       "    var OutputArea = require('notebook/js/outputarea').OutputArea;\n",
       "\n",
       "    if (OutputArea.prototype.mime_types().indexOf(EXEC_MIME_TYPE) == -1) {\n",
       "      register_renderer(events, OutputArea);\n",
       "    }\n",
       "  }\n",
       "\n",
       "  \n",
       "  if (typeof (root._bokeh_timeout) === \"undefined\" || force === true) {\n",
       "    root._bokeh_timeout = Date.now() + 5000;\n",
       "    root._bokeh_failed_load = false;\n",
       "  }\n",
       "\n",
       "  var NB_LOAD_WARNING = {'data': {'text/html':\n",
       "     \"<div style='background-color: #fdd'>\\n\"+\n",
       "     \"<p>\\n\"+\n",
       "     \"BokehJS does not appear to have successfully loaded. If loading BokehJS from CDN, this \\n\"+\n",
       "     \"may be due to a slow or bad network connection. Possible fixes:\\n\"+\n",
       "     \"</p>\\n\"+\n",
       "     \"<ul>\\n\"+\n",
       "     \"<li>re-rerun `output_notebook()` to attempt to load from CDN again, or</li>\\n\"+\n",
       "     \"<li>use INLINE resources instead, as so:</li>\\n\"+\n",
       "     \"</ul>\\n\"+\n",
       "     \"<code>\\n\"+\n",
       "     \"from bokeh.resources import INLINE\\n\"+\n",
       "     \"output_notebook(resources=INLINE)\\n\"+\n",
       "     \"</code>\\n\"+\n",
       "     \"</div>\"}};\n",
       "\n",
       "  function display_loaded() {\n",
       "    var el = document.getElementById(\"8aa9d7c4-1739-4db8-8a50-4e7c901f31ff\");\n",
       "    if (el != null) {\n",
       "      el.textContent = \"BokehJS is loading...\";\n",
       "    }\n",
       "    if (root.Bokeh !== undefined) {\n",
       "      if (el != null) {\n",
       "        el.textContent = \"BokehJS \" + root.Bokeh.version + \" successfully loaded.\";\n",
       "      }\n",
       "    } else if (Date.now() < root._bokeh_timeout) {\n",
       "      setTimeout(display_loaded, 100)\n",
       "    }\n",
       "  }\n",
       "\n",
       "\n",
       "  function run_callbacks() {\n",
       "    try {\n",
       "      root._bokeh_onload_callbacks.forEach(function(callback) { callback() });\n",
       "    }\n",
       "    finally {\n",
       "      delete root._bokeh_onload_callbacks\n",
       "    }\n",
       "    console.info(\"Bokeh: all callbacks have finished\");\n",
       "  }\n",
       "\n",
       "  function load_libs(js_urls, callback) {\n",
       "    root._bokeh_onload_callbacks.push(callback);\n",
       "    if (root._bokeh_is_loading > 0) {\n",
       "      console.log(\"Bokeh: BokehJS is being loaded, scheduling callback at\", now());\n",
       "      return null;\n",
       "    }\n",
       "    if (js_urls == null || js_urls.length === 0) {\n",
       "      run_callbacks();\n",
       "      return null;\n",
       "    }\n",
       "    console.log(\"Bokeh: BokehJS not loaded, scheduling load and callback at\", now());\n",
       "    root._bokeh_is_loading = js_urls.length;\n",
       "    for (var i = 0; i < js_urls.length; i++) {\n",
       "      var url = js_urls[i];\n",
       "      var s = document.createElement('script');\n",
       "      s.src = url;\n",
       "      s.async = false;\n",
       "      s.onreadystatechange = s.onload = function() {\n",
       "        root._bokeh_is_loading--;\n",
       "        if (root._bokeh_is_loading === 0) {\n",
       "          console.log(\"Bokeh: all BokehJS libraries loaded\");\n",
       "          run_callbacks()\n",
       "        }\n",
       "      };\n",
       "      s.onerror = function() {\n",
       "        console.warn(\"failed to load library \" + url);\n",
       "      };\n",
       "      console.log(\"Bokeh: injecting script tag for BokehJS library: \", url);\n",
       "      document.getElementsByTagName(\"head\")[0].appendChild(s);\n",
       "    }\n",
       "  };var element = document.getElementById(\"8aa9d7c4-1739-4db8-8a50-4e7c901f31ff\");\n",
       "  if (element == null) {\n",
       "    console.log(\"Bokeh: ERROR: autoload.js configured with elementid '8aa9d7c4-1739-4db8-8a50-4e7c901f31ff' but no matching script tag was found. \")\n",
       "    return false;\n",
       "  }\n",
       "\n",
       "  var js_urls = [\"https://cdn.pydata.org/bokeh/release/bokeh-0.12.8.min.js\", \"https://cdn.pydata.org/bokeh/release/bokeh-widgets-0.12.8.min.js\", \"https://cdn.pydata.org/bokeh/release/bokeh-tables-0.12.8.min.js\", \"https://cdn.pydata.org/bokeh/release/bokeh-gl-0.12.8.min.js\"];\n",
       "\n",
       "  var inline_js = [\n",
       "    function(Bokeh) {\n",
       "      Bokeh.set_log_level(\"info\");\n",
       "    },\n",
       "    \n",
       "    function(Bokeh) {\n",
       "      \n",
       "    },\n",
       "    function(Bokeh) {\n",
       "      console.log(\"Bokeh: injecting CSS: https://cdn.pydata.org/bokeh/release/bokeh-0.12.8.min.css\");\n",
       "      Bokeh.embed.inject_css(\"https://cdn.pydata.org/bokeh/release/bokeh-0.12.8.min.css\");\n",
       "      console.log(\"Bokeh: injecting CSS: https://cdn.pydata.org/bokeh/release/bokeh-widgets-0.12.8.min.css\");\n",
       "      Bokeh.embed.inject_css(\"https://cdn.pydata.org/bokeh/release/bokeh-widgets-0.12.8.min.css\");\n",
       "      console.log(\"Bokeh: injecting CSS: https://cdn.pydata.org/bokeh/release/bokeh-tables-0.12.8.min.css\");\n",
       "      Bokeh.embed.inject_css(\"https://cdn.pydata.org/bokeh/release/bokeh-tables-0.12.8.min.css\");\n",
       "    }\n",
       "  ];\n",
       "\n",
       "  function run_inline_js() {\n",
       "    \n",
       "    if ((root.Bokeh !== undefined) || (force === true)) {\n",
       "      for (var i = 0; i < inline_js.length; i++) {\n",
       "        inline_js[i].call(root, root.Bokeh);\n",
       "      }if (force === true) {\n",
       "        display_loaded();\n",
       "      }} else if (Date.now() < root._bokeh_timeout) {\n",
       "      setTimeout(run_inline_js, 100);\n",
       "    } else if (!root._bokeh_failed_load) {\n",
       "      console.log(\"Bokeh: BokehJS failed to load within specified timeout.\");\n",
       "      root._bokeh_failed_load = true;\n",
       "    } else if (force !== true) {\n",
       "      var cell = $(document.getElementById(\"8aa9d7c4-1739-4db8-8a50-4e7c901f31ff\")).parents('.cell').data().cell;\n",
       "      cell.output_area.append_execute_result(NB_LOAD_WARNING)\n",
       "    }\n",
       "\n",
       "  }\n",
       "\n",
       "  if (root._bokeh_is_loading === 0) {\n",
       "    console.log(\"Bokeh: BokehJS loaded, going straight to plotting\");\n",
       "    run_inline_js();\n",
       "  } else {\n",
       "    load_libs(js_urls, function() {\n",
       "      console.log(\"Bokeh: BokehJS plotting callback run at\", now());\n",
       "      run_inline_js();\n",
       "    });\n",
       "  }\n",
       "}(window));"
      ],
      "application/vnd.bokehjs_load.v0+json": "\n(function(root) {\n  function now() {\n    return new Date();\n  }\n\n  var force = true;\n\n  if (typeof (root._bokeh_onload_callbacks) === \"undefined\" || force === true) {\n    root._bokeh_onload_callbacks = [];\n    root._bokeh_is_loading = undefined;\n  }\n\n  \n\n  \n  if (typeof (root._bokeh_timeout) === \"undefined\" || force === true) {\n    root._bokeh_timeout = Date.now() + 5000;\n    root._bokeh_failed_load = false;\n  }\n\n  var NB_LOAD_WARNING = {'data': {'text/html':\n     \"<div style='background-color: #fdd'>\\n\"+\n     \"<p>\\n\"+\n     \"BokehJS does not appear to have successfully loaded. If loading BokehJS from CDN, this \\n\"+\n     \"may be due to a slow or bad network connection. Possible fixes:\\n\"+\n     \"</p>\\n\"+\n     \"<ul>\\n\"+\n     \"<li>re-rerun `output_notebook()` to attempt to load from CDN again, or</li>\\n\"+\n     \"<li>use INLINE resources instead, as so:</li>\\n\"+\n     \"</ul>\\n\"+\n     \"<code>\\n\"+\n     \"from bokeh.resources import INLINE\\n\"+\n     \"output_notebook(resources=INLINE)\\n\"+\n     \"</code>\\n\"+\n     \"</div>\"}};\n\n  function display_loaded() {\n    var el = document.getElementById(\"8aa9d7c4-1739-4db8-8a50-4e7c901f31ff\");\n    if (el != null) {\n      el.textContent = \"BokehJS is loading...\";\n    }\n    if (root.Bokeh !== undefined) {\n      if (el != null) {\n        el.textContent = \"BokehJS \" + root.Bokeh.version + \" successfully loaded.\";\n      }\n    } else if (Date.now() < root._bokeh_timeout) {\n      setTimeout(display_loaded, 100)\n    }\n  }\n\n\n  function run_callbacks() {\n    try {\n      root._bokeh_onload_callbacks.forEach(function(callback) { callback() });\n    }\n    finally {\n      delete root._bokeh_onload_callbacks\n    }\n    console.info(\"Bokeh: all callbacks have finished\");\n  }\n\n  function load_libs(js_urls, callback) {\n    root._bokeh_onload_callbacks.push(callback);\n    if (root._bokeh_is_loading > 0) {\n      console.log(\"Bokeh: BokehJS is being loaded, scheduling callback at\", now());\n      return null;\n    }\n    if (js_urls == null || js_urls.length === 0) {\n      run_callbacks();\n      return null;\n    }\n    console.log(\"Bokeh: BokehJS not loaded, scheduling load and callback at\", now());\n    root._bokeh_is_loading = js_urls.length;\n    for (var i = 0; i < js_urls.length; i++) {\n      var url = js_urls[i];\n      var s = document.createElement('script');\n      s.src = url;\n      s.async = false;\n      s.onreadystatechange = s.onload = function() {\n        root._bokeh_is_loading--;\n        if (root._bokeh_is_loading === 0) {\n          console.log(\"Bokeh: all BokehJS libraries loaded\");\n          run_callbacks()\n        }\n      };\n      s.onerror = function() {\n        console.warn(\"failed to load library \" + url);\n      };\n      console.log(\"Bokeh: injecting script tag for BokehJS library: \", url);\n      document.getElementsByTagName(\"head\")[0].appendChild(s);\n    }\n  };var element = document.getElementById(\"8aa9d7c4-1739-4db8-8a50-4e7c901f31ff\");\n  if (element == null) {\n    console.log(\"Bokeh: ERROR: autoload.js configured with elementid '8aa9d7c4-1739-4db8-8a50-4e7c901f31ff' but no matching script tag was found. \")\n    return false;\n  }\n\n  var js_urls = [\"https://cdn.pydata.org/bokeh/release/bokeh-0.12.8.min.js\", \"https://cdn.pydata.org/bokeh/release/bokeh-widgets-0.12.8.min.js\", \"https://cdn.pydata.org/bokeh/release/bokeh-tables-0.12.8.min.js\", \"https://cdn.pydata.org/bokeh/release/bokeh-gl-0.12.8.min.js\"];\n\n  var inline_js = [\n    function(Bokeh) {\n      Bokeh.set_log_level(\"info\");\n    },\n    \n    function(Bokeh) {\n      \n    },\n    function(Bokeh) {\n      console.log(\"Bokeh: injecting CSS: https://cdn.pydata.org/bokeh/release/bokeh-0.12.8.min.css\");\n      Bokeh.embed.inject_css(\"https://cdn.pydata.org/bokeh/release/bokeh-0.12.8.min.css\");\n      console.log(\"Bokeh: injecting CSS: https://cdn.pydata.org/bokeh/release/bokeh-widgets-0.12.8.min.css\");\n      Bokeh.embed.inject_css(\"https://cdn.pydata.org/bokeh/release/bokeh-widgets-0.12.8.min.css\");\n      console.log(\"Bokeh: injecting CSS: https://cdn.pydata.org/bokeh/release/bokeh-tables-0.12.8.min.css\");\n      Bokeh.embed.inject_css(\"https://cdn.pydata.org/bokeh/release/bokeh-tables-0.12.8.min.css\");\n    }\n  ];\n\n  function run_inline_js() {\n    \n    if ((root.Bokeh !== undefined) || (force === true)) {\n      for (var i = 0; i < inline_js.length; i++) {\n        inline_js[i].call(root, root.Bokeh);\n      }if (force === true) {\n        display_loaded();\n      }} else if (Date.now() < root._bokeh_timeout) {\n      setTimeout(run_inline_js, 100);\n    } else if (!root._bokeh_failed_load) {\n      console.log(\"Bokeh: BokehJS failed to load within specified timeout.\");\n      root._bokeh_failed_load = true;\n    } else if (force !== true) {\n      var cell = $(document.getElementById(\"8aa9d7c4-1739-4db8-8a50-4e7c901f31ff\")).parents('.cell').data().cell;\n      cell.output_area.append_execute_result(NB_LOAD_WARNING)\n    }\n\n  }\n\n  if (root._bokeh_is_loading === 0) {\n    console.log(\"Bokeh: BokehJS loaded, going straight to plotting\");\n    run_inline_js();\n  } else {\n    load_libs(js_urls, function() {\n      console.log(\"Bokeh: BokehJS plotting callback run at\", now());\n      run_inline_js();\n    });\n  }\n}(window));"
     },
     "metadata": {},
     "output_type": "display_data"
    }
   ],
   "source": [
    "output_notebook()"
   ]
  },
  {
   "cell_type": "markdown",
   "metadata": {},
   "source": [
    "# Some Basic Scatter Plots\n",
    "\n",
    "In this section you will see how to use Bokeh's various marker types to create simple scatter plots. "
   ]
  },
  {
   "cell_type": "code",
   "execution_count": 3,
   "metadata": {},
   "outputs": [
    {
     "data": {
      "text/html": [
       "\n",
       "<div class=\"bk-root\">\n",
       "    <div class=\"bk-plotdiv\" id=\"5f663003-0db4-413d-bd90-289d99e54c4e\"></div>\n",
       "</div>"
      ]
     },
     "metadata": {},
     "output_type": "display_data"
    },
    {
     "data": {
      "application/javascript": [
       "(function(root) {\n",
       "  function embed_document(root) {\n",
       "    var docs_json = {\"92fc52f0-922c-466d-9e44-e9c7576fffde\":{\"roots\":{\"references\":[{\"attributes\":{\"formatter\":{\"id\":\"c74be2c0-dff2-45cb-a912-58f57fd4b73d\",\"type\":\"BasicTickFormatter\"},\"plot\":{\"id\":\"69783fb5-9dba-4818-9b0c-d9863f908d76\",\"subtype\":\"Figure\",\"type\":\"Plot\"},\"ticker\":{\"id\":\"ff47b998-a26c-4e91-b3fe-ae332d1ce23e\",\"type\":\"BasicTicker\"}},\"id\":\"2606bfd3-719c-465c-aeea-6e90ee3bcd5e\",\"type\":\"LinearAxis\"},{\"attributes\":{},\"id\":\"ff47b998-a26c-4e91-b3fe-ae332d1ce23e\",\"type\":\"BasicTicker\"},{\"attributes\":{\"fill_alpha\":{\"value\":0.5},\"fill_color\":{\"value\":\"orange\"},\"line_color\":{\"value\":\"navy\"},\"size\":{\"units\":\"screen\",\"value\":15},\"x\":{\"field\":\"x\"},\"y\":{\"field\":\"y\"}},\"id\":\"bc7e6cd1-67d3-41af-869e-708cb818919c\",\"type\":\"Circle\"},{\"attributes\":{\"dimension\":1,\"plot\":{\"id\":\"69783fb5-9dba-4818-9b0c-d9863f908d76\",\"subtype\":\"Figure\",\"type\":\"Plot\"},\"ticker\":{\"id\":\"ff47b998-a26c-4e91-b3fe-ae332d1ce23e\",\"type\":\"BasicTicker\"}},\"id\":\"6980adee-e190-4011-ba56-1d513c6c2083\",\"type\":\"Grid\"},{\"attributes\":{\"overlay\":{\"id\":\"4c7fcec4-ae18-4efd-a096-4f25a74ce68c\",\"type\":\"BoxAnnotation\"}},\"id\":\"a1a1ea48-b388-43b6-8a71-05d190416947\",\"type\":\"BoxZoomTool\"},{\"attributes\":{\"fill_alpha\":{\"value\":0.1},\"fill_color\":{\"value\":\"#1f77b4\"},\"line_alpha\":{\"value\":0.1},\"line_color\":{\"value\":\"#1f77b4\"},\"size\":{\"units\":\"screen\",\"value\":15},\"x\":{\"field\":\"x\"},\"y\":{\"field\":\"y\"}},\"id\":\"ba429814-e7ae-407d-817b-ff00d2ed0330\",\"type\":\"Circle\"},{\"attributes\":{},\"id\":\"4518dea3-0257-46fc-b2e2-1d687add5f2d\",\"type\":\"SaveTool\"},{\"attributes\":{\"below\":[{\"id\":\"d91f940c-9aea-4ac9-973f-9b3a955a50e6\",\"type\":\"LinearAxis\"}],\"left\":[{\"id\":\"2606bfd3-719c-465c-aeea-6e90ee3bcd5e\",\"type\":\"LinearAxis\"}],\"plot_height\":400,\"plot_width\":400,\"renderers\":[{\"id\":\"d91f940c-9aea-4ac9-973f-9b3a955a50e6\",\"type\":\"LinearAxis\"},{\"id\":\"e0136528-1fad-4fce-bf96-67714ece85d0\",\"type\":\"Grid\"},{\"id\":\"2606bfd3-719c-465c-aeea-6e90ee3bcd5e\",\"type\":\"LinearAxis\"},{\"id\":\"6980adee-e190-4011-ba56-1d513c6c2083\",\"type\":\"Grid\"},{\"id\":\"4c7fcec4-ae18-4efd-a096-4f25a74ce68c\",\"type\":\"BoxAnnotation\"},{\"id\":\"20f23bc0-f651-4091-80d2-e5d5b867b94a\",\"type\":\"GlyphRenderer\"}],\"title\":{\"id\":\"31bf5823-88cd-437c-9fba-bfced890b0ac\",\"type\":\"Title\"},\"toolbar\":{\"id\":\"e5489d85-7eac-42f5-8eba-faad6de31347\",\"type\":\"Toolbar\"},\"x_range\":{\"id\":\"8e3dc129-0c6a-4a47-9025-5a273c3bce0f\",\"type\":\"DataRange1d\"},\"x_scale\":{\"id\":\"bbd472e4-ad49-445c-a88e-0b2a1d11f950\",\"type\":\"LinearScale\"},\"y_range\":{\"id\":\"8ca3c5f9-6f0d-41d9-bb97-a80a01094915\",\"type\":\"DataRange1d\"},\"y_scale\":{\"id\":\"a8e0ca43-78fc-483e-80aa-e612e38b1f99\",\"type\":\"LinearScale\"}},\"id\":\"69783fb5-9dba-4818-9b0c-d9863f908d76\",\"subtype\":\"Figure\",\"type\":\"Plot\"},{\"attributes\":{},\"id\":\"5a03337f-0acc-45b0-ba46-6217d9ddc9a4\",\"type\":\"ResetTool\"},{\"attributes\":{\"callback\":null,\"column_names\":[\"x\",\"y\"],\"data\":{\"x\":[1,2,3,4,5],\"y\":[6,7,2,4,5]}},\"id\":\"eeb03229-8e14-42b5-894e-a97e8dc4ce69\",\"type\":\"ColumnDataSource\"},{\"attributes\":{\"bottom_units\":\"screen\",\"fill_alpha\":{\"value\":0.5},\"fill_color\":{\"value\":\"lightgrey\"},\"left_units\":\"screen\",\"level\":\"overlay\",\"line_alpha\":{\"value\":1.0},\"line_color\":{\"value\":\"black\"},\"line_dash\":[4,4],\"line_width\":{\"value\":2},\"plot\":null,\"render_mode\":\"css\",\"right_units\":\"screen\",\"top_units\":\"screen\"},\"id\":\"4c7fcec4-ae18-4efd-a096-4f25a74ce68c\",\"type\":\"BoxAnnotation\"},{\"attributes\":{\"active_drag\":\"auto\",\"active_inspect\":\"auto\",\"active_scroll\":\"auto\",\"active_tap\":\"auto\",\"tools\":[{\"id\":\"9ecd7167-4bd8-441f-a29d-d96d9f937400\",\"type\":\"PanTool\"},{\"id\":\"7f614493-2bed-4944-9011-aca18df4b93f\",\"type\":\"WheelZoomTool\"},{\"id\":\"a1a1ea48-b388-43b6-8a71-05d190416947\",\"type\":\"BoxZoomTool\"},{\"id\":\"4518dea3-0257-46fc-b2e2-1d687add5f2d\",\"type\":\"SaveTool\"},{\"id\":\"5a03337f-0acc-45b0-ba46-6217d9ddc9a4\",\"type\":\"ResetTool\"},{\"id\":\"aa502c7d-6657-4019-a698-df1e4558f7c9\",\"type\":\"HelpTool\"}]},\"id\":\"e5489d85-7eac-42f5-8eba-faad6de31347\",\"type\":\"Toolbar\"},{\"attributes\":{\"source\":{\"id\":\"eeb03229-8e14-42b5-894e-a97e8dc4ce69\",\"type\":\"ColumnDataSource\"}},\"id\":\"3f04dffa-0f9d-4b1c-b73e-1b942bfa6d38\",\"type\":\"CDSView\"},{\"attributes\":{\"callback\":null},\"id\":\"8e3dc129-0c6a-4a47-9025-5a273c3bce0f\",\"type\":\"DataRange1d\"},{\"attributes\":{\"data_source\":{\"id\":\"eeb03229-8e14-42b5-894e-a97e8dc4ce69\",\"type\":\"ColumnDataSource\"},\"glyph\":{\"id\":\"bc7e6cd1-67d3-41af-869e-708cb818919c\",\"type\":\"Circle\"},\"hover_glyph\":null,\"muted_glyph\":null,\"nonselection_glyph\":{\"id\":\"ba429814-e7ae-407d-817b-ff00d2ed0330\",\"type\":\"Circle\"},\"selection_glyph\":null,\"view\":{\"id\":\"3f04dffa-0f9d-4b1c-b73e-1b942bfa6d38\",\"type\":\"CDSView\"}},\"id\":\"20f23bc0-f651-4091-80d2-e5d5b867b94a\",\"type\":\"GlyphRenderer\"},{\"attributes\":{},\"id\":\"c74be2c0-dff2-45cb-a912-58f57fd4b73d\",\"type\":\"BasicTickFormatter\"},{\"attributes\":{},\"id\":\"9ecd7167-4bd8-441f-a29d-d96d9f937400\",\"type\":\"PanTool\"},{\"attributes\":{\"callback\":null},\"id\":\"8ca3c5f9-6f0d-41d9-bb97-a80a01094915\",\"type\":\"DataRange1d\"},{\"attributes\":{},\"id\":\"ccfe66f9-e701-4245-8815-f79beb5d8b17\",\"type\":\"BasicTicker\"},{\"attributes\":{},\"id\":\"bbd472e4-ad49-445c-a88e-0b2a1d11f950\",\"type\":\"LinearScale\"},{\"attributes\":{},\"id\":\"7f614493-2bed-4944-9011-aca18df4b93f\",\"type\":\"WheelZoomTool\"},{\"attributes\":{},\"id\":\"a8e0ca43-78fc-483e-80aa-e612e38b1f99\",\"type\":\"LinearScale\"},{\"attributes\":{},\"id\":\"aa502c7d-6657-4019-a698-df1e4558f7c9\",\"type\":\"HelpTool\"},{\"attributes\":{\"formatter\":{\"id\":\"eef6f25f-475c-4605-b9c5-d1df0b7e4135\",\"type\":\"BasicTickFormatter\"},\"plot\":{\"id\":\"69783fb5-9dba-4818-9b0c-d9863f908d76\",\"subtype\":\"Figure\",\"type\":\"Plot\"},\"ticker\":{\"id\":\"ccfe66f9-e701-4245-8815-f79beb5d8b17\",\"type\":\"BasicTicker\"}},\"id\":\"d91f940c-9aea-4ac9-973f-9b3a955a50e6\",\"type\":\"LinearAxis\"},{\"attributes\":{},\"id\":\"eef6f25f-475c-4605-b9c5-d1df0b7e4135\",\"type\":\"BasicTickFormatter\"},{\"attributes\":{\"plot\":null,\"text\":\"\"},\"id\":\"31bf5823-88cd-437c-9fba-bfced890b0ac\",\"type\":\"Title\"},{\"attributes\":{\"plot\":{\"id\":\"69783fb5-9dba-4818-9b0c-d9863f908d76\",\"subtype\":\"Figure\",\"type\":\"Plot\"},\"ticker\":{\"id\":\"ccfe66f9-e701-4245-8815-f79beb5d8b17\",\"type\":\"BasicTicker\"}},\"id\":\"e0136528-1fad-4fce-bf96-67714ece85d0\",\"type\":\"Grid\"}],\"root_ids\":[\"69783fb5-9dba-4818-9b0c-d9863f908d76\"]},\"title\":\"Bokeh Application\",\"version\":\"0.12.8\"}};\n",
       "    var render_items = [{\"docid\":\"92fc52f0-922c-466d-9e44-e9c7576fffde\",\"elementid\":\"5f663003-0db4-413d-bd90-289d99e54c4e\",\"modelid\":\"69783fb5-9dba-4818-9b0c-d9863f908d76\"}];\n",
       "\n",
       "    root.Bokeh.embed.embed_items(docs_json, render_items);\n",
       "  }\n",
       "\n",
       "  if (root.Bokeh !== undefined) {\n",
       "    embed_document(root);\n",
       "  } else {\n",
       "    var attempts = 0;\n",
       "    var timer = setInterval(function(root) {\n",
       "      if (root.Bokeh !== undefined) {\n",
       "        embed_document(root);\n",
       "        clearInterval(timer);\n",
       "      }\n",
       "      attempts++;\n",
       "      if (attempts > 100) {\n",
       "        console.log(\"Bokeh: ERROR: Unable to embed document because BokehJS library is missing\")\n",
       "        clearInterval(timer);\n",
       "      }\n",
       "    }, 10, root)\n",
       "  }\n",
       "})(window);"
      ],
      "application/vnd.bokehjs_exec.v0+json": ""
     },
     "metadata": {
      "application/vnd.bokehjs_exec.v0+json": {
       "id": "69783fb5-9dba-4818-9b0c-d9863f908d76"
      }
     },
     "output_type": "display_data"
    }
   ],
   "source": [
    "# create a new plot with default tools, using figure\n",
    "p = figure(plot_width=400, plot_height=400)\n",
    "\n",
    "# add a circle renderer with a size, color, and alpha\n",
    "p.circle([1, 2, 3, 4, 5], [6, 7, 2, 4, 5], size=15, line_color=\"navy\", fill_color=\"orange\", fill_alpha=0.5)\n",
    "\n",
    "show(p) # show the results"
   ]
  },
  {
   "cell_type": "markdown",
   "metadata": {},
   "source": [
    "All Bokeh markers accept `size` (measured in screen space units) as a property. Circles also have `radius` (measured in \"data\" space units). "
   ]
  },
  {
   "cell_type": "code",
   "execution_count": 4,
   "metadata": {
    "collapsed": true
   },
   "outputs": [],
   "source": [
    "# EXERCISE: Try changing the example above to set a `radius` value instead of `size`\n",
    "\n"
   ]
  },
  {
   "cell_type": "markdown",
   "metadata": {},
   "source": [
    "To scatter square markers instead of circles, you can use the `square` method on figures. "
   ]
  },
  {
   "cell_type": "code",
   "execution_count": 5,
   "metadata": {},
   "outputs": [
    {
     "data": {
      "text/html": [
       "\n",
       "<div class=\"bk-root\">\n",
       "    <div class=\"bk-plotdiv\" id=\"2b0d381c-1ee7-465d-9266-53421646a904\"></div>\n",
       "</div>"
      ]
     },
     "metadata": {},
     "output_type": "display_data"
    },
    {
     "data": {
      "application/javascript": [
       "(function(root) {\n",
       "  function embed_document(root) {\n",
       "    var docs_json = {\"ee8fddbc-935f-4c9f-9808-2ec265a37516\":{\"roots\":{\"references\":[{\"attributes\":{\"formatter\":{\"id\":\"04af116a-586a-437c-b60f-11f91a1153da\",\"type\":\"BasicTickFormatter\"},\"plot\":{\"id\":\"b79d4cd2-95cd-4e16-9ed4-83bfe11cb2c4\",\"subtype\":\"Figure\",\"type\":\"Plot\"},\"ticker\":{\"id\":\"6a56a45d-94d8-40f3-9d62-c935a179e6c9\",\"type\":\"BasicTicker\"}},\"id\":\"ad12ac16-1256-475c-9098-ee78676024d6\",\"type\":\"LinearAxis\"},{\"attributes\":{},\"id\":\"a00d9a23-5848-46b1-be96-c9bc93d2e719\",\"type\":\"BasicTickFormatter\"},{\"attributes\":{\"fill_alpha\":{\"value\":0.1},\"fill_color\":{\"value\":\"#1f77b4\"},\"line_alpha\":{\"value\":0.1},\"line_color\":{\"value\":\"#1f77b4\"},\"size\":{\"field\":\"size\",\"units\":\"screen\"},\"x\":{\"field\":\"x\"},\"y\":{\"field\":\"y\"}},\"id\":\"c093eeb2-2aba-4043-9ef1-cf99bd5ef1dd\",\"type\":\"Square\"},{\"attributes\":{\"bottom_units\":\"screen\",\"fill_alpha\":{\"value\":0.5},\"fill_color\":{\"value\":\"lightgrey\"},\"left_units\":\"screen\",\"level\":\"overlay\",\"line_alpha\":{\"value\":1.0},\"line_color\":{\"value\":\"black\"},\"line_dash\":[4,4],\"line_width\":{\"value\":2},\"plot\":null,\"render_mode\":\"css\",\"right_units\":\"screen\",\"top_units\":\"screen\"},\"id\":\"efb57a6d-49cb-4777-aa22-b913310402b8\",\"type\":\"BoxAnnotation\"},{\"attributes\":{},\"id\":\"ae3c46ba-b51d-4594-8fb6-54589a61e3bc\",\"type\":\"PanTool\"},{\"attributes\":{},\"id\":\"28f716ba-a03a-4915-a849-3941587367ea\",\"type\":\"LinearScale\"},{\"attributes\":{\"active_drag\":\"auto\",\"active_inspect\":\"auto\",\"active_scroll\":\"auto\",\"active_tap\":\"auto\",\"tools\":[{\"id\":\"ae3c46ba-b51d-4594-8fb6-54589a61e3bc\",\"type\":\"PanTool\"},{\"id\":\"e4d5f454-c0bf-4bf5-bdca-505ed5411425\",\"type\":\"WheelZoomTool\"},{\"id\":\"c4c8613c-ecca-434c-9b43-4a87a09c403f\",\"type\":\"BoxZoomTool\"},{\"id\":\"0bed2207-153d-4848-98ea-501f0f9a9a2f\",\"type\":\"SaveTool\"},{\"id\":\"9db724f0-3b5d-4540-a533-8facca9052e6\",\"type\":\"ResetTool\"},{\"id\":\"32544fd9-bbe9-44b7-89f8-e513f5d4e934\",\"type\":\"HelpTool\"}]},\"id\":\"b79c4d96-06c2-4661-b9b0-5111dade6f2f\",\"type\":\"Toolbar\"},{\"attributes\":{\"callback\":null},\"id\":\"1fb214cb-877b-437e-b996-6391ca779590\",\"type\":\"DataRange1d\"},{\"attributes\":{\"callback\":null},\"id\":\"a90fdfdd-24a7-4c66-916d-7545930f5bc8\",\"type\":\"DataRange1d\"},{\"attributes\":{\"formatter\":{\"id\":\"a00d9a23-5848-46b1-be96-c9bc93d2e719\",\"type\":\"BasicTickFormatter\"},\"plot\":{\"id\":\"b79d4cd2-95cd-4e16-9ed4-83bfe11cb2c4\",\"subtype\":\"Figure\",\"type\":\"Plot\"},\"ticker\":{\"id\":\"f45859a6-27a9-4ef8-b86c-0df8a97d35a9\",\"type\":\"BasicTicker\"}},\"id\":\"464cfe87-e04b-4272-895f-5d5fc579b2e2\",\"type\":\"LinearAxis\"},{\"attributes\":{},\"id\":\"e4d5f454-c0bf-4bf5-bdca-505ed5411425\",\"type\":\"WheelZoomTool\"},{\"attributes\":{\"overlay\":{\"id\":\"efb57a6d-49cb-4777-aa22-b913310402b8\",\"type\":\"BoxAnnotation\"}},\"id\":\"c4c8613c-ecca-434c-9b43-4a87a09c403f\",\"type\":\"BoxZoomTool\"},{\"attributes\":{\"source\":{\"id\":\"3ae7978e-bd42-4b23-8dfb-14d645c33830\",\"type\":\"ColumnDataSource\"}},\"id\":\"22e51b35-1bc2-4e34-a208-de942c741266\",\"type\":\"CDSView\"},{\"attributes\":{},\"id\":\"0bed2207-153d-4848-98ea-501f0f9a9a2f\",\"type\":\"SaveTool\"},{\"attributes\":{\"data_source\":{\"id\":\"3ae7978e-bd42-4b23-8dfb-14d645c33830\",\"type\":\"ColumnDataSource\"},\"glyph\":{\"id\":\"d3153e65-a966-4f56-9edc-59d78204a5f1\",\"type\":\"Square\"},\"hover_glyph\":null,\"muted_glyph\":null,\"nonselection_glyph\":{\"id\":\"c093eeb2-2aba-4043-9ef1-cf99bd5ef1dd\",\"type\":\"Square\"},\"selection_glyph\":null,\"view\":{\"id\":\"22e51b35-1bc2-4e34-a208-de942c741266\",\"type\":\"CDSView\"}},\"id\":\"7af46494-f262-499d-adf9-76d48e47cae4\",\"type\":\"GlyphRenderer\"},{\"attributes\":{},\"id\":\"9db724f0-3b5d-4540-a533-8facca9052e6\",\"type\":\"ResetTool\"},{\"attributes\":{\"below\":[{\"id\":\"ad12ac16-1256-475c-9098-ee78676024d6\",\"type\":\"LinearAxis\"}],\"left\":[{\"id\":\"464cfe87-e04b-4272-895f-5d5fc579b2e2\",\"type\":\"LinearAxis\"}],\"plot_height\":400,\"plot_width\":400,\"renderers\":[{\"id\":\"ad12ac16-1256-475c-9098-ee78676024d6\",\"type\":\"LinearAxis\"},{\"id\":\"4dfcffdf-e58a-415d-b32e-889d6d200bee\",\"type\":\"Grid\"},{\"id\":\"464cfe87-e04b-4272-895f-5d5fc579b2e2\",\"type\":\"LinearAxis\"},{\"id\":\"fb1a7de9-bafd-4f62-9b73-a47edef3adbb\",\"type\":\"Grid\"},{\"id\":\"efb57a6d-49cb-4777-aa22-b913310402b8\",\"type\":\"BoxAnnotation\"},{\"id\":\"7af46494-f262-499d-adf9-76d48e47cae4\",\"type\":\"GlyphRenderer\"}],\"title\":{\"id\":\"009c06cf-8e29-4d1b-9d9b-d6335c12a8e5\",\"type\":\"Title\"},\"toolbar\":{\"id\":\"b79c4d96-06c2-4661-b9b0-5111dade6f2f\",\"type\":\"Toolbar\"},\"x_range\":{\"id\":\"a90fdfdd-24a7-4c66-916d-7545930f5bc8\",\"type\":\"DataRange1d\"},\"x_scale\":{\"id\":\"e3d7bdfe-228f-46fc-905c-fbe9777fa546\",\"type\":\"LinearScale\"},\"y_range\":{\"id\":\"1fb214cb-877b-437e-b996-6391ca779590\",\"type\":\"DataRange1d\"},\"y_scale\":{\"id\":\"28f716ba-a03a-4915-a849-3941587367ea\",\"type\":\"LinearScale\"}},\"id\":\"b79d4cd2-95cd-4e16-9ed4-83bfe11cb2c4\",\"subtype\":\"Figure\",\"type\":\"Plot\"},{\"attributes\":{},\"id\":\"32544fd9-bbe9-44b7-89f8-e513f5d4e934\",\"type\":\"HelpTool\"},{\"attributes\":{},\"id\":\"04af116a-586a-437c-b60f-11f91a1153da\",\"type\":\"BasicTickFormatter\"},{\"attributes\":{},\"id\":\"e3d7bdfe-228f-46fc-905c-fbe9777fa546\",\"type\":\"LinearScale\"},{\"attributes\":{\"fill_alpha\":{\"value\":0.6},\"fill_color\":{\"value\":\"firebrick\"},\"line_alpha\":{\"value\":0.6},\"line_color\":{\"value\":\"firebrick\"},\"size\":{\"field\":\"size\",\"units\":\"screen\"},\"x\":{\"field\":\"x\"},\"y\":{\"field\":\"y\"}},\"id\":\"d3153e65-a966-4f56-9edc-59d78204a5f1\",\"type\":\"Square\"},{\"attributes\":{\"plot\":null,\"text\":\"\"},\"id\":\"009c06cf-8e29-4d1b-9d9b-d6335c12a8e5\",\"type\":\"Title\"},{\"attributes\":{\"callback\":null,\"column_names\":[\"x\",\"y\",\"size\"],\"data\":{\"size\":[10,15,20,25,30],\"x\":[1,2,3,4,5],\"y\":[6,7,2,4,5]}},\"id\":\"3ae7978e-bd42-4b23-8dfb-14d645c33830\",\"type\":\"ColumnDataSource\"},{\"attributes\":{\"plot\":{\"id\":\"b79d4cd2-95cd-4e16-9ed4-83bfe11cb2c4\",\"subtype\":\"Figure\",\"type\":\"Plot\"},\"ticker\":{\"id\":\"6a56a45d-94d8-40f3-9d62-c935a179e6c9\",\"type\":\"BasicTicker\"}},\"id\":\"4dfcffdf-e58a-415d-b32e-889d6d200bee\",\"type\":\"Grid\"},{\"attributes\":{\"dimension\":1,\"plot\":{\"id\":\"b79d4cd2-95cd-4e16-9ed4-83bfe11cb2c4\",\"subtype\":\"Figure\",\"type\":\"Plot\"},\"ticker\":{\"id\":\"f45859a6-27a9-4ef8-b86c-0df8a97d35a9\",\"type\":\"BasicTicker\"}},\"id\":\"fb1a7de9-bafd-4f62-9b73-a47edef3adbb\",\"type\":\"Grid\"},{\"attributes\":{},\"id\":\"f45859a6-27a9-4ef8-b86c-0df8a97d35a9\",\"type\":\"BasicTicker\"},{\"attributes\":{},\"id\":\"6a56a45d-94d8-40f3-9d62-c935a179e6c9\",\"type\":\"BasicTicker\"}],\"root_ids\":[\"b79d4cd2-95cd-4e16-9ed4-83bfe11cb2c4\"]},\"title\":\"Bokeh Application\",\"version\":\"0.12.8\"}};\n",
       "    var render_items = [{\"docid\":\"ee8fddbc-935f-4c9f-9808-2ec265a37516\",\"elementid\":\"2b0d381c-1ee7-465d-9266-53421646a904\",\"modelid\":\"b79d4cd2-95cd-4e16-9ed4-83bfe11cb2c4\"}];\n",
       "\n",
       "    root.Bokeh.embed.embed_items(docs_json, render_items);\n",
       "  }\n",
       "\n",
       "  if (root.Bokeh !== undefined) {\n",
       "    embed_document(root);\n",
       "  } else {\n",
       "    var attempts = 0;\n",
       "    var timer = setInterval(function(root) {\n",
       "      if (root.Bokeh !== undefined) {\n",
       "        embed_document(root);\n",
       "        clearInterval(timer);\n",
       "      }\n",
       "      attempts++;\n",
       "      if (attempts > 100) {\n",
       "        console.log(\"Bokeh: ERROR: Unable to embed document because BokehJS library is missing\")\n",
       "        clearInterval(timer);\n",
       "      }\n",
       "    }, 10, root)\n",
       "  }\n",
       "})(window);"
      ],
      "application/vnd.bokehjs_exec.v0+json": ""
     },
     "metadata": {
      "application/vnd.bokehjs_exec.v0+json": {
       "id": "b79d4cd2-95cd-4e16-9ed4-83bfe11cb2c4"
      }
     },
     "output_type": "display_data"
    }
   ],
   "source": [
    "# create a new plot using figure\n",
    "p = figure(plot_width=400, plot_height=400)\n",
    "\n",
    "# add a square renderer with a size, color, alpha, and sizes\n",
    "p.square([1, 2, 3, 4, 5], [6, 7, 2, 4, 5], size=[10, 15, 20, 25, 30], color=\"firebrick\", alpha=0.6)\n",
    "\n",
    "show(p) # show the results"
   ]
  },
  {
   "cell_type": "markdown",
   "metadata": {},
   "source": [
    "Note that in the example above, we are also specifying different sizes for each individual marker. ***In general, all of a glyph's properties can be \"vectorized\" in this fashion. ***  Also note that we have passed ``color`` as a shorthand to set both the line and fill colors easily at the same time. This is a convenience specific to ``bokeh.plotting``.\n",
    "\n",
    "</table><p>There are many marker types available in Bokeh, you can see details and\n",
    "example plots for all of them in the reference guide by clicking on entries in the list below:</p>\n",
    "<table class=\"hlist\" style=\"float:left\"><tr><td><ul>\n",
    "<li><a href=\"http://bokeh.pydata.org/en/latest/docs/reference/plotting.html#bokeh.plotting.Figure.asterisk\" title=\"bokeh.plotting.Figure.asterisk\"><code class=\"xref py py-func docutils literal\"><span class=\"pre\">asterisk()</span></code></a></li>\n",
    "<li><a href=\"http://bokeh.pydata.org/en/latest/docs/reference/plotting.html#bokeh.plotting.Figure.circle\" title=\"bokeh.plotting.Figure.circle\"><code class=\"xref py py-func docutils literal\"><span class=\"pre\">circle()</span></code></a></li>\n",
    "<li><a href=\"http://bokeh.pydata.org/en/latest/docs/reference/plotting.html#bokeh.plotting.Figure.circle_cross\" title=\"bokeh.plotting.Figure.circle_cross\"><code class=\"xref py py-func docutils literal\"><span class=\"pre\">circle_cross()</span></code></a></li>\n",
    "<li><a href=\"http://bokeh.pydata.org/en/latest/docs/reference/plotting.html#bokeh.plotting.Figure.circle_x\" title=\"bokeh.plotting.Figure.circle_x\"><code class=\"xref py py-func docutils literal\"><span class=\"pre\">circle_x()</span></code></a></li>\n",
    "<li><a href=\"http://bokeh.pydata.org/en/latest/docs/reference/plotting.html#bokeh.plotting.Figure.cross\" title=\"bokeh.plotting.Figure.cross\"><code class=\"xref py py-func docutils literal\"><span class=\"pre\">cross()</span></code></a></li>\n",
    "</ul>\n",
    "</td><td><ul>\n",
    "<li><a href=\"http://bokeh.pydata.org/en/latest/docs/reference/plotting.html#bokeh.plotting.Figure.diamond\" title=\"bokeh.plotting.Figure.diamond\"><code class=\"xref py py-func docutils literal\"><span class=\"pre\">diamond()</span></code></a></li>\n",
    "<li><a href=\"http://bokeh.pydata.org/en/latest/docs/reference/plotting.html#bokeh.plotting.Figure.diamond_cross\" title=\"bokeh.plotting.Figure.diamond_cross\"><code class=\"xref py py-func docutils literal\"><span class=\"pre\">diamond_cross()</span></code></a></li>\n",
    "<li><a href=\"http://bokeh.pydata.org/en/latest/docs/reference/plotting.html#bokeh.plotting.Figure.inverted_triangle\" title=\"bokeh.plotting.Figure.inverted_triangle\"><code class=\"xref py py-func docutils literal\"><span class=\"pre\">inverted_triangle()</span></code></a></li>\n",
    "<li><a href=\"http://bokeh.pydata.org/en/latest/docs/reference/plotting.html#bokeh.plotting.Figure.square\" title=\"bokeh.plotting.Figure.square\"><code class=\"xref py py-func docutils literal\"><span class=\"pre\">square()</span></code></a></li>\n",
    "</ul>\n",
    "</td><td><ul>\n",
    "<li><a href=\"http://bokeh.pydata.org/en/latest/docs/reference/plotting.html#bokeh.plotting.Figure.square_cross\" title=\"bokeh.plotting.Figure.square_cross\"><code class=\"xref py py-func docutils literal\"><span class=\"pre\">square_cross()</span></code></a></li>\n",
    "<li><a href=\"http://bokeh.pydata.org/en/latest/docs/reference/plotting.html#bokeh.plotting.Figure.square_x\" title=\"bokeh.plotting.Figure.square_x\"><code class=\"xref py py-func docutils literal\"><span class=\"pre\">square_x()</span></code></a></li>\n",
    "<li><a href=\"http://bokeh.pydata.org/en/latest/docs/reference/plotting.html#bokeh.plotting.Figure.triangle\" title=\"bokeh.plotting.Figure.triangle\"><code class=\"xref py py-func docutils literal\"><span class=\"pre\">triangle()</span></code></a></li>\n",
    "<li><a href=\"http://bokeh.pydata.org/en/latest/docs/reference/plotting.html#bokeh.plotting.Figure.x\" title=\"bokeh.plotting.Figure.x\"><code class=\"xref py py-func docutils literal\"><span class=\"pre\">x()</span></code></a></li>\n",
    "</ul>\n",
    "</td></tr></table>"
   ]
  },
  {
   "cell_type": "code",
   "execution_count": 6,
   "metadata": {
    "collapsed": true
   },
   "outputs": [],
   "source": [
    "# EXERCISE: Plot some different markers in this cell\n",
    "\n"
   ]
  },
  {
   "cell_type": "markdown",
   "metadata": {},
   "source": [
    "# Basic Line Plots"
   ]
  },
  {
   "cell_type": "code",
   "execution_count": 7,
   "metadata": {},
   "outputs": [
    {
     "data": {
      "text/html": [
       "\n",
       "<div class=\"bk-root\">\n",
       "    <div class=\"bk-plotdiv\" id=\"6b37a1a7-dd43-45ab-a5ed-e59a34df773b\"></div>\n",
       "</div>"
      ]
     },
     "metadata": {},
     "output_type": "display_data"
    },
    {
     "data": {
      "application/javascript": [
       "(function(root) {\n",
       "  function embed_document(root) {\n",
       "    var docs_json = {\"b20315b1-48a6-41ee-b2b6-b532aec79302\":{\"roots\":{\"references\":[{\"attributes\":{\"formatter\":{\"id\":\"589b260e-2e3c-42b6-93d7-b2f3854816a9\",\"type\":\"BasicTickFormatter\"},\"plot\":{\"id\":\"9543582b-729d-433c-a166-3f4b4e12ab8d\",\"subtype\":\"Figure\",\"type\":\"Plot\"},\"ticker\":{\"id\":\"a855a41d-176f-47d6-bbbc-2c356721ed48\",\"type\":\"BasicTicker\"}},\"id\":\"629e4979-c705-436e-94e3-266139ebe258\",\"type\":\"LinearAxis\"},{\"attributes\":{},\"id\":\"36f935e0-ec52-4c3d-ada0-eb47b54efcb4\",\"type\":\"ResetTool\"},{\"attributes\":{\"plot\":{\"id\":\"9543582b-729d-433c-a166-3f4b4e12ab8d\",\"subtype\":\"Figure\",\"type\":\"Plot\"},\"ticker\":{\"id\":\"a855a41d-176f-47d6-bbbc-2c356721ed48\",\"type\":\"BasicTicker\"}},\"id\":\"989a9626-03bf-41e5-ac3e-3e555041d19e\",\"type\":\"Grid\"},{\"attributes\":{\"line_color\":{\"value\":\"#1f77b4\"},\"line_width\":{\"value\":2},\"x\":{\"field\":\"x\"},\"y\":{\"field\":\"y\"}},\"id\":\"5a9822b3-b3b4-4ef1-a723-94b49c0dc17f\",\"type\":\"Line\"},{\"attributes\":{},\"id\":\"3a16fc34-5b2c-4d66-8fe3-9b32211f55a5\",\"type\":\"BasicTickFormatter\"},{\"attributes\":{},\"id\":\"51c711a2-a18f-463d-a26c-78d69859d7d9\",\"type\":\"PanTool\"},{\"attributes\":{\"below\":[{\"id\":\"629e4979-c705-436e-94e3-266139ebe258\",\"type\":\"LinearAxis\"}],\"left\":[{\"id\":\"fca07dde-f497-45ea-8996-3649a13fefb6\",\"type\":\"LinearAxis\"}],\"plot_height\":400,\"plot_width\":400,\"renderers\":[{\"id\":\"629e4979-c705-436e-94e3-266139ebe258\",\"type\":\"LinearAxis\"},{\"id\":\"989a9626-03bf-41e5-ac3e-3e555041d19e\",\"type\":\"Grid\"},{\"id\":\"fca07dde-f497-45ea-8996-3649a13fefb6\",\"type\":\"LinearAxis\"},{\"id\":\"3560669a-513d-438f-bc52-bdc7eb39b8a1\",\"type\":\"Grid\"},{\"id\":\"620cdead-2b36-436a-aba5-b08ffe92cc16\",\"type\":\"BoxAnnotation\"},{\"id\":\"41d241d4-ceee-4e5f-990f-9c778864966b\",\"type\":\"GlyphRenderer\"}],\"title\":{\"id\":\"40f97382-30ea-4367-a3f3-ee2a24b82290\",\"type\":\"Title\"},\"toolbar\":{\"id\":\"857c2264-a650-4436-9bdd-30700d781704\",\"type\":\"Toolbar\"},\"x_range\":{\"id\":\"d76f9e71-880c-4b6f-be60-999e1f83651b\",\"type\":\"DataRange1d\"},\"x_scale\":{\"id\":\"f40230c2-757a-4993-8d89-6f2bf3f86e4c\",\"type\":\"LinearScale\"},\"y_range\":{\"id\":\"a2aa2bcd-4902-4f82-b5d5-66de166714b5\",\"type\":\"DataRange1d\"},\"y_scale\":{\"id\":\"fbb93737-9a01-4eae-a3ae-6f66762c4e53\",\"type\":\"LinearScale\"}},\"id\":\"9543582b-729d-433c-a166-3f4b4e12ab8d\",\"subtype\":\"Figure\",\"type\":\"Plot\"},{\"attributes\":{\"callback\":null},\"id\":\"a2aa2bcd-4902-4f82-b5d5-66de166714b5\",\"type\":\"DataRange1d\"},{\"attributes\":{\"bottom_units\":\"screen\",\"fill_alpha\":{\"value\":0.5},\"fill_color\":{\"value\":\"lightgrey\"},\"left_units\":\"screen\",\"level\":\"overlay\",\"line_alpha\":{\"value\":1.0},\"line_color\":{\"value\":\"black\"},\"line_dash\":[4,4],\"line_width\":{\"value\":2},\"plot\":null,\"render_mode\":\"css\",\"right_units\":\"screen\",\"top_units\":\"screen\"},\"id\":\"620cdead-2b36-436a-aba5-b08ffe92cc16\",\"type\":\"BoxAnnotation\"},{\"attributes\":{},\"id\":\"fbb93737-9a01-4eae-a3ae-6f66762c4e53\",\"type\":\"LinearScale\"},{\"attributes\":{},\"id\":\"a855a41d-176f-47d6-bbbc-2c356721ed48\",\"type\":\"BasicTicker\"},{\"attributes\":{\"data_source\":{\"id\":\"754f8f79-23b5-4da9-a4be-7345e363cc5c\",\"type\":\"ColumnDataSource\"},\"glyph\":{\"id\":\"5a9822b3-b3b4-4ef1-a723-94b49c0dc17f\",\"type\":\"Line\"},\"hover_glyph\":null,\"muted_glyph\":null,\"nonselection_glyph\":{\"id\":\"23194825-aaac-45af-ae90-92750f0d203c\",\"type\":\"Line\"},\"selection_glyph\":null,\"view\":{\"id\":\"4c6a4f6a-03b3-499d-8400-03a8ed906b9a\",\"type\":\"CDSView\"}},\"id\":\"41d241d4-ceee-4e5f-990f-9c778864966b\",\"type\":\"GlyphRenderer\"},{\"attributes\":{\"source\":{\"id\":\"754f8f79-23b5-4da9-a4be-7345e363cc5c\",\"type\":\"ColumnDataSource\"}},\"id\":\"4c6a4f6a-03b3-499d-8400-03a8ed906b9a\",\"type\":\"CDSView\"},{\"attributes\":{\"line_alpha\":{\"value\":0.1},\"line_color\":{\"value\":\"#1f77b4\"},\"line_width\":{\"value\":2},\"x\":{\"field\":\"x\"},\"y\":{\"field\":\"y\"}},\"id\":\"23194825-aaac-45af-ae90-92750f0d203c\",\"type\":\"Line\"},{\"attributes\":{\"plot\":null,\"text\":\"My Line Plot\"},\"id\":\"40f97382-30ea-4367-a3f3-ee2a24b82290\",\"type\":\"Title\"},{\"attributes\":{\"overlay\":{\"id\":\"620cdead-2b36-436a-aba5-b08ffe92cc16\",\"type\":\"BoxAnnotation\"}},\"id\":\"1b6873a3-dbec-4714-a2f8-660b787fdccf\",\"type\":\"BoxZoomTool\"},{\"attributes\":{},\"id\":\"ee098ddc-2b29-45eb-aa96-5c19aec17b6d\",\"type\":\"BasicTicker\"},{\"attributes\":{\"active_drag\":\"auto\",\"active_inspect\":\"auto\",\"active_scroll\":\"auto\",\"active_tap\":\"auto\",\"tools\":[{\"id\":\"51c711a2-a18f-463d-a26c-78d69859d7d9\",\"type\":\"PanTool\"},{\"id\":\"8950ff25-4f33-452b-8321-25a3f9ccb8fc\",\"type\":\"WheelZoomTool\"},{\"id\":\"1b6873a3-dbec-4714-a2f8-660b787fdccf\",\"type\":\"BoxZoomTool\"},{\"id\":\"bd380d26-5649-4906-853f-101d2d2a8d69\",\"type\":\"SaveTool\"},{\"id\":\"36f935e0-ec52-4c3d-ada0-eb47b54efcb4\",\"type\":\"ResetTool\"},{\"id\":\"03d4250a-3b3b-44a5-b30e-3bdc72c70b58\",\"type\":\"HelpTool\"}]},\"id\":\"857c2264-a650-4436-9bdd-30700d781704\",\"type\":\"Toolbar\"},{\"attributes\":{},\"id\":\"f40230c2-757a-4993-8d89-6f2bf3f86e4c\",\"type\":\"LinearScale\"},{\"attributes\":{},\"id\":\"bd380d26-5649-4906-853f-101d2d2a8d69\",\"type\":\"SaveTool\"},{\"attributes\":{},\"id\":\"8950ff25-4f33-452b-8321-25a3f9ccb8fc\",\"type\":\"WheelZoomTool\"},{\"attributes\":{\"callback\":null,\"column_names\":[\"x\",\"y\"],\"data\":{\"x\":[1,2,3,4,5],\"y\":[6,7,2,4,5]}},\"id\":\"754f8f79-23b5-4da9-a4be-7345e363cc5c\",\"type\":\"ColumnDataSource\"},{\"attributes\":{\"dimension\":1,\"plot\":{\"id\":\"9543582b-729d-433c-a166-3f4b4e12ab8d\",\"subtype\":\"Figure\",\"type\":\"Plot\"},\"ticker\":{\"id\":\"ee098ddc-2b29-45eb-aa96-5c19aec17b6d\",\"type\":\"BasicTicker\"}},\"id\":\"3560669a-513d-438f-bc52-bdc7eb39b8a1\",\"type\":\"Grid\"},{\"attributes\":{\"formatter\":{\"id\":\"3a16fc34-5b2c-4d66-8fe3-9b32211f55a5\",\"type\":\"BasicTickFormatter\"},\"plot\":{\"id\":\"9543582b-729d-433c-a166-3f4b4e12ab8d\",\"subtype\":\"Figure\",\"type\":\"Plot\"},\"ticker\":{\"id\":\"ee098ddc-2b29-45eb-aa96-5c19aec17b6d\",\"type\":\"BasicTicker\"}},\"id\":\"fca07dde-f497-45ea-8996-3649a13fefb6\",\"type\":\"LinearAxis\"},{\"attributes\":{},\"id\":\"589b260e-2e3c-42b6-93d7-b2f3854816a9\",\"type\":\"BasicTickFormatter\"},{\"attributes\":{\"callback\":null},\"id\":\"d76f9e71-880c-4b6f-be60-999e1f83651b\",\"type\":\"DataRange1d\"},{\"attributes\":{},\"id\":\"03d4250a-3b3b-44a5-b30e-3bdc72c70b58\",\"type\":\"HelpTool\"}],\"root_ids\":[\"9543582b-729d-433c-a166-3f4b4e12ab8d\"]},\"title\":\"Bokeh Application\",\"version\":\"0.12.8\"}};\n",
       "    var render_items = [{\"docid\":\"b20315b1-48a6-41ee-b2b6-b532aec79302\",\"elementid\":\"6b37a1a7-dd43-45ab-a5ed-e59a34df773b\",\"modelid\":\"9543582b-729d-433c-a166-3f4b4e12ab8d\"}];\n",
       "\n",
       "    root.Bokeh.embed.embed_items(docs_json, render_items);\n",
       "  }\n",
       "\n",
       "  if (root.Bokeh !== undefined) {\n",
       "    embed_document(root);\n",
       "  } else {\n",
       "    var attempts = 0;\n",
       "    var timer = setInterval(function(root) {\n",
       "      if (root.Bokeh !== undefined) {\n",
       "        embed_document(root);\n",
       "        clearInterval(timer);\n",
       "      }\n",
       "      attempts++;\n",
       "      if (attempts > 100) {\n",
       "        console.log(\"Bokeh: ERROR: Unable to embed document because BokehJS library is missing\")\n",
       "        clearInterval(timer);\n",
       "      }\n",
       "    }, 10, root)\n",
       "  }\n",
       "})(window);"
      ],
      "application/vnd.bokehjs_exec.v0+json": ""
     },
     "metadata": {
      "application/vnd.bokehjs_exec.v0+json": {
       "id": "9543582b-729d-433c-a166-3f4b4e12ab8d"
      }
     },
     "output_type": "display_data"
    }
   ],
   "source": [
    "# create a new plot (with a title) using figure\n",
    "p = figure(plot_width=400, plot_height=400, title=\"My Line Plot\")\n",
    "\n",
    "# add a line renderer\n",
    "p.line([1, 2, 3, 4, 5], [6, 7, 2, 4, 5], line_width=2)\n",
    "\n",
    "show(p) # show the results"
   ]
  },
  {
   "cell_type": "markdown",
   "metadata": {},
   "source": [
    "# Images"
   ]
  },
  {
   "cell_type": "markdown",
   "metadata": {},
   "source": [
    "The example below shows how to use the `image_rgba` method to display raw RGBA data. \n",
    "\n",
    "**Note**: This example makes use of the NumPy library "
   ]
  },
  {
   "cell_type": "code",
   "execution_count": 8,
   "metadata": {},
   "outputs": [
    {
     "data": {
      "text/html": [
       "\n",
       "<div class=\"bk-root\">\n",
       "    <div class=\"bk-plotdiv\" id=\"18bd7c4e-8914-4a0e-8dec-08b3dcdeb33e\"></div>\n",
       "</div>"
      ]
     },
     "metadata": {},
     "output_type": "display_data"
    },
    {
     "data": {
      "application/javascript": [
       "(function(root) {\n",
       "  function embed_document(root) {\n",
       "    var docs_json = {\"56fb2027-e26b-4413-856e-cad8c689a8bf\":{\"roots\":{\"references\":[{\"attributes\":{\"dimension\":1,\"plot\":{\"id\":\"adb61302-4a42-4d04-ae1a-d758eb6d5e67\",\"subtype\":\"Figure\",\"type\":\"Plot\"},\"ticker\":{\"id\":\"271ad466-c2ef-4a4c-8872-fe951481696c\",\"type\":\"BasicTicker\"}},\"id\":\"de59f518-6f58-4f0d-ae11-fe30e8815d39\",\"type\":\"Grid\"},{\"attributes\":{},\"id\":\"e716f492-494f-45cf-a59d-5ff474869dc7\",\"type\":\"PanTool\"},{\"attributes\":{\"callback\":null,\"column_names\":[\"image\",\"x\",\"y\",\"dw\",\"dh\"],\"data\":{\"dh\":[10],\"dw\":[10],\"image\":[{\"__ndarray__\":\"AJ4A/wCeDP8Anhn/AJ4m/wCeM/8Anj//AJ5M/wCeWf8Anmb/AJ5y/wCef/8Anoz/AJ6Z/wCepf8AnrL/AJ6//wCezP8Antj/AJ7l/wCe8v8MngD/DJ4M/wyeGf8Mnib/DJ4z/wyeP/8Mnkz/DJ5Z/wyeZv8MnnL/DJ5//wyejP8Mnpn/DJ6l/wyesv8Mnr//DJ7M/wye2P8MnuX/DJ7y/xmeAP8Zngz/GZ4Z/xmeJv8ZnjP/GZ4//xmeTP8Znln/GZ5m/xmecv8Znn//GZ6M/xmemf8ZnqX/GZ6y/xmev/8Znsz/GZ7Y/xme5f8ZnvL/Jp4A/yaeDP8mnhn/Jp4m/yaeM/8mnj//Jp5M/yaeWf8mnmb/Jp5y/yaef/8mnoz/Jp6Z/yaepf8mnrL/Jp6//yaezP8mntj/Jp7l/yae8v8zngD/M54M/zOeGf8znib/M54z/zOeP/8znkz/M55Z/zOeZv8znnL/M55//zOejP8znpn/M56l/zOesv8znr//M57M/zOe2P8znuX/M57y/z+eAP8/ngz/P54Z/z+eJv8/njP/P54//z+eTP8/nln/P55m/z+ecv8/nn//P56M/z+emf8/nqX/P56y/z+ev/8/nsz/P57Y/z+e5f8/nvL/TJ4A/0yeDP9Mnhn/TJ4m/0yeM/9Mnj//TJ5M/0yeWf9Mnmb/TJ5y/0yef/9Mnoz/TJ6Z/0yepf9MnrL/TJ6//0yezP9Mntj/TJ7l/0ye8v9ZngD/WZ4M/1meGf9Znib/WZ4z/1meP/9Znkz/WZ5Z/1meZv9ZnnL/WZ5//1mejP9Znpn/WZ6l/1mesv9Znr//WZ7M/1me2P9ZnuX/WZ7y/2aeAP9mngz/Zp4Z/2aeJv9mnjP/Zp4//2aeTP9mnln/Zp5m/2aecv9mnn//Zp6M/2aemf9mnqX/Zp6y/2aev/9mnsz/Zp7Y/2ae5f9mnvL/cp4A/3KeDP9ynhn/cp4m/3KeM/9ynj//cp5M/3KeWf9ynmb/cp5y/3Kef/9ynoz/cp6Z/3Kepf9ynrL/cp6//3KezP9yntj/cp7l/3Ke8v9/ngD/f54M/3+eGf9/nib/f54z/3+eP/9/nkz/f55Z/3+eZv9/nnL/f55//3+ejP9/npn/f56l/3+esv9/nr//f57M/3+e2P9/nuX/f57y/4yeAP+Mngz/jJ4Z/4yeJv+MnjP/jJ4//4yeTP+Mnln/jJ5m/4yecv+Mnn//jJ6M/4yemf+MnqX/jJ6y/4yev/+Mnsz/jJ7Y/4ye5f+MnvL/mZ4A/5meDP+Znhn/mZ4m/5meM/+Znj//mZ5M/5meWf+Znmb/mZ5y/5mef/+Znoz/mZ6Z/5mepf+ZnrL/mZ6//5mezP+Zntj/mZ7l/5me8v+lngD/pZ4M/6WeGf+lnib/pZ4z/6WeP/+lnkz/pZ5Z/6WeZv+lnnL/pZ5//6WejP+lnpn/pZ6l/6Wesv+lnr//pZ7M/6We2P+lnuX/pZ7y/7KeAP+yngz/sp4Z/7KeJv+ynjP/sp4//7KeTP+ynln/sp5m/7Kecv+ynn//sp6M/7Kemf+ynqX/sp6y/7Kev/+ynsz/sp7Y/7Ke5f+ynvL/v54A/7+eDP+/nhn/v54m/7+eM/+/nj//v55M/7+eWf+/nmb/v55y/7+ef/+/noz/v56Z/7+epf+/nrL/v56//7+ezP+/ntj/v57l/7+e8v/MngD/zJ4M/8yeGf/Mnib/zJ4z/8yeP//Mnkz/zJ5Z/8yeZv/MnnL/zJ5//8yejP/Mnpn/zJ6l/8yesv/Mnr//zJ7M/8ye2P/MnuX/zJ7y/9ieAP/Yngz/2J4Z/9ieJv/YnjP/2J4//9ieTP/Ynln/2J5m/9iecv/Ynn//2J6M/9iemf/YnqX/2J6y/9iev//Ynsz/2J7Y/9ie5f/YnvL/5Z4A/+WeDP/lnhn/5Z4m/+WeM//lnj//5Z5M/+WeWf/lnmb/5Z5y/+Wef//lnoz/5Z6Z/+Wepf/lnrL/5Z6//+WezP/lntj/5Z7l/+We8v/yngD/8p4M//KeGf/ynib/8p4z//KeP//ynkz/8p5Z//KeZv/ynnL/8p5///KejP/ynpn/8p6l//Kesv/ynr//8p7M//Ke2P/ynuX/8p7y/w==\",\"dtype\":\"uint32\",\"shape\":[20,20]}],\"x\":[0],\"y\":[0]}},\"id\":\"1f21b1ee-3e31-4292-8771-299b40de25ff\",\"type\":\"ColumnDataSource\"},{\"attributes\":{\"bottom_units\":\"screen\",\"fill_alpha\":{\"value\":0.5},\"fill_color\":{\"value\":\"lightgrey\"},\"left_units\":\"screen\",\"level\":\"overlay\",\"line_alpha\":{\"value\":1.0},\"line_color\":{\"value\":\"black\"},\"line_dash\":[4,4],\"line_width\":{\"value\":2},\"plot\":null,\"render_mode\":\"css\",\"right_units\":\"screen\",\"top_units\":\"screen\"},\"id\":\"5c819e96-ce74-4565-add7-44366b5f6fc4\",\"type\":\"BoxAnnotation\"},{\"attributes\":{\"data_source\":{\"id\":\"1f21b1ee-3e31-4292-8771-299b40de25ff\",\"type\":\"ColumnDataSource\"},\"glyph\":{\"id\":\"91f6cf10-8f5f-45c2-beb3-e918e2f25e0e\",\"type\":\"ImageRGBA\"},\"hover_glyph\":null,\"muted_glyph\":null,\"nonselection_glyph\":{\"id\":\"f2796378-eedb-4693-a8d8-4d22474a8e5e\",\"type\":\"ImageRGBA\"},\"selection_glyph\":null,\"view\":{\"id\":\"a81d1fc0-1169-40fa-ad8e-95024791d4c4\",\"type\":\"CDSView\"}},\"id\":\"a04fad03-b7bb-4e2a-abfe-a9998ee69217\",\"type\":\"GlyphRenderer\"},{\"attributes\":{},\"id\":\"33128d0e-4eaf-49d2-89aa-97b8428ccd07\",\"type\":\"WheelZoomTool\"},{\"attributes\":{\"below\":[{\"id\":\"b35046f9-bf68-491a-afd2-ccd40831fd77\",\"type\":\"LinearAxis\"}],\"left\":[{\"id\":\"0d5c1b22-b02c-4bd9-8d5a-20d1d4c3c750\",\"type\":\"LinearAxis\"}],\"renderers\":[{\"id\":\"b35046f9-bf68-491a-afd2-ccd40831fd77\",\"type\":\"LinearAxis\"},{\"id\":\"83867684-6afc-432c-9a99-77d8d0cb2eca\",\"type\":\"Grid\"},{\"id\":\"0d5c1b22-b02c-4bd9-8d5a-20d1d4c3c750\",\"type\":\"LinearAxis\"},{\"id\":\"de59f518-6f58-4f0d-ae11-fe30e8815d39\",\"type\":\"Grid\"},{\"id\":\"5c819e96-ce74-4565-add7-44366b5f6fc4\",\"type\":\"BoxAnnotation\"},{\"id\":\"a04fad03-b7bb-4e2a-abfe-a9998ee69217\",\"type\":\"GlyphRenderer\"}],\"title\":{\"id\":\"d0982855-982a-434a-97a6-9c2465ca5d66\",\"type\":\"Title\"},\"toolbar\":{\"id\":\"1a19c5eb-f23d-4dce-918b-dc275b4361b3\",\"type\":\"Toolbar\"},\"x_range\":{\"id\":\"e293db80-6bc7-4d13-97ba-42047f8cf38a\",\"type\":\"Range1d\"},\"x_scale\":{\"id\":\"d5457150-b41f-479f-9e30-3ca740ae7231\",\"type\":\"LinearScale\"},\"y_range\":{\"id\":\"85505e94-0389-4cef-aadd-da4cf747de7a\",\"type\":\"Range1d\"},\"y_scale\":{\"id\":\"821f599b-c48c-4332-ae5a-e681f588ff7b\",\"type\":\"LinearScale\"}},\"id\":\"adb61302-4a42-4d04-ae1a-d758eb6d5e67\",\"subtype\":\"Figure\",\"type\":\"Plot\"},{\"attributes\":{\"overlay\":{\"id\":\"5c819e96-ce74-4565-add7-44366b5f6fc4\",\"type\":\"BoxAnnotation\"}},\"id\":\"fc7e8c95-e927-4073-8b10-1f2f8b0853e6\",\"type\":\"BoxZoomTool\"},{\"attributes\":{\"active_drag\":\"auto\",\"active_inspect\":\"auto\",\"active_scroll\":\"auto\",\"active_tap\":\"auto\",\"tools\":[{\"id\":\"e716f492-494f-45cf-a59d-5ff474869dc7\",\"type\":\"PanTool\"},{\"id\":\"33128d0e-4eaf-49d2-89aa-97b8428ccd07\",\"type\":\"WheelZoomTool\"},{\"id\":\"fc7e8c95-e927-4073-8b10-1f2f8b0853e6\",\"type\":\"BoxZoomTool\"},{\"id\":\"fba95a8f-b485-45ee-a818-7fb740bc982e\",\"type\":\"SaveTool\"},{\"id\":\"cc47ff88-291b-44e3-88ee-13e9f60de4c2\",\"type\":\"ResetTool\"},{\"id\":\"5b65846f-55e4-4933-a6e0-aab2976eadc6\",\"type\":\"HelpTool\"}]},\"id\":\"1a19c5eb-f23d-4dce-918b-dc275b4361b3\",\"type\":\"Toolbar\"},{\"attributes\":{},\"id\":\"fba95a8f-b485-45ee-a818-7fb740bc982e\",\"type\":\"SaveTool\"},{\"attributes\":{},\"id\":\"cc47ff88-291b-44e3-88ee-13e9f60de4c2\",\"type\":\"ResetTool\"},{\"attributes\":{\"callback\":null,\"end\":10},\"id\":\"85505e94-0389-4cef-aadd-da4cf747de7a\",\"type\":\"Range1d\"},{\"attributes\":{},\"id\":\"5b65846f-55e4-4933-a6e0-aab2976eadc6\",\"type\":\"HelpTool\"},{\"attributes\":{},\"id\":\"d5457150-b41f-479f-9e30-3ca740ae7231\",\"type\":\"LinearScale\"},{\"attributes\":{},\"id\":\"821f599b-c48c-4332-ae5a-e681f588ff7b\",\"type\":\"LinearScale\"},{\"attributes\":{\"plot\":{\"id\":\"adb61302-4a42-4d04-ae1a-d758eb6d5e67\",\"subtype\":\"Figure\",\"type\":\"Plot\"},\"ticker\":{\"id\":\"0f0cadad-b5ba-4158-84d4-518323449f19\",\"type\":\"BasicTicker\"}},\"id\":\"83867684-6afc-432c-9a99-77d8d0cb2eca\",\"type\":\"Grid\"},{\"attributes\":{\"formatter\":{\"id\":\"d596aed4-bc12-4ec7-a80e-8b780a537ec7\",\"type\":\"BasicTickFormatter\"},\"plot\":{\"id\":\"adb61302-4a42-4d04-ae1a-d758eb6d5e67\",\"subtype\":\"Figure\",\"type\":\"Plot\"},\"ticker\":{\"id\":\"0f0cadad-b5ba-4158-84d4-518323449f19\",\"type\":\"BasicTicker\"}},\"id\":\"b35046f9-bf68-491a-afd2-ccd40831fd77\",\"type\":\"LinearAxis\"},{\"attributes\":{},\"id\":\"0f0cadad-b5ba-4158-84d4-518323449f19\",\"type\":\"BasicTicker\"},{\"attributes\":{\"formatter\":{\"id\":\"5aa85b91-f2ba-4f5c-b5fa-eea42f30d89c\",\"type\":\"BasicTickFormatter\"},\"plot\":{\"id\":\"adb61302-4a42-4d04-ae1a-d758eb6d5e67\",\"subtype\":\"Figure\",\"type\":\"Plot\"},\"ticker\":{\"id\":\"271ad466-c2ef-4a4c-8872-fe951481696c\",\"type\":\"BasicTicker\"}},\"id\":\"0d5c1b22-b02c-4bd9-8d5a-20d1d4c3c750\",\"type\":\"LinearAxis\"},{\"attributes\":{},\"id\":\"d596aed4-bc12-4ec7-a80e-8b780a537ec7\",\"type\":\"BasicTickFormatter\"},{\"attributes\":{\"callback\":null,\"end\":10},\"id\":\"e293db80-6bc7-4d13-97ba-42047f8cf38a\",\"type\":\"Range1d\"},{\"attributes\":{},\"id\":\"271ad466-c2ef-4a4c-8872-fe951481696c\",\"type\":\"BasicTicker\"},{\"attributes\":{\"plot\":null,\"text\":\"\"},\"id\":\"d0982855-982a-434a-97a6-9c2465ca5d66\",\"type\":\"Title\"},{\"attributes\":{},\"id\":\"5aa85b91-f2ba-4f5c-b5fa-eea42f30d89c\",\"type\":\"BasicTickFormatter\"},{\"attributes\":{\"dh\":{\"field\":\"dh\",\"units\":\"data\"},\"dw\":{\"field\":\"dw\",\"units\":\"data\"},\"image\":{\"field\":\"image\"},\"x\":{\"field\":\"x\"},\"y\":{\"field\":\"y\"}},\"id\":\"91f6cf10-8f5f-45c2-beb3-e918e2f25e0e\",\"type\":\"ImageRGBA\"},{\"attributes\":{\"dh\":{\"field\":\"dh\",\"units\":\"data\"},\"dw\":{\"field\":\"dw\",\"units\":\"data\"},\"image\":{\"field\":\"image\"},\"x\":{\"field\":\"x\"},\"y\":{\"field\":\"y\"}},\"id\":\"f2796378-eedb-4693-a8d8-4d22474a8e5e\",\"type\":\"ImageRGBA\"},{\"attributes\":{\"source\":{\"id\":\"1f21b1ee-3e31-4292-8771-299b40de25ff\",\"type\":\"ColumnDataSource\"}},\"id\":\"a81d1fc0-1169-40fa-ad8e-95024791d4c4\",\"type\":\"CDSView\"}],\"root_ids\":[\"adb61302-4a42-4d04-ae1a-d758eb6d5e67\"]},\"title\":\"Bokeh Application\",\"version\":\"0.12.8\"}};\n",
       "    var render_items = [{\"docid\":\"56fb2027-e26b-4413-856e-cad8c689a8bf\",\"elementid\":\"18bd7c4e-8914-4a0e-8dec-08b3dcdeb33e\",\"modelid\":\"adb61302-4a42-4d04-ae1a-d758eb6d5e67\"}];\n",
       "\n",
       "    root.Bokeh.embed.embed_items(docs_json, render_items);\n",
       "  }\n",
       "\n",
       "  if (root.Bokeh !== undefined) {\n",
       "    embed_document(root);\n",
       "  } else {\n",
       "    var attempts = 0;\n",
       "    var timer = setInterval(function(root) {\n",
       "      if (root.Bokeh !== undefined) {\n",
       "        embed_document(root);\n",
       "        clearInterval(timer);\n",
       "      }\n",
       "      attempts++;\n",
       "      if (attempts > 100) {\n",
       "        console.log(\"Bokeh: ERROR: Unable to embed document because BokehJS library is missing\")\n",
       "        clearInterval(timer);\n",
       "      }\n",
       "    }, 10, root)\n",
       "  }\n",
       "})(window);"
      ],
      "application/vnd.bokehjs_exec.v0+json": ""
     },
     "metadata": {
      "application/vnd.bokehjs_exec.v0+json": {
       "id": "adb61302-4a42-4d04-ae1a-d758eb6d5e67"
      }
     },
     "output_type": "display_data"
    }
   ],
   "source": [
    "from __future__ import division\n",
    "import numpy as np\n",
    "\n",
    "# set up some data\n",
    "N = 20\n",
    "img = np.empty((N,N), dtype=np.uint32)\n",
    "view = img.view(dtype=np.uint8).reshape((N, N, 4))\n",
    "for i in range(N):\n",
    "    for j in range(N):\n",
    "        view[i, j, 0] = int(i/N*255) # red\n",
    "        view[i, j, 1] = 158          # green\n",
    "        view[i, j, 2] = int(j/N*255) # blue\n",
    "        view[i, j, 3] = 255          # alpha\n",
    "        \n",
    "# create a new plot (with a fixed range) using figure\n",
    "p = figure(x_range=[0,10], y_range=[0,10])\n",
    "\n",
    "# add an RGBA image renderer\n",
    "p.image_rgba(image=[img], x=[0], y=[0], dw=[10], dh=[10])\n",
    "\n",
    "show(p) # show the results"
   ]
  },
  {
   "cell_type": "markdown",
   "metadata": {},
   "source": [
    "# Other Kinds of Glyphs\n",
    "\n",
    "Bokeh supports many other kinds of glyphs. You can click on the User Guide links below to see how to create plots with these glyphs using the [`bokeh.plotting`](http://bokeh.pydata.org/en/latest/docs/user_guide/plotting.html) interface.\n",
    "\n",
    "* [Rectangles and Ovals](http://bokeh.pydata.org/en/latest/docs/user_guide/plotting.html#rectangles-and-ovals)\n",
    "* [Segments and Rays](http://bokeh.pydata.org/en/latest/docs/user_guide/plotting.html#segments-and-rays)\n",
    "* [Wedges and Arcs](http://bokeh.pydata.org/en/latest/docs/user_guide/plotting.html#wedges-and-arcs)\n",
    "* [Specialized Curves](http://bokeh.pydata.org/en/latest/docs/user_guide/plotting.html#specialized-curves)\n"
   ]
  },
  {
   "cell_type": "code",
   "execution_count": 9,
   "metadata": {
    "collapsed": true
   },
   "outputs": [],
   "source": [
    "# EXERCISE: Plot some of the other glyph types, following the examples in the User Guide. \n",
    "\n"
   ]
  },
  {
   "cell_type": "markdown",
   "metadata": {},
   "source": [
    "# Plots with Multiple Glyphs \n",
    "\n",
    "It is possible to combine more than one glyph on a single figure. You just need to call multiple glyph methods on one figure object:"
   ]
  },
  {
   "cell_type": "code",
   "execution_count": 10,
   "metadata": {},
   "outputs": [
    {
     "data": {
      "text/html": [
       "\n",
       "<div class=\"bk-root\">\n",
       "    <div class=\"bk-plotdiv\" id=\"9bb8498e-0843-4d07-be0e-fc31269b2322\"></div>\n",
       "</div>"
      ]
     },
     "metadata": {},
     "output_type": "display_data"
    },
    {
     "data": {
      "application/javascript": [
       "(function(root) {\n",
       "  function embed_document(root) {\n",
       "    var docs_json = {\"d14019c2-9f0d-4adf-bf3a-821e4490bae5\":{\"roots\":{\"references\":[{\"attributes\":{\"overlay\":{\"id\":\"5f985ce5-abef-4013-ad06-5c9a5df12443\",\"type\":\"BoxAnnotation\"}},\"id\":\"a90711c5-5879-44b8-a6bd-cc5a2b6c3792\",\"type\":\"BoxZoomTool\"},{\"attributes\":{\"formatter\":{\"id\":\"4c178169-b131-4e86-baba-b5247866de7e\",\"type\":\"BasicTickFormatter\"},\"plot\":{\"id\":\"7017bba6-10ff-4757-8b62-aace22b4efb6\",\"subtype\":\"Figure\",\"type\":\"Plot\"},\"ticker\":{\"id\":\"b29c38b8-ce4f-4d92-9656-799011f52128\",\"type\":\"BasicTicker\"}},\"id\":\"705645a2-4a5f-44f9-81c5-696110b5c440\",\"type\":\"LinearAxis\"},{\"attributes\":{},\"id\":\"290fc442-9857-4962-a71b-8ef794235d34\",\"type\":\"SaveTool\"},{\"attributes\":{\"plot\":{\"id\":\"7017bba6-10ff-4757-8b62-aace22b4efb6\",\"subtype\":\"Figure\",\"type\":\"Plot\"},\"ticker\":{\"id\":\"b29c38b8-ce4f-4d92-9656-799011f52128\",\"type\":\"BasicTicker\"}},\"id\":\"ea42f79b-a600-4e54-b855-d05fb5f0d4ea\",\"type\":\"Grid\"},{\"attributes\":{},\"id\":\"b356574a-dac5-403a-ad46-8d64f0943b6c\",\"type\":\"ResetTool\"},{\"attributes\":{\"source\":{\"id\":\"dda8d9b9-2188-40a7-99ce-c578b9330956\",\"type\":\"ColumnDataSource\"}},\"id\":\"297ecf13-d19b-4a33-9f97-3ccec7b0484e\",\"type\":\"CDSView\"},{\"attributes\":{},\"id\":\"472fef8e-c940-4bb1-a8de-bdfcf0ebe439\",\"type\":\"WheelZoomTool\"},{\"attributes\":{\"data_source\":{\"id\":\"dda8d9b9-2188-40a7-99ce-c578b9330956\",\"type\":\"ColumnDataSource\"},\"glyph\":{\"id\":\"83746820-970e-4f26-a2be-16cac2192cb5\",\"type\":\"Line\"},\"hover_glyph\":null,\"muted_glyph\":null,\"nonselection_glyph\":{\"id\":\"087c1ff6-3532-4c9f-8703-6638e9ea3e6f\",\"type\":\"Line\"},\"selection_glyph\":null,\"view\":{\"id\":\"297ecf13-d19b-4a33-9f97-3ccec7b0484e\",\"type\":\"CDSView\"}},\"id\":\"93382632-7f91-4ab5-91fa-8970e9adea0c\",\"type\":\"GlyphRenderer\"},{\"attributes\":{},\"id\":\"5e8c728d-1193-46ba-8bd4-065b8ef88d54\",\"type\":\"LinearScale\"},{\"attributes\":{\"bottom_units\":\"screen\",\"fill_alpha\":{\"value\":0.5},\"fill_color\":{\"value\":\"lightgrey\"},\"left_units\":\"screen\",\"level\":\"overlay\",\"line_alpha\":{\"value\":1.0},\"line_color\":{\"value\":\"black\"},\"line_dash\":[4,4],\"line_width\":{\"value\":2},\"plot\":null,\"render_mode\":\"css\",\"right_units\":\"screen\",\"top_units\":\"screen\"},\"id\":\"5f985ce5-abef-4013-ad06-5c9a5df12443\",\"type\":\"BoxAnnotation\"},{\"attributes\":{},\"id\":\"e445738e-78b1-4ab3-9045-8c5ad82e18f9\",\"type\":\"PanTool\"},{\"attributes\":{\"callback\":null},\"id\":\"aa9aa4ca-52e3-4871-a040-a9def1e6c114\",\"type\":\"DataRange1d\"},{\"attributes\":{},\"id\":\"4c178169-b131-4e86-baba-b5247866de7e\",\"type\":\"BasicTickFormatter\"},{\"attributes\":{\"line_alpha\":{\"value\":0.1},\"line_color\":{\"value\":\"#1f77b4\"},\"line_width\":{\"value\":2},\"x\":{\"field\":\"x\"},\"y\":{\"field\":\"y\"}},\"id\":\"087c1ff6-3532-4c9f-8703-6638e9ea3e6f\",\"type\":\"Line\"},{\"attributes\":{},\"id\":\"6177032f-1c50-469d-a360-78e31bcdbea8\",\"type\":\"HelpTool\"},{\"attributes\":{\"plot\":null,\"text\":\"\"},\"id\":\"a3cbd83f-bef7-4d2f-9521-421d89e5e053\",\"type\":\"Title\"},{\"attributes\":{},\"id\":\"03380018-a45d-4a77-8768-f77ebf6a9fcd\",\"type\":\"BasicTicker\"},{\"attributes\":{\"below\":[{\"id\":\"705645a2-4a5f-44f9-81c5-696110b5c440\",\"type\":\"LinearAxis\"}],\"left\":[{\"id\":\"3741cd5c-8b0a-46a5-891f-ef3920d82b05\",\"type\":\"LinearAxis\"}],\"plot_height\":400,\"plot_width\":400,\"renderers\":[{\"id\":\"705645a2-4a5f-44f9-81c5-696110b5c440\",\"type\":\"LinearAxis\"},{\"id\":\"ea42f79b-a600-4e54-b855-d05fb5f0d4ea\",\"type\":\"Grid\"},{\"id\":\"3741cd5c-8b0a-46a5-891f-ef3920d82b05\",\"type\":\"LinearAxis\"},{\"id\":\"4c0f7e57-284d-44c1-adbf-87be6eee6fbe\",\"type\":\"Grid\"},{\"id\":\"5f985ce5-abef-4013-ad06-5c9a5df12443\",\"type\":\"BoxAnnotation\"},{\"id\":\"93382632-7f91-4ab5-91fa-8970e9adea0c\",\"type\":\"GlyphRenderer\"},{\"id\":\"6427a108-3781-4d30-9b7c-87a00858d2ff\",\"type\":\"GlyphRenderer\"}],\"title\":{\"id\":\"a3cbd83f-bef7-4d2f-9521-421d89e5e053\",\"type\":\"Title\"},\"toolbar\":{\"id\":\"8ded6750-89c4-46a7-aaf3-ba582a670f32\",\"type\":\"Toolbar\"},\"x_range\":{\"id\":\"aa9aa4ca-52e3-4871-a040-a9def1e6c114\",\"type\":\"DataRange1d\"},\"x_scale\":{\"id\":\"5e8c728d-1193-46ba-8bd4-065b8ef88d54\",\"type\":\"LinearScale\"},\"y_range\":{\"id\":\"eb4286ed-f731-491f-866d-327a69f805d2\",\"type\":\"DataRange1d\"},\"y_scale\":{\"id\":\"ece33d82-8dac-4db1-8b5f-072990d88002\",\"type\":\"LinearScale\"}},\"id\":\"7017bba6-10ff-4757-8b62-aace22b4efb6\",\"subtype\":\"Figure\",\"type\":\"Plot\"},{\"attributes\":{\"source\":{\"id\":\"16af636f-a50a-4d4f-b0c5-10784163b685\",\"type\":\"ColumnDataSource\"}},\"id\":\"edaa2143-dc1a-457b-ae27-51126ce8a32c\",\"type\":\"CDSView\"},{\"attributes\":{},\"id\":\"ece33d82-8dac-4db1-8b5f-072990d88002\",\"type\":\"LinearScale\"},{\"attributes\":{\"active_drag\":\"auto\",\"active_inspect\":\"auto\",\"active_scroll\":\"auto\",\"active_tap\":\"auto\",\"tools\":[{\"id\":\"e445738e-78b1-4ab3-9045-8c5ad82e18f9\",\"type\":\"PanTool\"},{\"id\":\"472fef8e-c940-4bb1-a8de-bdfcf0ebe439\",\"type\":\"WheelZoomTool\"},{\"id\":\"a90711c5-5879-44b8-a6bd-cc5a2b6c3792\",\"type\":\"BoxZoomTool\"},{\"id\":\"290fc442-9857-4962-a71b-8ef794235d34\",\"type\":\"SaveTool\"},{\"id\":\"b356574a-dac5-403a-ad46-8d64f0943b6c\",\"type\":\"ResetTool\"},{\"id\":\"6177032f-1c50-469d-a360-78e31bcdbea8\",\"type\":\"HelpTool\"}]},\"id\":\"8ded6750-89c4-46a7-aaf3-ba582a670f32\",\"type\":\"Toolbar\"},{\"attributes\":{\"data_source\":{\"id\":\"16af636f-a50a-4d4f-b0c5-10784163b685\",\"type\":\"ColumnDataSource\"},\"glyph\":{\"id\":\"af668b05-89d5-420e-b99d-9610ee8e9e96\",\"type\":\"Circle\"},\"hover_glyph\":null,\"muted_glyph\":null,\"nonselection_glyph\":{\"id\":\"ffc3c08b-2a45-4b57-9720-cc5b264c7995\",\"type\":\"Circle\"},\"selection_glyph\":null,\"view\":{\"id\":\"edaa2143-dc1a-457b-ae27-51126ce8a32c\",\"type\":\"CDSView\"}},\"id\":\"6427a108-3781-4d30-9b7c-87a00858d2ff\",\"type\":\"GlyphRenderer\"},{\"attributes\":{\"dimension\":1,\"plot\":{\"id\":\"7017bba6-10ff-4757-8b62-aace22b4efb6\",\"subtype\":\"Figure\",\"type\":\"Plot\"},\"ticker\":{\"id\":\"03380018-a45d-4a77-8768-f77ebf6a9fcd\",\"type\":\"BasicTicker\"}},\"id\":\"4c0f7e57-284d-44c1-adbf-87be6eee6fbe\",\"type\":\"Grid\"},{\"attributes\":{\"fill_alpha\":{\"value\":0.1},\"fill_color\":{\"value\":\"#1f77b4\"},\"line_alpha\":{\"value\":0.1},\"line_color\":{\"value\":\"#1f77b4\"},\"size\":{\"units\":\"screen\",\"value\":8},\"x\":{\"field\":\"x\"},\"y\":{\"field\":\"y\"}},\"id\":\"ffc3c08b-2a45-4b57-9720-cc5b264c7995\",\"type\":\"Circle\"},{\"attributes\":{},\"id\":\"f9fe4a00-4d74-4c24-8812-6cc18cec94f2\",\"type\":\"BasicTickFormatter\"},{\"attributes\":{\"callback\":null,\"column_names\":[\"x\",\"y\"],\"data\":{\"x\":[1,2,3,4,5],\"y\":[6,7,8,7,3]}},\"id\":\"dda8d9b9-2188-40a7-99ce-c578b9330956\",\"type\":\"ColumnDataSource\"},{\"attributes\":{\"formatter\":{\"id\":\"f9fe4a00-4d74-4c24-8812-6cc18cec94f2\",\"type\":\"BasicTickFormatter\"},\"plot\":{\"id\":\"7017bba6-10ff-4757-8b62-aace22b4efb6\",\"subtype\":\"Figure\",\"type\":\"Plot\"},\"ticker\":{\"id\":\"03380018-a45d-4a77-8768-f77ebf6a9fcd\",\"type\":\"BasicTicker\"}},\"id\":\"3741cd5c-8b0a-46a5-891f-ef3920d82b05\",\"type\":\"LinearAxis\"},{\"attributes\":{},\"id\":\"b29c38b8-ce4f-4d92-9656-799011f52128\",\"type\":\"BasicTicker\"},{\"attributes\":{\"callback\":null},\"id\":\"eb4286ed-f731-491f-866d-327a69f805d2\",\"type\":\"DataRange1d\"},{\"attributes\":{\"fill_color\":{\"value\":\"white\"},\"line_color\":{\"value\":\"#1f77b4\"},\"size\":{\"units\":\"screen\",\"value\":8},\"x\":{\"field\":\"x\"},\"y\":{\"field\":\"y\"}},\"id\":\"af668b05-89d5-420e-b99d-9610ee8e9e96\",\"type\":\"Circle\"},{\"attributes\":{\"callback\":null,\"column_names\":[\"x\",\"y\"],\"data\":{\"x\":[1,2,3,4,5],\"y\":[6,7,8,7,3]}},\"id\":\"16af636f-a50a-4d4f-b0c5-10784163b685\",\"type\":\"ColumnDataSource\"},{\"attributes\":{\"line_color\":{\"value\":\"#1f77b4\"},\"line_width\":{\"value\":2},\"x\":{\"field\":\"x\"},\"y\":{\"field\":\"y\"}},\"id\":\"83746820-970e-4f26-a2be-16cac2192cb5\",\"type\":\"Line\"}],\"root_ids\":[\"7017bba6-10ff-4757-8b62-aace22b4efb6\"]},\"title\":\"Bokeh Application\",\"version\":\"0.12.8\"}};\n",
       "    var render_items = [{\"docid\":\"d14019c2-9f0d-4adf-bf3a-821e4490bae5\",\"elementid\":\"9bb8498e-0843-4d07-be0e-fc31269b2322\",\"modelid\":\"7017bba6-10ff-4757-8b62-aace22b4efb6\"}];\n",
       "\n",
       "    root.Bokeh.embed.embed_items(docs_json, render_items);\n",
       "  }\n",
       "\n",
       "  if (root.Bokeh !== undefined) {\n",
       "    embed_document(root);\n",
       "  } else {\n",
       "    var attempts = 0;\n",
       "    var timer = setInterval(function(root) {\n",
       "      if (root.Bokeh !== undefined) {\n",
       "        embed_document(root);\n",
       "        clearInterval(timer);\n",
       "      }\n",
       "      attempts++;\n",
       "      if (attempts > 100) {\n",
       "        console.log(\"Bokeh: ERROR: Unable to embed document because BokehJS library is missing\")\n",
       "        clearInterval(timer);\n",
       "      }\n",
       "    }, 10, root)\n",
       "  }\n",
       "})(window);"
      ],
      "application/vnd.bokehjs_exec.v0+json": ""
     },
     "metadata": {
      "application/vnd.bokehjs_exec.v0+json": {
       "id": "7017bba6-10ff-4757-8b62-aace22b4efb6"
      }
     },
     "output_type": "display_data"
    }
   ],
   "source": [
    "# set up some data\n",
    "x = [1, 2, 3, 4, 5]\n",
    "y = [6, 7, 8, 7, 3]\n",
    "\n",
    "# create a new plot with figure\n",
    "p = figure(plot_width=400, plot_height=400)\n",
    "\n",
    "# add both a line and circles on the same plot\n",
    "p.line(x, y, line_width=2)\n",
    "p.circle(x, y, fill_color=\"white\", size=8)\n",
    "\n",
    "show(p) # show the results"
   ]
  },
  {
   "cell_type": "code",
   "execution_count": 11,
   "metadata": {
    "collapsed": true
   },
   "outputs": [],
   "source": [
    "# EXERCISE: create your own plot combining multiple glyphs together\n",
    "\n"
   ]
  }
 ],
 "metadata": {
  "anaconda-cloud": {},
  "kernelspec": {
   "display_name": "Python 3",
   "language": "python",
   "name": "python3"
  },
  "language_info": {
   "codemirror_mode": {
    "name": "ipython",
    "version": 3
   },
   "file_extension": ".py",
   "mimetype": "text/x-python",
   "name": "python",
   "nbconvert_exporter": "python",
   "pygments_lexer": "ipython3",
   "version": "3.6.2"
  }
 },
 "nbformat": 4,
 "nbformat_minor": 1
}
