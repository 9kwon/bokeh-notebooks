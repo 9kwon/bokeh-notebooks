{
 "cells": [
  {
   "cell_type": "markdown",
   "metadata": {},
   "source": [
    "<table style=\"float:left; border:none\">\n",
    "   <tr style=\"border:none\">\n",
    "       <td style=\"border:none\">\n",
    "           <a href=\"http://bokeh.pydata.org/\">     \n",
    "           <img \n",
    "               src=\"assets/images/bokeh-transparent.png\" \n",
    "               style=\"width:50px\"\n",
    "           >\n",
    "           </a>    \n",
    "       </td>\n",
    "       <td style=\"border:none\">\n",
    "           <h1>Bokeh Tutorial</h1>\n",
    "       </td>\n",
    "   </tr>\n",
    "</table>\n",
    "\n",
    "<div style=\"float:right;\"><h2>06. Models and Primitives</h2></div>"
   ]
  },
  {
   "cell_type": "markdown",
   "metadata": {},
   "source": [
    "# Overview\n",
    "\n",
    "Bokeh is actually composed of two library components.\n",
    "\n",
    "The first component is a JavaScript library, BokehJS, that runs in the browser. This library is responsible for all of the rendering and user interaction. Its input is a collection of declarative JSON objects that comprise a “scenegraph”. The objects in this scenegraph describe everything that BokehJS should handle: what plots and widgets are present and in what arrangement, what tools and renderers and axes the plots will have, etc. These JSON objects are converted into Backbone objects in the browser.\n",
    "\n",
    "The second component is a library in Python (or other languages) that can generate the JSON described above. In the Python Bokeh library, this is accomplished at the lowest level by exposing a set of “model” classes that exactly mirror the set of Backbone Models that are created in the browser. Most of the models are very simple, usually consisting of a few property attributes and no methods. Model attributes can either be configured when the model is created, or later by setting attribute values on the model object:\n",
    "\n",
    "#### properties can be configured when a model object is initialized\n",
    "```python\n",
    "glyph = Rect(x=\"x\", y=\"y2\", w=10, h=20, line_color=None)\n",
    "```\n",
    "\n",
    "#### or by assigning values to attributes on the model later\n",
    "```python\n",
    "glyph.fill_alpha = 0.5\n",
    "glyph.fill_color = \"navy\"\n",
    "```\n",
    "\n",
    "These methods of configuration work in general for all Bokeh models. Because of that, and because all Bokeh interfaces ultimately produce collections of Bokeh models, styling and configuring plots and widgets is accomplished in basically the same way, regardless of which interface is used.\n",
    "\n",
    "Using the bokeh.models interface provides complete control over how Bokeh plots and Bokeh widgets are put together and configured. However, it provides no help with assembling the models in meaningful or correct ways. It is entirely up to developers to build the scenegraph “by hand”. \n",
    "\n",
    "For more information about the details of all Bokeh models, consult the [Reference Guide](http://bokeh.pydata.org/en/latest/docs/reference.html)."
   ]
  },
  {
   "cell_type": "markdown",
   "metadata": {
    "collapsed": true
   },
   "source": [
    "# Walkthrough\n",
    "\n",
    "Let's try to reproduce this NYTimes interactive chart [Usain Bolt vs. 116 years of Olympic sprinters](http://www.nytimes.com/interactive/2012/08/05/sports/olympics/the-100-meter-dash-one-race-every-medalist-ever.html) using the `bokeh.models` interface."
   ]
  },
  {
   "cell_type": "markdown",
   "metadata": {},
   "source": [
    "The first thing we need is to get the data. The data for this chart is located in the ``bokeh.sampledata`` module as a Pandas DataFrame. You can see the first ten rows below:"
   ]
  },
  {
   "cell_type": "code",
   "execution_count": 1,
   "metadata": {
    "collapsed": false
   },
   "outputs": [
    {
     "data": {
      "text/html": [
       "<div>\n",
       "<table border=\"1\" class=\"dataframe\">\n",
       "  <thead>\n",
       "    <tr style=\"text-align: right;\">\n",
       "      <th></th>\n",
       "      <th>Name</th>\n",
       "      <th>Country</th>\n",
       "      <th>Medal</th>\n",
       "      <th>Time</th>\n",
       "      <th>Year</th>\n",
       "    </tr>\n",
       "  </thead>\n",
       "  <tbody>\n",
       "    <tr>\n",
       "      <th>0</th>\n",
       "      <td>Usain Bolt</td>\n",
       "      <td>JAM</td>\n",
       "      <td>GOLD</td>\n",
       "      <td>9.63</td>\n",
       "      <td>2012</td>\n",
       "    </tr>\n",
       "    <tr>\n",
       "      <th>1</th>\n",
       "      <td>Yohan Blake</td>\n",
       "      <td>JAM</td>\n",
       "      <td>SILVER</td>\n",
       "      <td>9.75</td>\n",
       "      <td>2012</td>\n",
       "    </tr>\n",
       "    <tr>\n",
       "      <th>2</th>\n",
       "      <td>Justin Gatlin</td>\n",
       "      <td>USA</td>\n",
       "      <td>BRONZE</td>\n",
       "      <td>9.79</td>\n",
       "      <td>2012</td>\n",
       "    </tr>\n",
       "    <tr>\n",
       "      <th>3</th>\n",
       "      <td>Usain Bolt</td>\n",
       "      <td>JAM</td>\n",
       "      <td>GOLD</td>\n",
       "      <td>9.69</td>\n",
       "      <td>2008</td>\n",
       "    </tr>\n",
       "    <tr>\n",
       "      <th>4</th>\n",
       "      <td>Richard Thompson</td>\n",
       "      <td>TRI</td>\n",
       "      <td>SILVER</td>\n",
       "      <td>9.89</td>\n",
       "      <td>2008</td>\n",
       "    </tr>\n",
       "    <tr>\n",
       "      <th>5</th>\n",
       "      <td>Walter Dix</td>\n",
       "      <td>USA</td>\n",
       "      <td>BRONZE</td>\n",
       "      <td>9.91</td>\n",
       "      <td>2008</td>\n",
       "    </tr>\n",
       "    <tr>\n",
       "      <th>6</th>\n",
       "      <td>Justin Gatlin</td>\n",
       "      <td>USA</td>\n",
       "      <td>GOLD</td>\n",
       "      <td>9.85</td>\n",
       "      <td>2004</td>\n",
       "    </tr>\n",
       "    <tr>\n",
       "      <th>7</th>\n",
       "      <td>Francis Obikwelu</td>\n",
       "      <td>POR</td>\n",
       "      <td>SILVER</td>\n",
       "      <td>9.86</td>\n",
       "      <td>2004</td>\n",
       "    </tr>\n",
       "    <tr>\n",
       "      <th>8</th>\n",
       "      <td>Maurice Greene</td>\n",
       "      <td>USA</td>\n",
       "      <td>BRONZE</td>\n",
       "      <td>9.87</td>\n",
       "      <td>2004</td>\n",
       "    </tr>\n",
       "    <tr>\n",
       "      <th>9</th>\n",
       "      <td>Maurice Greene</td>\n",
       "      <td>USA</td>\n",
       "      <td>GOLD</td>\n",
       "      <td>9.87</td>\n",
       "      <td>2000</td>\n",
       "    </tr>\n",
       "  </tbody>\n",
       "</table>\n",
       "</div>"
      ],
      "text/plain": [
       "               Name Country   Medal  Time  Year\n",
       "0        Usain Bolt     JAM    GOLD  9.63  2012\n",
       "1       Yohan Blake     JAM  SILVER  9.75  2012\n",
       "2     Justin Gatlin     USA  BRONZE  9.79  2012\n",
       "3        Usain Bolt     JAM    GOLD  9.69  2008\n",
       "4  Richard Thompson     TRI  SILVER  9.89  2008\n",
       "5        Walter Dix     USA  BRONZE  9.91  2008\n",
       "6     Justin Gatlin     USA    GOLD  9.85  2004\n",
       "7  Francis Obikwelu     POR  SILVER  9.86  2004\n",
       "8    Maurice Greene     USA  BRONZE  9.87  2004\n",
       "9    Maurice Greene     USA    GOLD  9.87  2000"
      ]
     },
     "execution_count": 1,
     "metadata": {},
     "output_type": "execute_result"
    }
   ],
   "source": [
    "from bokeh.sampledata.sprint import sprint\n",
    "sprint[:10]"
   ]
  },
  {
   "cell_type": "markdown",
   "metadata": {},
   "source": [
    "Next we import some of the Bokeh models that need to be assembled to make a plot. At a minimum, we need to start with ``Plot``, the glyphs (``Circle`` and ``Text``) we want to display, as well as ``ColumnDataSource`` to hold the data and range obejcts to set the plot bounds. "
   ]
  },
  {
   "cell_type": "code",
   "execution_count": 2,
   "metadata": {
    "collapsed": false
   },
   "outputs": [],
   "source": [
    "from bokeh.io import output_notebook, show\n",
    "from bokeh.models.glyphs import Circle, Text\n",
    "from bokeh.models import ColumnDataSource, Range1d, DataRange1d, Plot"
   ]
  },
  {
   "cell_type": "code",
   "execution_count": 3,
   "metadata": {
    "collapsed": false
   },
   "outputs": [
    {
     "data": {
      "text/html": [
       "\n",
       "    <div class=\"bk-banner\">\n",
       "        <a href=\"http://bokeh.pydata.org\" target=\"_blank\" class=\"bk-logo bk-logo-small bk-logo-notebook\"></a>\n",
       "        <span id=\"5726903e-2aa4-45fa-993d-720696f6b897\">Loading BokehJS ...</span>\n",
       "    </div>"
      ]
     },
     "metadata": {},
     "output_type": "display_data"
    },
    {
     "data": {
      "application/javascript": [
       "\n",
       "(function(global) {\n",
       "  function now() {\n",
       "    return new Date();\n",
       "  }\n",
       "\n",
       "  if (typeof (window._bokeh_onload_callbacks) === \"undefined\") {\n",
       "    window._bokeh_onload_callbacks = [];\n",
       "  }\n",
       "\n",
       "  function run_callbacks() {\n",
       "    window._bokeh_onload_callbacks.forEach(function(callback) { callback() });\n",
       "    delete window._bokeh_onload_callbacks\n",
       "    console.info(\"Bokeh: all callbacks have finished\");\n",
       "  }\n",
       "\n",
       "  function load_libs(js_urls, callback) {\n",
       "    window._bokeh_onload_callbacks.push(callback);\n",
       "    if (window._bokeh_is_loading > 0) {\n",
       "      console.log(\"Bokeh: BokehJS is being loaded, scheduling callback at\", now());\n",
       "      return null;\n",
       "    }\n",
       "    if (js_urls == null || js_urls.length === 0) {\n",
       "      run_callbacks();\n",
       "      return null;\n",
       "    }\n",
       "    console.log(\"Bokeh: BokehJS not loaded, scheduling load and callback at\", now());\n",
       "    window._bokeh_is_loading = js_urls.length;\n",
       "    for (var i = 0; i < js_urls.length; i++) {\n",
       "      var url = js_urls[i];\n",
       "      var s = document.createElement('script');\n",
       "      s.src = url;\n",
       "      s.async = false;\n",
       "      s.onreadystatechange = s.onload = function() {\n",
       "        window._bokeh_is_loading--;\n",
       "        if (window._bokeh_is_loading === 0) {\n",
       "          console.log(\"Bokeh: all BokehJS libraries loaded\");\n",
       "          run_callbacks()\n",
       "        }\n",
       "      };\n",
       "      s.onerror = function() {\n",
       "        console.warn(\"failed to load library \" + url);\n",
       "      };\n",
       "      console.log(\"Bokeh: injecting script tag for BokehJS library: \", url);\n",
       "      document.getElementsByTagName(\"head\")[0].appendChild(s);\n",
       "    }\n",
       "  };\n",
       "\n",
       "  var js_urls = ['https://cdn.pydata.org/bokeh/release/bokeh-0.11.1.min.js', 'https://cdn.pydata.org/bokeh/release/bokeh-widgets-0.11.1.min.js', 'https://cdn.pydata.org/bokeh/release/bokeh-compiler-0.11.1.min.js'];\n",
       "\n",
       "  var inline_js = [\n",
       "    function(Bokeh) {\n",
       "      Bokeh.set_log_level(\"info\");\n",
       "    },\n",
       "    \n",
       "    function(Bokeh) {\n",
       "      Bokeh.$(\"#5726903e-2aa4-45fa-993d-720696f6b897\").text(\"BokehJS successfully loaded\");\n",
       "    },\n",
       "    function(Bokeh) {\n",
       "      console.log(\"Bokeh: injecting CSS: https://cdn.pydata.org/bokeh/release/bokeh-0.11.1.min.css\");\n",
       "      Bokeh.embed.inject_css(\"https://cdn.pydata.org/bokeh/release/bokeh-0.11.1.min.css\");\n",
       "      console.log(\"Bokeh: injecting CSS: https://cdn.pydata.org/bokeh/release/bokeh-widgets-0.11.1.min.css\");\n",
       "      Bokeh.embed.inject_css(\"https://cdn.pydata.org/bokeh/release/bokeh-widgets-0.11.1.min.css\");\n",
       "    }\n",
       "  ];\n",
       "\n",
       "  function run_inline_js() {\n",
       "    for (var i = 0; i < inline_js.length; i++) {\n",
       "      inline_js[i](window.Bokeh);\n",
       "    }\n",
       "  }\n",
       "\n",
       "  if (window._bokeh_is_loading === 0) {\n",
       "    console.log(\"Bokeh: BokehJS loaded, going straight to plotting\");\n",
       "    run_inline_js();\n",
       "  } else {\n",
       "    load_libs(js_urls, function() {\n",
       "      console.log(\"Bokeh: BokehJS plotting callback run at\", now());\n",
       "      run_inline_js();\n",
       "    });\n",
       "  }\n",
       "}(this));"
      ]
     },
     "metadata": {},
     "output_type": "display_data"
    }
   ],
   "source": [
    "output_notebook()"
   ]
  },
  {
   "cell_type": "markdown",
   "metadata": {},
   "source": [
    "## Setting up Data\n",
    "\n",
    "Next we need set up all the columns we want in our column data source. Here we add a few extra columns like `MetersBack` and `SelectedName` that we will use for a `HoverTool` later."
   ]
  },
  {
   "cell_type": "code",
   "execution_count": 4,
   "metadata": {
    "collapsed": false
   },
   "outputs": [],
   "source": [
    "abbrev_to_country = {\n",
    "    \"USA\": \"United States\",\n",
    "    \"GBR\": \"Britain\",\n",
    "    \"JAM\": \"Jamaica\",\n",
    "    \"CAN\": \"Canada\",\n",
    "    \"TRI\": \"Trinidad and Tobago\",\n",
    "    \"AUS\": \"Australia\",\n",
    "    \"GER\": \"Germany\",\n",
    "    \"CUB\": \"Cuba\",\n",
    "    \"NAM\": \"Namibia\",\n",
    "    \"URS\": \"Soviet Union\",\n",
    "    \"BAR\": \"Barbados\",\n",
    "    \"BUL\": \"Bulgaria\",\n",
    "    \"HUN\": \"Hungary\",\n",
    "    \"NED\": \"Netherlands\",\n",
    "    \"NZL\": \"New Zealand\",\n",
    "    \"PAN\": \"Panama\",\n",
    "    \"POR\": \"Portugal\",\n",
    "    \"RSA\": \"South Africa\",\n",
    "    \"EUA\": \"United Team of Germany\",\n",
    "}\n",
    "\n",
    "gold_fill   = \"#efcf6d\"\n",
    "gold_line   = \"#c8a850\"\n",
    "silver_fill = \"#cccccc\"\n",
    "silver_line = \"#b0b0b1\"\n",
    "bronze_fill = \"#c59e8a\"\n",
    "bronze_line = \"#98715d\"\n",
    "\n",
    "fill_color = { \"gold\": gold_fill, \"silver\": silver_fill, \"bronze\": bronze_fill }\n",
    "line_color = { \"gold\": gold_line, \"silver\": silver_line, \"bronze\": bronze_line }\n",
    "\n",
    "def selected_name(name, medal, year):\n",
    "    return name if medal == \"gold\" and year in [1988, 1968, 1936, 1896] else None\n",
    "\n",
    "t0 = sprint.Time[0]\n",
    "\n",
    "sprint[\"Abbrev\"]       = sprint.Country\n",
    "sprint[\"Country\"]      = sprint.Abbrev.map(lambda abbr: abbrev_to_country[abbr])\n",
    "sprint[\"Medal\"]        = sprint.Medal.map(lambda medal: medal.lower())\n",
    "sprint[\"Speed\"]        = 100.0/sprint.Time\n",
    "sprint[\"MetersBack\"]   = 100.0*(1.0 - t0/sprint.Time)\n",
    "sprint[\"MedalFill\"]    = sprint.Medal.map(lambda medal: fill_color[medal])\n",
    "sprint[\"MedalLine\"]    = sprint.Medal.map(lambda medal: line_color[medal])\n",
    "sprint[\"SelectedName\"] = sprint[[\"Name\", \"Medal\", \"Year\"]].apply(tuple, axis=1).map(lambda args: selected_name(*args))\n",
    "\n",
    "source = ColumnDataSource(sprint)"
   ]
  },
  {
   "cell_type": "markdown",
   "metadata": {},
   "source": [
    "## Building in stages\n",
    "\n",
    "Let's build up our plot in stages, stopping to check the output along the way to see how things look.\n",
    "\n",
    "As we go through, note the use of these three methods `Plot`, `Chart`, and `Figure` all have:\n",
    "\n",
    "* `p.add_glyph`\n",
    "* `p.add_tools`\n",
    "* `p.add_layout`\n",
    "\n",
    "These are actually small convenience methods that help us add models to `Plot` objects in the correct way."
   ]
  },
  {
   "cell_type": "markdown",
   "metadata": {},
   "source": [
    "### Basic Plot with Just Glyphs\n",
    "\n",
    "First we create just the `Plot` with a title and some basic styling applied, as well add a few `Circle` glyphs for the actual race data. To manually configure glyphs, we first create a glyph object (e.g., `Text` or `Circle`) that is configured with the visual properties we want as well as the data columns to use for coordinates, etc. Then we call `plot.add_glyph` with the glyph, and the data source that the glyph should use. "
   ]
  },
  {
   "cell_type": "code",
   "execution_count": 5,
   "metadata": {
    "collapsed": false
   },
   "outputs": [],
   "source": [
    "plot_options = dict(plot_width=800, plot_height=480, toolbar_location=None, \n",
    "                    outline_line_color=None, title = \"Usain Bolt vs. 116 years of Olympic sprinters\")"
   ]
  },
  {
   "cell_type": "code",
   "execution_count": 6,
   "metadata": {
    "collapsed": false
   },
   "outputs": [],
   "source": [
    "radius = dict(value=5, units=\"screen\")\n",
    "medal_glyph = Circle(x=\"MetersBack\", y=\"Year\", radius=radius, fill_color=\"MedalFill\", \n",
    "                     line_color=\"MedalLine\", fill_alpha=0.5)\n",
    "\n",
    "athlete_glyph = Text(x=\"MetersBack\", y=\"Year\", x_offset=10, text=\"SelectedName\",\n",
    "    text_align=\"left\", text_baseline=\"middle\", text_font_size=\"9pt\")\n",
    "\n",
    "no_olympics_glyph = Text(x=7.5, y=1942, text=[\"No Olympics in 1940 or 1944\"],\n",
    "    text_align=\"center\", text_baseline=\"middle\",\n",
    "    text_font_size=\"9pt\", text_font_style=\"italic\", text_color=\"silver\")\n"
   ]
  },
  {
   "cell_type": "code",
   "execution_count": 7,
   "metadata": {
    "collapsed": false
   },
   "outputs": [
    {
     "data": {
      "text/plain": [
       "<bokeh.models.renderers.GlyphRenderer at 0x10ce98470>"
      ]
     },
     "execution_count": 7,
     "metadata": {},
     "output_type": "execute_result"
    }
   ],
   "source": [
    "xdr = Range1d(start=sprint.MetersBack.max()+2, end=0)  # +2 is for padding\n",
    "ydr = DataRange1d(range_padding=0.05)  \n",
    "\n",
    "plot = Plot(x_range=xdr, y_range=ydr, **plot_options)\n",
    "plot.add_glyph(source, medal_glyph)\n",
    "plot.add_glyph(source, athlete_glyph)\n",
    "plot.add_glyph(no_olympics_glyph)"
   ]
  },
  {
   "cell_type": "code",
   "execution_count": 8,
   "metadata": {
    "collapsed": false
   },
   "outputs": [
    {
     "data": {
      "text/html": [
       "\n",
       "\n",
       "    <div class=\"plotdiv\" id=\"81f56c7e-be5a-4c08-85ea-2175a1331efc\"></div>\n",
       "<script type=\"text/javascript\">\n",
       "  \n",
       "  (function(global) {\n",
       "    function now() {\n",
       "      return new Date();\n",
       "    }\n",
       "  \n",
       "    if (typeof (window._bokeh_onload_callbacks) === \"undefined\") {\n",
       "      window._bokeh_onload_callbacks = [];\n",
       "    }\n",
       "  \n",
       "    function run_callbacks() {\n",
       "      window._bokeh_onload_callbacks.forEach(function(callback) { callback() });\n",
       "      delete window._bokeh_onload_callbacks\n",
       "      console.info(\"Bokeh: all callbacks have finished\");\n",
       "    }\n",
       "  \n",
       "    function load_libs(js_urls, callback) {\n",
       "      window._bokeh_onload_callbacks.push(callback);\n",
       "      if (window._bokeh_is_loading > 0) {\n",
       "        console.log(\"Bokeh: BokehJS is being loaded, scheduling callback at\", now());\n",
       "        return null;\n",
       "      }\n",
       "      if (js_urls == null || js_urls.length === 0) {\n",
       "        run_callbacks();\n",
       "        return null;\n",
       "      }\n",
       "      console.log(\"Bokeh: BokehJS not loaded, scheduling load and callback at\", now());\n",
       "      window._bokeh_is_loading = js_urls.length;\n",
       "      for (var i = 0; i < js_urls.length; i++) {\n",
       "        var url = js_urls[i];\n",
       "        var s = document.createElement('script');\n",
       "        s.src = url;\n",
       "        s.async = false;\n",
       "        s.onreadystatechange = s.onload = function() {\n",
       "          window._bokeh_is_loading--;\n",
       "          if (window._bokeh_is_loading === 0) {\n",
       "            console.log(\"Bokeh: all BokehJS libraries loaded\");\n",
       "            run_callbacks()\n",
       "          }\n",
       "        };\n",
       "        s.onerror = function() {\n",
       "          console.warn(\"failed to load library \" + url);\n",
       "        };\n",
       "        console.log(\"Bokeh: injecting script tag for BokehJS library: \", url);\n",
       "        document.getElementsByTagName(\"head\")[0].appendChild(s);\n",
       "      }\n",
       "    };var element = document.getElementById(\"81f56c7e-be5a-4c08-85ea-2175a1331efc\");\n",
       "    if (element == null) {\n",
       "      console.log(\"Bokeh: ERROR: autoload.js configured with elementid '81f56c7e-be5a-4c08-85ea-2175a1331efc' but no matching script tag was found. \")\n",
       "      return false;\n",
       "    }\n",
       "  \n",
       "    var js_urls = [];\n",
       "  \n",
       "    var inline_js = [\n",
       "      function(Bokeh) {\n",
       "        Bokeh.$(function() {\n",
       "            var docs_json = {\"4be486fb-a1ba-4747-b46a-3abb84a58985\":{\"roots\":{\"references\":[{\"attributes\":{\"text\":{\"value\":\"No Olympics in 1940 or 1944\"},\"text_align\":\"center\",\"text_baseline\":\"middle\",\"text_color\":{\"value\":\"silver\"},\"text_font_size\":{\"value\":\"9pt\"},\"text_font_style\":\"italic\",\"x\":{\"value\":7.5},\"y\":{\"value\":1942}},\"id\":\"5e18d399-8bc3-4d3b-95b2-2ebf157246f1\",\"type\":\"Text\"},{\"attributes\":{\"outline_line_color\":{\"value\":null},\"plot_height\":480,\"plot_width\":800,\"renderers\":[{\"id\":\"28ed016a-e0b5-49de-a145-299f828e6381\",\"type\":\"GlyphRenderer\"},{\"id\":\"20ee78b6-7514-4489-b94a-3e45bb5c0fac\",\"type\":\"GlyphRenderer\"},{\"id\":\"fae1f1c3-d1e6-4d97-8523-17c06d7cde88\",\"type\":\"GlyphRenderer\"}],\"title\":\"Usain Bolt vs. 116 years of Olympic sprinters\",\"tool_events\":{\"id\":\"90f263a0-7b27-41fc-94c7-60a844dff232\",\"type\":\"ToolEvents\"},\"toolbar_location\":null,\"x_range\":{\"id\":\"3c6fa8f4-49ff-4e05-8d14-e47bd7137134\",\"type\":\"Range1d\"},\"y_range\":{\"id\":\"d631417c-e67d-4d7d-a032-b1f9832eaa83\",\"type\":\"DataRange1d\"}},\"id\":\"2973184f-de31-4043-9f42-3d75eed1126c\",\"type\":\"Plot\"},{\"attributes\":{\"data_source\":{\"id\":\"7db76b2b-b233-48ca-b912-21eefe8eeab4\",\"type\":\"ColumnDataSource\"},\"glyph\":{\"id\":\"3bab5b94-14ca-4a41-9210-df84097f9cc1\",\"type\":\"Circle\"},\"hover_glyph\":null,\"nonselection_glyph\":null,\"selection_glyph\":null},\"id\":\"28ed016a-e0b5-49de-a145-299f828e6381\",\"type\":\"GlyphRenderer\"},{\"attributes\":{\"text\":{\"field\":\"SelectedName\"},\"text_baseline\":\"middle\",\"text_font_size\":{\"value\":\"9pt\"},\"x\":{\"field\":\"MetersBack\"},\"x_offset\":{\"value\":10},\"y\":{\"field\":\"Year\"}},\"id\":\"e4febbcc-0fcc-4b6d-9179-2e753bd4cfcf\",\"type\":\"Text\"},{\"attributes\":{\"data_source\":{\"id\":\"7db76b2b-b233-48ca-b912-21eefe8eeab4\",\"type\":\"ColumnDataSource\"},\"glyph\":{\"id\":\"e4febbcc-0fcc-4b6d-9179-2e753bd4cfcf\",\"type\":\"Text\"},\"hover_glyph\":null,\"nonselection_glyph\":null,\"selection_glyph\":null},\"id\":\"20ee78b6-7514-4489-b94a-3e45bb5c0fac\",\"type\":\"GlyphRenderer\"},{\"attributes\":{\"fill_alpha\":{\"value\":0.5},\"fill_color\":{\"field\":\"MedalFill\"},\"line_color\":{\"field\":\"MedalLine\"},\"radius\":{\"units\":\"screen\",\"value\":5},\"x\":{\"field\":\"MetersBack\"},\"y\":{\"field\":\"Year\"}},\"id\":\"3bab5b94-14ca-4a41-9210-df84097f9cc1\",\"type\":\"Circle\"},{\"attributes\":{\"data_source\":{\"id\":\"3124cb2f-24e0-419d-aa02-b9d6c81ccad6\",\"type\":\"ColumnDataSource\"},\"glyph\":{\"id\":\"5e18d399-8bc3-4d3b-95b2-2ebf157246f1\",\"type\":\"Text\"},\"hover_glyph\":null,\"nonselection_glyph\":null,\"selection_glyph\":null},\"id\":\"fae1f1c3-d1e6-4d97-8523-17c06d7cde88\",\"type\":\"GlyphRenderer\"},{\"attributes\":{\"callback\":null,\"range_padding\":0.05},\"id\":\"d631417c-e67d-4d7d-a032-b1f9832eaa83\",\"type\":\"DataRange1d\"},{\"attributes\":{\"callback\":null,\"column_names\":[\"Country\",\"Time\",\"Medal\",\"MedalFill\",\"MedalLine\",\"Year\",\"Name\",\"SelectedName\",\"Speed\",\"MetersBack\",\"Abbrev\",\"index\"],\"data\":{\"Abbrev\":[\"JAM\",\"JAM\",\"USA\",\"JAM\",\"TRI\",\"USA\",\"USA\",\"POR\",\"USA\",\"USA\",\"TRI\",\"BAR\",\"CAN\",\"NAM\",\"TRI\",\"GBR\",\"NAM\",\"USA\",\"USA\",\"GBR\",\"USA\",\"USA\",\"USA\",\"CAN\",\"GBR\",\"CUB\",\"BUL\",\"TRI\",\"JAM\",\"URS\",\"URS\",\"USA\",\"JAM\",\"USA\",\"JAM\",\"USA\",\"USA\",\"CUB\",\"CAN\",\"EUA\",\"USA\",\"GBR\",\"USA\",\"USA\",\"AUS\",\"USA\",\"JAM\",\"GBR\",\"USA\",\"USA\",\"PAN\",\"USA\",\"USA\",\"NED\",\"USA\",\"USA\",\"GER\",\"CAN\",\"GBR\",\"GER\",\"GBR\",\"USA\",\"NZL\",\"USA\",\"USA\",\"GBR\",\"USA\",\"USA\",\"USA\",\"RSA\",\"USA\",\"CAN\",\"USA\",\"USA\",\"AUS\",\"USA\",\"USA\",\"USA\",\"USA\",\"USA\",\"AUS\",\"USA\",\"GER\",\"HUN\",\"USA\"],\"Country\":[\"Jamaica\",\"Jamaica\",\"United States\",\"Jamaica\",\"Trinidad and Tobago\",\"United States\",\"United States\",\"Portugal\",\"United States\",\"United States\",\"Trinidad and Tobago\",\"Barbados\",\"Canada\",\"Namibia\",\"Trinidad and Tobago\",\"Britain\",\"Namibia\",\"United States\",\"United States\",\"Britain\",\"United States\",\"United States\",\"United States\",\"Canada\",\"Britain\",\"Cuba\",\"Bulgaria\",\"Trinidad and Tobago\",\"Jamaica\",\"Soviet Union\",\"Soviet Union\",\"United States\",\"Jamaica\",\"United States\",\"Jamaica\",\"United States\",\"United States\",\"Cuba\",\"Canada\",\"United Team of Germany\",\"United States\",\"Britain\",\"United States\",\"United States\",\"Australia\",\"United States\",\"Jamaica\",\"Britain\",\"United States\",\"United States\",\"Panama\",\"United States\",\"United States\",\"Netherlands\",\"United States\",\"United States\",\"Germany\",\"Canada\",\"Britain\",\"Germany\",\"Britain\",\"United States\",\"New Zealand\",\"United States\",\"United States\",\"Britain\",\"United States\",\"United States\",\"United States\",\"South Africa\",\"United States\",\"Canada\",\"United States\",\"United States\",\"Australia\",\"United States\",\"United States\",\"United States\",\"United States\",\"United States\",\"Australia\",\"United States\",\"Germany\",\"Hungary\",\"United States\"],\"Medal\":[\"gold\",\"silver\",\"bronze\",\"gold\",\"silver\",\"bronze\",\"gold\",\"silver\",\"bronze\",\"gold\",\"silver\",\"bronze\",\"gold\",\"silver\",\"bronze\",\"gold\",\"silver\",\"bronze\",\"gold\",\"silver\",\"bronze\",\"gold\",\"silver\",\"bronze\",\"gold\",\"silver\",\"bronze\",\"gold\",\"silver\",\"bronze\",\"gold\",\"silver\",\"bronze\",\"gold\",\"silver\",\"bronze\",\"gold\",\"silver\",\"bronze\",\"gold\",\"silver\",\"bronze\",\"gold\",\"silver\",\"bronze\",\"gold\",\"silver\",\"bronze\",\"gold\",\"silver\",\"bronze\",\"gold\",\"silver\",\"bronze\",\"gold\",\"silver\",\"bronze\",\"gold\",\"silver\",\"bronze\",\"gold\",\"silver\",\"bronze\",\"gold\",\"silver\",\"bronze\",\"gold\",\"silver\",\"bronze\",\"gold\",\"silver\",\"bronze\",\"gold\",\"silver\",\"bronze\",\"gold\",\"silver\",\"bronze\",\"gold\",\"silver\",\"bronze\",\"gold\",\"silver\",\"bronze\",\"bronze\"],\"MedalFill\":[\"#efcf6d\",\"#cccccc\",\"#c59e8a\",\"#efcf6d\",\"#cccccc\",\"#c59e8a\",\"#efcf6d\",\"#cccccc\",\"#c59e8a\",\"#efcf6d\",\"#cccccc\",\"#c59e8a\",\"#efcf6d\",\"#cccccc\",\"#c59e8a\",\"#efcf6d\",\"#cccccc\",\"#c59e8a\",\"#efcf6d\",\"#cccccc\",\"#c59e8a\",\"#efcf6d\",\"#cccccc\",\"#c59e8a\",\"#efcf6d\",\"#cccccc\",\"#c59e8a\",\"#efcf6d\",\"#cccccc\",\"#c59e8a\",\"#efcf6d\",\"#cccccc\",\"#c59e8a\",\"#efcf6d\",\"#cccccc\",\"#c59e8a\",\"#efcf6d\",\"#cccccc\",\"#c59e8a\",\"#efcf6d\",\"#cccccc\",\"#c59e8a\",\"#efcf6d\",\"#cccccc\",\"#c59e8a\",\"#efcf6d\",\"#cccccc\",\"#c59e8a\",\"#efcf6d\",\"#cccccc\",\"#c59e8a\",\"#efcf6d\",\"#cccccc\",\"#c59e8a\",\"#efcf6d\",\"#cccccc\",\"#c59e8a\",\"#efcf6d\",\"#cccccc\",\"#c59e8a\",\"#efcf6d\",\"#cccccc\",\"#c59e8a\",\"#efcf6d\",\"#cccccc\",\"#c59e8a\",\"#efcf6d\",\"#cccccc\",\"#c59e8a\",\"#efcf6d\",\"#cccccc\",\"#c59e8a\",\"#efcf6d\",\"#cccccc\",\"#c59e8a\",\"#efcf6d\",\"#cccccc\",\"#c59e8a\",\"#efcf6d\",\"#cccccc\",\"#c59e8a\",\"#efcf6d\",\"#cccccc\",\"#c59e8a\",\"#c59e8a\"],\"MedalLine\":[\"#c8a850\",\"#b0b0b1\",\"#98715d\",\"#c8a850\",\"#b0b0b1\",\"#98715d\",\"#c8a850\",\"#b0b0b1\",\"#98715d\",\"#c8a850\",\"#b0b0b1\",\"#98715d\",\"#c8a850\",\"#b0b0b1\",\"#98715d\",\"#c8a850\",\"#b0b0b1\",\"#98715d\",\"#c8a850\",\"#b0b0b1\",\"#98715d\",\"#c8a850\",\"#b0b0b1\",\"#98715d\",\"#c8a850\",\"#b0b0b1\",\"#98715d\",\"#c8a850\",\"#b0b0b1\",\"#98715d\",\"#c8a850\",\"#b0b0b1\",\"#98715d\",\"#c8a850\",\"#b0b0b1\",\"#98715d\",\"#c8a850\",\"#b0b0b1\",\"#98715d\",\"#c8a850\",\"#b0b0b1\",\"#98715d\",\"#c8a850\",\"#b0b0b1\",\"#98715d\",\"#c8a850\",\"#b0b0b1\",\"#98715d\",\"#c8a850\",\"#b0b0b1\",\"#98715d\",\"#c8a850\",\"#b0b0b1\",\"#98715d\",\"#c8a850\",\"#b0b0b1\",\"#98715d\",\"#c8a850\",\"#b0b0b1\",\"#98715d\",\"#c8a850\",\"#b0b0b1\",\"#98715d\",\"#c8a850\",\"#b0b0b1\",\"#98715d\",\"#c8a850\",\"#b0b0b1\",\"#98715d\",\"#c8a850\",\"#b0b0b1\",\"#98715d\",\"#c8a850\",\"#b0b0b1\",\"#98715d\",\"#c8a850\",\"#b0b0b1\",\"#98715d\",\"#c8a850\",\"#b0b0b1\",\"#98715d\",\"#c8a850\",\"#b0b0b1\",\"#98715d\",\"#98715d\"],\"MetersBack\":[0.0,1.2307692307692242,1.6343207354443168,0.6191950464396134,2.628918099089983,2.825428859737633,2.2335025380710527,2.33265720081135,2.4316109422492294,2.4316109422492294,3.6036036036036,4.083665338645403,2.1341463414634054,2.628918099089983,2.7272727272727226,3.3132530120481896,3.8922155688622673,4.083665338645403,2.923387096774188,3.4102306920762215,3.6036036036036,3.6036036036036,5.49558390578998,5.772994129158516,6.048780487804873,6.048780487804873,7.314725697786328,4.274353876739556,4.46428571428571,5.02958579881656,5.02958579881656,5.957031249999989,6.776379477250716,3.2160804020100353,4.083665338645403,4.369414101290959,3.699999999999992,5.588235294117638,5.588235294117638,5.588235294117638,5.588235294117638,6.504854368932033,8.285714285714274,8.285714285714274,9.150943396226408,7.40384615384615,7.40384615384615,7.40384615384615,6.504854368932033,7.40384615384615,7.40384615384615,6.504854368932033,7.40384615384615,8.285714285714274,6.504854368932033,6.504854368932033,7.40384615384615,10.833333333333329,11.651376146788984,11.651376146788984,9.150943396226408,10.833333333333329,11.651376146788984,10.833333333333329,11.651376146788984,11.651376146788984,10.833333333333329,11.651376146788984,11.651376146788984,10.833333333333329,12.454545454545451,12.454545454545451,14.017857142857126,14.778761061946899,14.778761061946899,12.454545454545451,14.017857142857126,14.017857142857126,12.454545454545451,13.24324324324323,14.017857142857126,19.74999999999999,21.065573770491795,23.571428571428566,23.571428571428566],\"Name\":[\"Usain Bolt\",\"Yohan Blake\",\"Justin Gatlin\",\"Usain Bolt\",\"Richard Thompson\",\"Walter Dix\",\"Justin Gatlin\",\"Francis Obikwelu\",\"Maurice Greene\",\"Maurice Greene\",\"Ato Boldon\",\"Obadele Thompson\",\"Donovan Bailey\",\"Frankie Fredericks\",\"Ato Boldon\",\"Linford Christie\",\"Frankie Fredericks\",\"Dennis Mitchell\",\"Carl Lewis\",\"Linford Christie\",\"Calvin Smith\",\"Carl Lewis\",\"Sam Graddy\",\"Ben Johnson\",\"Allan Wells\",\"Silvio Leonard Tartabull\",\"Petar Petrov\",\"Hasely Crawford\",\"Donald Quarrie\",\"Valery Borzov\",\"Valery Borzov\",\"Robert Taylor\",\"Lennox Miller\",\"Jim Hines\",\"Lennox Miller\",\"Charles Greene\",\"Bob Hayes\",\"Enrique Figuerola Camue\",\"Harry Jerome\",\"Armin Hary\",\"David Sime\",\"Peter Radford\",\"Bobby Joe Morrow\",\"W. Thane Baker\",\"Hector Hogan\",\"Lindy Remigino\",\"Herbert McKenley\",\"E. McDonald Bailey\",\"W. Harrison Dillard\",\"H. Norwood \\\"Barney\\\" Ewell\",\"Lloyd LaBeach\",\"Jesse Owens\",\"Ralph Metcalfe\",\"Martinus Osendarp\",\"T. \\\"Eddie\\\" Tolan\",\"Ralph Metcalfe\",\"Arthur Jonath\",\"Percy Williams\",\"John \\\"Jack\\\" London\",\"Georg Lammers\",\"Harold Abrahams\",\"Jackson Scholz\",\"Arthur Porritt\",\"Charles Paddock\",\"Morris Kirksey\",\"Harry Edward\",\"Ralph Craig\",\"Alvah Meyer\",\"Donald Lippincott\",\"Reginald Walker\",\"James Rector\",\"Robert Kerr\",\"Charles \\\"Archie\\\" Hahn\",\"Fay Moulton\",\"Nigel Barker\",\"Charles \\\"Archie\\\" Hahn\",\"Nathaniel Cartmell\",\"Bill Hogenson\",\"Frank Jarvis\",\"J. Walter Tewksbury\",\"Stanley Rowley\",\"Thomas Burke\",\"Fritz Hofmann\",\"Alojz Sokol\",\"Francis Lane\"],\"SelectedName\":[null,null,null,null,null,null,null,null,null,null,null,null,null,null,null,null,null,null,\"Carl Lewis\",null,null,null,null,null,null,null,null,null,null,null,null,null,null,\"Jim Hines\",null,null,null,null,null,null,null,null,null,null,null,null,null,null,null,null,null,\"Jesse Owens\",null,null,null,null,null,null,null,null,null,null,null,null,null,null,null,null,null,null,null,null,null,null,null,null,null,null,null,null,null,\"Thomas Burke\",null,null,null],\"Speed\":[10.384215991692626,10.256410256410257,10.21450459652707,10.319917440660475,10.111223458038422,10.090817356205852,10.152284263959391,10.141987829614605,10.131712259371835,10.131712259371835,10.01001001001001,9.9601593625498,10.16260162601626,10.111223458038422,10.1010101010101,10.04016064257028,9.980039920159681,9.9601593625498,10.080645161290322,10.030090270812437,10.01001001001001,10.01001001001001,9.813542688910697,9.784735812133071,9.75609756097561,9.75609756097561,9.624639076034649,9.940357852882704,9.920634920634921,9.861932938856015,9.861932938856015,9.765625,9.68054211035818,10.050251256281408,9.9601593625498,9.930486593843098,10.0,9.803921568627452,9.803921568627452,9.803921568627452,9.803921568627452,9.70873786407767,9.523809523809524,9.523809523809524,9.433962264150944,9.615384615384615,9.615384615384615,9.615384615384615,9.70873786407767,9.615384615384615,9.615384615384615,9.70873786407767,9.615384615384615,9.523809523809524,9.70873786407767,9.70873786407767,9.615384615384615,9.25925925925926,9.174311926605505,9.174311926605505,9.433962264150944,9.25925925925926,9.174311926605505,9.25925925925926,9.174311926605505,9.174311926605505,9.25925925925926,9.174311926605505,9.174311926605505,9.25925925925926,9.090909090909092,9.090909090909092,8.928571428571429,8.849557522123893,8.849557522123893,9.090909090909092,8.928571428571429,8.928571428571429,9.090909090909092,9.00900900900901,8.928571428571429,8.333333333333334,8.196721311475411,7.936507936507937,7.936507936507937],\"Time\":[9.63,9.75,9.79,9.69,9.89,9.91,9.85,9.86,9.87,9.87,9.99,10.04,9.84,9.89,9.9,9.96,10.02,10.04,9.92,9.97,9.99,9.99,10.19,10.22,10.25,10.25,10.39,10.06,10.08,10.14,10.14,10.24,10.33,9.95,10.04,10.07,10.0,10.2,10.2,10.2,10.2,10.3,10.5,10.5,10.6,10.4,10.4,10.4,10.3,10.4,10.4,10.3,10.4,10.5,10.3,10.3,10.4,10.8,10.9,10.9,10.6,10.8,10.9,10.8,10.9,10.9,10.8,10.9,10.9,10.8,11.0,11.0,11.2,11.3,11.3,11.0,11.2,11.2,11.0,11.1,11.2,12.0,12.2,12.6,12.6],\"Year\":[2012,2012,2012,2008,2008,2008,2004,2004,2004,2000,2000,2000,1996,1996,1996,1992,1992,1992,1988,1988,1988,1984,1984,1984,1980,1980,1980,1976,1976,1976,1972,1972,1972,1968,1968,1968,1964,1964,1964,1960,1960,1960,1956,1956,1956,1952,1952,1952,1948,1948,1948,1936,1936,1936,1932,1932,1932,1928,1928,1928,1924,1924,1924,1920,1920,1920,1912,1912,1912,1908,1908,1908,1906,1906,1906,1904,1904,1904,1900,1900,1900,1896,1896,1896,1896],\"index\":[0,1,2,3,4,5,6,7,8,9,10,11,12,13,14,15,16,17,18,19,20,21,22,23,24,25,26,27,28,29,30,31,32,33,34,35,36,37,38,39,40,41,42,43,44,45,46,47,48,49,50,51,52,53,54,55,56,57,58,59,60,61,62,63,64,65,66,67,68,69,70,71,72,73,74,75,76,77,78,79,80,81,82,83,84]}},\"id\":\"7db76b2b-b233-48ca-b912-21eefe8eeab4\",\"type\":\"ColumnDataSource\"},{\"attributes\":{},\"id\":\"90f263a0-7b27-41fc-94c7-60a844dff232\",\"type\":\"ToolEvents\"},{\"attributes\":{\"callback\":null},\"id\":\"3124cb2f-24e0-419d-aa02-b9d6c81ccad6\",\"type\":\"ColumnDataSource\"},{\"attributes\":{\"callback\":null,\"end\":0,\"start\":25.571428571428566},\"id\":\"3c6fa8f4-49ff-4e05-8d14-e47bd7137134\",\"type\":\"Range1d\"}],\"root_ids\":[\"2973184f-de31-4043-9f42-3d75eed1126c\"]},\"title\":\"Bokeh Application\",\"version\":\"0.11.1\"}};\n",
       "            var render_items = [{\"docid\":\"4be486fb-a1ba-4747-b46a-3abb84a58985\",\"elementid\":\"81f56c7e-be5a-4c08-85ea-2175a1331efc\",\"modelid\":\"2973184f-de31-4043-9f42-3d75eed1126c\",\"notebook_comms_target\":\"3fae75c7-62f2-4f8a-85d6-7bbffee26bf6\"}];\n",
       "            \n",
       "            Bokeh.embed.embed_items(docs_json, render_items);\n",
       "        });\n",
       "      },\n",
       "      function(Bokeh) {\n",
       "      }\n",
       "    ];\n",
       "  \n",
       "    function run_inline_js() {\n",
       "      for (var i = 0; i < inline_js.length; i++) {\n",
       "        inline_js[i](window.Bokeh);\n",
       "      }\n",
       "    }\n",
       "  \n",
       "    if (window._bokeh_is_loading === 0) {\n",
       "      console.log(\"Bokeh: BokehJS loaded, going straight to plotting\");\n",
       "      run_inline_js();\n",
       "    } else {\n",
       "      load_libs(js_urls, function() {\n",
       "        console.log(\"Bokeh: BokehJS plotting callback run at\", now());\n",
       "        run_inline_js();\n",
       "      });\n",
       "    }\n",
       "  }(this));\n",
       "</script>"
      ]
     },
     "metadata": {},
     "output_type": "display_data"
    },
    {
     "data": {
      "text/html": [
       "<p><code>&lt;Bokeh Notebook handle for <strong>In[8]</strong>&gt;</code></p>"
      ],
      "text/plain": [
       "<bokeh.io._CommsHandle at 0x10ce94198>"
      ]
     },
     "execution_count": 8,
     "metadata": {},
     "output_type": "execute_result"
    }
   ],
   "source": [
    "show(plot)"
   ]
  },
  {
   "cell_type": "markdown",
   "metadata": {},
   "source": [
    "## Adding Axes and Grids\n",
    "\n",
    "Next we add in models for the `Axis` and `Grids` that we would like to see. Since we want to exert more control over the appearance, we can choose specific tickers for the axes models to use (`SingleIntervalTicker` in this case). We add these guides to the plot using the `plot.add_layout` method. "
   ]
  },
  {
   "cell_type": "code",
   "execution_count": 9,
   "metadata": {
    "collapsed": false
   },
   "outputs": [],
   "source": [
    "from bokeh.models import Grid, LinearAxis, SingleIntervalTicker"
   ]
  },
  {
   "cell_type": "code",
   "execution_count": 10,
   "metadata": {
    "collapsed": false
   },
   "outputs": [
    {
     "data": {
      "text/plain": [
       "<bokeh.models.renderers.GlyphRenderer at 0x10ce98278>"
      ]
     },
     "execution_count": 10,
     "metadata": {},
     "output_type": "execute_result"
    }
   ],
   "source": [
    "xdr = Range1d(start=sprint.MetersBack.max()+2, end=0)  # +2 is for padding\n",
    "ydr = DataRange1d(range_padding=0.05)  \n",
    "\n",
    "plot = Plot(x_range=xdr, y_range=ydr, **plot_options)\n",
    "plot.add_glyph(source, medal_glyph)\n",
    "plot.add_glyph(source, athlete_glyph)\n",
    "plot.add_glyph(no_olympics_glyph)"
   ]
  },
  {
   "cell_type": "code",
   "execution_count": 11,
   "metadata": {
    "collapsed": true
   },
   "outputs": [],
   "source": [
    "xticker = SingleIntervalTicker(interval=5, num_minor_ticks=0)\n",
    "xaxis = LinearAxis(ticker=xticker, axis_line_color=None, major_tick_line_color=None,\n",
    "                   axis_label=\"Meters behind 2012 Bolt\", axis_label_text_font_size=\"10pt\", \n",
    "                   axis_label_text_font_style=\"bold\")\n",
    "plot.add_layout(xaxis, \"below\")\n",
    "\n",
    "xgrid = Grid(dimension=0, ticker=xaxis.ticker, grid_line_dash=\"dashed\")\n",
    "plot.add_layout(xgrid)\n",
    "\n",
    "yticker = SingleIntervalTicker(interval=12, num_minor_ticks=0)\n",
    "yaxis = LinearAxis(ticker=yticker, major_tick_in=-5, major_tick_out=10)\n",
    "plot.add_layout(yaxis, \"right\")"
   ]
  },
  {
   "cell_type": "code",
   "execution_count": 12,
   "metadata": {
    "collapsed": false
   },
   "outputs": [
    {
     "data": {
      "text/html": [
       "\n",
       "\n",
       "    <div class=\"plotdiv\" id=\"7393a095-a223-4da9-b9e3-7692ff656cd4\"></div>\n",
       "<script type=\"text/javascript\">\n",
       "  \n",
       "  (function(global) {\n",
       "    function now() {\n",
       "      return new Date();\n",
       "    }\n",
       "  \n",
       "    if (typeof (window._bokeh_onload_callbacks) === \"undefined\") {\n",
       "      window._bokeh_onload_callbacks = [];\n",
       "    }\n",
       "  \n",
       "    function run_callbacks() {\n",
       "      window._bokeh_onload_callbacks.forEach(function(callback) { callback() });\n",
       "      delete window._bokeh_onload_callbacks\n",
       "      console.info(\"Bokeh: all callbacks have finished\");\n",
       "    }\n",
       "  \n",
       "    function load_libs(js_urls, callback) {\n",
       "      window._bokeh_onload_callbacks.push(callback);\n",
       "      if (window._bokeh_is_loading > 0) {\n",
       "        console.log(\"Bokeh: BokehJS is being loaded, scheduling callback at\", now());\n",
       "        return null;\n",
       "      }\n",
       "      if (js_urls == null || js_urls.length === 0) {\n",
       "        run_callbacks();\n",
       "        return null;\n",
       "      }\n",
       "      console.log(\"Bokeh: BokehJS not loaded, scheduling load and callback at\", now());\n",
       "      window._bokeh_is_loading = js_urls.length;\n",
       "      for (var i = 0; i < js_urls.length; i++) {\n",
       "        var url = js_urls[i];\n",
       "        var s = document.createElement('script');\n",
       "        s.src = url;\n",
       "        s.async = false;\n",
       "        s.onreadystatechange = s.onload = function() {\n",
       "          window._bokeh_is_loading--;\n",
       "          if (window._bokeh_is_loading === 0) {\n",
       "            console.log(\"Bokeh: all BokehJS libraries loaded\");\n",
       "            run_callbacks()\n",
       "          }\n",
       "        };\n",
       "        s.onerror = function() {\n",
       "          console.warn(\"failed to load library \" + url);\n",
       "        };\n",
       "        console.log(\"Bokeh: injecting script tag for BokehJS library: \", url);\n",
       "        document.getElementsByTagName(\"head\")[0].appendChild(s);\n",
       "      }\n",
       "    };var element = document.getElementById(\"7393a095-a223-4da9-b9e3-7692ff656cd4\");\n",
       "    if (element == null) {\n",
       "      console.log(\"Bokeh: ERROR: autoload.js configured with elementid '7393a095-a223-4da9-b9e3-7692ff656cd4' but no matching script tag was found. \")\n",
       "      return false;\n",
       "    }\n",
       "  \n",
       "    var js_urls = [];\n",
       "  \n",
       "    var inline_js = [\n",
       "      function(Bokeh) {\n",
       "        Bokeh.$(function() {\n",
       "            var docs_json = {\"af9bf6c0-eb55-4d9d-b939-ffaf026b30f6\":{\"roots\":{\"references\":[{\"attributes\":{\"text\":{\"field\":\"SelectedName\"},\"text_baseline\":\"middle\",\"text_font_size\":{\"value\":\"9pt\"},\"x\":{\"field\":\"MetersBack\"},\"x_offset\":{\"value\":10},\"y\":{\"field\":\"Year\"}},\"id\":\"e4febbcc-0fcc-4b6d-9179-2e753bd4cfcf\",\"type\":\"Text\"},{\"attributes\":{\"callback\":null,\"range_padding\":0.05},\"id\":\"e429b255-2b3f-42c6-bdac-b0638746d565\",\"type\":\"DataRange1d\"},{\"attributes\":{\"callback\":null,\"end\":0,\"start\":25.571428571428566},\"id\":\"07baa22f-a04c-45e4-a1ca-daad24c1a3f3\",\"type\":\"Range1d\"},{\"attributes\":{\"text\":{\"value\":\"No Olympics in 1940 or 1944\"},\"text_align\":\"center\",\"text_baseline\":\"middle\",\"text_color\":{\"value\":\"silver\"},\"text_font_size\":{\"value\":\"9pt\"},\"text_font_style\":\"italic\",\"x\":{\"value\":7.5},\"y\":{\"value\":1942}},\"id\":\"5e18d399-8bc3-4d3b-95b2-2ebf157246f1\",\"type\":\"Text\"},{\"attributes\":{\"data_source\":{\"id\":\"4202d3a9-1e4b-47ee-9acf-f428b93bfa7f\",\"type\":\"ColumnDataSource\"},\"glyph\":{\"id\":\"5e18d399-8bc3-4d3b-95b2-2ebf157246f1\",\"type\":\"Text\"},\"hover_glyph\":null,\"nonselection_glyph\":null,\"selection_glyph\":null},\"id\":\"8f5ecd36-1dd9-4c9b-998d-63581d9a3b7e\",\"type\":\"GlyphRenderer\"},{\"attributes\":{\"data_source\":{\"id\":\"7db76b2b-b233-48ca-b912-21eefe8eeab4\",\"type\":\"ColumnDataSource\"},\"glyph\":{\"id\":\"e4febbcc-0fcc-4b6d-9179-2e753bd4cfcf\",\"type\":\"Text\"},\"hover_glyph\":null,\"nonselection_glyph\":null,\"selection_glyph\":null},\"id\":\"d134ddbe-622c-458b-aaf9-fe8fd7fce3b8\",\"type\":\"GlyphRenderer\"},{\"attributes\":{\"interval\":12,\"num_minor_ticks\":0},\"id\":\"a9b8577a-e4b0-40c3-8ff6-9cff023955f5\",\"type\":\"SingleIntervalTicker\"},{\"attributes\":{\"callback\":null},\"id\":\"4202d3a9-1e4b-47ee-9acf-f428b93bfa7f\",\"type\":\"ColumnDataSource\"},{\"attributes\":{},\"id\":\"fef3c54a-dea3-438c-9ebd-303231f2301b\",\"type\":\"ToolEvents\"},{\"attributes\":{\"formatter\":{\"id\":\"ade95dea-c071-494c-b6a2-cb15726ee9e4\",\"type\":\"BasicTickFormatter\"},\"major_tick_in\":-5,\"major_tick_out\":10,\"plot\":{\"id\":\"6a7fb07f-08f4-4f72-8630-36b0e597e56b\",\"type\":\"Plot\"},\"ticker\":{\"id\":\"a9b8577a-e4b0-40c3-8ff6-9cff023955f5\",\"type\":\"SingleIntervalTicker\"}},\"id\":\"42ea901a-c5ae-4c81-8ff6-69554b0f0d37\",\"type\":\"LinearAxis\"},{\"attributes\":{\"data_source\":{\"id\":\"7db76b2b-b233-48ca-b912-21eefe8eeab4\",\"type\":\"ColumnDataSource\"},\"glyph\":{\"id\":\"3bab5b94-14ca-4a41-9210-df84097f9cc1\",\"type\":\"Circle\"},\"hover_glyph\":null,\"nonselection_glyph\":null,\"selection_glyph\":null},\"id\":\"e4f6dc86-3ab8-4d65-96a4-c5fc7072c385\",\"type\":\"GlyphRenderer\"},{\"attributes\":{\"interval\":5,\"num_minor_ticks\":0},\"id\":\"73a1702d-8716-4405-8ca6-f0dce5bb2bdf\",\"type\":\"SingleIntervalTicker\"},{\"attributes\":{},\"id\":\"a77d32e6-f47c-428c-b82c-60cb79b18a99\",\"type\":\"BasicTickFormatter\"},{\"attributes\":{\"callback\":null,\"column_names\":[\"Country\",\"Time\",\"Medal\",\"MedalFill\",\"MedalLine\",\"Year\",\"Name\",\"SelectedName\",\"Speed\",\"MetersBack\",\"Abbrev\",\"index\"],\"data\":{\"Abbrev\":[\"JAM\",\"JAM\",\"USA\",\"JAM\",\"TRI\",\"USA\",\"USA\",\"POR\",\"USA\",\"USA\",\"TRI\",\"BAR\",\"CAN\",\"NAM\",\"TRI\",\"GBR\",\"NAM\",\"USA\",\"USA\",\"GBR\",\"USA\",\"USA\",\"USA\",\"CAN\",\"GBR\",\"CUB\",\"BUL\",\"TRI\",\"JAM\",\"URS\",\"URS\",\"USA\",\"JAM\",\"USA\",\"JAM\",\"USA\",\"USA\",\"CUB\",\"CAN\",\"EUA\",\"USA\",\"GBR\",\"USA\",\"USA\",\"AUS\",\"USA\",\"JAM\",\"GBR\",\"USA\",\"USA\",\"PAN\",\"USA\",\"USA\",\"NED\",\"USA\",\"USA\",\"GER\",\"CAN\",\"GBR\",\"GER\",\"GBR\",\"USA\",\"NZL\",\"USA\",\"USA\",\"GBR\",\"USA\",\"USA\",\"USA\",\"RSA\",\"USA\",\"CAN\",\"USA\",\"USA\",\"AUS\",\"USA\",\"USA\",\"USA\",\"USA\",\"USA\",\"AUS\",\"USA\",\"GER\",\"HUN\",\"USA\"],\"Country\":[\"Jamaica\",\"Jamaica\",\"United States\",\"Jamaica\",\"Trinidad and Tobago\",\"United States\",\"United States\",\"Portugal\",\"United States\",\"United States\",\"Trinidad and Tobago\",\"Barbados\",\"Canada\",\"Namibia\",\"Trinidad and Tobago\",\"Britain\",\"Namibia\",\"United States\",\"United States\",\"Britain\",\"United States\",\"United States\",\"United States\",\"Canada\",\"Britain\",\"Cuba\",\"Bulgaria\",\"Trinidad and Tobago\",\"Jamaica\",\"Soviet Union\",\"Soviet Union\",\"United States\",\"Jamaica\",\"United States\",\"Jamaica\",\"United States\",\"United States\",\"Cuba\",\"Canada\",\"United Team of Germany\",\"United States\",\"Britain\",\"United States\",\"United States\",\"Australia\",\"United States\",\"Jamaica\",\"Britain\",\"United States\",\"United States\",\"Panama\",\"United States\",\"United States\",\"Netherlands\",\"United States\",\"United States\",\"Germany\",\"Canada\",\"Britain\",\"Germany\",\"Britain\",\"United States\",\"New Zealand\",\"United States\",\"United States\",\"Britain\",\"United States\",\"United States\",\"United States\",\"South Africa\",\"United States\",\"Canada\",\"United States\",\"United States\",\"Australia\",\"United States\",\"United States\",\"United States\",\"United States\",\"United States\",\"Australia\",\"United States\",\"Germany\",\"Hungary\",\"United States\"],\"Medal\":[\"gold\",\"silver\",\"bronze\",\"gold\",\"silver\",\"bronze\",\"gold\",\"silver\",\"bronze\",\"gold\",\"silver\",\"bronze\",\"gold\",\"silver\",\"bronze\",\"gold\",\"silver\",\"bronze\",\"gold\",\"silver\",\"bronze\",\"gold\",\"silver\",\"bronze\",\"gold\",\"silver\",\"bronze\",\"gold\",\"silver\",\"bronze\",\"gold\",\"silver\",\"bronze\",\"gold\",\"silver\",\"bronze\",\"gold\",\"silver\",\"bronze\",\"gold\",\"silver\",\"bronze\",\"gold\",\"silver\",\"bronze\",\"gold\",\"silver\",\"bronze\",\"gold\",\"silver\",\"bronze\",\"gold\",\"silver\",\"bronze\",\"gold\",\"silver\",\"bronze\",\"gold\",\"silver\",\"bronze\",\"gold\",\"silver\",\"bronze\",\"gold\",\"silver\",\"bronze\",\"gold\",\"silver\",\"bronze\",\"gold\",\"silver\",\"bronze\",\"gold\",\"silver\",\"bronze\",\"gold\",\"silver\",\"bronze\",\"gold\",\"silver\",\"bronze\",\"gold\",\"silver\",\"bronze\",\"bronze\"],\"MedalFill\":[\"#efcf6d\",\"#cccccc\",\"#c59e8a\",\"#efcf6d\",\"#cccccc\",\"#c59e8a\",\"#efcf6d\",\"#cccccc\",\"#c59e8a\",\"#efcf6d\",\"#cccccc\",\"#c59e8a\",\"#efcf6d\",\"#cccccc\",\"#c59e8a\",\"#efcf6d\",\"#cccccc\",\"#c59e8a\",\"#efcf6d\",\"#cccccc\",\"#c59e8a\",\"#efcf6d\",\"#cccccc\",\"#c59e8a\",\"#efcf6d\",\"#cccccc\",\"#c59e8a\",\"#efcf6d\",\"#cccccc\",\"#c59e8a\",\"#efcf6d\",\"#cccccc\",\"#c59e8a\",\"#efcf6d\",\"#cccccc\",\"#c59e8a\",\"#efcf6d\",\"#cccccc\",\"#c59e8a\",\"#efcf6d\",\"#cccccc\",\"#c59e8a\",\"#efcf6d\",\"#cccccc\",\"#c59e8a\",\"#efcf6d\",\"#cccccc\",\"#c59e8a\",\"#efcf6d\",\"#cccccc\",\"#c59e8a\",\"#efcf6d\",\"#cccccc\",\"#c59e8a\",\"#efcf6d\",\"#cccccc\",\"#c59e8a\",\"#efcf6d\",\"#cccccc\",\"#c59e8a\",\"#efcf6d\",\"#cccccc\",\"#c59e8a\",\"#efcf6d\",\"#cccccc\",\"#c59e8a\",\"#efcf6d\",\"#cccccc\",\"#c59e8a\",\"#efcf6d\",\"#cccccc\",\"#c59e8a\",\"#efcf6d\",\"#cccccc\",\"#c59e8a\",\"#efcf6d\",\"#cccccc\",\"#c59e8a\",\"#efcf6d\",\"#cccccc\",\"#c59e8a\",\"#efcf6d\",\"#cccccc\",\"#c59e8a\",\"#c59e8a\"],\"MedalLine\":[\"#c8a850\",\"#b0b0b1\",\"#98715d\",\"#c8a850\",\"#b0b0b1\",\"#98715d\",\"#c8a850\",\"#b0b0b1\",\"#98715d\",\"#c8a850\",\"#b0b0b1\",\"#98715d\",\"#c8a850\",\"#b0b0b1\",\"#98715d\",\"#c8a850\",\"#b0b0b1\",\"#98715d\",\"#c8a850\",\"#b0b0b1\",\"#98715d\",\"#c8a850\",\"#b0b0b1\",\"#98715d\",\"#c8a850\",\"#b0b0b1\",\"#98715d\",\"#c8a850\",\"#b0b0b1\",\"#98715d\",\"#c8a850\",\"#b0b0b1\",\"#98715d\",\"#c8a850\",\"#b0b0b1\",\"#98715d\",\"#c8a850\",\"#b0b0b1\",\"#98715d\",\"#c8a850\",\"#b0b0b1\",\"#98715d\",\"#c8a850\",\"#b0b0b1\",\"#98715d\",\"#c8a850\",\"#b0b0b1\",\"#98715d\",\"#c8a850\",\"#b0b0b1\",\"#98715d\",\"#c8a850\",\"#b0b0b1\",\"#98715d\",\"#c8a850\",\"#b0b0b1\",\"#98715d\",\"#c8a850\",\"#b0b0b1\",\"#98715d\",\"#c8a850\",\"#b0b0b1\",\"#98715d\",\"#c8a850\",\"#b0b0b1\",\"#98715d\",\"#c8a850\",\"#b0b0b1\",\"#98715d\",\"#c8a850\",\"#b0b0b1\",\"#98715d\",\"#c8a850\",\"#b0b0b1\",\"#98715d\",\"#c8a850\",\"#b0b0b1\",\"#98715d\",\"#c8a850\",\"#b0b0b1\",\"#98715d\",\"#c8a850\",\"#b0b0b1\",\"#98715d\",\"#98715d\"],\"MetersBack\":[0.0,1.2307692307692242,1.6343207354443168,0.6191950464396134,2.628918099089983,2.825428859737633,2.2335025380710527,2.33265720081135,2.4316109422492294,2.4316109422492294,3.6036036036036,4.083665338645403,2.1341463414634054,2.628918099089983,2.7272727272727226,3.3132530120481896,3.8922155688622673,4.083665338645403,2.923387096774188,3.4102306920762215,3.6036036036036,3.6036036036036,5.49558390578998,5.772994129158516,6.048780487804873,6.048780487804873,7.314725697786328,4.274353876739556,4.46428571428571,5.02958579881656,5.02958579881656,5.957031249999989,6.776379477250716,3.2160804020100353,4.083665338645403,4.369414101290959,3.699999999999992,5.588235294117638,5.588235294117638,5.588235294117638,5.588235294117638,6.504854368932033,8.285714285714274,8.285714285714274,9.150943396226408,7.40384615384615,7.40384615384615,7.40384615384615,6.504854368932033,7.40384615384615,7.40384615384615,6.504854368932033,7.40384615384615,8.285714285714274,6.504854368932033,6.504854368932033,7.40384615384615,10.833333333333329,11.651376146788984,11.651376146788984,9.150943396226408,10.833333333333329,11.651376146788984,10.833333333333329,11.651376146788984,11.651376146788984,10.833333333333329,11.651376146788984,11.651376146788984,10.833333333333329,12.454545454545451,12.454545454545451,14.017857142857126,14.778761061946899,14.778761061946899,12.454545454545451,14.017857142857126,14.017857142857126,12.454545454545451,13.24324324324323,14.017857142857126,19.74999999999999,21.065573770491795,23.571428571428566,23.571428571428566],\"Name\":[\"Usain Bolt\",\"Yohan Blake\",\"Justin Gatlin\",\"Usain Bolt\",\"Richard Thompson\",\"Walter Dix\",\"Justin Gatlin\",\"Francis Obikwelu\",\"Maurice Greene\",\"Maurice Greene\",\"Ato Boldon\",\"Obadele Thompson\",\"Donovan Bailey\",\"Frankie Fredericks\",\"Ato Boldon\",\"Linford Christie\",\"Frankie Fredericks\",\"Dennis Mitchell\",\"Carl Lewis\",\"Linford Christie\",\"Calvin Smith\",\"Carl Lewis\",\"Sam Graddy\",\"Ben Johnson\",\"Allan Wells\",\"Silvio Leonard Tartabull\",\"Petar Petrov\",\"Hasely Crawford\",\"Donald Quarrie\",\"Valery Borzov\",\"Valery Borzov\",\"Robert Taylor\",\"Lennox Miller\",\"Jim Hines\",\"Lennox Miller\",\"Charles Greene\",\"Bob Hayes\",\"Enrique Figuerola Camue\",\"Harry Jerome\",\"Armin Hary\",\"David Sime\",\"Peter Radford\",\"Bobby Joe Morrow\",\"W. Thane Baker\",\"Hector Hogan\",\"Lindy Remigino\",\"Herbert McKenley\",\"E. McDonald Bailey\",\"W. Harrison Dillard\",\"H. Norwood \\\"Barney\\\" Ewell\",\"Lloyd LaBeach\",\"Jesse Owens\",\"Ralph Metcalfe\",\"Martinus Osendarp\",\"T. \\\"Eddie\\\" Tolan\",\"Ralph Metcalfe\",\"Arthur Jonath\",\"Percy Williams\",\"John \\\"Jack\\\" London\",\"Georg Lammers\",\"Harold Abrahams\",\"Jackson Scholz\",\"Arthur Porritt\",\"Charles Paddock\",\"Morris Kirksey\",\"Harry Edward\",\"Ralph Craig\",\"Alvah Meyer\",\"Donald Lippincott\",\"Reginald Walker\",\"James Rector\",\"Robert Kerr\",\"Charles \\\"Archie\\\" Hahn\",\"Fay Moulton\",\"Nigel Barker\",\"Charles \\\"Archie\\\" Hahn\",\"Nathaniel Cartmell\",\"Bill Hogenson\",\"Frank Jarvis\",\"J. Walter Tewksbury\",\"Stanley Rowley\",\"Thomas Burke\",\"Fritz Hofmann\",\"Alojz Sokol\",\"Francis Lane\"],\"SelectedName\":[null,null,null,null,null,null,null,null,null,null,null,null,null,null,null,null,null,null,\"Carl Lewis\",null,null,null,null,null,null,null,null,null,null,null,null,null,null,\"Jim Hines\",null,null,null,null,null,null,null,null,null,null,null,null,null,null,null,null,null,\"Jesse Owens\",null,null,null,null,null,null,null,null,null,null,null,null,null,null,null,null,null,null,null,null,null,null,null,null,null,null,null,null,null,\"Thomas Burke\",null,null,null],\"Speed\":[10.384215991692626,10.256410256410257,10.21450459652707,10.319917440660475,10.111223458038422,10.090817356205852,10.152284263959391,10.141987829614605,10.131712259371835,10.131712259371835,10.01001001001001,9.9601593625498,10.16260162601626,10.111223458038422,10.1010101010101,10.04016064257028,9.980039920159681,9.9601593625498,10.080645161290322,10.030090270812437,10.01001001001001,10.01001001001001,9.813542688910697,9.784735812133071,9.75609756097561,9.75609756097561,9.624639076034649,9.940357852882704,9.920634920634921,9.861932938856015,9.861932938856015,9.765625,9.68054211035818,10.050251256281408,9.9601593625498,9.930486593843098,10.0,9.803921568627452,9.803921568627452,9.803921568627452,9.803921568627452,9.70873786407767,9.523809523809524,9.523809523809524,9.433962264150944,9.615384615384615,9.615384615384615,9.615384615384615,9.70873786407767,9.615384615384615,9.615384615384615,9.70873786407767,9.615384615384615,9.523809523809524,9.70873786407767,9.70873786407767,9.615384615384615,9.25925925925926,9.174311926605505,9.174311926605505,9.433962264150944,9.25925925925926,9.174311926605505,9.25925925925926,9.174311926605505,9.174311926605505,9.25925925925926,9.174311926605505,9.174311926605505,9.25925925925926,9.090909090909092,9.090909090909092,8.928571428571429,8.849557522123893,8.849557522123893,9.090909090909092,8.928571428571429,8.928571428571429,9.090909090909092,9.00900900900901,8.928571428571429,8.333333333333334,8.196721311475411,7.936507936507937,7.936507936507937],\"Time\":[9.63,9.75,9.79,9.69,9.89,9.91,9.85,9.86,9.87,9.87,9.99,10.04,9.84,9.89,9.9,9.96,10.02,10.04,9.92,9.97,9.99,9.99,10.19,10.22,10.25,10.25,10.39,10.06,10.08,10.14,10.14,10.24,10.33,9.95,10.04,10.07,10.0,10.2,10.2,10.2,10.2,10.3,10.5,10.5,10.6,10.4,10.4,10.4,10.3,10.4,10.4,10.3,10.4,10.5,10.3,10.3,10.4,10.8,10.9,10.9,10.6,10.8,10.9,10.8,10.9,10.9,10.8,10.9,10.9,10.8,11.0,11.0,11.2,11.3,11.3,11.0,11.2,11.2,11.0,11.1,11.2,12.0,12.2,12.6,12.6],\"Year\":[2012,2012,2012,2008,2008,2008,2004,2004,2004,2000,2000,2000,1996,1996,1996,1992,1992,1992,1988,1988,1988,1984,1984,1984,1980,1980,1980,1976,1976,1976,1972,1972,1972,1968,1968,1968,1964,1964,1964,1960,1960,1960,1956,1956,1956,1952,1952,1952,1948,1948,1948,1936,1936,1936,1932,1932,1932,1928,1928,1928,1924,1924,1924,1920,1920,1920,1912,1912,1912,1908,1908,1908,1906,1906,1906,1904,1904,1904,1900,1900,1900,1896,1896,1896,1896],\"index\":[0,1,2,3,4,5,6,7,8,9,10,11,12,13,14,15,16,17,18,19,20,21,22,23,24,25,26,27,28,29,30,31,32,33,34,35,36,37,38,39,40,41,42,43,44,45,46,47,48,49,50,51,52,53,54,55,56,57,58,59,60,61,62,63,64,65,66,67,68,69,70,71,72,73,74,75,76,77,78,79,80,81,82,83,84]}},\"id\":\"7db76b2b-b233-48ca-b912-21eefe8eeab4\",\"type\":\"ColumnDataSource\"},{\"attributes\":{\"grid_line_dash\":[6],\"plot\":{\"id\":\"6a7fb07f-08f4-4f72-8630-36b0e597e56b\",\"type\":\"Plot\"},\"ticker\":{\"id\":\"73a1702d-8716-4405-8ca6-f0dce5bb2bdf\",\"type\":\"SingleIntervalTicker\"}},\"id\":\"efdaab38-545c-4df6-84c1-ba3db47f9ed4\",\"type\":\"Grid\"},{\"attributes\":{\"fill_alpha\":{\"value\":0.5},\"fill_color\":{\"field\":\"MedalFill\"},\"line_color\":{\"field\":\"MedalLine\"},\"radius\":{\"units\":\"screen\",\"value\":5},\"x\":{\"field\":\"MetersBack\"},\"y\":{\"field\":\"Year\"}},\"id\":\"3bab5b94-14ca-4a41-9210-df84097f9cc1\",\"type\":\"Circle\"},{\"attributes\":{\"axis_label\":\"Meters behind 2012 Bolt\",\"axis_label_text_font_size\":{\"value\":\"10pt\"},\"axis_label_text_font_style\":\"bold\",\"axis_line_color\":{\"value\":null},\"formatter\":{\"id\":\"a77d32e6-f47c-428c-b82c-60cb79b18a99\",\"type\":\"BasicTickFormatter\"},\"major_tick_line_color\":{\"value\":null},\"plot\":{\"id\":\"6a7fb07f-08f4-4f72-8630-36b0e597e56b\",\"type\":\"Plot\"},\"ticker\":{\"id\":\"73a1702d-8716-4405-8ca6-f0dce5bb2bdf\",\"type\":\"SingleIntervalTicker\"}},\"id\":\"c513be20-aa5d-46b4-84e2-ce0eb69a9b6a\",\"type\":\"LinearAxis\"},{\"attributes\":{},\"id\":\"ade95dea-c071-494c-b6a2-cb15726ee9e4\",\"type\":\"BasicTickFormatter\"},{\"attributes\":{\"below\":[{\"id\":\"c513be20-aa5d-46b4-84e2-ce0eb69a9b6a\",\"type\":\"LinearAxis\"}],\"outline_line_color\":{\"value\":null},\"plot_height\":480,\"plot_width\":800,\"renderers\":[{\"id\":\"e4f6dc86-3ab8-4d65-96a4-c5fc7072c385\",\"type\":\"GlyphRenderer\"},{\"id\":\"d134ddbe-622c-458b-aaf9-fe8fd7fce3b8\",\"type\":\"GlyphRenderer\"},{\"id\":\"8f5ecd36-1dd9-4c9b-998d-63581d9a3b7e\",\"type\":\"GlyphRenderer\"},{\"id\":\"c513be20-aa5d-46b4-84e2-ce0eb69a9b6a\",\"type\":\"LinearAxis\"},{\"id\":\"efdaab38-545c-4df6-84c1-ba3db47f9ed4\",\"type\":\"Grid\"},{\"id\":\"42ea901a-c5ae-4c81-8ff6-69554b0f0d37\",\"type\":\"LinearAxis\"}],\"right\":[{\"id\":\"42ea901a-c5ae-4c81-8ff6-69554b0f0d37\",\"type\":\"LinearAxis\"}],\"title\":\"Usain Bolt vs. 116 years of Olympic sprinters\",\"tool_events\":{\"id\":\"fef3c54a-dea3-438c-9ebd-303231f2301b\",\"type\":\"ToolEvents\"},\"toolbar_location\":null,\"x_range\":{\"id\":\"07baa22f-a04c-45e4-a1ca-daad24c1a3f3\",\"type\":\"Range1d\"},\"y_range\":{\"id\":\"e429b255-2b3f-42c6-bdac-b0638746d565\",\"type\":\"DataRange1d\"}},\"id\":\"6a7fb07f-08f4-4f72-8630-36b0e597e56b\",\"type\":\"Plot\"}],\"root_ids\":[\"6a7fb07f-08f4-4f72-8630-36b0e597e56b\"]},\"title\":\"Bokeh Application\",\"version\":\"0.11.1\"}};\n",
       "            var render_items = [{\"docid\":\"af9bf6c0-eb55-4d9d-b939-ffaf026b30f6\",\"elementid\":\"7393a095-a223-4da9-b9e3-7692ff656cd4\",\"modelid\":\"6a7fb07f-08f4-4f72-8630-36b0e597e56b\",\"notebook_comms_target\":\"aa40a53b-ee54-44fe-9352-a8d76e6b66ba\"}];\n",
       "            \n",
       "            Bokeh.embed.embed_items(docs_json, render_items);\n",
       "        });\n",
       "      },\n",
       "      function(Bokeh) {\n",
       "      }\n",
       "    ];\n",
       "  \n",
       "    function run_inline_js() {\n",
       "      for (var i = 0; i < inline_js.length; i++) {\n",
       "        inline_js[i](window.Bokeh);\n",
       "      }\n",
       "    }\n",
       "  \n",
       "    if (window._bokeh_is_loading === 0) {\n",
       "      console.log(\"Bokeh: BokehJS loaded, going straight to plotting\");\n",
       "      run_inline_js();\n",
       "    } else {\n",
       "      load_libs(js_urls, function() {\n",
       "        console.log(\"Bokeh: BokehJS plotting callback run at\", now());\n",
       "        run_inline_js();\n",
       "      });\n",
       "    }\n",
       "  }(this));\n",
       "</script>"
      ]
     },
     "metadata": {},
     "output_type": "display_data"
    },
    {
     "data": {
      "text/html": [
       "<p><code>&lt;Bokeh Notebook handle for <strong>In[12]</strong>&gt;</code></p>"
      ],
      "text/plain": [
       "<bokeh.io._CommsHandle at 0x10ce98128>"
      ]
     },
     "execution_count": 12,
     "metadata": {},
     "output_type": "execute_result"
    }
   ],
   "source": [
    "show(plot)"
   ]
  },
  {
   "cell_type": "markdown",
   "metadata": {},
   "source": [
    "## Adding a Hover Tool\n",
    "\n",
    "Finally we add a hover tool to display those extra columns that we put into our column data source. We use the template syntax for the tooltips, to have more control over the appearance. Tools can be added using the `plot.add_tools` method."
   ]
  },
  {
   "cell_type": "code",
   "execution_count": 13,
   "metadata": {
    "collapsed": false
   },
   "outputs": [],
   "source": [
    "from bokeh.models import HoverTool"
   ]
  },
  {
   "cell_type": "code",
   "execution_count": 14,
   "metadata": {
    "collapsed": false
   },
   "outputs": [],
   "source": [
    "tooltips = \"\"\"\n",
    "<div>\n",
    "    <span style=\"font-size: 15px;\">@Name</span>&nbsp;\n",
    "    <span style=\"font-size: 10px; color: #666;\">(@Abbrev)</span>\n",
    "</div>\n",
    "<div>\n",
    "    <span style=\"font-size: 17px; font-weight: bold;\">@Time{0.00}</span>&nbsp;\n",
    "    <span style=\"font-size: 10px; color: #666;\">@Year</span>\n",
    "</div>\n",
    "<div style=\"font-size: 11px; color: #666;\">@{MetersBack}{0.00} meters behind</div>\n",
    "\"\"\""
   ]
  },
  {
   "cell_type": "code",
   "execution_count": 15,
   "metadata": {
    "collapsed": true
   },
   "outputs": [],
   "source": [
    "xdr = Range1d(start=sprint.MetersBack.max()+2, end=0)  # +2 is for padding\n",
    "ydr = DataRange1d(range_padding=0.05)  \n",
    "\n",
    "plot = Plot(x_range=xdr, y_range=ydr, **plot_options)\n",
    "medal = plot.add_glyph(source, medal_glyph)  # we need this renderer to configure the hover tool\n",
    "plot.add_glyph(source, athlete_glyph)\n",
    "plot.add_glyph(no_olympics_glyph)\n",
    "\n",
    "xticker = SingleIntervalTicker(interval=5, num_minor_ticks=0)\n",
    "xaxis = LinearAxis(ticker=xticker, axis_line_color=None, major_tick_line_color=None,\n",
    "                   axis_label=\"Meters behind 2012 Bolt\", axis_label_text_font_size=\"10pt\", \n",
    "                   axis_label_text_font_style=\"bold\")\n",
    "plot.add_layout(xaxis, \"below\")\n",
    "\n",
    "xgrid = Grid(dimension=0, ticker=xaxis.ticker, grid_line_dash=\"dashed\")\n",
    "plot.add_layout(xgrid)\n",
    "\n",
    "yticker = SingleIntervalTicker(interval=12, num_minor_ticks=0)\n",
    "yaxis = LinearAxis(ticker=yticker, major_tick_in=-5, major_tick_out=10)\n",
    "plot.add_layout(yaxis, \"right\")"
   ]
  },
  {
   "cell_type": "code",
   "execution_count": 16,
   "metadata": {
    "collapsed": true
   },
   "outputs": [],
   "source": [
    "hover = HoverTool(tooltips=tooltips, renderers=[medal])\n",
    "plot.add_tools(hover)"
   ]
  },
  {
   "cell_type": "code",
   "execution_count": 17,
   "metadata": {
    "collapsed": false
   },
   "outputs": [
    {
     "data": {
      "text/html": [
       "\n",
       "\n",
       "    <div class=\"plotdiv\" id=\"e72cc4b1-505e-4016-b7b2-352384b505b8\"></div>\n",
       "<script type=\"text/javascript\">\n",
       "  \n",
       "  (function(global) {\n",
       "    function now() {\n",
       "      return new Date();\n",
       "    }\n",
       "  \n",
       "    if (typeof (window._bokeh_onload_callbacks) === \"undefined\") {\n",
       "      window._bokeh_onload_callbacks = [];\n",
       "    }\n",
       "  \n",
       "    function run_callbacks() {\n",
       "      window._bokeh_onload_callbacks.forEach(function(callback) { callback() });\n",
       "      delete window._bokeh_onload_callbacks\n",
       "      console.info(\"Bokeh: all callbacks have finished\");\n",
       "    }\n",
       "  \n",
       "    function load_libs(js_urls, callback) {\n",
       "      window._bokeh_onload_callbacks.push(callback);\n",
       "      if (window._bokeh_is_loading > 0) {\n",
       "        console.log(\"Bokeh: BokehJS is being loaded, scheduling callback at\", now());\n",
       "        return null;\n",
       "      }\n",
       "      if (js_urls == null || js_urls.length === 0) {\n",
       "        run_callbacks();\n",
       "        return null;\n",
       "      }\n",
       "      console.log(\"Bokeh: BokehJS not loaded, scheduling load and callback at\", now());\n",
       "      window._bokeh_is_loading = js_urls.length;\n",
       "      for (var i = 0; i < js_urls.length; i++) {\n",
       "        var url = js_urls[i];\n",
       "        var s = document.createElement('script');\n",
       "        s.src = url;\n",
       "        s.async = false;\n",
       "        s.onreadystatechange = s.onload = function() {\n",
       "          window._bokeh_is_loading--;\n",
       "          if (window._bokeh_is_loading === 0) {\n",
       "            console.log(\"Bokeh: all BokehJS libraries loaded\");\n",
       "            run_callbacks()\n",
       "          }\n",
       "        };\n",
       "        s.onerror = function() {\n",
       "          console.warn(\"failed to load library \" + url);\n",
       "        };\n",
       "        console.log(\"Bokeh: injecting script tag for BokehJS library: \", url);\n",
       "        document.getElementsByTagName(\"head\")[0].appendChild(s);\n",
       "      }\n",
       "    };var element = document.getElementById(\"e72cc4b1-505e-4016-b7b2-352384b505b8\");\n",
       "    if (element == null) {\n",
       "      console.log(\"Bokeh: ERROR: autoload.js configured with elementid 'e72cc4b1-505e-4016-b7b2-352384b505b8' but no matching script tag was found. \")\n",
       "      return false;\n",
       "    }\n",
       "  \n",
       "    var js_urls = [];\n",
       "  \n",
       "    var inline_js = [\n",
       "      function(Bokeh) {\n",
       "        Bokeh.$(function() {\n",
       "            var docs_json = {\"dd378ef8-c6b4-42bd-8332-d142ab9a2c2c\":{\"roots\":{\"references\":[{\"attributes\":{\"grid_line_dash\":[6],\"plot\":{\"id\":\"2cd9d4ef-6805-4fee-b747-479a2a86cea8\",\"type\":\"Plot\"},\"ticker\":{\"id\":\"5004826d-7f5d-4ec5-9b93-ed8aa1f7cf7a\",\"type\":\"SingleIntervalTicker\"}},\"id\":\"c8f26aab-69fc-4789-b3de-da27d20f6b6c\",\"type\":\"Grid\"},{\"attributes\":{\"text\":{\"field\":\"SelectedName\"},\"text_baseline\":\"middle\",\"text_font_size\":{\"value\":\"9pt\"},\"x\":{\"field\":\"MetersBack\"},\"x_offset\":{\"value\":10},\"y\":{\"field\":\"Year\"}},\"id\":\"e4febbcc-0fcc-4b6d-9179-2e753bd4cfcf\",\"type\":\"Text\"},{\"attributes\":{\"data_source\":{\"id\":\"c30b6b24-5018-4196-850f-d9873e148f0d\",\"type\":\"ColumnDataSource\"},\"glyph\":{\"id\":\"5e18d399-8bc3-4d3b-95b2-2ebf157246f1\",\"type\":\"Text\"},\"hover_glyph\":null,\"nonselection_glyph\":null,\"selection_glyph\":null},\"id\":\"28d9cf39-df27-47ab-8e01-8ecf94f01eac\",\"type\":\"GlyphRenderer\"},{\"attributes\":{\"data_source\":{\"id\":\"7db76b2b-b233-48ca-b912-21eefe8eeab4\",\"type\":\"ColumnDataSource\"},\"glyph\":{\"id\":\"3bab5b94-14ca-4a41-9210-df84097f9cc1\",\"type\":\"Circle\"},\"hover_glyph\":null,\"nonselection_glyph\":null,\"selection_glyph\":null},\"id\":\"5781938e-23d8-4354-ae5a-d9ee726c2cd5\",\"type\":\"GlyphRenderer\"},{\"attributes\":{\"data_source\":{\"id\":\"7db76b2b-b233-48ca-b912-21eefe8eeab4\",\"type\":\"ColumnDataSource\"},\"glyph\":{\"id\":\"e4febbcc-0fcc-4b6d-9179-2e753bd4cfcf\",\"type\":\"Text\"},\"hover_glyph\":null,\"nonselection_glyph\":null,\"selection_glyph\":null},\"id\":\"a7b3d2c6-c54a-4b50-8f4a-facbc5f57360\",\"type\":\"GlyphRenderer\"},{\"attributes\":{\"interval\":12,\"num_minor_ticks\":0},\"id\":\"3bbefa6b-fa5f-4694-826f-d075e3917bf3\",\"type\":\"SingleIntervalTicker\"},{\"attributes\":{\"formatter\":{\"id\":\"a9fa6d42-4cff-49ad-ad4e-23f00aabdb7e\",\"type\":\"BasicTickFormatter\"},\"major_tick_in\":-5,\"major_tick_out\":10,\"plot\":{\"id\":\"2cd9d4ef-6805-4fee-b747-479a2a86cea8\",\"type\":\"Plot\"},\"ticker\":{\"id\":\"3bbefa6b-fa5f-4694-826f-d075e3917bf3\",\"type\":\"SingleIntervalTicker\"}},\"id\":\"cd8ec01a-6e12-4288-a082-bb405390230a\",\"type\":\"LinearAxis\"},{\"attributes\":{\"interval\":5,\"num_minor_ticks\":0},\"id\":\"5004826d-7f5d-4ec5-9b93-ed8aa1f7cf7a\",\"type\":\"SingleIntervalTicker\"},{\"attributes\":{\"callback\":null},\"id\":\"c30b6b24-5018-4196-850f-d9873e148f0d\",\"type\":\"ColumnDataSource\"},{\"attributes\":{\"callback\":null,\"plot\":{\"id\":\"2cd9d4ef-6805-4fee-b747-479a2a86cea8\",\"type\":\"Plot\"},\"renderers\":[{\"id\":\"5781938e-23d8-4354-ae5a-d9ee726c2cd5\",\"type\":\"GlyphRenderer\"}],\"tooltips\":\"\\n<div>\\n    <span style=\\\"font-size: 15px;\\\">@Name</span>&nbsp;\\n    <span style=\\\"font-size: 10px; color: #666;\\\">(@Abbrev)</span>\\n</div>\\n<div>\\n    <span style=\\\"font-size: 17px; font-weight: bold;\\\">@Time{0.00}</span>&nbsp;\\n    <span style=\\\"font-size: 10px; color: #666;\\\">@Year</span>\\n</div>\\n<div style=\\\"font-size: 11px; color: #666;\\\">@{MetersBack}{0.00} meters behind</div>\\n\"},\"id\":\"fce55d54-a3cf-4d23-8e29-d2707a98f085\",\"type\":\"HoverTool\"},{\"attributes\":{\"axis_label\":\"Meters behind 2012 Bolt\",\"axis_label_text_font_size\":{\"value\":\"10pt\"},\"axis_label_text_font_style\":\"bold\",\"axis_line_color\":{\"value\":null},\"formatter\":{\"id\":\"a39943ac-1235-4a23-a8c5-77d04a9ad0df\",\"type\":\"BasicTickFormatter\"},\"major_tick_line_color\":{\"value\":null},\"plot\":{\"id\":\"2cd9d4ef-6805-4fee-b747-479a2a86cea8\",\"type\":\"Plot\"},\"ticker\":{\"id\":\"5004826d-7f5d-4ec5-9b93-ed8aa1f7cf7a\",\"type\":\"SingleIntervalTicker\"}},\"id\":\"c23d2934-dbf7-4642-a4bd-341500495295\",\"type\":\"LinearAxis\"},{\"attributes\":{\"callback\":null,\"end\":0,\"start\":25.571428571428566},\"id\":\"1902ff98-3ca1-4a7d-a230-83ec89282c81\",\"type\":\"Range1d\"},{\"attributes\":{\"below\":[{\"id\":\"c23d2934-dbf7-4642-a4bd-341500495295\",\"type\":\"LinearAxis\"}],\"outline_line_color\":{\"value\":null},\"plot_height\":480,\"plot_width\":800,\"renderers\":[{\"id\":\"5781938e-23d8-4354-ae5a-d9ee726c2cd5\",\"type\":\"GlyphRenderer\"},{\"id\":\"a7b3d2c6-c54a-4b50-8f4a-facbc5f57360\",\"type\":\"GlyphRenderer\"},{\"id\":\"28d9cf39-df27-47ab-8e01-8ecf94f01eac\",\"type\":\"GlyphRenderer\"},{\"id\":\"c23d2934-dbf7-4642-a4bd-341500495295\",\"type\":\"LinearAxis\"},{\"id\":\"c8f26aab-69fc-4789-b3de-da27d20f6b6c\",\"type\":\"Grid\"},{\"id\":\"cd8ec01a-6e12-4288-a082-bb405390230a\",\"type\":\"LinearAxis\"}],\"right\":[{\"id\":\"cd8ec01a-6e12-4288-a082-bb405390230a\",\"type\":\"LinearAxis\"}],\"title\":\"Usain Bolt vs. 116 years of Olympic sprinters\",\"tool_events\":{\"id\":\"3de8a431-306a-4955-b51c-695326cf4b68\",\"type\":\"ToolEvents\"},\"toolbar_location\":null,\"tools\":[{\"id\":\"fce55d54-a3cf-4d23-8e29-d2707a98f085\",\"type\":\"HoverTool\"}],\"x_range\":{\"id\":\"1902ff98-3ca1-4a7d-a230-83ec89282c81\",\"type\":\"Range1d\"},\"y_range\":{\"id\":\"2af67c91-85cd-48a9-9d01-e72d302e44f9\",\"type\":\"DataRange1d\"}},\"id\":\"2cd9d4ef-6805-4fee-b747-479a2a86cea8\",\"type\":\"Plot\"},{\"attributes\":{\"fill_alpha\":{\"value\":0.5},\"fill_color\":{\"field\":\"MedalFill\"},\"line_color\":{\"field\":\"MedalLine\"},\"radius\":{\"units\":\"screen\",\"value\":5},\"x\":{\"field\":\"MetersBack\"},\"y\":{\"field\":\"Year\"}},\"id\":\"3bab5b94-14ca-4a41-9210-df84097f9cc1\",\"type\":\"Circle\"},{\"attributes\":{\"callback\":null,\"column_names\":[\"Country\",\"Time\",\"Medal\",\"MedalFill\",\"MedalLine\",\"Year\",\"Name\",\"SelectedName\",\"Speed\",\"MetersBack\",\"Abbrev\",\"index\"],\"data\":{\"Abbrev\":[\"JAM\",\"JAM\",\"USA\",\"JAM\",\"TRI\",\"USA\",\"USA\",\"POR\",\"USA\",\"USA\",\"TRI\",\"BAR\",\"CAN\",\"NAM\",\"TRI\",\"GBR\",\"NAM\",\"USA\",\"USA\",\"GBR\",\"USA\",\"USA\",\"USA\",\"CAN\",\"GBR\",\"CUB\",\"BUL\",\"TRI\",\"JAM\",\"URS\",\"URS\",\"USA\",\"JAM\",\"USA\",\"JAM\",\"USA\",\"USA\",\"CUB\",\"CAN\",\"EUA\",\"USA\",\"GBR\",\"USA\",\"USA\",\"AUS\",\"USA\",\"JAM\",\"GBR\",\"USA\",\"USA\",\"PAN\",\"USA\",\"USA\",\"NED\",\"USA\",\"USA\",\"GER\",\"CAN\",\"GBR\",\"GER\",\"GBR\",\"USA\",\"NZL\",\"USA\",\"USA\",\"GBR\",\"USA\",\"USA\",\"USA\",\"RSA\",\"USA\",\"CAN\",\"USA\",\"USA\",\"AUS\",\"USA\",\"USA\",\"USA\",\"USA\",\"USA\",\"AUS\",\"USA\",\"GER\",\"HUN\",\"USA\"],\"Country\":[\"Jamaica\",\"Jamaica\",\"United States\",\"Jamaica\",\"Trinidad and Tobago\",\"United States\",\"United States\",\"Portugal\",\"United States\",\"United States\",\"Trinidad and Tobago\",\"Barbados\",\"Canada\",\"Namibia\",\"Trinidad and Tobago\",\"Britain\",\"Namibia\",\"United States\",\"United States\",\"Britain\",\"United States\",\"United States\",\"United States\",\"Canada\",\"Britain\",\"Cuba\",\"Bulgaria\",\"Trinidad and Tobago\",\"Jamaica\",\"Soviet Union\",\"Soviet Union\",\"United States\",\"Jamaica\",\"United States\",\"Jamaica\",\"United States\",\"United States\",\"Cuba\",\"Canada\",\"United Team of Germany\",\"United States\",\"Britain\",\"United States\",\"United States\",\"Australia\",\"United States\",\"Jamaica\",\"Britain\",\"United States\",\"United States\",\"Panama\",\"United States\",\"United States\",\"Netherlands\",\"United States\",\"United States\",\"Germany\",\"Canada\",\"Britain\",\"Germany\",\"Britain\",\"United States\",\"New Zealand\",\"United States\",\"United States\",\"Britain\",\"United States\",\"United States\",\"United States\",\"South Africa\",\"United States\",\"Canada\",\"United States\",\"United States\",\"Australia\",\"United States\",\"United States\",\"United States\",\"United States\",\"United States\",\"Australia\",\"United States\",\"Germany\",\"Hungary\",\"United States\"],\"Medal\":[\"gold\",\"silver\",\"bronze\",\"gold\",\"silver\",\"bronze\",\"gold\",\"silver\",\"bronze\",\"gold\",\"silver\",\"bronze\",\"gold\",\"silver\",\"bronze\",\"gold\",\"silver\",\"bronze\",\"gold\",\"silver\",\"bronze\",\"gold\",\"silver\",\"bronze\",\"gold\",\"silver\",\"bronze\",\"gold\",\"silver\",\"bronze\",\"gold\",\"silver\",\"bronze\",\"gold\",\"silver\",\"bronze\",\"gold\",\"silver\",\"bronze\",\"gold\",\"silver\",\"bronze\",\"gold\",\"silver\",\"bronze\",\"gold\",\"silver\",\"bronze\",\"gold\",\"silver\",\"bronze\",\"gold\",\"silver\",\"bronze\",\"gold\",\"silver\",\"bronze\",\"gold\",\"silver\",\"bronze\",\"gold\",\"silver\",\"bronze\",\"gold\",\"silver\",\"bronze\",\"gold\",\"silver\",\"bronze\",\"gold\",\"silver\",\"bronze\",\"gold\",\"silver\",\"bronze\",\"gold\",\"silver\",\"bronze\",\"gold\",\"silver\",\"bronze\",\"gold\",\"silver\",\"bronze\",\"bronze\"],\"MedalFill\":[\"#efcf6d\",\"#cccccc\",\"#c59e8a\",\"#efcf6d\",\"#cccccc\",\"#c59e8a\",\"#efcf6d\",\"#cccccc\",\"#c59e8a\",\"#efcf6d\",\"#cccccc\",\"#c59e8a\",\"#efcf6d\",\"#cccccc\",\"#c59e8a\",\"#efcf6d\",\"#cccccc\",\"#c59e8a\",\"#efcf6d\",\"#cccccc\",\"#c59e8a\",\"#efcf6d\",\"#cccccc\",\"#c59e8a\",\"#efcf6d\",\"#cccccc\",\"#c59e8a\",\"#efcf6d\",\"#cccccc\",\"#c59e8a\",\"#efcf6d\",\"#cccccc\",\"#c59e8a\",\"#efcf6d\",\"#cccccc\",\"#c59e8a\",\"#efcf6d\",\"#cccccc\",\"#c59e8a\",\"#efcf6d\",\"#cccccc\",\"#c59e8a\",\"#efcf6d\",\"#cccccc\",\"#c59e8a\",\"#efcf6d\",\"#cccccc\",\"#c59e8a\",\"#efcf6d\",\"#cccccc\",\"#c59e8a\",\"#efcf6d\",\"#cccccc\",\"#c59e8a\",\"#efcf6d\",\"#cccccc\",\"#c59e8a\",\"#efcf6d\",\"#cccccc\",\"#c59e8a\",\"#efcf6d\",\"#cccccc\",\"#c59e8a\",\"#efcf6d\",\"#cccccc\",\"#c59e8a\",\"#efcf6d\",\"#cccccc\",\"#c59e8a\",\"#efcf6d\",\"#cccccc\",\"#c59e8a\",\"#efcf6d\",\"#cccccc\",\"#c59e8a\",\"#efcf6d\",\"#cccccc\",\"#c59e8a\",\"#efcf6d\",\"#cccccc\",\"#c59e8a\",\"#efcf6d\",\"#cccccc\",\"#c59e8a\",\"#c59e8a\"],\"MedalLine\":[\"#c8a850\",\"#b0b0b1\",\"#98715d\",\"#c8a850\",\"#b0b0b1\",\"#98715d\",\"#c8a850\",\"#b0b0b1\",\"#98715d\",\"#c8a850\",\"#b0b0b1\",\"#98715d\",\"#c8a850\",\"#b0b0b1\",\"#98715d\",\"#c8a850\",\"#b0b0b1\",\"#98715d\",\"#c8a850\",\"#b0b0b1\",\"#98715d\",\"#c8a850\",\"#b0b0b1\",\"#98715d\",\"#c8a850\",\"#b0b0b1\",\"#98715d\",\"#c8a850\",\"#b0b0b1\",\"#98715d\",\"#c8a850\",\"#b0b0b1\",\"#98715d\",\"#c8a850\",\"#b0b0b1\",\"#98715d\",\"#c8a850\",\"#b0b0b1\",\"#98715d\",\"#c8a850\",\"#b0b0b1\",\"#98715d\",\"#c8a850\",\"#b0b0b1\",\"#98715d\",\"#c8a850\",\"#b0b0b1\",\"#98715d\",\"#c8a850\",\"#b0b0b1\",\"#98715d\",\"#c8a850\",\"#b0b0b1\",\"#98715d\",\"#c8a850\",\"#b0b0b1\",\"#98715d\",\"#c8a850\",\"#b0b0b1\",\"#98715d\",\"#c8a850\",\"#b0b0b1\",\"#98715d\",\"#c8a850\",\"#b0b0b1\",\"#98715d\",\"#c8a850\",\"#b0b0b1\",\"#98715d\",\"#c8a850\",\"#b0b0b1\",\"#98715d\",\"#c8a850\",\"#b0b0b1\",\"#98715d\",\"#c8a850\",\"#b0b0b1\",\"#98715d\",\"#c8a850\",\"#b0b0b1\",\"#98715d\",\"#c8a850\",\"#b0b0b1\",\"#98715d\",\"#98715d\"],\"MetersBack\":[0.0,1.2307692307692242,1.6343207354443168,0.6191950464396134,2.628918099089983,2.825428859737633,2.2335025380710527,2.33265720081135,2.4316109422492294,2.4316109422492294,3.6036036036036,4.083665338645403,2.1341463414634054,2.628918099089983,2.7272727272727226,3.3132530120481896,3.8922155688622673,4.083665338645403,2.923387096774188,3.4102306920762215,3.6036036036036,3.6036036036036,5.49558390578998,5.772994129158516,6.048780487804873,6.048780487804873,7.314725697786328,4.274353876739556,4.46428571428571,5.02958579881656,5.02958579881656,5.957031249999989,6.776379477250716,3.2160804020100353,4.083665338645403,4.369414101290959,3.699999999999992,5.588235294117638,5.588235294117638,5.588235294117638,5.588235294117638,6.504854368932033,8.285714285714274,8.285714285714274,9.150943396226408,7.40384615384615,7.40384615384615,7.40384615384615,6.504854368932033,7.40384615384615,7.40384615384615,6.504854368932033,7.40384615384615,8.285714285714274,6.504854368932033,6.504854368932033,7.40384615384615,10.833333333333329,11.651376146788984,11.651376146788984,9.150943396226408,10.833333333333329,11.651376146788984,10.833333333333329,11.651376146788984,11.651376146788984,10.833333333333329,11.651376146788984,11.651376146788984,10.833333333333329,12.454545454545451,12.454545454545451,14.017857142857126,14.778761061946899,14.778761061946899,12.454545454545451,14.017857142857126,14.017857142857126,12.454545454545451,13.24324324324323,14.017857142857126,19.74999999999999,21.065573770491795,23.571428571428566,23.571428571428566],\"Name\":[\"Usain Bolt\",\"Yohan Blake\",\"Justin Gatlin\",\"Usain Bolt\",\"Richard Thompson\",\"Walter Dix\",\"Justin Gatlin\",\"Francis Obikwelu\",\"Maurice Greene\",\"Maurice Greene\",\"Ato Boldon\",\"Obadele Thompson\",\"Donovan Bailey\",\"Frankie Fredericks\",\"Ato Boldon\",\"Linford Christie\",\"Frankie Fredericks\",\"Dennis Mitchell\",\"Carl Lewis\",\"Linford Christie\",\"Calvin Smith\",\"Carl Lewis\",\"Sam Graddy\",\"Ben Johnson\",\"Allan Wells\",\"Silvio Leonard Tartabull\",\"Petar Petrov\",\"Hasely Crawford\",\"Donald Quarrie\",\"Valery Borzov\",\"Valery Borzov\",\"Robert Taylor\",\"Lennox Miller\",\"Jim Hines\",\"Lennox Miller\",\"Charles Greene\",\"Bob Hayes\",\"Enrique Figuerola Camue\",\"Harry Jerome\",\"Armin Hary\",\"David Sime\",\"Peter Radford\",\"Bobby Joe Morrow\",\"W. Thane Baker\",\"Hector Hogan\",\"Lindy Remigino\",\"Herbert McKenley\",\"E. McDonald Bailey\",\"W. Harrison Dillard\",\"H. Norwood \\\"Barney\\\" Ewell\",\"Lloyd LaBeach\",\"Jesse Owens\",\"Ralph Metcalfe\",\"Martinus Osendarp\",\"T. \\\"Eddie\\\" Tolan\",\"Ralph Metcalfe\",\"Arthur Jonath\",\"Percy Williams\",\"John \\\"Jack\\\" London\",\"Georg Lammers\",\"Harold Abrahams\",\"Jackson Scholz\",\"Arthur Porritt\",\"Charles Paddock\",\"Morris Kirksey\",\"Harry Edward\",\"Ralph Craig\",\"Alvah Meyer\",\"Donald Lippincott\",\"Reginald Walker\",\"James Rector\",\"Robert Kerr\",\"Charles \\\"Archie\\\" Hahn\",\"Fay Moulton\",\"Nigel Barker\",\"Charles \\\"Archie\\\" Hahn\",\"Nathaniel Cartmell\",\"Bill Hogenson\",\"Frank Jarvis\",\"J. Walter Tewksbury\",\"Stanley Rowley\",\"Thomas Burke\",\"Fritz Hofmann\",\"Alojz Sokol\",\"Francis Lane\"],\"SelectedName\":[null,null,null,null,null,null,null,null,null,null,null,null,null,null,null,null,null,null,\"Carl Lewis\",null,null,null,null,null,null,null,null,null,null,null,null,null,null,\"Jim Hines\",null,null,null,null,null,null,null,null,null,null,null,null,null,null,null,null,null,\"Jesse Owens\",null,null,null,null,null,null,null,null,null,null,null,null,null,null,null,null,null,null,null,null,null,null,null,null,null,null,null,null,null,\"Thomas Burke\",null,null,null],\"Speed\":[10.384215991692626,10.256410256410257,10.21450459652707,10.319917440660475,10.111223458038422,10.090817356205852,10.152284263959391,10.141987829614605,10.131712259371835,10.131712259371835,10.01001001001001,9.9601593625498,10.16260162601626,10.111223458038422,10.1010101010101,10.04016064257028,9.980039920159681,9.9601593625498,10.080645161290322,10.030090270812437,10.01001001001001,10.01001001001001,9.813542688910697,9.784735812133071,9.75609756097561,9.75609756097561,9.624639076034649,9.940357852882704,9.920634920634921,9.861932938856015,9.861932938856015,9.765625,9.68054211035818,10.050251256281408,9.9601593625498,9.930486593843098,10.0,9.803921568627452,9.803921568627452,9.803921568627452,9.803921568627452,9.70873786407767,9.523809523809524,9.523809523809524,9.433962264150944,9.615384615384615,9.615384615384615,9.615384615384615,9.70873786407767,9.615384615384615,9.615384615384615,9.70873786407767,9.615384615384615,9.523809523809524,9.70873786407767,9.70873786407767,9.615384615384615,9.25925925925926,9.174311926605505,9.174311926605505,9.433962264150944,9.25925925925926,9.174311926605505,9.25925925925926,9.174311926605505,9.174311926605505,9.25925925925926,9.174311926605505,9.174311926605505,9.25925925925926,9.090909090909092,9.090909090909092,8.928571428571429,8.849557522123893,8.849557522123893,9.090909090909092,8.928571428571429,8.928571428571429,9.090909090909092,9.00900900900901,8.928571428571429,8.333333333333334,8.196721311475411,7.936507936507937,7.936507936507937],\"Time\":[9.63,9.75,9.79,9.69,9.89,9.91,9.85,9.86,9.87,9.87,9.99,10.04,9.84,9.89,9.9,9.96,10.02,10.04,9.92,9.97,9.99,9.99,10.19,10.22,10.25,10.25,10.39,10.06,10.08,10.14,10.14,10.24,10.33,9.95,10.04,10.07,10.0,10.2,10.2,10.2,10.2,10.3,10.5,10.5,10.6,10.4,10.4,10.4,10.3,10.4,10.4,10.3,10.4,10.5,10.3,10.3,10.4,10.8,10.9,10.9,10.6,10.8,10.9,10.8,10.9,10.9,10.8,10.9,10.9,10.8,11.0,11.0,11.2,11.3,11.3,11.0,11.2,11.2,11.0,11.1,11.2,12.0,12.2,12.6,12.6],\"Year\":[2012,2012,2012,2008,2008,2008,2004,2004,2004,2000,2000,2000,1996,1996,1996,1992,1992,1992,1988,1988,1988,1984,1984,1984,1980,1980,1980,1976,1976,1976,1972,1972,1972,1968,1968,1968,1964,1964,1964,1960,1960,1960,1956,1956,1956,1952,1952,1952,1948,1948,1948,1936,1936,1936,1932,1932,1932,1928,1928,1928,1924,1924,1924,1920,1920,1920,1912,1912,1912,1908,1908,1908,1906,1906,1906,1904,1904,1904,1900,1900,1900,1896,1896,1896,1896],\"index\":[0,1,2,3,4,5,6,7,8,9,10,11,12,13,14,15,16,17,18,19,20,21,22,23,24,25,26,27,28,29,30,31,32,33,34,35,36,37,38,39,40,41,42,43,44,45,46,47,48,49,50,51,52,53,54,55,56,57,58,59,60,61,62,63,64,65,66,67,68,69,70,71,72,73,74,75,76,77,78,79,80,81,82,83,84]}},\"id\":\"7db76b2b-b233-48ca-b912-21eefe8eeab4\",\"type\":\"ColumnDataSource\"},{\"attributes\":{\"callback\":null,\"range_padding\":0.05},\"id\":\"2af67c91-85cd-48a9-9d01-e72d302e44f9\",\"type\":\"DataRange1d\"},{\"attributes\":{},\"id\":\"3de8a431-306a-4955-b51c-695326cf4b68\",\"type\":\"ToolEvents\"},{\"attributes\":{},\"id\":\"a9fa6d42-4cff-49ad-ad4e-23f00aabdb7e\",\"type\":\"BasicTickFormatter\"},{\"attributes\":{},\"id\":\"a39943ac-1235-4a23-a8c5-77d04a9ad0df\",\"type\":\"BasicTickFormatter\"},{\"attributes\":{\"text\":{\"value\":\"No Olympics in 1940 or 1944\"},\"text_align\":\"center\",\"text_baseline\":\"middle\",\"text_color\":{\"value\":\"silver\"},\"text_font_size\":{\"value\":\"9pt\"},\"text_font_style\":\"italic\",\"x\":{\"value\":7.5},\"y\":{\"value\":1942}},\"id\":\"5e18d399-8bc3-4d3b-95b2-2ebf157246f1\",\"type\":\"Text\"}],\"root_ids\":[\"2cd9d4ef-6805-4fee-b747-479a2a86cea8\"]},\"title\":\"Bokeh Application\",\"version\":\"0.11.1\"}};\n",
       "            var render_items = [{\"docid\":\"dd378ef8-c6b4-42bd-8332-d142ab9a2c2c\",\"elementid\":\"e72cc4b1-505e-4016-b7b2-352384b505b8\",\"modelid\":\"2cd9d4ef-6805-4fee-b747-479a2a86cea8\",\"notebook_comms_target\":\"858275d4-c354-40d4-af83-f899c13a28a1\"}];\n",
       "            \n",
       "            Bokeh.embed.embed_items(docs_json, render_items);\n",
       "        });\n",
       "      },\n",
       "      function(Bokeh) {\n",
       "      }\n",
       "    ];\n",
       "  \n",
       "    function run_inline_js() {\n",
       "      for (var i = 0; i < inline_js.length; i++) {\n",
       "        inline_js[i](window.Bokeh);\n",
       "      }\n",
       "    }\n",
       "  \n",
       "    if (window._bokeh_is_loading === 0) {\n",
       "      console.log(\"Bokeh: BokehJS loaded, going straight to plotting\");\n",
       "      run_inline_js();\n",
       "    } else {\n",
       "      load_libs(js_urls, function() {\n",
       "        console.log(\"Bokeh: BokehJS plotting callback run at\", now());\n",
       "        run_inline_js();\n",
       "      });\n",
       "    }\n",
       "  }(this));\n",
       "</script>"
      ]
     },
     "metadata": {},
     "output_type": "display_data"
    },
    {
     "data": {
      "text/html": [
       "<p><code>&lt;Bokeh Notebook handle for <strong>In[17]</strong>&gt;</code></p>"
      ],
      "text/plain": [
       "<bokeh.io._CommsHandle at 0x10ce96c88>"
      ]
     },
     "execution_count": 17,
     "metadata": {},
     "output_type": "execute_result"
    }
   ],
   "source": [
    "show(plot)"
   ]
  },
  {
   "cell_type": "markdown",
   "metadata": {},
   "source": [
    "# Exercises"
   ]
  },
  {
   "cell_type": "code",
   "execution_count": 18,
   "metadata": {
    "collapsed": false
   },
   "outputs": [
    {
     "data": {
      "text/html": [
       "<div>\n",
       "<table border=\"1\" class=\"dataframe\">\n",
       "  <thead>\n",
       "    <tr style=\"text-align: right;\">\n",
       "      <th></th>\n",
       "      <th>fertility</th>\n",
       "      <th>life</th>\n",
       "      <th>population</th>\n",
       "      <th>region_color</th>\n",
       "    </tr>\n",
       "  </thead>\n",
       "  <tbody>\n",
       "    <tr>\n",
       "      <th>Afghanistan</th>\n",
       "      <td>7.671</td>\n",
       "      <td>33.639</td>\n",
       "      <td>9.129985</td>\n",
       "      <td>#fc8d59</td>\n",
       "    </tr>\n",
       "    <tr>\n",
       "      <th>Albania</th>\n",
       "      <td>5.711</td>\n",
       "      <td>65.475</td>\n",
       "      <td>3.802632</td>\n",
       "      <td>#e6f598</td>\n",
       "    </tr>\n",
       "    <tr>\n",
       "      <th>Algeria</th>\n",
       "      <td>7.653</td>\n",
       "      <td>47.953</td>\n",
       "      <td>9.630513</td>\n",
       "      <td>#fee08b</td>\n",
       "    </tr>\n",
       "    <tr>\n",
       "      <th>American Samoa</th>\n",
       "      <td>NaN</td>\n",
       "      <td>NaN</td>\n",
       "      <td>3.000000</td>\n",
       "      <td>#99d594</td>\n",
       "    </tr>\n",
       "    <tr>\n",
       "      <th>Andorra</th>\n",
       "      <td>NaN</td>\n",
       "      <td>NaN</td>\n",
       "      <td>3.000000</td>\n",
       "      <td>#e6f598</td>\n",
       "    </tr>\n",
       "  </tbody>\n",
       "</table>\n",
       "</div>"
      ],
      "text/plain": [
       "                fertility    life  population region_color\n",
       "Afghanistan         7.671  33.639    9.129985      #fc8d59\n",
       "Albania             5.711  65.475    3.802632      #e6f598\n",
       "Algeria             7.653  47.953    9.630513      #fee08b\n",
       "American Samoa        NaN     NaN    3.000000      #99d594\n",
       "Andorra               NaN     NaN    3.000000      #e6f598"
      ]
     },
     "execution_count": 18,
     "metadata": {},
     "output_type": "execute_result"
    }
   ],
   "source": [
    "from utils import get_gapminder_1964_data\n",
    "\n",
    "def get_plot():\n",
    "    return Plot(\n",
    "        x_range=Range1d(1, 9), y_range=Range1d(20, 100),\n",
    "        title=\"\", plot_width=800, plot_height=400,\n",
    "        outline_line_color=None, toolbar_location=None,\n",
    "    )\n",
    "\n",
    "df = get_gapminder_1964_data()\n",
    "df.head()"
   ]
  },
  {
   "cell_type": "code",
   "execution_count": 19,
   "metadata": {
    "collapsed": false
   },
   "outputs": [],
   "source": [
    "# EXERCISE: Add Circles to the plot from the data in `df`. \n",
    "# With `fertility` for the x coordinates, `life` for the y coordinates.\n",
    "\n",
    "plot = get_plot()\n",
    "\n",
    "\n"
   ]
  },
  {
   "cell_type": "code",
   "execution_count": 20,
   "metadata": {
    "collapsed": false
   },
   "outputs": [],
   "source": [
    "# EXERCISE: Color the circles by region_color & change the size of the color by population\n",
    "\n",
    "\n"
   ]
  },
  {
   "cell_type": "code",
   "execution_count": 21,
   "metadata": {
    "collapsed": false
   },
   "outputs": [],
   "source": [
    "# EXERCISE: Add axes and grid lines\n",
    "\n"
   ]
  },
  {
   "cell_type": "code",
   "execution_count": 22,
   "metadata": {
    "collapsed": true
   },
   "outputs": [],
   "source": [
    "# EXERCISE: Manually add a legend using Circle & Text. The color key is as follows \n",
    "\n",
    "region_name_and_color = [\n",
    "    ('America', '#3288bd'),\n",
    "    ('East Asia & Pacific', '#99d594'),\n",
    "    ('Europe & Central Asia', '#e6f598'),\n",
    "    ('Middle East & North Africa', '#fee08b'),\n",
    "    ('South Asia', '#fc8d59'),\n",
    "    ('Sub-Saharan Africa', '#d53e4f')\n",
    "]"
   ]
  },
  {
   "cell_type": "markdown",
   "metadata": {
    "collapsed": true
   },
   "source": [
    "## Custom User Models\n",
    "\n",
    "It is possible to extend the set of built-in Bokeh models with your own custom user models. The capability opens some valuable use-cases:\n",
    "* customizing existing Bokeh model behaviour\n",
    "* wrapping and connecting other JS libraries to Bokeh\n",
    "\n",
    "With this capability, advanced users can try out new features or techniques easily, without having to set up a full Bokeh development environment. \n",
    "\n",
    "The basic outline of a custom models starts with a JavaScript implementation, which subclasses an existing BokehJS model:"
   ]
  },
  {
   "cell_type": "code",
   "execution_count": 23,
   "metadata": {
    "collapsed": true
   },
   "outputs": [],
   "source": [
    "js_impl = \"\"\"\n",
    "HBox = require \"models/layouts/hbox\"\n",
    "\n",
    "class MyHBoxView extends HBox.View\n",
    "  render: () ->\n",
    "    super()\n",
    "    @$el.css({border: \"5px solid #{ @mget('border_color')}\"})\n",
    "    \n",
    "class MyHBox extends HBox.Model\n",
    "  type: \"MyHBox\"\n",
    "  default_view: MyHBoxView\n",
    "  \n",
    "  defaults: ->\n",
    "    return _.extend {}, super(), {\n",
    "      border_color: \"blue\"\n",
    "    }\n",
    "\n",
    "module.exports = {\n",
    "  Model: MyHBox\n",
    "  View: MyHBoxView\n",
    "}\n",
    "\"\"\""
   ]
  },
  {
   "cell_type": "markdown",
   "metadata": {},
   "source": [
    "This JavaScript implememtation is then attached to a corresponding Python Bokeh model:"
   ]
  },
  {
   "cell_type": "code",
   "execution_count": 24,
   "metadata": {
    "collapsed": false
   },
   "outputs": [],
   "source": [
    "from bokeh.models.layouts import HBox\n",
    "from bokeh.core.properties import Color\n",
    "\n",
    "class MyHBox(HBox):\n",
    "    \n",
    "    __implementation__ = js_impl\n",
    "    \n",
    "    border_color = Color(default=\"black\")"
   ]
  },
  {
   "cell_type": "markdown",
   "metadata": {},
   "source": [
    "Then the new model can be used seamlessly as any built-in Bokeh model:"
   ]
  },
  {
   "cell_type": "code",
   "execution_count": 25,
   "metadata": {
    "collapsed": false,
    "scrolled": false
   },
   "outputs": [
    {
     "data": {
      "text/html": [
       "\n",
       "\n",
       "    <div class=\"plotdiv\" id=\"c8b2402d-9460-439d-a267-5fb96a260df7\"></div>\n",
       "<script type=\"text/javascript\">\n",
       "  \n",
       "  (function(global) {\n",
       "    function now() {\n",
       "      return new Date();\n",
       "    }\n",
       "  \n",
       "    if (typeof (window._bokeh_onload_callbacks) === \"undefined\") {\n",
       "      window._bokeh_onload_callbacks = [];\n",
       "    }\n",
       "  \n",
       "    function run_callbacks() {\n",
       "      window._bokeh_onload_callbacks.forEach(function(callback) { callback() });\n",
       "      delete window._bokeh_onload_callbacks\n",
       "      console.info(\"Bokeh: all callbacks have finished\");\n",
       "    }\n",
       "  \n",
       "    function load_libs(js_urls, callback) {\n",
       "      window._bokeh_onload_callbacks.push(callback);\n",
       "      if (window._bokeh_is_loading > 0) {\n",
       "        console.log(\"Bokeh: BokehJS is being loaded, scheduling callback at\", now());\n",
       "        return null;\n",
       "      }\n",
       "      if (js_urls == null || js_urls.length === 0) {\n",
       "        run_callbacks();\n",
       "        return null;\n",
       "      }\n",
       "      console.log(\"Bokeh: BokehJS not loaded, scheduling load and callback at\", now());\n",
       "      window._bokeh_is_loading = js_urls.length;\n",
       "      for (var i = 0; i < js_urls.length; i++) {\n",
       "        var url = js_urls[i];\n",
       "        var s = document.createElement('script');\n",
       "        s.src = url;\n",
       "        s.async = false;\n",
       "        s.onreadystatechange = s.onload = function() {\n",
       "          window._bokeh_is_loading--;\n",
       "          if (window._bokeh_is_loading === 0) {\n",
       "            console.log(\"Bokeh: all BokehJS libraries loaded\");\n",
       "            run_callbacks()\n",
       "          }\n",
       "        };\n",
       "        s.onerror = function() {\n",
       "          console.warn(\"failed to load library \" + url);\n",
       "        };\n",
       "        console.log(\"Bokeh: injecting script tag for BokehJS library: \", url);\n",
       "        document.getElementsByTagName(\"head\")[0].appendChild(s);\n",
       "      }\n",
       "    };var element = document.getElementById(\"c8b2402d-9460-439d-a267-5fb96a260df7\");\n",
       "    if (element == null) {\n",
       "      console.log(\"Bokeh: ERROR: autoload.js configured with elementid 'c8b2402d-9460-439d-a267-5fb96a260df7' but no matching script tag was found. \")\n",
       "      return false;\n",
       "    }\n",
       "  \n",
       "    var js_urls = [];\n",
       "  \n",
       "    var inline_js = [\n",
       "      function(Bokeh) {\n",
       "        \n",
       "        (function outer(modules, cache, entry) {\n",
       "          if (typeof Bokeh !== \"undefined\") {\n",
       "            for (var name in modules) {\n",
       "              var module = modules[name];\n",
       "        \n",
       "              if (typeof(module) === \"string\") {\n",
       "                try {\n",
       "                  coffee = Bokeh.require(\"coffee-script\")\n",
       "                } catch (e) {\n",
       "                  throw new Error(\"Compiler requested but failed to import. Make sure bokeh-compiler(-min).js was included.\")\n",
       "                }\n",
       "        \n",
       "                function compile(code) {\n",
       "                  var body = coffee.compile(code, {bare: true, shiftLine: true});\n",
       "                  return new Function(\"require\", \"module\", \"exports\", body);\n",
       "                }\n",
       "        \n",
       "                modules[name] = [compile(module), {}];\n",
       "              }\n",
       "            }\n",
       "        \n",
       "            for (var name in modules) {\n",
       "              Bokeh.require.modules[name] = modules[name];\n",
       "            }\n",
       "        \n",
       "            for (var i = 0; i < entry.length; i++) {\n",
       "              Bokeh.Collections.register_locations(Bokeh.require(entry[i]));\n",
       "            }\n",
       "          } else {\n",
       "            throw new Error(\"Cannot find Bokeh. You have to load it prior to loading plugins.\");\n",
       "          }\n",
       "        })({\n",
       "         \"custom/main\":[function(require,module,exports){\n",
       "           module.exports = { MyHBox: require(\"custom/my_h_box\") };\n",
       "         }, {}],\n",
       "         \"custom/my_h_box\": \"\\nHBox = require \\\"models/layouts/hbox\\\"\\n\\nclass MyHBoxView extends HBox.View\\n  render: () ->\\n    super()\\n    @$el.css({border: \\\"5px solid #{ @mget(\\'border_color\\')}\\\"})\\n    \\nclass MyHBox extends HBox.Model\\n  type: \\\"MyHBox\\\"\\n  default_view: MyHBoxView\\n  \\n  defaults: ->\\n    return _.extend {}, super(), {\\n      border_color: \\\"blue\\\"\\n    }\\n\\nmodule.exports = {\\n  Model: MyHBox\\n  View: MyHBoxView\\n}\\n\"\n",
       "        }, {}, [\"custom/main\"]);\n",
       "      },\n",
       "      \n",
       "      function(Bokeh) {\n",
       "        Bokeh.$(function() {\n",
       "            var docs_json = {\"b747abea-58c6-4ce8-80e7-9b5632e3de36\":{\"roots\":{\"references\":[{\"attributes\":{},\"id\":\"2c49447a-7740-4e6f-8c41-3201c56590d1\",\"type\":\"BasicTicker\"},{\"attributes\":{\"callback\":null},\"id\":\"b3aa80a3-43ce-4ade-9227-9382de7762aa\",\"type\":\"DataRange1d\"},{\"attributes\":{\"plot\":{\"id\":\"4a48cfdd-5ebb-45be-a6c5-37dab7d0e28f\",\"subtype\":\"Figure\",\"type\":\"Plot\"}},\"id\":\"69001f12-6be6-47c0-a720-d3445ffc8d39\",\"type\":\"HelpTool\"},{\"attributes\":{},\"id\":\"dc05c69c-d8b9-43f9-8b51-00a9aff8a861\",\"type\":\"BasicTickFormatter\"},{\"attributes\":{\"plot\":{\"id\":\"4a48cfdd-5ebb-45be-a6c5-37dab7d0e28f\",\"subtype\":\"Figure\",\"type\":\"Plot\"}},\"id\":\"8aba1da8-c5c9-405c-b26d-740b8464791d\",\"type\":\"PanTool\"},{\"attributes\":{\"plot\":{\"id\":\"4a48cfdd-5ebb-45be-a6c5-37dab7d0e28f\",\"subtype\":\"Figure\",\"type\":\"Plot\"}},\"id\":\"a9f196ab-42c1-45cd-a93a-fe98aa353d9a\",\"type\":\"PreviewSaveTool\"},{\"attributes\":{\"border_color\":\"firebrick\",\"children\":[{\"id\":\"4a48cfdd-5ebb-45be-a6c5-37dab7d0e28f\",\"subtype\":\"Figure\",\"type\":\"Plot\"}]},\"id\":\"05cd7a5b-e732-4626-92d3-4d656897c970\",\"type\":\"MyHBox\"},{\"attributes\":{\"fill_alpha\":{\"value\":0.1},\"fill_color\":{\"value\":\"#1f77b4\"},\"line_alpha\":{\"value\":0.1},\"line_color\":{\"value\":\"#1f77b4\"},\"size\":{\"units\":\"screen\",\"value\":10},\"x\":{\"field\":\"x\"},\"y\":{\"field\":\"y\"}},\"id\":\"2268f644-8b52-46d6-bb5d-0c2803f198ae\",\"type\":\"Circle\"},{\"attributes\":{\"plot\":{\"id\":\"4a48cfdd-5ebb-45be-a6c5-37dab7d0e28f\",\"subtype\":\"Figure\",\"type\":\"Plot\"}},\"id\":\"2ab67513-244c-482c-b464-1b9e87083dee\",\"type\":\"ResetTool\"},{\"attributes\":{\"overlay\":{\"id\":\"ad4ff8f2-81bf-4560-b265-f59fc7c6d128\",\"type\":\"BoxAnnotation\"},\"plot\":{\"id\":\"4a48cfdd-5ebb-45be-a6c5-37dab7d0e28f\",\"subtype\":\"Figure\",\"type\":\"Plot\"}},\"id\":\"e500aafe-fa8e-4e7e-a194-6fc43f8edff1\",\"type\":\"BoxZoomTool\"},{\"attributes\":{\"formatter\":{\"id\":\"dc05c69c-d8b9-43f9-8b51-00a9aff8a861\",\"type\":\"BasicTickFormatter\"},\"plot\":{\"id\":\"4a48cfdd-5ebb-45be-a6c5-37dab7d0e28f\",\"subtype\":\"Figure\",\"type\":\"Plot\"},\"ticker\":{\"id\":\"2a5e1dbd-d82c-4c3e-9474-51b7b62b4a52\",\"type\":\"BasicTicker\"}},\"id\":\"315eb9ca-8249-4d4f-b281-60ce7e5f3a80\",\"type\":\"LinearAxis\"},{\"attributes\":{\"data_source\":{\"id\":\"60637f5a-f5fb-4cba-81d6-e01f726c492d\",\"type\":\"ColumnDataSource\"},\"glyph\":{\"id\":\"39936196-371a-44af-8842-e661c2487c22\",\"type\":\"Circle\"},\"hover_glyph\":null,\"nonselection_glyph\":{\"id\":\"2268f644-8b52-46d6-bb5d-0c2803f198ae\",\"type\":\"Circle\"},\"selection_glyph\":null},\"id\":\"556f92f2-32dd-4fe3-987e-8b660abf22b7\",\"type\":\"GlyphRenderer\"},{\"attributes\":{\"below\":[{\"id\":\"c0155179-91e8-4cd9-8c3b-c0bf85a79b5c\",\"type\":\"LinearAxis\"}],\"left\":[{\"id\":\"315eb9ca-8249-4d4f-b281-60ce7e5f3a80\",\"type\":\"LinearAxis\"}],\"renderers\":[{\"id\":\"c0155179-91e8-4cd9-8c3b-c0bf85a79b5c\",\"type\":\"LinearAxis\"},{\"id\":\"d73de51c-9c49-4d28-ac87-2140f2086cff\",\"type\":\"Grid\"},{\"id\":\"315eb9ca-8249-4d4f-b281-60ce7e5f3a80\",\"type\":\"LinearAxis\"},{\"id\":\"7c39707b-0a1a-46af-b813-29729ca16068\",\"type\":\"Grid\"},{\"id\":\"ad4ff8f2-81bf-4560-b265-f59fc7c6d128\",\"type\":\"BoxAnnotation\"},{\"id\":\"556f92f2-32dd-4fe3-987e-8b660abf22b7\",\"type\":\"GlyphRenderer\"}],\"tool_events\":{\"id\":\"d156f4cc-de42-48f0-bc97-38954f0ef1af\",\"type\":\"ToolEvents\"},\"tools\":[{\"id\":\"8aba1da8-c5c9-405c-b26d-740b8464791d\",\"type\":\"PanTool\"},{\"id\":\"96be740f-8f89-410b-a00d-8578abf5cfc7\",\"type\":\"WheelZoomTool\"},{\"id\":\"e500aafe-fa8e-4e7e-a194-6fc43f8edff1\",\"type\":\"BoxZoomTool\"},{\"id\":\"a9f196ab-42c1-45cd-a93a-fe98aa353d9a\",\"type\":\"PreviewSaveTool\"},{\"id\":\"64f47af1-191a-4bde-b8f3-f03450071aeb\",\"type\":\"ResizeTool\"},{\"id\":\"2ab67513-244c-482c-b464-1b9e87083dee\",\"type\":\"ResetTool\"},{\"id\":\"69001f12-6be6-47c0-a720-d3445ffc8d39\",\"type\":\"HelpTool\"}],\"x_range\":{\"id\":\"b3aa80a3-43ce-4ade-9227-9382de7762aa\",\"type\":\"DataRange1d\"},\"y_range\":{\"id\":\"2c2a3f30-0d90-4879-9290-50ed3f81af4e\",\"type\":\"DataRange1d\"}},\"id\":\"4a48cfdd-5ebb-45be-a6c5-37dab7d0e28f\",\"subtype\":\"Figure\",\"type\":\"Plot\"},{\"attributes\":{\"plot\":{\"id\":\"4a48cfdd-5ebb-45be-a6c5-37dab7d0e28f\",\"subtype\":\"Figure\",\"type\":\"Plot\"}},\"id\":\"96be740f-8f89-410b-a00d-8578abf5cfc7\",\"type\":\"WheelZoomTool\"},{\"attributes\":{\"callback\":null},\"id\":\"2c2a3f30-0d90-4879-9290-50ed3f81af4e\",\"type\":\"DataRange1d\"},{\"attributes\":{\"plot\":{\"id\":\"4a48cfdd-5ebb-45be-a6c5-37dab7d0e28f\",\"subtype\":\"Figure\",\"type\":\"Plot\"},\"ticker\":{\"id\":\"2c49447a-7740-4e6f-8c41-3201c56590d1\",\"type\":\"BasicTicker\"}},\"id\":\"d73de51c-9c49-4d28-ac87-2140f2086cff\",\"type\":\"Grid\"},{\"attributes\":{\"bottom_units\":\"screen\",\"fill_alpha\":{\"value\":0.5},\"fill_color\":{\"value\":\"lightgrey\"},\"left_units\":\"screen\",\"level\":\"overlay\",\"line_alpha\":{\"value\":1.0},\"line_color\":{\"value\":\"black\"},\"line_dash\":[4,4],\"line_width\":{\"value\":2},\"plot\":null,\"render_mode\":\"css\",\"right_units\":\"screen\",\"top_units\":\"screen\"},\"id\":\"ad4ff8f2-81bf-4560-b265-f59fc7c6d128\",\"type\":\"BoxAnnotation\"},{\"attributes\":{},\"id\":\"5bee1fbd-77a1-49e9-b317-b673aafd5403\",\"type\":\"BasicTickFormatter\"},{\"attributes\":{\"plot\":{\"id\":\"4a48cfdd-5ebb-45be-a6c5-37dab7d0e28f\",\"subtype\":\"Figure\",\"type\":\"Plot\"}},\"id\":\"64f47af1-191a-4bde-b8f3-f03450071aeb\",\"type\":\"ResizeTool\"},{\"attributes\":{\"callback\":null,\"column_names\":[\"x\",\"y\"],\"data\":{\"x\":[1,2,3,4,5],\"y\":[2,5,8,2,7]}},\"id\":\"60637f5a-f5fb-4cba-81d6-e01f726c492d\",\"type\":\"ColumnDataSource\"},{\"attributes\":{},\"id\":\"d156f4cc-de42-48f0-bc97-38954f0ef1af\",\"type\":\"ToolEvents\"},{\"attributes\":{\"fill_color\":{\"value\":\"#1f77b4\"},\"line_color\":{\"value\":\"#1f77b4\"},\"size\":{\"units\":\"screen\",\"value\":10},\"x\":{\"field\":\"x\"},\"y\":{\"field\":\"y\"}},\"id\":\"39936196-371a-44af-8842-e661c2487c22\",\"type\":\"Circle\"},{\"attributes\":{\"formatter\":{\"id\":\"5bee1fbd-77a1-49e9-b317-b673aafd5403\",\"type\":\"BasicTickFormatter\"},\"plot\":{\"id\":\"4a48cfdd-5ebb-45be-a6c5-37dab7d0e28f\",\"subtype\":\"Figure\",\"type\":\"Plot\"},\"ticker\":{\"id\":\"2c49447a-7740-4e6f-8c41-3201c56590d1\",\"type\":\"BasicTicker\"}},\"id\":\"c0155179-91e8-4cd9-8c3b-c0bf85a79b5c\",\"type\":\"LinearAxis\"},{\"attributes\":{},\"id\":\"2a5e1dbd-d82c-4c3e-9474-51b7b62b4a52\",\"type\":\"BasicTicker\"},{\"attributes\":{\"dimension\":1,\"plot\":{\"id\":\"4a48cfdd-5ebb-45be-a6c5-37dab7d0e28f\",\"subtype\":\"Figure\",\"type\":\"Plot\"},\"ticker\":{\"id\":\"2a5e1dbd-d82c-4c3e-9474-51b7b62b4a52\",\"type\":\"BasicTicker\"}},\"id\":\"7c39707b-0a1a-46af-b813-29729ca16068\",\"type\":\"Grid\"}],\"root_ids\":[\"4a48cfdd-5ebb-45be-a6c5-37dab7d0e28f\",\"05cd7a5b-e732-4626-92d3-4d656897c970\"]},\"title\":\"Bokeh Application\",\"version\":\"0.11.1\"}};\n",
       "            var render_items = [{\"docid\":\"b747abea-58c6-4ce8-80e7-9b5632e3de36\",\"elementid\":\"c8b2402d-9460-439d-a267-5fb96a260df7\",\"modelid\":\"05cd7a5b-e732-4626-92d3-4d656897c970\",\"notebook_comms_target\":\"d97f2dc5-31f1-4b24-8c5a-4f76ee00c870\"}];\n",
       "            \n",
       "            Bokeh.embed.embed_items(docs_json, render_items);\n",
       "        });\n",
       "      },\n",
       "      function(Bokeh) {\n",
       "      }\n",
       "    ];\n",
       "  \n",
       "    function run_inline_js() {\n",
       "      for (var i = 0; i < inline_js.length; i++) {\n",
       "        inline_js[i](window.Bokeh);\n",
       "      }\n",
       "    }\n",
       "  \n",
       "    if (window._bokeh_is_loading === 0) {\n",
       "      console.log(\"Bokeh: BokehJS loaded, going straight to plotting\");\n",
       "      run_inline_js();\n",
       "    } else {\n",
       "      load_libs(js_urls, function() {\n",
       "        console.log(\"Bokeh: BokehJS plotting callback run at\", now());\n",
       "        run_inline_js();\n",
       "      });\n",
       "    }\n",
       "  }(this));\n",
       "</script>"
      ]
     },
     "metadata": {},
     "output_type": "display_data"
    },
    {
     "data": {
      "text/html": [
       "<p><code>&lt;Bokeh Notebook handle for <strong>In[25]</strong>&gt;</code></p>"
      ],
      "text/plain": [
       "<bokeh.io._CommsHandle at 0x10d003470>"
      ]
     },
     "execution_count": 25,
     "metadata": {},
     "output_type": "execute_result"
    }
   ],
   "source": [
    "from bokeh.plotting import figure, show\n",
    "\n",
    "p = figure()\n",
    "p.circle([1,2,3,4,5], [2,5,8,2,7], size=10)\n",
    "\n",
    "show(MyHBox(p, border_color=\"firebrick\"))"
   ]
  },
  {
   "cell_type": "code",
   "execution_count": null,
   "metadata": {
    "collapsed": true
   },
   "outputs": [],
   "source": []
  },
  {
   "cell_type": "code",
   "execution_count": null,
   "metadata": {
    "collapsed": true
   },
   "outputs": [],
   "source": []
  }
 ],
 "metadata": {
  "kernelspec": {
   "display_name": "Python 3",
   "language": "python",
   "name": "python3"
  },
  "language_info": {
   "codemirror_mode": {
    "name": "ipython",
    "version": 3
   },
   "file_extension": ".py",
   "mimetype": "text/x-python",
   "name": "python",
   "nbconvert_exporter": "python",
   "pygments_lexer": "ipython3",
   "version": "3.5.1"
  }
 },
 "nbformat": 4,
 "nbformat_minor": 0
}
