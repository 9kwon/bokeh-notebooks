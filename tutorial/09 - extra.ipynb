{
 "cells": [
  {
   "cell_type": "markdown",
   "metadata": {},
   "source": [
    "<table style=\"float:left; border:none\">\n",
    "   <tr style=\"border:none\">\n",
    "       <td style=\"border:none\">\n",
    "           <a href=\"http://bokeh.pydata.org/\">     \n",
    "           <img \n",
    "               src=\"assets/images/bokeh-transparent.png\" \n",
    "               style=\"width:50px\"\n",
    "           >\n",
    "           </a>    \n",
    "       </td>\n",
    "       <td style=\"border:none\">\n",
    "           <h1>Bokeh Tutorial</h1>\n",
    "       </td>\n",
    "   </tr>\n",
    "</table>\n",
    "\n",
    "<div style=\"float:right;\"><h2>08. Extra Topics</h2></div>"
   ]
  },
  {
   "cell_type": "markdown",
   "metadata": {},
   "source": [
    "# Additional resources\n",
    "\n",
    "There are lots of things we haven't had time to tell you about. In general to learn more about bokeh, the following resources will hopefully be helpful:\n",
    "\n",
    "* Documentation - http://bokeh.pydata.org/en/latest\n",
    "* Bokeh examples - https://github.com/bokeh/bokeh/tree/master/examples/\n",
    "* Source code - https://github.com/bokeh/bokeh\n",
    "* Mailing list - https://groups.google.com/a/continuum.io/forum/#!forum/bokeh\n",
    "* StackOverflow (use `#bokeh` tag): http://stackoverflow.com/questions/tagged/bokeh"
   ]
  },
  {
   "cell_type": "markdown",
   "metadata": {},
   "source": [
    "# Things not in this tutorial\n",
    "\n",
    "\n",
    "## WebGL\n",
    "\n",
    "WebGL allows you to plot large number of points without slowing down your interactions. Currently only circles and lines are supported with WebGL, but work on other glyphs is underway.\n",
    "\n",
    "http://bokeh.pydata.org/en/latest/docs/user_guide/webgl.html \n",
    "\n",
    "\n",
    "## Different data sources\n",
    "\n",
    "Several new data source types have recently been added to Bokeh:\n",
    "\n",
    "* `AjaxDataSource` &mdash; build streaming and interactive visualizations from REST APIs\n",
    "  \n",
    "\n",
    "* `GeoJSONDataSource` &mdash; drive visuals from GIS data in GeoJSON format\n",
    "\n",
    "\n",
    "* `TileSource` &mdash; display tiled maps from a variety of tile providers"
   ]
  },
  {
   "cell_type": "code",
   "execution_count": null,
   "metadata": {
    "collapsed": true
   },
   "outputs": [],
   "source": []
  }
 ],
 "metadata": {
  "kernelspec": {
   "display_name": "Python 3",
   "language": "python",
   "name": "python3"
  },
  "language_info": {
   "codemirror_mode": {
    "name": "ipython",
    "version": 3
   },
   "file_extension": ".py",
   "mimetype": "text/x-python",
   "name": "python",
   "nbconvert_exporter": "python",
   "pygments_lexer": "ipython3",
   "version": "3.5.1"
  }
 },
 "nbformat": 4,
 "nbformat_minor": 0
}
