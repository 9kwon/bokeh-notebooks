{
 "metadata": {
  "name": "",
  "signature": "sha256:427206eb442fdd57202fb8650bea72736f37b3e141278eeb9a01fe0e0e0966f1"
 },
 "nbformat": 3,
 "nbformat_minor": 0,
 "worksheets": [
  {
   "cells": [
    {
     "cell_type": "heading",
     "level": 2,
     "metadata": {},
     "source": [
      "<div style=\"float:left\">\n",
      "    <a href=\"http://bokeh.pydata.org/\">\n",
      "    <img src=\"http://bokeh.pydata.org/_static/bokeh-transparent.png\" style=\"display:inline-block; width:90px\"></a>\n",
      "    <h1  style=\"display:inline-block\">Bokeh tutorial - Charts</h1>\n",
      "</div>"
     ]
    },
    {
     "cell_type": "markdown",
     "metadata": {},
     "source": [
      "This Tutorial allows you to attempt the exercises without seeing the solutions, click the `Show solution` button after each  exercise whenever you are ready to check your code.\n",
      "\n",
      "<script>\n",
      "    toggle_md_cell = function(divid) {\n",
      "        $(\"#\" + divid).parent().parent().toggle();\n",
      "        // Style for solution cells //\n",
      "        $(\"#\" + divid).parent().parent().css(\"border\",\"1px solid rgba(0 , 0 , 0 , 0.15)\")\n",
      "        $(\"#\" + divid).parent().parent().css(\"border-radius\",\"7px\")\n",
      "        $(\"#\" + divid).parent().parent().css(\"background-color\",\"#F7FBFD\")\n",
      "        $(\"#\" + divid).parent().children(\"pre\").children(\"code\").css(\"background-color\",\"#F7FBFD\")\n",
      "    };\n",
      "    hide_all_hints = function() {\n",
      "        $(\"div.hint\").parent().parent().hide();\n",
      "    };\n",
      "    show_all_hints = function() {\n",
      "        $(\"div.hint\").parent().parent().show();\n",
      "    };\n",
      "</script>\n",
      "\n",
      "<button onclick=\"show_all_hints();\" class=\"btn\">Show solutions</button> <button onclick=\"hide_all_hints();\" class=\"btn\">Hide solutions</button>"
     ]
    },
    {
     "cell_type": "heading",
     "level": 2,
     "metadata": {},
     "source": [
      "Barcharts"
     ]
    },
    {
     "cell_type": "code",
     "collapsed": false,
     "input": [
      "from collections import OrderedDict\n",
      "\n",
      "import numpy as np\n",
      "\n",
      "from bokeh.charts import Bar\n",
      "from bokeh.sampledata.olympics2014 import data\n",
      "from bokeh.plotting import *\n",
      "\n",
      "output_notebook()\n",
      "\n",
      "data = {d['abbr']: d['medals'] for d in data['data'] if d['medals']['total'] > 0}\n",
      "\n",
      "countries = sorted(data.keys(), key=lambda x: data[x]['total'], reverse=True)\n",
      "\n",
      "gold = np.array([data[abbr]['gold'] for abbr in countries], dtype=np.float)\n",
      "silver = np.array([data[abbr]['silver'] for abbr in countries], dtype=np.float)\n",
      "bronze = np.array([data[abbr]['bronze'] for abbr in countries], dtype=np.float)\n",
      "\n",
      "medals = OrderedDict(bronze=bronze, silver=silver, gold=gold)"
     ],
     "language": "python",
     "metadata": {},
     "outputs": []
    },
    {
     "cell_type": "code",
     "collapsed": false,
     "input": [
      "#EXERCISE: Create a barchart to display grouped bars of the medal results. You can either use a dictionary or a DataFrame."
     ],
     "language": "python",
     "metadata": {},
     "outputs": []
    },
    {
     "cell_type": "markdown",
     "metadata": {},
     "source": [
      "<button onclick=\"toggle_md_cell('hint1')\"; class=\"btn\">Show solution</button>"
     ]
    },
    {
     "cell_type": "markdown",
     "metadata": {},
     "source": [
      "```python\n",
      "#Using a dictionary as input\n",
      "medals = OrderedDict(bronze=bronze, silver=silver, gold=gold)\n",
      "bar = Bar(medals, countries, title=\"grouped, dict_input\", xlabel=\"countries\", ylabel=\"medals\", \n",
      "          legend=True, width=800, height=600, notebook=True)\n",
      "bar.show()\n",
      "\n",
      "#Using a pandas DataFrame as input\n",
      "import pandas as pd\n",
      "df = pd.DataFrame(medals, index=countries)\n",
      "bar = Bar(df, title=\"grouped, df_input\", xlabel=\"countries\", ylabel=\"medals\", legend=True, width=800, height=600, notebook=True)\n",
      "bar.show()\n",
      "```\n",
      "<div id=\"hint1\" class=\"hint\"></div>"
     ]
    },
    {
     "cell_type": "code",
     "collapsed": false,
     "input": [
      "#EXERCISE: Create a barchart to display *stacked bars* of the medal results. You can either use a dictionary or a DataFrame."
     ],
     "language": "python",
     "metadata": {},
     "outputs": []
    },
    {
     "cell_type": "markdown",
     "metadata": {},
     "source": [
      "<button onclick=\"toggle_md_cell('hint2')\"; class=\"btn\">Show solution</button>"
     ]
    },
    {
     "cell_type": "markdown",
     "metadata": {},
     "source": [
      "```python\n",
      "#Using a dictionary as input\n",
      "bar = Bar(medals, countries)\n",
      "bar.title(\"stacked, dict_input\").xlabel(\"countries\").ylabel(\"medals\").legend(True).width(600).height(400).stacked().notebook()\n",
      ".show()\n",
      "\n",
      "#Using a DataFrame as input\n",
      "bar = Bar(df)\n",
      "bar.title(\"stacked, df_input\").xlabel(\"countries\").ylabel(\"medals\").legend(True).width(600).height(400).stacked().notebook()\n",
      ".show()\n",
      "```\n",
      "<div id=\"hint2\" class=\"hint\"></div>"
     ]
    },
    {
     "cell_type": "markdown",
     "metadata": {},
     "source": [
      "<script>\n",
      "    hide_all_hints();\n",
      "</script>"
     ]
    },
    {
     "cell_type": "markdown",
     "metadata": {},
     "source": [
      "<script>\n",
      "  (function(i,s,o,g,r,a,m){i['GoogleAnalyticsObject']=r;i[r]=i[r]||function(){\n",
      "  (i[r].q=i[r].q||[]).push(arguments)},i[r].l=1*new Date();a=s.createElement(o),\n",
      "  m=s.getElementsByTagName(o)[0];a.async=1;a.src=g;m.parentNode.insertBefore(a,m)\n",
      "  })(window,document,'script','//www.google-analytics.com/analytics.js','ga');\n",
      "\n",
      "  ga('create', 'UA-27761864-9', 'auto');\n",
      "  ga('send', 'pageview');\n",
      "</script>"
     ]
    }
   ],
   "metadata": {}
  }
 ]
}