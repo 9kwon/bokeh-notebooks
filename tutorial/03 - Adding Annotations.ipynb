{
 "cells": [
  {
   "cell_type": "markdown",
   "metadata": {},
   "source": [
    "<table style=\"float:left; border:none\">\n",
    "   <tr style=\"border:none; background-color: #ffffff\">\n",
    "       <td style=\"border:none\">\n",
    "           <a href=\"http://bokeh.pydata.org/\">     \n",
    "           <img \n",
    "               src=\"assets/bokeh-transparent.png\" \n",
    "               style=\"width:50px\"\n",
    "           >\n",
    "           </a>    \n",
    "       </td>\n",
    "       <td style=\"border:none\">\n",
    "           <h1>Bokeh Tutorial</h1>\n",
    "       </td>\n",
    "   </tr>\n",
    "</table>\n",
    "\n",
    "<div style=\"float:right;\"><h2>03. Adding Annotations</h2></div>"
   ]
  },
  {
   "cell_type": "code",
   "execution_count": 1,
   "metadata": {
    "collapsed": true
   },
   "outputs": [],
   "source": [
    "from bokeh.io import output_notebook, show\n",
    "from bokeh.plotting import figure"
   ]
  },
  {
   "cell_type": "code",
   "execution_count": 2,
   "metadata": {},
   "outputs": [
    {
     "data": {
      "text/html": [
       "\n",
       "    <div class=\"bk-root\">\n",
       "        <a href=\"https://bokeh.pydata.org\" target=\"_blank\" class=\"bk-logo bk-logo-small bk-logo-notebook\"></a>\n",
       "        <span id=\"ed0f4f40-2fde-4598-a1fa-3745652082a7\">Loading BokehJS ...</span>\n",
       "    </div>"
      ]
     },
     "metadata": {},
     "output_type": "display_data"
    },
    {
     "data": {
      "application/javascript": [
       "\n",
       "(function(root) {\n",
       "  function now() {\n",
       "    return new Date();\n",
       "  }\n",
       "\n",
       "  var force = true;\n",
       "\n",
       "  if (typeof (root._bokeh_onload_callbacks) === \"undefined\" || force === true) {\n",
       "    root._bokeh_onload_callbacks = [];\n",
       "    root._bokeh_is_loading = undefined;\n",
       "  }\n",
       "\n",
       "  var JS_MIME_TYPE = 'application/javascript';\n",
       "  var HTML_MIME_TYPE = 'text/html';\n",
       "  var EXEC_MIME_TYPE = 'application/vnd.bokehjs_exec.v0+json';\n",
       "  var CLASS_NAME = 'output_bokeh rendered_html';\n",
       "\n",
       "  /**\n",
       "   * Render data to the DOM node\n",
       "   */\n",
       "  function render(props, node) {\n",
       "    var script = document.createElement(\"script\");\n",
       "    node.appendChild(script);\n",
       "  }\n",
       "\n",
       "  /**\n",
       "   * Handle when an output is cleared or removed\n",
       "   */\n",
       "  function handleClearOutput(event, handle) {\n",
       "    var cell = handle.cell;\n",
       "\n",
       "    var id = cell.output_area._bokeh_element_id;\n",
       "    var server_id = cell.output_area._bokeh_server_id;\n",
       "    // Clean up Bokeh references\n",
       "    if (id !== undefined) {\n",
       "      Bokeh.index[id].model.document.clear();\n",
       "      delete Bokeh.index[id];\n",
       "    }\n",
       "\n",
       "    if (server_id !== undefined) {\n",
       "      // Clean up Bokeh references\n",
       "      var cmd = \"from bokeh.io import _state; print(_state.uuid_to_server['\" + server_id + \"'].get_sessions()[0].document.roots[0]._id)\";\n",
       "      cell.notebook.kernel.execute(cmd, {\n",
       "        iopub: {\n",
       "          output: function(msg) {\n",
       "            var element_id = msg.content.text.trim();\n",
       "            Bokeh.index[element_id].model.document.clear();\n",
       "            delete Bokeh.index[element_id];\n",
       "          }\n",
       "        }\n",
       "      });\n",
       "      // Destroy server and session\n",
       "      var cmd = \"from bokeh import io; io._destroy_server('\" + server_id + \"')\";\n",
       "      cell.notebook.kernel.execute(cmd);\n",
       "    }\n",
       "  }\n",
       "\n",
       "  /**\n",
       "   * Handle when a new output is added\n",
       "   */\n",
       "  function handleAddOutput(event, handle) {\n",
       "    var output_area = handle.output_area;\n",
       "    var output = handle.output;\n",
       "\n",
       "    // limit handleAddOutput to display_data with EXEC_MIME_TYPE content only\n",
       "    if ((output.output_type != \"display_data\") || (!output.data.hasOwnProperty(EXEC_MIME_TYPE))) {\n",
       "      return\n",
       "    }\n",
       "\n",
       "    var toinsert = output_area.element.find(`.${CLASS_NAME.split(' ')[0]}`);\n",
       "\n",
       "    if (output.metadata[EXEC_MIME_TYPE][\"id\"] !== undefined) {\n",
       "      toinsert[0].firstChild.textContent = output.data[JS_MIME_TYPE];\n",
       "      // store reference to embed id on output_area\n",
       "      output_area._bokeh_element_id = output.metadata[EXEC_MIME_TYPE][\"id\"];\n",
       "    }\n",
       "    if (output.metadata[EXEC_MIME_TYPE][\"server_id\"] !== undefined) {\n",
       "      var bk_div = document.createElement(\"div\");\n",
       "      bk_div.innerHTML = output.data[HTML_MIME_TYPE];\n",
       "      var script_attrs = bk_div.children[0].attributes;\n",
       "      for (var i = 0; i < script_attrs.length; i++) {\n",
       "        toinsert[0].firstChild.setAttribute(script_attrs[i].name, script_attrs[i].value);\n",
       "      }\n",
       "      // store reference to server id on output_area\n",
       "      output_area._bokeh_server_id = output.metadata[EXEC_MIME_TYPE][\"server_id\"];\n",
       "    }\n",
       "  }\n",
       "\n",
       "  function register_renderer(events, OutputArea) {\n",
       "\n",
       "    function append_mime(data, metadata, element) {\n",
       "      // create a DOM node to render to\n",
       "      var toinsert = this.create_output_subarea(\n",
       "        metadata,\n",
       "        CLASS_NAME,\n",
       "        EXEC_MIME_TYPE\n",
       "      );\n",
       "      this.keyboard_manager.register_events(toinsert);\n",
       "      // Render to node\n",
       "      var props = {data: data, metadata: metadata[EXEC_MIME_TYPE]};\n",
       "      render(props, toinsert[0]);\n",
       "      element.append(toinsert);\n",
       "      return toinsert\n",
       "    }\n",
       "\n",
       "    /* Handle when an output is cleared or removed */\n",
       "    events.on('clear_output.CodeCell', handleClearOutput);\n",
       "    events.on('delete.Cell', handleClearOutput);\n",
       "\n",
       "    /* Handle when a new output is added */\n",
       "    events.on('output_added.OutputArea', handleAddOutput);\n",
       "\n",
       "    /**\n",
       "     * Register the mime type and append_mime function with output_area\n",
       "     */\n",
       "    OutputArea.prototype.register_mime_type(EXEC_MIME_TYPE, append_mime, {\n",
       "      /* Is output safe? */\n",
       "      safe: true,\n",
       "      /* Index of renderer in `output_area.display_order` */\n",
       "      index: 0\n",
       "    });\n",
       "  }\n",
       "\n",
       "  // register the mime type if in Jupyter Notebook environment and previously unregistered\n",
       "  if (root.Jupyter !== undefined) {\n",
       "    var events = require('base/js/events');\n",
       "    var OutputArea = require('notebook/js/outputarea').OutputArea;\n",
       "\n",
       "    if (OutputArea.prototype.mime_types().indexOf(EXEC_MIME_TYPE) == -1) {\n",
       "      register_renderer(events, OutputArea);\n",
       "    }\n",
       "  }\n",
       "\n",
       "  \n",
       "  if (typeof (root._bokeh_timeout) === \"undefined\" || force === true) {\n",
       "    root._bokeh_timeout = Date.now() + 5000;\n",
       "    root._bokeh_failed_load = false;\n",
       "  }\n",
       "\n",
       "  var NB_LOAD_WARNING = {'data': {'text/html':\n",
       "     \"<div style='background-color: #fdd'>\\n\"+\n",
       "     \"<p>\\n\"+\n",
       "     \"BokehJS does not appear to have successfully loaded. If loading BokehJS from CDN, this \\n\"+\n",
       "     \"may be due to a slow or bad network connection. Possible fixes:\\n\"+\n",
       "     \"</p>\\n\"+\n",
       "     \"<ul>\\n\"+\n",
       "     \"<li>re-rerun `output_notebook()` to attempt to load from CDN again, or</li>\\n\"+\n",
       "     \"<li>use INLINE resources instead, as so:</li>\\n\"+\n",
       "     \"</ul>\\n\"+\n",
       "     \"<code>\\n\"+\n",
       "     \"from bokeh.resources import INLINE\\n\"+\n",
       "     \"output_notebook(resources=INLINE)\\n\"+\n",
       "     \"</code>\\n\"+\n",
       "     \"</div>\"}};\n",
       "\n",
       "  function display_loaded() {\n",
       "    var el = document.getElementById(\"ed0f4f40-2fde-4598-a1fa-3745652082a7\");\n",
       "    if (el != null) {\n",
       "      el.textContent = \"BokehJS is loading...\";\n",
       "    }\n",
       "    if (root.Bokeh !== undefined) {\n",
       "      if (el != null) {\n",
       "        el.textContent = \"BokehJS \" + root.Bokeh.version + \" successfully loaded.\";\n",
       "      }\n",
       "    } else if (Date.now() < root._bokeh_timeout) {\n",
       "      setTimeout(display_loaded, 100)\n",
       "    }\n",
       "  }\n",
       "\n",
       "\n",
       "  function run_callbacks() {\n",
       "    try {\n",
       "      root._bokeh_onload_callbacks.forEach(function(callback) { callback() });\n",
       "    }\n",
       "    finally {\n",
       "      delete root._bokeh_onload_callbacks\n",
       "    }\n",
       "    console.info(\"Bokeh: all callbacks have finished\");\n",
       "  }\n",
       "\n",
       "  function load_libs(js_urls, callback) {\n",
       "    root._bokeh_onload_callbacks.push(callback);\n",
       "    if (root._bokeh_is_loading > 0) {\n",
       "      console.log(\"Bokeh: BokehJS is being loaded, scheduling callback at\", now());\n",
       "      return null;\n",
       "    }\n",
       "    if (js_urls == null || js_urls.length === 0) {\n",
       "      run_callbacks();\n",
       "      return null;\n",
       "    }\n",
       "    console.log(\"Bokeh: BokehJS not loaded, scheduling load and callback at\", now());\n",
       "    root._bokeh_is_loading = js_urls.length;\n",
       "    for (var i = 0; i < js_urls.length; i++) {\n",
       "      var url = js_urls[i];\n",
       "      var s = document.createElement('script');\n",
       "      s.src = url;\n",
       "      s.async = false;\n",
       "      s.onreadystatechange = s.onload = function() {\n",
       "        root._bokeh_is_loading--;\n",
       "        if (root._bokeh_is_loading === 0) {\n",
       "          console.log(\"Bokeh: all BokehJS libraries loaded\");\n",
       "          run_callbacks()\n",
       "        }\n",
       "      };\n",
       "      s.onerror = function() {\n",
       "        console.warn(\"failed to load library \" + url);\n",
       "      };\n",
       "      console.log(\"Bokeh: injecting script tag for BokehJS library: \", url);\n",
       "      document.getElementsByTagName(\"head\")[0].appendChild(s);\n",
       "    }\n",
       "  };var element = document.getElementById(\"ed0f4f40-2fde-4598-a1fa-3745652082a7\");\n",
       "  if (element == null) {\n",
       "    console.log(\"Bokeh: ERROR: autoload.js configured with elementid 'ed0f4f40-2fde-4598-a1fa-3745652082a7' but no matching script tag was found. \")\n",
       "    return false;\n",
       "  }\n",
       "\n",
       "  var js_urls = [\"https://cdn.pydata.org/bokeh/release/bokeh-0.12.8.min.js\", \"https://cdn.pydata.org/bokeh/release/bokeh-widgets-0.12.8.min.js\", \"https://cdn.pydata.org/bokeh/release/bokeh-tables-0.12.8.min.js\", \"https://cdn.pydata.org/bokeh/release/bokeh-gl-0.12.8.min.js\"];\n",
       "\n",
       "  var inline_js = [\n",
       "    function(Bokeh) {\n",
       "      Bokeh.set_log_level(\"info\");\n",
       "    },\n",
       "    \n",
       "    function(Bokeh) {\n",
       "      \n",
       "    },\n",
       "    function(Bokeh) {\n",
       "      console.log(\"Bokeh: injecting CSS: https://cdn.pydata.org/bokeh/release/bokeh-0.12.8.min.css\");\n",
       "      Bokeh.embed.inject_css(\"https://cdn.pydata.org/bokeh/release/bokeh-0.12.8.min.css\");\n",
       "      console.log(\"Bokeh: injecting CSS: https://cdn.pydata.org/bokeh/release/bokeh-widgets-0.12.8.min.css\");\n",
       "      Bokeh.embed.inject_css(\"https://cdn.pydata.org/bokeh/release/bokeh-widgets-0.12.8.min.css\");\n",
       "      console.log(\"Bokeh: injecting CSS: https://cdn.pydata.org/bokeh/release/bokeh-tables-0.12.8.min.css\");\n",
       "      Bokeh.embed.inject_css(\"https://cdn.pydata.org/bokeh/release/bokeh-tables-0.12.8.min.css\");\n",
       "    }\n",
       "  ];\n",
       "\n",
       "  function run_inline_js() {\n",
       "    \n",
       "    if ((root.Bokeh !== undefined) || (force === true)) {\n",
       "      for (var i = 0; i < inline_js.length; i++) {\n",
       "        inline_js[i].call(root, root.Bokeh);\n",
       "      }if (force === true) {\n",
       "        display_loaded();\n",
       "      }} else if (Date.now() < root._bokeh_timeout) {\n",
       "      setTimeout(run_inline_js, 100);\n",
       "    } else if (!root._bokeh_failed_load) {\n",
       "      console.log(\"Bokeh: BokehJS failed to load within specified timeout.\");\n",
       "      root._bokeh_failed_load = true;\n",
       "    } else if (force !== true) {\n",
       "      var cell = $(document.getElementById(\"ed0f4f40-2fde-4598-a1fa-3745652082a7\")).parents('.cell').data().cell;\n",
       "      cell.output_area.append_execute_result(NB_LOAD_WARNING)\n",
       "    }\n",
       "\n",
       "  }\n",
       "\n",
       "  if (root._bokeh_is_loading === 0) {\n",
       "    console.log(\"Bokeh: BokehJS loaded, going straight to plotting\");\n",
       "    run_inline_js();\n",
       "  } else {\n",
       "    load_libs(js_urls, function() {\n",
       "      console.log(\"Bokeh: BokehJS plotting callback run at\", now());\n",
       "      run_inline_js();\n",
       "    });\n",
       "  }\n",
       "}(window));"
      ],
      "application/vnd.bokehjs_load.v0+json": "\n(function(root) {\n  function now() {\n    return new Date();\n  }\n\n  var force = true;\n\n  if (typeof (root._bokeh_onload_callbacks) === \"undefined\" || force === true) {\n    root._bokeh_onload_callbacks = [];\n    root._bokeh_is_loading = undefined;\n  }\n\n  \n\n  \n  if (typeof (root._bokeh_timeout) === \"undefined\" || force === true) {\n    root._bokeh_timeout = Date.now() + 5000;\n    root._bokeh_failed_load = false;\n  }\n\n  var NB_LOAD_WARNING = {'data': {'text/html':\n     \"<div style='background-color: #fdd'>\\n\"+\n     \"<p>\\n\"+\n     \"BokehJS does not appear to have successfully loaded. If loading BokehJS from CDN, this \\n\"+\n     \"may be due to a slow or bad network connection. Possible fixes:\\n\"+\n     \"</p>\\n\"+\n     \"<ul>\\n\"+\n     \"<li>re-rerun `output_notebook()` to attempt to load from CDN again, or</li>\\n\"+\n     \"<li>use INLINE resources instead, as so:</li>\\n\"+\n     \"</ul>\\n\"+\n     \"<code>\\n\"+\n     \"from bokeh.resources import INLINE\\n\"+\n     \"output_notebook(resources=INLINE)\\n\"+\n     \"</code>\\n\"+\n     \"</div>\"}};\n\n  function display_loaded() {\n    var el = document.getElementById(\"ed0f4f40-2fde-4598-a1fa-3745652082a7\");\n    if (el != null) {\n      el.textContent = \"BokehJS is loading...\";\n    }\n    if (root.Bokeh !== undefined) {\n      if (el != null) {\n        el.textContent = \"BokehJS \" + root.Bokeh.version + \" successfully loaded.\";\n      }\n    } else if (Date.now() < root._bokeh_timeout) {\n      setTimeout(display_loaded, 100)\n    }\n  }\n\n\n  function run_callbacks() {\n    try {\n      root._bokeh_onload_callbacks.forEach(function(callback) { callback() });\n    }\n    finally {\n      delete root._bokeh_onload_callbacks\n    }\n    console.info(\"Bokeh: all callbacks have finished\");\n  }\n\n  function load_libs(js_urls, callback) {\n    root._bokeh_onload_callbacks.push(callback);\n    if (root._bokeh_is_loading > 0) {\n      console.log(\"Bokeh: BokehJS is being loaded, scheduling callback at\", now());\n      return null;\n    }\n    if (js_urls == null || js_urls.length === 0) {\n      run_callbacks();\n      return null;\n    }\n    console.log(\"Bokeh: BokehJS not loaded, scheduling load and callback at\", now());\n    root._bokeh_is_loading = js_urls.length;\n    for (var i = 0; i < js_urls.length; i++) {\n      var url = js_urls[i];\n      var s = document.createElement('script');\n      s.src = url;\n      s.async = false;\n      s.onreadystatechange = s.onload = function() {\n        root._bokeh_is_loading--;\n        if (root._bokeh_is_loading === 0) {\n          console.log(\"Bokeh: all BokehJS libraries loaded\");\n          run_callbacks()\n        }\n      };\n      s.onerror = function() {\n        console.warn(\"failed to load library \" + url);\n      };\n      console.log(\"Bokeh: injecting script tag for BokehJS library: \", url);\n      document.getElementsByTagName(\"head\")[0].appendChild(s);\n    }\n  };var element = document.getElementById(\"ed0f4f40-2fde-4598-a1fa-3745652082a7\");\n  if (element == null) {\n    console.log(\"Bokeh: ERROR: autoload.js configured with elementid 'ed0f4f40-2fde-4598-a1fa-3745652082a7' but no matching script tag was found. \")\n    return false;\n  }\n\n  var js_urls = [\"https://cdn.pydata.org/bokeh/release/bokeh-0.12.8.min.js\", \"https://cdn.pydata.org/bokeh/release/bokeh-widgets-0.12.8.min.js\", \"https://cdn.pydata.org/bokeh/release/bokeh-tables-0.12.8.min.js\", \"https://cdn.pydata.org/bokeh/release/bokeh-gl-0.12.8.min.js\"];\n\n  var inline_js = [\n    function(Bokeh) {\n      Bokeh.set_log_level(\"info\");\n    },\n    \n    function(Bokeh) {\n      \n    },\n    function(Bokeh) {\n      console.log(\"Bokeh: injecting CSS: https://cdn.pydata.org/bokeh/release/bokeh-0.12.8.min.css\");\n      Bokeh.embed.inject_css(\"https://cdn.pydata.org/bokeh/release/bokeh-0.12.8.min.css\");\n      console.log(\"Bokeh: injecting CSS: https://cdn.pydata.org/bokeh/release/bokeh-widgets-0.12.8.min.css\");\n      Bokeh.embed.inject_css(\"https://cdn.pydata.org/bokeh/release/bokeh-widgets-0.12.8.min.css\");\n      console.log(\"Bokeh: injecting CSS: https://cdn.pydata.org/bokeh/release/bokeh-tables-0.12.8.min.css\");\n      Bokeh.embed.inject_css(\"https://cdn.pydata.org/bokeh/release/bokeh-tables-0.12.8.min.css\");\n    }\n  ];\n\n  function run_inline_js() {\n    \n    if ((root.Bokeh !== undefined) || (force === true)) {\n      for (var i = 0; i < inline_js.length; i++) {\n        inline_js[i].call(root, root.Bokeh);\n      }if (force === true) {\n        display_loaded();\n      }} else if (Date.now() < root._bokeh_timeout) {\n      setTimeout(run_inline_js, 100);\n    } else if (!root._bokeh_failed_load) {\n      console.log(\"Bokeh: BokehJS failed to load within specified timeout.\");\n      root._bokeh_failed_load = true;\n    } else if (force !== true) {\n      var cell = $(document.getElementById(\"ed0f4f40-2fde-4598-a1fa-3745652082a7\")).parents('.cell').data().cell;\n      cell.output_area.append_execute_result(NB_LOAD_WARNING)\n    }\n\n  }\n\n  if (root._bokeh_is_loading === 0) {\n    console.log(\"Bokeh: BokehJS loaded, going straight to plotting\");\n    run_inline_js();\n  } else {\n    load_libs(js_urls, function() {\n      console.log(\"Bokeh: BokehJS plotting callback run at\", now());\n      run_inline_js();\n    });\n  }\n}(window));"
     },
     "metadata": {},
     "output_type": "display_data"
    }
   ],
   "source": [
    "output_notebook()"
   ]
  },
  {
   "cell_type": "markdown",
   "metadata": {},
   "source": [
    "# Overview\n",
    "\n",
    "Sometimes we want to add visual cues (boundary lines, shaded regions, labels and arrows, etc.) to our plots to call out some feature or other. Bokeh has several annotation types available for uses like this. Typically to add annotations we create the \"low level\" annotation object directly, and add it to our `Plot`, `Figure` or `Chart` using `add_layout`. Let's take a look at some specific examples."
   ]
  },
  {
   "cell_type": "markdown",
   "metadata": {
    "collapsed": true
   },
   "source": [
    "## Spans\n",
    "\n",
    "`Spans` are \"infinite\" vertical or horizonal lines. When creating them, you specify the `dimension` that should be spanned (i.e., `width` or `height`), any visual line properties for the appearance, and the location along the dimension where the line should be drawn. Let's look at an example that adds two horizontal spans to a simple plot:"
   ]
  },
  {
   "cell_type": "code",
   "execution_count": 3,
   "metadata": {},
   "outputs": [
    {
     "data": {
      "text/html": [
       "\n",
       "<div class=\"bk-root\">\n",
       "    <div class=\"bk-plotdiv\" id=\"33dc3211-d682-4a82-919a-a85f964c69bd\"></div>\n",
       "</div>"
      ]
     },
     "metadata": {},
     "output_type": "display_data"
    },
    {
     "data": {
      "application/javascript": [
       "(function(root) {\n",
       "  function embed_document(root) {\n",
       "    var docs_json = {\"8e2a99c8-0038-42aa-892f-0bb01c4b817b\":{\"roots\":{\"references\":[{\"attributes\":{},\"id\":\"e6802211-ddea-44bb-8931-3b7e087f8d94\",\"type\":\"ResetTool\"},{\"attributes\":{},\"id\":\"8015d2bd-aca5-42b9-9d14-1f15a24d6f82\",\"type\":\"HelpTool\"},{\"attributes\":{\"line_color\":{\"value\":\"#1f77b4\"},\"x\":{\"field\":\"x\"},\"y\":{\"field\":\"y\"}},\"id\":\"b4a00688-f866-42b4-bef1-3471e87d1825\",\"type\":\"Line\"},{\"attributes\":{\"line_color\":{\"value\":\"firebrick\"},\"line_width\":{\"value\":4},\"location\":-1,\"plot\":{\"id\":\"da02d3b2-f43e-41ee-8135-9a6ff7fb515a\",\"subtype\":\"Figure\",\"type\":\"Plot\"}},\"id\":\"e5246de4-1b22-4b56-b1e8-2d439374c1ad\",\"type\":\"Span\"},{\"attributes\":{},\"id\":\"d687d9b3-99d2-4b6a-87ab-876019bcdf04\",\"type\":\"BasicTicker\"},{\"attributes\":{\"plot\":{\"id\":\"da02d3b2-f43e-41ee-8135-9a6ff7fb515a\",\"subtype\":\"Figure\",\"type\":\"Plot\"},\"ticker\":{\"id\":\"d687d9b3-99d2-4b6a-87ab-876019bcdf04\",\"type\":\"BasicTicker\"}},\"id\":\"4ce06355-5ce0-451f-8731-b31fdd15f355\",\"type\":\"Grid\"},{\"attributes\":{},\"id\":\"7c0d5c67-06fd-4522-9e1f-c5634656a0f9\",\"type\":\"BasicTickFormatter\"},{\"attributes\":{\"formatter\":{\"id\":\"e3a2788f-38f2-4347-8962-2fc91a5d4014\",\"type\":\"BasicTickFormatter\"},\"plot\":{\"id\":\"da02d3b2-f43e-41ee-8135-9a6ff7fb515a\",\"subtype\":\"Figure\",\"type\":\"Plot\"},\"ticker\":{\"id\":\"19d67f3d-794b-4fa9-a7e1-8c15503cfc85\",\"type\":\"BasicTicker\"}},\"id\":\"259fe35c-6a78-4e16-a0a9-2aa751290d80\",\"type\":\"LinearAxis\"},{\"attributes\":{},\"id\":\"19d67f3d-794b-4fa9-a7e1-8c15503cfc85\",\"type\":\"BasicTicker\"},{\"attributes\":{\"callback\":null,\"column_names\":[\"x\",\"y\"],\"data\":{\"x\":{\"__ndarray__\":\"AAAAAAAAAACBhJ9ciLq5P4GEn1yIusk/YaN3ReZL0z+BhJ9ciLrZP9Gy4zmVFOA/YaN3ReZL4z/xkwtRN4PmP4GEn1yIuuk/EXUzaNnx7D/RsuM5lRTwPxmrrb89sPE/YaN3ReZL8z+pm0HLjuf0P/GTC1E3g/Y/OYzV1t8e+D+BhJ9ciLr5P8l8aeIwVvs/EXUzaNnx/D9Zbf3tgY3+P9Gy4zmVFABA9a7IfGniAEAZq62/PbABQD2nkgISfgJAYaN3ReZLA0CFn1yIuhkEQKmbQcuO5wRAzZcmDmO1BUDxkwtRN4MGQBWQ8JMLUQdAOYzV1t8eCEBdiLoZtOwIQIGEn1yIuglApYCEn1yICkDJfGniMFYLQO14TiUFJAxAEXUzaNnxDEA1cRirrb8NQFlt/e2BjQ5AfWniMFZbD0DRsuM5lRQQQOMwVlt/exBA9a7IfGniEEAHLTueU0kRQBmrrb89sBFAKykg4ScXEkA9p5ICEn4SQE8lBST85BJAYaN3ReZLE0BzIepm0LITQIWfXIi6GRRAlx3PqaSAFECpm0HLjucUQLsZtOx4ThVAzZcmDmO1FUDfFZkvTRwWQPGTC1E3gxZAAxJ+ciHqFkAVkPCTC1EXQCcOY7X1txdAOYzV1t8eGEBLCkj4yYUYQF2Iuhm07BhAbwYtO55TGUCBhJ9ciLoZQJMCEn5yIRpApYCEn1yIGkC3/vbARu8aQMl8aeIwVhtA2/rbAxu9G0DteE4lBSQcQP/2wEbvihxAEXUzaNnxHEAj86WJw1gdQDVxGKutvx1AR++KzJcmHkBZbf3tgY0eQGvrbw9s9B5AfWniMFZbH0CP51RSQMIfQNGy4zmVFCBA2vGcSgpIIEDjMFZbf3sgQOxvD2z0riBA9a7IfGniIED+7YGN3hUhQActO55TSSFAEGz0rsh8IUAZq62/PbAhQCLqZtCy4yFAKykg4ScXIkA0aNnxnEoiQD2nkgISfiJARuZLE4exIkBPJQUk/OQiQFhkvjRxGCNAYaN3ReZLI0Bq4jBWW38jQHMh6mbQsiNAfGCjd0XmI0CFn1yIuhkkQI7eFZkvTSRAlx3PqaSAJECgXIi6GbQkQKmbQcuO5yRAstr62wMbJUC7GbTseE4lQMRYbf3tgSVAzZcmDmO1JUDW1t8e2OglQN8VmS9NHCZA6FRSQMJPJkDxkwtRN4MmQPrSxGGstiZAAxJ+ciHqJkAMUTeDlh0nQBWQ8JMLUSdAHs+ppICEJ0AnDmO19bcnQDBNHMZq6ydAOYzV1t8eKEBCy47nVFIoQEsKSPjJhShAVEkBCT+5KEBdiLoZtOwoQGbHcyopIClAbwYtO55TKUB4ReZLE4cpQIGEn1yIuilAisNYbf3tKUCTAhJ+ciEqQJxBy47nVCpApYCEn1yIKkCuvz2w0bsqQLf+9sBG7ypAwD2w0bsiK0DJfGniMFYrQNK7IvOliStA2/rbAxu9K0DkOZUUkPArQO14TiUFJCxA9rcHNnpXLED/9sBG74osQAg2eldkvixAEXUzaNnxLEAatOx4TiUtQCPzpYnDWC1ALDJfmjiMLUA1cRirrb8tQD6w0bsi8y1AR++KzJcmLkBQLkTdDFouQFlt/e2BjS5AYqy2/vbALkBr628PbPQuQHQqKSDhJy9AfWniMFZbL0CGqJtBy44vQI/nVFJAwi9AmCYOY7X1L0DRsuM5lRQwQFVSQMJPLjBA2vGcSgpIMEBekfnSxGEwQOMwVlt/ezBAZ9Cy4zmVMEDsbw9s9K4wQHAPbPSuyDBA9a7IfGniMEB5TiUFJPwwQP7tgY3eFTFAgo3eFZkvMUAHLTueU0kxQIvMlyYOYzFAEGz0rsh8MUCUC1E3g5YxQBmrrb89sDFAnUoKSPjJMUAi6mbQsuMxQKaJw1ht/TFAKykg4ScXMkCvyHxp4jAyQDRo2fGcSjJAuAc2eldkMkA9p5ICEn4yQMFG74rMlzJARuZLE4exMkDKhaibQcsyQE8lBST85DJA08RhrLb+MkBYZL40cRgzQNwDG70rMjNAYaN3ReZLM0DlQtTNoGUzQGriMFZbfzNA7oGN3hWZM0BzIepm0LIzQPfARu+KzDNAfGCjd0XmM0AAAAAAAAA0QA==\",\"dtype\":\"float64\",\"shape\":[200]},\"y\":{\"__ndarray__\":\"AAAAAAAAAADosPQ5c6+5PyTroQBFjsk/UqC71WQB0z/17xLajArZPwd+kHUC094/TRquW+ol4j+Qsd03cLPkP4RSVFt6C+c/hx87gPon6T9y6jY0fAPrPxWKSvAymew/1EXifgbl7T/00v+PnePuP2cCMmBmku8/BX79W53v7z+89Y+uUfrvP1Bu969nsu8/HyCWLJkY7z/TShqFcy7uP+010qtT9uw/RuW4CWBz6z9SkgFbgKnpPxbEKJhTnec/jlWcBSRU5T/D1tKI2dPiPwcgImbqIuA/7DyCHZWQ2j91bS5Us5bUP8f9CSNAz8w/TEI0yqomwD9+2y5b2KKaP6G5N7kdDbO/qeyAd9xIxr+BbUVyy2jRv7LmsAEugNe/sjpMD9la3b9bY21P1nThvydDKlMmD+S/9FywE6N15r+uX1v3GKLov69tz0/qjuq/iB5k3B037L8ze72ja5btv9HkXwNIqe6/Vi+r2Oxs779iZ5KrYN/vv+oNjMh7/++/7b2MPOvM77/uZ1arMUjvv3px8v2lcu6/lcC+7G9O7b8Gp/5tgt7rvzZ0UheUJuq//xvFhRUr6L9bLDnlJfHlvzwO2LSFfuO/xb2z6ofZ4L98BAA6AxLcvx2vM7ZwKNa/O6jwx54F0L+WakSqz3LDv3Q/vLKJoKq/muwql/bOqD9gXtmal//CPwD8eOZbms8/h2bB5rzx1T/22UzEmd3bP2NrhBG8wOA/aXq8zWJn4z9wNrW259vlP4ouB/LyF+g/rTlnjr4V6j/EpRZuJdDrP0Tez5GwQu0/a6/XoaJp7j+BjWWXAULvP1OJbG2eye8/q1vmxBr/7z96Bw1u7OHvP0NRYM1ecu8/yqPcGJKx7j88olpveKHtP5Y8m9HQROw/lET9CSCf6j/oHDGVp7ToP9tbZ6NaiuY/5spiTtEl5D9PWHglOo3hP7O6qGmUjt0/Mt+RYle21z8FVtXq1qDRPza3Pf+Vu8Y/FtCnJoX1sz9tSknzyv6Wv7gVLFIQZr+/VSqpT6ddzL89GzqQfl/Uv/Tv8qCGW9q/7IyG1boJ4L9J6+23Qrziv7mna+ZiPuW/VVgnX6CJ578Oh/HtDZjpv5aJI3xbZOu/IkqSyuPp7L8sTh1yuCTuvzOq1wusEe+/8RCNZlqu778DeG20Lvnvv53j6KBn8e+/AEAtRBmX77/9yTvvLOvuv0ooHNFe7+2/e51Cezmm7L/USL5QDxPrvwAOJvHxOem/MYpwtacf57/ZAeBZn8nkv0OL4fThPeK/q3VFvgYG379KzE5qIkDZv1SZjjwBOdO/Lf6gIGwAyr83SORDUJe6v79A3v+YIm2/n8805YDHuD/B9lOxCBzJP+y4q624ydI/p/+4h+LU2D9s8n2f5J/eP9JQLrfjDeI/QcLP7C+d5D8+KMPmOffmP7v8zDTuFek/n8L+stLz6j+DLE+wFIzsP22akmSV2u0/o0SilfTb7j/MUjFQmY3vP3QWx5247e8/TNCHJlr77z8eY9SyWrbvP68+R4ZsH+8/em4jkxU47j+auduKqwLtPwrA3NVNgus/fLsvgt266T89AM4987DnP072iXbTaeU/0Pg7vmDr4j9y+luWDDzgP7zPoJSNxdo/DLrpBtfN1D/1+5gUwUDNP+qf1AdAmsA/theArs9Gnj9aE9OApiSyv0nBo3YQ1sW/nmgvi7Ew0b+DIp0l8UnXv81CZV8FJ92/jbzgAGRc4b+9mha3avjjvxDluuXYYOa/z/f97XWP6L+iqpKRnn7qv/I9eINTKey/gKwzUUaL7b/H7xyD5KDuv/5MAddgZ++/kIRCfbrc779mI79Fwv/vvxvnJK8d0O+/7mfF0EdO778p55AckHvuv1XmbPwWWu2/M6elU8js67+UlKzyUzfqv3bLoxAkPui/gstS41EG5r8KmPxymJXjv4+oH8xF8uC/BHTAalVG3L9lymUnEl/Wv0AEjFQCPtC/k7Ftmvflw79e36K7BnKsv1/D4OpO/aY/h7uvy0+Mwj+mLHIKYCnPP22ZZ+b2utU/7IwZNRmp2z841R9V4qfgP5m819AvUOM/yPhiaZfG5T//wUZlvAToP1hY32XTBOo/cb3VX7HB6z/gPF312DbtPw==\",\"dtype\":\"float64\",\"shape\":[200]}}},\"id\":\"95343b7b-7f7d-4520-86d6-c20cc1d4c7e3\",\"type\":\"ColumnDataSource\"},{\"attributes\":{\"dimension\":1,\"plot\":{\"id\":\"da02d3b2-f43e-41ee-8135-9a6ff7fb515a\",\"subtype\":\"Figure\",\"type\":\"Plot\"},\"ticker\":{\"id\":\"19d67f3d-794b-4fa9-a7e1-8c15503cfc85\",\"type\":\"BasicTicker\"}},\"id\":\"d6662272-b0dc-48c8-b92a-70c07a8f1a0c\",\"type\":\"Grid\"},{\"attributes\":{\"source\":{\"id\":\"95343b7b-7f7d-4520-86d6-c20cc1d4c7e3\",\"type\":\"ColumnDataSource\"}},\"id\":\"9d933f54-dc5a-49af-adee-9165e07dcf1a\",\"type\":\"CDSView\"},{\"attributes\":{\"data_source\":{\"id\":\"95343b7b-7f7d-4520-86d6-c20cc1d4c7e3\",\"type\":\"ColumnDataSource\"},\"glyph\":{\"id\":\"b4a00688-f866-42b4-bef1-3471e87d1825\",\"type\":\"Line\"},\"hover_glyph\":null,\"muted_glyph\":null,\"nonselection_glyph\":{\"id\":\"d502f444-1ff0-42a0-a800-dabba894a6f2\",\"type\":\"Line\"},\"selection_glyph\":null,\"view\":{\"id\":\"9d933f54-dc5a-49af-adee-9165e07dcf1a\",\"type\":\"CDSView\"}},\"id\":\"20695bac-19e5-463e-afa1-dd831ce3533f\",\"type\":\"GlyphRenderer\"},{\"attributes\":{\"plot\":null,\"text\":\"\"},\"id\":\"eae884b0-7404-411e-95bc-f73a69258310\",\"type\":\"Title\"},{\"attributes\":{\"bottom_units\":\"screen\",\"fill_alpha\":{\"value\":0.5},\"fill_color\":{\"value\":\"lightgrey\"},\"left_units\":\"screen\",\"level\":\"overlay\",\"line_alpha\":{\"value\":1.0},\"line_color\":{\"value\":\"black\"},\"line_dash\":[4,4],\"line_width\":{\"value\":2},\"plot\":null,\"render_mode\":\"css\",\"right_units\":\"screen\",\"top_units\":\"screen\"},\"id\":\"945b1755-77f6-4b98-9409-a90e6890d5de\",\"type\":\"BoxAnnotation\"},{\"attributes\":{\"active_drag\":\"auto\",\"active_inspect\":\"auto\",\"active_scroll\":\"auto\",\"active_tap\":\"auto\",\"tools\":[{\"id\":\"b80f730a-f4e8-4401-bf17-a5190494c4d1\",\"type\":\"PanTool\"},{\"id\":\"22fa088e-4ace-45d3-bef3-883427a09141\",\"type\":\"WheelZoomTool\"},{\"id\":\"d3edf91c-0f3d-4614-9214-144de1f9ec7c\",\"type\":\"BoxZoomTool\"},{\"id\":\"d479e59f-7678-4f63-a065-9bfee740cd8c\",\"type\":\"SaveTool\"},{\"id\":\"e6802211-ddea-44bb-8931-3b7e087f8d94\",\"type\":\"ResetTool\"},{\"id\":\"8015d2bd-aca5-42b9-9d14-1f15a24d6f82\",\"type\":\"HelpTool\"}]},\"id\":\"8b4f9ea4-fa92-4d54-8476-c35a1feb47db\",\"type\":\"Toolbar\"},{\"attributes\":{},\"id\":\"e3a2788f-38f2-4347-8962-2fc91a5d4014\",\"type\":\"BasicTickFormatter\"},{\"attributes\":{},\"id\":\"b80f730a-f4e8-4401-bf17-a5190494c4d1\",\"type\":\"PanTool\"},{\"attributes\":{\"below\":[{\"id\":\"a359bf7c-0114-4beb-b51b-0c1531628660\",\"type\":\"LinearAxis\"}],\"left\":[{\"id\":\"259fe35c-6a78-4e16-a0a9-2aa751290d80\",\"type\":\"LinearAxis\"}],\"renderers\":[{\"id\":\"a359bf7c-0114-4beb-b51b-0c1531628660\",\"type\":\"LinearAxis\"},{\"id\":\"4ce06355-5ce0-451f-8731-b31fdd15f355\",\"type\":\"Grid\"},{\"id\":\"259fe35c-6a78-4e16-a0a9-2aa751290d80\",\"type\":\"LinearAxis\"},{\"id\":\"d6662272-b0dc-48c8-b92a-70c07a8f1a0c\",\"type\":\"Grid\"},{\"id\":\"945b1755-77f6-4b98-9409-a90e6890d5de\",\"type\":\"BoxAnnotation\"},{\"id\":\"20695bac-19e5-463e-afa1-dd831ce3533f\",\"type\":\"GlyphRenderer\"},{\"id\":\"9155fb73-5726-4e11-8e5e-26b630d0b4ba\",\"type\":\"Span\"},{\"id\":\"e5246de4-1b22-4b56-b1e8-2d439374c1ad\",\"type\":\"Span\"}],\"title\":{\"id\":\"eae884b0-7404-411e-95bc-f73a69258310\",\"type\":\"Title\"},\"toolbar\":{\"id\":\"8b4f9ea4-fa92-4d54-8476-c35a1feb47db\",\"type\":\"Toolbar\"},\"x_range\":{\"id\":\"044585c2-7d01-4deb-9dd4-06c0fd5ac6e3\",\"type\":\"DataRange1d\"},\"x_scale\":{\"id\":\"6c8d29fb-7497-4c10-b48b-5c04c5b9ca80\",\"type\":\"LinearScale\"},\"y_range\":{\"id\":\"a788323d-6924-45d7-ae69-e95a19999d25\",\"type\":\"Range1d\"},\"y_scale\":{\"id\":\"06d2f4b2-c3d7-44fb-8942-71f7a23dc54e\",\"type\":\"LinearScale\"}},\"id\":\"da02d3b2-f43e-41ee-8135-9a6ff7fb515a\",\"subtype\":\"Figure\",\"type\":\"Plot\"},{\"attributes\":{\"callback\":null},\"id\":\"044585c2-7d01-4deb-9dd4-06c0fd5ac6e3\",\"type\":\"DataRange1d\"},{\"attributes\":{},\"id\":\"22fa088e-4ace-45d3-bef3-883427a09141\",\"type\":\"WheelZoomTool\"},{\"attributes\":{\"line_color\":{\"value\":\"olive\"},\"line_width\":{\"value\":4},\"location\":1,\"plot\":{\"id\":\"da02d3b2-f43e-41ee-8135-9a6ff7fb515a\",\"subtype\":\"Figure\",\"type\":\"Plot\"}},\"id\":\"9155fb73-5726-4e11-8e5e-26b630d0b4ba\",\"type\":\"Span\"},{\"attributes\":{\"overlay\":{\"id\":\"945b1755-77f6-4b98-9409-a90e6890d5de\",\"type\":\"BoxAnnotation\"}},\"id\":\"d3edf91c-0f3d-4614-9214-144de1f9ec7c\",\"type\":\"BoxZoomTool\"},{\"attributes\":{\"formatter\":{\"id\":\"7c0d5c67-06fd-4522-9e1f-c5634656a0f9\",\"type\":\"BasicTickFormatter\"},\"plot\":{\"id\":\"da02d3b2-f43e-41ee-8135-9a6ff7fb515a\",\"subtype\":\"Figure\",\"type\":\"Plot\"},\"ticker\":{\"id\":\"d687d9b3-99d2-4b6a-87ab-876019bcdf04\",\"type\":\"BasicTicker\"}},\"id\":\"a359bf7c-0114-4beb-b51b-0c1531628660\",\"type\":\"LinearAxis\"},{\"attributes\":{\"line_alpha\":{\"value\":0.1},\"line_color\":{\"value\":\"#1f77b4\"},\"x\":{\"field\":\"x\"},\"y\":{\"field\":\"y\"}},\"id\":\"d502f444-1ff0-42a0-a800-dabba894a6f2\",\"type\":\"Line\"},{\"attributes\":{\"callback\":null,\"end\":2,\"start\":-2},\"id\":\"a788323d-6924-45d7-ae69-e95a19999d25\",\"type\":\"Range1d\"},{\"attributes\":{},\"id\":\"6c8d29fb-7497-4c10-b48b-5c04c5b9ca80\",\"type\":\"LinearScale\"},{\"attributes\":{},\"id\":\"d479e59f-7678-4f63-a065-9bfee740cd8c\",\"type\":\"SaveTool\"},{\"attributes\":{},\"id\":\"06d2f4b2-c3d7-44fb-8942-71f7a23dc54e\",\"type\":\"LinearScale\"}],\"root_ids\":[\"da02d3b2-f43e-41ee-8135-9a6ff7fb515a\"]},\"title\":\"Bokeh Application\",\"version\":\"0.12.8\"}};\n",
       "    var render_items = [{\"docid\":\"8e2a99c8-0038-42aa-892f-0bb01c4b817b\",\"elementid\":\"33dc3211-d682-4a82-919a-a85f964c69bd\",\"modelid\":\"da02d3b2-f43e-41ee-8135-9a6ff7fb515a\"}];\n",
       "\n",
       "    root.Bokeh.embed.embed_items(docs_json, render_items);\n",
       "  }\n",
       "\n",
       "  if (root.Bokeh !== undefined) {\n",
       "    embed_document(root);\n",
       "  } else {\n",
       "    var attempts = 0;\n",
       "    var timer = setInterval(function(root) {\n",
       "      if (root.Bokeh !== undefined) {\n",
       "        embed_document(root);\n",
       "        clearInterval(timer);\n",
       "      }\n",
       "      attempts++;\n",
       "      if (attempts > 100) {\n",
       "        console.log(\"Bokeh: ERROR: Unable to embed document because BokehJS library is missing\")\n",
       "        clearInterval(timer);\n",
       "      }\n",
       "    }, 10, root)\n",
       "  }\n",
       "})(window);"
      ],
      "application/vnd.bokehjs_exec.v0+json": ""
     },
     "metadata": {
      "application/vnd.bokehjs_exec.v0+json": {
       "id": "da02d3b2-f43e-41ee-8135-9a6ff7fb515a"
      }
     },
     "output_type": "display_data"
    }
   ],
   "source": [
    "import numpy as np\n",
    "from bokeh.models.annotations import Span\n",
    "\n",
    "x = np.linspace(0, 20, 200)\n",
    "y = np.sin(x)\n",
    "\n",
    "p = figure(y_range=(-2, 2))\n",
    "p.line(x, y)\n",
    "\n",
    "upper = Span(location=1, dimension='width', line_color='olive', line_width=4)\n",
    "p.add_layout(upper)\n",
    "\n",
    "lower = Span(location=-1, dimension='width', line_color='firebrick', line_width=4)\n",
    "p.add_layout(lower)\n",
    "\n",
    "show(p)"
   ]
  },
  {
   "cell_type": "code",
   "execution_count": 4,
   "metadata": {
    "collapsed": true
   },
   "outputs": [],
   "source": [
    "# Exercise:\n"
   ]
  },
  {
   "cell_type": "markdown",
   "metadata": {
    "collapsed": true
   },
   "source": [
    "## Box Annotations\n",
    "\n",
    "Sometimes you might want to call out some region of the plot by drawing a shaded box. This can be done with the `BoxAnnotation`, which is configured with the coordinate properties:\n",
    "* `top`\n",
    "* `left`\n",
    "* `bottom`\n",
    "* `right`\n",
    "\n",
    "as well as any visual line or fill properties to control the appearance. \n",
    "\n",
    "\"Infinite\" boxes can be made by leaving any of the coordinates unspecified. E.g., if `top` is not given, the box will always extend to the top of the plot area, regardless of any panning or zooming that happens.\n",
    "\n",
    "Let's take a look at an example that adds a few shaded boxes to a plot:"
   ]
  },
  {
   "cell_type": "code",
   "execution_count": 5,
   "metadata": {
    "scrolled": false
   },
   "outputs": [
    {
     "data": {
      "text/html": [
       "\n",
       "<div class=\"bk-root\">\n",
       "    <div class=\"bk-plotdiv\" id=\"19743726-c8a7-4dcd-835a-92cb15e132df\"></div>\n",
       "</div>"
      ]
     },
     "metadata": {},
     "output_type": "display_data"
    },
    {
     "data": {
      "application/javascript": [
       "(function(root) {\n",
       "  function embed_document(root) {\n",
       "    var docs_json = {\"1c43d3ef-de88-428a-beef-6df6e8176989\":{\"roots\":{\"references\":[{\"attributes\":{},\"id\":\"a90ba68f-eca6-4ae5-a7c5-773e7ee8a23d\",\"type\":\"LinearScale\"},{\"attributes\":{},\"id\":\"acd6ff5d-5928-41e9-bb07-8fac526101d4\",\"type\":\"LinearScale\"},{\"attributes\":{},\"id\":\"34365bcb-7808-4ad3-91f0-c76fec7306f7\",\"type\":\"SaveTool\"},{\"attributes\":{\"callback\":null,\"end\":2,\"start\":-2},\"id\":\"6e584abb-674e-47b4-a5a0-eb50a6f1bdff\",\"type\":\"Range1d\"},{\"attributes\":{\"line_color\":{\"value\":\"#1f77b4\"},\"x\":{\"field\":\"x\"},\"y\":{\"field\":\"y\"}},\"id\":\"e224d7cc-6fc4-41a8-a214-edd91ddce4b5\",\"type\":\"Line\"},{\"attributes\":{\"dimension\":1,\"plot\":{\"id\":\"60a1c7b0-b181-4d64-957f-0686ba0fd21a\",\"subtype\":\"Figure\",\"type\":\"Plot\"},\"ticker\":{\"id\":\"01d2aa9f-9ec4-4c56-a60a-b426f95a877f\",\"type\":\"BasicTicker\"}},\"id\":\"362d6e0b-9c3d-45dd-ba26-4ffd07a603b9\",\"type\":\"Grid\"},{\"attributes\":{\"plot\":null,\"text\":\"\"},\"id\":\"34b2898e-086c-42f0-a223-475f64bccab7\",\"type\":\"Title\"},{\"attributes\":{\"source\":{\"id\":\"b22289f9-8488-4ec7-a08d-784720a9bb8f\",\"type\":\"ColumnDataSource\"}},\"id\":\"0d310a45-c294-4f97-b132-b3f52869e4c8\",\"type\":\"CDSView\"},{\"attributes\":{\"formatter\":{\"id\":\"5abf9ee3-81fa-465f-a5eb-7bad5e058a9f\",\"type\":\"BasicTickFormatter\"},\"plot\":{\"id\":\"60a1c7b0-b181-4d64-957f-0686ba0fd21a\",\"subtype\":\"Figure\",\"type\":\"Plot\"},\"ticker\":{\"id\":\"01d2aa9f-9ec4-4c56-a60a-b426f95a877f\",\"type\":\"BasicTicker\"}},\"id\":\"f7ac1239-dd29-435b-abe7-e52fb0ea29f4\",\"type\":\"LinearAxis\"},{\"attributes\":{\"line_alpha\":{\"value\":0.1},\"line_color\":{\"value\":\"#1f77b4\"},\"x\":{\"field\":\"x\"},\"y\":{\"field\":\"y\"}},\"id\":\"281fd9a1-4b77-4dc1-a3eb-d5988388c617\",\"type\":\"Line\"},{\"attributes\":{\"overlay\":{\"id\":\"95fc44f3-cdea-4b06-b81c-dd2670450f07\",\"type\":\"BoxAnnotation\"}},\"id\":\"47441f23-ea0c-40b3-a9dc-75c81c0d3173\",\"type\":\"BoxZoomTool\"},{\"attributes\":{},\"id\":\"a1c88635-4cb1-4aa4-8573-082ede42b2ed\",\"type\":\"ResetTool\"},{\"attributes\":{},\"id\":\"aa315492-70ab-42e5-bfb4-fb389058081b\",\"type\":\"BasicTicker\"},{\"attributes\":{\"below\":[{\"id\":\"100c48d0-1be7-475a-9386-138b089e83a7\",\"type\":\"LinearAxis\"}],\"left\":[{\"id\":\"f7ac1239-dd29-435b-abe7-e52fb0ea29f4\",\"type\":\"LinearAxis\"}],\"renderers\":[{\"id\":\"100c48d0-1be7-475a-9386-138b089e83a7\",\"type\":\"LinearAxis\"},{\"id\":\"89df6fc0-daec-4a07-8602-8723d3468c4e\",\"type\":\"Grid\"},{\"id\":\"f7ac1239-dd29-435b-abe7-e52fb0ea29f4\",\"type\":\"LinearAxis\"},{\"id\":\"362d6e0b-9c3d-45dd-ba26-4ffd07a603b9\",\"type\":\"Grid\"},{\"id\":\"95fc44f3-cdea-4b06-b81c-dd2670450f07\",\"type\":\"BoxAnnotation\"},{\"id\":\"1c861d60-ef49-4dcc-a2f7-43e2fd75754d\",\"type\":\"GlyphRenderer\"},{\"id\":\"4e5e579a-1f20-419c-af97-613f780f9ca9\",\"type\":\"BoxAnnotation\"},{\"id\":\"7bc48063-eaaf-47fe-8949-2499b6a8478e\",\"type\":\"BoxAnnotation\"},{\"id\":\"c16383e6-9842-4313-8f19-7a3ba5d419d6\",\"type\":\"BoxAnnotation\"}],\"title\":{\"id\":\"34b2898e-086c-42f0-a223-475f64bccab7\",\"type\":\"Title\"},\"toolbar\":{\"id\":\"11caede5-5225-4390-b2ad-578fd2dd044a\",\"type\":\"Toolbar\"},\"x_range\":{\"id\":\"15bcec28-2438-4cf7-907b-10f8312860d9\",\"type\":\"DataRange1d\"},\"x_scale\":{\"id\":\"acd6ff5d-5928-41e9-bb07-8fac526101d4\",\"type\":\"LinearScale\"},\"y_range\":{\"id\":\"6e584abb-674e-47b4-a5a0-eb50a6f1bdff\",\"type\":\"Range1d\"},\"y_scale\":{\"id\":\"a90ba68f-eca6-4ae5-a7c5-773e7ee8a23d\",\"type\":\"LinearScale\"}},\"id\":\"60a1c7b0-b181-4d64-957f-0686ba0fd21a\",\"subtype\":\"Figure\",\"type\":\"Plot\"},{\"attributes\":{\"formatter\":{\"id\":\"1802f5cf-d637-4ae8-850b-25aeff965b04\",\"type\":\"BasicTickFormatter\"},\"plot\":{\"id\":\"60a1c7b0-b181-4d64-957f-0686ba0fd21a\",\"subtype\":\"Figure\",\"type\":\"Plot\"},\"ticker\":{\"id\":\"aa315492-70ab-42e5-bfb4-fb389058081b\",\"type\":\"BasicTicker\"}},\"id\":\"100c48d0-1be7-475a-9386-138b089e83a7\",\"type\":\"LinearAxis\"},{\"attributes\":{\"bottom\":1,\"fill_alpha\":{\"value\":0.1},\"fill_color\":{\"value\":\"olive\"},\"plot\":{\"id\":\"60a1c7b0-b181-4d64-957f-0686ba0fd21a\",\"subtype\":\"Figure\",\"type\":\"Plot\"}},\"id\":\"4e5e579a-1f20-419c-af97-613f780f9ca9\",\"type\":\"BoxAnnotation\"},{\"attributes\":{},\"id\":\"5abf9ee3-81fa-465f-a5eb-7bad5e058a9f\",\"type\":\"BasicTickFormatter\"},{\"attributes\":{\"active_drag\":\"auto\",\"active_inspect\":\"auto\",\"active_scroll\":\"auto\",\"active_tap\":\"auto\",\"tools\":[{\"id\":\"ffce1e18-74b9-42e5-a7d0-f868109e586b\",\"type\":\"PanTool\"},{\"id\":\"346c78bf-d5aa-41d0-a701-cc2d5c147b5b\",\"type\":\"WheelZoomTool\"},{\"id\":\"47441f23-ea0c-40b3-a9dc-75c81c0d3173\",\"type\":\"BoxZoomTool\"},{\"id\":\"34365bcb-7808-4ad3-91f0-c76fec7306f7\",\"type\":\"SaveTool\"},{\"id\":\"a1c88635-4cb1-4aa4-8573-082ede42b2ed\",\"type\":\"ResetTool\"},{\"id\":\"190004af-ee47-4294-b968-4f7ccc405a49\",\"type\":\"HelpTool\"}]},\"id\":\"11caede5-5225-4390-b2ad-578fd2dd044a\",\"type\":\"Toolbar\"},{\"attributes\":{\"fill_alpha\":{\"value\":0.1},\"fill_color\":{\"value\":\"firebrick\"},\"plot\":{\"id\":\"60a1c7b0-b181-4d64-957f-0686ba0fd21a\",\"subtype\":\"Figure\",\"type\":\"Plot\"},\"top\":-1},\"id\":\"7bc48063-eaaf-47fe-8949-2499b6a8478e\",\"type\":\"BoxAnnotation\"},{\"attributes\":{},\"id\":\"1802f5cf-d637-4ae8-850b-25aeff965b04\",\"type\":\"BasicTickFormatter\"},{\"attributes\":{},\"id\":\"190004af-ee47-4294-b968-4f7ccc405a49\",\"type\":\"HelpTool\"},{\"attributes\":{\"callback\":null},\"id\":\"15bcec28-2438-4cf7-907b-10f8312860d9\",\"type\":\"DataRange1d\"},{\"attributes\":{},\"id\":\"346c78bf-d5aa-41d0-a701-cc2d5c147b5b\",\"type\":\"WheelZoomTool\"},{\"attributes\":{\"data_source\":{\"id\":\"b22289f9-8488-4ec7-a08d-784720a9bb8f\",\"type\":\"ColumnDataSource\"},\"glyph\":{\"id\":\"e224d7cc-6fc4-41a8-a214-edd91ddce4b5\",\"type\":\"Line\"},\"hover_glyph\":null,\"muted_glyph\":null,\"nonselection_glyph\":{\"id\":\"281fd9a1-4b77-4dc1-a3eb-d5988388c617\",\"type\":\"Line\"},\"selection_glyph\":null,\"view\":{\"id\":\"0d310a45-c294-4f97-b132-b3f52869e4c8\",\"type\":\"CDSView\"}},\"id\":\"1c861d60-ef49-4dcc-a2f7-43e2fd75754d\",\"type\":\"GlyphRenderer\"},{\"attributes\":{\"callback\":null,\"column_names\":[\"x\",\"y\"],\"data\":{\"x\":{\"__ndarray__\":\"AAAAAAAAAACBhJ9ciLq5P4GEn1yIusk/YaN3ReZL0z+BhJ9ciLrZP9Gy4zmVFOA/YaN3ReZL4z/xkwtRN4PmP4GEn1yIuuk/EXUzaNnx7D/RsuM5lRTwPxmrrb89sPE/YaN3ReZL8z+pm0HLjuf0P/GTC1E3g/Y/OYzV1t8e+D+BhJ9ciLr5P8l8aeIwVvs/EXUzaNnx/D9Zbf3tgY3+P9Gy4zmVFABA9a7IfGniAEAZq62/PbABQD2nkgISfgJAYaN3ReZLA0CFn1yIuhkEQKmbQcuO5wRAzZcmDmO1BUDxkwtRN4MGQBWQ8JMLUQdAOYzV1t8eCEBdiLoZtOwIQIGEn1yIuglApYCEn1yICkDJfGniMFYLQO14TiUFJAxAEXUzaNnxDEA1cRirrb8NQFlt/e2BjQ5AfWniMFZbD0DRsuM5lRQQQOMwVlt/exBA9a7IfGniEEAHLTueU0kRQBmrrb89sBFAKykg4ScXEkA9p5ICEn4SQE8lBST85BJAYaN3ReZLE0BzIepm0LITQIWfXIi6GRRAlx3PqaSAFECpm0HLjucUQLsZtOx4ThVAzZcmDmO1FUDfFZkvTRwWQPGTC1E3gxZAAxJ+ciHqFkAVkPCTC1EXQCcOY7X1txdAOYzV1t8eGEBLCkj4yYUYQF2Iuhm07BhAbwYtO55TGUCBhJ9ciLoZQJMCEn5yIRpApYCEn1yIGkC3/vbARu8aQMl8aeIwVhtA2/rbAxu9G0DteE4lBSQcQP/2wEbvihxAEXUzaNnxHEAj86WJw1gdQDVxGKutvx1AR++KzJcmHkBZbf3tgY0eQGvrbw9s9B5AfWniMFZbH0CP51RSQMIfQNGy4zmVFCBA2vGcSgpIIEDjMFZbf3sgQOxvD2z0riBA9a7IfGniIED+7YGN3hUhQActO55TSSFAEGz0rsh8IUAZq62/PbAhQCLqZtCy4yFAKykg4ScXIkA0aNnxnEoiQD2nkgISfiJARuZLE4exIkBPJQUk/OQiQFhkvjRxGCNAYaN3ReZLI0Bq4jBWW38jQHMh6mbQsiNAfGCjd0XmI0CFn1yIuhkkQI7eFZkvTSRAlx3PqaSAJECgXIi6GbQkQKmbQcuO5yRAstr62wMbJUC7GbTseE4lQMRYbf3tgSVAzZcmDmO1JUDW1t8e2OglQN8VmS9NHCZA6FRSQMJPJkDxkwtRN4MmQPrSxGGstiZAAxJ+ciHqJkAMUTeDlh0nQBWQ8JMLUSdAHs+ppICEJ0AnDmO19bcnQDBNHMZq6ydAOYzV1t8eKEBCy47nVFIoQEsKSPjJhShAVEkBCT+5KEBdiLoZtOwoQGbHcyopIClAbwYtO55TKUB4ReZLE4cpQIGEn1yIuilAisNYbf3tKUCTAhJ+ciEqQJxBy47nVCpApYCEn1yIKkCuvz2w0bsqQLf+9sBG7ypAwD2w0bsiK0DJfGniMFYrQNK7IvOliStA2/rbAxu9K0DkOZUUkPArQO14TiUFJCxA9rcHNnpXLED/9sBG74osQAg2eldkvixAEXUzaNnxLEAatOx4TiUtQCPzpYnDWC1ALDJfmjiMLUA1cRirrb8tQD6w0bsi8y1AR++KzJcmLkBQLkTdDFouQFlt/e2BjS5AYqy2/vbALkBr628PbPQuQHQqKSDhJy9AfWniMFZbL0CGqJtBy44vQI/nVFJAwi9AmCYOY7X1L0DRsuM5lRQwQFVSQMJPLjBA2vGcSgpIMEBekfnSxGEwQOMwVlt/ezBAZ9Cy4zmVMEDsbw9s9K4wQHAPbPSuyDBA9a7IfGniMEB5TiUFJPwwQP7tgY3eFTFAgo3eFZkvMUAHLTueU0kxQIvMlyYOYzFAEGz0rsh8MUCUC1E3g5YxQBmrrb89sDFAnUoKSPjJMUAi6mbQsuMxQKaJw1ht/TFAKykg4ScXMkCvyHxp4jAyQDRo2fGcSjJAuAc2eldkMkA9p5ICEn4yQMFG74rMlzJARuZLE4exMkDKhaibQcsyQE8lBST85DJA08RhrLb+MkBYZL40cRgzQNwDG70rMjNAYaN3ReZLM0DlQtTNoGUzQGriMFZbfzNA7oGN3hWZM0BzIepm0LIzQPfARu+KzDNAfGCjd0XmM0AAAAAAAAA0QA==\",\"dtype\":\"float64\",\"shape\":[200]},\"y\":{\"__ndarray__\":\"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\",\"dtype\":\"float64\",\"shape\":[200]}}},\"id\":\"b22289f9-8488-4ec7-a08d-784720a9bb8f\",\"type\":\"ColumnDataSource\"},{\"attributes\":{},\"id\":\"ffce1e18-74b9-42e5-a7d0-f868109e586b\",\"type\":\"PanTool\"},{\"attributes\":{},\"id\":\"01d2aa9f-9ec4-4c56-a60a-b426f95a877f\",\"type\":\"BasicTicker\"},{\"attributes\":{\"bottom_units\":\"screen\",\"fill_alpha\":{\"value\":0.5},\"fill_color\":{\"value\":\"lightgrey\"},\"left_units\":\"screen\",\"level\":\"overlay\",\"line_alpha\":{\"value\":1.0},\"line_color\":{\"value\":\"black\"},\"line_dash\":[4,4],\"line_width\":{\"value\":2},\"plot\":null,\"render_mode\":\"css\",\"right_units\":\"screen\",\"top_units\":\"screen\"},\"id\":\"95fc44f3-cdea-4b06-b81c-dd2670450f07\",\"type\":\"BoxAnnotation\"},{\"attributes\":{\"plot\":{\"id\":\"60a1c7b0-b181-4d64-957f-0686ba0fd21a\",\"subtype\":\"Figure\",\"type\":\"Plot\"},\"ticker\":{\"id\":\"aa315492-70ab-42e5-bfb4-fb389058081b\",\"type\":\"BasicTicker\"}},\"id\":\"89df6fc0-daec-4a07-8602-8723d3468c4e\",\"type\":\"Grid\"},{\"attributes\":{\"bottom\":-0.3,\"fill_alpha\":{\"value\":0.1},\"fill_color\":{\"value\":\"navy\"},\"left\":7,\"plot\":{\"id\":\"60a1c7b0-b181-4d64-957f-0686ba0fd21a\",\"subtype\":\"Figure\",\"type\":\"Plot\"},\"right\":12,\"top\":0.6},\"id\":\"c16383e6-9842-4313-8f19-7a3ba5d419d6\",\"type\":\"BoxAnnotation\"}],\"root_ids\":[\"60a1c7b0-b181-4d64-957f-0686ba0fd21a\"]},\"title\":\"Bokeh Application\",\"version\":\"0.12.8\"}};\n",
       "    var render_items = [{\"docid\":\"1c43d3ef-de88-428a-beef-6df6e8176989\",\"elementid\":\"19743726-c8a7-4dcd-835a-92cb15e132df\",\"modelid\":\"60a1c7b0-b181-4d64-957f-0686ba0fd21a\"}];\n",
       "\n",
       "    root.Bokeh.embed.embed_items(docs_json, render_items);\n",
       "  }\n",
       "\n",
       "  if (root.Bokeh !== undefined) {\n",
       "    embed_document(root);\n",
       "  } else {\n",
       "    var attempts = 0;\n",
       "    var timer = setInterval(function(root) {\n",
       "      if (root.Bokeh !== undefined) {\n",
       "        embed_document(root);\n",
       "        clearInterval(timer);\n",
       "      }\n",
       "      attempts++;\n",
       "      if (attempts > 100) {\n",
       "        console.log(\"Bokeh: ERROR: Unable to embed document because BokehJS library is missing\")\n",
       "        clearInterval(timer);\n",
       "      }\n",
       "    }, 10, root)\n",
       "  }\n",
       "})(window);"
      ],
      "application/vnd.bokehjs_exec.v0+json": ""
     },
     "metadata": {
      "application/vnd.bokehjs_exec.v0+json": {
       "id": "60a1c7b0-b181-4d64-957f-0686ba0fd21a"
      }
     },
     "output_type": "display_data"
    }
   ],
   "source": [
    "import numpy as np\n",
    "from bokeh.models.annotations import BoxAnnotation\n",
    "\n",
    "x = np.linspace(0, 20, 200)\n",
    "y = np.sin(x)\n",
    "\n",
    "p = figure(y_range=(-2, 2))\n",
    "p.line(x, y)\n",
    "\n",
    "# region that always fills the top of the plot\n",
    "upper = BoxAnnotation(bottom=1, fill_alpha=0.1, fill_color='olive')\n",
    "p.add_layout(upper)\n",
    "\n",
    "# region that always fills the bottom of the plot\n",
    "lower = BoxAnnotation(top=-1, fill_alpha=0.1, fill_color='firebrick')\n",
    "p.add_layout(lower)\n",
    "\n",
    "# a finite region\n",
    "center = BoxAnnotation(top=0.6, bottom=-0.3, left=7, right=12, fill_alpha=0.1, fill_color='navy')\n",
    "p.add_layout(center)\n",
    "\n",
    "show(p)"
   ]
  },
  {
   "cell_type": "code",
   "execution_count": 6,
   "metadata": {
    "collapsed": true
   },
   "outputs": [],
   "source": [
    "# Exercise:\n"
   ]
  },
  {
   "cell_type": "markdown",
   "metadata": {
    "collapsed": true
   },
   "source": [
    "## Label\n",
    "\n",
    "The `Label` annotation allows you to easily attach single text labels to plots. The position and text to display are configured as `x`, `y`, and `text`:\n",
    "\n",
    "```python\n",
    "Label(x=10, y=5, text=\"Some Label\")\n",
    "```\n",
    "\n",
    "By default the units are in \"data space\" but `x_units` and `y_units` maybe set to `\"screen\"` to position the label relative to the canvas. Labels can also accept `x_offset` and `y_offset` to offset the final position from `x` and `y` by a given screen space distance. \n",
    "\n",
    "`Label` objects also have standard text, line (`border_line`) and fill (`background_fill`) properties. The line and fill properties apply to a bounding box around the text:\n",
    "\n",
    "```python\n",
    "Label(x=10, y=5, text=\"Some Label\", text_font_size=\"12pt\", \n",
    "      border_line_color=\"red\", background_fill_color=\"blue\")\n",
    "```"
   ]
  },
  {
   "cell_type": "code",
   "execution_count": 7,
   "metadata": {},
   "outputs": [
    {
     "data": {
      "text/html": [
       "\n",
       "<div class=\"bk-root\">\n",
       "    <div class=\"bk-plotdiv\" id=\"413bddba-5d7d-4571-ab40-be5c4de25438\"></div>\n",
       "</div>"
      ]
     },
     "metadata": {},
     "output_type": "display_data"
    },
    {
     "data": {
      "application/javascript": [
       "(function(root) {\n",
       "  function embed_document(root) {\n",
       "    var docs_json = {\"c574ab15-b570-4b33-9129-a0ce902619f1\":{\"roots\":{\"references\":[{\"attributes\":{\"callback\":null,\"end\":10},\"id\":\"6ea27f05-2bbb-4b8f-825b-ee133c66ff26\",\"type\":\"Range1d\"},{\"attributes\":{},\"id\":\"d75c3aff-3647-48a5-a750-a188170157a7\",\"type\":\"LinearScale\"},{\"attributes\":{\"data_source\":{\"id\":\"efae9f7c-af42-4919-b26e-aa2fd382f3b3\",\"type\":\"ColumnDataSource\"},\"glyph\":{\"id\":\"dd80afe4-929b-4f32-b998-a26f595d77ed\",\"type\":\"Circle\"},\"hover_glyph\":null,\"muted_glyph\":null,\"nonselection_glyph\":{\"id\":\"a3ef52b0-49cc-46bf-ad66-92b9b8c21c28\",\"type\":\"Circle\"},\"selection_glyph\":null,\"view\":{\"id\":\"19e239de-7cb2-414b-8021-7c41c4762f43\",\"type\":\"CDSView\"}},\"id\":\"4bfd6ec7-f773-4f8e-96f6-ee3f3b8bd79f\",\"type\":\"GlyphRenderer\"},{\"attributes\":{\"callback\":null,\"end\":10},\"id\":\"16af81e1-1e7c-46bc-859f-75dc8c636145\",\"type\":\"Range1d\"},{\"attributes\":{\"plot\":null,\"text\":\"\"},\"id\":\"34013c01-6d39-4917-b6ee-46a22a6b56df\",\"type\":\"Title\"},{\"attributes\":{},\"id\":\"9a15de9a-3950-48b0-844c-a68da6206b45\",\"type\":\"BasicTickFormatter\"},{\"attributes\":{\"dimension\":1,\"plot\":{\"id\":\"8cbb3a28-d3c8-4012-b62d-055457812c76\",\"subtype\":\"Figure\",\"type\":\"Plot\"},\"ticker\":{\"id\":\"84503882-931a-4db4-ae93-e1ccdb52d791\",\"type\":\"BasicTicker\"}},\"id\":\"f62f7532-10fe-47bf-ba77-11b19cb3416e\",\"type\":\"Grid\"},{\"attributes\":{\"active_drag\":\"auto\",\"active_inspect\":\"auto\",\"active_scroll\":\"auto\",\"active_tap\":\"auto\",\"tools\":[{\"id\":\"d2a700bf-8008-49ed-bf01-e6c97088940a\",\"type\":\"PanTool\"},{\"id\":\"ada54761-b3f4-41bf-82fe-f445e18250f4\",\"type\":\"WheelZoomTool\"},{\"id\":\"e08485e8-f356-40d9-8962-888050e833fd\",\"type\":\"BoxZoomTool\"},{\"id\":\"6a8def1d-5dc8-4309-8eb1-4f725ce75015\",\"type\":\"SaveTool\"},{\"id\":\"c42888b8-6938-4262-9249-6f8878a9c750\",\"type\":\"ResetTool\"},{\"id\":\"566ad8b8-db8f-4759-9742-f275734ec32d\",\"type\":\"HelpTool\"}]},\"id\":\"a040b06d-5d93-40f7-b489-070b61deae5b\",\"type\":\"Toolbar\"},{\"attributes\":{},\"id\":\"566ad8b8-db8f-4759-9742-f275734ec32d\",\"type\":\"HelpTool\"},{\"attributes\":{\"fill_alpha\":{\"value\":0.1},\"fill_color\":{\"value\":\"#1f77b4\"},\"line_alpha\":{\"value\":0.1},\"line_color\":{\"value\":\"#1f77b4\"},\"size\":{\"units\":\"screen\",\"value\":10},\"x\":{\"field\":\"x\"},\"y\":{\"field\":\"y\"}},\"id\":\"a3ef52b0-49cc-46bf-ad66-92b9b8c21c28\",\"type\":\"Circle\"},{\"attributes\":{},\"id\":\"ada54761-b3f4-41bf-82fe-f445e18250f4\",\"type\":\"WheelZoomTool\"},{\"attributes\":{\"below\":[{\"id\":\"0909583a-afa3-4a50-a788-23b039517c2c\",\"type\":\"LinearAxis\"}],\"left\":[{\"id\":\"322d1a94-b0ea-4d75-ba2f-606f70187257\",\"type\":\"LinearAxis\"}],\"renderers\":[{\"id\":\"0909583a-afa3-4a50-a788-23b039517c2c\",\"type\":\"LinearAxis\"},{\"id\":\"1860f0f0-af74-45a0-8716-d5464e70ad55\",\"type\":\"Grid\"},{\"id\":\"322d1a94-b0ea-4d75-ba2f-606f70187257\",\"type\":\"LinearAxis\"},{\"id\":\"f62f7532-10fe-47bf-ba77-11b19cb3416e\",\"type\":\"Grid\"},{\"id\":\"c1a06fdd-6b90-4a60-9099-deed7b9870fb\",\"type\":\"BoxAnnotation\"},{\"id\":\"4bfd6ec7-f773-4f8e-96f6-ee3f3b8bd79f\",\"type\":\"GlyphRenderer\"},{\"id\":\"844b0e3b-3994-48dd-a9e6-08254ebf1398\",\"type\":\"Label\"}],\"title\":{\"id\":\"34013c01-6d39-4917-b6ee-46a22a6b56df\",\"type\":\"Title\"},\"toolbar\":{\"id\":\"a040b06d-5d93-40f7-b489-070b61deae5b\",\"type\":\"Toolbar\"},\"x_range\":{\"id\":\"6ea27f05-2bbb-4b8f-825b-ee133c66ff26\",\"type\":\"Range1d\"},\"x_scale\":{\"id\":\"d75c3aff-3647-48a5-a750-a188170157a7\",\"type\":\"LinearScale\"},\"y_range\":{\"id\":\"16af81e1-1e7c-46bc-859f-75dc8c636145\",\"type\":\"Range1d\"},\"y_scale\":{\"id\":\"59fbb1bd-fd61-45ed-bf40-b805ee66cfc6\",\"type\":\"LinearScale\"}},\"id\":\"8cbb3a28-d3c8-4012-b62d-055457812c76\",\"subtype\":\"Figure\",\"type\":\"Plot\"},{\"attributes\":{\"bottom_units\":\"screen\",\"fill_alpha\":{\"value\":0.5},\"fill_color\":{\"value\":\"lightgrey\"},\"left_units\":\"screen\",\"level\":\"overlay\",\"line_alpha\":{\"value\":1.0},\"line_color\":{\"value\":\"black\"},\"line_dash\":[4,4],\"line_width\":{\"value\":2},\"plot\":null,\"render_mode\":\"css\",\"right_units\":\"screen\",\"top_units\":\"screen\"},\"id\":\"c1a06fdd-6b90-4a60-9099-deed7b9870fb\",\"type\":\"BoxAnnotation\"},{\"attributes\":{},\"id\":\"d2a700bf-8008-49ed-bf01-e6c97088940a\",\"type\":\"PanTool\"},{\"attributes\":{\"plot\":{\"id\":\"8cbb3a28-d3c8-4012-b62d-055457812c76\",\"subtype\":\"Figure\",\"type\":\"Plot\"},\"text\":\"Second Point\",\"text_baseline\":\"middle\",\"x\":5,\"x_offset\":12,\"y\":7},\"id\":\"844b0e3b-3994-48dd-a9e6-08254ebf1398\",\"type\":\"Label\"},{\"attributes\":{\"source\":{\"id\":\"efae9f7c-af42-4919-b26e-aa2fd382f3b3\",\"type\":\"ColumnDataSource\"}},\"id\":\"19e239de-7cb2-414b-8021-7c41c4762f43\",\"type\":\"CDSView\"},{\"attributes\":{\"formatter\":{\"id\":\"9a15de9a-3950-48b0-844c-a68da6206b45\",\"type\":\"BasicTickFormatter\"},\"plot\":{\"id\":\"8cbb3a28-d3c8-4012-b62d-055457812c76\",\"subtype\":\"Figure\",\"type\":\"Plot\"},\"ticker\":{\"id\":\"af0f0ba3-28de-4813-9292-a4df93f95011\",\"type\":\"BasicTicker\"}},\"id\":\"0909583a-afa3-4a50-a788-23b039517c2c\",\"type\":\"LinearAxis\"},{\"attributes\":{},\"id\":\"b0860fcb-8c76-4ff2-9667-c3121df27f25\",\"type\":\"BasicTickFormatter\"},{\"attributes\":{\"plot\":{\"id\":\"8cbb3a28-d3c8-4012-b62d-055457812c76\",\"subtype\":\"Figure\",\"type\":\"Plot\"},\"ticker\":{\"id\":\"af0f0ba3-28de-4813-9292-a4df93f95011\",\"type\":\"BasicTicker\"}},\"id\":\"1860f0f0-af74-45a0-8716-d5464e70ad55\",\"type\":\"Grid\"},{\"attributes\":{\"callback\":null,\"column_names\":[\"x\",\"y\"],\"data\":{\"x\":[2,5,8],\"y\":[4,7,6]}},\"id\":\"efae9f7c-af42-4919-b26e-aa2fd382f3b3\",\"type\":\"ColumnDataSource\"},{\"attributes\":{\"fill_color\":{\"value\":\"olive\"},\"line_color\":{\"value\":\"olive\"},\"size\":{\"units\":\"screen\",\"value\":10},\"x\":{\"field\":\"x\"},\"y\":{\"field\":\"y\"}},\"id\":\"dd80afe4-929b-4f32-b998-a26f595d77ed\",\"type\":\"Circle\"},{\"attributes\":{\"formatter\":{\"id\":\"b0860fcb-8c76-4ff2-9667-c3121df27f25\",\"type\":\"BasicTickFormatter\"},\"plot\":{\"id\":\"8cbb3a28-d3c8-4012-b62d-055457812c76\",\"subtype\":\"Figure\",\"type\":\"Plot\"},\"ticker\":{\"id\":\"84503882-931a-4db4-ae93-e1ccdb52d791\",\"type\":\"BasicTicker\"}},\"id\":\"322d1a94-b0ea-4d75-ba2f-606f70187257\",\"type\":\"LinearAxis\"},{\"attributes\":{},\"id\":\"c42888b8-6938-4262-9249-6f8878a9c750\",\"type\":\"ResetTool\"},{\"attributes\":{},\"id\":\"af0f0ba3-28de-4813-9292-a4df93f95011\",\"type\":\"BasicTicker\"},{\"attributes\":{},\"id\":\"59fbb1bd-fd61-45ed-bf40-b805ee66cfc6\",\"type\":\"LinearScale\"},{\"attributes\":{},\"id\":\"84503882-931a-4db4-ae93-e1ccdb52d791\",\"type\":\"BasicTicker\"},{\"attributes\":{\"overlay\":{\"id\":\"c1a06fdd-6b90-4a60-9099-deed7b9870fb\",\"type\":\"BoxAnnotation\"}},\"id\":\"e08485e8-f356-40d9-8962-888050e833fd\",\"type\":\"BoxZoomTool\"},{\"attributes\":{},\"id\":\"6a8def1d-5dc8-4309-8eb1-4f725ce75015\",\"type\":\"SaveTool\"}],\"root_ids\":[\"8cbb3a28-d3c8-4012-b62d-055457812c76\"]},\"title\":\"Bokeh Application\",\"version\":\"0.12.8\"}};\n",
       "    var render_items = [{\"docid\":\"c574ab15-b570-4b33-9129-a0ce902619f1\",\"elementid\":\"413bddba-5d7d-4571-ab40-be5c4de25438\",\"modelid\":\"8cbb3a28-d3c8-4012-b62d-055457812c76\"}];\n",
       "\n",
       "    root.Bokeh.embed.embed_items(docs_json, render_items);\n",
       "  }\n",
       "\n",
       "  if (root.Bokeh !== undefined) {\n",
       "    embed_document(root);\n",
       "  } else {\n",
       "    var attempts = 0;\n",
       "    var timer = setInterval(function(root) {\n",
       "      if (root.Bokeh !== undefined) {\n",
       "        embed_document(root);\n",
       "        clearInterval(timer);\n",
       "      }\n",
       "      attempts++;\n",
       "      if (attempts > 100) {\n",
       "        console.log(\"Bokeh: ERROR: Unable to embed document because BokehJS library is missing\")\n",
       "        clearInterval(timer);\n",
       "      }\n",
       "    }, 10, root)\n",
       "  }\n",
       "})(window);"
      ],
      "application/vnd.bokehjs_exec.v0+json": ""
     },
     "metadata": {
      "application/vnd.bokehjs_exec.v0+json": {
       "id": "8cbb3a28-d3c8-4012-b62d-055457812c76"
      }
     },
     "output_type": "display_data"
    }
   ],
   "source": [
    "from bokeh.models.annotations import Label\n",
    "from bokeh.plotting import figure\n",
    "\n",
    "p = figure(x_range=(0,10), y_range=(0,10))\n",
    "p.circle([2, 5, 8], [4, 7, 6], color=\"olive\", size=10)\n",
    "\n",
    "label = Label(x=5, y=7, x_offset=12, text=\"Second Point\", text_baseline=\"middle\")\n",
    "p.add_layout(label)\n",
    "\n",
    "show(p)"
   ]
  },
  {
   "cell_type": "code",
   "execution_count": 8,
   "metadata": {
    "collapsed": true
   },
   "outputs": [],
   "source": [
    "# EXERCISE: experiment with Label\n"
   ]
  },
  {
   "cell_type": "markdown",
   "metadata": {
    "collapsed": true
   },
   "source": [
    "## LabelSet\n",
    "\n",
    "The `LabelSet` annotation allows you to create many labels at once, for instance if you want to label an entire set of scatter markers. They are similar to `Label`, but they can also \n",
    "accept a `ColumnDataSource` as the `source` property, and then `x` and `y` may refer to columns in the data source, e.g. `x=\"col2\"` (but may also still be fixed values, e.g. `x=10`)."
   ]
  },
  {
   "cell_type": "code",
   "execution_count": 9,
   "metadata": {},
   "outputs": [
    {
     "data": {
      "text/html": [
       "\n",
       "<div class=\"bk-root\">\n",
       "    <div class=\"bk-plotdiv\" id=\"6ba87987-c2be-49f2-a3fc-cac5dfefc285\"></div>\n",
       "</div>"
      ]
     },
     "metadata": {},
     "output_type": "display_data"
    },
    {
     "data": {
      "application/javascript": [
       "(function(root) {\n",
       "  function embed_document(root) {\n",
       "    var docs_json = {\"b6899dbb-c9a3-4f69-8a6f-f29782c59b40\":{\"roots\":{\"references\":[{\"attributes\":{},\"id\":\"2c699341-391a-4d81-820d-a8f3b2df0439\",\"type\":\"PanTool\"},{\"attributes\":{\"below\":[{\"id\":\"d648a1fb-6c61-46a6-a19e-226b927f3a40\",\"type\":\"LinearAxis\"}],\"left\":[{\"id\":\"b6b2c09c-4399-4efd-a001-de9fcfae8866\",\"type\":\"LinearAxis\"}],\"renderers\":[{\"id\":\"d648a1fb-6c61-46a6-a19e-226b927f3a40\",\"type\":\"LinearAxis\"},{\"id\":\"a3cca64b-e1be-411f-a23c-f6eaa681190f\",\"type\":\"Grid\"},{\"id\":\"b6b2c09c-4399-4efd-a001-de9fcfae8866\",\"type\":\"LinearAxis\"},{\"id\":\"ecb0dfc9-bf09-4dc9-a061-1f9be81a6a75\",\"type\":\"Grid\"},{\"id\":\"972653bf-c639-4de5-806a-e8ed127a4af3\",\"type\":\"BoxAnnotation\"},{\"id\":\"bda36829-22b0-4800-ba4b-c15019897ee6\",\"type\":\"GlyphRenderer\"},{\"id\":\"56297b08-f818-4209-9944-b12d2c96c39e\",\"type\":\"LabelSet\"}],\"title\":{\"id\":\"e85986dd-c467-41c2-9be8-4c61d80cbcda\",\"type\":\"Title\"},\"toolbar\":{\"id\":\"4433b0aa-8985-4f43-ae03-904ea51a5e2f\",\"type\":\"Toolbar\"},\"x_range\":{\"id\":\"8a4c0066-64d8-4702-9bff-d491a70a97f9\",\"type\":\"Range1d\"},\"x_scale\":{\"id\":\"14620b95-70ad-4021-9c09-362f7615bd72\",\"type\":\"LinearScale\"},\"y_range\":{\"id\":\"c586f87c-ece9-420b-ad0b-f80fe5498971\",\"type\":\"DataRange1d\"},\"y_scale\":{\"id\":\"72901a40-6a86-46a2-aa66-0411f5a4a845\",\"type\":\"LinearScale\"}},\"id\":\"ac1b3129-81e9-480f-bc14-3efa767db51d\",\"subtype\":\"Figure\",\"type\":\"Plot\"},{\"attributes\":{\"data_source\":{\"id\":\"4ae502b5-04d8-44f6-a1a3-04486335207f\",\"type\":\"ColumnDataSource\"},\"glyph\":{\"id\":\"6a1a0993-2f3b-42a1-879d-8aa6b71de474\",\"type\":\"Circle\"},\"hover_glyph\":null,\"muted_glyph\":null,\"nonselection_glyph\":{\"id\":\"b89061b6-265a-4de5-8209-f8a775e90b20\",\"type\":\"Circle\"},\"selection_glyph\":null,\"view\":{\"id\":\"1aadf675-3d0e-4f9c-97d9-c39878c09d1a\",\"type\":\"CDSView\"}},\"id\":\"bda36829-22b0-4800-ba4b-c15019897ee6\",\"type\":\"GlyphRenderer\"},{\"attributes\":{\"callback\":null,\"column_names\":[\"temp\",\"pressure\",\"names\"],\"data\":{\"names\":[\"A\",\"B\",\"C\",\"D\",\"E\",\"F\"],\"pressure\":[165,189,220,141,260,174],\"temp\":[166,171,172,168,174,162]}},\"id\":\"4ae502b5-04d8-44f6-a1a3-04486335207f\",\"type\":\"ColumnDataSource\"},{\"attributes\":{},\"id\":\"caee5242-d504-47c1-8c8b-7c7cc0d207e9\",\"type\":\"WheelZoomTool\"},{\"attributes\":{\"active_drag\":\"auto\",\"active_inspect\":\"auto\",\"active_scroll\":\"auto\",\"active_tap\":\"auto\",\"tools\":[{\"id\":\"2c699341-391a-4d81-820d-a8f3b2df0439\",\"type\":\"PanTool\"},{\"id\":\"caee5242-d504-47c1-8c8b-7c7cc0d207e9\",\"type\":\"WheelZoomTool\"},{\"id\":\"0343db1c-3832-4545-b66e-5542d40203b6\",\"type\":\"BoxZoomTool\"},{\"id\":\"b889ff0d-6dc1-4b37-a854-cf541bcb46a7\",\"type\":\"SaveTool\"},{\"id\":\"1a6d8dc3-1774-47b7-bf2e-5c1bd586cb9c\",\"type\":\"ResetTool\"},{\"id\":\"1e8073f9-8979-4934-a293-10e02c1ffa64\",\"type\":\"HelpTool\"}]},\"id\":\"4433b0aa-8985-4f43-ae03-904ea51a5e2f\",\"type\":\"Toolbar\"},{\"attributes\":{\"overlay\":{\"id\":\"972653bf-c639-4de5-806a-e8ed127a4af3\",\"type\":\"BoxAnnotation\"}},\"id\":\"0343db1c-3832-4545-b66e-5542d40203b6\",\"type\":\"BoxZoomTool\"},{\"attributes\":{\"callback\":null,\"end\":175,\"start\":160},\"id\":\"8a4c0066-64d8-4702-9bff-d491a70a97f9\",\"type\":\"Range1d\"},{\"attributes\":{},\"id\":\"b889ff0d-6dc1-4b37-a854-cf541bcb46a7\",\"type\":\"SaveTool\"},{\"attributes\":{},\"id\":\"486658e0-2a48-44a5-a0d1-bb07a28d75e7\",\"type\":\"BasicTickFormatter\"},{\"attributes\":{},\"id\":\"1a6d8dc3-1774-47b7-bf2e-5c1bd586cb9c\",\"type\":\"ResetTool\"},{\"attributes\":{\"callback\":null},\"id\":\"c586f87c-ece9-420b-ad0b-f80fe5498971\",\"type\":\"DataRange1d\"},{\"attributes\":{},\"id\":\"1e8073f9-8979-4934-a293-10e02c1ffa64\",\"type\":\"HelpTool\"},{\"attributes\":{},\"id\":\"14620b95-70ad-4021-9c09-362f7615bd72\",\"type\":\"LinearScale\"},{\"attributes\":{\"plot\":null,\"text\":\"\"},\"id\":\"e85986dd-c467-41c2-9be8-4c61d80cbcda\",\"type\":\"Title\"},{\"attributes\":{\"fill_color\":{\"value\":\"#1f77b4\"},\"line_color\":{\"value\":\"#1f77b4\"},\"size\":{\"units\":\"screen\",\"value\":8},\"x\":{\"field\":\"temp\"},\"y\":{\"field\":\"pressure\"}},\"id\":\"6a1a0993-2f3b-42a1-879d-8aa6b71de474\",\"type\":\"Circle\"},{\"attributes\":{\"source\":{\"id\":\"4ae502b5-04d8-44f6-a1a3-04486335207f\",\"type\":\"ColumnDataSource\"}},\"id\":\"1aadf675-3d0e-4f9c-97d9-c39878c09d1a\",\"type\":\"CDSView\"},{\"attributes\":{\"level\":\"glyph\",\"plot\":{\"id\":\"ac1b3129-81e9-480f-bc14-3efa767db51d\",\"subtype\":\"Figure\",\"type\":\"Plot\"},\"source\":{\"id\":\"4ae502b5-04d8-44f6-a1a3-04486335207f\",\"type\":\"ColumnDataSource\"},\"text\":{\"field\":\"names\"},\"x\":{\"field\":\"temp\"},\"x_offset\":{\"value\":5},\"y\":{\"field\":\"pressure\"},\"y_offset\":{\"value\":5}},\"id\":\"56297b08-f818-4209-9944-b12d2c96c39e\",\"type\":\"LabelSet\"},{\"attributes\":{},\"id\":\"72901a40-6a86-46a2-aa66-0411f5a4a845\",\"type\":\"LinearScale\"},{\"attributes\":{},\"id\":\"dfb41777-2fab-4373-8f20-8637c7de89c1\",\"type\":\"BasicTickFormatter\"},{\"attributes\":{\"plot\":{\"id\":\"ac1b3129-81e9-480f-bc14-3efa767db51d\",\"subtype\":\"Figure\",\"type\":\"Plot\"},\"ticker\":{\"id\":\"058796a5-5b88-4dd4-ad38-c69d51abfc83\",\"type\":\"BasicTicker\"}},\"id\":\"a3cca64b-e1be-411f-a23c-f6eaa681190f\",\"type\":\"Grid\"},{\"attributes\":{\"axis_label\":\"Temperature (C)\",\"formatter\":{\"id\":\"486658e0-2a48-44a5-a0d1-bb07a28d75e7\",\"type\":\"BasicTickFormatter\"},\"plot\":{\"id\":\"ac1b3129-81e9-480f-bc14-3efa767db51d\",\"subtype\":\"Figure\",\"type\":\"Plot\"},\"ticker\":{\"id\":\"058796a5-5b88-4dd4-ad38-c69d51abfc83\",\"type\":\"BasicTicker\"}},\"id\":\"d648a1fb-6c61-46a6-a19e-226b927f3a40\",\"type\":\"LinearAxis\"},{\"attributes\":{},\"id\":\"058796a5-5b88-4dd4-ad38-c69d51abfc83\",\"type\":\"BasicTicker\"},{\"attributes\":{\"axis_label\":\"Pressure (lbs)\",\"formatter\":{\"id\":\"dfb41777-2fab-4373-8f20-8637c7de89c1\",\"type\":\"BasicTickFormatter\"},\"plot\":{\"id\":\"ac1b3129-81e9-480f-bc14-3efa767db51d\",\"subtype\":\"Figure\",\"type\":\"Plot\"},\"ticker\":{\"id\":\"a4942b6b-40f4-4fd1-8c5e-582e60ba876b\",\"type\":\"BasicTicker\"}},\"id\":\"b6b2c09c-4399-4efd-a001-de9fcfae8866\",\"type\":\"LinearAxis\"},{\"attributes\":{},\"id\":\"a4942b6b-40f4-4fd1-8c5e-582e60ba876b\",\"type\":\"BasicTicker\"},{\"attributes\":{\"dimension\":1,\"plot\":{\"id\":\"ac1b3129-81e9-480f-bc14-3efa767db51d\",\"subtype\":\"Figure\",\"type\":\"Plot\"},\"ticker\":{\"id\":\"a4942b6b-40f4-4fd1-8c5e-582e60ba876b\",\"type\":\"BasicTicker\"}},\"id\":\"ecb0dfc9-bf09-4dc9-a061-1f9be81a6a75\",\"type\":\"Grid\"},{\"attributes\":{\"bottom_units\":\"screen\",\"fill_alpha\":{\"value\":0.5},\"fill_color\":{\"value\":\"lightgrey\"},\"left_units\":\"screen\",\"level\":\"overlay\",\"line_alpha\":{\"value\":1.0},\"line_color\":{\"value\":\"black\"},\"line_dash\":[4,4],\"line_width\":{\"value\":2},\"plot\":null,\"render_mode\":\"css\",\"right_units\":\"screen\",\"top_units\":\"screen\"},\"id\":\"972653bf-c639-4de5-806a-e8ed127a4af3\",\"type\":\"BoxAnnotation\"},{\"attributes\":{\"fill_alpha\":{\"value\":0.1},\"fill_color\":{\"value\":\"#1f77b4\"},\"line_alpha\":{\"value\":0.1},\"line_color\":{\"value\":\"#1f77b4\"},\"size\":{\"units\":\"screen\",\"value\":8},\"x\":{\"field\":\"temp\"},\"y\":{\"field\":\"pressure\"}},\"id\":\"b89061b6-265a-4de5-8209-f8a775e90b20\",\"type\":\"Circle\"}],\"root_ids\":[\"ac1b3129-81e9-480f-bc14-3efa767db51d\"]},\"title\":\"Bokeh Application\",\"version\":\"0.12.8\"}};\n",
       "    var render_items = [{\"docid\":\"b6899dbb-c9a3-4f69-8a6f-f29782c59b40\",\"elementid\":\"6ba87987-c2be-49f2-a3fc-cac5dfefc285\",\"modelid\":\"ac1b3129-81e9-480f-bc14-3efa767db51d\"}];\n",
       "\n",
       "    root.Bokeh.embed.embed_items(docs_json, render_items);\n",
       "  }\n",
       "\n",
       "  if (root.Bokeh !== undefined) {\n",
       "    embed_document(root);\n",
       "  } else {\n",
       "    var attempts = 0;\n",
       "    var timer = setInterval(function(root) {\n",
       "      if (root.Bokeh !== undefined) {\n",
       "        embed_document(root);\n",
       "        clearInterval(timer);\n",
       "      }\n",
       "      attempts++;\n",
       "      if (attempts > 100) {\n",
       "        console.log(\"Bokeh: ERROR: Unable to embed document because BokehJS library is missing\")\n",
       "        clearInterval(timer);\n",
       "      }\n",
       "    }, 10, root)\n",
       "  }\n",
       "})(window);"
      ],
      "application/vnd.bokehjs_exec.v0+json": ""
     },
     "metadata": {
      "application/vnd.bokehjs_exec.v0+json": {
       "id": "ac1b3129-81e9-480f-bc14-3efa767db51d"
      }
     },
     "output_type": "display_data"
    }
   ],
   "source": [
    "from bokeh.plotting import figure\n",
    "from bokeh.models import ColumnDataSource, LabelSet\n",
    "\n",
    "\n",
    "source = ColumnDataSource(data=dict(\n",
    "    temp=[166, 171, 172, 168, 174, 162],\n",
    "    pressure=[165, 189, 220, 141, 260, 174],\n",
    "    names=['A', 'B', 'C', 'D', 'E', 'F']))\n",
    "\n",
    "p = figure(x_range=(160, 175))\n",
    "p.scatter(x='temp', y='pressure', size=8, source=source)\n",
    "p.xaxis.axis_label = 'Temperature (C)'\n",
    "p.yaxis.axis_label = 'Pressure (lbs)'\n",
    "\n",
    "labels = LabelSet(x='temp', y='pressure', text='names', level='glyph',\n",
    "                  x_offset=5, y_offset=5, source=source, render_mode='canvas')\n",
    "\n",
    "\n",
    "p.add_layout(labels)\n",
    "\n",
    "show(p)"
   ]
  },
  {
   "cell_type": "code",
   "execution_count": 10,
   "metadata": {
    "collapsed": true
   },
   "outputs": [],
   "source": [
    "# EXERCISE: experiment with LabelSet\n"
   ]
  },
  {
   "cell_type": "markdown",
   "metadata": {
    "collapsed": true
   },
   "source": [
    "## Arrows\n",
    "\n",
    "The `Arrow` annotation allows you to \"point\" at different things on your plot, and can be especially useful in conjuction with labels. \n",
    "\n",
    "For example, to create an arrow that points from `(0,0)` to `(1,1)`:\n",
    "\n",
    "```python\n",
    "p.add_layout(Arrow(x_start=0, y_start=0, x_end=1, y_end=0))\n",
    "```\n",
    "\n",
    "This arrow will have the default [`OpenHead`](http://bokeh.pydata.org/en/latest/docs/reference/models/arrow_heads.html#bokeh.models.arrow_heads.OpenHead) arrow head at the end of the arrow. Other kinds of arrow heads include [`NormalHead`](http://bokeh.pydata.org/en/latest/docs/reference/models/arrow_heads.html#bokeh.models.arrow_heads.NormalHead) and [`VeeHead`](http://bokeh.pydata.org/en/latest/docs/reference/models/arrow_heads.html#bokeh.models.arrow_heads.VeeHead). The arrow head type can be controlled by setting the `start` and `end` properties of `Arrow` objects:\n",
    "\n",
    "```python\n",
    "p.add_layout(Arrow(start=OpenHead(), end=VeeHead(), \n",
    "             x_start=0, y_start=0, x_end=1, y_end=0))\n",
    "```\n",
    "\n",
    "This will create a double-ended arrow with an \"open\" head at the start, and a \"vee\" head at the end. Arrowheads have the standard set of line and fill properties to control their appearance. As an example\n",
    "\n",
    "```python\n",
    "OpenHead(line_color=\"firebrick\", line_width=4)\n",
    "```\n",
    "\n",
    "The code and plot below shows several of these configurations together."
   ]
  },
  {
   "cell_type": "code",
   "execution_count": 11,
   "metadata": {},
   "outputs": [
    {
     "data": {
      "text/html": [
       "\n",
       "<div class=\"bk-root\">\n",
       "    <div class=\"bk-plotdiv\" id=\"1cca350e-6cfe-41e7-8f92-0f4fa83fb400\"></div>\n",
       "</div>"
      ]
     },
     "metadata": {},
     "output_type": "display_data"
    },
    {
     "data": {
      "application/javascript": [
       "(function(root) {\n",
       "  function embed_document(root) {\n",
       "    var docs_json = {\"7cc46b53-a5a7-489c-9542-3c37c6d6c00f\":{\"roots\":{\"references\":[{\"attributes\":{\"end\":{\"id\":\"29c96ffb-630f-4dd0-8492-f3ead6577669\",\"type\":\"NormalHead\"},\"plot\":{\"id\":\"f768d9d0-e803-4d9a-8c8d-601aaefdfc0a\",\"subtype\":\"Figure\",\"type\":\"Plot\"},\"source\":null,\"start\":null,\"x_end\":{\"value\":0.5},\"x_start\":{\"value\":1},\"y_end\":{\"value\":0.7},\"y_start\":{\"value\":0}},\"id\":\"875368cd-bcaa-4fa4-b9ee-d5b916ce31b7\",\"type\":\"Arrow\"},{\"attributes\":{\"callback\":null,\"column_names\":[\"x\",\"y\",\"fill_color\",\"line_color\"],\"data\":{\"fill_color\":[\"navy\",\"yellow\",\"red\"],\"line_color\":[\"navy\",\"yellow\",\"red\"],\"x\":[0,1,0.5],\"y\":[0,0,0.7]}},\"id\":\"fa8b1710-280f-4cdb-8a4d-b312741d912b\",\"type\":\"ColumnDataSource\"},{\"attributes\":{\"below\":[{\"id\":\"8cfab7b1-327a-446f-9606-daecccdccd5b\",\"type\":\"LinearAxis\"}],\"left\":[{\"id\":\"67116193-b7ac-47b9-a0e4-8312e671412b\",\"type\":\"LinearAxis\"}],\"renderers\":[{\"id\":\"8cfab7b1-327a-446f-9606-daecccdccd5b\",\"type\":\"LinearAxis\"},{\"id\":\"1465e7f0-e715-4dd6-ada8-a44309cefffb\",\"type\":\"Grid\"},{\"id\":\"67116193-b7ac-47b9-a0e4-8312e671412b\",\"type\":\"LinearAxis\"},{\"id\":\"c720e903-949c-4fd5-87e8-047fffdccc46\",\"type\":\"Grid\"},{\"id\":\"8d0399d5-8cf7-4856-9373-0bf57c1c3ffe\",\"type\":\"BoxAnnotation\"},{\"id\":\"ad875a7f-7ad2-4ef2-aa2f-e9fbbb5071da\",\"type\":\"GlyphRenderer\"},{\"id\":\"766982f7-b875-47bf-a0e8-e60310d5220a\",\"type\":\"Arrow\"},{\"id\":\"875368cd-bcaa-4fa4-b9ee-d5b916ce31b7\",\"type\":\"Arrow\"},{\"id\":\"a1b43279-d1ca-49b6-b588-48d3001dc3b3\",\"type\":\"Arrow\"}],\"title\":{\"id\":\"e7c4f39f-0665-44c3-b9a7-3544f45fae0a\",\"type\":\"Title\"},\"toolbar\":{\"id\":\"f4638a40-83d9-42b9-8a73-37bcc38171ad\",\"type\":\"Toolbar\"},\"x_range\":{\"id\":\"b2946960-79d8-46a2-854f-de78b32395ba\",\"type\":\"DataRange1d\"},\"x_scale\":{\"id\":\"475b7a0a-f0c7-4e36-8ffa-4534e85f3e8a\",\"type\":\"LinearScale\"},\"y_range\":{\"id\":\"a6ed2d99-c98e-44e5-8abd-86bde8e589ad\",\"type\":\"DataRange1d\"},\"y_scale\":{\"id\":\"6e216ab8-1485-436d-bcd4-0802bc7f70e4\",\"type\":\"LinearScale\"}},\"id\":\"f768d9d0-e803-4d9a-8c8d-601aaefdfc0a\",\"subtype\":\"Figure\",\"type\":\"Plot\"},{\"attributes\":{},\"id\":\"35987fb5-4204-4a44-9f8f-6ae42cbd09ff\",\"type\":\"BasicTickFormatter\"},{\"attributes\":{\"fill_alpha\":{\"value\":0.1},\"fill_color\":{\"value\":\"#1f77b4\"},\"line_alpha\":{\"value\":0.1},\"line_color\":{\"value\":\"#1f77b4\"},\"radius\":{\"units\":\"data\",\"value\":0.1},\"x\":{\"field\":\"x\"},\"y\":{\"field\":\"y\"}},\"id\":\"3ac565a0-5c0f-4064-b560-3a6472e3d31f\",\"type\":\"Circle\"},{\"attributes\":{\"plot\":null,\"size\":35},\"id\":\"ad956d46-38e1-4d1c-bd19-9febfd7b3cc6\",\"type\":\"VeeHead\"},{\"attributes\":{\"active_drag\":\"auto\",\"active_inspect\":\"auto\",\"active_scroll\":\"auto\",\"active_tap\":\"auto\",\"tools\":[{\"id\":\"2b21ed9b-3cb6-4cba-8b64-c1ab1fadfb8b\",\"type\":\"PanTool\"},{\"id\":\"e040befe-a5ea-431b-98d7-63dce6efbc91\",\"type\":\"WheelZoomTool\"},{\"id\":\"b236f706-2632-4651-a1cf-050e8b86b618\",\"type\":\"BoxZoomTool\"},{\"id\":\"e360b79b-5bad-4c48-87b4-046994655cf5\",\"type\":\"SaveTool\"},{\"id\":\"03a8ece0-f81f-4bb5-9dac-ae23202fc492\",\"type\":\"ResetTool\"},{\"id\":\"7f9cff00-7c43-4543-a1b1-54ddc9402498\",\"type\":\"HelpTool\"}]},\"id\":\"f4638a40-83d9-42b9-8a73-37bcc38171ad\",\"type\":\"Toolbar\"},{\"attributes\":{\"callback\":null},\"id\":\"b2946960-79d8-46a2-854f-de78b32395ba\",\"type\":\"DataRange1d\"},{\"attributes\":{\"plot\":null,\"text\":\"\"},\"id\":\"e7c4f39f-0665-44c3-b9a7-3544f45fae0a\",\"type\":\"Title\"},{\"attributes\":{\"callback\":null},\"id\":\"a6ed2d99-c98e-44e5-8abd-86bde8e589ad\",\"type\":\"DataRange1d\"},{\"attributes\":{},\"id\":\"475b7a0a-f0c7-4e36-8ffa-4534e85f3e8a\",\"type\":\"LinearScale\"},{\"attributes\":{},\"id\":\"6e216ab8-1485-436d-bcd4-0802bc7f70e4\",\"type\":\"LinearScale\"},{\"attributes\":{\"plot\":{\"id\":\"f768d9d0-e803-4d9a-8c8d-601aaefdfc0a\",\"subtype\":\"Figure\",\"type\":\"Plot\"},\"ticker\":{\"id\":\"282c8aaa-14e7-4d5d-be08-1643dc20faeb\",\"type\":\"BasicTicker\"}},\"id\":\"1465e7f0-e715-4dd6-ada8-a44309cefffb\",\"type\":\"Grid\"},{\"attributes\":{\"formatter\":{\"id\":\"35987fb5-4204-4a44-9f8f-6ae42cbd09ff\",\"type\":\"BasicTickFormatter\"},\"plot\":{\"id\":\"f768d9d0-e803-4d9a-8c8d-601aaefdfc0a\",\"subtype\":\"Figure\",\"type\":\"Plot\"},\"ticker\":{\"id\":\"282c8aaa-14e7-4d5d-be08-1643dc20faeb\",\"type\":\"BasicTicker\"}},\"id\":\"8cfab7b1-327a-446f-9606-daecccdccd5b\",\"type\":\"LinearAxis\"},{\"attributes\":{\"end\":{\"id\":\"6d20ee6b-fb5a-4b45-82f5-b0e35e63d10b\",\"type\":\"OpenHead\"},\"plot\":{\"id\":\"f768d9d0-e803-4d9a-8c8d-601aaefdfc0a\",\"subtype\":\"Figure\",\"type\":\"Plot\"},\"source\":null,\"start\":null,\"x_end\":{\"value\":1},\"x_start\":{\"value\":0},\"y_end\":{\"value\":0},\"y_start\":{\"value\":0}},\"id\":\"766982f7-b875-47bf-a0e8-e60310d5220a\",\"type\":\"Arrow\"},{\"attributes\":{},\"id\":\"282c8aaa-14e7-4d5d-be08-1643dc20faeb\",\"type\":\"BasicTicker\"},{\"attributes\":{\"formatter\":{\"id\":\"2b868933-134b-42b9-9b1f-1b20558dc855\",\"type\":\"BasicTickFormatter\"},\"plot\":{\"id\":\"f768d9d0-e803-4d9a-8c8d-601aaefdfc0a\",\"subtype\":\"Figure\",\"type\":\"Plot\"},\"ticker\":{\"id\":\"f453e03c-d519-4385-9dc9-3db73bf686c9\",\"type\":\"BasicTicker\"}},\"id\":\"67116193-b7ac-47b9-a0e4-8312e671412b\",\"type\":\"LinearAxis\"},{\"attributes\":{\"fill_alpha\":{\"value\":0.1},\"fill_color\":{\"field\":\"fill_color\"},\"line_color\":{\"field\":\"line_color\"},\"radius\":{\"units\":\"data\",\"value\":0.1},\"x\":{\"field\":\"x\"},\"y\":{\"field\":\"y\"}},\"id\":\"9d630760-89b9-42d4-9dba-dd8e8977adf7\",\"type\":\"Circle\"},{\"attributes\":{},\"id\":\"f453e03c-d519-4385-9dc9-3db73bf686c9\",\"type\":\"BasicTicker\"},{\"attributes\":{},\"id\":\"2b868933-134b-42b9-9b1f-1b20558dc855\",\"type\":\"BasicTickFormatter\"},{\"attributes\":{\"data_source\":{\"id\":\"fa8b1710-280f-4cdb-8a4d-b312741d912b\",\"type\":\"ColumnDataSource\"},\"glyph\":{\"id\":\"9d630760-89b9-42d4-9dba-dd8e8977adf7\",\"type\":\"Circle\"},\"hover_glyph\":null,\"muted_glyph\":null,\"nonselection_glyph\":{\"id\":\"3ac565a0-5c0f-4064-b560-3a6472e3d31f\",\"type\":\"Circle\"},\"selection_glyph\":null,\"view\":{\"id\":\"ddc484d3-072f-465f-b205-6eac31214efa\",\"type\":\"CDSView\"}},\"id\":\"ad875a7f-7ad2-4ef2-aa2f-e9fbbb5071da\",\"type\":\"GlyphRenderer\"},{\"attributes\":{\"fill_color\":{\"value\":\"orange\"},\"plot\":null},\"id\":\"29c96ffb-630f-4dd0-8492-f3ead6577669\",\"type\":\"NormalHead\"},{\"attributes\":{\"source\":{\"id\":\"fa8b1710-280f-4cdb-8a4d-b312741d912b\",\"type\":\"ColumnDataSource\"}},\"id\":\"ddc484d3-072f-465f-b205-6eac31214efa\",\"type\":\"CDSView\"},{\"attributes\":{\"line_color\":{\"value\":\"firebrick\"},\"line_width\":{\"value\":4},\"plot\":null},\"id\":\"6d20ee6b-fb5a-4b45-82f5-b0e35e63d10b\",\"type\":\"OpenHead\"},{\"attributes\":{\"bottom_units\":\"screen\",\"fill_alpha\":{\"value\":0.5},\"fill_color\":{\"value\":\"lightgrey\"},\"left_units\":\"screen\",\"level\":\"overlay\",\"line_alpha\":{\"value\":1.0},\"line_color\":{\"value\":\"black\"},\"line_dash\":[4,4],\"line_width\":{\"value\":2},\"plot\":null,\"render_mode\":\"css\",\"right_units\":\"screen\",\"top_units\":\"screen\"},\"id\":\"8d0399d5-8cf7-4856-9373-0bf57c1c3ffe\",\"type\":\"BoxAnnotation\"},{\"attributes\":{},\"id\":\"2b21ed9b-3cb6-4cba-8b64-c1ab1fadfb8b\",\"type\":\"PanTool\"},{\"attributes\":{},\"id\":\"e040befe-a5ea-431b-98d7-63dce6efbc91\",\"type\":\"WheelZoomTool\"},{\"attributes\":{\"overlay\":{\"id\":\"8d0399d5-8cf7-4856-9373-0bf57c1c3ffe\",\"type\":\"BoxAnnotation\"}},\"id\":\"b236f706-2632-4651-a1cf-050e8b86b618\",\"type\":\"BoxZoomTool\"},{\"attributes\":{},\"id\":\"e360b79b-5bad-4c48-87b4-046994655cf5\",\"type\":\"SaveTool\"},{\"attributes\":{},\"id\":\"03a8ece0-f81f-4bb5-9dac-ae23202fc492\",\"type\":\"ResetTool\"},{\"attributes\":{},\"id\":\"7f9cff00-7c43-4543-a1b1-54ddc9402498\",\"type\":\"HelpTool\"},{\"attributes\":{\"end\":{\"id\":\"ad956d46-38e1-4d1c-bd19-9febfd7b3cc6\",\"type\":\"VeeHead\"},\"line_color\":{\"value\":\"red\"},\"plot\":{\"id\":\"f768d9d0-e803-4d9a-8c8d-601aaefdfc0a\",\"subtype\":\"Figure\",\"type\":\"Plot\"},\"source\":null,\"start\":null,\"x_end\":{\"value\":0},\"x_start\":{\"value\":0.5},\"y_end\":{\"value\":0},\"y_start\":{\"value\":0.7}},\"id\":\"a1b43279-d1ca-49b6-b588-48d3001dc3b3\",\"type\":\"Arrow\"},{\"attributes\":{\"dimension\":1,\"plot\":{\"id\":\"f768d9d0-e803-4d9a-8c8d-601aaefdfc0a\",\"subtype\":\"Figure\",\"type\":\"Plot\"},\"ticker\":{\"id\":\"f453e03c-d519-4385-9dc9-3db73bf686c9\",\"type\":\"BasicTicker\"}},\"id\":\"c720e903-949c-4fd5-87e8-047fffdccc46\",\"type\":\"Grid\"}],\"root_ids\":[\"f768d9d0-e803-4d9a-8c8d-601aaefdfc0a\"]},\"title\":\"Bokeh Application\",\"version\":\"0.12.8\"}};\n",
       "    var render_items = [{\"docid\":\"7cc46b53-a5a7-489c-9542-3c37c6d6c00f\",\"elementid\":\"1cca350e-6cfe-41e7-8f92-0f4fa83fb400\",\"modelid\":\"f768d9d0-e803-4d9a-8c8d-601aaefdfc0a\"}];\n",
       "\n",
       "    root.Bokeh.embed.embed_items(docs_json, render_items);\n",
       "  }\n",
       "\n",
       "  if (root.Bokeh !== undefined) {\n",
       "    embed_document(root);\n",
       "  } else {\n",
       "    var attempts = 0;\n",
       "    var timer = setInterval(function(root) {\n",
       "      if (root.Bokeh !== undefined) {\n",
       "        embed_document(root);\n",
       "        clearInterval(timer);\n",
       "      }\n",
       "      attempts++;\n",
       "      if (attempts > 100) {\n",
       "        console.log(\"Bokeh: ERROR: Unable to embed document because BokehJS library is missing\")\n",
       "        clearInterval(timer);\n",
       "      }\n",
       "    }, 10, root)\n",
       "  }\n",
       "})(window);"
      ],
      "application/vnd.bokehjs_exec.v0+json": ""
     },
     "metadata": {
      "application/vnd.bokehjs_exec.v0+json": {
       "id": "f768d9d0-e803-4d9a-8c8d-601aaefdfc0a"
      }
     },
     "output_type": "display_data"
    }
   ],
   "source": [
    "from bokeh.models.annotations import Arrow\n",
    "from bokeh.models.arrow_heads import OpenHead, NormalHead, VeeHead\n",
    "\n",
    "p = figure(plot_width=600, plot_height=600)\n",
    "\n",
    "p.circle(x=[0, 1, 0.5], y=[0, 0, 0.7], radius=0.1,\n",
    "         color=[\"navy\", \"yellow\", \"red\"], fill_alpha=0.1)\n",
    "\n",
    "p.add_layout(Arrow(end=OpenHead(line_color=\"firebrick\", line_width=4),\n",
    "                   x_start=0, y_start=0, x_end=1, y_end=0))\n",
    "\n",
    "p.add_layout(Arrow(end=NormalHead(fill_color=\"orange\"),\n",
    "                   x_start=1, y_start=0, x_end=0.5, y_end=0.7))\n",
    "\n",
    "p.add_layout(Arrow(end=VeeHead(size=35), line_color=\"red\",\n",
    "                   x_start=0.5, y_start=0.7, x_end=0, y_end=0))\n",
    "\n",
    "show(p)"
   ]
  },
  {
   "cell_type": "code",
   "execution_count": 12,
   "metadata": {
    "collapsed": true
   },
   "outputs": [],
   "source": [
    "# EXERCISE: experiment with arrows and arrow heads\n"
   ]
  },
  {
   "cell_type": "markdown",
   "metadata": {},
   "source": [
    "## Legends"
   ]
  },
  {
   "cell_type": "markdown",
   "metadata": {},
   "source": [
    "### Simple Legends"
   ]
  },
  {
   "cell_type": "code",
   "execution_count": 13,
   "metadata": {},
   "outputs": [
    {
     "data": {
      "text/html": [
       "\n",
       "<div class=\"bk-root\">\n",
       "    <div class=\"bk-plotdiv\" id=\"7f115047-e2db-42ad-81b5-6b77d5e35c7d\"></div>\n",
       "</div>"
      ]
     },
     "metadata": {},
     "output_type": "display_data"
    },
    {
     "data": {
      "application/javascript": [
       "(function(root) {\n",
       "  function embed_document(root) {\n",
       "    var docs_json = {\"4e9aa880-d965-4731-b296-5eee4628df39\":{\"roots\":{\"references\":[{\"attributes\":{},\"id\":\"f9bf0de9-f053-45ef-afa0-0161114af25c\",\"type\":\"BasicTicker\"},{\"attributes\":{\"data_source\":{\"id\":\"667c98be-7afe-4838-b993-02d9ded032e1\",\"type\":\"ColumnDataSource\"},\"glyph\":{\"id\":\"fd065289-1853-4d55-8bd6-57b725f5c5dd\",\"type\":\"Circle\"},\"hover_glyph\":null,\"muted_glyph\":null,\"nonselection_glyph\":{\"id\":\"8f3279e7-6dce-4045-bd91-61e7fe2904ec\",\"type\":\"Circle\"},\"selection_glyph\":null,\"view\":{\"id\":\"54a7101e-ab1f-4807-8ad9-ac798ca91c23\",\"type\":\"CDSView\"}},\"id\":\"d8f7de3d-1aa1-4ca2-8fb7-7d9b07c0d66e\",\"type\":\"GlyphRenderer\"},{\"attributes\":{},\"id\":\"e2a23cda-bb27-4b53-86f5-ab731895f063\",\"type\":\"WheelZoomTool\"},{\"attributes\":{\"formatter\":{\"id\":\"42efe4f8-657e-47c1-bf68-64027fbda97b\",\"type\":\"BasicTickFormatter\"},\"plot\":{\"id\":\"1211b3a7-f94c-485d-ad48-708ff365ab95\",\"subtype\":\"Figure\",\"type\":\"Plot\"},\"ticker\":{\"id\":\"f9bf0de9-f053-45ef-afa0-0161114af25c\",\"type\":\"BasicTicker\"}},\"id\":\"49505158-901c-4d9a-a96e-200f63bc6cee\",\"type\":\"LinearAxis\"},{\"attributes\":{},\"id\":\"2e530378-8462-4c0b-9993-4e2fe99fd8ee\",\"type\":\"ResetTool\"},{\"attributes\":{},\"id\":\"37f002e5-316f-41eb-8e1d-62ac6ce868db\",\"type\":\"PanTool\"},{\"attributes\":{\"below\":[{\"id\":\"7c5f6056-a4ce-470e-b10b-d6ac27d23b00\",\"type\":\"LinearAxis\"}],\"left\":[{\"id\":\"49505158-901c-4d9a-a96e-200f63bc6cee\",\"type\":\"LinearAxis\"}],\"plot_height\":400,\"renderers\":[{\"id\":\"7c5f6056-a4ce-470e-b10b-d6ac27d23b00\",\"type\":\"LinearAxis\"},{\"id\":\"8aaef43a-3d50-4b5a-bf8a-7609b3006fc4\",\"type\":\"Grid\"},{\"id\":\"49505158-901c-4d9a-a96e-200f63bc6cee\",\"type\":\"LinearAxis\"},{\"id\":\"3635e3ef-3705-4bb6-8f96-c15ba7f1b1dc\",\"type\":\"Grid\"},{\"id\":\"1ffbd881-1f0d-435e-8f00-93bad471b99e\",\"type\":\"BoxAnnotation\"},{\"id\":\"2db18073-6af8-4c3e-9355-ce2c3b83a54d\",\"type\":\"Legend\"},{\"id\":\"d8f7de3d-1aa1-4ca2-8fb7-7d9b07c0d66e\",\"type\":\"GlyphRenderer\"},{\"id\":\"bed72485-7179-4bcf-a921-437bcae8d264\",\"type\":\"GlyphRenderer\"}],\"title\":{\"id\":\"63570832-a0d9-4bfb-92b3-8ae65b0e4708\",\"type\":\"Title\"},\"toolbar\":{\"id\":\"4b82ff3c-ecd0-4b9e-bb74-9f27150c6b47\",\"type\":\"Toolbar\"},\"x_range\":{\"id\":\"5baca9c5-e5ed-4527-b0b2-455428280f46\",\"type\":\"DataRange1d\"},\"x_scale\":{\"id\":\"a1ed0f1d-ce6e-452e-9233-22fad99a8de0\",\"type\":\"LinearScale\"},\"y_range\":{\"id\":\"6911dcd3-1a61-437a-a676-e71c054d9a98\",\"type\":\"DataRange1d\"},\"y_scale\":{\"id\":\"ae82ab32-5f91-441d-a5ec-74491c746c32\",\"type\":\"LinearScale\"}},\"id\":\"1211b3a7-f94c-485d-ad48-708ff365ab95\",\"subtype\":\"Figure\",\"type\":\"Plot\"},{\"attributes\":{\"callback\":null,\"column_names\":[\"x\",\"y\"],\"data\":{\"x\":{\"__ndarray__\":\"AAAAAAAAAACRGkt8Vz/AP5EaS3xXP9A/2qdwOgNf2D+RGkt8Vz/gPzXhXVstT+Q/2qdwOgNf6D9+boMZ2W7sP5EaS3xXP/A/433Ua0JH8j814V1bLU/0P4dE50oYV/Y/2qdwOgNf+D8sC/op7mb6P35ugxnZbvw/0NEMCcR2/j+RGkt8Vz8AQDrMD/RMQwFA433Ua0JHAkCML5njN0sDQDXhXVstTwRA3pIi0yJTBUCHROdKGFcGQDD2q8INWwdA2qdwOgNfCECDWTWy+GIJQCwL+inuZgpA1by+oeNqC0B+boMZ2W4MQCcgSJHOcg1A0NEMCcR2DkB5g9GAuXoPQJEaS3xXPxBAZnMtOFLBEEA6zA/0TEMRQA8l8q9HxRFA433Ua0JHEkC41rYnPckSQIwvmeM3SxNAYYh7nzLNE0A14V1bLU8UQAo6QBco0RRA3pIi0yJTFUCz6wSPHdUVQIdE50oYVxZAXJ3JBhPZFkAw9qvCDVsXQAVPjn4I3RdA2qdwOgNfGECuAFP2/eAYQINZNbL4YhlAV7IXbvPkGUAsC/op7mYaQABk3OXo6BpA1by+oeNqG0CpFaFd3uwbQH5ugxnZbhxAUsdl1dPwHEAnIEiRznIdQPt4Kk3J9B1A0NEMCcR2HkCkKu/EvvgeQHmD0YC5eh9ATdyzPLT8H0CRGkt8Vz8gQPtGPNpUgCBAZnMtOFLBIEDQnx6WTwIhQDrMD/RMQyFApPgAUkqEIUAPJfKvR8UhQHlR4w1FBiJA433Ua0JHIkBNqsXJP4giQLjWtic9ySJAIgOohToKI0CML5njN0sjQPZbikE1jCNAYYh7nzLNI0DLtGz9Lw4kQDXhXVstTyRAoA1PuSqQJEAKOkAXKNEkQHRmMXUlEiVA3pIi0yJTJUBJvxMxIJQlQLPrBI8d1SVAHRj27BoWJkCHROdKGFcmQPJw2KgVmCZAXJ3JBhPZJkDGybpkEBonQDD2q8INWydAmyKdIAucJ0AFT45+CN0nQG97f9wFHihA2qdwOgNfKEBE1GGYAKAoQK4AU/b94ChAGC1EVPshKUA=\",\"dtype\":\"float64\",\"shape\":[100]},\"y\":{\"__ndarray__\":\"AAAAAAAAAADwgwJ4LjTAP5qI2QHPEtA/+5MNU1HJ1z8ZTT7q2B3fP0aFmgwa+eI/ABg/lCAV5j+IQCEcMdboP3fOhmLzMOs/EyzujrQb7T/9Izwlj47uPxccgYyLg+8/g6xao7j27z9mZrL8O+bvP7+X94FZUu8/xVNiW3I97j9RB8Ai+6vsP5FWKYlppOo/oig6uxkv6D/Sh2bxK1blPyZGRbpaJeI/8qg+VZVT3T/4C4p0qOPVP+UppLIiM8w/3FNHxZdVuD/I23zJpD6gv+3ENsZjOcS/wo12/ecH0r/egWKM2KjZv2MTsJELcOC/83ixWvXH47+258MBZM7mv5eCD4nhdum/rExY6Hq267+TIxAn7YPtvwSssILL1+6/70I4BJ6s77/vOc8G+P7vvzTGy1KGze+/3176khQZ77/C8a4NiuTtvzGcHq/dNOy/mEFFlgER6r+EGZN4xoHnvx8WPFK3keS/Cli7+O1M4b+HQNqEwoHbv9kfIiFb+NO/gKyggGI5yL8EhrXMjDywvyCGtcyMPLA/jqyggGI5yD/gHyIhW/jTP4BA2oTCgds/Dli7+O1M4T8cFjxSt5HkP4cZk3jGgec/lEFFlgER6j8ynB6v3TTsP8Hxrg2K5O0/4F76khQZ7z80xstShs3vP+85zwb4/u8/8EI4BJ6s7z8DrLCCy9fuP5UjECftg+0/p0xY6Hq26z+Vgg+J4XbpP7fnwwFkzuY/9nixWvXH4z9cE7CRC3DgP9eBYozYqNk/w412/ecH0j/+xDbGYznEP0/bfMmkPqA/+VNHxZdVuL/UKaSyIjPMv+gLinSo49W/+Kg+VZVT3b8mRkW6WiXiv8+HZvErVuW/pig6uxkv6L+TVimJaaTqv1EHwCL7q+y/xFNiW3I97r/Al/eBWVLvv2Zmsvw75u+/g6xao7j2778YHIGMi4Pvv/sjPCWPju6/EyzujrQb7b94zoZi8zDrv4xAIRwx1ui//Bc/lCAV5r9GhZoMGvnivx5NPurYHd+/65MNU1HJ17+SiNkBzxLQv/GDAnguNMC/B1wUMyamwbw=\",\"dtype\":\"float64\",\"shape\":[100]}}},\"id\":\"667c98be-7afe-4838-b993-02d9ded032e1\",\"type\":\"ColumnDataSource\"},{\"attributes\":{},\"id\":\"b1044021-0e88-4b1c-a34b-a681d9575010\",\"type\":\"BasicTickFormatter\"},{\"attributes\":{\"fill_alpha\":{\"value\":0.1},\"fill_color\":{\"value\":\"#1f77b4\"},\"line_alpha\":{\"value\":0.1},\"line_color\":{\"value\":\"#1f77b4\"},\"x\":{\"field\":\"x\"},\"y\":{\"field\":\"y\"}},\"id\":\"8f3279e7-6dce-4045-bd91-61e7fe2904ec\",\"type\":\"Circle\"},{\"attributes\":{\"active_drag\":\"auto\",\"active_inspect\":\"auto\",\"active_scroll\":\"auto\",\"active_tap\":\"auto\",\"tools\":[{\"id\":\"37f002e5-316f-41eb-8e1d-62ac6ce868db\",\"type\":\"PanTool\"},{\"id\":\"e2a23cda-bb27-4b53-86f5-ab731895f063\",\"type\":\"WheelZoomTool\"},{\"id\":\"49a8caed-060b-44a5-8a13-eb11c5b5d3b8\",\"type\":\"BoxZoomTool\"},{\"id\":\"d3f8b927-f81e-4e27-9cef-2541fc808df4\",\"type\":\"SaveTool\"},{\"id\":\"2e530378-8462-4c0b-9993-4e2fe99fd8ee\",\"type\":\"ResetTool\"},{\"id\":\"7d07deb6-215c-4c32-96ca-28c56ba014f6\",\"type\":\"HelpTool\"}]},\"id\":\"4b82ff3c-ecd0-4b9e-bb74-9f27150c6b47\",\"type\":\"Toolbar\"},{\"attributes\":{\"callback\":null},\"id\":\"6911dcd3-1a61-437a-a676-e71c054d9a98\",\"type\":\"DataRange1d\"},{\"attributes\":{},\"id\":\"a1ed0f1d-ce6e-452e-9233-22fad99a8de0\",\"type\":\"LinearScale\"},{\"attributes\":{\"plot\":{\"id\":\"1211b3a7-f94c-485d-ad48-708ff365ab95\",\"subtype\":\"Figure\",\"type\":\"Plot\"},\"ticker\":{\"id\":\"1d7de375-23ca-4ddc-a042-df3b55af292e\",\"type\":\"BasicTicker\"}},\"id\":\"8aaef43a-3d50-4b5a-bf8a-7609b3006fc4\",\"type\":\"Grid\"},{\"attributes\":{\"dimension\":1,\"plot\":{\"id\":\"1211b3a7-f94c-485d-ad48-708ff365ab95\",\"subtype\":\"Figure\",\"type\":\"Plot\"},\"ticker\":{\"id\":\"f9bf0de9-f053-45ef-afa0-0161114af25c\",\"type\":\"BasicTicker\"}},\"id\":\"3635e3ef-3705-4bb6-8f96-c15ba7f1b1dc\",\"type\":\"Grid\"},{\"attributes\":{\"fill_color\":{\"value\":\"#1f77b4\"},\"line_color\":{\"value\":\"#1f77b4\"},\"x\":{\"field\":\"x\"},\"y\":{\"field\":\"y\"}},\"id\":\"fd065289-1853-4d55-8bd6-57b725f5c5dd\",\"type\":\"Circle\"},{\"attributes\":{\"callback\":null,\"column_names\":[\"x\",\"y\"],\"data\":{\"x\":{\"__ndarray__\":\"AAAAAAAAAACRGkt8Vz/AP5EaS3xXP9A/2qdwOgNf2D+RGkt8Vz/gPzXhXVstT+Q/2qdwOgNf6D9+boMZ2W7sP5EaS3xXP/A/433Ua0JH8j814V1bLU/0P4dE50oYV/Y/2qdwOgNf+D8sC/op7mb6P35ugxnZbvw/0NEMCcR2/j+RGkt8Vz8AQDrMD/RMQwFA433Ua0JHAkCML5njN0sDQDXhXVstTwRA3pIi0yJTBUCHROdKGFcGQDD2q8INWwdA2qdwOgNfCECDWTWy+GIJQCwL+inuZgpA1by+oeNqC0B+boMZ2W4MQCcgSJHOcg1A0NEMCcR2DkB5g9GAuXoPQJEaS3xXPxBAZnMtOFLBEEA6zA/0TEMRQA8l8q9HxRFA433Ua0JHEkC41rYnPckSQIwvmeM3SxNAYYh7nzLNE0A14V1bLU8UQAo6QBco0RRA3pIi0yJTFUCz6wSPHdUVQIdE50oYVxZAXJ3JBhPZFkAw9qvCDVsXQAVPjn4I3RdA2qdwOgNfGECuAFP2/eAYQINZNbL4YhlAV7IXbvPkGUAsC/op7mYaQABk3OXo6BpA1by+oeNqG0CpFaFd3uwbQH5ugxnZbhxAUsdl1dPwHEAnIEiRznIdQPt4Kk3J9B1A0NEMCcR2HkCkKu/EvvgeQHmD0YC5eh9ATdyzPLT8H0CRGkt8Vz8gQPtGPNpUgCBAZnMtOFLBIEDQnx6WTwIhQDrMD/RMQyFApPgAUkqEIUAPJfKvR8UhQHlR4w1FBiJA433Ua0JHIkBNqsXJP4giQLjWtic9ySJAIgOohToKI0CML5njN0sjQPZbikE1jCNAYYh7nzLNI0DLtGz9Lw4kQDXhXVstTyRAoA1PuSqQJEAKOkAXKNEkQHRmMXUlEiVA3pIi0yJTJUBJvxMxIJQlQLPrBI8d1SVAHRj27BoWJkCHROdKGFcmQPJw2KgVmCZAXJ3JBhPZJkDGybpkEBonQDD2q8INWydAmyKdIAucJ0AFT45+CN0nQG97f9wFHihA2qdwOgNfKEBE1GGYAKAoQK4AU/b94ChAGC1EVPshKUA=\",\"dtype\":\"float64\",\"shape\":[100]},\"y\":{\"__ndarray__\":\"AAAAAAAAAADwgwJ4LjTQP5qI2QHPEuA/+5MNU1HJ5z8ZTT7q2B3vP0aFmgwa+fI/ABg/lCAV9j+IQCEcMdb4P3fOhmLzMPs/EyzujrQb/T/9Izwlj47+PxccgYyLg/8/g6xao7j2/z9mZrL8O+b/P7+X94FZUv8/xVNiW3I9/j9RB8Ai+6v8P5FWKYlppPo/oig6uxkv+D/Sh2bxK1b1PyZGRbpaJfI/8qg+VZVT7T/4C4p0qOPlP+UppLIiM9w/3FNHxZdVyD/I23zJpD6wv+3ENsZjOdS/wo12/ecH4r/egWKM2Kjpv2MTsJELcPC/83ixWvXH87+258MBZM72v5eCD4nhdvm/rExY6Hq2+7+TIxAn7YP9vwSssILL1/6/70I4BJ6s/7/vOc8G+P7/vzTGy1KGzf+/3176khQZ/7/C8a4NiuT9vzGcHq/dNPy/mEFFlgER+r+EGZN4xoH3vx8WPFK3kfS/Cli7+O1M8b+HQNqEwoHrv9kfIiFb+OO/gKyggGI52L8EhrXMjDzAvyCGtcyMPMA/jqyggGI52D/gHyIhW/jjP4BA2oTCges/Dli7+O1M8T8cFjxSt5H0P4cZk3jGgfc/lEFFlgER+j8ynB6v3TT8P8Hxrg2K5P0/4F76khQZ/z80xstShs3/P+85zwb4/v8/8EI4BJ6s/z8DrLCCy9f+P5UjECftg/0/p0xY6Hq2+z+Vgg+J4Xb5P7fnwwFkzvY/9nixWvXH8z9cE7CRC3DwP9eBYozYqOk/w412/ecH4j/+xDbGYznUP0/bfMmkPrA/+VNHxZdVyL/UKaSyIjPcv+gLinSo4+W/+Kg+VZVT7b8mRkW6WiXyv8+HZvErVvW/pig6uxkv+L+TVimJaaT6v1EHwCL7q/y/xFNiW3I9/r/Al/eBWVL/v2Zmsvw75v+/g6xao7j2/78YHIGMi4P/v/sjPCWPjv6/EyzujrQb/b94zoZi8zD7v4xAIRwx1vi//Bc/lCAV9r9GhZoMGvnyvx5NPurYHe+/65MNU1HJ57+SiNkBzxLgv/GDAnguNNC/B1wUMyam0bw=\",\"dtype\":\"float64\",\"shape\":[100]}}},\"id\":\"96806f63-9f32-49b6-8054-b4f2c2579c5b\",\"type\":\"ColumnDataSource\"},{\"attributes\":{\"bottom_units\":\"screen\",\"fill_alpha\":{\"value\":0.5},\"fill_color\":{\"value\":\"lightgrey\"},\"left_units\":\"screen\",\"level\":\"overlay\",\"line_alpha\":{\"value\":1.0},\"line_color\":{\"value\":\"black\"},\"line_dash\":[4,4],\"line_width\":{\"value\":2},\"plot\":null,\"render_mode\":\"css\",\"right_units\":\"screen\",\"top_units\":\"screen\"},\"id\":\"1ffbd881-1f0d-435e-8f00-93bad471b99e\",\"type\":\"BoxAnnotation\"},{\"attributes\":{\"overlay\":{\"id\":\"1ffbd881-1f0d-435e-8f00-93bad471b99e\",\"type\":\"BoxAnnotation\"}},\"id\":\"49a8caed-060b-44a5-8a13-eb11c5b5d3b8\",\"type\":\"BoxZoomTool\"},{\"attributes\":{},\"id\":\"d3f8b927-f81e-4e27-9cef-2541fc808df4\",\"type\":\"SaveTool\"},{\"attributes\":{},\"id\":\"7d07deb6-215c-4c32-96ca-28c56ba014f6\",\"type\":\"HelpTool\"},{\"attributes\":{\"items\":[{\"id\":\"04185ebf-a99b-44b5-948f-6b1bdaa6d797\",\"type\":\"LegendItem\"},{\"id\":\"d6ac499e-4148-45f6-adaa-cc77330f9574\",\"type\":\"LegendItem\"}],\"plot\":{\"id\":\"1211b3a7-f94c-485d-ad48-708ff365ab95\",\"subtype\":\"Figure\",\"type\":\"Plot\"}},\"id\":\"2db18073-6af8-4c3e-9355-ce2c3b83a54d\",\"type\":\"Legend\"},{\"attributes\":{\"source\":{\"id\":\"667c98be-7afe-4838-b993-02d9ded032e1\",\"type\":\"ColumnDataSource\"}},\"id\":\"54a7101e-ab1f-4807-8ad9-ac798ca91c23\",\"type\":\"CDSView\"},{\"attributes\":{\"line_color\":{\"value\":\"orange\"},\"line_dash\":[4,4],\"line_width\":{\"value\":2},\"x\":{\"field\":\"x\"},\"y\":{\"field\":\"y\"}},\"id\":\"1b1cea57-0124-4c84-bd80-9aef2736f435\",\"type\":\"Line\"},{\"attributes\":{\"plot\":null,\"text\":\"\"},\"id\":\"63570832-a0d9-4bfb-92b3-8ae65b0e4708\",\"type\":\"Title\"},{\"attributes\":{\"data_source\":{\"id\":\"96806f63-9f32-49b6-8054-b4f2c2579c5b\",\"type\":\"ColumnDataSource\"},\"glyph\":{\"id\":\"1b1cea57-0124-4c84-bd80-9aef2736f435\",\"type\":\"Line\"},\"hover_glyph\":null,\"muted_glyph\":null,\"nonselection_glyph\":{\"id\":\"f7ad080b-16ec-4348-b628-e31aab6cdd25\",\"type\":\"Line\"},\"selection_glyph\":null,\"view\":{\"id\":\"52d7325f-eec8-44ac-8ac7-e3c80bb6c1c5\",\"type\":\"CDSView\"}},\"id\":\"bed72485-7179-4bcf-a921-437bcae8d264\",\"type\":\"GlyphRenderer\"},{\"attributes\":{},\"id\":\"ae82ab32-5f91-441d-a5ec-74491c746c32\",\"type\":\"LinearScale\"},{\"attributes\":{},\"id\":\"42efe4f8-657e-47c1-bf68-64027fbda97b\",\"type\":\"BasicTickFormatter\"},{\"attributes\":{\"formatter\":{\"id\":\"b1044021-0e88-4b1c-a34b-a681d9575010\",\"type\":\"BasicTickFormatter\"},\"plot\":{\"id\":\"1211b3a7-f94c-485d-ad48-708ff365ab95\",\"subtype\":\"Figure\",\"type\":\"Plot\"},\"ticker\":{\"id\":\"1d7de375-23ca-4ddc-a042-df3b55af292e\",\"type\":\"BasicTicker\"}},\"id\":\"7c5f6056-a4ce-470e-b10b-d6ac27d23b00\",\"type\":\"LinearAxis\"},{\"attributes\":{},\"id\":\"1d7de375-23ca-4ddc-a042-df3b55af292e\",\"type\":\"BasicTicker\"},{\"attributes\":{\"line_alpha\":{\"value\":0.1},\"line_color\":{\"value\":\"#1f77b4\"},\"line_dash\":[4,4],\"line_width\":{\"value\":2},\"x\":{\"field\":\"x\"},\"y\":{\"field\":\"y\"}},\"id\":\"f7ad080b-16ec-4348-b628-e31aab6cdd25\",\"type\":\"Line\"},{\"attributes\":{\"label\":{\"value\":\"sin(x)\"},\"renderers\":[{\"id\":\"d8f7de3d-1aa1-4ca2-8fb7-7d9b07c0d66e\",\"type\":\"GlyphRenderer\"}]},\"id\":\"04185ebf-a99b-44b5-948f-6b1bdaa6d797\",\"type\":\"LegendItem\"},{\"attributes\":{\"label\":{\"value\":\"2*sin(x)\"},\"renderers\":[{\"id\":\"bed72485-7179-4bcf-a921-437bcae8d264\",\"type\":\"GlyphRenderer\"}]},\"id\":\"d6ac499e-4148-45f6-adaa-cc77330f9574\",\"type\":\"LegendItem\"},{\"attributes\":{\"source\":{\"id\":\"96806f63-9f32-49b6-8054-b4f2c2579c5b\",\"type\":\"ColumnDataSource\"}},\"id\":\"52d7325f-eec8-44ac-8ac7-e3c80bb6c1c5\",\"type\":\"CDSView\"},{\"attributes\":{\"callback\":null},\"id\":\"5baca9c5-e5ed-4527-b0b2-455428280f46\",\"type\":\"DataRange1d\"}],\"root_ids\":[\"1211b3a7-f94c-485d-ad48-708ff365ab95\"]},\"title\":\"Bokeh Application\",\"version\":\"0.12.8\"}};\n",
       "    var render_items = [{\"docid\":\"4e9aa880-d965-4731-b296-5eee4628df39\",\"elementid\":\"7f115047-e2db-42ad-81b5-6b77d5e35c7d\",\"modelid\":\"1211b3a7-f94c-485d-ad48-708ff365ab95\"}];\n",
       "\n",
       "    root.Bokeh.embed.embed_items(docs_json, render_items);\n",
       "  }\n",
       "\n",
       "  if (root.Bokeh !== undefined) {\n",
       "    embed_document(root);\n",
       "  } else {\n",
       "    var attempts = 0;\n",
       "    var timer = setInterval(function(root) {\n",
       "      if (root.Bokeh !== undefined) {\n",
       "        embed_document(root);\n",
       "        clearInterval(timer);\n",
       "      }\n",
       "      attempts++;\n",
       "      if (attempts > 100) {\n",
       "        console.log(\"Bokeh: ERROR: Unable to embed document because BokehJS library is missing\")\n",
       "        clearInterval(timer);\n",
       "      }\n",
       "    }, 10, root)\n",
       "  }\n",
       "})(window);"
      ],
      "application/vnd.bokehjs_exec.v0+json": ""
     },
     "metadata": {
      "application/vnd.bokehjs_exec.v0+json": {
       "id": "1211b3a7-f94c-485d-ad48-708ff365ab95"
      }
     },
     "output_type": "display_data"
    }
   ],
   "source": [
    "import numpy as np\n",
    "\n",
    "x = np.linspace(0, 4*np.pi, 100)\n",
    "y = np.sin(x)\n",
    "\n",
    "p = figure(height=400)\n",
    "\n",
    "p.circle(x, y, legend=\"sin(x)\")\n",
    "p.line(x, 2*y, legend=\"2*sin(x)\", line_dash=[4, 4], line_color=\"orange\", line_width=2)\n",
    "\n",
    "show(p)"
   ]
  },
  {
   "cell_type": "markdown",
   "metadata": {},
   "source": [
    "### Compound legends\n",
    "\n",
    "Sometimes, two (or more) different glyphs are used with a single data source.  In this case, you can make compound legends by specifying the same legend argument to multiple glyph methods when creating a plot, as in:\n",
    "\n",
    "```python\n",
    "p.circle(x, y, legend=\"sin(x)\")\n",
    "p.line(x, y, legend=\"sin(x)\", line_dash=[4, 4], line_color=\"orange\", line_width=2)\n",
    "```\n"
   ]
  },
  {
   "cell_type": "code",
   "execution_count": 14,
   "metadata": {
    "collapsed": true
   },
   "outputs": [],
   "source": [
    "# EXERCISE:  \n",
    "# (1) Try making a compound legend \n",
    "# (2) Try moving the legend using p.legend.location.  Possible values are listed in bokeh.core.enum\n",
    "\n"
   ]
  },
  {
   "cell_type": "markdown",
   "metadata": {},
   "source": [
    "### Legend Orientation and Positioning"
   ]
  },
  {
   "cell_type": "code",
   "execution_count": 15,
   "metadata": {
    "collapsed": true
   },
   "outputs": [],
   "source": [
    "# Exercise"
   ]
  },
  {
   "cell_type": "markdown",
   "metadata": {},
   "source": [
    "## Color bars"
   ]
  },
  {
   "cell_type": "code",
   "execution_count": 16,
   "metadata": {},
   "outputs": [
    {
     "data": {
      "text/html": [
       "\n",
       "<div class=\"bk-root\">\n",
       "    <div class=\"bk-plotdiv\" id=\"14a6ccc8-708a-44ee-9c84-a588662e29d9\"></div>\n",
       "</div>"
      ]
     },
     "metadata": {},
     "output_type": "display_data"
    },
    {
     "data": {
      "application/javascript": [
       "(function(root) {\n",
       "  function embed_document(root) {\n",
       "    var docs_json = {\"cbd99f59-22a8-4e7e-941b-11cdffdd9778\":{\"roots\":{\"references\":[{\"attributes\":{\"dimension\":1,\"plot\":{\"id\":\"4bc5ab88-ecd9-4b57-bd0f-cb2c42f56204\",\"subtype\":\"Figure\",\"type\":\"Plot\"},\"ticker\":{\"id\":\"ec41c0b9-3078-4a71-97b7-a975172bcd55\",\"type\":\"BasicTicker\"}},\"id\":\"735edc6a-a119-4c40-a055-7f588b58d821\",\"type\":\"Grid\"},{\"attributes\":{\"axis_label\":\"Year\",\"formatter\":{\"id\":\"e2358b8c-0daf-41b0-b3c1-4f928df18dac\",\"type\":\"BasicTickFormatter\"},\"plot\":{\"id\":\"4bc5ab88-ecd9-4b57-bd0f-cb2c42f56204\",\"subtype\":\"Figure\",\"type\":\"Plot\"},\"ticker\":{\"id\":\"2ff4ee5a-d2fc-45b5-b224-c1c4c4b80fda\",\"type\":\"BasicTicker\"}},\"id\":\"6f697dc7-aa6e-4824-b4a8-e949951f9dd2\",\"type\":\"LinearAxis\"},{\"attributes\":{\"plot\":null,\"text\":\"\"},\"id\":\"ccf66d92-0c32-42de-b487-a2cbb84d9b29\",\"type\":\"Title\"},{\"attributes\":{\"data_source\":{\"id\":\"6ad344fd-3773-4b0c-9e0b-91c32db996cd\",\"type\":\"ColumnDataSource\"},\"glyph\":{\"id\":\"42e02490-e0b6-43e0-9372-0112913742a7\",\"type\":\"Circle\"},\"hover_glyph\":null,\"muted_glyph\":null,\"nonselection_glyph\":{\"id\":\"3feea65e-3da7-4189-8daa-83d20b475559\",\"type\":\"Circle\"},\"selection_glyph\":null,\"view\":{\"id\":\"df77f034-b71f-4d56-b428-047515b25b67\",\"type\":\"CDSView\"}},\"id\":\"7d83e892-64ec-4091-8b72-e11a2d18fe69\",\"type\":\"GlyphRenderer\"},{\"attributes\":{\"fill_alpha\":{\"value\":0.6},\"fill_color\":{\"field\":\"weight\",\"transform\":{\"id\":\"905b9eee-2c95-4b82-bf51-0acc35507e11\",\"type\":\"LinearColorMapper\"}},\"line_alpha\":{\"value\":0.6},\"line_color\":{\"field\":\"weight\",\"transform\":{\"id\":\"905b9eee-2c95-4b82-bf51-0acc35507e11\",\"type\":\"LinearColorMapper\"}},\"size\":{\"units\":\"screen\",\"value\":20},\"x\":{\"field\":\"yr\"},\"y\":{\"field\":\"mpg\"}},\"id\":\"42e02490-e0b6-43e0-9372-0112913742a7\",\"type\":\"Circle\"},{\"attributes\":{},\"id\":\"00d16d72-f863-4aee-8daf-75a290e5c5d9\",\"type\":\"BasicTickFormatter\"},{\"attributes\":{\"axis_label\":\"MPG\",\"formatter\":{\"id\":\"79a745ae-3228-4d21-b9df-a8621f933f09\",\"type\":\"BasicTickFormatter\"},\"plot\":{\"id\":\"4bc5ab88-ecd9-4b57-bd0f-cb2c42f56204\",\"subtype\":\"Figure\",\"type\":\"Plot\"},\"ticker\":{\"id\":\"ec41c0b9-3078-4a71-97b7-a975172bcd55\",\"type\":\"BasicTicker\"}},\"id\":\"52f7ef76-8d91-4d9f-9b52-95b2bb1b0cba\",\"type\":\"LinearAxis\"},{\"attributes\":{},\"id\":\"a8324503-28cb-4260-8023-39b0382fa423\",\"type\":\"LinearScale\"},{\"attributes\":{},\"id\":\"237925fd-c90d-4c1b-97fe-8b0776b3f08c\",\"type\":\"BasicTicker\"},{\"attributes\":{\"active_drag\":\"auto\",\"active_inspect\":\"auto\",\"active_scroll\":\"auto\",\"active_tap\":\"auto\"},\"id\":\"13e6d81f-e00e-4d83-828a-b10a797e617f\",\"type\":\"Toolbar\"},{\"attributes\":{\"fill_alpha\":{\"value\":0.1},\"fill_color\":{\"value\":\"#1f77b4\"},\"line_alpha\":{\"value\":0.1},\"line_color\":{\"value\":\"#1f77b4\"},\"size\":{\"units\":\"screen\",\"value\":20},\"x\":{\"field\":\"yr\"},\"y\":{\"field\":\"mpg\"}},\"id\":\"3feea65e-3da7-4189-8daa-83d20b475559\",\"type\":\"Circle\"},{\"attributes\":{\"callback\":null},\"id\":\"9311b8f5-4e6a-4226-aee3-3a6a7a02c869\",\"type\":\"DataRange1d\"},{\"attributes\":{},\"id\":\"c561dad5-144c-4691-a1df-dd2ec4231584\",\"type\":\"LinearScale\"},{\"attributes\":{\"color_mapper\":{\"id\":\"905b9eee-2c95-4b82-bf51-0acc35507e11\",\"type\":\"LinearColorMapper\"},\"formatter\":{\"id\":\"00d16d72-f863-4aee-8daf-75a290e5c5d9\",\"type\":\"BasicTickFormatter\"},\"label_standoff\":12,\"location\":[0,0],\"plot\":{\"id\":\"4bc5ab88-ecd9-4b57-bd0f-cb2c42f56204\",\"subtype\":\"Figure\",\"type\":\"Plot\"},\"ticker\":{\"id\":\"237925fd-c90d-4c1b-97fe-8b0776b3f08c\",\"type\":\"BasicTicker\"},\"title\":\"Weight\"},\"id\":\"4bbeca0e-823f-4b29-876d-ae7aeb17a3d3\",\"type\":\"ColorBar\"},{\"attributes\":{},\"id\":\"2ff4ee5a-d2fc-45b5-b224-c1c4c4b80fda\",\"type\":\"BasicTicker\"},{\"attributes\":{\"below\":[{\"id\":\"6f697dc7-aa6e-4824-b4a8-e949951f9dd2\",\"type\":\"LinearAxis\"}],\"left\":[{\"id\":\"52f7ef76-8d91-4d9f-9b52-95b2bb1b0cba\",\"type\":\"LinearAxis\"}],\"renderers\":[{\"id\":\"6f697dc7-aa6e-4824-b4a8-e949951f9dd2\",\"type\":\"LinearAxis\"},{\"id\":\"d33425bd-4215-430a-8ed1-27c4625e3cf5\",\"type\":\"Grid\"},{\"id\":\"52f7ef76-8d91-4d9f-9b52-95b2bb1b0cba\",\"type\":\"LinearAxis\"},{\"id\":\"735edc6a-a119-4c40-a055-7f588b58d821\",\"type\":\"Grid\"},{\"id\":\"7d83e892-64ec-4091-8b72-e11a2d18fe69\",\"type\":\"GlyphRenderer\"},{\"id\":\"4bbeca0e-823f-4b29-876d-ae7aeb17a3d3\",\"type\":\"ColorBar\"}],\"right\":[{\"id\":\"4bbeca0e-823f-4b29-876d-ae7aeb17a3d3\",\"type\":\"ColorBar\"}],\"title\":{\"id\":\"ccf66d92-0c32-42de-b487-a2cbb84d9b29\",\"type\":\"Title\"},\"toolbar\":{\"id\":\"13e6d81f-e00e-4d83-828a-b10a797e617f\",\"type\":\"Toolbar\"},\"toolbar_location\":\"above\",\"x_range\":{\"id\":\"9311b8f5-4e6a-4226-aee3-3a6a7a02c869\",\"type\":\"DataRange1d\"},\"x_scale\":{\"id\":\"c561dad5-144c-4691-a1df-dd2ec4231584\",\"type\":\"LinearScale\"},\"y_range\":{\"id\":\"4fbe132d-0103-4545-8e71-41583d138058\",\"type\":\"DataRange1d\"},\"y_scale\":{\"id\":\"a8324503-28cb-4260-8023-39b0382fa423\",\"type\":\"LinearScale\"}},\"id\":\"4bc5ab88-ecd9-4b57-bd0f-cb2c42f56204\",\"subtype\":\"Figure\",\"type\":\"Plot\"},{\"attributes\":{\"plot\":{\"id\":\"4bc5ab88-ecd9-4b57-bd0f-cb2c42f56204\",\"subtype\":\"Figure\",\"type\":\"Plot\"},\"ticker\":{\"id\":\"2ff4ee5a-d2fc-45b5-b224-c1c4c4b80fda\",\"type\":\"BasicTicker\"}},\"id\":\"d33425bd-4215-430a-8ed1-27c4625e3cf5\",\"type\":\"Grid\"},{\"attributes\":{\"high\":5140,\"low\":1613,\"palette\":[\"#440154\",\"#440255\",\"#440357\",\"#450558\",\"#45065A\",\"#45085B\",\"#46095C\",\"#460B5E\",\"#460C5F\",\"#460E61\",\"#470F62\",\"#471163\",\"#471265\",\"#471466\",\"#471567\",\"#471669\",\"#47186A\",\"#48196B\",\"#481A6C\",\"#481C6E\",\"#481D6F\",\"#481E70\",\"#482071\",\"#482172\",\"#482273\",\"#482374\",\"#472575\",\"#472676\",\"#472777\",\"#472878\",\"#472A79\",\"#472B7A\",\"#472C7B\",\"#462D7C\",\"#462F7C\",\"#46307D\",\"#46317E\",\"#45327F\",\"#45347F\",\"#453580\",\"#453681\",\"#443781\",\"#443982\",\"#433A83\",\"#433B83\",\"#433C84\",\"#423D84\",\"#423E85\",\"#424085\",\"#414186\",\"#414286\",\"#404387\",\"#404487\",\"#3F4587\",\"#3F4788\",\"#3E4888\",\"#3E4989\",\"#3D4A89\",\"#3D4B89\",\"#3D4C89\",\"#3C4D8A\",\"#3C4E8A\",\"#3B508A\",\"#3B518A\",\"#3A528B\",\"#3A538B\",\"#39548B\",\"#39558B\",\"#38568B\",\"#38578C\",\"#37588C\",\"#37598C\",\"#365A8C\",\"#365B8C\",\"#355C8C\",\"#355D8C\",\"#345E8D\",\"#345F8D\",\"#33608D\",\"#33618D\",\"#32628D\",\"#32638D\",\"#31648D\",\"#31658D\",\"#31668D\",\"#30678D\",\"#30688D\",\"#2F698D\",\"#2F6A8D\",\"#2E6B8E\",\"#2E6C8E\",\"#2E6D8E\",\"#2D6E8E\",\"#2D6F8E\",\"#2C708E\",\"#2C718E\",\"#2C728E\",\"#2B738E\",\"#2B748E\",\"#2A758E\",\"#2A768E\",\"#2A778E\",\"#29788E\",\"#29798E\",\"#287A8E\",\"#287A8E\",\"#287B8E\",\"#277C8E\",\"#277D8E\",\"#277E8E\",\"#267F8E\",\"#26808E\",\"#26818E\",\"#25828E\",\"#25838D\",\"#24848D\",\"#24858D\",\"#24868D\",\"#23878D\",\"#23888D\",\"#23898D\",\"#22898D\",\"#228A8D\",\"#228B8D\",\"#218C8D\",\"#218D8C\",\"#218E8C\",\"#208F8C\",\"#20908C\",\"#20918C\",\"#1F928C\",\"#1F938B\",\"#1F948B\",\"#1F958B\",\"#1F968B\",\"#1E978A\",\"#1E988A\",\"#1E998A\",\"#1E998A\",\"#1E9A89\",\"#1E9B89\",\"#1E9C89\",\"#1E9D88\",\"#1E9E88\",\"#1E9F88\",\"#1EA087\",\"#1FA187\",\"#1FA286\",\"#1FA386\",\"#20A485\",\"#20A585\",\"#21A685\",\"#21A784\",\"#22A784\",\"#23A883\",\"#23A982\",\"#24AA82\",\"#25AB81\",\"#26AC81\",\"#27AD80\",\"#28AE7F\",\"#29AF7F\",\"#2AB07E\",\"#2BB17D\",\"#2CB17D\",\"#2EB27C\",\"#2FB37B\",\"#30B47A\",\"#32B57A\",\"#33B679\",\"#35B778\",\"#36B877\",\"#38B976\",\"#39B976\",\"#3BBA75\",\"#3DBB74\",\"#3EBC73\",\"#40BD72\",\"#42BE71\",\"#44BE70\",\"#45BF6F\",\"#47C06E\",\"#49C16D\",\"#4BC26C\",\"#4DC26B\",\"#4FC369\",\"#51C468\",\"#53C567\",\"#55C666\",\"#57C665\",\"#59C764\",\"#5BC862\",\"#5EC961\",\"#60C960\",\"#62CA5F\",\"#64CB5D\",\"#67CC5C\",\"#69CC5B\",\"#6BCD59\",\"#6DCE58\",\"#70CE56\",\"#72CF55\",\"#74D054\",\"#77D052\",\"#79D151\",\"#7CD24F\",\"#7ED24E\",\"#81D34C\",\"#83D34B\",\"#86D449\",\"#88D547\",\"#8BD546\",\"#8DD644\",\"#90D643\",\"#92D741\",\"#95D73F\",\"#97D83E\",\"#9AD83C\",\"#9DD93A\",\"#9FD938\",\"#A2DA37\",\"#A5DA35\",\"#A7DB33\",\"#AADB32\",\"#ADDC30\",\"#AFDC2E\",\"#B2DD2C\",\"#B5DD2B\",\"#B7DD29\",\"#BADE27\",\"#BDDE26\",\"#BFDF24\",\"#C2DF22\",\"#C5DF21\",\"#C7E01F\",\"#CAE01E\",\"#CDE01D\",\"#CFE11C\",\"#D2E11B\",\"#D4E11A\",\"#D7E219\",\"#DAE218\",\"#DCE218\",\"#DFE318\",\"#E1E318\",\"#E4E318\",\"#E7E419\",\"#E9E419\",\"#ECE41A\",\"#EEE51B\",\"#F1E51C\",\"#F3E51E\",\"#F6E61F\",\"#F8E621\",\"#FAE622\",\"#FDE724\"]},\"id\":\"905b9eee-2c95-4b82-bf51-0acc35507e11\",\"type\":\"LinearColorMapper\"},{\"attributes\":{\"callback\":null},\"id\":\"4fbe132d-0103-4545-8e71-41583d138058\",\"type\":\"DataRange1d\"},{\"attributes\":{\"callback\":null,\"column_names\":[\"mpg\",\"cyl\",\"displ\",\"hp\",\"weight\",\"accel\",\"yr\",\"origin\",\"name\",\"index\"],\"data\":{\"accel\":{\"__ndarray__\":\"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\",\"dtype\":\"float64\",\"shape\":[392]},\"cyl\":[8,8,8,8,8,8,8,8,8,8,8,8,8,8,4,6,6,6,4,4,4,4,4,4,6,8,8,8,8,4,4,4,6,6,6,6,6,8,8,8,8,8,8,8,6,4,6,6,4,4,4,4,4,4,4,4,4,4,4,4,4,8,8,8,8,8,8,8,8,8,3,8,8,8,8,4,4,4,4,4,4,4,4,4,8,8,8,8,8,8,8,8,8,8,8,8,6,6,6,6,6,4,8,8,8,8,6,4,4,4,3,4,6,4,8,8,4,4,4,4,8,4,6,8,6,6,6,4,4,4,4,6,6,6,8,8,8,8,8,4,4,4,4,4,4,4,4,4,4,4,6,6,6,6,8,8,8,8,6,6,6,6,6,8,8,4,4,6,4,4,4,4,6,4,6,4,4,4,4,4,4,4,4,4,4,8,8,8,8,6,6,6,6,4,4,4,4,6,6,6,6,4,4,4,4,4,8,4,6,6,8,8,8,8,4,4,4,4,4,8,8,8,8,6,6,6,6,8,8,8,8,4,4,4,4,4,4,4,4,6,4,3,4,4,4,4,4,8,8,8,6,6,6,4,6,6,6,6,6,6,8,6,8,8,4,4,4,4,4,4,4,4,5,6,4,6,4,4,6,6,4,6,6,8,8,8,8,8,8,8,8,4,4,4,4,5,8,4,8,4,4,4,4,4,6,6,4,4,4,4,4,4,4,4,6,4,4,4,4,4,4,4,4,4,4,5,4,4,4,4,6,3,4,4,4,4,4,6,4,4,4,4,4,4,4,4,4,4,4,4,4,4,4,4,4,6,6,6,6,8,6,6,4,4,4,4,4,4,4,4,4,4,4,4,4,4,4,4,4,4,6,6,4,6,4,4,4,4,4,4,4,4],\"displ\":{\"__ndarray__\":\"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\",\"dtype\":\"float64\",\"shape\":[392]},\"hp\":[130,165,150,150,140,198,220,215,225,190,170,160,150,225,95,95,97,85,88,46,87,90,95,113,90,215,200,210,193,88,90,95,100,105,100,88,100,165,175,153,150,180,170,175,110,72,100,88,86,90,70,76,65,69,60,70,95,80,54,90,86,165,175,150,153,150,208,155,160,190,97,150,130,140,150,112,76,87,69,86,92,97,80,88,175,150,145,137,150,198,150,158,150,215,225,175,105,100,100,88,95,46,150,167,170,180,100,88,72,94,90,85,107,90,145,230,49,75,91,112,150,110,122,180,95,100,100,67,80,65,75,100,110,105,140,150,150,140,150,83,67,78,52,61,75,75,75,97,93,67,95,105,72,72,170,145,150,148,110,105,110,95,110,110,129,75,83,100,78,96,71,97,97,70,90,95,88,98,115,53,86,81,92,79,83,140,150,120,152,100,105,81,90,52,60,70,53,100,78,110,95,71,70,75,72,102,150,88,108,120,180,145,130,150,68,80,58,96,70,145,110,145,130,110,105,100,98,180,170,190,149,78,88,75,89,63,83,67,78,97,110,110,48,66,52,70,60,110,140,139,105,95,85,88,100,90,105,85,110,120,145,165,139,140,68,95,97,75,95,105,85,97,103,125,115,133,71,68,115,85,88,90,110,130,129,138,135,155,142,125,150,71,65,80,80,77,125,71,90,70,70,65,69,90,115,115,90,76,60,70,65,90,88,90,90,78,90,75,92,75,65,105,65,48,48,67,67,67,67,62,132,100,88,72,84,84,92,110,84,58,64,60,67,65,62,68,63,65,65,74,75,75,100,74,80,76,116,120,110,105,88,85,88,88,88,85,84,90,92,74,68,68,63,70,88,75,70,67,67,67,110,85,92,112,96,84,90,86,52,84,79,82],\"index\":[0,1,2,3,4,5,6,7,8,9,10,11,12,13,14,15,16,17,18,19,20,21,22,23,24,25,26,27,28,29,30,31,32,33,34,35,36,37,38,39,40,41,42,43,44,45,46,47,48,49,50,51,52,53,54,55,56,57,58,59,60,61,62,63,64,65,66,67,68,69,70,71,72,73,74,75,76,77,78,79,80,81,82,83,84,85,86,87,88,89,90,91,92,93,94,95,96,97,98,99,100,101,102,103,104,105,106,107,108,109,110,111,112,113,114,115,116,117,118,119,120,121,122,123,124,125,126,127,128,129,130,131,132,133,134,135,136,137,138,139,140,141,142,143,144,145,146,147,148,149,150,151,152,153,154,155,156,157,158,159,160,161,162,163,164,165,166,167,168,169,170,171,172,173,174,175,176,177,178,179,180,181,182,183,184,185,186,187,188,189,190,191,192,193,194,195,196,197,198,199,200,201,202,203,204,205,206,207,208,209,210,211,212,213,214,215,216,217,218,219,220,221,222,223,224,225,226,227,228,229,230,231,232,233,234,235,236,237,238,239,240,241,242,243,244,245,246,247,248,249,250,251,252,253,254,255,256,257,258,259,260,261,262,263,264,265,266,267,268,269,270,271,272,273,274,275,276,277,278,279,280,281,282,283,284,285,286,287,288,289,290,291,292,293,294,295,296,297,298,299,300,301,302,303,304,305,306,307,308,309,310,311,312,313,314,315,316,317,318,319,320,321,322,323,324,325,326,327,328,329,330,331,332,333,334,335,336,337,338,339,340,341,342,343,344,345,346,347,348,349,350,351,352,353,354,355,356,357,358,359,360,361,362,363,364,365,366,367,368,369,370,371,372,373,374,375,376,377,378,379,380,381,382,383,384,385,386,387,388,389,390,391],\"mpg\":{\"__ndarray__\":\"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\",\"dtype\":\"float64\",\"shape\":[392]},\"name\":[\"chevrolet chevelle malibu\",\"buick skylark 320\",\"plymouth satellite\",\"amc rebel sst\",\"ford torino\",\"ford galaxie 500\",\"chevrolet impala\",\"plymouth fury iii\",\"pontiac catalina\",\"amc ambassador dpl\",\"dodge challenger se\",\"plymouth 'cuda 340\",\"chevrolet monte carlo\",\"buick estate wagon (sw)\",\"toyota corona mark ii\",\"plymouth duster\",\"amc hornet\",\"ford maverick\",\"datsun pl510\",\"volkswagen 1131 deluxe sedan\",\"peugeot 504\",\"audi 100 ls\",\"saab 99e\",\"bmw 2002\",\"amc gremlin\",\"ford f250\",\"chevy c20\",\"dodge d200\",\"hi 1200d\",\"datsun pl510\",\"chevrolet vega 2300\",\"toyota corona\",\"amc gremlin\",\"plymouth satellite custom\",\"chevrolet chevelle malibu\",\"ford torino 500\",\"amc matador\",\"chevrolet impala\",\"pontiac catalina brougham\",\"ford galaxie 500\",\"plymouth fury iii\",\"dodge monaco (sw)\",\"ford country squire (sw)\",\"pontiac safari (sw)\",\"amc hornet sportabout (sw)\",\"chevrolet vega (sw)\",\"pontiac firebird\",\"ford mustang\",\"mercury capri 2000\",\"opel 1900\",\"peugeot 304\",\"fiat 124b\",\"toyota corolla 1200\",\"datsun 1200\",\"volkswagen model 111\",\"plymouth cricket\",\"toyota corona hardtop\",\"dodge colt hardtop\",\"volkswagen type 3\",\"chevrolet vega\",\"ford pinto runabout\",\"chevrolet impala\",\"pontiac catalina\",\"plymouth fury iii\",\"ford galaxie 500\",\"amc ambassador sst\",\"mercury marquis\",\"buick lesabre custom\",\"oldsmobile delta 88 royale\",\"chrysler newport royal\",\"mazda rx2 coupe\",\"amc matador (sw)\",\"chevrolet chevelle concours (sw)\",\"ford gran torino (sw)\",\"plymouth satellite custom (sw)\",\"volvo 145e (sw)\",\"volkswagen 411 (sw)\",\"peugeot 504 (sw)\",\"renault 12 (sw)\",\"ford pinto (sw)\",\"datsun 510 (sw)\",\"toyouta corona mark ii (sw)\",\"dodge colt (sw)\",\"toyota corolla 1600 (sw)\",\"buick century 350\",\"amc matador\",\"chevrolet malibu\",\"ford gran torino\",\"dodge coronet custom\",\"mercury marquis brougham\",\"chevrolet caprice classic\",\"ford ltd\",\"plymouth fury gran sedan\",\"chrysler new yorker brougham\",\"buick electra 225 custom\",\"amc ambassador brougham\",\"plymouth valiant\",\"chevrolet nova custom\",\"amc hornet\",\"ford maverick\",\"plymouth duster\",\"volkswagen super beetle\",\"chevrolet impala\",\"ford country\",\"plymouth custom suburb\",\"oldsmobile vista cruiser\",\"amc gremlin\",\"toyota carina\",\"chevrolet vega\",\"datsun 610\",\"maxda rx3\",\"ford pinto\",\"mercury capri v6\",\"fiat 124 sport coupe\",\"chevrolet monte carlo s\",\"pontiac grand prix\",\"fiat 128\",\"opel manta\",\"audi 100ls\",\"volvo 144ea\",\"dodge dart custom\",\"saab 99le\",\"toyota mark ii\",\"oldsmobile omega\",\"plymouth duster\",\"amc hornet\",\"chevrolet nova\",\"datsun b210\",\"ford pinto\",\"toyota corolla 1200\",\"chevrolet vega\",\"chevrolet chevelle malibu classic\",\"amc matador\",\"plymouth satellite sebring\",\"ford gran torino\",\"buick century luxus (sw)\",\"dodge coronet custom (sw)\",\"ford gran torino (sw)\",\"amc matador (sw)\",\"audi fox\",\"volkswagen dasher\",\"opel manta\",\"toyota corona\",\"datsun 710\",\"dodge colt\",\"fiat 128\",\"fiat 124 tc\",\"honda civic\",\"subaru\",\"fiat x1.9\",\"plymouth valiant custom\",\"chevrolet nova\",\"mercury monarch\",\"ford maverick\",\"pontiac catalina\",\"chevrolet bel air\",\"plymouth grand fury\",\"ford ltd\",\"buick century\",\"chevroelt chevelle malibu\",\"amc matador\",\"plymouth fury\",\"buick skyhawk\",\"chevrolet monza 2+2\",\"ford mustang ii\",\"toyota corolla\",\"ford pinto\",\"amc gremlin\",\"pontiac astro\",\"toyota corona\",\"volkswagen dasher\",\"datsun 710\",\"ford pinto\",\"volkswagen rabbit\",\"amc pacer\",\"audi 100ls\",\"peugeot 504\",\"volvo 244dl\",\"saab 99le\",\"honda civic cvcc\",\"fiat 131\",\"opel 1900\",\"capri ii\",\"dodge colt\",\"renault 12tl\",\"chevrolet chevelle malibu classic\",\"dodge coronet brougham\",\"amc matador\",\"ford gran torino\",\"plymouth valiant\",\"chevrolet nova\",\"ford maverick\",\"amc hornet\",\"chevrolet chevette\",\"chevrolet woody\",\"vw rabbit\",\"honda civic\",\"dodge aspen se\",\"ford granada ghia\",\"pontiac ventura sj\",\"amc pacer d/l\",\"volkswagen rabbit\",\"datsun b-210\",\"toyota corolla\",\"ford pinto\",\"volvo 245\",\"plymouth volare premier v8\",\"peugeot 504\",\"toyota mark ii\",\"mercedes-benz 280s\",\"cadillac seville\",\"chevy c10\",\"ford f108\",\"dodge d100\",\"honda accord cvcc\",\"buick opel isuzu deluxe\",\"renault 5 gtl\",\"plymouth arrow gs\",\"datsun f-10 hatchback\",\"chevrolet caprice classic\",\"oldsmobile cutlass supreme\",\"dodge monaco brougham\",\"mercury cougar brougham\",\"chevrolet concours\",\"buick skylark\",\"plymouth volare custom\",\"ford granada\",\"pontiac grand prix lj\",\"chevrolet monte carlo landau\",\"chrysler cordoba\",\"ford thunderbird\",\"volkswagen rabbit custom\",\"pontiac sunbird coupe\",\"toyota corolla liftback\",\"ford mustang ii 2+2\",\"chevrolet chevette\",\"dodge colt m/m\",\"subaru dl\",\"volkswagen dasher\",\"datsun 810\",\"bmw 320i\",\"mazda rx-4\",\"volkswagen rabbit custom diesel\",\"ford fiesta\",\"mazda glc deluxe\",\"datsun b210 gx\",\"honda civic cvcc\",\"oldsmobile cutlass salon brougham\",\"dodge diplomat\",\"mercury monarch ghia\",\"pontiac phoenix lj\",\"chevrolet malibu\",\"ford fairmont (auto)\",\"ford fairmont (man)\",\"plymouth volare\",\"amc concord\",\"buick century special\",\"mercury zephyr\",\"dodge aspen\",\"amc concord d/l\",\"chevrolet monte carlo landau\",\"buick regal sport coupe (turbo)\",\"ford futura\",\"dodge magnum xe\",\"chevrolet chevette\",\"toyota corona\",\"datsun 510\",\"dodge omni\",\"toyota celica gt liftback\",\"plymouth sapporo\",\"oldsmobile starfire sx\",\"datsun 200-sx\",\"audi 5000\",\"volvo 264gl\",\"saab 99gle\",\"peugeot 604sl\",\"volkswagen scirocco\",\"honda accord lx\",\"pontiac lemans v6\",\"mercury zephyr 6\",\"ford fairmont 4\",\"amc concord dl 6\",\"dodge aspen 6\",\"chevrolet caprice classic\",\"ford ltd landau\",\"mercury grand marquis\",\"dodge st. regis\",\"buick estate wagon (sw)\",\"ford country squire (sw)\",\"chevrolet malibu classic (sw)\",\"chrysler lebaron town @ country (sw)\",\"vw rabbit custom\",\"maxda glc deluxe\",\"dodge colt hatchback custom\",\"amc spirit dl\",\"mercedes benz 300d\",\"cadillac eldorado\",\"peugeot 504\",\"oldsmobile cutlass salon brougham\",\"plymouth horizon\",\"plymouth horizon tc3\",\"datsun 210\",\"fiat strada custom\",\"buick skylark limited\",\"chevrolet citation\",\"oldsmobile omega brougham\",\"pontiac phoenix\",\"vw rabbit\",\"toyota corolla tercel\",\"chevrolet chevette\",\"datsun 310\",\"chevrolet citation\",\"ford fairmont\",\"amc concord\",\"dodge aspen\",\"audi 4000\",\"toyota corona liftback\",\"mazda 626\",\"datsun 510 hatchback\",\"toyota corolla\",\"mazda glc\",\"dodge colt\",\"datsun 210\",\"vw rabbit c (diesel)\",\"vw dasher (diesel)\",\"audi 5000s (diesel)\",\"mercedes-benz 240d\",\"honda civic 1500 gl\",\"subaru dl\",\"vokswagen rabbit\",\"datsun 280-zx\",\"mazda rx-7 gs\",\"triumph tr7 coupe\",\"honda accord\",\"plymouth reliant\",\"buick skylark\",\"dodge aries wagon (sw)\",\"chevrolet citation\",\"plymouth reliant\",\"toyota starlet\",\"plymouth champ\",\"honda civic 1300\",\"subaru\",\"datsun 210 mpg\",\"toyota tercel\",\"mazda glc 4\",\"plymouth horizon 4\",\"ford escort 4w\",\"ford escort 2h\",\"volkswagen jetta\",\"honda prelude\",\"toyota corolla\",\"datsun 200sx\",\"mazda 626\",\"peugeot 505s turbo diesel\",\"volvo diesel\",\"toyota cressida\",\"datsun 810 maxima\",\"buick century\",\"oldsmobile cutlass ls\",\"ford granada gl\",\"chrysler lebaron salon\",\"chevrolet cavalier\",\"chevrolet cavalier wagon\",\"chevrolet cavalier 2-door\",\"pontiac j2000 se hatchback\",\"dodge aries se\",\"pontiac phoenix\",\"ford fairmont futura\",\"volkswagen rabbit l\",\"mazda glc custom l\",\"mazda glc custom\",\"plymouth horizon miser\",\"mercury lynx l\",\"nissan stanza xe\",\"honda accord\",\"toyota corolla\",\"honda civic\",\"honda civic (auto)\",\"datsun 310 gx\",\"buick century limited\",\"oldsmobile cutlass ciera (diesel)\",\"chrysler lebaron medallion\",\"ford granada l\",\"toyota celica gt\",\"dodge charger 2.2\",\"chevrolet camaro\",\"ford mustang gl\",\"vw pickup\",\"dodge rampage\",\"ford ranger\",\"chevy s-10\"],\"origin\":[1,1,1,1,1,1,1,1,1,1,1,1,1,1,3,1,1,1,3,2,2,2,2,2,1,1,1,1,1,3,1,3,1,1,1,1,1,1,1,1,1,1,1,1,1,1,1,1,1,2,2,2,3,3,2,1,3,1,2,1,1,1,1,1,1,1,1,1,1,1,3,1,1,1,1,2,2,2,2,1,3,3,1,3,1,1,1,1,1,1,1,1,1,1,1,1,1,1,1,1,1,2,1,1,1,1,1,3,1,3,3,1,1,2,1,1,2,2,2,2,1,2,3,1,1,1,1,3,1,3,1,1,1,1,1,1,1,1,1,2,2,2,3,3,1,2,2,3,3,2,1,1,1,1,1,1,1,1,1,1,1,1,1,1,1,3,1,1,1,3,2,3,1,2,1,2,2,2,2,3,2,2,1,1,2,1,1,1,1,1,1,1,1,1,1,2,3,1,1,1,1,2,3,3,1,2,1,2,3,2,1,1,1,1,3,1,2,1,3,1,1,1,1,1,1,1,1,1,1,1,1,2,1,3,1,1,1,3,2,3,2,3,2,1,3,3,3,1,1,1,1,1,1,1,1,1,1,1,1,1,1,1,1,1,1,3,3,1,3,1,1,3,2,2,2,2,2,3,1,1,1,1,1,1,1,1,1,1,1,1,1,2,3,1,1,2,1,2,1,1,1,3,2,1,1,1,1,2,3,1,3,1,1,1,1,2,3,3,3,3,3,1,3,2,2,2,2,3,3,2,3,3,2,3,1,1,1,1,1,3,1,3,3,3,3,3,1,1,1,2,3,3,3,3,2,2,3,3,1,1,1,1,1,1,1,1,1,1,1,2,3,3,1,1,3,3,3,3,3,3,1,1,1,1,3,1,1,1,2,1,1,1],\"weight\":[3504,3693,3436,3433,3449,4341,4354,4312,4425,3850,3563,3609,3761,3086,2372,2833,2774,2587,2130,1835,2672,2430,2375,2234,2648,4615,4376,4382,4732,2130,2264,2228,2634,3439,3329,3302,3288,4209,4464,4154,4096,4955,4746,5140,2962,2408,3282,3139,2220,2123,2074,2065,1773,1613,1834,1955,2278,2126,2254,2408,2226,4274,4385,4135,4129,3672,4633,4502,4456,4422,2330,3892,4098,4294,4077,2933,2511,2979,2189,2395,2288,2506,2164,2100,4100,3672,3988,4042,3777,4952,4464,4363,4237,4735,4951,3821,3121,3278,2945,3021,2904,1950,4997,4906,4654,4499,2789,2279,2401,2379,2124,2310,2472,2265,4082,4278,1867,2158,2582,2868,3399,2660,2807,3664,3102,2901,3336,1950,2451,1836,2542,3781,3632,3613,4141,4699,4457,4638,4257,2219,1963,2300,1649,2003,2125,2108,2246,2489,2391,2000,3264,3459,3432,3158,4668,4440,4498,4657,3907,3897,3730,3785,3039,3221,3169,2171,2639,2914,2592,2702,2223,2545,2984,1937,3211,2694,2957,2945,2671,1795,2464,2220,2572,2255,2202,4215,4190,3962,4215,3233,3353,3012,3085,2035,2164,1937,1795,3651,3574,3645,3193,1825,1990,2155,2565,3150,3940,3270,2930,3820,4380,4055,3870,3755,2045,2155,1825,2300,1945,3880,4060,4140,4295,3520,3425,3630,3525,4220,4165,4325,4335,1940,2740,2265,2755,2051,2075,1985,2190,2815,2600,2720,1985,1800,1985,2070,1800,3365,3735,3570,3535,3155,2965,2720,3430,3210,3380,3070,3620,3410,3425,3445,3205,4080,2155,2560,2300,2230,2515,2745,2855,2405,2830,3140,2795,3410,1990,2135,3245,2990,2890,3265,3360,3840,3725,3955,3830,4360,4054,3605,3940,1925,1975,1915,2670,3530,3900,3190,3420,2200,2150,2020,2130,2670,2595,2700,2556,2144,1968,2120,2019,2678,2870,3003,3381,2188,2711,2542,2434,2265,2110,2800,2110,2085,2335,2950,3250,1850,2145,1845,2910,2420,2500,2290,2490,2635,2620,2725,2385,1755,1875,1760,2065,1975,2050,1985,2215,2045,2380,2190,2210,2350,2615,2635,3230,3160,2900,2930,3415,3725,3060,3465,2605,2640,2395,2575,2525,2735,2865,1980,2025,1970,2125,2125,2160,2205,2245,1965,1965,1995,2945,3015,2585,2835,2665,2370,2950,2790,2130,2295,2625,2720],\"yr\":[70,70,70,70,70,70,70,70,70,70,70,70,70,70,70,70,70,70,70,70,70,70,70,70,70,70,70,70,70,71,71,71,71,71,71,71,71,71,71,71,71,71,71,71,71,71,71,71,71,71,71,71,71,71,71,71,72,72,72,72,72,72,72,72,72,72,72,72,72,72,72,72,72,72,72,72,72,72,72,72,72,72,72,72,73,73,73,73,73,73,73,73,73,73,73,73,73,73,73,73,73,73,73,73,73,73,73,73,73,73,73,73,73,73,73,73,73,73,73,73,73,73,73,73,74,74,74,74,74,74,74,74,74,74,74,74,74,74,74,74,74,74,74,74,74,74,74,74,74,74,75,75,75,75,75,75,75,75,75,75,75,75,75,75,75,75,75,75,75,75,75,75,75,75,75,75,75,75,75,75,76,76,76,76,76,76,76,76,76,76,76,76,76,76,76,76,76,76,76,76,76,76,76,76,76,76,76,76,76,76,76,76,76,76,77,77,77,77,77,77,77,77,77,77,77,77,77,77,77,77,77,77,77,77,77,77,77,77,77,77,77,77,78,78,78,78,78,78,78,78,78,78,78,78,78,78,78,78,78,78,78,78,78,78,78,78,78,78,78,78,78,78,78,78,78,78,78,78,79,79,79,79,79,79,79,79,79,79,79,79,79,79,79,79,79,79,79,79,79,79,79,79,79,79,79,79,79,80,80,80,80,80,80,80,80,80,80,80,80,80,80,80,80,80,80,80,80,80,80,80,80,80,80,80,81,81,81,81,81,81,81,81,81,81,81,81,81,81,81,81,81,81,81,81,81,81,81,81,81,81,81,81,82,82,82,82,82,82,82,82,82,82,82,82,82,82,82,82,82,82,82,82,82,82,82,82,82,82,82,82,82,82]}},\"id\":\"6ad344fd-3773-4b0c-9e0b-91c32db996cd\",\"type\":\"ColumnDataSource\"},{\"attributes\":{},\"id\":\"79a745ae-3228-4d21-b9df-a8621f933f09\",\"type\":\"BasicTickFormatter\"},{\"attributes\":{},\"id\":\"ec41c0b9-3078-4a71-97b7-a975172bcd55\",\"type\":\"BasicTicker\"},{\"attributes\":{\"source\":{\"id\":\"6ad344fd-3773-4b0c-9e0b-91c32db996cd\",\"type\":\"ColumnDataSource\"}},\"id\":\"df77f034-b71f-4d56-b428-047515b25b67\",\"type\":\"CDSView\"},{\"attributes\":{},\"id\":\"e2358b8c-0daf-41b0-b3c1-4f928df18dac\",\"type\":\"BasicTickFormatter\"}],\"root_ids\":[\"4bc5ab88-ecd9-4b57-bd0f-cb2c42f56204\"]},\"title\":\"Bokeh Application\",\"version\":\"0.12.8\"}};\n",
       "    var render_items = [{\"docid\":\"cbd99f59-22a8-4e7e-941b-11cdffdd9778\",\"elementid\":\"14a6ccc8-708a-44ee-9c84-a588662e29d9\",\"modelid\":\"4bc5ab88-ecd9-4b57-bd0f-cb2c42f56204\"}];\n",
       "\n",
       "    root.Bokeh.embed.embed_items(docs_json, render_items);\n",
       "  }\n",
       "\n",
       "  if (root.Bokeh !== undefined) {\n",
       "    embed_document(root);\n",
       "  } else {\n",
       "    var attempts = 0;\n",
       "    var timer = setInterval(function(root) {\n",
       "      if (root.Bokeh !== undefined) {\n",
       "        embed_document(root);\n",
       "        clearInterval(timer);\n",
       "      }\n",
       "      attempts++;\n",
       "      if (attempts > 100) {\n",
       "        console.log(\"Bokeh: ERROR: Unable to embed document because BokehJS library is missing\")\n",
       "        clearInterval(timer);\n",
       "      }\n",
       "    }, 10, root)\n",
       "  }\n",
       "})(window);"
      ],
      "application/vnd.bokehjs_exec.v0+json": ""
     },
     "metadata": {
      "application/vnd.bokehjs_exec.v0+json": {
       "id": "4bc5ab88-ecd9-4b57-bd0f-cb2c42f56204"
      }
     },
     "output_type": "display_data"
    }
   ],
   "source": [
    "from bokeh.sampledata.autompg import autompg\n",
    "from bokeh.models import LinearColorMapper, ColorBar\n",
    "from bokeh.palettes import Viridis256\n",
    "\n",
    "source = ColumnDataSource(autompg)\n",
    "color_mapper = LinearColorMapper(palette=Viridis256, low=autompg.weight.min(), high=autompg.weight.max())\n",
    "\n",
    "p = figure(x_axis_label='Year', y_axis_label='MPG', tools='', toolbar_location='above')\n",
    "p.circle(x='yr', y='mpg', color={'field': 'weight', 'transform': color_mapper}, size=20, alpha=0.6, source=source)\n",
    "\n",
    "color_bar = ColorBar(color_mapper=color_mapper, label_standoff=12, location=(0,0), title='Weight')\n",
    "p.add_layout(color_bar, 'right')\n",
    "\n",
    "show(p)"
   ]
  },
  {
   "cell_type": "code",
   "execution_count": null,
   "metadata": {
    "collapsed": true
   },
   "outputs": [],
   "source": []
  }
 ],
 "metadata": {
  "anaconda-cloud": {},
  "kernelspec": {
   "display_name": "Python 3",
   "language": "python",
   "name": "python3"
  },
  "language_info": {
   "codemirror_mode": {
    "name": "ipython",
    "version": 3
   },
   "file_extension": ".py",
   "mimetype": "text/x-python",
   "name": "python",
   "nbconvert_exporter": "python",
   "pygments_lexer": "ipython3",
   "version": "3.6.2"
  }
 },
 "nbformat": 4,
 "nbformat_minor": 1
}
